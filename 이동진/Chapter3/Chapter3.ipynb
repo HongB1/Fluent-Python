{
 "cells": [
  {
   "cell_type": "markdown",
   "metadata": {},
   "source": [
    "## 3.6 UserDict 상속하기\n",
    "- `UserDict`은 `dict`를 상속하지 않고, 내부에 실제 항목을 담고 있는 `data`라고 하는 `dict` 객체를 갖고 있다.\n",
    "- `UserDict`이 `MutableMapping`을 상속한다. 따라서 `MutableMapping`과 `Mapping`의 모든 기능을 가지게 된다.\n",
    "- `MutableMapping`의 유용한 메서드들\n",
    "  - `update()`: \n",
    "  - `get()`:\n"
   ]
  },
  {
   "cell_type": "code",
   "execution_count": 1,
   "metadata": {},
   "outputs": [],
   "source": [
    "# 예제 3-8 삽입, 갱신, 조회할 때 비문자열 키를 항상 문자열로 변환하는 StrKeyDict\n",
    "import collections\n",
    "\n",
    "\n",
    "class StrKeyDict(collections.UserDict):\n",
    "    def __missing__(self, key):\n",
    "        if isinstance(key, str):\n",
    "            raise KeyError(key)\n",
    "        return self[str(key)]\n",
    "    \n",
    "    def __contains__(self, key):\n",
    "        return str(key) in self.data\n",
    "    \n",
    "    def __setitem__(self, key, item):\n",
    "        self.data[str(key)] = item"
   ]
  },
  {
   "cell_type": "code",
   "execution_count": 9,
   "metadata": {},
   "outputs": [
    {
     "name": "stdout",
     "output_type": "stream",
     "text": [
      "value\n",
      "value\n",
      "True\n"
     ]
    }
   ],
   "source": [
    "mapping = StrKeyDict()\n",
    "mapping[3] = 'value'\n",
    "\n",
    "print(mapping[3])\n",
    "print(mapping['3'])\n",
    "print(3 in mapping)"
   ]
  },
  {
   "cell_type": "markdown",
   "metadata": {},
   "source": [
    "## 3.7 불변 매핑\n",
    "- 표준 라이브러리의 매핑형은 모두 가변형이지만, 사용자가 매핑을 변경하지 못하도록 보장하고 싶은 경우 사용\n",
    "- `types` 모듈의 `MappingProxyType` 클래스를 사용하면, 동적인 뷰는 제공하지만 읽기 전용인 `mappingproxy` 객체를 반환한다.\n",
    "  - 원래 겍체가 변경되면 `mappingproxy`에 반영되지만, `mappingproxy`를 변경할 수는 없다.\n",
    "  "
   ]
  },
  {
   "cell_type": "code",
   "execution_count": 11,
   "metadata": {},
   "outputs": [
    {
     "data": {
      "text/plain": [
       "mappingproxy({1: 'A'})"
      ]
     },
     "execution_count": 11,
     "metadata": {},
     "output_type": "execute_result"
    }
   ],
   "source": [
    "from types import MappingProxyType\n",
    "\n",
    "\n",
    "d = {1: 'A'}\n",
    "d_proxy = MappingProxyType(d)\n",
    "d_proxy"
   ]
  },
  {
   "cell_type": "code",
   "execution_count": 12,
   "metadata": {},
   "outputs": [
    {
     "data": {
      "text/plain": [
       "'A'"
      ]
     },
     "execution_count": 12,
     "metadata": {},
     "output_type": "execute_result"
    }
   ],
   "source": [
    "d_proxy[1]"
   ]
  },
  {
   "cell_type": "code",
   "execution_count": 13,
   "metadata": {},
   "outputs": [
    {
     "ename": "TypeError",
     "evalue": "'mappingproxy' object does not support item assignment",
     "output_type": "error",
     "traceback": [
      "\u001b[0;31m---------------------------------------------------------------------------\u001b[0m",
      "\u001b[0;31mTypeError\u001b[0m                                 Traceback (most recent call last)",
      "\u001b[1;32m/Users/dongjin/Library/CloudStorage/OneDrive-postech.ac.kr/projects/fluent-python/Fluent-Python/이동진/Chapter3/Chapter3.ipynb 셀 7\u001b[0m in \u001b[0;36m<module>\u001b[0;34m\u001b[0m\n\u001b[0;32m----> <a href='vscode-notebook-cell:/Users/dongjin/Library/CloudStorage/OneDrive-postech.ac.kr/projects/fluent-python/Fluent-Python/%EC%9D%B4%EB%8F%99%EC%A7%84/Chapter3/Chapter3.ipynb#X12sZmlsZQ%3D%3D?line=0'>1</a>\u001b[0m d_proxy[\u001b[39m2\u001b[39m] \u001b[39m=\u001b[39m \u001b[39m'\u001b[39m\u001b[39mB\u001b[39m\u001b[39m'\u001b[39m\n",
      "\u001b[0;31mTypeError\u001b[0m: 'mappingproxy' object does not support item assignment"
     ]
    }
   ],
   "source": [
    "d_proxy[2] = 'B'  # d_proxy 객체는 불변형"
   ]
  },
  {
   "cell_type": "code",
   "execution_count": 15,
   "metadata": {},
   "outputs": [
    {
     "data": {
      "text/plain": [
       "mappingproxy({1: 'A', 2: 'B'})"
      ]
     },
     "execution_count": 15,
     "metadata": {},
     "output_type": "execute_result"
    }
   ],
   "source": [
    "d[2] = 'B'  # 원래 객체는 가변형\n",
    "d_proxy  # d_proxy 객체에도 반영된다."
   ]
  },
  {
   "cell_type": "code",
   "execution_count": 16,
   "metadata": {},
   "outputs": [
    {
     "data": {
      "text/plain": [
       "'B'"
      ]
     },
     "execution_count": 16,
     "metadata": {},
     "output_type": "execute_result"
    }
   ],
   "source": [
    "d_proxy[2]"
   ]
  },
  {
   "cell_type": "markdown",
   "metadata": {},
   "source": [
    "## 3.8 집합 이론\n",
    "- `set`과 이의 불변형 버전인 `frozenset`이 있다.\n",
    "- 집합 요소는 반드시 해시할 수 있어야 한다. `set`은 해시 가능하지 않지만, `frozenset`은 해시 가능하다.\n",
    "\n",
    "### 3.8.1 집합 리터럴\n",
    "- `set` 객체를 `{item1, item2, ..., item3}`으로 만들 수 있다. \n",
    "- 단, 공집합: `set()`을 사용해서 만들어야 한다. `{}`는 딕셔너리 객체를 만들게 된다.\n"
   ]
  },
  {
   "cell_type": "code",
   "execution_count": 22,
   "metadata": {},
   "outputs": [
    {
     "name": "stdout",
     "output_type": "stream",
     "text": [
      "type of s:  <class 'set'>\n",
      "s:  {1}\n",
      "s after pop():  set()\n"
     ]
    }
   ],
   "source": [
    "s = {1}\n",
    "print(\"type of s: \", type(s))\n",
    "print(\"s: \", s)\n",
    "\n",
    "s.pop()\n",
    "print(\"s after pop(): \", s)"
   ]
  },
  {
   "cell_type": "code",
   "execution_count": 21,
   "metadata": {},
   "outputs": [
    {
     "data": {
      "text/plain": [
       "{1}"
      ]
     },
     "execution_count": 21,
     "metadata": {},
     "output_type": "execute_result"
    }
   ],
   "source": [
    "s"
   ]
  },
  {
   "cell_type": "markdown",
   "metadata": {},
   "source": [
    "- `set([item1, item2, ..., item3])`으로 만드는 것보다 빠르고 가독성 좋다.\n",
    "- 집합명 검색 -> 리스트 생성 -> 생성자에 전달\n",
    "- 반면, `{item1, item2, ..., item3}`는 `BUILD_SET`이라는 특수 바이트코드를 실행"
   ]
  },
  {
   "cell_type": "code",
   "execution_count": 23,
   "metadata": {},
   "outputs": [
    {
     "name": "stdout",
     "output_type": "stream",
     "text": [
      "  1           0 LOAD_CONST               0 (1)\n",
      "              2 BUILD_SET                1\n",
      "              4 RETURN_VALUE\n"
     ]
    }
   ],
   "source": [
    "from dis import dis\n",
    "dis('{1}')"
   ]
  },
  {
   "cell_type": "code",
   "execution_count": 24,
   "metadata": {},
   "outputs": [
    {
     "name": "stdout",
     "output_type": "stream",
     "text": [
      "  1           0 LOAD_NAME                0 (set)\n",
      "              2 LOAD_CONST               0 (1)\n",
      "              4 BUILD_LIST               1\n",
      "              6 CALL_FUNCTION            1\n",
      "              8 RETURN_VALUE\n"
     ]
    }
   ],
   "source": [
    "dis('set([1])')"
   ]
  },
  {
   "cell_type": "markdown",
   "metadata": {},
   "source": [
    "`frozenset`에 대해서는 별도의 리터럴이 없기 때문에 언제나 생성자를 호출해서 생성해야 한다.\n"
   ]
  },
  {
   "cell_type": "code",
   "execution_count": 25,
   "metadata": {},
   "outputs": [
    {
     "data": {
      "text/plain": [
       "frozenset({0, 1, 2, 3, 4, 5, 6, 7, 8, 9})"
      ]
     },
     "execution_count": 25,
     "metadata": {},
     "output_type": "execute_result"
    }
   ],
   "source": [
    "frozenset(range(10))"
   ]
  },
  {
   "cell_type": "markdown",
   "metadata": {},
   "source": [
    "### 3.8.2 지능형 집합\n"
   ]
  },
  {
   "cell_type": "code",
   "execution_count": 38,
   "metadata": {},
   "outputs": [
    {
     "data": {
      "text/plain": [
       "{' ': 'SPACE',\n",
       " '!': 'EXCLAMATION MARK',\n",
       " '\"': 'QUOTATION MARK',\n",
       " '#': 'NUMBER SIGN',\n",
       " '$': 'DOLLAR SIGN',\n",
       " '%': 'PERCENT SIGN',\n",
       " '&': 'AMPERSAND',\n",
       " \"'\": 'APOSTROPHE',\n",
       " '(': 'LEFT PARENTHESIS',\n",
       " ')': 'RIGHT PARENTHESIS',\n",
       " '*': 'ASTERISK',\n",
       " '+': 'PLUS SIGN',\n",
       " ',': 'COMMA',\n",
       " '-': 'HYPHEN-MINUS',\n",
       " '.': 'FULL STOP',\n",
       " '/': 'SOLIDUS',\n",
       " '0': 'DIGIT ZERO',\n",
       " '1': 'DIGIT ONE',\n",
       " '2': 'DIGIT TWO',\n",
       " '3': 'DIGIT THREE',\n",
       " '4': 'DIGIT FOUR',\n",
       " '5': 'DIGIT FIVE',\n",
       " '6': 'DIGIT SIX',\n",
       " '7': 'DIGIT SEVEN',\n",
       " '8': 'DIGIT EIGHT',\n",
       " '9': 'DIGIT NINE',\n",
       " ':': 'COLON',\n",
       " ';': 'SEMICOLON',\n",
       " '<': 'LESS-THAN SIGN',\n",
       " '=': 'EQUALS SIGN',\n",
       " '>': 'GREATER-THAN SIGN',\n",
       " '?': 'QUESTION MARK',\n",
       " '@': 'COMMERCIAL AT',\n",
       " 'A': 'LATIN CAPITAL LETTER A',\n",
       " 'B': 'LATIN CAPITAL LETTER B',\n",
       " 'C': 'LATIN CAPITAL LETTER C',\n",
       " 'D': 'LATIN CAPITAL LETTER D',\n",
       " 'E': 'LATIN CAPITAL LETTER E',\n",
       " 'F': 'LATIN CAPITAL LETTER F',\n",
       " 'G': 'LATIN CAPITAL LETTER G',\n",
       " 'H': 'LATIN CAPITAL LETTER H',\n",
       " 'I': 'LATIN CAPITAL LETTER I',\n",
       " 'J': 'LATIN CAPITAL LETTER J',\n",
       " 'K': 'LATIN CAPITAL LETTER K',\n",
       " 'L': 'LATIN CAPITAL LETTER L',\n",
       " 'M': 'LATIN CAPITAL LETTER M',\n",
       " 'N': 'LATIN CAPITAL LETTER N',\n",
       " 'O': 'LATIN CAPITAL LETTER O',\n",
       " 'P': 'LATIN CAPITAL LETTER P',\n",
       " 'Q': 'LATIN CAPITAL LETTER Q',\n",
       " 'R': 'LATIN CAPITAL LETTER R',\n",
       " 'S': 'LATIN CAPITAL LETTER S',\n",
       " 'T': 'LATIN CAPITAL LETTER T',\n",
       " 'U': 'LATIN CAPITAL LETTER U',\n",
       " 'V': 'LATIN CAPITAL LETTER V',\n",
       " 'W': 'LATIN CAPITAL LETTER W',\n",
       " 'X': 'LATIN CAPITAL LETTER X',\n",
       " 'Y': 'LATIN CAPITAL LETTER Y',\n",
       " 'Z': 'LATIN CAPITAL LETTER Z',\n",
       " '[': 'LEFT SQUARE BRACKET',\n",
       " '\\\\': 'REVERSE SOLIDUS',\n",
       " ']': 'RIGHT SQUARE BRACKET',\n",
       " '^': 'CIRCUMFLEX ACCENT',\n",
       " '_': 'LOW LINE',\n",
       " '`': 'GRAVE ACCENT',\n",
       " 'a': 'LATIN SMALL LETTER A',\n",
       " 'b': 'LATIN SMALL LETTER B',\n",
       " 'c': 'LATIN SMALL LETTER C',\n",
       " 'd': 'LATIN SMALL LETTER D',\n",
       " 'e': 'LATIN SMALL LETTER E',\n",
       " 'f': 'LATIN SMALL LETTER F',\n",
       " 'g': 'LATIN SMALL LETTER G',\n",
       " 'h': 'LATIN SMALL LETTER H',\n",
       " 'i': 'LATIN SMALL LETTER I',\n",
       " 'j': 'LATIN SMALL LETTER J',\n",
       " 'k': 'LATIN SMALL LETTER K',\n",
       " 'l': 'LATIN SMALL LETTER L',\n",
       " 'm': 'LATIN SMALL LETTER M',\n",
       " 'n': 'LATIN SMALL LETTER N',\n",
       " 'o': 'LATIN SMALL LETTER O',\n",
       " 'p': 'LATIN SMALL LETTER P',\n",
       " 'q': 'LATIN SMALL LETTER Q',\n",
       " 'r': 'LATIN SMALL LETTER R',\n",
       " 's': 'LATIN SMALL LETTER S',\n",
       " 't': 'LATIN SMALL LETTER T',\n",
       " 'u': 'LATIN SMALL LETTER U',\n",
       " 'v': 'LATIN SMALL LETTER V',\n",
       " 'w': 'LATIN SMALL LETTER W',\n",
       " 'x': 'LATIN SMALL LETTER X',\n",
       " 'y': 'LATIN SMALL LETTER Y',\n",
       " 'z': 'LATIN SMALL LETTER Z',\n",
       " '{': 'LEFT CURLY BRACKET',\n",
       " '|': 'VERTICAL LINE',\n",
       " '}': 'RIGHT CURLY BRACKET',\n",
       " '~': 'TILDE',\n",
       " '\\x7f': '',\n",
       " '\\x80': '',\n",
       " '\\x81': '',\n",
       " '\\x82': '',\n",
       " '\\x83': '',\n",
       " '\\x84': '',\n",
       " '\\x85': '',\n",
       " '\\x86': '',\n",
       " '\\x87': '',\n",
       " '\\x88': '',\n",
       " '\\x89': '',\n",
       " '\\x8a': '',\n",
       " '\\x8b': '',\n",
       " '\\x8c': '',\n",
       " '\\x8d': '',\n",
       " '\\x8e': '',\n",
       " '\\x8f': '',\n",
       " '\\x90': '',\n",
       " '\\x91': '',\n",
       " '\\x92': '',\n",
       " '\\x93': '',\n",
       " '\\x94': '',\n",
       " '\\x95': '',\n",
       " '\\x96': '',\n",
       " '\\x97': '',\n",
       " '\\x98': '',\n",
       " '\\x99': '',\n",
       " '\\x9a': '',\n",
       " '\\x9b': '',\n",
       " '\\x9c': '',\n",
       " '\\x9d': '',\n",
       " '\\x9e': '',\n",
       " '\\x9f': '',\n",
       " '\\xa0': 'NO-BREAK SPACE',\n",
       " '¡': 'INVERTED EXCLAMATION MARK',\n",
       " '¢': 'CENT SIGN',\n",
       " '£': 'POUND SIGN',\n",
       " '¤': 'CURRENCY SIGN',\n",
       " '¥': 'YEN SIGN',\n",
       " '¦': 'BROKEN BAR',\n",
       " '§': 'SECTION SIGN',\n",
       " '¨': 'DIAERESIS',\n",
       " '©': 'COPYRIGHT SIGN',\n",
       " 'ª': 'FEMININE ORDINAL INDICATOR',\n",
       " '«': 'LEFT-POINTING DOUBLE ANGLE QUOTATION MARK',\n",
       " '¬': 'NOT SIGN',\n",
       " '\\xad': 'SOFT HYPHEN',\n",
       " '®': 'REGISTERED SIGN',\n",
       " '¯': 'MACRON',\n",
       " '°': 'DEGREE SIGN',\n",
       " '±': 'PLUS-MINUS SIGN',\n",
       " '²': 'SUPERSCRIPT TWO',\n",
       " '³': 'SUPERSCRIPT THREE',\n",
       " '´': 'ACUTE ACCENT',\n",
       " 'µ': 'MICRO SIGN',\n",
       " '¶': 'PILCROW SIGN',\n",
       " '·': 'MIDDLE DOT',\n",
       " '¸': 'CEDILLA',\n",
       " '¹': 'SUPERSCRIPT ONE',\n",
       " 'º': 'MASCULINE ORDINAL INDICATOR',\n",
       " '»': 'RIGHT-POINTING DOUBLE ANGLE QUOTATION MARK',\n",
       " '¼': 'VULGAR FRACTION ONE QUARTER',\n",
       " '½': 'VULGAR FRACTION ONE HALF',\n",
       " '¾': 'VULGAR FRACTION THREE QUARTERS',\n",
       " '¿': 'INVERTED QUESTION MARK',\n",
       " 'À': 'LATIN CAPITAL LETTER A WITH GRAVE',\n",
       " 'Á': 'LATIN CAPITAL LETTER A WITH ACUTE',\n",
       " 'Â': 'LATIN CAPITAL LETTER A WITH CIRCUMFLEX',\n",
       " 'Ã': 'LATIN CAPITAL LETTER A WITH TILDE',\n",
       " 'Ä': 'LATIN CAPITAL LETTER A WITH DIAERESIS',\n",
       " 'Å': 'LATIN CAPITAL LETTER A WITH RING ABOVE',\n",
       " 'Æ': 'LATIN CAPITAL LETTER AE',\n",
       " 'Ç': 'LATIN CAPITAL LETTER C WITH CEDILLA',\n",
       " 'È': 'LATIN CAPITAL LETTER E WITH GRAVE',\n",
       " 'É': 'LATIN CAPITAL LETTER E WITH ACUTE',\n",
       " 'Ê': 'LATIN CAPITAL LETTER E WITH CIRCUMFLEX',\n",
       " 'Ë': 'LATIN CAPITAL LETTER E WITH DIAERESIS',\n",
       " 'Ì': 'LATIN CAPITAL LETTER I WITH GRAVE',\n",
       " 'Í': 'LATIN CAPITAL LETTER I WITH ACUTE',\n",
       " 'Î': 'LATIN CAPITAL LETTER I WITH CIRCUMFLEX',\n",
       " 'Ï': 'LATIN CAPITAL LETTER I WITH DIAERESIS',\n",
       " 'Ð': 'LATIN CAPITAL LETTER ETH',\n",
       " 'Ñ': 'LATIN CAPITAL LETTER N WITH TILDE',\n",
       " 'Ò': 'LATIN CAPITAL LETTER O WITH GRAVE',\n",
       " 'Ó': 'LATIN CAPITAL LETTER O WITH ACUTE',\n",
       " 'Ô': 'LATIN CAPITAL LETTER O WITH CIRCUMFLEX',\n",
       " 'Õ': 'LATIN CAPITAL LETTER O WITH TILDE',\n",
       " 'Ö': 'LATIN CAPITAL LETTER O WITH DIAERESIS',\n",
       " '×': 'MULTIPLICATION SIGN',\n",
       " 'Ø': 'LATIN CAPITAL LETTER O WITH STROKE',\n",
       " 'Ù': 'LATIN CAPITAL LETTER U WITH GRAVE',\n",
       " 'Ú': 'LATIN CAPITAL LETTER U WITH ACUTE',\n",
       " 'Û': 'LATIN CAPITAL LETTER U WITH CIRCUMFLEX',\n",
       " 'Ü': 'LATIN CAPITAL LETTER U WITH DIAERESIS',\n",
       " 'Ý': 'LATIN CAPITAL LETTER Y WITH ACUTE',\n",
       " 'Þ': 'LATIN CAPITAL LETTER THORN',\n",
       " 'ß': 'LATIN SMALL LETTER SHARP S',\n",
       " 'à': 'LATIN SMALL LETTER A WITH GRAVE',\n",
       " 'á': 'LATIN SMALL LETTER A WITH ACUTE',\n",
       " 'â': 'LATIN SMALL LETTER A WITH CIRCUMFLEX',\n",
       " 'ã': 'LATIN SMALL LETTER A WITH TILDE',\n",
       " 'ä': 'LATIN SMALL LETTER A WITH DIAERESIS',\n",
       " 'å': 'LATIN SMALL LETTER A WITH RING ABOVE',\n",
       " 'æ': 'LATIN SMALL LETTER AE',\n",
       " 'ç': 'LATIN SMALL LETTER C WITH CEDILLA',\n",
       " 'è': 'LATIN SMALL LETTER E WITH GRAVE',\n",
       " 'é': 'LATIN SMALL LETTER E WITH ACUTE',\n",
       " 'ê': 'LATIN SMALL LETTER E WITH CIRCUMFLEX',\n",
       " 'ë': 'LATIN SMALL LETTER E WITH DIAERESIS',\n",
       " 'ì': 'LATIN SMALL LETTER I WITH GRAVE',\n",
       " 'í': 'LATIN SMALL LETTER I WITH ACUTE',\n",
       " 'î': 'LATIN SMALL LETTER I WITH CIRCUMFLEX',\n",
       " 'ï': 'LATIN SMALL LETTER I WITH DIAERESIS',\n",
       " 'ð': 'LATIN SMALL LETTER ETH',\n",
       " 'ñ': 'LATIN SMALL LETTER N WITH TILDE',\n",
       " 'ò': 'LATIN SMALL LETTER O WITH GRAVE',\n",
       " 'ó': 'LATIN SMALL LETTER O WITH ACUTE',\n",
       " 'ô': 'LATIN SMALL LETTER O WITH CIRCUMFLEX',\n",
       " 'õ': 'LATIN SMALL LETTER O WITH TILDE',\n",
       " 'ö': 'LATIN SMALL LETTER O WITH DIAERESIS',\n",
       " '÷': 'DIVISION SIGN',\n",
       " 'ø': 'LATIN SMALL LETTER O WITH STROKE',\n",
       " 'ù': 'LATIN SMALL LETTER U WITH GRAVE',\n",
       " 'ú': 'LATIN SMALL LETTER U WITH ACUTE',\n",
       " 'û': 'LATIN SMALL LETTER U WITH CIRCUMFLEX',\n",
       " 'ü': 'LATIN SMALL LETTER U WITH DIAERESIS',\n",
       " 'ý': 'LATIN SMALL LETTER Y WITH ACUTE',\n",
       " 'þ': 'LATIN SMALL LETTER THORN',\n",
       " 'ÿ': 'LATIN SMALL LETTER Y WITH DIAERESIS'}"
      ]
     },
     "execution_count": 38,
     "metadata": {},
     "output_type": "execute_result"
    }
   ],
   "source": [
    "# 예제 3-13 유니코드명 안에 'SIGN'이 들어 있는 단어를 가진 Latin-1 문자들의 집합 만들기\n",
    "from unicodedata import name\n",
    "{chr(i): name(chr(i), '') for i in range(32, 256)}"
   ]
  },
  {
   "cell_type": "code",
   "execution_count": 39,
   "metadata": {},
   "outputs": [
    {
     "data": {
      "text/plain": [
       "{'#',\n",
       " '$',\n",
       " '%',\n",
       " '+',\n",
       " '<',\n",
       " '=',\n",
       " '>',\n",
       " '¢',\n",
       " '£',\n",
       " '¤',\n",
       " '¥',\n",
       " '§',\n",
       " '©',\n",
       " '¬',\n",
       " '®',\n",
       " '°',\n",
       " '±',\n",
       " 'µ',\n",
       " '¶',\n",
       " '×',\n",
       " '÷'}"
      ]
     },
     "execution_count": 39,
     "metadata": {},
     "output_type": "execute_result"
    }
   ],
   "source": [
    "{chr(i) for i in range(32, 256) if 'SIGN' in name(chr(i), '')}"
   ]
  },
  {
   "cell_type": "markdown",
   "metadata": {},
   "source": [
    "### 3.8.3 집합 연산\n",
    "- 책 참고"
   ]
  },
  {
   "cell_type": "code",
   "execution_count": 50,
   "metadata": {},
   "outputs": [],
   "source": [
    "d = dict()\n",
    "d[1] = 'A'\n",
    "d[2] = 'B'"
   ]
  },
  {
   "cell_type": "code",
   "execution_count": 51,
   "metadata": {},
   "outputs": [
    {
     "data": {
      "text/plain": [
       "-5145490124865665313"
      ]
     },
     "execution_count": 51,
     "metadata": {},
     "output_type": "execute_result"
    }
   ],
   "source": [
    "hash(d[1])"
   ]
  },
  {
   "cell_type": "code",
   "execution_count": 52,
   "metadata": {},
   "outputs": [
    {
     "data": {
      "text/plain": [
       "-1584636571135021516"
      ]
     },
     "execution_count": 52,
     "metadata": {},
     "output_type": "execute_result"
    }
   ],
   "source": [
    "hash(d[2])"
   ]
  },
  {
   "cell_type": "code",
   "execution_count": 55,
   "metadata": {},
   "outputs": [
    {
     "data": {
      "text/plain": [
       "-5145490124865665313"
      ]
     },
     "execution_count": 55,
     "metadata": {},
     "output_type": "execute_result"
    }
   ],
   "source": [
    "d[1].__hash__()"
   ]
  },
  {
   "cell_type": "code",
   "execution_count": null,
   "metadata": {},
   "outputs": [],
   "source": []
  }
 ],
 "metadata": {
  "kernelspec": {
   "display_name": "Python 3.8.12 ('torch')",
   "language": "python",
   "name": "python3"
  },
  "language_info": {
   "codemirror_mode": {
    "name": "ipython",
    "version": 3
   },
   "file_extension": ".py",
   "mimetype": "text/x-python",
   "name": "python",
   "nbconvert_exporter": "python",
   "pygments_lexer": "ipython3",
   "version": "3.8.12"
  },
  "orig_nbformat": 4,
  "vscode": {
   "interpreter": {
    "hash": "e1315e6714f2518a6216a6eec3b047587d10875bf19b853b35d3e5c84c569e2a"
   }
  }
 },
 "nbformat": 4,
 "nbformat_minor": 2
}
