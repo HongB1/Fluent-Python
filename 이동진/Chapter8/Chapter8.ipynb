{
 "cells": [
  {
   "cell_type": "markdown",
   "metadata": {},
   "source": [
    "# Chapter 8. 객체 참조, 가변성, 재활용\n",
    "## 8.1 변수는 상자가 아니다.\n",
    "- 파이썬 변수는 자바에서의 참조 변수 (객체에 붙은 레이블)와 같다."
   ]
  },
  {
   "cell_type": "code",
   "execution_count": 3,
   "metadata": {},
   "outputs": [
    {
     "name": "stdout",
     "output_type": "stream",
     "text": [
      "[1, 2, 3, 4]\n"
     ]
    }
   ],
   "source": [
    "# 예제 8-1 사본이 아니라 동일한 리스트를 참조하는 변수 a와 b\n",
    "a = [1, 2, 3]\n",
    "b = a\n",
    "a.append(4)\n",
    "print(b)"
   ]
  },
  {
   "cell_type": "markdown",
   "metadata": {},
   "source": [
    "- 참조 변수의 경우, \"어떤 객체를 변수에 할당을 했다\"라는 표현보다는 \"변수를 어떤 객체에 할당하였다\"라는 표현이 더 타당하다.\n",
    "  - <span style=\"color: green\">객체는 변수가 할당되기 전에 생성된다.</span>"
   ]
  },
  {
   "cell_type": "code",
   "execution_count": 4,
   "metadata": {},
   "outputs": [
    {
     "name": "stdout",
     "output_type": "stream",
     "text": [
      "Gizmo id: 4415719984\n"
     ]
    }
   ],
   "source": [
    "# 예제 8-2 객체가 생성된 후에야 변수가 객체에 할당된다.\n",
    "class Gizmo:\n",
    "    def __init__(self):\n",
    "        print(f\"Gizmo id: {id(self)}\")\n",
    "        \n",
    "        \n",
    "x = Gizmo()"
   ]
  },
  {
   "cell_type": "code",
   "execution_count": 5,
   "metadata": {},
   "outputs": [
    {
     "name": "stdout",
     "output_type": "stream",
     "text": [
      "Gizmo id: 4415385952\n"
     ]
    },
    {
     "ename": "TypeError",
     "evalue": "unsupported operand type(s) for *: 'Gizmo' and 'int'",
     "output_type": "error",
     "traceback": [
      "\u001b[0;31m---------------------------------------------------------------------------\u001b[0m",
      "\u001b[0;31mTypeError\u001b[0m                                 Traceback (most recent call last)",
      "\u001b[1;32m/Users/dongjin/Library/CloudStorage/OneDrive-postech.ac.kr/projects/fluent-python/Fluent-Python/이동진/Chapter8/Chapter8.ipynb 셀 5\u001b[0m in \u001b[0;36m<module>\u001b[0;34m\u001b[0m\n\u001b[0;32m----> <a href='vscode-notebook-cell:/Users/dongjin/Library/CloudStorage/OneDrive-postech.ac.kr/projects/fluent-python/Fluent-Python/%EC%9D%B4%EB%8F%99%EC%A7%84/Chapter8/Chapter8.ipynb#W4sZmlsZQ%3D%3D?line=0'>1</a>\u001b[0m y \u001b[39m=\u001b[39m Gizmo() \u001b[39m*\u001b[39;49m \u001b[39m10\u001b[39;49m\n",
      "\u001b[0;31mTypeError\u001b[0m: unsupported operand type(s) for *: 'Gizmo' and 'int'"
     ]
    }
   ],
   "source": [
    "y = Gizmo() * 10  # 곱셈을 시도하기 전에 Gizmo 객체가 만들어졌다."
   ]
  },
  {
   "cell_type": "code",
   "execution_count": 6,
   "metadata": {},
   "outputs": [
    {
     "name": "stdout",
     "output_type": "stream",
     "text": [
      "True\n",
      "False\n"
     ]
    }
   ],
   "source": [
    "print('x' in dir())\n",
    "print('y' in dir())  # 변수 할당 전 우변이 실행되는 동안 에러가 발생했으므로 출력 결과에 y는 없다."
   ]
  },
  {
   "cell_type": "markdown",
   "metadata": {},
   "source": [
    "## 8.2 정체성, 동질성, 별명\n",
    "- `charles`와 `lewis`는 객체의 별명 (aliasing)이다. 서로 같은 객체에 바인딩되어 있다."
   ]
  },
  {
   "cell_type": "code",
   "execution_count": 7,
   "metadata": {},
   "outputs": [
    {
     "name": "stdout",
     "output_type": "stream",
     "text": [
      "True\n",
      "4424795008 4424795008\n",
      "{'name': 'Charles L. Dodgson', 'born': 1832, 'balance': 950}\n"
     ]
    }
   ],
   "source": [
    "# 예제 8-3 동일한 객체를 참조하는 charles와 lewis\n",
    "charles = {'name': 'Charles L. Dodgson', 'born': 1832}\n",
    "lewis = charles\n",
    "\n",
    "print(lewis is charles)\n",
    "print(id(charles), id(lewis))\n",
    "\n",
    "lewis['balance'] = 950\n",
    "print(charles)"
   ]
  },
  {
   "cell_type": "markdown",
   "metadata": {},
   "source": [
    "- `==` 연산은 `dict.__eq__()` 구현된 기준에 따라 **값**이 같을 수 있지만, <span style=\"color: green\">`is` 연산자는 두 객체의 정체성을 비교한다.</span>\n",
    "- <span style=\"color: green\">모든 객체는 정체성, 자료형, 값을 갖고 있다.</span>\n",
    "  - 객체의 정체성은 생성한 후에 결코 변경되지 않는다. 정체성은 메모리 내의 객체 주소라고 생각할 수 있다.\n",
    "  "
   ]
  },
  {
   "cell_type": "code",
   "execution_count": 8,
   "metadata": {},
   "outputs": [
    {
     "name": "stdout",
     "output_type": "stream",
     "text": [
      "True\n",
      "False\n"
     ]
    }
   ],
   "source": [
    "# 예제 8-4 alex와 charles를 비교하면 같지만, alex가 charles는 아니다.\n",
    "alex = {'name': 'Charles L. Dodgson', 'born': 1832, 'balance': 950}\n",
    "\n",
    "print(alex == charles)\n",
    "\n",
    "print(alex is charles)"
   ]
  },
  {
   "cell_type": "markdown",
   "metadata": {},
   "source": [
    "### 8.2.1 `==` 연산자와 `is` 연산자 간의 선택\n",
    "- `==` 연산자는 객체의 **값**을 비교한다.\n",
    "- `is` 연산자는 객체의 정체성을 비교한다.\n",
    "- 변수를 싱글턴과 비교할 때는 `is` 연산자를 사용해야 함 (주로 None과 비교할 때)\n",
    "\n",
    "<span style=\"color: green\">지금까지 `==`랑 `is`가 같은줄 알고 사용했었는데, 어쩌면 엄청난게 다른 결과를 만들어낼 수도 있었겠습니다.</span>\n",
    "\n",
    "\n",
    "### 8.2.2 튜플의 상대적 불변성\n",
    "- 튜플도 객체에 대한 참조를 담는다.\n",
    "- 참조된 항목이 가변형이라면 튜플 자체는 불변형이지만 참조된 항목은 변할 수 있다. 즉, 참조에 대한 불변성이다.\n"
   ]
  },
  {
   "cell_type": "code",
   "execution_count": 9,
   "metadata": {},
   "outputs": [
    {
     "name": "stdout",
     "output_type": "stream",
     "text": [
      "True\n",
      "4410278720\n",
      "4426107648\n",
      "(1, 2, [30, 40, 99])\n",
      "(1, 2, [30, 40])\n",
      "False\n"
     ]
    }
   ],
   "source": [
    "# 예제 8-5 초기 t1과 t2는 동일하지만, t1 튜플 안에 있는 가변 항목을 변경하면 달라진다.\n",
    "t1 = (1, 2, [30, 40])\n",
    "t2 = (1, 2, [30, 40])\n",
    "\n",
    "print(t1 == t2)\n",
    "print(id(t1[-1]))\n",
    "print(id(t2[-1]))\n",
    "\n",
    "t1[-1].append(99)\n",
    "print(t1)\n",
    "print(t2)\n",
    "print(t1 == t2)"
   ]
  },
  {
   "cell_type": "markdown",
   "metadata": {},
   "source": [
    "## 8.3 기본 복사는 얕은 복사\n",
    "- 대부분의 내장 가변 컬렉션을 복사하는 가장 손쉬운 방법은 그 자료형 자체의 내장 생성자를 사용하는 것\n",
    "  - 최상위 컨테이너는 복제하지만, 사본은 원래 컨테이너에 들어 있던 동일 객체에 대한 참조로 채워진다.\n",
    "\n",
    "<center><img src='./figure1.png' width=400px></img></center>"
   ]
  },
  {
   "cell_type": "code",
   "execution_count": 10,
   "metadata": {},
   "outputs": [
    {
     "name": "stdout",
     "output_type": "stream",
     "text": [
      "Are they the same? True\n",
      "Are they identical? False\n"
     ]
    }
   ],
   "source": [
    "l1 = [3, [55, 44], (7, 8, 9)]\n",
    "l2 = list(l1)  # or l1[:]\n",
    "\n",
    "print(\"Are they the same?\", l1 == l2)\n",
    "print(\"Are they identical?\", l1 is l2)"
   ]
  },
  {
   "cell_type": "code",
   "execution_count": 11,
   "metadata": {},
   "outputs": [
    {
     "name": "stdout",
     "output_type": "stream",
     "text": [
      "l1:  [3, [44], (7, 8, 9), 100]\n",
      "l2:  [3, [44], (7, 8, 9)]\n",
      "l1:  [3, [44, 33, 22], (7, 8, 9), 100]\n",
      "l2:  [3, [44, 33, 22], (7, 8, 9, 10, 11)]\n"
     ]
    }
   ],
   "source": [
    "# 예제 8-6 다른 리스트를 담고 있는 리스트의 얀은 복사. \n",
    "l1 = [3, [55, 44], (7, 8, 9)]\n",
    "l2 = list(l1)  # or l1[:]\n",
    "l1.append(100)\n",
    "l1[1].remove(55)\n",
    "\n",
    "print(\"l1: \", l1)\n",
    "print(\"l2: \", l2)\n",
    "\n",
    "l2[1] += [33, 22]  # 리스트의 += 연산은 그 자리에서 변경\n",
    "l2[2] += (10, 11)  # 튜플의 += 연산은 새로운 튜플을 만들어서 다시 바인딩\n",
    "\n",
    "print(\"l1: \", l1)\n",
    "print(\"l2: \", l2)"
   ]
  },
  {
   "cell_type": "markdown",
   "metadata": {},
   "source": [
    "### 8.3.1. 객체의 깊은 복사와 얕은 복사"
   ]
  },
  {
   "cell_type": "code",
   "execution_count": 12,
   "metadata": {},
   "outputs": [],
   "source": [
    "# 예제 8-8 승객을 승차 및 하차하는 버스\n",
    "class Bus:\n",
    "    def __init__(self, passengers=None):\n",
    "        if passengers is None:\n",
    "            self.passengers = []\n",
    "        else:\n",
    "            self.passengers = list(passengers)\n",
    "            \n",
    "    def pick(self, name):\n",
    "        self.passengers.append(name)\n",
    "        \n",
    "    def drop(self, name):\n",
    "        self.passengers.remove(name)"
   ]
  },
  {
   "cell_type": "code",
   "execution_count": 13,
   "metadata": {},
   "outputs": [
    {
     "name": "stdout",
     "output_type": "stream",
     "text": [
      "4416053152 4412319440 4412319056\n",
      "4410241920 4410241920 4426258752\n",
      "['Alice', 'Claire', 'David']\n",
      "['Alice', 'Bill', 'Claire', 'David']\n"
     ]
    }
   ],
   "source": [
    "# 예제 8-9 copy()와 deepcopy()의 비교\n",
    "import copy\n",
    "bus1 = Bus(['Alice', 'Bill', 'Claire', 'David'])\n",
    "bus2 = copy.copy(bus1)\n",
    "bus3 = copy.deepcopy(bus2)\n",
    "\n",
    "print(id(bus1), id(bus2), id(bus3))\n",
    "print(id(bus1.passengers), id(bus2.passengers), id(bus3.passengers))\n",
    "\n",
    "bus1.drop('Bill')\n",
    "print(bus2.passengers)\n",
    "print(bus3.passengers)"
   ]
  },
  {
   "cell_type": "markdown",
   "metadata": {},
   "source": [
    "- `deepcopy`는 객체 안에 순환 참조가 있으면 무한 루프에 빠질 수 있다."
   ]
  },
  {
   "cell_type": "code",
   "execution_count": 14,
   "metadata": {},
   "outputs": [
    {
     "name": "stdout",
     "output_type": "stream",
     "text": [
      "[10, 20, [[...], 30]]\n"
     ]
    },
    {
     "data": {
      "text/plain": [
       "[10, 20, [[...], 30]]"
      ]
     },
     "execution_count": 14,
     "metadata": {},
     "output_type": "execute_result"
    }
   ],
   "source": [
    "# 예제 8-10 순환 참조. b가 a를 참조한 후 a의 뒤에 바인딩되는데, deepcopy()는 a를 제대로 복사한다.\n",
    "a = [10, 20]\n",
    "b = [a, 30]\n",
    "a.append(b)\n",
    "print(a)\n",
    "\n",
    "c = copy.deepcopy(a)\n",
    "c"
   ]
  },
  {
   "cell_type": "markdown",
   "metadata": {},
   "source": [
    "## 8.4 참조로서의 함수 매개변수\n",
    "- 파이썬은 공유로 호출 (call by sharing, passed by assignment)하는 매개변수 전달 방식을 택한다.\n",
    "  - 객체의 참조 값을 넘겨준다.\n",
    "  - 즉, 각 매개변수가 인수로 전달받은 각 참조의 사본을 받는다.\n",
    "  - 가변 객체의 값을 바꿀 수 있지만, 정체성은 바꾸지 못한다.\n",
    "- Call by reference: 주소값을 넘겨줌"
   ]
  },
  {
   "cell_type": "code",
   "execution_count": 1,
   "metadata": {},
   "outputs": [
    {
     "name": "stdout",
     "output_type": "stream",
     "text": [
      "[1, 2, 3]\n"
     ]
    }
   ],
   "source": [
    "def not_pass_by_reference(l):\n",
    "    l = [100]\n",
    "\n",
    "l = [1, 2, 3]\n",
    "not_pass_by_reference(l)\n",
    "print(l)"
   ]
  },
  {
   "cell_type": "code",
   "execution_count": 15,
   "metadata": {},
   "outputs": [
    {
     "name": "stdout",
     "output_type": "stream",
     "text": [
      "4343326304\n",
      "4343326304\n",
      "4343326304\n"
     ]
    }
   ],
   "source": [
    "x = 3\n",
    "print(id(x))\n",
    "\n",
    "def function(a):\n",
    "    print(id(a))\n",
    "    return a\n",
    "    \n",
    "y = function(x)\n",
    "print(id(y))"
   ]
  },
  {
   "cell_type": "markdown",
   "metadata": {},
   "source": [
    "(명진님 설명) 할당문 아이디어\n",
    "- `a=x`, `b=y`와 동일한 작업 수행. `a`에 외부의 변수 `x`가 참조하던 객체의 값을 그대로 대입해준다."
   ]
  },
  {
   "cell_type": "code",
   "execution_count": 16,
   "metadata": {},
   "outputs": [
    {
     "name": "stdout",
     "output_type": "stream",
     "text": [
      "1 2 불가변객체라서 변경되지 않는다.\n",
      "[1, 2, 3, 4] [3, 4] 가변 객체의 값은 바꿀 수 있다.\n",
      "(1, 2) (3, 4) 불가변객체라서 변경되지 않는다.\n"
     ]
    }
   ],
   "source": [
    "# 예제 8-11 함수는 전달받은 가변 객체를 수정할 수 있다.\n",
    "def f(a, b):\n",
    "    a += b\n",
    "    return a\n",
    "\n",
    "x = 1\n",
    "y = 2\n",
    "f(x, y)\n",
    "\n",
    "print(x, y, \"불가변객체라서 변경되지 않는다.\")\n",
    "\n",
    "a = [1, 2]\n",
    "b = [3, 4]\n",
    "f(a, b)\n",
    "print(a, b, \"가변 객체의 값은 바꿀 수 있다.\")\n",
    "\n",
    "u = (1, 2)\n",
    "v = (3, 4)\n",
    "f(u, v)\n",
    "print(u, v, \"불가변객체라서 변경되지 않는다.\")"
   ]
  },
  {
   "cell_type": "code",
   "execution_count": 7,
   "metadata": {},
   "outputs": [
    {
     "name": "stdout",
     "output_type": "stream",
     "text": [
      "140709825030064\n",
      "140709825030064\n",
      "140709825030160\n",
      "5\n",
      "140709825030064\n"
     ]
    }
   ],
   "source": [
    "def foo(x):\n",
    "    print(id(x))\n",
    "    x += 3\n",
    "    print(id(x))\n",
    "    \n",
    "y = 5\n",
    "print(id(y))\n",
    "foo(y)\n",
    "print(y)\n",
    "print(id(y))"
   ]
  },
  {
   "cell_type": "markdown",
   "metadata": {},
   "source": [
    "### 8.4.1 좋지 않은 생각: 가변형을 매개변수 기본값으로 사용하기\n",
    "- 가변 값을 받는 매개변수의 기본값으로 None을 주로 사용한다."
   ]
  },
  {
   "cell_type": "code",
   "execution_count": 17,
   "metadata": {},
   "outputs": [],
   "source": [
    "# 예제 8-12 가변형이 기본값이 될 때의 위험성을 보여주는 간단한 클래스\n",
    "class HauntedBus:\n",
    "    \"\"\"유령 승객이 출몰하는 버스 모델\"\"\"\n",
    "    def __init__(self, passengers=[]):\n",
    "        self.passengers = passengers\n",
    "    \n",
    "    def pick(self, name):\n",
    "        self.passengers.append(name)\n",
    "        \n",
    "    def drop(self, name):\n",
    "        self.passengers.remove(name)"
   ]
  },
  {
   "cell_type": "code",
   "execution_count": 18,
   "metadata": {},
   "outputs": [
    {
     "name": "stdout",
     "output_type": "stream",
     "text": [
      "['Alice', 'Bill']\n",
      "['Bill', 'Charlie']\n"
     ]
    }
   ],
   "source": [
    "# 예제 8-13 유령 승객이 출몰하는 버스\n",
    "bus1 = HauntedBus(['Alice', 'Bill'])\n",
    "print(bus1.passengers)\n",
    "\n",
    "bus1.pick('Charlie')\n",
    "bus1.drop('Alice')\n",
    "print(bus1.passengers)"
   ]
  },
  {
   "cell_type": "code",
   "execution_count": 19,
   "metadata": {},
   "outputs": [
    {
     "name": "stdout",
     "output_type": "stream",
     "text": [
      "['Carrie']\n"
     ]
    }
   ],
   "source": [
    "# 예제 8-13 유령 승객이 출몰하는 버스\n",
    "bus2 = HauntedBus()\n",
    "bus2.pick('Carrie')\n",
    "print(bus2.passengers)"
   ]
  },
  {
   "cell_type": "markdown",
   "metadata": {},
   "source": [
    "<span style=\"color: green\">호우,,, 쒜엣,,,</span>\n",
    "- `self.passengers`가 `passengers` 매개변수의 기본값의 객체를 참조하기 때문"
   ]
  },
  {
   "cell_type": "code",
   "execution_count": 20,
   "metadata": {},
   "outputs": [
    {
     "name": "stdout",
     "output_type": "stream",
     "text": [
      "['Carrie']\n",
      "['Carrie', 'dave']\n",
      "True\n"
     ]
    }
   ],
   "source": [
    "bus3 = HauntedBus()\n",
    "print(bus3.passengers)\n",
    "bus3.pick('dave')\n",
    "print(bus2.passengers)\n",
    "print(bus2.passengers is bus3.passengers)"
   ]
  },
  {
   "cell_type": "code",
   "execution_count": 21,
   "metadata": {},
   "outputs": [
    {
     "name": "stdout",
     "output_type": "stream",
     "text": [
      "['__annotations__', '__call__', '__class__', '__closure__', '__code__', '__defaults__', '__delattr__', '__dict__', '__dir__', '__doc__', '__eq__', '__format__', '__ge__', '__get__', '__getattribute__', '__globals__', '__gt__', '__hash__', '__init__', '__init_subclass__', '__kwdefaults__', '__le__', '__lt__', '__module__', '__name__', '__ne__', '__new__', '__qualname__', '__reduce__', '__reduce_ex__', '__repr__', '__setattr__', '__sizeof__', '__str__', '__subclasshook__']\n",
      "(['Carrie', 'dave'],)\n",
      "True\n"
     ]
    }
   ],
   "source": [
    "print(dir(HauntedBus.__init__))\n",
    "print(HauntedBus.__init__.__defaults__)\n",
    "print(HauntedBus.__init__.__defaults__[0] is bus2.passengers)"
   ]
  },
  {
   "cell_type": "code",
   "execution_count": 22,
   "metadata": {},
   "outputs": [
    {
     "name": "stdout",
     "output_type": "stream",
     "text": [
      "[1]\n",
      "[1, 1]\n",
      "[1, 1, 1]\n",
      "[1, 1, 1, 1]\n",
      "[1, 1, 1, 1, 1]\n"
     ]
    }
   ],
   "source": [
    "def function(a=[]):\n",
    "    a.append(1)\n",
    "    print(a)\n",
    "        \n",
    "for _ in range(5):\n",
    "    function()"
   ]
  },
  {
   "cell_type": "markdown",
   "metadata": {},
   "source": [
    "### 8.4.2 가변 매개변수에 대한 방어적 프로그래밍"
   ]
  },
  {
   "cell_type": "code",
   "execution_count": 23,
   "metadata": {},
   "outputs": [],
   "source": [
    "# 예제 8-15 받은 인수를 변경하는 위험성을 보여주는 간단한 클래스\n",
    "class TwilightBus:\n",
    "    \"\"\"승객이 사라지게 만드는 버스 모델\"\"\"\n",
    "    def __init__(self, passengers=None):\n",
    "        if passengers is None:\n",
    "            self.passengers = []\n",
    "        else:\n",
    "            self.passengers = passengers  # list(passengers)가 아니라 그냥 passengers\n",
    "            \n",
    "    def pick(self, name):\n",
    "        self.passengers.append(name)\n",
    "        \n",
    "    def drop(self, name):\n",
    "        self.passengers.remove(name)"
   ]
  },
  {
   "cell_type": "code",
   "execution_count": 24,
   "metadata": {},
   "outputs": [
    {
     "name": "stdout",
     "output_type": "stream",
     "text": [
      "['Sue', 'Maya', 'Diana']\n"
     ]
    }
   ],
   "source": [
    "# 예제 8-14 TwilightBus가 하차히킬 때 사라지는 승객들\n",
    "basketball_team = ['Sue', 'Tina', 'Maya', 'Diana', 'Pat']\n",
    "bus = TwilightBus(basketball_team)\n",
    "bus.drop('Tina')\n",
    "bus.drop('Pat')\n",
    "print(basketball_team)"
   ]
  },
  {
   "cell_type": "markdown",
   "metadata": {},
   "source": [
    "## 8.5 del과 가비지 컬렉션\n",
    "> 객체는 결코 명시적으로 제거되지 않는다. 그러나 도달할 수 없을 때 객체는 가비지 컬렉트될 수 있다.\n",
    "\n",
    "- del은 변수를 제거하는 것이지 객체를 제거하는 것이 아니다.\n",
    "- 객체를 참조하는 최후의 변수가 del되거나 객체에 도달할 수 없을 때만 객체가 가비지 컬렉트 된다."
   ]
  },
  {
   "cell_type": "code",
   "execution_count": 25,
   "metadata": {},
   "outputs": [
    {
     "name": "stdout",
     "output_type": "stream",
     "text": [
      "[1, 2, 3]\n"
     ]
    }
   ],
   "source": [
    "a = [1, 2, 3]\n",
    "b = a\n",
    "\n",
    "del b\n",
    "print(a)"
   ]
  },
  {
   "cell_type": "code",
   "execution_count": 26,
   "metadata": {},
   "outputs": [
    {
     "name": "stdout",
     "output_type": "stream",
     "text": [
      "[1, 2, 3]\n"
     ]
    }
   ],
   "source": [
    "a = [1, 2, 3]\n",
    "b = a\n",
    "\n",
    "del a\n",
    "print(b)"
   ]
  },
  {
   "cell_type": "code",
   "execution_count": 27,
   "metadata": {},
   "outputs": [
    {
     "name": "stdout",
     "output_type": "stream",
     "text": [
      "True\n",
      "True\n",
      "Gone with the wind\n",
      "False\n"
     ]
    }
   ],
   "source": [
    "# 예제 8-16 가리키는 참조가 없을 때 객체가 소멸되는 것을 지켜보기\n",
    "import weakref\n",
    "s1 = {1, 2, 3}\n",
    "s2 = s1\n",
    "def bye():\n",
    "    print('Gone with the wind')\n",
    "    \n",
    "ender = weakref.finalize(s1, bye)\n",
    "print(ender.alive)\n",
    "\n",
    "del s1\n",
    "print(ender.alive)\n",
    "\n",
    "s2 = 'spam'\n",
    "print(ender.alive)"
   ]
  },
  {
   "cell_type": "markdown",
   "metadata": {},
   "source": [
    "## 8.6 약한 참조\n",
    "- 객체 참조 카운터를 기반으로 객체가 메모리에 유지되거나 제거된다.\n",
    "  - 객체 참조 카운트가 0이 되면 가비지 컬렉터는 해당 객체를 제거한다.\n",
    "- 객체를 유지시키지 않으면서 객체를 참조해야 할 때가 있다\n",
    "- 약한 참조는 참조 카운트를 증가시키지 않고 객체를 참조한다.\n",
    "  - 캐시 애플리케이션에서 유용하게 사용된다.\n"
   ]
  },
  {
   "cell_type": "code",
   "execution_count": 44,
   "metadata": {},
   "outputs": [
    {
     "name": "stdout",
     "output_type": "stream",
     "text": [
      "wref:  <weakref at 0x106f64310; to 'set' at 0x107d1a740>\n",
      "wref():  {0, 1}\n",
      "wref():  None\n",
      "wref() is None True\n",
      "wref() is None True\n"
     ]
    }
   ],
   "source": [
    "# 예제 8-16 약한 참조는 콜러블이다. 객체가 살아 있으면 참조된 객체를 반환하고, 그렇지 않으면 None을 반환한다.\n",
    "import weakref\n",
    "a_set = {0, 1}\n",
    "\n",
    "wref = weakref.ref(a_set)  # {0, 1}을 약한 참조를 한다.\n",
    "print(\"wref: \", wref)\n",
    "print(\"wref(): \", wref())  # 콘솔 세션에서는 결과로 나온 _ 변수가 {0, 1}에 바인딩된다.\n",
    "\n",
    "a_set = {2, 3, 4}  # a_set이 다른 객체에 바운딩 되며, {0, 1}에 대한 참조 카운트가 줄어든다.\n",
    "\n",
    "print(\"wref(): \", wref())  # 콘솔 세션에서는 여전히 _ 변수가 {0, 1}을 참조하고 있는 상태이다.\n",
    "print(\"wref() is None\", wref() is None)  # 콘솔 세션에서는 _ 변수가 False에 바인딩된다."
   ]
  },
  {
   "cell_type": "markdown",
   "metadata": {},
   "source": [
    "### 8.6.1 WeakValueDictionary 촌극\n",
    "- 객체에 대한 약한 참조를 값으로 가지는 가변 매핑을 구현\n",
    "- 일반적으로 캐시를 구현하기 위해 사용된다.\n",
    "- `WeakValueDictionary`는 value를 약한 참조, `WeakKeyDictionary`는 key가 약한 참조"
   ]
  },
  {
   "cell_type": "code",
   "execution_count": 45,
   "metadata": {},
   "outputs": [],
   "source": [
    "# 예제 8-18 kind 속성과 표준 표현 메서드를 가지고 있는 Cheese 클래스\n",
    "class Cheese:\n",
    "    def __init__(self, kind):\n",
    "        self.kind = kind\n",
    "    def __repr__(self):\n",
    "        return f'Cheese({self.kind})'"
   ]
  },
  {
   "cell_type": "code",
   "execution_count": 47,
   "metadata": {},
   "outputs": [
    {
     "name": "stdout",
     "output_type": "stream",
     "text": [
      "['Brie', 'Parmesan', 'Red Leicester', 'Tilsit']\n",
      "['Parmesan']\n",
      "[]\n"
     ]
    }
   ],
   "source": [
    "# 예제 8-19 고객: \"파는 치즈가 있기는 하나요?\"\n",
    "import weakref\n",
    "stock = weakref.WeakValueDictionary()\n",
    "catalog = [Cheese('Red Leicester'), Cheese('Tilsit'), Cheese('Brie'), Cheese('Parmesan')]\n",
    "\n",
    "for cheese in catalog:\n",
    "    stock[cheese.kind] = cheese\n",
    "    \n",
    "print(sorted(stock.keys()))\n",
    "del catalog\n",
    "\n",
    "print(sorted(stock.keys()))\n",
    "del cheese  # for 문에 사용된 변수\n",
    "\n",
    "print(sorted(stock.keys()))\n",
    "\n"
   ]
  },
  {
   "cell_type": "markdown",
   "metadata": {},
   "source": [
    "## 8.7 파이썬의 특별한 불변형 처리법\n"
   ]
  },
  {
   "cell_type": "code",
   "execution_count": 50,
   "metadata": {},
   "outputs": [
    {
     "name": "stdout",
     "output_type": "stream",
     "text": [
      "True\n",
      "True\n"
     ]
    }
   ],
   "source": [
    "## 예제 8-20 다른 튜플로 생성한 튜플은 사실 동일한 튜플이다.\n",
    "t1 = (1, 2, 3)\n",
    "t2 = tuple(t1)\n",
    "\n",
    "print(t1 is t2)  # List는 아님\n",
    "\n",
    "t3 = t1[:]\n",
    "print(t3 is t1)"
   ]
  },
  {
   "cell_type": "markdown",
   "metadata": {},
   "source": [
    "- <span style=\"color: green\">인터닝 (interning)</span>\n",
    "  - 문자열 리터럴, 인기 있는 숫자를 공유하는 최적화 기법"
   ]
  },
  {
   "cell_type": "code",
   "execution_count": 52,
   "metadata": {},
   "outputs": [
    {
     "name": "stdout",
     "output_type": "stream",
     "text": [
      "False\n",
      "True\n"
     ]
    }
   ],
   "source": [
    "# 예제 8-21 스트링 리터럴은 공유 객체를 생성하기도 한다.\n",
    "t1 = (1, 2, 3)\n",
    "t3 = (1, 2, 3)\n",
    "print(t3 is t1)\n",
    "\n",
    "s1 = 'ABC'\n",
    "s2 = 'ABC'\n",
    "print(s2 is s1)"
   ]
  },
  {
   "cell_type": "code",
   "execution_count": 54,
   "metadata": {},
   "outputs": [
    {
     "name": "stderr",
     "output_type": "stream",
     "text": [
      "<>:1: SyntaxWarning: \"is\" with a literal. Did you mean \"==\"?\n",
      "<>:1: SyntaxWarning: \"is\" with a literal. Did you mean \"==\"?\n",
      "/var/folders/rz/r0y7d9td22z3rxsxfq4_spvr0000gn/T/ipykernel_56609/1273663480.py:1: SyntaxWarning: \"is\" with a literal. Did you mean \"==\"?\n",
      "  'ABC' is 'ABC'\n"
     ]
    },
    {
     "data": {
      "text/plain": [
       "True"
      ]
     },
     "execution_count": 54,
     "metadata": {},
     "output_type": "execute_result"
    }
   ],
   "source": [
    "'ABC' is 'ABC'"
   ]
  }
 ],
 "metadata": {
  "kernelspec": {
   "display_name": "Python 3.8.8 ('base')",
   "language": "python",
   "name": "python3"
  },
  "language_info": {
   "codemirror_mode": {
    "name": "ipython",
    "version": 3
   },
   "file_extension": ".py",
   "mimetype": "text/x-python",
   "name": "python",
   "nbconvert_exporter": "python",
   "pygments_lexer": "ipython3",
   "version": "3.8.8"
  },
  "orig_nbformat": 4,
  "vscode": {
   "interpreter": {
    "hash": "ad2bdc8ecc057115af97d19610ffacc2b4e99fae6737bb82f5d7fb13d2f2c186"
   }
  }
 },
 "nbformat": 4,
 "nbformat_minor": 2
}
