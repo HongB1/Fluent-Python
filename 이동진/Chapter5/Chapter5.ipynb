{
 "cells": [
  {
   "cell_type": "markdown",
   "metadata": {},
   "source": [
    "# Chapter 5 일급 함수\n",
    "다음 작업을 수행할 수 있는 객체를 일급 객체라고 한다.\n",
    "- 런타임에 생성\n",
    "- 데이터 구조체의 변수나 요소에 할당\n",
    "- 함수의 인자로 전달\n",
    "- 함수의 결과로 반환\n",
    "  \n",
    "다른 많은 언어에서 함수는 일급 객체가 아니지만, 파이썬은 일급 객체이다. 따라서 이번 장에서는 함수를 객체로 처리하는 방법에 대해 알아본다.\n",
    "\n",
    "\n",
    "## 5.1 함수를 객체처럼 다루기\n",
    "- `__doc__` 속성은 객체의 도움말 텍스트를 생성하기 위해 사용되며, `help(객체)`에 사용된다.\n"
   ]
  },
  {
   "cell_type": "code",
   "execution_count": 1,
   "metadata": {},
   "outputs": [
    {
     "name": "stdout",
     "output_type": "stream",
     "text": [
      "42!:  1405006117752879898543142606244511569936384000000000\n",
      "docstring:  return n!\n",
      "type:  <class 'function'>\n"
     ]
    }
   ],
   "source": [
    "# 예제 5-1 함수를 생성해서 테스트하고, 함수의 __doc__을 읽어서 자료형 확인하기\n",
    "def factorial(n):  # 런타임 중에 생성 가능 (콘솔 환경에서)\n",
    "    '''return n!'''\n",
    "    return 1 if n < 2 else n * factorial(n - 1)  # 출력으로 반환 가능\n",
    "\n",
    "print('42!: ', factorial(42))\n",
    "print('docstring: ', factorial.__doc__)\n",
    "print('type: ', type(factorial))  # 함수의 인자로 사용 가능"
   ]
  },
  {
   "cell_type": "code",
   "execution_count": 2,
   "metadata": {},
   "outputs": [
    {
     "name": "stdout",
     "output_type": "stream",
     "text": [
      "<function factorial at 0x000002073F25A700>\n",
      "fact(5):  120\n",
      "[1, 1, 2, 6, 24, 120, 720, 5040, 40320, 362880, 3628800]\n"
     ]
    }
   ],
   "source": [
    "# 예제 5-2 함수를 다른 이름으로 사용하고 함수의 인수로 전달하기\n",
    "fact = factorial\n",
    "print(fact)\n",
    "\n",
    "print('fact(5): ', fact(5))\n",
    "print(list(map(factorial, range(11))))"
   ]
  },
  {
   "cell_type": "markdown",
   "metadata": {},
   "source": [
    "## 5.2 고위 함수 (High-order function)\n",
    "- 함수를 인자로 받거나, 함수를 반환하는 함수\n",
    "- (ex) `sorted()`는 `key` 인자는 함수를 입력 받는다. 인지가 하나인 함수라면 다 입력 받을 수 있다."
   ]
  },
  {
   "cell_type": "code",
   "execution_count": 3,
   "metadata": {},
   "outputs": [
    {
     "data": {
      "text/plain": [
       "['fig', 'apple', 'cherry', 'banana', 'raspberry', 'strawberry']"
      ]
     },
     "execution_count": 3,
     "metadata": {},
     "output_type": "execute_result"
    }
   ],
   "source": [
    "# 예제 5-3 단어 리스트를 길이에 따라 정렬하기\n",
    "fruits = ['strawberry', 'fig', 'apple', 'cherry', 'raspberry', 'banana']\n",
    "sorted(fruits, key=len)"
   ]
  },
  {
   "cell_type": "code",
   "execution_count": 4,
   "metadata": {},
   "outputs": [
    {
     "data": {
      "text/plain": [
       "['banana', 'apple', 'fig', 'raspberry', 'strawberry', 'cherry']"
      ]
     },
     "execution_count": 4,
     "metadata": {},
     "output_type": "execute_result"
    }
   ],
   "source": [
    "# 예제 5-4 단어리스트를 철자 역순으로 정렬하기\n",
    "def reverse(s):\n",
    "    return s[::-1]\n",
    "\n",
    "sorted(fruits, key=reverse)"
   ]
  },
  {
   "cell_type": "markdown",
   "metadata": {},
   "source": [
    "### 5.2.1 map(), filter(), reduce()의 대안\n",
    "- `map()`, `filter()`가 있긴 하지만 지능형 리스트나 제너레이터 표현식으로 처리 가능하다.\n",
    "- `map()`, `filter()`가 제너레이터를 반환하기 때문이다.\n"
   ]
  },
  {
   "cell_type": "code",
   "execution_count": 5,
   "metadata": {},
   "outputs": [
    {
     "data": {
      "text/plain": [
       "[1, 1, 2, 6, 24, 120]"
      ]
     },
     "execution_count": 5,
     "metadata": {},
     "output_type": "execute_result"
    }
   ],
   "source": [
    "# 예제 5-5 팩토리얼 목록을 map()/filter()로 생성하는 방법과 지능형 리스트로 생성하는 방법\n",
    "list(map(factorial, range(6)))\n"
   ]
  },
  {
   "cell_type": "code",
   "execution_count": 6,
   "metadata": {},
   "outputs": [
    {
     "data": {
      "text/plain": [
       "[1, 1, 2, 6, 24, 120]"
      ]
     },
     "execution_count": 6,
     "metadata": {},
     "output_type": "execute_result"
    }
   ],
   "source": [
    "[factorial(n) for n in range(6)]"
   ]
  },
  {
   "cell_type": "code",
   "execution_count": 7,
   "metadata": {},
   "outputs": [
    {
     "data": {
      "text/plain": [
       "[1, 6, 120]"
      ]
     },
     "execution_count": 7,
     "metadata": {},
     "output_type": "execute_result"
    }
   ],
   "source": [
    "list(map(factorial, filter(lambda n: n % 2, range(6))))"
   ]
  },
  {
   "cell_type": "code",
   "execution_count": 8,
   "metadata": {},
   "outputs": [
    {
     "data": {
      "text/plain": [
       "[1, 6, 120]"
      ]
     },
     "execution_count": 8,
     "metadata": {},
     "output_type": "execute_result"
    }
   ],
   "source": [
    "[factorial(n) for n in range(6) if n % 2]"
   ]
  },
  {
   "cell_type": "markdown",
   "metadata": {},
   "source": [
    "- `reduce()`는 주로 합계를 계산할 때 사용되며 `sum()`으로 대체 가능하기 때문에 `functools` 모듈에 들어가게 되었다. \n",
    "- 2개의 인자를 받는 함수와 배열을 입력 받으며, 맨 앞 2개부터 연산을 하고, 결과와 다음 값으로 연산하는 것을 반복하여 하나의 값으로 리덕션한다.\n",
    "  - <span style=\"background-color:green\">텐서플로우의 reduce_mean, reduce_sum의 의미를 이제야 알게 되었네요.</span>\n",
    "- `any()`와 `all()`도 내장된 리덕션 함수이다.\n"
   ]
  },
  {
   "cell_type": "code",
   "execution_count": 9,
   "metadata": {},
   "outputs": [
    {
     "name": "stdout",
     "output_type": "stream",
     "text": [
      "4950\n",
      "4950\n"
     ]
    }
   ],
   "source": [
    "# 예제 5-6 reduce()와 sum()을 이용해서 99까지 정수 더하기\n",
    "from functools import reduce\n",
    "from operator import add\n",
    "print(reduce(add, range(100))) \n",
    "print(sum(range(100)))"
   ]
  },
  {
   "cell_type": "markdown",
   "metadata": {},
   "source": [
    "## 5.3 익명 함수\n",
    "- `lambda`에 의해 생성되며, 일회용 함수라고 생각하면 좋다.\n",
    "- <span style=\"background-color:green\">`lambda`의 이름이 익명 함수라는 것을 처음 알게되었습니다 !!</span>"
   ]
  },
  {
   "cell_type": "code",
   "execution_count": 10,
   "metadata": {},
   "outputs": [
    {
     "data": {
      "text/plain": [
       "['banana', 'apple', 'fig', 'raspberry', 'strawberry', 'cherry']"
      ]
     },
     "execution_count": 10,
     "metadata": {},
     "output_type": "execute_result"
    }
   ],
   "source": [
    "# 예제 5-7 lambda를 이용해서 철자 역순으로 단어 리스트 정렬하기\n",
    "fruits = ['strawberry', 'fig', 'apple', 'cherry', 'raspberry', 'banana']\n",
    "sorted(fruits, key=lambda s: s[::-1])"
   ]
  },
  {
   "cell_type": "markdown",
   "metadata": {},
   "source": [
    "## 5.4 일곱 가지 맛의 콜러블 객체\n",
    "- 호출 연산자 `()`를 다른 객체에도 적용하는 방법\n",
    "- 호출할 수 있는 객체인지 알아보려면 `callable()` 내장 함수를 사용.\n",
    "- 다음 일곱 가지 콜러블이 있음\n",
    "  - 사용자 정의 함수\n",
    "  - 내장함수\n",
    "  - 내장 메서드\n",
    "  - 메서드\n",
    "  - 클래스\n",
    "  - 클래스 객체: `__call__()` 메서드가 구현된 클래스\n",
    "  - 제너레이터 함수: `yield()` 키워드를 사용하는 함수나 메서드   "
   ]
  },
  {
   "cell_type": "code",
   "execution_count": 11,
   "metadata": {},
   "outputs": [
    {
     "data": {
      "text/plain": [
       "True"
      ]
     },
     "execution_count": 11,
     "metadata": {},
     "output_type": "execute_result"
    }
   ],
   "source": [
    "callable(factorial)"
   ]
  },
  {
   "cell_type": "code",
   "execution_count": 12,
   "metadata": {},
   "outputs": [
    {
     "data": {
      "text/plain": [
       "False"
      ]
     },
     "execution_count": 12,
     "metadata": {},
     "output_type": "execute_result"
    }
   ],
   "source": [
    "callable(fruits)"
   ]
  },
  {
   "cell_type": "markdown",
   "metadata": {},
   "source": [
    "## 5.5 사용자 정의 콜러블형"
   ]
  },
  {
   "cell_type": "code",
   "execution_count": 13,
   "metadata": {},
   "outputs": [
    {
     "name": "stdout",
     "output_type": "stream",
     "text": [
      "2\n",
      "0\n",
      "1\n"
     ]
    },
    {
     "data": {
      "text/plain": [
       "True"
      ]
     },
     "execution_count": 13,
     "metadata": {},
     "output_type": "execute_result"
    }
   ],
   "source": [
    "# 예제 5-8: BingoCage 클래스는 뒤섞인 리스트에서 항목을 골라낼 뿐이다.\n",
    "import random\n",
    "\n",
    "class BingoCage:\n",
    "    def __init__(self, items):\n",
    "        self._items = list(items)  # 지역에 사본을 만들어서 원본 리스트의 예기치 않은 변화를 방지\n",
    "        random.shuffle(self._items)\n",
    "        \n",
    "    def pick(self):\n",
    "        try:\n",
    "            return self._items.pop()\n",
    "        except IndexError:\n",
    "            raise LookupError('pick from empty BingoCage')\n",
    "        \n",
    "    def __call__(self):\n",
    "        return self.pick()\n",
    "\n",
    "bingo = BingoCage(range(3))\n",
    "print(bingo.pick())\n",
    "print(bingo.pick())\n",
    "print(bingo.pick())\n",
    "callable(bingo.pick)"
   ]
  },
  {
   "cell_type": "markdown",
   "metadata": {},
   "source": [
    "## 5.6 함수 인트로스펙션\n",
    "- `__dict__`: 객체에 할당된 사용자 속성을 보관"
   ]
  },
  {
   "cell_type": "code",
   "execution_count": 14,
   "metadata": {},
   "outputs": [
    {
     "name": "stdout",
     "output_type": "stream",
     "text": [
      "['__annotations__', '__call__', '__class__', '__closure__', '__code__', '__defaults__', '__delattr__', '__dict__', '__dir__', '__doc__', '__eq__', '__format__', '__ge__', '__get__', '__getattribute__', '__globals__', '__gt__', '__hash__', '__init__', '__init_subclass__', '__kwdefaults__', '__le__', '__lt__', '__module__', '__name__', '__ne__', '__new__', '__qualname__', '__reduce__', '__reduce_ex__', '__repr__', '__setattr__', '__sizeof__', '__str__', '__subclasshook__']\n"
     ]
    }
   ],
   "source": [
    "print(dir(factorial))"
   ]
  },
  {
   "cell_type": "markdown",
   "metadata": {},
   "source": [
    "- 함수에 사용자 속성을 보관하는 것은 일반적이지 않다. "
   ]
  },
  {
   "cell_type": "code",
   "execution_count": 15,
   "metadata": {},
   "outputs": [
    {
     "data": {
      "text/plain": [
       "{}"
      ]
     },
     "execution_count": 15,
     "metadata": {},
     "output_type": "execute_result"
    }
   ],
   "source": [
    "factorial.__dict__"
   ]
  },
  {
   "cell_type": "markdown",
   "metadata": {},
   "source": [
    "- 파이썬 사용자 정의 객체에는 없지만 함수에만 있는 고유한 속성들\n",
    "  - 이 중 `__defaults__`, `__code__`, `__anotations__`에 대해서 알아볼 것이다."
   ]
  },
  {
   "cell_type": "code",
   "execution_count": 16,
   "metadata": {},
   "outputs": [
    {
     "name": "stdout",
     "output_type": "stream",
     "text": [
      "['__annotations__', '__call__', '__closure__', '__code__', '__defaults__', '__get__', '__globals__', '__kwdefaults__', '__name__', '__qualname__']\n"
     ]
    }
   ],
   "source": [
    "# 예제 5-9 일반 객체에는 존재하지 않는 함수 속성 나열하기\n",
    "class C: pass  # 사용자 정의 클래스\n",
    "obj = C()\n",
    "\n",
    "def func(): pass  # 사용자 정의 함수\n",
    "\n",
    "print(sorted(set(dir(func)) - set(dir(obj))))"
   ]
  },
  {
   "cell_type": "markdown",
   "metadata": {},
   "source": [
    "## 5.7 위치 매개변수에서 키워드 전용 매개변수까지\n",
    "- 위치 인수 (positional argument) \n",
    "- 키워드 전용 인수 (keyword-only argument)\n",
    "  - *가 붙은 인수 뒤에 이름을 지정하면 키워드 전용 인수가 된다.\n",
    "  - 해당 인수에 값을 넘겨줄 때는 반드시 인수의 이름을 적어줘야 한다."
   ]
  },
  {
   "cell_type": "code",
   "execution_count": 17,
   "metadata": {},
   "outputs": [],
   "source": [
    "# 예제 5-10 HTML을 생성하는tag() 함수. class는 파이썬에 정의된 키워드이므로, 이를 피해 class 속성을 전달하기 위해 키워드 전용 매개변수로 cls를 사용했다.\n",
    "def tag(name, *content, cls=None, **attrs):\n",
    "    \"\"\"하나 이상의 HTML 태그를 생성한다.\"\"\"\n",
    "    if cls is not None:\n",
    "        attrs['class'] = cls\n",
    "        \n",
    "    if attrs:\n",
    "        attr_str = ''.join(' %s=\"%s\"' % (attr, value) for attr, value in sorted(attrs.items()))\n",
    "        \n",
    "    else:\n",
    "        attr_str = ''\n",
    "        \n",
    "    if content:\n",
    "        return '\\n'.join('<%s%s>%s</%s>' % (name, attr_str, c, name) for c in content)\n",
    "    \n",
    "    else:\n",
    "        return '<%s%s />'% (name, attr_str)\n"
   ]
  },
  {
   "cell_type": "code",
   "execution_count": 18,
   "metadata": {},
   "outputs": [
    {
     "data": {
      "text/plain": [
       "'<br />'"
      ]
     },
     "execution_count": 18,
     "metadata": {},
     "output_type": "execute_result"
    }
   ],
   "source": [
    "tag('br')"
   ]
  },
  {
   "cell_type": "code",
   "execution_count": 19,
   "metadata": {},
   "outputs": [
    {
     "data": {
      "text/plain": [
       "'<p>hello</p>'"
      ]
     },
     "execution_count": 19,
     "metadata": {},
     "output_type": "execute_result"
    }
   ],
   "source": [
    "tag('p', 'hello')  # name 인수 이후는 모두 *content 매개변수에 튜플로 전달된다."
   ]
  },
  {
   "cell_type": "code",
   "execution_count": 20,
   "metadata": {},
   "outputs": [
    {
     "name": "stdout",
     "output_type": "stream",
     "text": [
      "<p>hello</p>\n",
      "<p>world</p>\n"
     ]
    }
   ],
   "source": [
    "print(tag('p', 'hello', 'world'))  # name 인수 이후는 모두 *content 매개변수에 튜플로 전달된다."
   ]
  },
  {
   "cell_type": "code",
   "execution_count": 21,
   "metadata": {},
   "outputs": [
    {
     "data": {
      "text/plain": [
       "'<p id=\"33\">hello</p>'"
      ]
     },
     "execution_count": 21,
     "metadata": {},
     "output_type": "execute_result"
    }
   ],
   "source": [
    "tag('p','hello', id=33)  # tag 함수의 시그니처에 명시적으로 이름이 지정되지 않은 키워드 인수들은 딕셔너리로 **attrs 인수에 전달 된다."
   ]
  },
  {
   "cell_type": "code",
   "execution_count": 22,
   "metadata": {},
   "outputs": [
    {
     "name": "stdout",
     "output_type": "stream",
     "text": [
      "<p class=\"siderbar\">hello</p>\n",
      "<p class=\"siderbar\">world</p>\n"
     ]
    }
   ],
   "source": [
    "print(tag('p', 'hello', 'world', cls='siderbar'))  # cls 매개변수만 키워드 인수로 전달된다."
   ]
  },
  {
   "cell_type": "markdown",
   "metadata": {},
   "source": [
    "- <span style=\"background-color:green\">*content 아님 주의. content 인수는 attrs로 들어갔음.</span>"
   ]
  },
  {
   "cell_type": "code",
   "execution_count": 23,
   "metadata": {},
   "outputs": [
    {
     "data": {
      "text/plain": [
       "'<img content=\"testing\" />'"
      ]
     },
     "execution_count": 23,
     "metadata": {},
     "output_type": "execute_result"
    }
   ],
   "source": [
    "tag(content='testing', name='img')  # "
   ]
  },
  {
   "cell_type": "code",
   "execution_count": 24,
   "metadata": {},
   "outputs": [
    {
     "data": {
      "text/plain": [
       "'<img>testing</img>'"
      ]
     },
     "execution_count": 24,
     "metadata": {},
     "output_type": "execute_result"
    }
   ],
   "source": [
    "tag('img', 'testing')"
   ]
  },
  {
   "cell_type": "markdown",
   "metadata": {},
   "source": [
    "딕셔너리 안의 모든 항목을 별도의 인수로 전달한다. 명명된 매개변수를 찾아서 전달한다."
   ]
  },
  {
   "cell_type": "code",
   "execution_count": 25,
   "metadata": {},
   "outputs": [
    {
     "data": {
      "text/plain": [
       "'<img class=\"framed\" src=\"sunset.jpg\" title=\"Sunset Boulevard\" />'"
      ]
     },
     "execution_count": 25,
     "metadata": {},
     "output_type": "execute_result"
    }
   ],
   "source": [
    "my_tag = {'name': 'img', 'title': 'Sunset Boulevard', 'src': 'sunset.jpg', 'cls': 'framed'}\n",
    "tag(**my_tag)"
   ]
  },
  {
   "cell_type": "code",
   "execution_count": 26,
   "metadata": {},
   "outputs": [
    {
     "name": "stdout",
     "output_type": "stream",
     "text": [
      "(1, 2)\n",
      "\n"
     ]
    },
    {
     "ename": "TypeError",
     "evalue": "f() takes 1 positional argument but 2 were given",
     "output_type": "error",
     "traceback": [
      "\u001b[1;31m---------------------------------------------------------------------------\u001b[0m",
      "\u001b[1;31mTypeError\u001b[0m                                 Traceback (most recent call last)",
      "\u001b[1;32m<ipython-input-26-3d0dd01d23c1>\u001b[0m in \u001b[0;36m<module>\u001b[1;34m\u001b[0m\n\u001b[0;32m      4\u001b[0m \u001b[0mprint\u001b[0m\u001b[1;33m(\u001b[0m\u001b[0mf\u001b[0m\u001b[1;33m(\u001b[0m\u001b[1;36m1\u001b[0m\u001b[1;33m,\u001b[0m \u001b[0mb\u001b[0m\u001b[1;33m=\u001b[0m\u001b[1;36m2\u001b[0m\u001b[1;33m)\u001b[0m\u001b[1;33m)\u001b[0m\u001b[1;33m\u001b[0m\u001b[1;33m\u001b[0m\u001b[0m\n\u001b[0;32m      5\u001b[0m \u001b[0mprint\u001b[0m\u001b[1;33m(\u001b[0m\u001b[1;33m)\u001b[0m\u001b[1;33m\u001b[0m\u001b[1;33m\u001b[0m\u001b[0m\n\u001b[1;32m----> 6\u001b[1;33m \u001b[0mprint\u001b[0m\u001b[1;33m(\u001b[0m\u001b[0mf\u001b[0m\u001b[1;33m(\u001b[0m\u001b[1;36m1\u001b[0m\u001b[1;33m,\u001b[0m \u001b[1;36m2\u001b[0m\u001b[1;33m)\u001b[0m\u001b[1;33m)\u001b[0m\u001b[1;33m\u001b[0m\u001b[1;33m\u001b[0m\u001b[0m\n\u001b[0m",
      "\u001b[1;31mTypeError\u001b[0m: f() takes 1 positional argument but 2 were given"
     ]
    }
   ],
   "source": [
    "def f(a, *, b):\n",
    "    return a, b\n",
    "\n",
    "print(f(1, b=2))\n",
    "print()\n",
    "print(f(1, 2))"
   ]
  },
  {
   "cell_type": "markdown",
   "metadata": {},
   "source": [
    "## 5.8 매개변수에 대한 정보 읽기"
   ]
  },
  {
   "cell_type": "markdown",
   "metadata": {},
   "source": [
    "- 함수 객체 안의 `__defaults__()` 속성에는 위치 인수와 키워드 인수의 기본값을 가진 튜플이 들어있음\n",
    "- `__kwddefaults__` 속성에는 키워드 전용 인수의 기본값\n",
    "- `__code__`: 인수명이 들어 있으며, 여러 속성을 담고 있는 code 객체를 가리킨다."
   ]
  },
  {
   "cell_type": "code",
   "execution_count": 66,
   "metadata": {},
   "outputs": [],
   "source": [
    "# 예제 5-15 원하는 길이 가까이에 있는 공백에서 잘라서 문자열을 단축하는 함수\n",
    "# 예제 5-19 애너테이션을 추가한 clip() 함수\n",
    "def clip(text, max_len=80):\n",
    "    \"\"\"\n",
    "    max_len 앞이나 뒤의 마지막 공백에서 잘라낸 텍스트를 반환한다.\n",
    "    \"\"\"\n",
    "    end = None\n",
    "    if len(text) > max_len:\n",
    "        space_before = text.rfind(' ', 0, max_len)\n",
    "        if space_before >= 0:\n",
    "            end = space_before\n",
    "        else:\n",
    "            space_after = text.rfind(' ', max_len)\n",
    "            if space_after >= 0:\n",
    "                end = space_after\n",
    "                \n",
    "    if end is None:\n",
    "        end = len(text)\n",
    "    return text[:end].rstrip()"
   ]
  },
  {
   "cell_type": "code",
   "execution_count": 69,
   "metadata": {},
   "outputs": [
    {
     "data": {
      "text/plain": [
       "(80,)"
      ]
     },
     "execution_count": 69,
     "metadata": {},
     "output_type": "execute_result"
    }
   ],
   "source": [
    "clip.__defaults__"
   ]
  },
  {
   "cell_type": "code",
   "execution_count": 73,
   "metadata": {},
   "outputs": [
    {
     "data": {
      "text/plain": [
       "{'cls': None}"
      ]
     },
     "execution_count": 73,
     "metadata": {},
     "output_type": "execute_result"
    }
   ],
   "source": [
    "tag.__kwdefaults__"
   ]
  },
  {
   "cell_type": "code",
   "execution_count": 75,
   "metadata": {},
   "outputs": [
    {
     "data": {
      "text/plain": [
       "<code object tag at 0x000002073F6D7710, file \"<ipython-input-63-2fb0b8a8ae1f>\", line 5>"
      ]
     },
     "execution_count": 75,
     "metadata": {},
     "output_type": "execute_result"
    }
   ],
   "source": [
    "tag.__code__"
   ]
  },
  {
   "cell_type": "code",
   "execution_count": 76,
   "metadata": {},
   "outputs": [
    {
     "data": {
      "text/plain": [
       "('text', 'max_len', 'end', 'space_before', 'space_after')"
      ]
     },
     "execution_count": 76,
     "metadata": {},
     "output_type": "execute_result"
    }
   ],
   "source": [
    "clip.__code__.co_varnames  # 함수 안에서 생성한 지역 변수명도 있다."
   ]
  },
  {
   "cell_type": "code",
   "execution_count": 77,
   "metadata": {},
   "outputs": [
    {
     "data": {
      "text/plain": [
       "2"
      ]
     },
     "execution_count": 77,
     "metadata": {},
     "output_type": "execute_result"
    }
   ],
   "source": [
    "clip.__code__.co_argcount  # co_varnames 중 첫 co_argcount개가 함수 인수"
   ]
  },
  {
   "cell_type": "code",
   "execution_count": 78,
   "metadata": {},
   "outputs": [
    {
     "data": {
      "text/plain": [
       "'(text, max_len=80)'"
      ]
     },
     "execution_count": 78,
     "metadata": {},
     "output_type": "execute_result"
    }
   ],
   "source": [
    "# 예제 5-17 함수 시그니처 추출하기\n",
    "from inspect import signature\n",
    "\n",
    "sig = signature(clip)\n",
    "str(sig)"
   ]
  },
  {
   "cell_type": "markdown",
   "metadata": {},
   "source": [
    "- Parameter 객체의 kind 속성은 다음 다섯가지 종류가 있음\n",
    "  - POSITIONAL_OR_KEYWORD: 위치 인수나 키워드 인수\n",
    "  - VAR_POSITIONAL: *args\n",
    "  - VAR_KEYWORD: **kwargs\n",
    "  - KEYWORD_ONLY: 키워드 전용 인수\n",
    "  - POSITIONAL_ONLY: 위치 전용 매개변수 (사용자 선언 함수에는 없지만, 매개변수를 받지 않는 divmod() 같은 놈에 있다.)"
   ]
  },
  {
   "cell_type": "code",
   "execution_count": 79,
   "metadata": {},
   "outputs": [
    {
     "name": "stdout",
     "output_type": "stream",
     "text": [
      "POSITIONAL_OR_KEYWORD : text = <class 'inspect._empty'>\n",
      "POSITIONAL_OR_KEYWORD : max_len = 80\n"
     ]
    }
   ],
   "source": [
    "for name, param in sig.parameters.items():\n",
    "    print(param.kind, ':', name, '=', param.default)"
   ]
  },
  {
   "cell_type": "code",
   "execution_count": 80,
   "metadata": {},
   "outputs": [
    {
     "name": "stdout",
     "output_type": "stream",
     "text": [
      "POSITIONAL_OR_KEYWORD : name = <class 'inspect._empty'>\n",
      "VAR_POSITIONAL : content = <class 'inspect._empty'>\n",
      "KEYWORD_ONLY : cls = None\n",
      "VAR_KEYWORD : attrs = <class 'inspect._empty'>\n"
     ]
    }
   ],
   "source": [
    "sig = signature(tag)\n",
    "for name, param in sig.parameters.items():\n",
    "    print(param.kind, ':', name, '=', param.default)"
   ]
  },
  {
   "cell_type": "markdown",
   "metadata": {},
   "source": [
    "- Signature 객체의 bind() 메서드는 임의 개수의 인수를 받으며, 인수를 매개변수에 대응시키는 일반적인 규칙을 적용해서 그것을 시그니처에 들어 있는 매개변수에 바인딩한다.\n",
    "  - 실제 함수를 호출하기 전에 인수를 검증하기 위해 사용될 수 있다.\n",
    "  - 단순히 딕셔너리에 다 대입해서 넣는 것보다 안전할 것 같다."
   ]
  },
  {
   "cell_type": "code",
   "execution_count": 81,
   "metadata": {},
   "outputs": [
    {
     "data": {
      "text/plain": [
       "<BoundArguments (name='img', cls='framed', attrs={'title': 'Sunset Boulevard', 'src': 'sunset.jpg'})>"
      ]
     },
     "execution_count": 81,
     "metadata": {},
     "output_type": "execute_result"
    }
   ],
   "source": [
    "# 예제 5-18 tag()에서 가져온 시그니처를 인수들의 딕셔너리에 바인딩하기\n",
    "import inspect\n",
    "sig = inspect.signature(tag)\n",
    "my_tag = {'name': 'img', 'title': 'Sunset Boulevard', 'src': 'sunset.jpg', 'cls': 'framed'}\n",
    "bound_args = sig.bind(**my_tag)\n",
    "bound_args"
   ]
  },
  {
   "cell_type": "code",
   "execution_count": 82,
   "metadata": {},
   "outputs": [
    {
     "name": "stdout",
     "output_type": "stream",
     "text": [
      "name = img\n",
      "cls = framed\n",
      "attrs = {'title': 'Sunset Boulevard', 'src': 'sunset.jpg'}\n"
     ]
    }
   ],
   "source": [
    "for name, value in bound_args.arguments.items():\n",
    "    print(name, '=', value)"
   ]
  },
  {
   "cell_type": "code",
   "execution_count": 83,
   "metadata": {},
   "outputs": [
    {
     "ename": "TypeError",
     "evalue": "missing a required argument: 'name'",
     "output_type": "error",
     "traceback": [
      "\u001b[1;31m---------------------------------------------------------------------------\u001b[0m",
      "\u001b[1;31mTypeError\u001b[0m                                 Traceback (most recent call last)",
      "\u001b[1;32m<ipython-input-83-26e5f49b96e2>\u001b[0m in \u001b[0;36m<module>\u001b[1;34m\u001b[0m\n\u001b[0;32m      1\u001b[0m \u001b[1;32mdel\u001b[0m \u001b[0mmy_tag\u001b[0m\u001b[1;33m[\u001b[0m\u001b[1;34m'name'\u001b[0m\u001b[1;33m]\u001b[0m\u001b[1;33m\u001b[0m\u001b[1;33m\u001b[0m\u001b[0m\n\u001b[1;32m----> 2\u001b[1;33m \u001b[0mbound_args\u001b[0m \u001b[1;33m=\u001b[0m \u001b[0msig\u001b[0m\u001b[1;33m.\u001b[0m\u001b[0mbind\u001b[0m\u001b[1;33m(\u001b[0m\u001b[1;33m**\u001b[0m\u001b[0mmy_tag\u001b[0m\u001b[1;33m)\u001b[0m\u001b[1;33m\u001b[0m\u001b[1;33m\u001b[0m\u001b[0m\n\u001b[0m",
      "\u001b[1;32mc:\\ProgramData\\Anaconda3\\lib\\inspect.py\u001b[0m in \u001b[0;36mbind\u001b[1;34m(self, *args, **kwargs)\u001b[0m\n\u001b[0;32m   3035\u001b[0m         \u001b[1;32mif\u001b[0m \u001b[0mthe\u001b[0m \u001b[0mpassed\u001b[0m \u001b[0marguments\u001b[0m \u001b[0mcan\u001b[0m \u001b[1;32mnot\u001b[0m \u001b[0mbe\u001b[0m \u001b[0mbound\u001b[0m\u001b[1;33m.\u001b[0m\u001b[1;33m\u001b[0m\u001b[1;33m\u001b[0m\u001b[0m\n\u001b[0;32m   3036\u001b[0m         \"\"\"\n\u001b[1;32m-> 3037\u001b[1;33m         \u001b[1;32mreturn\u001b[0m \u001b[0mself\u001b[0m\u001b[1;33m.\u001b[0m\u001b[0m_bind\u001b[0m\u001b[1;33m(\u001b[0m\u001b[0margs\u001b[0m\u001b[1;33m,\u001b[0m \u001b[0mkwargs\u001b[0m\u001b[1;33m)\u001b[0m\u001b[1;33m\u001b[0m\u001b[1;33m\u001b[0m\u001b[0m\n\u001b[0m\u001b[0;32m   3038\u001b[0m \u001b[1;33m\u001b[0m\u001b[0m\n\u001b[0;32m   3039\u001b[0m     \u001b[1;32mdef\u001b[0m \u001b[0mbind_partial\u001b[0m\u001b[1;33m(\u001b[0m\u001b[0mself\u001b[0m\u001b[1;33m,\u001b[0m \u001b[1;33m/\u001b[0m\u001b[1;33m,\u001b[0m \u001b[1;33m*\u001b[0m\u001b[0margs\u001b[0m\u001b[1;33m,\u001b[0m \u001b[1;33m**\u001b[0m\u001b[0mkwargs\u001b[0m\u001b[1;33m)\u001b[0m\u001b[1;33m:\u001b[0m\u001b[1;33m\u001b[0m\u001b[1;33m\u001b[0m\u001b[0m\n",
      "\u001b[1;32mc:\\ProgramData\\Anaconda3\\lib\\inspect.py\u001b[0m in \u001b[0;36m_bind\u001b[1;34m(self, args, kwargs, partial)\u001b[0m\n\u001b[0;32m   2950\u001b[0m                             \u001b[0mmsg\u001b[0m \u001b[1;33m=\u001b[0m \u001b[1;34m'missing a required argument: {arg!r}'\u001b[0m\u001b[1;33m\u001b[0m\u001b[1;33m\u001b[0m\u001b[0m\n\u001b[0;32m   2951\u001b[0m                             \u001b[0mmsg\u001b[0m \u001b[1;33m=\u001b[0m \u001b[0mmsg\u001b[0m\u001b[1;33m.\u001b[0m\u001b[0mformat\u001b[0m\u001b[1;33m(\u001b[0m\u001b[0marg\u001b[0m\u001b[1;33m=\u001b[0m\u001b[0mparam\u001b[0m\u001b[1;33m.\u001b[0m\u001b[0mname\u001b[0m\u001b[1;33m)\u001b[0m\u001b[1;33m\u001b[0m\u001b[1;33m\u001b[0m\u001b[0m\n\u001b[1;32m-> 2952\u001b[1;33m                             \u001b[1;32mraise\u001b[0m \u001b[0mTypeError\u001b[0m\u001b[1;33m(\u001b[0m\u001b[0mmsg\u001b[0m\u001b[1;33m)\u001b[0m \u001b[1;32mfrom\u001b[0m \u001b[1;32mNone\u001b[0m\u001b[1;33m\u001b[0m\u001b[1;33m\u001b[0m\u001b[0m\n\u001b[0m\u001b[0;32m   2953\u001b[0m             \u001b[1;32melse\u001b[0m\u001b[1;33m:\u001b[0m\u001b[1;33m\u001b[0m\u001b[1;33m\u001b[0m\u001b[0m\n\u001b[0;32m   2954\u001b[0m                 \u001b[1;31m# We have a positional argument to process\u001b[0m\u001b[1;33m\u001b[0m\u001b[1;33m\u001b[0m\u001b[1;33m\u001b[0m\u001b[0m\n",
      "\u001b[1;31mTypeError\u001b[0m: missing a required argument: 'name'"
     ]
    }
   ],
   "source": [
    "del my_tag['name']\n",
    "bound_args = sig.bind(**my_tag)"
   ]
  },
  {
   "cell_type": "markdown",
   "metadata": {},
   "source": [
    "## 5.9 함수 애너테이션\n",
    "- 함수의 매개변수와 반환값에 메타데이터를추가할 수 있는 구문\n",
    "  - 매개변수 애너테이션은 콜론 뒤에 추가, 기본값이 있을 때, 애너테이션은 인수명과 등호 사이에 들어간다.\n",
    "  - 반환값 애너테이션은 -> 뒤에\n",
    "  - 표현식은 어떤 자료형도 될 수 있다.\n",
    "- 말 그대로 애너테이션일 뿐이지, 애너테이션을 따르지 않았다고 오류가 발생하지는 않는다.\n",
    "  - 정적 자료형 검사를 지원하기 위해 선택적인 자료형 정보를 전달하는 데 큰 도움이 된다."
   ]
  },
  {
   "cell_type": "code",
   "execution_count": 27,
   "metadata": {},
   "outputs": [],
   "source": [
    "# 예제 5-19 애너테이션을 추가한 clip() 함수\n",
    "def clip(text:str, max_len:'int > 0'=80) -> str:\n",
    "    \"\"\"\n",
    "    max_len 앞이나 뒤의 마지막 공백에서 잘라낸 텍스트를 반환한다.\n",
    "    \"\"\"\n",
    "    end = None\n",
    "    if len(text) > max_len:\n",
    "        space_before = text.rfind(' ', 0, max_len)\n",
    "        if space_before >= 0:\n",
    "            end = space_before\n",
    "        else:\n",
    "            space_after = text.rfind(' ', max_len)\n",
    "            if space_after >= 0:\n",
    "                end = space_after\n",
    "                \n",
    "    if end is None:\n",
    "        end = len(text)\n",
    "    return text[:end].rstrip()"
   ]
  },
  {
   "cell_type": "code",
   "execution_count": 28,
   "metadata": {},
   "outputs": [
    {
     "data": {
      "text/plain": [
       "{'text': str, 'max_len': 'int > 0', 'return': str}"
      ]
     },
     "execution_count": 28,
     "metadata": {},
     "output_type": "execute_result"
    }
   ],
   "source": [
    "clip.__annotations__"
   ]
  },
  {
   "cell_type": "markdown",
   "metadata": {},
   "source": [
    "- inspect.signature()는 애너테이션을 추출하는 방법을 안다."
   ]
  },
  {
   "cell_type": "code",
   "execution_count": 29,
   "metadata": {},
   "outputs": [
    {
     "name": "stdout",
     "output_type": "stream",
     "text": [
      "(text: str, max_len: 'int > 0' = 80) -> str\n",
      "\n",
      "<class 'str'>\n",
      "\n",
      "OrderedDict([('text', <Parameter \"text: str\">), ('max_len', <Parameter \"max_len: 'int > 0' = 80\">)])\n",
      "\n",
      "<class 'str'> : text = <class 'inspect._empty'>\n",
      "'int > 0'     : max_len = 80\n"
     ]
    }
   ],
   "source": [
    "from inspect import signature\n",
    "\n",
    "sig = signature(clip)\n",
    "print(sig)\n",
    "print()\n",
    "print(sig.return_annotation)\n",
    "print()\n",
    "print(sig.parameters)\n",
    "print()\n",
    "for param in sig.parameters.values():\n",
    "    note = repr(param.annotation).ljust(13)\n",
    "    print(note, ':', param.name, '=', param.default)"
   ]
  },
  {
   "cell_type": "markdown",
   "metadata": {},
   "source": [
    "## 5.10 함수형 프로그래밍을 위한 패키지\n",
    "- operator와 functools 같은 패키지들을 사용해서 함수형 코딩 스타일을 사용할 수 있다.\n",
    "- 함수형 프로그래밍?\n",
    "  - 순수 함수를 조합하고 소프트웨어를 만드는 방식, 작은 문제를 해결하기 위한 함수를 작성\n",
    "  - 함수를 함수에 입력 및 출력한다 (1급 객체).\n",
    "  - 대입문이 없는 프로그래밍\n",
    "\n",
    "### 5.10.1 operator 모듈\n",
    "- 함수형 프로그래밍을 할 때, 산술 연산자를 함수로 사용하는 것이 편리할 때가 있다."
   ]
  },
  {
   "cell_type": "code",
   "execution_count": 31,
   "metadata": {},
   "outputs": [],
   "source": [
    "# 예제 5-21 reduce()와 익명 함수로 구현한 팩토리얼\n",
    "from functools import reduce\n",
    "\n",
    "\n",
    "def fact(n):\n",
    "    return reduce(lambda a, b: a*b, range(1, n + 1))"
   ]
  },
  {
   "cell_type": "code",
   "execution_count": 32,
   "metadata": {},
   "outputs": [],
   "source": [
    "# 예제 5-22 reduce()와 operator.mul로 구현한 팩토리얼\n",
    "from functools import reduce\n",
    "from operator import mul\n",
    "\n",
    "\n",
    "def fact(n):\n",
    "    return reduce(mul, range(1, n + 1))"
   ]
  },
  {
   "cell_type": "markdown",
   "metadata": {},
   "source": [
    "- `operator.itemgetter()`: 시퀀스로부터 항목을 가져오는 함수"
   ]
  },
  {
   "cell_type": "code",
   "execution_count": 37,
   "metadata": {},
   "outputs": [
    {
     "name": "stdout",
     "output_type": "stream",
     "text": [
      "('Sao Paulo', 'BR', 19.649, (-23.547778, -46.635833))\n",
      "('Deihi NCR', 'IN', 21.935, (28.613889, 77.208889))\n",
      "('Tokyo', 'JP', 36.993, (35.689722, 139.691617))\n",
      "('Mexico City', 'MX', 20.142, (19.433333, -99.133333))\n",
      "('New York-Newark', 'US', 20.104, (40.808611, -74.020386))\n"
     ]
    }
   ],
   "source": [
    "# 예제 5-23 튜플의 리스트를 정렬하기 위한 itemgetter() 사용 예\n",
    "from operator import itemgetter\n",
    "\n",
    "metro_data = [\n",
    "    ('Tokyo', 'JP', 36.993, (35.689722, 139.691617)),\n",
    "    ('Deihi NCR', 'IN', 21.935, (28.613889, 77.208889)),\n",
    "    ('Mexico City', 'MX', 20.142, (19.433333, -99.133333)),\n",
    "    ('New York-Newark', 'US', 20.104, (40.808611, -74.020386)),\n",
    "    ('Sao Paulo', 'BR', 19.649, (-23.547778, -46.635833))\n",
    "]\n",
    "\n",
    "# 주어진 시퀀스형에서 1번 인덱스를 가져오는 itemgetter(1)\n",
    "for city in sorted(metro_data, key=itemgetter(1)):\n",
    "    print(city)"
   ]
  },
  {
   "cell_type": "code",
   "execution_count": 38,
   "metadata": {},
   "outputs": [
    {
     "name": "stdout",
     "output_type": "stream",
     "text": [
      "('JP', 'Tokyo')\n",
      "('IN', 'Deihi NCR')\n",
      "('MX', 'Mexico City')\n",
      "('US', 'New York-Newark')\n",
      "('BR', 'Sao Paulo')\n"
     ]
    }
   ],
   "source": [
    "# 주어진 시퀀스형에서 1번 인덱스와 0번 인덱스를 가져오는 객체 생성\n",
    "cc_name = itemgetter(1, 0)  \n",
    "for city in metro_data:\n",
    "    print(cc_name(city))"
   ]
  },
  {
   "cell_type": "markdown",
   "metadata": {},
   "source": [
    "- `operator.attrgetter()`: 객체의 속성을 가져오는 함수"
   ]
  },
  {
   "cell_type": "code",
   "execution_count": 41,
   "metadata": {},
   "outputs": [
    {
     "name": "stdout",
     "output_type": "stream",
     "text": [
      "('Sao Paulo', -23.547778)\n",
      "('Mexico City', 19.433333)\n",
      "('Deihi NCR', 28.613889)\n",
      "('Tokyo', 35.689722)\n",
      "('New York-Newark', 40.808611)\n"
     ]
    }
   ],
   "source": [
    "# 5-24 metro_areas라는 명명된 튜플의 리스트를 처리하기 위한 attrgetter() 사용 예\n",
    "from collections import namedtuple\n",
    "from operator import attrgetter\n",
    "\n",
    "LatLong = namedtuple('LatLong', 'lat long')\n",
    "Metropolis = namedtuple('Metropolis', 'name cc pop coord')\n",
    "metro_areas = [Metropolis(name, cc, pop, LatLong(lat, long)) \n",
    "               for name, cc, pop, (lat, long) in metro_data]\n",
    "\n",
    "name_lat = attrgetter('name', 'coord.lat')\n",
    "\n",
    "for city in sorted(metro_areas, key=attrgetter('coord.lat')):\n",
    "    print(name_lat(city))"
   ]
  },
  {
   "cell_type": "markdown",
   "metadata": {},
   "source": [
    "- `operator.methodcaller()`: 객체의 메서드를 가져오는 함수"
   ]
  },
  {
   "cell_type": "code",
   "execution_count": 51,
   "metadata": {},
   "outputs": [
    {
     "name": "stdout",
     "output_type": "stream",
     "text": [
      "s.upper():  THE TIME HAS COME\n",
      "upcase(s):  THE TIME HAS COME\n",
      "s.replace(' ', '-'):  The-time-has-come\n",
      "hiphenate(s):  The-time-has-come\n"
     ]
    }
   ],
   "source": [
    "# 예제 5-25 methodcaller() 사용 예. \n",
    "# 두 번째 테스트 hiphenate()에서 여번의 인수가 바인딩되는 것에 주의하라\n",
    "from operator import methodcaller\n",
    "\n",
    "s = 'The time has come'\n",
    "upcase = methodcaller('upper')\n",
    "\n",
    "print('s.upper(): ', s.upper())\n",
    "print('upcase(s): ', upcase(s))\n",
    "\n",
    "hiphenate = methodcaller('replace', ' ', '-')  # replace의 인수들이 바인딩된다.\n",
    "print(\"s.replace(' ', '-'): \", s.replace(' ', '-'))\n",
    "print(\"hiphenate(s): \", hiphenate(s))\n"
   ]
  },
  {
   "cell_type": "markdown",
   "metadata": {},
   "source": [
    "- `operator` 모듈에 정의된 함수들 중 일부"
   ]
  },
  {
   "cell_type": "code",
   "execution_count": 44,
   "metadata": {},
   "outputs": [
    {
     "name": "stdout",
     "output_type": "stream",
     "text": [
      "['abs', 'add', 'and_', 'attrgetter', 'concat', 'contains', 'countOf', 'delitem', 'eq', 'floordiv', 'ge', 'getitem', 'gt', 'iadd', 'iand', 'iconcat', 'ifloordiv', 'ilshift', 'imatmul', 'imod', 'imul', 'index', 'indexOf', 'inv', 'invert', 'ior', 'ipow', 'irshift', 'is_', 'is_not', 'isub', 'itemgetter', 'itruediv', 'ixor', 'le', 'length_hint', 'lshift', 'lt', 'matmul', 'methodcaller', 'mod', 'mul', 'ne', 'neg', 'not_', 'or_', 'pos', 'pow', 'rshift', 'setitem', 'sub', 'truediv', 'truth', 'xor']\n"
     ]
    }
   ],
   "source": [
    "import operator\n",
    "\n",
    "\n",
    "print([name for name in dir(operator) if not name.startswith('_')])"
   ]
  },
  {
   "cell_type": "markdown",
   "metadata": {},
   "source": [
    "### 5.10.2 functools.partial()로 인수 고정하기\n",
    "- 함수를 부분적으로 실행할 수 있게 해주는 고위 함수.\n",
    "- 원래 함수의 일부 인수를 고정한 콜러블을 생성\n",
    "- 하나 이상의 인수를 받는 함수를 그보다 적은 인수를 받는 콜백 함수를 사용"
   ]
  },
  {
   "cell_type": "code",
   "execution_count": 53,
   "metadata": {},
   "outputs": [
    {
     "name": "stdout",
     "output_type": "stream",
     "text": [
      "21\n",
      "[3, 6, 9, 12, 15, 18, 21, 24, 27]\n"
     ]
    }
   ],
   "source": [
    "# 5-26 인수를 하나 받는 콜러블이 필요한 곳에인수 두 개를 받는 함수를 사용하기 위해 partial() 적용하기\n",
    "from operator import mul\n",
    "from functools import partial\n",
    "\n",
    "triple = partial(mul, 3)  # mul의 인수 중 하나는 3으로 고정됌\n",
    "print(triple(7))\n",
    "print(list(map(triple, range(1, 10))))"
   ]
  },
  {
   "cell_type": "code",
   "execution_count": 54,
   "metadata": {},
   "outputs": [
    {
     "name": "stdout",
     "output_type": "stream",
     "text": [
      "café café\n",
      "False\n",
      "True\n"
     ]
    }
   ],
   "source": [
    "# 5-27 partial()을 이용해서 편리한 유니코드 정규화 함수 만들기\n",
    "import unicodedata, functools\n",
    "nfc = functools.partial(unicodedata.normalize, 'NFC')\n",
    "\n",
    "s1 = 'café'\n",
    "s2 = 'cafe\\u0301'\n",
    "\n",
    "print(s1, s2)\n",
    "print(s1 == s2)\n",
    "print(nfc(s1) == nfc(s2))"
   ]
  },
  {
   "cell_type": "code",
   "execution_count": 63,
   "metadata": {},
   "outputs": [
    {
     "name": "stdout",
     "output_type": "stream",
     "text": [
      "functools.partial(<function tag at 0x000002073F45DF70>, 'img', cls='pic-frame')\n"
     ]
    },
    {
     "data": {
      "text/plain": [
       "'<img class=\"pic-frame\" src=\"wumpus.jpeg\" />'"
      ]
     },
     "execution_count": 63,
     "metadata": {},
     "output_type": "execute_result"
    }
   ],
   "source": [
    "# 5-28 tag() 함수에 적용한 partial 함수\n",
    "from functools import partial\n",
    "\n",
    "\n",
    "def tag(name, *content, cls=None, **attrs):\n",
    "    \"\"\"하나 이상의 HTML 태그를 생성한다.\"\"\"\n",
    "    if cls is not None:\n",
    "        attrs['class'] = cls\n",
    "        \n",
    "    if attrs:\n",
    "        attr_str = ''.join(' %s=\"%s\"' % (attr, value) for attr, value in sorted(attrs.items()))\n",
    "        \n",
    "    else:\n",
    "        attr_str = ''\n",
    "        \n",
    "    if content:\n",
    "        return '\\n'.join('<%s%s>%s</%s>' % (name, attr_str, c, name) for c in content)\n",
    "    \n",
    "    else:\n",
    "        return '<%s%s />'% (name, attr_str)\n",
    "\n",
    "\n",
    "picture = partial(tag, 'img', cls='pic-frame')\n",
    "print(picture)\n",
    "picture(src='wumpus.jpeg')"
   ]
  },
  {
   "cell_type": "code",
   "execution_count": 65,
   "metadata": {},
   "outputs": [
    {
     "name": "stdout",
     "output_type": "stream",
     "text": [
      "<function tag at 0x000002073F45DF70>\n",
      "('img',)\n",
      "{'cls': 'pic-frame'}\n"
     ]
    }
   ],
   "source": [
    "print(picture.func)\n",
    "print(picture.args)\n",
    "print(picture.keywords)"
   ]
  },
  {
   "cell_type": "code",
   "execution_count": null,
   "metadata": {},
   "outputs": [],
   "source": []
  }
 ],
 "metadata": {
  "kernelspec": {
   "display_name": "Python 3.8.8 ('base')",
   "language": "python",
   "name": "python3"
  },
  "language_info": {
   "codemirror_mode": {
    "name": "ipython",
    "version": 3
   },
   "file_extension": ".py",
   "mimetype": "text/x-python",
   "name": "python",
   "nbconvert_exporter": "python",
   "pygments_lexer": "ipython3",
   "version": "3.8.8"
  },
  "orig_nbformat": 4,
  "vscode": {
   "interpreter": {
    "hash": "ad2bdc8ecc057115af97d19610ffacc2b4e99fae6737bb82f5d7fb13d2f2c186"
   }
  }
 },
 "nbformat": 4,
 "nbformat_minor": 2
}
