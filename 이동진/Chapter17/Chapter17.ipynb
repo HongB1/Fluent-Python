{
 "cells": [
  {
   "attachments": {},
   "cell_type": "markdown",
   "metadata": {},
   "source": [
    "# Chapter 17 Future를 이용한 동시성\n",
    "## 17.1 예제: 세 가지 스타일의 웹 내려받기\n",
    "### 17.1.1 순차 내려받기 스크립트"
   ]
  },
  {
   "cell_type": "code",
   "execution_count": 5,
   "metadata": {},
   "outputs": [
    {
     "name": "stdout",
     "output_type": "stream",
     "text": [
      "BD BR CD CN DE EG ET FR ID IN IR JP MX NG PH PK RU TR US VN \n",
      "20 flags downloaded in 18.29s\n"
     ]
    }
   ],
   "source": [
    "import os\n",
    "import sys\n",
    "import time\n",
    "\n",
    "import requests\n",
    "\n",
    "POP20_CC = ('CN IN US ID BR PK NG BD RU JP '\n",
    "            'MX PH VN ET EG DE IR TR CD FR').split()\n",
    "BASE_URL = 'http://flupy.org/data/flags'\n",
    "DEST_DIR = 'downloads/'\n",
    "\n",
    "\n",
    "def save_flag(img, filename):\n",
    "    path = os.path.join(DEST_DIR, filename)\n",
    "    with open(path, 'wb') as fp:\n",
    "        fp.write(img)\n",
    "\n",
    "\n",
    "def get_flag(cc):\n",
    "    url = f\"{BASE_URL}/{cc.lower()}/{cc.lower()}.gif\"\n",
    "    resp = requests.get(url)\n",
    "    return resp.content\n",
    "\n",
    "\n",
    "def show(text):\n",
    "    print(text, end=' ')\n",
    "    sys.stdout.flush()\n",
    "\n",
    "\n",
    "def download_many(cc_list):\n",
    "    for cc in sorted(cc_list):\n",
    "        image = get_flag(cc)\n",
    "        show(cc)\n",
    "        save_flag(image, cc.lower() + '.gif')\n",
    "\n",
    "    return len(cc_list)\n",
    "\n",
    "\n",
    "def main(download_many):\n",
    "    t0 = time.time()\n",
    "    count = download_many(POP20_CC)\n",
    "    elapsed = time.time() - t0\n",
    "    msg = f\"\\n{count} flags downloaded in {elapsed:.2f}s\"\n",
    "    print(msg)\n",
    "\n",
    "\n",
    "main(download_many)"
   ]
  },
  {
   "attachments": {},
   "cell_type": "markdown",
   "metadata": {},
   "source": [
    "### 17.1.2 `concurrent.futures`로 내려받기"
   ]
  },
  {
   "cell_type": "code",
   "execution_count": 6,
   "metadata": {},
   "outputs": [
    {
     "name": "stdout",
     "output_type": "stream",
     "text": [
      "FR EG BR JP CD USIR  IN TR RU BD NG ID DE MX ET PKCN  PH VN \n",
      "20 flags downloaded in 1.47s\n"
     ]
    }
   ],
   "source": [
    "# 예제 17-3 futures.ThreadPoolExecutor()로 스레드화된 내려받기 스크립트\n",
    "from concurrent import futures\n",
    "\n",
    "from flags import save_flag, get_flag, show, main\n",
    "\n",
    "MAX_WORKERS = 20\n",
    "\n",
    "def download_one(cc):\n",
    "    image = get_flag(cc)\n",
    "    show(cc)\n",
    "    save_flag(image, cc.lower() + '.gif')\n",
    "    return cc\n",
    "\n",
    "\n",
    "def download_many(cc_list):\n",
    "    workers = min(MAX_WORKERS, len(cc_list))\n",
    "    with futures.ThreadPoolExecutor(workers) as executor:\n",
    "        res = executor.map(download_one, sorted(cc_list))\n",
    "    return len(list(res))\n",
    "\n",
    "main(download_many)"
   ]
  },
  {
   "attachments": {},
   "cell_type": "markdown",
   "metadata": {},
   "source": [
    "### 17.1.3 `Future`는 어디에 있나?\n",
    "암묵적으로 `Future`를 사용하지만, 이 코드에서 직접 건드리고 있지 않다.\n",
    "\n",
    "`Future` 객체는 \"대기\" 중인 작업을 큐에 넣고, 완료 상태를 조사하고, 결과(혹은 예외)를 가져올 수 있도록 캡슐화한다.\n",
    "\n",
    "\n",
    "`Future`객체의 실행이 완료되지 않았을 때, `concurrency.futures.Future` 객체는 결과가 나올 때까지 호출자의 스레드를 블로킹한다.\n",
    "\n",
    "\n",
    "`Executor.map()`이 반환하는 반복형 객체는 `__next__()`가 실행될 때마다 각 `Future` 객체의 `result()` 메서드를 호출\n",
    "\n",
    "`concurrent.futures.as_completed()` 함수는 `Future` 객체를 담은 반복형을 인수로 받아, 완료된 `Future` 객체를 생성한 반복자를 반환한다."
   ]
  },
  {
   "cell_type": "code",
   "execution_count": 9,
   "metadata": {},
   "outputs": [
    {
     "name": "stdout",
     "output_type": "stream",
     "text": [
      "Scheduler for BR: <Future at 0x105525b80 state=running>\n",
      "Scheduler for CN: <Future at 0x1055f4b50 state=running>\n",
      "Scheduler for ID: <Future at 0x1055c6370 state=running>\n",
      "Scheduler for IN: <Future at 0x1055c6250 state=pending>\n",
      "Scheduler for US: <Future at 0x1055f4850 state=pending>\n",
      "ID <Future at 0x1055c6370 state=finished returned str> result: ID\n",
      "BR CN <Future at 0x105525b80 state=finished returned str> result: BR\n",
      "<Future at 0x1055f4b50 state=finished returned str> result: CN\n",
      "IN <Future at 0x1055c6250 state=finished returned str> result: IN\n",
      "US <Future at 0x1055f4850 state=finished returned str> result: US\n",
      "\n",
      "5 flags downloaded in 1.05s\n"
     ]
    }
   ],
   "source": [
    "# 예제 17-4: download_many() 함수 안의 executor.map()을 executor.submit()과 futures.as_completed()로 대체하기\n",
    "from concurrent import futures\n",
    "\n",
    "from flags import save_flag, get_flag, show, main\n",
    "\n",
    "MAX_WORKERS = 20\n",
    "\n",
    "def download_one(cc):\n",
    "    image = get_flag(cc)\n",
    "    show(cc)\n",
    "    save_flag(image, cc.lower() + '.gif')\n",
    "    return cc\n",
    "\n",
    "def download_many(cc_list):\n",
    "    cc_list = cc_list[:5]\n",
    "    # workers = min(MAX_WORKERS, len(cc_list))\n",
    "    workers = 3\n",
    "    with futures.ThreadPoolExecutor(workers) as executor:\n",
    "        to_do = []\n",
    "        # 하나씩 직접 호출해주고, Future 객체를 저장\n",
    "        for cc in sorted(cc_list):\n",
    "            future = executor.submit(download_one, cc)\n",
    "            to_do.append(future)\n",
    "            print(f\"Scheduler for {cc}: {future}\")\n",
    "        \n",
    "        results = []\n",
    "        for future in futures.as_completed(to_do):\n",
    "            res = future.result()\n",
    "            print(f\"{future} result: {res}\")\n",
    "            results.append(res)\n",
    "    \n",
    "    return len(results)\n",
    "\n",
    "main(download_many)"
   ]
  },
  {
   "attachments": {},
   "cell_type": "markdown",
   "metadata": {},
   "source": [
    "스레드가 3개이기 때문에 첫 세 개만 `state=running`이다. 나머지 2개 `Future` 객체는 대기 중이다"
   ]
  },
  {
   "attachments": {},
   "cell_type": "markdown",
   "metadata": {},
   "source": [
    "## 17.2 블로킹 I/O와 GIL"
   ]
  },
  {
   "attachments": {},
   "cell_type": "markdown",
   "metadata": {},
   "source": [
    "## 17.3 `concurrent.futures`로 프로세스 실행하기\n",
    "- `ProcessPoolExecutor()` 클래스로 다중 프로세스도 가능하다.\n",
    "- 인자를 넘기지 않으면 `os.cpu_count()`가 반환하는 값을 사용한다."
   ]
  },
  {
   "attachments": {},
   "cell_type": "markdown",
   "metadata": {},
   "source": [
    "## 17.4 `Excutor.map()` 실험"
   ]
  },
  {
   "cell_type": "code",
   "execution_count": 4,
   "metadata": {},
   "outputs": [],
   "source": [
    "# 예제 17-6 ThreadPoolExecutor() 메서드 사용 예\n",
    "from concurrent import futures\n",
    "from time import sleep, strftime\n",
    "\n",
    "\n",
    "def display(*args):\n",
    "    print(strftime('[%H:%M:%S]'), end=' ')\n",
    "    print(*args)\n",
    "\n",
    "\n",
    "def loiter(n):\n",
    "    msg = \"{}loiter({}): doing nothing for {}s...\"\n",
    "    display(msg.format('\\t'*n, n, n))\n",
    "    sleep(n)\n",
    "    msg = \"{}loiter({}): done.\"\n",
    "    display(msg.format('\\t'*n, n))\n",
    "    return n * 10\n",
    "\n",
    "\n",
    "def main():\n",
    "    display('Script starting.')\n",
    "    executor = futures.ThreadPoolExecutor(max_workers=3)\n",
    "    results = executor.map(loiter, range(5))\n",
    "    display('results:', results)\n",
    "    display('Waiting for individual results:')\n",
    "    for i, result in enumerate(results):\n",
    "        display('result {}: {}'.format(i, result))\n",
    "        \n",
    "# main() -> 주피터에서 실행하면 출력이 겹쳐서 나옴"
   ]
  },
  {
   "attachments": {},
   "cell_type": "markdown",
   "metadata": {},
   "source": [
    "~~~\n",
    "[20:56:19] Script starting.\n",
    "[20:56:19] loiter(0): doing nothing for 0s...\n",
    "[20:56:19] loiter(0): done.\n",
    "[20:56:19]      loiter(1): doing nothing for 1s...\n",
    "[20:56:19]              loiter(2): doing nothing for 2s...\n",
    "[20:56:19]                      loiter(3): doing nothing for 3s...\n",
    "[20:56:19] results: <generator object Executor.map.<locals>.result_iterator at 0x10525b660>\n",
    "[20:56:19] Waiting for individual results:\n",
    "[20:56:19] result 0: 0\n",
    "[20:56:20]      loiter(1): done.\n",
    "[20:56:20]                              loiter(4): doing nothing for 4s...\n",
    "[20:56:20] result 1: 10\n",
    "[20:56:21]              loiter(2): done.\n",
    "[20:56:21] result 2: 20\n",
    "[20:56:22]                      loiter(3): done.\n",
    "[20:56:22] result 3: 30\n",
    "[20:56:24]                              loiter(4): done.\n",
    "[20:56:24] result 4: 40\n",
    "~~~"
   ]
  },
  {
   "attachments": {},
   "cell_type": "markdown",
   "metadata": {},
   "source": [
    "- `Executor.map()`은 함수를 호출한 순서대로 결과를 반환한다. 따라서 첫 번째로 호출한 함수가 실행 시간이 길다면, 결과를 오래 기다려야 할 수 있다.\n",
    "- `submit()` 메서드와 `futures.as_completed()` 함수를 함께 사용해야 한다."
   ]
  },
  {
   "attachments": {},
   "cell_type": "markdown",
   "metadata": {},
   "source": [
    "## 17.5 진행 상황 출력하고 에러를 처리하며 내려받기"
   ]
  },
  {
   "cell_type": "code",
   "execution_count": null,
   "metadata": {},
   "outputs": [],
   "source": []
  }
 ],
 "metadata": {
  "kernelspec": {
   "display_name": "base",
   "language": "python",
   "name": "python3"
  },
  "language_info": {
   "codemirror_mode": {
    "name": "ipython",
    "version": 3
   },
   "file_extension": ".py",
   "mimetype": "text/x-python",
   "name": "python",
   "nbconvert_exporter": "python",
   "pygments_lexer": "ipython3",
   "version": "3.8.8 (default, Apr 13 2021, 15:08:03) [MSC v.1916 64 bit (AMD64)]"
  },
  "orig_nbformat": 4,
  "vscode": {
   "interpreter": {
    "hash": "ad2bdc8ecc057115af97d19610ffacc2b4e99fae6737bb82f5d7fb13d2f2c186"
   }
  }
 },
 "nbformat": 4,
 "nbformat_minor": 2
}
