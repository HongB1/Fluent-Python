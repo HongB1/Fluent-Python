{
 "cells": [
  {
   "cell_type": "markdown",
   "metadata": {},
   "source": [
    "# Chapter 16 코루틴\n",
    "- `yield` 키워드 뒤에 표현식이 없으면 `None`을 생성\n",
    "- `next()` 대신 `send()` 메서드를 호출하면 코루틴이 호출자로부터 데이터를 받을 수 있다.\n",
    "  - `send()`를 통해 호출자가 코루틴에 값을 밀어 넣는다.\n",
    "  - 물론, 아무 데이터를 주고 받지 않을 수도 있다. 이 경우 `yield`는 실행을 제어하는 장치로서 멀티태스킹에서의 협업을 구현하기 위해 사용할 수 있다.\n",
    "- `throw()` 메서드: 제너레이터 내부에서 처리할 예외를 호출자가 발생시킬 수 있게 만듦\n",
    "- `close()` 메서드: 제너레이터 종료\n"
   ]
  },
  {
   "cell_type": "markdown",
   "metadata": {},
   "source": [
    "## 16.2 코루틴으로 사용되는 제너레이터의 기본 동작\n",
    "- 코루틴은 자신의 본체 안에 `yield` 문을 가진 일종의 제너레이터 함수로 정의된다."
   ]
  },
  {
   "cell_type": "code",
   "execution_count": 1,
   "metadata": {},
   "outputs": [],
   "source": [
    "# 예제 16-1 가장 간단한 코루틴 사용 예\n",
    "def simple_coroutine():\n",
    "    print('-> coroutine started')\n",
    "    x = yield 3\n",
    "    print('-> coroutine received: ', x)"
   ]
  },
  {
   "cell_type": "code",
   "execution_count": 2,
   "metadata": {},
   "outputs": [
    {
     "name": "stdout",
     "output_type": "stream",
     "text": [
      "<generator object simple_coroutine at 0x104e002e0>\n",
      "['__repr__', '__getattribute__', '__iter__', '__next__', '__del__', 'send', 'throw', 'close', 'gi_frame', 'gi_running', 'gi_code', '__name__', '__qualname__', 'gi_yieldfrom', '__doc__', '__hash__', '__str__', '__setattr__', '__delattr__', '__lt__', '__le__', '__eq__', '__ne__', '__gt__', '__ge__', '__init__', '__new__', '__reduce_ex__', '__reduce__', '__subclasshook__', '__init_subclass__', '__format__', '__sizeof__', '__dir__', '__class__']\n"
     ]
    }
   ],
   "source": [
    "my_co = simple_coroutine()\n",
    "print(my_co)\n",
    "print(my_co.__dir__())"
   ]
  },
  {
   "cell_type": "markdown",
   "metadata": {},
   "source": [
    "제너레이터가 아직 실행되지 않았으므로 `next()` 또는 `send(None)` 를 호출 (기동)해서 데이터를 전송할 수 있는 상태를 만든다.\n",
    "- `next()` 전에 `send(42)`를 하면 오류가 발생한다.\n",
    "- 원리는 간단하다. `send(data)`에서 data는 `yield`에 전달되는데, 아직 `yield`에 도달하지 않았기 때문이다."
   ]
  },
  {
   "cell_type": "code",
   "execution_count": 3,
   "metadata": {},
   "outputs": [
    {
     "name": "stdout",
     "output_type": "stream",
     "text": [
      "-> coroutine started\n"
     ]
    },
    {
     "data": {
      "text/plain": [
       "3"
      ]
     },
     "execution_count": 3,
     "metadata": {},
     "output_type": "execute_result"
    }
   ],
   "source": [
    "next(my_co)\n",
    "# my_co.send(None)"
   ]
  },
  {
   "cell_type": "code",
   "execution_count": 4,
   "metadata": {},
   "outputs": [
    {
     "name": "stdout",
     "output_type": "stream",
     "text": [
      "-> coroutine received:  42\n"
     ]
    },
    {
     "ename": "StopIteration",
     "evalue": "",
     "output_type": "error",
     "traceback": [
      "\u001b[0;31m---------------------------------------------------------------------------\u001b[0m",
      "\u001b[0;31mStopIteration\u001b[0m                             Traceback (most recent call last)",
      "\u001b[1;32m/Users/dongjin/Library/CloudStorage/OneDrive-postech.ac.kr/projects/fluent-python/Fluent-Python/이동진/Chapter16/Chapter16.ipynb 셀 7\u001b[0m in \u001b[0;36m<module>\u001b[0;34m\u001b[0m\n\u001b[0;32m----> <a href='vscode-notebook-cell:/Users/dongjin/Library/CloudStorage/OneDrive-postech.ac.kr/projects/fluent-python/Fluent-Python/%EC%9D%B4%EB%8F%99%EC%A7%84/Chapter16/Chapter16.ipynb#W6sZmlsZQ%3D%3D?line=0'>1</a>\u001b[0m my_co\u001b[39m.\u001b[39;49msend(\u001b[39m42\u001b[39;49m)\n",
      "\u001b[0;31mStopIteration\u001b[0m: "
     ]
    }
   ],
   "source": [
    "my_co.send(42)"
   ]
  },
  {
   "cell_type": "markdown",
   "metadata": {},
   "source": [
    "코루틴의 네 가지 상태\n",
    "- `GEN_CREATED`: 실행을 시작하기 위해 대기하고 있는 상태\n",
    "- `GEN_RUNNING`: 현재 인터프리터가 실행하고 있는 상태\n",
    "- `GEN_SUSPENDED`: 현재 `yield` 문에서 값을 생성하고 이후 값이 할당될 때까지 대기하고 있는 상태\n",
    "- `GEN_CLOSED`: 실행이 완료된 상태"
   ]
  },
  {
   "cell_type": "code",
   "execution_count": 5,
   "metadata": {},
   "outputs": [
    {
     "name": "stdout",
     "output_type": "stream",
     "text": [
      "GEN_CREATED\n"
     ]
    }
   ],
   "source": [
    "# 예제 16-2 두 번 생성하는 코루틴\n",
    "from inspect import getgeneratorstate\n",
    "\n",
    "\n",
    "def simple_coro2(a):\n",
    "    print('-> Started: a =', a)\n",
    "    b = yield a\n",
    "    print('-> Received: b =', b)\n",
    "    c = yield a + b\n",
    "    print('-> Received: c =', c)\n",
    "    \n",
    "my_coro2 = simple_coro2(14)\n",
    "print(getgeneratorstate(my_coro2))"
   ]
  },
  {
   "cell_type": "code",
   "execution_count": 6,
   "metadata": {},
   "outputs": [
    {
     "name": "stdout",
     "output_type": "stream",
     "text": [
      "-> Started: a = 14\n"
     ]
    },
    {
     "data": {
      "text/plain": [
       "14"
      ]
     },
     "execution_count": 6,
     "metadata": {},
     "output_type": "execute_result"
    }
   ],
   "source": [
    "next(my_coro2)"
   ]
  },
  {
   "cell_type": "code",
   "execution_count": 7,
   "metadata": {},
   "outputs": [
    {
     "name": "stdout",
     "output_type": "stream",
     "text": [
      "GEN_SUSPENDED\n"
     ]
    }
   ],
   "source": [
    "print(getgeneratorstate(my_coro2))"
   ]
  },
  {
   "cell_type": "code",
   "execution_count": 8,
   "metadata": {},
   "outputs": [
    {
     "name": "stdout",
     "output_type": "stream",
     "text": [
      "-> Received: b = 28\n"
     ]
    },
    {
     "data": {
      "text/plain": [
       "42"
      ]
     },
     "execution_count": 8,
     "metadata": {},
     "output_type": "execute_result"
    }
   ],
   "source": [
    "my_coro2.send(28)"
   ]
  },
  {
   "cell_type": "code",
   "execution_count": 9,
   "metadata": {},
   "outputs": [
    {
     "name": "stdout",
     "output_type": "stream",
     "text": [
      "-> Received: c = 99\n"
     ]
    },
    {
     "ename": "StopIteration",
     "evalue": "",
     "output_type": "error",
     "traceback": [
      "\u001b[0;31m---------------------------------------------------------------------------\u001b[0m",
      "\u001b[0;31mStopIteration\u001b[0m                             Traceback (most recent call last)",
      "\u001b[1;32m/Users/dongjin/Library/CloudStorage/OneDrive-postech.ac.kr/projects/fluent-python/Fluent-Python/이동진/Chapter16/Chapter16.ipynb 셀 13\u001b[0m in \u001b[0;36m<module>\u001b[0;34m\u001b[0m\n\u001b[0;32m----> <a href='vscode-notebook-cell:/Users/dongjin/Library/CloudStorage/OneDrive-postech.ac.kr/projects/fluent-python/Fluent-Python/%EC%9D%B4%EB%8F%99%EC%A7%84/Chapter16/Chapter16.ipynb#X15sZmlsZQ%3D%3D?line=0'>1</a>\u001b[0m my_coro2\u001b[39m.\u001b[39;49msend(\u001b[39m99\u001b[39;49m)\n",
      "\u001b[0;31mStopIteration\u001b[0m: "
     ]
    }
   ],
   "source": [
    "my_coro2.send(99)"
   ]
  },
  {
   "cell_type": "code",
   "execution_count": 10,
   "metadata": {},
   "outputs": [
    {
     "name": "stdout",
     "output_type": "stream",
     "text": [
      "GEN_CLOSED\n"
     ]
    }
   ],
   "source": [
    "print(getgeneratorstate(my_coro2))"
   ]
  },
  {
   "cell_type": "markdown",
   "metadata": {},
   "source": [
    "## 16.3 예제: 이동 평균을 계산하는 코루틴"
   ]
  },
  {
   "cell_type": "markdown",
   "metadata": {},
   "source": [
    "- 무한 루프이므로 호출자가 값을 보내주는 한 계속해서 값을 받고 결과를 생성\n",
    "- `close()` 메서드가 호출되거나, 객체에 대한 참조가 모두 사라져서 가비지 컬렉트되어야 종료된다"
   ]
  },
  {
   "cell_type": "code",
   "execution_count": 11,
   "metadata": {},
   "outputs": [],
   "source": [
    "# 예제 16-3 이동 평균 코루틴 코드\n",
    "def averager():\n",
    "    total = 0.0\n",
    "    count = 0\n",
    "    average = None\n",
    "    while True:\n",
    "        term = yield average\n",
    "        total += term\n",
    "        count += 1\n",
    "        average = total / count"
   ]
  },
  {
   "cell_type": "code",
   "execution_count": 12,
   "metadata": {},
   "outputs": [],
   "source": [
    "# 예제 16-4 이동 평균 코루틴에 대한 doctest\n",
    "coro_avg = averager()\n",
    "next(coro_avg)"
   ]
  },
  {
   "cell_type": "code",
   "execution_count": 13,
   "metadata": {},
   "outputs": [
    {
     "data": {
      "text/plain": [
       "10.0"
      ]
     },
     "execution_count": 13,
     "metadata": {},
     "output_type": "execute_result"
    }
   ],
   "source": [
    "coro_avg.send(10)  # 다음 yield 값 생성까지 실행되므로 10을 출력한다."
   ]
  },
  {
   "cell_type": "code",
   "execution_count": 14,
   "metadata": {},
   "outputs": [
    {
     "data": {
      "text/plain": [
       "20.0"
      ]
     },
     "execution_count": 14,
     "metadata": {},
     "output_type": "execute_result"
    }
   ],
   "source": [
    "coro_avg.send(30)"
   ]
  },
  {
   "cell_type": "code",
   "execution_count": 15,
   "metadata": {},
   "outputs": [
    {
     "data": {
      "text/plain": [
       "15.0"
      ]
     },
     "execution_count": 15,
     "metadata": {},
     "output_type": "execute_result"
    }
   ],
   "source": [
    "coro_avg.send(5)"
   ]
  },
  {
   "cell_type": "code",
   "execution_count": 16,
   "metadata": {},
   "outputs": [],
   "source": [
    "coro_avg.close()"
   ]
  },
  {
   "cell_type": "code",
   "execution_count": 17,
   "metadata": {},
   "outputs": [
    {
     "ename": "StopIteration",
     "evalue": "",
     "output_type": "error",
     "traceback": [
      "\u001b[0;31m---------------------------------------------------------------------------\u001b[0m",
      "\u001b[0;31mStopIteration\u001b[0m                             Traceback (most recent call last)",
      "\u001b[1;32m/Users/dongjin/Library/CloudStorage/OneDrive-postech.ac.kr/projects/fluent-python/Fluent-Python/이동진/Chapter16/Chapter16.ipynb 셀 23\u001b[0m in \u001b[0;36m<module>\u001b[0;34m\u001b[0m\n\u001b[0;32m----> <a href='vscode-notebook-cell:/Users/dongjin/Library/CloudStorage/OneDrive-postech.ac.kr/projects/fluent-python/Fluent-Python/%EC%9D%B4%EB%8F%99%EC%A7%84/Chapter16/Chapter16.ipynb#X31sZmlsZQ%3D%3D?line=0'>1</a>\u001b[0m \u001b[39mnext\u001b[39;49m(coro_avg)\n",
      "\u001b[0;31mStopIteration\u001b[0m: "
     ]
    }
   ],
   "source": [
    "next(coro_avg)"
   ]
  },
  {
   "cell_type": "markdown",
   "metadata": {},
   "source": [
    "## 예제 16-4 코루틴을 기동하기 위한 데커레이터"
   ]
  },
  {
   "cell_type": "code",
   "execution_count": 18,
   "metadata": {},
   "outputs": [],
   "source": [
    "# 예제 16-5 코루틴을 기동하기 위한 데커레이터\n",
    "from functools import wraps\n",
    "\n",
    "def coroutine(func):\n",
    "    \"\"\"데커레이터: `func`를 기동해서 첫 번째 `yield`까지 진행된다.\"\"\"\n",
    "    @wraps(func)\n",
    "    def primer(*args, **kwargs):\n",
    "        gen = func(*args, **kwargs)\n",
    "        next(gen)\n",
    "        return gen\n",
    "    return primer"
   ]
  },
  {
   "cell_type": "code",
   "execution_count": 19,
   "metadata": {},
   "outputs": [
    {
     "name": "stdout",
     "output_type": "stream",
     "text": [
      "GEN_SUSPENDED\n"
     ]
    },
    {
     "data": {
      "text/plain": [
       "10.0"
      ]
     },
     "execution_count": 19,
     "metadata": {},
     "output_type": "execute_result"
    }
   ],
   "source": [
    "# 예제 16-6 @coroutine 데커레이터를 사용한 이동 평균 코루틴의 doctest\n",
    "@coroutine\n",
    "def averager():\n",
    "    total = 0.0\n",
    "    count = 0\n",
    "    average = None\n",
    "    while True:\n",
    "        term = yield average\n",
    "        total += term\n",
    "        count += 1\n",
    "        average = total / count\n",
    "        \n",
    "coro_avg = averager()\n",
    "print(getgeneratorstate(coro_avg))\n",
    "coro_avg.send(10)"
   ]
  },
  {
   "cell_type": "code",
   "execution_count": 20,
   "metadata": {},
   "outputs": [
    {
     "data": {
      "text/plain": [
       "20.0"
      ]
     },
     "execution_count": 20,
     "metadata": {},
     "output_type": "execute_result"
    }
   ],
   "source": [
    "coro_avg.send(30)"
   ]
  },
  {
   "cell_type": "code",
   "execution_count": 21,
   "metadata": {},
   "outputs": [
    {
     "data": {
      "text/plain": [
       "15.0"
      ]
     },
     "execution_count": 21,
     "metadata": {},
     "output_type": "execute_result"
    }
   ],
   "source": [
    "coro_avg.send(5)"
   ]
  },
  {
   "cell_type": "markdown",
   "metadata": {},
   "source": [
    "## 16.5 코루틴 종료와 예외 처리\n",
    "코루틴 안에서 발생한 예외를 처리해주지 않으면, 예외로 인해 코루틴이 종료되고 호출자 (`coro_avg`) 등 제너레이터 객체까지 예외가 전파된다.\n",
    "호출자까지 예외가 전달되었기 때문에 더 이상 `next()`나 `send()`으로 코루틴을 다시 활성화할 수 없다."
   ]
  },
  {
   "cell_type": "code",
   "execution_count": 22,
   "metadata": {},
   "outputs": [
    {
     "ename": "TypeError",
     "evalue": "unsupported operand type(s) for +=: 'float' and 'str'",
     "output_type": "error",
     "traceback": [
      "\u001b[0;31m---------------------------------------------------------------------------\u001b[0m",
      "\u001b[0;31mTypeError\u001b[0m                                 Traceback (most recent call last)",
      "\u001b[1;32m/Users/dongjin/Library/CloudStorage/OneDrive-postech.ac.kr/projects/fluent-python/Fluent-Python/이동진/Chapter16/Chapter16.ipynb 셀 30\u001b[0m in \u001b[0;36m<module>\u001b[0;34m\u001b[0m\n\u001b[1;32m      <a href='vscode-notebook-cell:/Users/dongjin/Library/CloudStorage/OneDrive-postech.ac.kr/projects/fluent-python/Fluent-Python/%EC%9D%B4%EB%8F%99%EC%A7%84/Chapter16/Chapter16.ipynb#X41sZmlsZQ%3D%3D?line=2'>3</a>\u001b[0m coro_avg\u001b[39m.\u001b[39msend(\u001b[39m40\u001b[39m)\n\u001b[1;32m      <a href='vscode-notebook-cell:/Users/dongjin/Library/CloudStorage/OneDrive-postech.ac.kr/projects/fluent-python/Fluent-Python/%EC%9D%B4%EB%8F%99%EC%A7%84/Chapter16/Chapter16.ipynb#X41sZmlsZQ%3D%3D?line=3'>4</a>\u001b[0m coro_avg\u001b[39m.\u001b[39msend(\u001b[39m50\u001b[39m)\n\u001b[0;32m----> <a href='vscode-notebook-cell:/Users/dongjin/Library/CloudStorage/OneDrive-postech.ac.kr/projects/fluent-python/Fluent-Python/%EC%9D%B4%EB%8F%99%EC%A7%84/Chapter16/Chapter16.ipynb#X41sZmlsZQ%3D%3D?line=4'>5</a>\u001b[0m coro_avg\u001b[39m.\u001b[39;49msend(\u001b[39m'\u001b[39;49m\u001b[39mspam\u001b[39;49m\u001b[39m'\u001b[39;49m)\n",
      "\u001b[1;32m/Users/dongjin/Library/CloudStorage/OneDrive-postech.ac.kr/projects/fluent-python/Fluent-Python/이동진/Chapter16/Chapter16.ipynb 셀 30\u001b[0m in \u001b[0;36maverager\u001b[0;34m()\u001b[0m\n\u001b[1;32m      <a href='vscode-notebook-cell:/Users/dongjin/Library/CloudStorage/OneDrive-postech.ac.kr/projects/fluent-python/Fluent-Python/%EC%9D%B4%EB%8F%99%EC%A7%84/Chapter16/Chapter16.ipynb#X41sZmlsZQ%3D%3D?line=6'>7</a>\u001b[0m \u001b[39mwhile\u001b[39;00m \u001b[39mTrue\u001b[39;00m:\n\u001b[1;32m      <a href='vscode-notebook-cell:/Users/dongjin/Library/CloudStorage/OneDrive-postech.ac.kr/projects/fluent-python/Fluent-Python/%EC%9D%B4%EB%8F%99%EC%A7%84/Chapter16/Chapter16.ipynb#X41sZmlsZQ%3D%3D?line=7'>8</a>\u001b[0m     term \u001b[39m=\u001b[39m \u001b[39myield\u001b[39;00m average\n\u001b[0;32m----> <a href='vscode-notebook-cell:/Users/dongjin/Library/CloudStorage/OneDrive-postech.ac.kr/projects/fluent-python/Fluent-Python/%EC%9D%B4%EB%8F%99%EC%A7%84/Chapter16/Chapter16.ipynb#X41sZmlsZQ%3D%3D?line=8'>9</a>\u001b[0m     total \u001b[39m+\u001b[39m\u001b[39m=\u001b[39m term\n\u001b[1;32m     <a href='vscode-notebook-cell:/Users/dongjin/Library/CloudStorage/OneDrive-postech.ac.kr/projects/fluent-python/Fluent-Python/%EC%9D%B4%EB%8F%99%EC%A7%84/Chapter16/Chapter16.ipynb#X41sZmlsZQ%3D%3D?line=9'>10</a>\u001b[0m     count \u001b[39m+\u001b[39m\u001b[39m=\u001b[39m \u001b[39m1\u001b[39m\n\u001b[1;32m     <a href='vscode-notebook-cell:/Users/dongjin/Library/CloudStorage/OneDrive-postech.ac.kr/projects/fluent-python/Fluent-Python/%EC%9D%B4%EB%8F%99%EC%A7%84/Chapter16/Chapter16.ipynb#X41sZmlsZQ%3D%3D?line=10'>11</a>\u001b[0m     average \u001b[39m=\u001b[39m total \u001b[39m/\u001b[39m count\n",
      "\u001b[0;31mTypeError\u001b[0m: unsupported operand type(s) for +=: 'float' and 'str'"
     ]
    }
   ],
   "source": [
    "# 예제 16-7 처리하지 않은 예외에 의한 코루틴 종료\n",
    "coro_avg = averager()\n",
    "coro_avg.send(40)\n",
    "coro_avg.send(50)\n",
    "coro_avg.send('spam')"
   ]
  },
  {
   "cell_type": "code",
   "execution_count": 23,
   "metadata": {},
   "outputs": [
    {
     "ename": "StopIteration",
     "evalue": "",
     "output_type": "error",
     "traceback": [
      "\u001b[0;31m---------------------------------------------------------------------------\u001b[0m",
      "\u001b[0;31mStopIteration\u001b[0m                             Traceback (most recent call last)",
      "\u001b[1;32m/Users/dongjin/Library/CloudStorage/OneDrive-postech.ac.kr/projects/fluent-python/Fluent-Python/이동진/Chapter16/Chapter16.ipynb 셀 31\u001b[0m in \u001b[0;36m<module>\u001b[0;34m\u001b[0m\n\u001b[0;32m----> <a href='vscode-notebook-cell:/Users/dongjin/Library/CloudStorage/OneDrive-postech.ac.kr/projects/fluent-python/Fluent-Python/%EC%9D%B4%EB%8F%99%EC%A7%84/Chapter16/Chapter16.ipynb#X42sZmlsZQ%3D%3D?line=0'>1</a>\u001b[0m coro_avg\u001b[39m.\u001b[39;49msend(\u001b[39m60\u001b[39;49m)\n",
      "\u001b[0;31mStopIteration\u001b[0m: "
     ]
    }
   ],
   "source": [
    "coro_avg.send(60)"
   ]
  },
  {
   "cell_type": "markdown",
   "metadata": {},
   "source": [
    "`generator.throw(exc_type[, exc_value[, traceback]])`\n",
    "- 제너레이터가 중단한 곳의 `yield` 표현식에 예외를 전달\n",
    "- 제너레이터에서 전달된 예외를 처리하고 있으면, 제어 흐름이 다음 `yield` 문까지 진행\n",
    "- 제너레이터에서 전달된 예외를 처리하지 않으면, 호출자까지 예외가 전파\n",
    "\n",
    "`generator.close()`\n",
    "- 제너레이터가 중단한 `yield` 표현식이 `GeneratorExit` 예외를 발생시키게 만든다.\n",
    "- 제너레이터가 예외를 처리하지 않거나, `StopIteration` 예외를 발생시키면 아무런 에러도 호출자에 전달되지 않는다.\n",
    "- `GeneratorExit` 예외를 받으면 제너레이터는 아무런 값도 생성하지 않아야 한다. 아니면 `RuntimeError` 예외가 발생한다."
   ]
  },
  {
   "cell_type": "code",
   "execution_count": 24,
   "metadata": {},
   "outputs": [],
   "source": [
    "# 예제 16-8 코루틴의 예외 처리 방법을 설명하기 위한 제너레이터\n",
    "class DemoException(Exception):\n",
    "    \"\"\"설명에 사용할 예외 유형\"\"\"\n",
    "    \n",
    "def demo_exc_handling():\n",
    "    print('-> coroutine started')\n",
    "    while True:\n",
    "        try:\n",
    "            x = yield\n",
    "        except DemoException:\n",
    "            print(\"*** DemoException handled. Continuing...\")\n",
    "            print(x)\n",
    "        else:\n",
    "            print(f\"-> coroutine received: {x}\")\n",
    "    raise RuntimeError(\"This line should never run.\")"
   ]
  },
  {
   "cell_type": "code",
   "execution_count": 25,
   "metadata": {},
   "outputs": [
    {
     "name": "stdout",
     "output_type": "stream",
     "text": [
      "-> coroutine started\n",
      "-> coroutine received: 11\n",
      "-> coroutine received: 22\n"
     ]
    },
    {
     "data": {
      "text/plain": [
       "'GEN_CLOSED'"
      ]
     },
     "execution_count": 25,
     "metadata": {},
     "output_type": "execute_result"
    }
   ],
   "source": [
    "# 예제 16-9 예외를 발생시키지 않는 demo_exc_handling()의 활성화 및 종료\n",
    "exc_coro = demo_exc_handling()\n",
    "next(exc_coro)\n",
    "exc_coro.send(11)\n",
    "exc_coro.send(22)\n",
    "exc_coro.close()\n",
    "getgeneratorstate(exc_coro)"
   ]
  },
  {
   "cell_type": "code",
   "execution_count": 26,
   "metadata": {},
   "outputs": [
    {
     "name": "stdout",
     "output_type": "stream",
     "text": [
      "-> coroutine started\n",
      "-> coroutine received: 11\n",
      "*** DemoException handled. Continuing...\n",
      "11\n",
      "-> coroutine received: 11\n"
     ]
    }
   ],
   "source": [
    "# 예제 16-10 DemoException을 demo_exc_handling() 안에 던져도 종료되지 않는다.\n",
    "exc_coro = demo_exc_handling()\n",
    "next(exc_coro)\n",
    "exc_coro.send(11)\n",
    "exc_coro.throw(DemoException)\n",
    "exc_coro.send(11)"
   ]
  },
  {
   "cell_type": "code",
   "execution_count": 27,
   "metadata": {},
   "outputs": [
    {
     "name": "stdout",
     "output_type": "stream",
     "text": [
      "-> coroutine started\n"
     ]
    },
    {
     "ename": "Exception",
     "evalue": "",
     "output_type": "error",
     "traceback": [
      "\u001b[0;31m---------------------------------------------------------------------------\u001b[0m",
      "\u001b[0;31mException\u001b[0m                                 Traceback (most recent call last)",
      "\u001b[1;32m/Users/dongjin/Library/CloudStorage/OneDrive-postech.ac.kr/projects/fluent-python/Fluent-Python/이동진/Chapter16/Chapter16.ipynb 셀 36\u001b[0m in \u001b[0;36m<module>\u001b[0;34m\u001b[0m\n\u001b[1;32m      <a href='vscode-notebook-cell:/Users/dongjin/Library/CloudStorage/OneDrive-postech.ac.kr/projects/fluent-python/Fluent-Python/%EC%9D%B4%EB%8F%99%EC%A7%84/Chapter16/Chapter16.ipynb#X50sZmlsZQ%3D%3D?line=1'>2</a>\u001b[0m exc_coro \u001b[39m=\u001b[39m demo_exc_handling()\n\u001b[1;32m      <a href='vscode-notebook-cell:/Users/dongjin/Library/CloudStorage/OneDrive-postech.ac.kr/projects/fluent-python/Fluent-Python/%EC%9D%B4%EB%8F%99%EC%A7%84/Chapter16/Chapter16.ipynb#X50sZmlsZQ%3D%3D?line=2'>3</a>\u001b[0m \u001b[39mnext\u001b[39m(exc_coro)\n\u001b[0;32m----> <a href='vscode-notebook-cell:/Users/dongjin/Library/CloudStorage/OneDrive-postech.ac.kr/projects/fluent-python/Fluent-Python/%EC%9D%B4%EB%8F%99%EC%A7%84/Chapter16/Chapter16.ipynb#X50sZmlsZQ%3D%3D?line=3'>4</a>\u001b[0m exc_coro\u001b[39m.\u001b[39;49mthrow(\u001b[39mException\u001b[39;49;00m)\n",
      "\u001b[1;32m/Users/dongjin/Library/CloudStorage/OneDrive-postech.ac.kr/projects/fluent-python/Fluent-Python/이동진/Chapter16/Chapter16.ipynb 셀 36\u001b[0m in \u001b[0;36mdemo_exc_handling\u001b[0;34m()\u001b[0m\n\u001b[1;32m      <a href='vscode-notebook-cell:/Users/dongjin/Library/CloudStorage/OneDrive-postech.ac.kr/projects/fluent-python/Fluent-Python/%EC%9D%B4%EB%8F%99%EC%A7%84/Chapter16/Chapter16.ipynb#X50sZmlsZQ%3D%3D?line=6'>7</a>\u001b[0m \u001b[39mwhile\u001b[39;00m \u001b[39mTrue\u001b[39;00m:\n\u001b[1;32m      <a href='vscode-notebook-cell:/Users/dongjin/Library/CloudStorage/OneDrive-postech.ac.kr/projects/fluent-python/Fluent-Python/%EC%9D%B4%EB%8F%99%EC%A7%84/Chapter16/Chapter16.ipynb#X50sZmlsZQ%3D%3D?line=7'>8</a>\u001b[0m     \u001b[39mtry\u001b[39;00m:\n\u001b[0;32m----> <a href='vscode-notebook-cell:/Users/dongjin/Library/CloudStorage/OneDrive-postech.ac.kr/projects/fluent-python/Fluent-Python/%EC%9D%B4%EB%8F%99%EC%A7%84/Chapter16/Chapter16.ipynb#X50sZmlsZQ%3D%3D?line=8'>9</a>\u001b[0m         x \u001b[39m=\u001b[39m \u001b[39myield\u001b[39;00m\n\u001b[1;32m     <a href='vscode-notebook-cell:/Users/dongjin/Library/CloudStorage/OneDrive-postech.ac.kr/projects/fluent-python/Fluent-Python/%EC%9D%B4%EB%8F%99%EC%A7%84/Chapter16/Chapter16.ipynb#X50sZmlsZQ%3D%3D?line=9'>10</a>\u001b[0m     \u001b[39mexcept\u001b[39;00m DemoException:\n\u001b[1;32m     <a href='vscode-notebook-cell:/Users/dongjin/Library/CloudStorage/OneDrive-postech.ac.kr/projects/fluent-python/Fluent-Python/%EC%9D%B4%EB%8F%99%EC%A7%84/Chapter16/Chapter16.ipynb#X50sZmlsZQ%3D%3D?line=10'>11</a>\u001b[0m         \u001b[39mprint\u001b[39m(\u001b[39m\"\u001b[39m\u001b[39m*** DemoException handled. Continuing...\u001b[39m\u001b[39m\"\u001b[39m)\n",
      "\u001b[0;31mException\u001b[0m: "
     ]
    }
   ],
   "source": [
    "# 예제 16-11 자신에게 던져진 예외를 처리할 수 없으면 코루틴이 종료된다.\n",
    "exc_coro = demo_exc_handling()\n",
    "next(exc_coro)\n",
    "exc_coro.throw(Exception)"
   ]
  },
  {
   "cell_type": "code",
   "execution_count": 28,
   "metadata": {},
   "outputs": [
    {
     "ename": "StopIteration",
     "evalue": "",
     "output_type": "error",
     "traceback": [
      "\u001b[0;31m---------------------------------------------------------------------------\u001b[0m",
      "\u001b[0;31mStopIteration\u001b[0m                             Traceback (most recent call last)",
      "\u001b[1;32m/Users/dongjin/Library/CloudStorage/OneDrive-postech.ac.kr/projects/fluent-python/Fluent-Python/이동진/Chapter16/Chapter16.ipynb 셀 37\u001b[0m in \u001b[0;36m<module>\u001b[0;34m\u001b[0m\n\u001b[0;32m----> <a href='vscode-notebook-cell:/Users/dongjin/Library/CloudStorage/OneDrive-postech.ac.kr/projects/fluent-python/Fluent-Python/%EC%9D%B4%EB%8F%99%EC%A7%84/Chapter16/Chapter16.ipynb#X51sZmlsZQ%3D%3D?line=0'>1</a>\u001b[0m exc_coro\u001b[39m.\u001b[39;49msend(\u001b[39m11\u001b[39;49m)\n",
      "\u001b[0;31mStopIteration\u001b[0m: "
     ]
    }
   ],
   "source": [
    "exc_coro.send(11)"
   ]
  },
  {
   "cell_type": "markdown",
   "metadata": {},
   "source": [
    "코루틴이 어떻게 종료되든 무조건 실행해야 할 코드 (close 등 정리 코드)를 실행해야 하는 경우에는 `finally` 구문을 사용한다."
   ]
  },
  {
   "cell_type": "code",
   "execution_count": 29,
   "metadata": {},
   "outputs": [],
   "source": [
    "# 예제 16-12\n",
    "def demo_finally():\n",
    "    print('-> Coroutine started')\n",
    "    try:\n",
    "        while True:\n",
    "            try:\n",
    "                x = yield\n",
    "            except DemoException:\n",
    "                print(\"*** DemoException handled. Continuing...\")\n",
    "            else:\n",
    "                print(f'-> Coroutine received: {x}')\n",
    "    finally:\n",
    "        print(\"-> Coroutine ending\")"
   ]
  },
  {
   "cell_type": "markdown",
   "metadata": {},
   "source": [
    "## 16-6 코루틴에서 값 반환하기"
   ]
  },
  {
   "cell_type": "code",
   "execution_count": 30,
   "metadata": {},
   "outputs": [],
   "source": [
    "# 16-13 결과를 반환하는 average() 코루틴 코드\n",
    "from collections import namedtuple\n",
    "\n",
    "Result = namedtuple('Result', 'count average')\n",
    "\n",
    "def averager():\n",
    "    total = 0.0\n",
    "    count = 0\n",
    "    average = None\n",
    "    while True:\n",
    "        term = yield\n",
    "        if term is None:\n",
    "            break\n",
    "        total += term\n",
    "        count += 1\n",
    "        average = total / count\n",
    "        print(f'Current average: {average}')\n",
    "    return Result(count, average)"
   ]
  },
  {
   "cell_type": "code",
   "execution_count": 31,
   "metadata": {},
   "outputs": [
    {
     "name": "stdout",
     "output_type": "stream",
     "text": [
      "Current average: 10.0\n",
      "Current average: 20.0\n",
      "Current average: 15.5\n"
     ]
    },
    {
     "ename": "StopIteration",
     "evalue": "Result(count=3, average=15.5)",
     "output_type": "error",
     "traceback": [
      "\u001b[0;31m---------------------------------------------------------------------------\u001b[0m",
      "\u001b[0;31mStopIteration\u001b[0m                             Traceback (most recent call last)",
      "\u001b[1;32m/Users/dongjin/Library/CloudStorage/OneDrive-postech.ac.kr/projects/fluent-python/Fluent-Python/이동진/Chapter16/Chapter16.ipynb 셀 42\u001b[0m in \u001b[0;36m<module>\u001b[0;34m\u001b[0m\n\u001b[1;32m      <a href='vscode-notebook-cell:/Users/dongjin/Library/CloudStorage/OneDrive-postech.ac.kr/projects/fluent-python/Fluent-Python/%EC%9D%B4%EB%8F%99%EC%A7%84/Chapter16/Chapter16.ipynb#X56sZmlsZQ%3D%3D?line=4'>5</a>\u001b[0m coro_avg\u001b[39m.\u001b[39msend(\u001b[39m30\u001b[39m)\n\u001b[1;32m      <a href='vscode-notebook-cell:/Users/dongjin/Library/CloudStorage/OneDrive-postech.ac.kr/projects/fluent-python/Fluent-Python/%EC%9D%B4%EB%8F%99%EC%A7%84/Chapter16/Chapter16.ipynb#X56sZmlsZQ%3D%3D?line=5'>6</a>\u001b[0m coro_avg\u001b[39m.\u001b[39msend(\u001b[39m6.5\u001b[39m)\n\u001b[0;32m----> <a href='vscode-notebook-cell:/Users/dongjin/Library/CloudStorage/OneDrive-postech.ac.kr/projects/fluent-python/Fluent-Python/%EC%9D%B4%EB%8F%99%EC%A7%84/Chapter16/Chapter16.ipynb#X56sZmlsZQ%3D%3D?line=6'>7</a>\u001b[0m coro_avg\u001b[39m.\u001b[39;49msend(\u001b[39mNone\u001b[39;49;00m)\n",
      "\u001b[0;31mStopIteration\u001b[0m: Result(count=3, average=15.5)"
     ]
    }
   ],
   "source": [
    "# 예제 16-14 averager()의 동작을 보여주는 예제\n",
    "coro_avg = averager()\n",
    "next(coro_avg)\n",
    "coro_avg.send(10)\n",
    "coro_avg.send(30)\n",
    "coro_avg.send(6.5)\n",
    "coro_avg.send(None)"
   ]
  },
  {
   "cell_type": "code",
   "execution_count": 32,
   "metadata": {},
   "outputs": [
    {
     "name": "stdout",
     "output_type": "stream",
     "text": [
      "Current average: 10.0\n",
      "Current average: 20.0\n",
      "Current average: 15.5\n"
     ]
    },
    {
     "data": {
      "text/plain": [
       "Result(count=3, average=15.5)"
      ]
     },
     "execution_count": 32,
     "metadata": {},
     "output_type": "execute_result"
    }
   ],
   "source": [
    "# 예제 16-15 StopIteration을 잡으면 averager()가 반환하는 값을 가져올 수 있다.\n",
    "# 예제 16-14 averager()의 동작을 보여주는 예제\n",
    "coro_avg = averager()\n",
    "next(coro_avg)\n",
    "coro_avg.send(10)\n",
    "coro_avg.send(30)\n",
    "coro_avg.send(6.5)\n",
    "try:\n",
    "    coro_avg.send(None)\n",
    "except StopIteration as exc:\n",
    "    result = exc.value\n",
    "result"
   ]
  },
  {
   "cell_type": "markdown",
   "metadata": {},
   "source": [
    "## 16.7 `yield from` 사용하기\n",
    "- `yield from`은 `yield`와 다른 완전히 새로운 언어 구성체이며 `yield`보다 더 많은 일을 한다. 다른 언어에서 `await`와 유사하다.\n",
    "\n",
    "`yield from` 구성체는 `StopIteration` 예외를 내부적으로 잡아서 자동으로 처리한다.\n",
    "- `for` 루프가 제너레이터가 모두 소진되었을 때 `StopIteration`을 처리하는 것과 유사하다.\n",
    "- 예외의 `value` 속성 (`exc.value`)을 반환한다.\n",
    "\n",
    "- `gen()`이 `yield from subegn()`을 호출하고, `subgen()`이 이어받아 값을 생성하고 `gen()`의 호출자에 반환한다.\n",
    "  - 실질적으로 `subgen()`이 직접 호출자를 이끈다. 그러는 동안 `gen()`은 `subgen()`이 종료될 떄까지 실행을 중단한다."
   ]
  },
  {
   "cell_type": "code",
   "execution_count": 33,
   "metadata": {},
   "outputs": [
    {
     "data": {
      "text/plain": [
       "['A', 'B', 'C', 0, 1, 2]"
      ]
     },
     "execution_count": 33,
     "metadata": {},
     "output_type": "execute_result"
    }
   ],
   "source": [
    "# 예제 16-16 yield from으로 반복형 객체를 연결하기\n",
    "def chain(*iterables):\n",
    "    for it in iterables:\n",
    "        yield from it\n",
    "        \n",
    "s = 'ABC'\n",
    "t = tuple(range(3))\n",
    "list(chain(s, t))"
   ]
  },
  {
   "cell_type": "markdown",
   "metadata": {},
   "source": [
    "- `yield from x` 표현식이 `x` 객체에 대해 첫 번째로 하는 일은 `iter(x)`를 호출해서 `x`의 반복자를 가져오는 것이다.\n",
    "- `yield from`의 가장 바깥쪽 호출자와 가장 안쪽에 있는 하위 제너레이터 사이에 양방향 채널을 열어준다는 것이다.\n",
    "- 모든 `yield from` 체인은 가장 바깥쪽 대표 제너레이터에 `next()`와 `send()`를 호출하는 클라이언트에 의해 주도된다.\n",
    "\n",
    "<br>\n",
    "\n",
    "- 대표 제너레이터: `yield from <반복형>` 표현식을 담고 있는 제너레이터 함수\n",
    "- 하위 제너레이터: `yield from <반복형>` 중 <반복형>에서 가져오는 제너레이터\n",
    "- 호출자: 대표제너레이터를 호출하는 코드"
   ]
  },
  {
   "cell_type": "code",
   "execution_count": 34,
   "metadata": {},
   "outputs": [
    {
     "name": "stdout",
     "output_type": "stream",
     "text": [
      " 9boys  average 40.42kg\n",
      " 9boys  average 1.39m\n",
      "10girls average 42.04kg\n",
      "10girls average 1.43m\n"
     ]
    }
   ],
   "source": [
    "# 예제 16-17 yield from을 이용해서 averager()를 구동하고 보고서 생성하기\n",
    "from collections import namedtuple\n",
    "\n",
    "Result = namedtuple('Result', 'count average')\n",
    "\n",
    "data = {\n",
    "    'girls;kg':\n",
    "        [40.9, 38.5, 44.3, 42.2, 45.2, 41.7, 44.5, 38.0, 40.6, 44.5],\n",
    "    'girls;m':\n",
    "        [1.6, 1.51, 1.4, 1.3, 1.41, 1.39, 1.33, 1.46, 1.45, 1.43],\n",
    "    'boys;kg':\n",
    "        [39.0, 40.8, 43.2, 40.8, 43.1, 38.6, 41.4, 40.6, 36.3],\n",
    "    'boys;m':\n",
    "        [1.38, 1.5, 1.32, 1.25, 1.37, 1.48, 1.25, 1.49, 1.46],\n",
    "}\n",
    "\n",
    "\n",
    "# 대표 제너레이터\n",
    "def grouper(results, key):\n",
    "    while True:\n",
    "        results[key] = yield from averager()\n",
    "\n",
    "# 하위 제너레이터\n",
    "def averager():\n",
    "    total = 0.0\n",
    "    count = 0\n",
    "    average = None\n",
    "    while True:\n",
    "        term = yield\n",
    "        if term is None:\n",
    "            break\n",
    "        total += term\n",
    "        count += 1\n",
    "        average = total / count\n",
    "    return Result(count, average)\n",
    "    \n",
    "    \n",
    "def report(results):\n",
    "    for key, result in sorted(results.items()):\n",
    "        group, unit = key.split(';')\n",
    "        print(f\"{result.count:2}{group:5} average {result.average:.2f}{unit}\")\n",
    "\n",
    "\n",
    "# 호출자\n",
    "def main(data):\n",
    "    results = {}\n",
    "    for key, values in data.items():\n",
    "        group = grouper(results, key)\n",
    "        next(group)\n",
    "        for value in values:\n",
    "            group.send(value)\n",
    "        group.send(None)\n",
    "    report(results)\n",
    "    \n",
    "main(data)"
   ]
  },
  {
   "cell_type": "markdown",
   "metadata": {},
   "source": [
    "~~~python\n",
    "results = {}\n",
    "for key, values in data.items():\n",
    "    group = grouper(results, key)\n",
    "    next(group)\n",
    "~~~\n",
    "\n",
    "-> `group` 변수에 `grouper()` 제너레이터 객체를 할당하고 `next(group)`을 통해 기동\n",
    "\n",
    "<br>\n",
    "\n",
    "~~~python\n",
    "while True:\n",
    "    results[key] = yield from averager()\n",
    "~~~\n",
    "-> 하위 제너레이터 `averager()`를 호출 후 `yield from`에서 대기\n",
    "\n",
    "<br>\n",
    "\n",
    "~~~python\n",
    "results = {}\n",
    "for key, values in data.items():\n",
    "    group = grouper(results, key)\n",
    "    next(group)\n",
    "    for value in values:\n",
    "        group.send(value)\n",
    "    group(None)\n",
    "~~~\n",
    "-> `value`가 하위 제너레이터인 `averager()`의 `yield` 문에 값이 전달된다...!<br>\n",
    "-> `values` 리스트의 값들을 다 전송 후 `None`을 전송하여 `averager()` 제너레이터가 `return` 문까지 진행시키고, 이를 `results[key]`에 저장한다."
   ]
  },
  {
   "cell_type": "markdown",
   "metadata": {},
   "source": [
    "## 16.8 `yield from`의 의미\n",
    "- 클라이언트 (호출자, 주로 main() 함수)가 `next()`와 `send()` 뿐만 아니라 `throw()`와 `close()`를 호출할 수도 있다.\n",
    "  - 만약 하위 제너레이터가 `throw()`와 `close()` 메서드가 없는 단순한 반복형 경우일 경우 `yield from` 논리에서 처리해줘야 한다."
   ]
  },
  {
   "cell_type": "markdown",
   "metadata": {},
   "source": [
    "책 참조."
   ]
  },
  {
   "cell_type": "markdown",
   "metadata": {},
   "source": [
    "## 16.9 사용 사례: 이산 이벤트 시뮬레이션을 위한 코루틴\n",
    "### 16.9.1 이산 이벤트 시뮬레이션\n",
    "- **연속 시뮬레이션**\n",
    "  - 단위 시간마다 시스템의 상태가 기록된다. \n",
    "  - 단위 시간만큼 시간이 흐르면서 이벤트가 발생하고 시스템의 상태가 바뀌게 된다.\n",
    "  - 다중 스레드를 이용해서 구현\n",
    "- **이산 이벤트 시뮬리에션**\n",
    "  - 이벤트 단위마다 시스템의 상태가 기록된다.\n",
    "  - 코루틴을 사용해서 구현 \n",
    "\n",
    "### 16.9.2 택시 집단 시뮬레이션\n",
    "이벤트\n",
    "- Leaving garage\n",
    "- Picking up passenger\n",
    "- Drop off passenger\n",
    "- Going home\n",
    "\n",
    "디테일\n",
    "- 승객을 태우기까지의 시간과 운행 시간은 지수 분포를 이용해서 생성 \n",
    "- 각 택시는 앞 차가 출발한지 5분후에 차고를 출발한다.\n"
   ]
  },
  {
   "cell_type": "code",
   "execution_count": 35,
   "metadata": {},
   "outputs": [],
   "source": [
    "import collections\n",
    "\n",
    "Event = collections.namedtuple('Event', 'time proc action')"
   ]
  },
  {
   "cell_type": "markdown",
   "metadata": {},
   "source": [
    "`taxi_process()`: 각 택시마다 한 번씩 호출되어 택시의 행동을 나타내는 제너레이터"
   ]
  },
  {
   "cell_type": "code",
   "execution_count": 36,
   "metadata": {},
   "outputs": [],
   "source": [
    "# 예제 16-20 각 택시의 행동을 구현하는 taxi_process() 코루틴\n",
    "def taxi_process(ident, trips, start_time=0):\n",
    "    \"\"\"각 단계 변화마다 이벤트를 생성하며 시뮬레이터에 제어권을 넘긴다.\"\"\"\n",
    "    time = yield Event(start_time, ident, 'leave garage')  # 출발 이벤트를 넘겨주고, 탑승 이벤트 발생 시간을 넘겨 받는다.\n",
    "    for i in range(trips):\n",
    "        time = yield Event(time, ident, 'pick up passenger')  # 탑승 이벤트를 넘겨주고, 하차 이벤트 발생 시간을 넘겨 받는다.\n",
    "        time = yield Event(time, ident, 'drop off passenger')  # 하차 이벤트를 넘겨주고, 탑승 또는 귀가 이벤트 발생 시간을 넘겨 받는다.\n",
    "    yield Event(time, ident, 'going home')"
   ]
  },
  {
   "cell_type": "code",
   "execution_count": 37,
   "metadata": {},
   "outputs": [
    {
     "data": {
      "text/plain": [
       "Event(time=0, proc=13, action='leave garage')"
      ]
     },
     "execution_count": 37,
     "metadata": {},
     "output_type": "execute_result"
    }
   ],
   "source": [
    "# 예제 16-21 taxi_process() 코루틴 돌려보기\n",
    "taxi = taxi_process(ident=13, trips=2, start_time=0)\n",
    "next(taxi)"
   ]
  },
  {
   "cell_type": "code",
   "execution_count": 38,
   "metadata": {},
   "outputs": [
    {
     "data": {
      "text/plain": [
       "Event(time=7, proc=13, action='pick up passenger')"
      ]
     },
     "execution_count": 38,
     "metadata": {},
     "output_type": "execute_result"
    }
   ],
   "source": [
    "taxi.send(_.time + 7)"
   ]
  },
  {
   "cell_type": "code",
   "execution_count": 39,
   "metadata": {},
   "outputs": [
    {
     "data": {
      "text/plain": [
       "Event(time=30, proc=13, action='drop off passenger')"
      ]
     },
     "execution_count": 39,
     "metadata": {},
     "output_type": "execute_result"
    }
   ],
   "source": [
    "taxi.send(_.time + 23)"
   ]
  },
  {
   "cell_type": "code",
   "execution_count": 40,
   "metadata": {},
   "outputs": [
    {
     "data": {
      "text/plain": [
       "Event(time=35, proc=13, action='pick up passenger')"
      ]
     },
     "execution_count": 40,
     "metadata": {},
     "output_type": "execute_result"
    }
   ],
   "source": [
    "taxi.send(_.time + 5)"
   ]
  },
  {
   "cell_type": "code",
   "execution_count": 41,
   "metadata": {},
   "outputs": [
    {
     "data": {
      "text/plain": [
       "Event(time=83, proc=13, action='drop off passenger')"
      ]
     },
     "execution_count": 41,
     "metadata": {},
     "output_type": "execute_result"
    }
   ],
   "source": [
    "taxi.send(_.time + 48)"
   ]
  },
  {
   "cell_type": "code",
   "execution_count": 42,
   "metadata": {},
   "outputs": [
    {
     "data": {
      "text/plain": [
       "Event(time=88, proc=13, action='going home')"
      ]
     },
     "execution_count": 42,
     "metadata": {},
     "output_type": "execute_result"
    }
   ],
   "source": [
    "taxi.send(_.time + 5)"
   ]
  },
  {
   "cell_type": "code",
   "execution_count": 43,
   "metadata": {},
   "outputs": [
    {
     "ename": "StopIteration",
     "evalue": "",
     "output_type": "error",
     "traceback": [
      "\u001b[0;31m---------------------------------------------------------------------------\u001b[0m",
      "\u001b[0;31mStopIteration\u001b[0m                             Traceback (most recent call last)",
      "\u001b[1;32m/Users/dongjin/Library/CloudStorage/OneDrive-postech.ac.kr/projects/fluent-python/Fluent-Python/이동진/Chapter16/Chapter16.ipynb 셀 61\u001b[0m in \u001b[0;36m<module>\u001b[0;34m\u001b[0m\n\u001b[0;32m----> <a href='vscode-notebook-cell:/Users/dongjin/Library/CloudStorage/OneDrive-postech.ac.kr/projects/fluent-python/Fluent-Python/%EC%9D%B4%EB%8F%99%EC%A7%84/Chapter16/Chapter16.ipynb#Y114sZmlsZQ%3D%3D?line=0'>1</a>\u001b[0m taxi\u001b[39m.\u001b[39;49msend(_\u001b[39m.\u001b[39;49mtime \u001b[39m+\u001b[39;49m \u001b[39m10\u001b[39;49m)\n",
      "\u001b[0;31mStopIteration\u001b[0m: "
     ]
    }
   ],
   "source": [
    "taxi.send(_.time + 10)"
   ]
  },
  {
   "cell_type": "code",
   "execution_count": 44,
   "metadata": {},
   "outputs": [
    {
     "name": "stdout",
     "output_type": "stream",
     "text": [
      "Taxi:  0  Event(time=0, proc=0, action='leave garage')\n",
      "Taxi:  0  Event(time=2, proc=0, action='pick up passenger')\n",
      "Taxi:  1     Event(time=5, proc=1, action='leave garage')\n",
      "Taxi:  1     Event(time=8, proc=1, action='pick up passenger')\n",
      "Taxi:  2        Event(time=10, proc=2, action='leave garage')\n",
      "Taxi:  2        Event(time=15, proc=2, action='pick up passenger')\n",
      "Taxi:  2        Event(time=17, proc=2, action='drop off passenger')\n",
      "Taxi:  0  Event(time=18, proc=0, action='drop off passenger')\n",
      "Taxi:  2        Event(time=18, proc=2, action='pick up passenger')\n",
      "Taxi:  2        Event(time=25, proc=2, action='drop off passenger')\n",
      "Taxi:  1     Event(time=27, proc=1, action='drop off passenger')\n",
      "Taxi:  2        Event(time=27, proc=2, action='pick up passenger')\n",
      "Taxi:  0  Event(time=28, proc=0, action='pick up passenger')\n",
      "Taxi:  2        Event(time=40, proc=2, action='drop off passenger')\n",
      "Taxi:  2        Event(time=44, proc=2, action='pick up passenger')\n",
      "Taxi:  1     Event(time=55, proc=1, action='pick up passenger')\n",
      "Taxi:  1     Event(time=59, proc=1, action='drop off passenger')\n",
      "Taxi:  0  Event(time=65, proc=0, action='drop off passenger')\n",
      "Taxi:  1     Event(time=65, proc=1, action='pick up passenger')\n",
      "Taxi:  2        Event(time=65, proc=2, action='drop off passenger')\n",
      "Taxi:  2        Event(time=72, proc=2, action='pick up passenger')\n",
      "Taxi:  0  Event(time=76, proc=0, action='going home')\n",
      "Taxi:  1     Event(time=80, proc=1, action='drop off passenger')\n",
      "Taxi:  1     Event(time=88, proc=1, action='pick up passenger')\n",
      "Taxi:  2        Event(time=95, proc=2, action='drop off passenger')\n",
      "Taxi:  2        Event(time=97, proc=2, action='pick up passenger')\n",
      "Taxi:  2        Event(time=98, proc=2, action='drop off passenger')\n",
      "Taxi:  1     Event(time=106, proc=1, action='drop off passenger')\n",
      "Taxi:  2        Event(time=109, proc=2, action='going home')\n",
      "Taxi:  1     Event(time=110, proc=1, action='going home')\n",
      "*** end of events ***\n"
     ]
    }
   ],
   "source": [
    "# 예제 16-23 기본 뼈대를 갖춘 Simulator 클래스\n",
    "import queue\n",
    "import random\n",
    "\n",
    "\n",
    "DEPARTURE_INTERVAL = 5\n",
    "SEARCH_DURATION = 5\n",
    "TRIP_DURATION = 20\n",
    "DEFAULT_END_TIME = 180\n",
    "DEFAULT_NUMBER_OF_TAXIS = 3\n",
    "\n",
    "\n",
    "def compute_duration(previous_action):\n",
    "    if previous_action in ['leave garage', 'drop off passenger']:\n",
    "        interval = SEARCH_DURATION\n",
    "    elif previous_action == 'pick up passenger':\n",
    "        interval = TRIP_DURATION\n",
    "    elif previous_action == 'going home':\n",
    "        interval = 1\n",
    "    else:\n",
    "        raise ValueError(f\"Unknown previous action: {previous_action}\")\n",
    "    return int(random.expovariate(1/interval)) + 1\n",
    "    \n",
    "\n",
    "class Simulator:\n",
    "    def __init__(self, procs_map):\n",
    "        self.events = queue.PriorityQueue()\n",
    "        self.procs = dict(procs_map)\n",
    "    \n",
    "    def run(self, end_time):\n",
    "        # 각 택시의 첫 번째 이벤트 스케줄링\n",
    "        for _, proc in sorted(self.procs.items()):\n",
    "            first_event = next(proc)\n",
    "            self.events.put(first_event)\n",
    "        \n",
    "        # 시뮬레이션 핵심 루프\n",
    "        sim_time = 0\n",
    "        while sim_time < end_time:\n",
    "            if self.events.empty():\n",
    "                print(\"*** end of events ***\")\n",
    "                break\n",
    "            \n",
    "            current_event = self.events.get()\n",
    "            sim_time, proc_id, previous_action = current_event\n",
    "            print(\"Taxi: \", proc_id, proc_id * '   ', current_event)\n",
    "            active_proc = self.procs[proc_id]\n",
    "            next_time = sim_time + compute_duration(previous_action)\n",
    "            try:\n",
    "                next_event = active_proc.send(next_time)\n",
    "            except StopIteration:\n",
    "                del self.procs[proc_id]  # 귀가 후에 send()시 발생하니깐 지워주기\n",
    "            else:\n",
    "                self.events.put(next_event)\n",
    "        else:\n",
    "            msg = \"*** end of simulation time: {} events pending\"\n",
    "            print(msg.format(self.events.qsize()))    \n",
    "\n",
    "\n",
    "random.seed(3)\n",
    "taxis = {i: taxi_process(i, (i + 1) * 2, i * DEPARTURE_INTERVAL) \n",
    "         for i in range(DEFAULT_NUMBER_OF_TAXIS)}\n",
    "sim = Simulator(taxis)\n",
    "sim.run(DEFAULT_END_TIME)\n",
    "    "
   ]
  },
  {
   "cell_type": "code",
   "execution_count": 45,
   "metadata": {},
   "outputs": [
    {
     "name": "stdout",
     "output_type": "stream",
     "text": [
      ">>  100\n"
     ]
    }
   ],
   "source": [
    "# 하위 제너레이터. 사용자에게 받은 데이터를 받아서 제곱을 출력함\n",
    "# 접근할 수 없는 private 함수라고 가정\n",
    "def _writer():\n",
    "    \"\"\"A coroutine that writes data *sent* to it to fd, socket, etc.\"\"\"\n",
    "    while True:\n",
    "        w = (yield)\n",
    "        print('>> ', w ** 2)\n",
    "        \n",
    "gen = _writer()\n",
    "next(gen)\n",
    "gen.send(10)"
   ]
  },
  {
   "cell_type": "code",
   "execution_count": 46,
   "metadata": {},
   "outputs": [
    {
     "name": "stdout",
     "output_type": "stream",
     "text": [
      ">>  100\n"
     ]
    }
   ],
   "source": [
    "# 하위 제너레이터. 사용자에게 받은 데이터를 받아서 제곱을 출력함\n",
    "# 접근할 수 없는 private 함수라고 가정\n",
    "def _writer():\n",
    "    \"\"\"A coroutine that writes data *sent* to it to fd, socket, etc.\"\"\"\n",
    "    while True:\n",
    "        w = (yield)\n",
    "        print('>> ', w ** 2)\n",
    "\n",
    "# 대표 제너레이터. 사용자에게 데이터를 받아서, _writer에게 보냄\n",
    "# 접근할 수 있는 공개 함수\n",
    "def writer_wrapper():\n",
    "    gen = _writer()\n",
    "    next(gen)\n",
    "    while True:\n",
    "        x = (yield)\n",
    "        gen.send(x)\n",
    "\n",
    "# 호출자\n",
    "gen = writer_wrapper()\n",
    "next(gen)\n",
    "gen.send( 10 )  # read_data를 통해, _get_data()에 10을 보내서 10 ** 2를 받고 싶음"
   ]
  },
  {
   "cell_type": "code",
   "execution_count": 47,
   "metadata": {},
   "outputs": [
    {
     "name": "stdout",
     "output_type": "stream",
     "text": [
      ">>  9\n"
     ]
    }
   ],
   "source": [
    "gen.send(3)"
   ]
  },
  {
   "cell_type": "code",
   "execution_count": 48,
   "metadata": {},
   "outputs": [
    {
     "name": "stdout",
     "output_type": "stream",
     "text": [
      ">>  81\n"
     ]
    }
   ],
   "source": [
    "gen.send(9)"
   ]
  },
  {
   "cell_type": "code",
   "execution_count": 49,
   "metadata": {},
   "outputs": [
    {
     "name": "stdout",
     "output_type": "stream",
     "text": [
      ">>  0\n",
      ">>  1\n",
      ">>  2\n"
     ]
    },
    {
     "ename": "SpamException",
     "evalue": "",
     "output_type": "error",
     "traceback": [
      "\u001b[0;31m---------------------------------------------------------------------------\u001b[0m",
      "\u001b[0;31mSpamException\u001b[0m                             Traceback (most recent call last)",
      "\u001b[1;32m/Users/dongjin/Library/CloudStorage/OneDrive-postech.ac.kr/projects/fluent-python/Fluent-Python/이동진/Chapter16/Chapter16.ipynb 셀 67\u001b[0m in \u001b[0;36m<module>\u001b[0;34m\u001b[0m\n\u001b[1;32m     <a href='vscode-notebook-cell:/Users/dongjin/Library/CloudStorage/OneDrive-postech.ac.kr/projects/fluent-python/Fluent-Python/%EC%9D%B4%EB%8F%99%EC%A7%84/Chapter16/Chapter16.ipynb#Y125sZmlsZQ%3D%3D?line=22'>23</a>\u001b[0m \u001b[39mfor\u001b[39;00m i \u001b[39min\u001b[39;00m [\u001b[39m0\u001b[39m, \u001b[39m1\u001b[39m, \u001b[39m2\u001b[39m, \u001b[39m'\u001b[39m\u001b[39mspam\u001b[39m\u001b[39m'\u001b[39m, \u001b[39m4\u001b[39m]:\n\u001b[1;32m     <a href='vscode-notebook-cell:/Users/dongjin/Library/CloudStorage/OneDrive-postech.ac.kr/projects/fluent-python/Fluent-Python/%EC%9D%B4%EB%8F%99%EC%A7%84/Chapter16/Chapter16.ipynb#Y125sZmlsZQ%3D%3D?line=23'>24</a>\u001b[0m     \u001b[39mif\u001b[39;00m i \u001b[39m==\u001b[39m \u001b[39m'\u001b[39m\u001b[39mspam\u001b[39m\u001b[39m'\u001b[39m:\n\u001b[0;32m---> <a href='vscode-notebook-cell:/Users/dongjin/Library/CloudStorage/OneDrive-postech.ac.kr/projects/fluent-python/Fluent-Python/%EC%9D%B4%EB%8F%99%EC%A7%84/Chapter16/Chapter16.ipynb#Y125sZmlsZQ%3D%3D?line=24'>25</a>\u001b[0m         wrap\u001b[39m.\u001b[39;49mthrow(SpamException)\n\u001b[1;32m     <a href='vscode-notebook-cell:/Users/dongjin/Library/CloudStorage/OneDrive-postech.ac.kr/projects/fluent-python/Fluent-Python/%EC%9D%B4%EB%8F%99%EC%A7%84/Chapter16/Chapter16.ipynb#Y125sZmlsZQ%3D%3D?line=25'>26</a>\u001b[0m     \u001b[39melse\u001b[39;00m:\n\u001b[1;32m     <a href='vscode-notebook-cell:/Users/dongjin/Library/CloudStorage/OneDrive-postech.ac.kr/projects/fluent-python/Fluent-Python/%EC%9D%B4%EB%8F%99%EC%A7%84/Chapter16/Chapter16.ipynb#Y125sZmlsZQ%3D%3D?line=26'>27</a>\u001b[0m         wrap\u001b[39m.\u001b[39msend(i)\n",
      "\u001b[1;32m/Users/dongjin/Library/CloudStorage/OneDrive-postech.ac.kr/projects/fluent-python/Fluent-Python/이동진/Chapter16/Chapter16.ipynb 셀 67\u001b[0m in \u001b[0;36mwriter_wrapper\u001b[0;34m()\u001b[0m\n\u001b[1;32m     <a href='vscode-notebook-cell:/Users/dongjin/Library/CloudStorage/OneDrive-postech.ac.kr/projects/fluent-python/Fluent-Python/%EC%9D%B4%EB%8F%99%EC%A7%84/Chapter16/Chapter16.ipynb#Y125sZmlsZQ%3D%3D?line=15'>16</a>\u001b[0m \u001b[39mnext\u001b[39m(gen)\n\u001b[1;32m     <a href='vscode-notebook-cell:/Users/dongjin/Library/CloudStorage/OneDrive-postech.ac.kr/projects/fluent-python/Fluent-Python/%EC%9D%B4%EB%8F%99%EC%A7%84/Chapter16/Chapter16.ipynb#Y125sZmlsZQ%3D%3D?line=16'>17</a>\u001b[0m \u001b[39mwhile\u001b[39;00m \u001b[39mTrue\u001b[39;00m:\n\u001b[0;32m---> <a href='vscode-notebook-cell:/Users/dongjin/Library/CloudStorage/OneDrive-postech.ac.kr/projects/fluent-python/Fluent-Python/%EC%9D%B4%EB%8F%99%EC%A7%84/Chapter16/Chapter16.ipynb#Y125sZmlsZQ%3D%3D?line=17'>18</a>\u001b[0m     x \u001b[39m=\u001b[39m (\u001b[39myield\u001b[39;00m)\n\u001b[1;32m     <a href='vscode-notebook-cell:/Users/dongjin/Library/CloudStorage/OneDrive-postech.ac.kr/projects/fluent-python/Fluent-Python/%EC%9D%B4%EB%8F%99%EC%A7%84/Chapter16/Chapter16.ipynb#Y125sZmlsZQ%3D%3D?line=18'>19</a>\u001b[0m     gen\u001b[39m.\u001b[39msend(x)\n",
      "\u001b[0;31mSpamException\u001b[0m: "
     ]
    }
   ],
   "source": [
    "class SpamException(Exception):\n",
    "    pass\n",
    "\n",
    "def _writer():\n",
    "    while True:\n",
    "        try:\n",
    "            w = (yield)\n",
    "        except SpamException:\n",
    "            print('***')\n",
    "        else:\n",
    "            print('>> ', w)\n",
    "\n",
    "\n",
    "def writer_wrapper():\n",
    "    gen = _writer()\n",
    "    next(gen)\n",
    "    while True:\n",
    "        x = (yield)\n",
    "        gen.send(x)\n",
    "\n",
    "wrap = writer_wrapper()\n",
    "wrap.send(None)  # \"prime\" the coroutine\n",
    "for i in [0, 1, 2, 'spam', 4]:\n",
    "    if i == 'spam':\n",
    "        wrap.throw(SpamException)\n",
    "    else:\n",
    "        wrap.send(i)"
   ]
  },
  {
   "cell_type": "code",
   "execution_count": 50,
   "metadata": {},
   "outputs": [
    {
     "name": "stdout",
     "output_type": "stream",
     "text": [
      ">>  0\n",
      ">>  1\n",
      ">>  2\n",
      "***\n",
      ">>  4\n"
     ]
    }
   ],
   "source": [
    "class SpamException(Exception):\n",
    "    pass\n",
    "\n",
    "def _writer():\n",
    "    while True:\n",
    "        try:\n",
    "            w = (yield)\n",
    "        except SpamException:\n",
    "            print('***')\n",
    "        else:\n",
    "            print('>> ', w)\n",
    "\n",
    "\n",
    "def writer_wrapper():\n",
    "    gen = _writer()\n",
    "    next(gen)\n",
    "    while True:\n",
    "        try:\n",
    "            x = (yield)\n",
    "        except Exception as e:\n",
    "            gen.throw(e)\n",
    "        else:\n",
    "            gen.send(x)\n",
    "\n",
    "\n",
    "wrap = writer_wrapper()\n",
    "wrap.send(None)  # \"prime\" the coroutine\n",
    "for i in [0, 1, 2, 'spam', 4]:\n",
    "    if i == 'spam':\n",
    "        wrap.throw(SpamException)\n",
    "    else:\n",
    "        wrap.send(i)"
   ]
  },
  {
   "cell_type": "code",
   "execution_count": 51,
   "metadata": {},
   "outputs": [
    {
     "name": "stdout",
     "output_type": "stream",
     "text": [
      ">>  0\n",
      ">>  1\n",
      ">>  2\n",
      "***\n",
      ">>  4\n"
     ]
    }
   ],
   "source": [
    "class SpamException(Exception):\n",
    "    pass\n",
    "\n",
    "def _writer():\n",
    "    while True:\n",
    "        try:\n",
    "            w = (yield)\n",
    "        except SpamException:\n",
    "            print('***')\n",
    "        else:\n",
    "            print('>> ', w)\n",
    "\n",
    "\n",
    "def writer_wrapper():\n",
    "    yield from _writer()\n",
    "\n",
    "\n",
    "wrap = writer_wrapper()\n",
    "wrap.send(None)  # \"prime\" the coroutine\n",
    "for i in [0, 1, 2, 'spam', 4]:\n",
    "    if i == 'spam':\n",
    "        wrap.throw(SpamException)\n",
    "    else:\n",
    "        wrap.send(i)"
   ]
  }
 ],
 "metadata": {
  "kernelspec": {
   "display_name": "Python 3",
   "language": "python",
   "name": "python3"
  },
  "language_info": {
   "codemirror_mode": {
    "name": "ipython",
    "version": 3
   },
   "file_extension": ".py",
   "mimetype": "text/x-python",
   "name": "python",
   "nbconvert_exporter": "python",
   "pygments_lexer": "ipython3",
   "version": "3.8.12"
  },
  "vscode": {
   "interpreter": {
    "hash": "e1315e6714f2518a6216a6eec3b047587d10875bf19b853b35d3e5c84c569e2a"
   }
  }
 },
 "nbformat": 4,
 "nbformat_minor": 2
}
