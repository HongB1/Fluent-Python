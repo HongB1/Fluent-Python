{
 "cells": [
  {
   "cell_type": "markdown",
   "metadata": {},
   "source": [
    "# Chapter 10. 시퀀스 해킹, 해시, 슬라이스\n",
    "## 10.1 Vector: 사용자 정의 시퀀스형\n",
    "- 요소들을 실수형 배열에 저장하고, 벡터가 불변 균일 시퀀스처럼 작동하게 만들기 위한 메서드들\n",
    "\n",
    "## 10.2 Vector 버전 #1: Vector2d 호환\n",
    "- 시퀀스 생성자는 내장 시퀀스처럼 반복형을 인수로 받게 만드는 것이 좋다.\n",
    "- `reprlib`은 `repr()`에서 제한된 길이 제한을 할 수 있게 만들어준다. \n"
   ]
  },
  {
   "cell_type": "code",
   "execution_count": 1,
   "metadata": {},
   "outputs": [
    {
     "data": {
      "text/plain": [
       "Vector([0.0, 1.0, 2.0, 3.0, 4.0, ...])"
      ]
     },
     "execution_count": 1,
     "metadata": {},
     "output_type": "execute_result"
    }
   ],
   "source": [
    "from vector_v1 import Vector\n",
    "Vector(range(10))"
   ]
  },
  {
   "cell_type": "markdown",
   "metadata": {},
   "source": [
    "## 10.3 프로토콜과 덕 타이핑\n",
    "- 시퀀스 프로토콜은 `__len__()`과 `__getitem()` 메서드만 동반하면\n",
    "- 따로 시퀀스 프로토콜을 따른다고 명시하지 않아도 시퀀스처럼 동작\n"
   ]
  },
  {
   "cell_type": "code",
   "execution_count": 2,
   "metadata": {},
   "outputs": [],
   "source": [
    "# 예제 10-3 [예제1-1]의 코드\n",
    "import collections\n",
    "\n",
    "Card = collections.namedtuple('Card', ['rank', 'suit'])\n",
    "\n",
    "class FrenchDeck:\n",
    "    ranks = [str(n) for n in range(2, 11)] + list('JQKA')\n",
    "    suits = 'spades diamonds clubs hearts'.split()\n",
    "\n",
    "    def __init__(self):\n",
    "        self._cards = [Card(rank, suit) for suit in self.suits for rank in self.ranks]\n",
    "\n",
    "    def __len__(self):\n",
    "        return len(self._cards)\n",
    "\n",
    "    def __getitem__(self, position):\n",
    "        return self._cards[position]\n"
   ]
  },
  {
   "cell_type": "markdown",
   "metadata": {},
   "source": [
    "## 10.4 Vector 버전 #2: 슬라이스 가능한 시퀀스\n",
    "~~~python\n",
    "class Vector:\n",
    "    ... 중략 ...\n",
    "    def __len__(self):\n",
    "        return len(self._components)\n",
    "\n",
    "    def __getitem__(self, index):\n",
    "        return self._components[index]\n",
    "~~~\n"
   ]
  },
  {
   "cell_type": "code",
   "execution_count": 3,
   "metadata": {},
   "outputs": [
    {
     "name": "stdout",
     "output_type": "stream",
     "text": [
      "3\n",
      "3.0 5.0\n"
     ]
    },
    {
     "data": {
      "text/plain": [
       "Vector([1.0, 2.0, 3.0])"
      ]
     },
     "execution_count": 3,
     "metadata": {},
     "output_type": "execute_result"
    }
   ],
   "source": [
    "from vector_v2 import Vector\n",
    "\n",
    "v1 = Vector([3, 4, 5])\n",
    "print(len(v1))\n",
    "print(v1[0], v1[-1])\n",
    "\n",
    "v7 = Vector(range(7))\n",
    "v7[1:4]  # 결과물이 원하는대로 나오지 않는다.\n",
    "\n"
   ]
  },
  {
   "cell_type": "markdown",
   "metadata": {},
   "source": [
    "- `Vector`를 슬라이싱해서 생성된 배열은 자신과 다른 자료형 객체가 나오기 때문에 `Vector` 기능을 상실한다.\n",
    "\n",
    "### 10.4.1 슬라이싱의 작동 방식\n"
   ]
  },
  {
   "cell_type": "code",
   "execution_count": 4,
   "metadata": {},
   "outputs": [
    {
     "name": "stdout",
     "output_type": "stream",
     "text": [
      "1\n",
      "slice(1, 4, None)\n",
      "slice(1, 4, 2)\n",
      "(slice(1, 4, 2), 9)\n",
      "(slice(1, 4, 2), slice(7, 9, None))\n"
     ]
    }
   ],
   "source": [
    "# 예제 10-4 __getitem__()과 slice()의 동작 방식\n",
    "class MySeq:\n",
    "    def __getitem__(self, index):\n",
    "        return index\n",
    "    \n",
    "    \n",
    "s = MySeq()\n",
    "print(s[1])\n",
    "print(s[1:4])\n",
    "print(s[1:4:2])\n",
    "print(s[1:4:2, 9])  # __getitem__()이 튜플을 받는다\n",
    "print(s[1:4:2, 7:9])\n"
   ]
  },
  {
   "cell_type": "markdown",
   "metadata": {},
   "source": [
    "- `slice` 클래스에 `indices()` 메서드, `start`, `step`, `stop` 속성이 있다.\n",
    "  - `S.indices(len)` 슬라이스 객체의 start, stop, step 속성을 길이 len짜리 시퀀스형에 적용될 수 있도록 (start, stop, stride)를 반환한다."
   ]
  },
  {
   "cell_type": "code",
   "execution_count": 5,
   "metadata": {},
   "outputs": [
    {
     "name": "stdout",
     "output_type": "stream",
     "text": [
      "<class 'slice'>\n",
      "['__class__', '__delattr__', '__dir__', '__doc__', '__eq__', '__format__', '__ge__', '__getattribute__', '__gt__', '__hash__', '__init__', '__init_subclass__', '__le__', '__lt__', '__ne__', '__new__', '__reduce__', '__reduce_ex__', '__repr__', '__setattr__', '__sizeof__', '__str__', '__subclasshook__', 'indices', 'start', 'step', 'stop']\n"
     ]
    }
   ],
   "source": [
    "# 예제 10-5 slice 클래스의 속성조사\n",
    "print(slice)\n",
    "print(dir(slice))"
   ]
  },
  {
   "cell_type": "code",
   "execution_count": 6,
   "metadata": {},
   "outputs": [
    {
     "name": "stdout",
     "output_type": "stream",
     "text": [
      "(0, 5, 2)\n",
      "(2, 5, 1)\n"
     ]
    }
   ],
   "source": [
    "print(slice(None, 10, 2).indices(5))\n",
    "print(slice(-3, None, None).indices(5))\n"
   ]
  },
  {
   "cell_type": "markdown",
   "metadata": {},
   "source": [
    "### 10.4.2 슬라이스를 인식하는 `__getitem__()`\n",
    "\n",
    "~~~python\n",
    "import numbers\n",
    "\n",
    "def __getitem__(self, index):\n",
    "    cls = type(self)\n",
    "    if isinstance(index, slice):\n",
    "        return cls(self._components[index])\n",
    "    elif isinstance(index, numbers.Integral):\n",
    "        return self._components[index]\n",
    "    else:\n",
    "        msg = f'{cls.__name} indices must be integers'\n",
    "        raise TypeError(msg)\n",
    "~~~"
   ]
  },
  {
   "cell_type": "code",
   "execution_count": 8,
   "metadata": {},
   "outputs": [
    {
     "name": "stdout",
     "output_type": "stream",
     "text": [
      "3\n",
      "3.0 5.0\n"
     ]
    },
    {
     "data": {
      "text/plain": [
       "Vector([1.0, 2.0, 3.0])"
      ]
     },
     "execution_count": 8,
     "metadata": {},
     "output_type": "execute_result"
    }
   ],
   "source": [
    "from vector_v2 import Vector\n",
    "\n",
    "v1 = Vector([3, 4, 5])\n",
    "print(len(v1))\n",
    "print(v1[0], v1[-1])\n",
    "\n",
    "v7 = Vector(range(7))\n",
    "v7[1:4]  # 결과물이 원하는대로 나오지 않는다.\n"
   ]
  },
  {
   "cell_type": "markdown",
   "metadata": {},
   "source": [
    "## 10.5 Vector 버전 #3: 동적 속성 접근\n",
    "- `인스턴스.속성` 구문은 먼저 속성이 있는지 검사하고 없으면, 클래스 속성이 있는지 검사한다. 상속 그래프를 따라 올라가도 속성을 못 찾으면 `__getattr__()` 메서드를 호출한다.\n",
    "\n",
    "<br>\n",
    "\n",
    "~~~python\n",
    "shortcut_names = 'xyzt'\n",
    "\n",
    "def __getattr__(self, name):\n",
    "    cls = type(self)\n",
    "    if len(name) == 1:\n",
    "        pos = cls.shortcut_names.find(name)\n",
    "        if 0 <= pos < len(self._components):\n",
    "            return self._components[pos]\n",
    "    raise AttributeError(f'{cls.__name__!r} object has no attribute {name!r}')\n",
    "~~~"
   ]
  },
  {
   "cell_type": "code",
   "execution_count": 12,
   "metadata": {},
   "outputs": [
    {
     "name": "stdout",
     "output_type": "stream",
     "text": [
      "10\n",
      "(0.0, 1.0, 2.0, 3.0, 4.0, 5.0, 6.0, 7.0, 8.0, 9.0)\n"
     ]
    }
   ],
   "source": [
    "from vector_v3 import Vector\n",
    "v = Vector(range(10))\n",
    "\n",
    "v.x\n",
    "\n",
    "v.x = 10\n",
    "print(v.x)  # 인스턴스 속성 x가 할당되면서 더 이상 __getattr__() 메서드까지 가지 않는다.\n",
    "print(v)"
   ]
  },
  {
   "cell_type": "markdown",
   "metadata": {},
   "source": [
    "- `__getattr__()` 메서드와 인스턴스 속성과의 불일치를 막기 위하여 `__setattr__()` 메서드를 구현\n",
    "\n",
    "<br>\n",
    "\n",
    "~~~python\n",
    "def __setattr__(self, name, value):\n",
    "    cls = type(self)\n",
    "    if len(name) == 1:\n",
    "        if name in cls.shortcut_names:\n",
    "            error = 'readonly attribute {attr_name!r}'\n",
    "        elif name.islower():\n",
    "            error = \"can't set attributes 'a' to 'z' in {cls_name!r}\"\n",
    "        else:\n",
    "            error = ''\n",
    "        if error:\n",
    "            msg = error.format(cls_name=cls.__name__, attr_name=name)\n",
    "            raise AttributeError(msg)\n",
    "    super().__setattr__(name, value)  # 에러가 발생하지 않으면 표준 동작을 위해 슈퍼클래스의 __setattr__() 메서드를 호출\n",
    "~~~"
   ]
  },
  {
   "cell_type": "code",
   "execution_count": 1,
   "metadata": {},
   "outputs": [
    {
     "ename": "AttributeError",
     "evalue": "readonly attribute 'x'",
     "output_type": "error",
     "traceback": [
      "\u001b[0;31m---------------------------------------------------------------------------\u001b[0m",
      "\u001b[0;31mAttributeError\u001b[0m                            Traceback (most recent call last)",
      "\u001b[1;32m/Users/dongjin/Library/CloudStorage/OneDrive-postech.ac.kr/projects/fluent-python/Fluent-Python/이동진/Chapter10/Chapter10.ipynb 셀 17\u001b[0m in \u001b[0;36m<module>\u001b[0;34m\u001b[0m\n\u001b[1;32m      <a href='vscode-notebook-cell:/Users/dongjin/Library/CloudStorage/OneDrive-postech.ac.kr/projects/fluent-python/Fluent-Python/%EC%9D%B4%EB%8F%99%EC%A7%84/Chapter10/Chapter10.ipynb#X21sZmlsZQ%3D%3D?line=1'>2</a>\u001b[0m v \u001b[39m=\u001b[39m Vector(\u001b[39mrange\u001b[39m(\u001b[39m10\u001b[39m))\n\u001b[1;32m      <a href='vscode-notebook-cell:/Users/dongjin/Library/CloudStorage/OneDrive-postech.ac.kr/projects/fluent-python/Fluent-Python/%EC%9D%B4%EB%8F%99%EC%A7%84/Chapter10/Chapter10.ipynb#X21sZmlsZQ%3D%3D?line=3'>4</a>\u001b[0m v\u001b[39m.\u001b[39mx\n\u001b[0;32m----> <a href='vscode-notebook-cell:/Users/dongjin/Library/CloudStorage/OneDrive-postech.ac.kr/projects/fluent-python/Fluent-Python/%EC%9D%B4%EB%8F%99%EC%A7%84/Chapter10/Chapter10.ipynb#X21sZmlsZQ%3D%3D?line=5'>6</a>\u001b[0m v\u001b[39m.\u001b[39mx \u001b[39m=\u001b[39m \u001b[39m10\u001b[39m\n",
      "File \u001b[0;32m~/Library/CloudStorage/OneDrive-postech.ac.kr/projects/fluent-python/Fluent-Python/이동진/Chapter10/vector_v3.py:71\u001b[0m, in \u001b[0;36mVector.__setattr__\u001b[0;34m(self, name, value)\u001b[0m\n\u001b[1;32m     69\u001b[0m     \u001b[39mif\u001b[39;00m error:\n\u001b[1;32m     70\u001b[0m         msg \u001b[39m=\u001b[39m error\u001b[39m.\u001b[39mformat(cls_name\u001b[39m=\u001b[39m\u001b[39mcls\u001b[39m\u001b[39m.\u001b[39m\u001b[39m__name__\u001b[39m, attr_name\u001b[39m=\u001b[39mname)\n\u001b[0;32m---> 71\u001b[0m         \u001b[39mraise\u001b[39;00m \u001b[39mAttributeError\u001b[39;00m(msg)\n\u001b[1;32m     72\u001b[0m \u001b[39msuper\u001b[39m()\u001b[39m.\u001b[39m\u001b[39m__setattr__\u001b[39m(name, value)\n",
      "\u001b[0;31mAttributeError\u001b[0m: readonly attribute 'x'"
     ]
    }
   ],
   "source": [
    "from vector_v3 import Vector\n",
    "v = Vector(range(10))\n",
    "\n",
    "v.x\n",
    "\n",
    "v.x = 10"
   ]
  },
  {
   "cell_type": "markdown",
   "metadata": {},
   "source": [
    "## 10.6 Vector 버전 #4: 해싱 및 더 빠른 ==\n",
    "- Vector 안의 각 원소에 연속적으로 XOR 연산을 하기 위하여 `functools.reduce()`를 사용할 것이다.\n",
    "- `reduce()`\n",
    "  - 일련의 값을 하나의 값으로 줄이는 것\n",
    "  - 첫 번째 인자: 두개의 인자를 받는 함수\n",
    "  - 두 번째 인자: 반복형 객체\n",
    "  - 세 번쨰 인자: (선택) 초기값. 빈 반복형 객체를 입력 받았을 때 에러가 발생하는 것을 방지. 항등원을 사용"
   ]
  },
  {
   "cell_type": "code",
   "execution_count": 3,
   "metadata": {},
   "outputs": [
    {
     "data": {
      "text/plain": [
       "120"
      ]
     },
     "execution_count": 3,
     "metadata": {},
     "output_type": "execute_result"
    }
   ],
   "source": [
    "import functools\n",
    "\n",
    "functools.reduce(lambda a, b: a * b, range(1, 6))"
   ]
  },
  {
   "cell_type": "code",
   "execution_count": 5,
   "metadata": {},
   "outputs": [
    {
     "name": "stdout",
     "output_type": "stream",
     "text": [
      "1\n",
      "1\n",
      "1\n"
     ]
    }
   ],
   "source": [
    "# 예제 10-11 0에서 5까지 정수를 XOR로 누적 계산하는 세 가지 방법\n",
    "import functools\n",
    "import operator\n",
    "\n",
    "n = 0\n",
    "for i in range(6):\n",
    "    n ^= i\n",
    "print(n)\n",
    "\n",
    "print(\n",
    "    functools.reduce(lambda a, b: a ^ b, range(6))\n",
    ")\n",
    "\n",
    "print(\n",
    "    functools.reduce(operator.xor, range(6))\n",
    "\n",
    ")"
   ]
  },
  {
   "cell_type": "markdown",
   "metadata": {},
   "source": [
    "~~~python\n",
    "# 예제 10-12\n",
    "import functools\n",
    "import operator\n",
    "\n",
    "class Vector:\n",
    "    ...중략...\n",
    "    def __hash__(self):\n",
    "        hashes = (hash(x) for x in self._components)\n",
    "        return functools.reduce(operator.xor, hashes, 0)\n",
    "~~~\n",
    "\n",
    "<br>\n",
    "\n",
    "제너레이터 표현식 대신 `map()`을 사용할 수 있다.\n",
    "\n",
    "~~~python\n",
    "import functools\n",
    "import operator\n",
    "\n",
    "class Vector:\n",
    "    ...중략...\n",
    "    def __hash__(self):\n",
    "        hashes = map(hash, self._components)\n",
    "        return functools.reduce(operator.xor, hashes, 0)\n",
    "~~~\n",
    "\n",
    "<br>\n",
    "\n",
    "<span style=\"color:green\">느긋하게 수행한다는 의미가 무엇일까? => 제너레이터 Lazy하다. 미리 로드해놓는 것이 아니라 필요할 때 꺼내쓴다.</span>\n",
    "\n",
    "<br>\n",
    "\n",
    "고차원 벡터에 대해서도 빠르게 작동하는 `__eq__()` 메서드 구현\n",
    "\n",
    "~~~python\n",
    "# 예제 10-13 \n",
    "class Vector:\n",
    "    ...중략...\n",
    "    def __eq__(self, other):\n",
    "        if len(self) != len(other):  # zip은 짧은 쪽 반복형이 소진되면 멈추기 때문에 길이를 검사해야 한다.\n",
    "            return False\n",
    "        for a, b in zip(self, other):\n",
    "            if a!= b:\n",
    "                return False\n",
    "        return True\n",
    "~~~\n",
    "\n",
    "<br>\n",
    "\n",
    "~~~python\n",
    "# 예제 10-14\n",
    "class Vector:\n",
    "    ...중략...\n",
    "    def __eq__(self, other):\n",
    "        return len(self) == len(other) and all(a == b for a, b in zip(self, other))\n",
    "~~~"
   ]
  },
  {
   "cell_type": "markdown",
   "metadata": {},
   "source": [
    "## 10.7 Vector 버전 #5: 포매팅\n",
    "- 구면좌표계 구현\n",
    "\n",
    "~~~python\n",
    "class Vector:\n",
    "    ...중략...\n",
    "    def angle(self, n):\n",
    "        r = math.sqrt(sum(x * x for x in self[n:]))\n",
    "        a = math.atan2(r, self[n-1])\n",
    "        if (n == len(self) - 1) and (self[-1] < 0):\n",
    "            return math.pi ** 2 - a\n",
    "        else:\n",
    "            return a\n",
    "\n",
    "    def angles(self):\n",
    "        return (self.angle(n for n in range(1, len(self))))\n",
    "\n",
    "    def __format__(self, fmt_spec=''):\n",
    "        if fmt_spec.endwith('h'):\n",
    "            fmt_spec = fmt_spec[:-1]\n",
    "            coords = itertools.chain([abs(self), self.angles()])\n",
    "            outer_fmt = '<{}>'\n",
    "        else:\n",
    "            coords = self\n",
    "            outer_fmt = '({})'\n",
    "        components = (format(c, fmt_spec) for c in coords)\n",
    "        return outer_fmt.format(', '.join(components))\n",
    "\n",
    "~~~"
   ]
  },
  {
   "cell_type": "code",
   "execution_count": 7,
   "metadata": {},
   "outputs": [
    {
     "name": "stdout",
     "output_type": "stream",
     "text": [
      "<2.0, 2.0943951023931957, 2.186276035465284, 7.513409910897013>\n",
      "<4.000e+00, 1.047e+00, 9.553e-01, 7.854e-01>\n",
      "<1.00000, 1.57080, 0.00000, 0.00000>\n"
     ]
    }
   ],
   "source": [
    "from vector_v5 import Vector\n",
    "\n",
    "print(format(Vector([-1, -1, -1, -1]), 'h'))\n",
    "print(format(Vector([2, 2, 2, 2]), '.3eh'))\n",
    "print(format(Vector([0, 1, 0, 0]), '0.5fh'))"
   ]
  }
 ],
 "metadata": {
  "kernelspec": {
   "display_name": "Python 3.8.12 ('torch')",
   "language": "python",
   "name": "python3"
  },
  "language_info": {
   "codemirror_mode": {
    "name": "ipython",
    "version": 3
   },
   "file_extension": ".py",
   "mimetype": "text/x-python",
   "name": "python",
   "nbconvert_exporter": "python",
   "pygments_lexer": "ipython3",
   "version": "3.8.12"
  },
  "orig_nbformat": 4,
  "vscode": {
   "interpreter": {
    "hash": "e1315e6714f2518a6216a6eec3b047587d10875bf19b853b35d3e5c84c569e2a"
   }
  }
 },
 "nbformat": 4,
 "nbformat_minor": 2
}
