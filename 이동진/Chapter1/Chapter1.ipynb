{
 "cells": [
  {
   "cell_type": "markdown",
   "metadata": {},
   "source": [
    "# 제 1장 파이썬 데이터 모델\n",
    "### 파이썬 데이터 모델이란? (발표자가 이해한 내용)\n",
    "- 프로그램 실행시 프로그램이 사용하는 데이터들이 메모리에 적재됨\n",
    "- 메모리에 올라간 \"진짜 데이터\"와 메모리에서 데이터가 어떻게 연산되는지 인간이 알기 어려움\n",
    "- `Data abstraction`: 데이터가 내부에서 어떻게 작동하는지는 숨기고, 사용자가 다루기 쉽게 만드는 것\n",
    "  - 데이터의 불필요한 정보는 숨기고, 데이터의 자료 표현과 연산을 정의해서 캡슐화한다.\n",
    "- `Python data model`: 파이썬이 data abstraction을 하는 방법으로서, 프로그램 실행에 필요한 모든 데이터들을 만들고 연결하는 방법\n",
    "  - `Object`: Python’s abstraction for data.  All data in a Python program is represented by objects or by relations between objects.\n",
    "\n",
    "\n",
    "<br>\n",
    "\n",
    "\n",
    "\"파이썬에서는 모든 것이 객체다\"라는 말이 있다. 우리가 마치 함수처럼 `int`를 보자."
   ]
  },
  {
   "cell_type": "code",
   "execution_count": 1,
   "metadata": {},
   "outputs": [
    {
     "data": {
      "text/plain": [
       "3"
      ]
     },
     "execution_count": 1,
     "metadata": {},
     "output_type": "execute_result"
    }
   ],
   "source": [
    "int(3.5)"
   ]
  },
  {
   "cell_type": "code",
   "execution_count": 2,
   "metadata": {
    "scrolled": true
   },
   "outputs": [
    {
     "data": {
      "text/plain": [
       "mappingproxy({'__repr__': <slot wrapper '__repr__' of 'int' objects>,\n",
       "              '__hash__': <slot wrapper '__hash__' of 'int' objects>,\n",
       "              '__getattribute__': <slot wrapper '__getattribute__' of 'int' objects>,\n",
       "              '__lt__': <slot wrapper '__lt__' of 'int' objects>,\n",
       "              '__le__': <slot wrapper '__le__' of 'int' objects>,\n",
       "              '__eq__': <slot wrapper '__eq__' of 'int' objects>,\n",
       "              '__ne__': <slot wrapper '__ne__' of 'int' objects>,\n",
       "              '__gt__': <slot wrapper '__gt__' of 'int' objects>,\n",
       "              '__ge__': <slot wrapper '__ge__' of 'int' objects>,\n",
       "              '__add__': <slot wrapper '__add__' of 'int' objects>,\n",
       "              '__radd__': <slot wrapper '__radd__' of 'int' objects>,\n",
       "              '__sub__': <slot wrapper '__sub__' of 'int' objects>,\n",
       "              '__rsub__': <slot wrapper '__rsub__' of 'int' objects>,\n",
       "              '__mul__': <slot wrapper '__mul__' of 'int' objects>,\n",
       "              '__rmul__': <slot wrapper '__rmul__' of 'int' objects>,\n",
       "              '__mod__': <slot wrapper '__mod__' of 'int' objects>,\n",
       "              '__rmod__': <slot wrapper '__rmod__' of 'int' objects>,\n",
       "              '__divmod__': <slot wrapper '__divmod__' of 'int' objects>,\n",
       "              '__rdivmod__': <slot wrapper '__rdivmod__' of 'int' objects>,\n",
       "              '__pow__': <slot wrapper '__pow__' of 'int' objects>,\n",
       "              '__rpow__': <slot wrapper '__rpow__' of 'int' objects>,\n",
       "              '__neg__': <slot wrapper '__neg__' of 'int' objects>,\n",
       "              '__pos__': <slot wrapper '__pos__' of 'int' objects>,\n",
       "              '__abs__': <slot wrapper '__abs__' of 'int' objects>,\n",
       "              '__bool__': <slot wrapper '__bool__' of 'int' objects>,\n",
       "              '__invert__': <slot wrapper '__invert__' of 'int' objects>,\n",
       "              '__lshift__': <slot wrapper '__lshift__' of 'int' objects>,\n",
       "              '__rlshift__': <slot wrapper '__rlshift__' of 'int' objects>,\n",
       "              '__rshift__': <slot wrapper '__rshift__' of 'int' objects>,\n",
       "              '__rrshift__': <slot wrapper '__rrshift__' of 'int' objects>,\n",
       "              '__and__': <slot wrapper '__and__' of 'int' objects>,\n",
       "              '__rand__': <slot wrapper '__rand__' of 'int' objects>,\n",
       "              '__xor__': <slot wrapper '__xor__' of 'int' objects>,\n",
       "              '__rxor__': <slot wrapper '__rxor__' of 'int' objects>,\n",
       "              '__or__': <slot wrapper '__or__' of 'int' objects>,\n",
       "              '__ror__': <slot wrapper '__ror__' of 'int' objects>,\n",
       "              '__int__': <slot wrapper '__int__' of 'int' objects>,\n",
       "              '__float__': <slot wrapper '__float__' of 'int' objects>,\n",
       "              '__floordiv__': <slot wrapper '__floordiv__' of 'int' objects>,\n",
       "              '__rfloordiv__': <slot wrapper '__rfloordiv__' of 'int' objects>,\n",
       "              '__truediv__': <slot wrapper '__truediv__' of 'int' objects>,\n",
       "              '__rtruediv__': <slot wrapper '__rtruediv__' of 'int' objects>,\n",
       "              '__index__': <slot wrapper '__index__' of 'int' objects>,\n",
       "              '__new__': <function int.__new__(*args, **kwargs)>,\n",
       "              'conjugate': <method 'conjugate' of 'int' objects>,\n",
       "              'bit_length': <method 'bit_length' of 'int' objects>,\n",
       "              'to_bytes': <method 'to_bytes' of 'int' objects>,\n",
       "              'from_bytes': <method 'from_bytes' of 'int' objects>,\n",
       "              'as_integer_ratio': <method 'as_integer_ratio' of 'int' objects>,\n",
       "              '__trunc__': <method '__trunc__' of 'int' objects>,\n",
       "              '__floor__': <method '__floor__' of 'int' objects>,\n",
       "              '__ceil__': <method '__ceil__' of 'int' objects>,\n",
       "              '__round__': <method '__round__' of 'int' objects>,\n",
       "              '__getnewargs__': <method '__getnewargs__' of 'int' objects>,\n",
       "              '__format__': <method '__format__' of 'int' objects>,\n",
       "              '__sizeof__': <method '__sizeof__' of 'int' objects>,\n",
       "              'real': <attribute 'real' of 'int' objects>,\n",
       "              'imag': <attribute 'imag' of 'int' objects>,\n",
       "              'numerator': <attribute 'numerator' of 'int' objects>,\n",
       "              'denominator': <attribute 'denominator' of 'int' objects>,\n",
       "              '__doc__': \"int([x]) -> integer\\nint(x, base=10) -> integer\\n\\nConvert a number or string to an integer, or return 0 if no arguments\\nare given.  If x is a number, return x.__int__().  For floating point\\nnumbers, this truncates towards zero.\\n\\nIf x is not a number or if base is given, then x must be a string,\\nbytes, or bytearray instance representing an integer literal in the\\ngiven base.  The literal can be preceded by '+' or '-' and be surrounded\\nby whitespace.  The base defaults to 10.  Valid bases are 0 and 2-36.\\nBase 0 means to interpret the base from the string as an integer literal.\\n>>> int('0b100', base=0)\\n4\"})"
      ]
     },
     "execution_count": 2,
     "metadata": {},
     "output_type": "execute_result"
    }
   ],
   "source": [
    "int.__dict__"
   ]
  },
  {
   "cell_type": "code",
   "execution_count": 3,
   "metadata": {
    "scrolled": true
   },
   "outputs": [
    {
     "data": {
      "text/plain": [
       "True"
      ]
     },
     "execution_count": 3,
     "metadata": {},
     "output_type": "execute_result"
    }
   ],
   "source": [
    "import inspect\n",
    "\n",
    "inspect.isclass(int)"
   ]
  },
  {
   "cell_type": "code",
   "execution_count": 4,
   "metadata": {},
   "outputs": [
    {
     "data": {
      "text/plain": [
       "False"
      ]
     },
     "execution_count": 4,
     "metadata": {},
     "output_type": "execute_result"
    }
   ],
   "source": [
    "inspect.isclass(3)"
   ]
  },
  {
   "cell_type": "markdown",
   "metadata": {},
   "source": [
    "- 숫자 3은 `int` 클래스의 \"인스턴스\" \n",
    "- 따라서 `int` 클래스에 정의된 특수 메서드를 따라서 객체 연산이 수행된다."
   ]
  },
  {
   "cell_type": "code",
   "execution_count": 5,
   "metadata": {},
   "outputs": [
    {
     "data": {
      "text/plain": [
       "True"
      ]
     },
     "execution_count": 5,
     "metadata": {},
     "output_type": "execute_result"
    }
   ],
   "source": [
    "isinstance(3, int)"
   ]
  },
  {
   "cell_type": "markdown",
   "metadata": {},
   "source": [
    "# 1.1 파이썬 카드 한 벌\n",
    "특별 메서드 (special method) 또는 매직 메서드 (magic method)는 파이썬 내부적으로 구현된 built-in 메서드로서 메서드 이름 양 옆이 `__`로 둘러 쌓여 있다. 따라서 앞뒤로 이중 언더바를 가진 형태의 속성명은 피하는 것이 좋다.\n",
    "- (ex) `__getitem__()`, `__len__()`\n",
    "  - `__getitem__` 메서드와 `__len__` 메서드를 구현하면 클래스가 표준 파이썬 시퀀스처럼 작동할 수 있다. 따라서 `random`의 `choice()`, `reversed()`, `sorted()`  함수를 사용할 수 있다."
   ]
  },
  {
   "cell_type": "code",
   "execution_count": 29,
   "metadata": {},
   "outputs": [],
   "source": [
    "import collections\n",
    "\n",
    "Card = collections.namedtuple('Card', ['rank', 'suit'])  # 개별 카드를 나타내는 클래스\n",
    "\n",
    "\n",
    "class FrenchDeck:\n",
    "    ranks = [str(n) for n in range(2, 11)] + list('JQKA')  # 인스턴스로 생성되지 않아도 접근 가능 (ex) FrenchDeck.ranks\n",
    "    suits = 'spades diamonds clubs hearts'.split()\n",
    "    \n",
    "    def __init__(self):\n",
    "        self._cards = [Card(rank, suit) for suit in self.suits for rank in self.ranks]\n",
    "        \n",
    "    def __len__(self):\n",
    "        return len(self._cards)\n",
    "    \n",
    "    def __getitem__(self, position):\n",
    "        return self._cards[position]\n"
   ]
  },
  {
   "cell_type": "markdown",
   "metadata": {},
   "source": [
    "- class 위치: 클래스 변수 -> 클래스 전체에 공유, 바뀌지 않는 속성 / 인스턴스별로 정의되는게 아니라\n",
    "- 접근제어자 \n",
    "    - `_`: 요 클래스 내부, 자식 클래스에서만 접근해라\n",
    "    - `__`: private, 더 폐쇄적 "
   ]
  },
  {
   "cell_type": "code",
   "execution_count": 7,
   "metadata": {},
   "outputs": [
    {
     "name": "stdout",
     "output_type": "stream",
     "text": [
      "``beer_card``:  Card(rank='7', suit='diamonds')\n"
     ]
    }
   ],
   "source": [
    "beer_card = Card('7', 'diamonds')\n",
    "print(\"``beer_card``: \", beer_card)"
   ]
  },
  {
   "cell_type": "markdown",
   "metadata": {},
   "source": [
    "- len() -> `__len__()`\n",
    "- 인덱싱 -> `__getitem__()`"
   ]
  },
  {
   "cell_type": "code",
   "execution_count": 8,
   "metadata": {},
   "outputs": [
    {
     "name": "stdout",
     "output_type": "stream",
     "text": [
      "The length of ``deck``:  52\n",
      "The first card in ``deck``:  Card(rank='2', suit='spades')\n",
      "The last card in ``deck``:  Card(rank='A', suit='hearts')\n"
     ]
    }
   ],
   "source": [
    "deck = FrenchDeck()\n",
    "print(\"The length of ``deck``: \", len(deck))\n",
    "print(\"The first card in ``deck``: \", deck[0])\n",
    "print(\"The last card in ``deck``: \", deck[-1])"
   ]
  },
  {
   "cell_type": "code",
   "execution_count": 9,
   "metadata": {},
   "outputs": [
    {
     "data": {
      "text/plain": [
       "Card(rank='9', suit='hearts')"
      ]
     },
     "execution_count": 9,
     "metadata": {},
     "output_type": "execute_result"
    }
   ],
   "source": [
    "from random import choice\n",
    "choice(deck)"
   ]
  },
  {
   "cell_type": "markdown",
   "metadata": {},
   "source": [
    "- 슬라이싱 가능"
   ]
  },
  {
   "cell_type": "code",
   "execution_count": 10,
   "metadata": {},
   "outputs": [
    {
     "name": "stdout",
     "output_type": "stream",
     "text": [
      "The first three cards:  [Card(rank='2', suit='spades'), Card(rank='3', suit='spades'), Card(rank='4', suit='spades')]\n",
      "Cards drawn at intervals of 13, starting with index 12:  [Card(rank='A', suit='spades'), Card(rank='A', suit='diamonds'), Card(rank='A', suit='clubs'), Card(rank='A', suit='hearts')]\n"
     ]
    }
   ],
   "source": [
    "print(\"The first three cards: \", deck[:3])\n",
    "print(\"Cards drawn at intervals of 13, starting with index 12: \", deck[12::13])"
   ]
  },
  {
   "cell_type": "markdown",
   "metadata": {},
   "source": [
    "- for문 사용 가능"
   ]
  },
  {
   "cell_type": "code",
   "execution_count": 11,
   "metadata": {
    "scrolled": true
   },
   "outputs": [
    {
     "name": "stdout",
     "output_type": "stream",
     "text": [
      "Print cards\n",
      "Card(rank='2', suit='spades')\n",
      "Card(rank='3', suit='spades')\n",
      "Card(rank='4', suit='spades')\n",
      "Card(rank='5', suit='spades')\n",
      "Card(rank='6', suit='spades')\n",
      "Card(rank='7', suit='spades')\n",
      "Card(rank='8', suit='spades')\n",
      "Card(rank='9', suit='spades')\n",
      "Card(rank='10', suit='spades')\n",
      "Card(rank='J', suit='spades')\n",
      "Card(rank='Q', suit='spades')\n",
      "Card(rank='K', suit='spades')\n",
      "Card(rank='A', suit='spades')\n",
      "Card(rank='2', suit='diamonds')\n",
      "Card(rank='3', suit='diamonds')\n",
      "Card(rank='4', suit='diamonds')\n",
      "Card(rank='5', suit='diamonds')\n",
      "Card(rank='6', suit='diamonds')\n",
      "Card(rank='7', suit='diamonds')\n",
      "Card(rank='8', suit='diamonds')\n",
      "Card(rank='9', suit='diamonds')\n",
      "Card(rank='10', suit='diamonds')\n",
      "Card(rank='J', suit='diamonds')\n",
      "Card(rank='Q', suit='diamonds')\n",
      "Card(rank='K', suit='diamonds')\n",
      "Card(rank='A', suit='diamonds')\n",
      "Card(rank='2', suit='clubs')\n",
      "Card(rank='3', suit='clubs')\n",
      "Card(rank='4', suit='clubs')\n",
      "Card(rank='5', suit='clubs')\n",
      "Card(rank='6', suit='clubs')\n",
      "Card(rank='7', suit='clubs')\n",
      "Card(rank='8', suit='clubs')\n",
      "Card(rank='9', suit='clubs')\n",
      "Card(rank='10', suit='clubs')\n",
      "Card(rank='J', suit='clubs')\n",
      "Card(rank='Q', suit='clubs')\n",
      "Card(rank='K', suit='clubs')\n",
      "Card(rank='A', suit='clubs')\n",
      "Card(rank='2', suit='hearts')\n",
      "Card(rank='3', suit='hearts')\n",
      "Card(rank='4', suit='hearts')\n",
      "Card(rank='5', suit='hearts')\n",
      "Card(rank='6', suit='hearts')\n",
      "Card(rank='7', suit='hearts')\n",
      "Card(rank='8', suit='hearts')\n",
      "Card(rank='9', suit='hearts')\n",
      "Card(rank='10', suit='hearts')\n",
      "Card(rank='J', suit='hearts')\n",
      "Card(rank='Q', suit='hearts')\n",
      "Card(rank='K', suit='hearts')\n",
      "Card(rank='A', suit='hearts')\n"
     ]
    }
   ],
   "source": [
    "print(\"Print cards\")\n",
    "for card in deck:\n",
    "    print(card)"
   ]
  },
  {
   "cell_type": "markdown",
   "metadata": {},
   "source": [
    "- `reversed()` 사용 가능"
   ]
  },
  {
   "cell_type": "code",
   "execution_count": 12,
   "metadata": {
    "scrolled": true
   },
   "outputs": [
    {
     "name": "stdout",
     "output_type": "stream",
     "text": [
      "Print cards in reverse order\n",
      "Card(rank='A', suit='hearts')\n",
      "Card(rank='K', suit='hearts')\n",
      "Card(rank='Q', suit='hearts')\n",
      "Card(rank='J', suit='hearts')\n",
      "Card(rank='10', suit='hearts')\n",
      "Card(rank='9', suit='hearts')\n",
      "Card(rank='8', suit='hearts')\n",
      "Card(rank='7', suit='hearts')\n",
      "Card(rank='6', suit='hearts')\n",
      "Card(rank='5', suit='hearts')\n",
      "Card(rank='4', suit='hearts')\n",
      "Card(rank='3', suit='hearts')\n",
      "Card(rank='2', suit='hearts')\n",
      "Card(rank='A', suit='clubs')\n",
      "Card(rank='K', suit='clubs')\n",
      "Card(rank='Q', suit='clubs')\n",
      "Card(rank='J', suit='clubs')\n",
      "Card(rank='10', suit='clubs')\n",
      "Card(rank='9', suit='clubs')\n",
      "Card(rank='8', suit='clubs')\n",
      "Card(rank='7', suit='clubs')\n",
      "Card(rank='6', suit='clubs')\n",
      "Card(rank='5', suit='clubs')\n",
      "Card(rank='4', suit='clubs')\n",
      "Card(rank='3', suit='clubs')\n",
      "Card(rank='2', suit='clubs')\n",
      "Card(rank='A', suit='diamonds')\n",
      "Card(rank='K', suit='diamonds')\n",
      "Card(rank='Q', suit='diamonds')\n",
      "Card(rank='J', suit='diamonds')\n",
      "Card(rank='10', suit='diamonds')\n",
      "Card(rank='9', suit='diamonds')\n",
      "Card(rank='8', suit='diamonds')\n",
      "Card(rank='7', suit='diamonds')\n",
      "Card(rank='6', suit='diamonds')\n",
      "Card(rank='5', suit='diamonds')\n",
      "Card(rank='4', suit='diamonds')\n",
      "Card(rank='3', suit='diamonds')\n",
      "Card(rank='2', suit='diamonds')\n",
      "Card(rank='A', suit='spades')\n",
      "Card(rank='K', suit='spades')\n",
      "Card(rank='Q', suit='spades')\n",
      "Card(rank='J', suit='spades')\n",
      "Card(rank='10', suit='spades')\n",
      "Card(rank='9', suit='spades')\n",
      "Card(rank='8', suit='spades')\n",
      "Card(rank='7', suit='spades')\n",
      "Card(rank='6', suit='spades')\n",
      "Card(rank='5', suit='spades')\n",
      "Card(rank='4', suit='spades')\n",
      "Card(rank='3', suit='spades')\n",
      "Card(rank='2', suit='spades')\n"
     ]
    }
   ],
   "source": [
    "print(\"Print cards in reverse order\")\n",
    "for card in reversed(deck):\n",
    "    print(card)"
   ]
  },
  {
   "cell_type": "markdown",
   "metadata": {},
   "source": [
    "- `in` 가능"
   ]
  },
  {
   "cell_type": "code",
   "execution_count": 13,
   "metadata": {},
   "outputs": [
    {
     "name": "stdout",
     "output_type": "stream",
     "text": [
      "``Card('Q', 'hearts')`` in ``deck``?  True\n",
      "``Card('7', 'beasts')`` in ``deck``?  False\n"
     ]
    }
   ],
   "source": [
    "print(\"``Card('Q', 'hearts')`` in ``deck``? \", Card('Q', 'hearts') in deck)\n",
    "print(\"``Card('7', 'beasts')`` in ``deck``? \", Card('7', 'beasts') in deck)"
   ]
  },
  {
   "cell_type": "markdown",
   "metadata": {},
   "source": [
    "- `sorted()` 가능"
   ]
  },
  {
   "cell_type": "code",
   "execution_count": 14,
   "metadata": {
    "scrolled": true
   },
   "outputs": [
    {
     "name": "stdout",
     "output_type": "stream",
     "text": [
      "Rank of cards\n",
      "Card(rank='2', suit='clubs')\n",
      "Card(rank='2', suit='diamonds')\n",
      "Card(rank='2', suit='hearts')\n",
      "Card(rank='2', suit='spades')\n",
      "Card(rank='3', suit='clubs')\n",
      "Card(rank='3', suit='diamonds')\n",
      "Card(rank='3', suit='hearts')\n",
      "Card(rank='3', suit='spades')\n",
      "Card(rank='4', suit='clubs')\n",
      "Card(rank='4', suit='diamonds')\n",
      "Card(rank='4', suit='hearts')\n",
      "Card(rank='4', suit='spades')\n",
      "Card(rank='5', suit='clubs')\n",
      "Card(rank='5', suit='diamonds')\n",
      "Card(rank='5', suit='hearts')\n",
      "Card(rank='5', suit='spades')\n",
      "Card(rank='6', suit='clubs')\n",
      "Card(rank='6', suit='diamonds')\n",
      "Card(rank='6', suit='hearts')\n",
      "Card(rank='6', suit='spades')\n",
      "Card(rank='7', suit='clubs')\n",
      "Card(rank='7', suit='diamonds')\n",
      "Card(rank='7', suit='hearts')\n",
      "Card(rank='7', suit='spades')\n",
      "Card(rank='8', suit='clubs')\n",
      "Card(rank='8', suit='diamonds')\n",
      "Card(rank='8', suit='hearts')\n",
      "Card(rank='8', suit='spades')\n",
      "Card(rank='9', suit='clubs')\n",
      "Card(rank='9', suit='diamonds')\n",
      "Card(rank='9', suit='hearts')\n",
      "Card(rank='9', suit='spades')\n",
      "Card(rank='10', suit='clubs')\n",
      "Card(rank='10', suit='diamonds')\n",
      "Card(rank='10', suit='hearts')\n",
      "Card(rank='10', suit='spades')\n",
      "Card(rank='J', suit='clubs')\n",
      "Card(rank='J', suit='diamonds')\n",
      "Card(rank='J', suit='hearts')\n",
      "Card(rank='J', suit='spades')\n",
      "Card(rank='Q', suit='clubs')\n",
      "Card(rank='Q', suit='diamonds')\n",
      "Card(rank='Q', suit='hearts')\n",
      "Card(rank='Q', suit='spades')\n",
      "Card(rank='K', suit='clubs')\n",
      "Card(rank='K', suit='diamonds')\n",
      "Card(rank='K', suit='hearts')\n",
      "Card(rank='K', suit='spades')\n",
      "Card(rank='A', suit='clubs')\n",
      "Card(rank='A', suit='diamonds')\n",
      "Card(rank='A', suit='hearts')\n",
      "Card(rank='A', suit='spades')\n"
     ]
    }
   ],
   "source": [
    "suit_values = dict(spades=3, hearts=2, diamonds=2, clubs=1)\n",
    "\n",
    "\n",
    "def spades_high(card):\n",
    "    \"\"\"\n",
    "    1st: Spade Ace\n",
    "    2nd: Heart Ace \n",
    "    3rd: Diamond Ace \n",
    "    4th: Club Ace\n",
    "    5th: Spade 2\n",
    "    6th: Heart 2\n",
    "    \"\"\"\n",
    "    rank_value = FrenchDeck.ranks.index(card.rank)\n",
    "    return rank_value * len(suit_values) + suit_values[card.suit]\n",
    "\n",
    "print(\"Rank of cards\")\n",
    "for card in sorted(deck, key=spades_high):\n",
    "    print(card)"
   ]
  },
  {
   "cell_type": "markdown",
   "metadata": {},
   "source": [
    "## 1.2 특별 메서드는 어떻게 사용되나?\n",
    "특별 메서드는 파이썬 인터프리터가 호출하기 위한 것이다. 사용자는 특별 메서드를 정의만 해주고 내장 함수를 호출하는 것이 좋다. 직접 특별 메서드를 호출하는 상황은 지양하자. (클래스 내부에서도 호출하지 않는다.)\n",
    "-  `my_object.__len__()` -> 벌점 1점 \n",
    "- 예외적으로 `__init__()`는 슈퍼클래스의 `__init__()` 메서드 호출할 때 많이 호출된다.\n",
    "\n",
    "<br>\n",
    "\n",
    "### 1.2.1 ~ 1.2.4 수치형 흉내내기, 문자열 표현, 산술 연산자, 사용자 정의형의 불리언 값\n",
    "\n",
    "파이썬 내장 자료형 (`list`, `str`, `bytearray` 등)은 더욱 쉬운 방법으로 연산을 수행한다.\n",
    "\n",
    "- `__abs__(self)`: 인스턴스의 크기나 절댓값\n",
    "- `__add__(self, sth)`: `+` 연산을 정의한다. \n",
    "  - 인스턴스가 왼쪽 `sth`가 오른쪽에 위치해야 한다. `__radd__(self, sth)`으로 인스턴스가 오른쪽에 있는 경우를 정의할 수 있다.\n",
    "- `__mul__(self, sth)`: `*` 연산을 정의한다. \n",
    "  - 인스턴스가 왼쪽 `sth`가 오른쪽에 위치해야 한다. `__rmul__(self, sth)`으로 인스턴스가 오른쪽에 있는 경우를 정의할 수 있다.\n",
    "- `__repr__(self)`: 객체를 문자열로 표현. 내장 메서드 `repr()`에 의해 호출된다. 가능하면 표현된 객체를 재생성하는 데 필요한 소스코드와 일치해야 한다.\n",
    "  - (ps) `__str__(self)`는 `str()` 생성자에 의해 생성되며 `print` 함수에 의해 암묵적으로 사용된다. 사용자에게 보여주기 적당한 문자열을 반환해야 한다. \n",
    "  - 디버깅 및 로그에 사용하는 형태와 사용자에게 보여주기 위한 형태를 제공해준다.\n",
    "  - 둘 중 하나를 구현해야 한다면, `__repr__(self)`를 구현하는 것이 좋다. `__str__(self)`가 구현되지 않았다면 `__repr__(self)`를 호출하기 때문이다. 하지만 `__repr__(self)`이 구현되지 않았다고 `__str__(self)`을 호출하진 않는다.\n",
    "- `__bool__(self)`: 객체의 논리 값을 부여, 정의하지 않을 경우 `True`로 간주한다."
   ]
  },
  {
   "cell_type": "code",
   "execution_count": 15,
   "metadata": {},
   "outputs": [],
   "source": [
    "from math import hypot\n",
    "\n",
    "\n",
    "class Vector:\n",
    "    def __init__(self, x=0, y=0):\n",
    "        self.x = x\n",
    "        self.y = y\n",
    "        \n",
    "    def __repr__(self):\n",
    "        return 'Vector(%r, %r)' % (self.x, self.y)\n",
    "    \n",
    "    def __abs__(self):\n",
    "        return hypot(self.x, self.y)\n",
    "    \n",
    "    def __bool__(self):\n",
    "        return bool(abs(self))\n",
    "    \n",
    "    def __add__(self, other):\n",
    "        x = self.x + other.x\n",
    "        y = self.y + other.y\n",
    "        return Vector(x, y)\n",
    "    \n",
    "    def __mul__(self, scalar):\n",
    "        return Vector(self.x * scalar, self.y * scalar)\n",
    "\n",
    "    def __rmul__(self, scalar):\n",
    "        return Vector(self.x * scalar, self.y * scalar)"
   ]
  },
  {
   "cell_type": "code",
   "execution_count": 16,
   "metadata": {},
   "outputs": [
    {
     "name": "stdout",
     "output_type": "stream",
     "text": [
      "v1 + v2:  Vector(4, 5)\n",
      "\n",
      "v1:  Vector(2, 4)\n",
      "The norm of v:  5.0\n",
      "v * 3:  Vector(9, 12)\n",
      "The norm of v * 3:  15.0\n"
     ]
    }
   ],
   "source": [
    "v1 = Vector(2, 4)\n",
    "v2 = Vector(2, 1)\n",
    "print(\"v1 + v2: \", v1 + v2)\n",
    "\n",
    "print(\"\")\n",
    "v = Vector(3, 4)\n",
    "print(\"v1: \", v1)\n",
    "print(\"The norm of v: \", abs(v))\n",
    "print(\"v * 3: \", v * 3)  # 3 * v는 안 된다.\n",
    "print(\"The norm of v * 3: \", abs(3 * v))"
   ]
  },
  {
   "cell_type": "markdown",
   "metadata": {},
   "source": [
    "- 넘파이 배열 `@` 연산 -> `__matmul__()`"
   ]
  },
  {
   "cell_type": "code",
   "execution_count": 17,
   "metadata": {},
   "outputs": [
    {
     "data": {
      "text/plain": [
       "array([[19., 22.],\n",
       "       [43., 50.]])"
      ]
     },
     "execution_count": 17,
     "metadata": {},
     "output_type": "execute_result"
    }
   ],
   "source": [
    "import numpy as np\n",
    "\n",
    "X = np.array([[1., 2.],\n",
    "              [3., 4.]])\n",
    "\n",
    "Y = np.array([[5., 6.],\n",
    "              [7., 8.]])\n",
    "\n",
    "X @ Y"
   ]
  },
  {
   "cell_type": "markdown",
   "metadata": {},
   "source": [
    "\n",
    "## 1.3 특별 메서드 개요\n",
    "파이썬 공식 문서의 \"[데이터 모델 (Data Model)](https://docs.python.org/3/reference/datamodel.html)\"장에서는 83개의 특별 메서드를 소개하고 있다. 다음은 전문가를 위한 파이썬 49pg에 특별 메서드 목록을 보여주고 있다. 아래 특별 메서드는 책의 모든 부분에서 설명을 할 예정이라고 한다.\n",
    "\n",
    "![table1-1 and table1-2](../src/img/img1-1.jpeg)\n"
   ]
  },
  {
   "cell_type": "code",
   "execution_count": 36,
   "metadata": {},
   "outputs": [],
   "source": [
    "class People:\n",
    "    def __init__(self, age):\n",
    "        self._age = age\n",
    "        \n",
    "    def age(self):\n",
    "        print(self._age)\n"
   ]
  },
  {
   "cell_type": "code",
   "execution_count": 37,
   "metadata": {},
   "outputs": [],
   "source": [
    "class Me(People):\n",
    "    def __init__(self, age):\n",
    "        super(Me, self).__init__(age)\n",
    "        \n",
    "    pass"
   ]
  },
  {
   "cell_type": "code",
   "execution_count": null,
   "metadata": {},
   "outputs": [],
   "source": []
  }
 ],
 "metadata": {
  "kernelspec": {
   "display_name": "Python 3",
   "language": "python",
   "name": "python3"
  },
  "language_info": {
   "codemirror_mode": {
    "name": "ipython",
    "version": 3
   },
   "file_extension": ".py",
   "mimetype": "text/x-python",
   "name": "python",
   "nbconvert_exporter": "python",
   "pygments_lexer": "ipython3",
   "version": "3.8.8"
  },
  "vscode": {
   "interpreter": {
    "hash": "ad2bdc8ecc057115af97d19610ffacc2b4e99fae6737bb82f5d7fb13d2f2c186"
   }
  }
 },
 "nbformat": 4,
 "nbformat_minor": 2
}
