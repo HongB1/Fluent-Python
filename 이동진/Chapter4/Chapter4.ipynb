{
 "cells": [
  {
   "cell_type": "markdown",
   "metadata": {},
   "source": [
    "# 4 텍스트와 바이트\n",
    "- 유니코드 문자열과 이진 시퀀스, 그리고 이 둘 간의 변환에 사용되는 인코딩\n",
    "\n",
    "## 4.1 문자 문제\n",
    "- 문자열은 문자의 열이며, 여기서 문자는 유니코드 문자이다.\n",
    "- 유니코드 표준은 문자의 단위 원소와 특정 바이트 표현을 명확히 구분한다.\n",
    "  - 문자의 단위 원소 (코드 포인트)는 10진수 0부터 1,114,111까지의 숫자이며, 유니코드 표쥰에서는 'U+' 접두사를 붙여 4자리에서 6자리 사이의 16진수로 표현\n",
    "- 코드 포인트를 바이트로 변환하는 것은 **인코딩**, 바이트를 코드 포인트로 변환하는 것을 **디코딩**이라고 한다."
   ]
  },
  {
   "cell_type": "code",
   "execution_count": 1,
   "metadata": {},
   "outputs": [
    {
     "data": {
      "text/plain": [
       "4"
      ]
     },
     "execution_count": 1,
     "metadata": {},
     "output_type": "execute_result"
    }
   ],
   "source": [
    "# 예제 4-1\n",
    "s = 'café'\n",
    "len(s)  # 문자열은 네 개의 유니코드 문자를 갖고 있다."
   ]
  },
  {
   "cell_type": "code",
   "execution_count": 2,
   "metadata": {},
   "outputs": [
    {
     "data": {
      "text/plain": [
       "(b'caf\\xc3\\xa9', 5)"
      ]
     },
     "execution_count": 2,
     "metadata": {},
     "output_type": "execute_result"
    }
   ],
   "source": [
    "b = s.encode('utf8')  # UTF-8 인코딩을 사용하여 str을 bytes로 인코딩\n",
    "b, len(b)  # bytes가 다섯 바이트로 구성되어 있다. é가 UTF-8에서 두 바이트로 인코딩되기 때문이다."
   ]
  },
  {
   "cell_type": "code",
   "execution_count": 3,
   "metadata": {},
   "outputs": [
    {
     "data": {
      "text/plain": [
       "'café'"
      ]
     },
     "execution_count": 3,
     "metadata": {},
     "output_type": "execute_result"
    }
   ],
   "source": [
    "b.decode('utf-8')"
   ]
  },
  {
   "cell_type": "markdown",
   "metadata": {},
   "source": [
    "## 4.2 바이트에 대한 기본 지식\n",
    "- 이진 시퀀스를 위한 내장 자료형으로는 `bytes` (불변형)와 `bytearray` (가변형)가 있다.\n",
    "- 이 둘의 각 항목은 0과 255사이의 정수이다.\n",
    "- 하지만 출력 리터럴은 아스키 코드 또는 16진수로 보여준다.\n"
   ]
  },
  {
   "cell_type": "code",
   "execution_count": 4,
   "metadata": {},
   "outputs": [
    {
     "name": "stdout",
     "output_type": "stream",
     "text": [
      "b'caf\\xc3\\xa9'\n",
      "int :  hex : chr\n",
      "==================\n",
      " 99 : 0x63 :  c\n",
      " 97 : 0x61 :  a\n",
      "102 : 0x66 :  f\n",
      "195 : 0xc3 :  Ã\n",
      "169 : 0xa9 :  ©\n"
     ]
    }
   ],
   "source": [
    "# 예제 4-2 bytes와 bytearray로 저장한 5바이트 시퀀스\n",
    "cafe = bytes('café', encoding='utf_8')\n",
    "\n",
    "fmt = '{0:>3d} : {1:>4s} : {2:>2s}'\n",
    "print(cafe)  # b''의 b가 바이트를 의미\n",
    "print('int :  hex : chr')\n",
    "print('==================')\n",
    "for item in cafe:\n",
    "    print(fmt.format(item, hex(item), chr(item)))"
   ]
  },
  {
   "cell_type": "code",
   "execution_count": 5,
   "metadata": {},
   "outputs": [
    {
     "data": {
      "text/plain": [
       "bytearray(b'caf\\xc3\\xa9')"
      ]
     },
     "execution_count": 5,
     "metadata": {},
     "output_type": "execute_result"
    }
   ],
   "source": [
    "cafe_arr = bytearray(cafe)\n",
    "cafe_arr"
   ]
  },
  {
   "cell_type": "markdown",
   "metadata": {},
   "source": [
    "- `format()`, `format_map()`을 제외하고 `str`이 제공하는 메서드를 모두 제공\n",
    "- 유니코드 데이터 관련 메서드 제공\n"
   ]
  },
  {
   "cell_type": "code",
   "execution_count": 6,
   "metadata": {},
   "outputs": [
    {
     "name": "stdout",
     "output_type": "stream",
     "text": [
      "b'1K\\xce\\xa9'\n"
     ]
    },
    {
     "data": {
      "text/plain": [
       "'1KΩ'"
      ]
     },
     "execution_count": 6,
     "metadata": {},
     "output_type": "execute_result"
    }
   ],
   "source": [
    "# 16진수로부터 이진 시퀀스 만들기\n",
    "b = bytes.fromhex('31 4B CE A9')\n",
    "print(b)\n",
    "b.decode('utf-8')\n"
   ]
  },
  {
   "cell_type": "markdown",
   "metadata": {},
   "source": [
    "- 버퍼 등의 객체로부터 이진 시퀀스를 생성하는 방법은 저수준 연산으로서, 형변환이 필요할 수 있다.\n"
   ]
  },
  {
   "cell_type": "code",
   "execution_count": 7,
   "metadata": {},
   "outputs": [
    {
     "data": {
      "text/plain": [
       "b'\\xfe\\xff\\xff\\xff\\x00\\x00\\x01\\x00\\x02\\x00'"
      ]
     },
     "execution_count": 7,
     "metadata": {},
     "output_type": "execute_result"
    }
   ],
   "source": [
    "# 예제 4.3 배열의 원시 데이터에서 bytes 초기화하기\n",
    "import array\n",
    "\n",
    "numbers = array.array('h', [-2, -1, 0, 1, 2])  # h: short int (16 bit)\n",
    "octets = bytes(numbers)\n",
    "octets"
   ]
  },
  {
   "cell_type": "markdown",
   "metadata": {},
   "source": [
    "### 4.2.1 구조체와 메모리 뷰\n",
    "`struct` 모듈은 패킹된 바이트를 다양한 형의 필드로 구성된 튜플로 분석하고, 튜플을 패킹된 바이트로 변환하는 함수를 제공"
   ]
  },
  {
   "cell_type": "code",
   "execution_count": 8,
   "metadata": {},
   "outputs": [
    {
     "data": {
      "text/plain": [
       "b'GIF89a\\x80\\x02\\x86\\x01'"
      ]
     },
     "execution_count": 8,
     "metadata": {},
     "output_type": "execute_result"
    }
   ],
   "source": [
    "# 예제 4-4 memoryview와 struct를 사용해서 GIF 이미지 헤더 조사하기\n",
    "import struct\n",
    "fmt = '<3s3sHH'\n",
    "\n",
    "with open('filter.gif', 'rb') as fp:\n",
    "    img = memoryview(fp.read())\n",
    "    \n",
    "header = img[:10]  # 새로운 memorhview 객체 반환 (바이트 10개 항목 주지 않음)\n",
    "bytes(header)"
   ]
  },
  {
   "cell_type": "code",
   "execution_count": 9,
   "metadata": {},
   "outputs": [
    {
     "data": {
      "text/plain": [
       "(b'GIF', b'89a', 640, 390)"
      ]
     },
     "execution_count": 9,
     "metadata": {},
     "output_type": "execute_result"
    }
   ],
   "source": [
    "struct.unpack(fmt, header)  # (종류, 버전, 너비, 높이) 튜플로 언패킹"
   ]
  },
  {
   "cell_type": "code",
   "execution_count": 10,
   "metadata": {},
   "outputs": [],
   "source": [
    "del header\n",
    "del img"
   ]
  },
  {
   "cell_type": "markdown",
   "metadata": {},
   "source": [
    "## 4.3 기본 인코더/디코더\n",
    "- 파이썬에서는 100여 개의 코덱(인코더/디코더)을 제공"
   ]
  },
  {
   "cell_type": "code",
   "execution_count": 11,
   "metadata": {},
   "outputs": [
    {
     "name": "stdout",
     "output_type": "stream",
     "text": [
      "latin_1\tb'El Ni\\xf1o'\n",
      "utf_8\tb'El Ni\\xc3\\xb1o'\n",
      "utf_16\tb'\\xff\\xfeE\\x00l\\x00 \\x00N\\x00i\\x00\\xf1\\x00o\\x00'\n"
     ]
    }
   ],
   "source": [
    "# 예제 4-5 전혀 다른 바이트 시퀀스를 만드는 세 개의 코덱으로 인코딩한 'El Niño' 문자열\n",
    "for codec in ['latin_1', 'utf_8', 'utf_16']:\n",
    "    print(codec, 'El Niño'.encode(codec), sep='\\t')"
   ]
  },
  {
   "cell_type": "markdown",
   "metadata": {},
   "source": [
    "## 4.4 인코딩/디코딩 문제 이해하기\n",
    "### 4.4.1 UnicodeEncodeError 처리하기\n",
    "- 주어진 코덱에 문자가 대상 인코딩에 정의되어 있지 않으면 발생\n"
   ]
  },
  {
   "cell_type": "code",
   "execution_count": 12,
   "metadata": {},
   "outputs": [
    {
     "data": {
      "text/plain": [
       "b'S\\xc3\\xa3o Paulo'"
      ]
     },
     "execution_count": 12,
     "metadata": {},
     "output_type": "execute_result"
    }
   ],
   "source": [
    "# 예제 4-6 바이트로 인코딩하기: 성공 및 에러 처리\n",
    "city = 'São Paulo'\n",
    "city.encode('utf_8')"
   ]
  },
  {
   "cell_type": "code",
   "execution_count": 13,
   "metadata": {},
   "outputs": [
    {
     "data": {
      "text/plain": [
       "b'\\xff\\xfeS\\x00\\xe3\\x00o\\x00 \\x00P\\x00a\\x00u\\x00l\\x00o\\x00'"
      ]
     },
     "execution_count": 13,
     "metadata": {},
     "output_type": "execute_result"
    }
   ],
   "source": [
    "city.encode('utf_16')"
   ]
  },
  {
   "cell_type": "code",
   "execution_count": 14,
   "metadata": {},
   "outputs": [
    {
     "data": {
      "text/plain": [
       "b'S\\xe3o Paulo'"
      ]
     },
     "execution_count": 14,
     "metadata": {},
     "output_type": "execute_result"
    }
   ],
   "source": [
    "city.encode('iso8859_1')"
   ]
  },
  {
   "cell_type": "code",
   "execution_count": 15,
   "metadata": {},
   "outputs": [
    {
     "ename": "UnicodeEncodeError",
     "evalue": "'charmap' codec can't encode character '\\xe3' in position 1: character maps to <undefined>",
     "output_type": "error",
     "traceback": [
      "\u001b[0;31m---------------------------------------------------------------------------\u001b[0m",
      "\u001b[0;31mUnicodeEncodeError\u001b[0m                        Traceback (most recent call last)",
      "\u001b[1;32m/Users/dongjin/Library/CloudStorage/OneDrive-postech.ac.kr/projects/fluent-python/Fluent-Python/이동진/Chapter4/Chapter4.ipynb 셀 22\u001b[0m in \u001b[0;36m<module>\u001b[0;34m\u001b[0m\n\u001b[0;32m----> <a href='vscode-notebook-cell:/Users/dongjin/Library/CloudStorage/OneDrive-postech.ac.kr/projects/fluent-python/Fluent-Python/%EC%9D%B4%EB%8F%99%EC%A7%84/Chapter4/Chapter4.ipynb#X30sZmlsZQ%3D%3D?line=0'>1</a>\u001b[0m city\u001b[39m.\u001b[39;49mencode(\u001b[39m'\u001b[39;49m\u001b[39mcp437\u001b[39;49m\u001b[39m'\u001b[39;49m)\n",
      "File \u001b[0;32m/opt/homebrew/Caskroom/miniforge/base/envs/torch/lib/python3.8/encodings/cp437.py:12\u001b[0m, in \u001b[0;36mCodec.encode\u001b[0;34m(self, input, errors)\u001b[0m\n\u001b[1;32m     11\u001b[0m \u001b[39mdef\u001b[39;00m \u001b[39mencode\u001b[39m(\u001b[39mself\u001b[39m,\u001b[39minput\u001b[39m,errors\u001b[39m=\u001b[39m\u001b[39m'\u001b[39m\u001b[39mstrict\u001b[39m\u001b[39m'\u001b[39m):\n\u001b[0;32m---> 12\u001b[0m     \u001b[39mreturn\u001b[39;00m codecs\u001b[39m.\u001b[39;49mcharmap_encode(\u001b[39minput\u001b[39;49m,errors,encoding_map)\n",
      "\u001b[0;31mUnicodeEncodeError\u001b[0m: 'charmap' codec can't encode character '\\xe3' in position 1: character maps to <undefined>"
     ]
    }
   ],
   "source": [
    "city.encode('cp437')"
   ]
  },
  {
   "cell_type": "code",
   "execution_count": 16,
   "metadata": {},
   "outputs": [
    {
     "data": {
      "text/plain": [
       "b'So Paulo'"
      ]
     },
     "execution_count": 16,
     "metadata": {},
     "output_type": "execute_result"
    }
   ],
   "source": [
    "city.encode('cp437', errors='ignore')  # 스킵하고 진행"
   ]
  },
  {
   "cell_type": "code",
   "execution_count": 17,
   "metadata": {},
   "outputs": [
    {
     "data": {
      "text/plain": [
       "b'S?o Paulo'"
      ]
     },
     "execution_count": 17,
     "metadata": {},
     "output_type": "execute_result"
    }
   ],
   "source": [
    "city.encode('cp437', errors='replace')  # ?로 치환"
   ]
  },
  {
   "cell_type": "code",
   "execution_count": 18,
   "metadata": {},
   "outputs": [
    {
     "data": {
      "text/plain": [
       "b'S&#227;o Paulo'"
      ]
     },
     "execution_count": 18,
     "metadata": {},
     "output_type": "execute_result"
    }
   ],
   "source": [
    "city.encode('cp437', errors='xmlcharrefreplace')  # XML개체로 치환"
   ]
  },
  {
   "cell_type": "markdown",
   "metadata": {},
   "source": [
    "### 4,4,2 UnicodeDecodeError 처리하기\n",
    "- 모든 바이트가 정당한 아스키 문자가 될 수 없다.\n",
    "- 모든 바이트 시퀀스가 정당한 UTF-8이나 UTF-16 문자가 되는 것은 아니다.\n",
    "- 이진 시퀀스를 텍스트로 변환할 때 정당한 문자로 변환할 수 없으면 발생\n"
   ]
  },
  {
   "cell_type": "code",
   "execution_count": 19,
   "metadata": {},
   "outputs": [
    {
     "data": {
      "text/plain": [
       "'Montréal'"
      ]
     },
     "execution_count": 19,
     "metadata": {},
     "output_type": "execute_result"
    }
   ],
   "source": [
    "# 예제 4-7 bytes에서 str으로 디코딩하기: 성공 및 에러 처리\n",
    "octets = b'Montr\\xe9al'  # Montréal\n",
    "octets.decode('cp1252')"
   ]
  },
  {
   "cell_type": "code",
   "execution_count": 20,
   "metadata": {},
   "outputs": [
    {
     "data": {
      "text/plain": [
       "'Montrιal'"
      ]
     },
     "execution_count": 20,
     "metadata": {},
     "output_type": "execute_result"
    }
   ],
   "source": [
    "octets.decode('iso8859_7')  #  잘못됌"
   ]
  },
  {
   "cell_type": "code",
   "execution_count": 21,
   "metadata": {},
   "outputs": [
    {
     "data": {
      "text/plain": [
       "'MontrИal'"
      ]
     },
     "execution_count": 21,
     "metadata": {},
     "output_type": "execute_result"
    }
   ],
   "source": [
    "octets.decode('koi8_r')  #  잘못됌"
   ]
  },
  {
   "cell_type": "code",
   "execution_count": 22,
   "metadata": {},
   "outputs": [
    {
     "ename": "UnicodeDecodeError",
     "evalue": "'utf-8' codec can't decode byte 0xe9 in position 5: invalid continuation byte",
     "output_type": "error",
     "traceback": [
      "\u001b[0;31m---------------------------------------------------------------------------\u001b[0m",
      "\u001b[0;31mUnicodeDecodeError\u001b[0m                        Traceback (most recent call last)",
      "\u001b[1;32m/Users/dongjin/Library/CloudStorage/OneDrive-postech.ac.kr/projects/fluent-python/Fluent-Python/이동진/Chapter4/Chapter4.ipynb 셀 30\u001b[0m in \u001b[0;36m<module>\u001b[0;34m\u001b[0m\n\u001b[0;32m----> <a href='vscode-notebook-cell:/Users/dongjin/Library/CloudStorage/OneDrive-postech.ac.kr/projects/fluent-python/Fluent-Python/%EC%9D%B4%EB%8F%99%EC%A7%84/Chapter4/Chapter4.ipynb#X41sZmlsZQ%3D%3D?line=0'>1</a>\u001b[0m octets\u001b[39m.\u001b[39;49mdecode(\u001b[39m'\u001b[39;49m\u001b[39mutf-8\u001b[39;49m\u001b[39m'\u001b[39;49m)\n",
      "\u001b[0;31mUnicodeDecodeError\u001b[0m: 'utf-8' codec can't decode byte 0xe9 in position 5: invalid continuation byte"
     ]
    }
   ],
   "source": [
    "octets.decode('utf-8')"
   ]
  },
  {
   "cell_type": "code",
   "execution_count": 23,
   "metadata": {},
   "outputs": [
    {
     "data": {
      "text/plain": [
       "'Montr�al'"
      ]
     },
     "execution_count": 23,
     "metadata": {},
     "output_type": "execute_result"
    }
   ],
   "source": [
    "octets.decode('utf-8', errors='replace')"
   ]
  },
  {
   "cell_type": "markdown",
   "metadata": {},
   "source": [
    "### 4.4.3 예상과 달리 인코딩된 모듈을 로딩할 때 발생하는 SyntaxError\n",
    "- UTF-8을 소스 코드 기본 인코딩 방식으로 사용"
   ]
  },
  {
   "cell_type": "code",
   "execution_count": 24,
   "metadata": {},
   "outputs": [
    {
     "name": "stdout",
     "output_type": "stream",
     "text": [
      "Olá, Mundo!\n"
     ]
    }
   ],
   "source": [
    "import ola"
   ]
  },
  {
   "cell_type": "markdown",
   "metadata": {},
   "source": [
    "### 4.4.4 바이트 시퀀스의 인코딩 방식을 알아내는 방법\n",
    "- 바이트 시퀀스가 주어졌을 때, 이 바이트 시퀀스의 인코딩 방식을 알아낼 수 없다.\n",
    "- 통계적으로 추정할 수는 있다\n",
    "\n",
    "### 4.4.5 BOM: 유용한 깨진 문자\n",
    "  - 바이트 순서 표시 (byte order mark)"
   ]
  },
  {
   "cell_type": "code",
   "execution_count": 28,
   "metadata": {},
   "outputs": [
    {
     "data": {
      "text/plain": [
       "b'\\xff\\xfeE\\x00l\\x00 \\x00N\\x00i\\x00\\xf1\\x00o\\x00'"
      ]
     },
     "execution_count": 28,
     "metadata": {},
     "output_type": "execute_result"
    }
   ],
   "source": [
    "u16 = 'El Niño'.encode('utf_16')\n",
    "u16  # E 앞에 2개의 16진수가 있는 것을 확인할 수 있다."
   ]
  },
  {
   "cell_type": "markdown",
   "metadata": {},
   "source": [
    "- `\\xff\\xfe`이 BOM으로 인코딩한 인텔 CPU의 리틀엔디언 바이트 순서를 나타낸다.\n",
    "- 리틀엔디언에서는 첫 2개로 촤하위 바이트 255, 254가 먼저 나온 후, 코드 포인트가 2개 바이트로 인코딩된다.\n",
    "  - 255, 254의 의미는 ZERO WIDTH NO-BREAK SPACE (U+FEFF)이다.\n",
    "- 엔디언 문제는 한 바이트 이상을 워드로 사용하는 UTF-16, UTF-32에만 영향을 준다.\n",
    "  - UTF-8은 엔디언에 상관 없이 동일한 바이트 시퀀스를 생성한다."
   ]
  },
  {
   "cell_type": "code",
   "execution_count": 26,
   "metadata": {},
   "outputs": [
    {
     "data": {
      "text/plain": [
       "[255, 254, 69, 0, 108, 0, 32, 0, 78, 0, 105, 0, 241, 0, 111, 0]"
      ]
     },
     "execution_count": 26,
     "metadata": {},
     "output_type": "execute_result"
    }
   ],
   "source": [
    "list(u16)"
   ]
  },
  {
   "cell_type": "markdown",
   "metadata": {},
   "source": [
    "- 인코딩 방식에 le 또는 be를 명시하면 더 이상 BOM을 생성하지 않는다.\n"
   ]
  },
  {
   "cell_type": "code",
   "execution_count": 30,
   "metadata": {},
   "outputs": [
    {
     "data": {
      "text/plain": [
       "[69, 0, 108, 0, 32, 0, 78, 0, 105, 0, 241, 0, 111, 0]"
      ]
     },
     "execution_count": 30,
     "metadata": {},
     "output_type": "execute_result"
    }
   ],
   "source": [
    "u16_le = 'El Niño'.encode('utf_16le')\n",
    "list(u16_le)  # E 앞에 2개의 16진수가 있는 것을 확인할 수 있다."
   ]
  },
  {
   "cell_type": "code",
   "execution_count": 32,
   "metadata": {},
   "outputs": [
    {
     "data": {
      "text/plain": [
       "[0, 69, 0, 108, 0, 32, 0, 78, 0, 105, 0, 241, 0, 111]"
      ]
     },
     "execution_count": 32,
     "metadata": {},
     "output_type": "execute_result"
    }
   ],
   "source": [
    "u16_be = 'El Niño'.encode('utf_16be')\n",
    "list(u16_be)  # E 앞에 2개의 16진수가 있는 것을 확인할 수 있다."
   ]
  },
  {
   "cell_type": "markdown",
   "metadata": {},
   "source": [
    "## 4.5 텍스트 파일 다루기\n",
    "텍스트를 처리하는 최고의 방법\n",
    "- 파일을 열 때 가능한 빨리 `bytes`를 `str`으로 변환 (디코딩)\n",
    "- 파일 처리 중에는 오로지 `str` 객체로 다루고, 인코딩 또는 디코딩을 자제\n",
    "- 파일을 출력할 때, `str`을 `bytes`로 인코딩"
   ]
  },
  {
   "cell_type": "code",
   "execution_count": 33,
   "metadata": {},
   "outputs": [
    {
     "data": {
      "text/plain": [
       "4"
      ]
     },
     "execution_count": 33,
     "metadata": {},
     "output_type": "execute_result"
    }
   ],
   "source": [
    "# 예제 4-9 플랫폼 인코딩 문제\n",
    "open('cafe.txt', 'w', encoding='utf_8').write('café')"
   ]
  },
  {
   "cell_type": "markdown",
   "metadata": {},
   "source": [
    "- 만약 encoding을 지정해주지 않으면, default로 인코딩한다. 기본 설정의 인코딩을 사용하는 것보다 인코딩을 지정해주는 편이 좋다."
   ]
  },
  {
   "cell_type": "code",
   "execution_count": 34,
   "metadata": {},
   "outputs": [
    {
     "data": {
      "text/plain": [
       "'café'"
      ]
     },
     "execution_count": 34,
     "metadata": {},
     "output_type": "execute_result"
    }
   ],
   "source": [
    "open('cafe.txt').read()    "
   ]
  },
  {
   "cell_type": "code",
   "execution_count": 35,
   "metadata": {},
   "outputs": [
    {
     "data": {
      "text/plain": [
       "5"
      ]
     },
     "execution_count": 35,
     "metadata": {},
     "output_type": "execute_result"
    }
   ],
   "source": [
    "# 예제 4-10 버그와 해결 방법\n",
    "import os\n",
    "\n",
    "os.stat('cafe.txt').st_size"
   ]
  },
  {
   "cell_type": "code",
   "execution_count": 37,
   "metadata": {},
   "outputs": [
    {
     "name": "stdout",
     "output_type": "stream",
     "text": [
      "UTF-8\n"
     ]
    }
   ],
   "source": [
    "fp2 = open('cafe.txt')\n",
    "print(fp2.encoding)\n",
    "fp2.close()"
   ]
  },
  {
   "cell_type": "code",
   "execution_count": 38,
   "metadata": {},
   "outputs": [
    {
     "name": "stdout",
     "output_type": "stream",
     "text": [
      "b'caf\\xc3\\xa9'\n"
     ]
    }
   ],
   "source": [
    "fp4 = open('cafe.txt', 'rb')  # 이진 모드로 여는 것은 좋지 않다. 일반적으로 래스터 이미지 등 이진 파일을 열 때만 이진 모드를 사용한다.\n",
    "print(fp4.read())\n",
    "fp4.close()"
   ]
  },
  {
   "cell_type": "markdown",
   "metadata": {},
   "source": [
    "## 4.6 제대로 비교하기 위해 유니코드 정규화하기\n",
    "- 유니코드에는 결합 문자가 있기 때문에 문자열 비교가 간단하지 않다.\n",
    "- 앞 문자에 연결되는 발음 구별 기호는 인쇄할 때 앞 문자와 하나로 결합되어 출력된다.\n",
    "  "
   ]
  },
  {
   "cell_type": "markdown",
   "metadata": {},
   "source": [
    "- 코드 포인트 U+0301 (`\\u0301`)은 COMBINING ACUTE ACCENT\n",
    "- 유니코드에서는 `é`와 `e\\u0301`을 규범적으로 동일하다고 정의. 따라서 프로그램에서는 이 둘이 같아야 한다. "
   ]
  },
  {
   "cell_type": "code",
   "execution_count": 39,
   "metadata": {},
   "outputs": [
    {
     "name": "stdout",
     "output_type": "stream",
     "text": [
      "café café\n",
      "4 5\n",
      "False\n"
     ]
    }
   ],
   "source": [
    "s1 = 'café'\n",
    "s2 = 'cafe\\u0301'\n",
    "\n",
    "print(s1, s2)\n",
    "\n",
    "print(len(s1), len(s2))\n",
    "\n",
    "print(s1 == s2)"
   ]
  },
  {
   "cell_type": "markdown",
   "metadata": {},
   "source": [
    "- 이 문제를 해결하기 위해 `unicodedata.normalize()` 함수가 제공하는 유니코드 정규화를 이용해야 한다.\n",
    "- Normalize qkdqjqdpsms NFC, NFD, NFKC, NFKD가 있다.\n",
    "  - NFC: 결합한 짧은 상태로 비교\n",
    "  - NFD: 결합 해제한 긴 상태로 비교\n",
    "- 사용자가 입력한 파일을 저장할 때, NFC로 normalize해주고 저장하는 것이 좋다. (W3C가 추천하는 정규화 형식)"
   ]
  },
  {
   "cell_type": "code",
   "execution_count": 40,
   "metadata": {},
   "outputs": [
    {
     "name": "stdout",
     "output_type": "stream",
     "text": [
      "4 5\n",
      "4 4\n",
      "5 5\n",
      "True\n",
      "True\n"
     ]
    }
   ],
   "source": [
    "from unicodedata import normalize\n",
    "s1 = 'café'\n",
    "s2 = 'cafe\\u0301'\n",
    "\n",
    "print(len(s1), len(s2))\n",
    "print(len(normalize('NFC', s1)), len(normalize('NFC', s2)))\n",
    "print(len(normalize('NFD', s1)), len(normalize('NFD', s2)))\n",
    "\n",
    "print(normalize('NFC', s1) == normalize('NFC', s2))\n",
    "print(normalize('NFD', s1) == normalize('NFD', s2))\n"
   ]
  },
  {
   "cell_type": "markdown",
   "metadata": {},
   "source": [
    "- NFC에 의해 한 문자가 다른 문자로 정규화될 때도 있다.\n",
    "- 똑같이 생긴 두 옴이 서로 다르다고 나오는 것을 방지하기 위해 normalize를 해줘야 한다."
   ]
  },
  {
   "cell_type": "code",
   "execution_count": 44,
   "metadata": {},
   "outputs": [
    {
     "name": "stdout",
     "output_type": "stream",
     "text": [
      "name:  OHM SIGN\n",
      "name:  GREEK CAPITAL LETTER OMEGA\n",
      "False\n",
      "True\n"
     ]
    }
   ],
   "source": [
    "from unicodedata import normalize, name\n",
    "\n",
    "ohm = '\\u2126'\n",
    "print(\"name: \", name(ohm))\n",
    "\n",
    "ohm_c = normalize('NFC', ohm)\n",
    "print(\"name: \", name(ohm_c))\n",
    "\n",
    "print(ohm == ohm_c)\n",
    "\n",
    "print(normalize('NFC', ohm) == normalize('NFC', ohm_c))\n"
   ]
  },
  {
   "cell_type": "markdown",
   "metadata": {},
   "source": [
    "- 정규화 방식에서 K는 호환성을 나타낸다. 정규화를 넘어 호환성 문자에 영향을 미친다.\n",
    "- 유니코드 표준은 하나의 문주에 하나의 코드만을 갖는 것이 원칙이었지만, 다른 인코딩 방식과의 호환성을 위해 한 문자에 두 코드를 갖는 경우가 있다.\n",
    "- 포매팅 손실이 발생하더라도 선호하는 형태의 하나이상의 문자로 구성된 호환성 분할로 치환한다.\n",
    "  - 데이터 치환시 발생하는 손실 때문에 영구 저장할 때 사용을 자제 해야 한다."
   ]
  },
  {
   "cell_type": "code",
   "execution_count": 77,
   "metadata": {},
   "outputs": [
    {
     "name": "stdout",
     "output_type": "stream",
     "text": [
      "½\n",
      "1⁄2\n",
      "\n",
      "4²\n",
      "42\n",
      "\n",
      "µ\n",
      "μ\n",
      "181 956\n",
      "MICRO SIGN | GREEK SMALL LETTER MU\n",
      "False\n"
     ]
    }
   ],
   "source": [
    "from unicodedata import normalize, name\n",
    "\n",
    "half = '\\u00bd'\n",
    "print(half)\n",
    "print(normalize('NFKC', half))\n",
    "\n",
    "print()\n",
    "\n",
    "four_squared = '4²'\n",
    "print(four_squared)\n",
    "print(normalize('NFKC', four_squared))\n",
    "\n",
    "print()\n",
    "\n",
    "micro = '\\u00b5'  # 마이크로\n",
    "print(micro)  \n",
    "\n",
    "micro_kc = normalize('NFKC', micro)  # 소문자 뮤\n",
    "print(micro_kc)\n",
    "\n",
    "print(ord(micro), ord(micro_kc))\n",
    "\n",
    "print(name(micro), '|', name(micro_kc))\n",
    "\n",
    "print('µ'  == 'μ')"
   ]
  },
  {
   "cell_type": "markdown",
   "metadata": {},
   "source": [
    "### 4.6.1 케이스 폴딩\n",
    "- 모든 텍스트를 소문자로 변환하는 연산\n",
    "- `str.lower()`와 다른 코드 포인트가 116개 (0.11%)에 해당\n",
    "  - latin1만 담고 있는 문자열의 경우 `str.lower()`와 동일"
   ]
  },
  {
   "cell_type": "code",
   "execution_count": 80,
   "metadata": {},
   "outputs": [
    {
     "name": "stdout",
     "output_type": "stream",
     "text": [
      "MICRO SIGN\n",
      "GREEK SMALL LETTER MU\n",
      "LATIN SMALL LETTER SHARP S\n",
      "ss\n"
     ]
    }
   ],
   "source": [
    "micro = '\\u00b5'\n",
    "print(name(micro))\n",
    "\n",
    "micro_cf = micro.casefold()\n",
    "print(name(micro_cf))\n",
    "\n",
    "eszett = 'ß'\n",
    "print(name(eszett))\n",
    "\n",
    "eszett_cf = eszett.casefold()\n",
    "print(eszett_cf)"
   ]
  },
  {
   "cell_type": "markdown",
   "metadata": {},
   "source": [
    "### 4.6.2 정규화된 텍스트 매칭을 위한 유틸리티 함수\n",
    "- NFC 방식은 대부분의 애플리케이션에서 사용할 수 있는 최고의 정규화된 형태\n",
    "- `str`, `casefold`는 대소문자 구분 없이 문자를 비교할 때 좋음"
   ]
  },
  {
   "cell_type": "code",
   "execution_count": 84,
   "metadata": {},
   "outputs": [
    {
     "name": "stdout",
     "output_type": "stream",
     "text": [
      "False\n",
      "True\n",
      "False\n",
      "\n",
      "False\n",
      "False\n",
      "True\n",
      "True\n",
      "True\n"
     ]
    }
   ],
   "source": [
    "# 예제 4-13 normeq.py: 정규화된 유니코드 문자열 비교\n",
    "from unicodedata import normalize\n",
    "\n",
    "def nfc_equal(str1, str2):\n",
    "    return normalize('NFC', str1) == normalize('NFC', str2)\n",
    "\n",
    "\n",
    "def fold_equal(str1, str2):\n",
    "    return (normalize('NFC', str1).casefold() == \n",
    "            normalize('NFC', str2).casefold())\n",
    "    \n",
    "s1 = 'café'\n",
    "s2 = 'cafe\\u0301'\n",
    "print(s1 == s2)\n",
    "print(nfc_equal(s1, s2))\n",
    "print(nfc_equal('A', 'a'))\n",
    "\n",
    "print()\n",
    "\n",
    "s3 = 'Straße'\n",
    "s4 = 'strasse'\n",
    "\n",
    "print(s3 == s4)\n",
    "print(nfc_equal(s3, s4))\n",
    "print(fold_equal(s3, s4))\n",
    "print(fold_equal(s1, s2))\n",
    "print(fold_equal('A', 'a'))\n"
   ]
  },
  {
   "cell_type": "markdown",
   "metadata": {},
   "source": [
    "### 4.6.3 극단적인 '정규화': 발음 구별 기호 제거하기\n",
    "- URL에 이스케이프 처리가 있을 때 비교하기 좋음"
   ]
  },
  {
   "cell_type": "code",
   "execution_count": 86,
   "metadata": {},
   "outputs": [
    {
     "name": "stdout",
     "output_type": "stream",
     "text": [
      "“Herr Voß: • ½ cup of Œtker™ caffè latte • bowl of açaí.”\n",
      "“Herr Voß: • ½ cup of Œtker™ caffe latte • bowl of acai.”\n",
      "\n",
      "Ζέφυρος, Zéfiro\n",
      "Ζεφυρος, Zefiro\n"
     ]
    }
   ],
   "source": [
    "# 예제 4-14 결합 표시를 모두 제거하는 함수\n",
    "import unicodedata\n",
    "import string\n",
    "\n",
    "def shave_marks(txt):\n",
    "    norm_txt = unicodedata.normalize('NFD', txt)  # 결합 분해\n",
    "    shaved = ''.join(c for c in norm_txt if not unicodedata.combining(c)) # 결합표시 제거\n",
    "    return unicodedata.normalize('NFC', shaved)  # 문자 재결합\n",
    "\n",
    "order = '“Herr Voß: • ½ cup of Œtker™ caffè latte • bowl of açaí.”'\n",
    "print(order)\n",
    "print(shave_marks(order))\n",
    "\n",
    "print()\n",
    "\n",
    "greek = 'Ζέφυρος, Zéfiro'\n",
    "print(greek)\n",
    "print(shave_marks(greek))"
   ]
  },
  {
   "cell_type": "code",
   "execution_count": 87,
   "metadata": {},
   "outputs": [
    {
     "name": "stdout",
     "output_type": "stream",
     "text": [
      "“Herr Voß: • ½ cup of Œtker™ caffè latte • bowl of açaí.”\n",
      "“Herr Voß: • ½ cup of Œtker™ caffe latte • bowl of acai.”\n",
      "\n",
      "Ζέφυρος, Zéfiro\n",
      "Ζέφυρος, Zefiro\n"
     ]
    }
   ],
   "source": [
    "# 예제 4-14 결합 표시를 모두 제거하는 함수\n",
    "import unicodedata\n",
    "import string\n",
    "\n",
    "def shave_marks_latin(txt):\n",
    "    \"\"\"Remove all diacritic marks from Latin base characters\"\"\"\n",
    "    norm_txt = unicodedata.normalize('NFD', txt)  # 결합분해\n",
    "    latin_base = False\n",
    "    keepers = []\n",
    "    for c in norm_txt:\n",
    "        if unicodedata.combining(c) and latin_base:   # 결합문자일시\n",
    "            continue  # 추가하지 않음\n",
    "        keepers.append(c)\n",
    "        # 새로운 기반 문자를 찾아내고 라틴 문자인지 확인\n",
    "        if not unicodedata.combining(c):\n",
    "            latin_base = c in string.ascii_letters\n",
    "    shaved = ''.join(keepers)\n",
    "    return unicodedata.normalize('NFC', shaved)\n",
    "\n",
    "order = '“Herr Voß: • ½ cup of Œtker™ caffè latte • bowl of açaí.”'\n",
    "print(order)\n",
    "print(shave_marks_latin(order))\n",
    "\n",
    "print()\n",
    "\n",
    "greek = 'Ζέφυρος, Zéfiro'\n",
    "print(greek)\n",
    "print(shave_marks_latin(greek))"
   ]
  },
  {
   "cell_type": "code",
   "execution_count": 88,
   "metadata": {},
   "outputs": [
    {
     "name": "stdout",
     "output_type": "stream",
     "text": [
      "“Herr Voß: • ½ cup of Œtker™ caffè latte • bowl of açaí.”\n",
      "\"Herr Voß: - ½ cup of OEtker(TM) caffè latte - bowl of açaí.\"\n",
      "\"Herr Voss: - 1⁄2 cup of OEtker(TM) caffe latte - bowl of acai.\"\n"
     ]
    }
   ],
   "source": [
    "# 예제 4-17 서양 활자 기호를 아시크로 변환하기\n",
    "\n",
    "single_map = str.maketrans(\"\"\"‚ƒ„†ˆ‹‘’“”•–—˜›\"\"\",  # 문자 대 문자 치환 매핑 테이블\n",
    "                           \"\"\"'f\"*^<''\"\"---~>\"\"\")\n",
    "\n",
    "multi_map = str.maketrans({  # 문자 대 문자열 치환 매핑 테이블\n",
    "    '€': '<euro>',\n",
    "    '…': '...',\n",
    "    'Œ': 'OE',\n",
    "    '™': '(TM)',\n",
    "    'œ': 'oe',\n",
    "    '‰': '<per mille>',\n",
    "    '‡': '**',\n",
    "})\n",
    "\n",
    "multi_map.update(single_map)  # 두 개 매핑 테이블 병합\n",
    "\n",
    "\n",
    "def dewinize(txt):\n",
    "    \"\"\"Replace Win1252 symbols with ASCII chars or sequences\"\"\"\n",
    "    return txt.translate(multi_map)  # <4>\n",
    "\n",
    "\n",
    "def asciize(txt):\n",
    "    no_marks = shave_marks_latin(dewinize(txt))     # <5>\n",
    "    no_marks = no_marks.replace('ß', 'ss')          # <6>\n",
    "    return unicodedata.normalize('NFKC', no_marks)  # <7>\n",
    "\n",
    "order = '“Herr Voß: • ½ cup of Œtker™ caffè latte • bowl of açaí.”'\n",
    "print(order)\n",
    "print(dewinize(order))\n",
    "print(asciize(order))\n"
   ]
  },
  {
   "cell_type": "markdown",
   "metadata": {},
   "source": [
    "## 4.7 유니코드 텍스트 정렬하기\n",
    "- 문자열의 경우에는 각 단어의 코드 포인트를 비교하여 정렬\n",
    "  - 비아스키 문자를 사용하는 경우 코드 포인트 기준 정렬이 부적절할 수 있다."
   ]
  },
  {
   "cell_type": "code",
   "execution_count": 7,
   "metadata": {},
   "outputs": [
    {
     "data": {
      "text/plain": [
       "['acerola', 'atemoia', 'açaí', 'caju', 'cajá']"
      ]
     },
     "execution_count": 7,
     "metadata": {},
     "output_type": "execute_result"
    }
   ],
   "source": [
    "fruits = ['caju', 'atemoia', 'cajá', 'açaí', 'acerola']\n",
    "sorted(fruits)"
   ]
  },
  {
   "cell_type": "markdown",
   "metadata": {},
   "source": [
    "- `locale.strxfrm()`은 현지어 비교에 사용할 수 있는 문자열로 변환"
   ]
  },
  {
   "cell_type": "code",
   "execution_count": 8,
   "metadata": {},
   "outputs": [
    {
     "data": {
      "text/plain": [
       "['açaí', 'acerola', 'atemoia', 'cajá', 'caju']"
      ]
     },
     "execution_count": 8,
     "metadata": {},
     "output_type": "execute_result"
    }
   ],
   "source": [
    "# locale.strxfrm() 함수를 정렬키로 사용하기\n",
    "import locale\n",
    "\n",
    "locale.setlocale(locale.LC_COLLATE, 'pt_BR.UTF-8')\n",
    "fruits = ['caju', 'atemoia', 'cajá', 'açaí', 'acerola']\n",
    "sorted_fruits = sorted(fruits, key=locale.strxfrm)\n",
    "sorted_fruits"
   ]
  },
  {
   "cell_type": "code",
   "execution_count": 24,
   "metadata": {},
   "outputs": [
    {
     "data": {
      "text/plain": [
       "['\\x0e\\n\\x0e\\x02\\x0e#\\x0e\\x9f\\x01\\x01\\x01\\x01',\n",
       " '\\x0e\\x02\\x0e\\x99\\x0e!\\x0eQ\\x0e|\\x0e2\\x0e\\x02\\x01\\x01\\x01\\x01',\n",
       " '\\x0e\\n\\x0e\\x02\\x0e5\\x0e\\x02\\x01\\x02\\x02\\x02\\x0e\\x01\\x01\\x01',\n",
       " '\\x0e\\x02\\x0e\\n\\x0e\\x02\\x0e2\\x01\\x02\\x1c\\x02\\x0e\\x01\\x01\\x01',\n",
       " '\\x0e\\x02\\x0e\\n\\x0e!\\x0e\\x8a\\x0e|\\x0eH\\x0e\\x02\\x01\\x01\\x01\\x01']"
      ]
     },
     "execution_count": 24,
     "metadata": {},
     "output_type": "execute_result"
    }
   ],
   "source": [
    "list(map(locale.strxfrm, fruits))"
   ]
  },
  {
   "cell_type": "markdown",
   "metadata": {},
   "source": [
    "### 4.7.1 유니코드 대조 알고리즘을 이용한 정렬"
   ]
  },
  {
   "cell_type": "code",
   "execution_count": 9,
   "metadata": {},
   "outputs": [
    {
     "data": {
      "text/plain": [
       "['açaí', 'acerola', 'atemoia', 'cafu', 'cajá']"
      ]
     },
     "execution_count": 9,
     "metadata": {},
     "output_type": "execute_result"
    }
   ],
   "source": [
    "# 예제 4-20 pyuca.Collator.sort_key() 메서드 사용하기\n",
    "import pyuca\n",
    "coll = pyuca.Collator()\n",
    "fruits = ['cafu', 'atemoia', 'cajá', 'açaí', 'acerola']\n",
    "sorted_fruits = sorted(fruits, key=coll.sort_key)\n",
    "sorted_fruits"
   ]
  },
  {
   "cell_type": "code",
   "execution_count": 16,
   "metadata": {},
   "outputs": [
    {
     "data": {
      "text/plain": [
       "[(7290, 7239, 7397, 7861, 0, 32, 32, 32, 32, 0, 2, 2, 2, 2, 0),\n",
       " (7239,\n",
       "  7829,\n",
       "  7338,\n",
       "  7594,\n",
       "  7645,\n",
       "  7474,\n",
       "  7239,\n",
       "  0,\n",
       "  32,\n",
       "  32,\n",
       "  32,\n",
       "  32,\n",
       "  32,\n",
       "  32,\n",
       "  32,\n",
       "  0,\n",
       "  2,\n",
       "  2,\n",
       "  2,\n",
       "  2,\n",
       "  2,\n",
       "  2,\n",
       "  2,\n",
       "  0),\n",
       " (7290, 7239, 7500, 7239, 0, 32, 32, 32, 32, 36, 0, 2, 2, 2, 2, 2, 0),\n",
       " (7239, 7290, 7239, 7474, 0, 32, 32, 48, 32, 32, 36, 0, 2, 2, 2, 2, 2, 2, 0),\n",
       " (7239,\n",
       "  7290,\n",
       "  7338,\n",
       "  7731,\n",
       "  7645,\n",
       "  7543,\n",
       "  7239,\n",
       "  0,\n",
       "  32,\n",
       "  32,\n",
       "  32,\n",
       "  32,\n",
       "  32,\n",
       "  32,\n",
       "  32,\n",
       "  0,\n",
       "  2,\n",
       "  2,\n",
       "  2,\n",
       "  2,\n",
       "  2,\n",
       "  2,\n",
       "  2,\n",
       "  0)]"
      ]
     },
     "execution_count": 16,
     "metadata": {},
     "output_type": "execute_result"
    }
   ],
   "source": [
    "list(map(coll.sort_key, fruits))"
   ]
  },
  {
   "cell_type": "markdown",
   "metadata": {},
   "source": [
    "## 4.8 유니코드 데이터베이스\n",
    "- 유니코드 표준에서 텍스트 파일의 형태로 모든 정보를 담은 데이터 베이스를 제공\n",
    "  - 코드 포인트 <-> 문자명 테이블\n",
    "  - 문자에 대한 메타데이터: 문자 출력 가능 여부, 문자 여부, 십진수 여부, 수치형 여부\n",
    "  - 각 문자의 연관 방법\n",
    "- `str`의 여러 메서드가 이 데이터 베이스를 사용"
   ]
  },
  {
   "cell_type": "code",
   "execution_count": 32,
   "metadata": {},
   "outputs": [
    {
     "name": "stdout",
     "output_type": "stream",
     "text": [
      "U+0031\t  1   \tre_dig\tisdig\tisnum\t 1.00\tDIGIT ONE\n",
      "U+00bc\t  ¼   \t-\t-\tisnum\t 0.25\tVULGAR FRACTION ONE QUARTER\n",
      "U+00b2\t  ²   \t-\tisdig\tisnum\t 2.00\tSUPERSCRIPT TWO\n",
      "U+0969\t  ३   \tre_dig\tisdig\tisnum\t 3.00\tDEVANAGARI DIGIT THREE\n",
      "U+136b\t  ፫   \t-\tisdig\tisnum\t 3.00\tETHIOPIC DIGIT THREE\n",
      "U+216b\t  Ⅻ   \t-\t-\tisnum\t12.00\tROMAN NUMERAL TWELVE\n",
      "U+2466\t  ⑦   \t-\tisdig\tisnum\t 7.00\tCIRCLED DIGIT SEVEN\n",
      "U+2480\t  ⒀   \t-\t-\tisnum\t13.00\tPARENTHESIZED NUMBER THIRTEEN\n",
      "U+3285\t  ㊅   \t-\t-\tisnum\t 6.00\tCIRCLED IDEOGRAPH SIX\n"
     ]
    }
   ],
   "source": [
    "# 예제 4-21 유니코드 데이터베이스 수치형 문자 메타데이터 사용 예\n",
    "import unicodedata\n",
    "import re\n",
    "\n",
    "re_digit = re.compile(r'\\d')\n",
    "\n",
    "sample = '1\\xbc\\xb2\\u0969\\u136b\\u216b\\u2466\\u2480\\u3285'\n",
    "\n",
    "for char in sample:\n",
    "    print(\n",
    "        'U+%04x' % ord(char),                          # 코드 포인트\n",
    "        char.center(6),                                # 길이가 6인 str의 중앙에 놓인 문자\n",
    "        're_dig' if re_digit.match(char) else '-',     # 정규 표현식과 일치하면 re_dig\n",
    "        'isdig' if char.isdigit() else '-',            # 숫자: 단일문자가 숫자 모양으로 생기면 \n",
    "        'isnum' if char.isnumeric() else '-',          # 수치형: 숫자값 표현을 위한 문자열\n",
    "        format(unicodedata.numeric(char), '5.2f'),     # 나타내는 숫자\n",
    "        unicodedata.name(char),                        # 유니코드 문자명\n",
    "        sep='\\t'\n",
    "    )"
   ]
  },
  {
   "cell_type": "markdown",
   "metadata": {},
   "source": [
    "## 4.9 이중 모드 str 및 bytes API\n",
    "### 4.9.1 정규 표현식에서의 str과 bytes\n",
    "- bytes에 정규표현식을 사용할 경우, 아스키 범위를 벗어나는 문자들은 숫자나 단어로 처리하지 않는다."
   ]
  },
  {
   "cell_type": "code",
   "execution_count": 34,
   "metadata": {},
   "outputs": [
    {
     "name": "stdout",
     "output_type": "stream",
     "text": [
      "Text\n",
      "  'Ramanujan saw ௧௭௨௯ as 1729 = 1³ + 12³ = 9³ + 10³.'\n",
      "Numbers\n",
      "  str  : ['௧௭௨௯', '1729', '1', '12', '9', '10']\n",
      "  bytes: [b'1729', b'1', b'12', b'9', b'10']\n",
      "Words\n",
      "  str  : ['Ramanujan', 'saw', '௧௭௨௯', 'as', '1729', '1³', '12³', '9³', '10³']\n",
      "  bytes: [b'Ramanujan', b'saw', b'as', b'1729', b'1', b'12', b'9', b'10']\n"
     ]
    }
   ],
   "source": [
    "# 예제 4-22 ramanujan.py 간단한 str과 bytes 정규 표현식의 동장 비교\n",
    "import re\n",
    "\n",
    "re_numbers_str = re.compile(r'\\d+')     # 숫자\n",
    "re_words_str = re.compile(r'\\w+')       # \n",
    "re_numbers_bytes = re.compile(rb'\\d+')  # <2>\n",
    "re_words_bytes = re.compile(rb'\\w+')\n",
    "\n",
    "text_str = (\"Ramanujan saw \\u0be7\\u0bed\\u0be8\\u0bef\" \n",
    "            \" as 1729 = 1³ + 12³ = 9³ + 10³.\")        \n",
    "\n",
    "text_bytes = text_str.encode('utf_8')  # <5>\n",
    "\n",
    "print('Text', repr(text_str), sep='\\n  ')\n",
    "print('Numbers')\n",
    "print('  str  :', re_numbers_str.findall(text_str))     \n",
    "print('  bytes:', re_numbers_bytes.findall(text_bytes)) \n",
    "\n",
    "print('Words')\n",
    "print('  str  :', re_words_str.findall(text_str))      \n",
    "print('  bytes:', re_words_bytes.findall(text_bytes))  "
   ]
  },
  {
   "cell_type": "markdown",
   "metadata": {},
   "source": [
    "### 4.9.2 os 모듈에서 str과 bytes\n",
    "- OS에서의 파일명들은 이떠한 인코딩 체계에서도 올바르지 않은 바이트 시퀀스로 구성되어 있다.\n",
    "- "
   ]
  },
  {
   "cell_type": "code",
   "execution_count": 39,
   "metadata": {},
   "outputs": [
    {
     "name": "stdout",
     "output_type": "stream",
     "text": [
      "['.ipynb_checkpoints', 'cafe.txt', 'Chapter4.ipynb', 'digits-of-π.txt', 'filter.gif', 'ola.py', '__pycache__']\n",
      "[b'.ipynb_checkpoints', b'cafe.txt', b'Chapter4.ipynb', b'digits-of-\\xcf\\x80.txt', b'filter.gif', b'ola.py', b'__pycache__']\n"
     ]
    }
   ],
   "source": [
    "import os\n",
    "\n",
    "print(os.listdir('.'))\n",
    "print(os.listdir(b'.'))"
   ]
  },
  {
   "cell_type": "code",
   "execution_count": null,
   "metadata": {},
   "outputs": [],
   "source": []
  }
 ],
 "metadata": {
  "kernelspec": {
   "display_name": "Python 3.8.8 ('base')",
   "language": "python",
   "name": "python3"
  },
  "language_info": {
   "codemirror_mode": {
    "name": "ipython",
    "version": 3
   },
   "file_extension": ".py",
   "mimetype": "text/x-python",
   "name": "python",
   "nbconvert_exporter": "python",
   "pygments_lexer": "ipython3",
   "version": "3.8.8"
  },
  "orig_nbformat": 4,
  "vscode": {
   "interpreter": {
    "hash": "ad2bdc8ecc057115af97d19610ffacc2b4e99fae6737bb82f5d7fb13d2f2c186"
   }
  }
 },
 "nbformat": 4,
 "nbformat_minor": 2
}
