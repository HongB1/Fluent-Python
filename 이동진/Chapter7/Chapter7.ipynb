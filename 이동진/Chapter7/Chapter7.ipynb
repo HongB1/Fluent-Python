{
 "cells": [
  {
   "cell_type": "markdown",
   "metadata": {},
   "source": [
    "# Chapter 7. 함수 데커레이터와 클로저\n",
    "## 7.1 데커레이터 기본 지식\n",
    "데커레이터는 다른 함수 (데커레이터된 함수)를 인수로 받는 콜러블이다.\n",
    "- 데커레이터된 함수에 어떤 처리를 수행하고, 함수를 반환하거나 다른 함수나 콜러블 객체로 대체할 수 있다.\n",
    "\n",
    "<br>\n",
    "\n",
    "~~~python\n",
    "@decorate\n",
    "def target():\n",
    "    pass\n",
    "~~~\n",
    "\n",
    "<br>\n",
    "\n",
    "위 코드는 다음과 같이 작동한다.\n",
    "\n",
    "~~~python\n",
    "decorate(target)\n",
    "~~~\n",
    "\n",
    "<br>\n",
    "\n",
    "기본적으로 데커레이터는 함수를 인수로 전달하여 호출하는 일반적인 콜러블이지만, 런타임에 프로그램 행위를 변경하는 **메타프로그래밍**을 할 때 데커레이터가 편리하다."
   ]
  },
  {
   "cell_type": "code",
   "execution_count": 1,
   "metadata": {},
   "outputs": [],
   "source": [
    "# 예제 7-1 일반적으로는 데커레이터는 함수를 다른 함수로 대체한다.\n",
    "def deco(func):\n",
    "    def inner():\n",
    "        print(\"Running inner()\")\n",
    "        \n",
    "    return inner\n",
    "\n",
    "\n",
    "@deco\n",
    "def target():\n",
    "    print(\"Running target()\")\n",
    "    \n",
    "    "
   ]
  },
  {
   "cell_type": "code",
   "execution_count": 2,
   "metadata": {},
   "outputs": [
    {
     "name": "stdout",
     "output_type": "stream",
     "text": [
      "Running inner()\n"
     ]
    }
   ],
   "source": [
    "target()  # 데커레이트된 target()을 호출하면 실제로는 inner()를 실행한다."
   ]
  },
  {
   "cell_type": "code",
   "execution_count": 3,
   "metadata": {},
   "outputs": [
    {
     "data": {
      "text/plain": [
       "<function __main__.deco.<locals>.inner()>"
      ]
     },
     "execution_count": 3,
     "metadata": {},
     "output_type": "execute_result"
    }
   ],
   "source": [
    "target  # inner()를 가리키고 있다."
   ]
  },
  {
   "cell_type": "markdown",
   "metadata": {},
   "source": [
    "## 7.2 파이썬이 데커레이터를 실행하는 시점\n",
    "- 데커레이터는 **데커레이트된 함수가 정의된 시점**에 실행된다. 더 자세히는 파이썬이 모듈을 로딩하는 시점, 즉 **임포트 타임**에 실행된다.\n",
    "- 데커레이터된 함수는 명시적으로 호출될 때만 실행된다.\n",
    "- 일반적으로 데커레이터와 데커레이터되는 함수와 서로 다른 파일에서 정의된다.\n",
    "- 일반적으로 데커레이터에서 반환할 함수는 데커레이터 내부에서 정의한다."
   ]
  },
  {
   "cell_type": "code",
   "execution_count": 4,
   "metadata": {},
   "outputs": [
    {
     "name": "stdout",
     "output_type": "stream",
     "text": [
      "Running register(<function f1 at 0x114347940>)\n",
      "Running register(<function f2 at 0x114094790>)\n"
     ]
    }
   ],
   "source": [
    "from registration import *"
   ]
  },
  {
   "cell_type": "code",
   "execution_count": 5,
   "metadata": {},
   "outputs": [
    {
     "data": {
      "text/plain": [
       "[<function registration.f1()>, <function registration.f2()>]"
      ]
     },
     "execution_count": 5,
     "metadata": {},
     "output_type": "execute_result"
    }
   ],
   "source": [
    "registry"
   ]
  },
  {
   "cell_type": "code",
   "execution_count": 6,
   "metadata": {},
   "outputs": [
    {
     "name": "stdout",
     "output_type": "stream",
     "text": [
      "Running register(<function f4 at 0x114dd58b0>)\n"
     ]
    }
   ],
   "source": [
    "@register\n",
    "def f4():\n",
    "    print(\"Running f()\")"
   ]
  },
  {
   "cell_type": "code",
   "execution_count": 7,
   "metadata": {},
   "outputs": [
    {
     "data": {
      "text/plain": [
       "[<function registration.f1()>,\n",
       " <function registration.f2()>,\n",
       " <function __main__.f4()>]"
      ]
     },
     "execution_count": 7,
     "metadata": {},
     "output_type": "execute_result"
    }
   ],
   "source": [
    "registry"
   ]
  },
  {
   "cell_type": "markdown",
   "metadata": {},
   "source": [
    "## 7.3 데커레이터로 개선한 전략 패턴\n",
    "6장 공부하고 재방문할 예정"
   ]
  },
  {
   "cell_type": "code",
   "execution_count": null,
   "metadata": {},
   "outputs": [],
   "source": []
  },
  {
   "cell_type": "markdown",
   "metadata": {},
   "source": [
    "## 7.4 변수 범위 규칙"
   ]
  },
  {
   "cell_type": "code",
   "execution_count": 8,
   "metadata": {},
   "outputs": [],
   "source": [
    "# 예제 7-4 지역 및 전역 변수를 읽는 함수\n",
    "def f1(a):\n",
    "    print(a)\n",
    "    print(b)\n"
   ]
  },
  {
   "cell_type": "code",
   "execution_count": 9,
   "metadata": {},
   "outputs": [
    {
     "name": "stdout",
     "output_type": "stream",
     "text": [
      "3\n"
     ]
    },
    {
     "ename": "NameError",
     "evalue": "name 'b' is not defined",
     "output_type": "error",
     "traceback": [
      "\u001b[0;31m---------------------------------------------------------------------------\u001b[0m",
      "\u001b[0;31mNameError\u001b[0m                                 Traceback (most recent call last)",
      "\u001b[1;32m/Users/dongjin/Library/CloudStorage/OneDrive-postech.ac.kr/projects/fluent-python/Fluent-Python/이동진/Chapter7/Chapter7.ipynb 셀 14\u001b[0m in \u001b[0;36m<module>\u001b[0;34m\u001b[0m\n\u001b[0;32m----> <a href='vscode-notebook-cell:/Users/dongjin/Library/CloudStorage/OneDrive-postech.ac.kr/projects/fluent-python/Fluent-Python/%EC%9D%B4%EB%8F%99%EC%A7%84/Chapter7/Chapter7.ipynb#X16sZmlsZQ%3D%3D?line=0'>1</a>\u001b[0m f1(\u001b[39m3\u001b[39;49m)\n",
      "\u001b[1;32m/Users/dongjin/Library/CloudStorage/OneDrive-postech.ac.kr/projects/fluent-python/Fluent-Python/이동진/Chapter7/Chapter7.ipynb 셀 14\u001b[0m in \u001b[0;36mf1\u001b[0;34m(a)\u001b[0m\n\u001b[1;32m      <a href='vscode-notebook-cell:/Users/dongjin/Library/CloudStorage/OneDrive-postech.ac.kr/projects/fluent-python/Fluent-Python/%EC%9D%B4%EB%8F%99%EC%A7%84/Chapter7/Chapter7.ipynb#X16sZmlsZQ%3D%3D?line=1'>2</a>\u001b[0m \u001b[39mdef\u001b[39;00m \u001b[39mf1\u001b[39m(a):\n\u001b[1;32m      <a href='vscode-notebook-cell:/Users/dongjin/Library/CloudStorage/OneDrive-postech.ac.kr/projects/fluent-python/Fluent-Python/%EC%9D%B4%EB%8F%99%EC%A7%84/Chapter7/Chapter7.ipynb#X16sZmlsZQ%3D%3D?line=2'>3</a>\u001b[0m     \u001b[39mprint\u001b[39m(a)\n\u001b[0;32m----> <a href='vscode-notebook-cell:/Users/dongjin/Library/CloudStorage/OneDrive-postech.ac.kr/projects/fluent-python/Fluent-Python/%EC%9D%B4%EB%8F%99%EC%A7%84/Chapter7/Chapter7.ipynb#X16sZmlsZQ%3D%3D?line=3'>4</a>\u001b[0m     \u001b[39mprint\u001b[39m(b)\n",
      "\u001b[0;31mNameError\u001b[0m: name 'b' is not defined"
     ]
    }
   ],
   "source": [
    "f1(3)"
   ]
  },
  {
   "cell_type": "code",
   "execution_count": 10,
   "metadata": {},
   "outputs": [
    {
     "name": "stdout",
     "output_type": "stream",
     "text": [
      "3\n",
      "6\n"
     ]
    }
   ],
   "source": [
    "b = 6\n",
    "f1(3)"
   ]
  },
  {
   "cell_type": "code",
   "execution_count": 11,
   "metadata": {},
   "outputs": [],
   "source": [
    "# 예제 7-5 함수 본체 안에서 값을 할당하기 때문에 지역 변수가 되는 b\n",
    "b = 6\n",
    "def f2(a):\n",
    "    print(a)\n",
    "    print(b)\n",
    "    \n",
    "    b = 9"
   ]
  },
  {
   "cell_type": "markdown",
   "metadata": {},
   "source": [
    "`print(a)`는 실행되었고, 다음 `print(b)`는 전역 변수 `b`가 정의되어 있을 뿐만 아니라 지역 변수 정의가 이후에도 있음에도 지역 변수로 인식한다!\n",
    "\n",
    "- 컴파일 단계에서 지역변수로 판단\n",
    "- 파이썬은 변수가 선언되어 있기를 요구하지는 않지만, 함수 보네 안에서 할당된 변수는 지역 변수로 판단한다."
   ]
  },
  {
   "cell_type": "code",
   "execution_count": 12,
   "metadata": {},
   "outputs": [
    {
     "name": "stdout",
     "output_type": "stream",
     "text": [
      "3\n"
     ]
    },
    {
     "ename": "UnboundLocalError",
     "evalue": "local variable 'b' referenced before assignment",
     "output_type": "error",
     "traceback": [
      "\u001b[0;31m---------------------------------------------------------------------------\u001b[0m",
      "\u001b[0;31mUnboundLocalError\u001b[0m                         Traceback (most recent call last)",
      "\u001b[1;32m/Users/dongjin/Library/CloudStorage/OneDrive-postech.ac.kr/projects/fluent-python/Fluent-Python/이동진/Chapter7/Chapter7.ipynb 셀 18\u001b[0m in \u001b[0;36m<module>\u001b[0;34m\u001b[0m\n\u001b[0;32m----> <a href='vscode-notebook-cell:/Users/dongjin/Library/CloudStorage/OneDrive-postech.ac.kr/projects/fluent-python/Fluent-Python/%EC%9D%B4%EB%8F%99%EC%A7%84/Chapter7/Chapter7.ipynb#X23sZmlsZQ%3D%3D?line=0'>1</a>\u001b[0m f2(\u001b[39m3\u001b[39;49m)\n",
      "\u001b[1;32m/Users/dongjin/Library/CloudStorage/OneDrive-postech.ac.kr/projects/fluent-python/Fluent-Python/이동진/Chapter7/Chapter7.ipynb 셀 18\u001b[0m in \u001b[0;36mf2\u001b[0;34m(a)\u001b[0m\n\u001b[1;32m      <a href='vscode-notebook-cell:/Users/dongjin/Library/CloudStorage/OneDrive-postech.ac.kr/projects/fluent-python/Fluent-Python/%EC%9D%B4%EB%8F%99%EC%A7%84/Chapter7/Chapter7.ipynb#X23sZmlsZQ%3D%3D?line=2'>3</a>\u001b[0m \u001b[39mdef\u001b[39;00m \u001b[39mf2\u001b[39m(a):\n\u001b[1;32m      <a href='vscode-notebook-cell:/Users/dongjin/Library/CloudStorage/OneDrive-postech.ac.kr/projects/fluent-python/Fluent-Python/%EC%9D%B4%EB%8F%99%EC%A7%84/Chapter7/Chapter7.ipynb#X23sZmlsZQ%3D%3D?line=3'>4</a>\u001b[0m     \u001b[39mprint\u001b[39m(a)\n\u001b[0;32m----> <a href='vscode-notebook-cell:/Users/dongjin/Library/CloudStorage/OneDrive-postech.ac.kr/projects/fluent-python/Fluent-Python/%EC%9D%B4%EB%8F%99%EC%A7%84/Chapter7/Chapter7.ipynb#X23sZmlsZQ%3D%3D?line=4'>5</a>\u001b[0m     \u001b[39mprint\u001b[39m(b)\n\u001b[1;32m      <a href='vscode-notebook-cell:/Users/dongjin/Library/CloudStorage/OneDrive-postech.ac.kr/projects/fluent-python/Fluent-Python/%EC%9D%B4%EB%8F%99%EC%A7%84/Chapter7/Chapter7.ipynb#X23sZmlsZQ%3D%3D?line=6'>7</a>\u001b[0m     b \u001b[39m=\u001b[39m \u001b[39m9\u001b[39m\n",
      "\u001b[0;31mUnboundLocalError\u001b[0m: local variable 'b' referenced before assignment"
     ]
    }
   ],
   "source": [
    "f2(3)"
   ]
  },
  {
   "cell_type": "markdown",
   "metadata": {},
   "source": [
    "함수 안에서 전역 변수의 할당문을 다루고 싶다면 `global` 키워드를 이용해서 선언해야 한다."
   ]
  },
  {
   "cell_type": "code",
   "execution_count": 13,
   "metadata": {},
   "outputs": [],
   "source": [
    "b = 6\n",
    "def f3(a):\n",
    "    global b\n",
    "    print(a)\n",
    "    print(b)\n",
    "    \n",
    "    b = 9"
   ]
  },
  {
   "cell_type": "code",
   "execution_count": 14,
   "metadata": {},
   "outputs": [
    {
     "name": "stdout",
     "output_type": "stream",
     "text": [
      "3\n",
      "6\n"
     ]
    }
   ],
   "source": [
    "f3(3)"
   ]
  },
  {
   "cell_type": "code",
   "execution_count": 15,
   "metadata": {},
   "outputs": [
    {
     "data": {
      "text/plain": [
       "9"
      ]
     },
     "execution_count": 15,
     "metadata": {},
     "output_type": "execute_result"
    }
   ],
   "source": [
    "b"
   ]
  },
  {
   "cell_type": "code",
   "execution_count": 16,
   "metadata": {},
   "outputs": [
    {
     "data": {
      "text/plain": [
       "30"
      ]
     },
     "execution_count": 16,
     "metadata": {},
     "output_type": "execute_result"
    }
   ],
   "source": [
    "b = 30\n",
    "b"
   ]
  },
  {
   "cell_type": "markdown",
   "metadata": {},
   "source": [
    "## 7.5 클로저"
   ]
  },
  {
   "cell_type": "code",
   "execution_count": 17,
   "metadata": {},
   "outputs": [
    {
     "name": "stdout",
     "output_type": "stream",
     "text": [
      "10.0\n",
      "10.5\n",
      "11.0\n"
     ]
    }
   ],
   "source": [
    "# 예제 7-8 이동 평균을 계산하는 클래스\n",
    "class Averager():\n",
    "    def __init__(self):\n",
    "        self.series = []\n",
    "        \n",
    "    def __call__(self, new_value):\n",
    "        self.series.append(new_value)\n",
    "        total = sum(self.series)\n",
    "        return total / len(self.series)\n",
    "    \n",
    "avg = Averager()\n",
    "print(avg(10))\n",
    "print(avg(11))\n",
    "print(avg(12))"
   ]
  },
  {
   "cell_type": "code",
   "execution_count": 18,
   "metadata": {},
   "outputs": [],
   "source": [
    "# 예제 7-10 이동 평균을 계산하는 고위 함수\n",
    "def make_averager():\n",
    "    series = []\n",
    "    \n",
    "    def averager(new_value):\n",
    "        series.append(new_value)\n",
    "        total = sum(series)\n",
    "        return total / len(series)\n",
    "    \n",
    "    return averager  # 함수를 반환해서 고위 함수"
   ]
  },
  {
   "cell_type": "markdown",
   "metadata": {},
   "source": [
    "<span style=\"color: red\">어떻게 series를 갖고 있는 것일까? averager 안에 정의되어 있어서 기억하는 것일까? 어떻게 접근하는거지?</span>"
   ]
  },
  {
   "cell_type": "code",
   "execution_count": 19,
   "metadata": {},
   "outputs": [
    {
     "name": "stdout",
     "output_type": "stream",
     "text": [
      "10.0\n",
      "10.5\n",
      "11.0\n"
     ]
    }
   ],
   "source": [
    "# 예제 7-10 [예제 7-9] 테스트\n",
    "avg = make_averager()  \n",
    "\n",
    "print(avg(10))\n",
    "print(avg(11))\n",
    "print(avg(12))"
   ]
  },
  {
   "cell_type": "markdown",
   "metadata": {},
   "source": [
    "`make_averager()` 안에 있는 `series`는 자유 변수 (free variable)이다.\n",
    "- 자유 변수는 지역 변수에 바인딩되어 있지 않은 변수이다."
   ]
  },
  {
   "cell_type": "code",
   "execution_count": 20,
   "metadata": {},
   "outputs": [
    {
     "data": {
      "text/plain": [
       "('new_value', 'total')"
      ]
     },
     "execution_count": 20,
     "metadata": {},
     "output_type": "execute_result"
    }
   ],
   "source": [
    "# 예제 7-11 [예제 7-9]의 make_averager()로 생성한 함수 조사하기\n",
    "avg.__code__.co_varnames"
   ]
  },
  {
   "cell_type": "code",
   "execution_count": 21,
   "metadata": {},
   "outputs": [
    {
     "data": {
      "text/plain": [
       "('series',)"
      ]
     },
     "execution_count": 21,
     "metadata": {},
     "output_type": "execute_result"
    }
   ],
   "source": [
    "avg.__code__.co_freevars"
   ]
  },
  {
   "cell_type": "code",
   "execution_count": 22,
   "metadata": {},
   "outputs": [
    {
     "data": {
      "text/plain": [
       "(<cell at 0x1149be580: list object at 0x11528f3c0>,)"
      ]
     },
     "execution_count": 22,
     "metadata": {},
     "output_type": "execute_result"
    }
   ],
   "source": [
    "# 예제 7-11 [예제 7-10]에서 계속\n",
    "avg.__closure__"
   ]
  },
  {
   "cell_type": "code",
   "execution_count": 23,
   "metadata": {},
   "outputs": [
    {
     "data": {
      "text/plain": [
       "[10, 11, 12]"
      ]
     },
     "execution_count": 23,
     "metadata": {},
     "output_type": "execute_result"
    }
   ],
   "source": [
    "avg.__closure__[0].cell_contents"
   ]
  },
  {
   "cell_type": "markdown",
   "metadata": {},
   "source": [
    "- 클로저는 함수를 정의할 때, 존재하던 자유 변수에 대한 바인딩을 유지하는 함수\n",
    "- 함수를 정의하는 범위가 사라진 후에 함수를 호출해도 자유 변수에 접근할 수 있다.\n",
    "- 함수가 전역 변수가 아닌 외부 변수를 다루는 경우는, 그 함수가 다른 함수 안에 정의된 경우 뿐이다."
   ]
  },
  {
   "cell_type": "markdown",
   "metadata": {},
   "source": [
    "## 7.6 nonlocal 선언"
   ]
  },
  {
   "cell_type": "code",
   "execution_count": 24,
   "metadata": {},
   "outputs": [],
   "source": [
    "# 예 7-13 전체 이력을 유지하지 않고 이동 평균을 계산하는 잘못된 고위함수\n",
    "def make_averager():\n",
    "    count = 0\n",
    "    total = 0\n",
    "    \n",
    "    def averager(new_value):\n",
    "        # count/total 변수 할당문으로서 count/total을 지역 변수로 만들어 버린다.\n",
    "        count += 1  \n",
    "        total += new_value\n",
    "        return total / count\n",
    "    \n",
    "    return averager"
   ]
  },
  {
   "cell_type": "code",
   "execution_count": 25,
   "metadata": {},
   "outputs": [
    {
     "ename": "UnboundLocalError",
     "evalue": "local variable 'count' referenced before assignment",
     "output_type": "error",
     "traceback": [
      "\u001b[0;31m---------------------------------------------------------------------------\u001b[0m",
      "\u001b[0;31mUnboundLocalError\u001b[0m                         Traceback (most recent call last)",
      "\u001b[1;32m/Users/dongjin/Library/CloudStorage/OneDrive-postech.ac.kr/projects/fluent-python/Fluent-Python/이동진/Chapter7/Chapter7.ipynb 셀 37\u001b[0m in \u001b[0;36m<module>\u001b[0;34m\u001b[0m\n\u001b[1;32m      <a href='vscode-notebook-cell:/Users/dongjin/Library/CloudStorage/OneDrive-postech.ac.kr/projects/fluent-python/Fluent-Python/%EC%9D%B4%EB%8F%99%EC%A7%84/Chapter7/Chapter7.ipynb#X51sZmlsZQ%3D%3D?line=0'>1</a>\u001b[0m avg \u001b[39m=\u001b[39m make_averager()\n\u001b[0;32m----> <a href='vscode-notebook-cell:/Users/dongjin/Library/CloudStorage/OneDrive-postech.ac.kr/projects/fluent-python/Fluent-Python/%EC%9D%B4%EB%8F%99%EC%A7%84/Chapter7/Chapter7.ipynb#X51sZmlsZQ%3D%3D?line=1'>2</a>\u001b[0m avg(\u001b[39m10\u001b[39;49m)\n",
      "\u001b[1;32m/Users/dongjin/Library/CloudStorage/OneDrive-postech.ac.kr/projects/fluent-python/Fluent-Python/이동진/Chapter7/Chapter7.ipynb 셀 37\u001b[0m in \u001b[0;36mmake_averager.<locals>.averager\u001b[0;34m(new_value)\u001b[0m\n\u001b[1;32m      <a href='vscode-notebook-cell:/Users/dongjin/Library/CloudStorage/OneDrive-postech.ac.kr/projects/fluent-python/Fluent-Python/%EC%9D%B4%EB%8F%99%EC%A7%84/Chapter7/Chapter7.ipynb#X51sZmlsZQ%3D%3D?line=5'>6</a>\u001b[0m \u001b[39mdef\u001b[39;00m \u001b[39maverager\u001b[39m(new_value):\n\u001b[1;32m      <a href='vscode-notebook-cell:/Users/dongjin/Library/CloudStorage/OneDrive-postech.ac.kr/projects/fluent-python/Fluent-Python/%EC%9D%B4%EB%8F%99%EC%A7%84/Chapter7/Chapter7.ipynb#X51sZmlsZQ%3D%3D?line=6'>7</a>\u001b[0m     \u001b[39m# count/total 변수 할당문으로서 count/total을 지역 변수로 만들어 버린다.\u001b[39;00m\n\u001b[0;32m----> <a href='vscode-notebook-cell:/Users/dongjin/Library/CloudStorage/OneDrive-postech.ac.kr/projects/fluent-python/Fluent-Python/%EC%9D%B4%EB%8F%99%EC%A7%84/Chapter7/Chapter7.ipynb#X51sZmlsZQ%3D%3D?line=7'>8</a>\u001b[0m     count \u001b[39m+\u001b[39m\u001b[39m=\u001b[39m \u001b[39m1\u001b[39m  \n\u001b[1;32m      <a href='vscode-notebook-cell:/Users/dongjin/Library/CloudStorage/OneDrive-postech.ac.kr/projects/fluent-python/Fluent-Python/%EC%9D%B4%EB%8F%99%EC%A7%84/Chapter7/Chapter7.ipynb#X51sZmlsZQ%3D%3D?line=8'>9</a>\u001b[0m     total \u001b[39m+\u001b[39m\u001b[39m=\u001b[39m new_value\n\u001b[1;32m     <a href='vscode-notebook-cell:/Users/dongjin/Library/CloudStorage/OneDrive-postech.ac.kr/projects/fluent-python/Fluent-Python/%EC%9D%B4%EB%8F%99%EC%A7%84/Chapter7/Chapter7.ipynb#X51sZmlsZQ%3D%3D?line=9'>10</a>\u001b[0m     \u001b[39mreturn\u001b[39;00m total \u001b[39m/\u001b[39m count\n",
      "\u001b[0;31mUnboundLocalError\u001b[0m: local variable 'count' referenced before assignment"
     ]
    }
   ],
   "source": [
    "avg = make_averager()\n",
    "avg(10)"
   ]
  },
  {
   "cell_type": "markdown",
   "metadata": {},
   "source": [
    "- `nonlocal`로 선언하면 함수 안에서 변수에ㅔ 새로운 값을 할당하더라도 그 변수는 자유 변수임을 나타낸다."
   ]
  },
  {
   "cell_type": "code",
   "execution_count": 26,
   "metadata": {},
   "outputs": [],
   "source": [
    "# 예 7-14 전체 이력을 유지하지 않고 이동 평균을 계산하기\n",
    "def make_averager():\n",
    "    count = 0\n",
    "    total = 0\n",
    "    \n",
    "    def averager(new_value):\n",
    "        nonlocal count, total\n",
    "        count += 1  \n",
    "        total += new_value\n",
    "        return total / count\n",
    "    \n",
    "    return averager"
   ]
  },
  {
   "cell_type": "code",
   "execution_count": 27,
   "metadata": {},
   "outputs": [
    {
     "name": "stdout",
     "output_type": "stream",
     "text": [
      "10.0\n",
      "10.5\n",
      "11.0\n"
     ]
    }
   ],
   "source": [
    "avg = make_averager()\n",
    "print(avg(10))\n",
    "print(avg(11))\n",
    "print(avg(12))"
   ]
  },
  {
   "cell_type": "markdown",
   "metadata": {},
   "source": [
    "## 7.7 간단한 데커레이터 구현하기\n",
    "- 일반적으로 데커레이터 함수는 데커레이터된 함수를 동일한 인수를 받는 함수로 교체하고, 동일한 값을 반환하면서, 추가적인 처리를 수행한다.\n"
   ]
  },
  {
   "cell_type": "code",
   "execution_count": 28,
   "metadata": {},
   "outputs": [],
   "source": [
    "# 예제 7-15 함수의 실행 시간을 출력하는 간단한 데커레이터\n",
    "import time\n",
    "\n",
    "\n",
    "def clock(func):\n",
    "    def clocked(*args):\n",
    "        t0 = time.perf_counter()\n",
    "        result = func(*args)\n",
    "        elapsed = time.perf_counter() - t0\n",
    "        \n",
    "        name = func.__name__\n",
    "        arg_str = ', '.join(repr(arg) for arg in args)\n",
    "        print(f'[{elapsed:.8f} {name}({arg_str}) -> {result}]')\n",
    "        return result\n",
    "    \n",
    "    return clocked"
   ]
  },
  {
   "cell_type": "code",
   "execution_count": 29,
   "metadata": {},
   "outputs": [
    {
     "name": "stdout",
     "output_type": "stream",
     "text": [
      "**************************************** Calling snooze(.123\n",
      "[0.12804363 snooze(0.123) -> None]\n",
      "**************************************** Calling factorial(6)\n",
      "[0.00000017 factorial(1) -> 1]\n",
      "[0.00000967 factorial(2) -> 2]\n",
      "[0.00001496 factorial(3) -> 6]\n",
      "[0.00002200 factorial(4) -> 24]\n",
      "[0.00002796 factorial(5) -> 120]\n",
      "[0.00003350 factorial(6) -> 720]\n",
      "6! = 720\n"
     ]
    }
   ],
   "source": [
    "# 예제 7-16 clock 데커레이터 사용하기\n",
    "@clock\n",
    "def snooze(seconds):\n",
    "    time.sleep(seconds)\n",
    "    \n",
    "@clock\n",
    "def factorial(n):\n",
    "    return 1 if n < 2 else n * factorial(n-1)\n",
    "\n",
    "print('*' * 40, 'Calling snooze(.123')\n",
    "snooze(.123)\n",
    "\n",
    "print('*' * 40, 'Calling factorial(6)')\n",
    "print('6! =', factorial(6))"
   ]
  },
  {
   "cell_type": "markdown",
   "metadata": {},
   "source": [
    "데커레이터된 함수의 `__name__`과 `__doc__` 속성을 가린다."
   ]
  },
  {
   "cell_type": "code",
   "execution_count": 30,
   "metadata": {},
   "outputs": [
    {
     "data": {
      "text/plain": [
       "<function __main__.clock.<locals>.clocked(*args)>"
      ]
     },
     "execution_count": 30,
     "metadata": {},
     "output_type": "execute_result"
    }
   ],
   "source": [
    "factorial"
   ]
  },
  {
   "cell_type": "code",
   "execution_count": 31,
   "metadata": {},
   "outputs": [],
   "source": [
    "# 예제 7-17 개선된 clock 데커레이터\n",
    "import time\n",
    "import functools\n",
    "\n",
    "def clock(func):\n",
    "    @functools.wraps(func)\n",
    "    def clocked(*args, **kwargs):\n",
    "        t0 = time.time()\n",
    "        result = func(*args, **kwargs)\n",
    "        elapsed = time.time() - t0\n",
    "        name = func.__name__\n",
    "        arg_lst = []\n",
    "        if args:\n",
    "            arg_lst.append(', '.join(repr(arg) for arg in args))\n",
    "        if kwargs:\n",
    "            pairs = [f'{k}={w}' for k, w in sorted(kwargs.items())]\n",
    "            arg_lst.append(pairs)\n",
    "        arg_str = ', '.join(arg_lst)\n",
    "        print(f'[{elapsed:.8f}] {name}({arg_str}) -> {result}')\n",
    "        return result\n",
    "    return clocked\n",
    "        "
   ]
  },
  {
   "cell_type": "code",
   "execution_count": 32,
   "metadata": {},
   "outputs": [
    {
     "name": "stdout",
     "output_type": "stream",
     "text": [
      "**************************************** Calling snooze(.123\n",
      "[0.12405705] snooze(0.123) -> None\n",
      "**************************************** Calling factorial(6)\n",
      "[0.00000000] factorial(1) -> 1\n",
      "[0.00001884] factorial(2) -> 2\n",
      "[0.00002670] factorial(3) -> 6\n",
      "[0.00003362] factorial(4) -> 24\n",
      "[0.00004101] factorial(5) -> 120\n",
      "[0.00004697] factorial(6) -> 720\n",
      "6! = 720\n"
     ]
    }
   ],
   "source": [
    "# 예제 7-16 clock 데커레이터 사용하기\n",
    "@clock\n",
    "def snooze(seconds):\n",
    "    time.sleep(seconds)\n",
    "    \n",
    "@clock\n",
    "def factorial(n):\n",
    "    return 1 if n < 2 else n * factorial(n-1)\n",
    "\n",
    "print('*' * 40, 'Calling snooze(.123')\n",
    "snooze(.123)\n",
    "\n",
    "print('*' * 40, 'Calling factorial(6)')\n",
    "print('6! =', factorial(6))"
   ]
  },
  {
   "cell_type": "code",
   "execution_count": 33,
   "metadata": {},
   "outputs": [
    {
     "data": {
      "text/plain": [
       "<function __main__.factorial(n)>"
      ]
     },
     "execution_count": 33,
     "metadata": {},
     "output_type": "execute_result"
    }
   ],
   "source": [
    "factorial"
   ]
  },
  {
   "cell_type": "markdown",
   "metadata": {},
   "source": [
    "## 7.8 표준 라이브러리에서 제공하는 데커레이터\n",
    "- 메서드 데커레이트를 위한 내장 함수: `property()`, `classmethod()`, `staticmethod()`\n",
    "- `functools` 표준 라이브러리에서 자주 사용되는 데커레이터: `wraps()`, `lru_cache()`, `singledispatch()`\n",
    "\n",
    "### 7.8.1 functools.lru_cache()를 이용한 메모이제이션\n",
    "- 메모이제이션 (memoization)\n",
    "  - <span style=\"color: green\">컴퓨터 프로그램이 동일한 계산을 반복해야 할 때, 이전에 계산한 값을 메모리에 저장함으로써 동일한 계산의 반복 수행을 제거하여 프로그램 실행 속도를 빠르게 하는 기술.</span>\n",
    "- lru: Least Recently Used\n"
   ]
  },
  {
   "cell_type": "code",
   "execution_count": 34,
   "metadata": {},
   "outputs": [
    {
     "name": "stdout",
     "output_type": "stream",
     "text": [
      "[0.00000000] fibonacci(0) -> 0\n",
      "[0.00000095] fibonacci(1) -> 1\n",
      "[0.00004220] fibonacci(2) -> 1\n",
      "[0.00000119] fibonacci(1) -> 1\n",
      "[0.00000215] fibonacci(0) -> 0\n",
      "[0.00000095] fibonacci(1) -> 1\n",
      "[0.00009179] fibonacci(2) -> 1\n",
      "[0.00012016] fibonacci(3) -> 2\n",
      "[0.00021791] fibonacci(4) -> 3\n",
      "[0.00000119] fibonacci(1) -> 1\n",
      "[0.00000000] fibonacci(0) -> 0\n",
      "[0.00000000] fibonacci(1) -> 1\n",
      "[0.00002813] fibonacci(2) -> 1\n",
      "[0.00005507] fibonacci(3) -> 2\n",
      "[0.00000000] fibonacci(0) -> 0\n",
      "[0.00000000] fibonacci(1) -> 1\n",
      "[0.00001407] fibonacci(2) -> 1\n",
      "[0.00000095] fibonacci(1) -> 1\n",
      "[0.00000119] fibonacci(0) -> 0\n",
      "[0.00000000] fibonacci(1) -> 1\n",
      "[0.00004411] fibonacci(2) -> 1\n",
      "[0.00008011] fibonacci(3) -> 2\n",
      "[0.00012803] fibonacci(4) -> 3\n",
      "[0.00022292] fibonacci(5) -> 5\n",
      "[0.00062966] fibonacci(6) -> 8\n",
      "8\n"
     ]
    }
   ],
   "source": [
    "# 예제 7-18 피보나치 수열에서 n번째 숫자를 아주 값비싸게 계산하는 방식\n",
    "@clock\n",
    "def fibonacci(n):\n",
    "    if n < 2:\n",
    "        return n\n",
    "    \n",
    "    return fibonacci(n - 2) + fibonacci(n - 1)\n",
    "\n",
    "print(fibonacci(6))"
   ]
  },
  {
   "cell_type": "markdown",
   "metadata": {},
   "source": [
    "`maxsize`: 얼마나 많은 호출을 저장할지 결정\n",
    "\n",
    "`typed`: True일 경우 인수즤 자료형이 다르면 결과를 따로 저장\n"
   ]
  },
  {
   "cell_type": "code",
   "execution_count": 35,
   "metadata": {},
   "outputs": [
    {
     "name": "stdout",
     "output_type": "stream",
     "text": [
      "[0.00000000] fibonacci(0) -> 0\n",
      "[0.00000000] fibonacci(1) -> 1\n",
      "[0.00004005] fibonacci(2) -> 1\n",
      "[0.00000000] fibonacci(3) -> 2\n",
      "[0.00005722] fibonacci(4) -> 3\n",
      "[0.00000095] fibonacci(5) -> 5\n",
      "[0.00008917] fibonacci(6) -> 8\n",
      "8\n"
     ]
    }
   ],
   "source": [
    "# 예제 7-19 캐시를 이용한 더 빠른 구현\n",
    "import functools\n",
    "\n",
    "@functools.lru_cache(maxsize=128, typed=False)\n",
    "@clock\n",
    "def fibonacci(n):\n",
    "    if n < 2:\n",
    "        return n\n",
    "    return fibonacci(n - 2) + fibonacci(n - 1)\n",
    "\n",
    "print(fibonacci(6))"
   ]
  },
  {
   "cell_type": "markdown",
   "metadata": {},
   "source": [
    "### 7.8.2 단일 디스패치를 이용한 범용 함수"
   ]
  },
  {
   "cell_type": "code",
   "execution_count": 36,
   "metadata": {},
   "outputs": [
    {
     "name": "stdout",
     "output_type": "stream",
     "text": [
      "<pre>{1, 2, 3}</pre>\n",
      "<pre>&lt;built-in function abs&gt;</pre>\n",
      "<pre>&#x27;Heimlich &amp; Co.\\n a game&#x27;</pre>\n",
      "<pre>42</pre>\n",
      "<pre>[&#x27;alpha&#x27;, 66, {1, 2, 3}]</pre>\n"
     ]
    }
   ],
   "source": [
    "# 예제 7-20 다른 객체형에 맞춰진 HTML을 생성하는 htmlize()\n",
    "import html\n",
    "\n",
    "def htmlize(obj):\n",
    "    content = html.escape(repr(obj))\n",
    "    return f'<pre>{content}</pre>'\n",
    "\n",
    "print(htmlize({1, 2, 3}))\n",
    "print(htmlize(abs))\n",
    "print(htmlize('Heimlich & Co.\\n a game'))\n",
    "print(htmlize(42))\n",
    "print(htmlize(['alpha', 66, {3, 2, 1}]))"
   ]
  },
  {
   "cell_type": "markdown",
   "metadata": {},
   "source": [
    "- 일반 함수를 `@singledispatch`로 데커레이트하면, 이 함수는 범용 함수가 된다.\n",
    "- 일련의 함수가 첫 번째 인수의 자료형에 따라 서로 다른 방식으로 연산을 수행하게 된다.\n"
   ]
  },
  {
   "cell_type": "code",
   "execution_count": 37,
   "metadata": {},
   "outputs": [],
   "source": [
    "# 예제 7-21 여러 함수를 범용 함수로 묶는 커스텀 htmlize.register()를 생성하는 singledispatch\n",
    "from functools import singledispatch\n",
    "from collections import abc\n",
    "import numbers\n",
    "import html\n",
    "\n",
    "@singledispatch\n",
    "def htmlize(obj):\n",
    "    content = html.escape(repr(obj))\n",
    "    return f'<pre>{content}</pre>'\n",
    "\n",
    "@htmlize.register(str)\n",
    "def _(text):\n",
    "    content = html.escape('text').replace('\\n', '<br>\\n')\n",
    "    return f'<p>{content}</p>'\n",
    "\n",
    "@htmlize.register(numbers.Integral)\n",
    "def _(n):\n",
    "    return f'<p>{n} (0x{n:x})</p>'\n",
    "\n",
    "@htmlize.register(tuple)\n",
    "@htmlize.register(abc.MutableSequence)\n",
    "def _(seq):\n",
    "    inner = '<li>\\n</li>'.join(htmlize(item) for item in seq)\n",
    "    return '<ul>\\n<li>' + inner + '</li>\\n</ul>'"
   ]
  },
  {
   "cell_type": "code",
   "execution_count": 38,
   "metadata": {},
   "outputs": [
    {
     "name": "stdout",
     "output_type": "stream",
     "text": [
      "<pre>{1, 2, 3}</pre>\n",
      "<pre>&lt;built-in function abs&gt;</pre>\n",
      "<p>text</p>\n",
      "<p>42 (0x2a)</p>\n",
      "<ul>\n",
      "<li><p>text</p><li>\n",
      "</li><p>66 (0x42)</p><li>\n",
      "</li><pre>{1, 2, 3}</pre></li>\n",
      "</ul>\n"
     ]
    }
   ],
   "source": [
    "print(htmlize({1, 2, 3}))\n",
    "print(htmlize(abs))\n",
    "print(htmlize('Heimlich & Co.\\n a game'))\n",
    "print(htmlize(42))\n",
    "print(htmlize(['alpha', 66, {3, 2, 1}]))"
   ]
  },
  {
   "cell_type": "markdown",
   "metadata": {},
   "source": [
    "## 7.9 누적된 데커레이터\n",
    "\n",
    "~~~python\n",
    "@d1\n",
    "@d2\n",
    "def f():\n",
    "    print('f')\n",
    "~~~\n",
    "\n",
    "<br>\n",
    "\n",
    "~~~python\n",
    "def f():\n",
    "    print('f')\n",
    "\n",
    "f = d1(d2(f))\n",
    "~~~"
   ]
  },
  {
   "cell_type": "markdown",
   "metadata": {},
   "source": [
    "## 7.10 매개변수화된 데커레이터\n",
    "함수 외에 추가적인 다른 인수를 받는 데커레이터를 만드는 방법\n",
    "- 데커레이터를 반환하는 데커레이터 팩토리를 만들고 나서, 데커레이트될 함수에 데커레이터 팩토리를 적용하면 된다."
   ]
  },
  {
   "cell_type": "code",
   "execution_count": 46,
   "metadata": {},
   "outputs": [
    {
     "name": "stdout",
     "output_type": "stream",
     "text": [
      "running register(<function f1 at 0x1152b69d0>)\n",
      "resigtry ->  [<function f1 at 0x1152b69d0>]\n",
      "running f1()\n"
     ]
    }
   ],
   "source": [
    "# 예제 7-22 [예제 7-2]의 축약 버전\n",
    "registry = []\n",
    "def register(func):\n",
    "    print(f\"running register({func})\")\n",
    "    registry.append(func)\n",
    "    return func\n",
    "\n",
    "\n",
    "@register\n",
    "def f1():\n",
    "    print(\"running f1()\")\n",
    "    \n",
    "print(\"resigtry -> \", registry)\n",
    "f1()    "
   ]
  },
  {
   "cell_type": "code",
   "execution_count": 49,
   "metadata": {},
   "outputs": [
    {
     "name": "stdout",
     "output_type": "stream",
     "text": [
      "Running register(active=False) -> decorate(<function f1 at 0x115122e50>)\n",
      "Running register(active=True) -> decorate(<function f2 at 0x1152b6280>)\n"
     ]
    }
   ],
   "source": [
    "# 예제 7-23 매개변수를 받기 위해 함수로 호출되어야 하는 새로운 register() 데커레이터\n",
    "registry = set()\n",
    "\n",
    "def register(active=True):\n",
    "    def decorate(func):\n",
    "        print(f\"Running register(active={active}) -> decorate({func})\")\n",
    "        if active:\n",
    "            registry.add(func)\n",
    "        else:\n",
    "            registry.discard(func)\n",
    "        \n",
    "        return func\n",
    "    return decorate\n",
    "\n",
    "\n",
    "@register(active=False)\n",
    "def f1():\n",
    "    print(\"Running f1()\")\n",
    "    \n",
    "@register(active=True)\n",
    "def f2():\n",
    "    print(\"Running f2()\")\n",
    "    \n",
    "def f3():\n",
    "    print(\"Running f3()\")"
   ]
  },
  {
   "cell_type": "markdown",
   "metadata": {},
   "source": [
    "`register()`가 `decorate()`를 반환하고, 데커레이트될 함수에 `decorate()`가 적용된다."
   ]
  },
  {
   "cell_type": "code",
   "execution_count": 50,
   "metadata": {},
   "outputs": [
    {
     "name": "stdout",
     "output_type": "stream",
     "text": [
      "{<function f2 at 0x1152b6280>}\n",
      "Running register(active=True) -> decorate(<function f3 at 0x1152b69d0>)\n",
      "{<function f2 at 0x1152b6280>, <function f3 at 0x1152b69d0>}\n",
      "Running register(active=False) -> decorate(<function f2 at 0x1152b6280>)\n",
      "{<function f3 at 0x1152b69d0>}\n"
     ]
    }
   ],
   "source": [
    "# 예제 7-24 [예제 7-23]에 나열된 registration_param 모듈 사용하기\n",
    "print(registry)\n",
    "\n",
    "register()(f3)\n",
    "print(registry)\n",
    "\n",
    "register(active=False)(f2)\n",
    "print(registry)"
   ]
  },
  {
   "cell_type": "markdown",
   "metadata": {},
   "source": [
    "<span style=\"color: green\">첫 번째 인자로 자동으로 데커레이터될 함수가 들어간다면 다음과 같이 되지 않을까?</span>"
   ]
  },
  {
   "cell_type": "code",
   "execution_count": 53,
   "metadata": {},
   "outputs": [
    {
     "name": "stdout",
     "output_type": "stream",
     "text": [
      "running register(<function f1 at 0x1152b6700>, active=True)\n"
     ]
    },
    {
     "ename": "TypeError",
     "evalue": "register() missing 1 required positional argument: 'func'",
     "output_type": "error",
     "traceback": [
      "\u001b[0;31m---------------------------------------------------------------------------\u001b[0m",
      "\u001b[0;31mTypeError\u001b[0m                                 Traceback (most recent call last)",
      "\u001b[1;32m/Users/dongjin/Library/CloudStorage/OneDrive-postech.ac.kr/projects/fluent-python/Fluent-Python/이동진/Chapter7/Chapter7.ipynb 셀 65\u001b[0m in \u001b[0;36m<module>\u001b[0;34m\u001b[0m\n\u001b[1;32m      <a href='vscode-notebook-cell:/Users/dongjin/Library/CloudStorage/OneDrive-postech.ac.kr/projects/fluent-python/Fluent-Python/%EC%9D%B4%EB%8F%99%EC%A7%84/Chapter7/Chapter7.ipynb#Y121sZmlsZQ%3D%3D?line=8'>9</a>\u001b[0m \u001b[39m@register\u001b[39m\n\u001b[1;32m     <a href='vscode-notebook-cell:/Users/dongjin/Library/CloudStorage/OneDrive-postech.ac.kr/projects/fluent-python/Fluent-Python/%EC%9D%B4%EB%8F%99%EC%A7%84/Chapter7/Chapter7.ipynb#Y121sZmlsZQ%3D%3D?line=9'>10</a>\u001b[0m \u001b[39mdef\u001b[39;00m \u001b[39mf1\u001b[39m():\n\u001b[1;32m     <a href='vscode-notebook-cell:/Users/dongjin/Library/CloudStorage/OneDrive-postech.ac.kr/projects/fluent-python/Fluent-Python/%EC%9D%B4%EB%8F%99%EC%A7%84/Chapter7/Chapter7.ipynb#Y121sZmlsZQ%3D%3D?line=10'>11</a>\u001b[0m     \u001b[39mprint\u001b[39m(\u001b[39m\"\u001b[39m\u001b[39mrunning f1()\u001b[39m\u001b[39m\"\u001b[39m)\n\u001b[0;32m---> <a href='vscode-notebook-cell:/Users/dongjin/Library/CloudStorage/OneDrive-postech.ac.kr/projects/fluent-python/Fluent-Python/%EC%9D%B4%EB%8F%99%EC%A7%84/Chapter7/Chapter7.ipynb#Y121sZmlsZQ%3D%3D?line=12'>13</a>\u001b[0m \u001b[39m@register\u001b[39m(active\u001b[39m=\u001b[39;49m\u001b[39mFalse\u001b[39;49;00m)\n\u001b[1;32m     <a href='vscode-notebook-cell:/Users/dongjin/Library/CloudStorage/OneDrive-postech.ac.kr/projects/fluent-python/Fluent-Python/%EC%9D%B4%EB%8F%99%EC%A7%84/Chapter7/Chapter7.ipynb#Y121sZmlsZQ%3D%3D?line=13'>14</a>\u001b[0m \u001b[39mdef\u001b[39;00m \u001b[39mf2\u001b[39m():\n\u001b[1;32m     <a href='vscode-notebook-cell:/Users/dongjin/Library/CloudStorage/OneDrive-postech.ac.kr/projects/fluent-python/Fluent-Python/%EC%9D%B4%EB%8F%99%EC%A7%84/Chapter7/Chapter7.ipynb#Y121sZmlsZQ%3D%3D?line=14'>15</a>\u001b[0m     \u001b[39mprint\u001b[39m(\u001b[39m\"\u001b[39m\u001b[39mrunning f1()\u001b[39m\u001b[39m\"\u001b[39m)\n\u001b[1;32m     <a href='vscode-notebook-cell:/Users/dongjin/Library/CloudStorage/OneDrive-postech.ac.kr/projects/fluent-python/Fluent-Python/%EC%9D%B4%EB%8F%99%EC%A7%84/Chapter7/Chapter7.ipynb#Y121sZmlsZQ%3D%3D?line=16'>17</a>\u001b[0m \u001b[39mprint\u001b[39m(\u001b[39m\"\u001b[39m\u001b[39mresigtry -> \u001b[39m\u001b[39m\"\u001b[39m, registry)\n",
      "\u001b[0;31mTypeError\u001b[0m: register() missing 1 required positional argument: 'func'"
     ]
    }
   ],
   "source": [
    "registry = []\n",
    "\n",
    "def register(func, active=True):\n",
    "    print(f\"running register({func}, active={active})\")\n",
    "    registry.append(func)\n",
    "    return func\n",
    "\n",
    "\n",
    "@register\n",
    "def f1():\n",
    "    print(\"running f1()\")\n",
    "    \n",
    "@register(active=False)\n",
    "def f2():\n",
    "    print(\"running f1()\")\n",
    "    \n",
    "print(\"resigtry -> \", registry)\n",
    "f1()    "
   ]
  },
  {
   "cell_type": "markdown",
   "metadata": {},
   "source": [
    "<span style=\"color: green\">\n",
    "내가 생각하는 결론은 다음과 같다. @ 뒤에는 콜러블 객체가 와야 한다.<br>\n",
    "@함수() 이런 식으로 된 순간 함수는 수행된 것이고, return된 객체로 바뀌게 된다.<br>\n",
    "return된 객체가 콜러블 객체이면, 콜러블객체(데코레이트된 함수)가 수행되는 것 같다</span>"
   ]
  },
  {
   "cell_type": "markdown",
   "metadata": {},
   "source": [
    "### 7.10.2 매개변수화된 clock 데커레이터"
   ]
  },
  {
   "cell_type": "code",
   "execution_count": 59,
   "metadata": {},
   "outputs": [
    {
     "name": "stdout",
     "output_type": "stream",
     "text": [
      "[0.12417507s] snooze(0.123) -> None\n",
      "[0.12653112s] snooze(0.123) -> None\n",
      "[0.12490606s] snooze(0.123) -> None\n"
     ]
    }
   ],
   "source": [
    "# 예제 7-25 매개변수화된 clock() 데커레이터\n",
    "import time\n",
    "\n",
    "DEFAULT_FMT = '[{elapsed:0.8f}s] {name}({args}) -> {result}'\n",
    "\n",
    "def clock(fmt=DEFAULT_FMT):\n",
    "    def decorate(func):\n",
    "        def clocked(*_args):\n",
    "            t0 = time.time()\n",
    "            _result = func(*_args)\n",
    "            elapsed = time.time() - t0\n",
    "            name = func.__name__\n",
    "            args = ', '.join(repr(arg) for arg in _args)\n",
    "            result = repr(_result)\n",
    "\n",
    "            print(fmt.format(**locals()))\n",
    "            return _result   \n",
    "        return clocked\n",
    "    return decorate\n",
    "\n",
    "\n",
    "@clock()\n",
    "def snooze(seconds):\n",
    "    time.sleep(seconds)\n",
    "    \n",
    "for i in range(3):\n",
    "    snooze(.123)"
   ]
  },
  {
   "cell_type": "code",
   "execution_count": 60,
   "metadata": {},
   "outputs": [
    {
     "name": "stdout",
     "output_type": "stream",
     "text": [
      "snooze: 0.12565302848815918s\n",
      "snooze: 0.12601423263549805s\n",
      "snooze: 0.1280219554901123s\n"
     ]
    }
   ],
   "source": [
    "# 예제 7-26 clock 데모1\n",
    "import time\n",
    "\n",
    "@clock('{name}: {elapsed}s')\n",
    "def snooze(seconds):\n",
    "    time.sleep(seconds)\n",
    "    \n",
    "for i in range(3):\n",
    "    snooze(.123)"
   ]
  },
  {
   "cell_type": "code",
   "execution_count": 62,
   "metadata": {},
   "outputs": [
    {
     "name": "stdout",
     "output_type": "stream",
     "text": [
      "snooze(0.123) dt=0.128s\n",
      "snooze(0.123) dt=0.128s\n",
      "snooze(0.123) dt=0.128s\n"
     ]
    }
   ],
   "source": [
    "# 예제 7-27 clock 데모2\n",
    "import time\n",
    "\n",
    "@clock('{name}({args}) dt={elapsed:0.3f}s')\n",
    "def snooze(seconds):\n",
    "    time.sleep(seconds)\n",
    "    \n",
    "for i in range(3):\n",
    "    snooze(.123)\n"
   ]
  },
  {
   "cell_type": "code",
   "execution_count": null,
   "metadata": {},
   "outputs": [],
   "source": []
  }
 ],
 "metadata": {
  "kernelspec": {
   "display_name": "Python 3.8.12 ('torch')",
   "language": "python",
   "name": "python3"
  },
  "language_info": {
   "codemirror_mode": {
    "name": "ipython",
    "version": 3
   },
   "file_extension": ".py",
   "mimetype": "text/x-python",
   "name": "python",
   "nbconvert_exporter": "python",
   "pygments_lexer": "ipython3",
   "version": "3.8.12"
  },
  "orig_nbformat": 4,
  "vscode": {
   "interpreter": {
    "hash": "e1315e6714f2518a6216a6eec3b047587d10875bf19b853b35d3e5c84c569e2a"
   }
  }
 },
 "nbformat": 4,
 "nbformat_minor": 2
}
