{
 "cells": [
  {
   "cell_type": "markdown",
   "metadata": {},
   "source": [
    "# Chapter 11 인터페이스: 프로토콜에서 ABC까지\n",
    "**동적 자료형**\n",
    "\n",
    "> 자료형 검사의 대부분이 컴파일 타임이 아닌 실행 시간에 수행될 경우 동적 정형이라고 한다. 동적 정형에서, 값은 자료형을 가지고 있지만 변수는 그렇지 않다. 즉, 변수는 모든 자료형의 값을 가질 수 있다. [https://ko.wikipedia.org/wiki/자료형_체계#동적_정형](https://ko.wikipedia.org/wiki/%EC%9E%90%EB%A3%8C%ED%98%95_%EC%B2%B4%EA%B3%84#%EB%8F%99%EC%A0%81_%EC%A0%95%ED%98%95)\n",
    "\n",
    "<br>\n",
    "\n",
    "**인터페이스**\n",
    "> 시스템에서 어떤 역할을 할 수 있게 해주는 객체의 공개 메서드의 일부 \n",
    "\n",
    "<br>\n",
    "\n",
    "**덕타이핑**\n",
    "\n",
    "> 컴퓨터 프로그래밍 분야에서 덕 타이핑(duck typing)은 동적 타이핑의 한 종류로, 객체의 변수 및 메소드의 집합이 객체의 타입을 결정하는 것을 말한다. 클래스 상속이나 인터페이스 구현으로 타입을 구분하는 대신, 덕 타이핑은 객체가 어떤 타입에 걸맞은 변수와 메소드를 지니면 객체를 해당 타입에 속하는 것으로 간주한다. [https://ko.wikipedia.org/wiki/덕_타이핑](https://ko.wikipedia.org/wiki/%EB%8D%95_%ED%83%80%EC%9D%B4%ED%95%91)\n",
    "\n",
    "- 객체의 실제 자료형은 무시하고, 객체가 용도에 맞는 메서드 이름, 시그니처, 의미를 구현하도록 보장하는 데 주안점을 둔다. \n",
    "\n",
    "\n",
    "<br>\n",
    "\n",
    "**동적 프로토콜**\n",
    "- 어떤 역할을 완수하기 위한 메서드 집합으로서의 인터페이스\n",
    "  - 객체의 정체 (자료형)가 중요한 것이 아니다. 객체가 해당 역할을 수행할 수 있는 기능 (메서드)이 있는지가 중요한 것이다.\n",
    "- 객체가 어떤 프로토콜을 구현하는 한 자료형에 상관 없이 객체를 작동시킨다. \n",
    "  - 예) 함수가 인자로 들어온 객체의 자료형에 신경 쓰지 않는다. 객체가 일부 프로토콜을 구현하고 있으면 된다.\n",
    "\n",
    "\n",
    "<br>\n",
    "\n",
    "**추상 베이스 클래스 (abc)**\n",
    "\n",
    "> 베이스 클래스를 상속 받는 파생 클래스가 반드시 베이스 클래스의 메서드를 명시적으로 선언해서 구현하도록 강제하는 추상화 클래스 [https://bluese05.tistory.com/61](https://bluese05.tistory.com/61)\n",
    "\n",
    "- 각 메서드에 일일이 `NotImplementedError`를 붙이는 것과의 차이점\n",
    "  - abc 클래스를 사용할 경우 베이스 클래스는 인스턴스화될 수 없다.\n",
    "  - 메서드가 실행될 때 에러가 발생하는 `NotImplementedError`와 달리, 객체 생성에서 에러가 발생한다.\n",
    "\n",
    "\n",
    "<br>\n",
    "\n",
    "## 11.1 파이썬 문화에서의 인터페이스와 프로토콜\n",
    "\n",
    "<br>\n",
    "\n",
    "## 11.2 파이썬은 시퀀스를 찾아낸다.\n",
    "- `collections.abs`에 정의된 `Sequence ABC`에 따르면,  `__len__()`, `__getitem()__` 메서드가 구현되어야 `Sequence`형이 된다.\n",
    "  - `__contains__()`, `__iter__()`는 Sequence 추상 클래스의 구상 메서드로 구현되어 있기 때문에 위 2개만 정의하면 된다.\n",
    "- 하지만, 시퀀스 프로토콜의 중요성 때문에 `__iter__()`와 `__contains__()` 메서드가 구현되어 있지 않더라도, 파이썬은 `__getitem__()` 메서드를 호출해서 객체를 반복하고 `in` 연산자를 사용할 수 있게 해준다."
   ]
  },
  {
   "cell_type": "code",
   "execution_count": 1,
   "metadata": {},
   "outputs": [
    {
     "ename": "TypeError",
     "evalue": "Can't instantiate abstract class MySeq with abstract methods __len__",
     "output_type": "error",
     "traceback": [
      "\u001b[1;31m---------------------------------------------------------------------------\u001b[0m",
      "\u001b[1;31mTypeError\u001b[0m                                 Traceback (most recent call last)",
      "\u001b[1;32m<ipython-input-1-c16bc7a5472c>\u001b[0m in \u001b[0;36m<module>\u001b[1;34m\u001b[0m\n\u001b[0;32m      5\u001b[0m         \u001b[0mprint\u001b[0m\u001b[1;33m(\u001b[0m\u001b[0mindex\u001b[0m\u001b[1;33m)\u001b[0m\u001b[1;33m\u001b[0m\u001b[1;33m\u001b[0m\u001b[0m\n\u001b[0;32m      6\u001b[0m \u001b[1;33m\u001b[0m\u001b[0m\n\u001b[1;32m----> 7\u001b[1;33m \u001b[0ma\u001b[0m \u001b[1;33m=\u001b[0m \u001b[0mMySeq\u001b[0m\u001b[1;33m(\u001b[0m\u001b[1;33m)\u001b[0m\u001b[1;33m\u001b[0m\u001b[1;33m\u001b[0m\u001b[0m\n\u001b[0m",
      "\u001b[1;31mTypeError\u001b[0m: Can't instantiate abstract class MySeq with abstract methods __len__"
     ]
    }
   ],
   "source": [
    "from collections.abc import Sequence\n",
    "\n",
    "class MySeq(Sequence):\n",
    "    def __getitem__(self, index):\n",
    "        print(index)\n",
    "        \n",
    "a = MySeq()"
   ]
  },
  {
   "cell_type": "code",
   "execution_count": 2,
   "metadata": {},
   "outputs": [
    {
     "name": "stdout",
     "output_type": "stream",
     "text": [
      "10\n",
      "0\n",
      "10\n",
      "20\n",
      "True\n",
      "False\n"
     ]
    }
   ],
   "source": [
    "# 예제 11-3 __getitem__()으로 부분 구현한 시퀀스 프로토콜. 항목에 접근할 수 있고, 반복할 수 있으며, in 연산자에서 사용할 수 있다.\n",
    "class Foo:\n",
    "    def __getitem__(self, pos):\n",
    "        return range(0, 30, 10)[pos]\n",
    "    \n",
    "f = Foo()\n",
    "print(f[1])\n",
    "\n",
    "for i in f:\n",
    "    print(i)\n",
    "    \n",
    "print(20 in f)\n",
    "print(15 in f)"
   ]
  },
  {
   "cell_type": "code",
   "execution_count": 3,
   "metadata": {},
   "outputs": [
    {
     "ename": "TypeError",
     "evalue": "argument of type 'Boo' is not iterable",
     "output_type": "error",
     "traceback": [
      "\u001b[1;31m---------------------------------------------------------------------------\u001b[0m",
      "\u001b[1;31mTypeError\u001b[0m                                 Traceback (most recent call last)",
      "\u001b[1;32m<ipython-input-3-226aa1a8c7bc>\u001b[0m in \u001b[0;36m<module>\u001b[1;34m\u001b[0m\n\u001b[0;32m      5\u001b[0m \u001b[0mb\u001b[0m \u001b[1;33m=\u001b[0m \u001b[0mBoo\u001b[0m\u001b[1;33m(\u001b[0m\u001b[1;33m)\u001b[0m\u001b[1;33m\u001b[0m\u001b[1;33m\u001b[0m\u001b[0m\n\u001b[0;32m      6\u001b[0m \u001b[1;33m\u001b[0m\u001b[0m\n\u001b[1;32m----> 7\u001b[1;33m \u001b[1;36m3\u001b[0m \u001b[1;32min\u001b[0m \u001b[0mb\u001b[0m\u001b[1;33m\u001b[0m\u001b[1;33m\u001b[0m\u001b[0m\n\u001b[0m",
      "\u001b[1;31mTypeError\u001b[0m: argument of type 'Boo' is not iterable"
     ]
    }
   ],
   "source": [
    "class Boo:\n",
    "    pass\n",
    "\n",
    "Boo.__dict__\n",
    "b = Boo()\n",
    "\n",
    "3 in b"
   ]
  },
  {
   "cell_type": "code",
   "execution_count": 4,
   "metadata": {},
   "outputs": [
    {
     "ename": "SyntaxError",
     "evalue": "invalid syntax (<ipython-input-4-712cbcf29003>, line 1)",
     "output_type": "error",
     "traceback": [
      "\u001b[1;36m  File \u001b[1;32m\"<ipython-input-4-712cbcf29003>\"\u001b[1;36m, line \u001b[1;32m1\u001b[0m\n\u001b[1;33m    Foo.__dict__.\u001b[0m\n\u001b[1;37m                 ^\u001b[0m\n\u001b[1;31mSyntaxError\u001b[0m\u001b[1;31m:\u001b[0m invalid syntax\n"
     ]
    }
   ],
   "source": [
    "Foo.__dict__."
   ]
  },
  {
   "cell_type": "code",
   "execution_count": 5,
   "metadata": {},
   "outputs": [],
   "source": [
    "# 예제 11-4: 일련의 카드로 구성된 카드 한 벌\n",
    "import collections\n",
    "\n",
    "Card = collections.namedtuple('Card', ['rank', 'suit'])  # 개별 카드를 나타내는 클래스\n",
    "\n",
    "\n",
    "class FrenchDeck:\n",
    "    ranks = [str(n) for n in range(2, 11)] + list('JQKA')  # 인스턴스로 생성되지 않아도 접근 가능 (ex) FrenchDeck.ranks\n",
    "    suits = 'spades diamonds clubs hearts'.split()\n",
    "    \n",
    "    def __init__(self):\n",
    "        self._cards = [Card(rank, suit) for suit in self.suits for rank in self.ranks]\n",
    "        \n",
    "    def __len__(self):\n",
    "        return len(self._cards)\n",
    "    \n",
    "    def __getitem__(self, position):\n",
    "        return self._cards[position]\n"
   ]
  },
  {
   "cell_type": "markdown",
   "metadata": {},
   "source": [
    "## 11.3 런타임에 프로토콜을 구현하는 멍키 패칭\n"
   ]
  },
  {
   "cell_type": "code",
   "execution_count": 6,
   "metadata": {},
   "outputs": [
    {
     "name": "stdout",
     "output_type": "stream",
     "text": [
      "[4, 6, 0, 7, 9, 1, 8, 2, 5, 3]\n"
     ]
    }
   ],
   "source": [
    "from random import shuffle\n",
    "\n",
    "l = list(range(10))\n",
    "shuffle(l)\n",
    "print(l)"
   ]
  },
  {
   "cell_type": "code",
   "execution_count": 7,
   "metadata": {},
   "outputs": [
    {
     "ename": "TypeError",
     "evalue": "'FrenchDeck' object does not support item assignment",
     "output_type": "error",
     "traceback": [
      "\u001b[1;31m---------------------------------------------------------------------------\u001b[0m",
      "\u001b[1;31mTypeError\u001b[0m                                 Traceback (most recent call last)",
      "\u001b[1;32m<ipython-input-7-09a598aad652>\u001b[0m in \u001b[0;36m<module>\u001b[1;34m\u001b[0m\n\u001b[0;32m      1\u001b[0m \u001b[1;31m# 예제 11-5 random.shuffle()이 FrenchDeck을 처리하지 못한다.\u001b[0m\u001b[1;33m\u001b[0m\u001b[1;33m\u001b[0m\u001b[1;33m\u001b[0m\u001b[0m\n\u001b[0;32m      2\u001b[0m \u001b[0mdeck\u001b[0m \u001b[1;33m=\u001b[0m \u001b[0mFrenchDeck\u001b[0m\u001b[1;33m(\u001b[0m\u001b[1;33m)\u001b[0m\u001b[1;33m\u001b[0m\u001b[1;33m\u001b[0m\u001b[0m\n\u001b[1;32m----> 3\u001b[1;33m \u001b[0mshuffle\u001b[0m\u001b[1;33m(\u001b[0m\u001b[0mdeck\u001b[0m\u001b[1;33m)\u001b[0m\u001b[1;33m\u001b[0m\u001b[1;33m\u001b[0m\u001b[0m\n\u001b[0m",
      "\u001b[1;32mc:\\ProgramData\\Anaconda3\\lib\\random.py\u001b[0m in \u001b[0;36mshuffle\u001b[1;34m(self, x, random)\u001b[0m\n\u001b[0;32m    305\u001b[0m                 \u001b[1;31m# pick an element in x[:i+1] with which to exchange x[i]\u001b[0m\u001b[1;33m\u001b[0m\u001b[1;33m\u001b[0m\u001b[1;33m\u001b[0m\u001b[0m\n\u001b[0;32m    306\u001b[0m                 \u001b[0mj\u001b[0m \u001b[1;33m=\u001b[0m \u001b[0mrandbelow\u001b[0m\u001b[1;33m(\u001b[0m\u001b[0mi\u001b[0m\u001b[1;33m+\u001b[0m\u001b[1;36m1\u001b[0m\u001b[1;33m)\u001b[0m\u001b[1;33m\u001b[0m\u001b[1;33m\u001b[0m\u001b[0m\n\u001b[1;32m--> 307\u001b[1;33m                 \u001b[0mx\u001b[0m\u001b[1;33m[\u001b[0m\u001b[0mi\u001b[0m\u001b[1;33m]\u001b[0m\u001b[1;33m,\u001b[0m \u001b[0mx\u001b[0m\u001b[1;33m[\u001b[0m\u001b[0mj\u001b[0m\u001b[1;33m]\u001b[0m \u001b[1;33m=\u001b[0m \u001b[0mx\u001b[0m\u001b[1;33m[\u001b[0m\u001b[0mj\u001b[0m\u001b[1;33m]\u001b[0m\u001b[1;33m,\u001b[0m \u001b[0mx\u001b[0m\u001b[1;33m[\u001b[0m\u001b[0mi\u001b[0m\u001b[1;33m]\u001b[0m\u001b[1;33m\u001b[0m\u001b[1;33m\u001b[0m\u001b[0m\n\u001b[0m\u001b[0;32m    308\u001b[0m         \u001b[1;32melse\u001b[0m\u001b[1;33m:\u001b[0m\u001b[1;33m\u001b[0m\u001b[1;33m\u001b[0m\u001b[0m\n\u001b[0;32m    309\u001b[0m             \u001b[0m_int\u001b[0m \u001b[1;33m=\u001b[0m \u001b[0mint\u001b[0m\u001b[1;33m\u001b[0m\u001b[1;33m\u001b[0m\u001b[0m\n",
      "\u001b[1;31mTypeError\u001b[0m: 'FrenchDeck' object does not support item assignment"
     ]
    }
   ],
   "source": [
    "# 예제 11-5 random.shuffle()이 FrenchDeck을 처리하지 못한다.\n",
    "deck = FrenchDeck()\n",
    "shuffle(deck)"
   ]
  },
  {
   "cell_type": "code",
   "execution_count": 8,
   "metadata": {},
   "outputs": [
    {
     "ename": "TypeError",
     "evalue": "'FrenchDeck' object does not support item assignment",
     "output_type": "error",
     "traceback": [
      "\u001b[1;31m---------------------------------------------------------------------------\u001b[0m",
      "\u001b[1;31mTypeError\u001b[0m                                 Traceback (most recent call last)",
      "\u001b[1;32m<ipython-input-8-bb70ce8be12d>\u001b[0m in \u001b[0;36m<module>\u001b[1;34m\u001b[0m\n\u001b[1;32m----> 1\u001b[1;33m \u001b[0mdeck\u001b[0m\u001b[1;33m[\u001b[0m\u001b[1;36m0\u001b[0m\u001b[1;33m]\u001b[0m \u001b[1;33m=\u001b[0m \u001b[1;36m0\u001b[0m\u001b[1;33m\u001b[0m\u001b[1;33m\u001b[0m\u001b[0m\n\u001b[0m",
      "\u001b[1;31mTypeError\u001b[0m: 'FrenchDeck' object does not support item assignment"
     ]
    }
   ],
   "source": [
    "deck[0] = 0"
   ]
  },
  {
   "cell_type": "markdown",
   "metadata": {},
   "source": [
    "- 객체 할당을 지원하기 위해서는 `__setitem__()` 메세드를 구현해야 한다.\n",
    "- 파이썬은 동적 언어이기 때문에, 대화형 콘솔에서 실행하는 동안에도 이 문제를 해결할 수 있다 (멍키 패칭)."
   ]
  },
  {
   "cell_type": "code",
   "execution_count": 9,
   "metadata": {},
   "outputs": [
    {
     "data": {
      "text/plain": [
       "[Card(rank='7', suit='clubs'),\n",
       " Card(rank='9', suit='spades'),\n",
       " Card(rank='J', suit='hearts'),\n",
       " Card(rank='9', suit='hearts'),\n",
       " Card(rank='K', suit='diamonds')]"
      ]
     },
     "execution_count": 9,
     "metadata": {},
     "output_type": "execute_result"
    }
   ],
   "source": [
    "# 예제 11-6 FrenchDeck을 가변형으로 만들어 random.shuffle()을 사용하기 위한 멍키 패칭\n",
    "def set_card(deck, position, card):\n",
    "    deck._cards[position] = card\n",
    "    \n",
    "FrenchDeck.__setitem__ = set_card\n",
    "shuffle(deck)\n",
    "deck[:5]"
   ]
  },
  {
   "cell_type": "code",
   "execution_count": 10,
   "metadata": {},
   "outputs": [],
   "source": [
    "from collections import abc\n",
    "\n",
    "def type_checker(obj):\n",
    "    print(\"Is abc.Container? \", isinstance(obj, abc.Container))\n",
    "    print(\"Is abc.Iterable? \", isinstance(obj, abc.Iterable))\n",
    "    print(\"Is abc.Sized? \", isinstance(obj, abc.Sized))\n",
    "    print(\"Is abc.Sequence? \", isinstance(obj, abc.Sequence))"
   ]
  },
  {
   "cell_type": "code",
   "execution_count": 11,
   "metadata": {},
   "outputs": [
    {
     "name": "stdout",
     "output_type": "stream",
     "text": [
      "Is abc.Container?  False\n",
      "Is abc.Iterable?  False\n",
      "Is abc.Sized?  True\n",
      "Is abc.Sequence?  False\n"
     ]
    }
   ],
   "source": [
    "class MySequence:\n",
    "    def __init__(self, data):\n",
    "        self._data = list(data)\n",
    "        \n",
    "    def __len__(self):\n",
    "        return len(self._data)\n",
    "    \n",
    "my_seq = MySequence([1, 2, 3, 4])\n",
    "\n",
    "type_checker(my_seq)"
   ]
  },
  {
   "cell_type": "code",
   "execution_count": 12,
   "metadata": {},
   "outputs": [
    {
     "name": "stdout",
     "output_type": "stream",
     "text": [
      "Is abc.Container?  False\n",
      "Is abc.Iterable?  True\n",
      "Is abc.Sized?  False\n",
      "Is abc.Sequence?  False\n"
     ]
    }
   ],
   "source": [
    "class MySequence:\n",
    "    def __init__(self, data):\n",
    "        self._data = list(data)\n",
    "        \n",
    "    def __iter__(self):\n",
    "        return (x for x in self._data)\n",
    "    \n",
    "my_seq = MySequence([1, 2, 3, 4])\n",
    "\n",
    "type_checker(my_seq)"
   ]
  },
  {
   "cell_type": "code",
   "execution_count": 13,
   "metadata": {},
   "outputs": [
    {
     "name": "stdout",
     "output_type": "stream",
     "text": [
      "Is abc.Container?  False\n",
      "Is abc.Iterable?  False\n",
      "Is abc.Sized?  False\n",
      "Is abc.Sequence?  False\n"
     ]
    }
   ],
   "source": [
    "class MySequence:\n",
    "    def __init__(self, data):\n",
    "        self._data = list(data)\n",
    "        \n",
    "    def __getitem__(self, index):\n",
    "        return self._data[index]\n",
    "    \n",
    "my_seq = MySequence([1, 2, 3, 4])\n",
    "\n",
    "type_checker(my_seq)"
   ]
  },
  {
   "cell_type": "code",
   "execution_count": 14,
   "metadata": {},
   "outputs": [
    {
     "name": "stdout",
     "output_type": "stream",
     "text": [
      "Is abc.Container?  False\n",
      "Is abc.Iterable?  False\n",
      "Is abc.Sized?  True\n",
      "Is abc.Sequence?  False\n"
     ]
    }
   ],
   "source": [
    "class MySequence:\n",
    "    def __init__(self, data):\n",
    "        self._data = list(data)\n",
    "        \n",
    "    def __getitem__(self, index):\n",
    "        return self._data[index]\n",
    "    \n",
    "    def __len__(self):\n",
    "        return len(self._data)\n",
    "    \n",
    "my_seq = MySequence([1, 2, 3, 4])\n",
    "\n",
    "type_checker(my_seq)"
   ]
  },
  {
   "cell_type": "code",
   "execution_count": 15,
   "metadata": {},
   "outputs": [
    {
     "name": "stdout",
     "output_type": "stream",
     "text": [
      "Is abc.Container?  True\n",
      "Is abc.Iterable?  True\n",
      "Is abc.Sized?  True\n",
      "Is abc.Sequence?  False\n"
     ]
    }
   ],
   "source": [
    "class MySequence:\n",
    "    def __init__(self, data):\n",
    "        self._data = list(data)\n",
    "        \n",
    "    def __contains__(self, value):\n",
    "        return value in self._data\n",
    "    \n",
    "    def __iter__(self):\n",
    "        return (x for x in self._data)\n",
    "        \n",
    "    def __getitem__(self, index):\n",
    "        return self._data[index]\n",
    "    \n",
    "    def __len__(self):\n",
    "        return len(self._data)\n",
    "    \n",
    "my_seq = MySequence([1, 2, 3, 4])\n",
    "\n",
    "type_checker(my_seq)"
   ]
  },
  {
   "cell_type": "code",
   "execution_count": 16,
   "metadata": {},
   "outputs": [
    {
     "name": "stdout",
     "output_type": "stream",
     "text": [
      "Is abc.Container?  True\n",
      "Is abc.Iterable?  True\n",
      "Is abc.Sized?  True\n",
      "Is abc.Sequence?  False\n"
     ]
    }
   ],
   "source": [
    "class MySequence:\n",
    "    def __init__(self, data):\n",
    "        self._data = list(data)\n",
    "        \n",
    "    def __contains__(self, value):\n",
    "        return value in self._data\n",
    "    \n",
    "    def __iter__(self):\n",
    "        return (x for x in self._data)\n",
    "        \n",
    "    def __getitem__(self, index):\n",
    "        return self._data[index]\n",
    "    \n",
    "    def __len__(self):\n",
    "        return len(self._data)\n",
    "    \n",
    "    def __reversed__(self):\n",
    "        return self._data[::-1]\n",
    "    \n",
    "my_seq = MySequence([1, 2, 3, 4])\n",
    "\n",
    "type_checker(my_seq)"
   ]
  },
  {
   "cell_type": "code",
   "execution_count": 17,
   "metadata": {},
   "outputs": [
    {
     "name": "stdout",
     "output_type": "stream",
     "text": [
      "Is abc.Container?  True\n",
      "Is abc.Iterable?  True\n",
      "Is abc.Sized?  True\n",
      "Is abc.Sequence?  False\n"
     ]
    }
   ],
   "source": [
    "class MySequence:\n",
    "    def __init__(self, data):\n",
    "        self._data = list(data)\n",
    "        \n",
    "    def __contains__(self, value):\n",
    "        return value in self._data\n",
    "    \n",
    "    def __iter__(self):\n",
    "        return (x for x in self._data)\n",
    "        \n",
    "    def __getitem__(self, index):\n",
    "        return self._data[index]\n",
    "    \n",
    "    def __len__(self):\n",
    "        return len(self._data)\n",
    "    \n",
    "    def __reversed__(self):\n",
    "        return self._data[::-1]\n",
    "    \n",
    "my_seq = MySequence([1, 2, 3, 4])\n",
    "\n",
    "type_checker(my_seq)"
   ]
  },
  {
   "cell_type": "code",
   "execution_count": 18,
   "metadata": {},
   "outputs": [
    {
     "name": "stdout",
     "output_type": "stream",
     "text": [
      "Is abc.Container?  True\n",
      "Is abc.Iterable?  True\n",
      "Is abc.Sized?  True\n",
      "Is abc.Sequence?  False\n"
     ]
    }
   ],
   "source": [
    "class MySequence:\n",
    "    def __init__(self, data):\n",
    "        self._data = list(data)\n",
    "        \n",
    "    def __contains__(self, value):\n",
    "        return value in self._data\n",
    "    \n",
    "    def __iter__(self):\n",
    "        return (x for x in self._data)\n",
    "        \n",
    "    def __getitem__(self, index):\n",
    "        return self._data[index]\n",
    "    \n",
    "    def __len__(self):\n",
    "        return len(self._data)\n",
    "    \n",
    "    def __reversed__(self):\n",
    "        return self._data[::-1]\n",
    "    \n",
    "    def index(self, index):\n",
    "        return self._data.index(index)\n",
    "    \n",
    "    def count(self, value):\n",
    "        return self._data.count(value)\n",
    "    \n",
    "my_seq = MySequence([1, 2, 3, 4])\n",
    "\n",
    "type_checker(my_seq)"
   ]
  },
  {
   "cell_type": "code",
   "execution_count": 19,
   "metadata": {},
   "outputs": [
    {
     "name": "stdout",
     "output_type": "stream",
     "text": [
      "Is abc.Container?  True\n",
      "Is abc.Iterable?  True\n",
      "Is abc.Sized?  True\n",
      "Is abc.Sequence?  True\n"
     ]
    }
   ],
   "source": [
    "class MySequence(abc.Sequence):\n",
    "    def __init__(self, data):\n",
    "        self._data = list(data)\n",
    "        \n",
    "    def __contains__(self, value):\n",
    "        return value in self._data\n",
    "    \n",
    "    def __iter__(self):\n",
    "        return (x for x in self._data)\n",
    "        \n",
    "    def __getitem__(self, index):\n",
    "        return self._data[index]\n",
    "    \n",
    "    def __len__(self):\n",
    "        return len(self._data)\n",
    "    \n",
    "    \n",
    "my_seq = MySequence([1, 2, 3, 4])\n",
    "\n",
    "type_checker(my_seq)"
   ]
  },
  {
   "cell_type": "markdown",
   "metadata": {},
   "source": [
    "## 11.4 알렉스 마르텔리의 물새\n"
   ]
  },
  {
   "cell_type": "markdown",
   "metadata": {},
   "source": [
    "## 11.5 ABC 상속하기\n",
    "- `collections.MutableSequence`의 세 가지 추상 메서드 `__setitem__()`, `__delitem__()`, `insert()`\n",
    "- 컴파일 또는 모듈 임포트 단계가 아니라 인스턴스를 생성할 때 추상 메서드 구현 여부를 확인한다."
   ]
  },
  {
   "cell_type": "code",
   "execution_count": 20,
   "metadata": {},
   "outputs": [
    {
     "name": "stderr",
     "output_type": "stream",
     "text": [
      "<ipython-input-20-5154b2182384>:6: DeprecationWarning: Using or importing the ABCs from 'collections' instead of from 'collections.abc' is deprecated since Python 3.3, and in 3.9 it will stop working\n",
      "  class FrenchDeck2(collections.MutableSequence):\n"
     ]
    }
   ],
   "source": [
    "# 예제 11-8 collections.MutableSequence의 서브클래스 FrenchDeck2\n",
    "import collections\n",
    "\n",
    "Card = collections.namedtuple('Card', ['rank', 'suit'])\n",
    "\n",
    "class FrenchDeck2(collections.MutableSequence):\n",
    "    ranks = [str(n) for n in range(2, 11)] + list('JQKA')\n",
    "    suits = 'spades diamonds clubs hearts'.split(' ')\n",
    "    \n",
    "    def __init__(self):\n",
    "        self._cards = [Card(rank, suit) for suit in self.suits\n",
    "                                        for rank in self.ranks]\n",
    "        \n",
    "    def __len__(self):\n",
    "        return len(self._cards)\n",
    "    \n",
    "    def __getitem__(self, index):\n",
    "        return self._cards[index]\n",
    "    \n",
    "    def __setitem__(self, index, value):\n",
    "        self._cards[index] = value\n",
    "        \n",
    "    def __delitem__(self, index):\n",
    "        del self._cards[index]\n",
    "        \n",
    "    def insert(self, index, value):\n",
    "        self._cards.insert(index, value)"
   ]
  },
  {
   "cell_type": "markdown",
   "metadata": {},
   "source": [
    "## 11.6 표준 라이브러리의 ABC\n",
    "### 11.6.1 `collections.abc`의 ABC\n",
    "- 파이썬 3.4 버전에는 16개의 ABC가 있다 (현재는 25개).\n",
    "- Iterable, Container, Sized\n",
    "  - 모든 컬렉션은 이 ABC를 상속하거나, 적어도 호환되는 프로토콜을 구현해야 한다.\n",
    "  - 각각 `__iter__()`, `__contains__()`, `__len__()`을 통해 반복, `in` 연산자, `len()` 메서드를 지원\n",
    "- Sequence, Mapping, Set\n",
    "  - 불변 컬렉션로서 각자 가변형 서브 클래스 MutableSequence, MutableMapping, MutableSet이 있다.\n",
    "- MappingView\n",
    "  - `items()`, `keys()`, `values()` 메서드에서 반환된 객체는 각각 `ItemsView`, `KeysView`, `ValuesView`를 상속 받는다.\n",
    "  - `ItemsView`, `KeysView`는 `Set`을 상속한다.\n",
    "- Callable, Hashable\n",
    "  - 상속 목적보다는 주로 어떤 객체를 호출하거나 해시할 수 있는지 안전하게 판단하게 위해 `isinstance` 함수에 사용된다.\n",
    "- Iterator\n",
    "  - Iterable을 상속하며, 자세한 내용은 14장에서 배운다.\n",
    "\n",
    "<br>\n",
    "\n",
    "---\n",
    "\n",
    "### 11.6.2 ABC의 숫자탑\n",
    "`numbers` 패키지에서는 소위 '숫자탑'이라고 하는 것을 정의함\n",
    "- `Number`\n",
    "- `Complex`\n",
    "- `Real`\n",
    "- `Rational`\n",
    "- `Integral`\n",
    "\n",
    "<br>\n",
    "\n",
    "---\n",
    "\n",
    "### 11.6.2 `abc.ABC`\n",
    "- 사용자 정의 ABC를 만들 때 사용"
   ]
  },
  {
   "cell_type": "markdown",
   "metadata": {},
   "source": [
    "## 11.7 ABC의 정의와 사용\n",
    "예제 상황 설명\n",
    "- **상황** 광고를 무작위 순으로 보여주되, 모든 광고를 다 모두 보여주기 전까지는 같은 광고를 반복하면 안됨 => **무반복 무작위**\n",
    "- **전략** 집합이 소진될 때까지 반복하지 않고 유한 집합에서 무작위로 항목을 선택 => **스택**과 **큐**\n",
    "- **Tombola** 무반복 무작위 선발을 지원하는 클래스\n",
    "  - 2가지 추상 메서드\n",
    "    - `load()`: 항목을 컨테이너 안에 넣는다.\n",
    "    - `pick()`: 컨테이너 안에서 무작위로 항목 하나를 꺼내서 반환한다.\n",
    "  - 2가지 구상 메서드\n",
    "    - `loaded()`: 컨테이너 안에 항목이 하나 이상 있으면 True를 반환\n",
    "    - `inspect()`: 내용물을 변경하지 않고 항목들을 정렬하여 튜플로 반환\n",
    "    - ABC에도 구상 메서드가 들어갈 수 있으며, ABC (해당 ABC에 정의된 다른 구상/추상 메서드 혹은 프로퍼티)에 정의된 인터페이스만 사용해야 한다."
   ]
  },
  {
   "cell_type": "code",
   "execution_count": 21,
   "metadata": {},
   "outputs": [],
   "source": [
    "# 예제 11-9 tombola.py: 추상 메서드 두 개와 구상 메서드 두개를 가진 Tombola ABC\n",
    "import abc\n",
    "\n",
    "class Tombola(abc.ABC):  # ABC를 정의하려면 abc.ABC를 상속해야 한다.\n",
    "    \n",
    "    @abc.abstractmethod  # 추상 메서드임을 데커레이터로 표시한다. docstring만 넣는 경우가 종종 있다.\n",
    "    def load(self, iterable):\n",
    "        \"\"\"iterable의 항목들을 추가한다.\"\"\"\n",
    "    \n",
    "    @abc.abstractmethod\n",
    "    def pick(self):  # docstring을 통해 LookupError를 발생시키라고 알려준다.\n",
    "        \"\"\"무작위로 항목을 하나 제거하고 반환한다.\n",
    "        객체가 비어 있을 때 이 메서드를 실행하면 `LookupError`가 발생한다.\n",
    "        \"\"\"\n",
    "    \n",
    "    def loaded(self):  # ABC에도 구상 메서드가 들어갈 수 있다. 구상 메서드들은 반드시 ABC에 정의된 인터페이스만 사용해야 한다.\n",
    "        \"\"\"최소 한 개의 항목이 있으면 True를, 아니면 False를 반환한다.\"\"\"\n",
    "        return bool(self.inspect())\n",
    "    \n",
    "    def inspect(self):\n",
    "        \"\"\"현재 안에 있는 항목들로 구성된 정렬된 튜플을 반환한다.\"\"\"\n",
    "        items = []\n",
    "        while True:  # 서브 클래스가 어떻게 항목을 저장하는지 모르기 때문에 이렇게 정의한다.\n",
    "            try:\n",
    "                items.append(self.pick())\n",
    "            except LookupError:\n",
    "                break\n",
    "        self.load(items)\n",
    "        return tuple(sorted(items))"
   ]
  },
  {
   "cell_type": "markdown",
   "metadata": {},
   "source": [
    "- `LookupError`\n",
    "  - 서브 클래스가 사용할 데이터 구조에 따라 `IndexError` 또는 `KeyError`가 발생할 것이다.\n",
    "  - `LookupError`가 `IndexError`와 `KeyError`의 상위 예외이다.\n",
    "  - > `exception LookupError` 매핑 또는 시퀀스에 사용된 키 나 인덱스가 잘못되었을 때 발생하는 예외의 베이스 클래스\n",
    "  - **(참고)** [파이썬 예외 계층 구조](https://docs.python.org/ko/3/library/exceptions.html#exception-hierarchy)\n",
    "\n",
    "<br>\n",
    "\n",
    "~~~\n",
    "# 예제 11-10 Exception 클래스 계층구조 일부\n",
    "BaseException\n",
    " ├── BaseExceptionGroup\n",
    " ├── GeneratorExit\n",
    " ├── KeyboardInterrupt\n",
    " ├── SystemExit\n",
    " └── Exception\n",
    "      ... 중략 ...\n",
    "      ├── ImportError\n",
    "      │    └── ModuleNotFoundError\n",
    "      ├── LookupError\n",
    "      │    ├── IndexError\n",
    "      │    └── KeyError\n",
    "      ... 후략 ...\n",
    "~~~"
   ]
  },
  {
   "cell_type": "markdown",
   "metadata": {},
   "source": [
    "- 서브 클래스의 추상 메서드를 정의하지 않으면 에러가 발생한다. \n",
    "- 에러 발생 시점은 인스턴스가 만들어질 때이다."
   ]
  },
  {
   "cell_type": "code",
   "execution_count": 22,
   "metadata": {},
   "outputs": [
    {
     "name": "stdout",
     "output_type": "stream",
     "text": [
      "<class '__main__.Fake'>\n"
     ]
    },
    {
     "ename": "TypeError",
     "evalue": "Can't instantiate abstract class Fake with abstract methods load",
     "output_type": "error",
     "traceback": [
      "\u001b[1;31m---------------------------------------------------------------------------\u001b[0m",
      "\u001b[1;31mTypeError\u001b[0m                                 Traceback (most recent call last)",
      "\u001b[1;32m<ipython-input-22-e9d63ee130a1>\u001b[0m in \u001b[0;36m<module>\u001b[1;34m\u001b[0m\n\u001b[0;32m      7\u001b[0m \u001b[1;33m\u001b[0m\u001b[0m\n\u001b[0;32m      8\u001b[0m \u001b[0mprint\u001b[0m\u001b[1;33m(\u001b[0m\u001b[0mFake\u001b[0m\u001b[1;33m)\u001b[0m\u001b[1;33m\u001b[0m\u001b[1;33m\u001b[0m\u001b[0m\n\u001b[1;32m----> 9\u001b[1;33m \u001b[0mf\u001b[0m \u001b[1;33m=\u001b[0m \u001b[0mFake\u001b[0m\u001b[1;33m(\u001b[0m\u001b[1;33m)\u001b[0m\u001b[1;33m\u001b[0m\u001b[1;33m\u001b[0m\u001b[0m\n\u001b[0m",
      "\u001b[1;31mTypeError\u001b[0m: Can't instantiate abstract class Fake with abstract methods load"
     ]
    }
   ],
   "source": [
    "# 예제 11-11 들켜버린 가짜 Tombola\n",
    "from tombola import Tombola\n",
    "\n",
    "class Fake(Tombola):\n",
    "    def pick(self):\n",
    "        return 13\n",
    "    \n",
    "print(Fake)\n",
    "f = Fake()"
   ]
  },
  {
   "cell_type": "markdown",
   "metadata": {},
   "source": [
    "### 11.7.1 ABC 상세 구문\n",
    "- 사용자 정의 ABC를 만들 때는 `abc.ABC` 또는 다른 ABC를 상속하는 방법이 가장 좋다.\n",
    "  - (참고) 파이썬 3.4 이전은 metaclass 키워드를 사용하여 `abc.ABCMeta`를 상속해야 했다. `class Tombola(metaclass=abc.ABCMeta):`\n",
    "  - (참고) 파이썬 2에서는 `__metaclass__` 클래스 속성을 사용해야 했다. `__metaclass__ = abc.ABCMeta`\n",
    "  - (참고) 기존의 `@staticmethod`, `@classmethod`, `@property` 데코레이터를 사용하고 싶을 경우 `@abc.abstractmethod`를 제일 안쪽에 위치시키고 그 위에 중첩하여 사용하면 된다.\n"
   ]
  },
  {
   "cell_type": "markdown",
   "metadata": {},
   "source": [
    "### 11.7.2 Tombola ABC 상속하기\n",
    "- `BingoCage` 더 좋은 난수생성기를 사용"
   ]
  },
  {
   "cell_type": "markdown",
   "metadata": {},
   "source": [
    "- `random.SystemRandom`는 `os.urandom()` 함수를 기반으로 random API를 구현현다. `os.urandom()`는 암호화에 적합한 무작위 bytes를 생성할 수 있다.\n",
    "  - `os.urandom()`은 시드 설정을 할 수 없다. and draws its source of entropy from many unpredictable sources, making it more random.\n",
    "  - [https://stackoverflow.com/a/47515179/10258799](https://stackoverflow.com/a/47515179/10258799)"
   ]
  },
  {
   "cell_type": "code",
   "execution_count": 23,
   "metadata": {},
   "outputs": [
    {
     "name": "stdout",
     "output_type": "stream",
     "text": [
      "b'\\xa0'\n",
      "0.7068288512139356\n",
      "1\n"
     ]
    }
   ],
   "source": [
    "import os\n",
    "import random\n",
    "\n",
    "print(os.urandom(1))\n",
    "\n",
    "rng = random.SystemRandom()\n",
    "print(rng.random())\n",
    "print(rng.randint(0, 10))"
   ]
  },
  {
   "cell_type": "code",
   "execution_count": 24,
   "metadata": {},
   "outputs": [],
   "source": [
    "# 예제 11-12 Tombola의 구상 서브클래스 BingoCage\n",
    "import random\n",
    "\n",
    "from tombola import Tombola\n",
    "\n",
    "class BingoCage(Tombola):\n",
    "    \n",
    "    def __init__(self, items):\n",
    "        self._randomizer = random.SystemRandom()\n",
    "        self._items = []\n",
    "        self.load(items)\n",
    "        \n",
    "    def load(self, items):\n",
    "        self._items.extend(items)\n",
    "        self._randomizer.shuffle(self._items)\n",
    "        \n",
    "    def pick(self):\n",
    "        try:\n",
    "            return self._items.pop()\n",
    "        except IndexError:\n",
    "            raise LookupError('pick from empty BingoCage')\n",
    "        \n",
    "    def __call__(self):\n",
    "        self.pick()"
   ]
  },
  {
   "cell_type": "code",
   "execution_count": 25,
   "metadata": {},
   "outputs": [
    {
     "name": "stdout",
     "output_type": "stream",
     "text": [
      "True\n",
      "(0, 1, 2)\n",
      "False\n",
      "True\n",
      "True\n",
      "False\n",
      "OK\n",
      "True\n",
      "True\n",
      "True\n",
      "True\n"
     ]
    }
   ],
   "source": [
    "ConcreteTombola = BingoCage\n",
    "\n",
    "\n",
    "# 반복형에서 객체를 생성하고 로딩\n",
    "balls = list(range(3))\n",
    "globe = ConcreteTombola(balls)\n",
    "print(globe.loaded())\n",
    "print(globe.inspect())\n",
    "    \n",
    "# 공을 꺼내서 수집\n",
    "picks = []\n",
    "picks.append(globe.pick())\n",
    "picks.append(globe.pick())\n",
    "picks.append(globe.pick())\n",
    "\n",
    "# 상태와 결과를 확인\n",
    "print(globe.loaded())\n",
    "print(sorted(picks) == balls)\n",
    "\n",
    "# 다시 로딩\n",
    "globe.load(balls)\n",
    "print(globe.loaded())\n",
    "picks = [globe.pick() for i in balls]\n",
    "print(globe.loaded())\n",
    "\n",
    "# 객체가 비어 있을 때 `LookupError` 또는 서브 예외가 발생하는지 확인\n",
    "globe = ConcreteTombola([])\n",
    "try:\n",
    "    globe.pick()\n",
    "except LookupError as exc:\n",
    "    print('OK')\n",
    "    \n",
    "# 공 100개를 로딩하고 꺼내서 모두 제대로 나오는지 검증한다.\n",
    "balls = list(range(100))\n",
    "globe = ConcreteTombola(balls)\n",
    "picks = []\n",
    "while globe.inspect():\n",
    "    picks.append(globe.pick())\n",
    "print(len(picks) == len(balls))\n",
    "print(set(picks) == set(balls))\n",
    "\n",
    "# 순서가 변경되었는지, 단지 앞에서 뒤로 순서만 바꾼 것은 아닌지 확인한다.\n",
    "print(picks != balls)\n",
    "print(picks[::-1] != balls)"
   ]
  },
  {
   "cell_type": "code",
   "execution_count": 26,
   "metadata": {},
   "outputs": [],
   "source": [
    "# 예제 11-13 Tombola의 inspect()와 loaded() 메서드를 오버라이드하는 LotteryBlower 구상 서브클래스\n",
    "import random\n",
    "\n",
    "from tombola import Tombola\n",
    "\n",
    "class LotteryBlower(Tombola):\n",
    "    \n",
    "    def __init__(self, iterable):\n",
    "        self._balls = list(iterable)\n",
    "        \n",
    "    def load(self, iterable):\n",
    "        self._balls.extend(iterable)\n",
    "        \n",
    "    def pick(self):\n",
    "        try:\n",
    "            position = random.randrange(len(self._balls))\n",
    "        except ValueError:\n",
    "            raise LookupError('pick from empty BingoCage')\n",
    "        return self._balls.pop(position)\n",
    "    \n",
    "    def loaded(self):\n",
    "        return bool(self._balls)\n",
    "    \n",
    "    def inspect(self):\n",
    "        return tuple(sorted(self._balls))"
   ]
  },
  {
   "cell_type": "code",
   "execution_count": 27,
   "metadata": {},
   "outputs": [
    {
     "name": "stdout",
     "output_type": "stream",
     "text": [
      "True\n",
      "(0, 1, 2)\n",
      "False\n",
      "True\n",
      "True\n",
      "False\n",
      "OK\n",
      "True\n",
      "True\n",
      "True\n",
      "True\n"
     ]
    }
   ],
   "source": [
    "ConcreteTombola = LotteryBlower\n",
    "\n",
    "\n",
    "# 반복형에서 객체를 생성하고 로딩\n",
    "balls = list(range(3))\n",
    "globe = ConcreteTombola(balls)\n",
    "print(globe.loaded())\n",
    "print(globe.inspect())\n",
    "    \n",
    "# 공을 꺼내서 수집\n",
    "picks = []\n",
    "picks.append(globe.pick())\n",
    "picks.append(globe.pick())\n",
    "picks.append(globe.pick())\n",
    "\n",
    "# 상태와 결과를 확인\n",
    "print(globe.loaded())\n",
    "print(sorted(picks) == balls)\n",
    "\n",
    "# 다시 로딩\n",
    "globe.load(balls)\n",
    "print(globe.loaded())\n",
    "picks = [globe.pick() for i in balls]\n",
    "print(globe.loaded())\n",
    "\n",
    "# 객체가 비어 있을 때 `LookupError` 또는 서브 예외가 발생하는지 확인\n",
    "globe = ConcreteTombola([])\n",
    "try:\n",
    "    globe.pick()\n",
    "except LookupError as exc:\n",
    "    print('OK')\n",
    "    \n",
    "# 공 100개를 로딩하고 꺼내서 모두 제대로 나오는지 검증한다.\n",
    "balls = list(range(100))\n",
    "globe = ConcreteTombola(balls)\n",
    "picks = []\n",
    "while globe.inspect():\n",
    "    picks.append(globe.pick())\n",
    "print(len(picks) == len(balls))\n",
    "print(set(picks) == set(balls))\n",
    "\n",
    "# 순서가 변경되었는지, 단지 앞에서 뒤로 순서만 바꾼 것은 아닌지 확인한다.\n",
    "print(picks != balls)\n",
    "print(picks[::-1] != balls)"
   ]
  },
  {
   "cell_type": "markdown",
   "metadata": {},
   "source": [
    "### 11.7.3 Tombola의 가상 서브클래스\n",
    "- 사용자 정의 ABC를 상속하지 않아도, register를 사용해서 가상 서브클래스로 등록할 수 있으며, 해당 클래스가 ABC에 정의된 인터페이스를 충실히 구현한다고 약속하는 것.\n",
    "  - 객체가 생성될 때 파이썬은 해당 클래스가 인터페에시를 구현했는지 검사하지 않는다. \n",
    "  - register에 의해 등록된 클래스는 `issubclass()`와 `isinstance()` 함수에 의해 인식된다.\n",
    "  - 메서드나 속성은 상속받은 것이 아니라 직접 구현한 것이다. -> super 안 되겠지?"
   ]
  },
  {
   "cell_type": "code",
   "execution_count": 28,
   "metadata": {},
   "outputs": [],
   "source": [
    "# 예제 11-14 Tombola의 가성 서브클래스 TomboList\n",
    "from random import randrange\n",
    "from tombola import Tombola\n",
    "\n",
    "@Tombola.register\n",
    "class TomboList(list):\n",
    "    \n",
    "    def pick(self):\n",
    "        if self:\n",
    "            position = randrange(len(self))\n",
    "            return self.pop(position)\n",
    "        else:\n",
    "            raise LookupError('pop from empty TomboList')\n",
    "        \n",
    "    load = list.extend\n",
    "    \n",
    "    def loaded(self):\n",
    "        return bool(self)\n",
    "    \n",
    "    def inspect(self):\n",
    "        return tuple(sorted(self))"
   ]
  },
  {
   "cell_type": "code",
   "execution_count": 29,
   "metadata": {},
   "outputs": [
    {
     "name": "stdout",
     "output_type": "stream",
     "text": [
      "True\n",
      "True\n"
     ]
    }
   ],
   "source": [
    "print(issubclass(TomboList, Tombola))\n",
    "\n",
    "t = TomboList(range(100))\n",
    "print(isinstance(t, Tombola))"
   ]
  },
  {
   "cell_type": "markdown",
   "metadata": {},
   "source": [
    "- 부모 클래스 확인\n",
    "- `__mro__`: 메서드 결정 순서를 담은 특별 클래스 속성, 상속 계층을 보여줌"
   ]
  },
  {
   "cell_type": "code",
   "execution_count": 30,
   "metadata": {},
   "outputs": [
    {
     "name": "stdout",
     "output_type": "stream",
     "text": [
      "(<class 'tombola.Tombola'>,)\n",
      "(<class '__main__.BingoCage'>, <class 'tombola.Tombola'>, <class 'abc.ABC'>, <class 'object'>)\n",
      "(<class 'list'>,)\n",
      "(<class '__main__.TomboList'>, <class 'list'>, <class 'object'>)\n"
     ]
    }
   ],
   "source": [
    "print(BingoCage.__bases__)\n",
    "print(BingoCage.__mro__)\n",
    "\n",
    "print(TomboList.__bases__)\n",
    "print(TomboList.__mro__)"
   ]
  },
  {
   "cell_type": "code",
   "execution_count": 31,
   "metadata": {},
   "outputs": [
    {
     "name": "stdout",
     "output_type": "stream",
     "text": [
      "True\n",
      "(0, 1, 2)\n",
      "False\n",
      "True\n",
      "True\n",
      "False\n",
      "OK\n",
      "True\n",
      "True\n",
      "True\n",
      "True\n"
     ]
    }
   ],
   "source": [
    "ConcreteTombola = TomboList\n",
    "\n",
    "\n",
    "# 반복형에서 객체를 생성하고 로딩\n",
    "balls = list(range(3))\n",
    "globe = ConcreteTombola(balls)\n",
    "print(globe.loaded())\n",
    "print(globe.inspect())\n",
    "    \n",
    "# 공을 꺼내서 수집\n",
    "picks = []\n",
    "picks.append(globe.pick())\n",
    "picks.append(globe.pick())\n",
    "picks.append(globe.pick())\n",
    "\n",
    "# 상태와 결과를 확인\n",
    "print(globe.loaded())\n",
    "print(sorted(picks) == balls)\n",
    "\n",
    "# 다시 로딩\n",
    "globe.load(balls)\n",
    "print(globe.loaded())\n",
    "picks = [globe.pick() for i in balls]\n",
    "print(globe.loaded())\n",
    "\n",
    "# 객체가 비어 있을 때 `LookupError` 또는 서브 예외가 발생하는지 확인\n",
    "globe = ConcreteTombola([])\n",
    "try:\n",
    "    globe.pick()\n",
    "except LookupError as exc:\n",
    "    print('OK')\n",
    "    \n",
    "# 공 100개를 로딩하고 꺼내서 모두 제대로 나오는지 검증한다.\n",
    "balls = list(range(100))\n",
    "globe = ConcreteTombola(balls)\n",
    "picks = []\n",
    "while globe.inspect():\n",
    "    picks.append(globe.pick())\n",
    "print(len(picks) == len(balls))\n",
    "print(set(picks) == set(balls))\n",
    "\n",
    "# 순서가 변경되었는지, 단지 앞에서 뒤로 순서만 바꾼 것은 아닌지 확인한다.\n",
    "print(picks != balls)\n",
    "print(picks[::-1] != balls)"
   ]
  },
  {
   "cell_type": "markdown",
   "metadata": {},
   "source": [
    "## 11.8 Tombola 서브클래스 테스트 방법\n",
    "- 그때그때 했습니다.\n",
    "\n",
    "## 11.9 `register()`의 실제 용법\n",
    "- 등록될 클래스 위에 데커레이터를 사용해서 정의할 수 있지만,\n",
    "- 베이스 클래스이 정의된 파일에서, 다른 파일에 있는 클래스를 등록할 때 `register()`를 사용할 때가 있다.\n",
    "- (예) `Tombola.register(TomboList)`"
   ]
  },
  {
   "cell_type": "markdown",
   "metadata": {},
   "source": [
    "## 11.10 오리처럼 행동할 수 있는 거위\n",
    "- `__subclasshook__()`이라는 특별 메서드를 정의해놓으면 ABC를 상속 또는 등록하지 않아도 서브 클래스로 인식할 수 있다. \n",
    "  - (예) `collections.abc.Sized`에는 `__subclasshook__()`이 정의되어 있다.\n",
    "  - 주로, 특별 메서드 하나만 선언한 ABC에서만 `__subclasshook__()`를 정의한다. 해당 특별 메서드가 기대한 일이라고 확신할 수 있을 때 구현한다.\n",
    "  - 매핑이 `__getitem__()`, `__len__()`, `__iter__()`을 구현해도 `Sequence`형이 되지 않는 이유는 매핑에서 구현한 메서드들은 시퀀스형과 다르게 작동하게 끔 정의하기 때문이다."
   ]
  },
  {
   "cell_type": "code",
   "execution_count": 32,
   "metadata": {},
   "outputs": [
    {
     "name": "stdout",
     "output_type": "stream",
     "text": [
      "True\n",
      "True\n"
     ]
    }
   ],
   "source": [
    "class Struggle:\n",
    "    def __len__():\n",
    "        pass\n",
    "    \n",
    "from collections import abc\n",
    "\n",
    "print(isinstance(Struggle(), abc.Sized))\n",
    "print(issubclass(Struggle, abc.Sized))"
   ]
  }
 ],
 "metadata": {
  "kernelspec": {
   "display_name": "Python 3.8.8 ('base')",
   "language": "python",
   "name": "python3"
  },
  "language_info": {
   "codemirror_mode": {
    "name": "ipython",
    "version": 3
   },
   "file_extension": ".py",
   "mimetype": "text/x-python",
   "name": "python",
   "nbconvert_exporter": "python",
   "pygments_lexer": "ipython3",
   "version": "3.8.8"
  },
  "orig_nbformat": 4,
  "vscode": {
   "interpreter": {
    "hash": "ad2bdc8ecc057115af97d19610ffacc2b4e99fae6737bb82f5d7fb13d2f2c186"
   }
  }
 },
 "nbformat": 4,
 "nbformat_minor": 2
}
