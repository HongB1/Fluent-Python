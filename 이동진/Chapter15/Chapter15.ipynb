{
 "cells": [
  {
   "cell_type": "markdown",
   "metadata": {},
   "source": [
    "# Chapter 15 콘텍스트 관리자와 `else` 블록\n",
    "- with 문과 콘텍스트 관리자\n",
    "  - 콘텍스트 관리자 객체의 제어를 받아서 임시로 콘텍스트를 생성하고 신뢰성 있게 제한\n",
    "  - 에러를 예방하고 반복되는 코드를 줄여줌\n",
    "  - API를 안전하고 편리하게 사용할 수 있게 만들어줌\n",
    "- `for`, `while`, `try` 문에서의 `else` 블록"
   ]
  },
  {
   "cell_type": "markdown",
   "metadata": {},
   "source": [
    "## 15.1 이것 다음에 저것: `if` 문 이외에서의 `else` 블록\n",
    "`else` 절은 `if` 문뿐만 아니라 `for`, `while`, `try` 문에서도 사용 가능. `if`문에서의 의미와는 다르게 \"A를 실행하고 그러고 나서 이것도 실행해라\"라는 의미\n",
    "- `for` 문에서의 `else`: (`break`, `continue`, `return` 등에 의해서가 아니라) `for` 루프가 완전히 실행된 후에 `else` 블록이 실행 \n",
    "- `while` 문에서의 `else`: (`break`, `continue`, `return` 등에 의해서가 아니라) 조건식이 거짓이 되어 루프를 빠져나온 후에 `else` 블록이 실행\n",
    "- `try`문에서의 `else`: `try` 블록에서 예외가 발생하지 않았을 때만 `else` 블록 실행\n",
    "  \n",
    "~~~python\n",
    "try:\n",
    "    dangerous_cell()\n",
    "    after_cell()\n",
    "except:\n",
    "    log('OSError...')\n",
    "~~~\n",
    "\n",
    "보다\n",
    "\n",
    "~~~python\n",
    "try:\n",
    "    dangerous_cell()\n",
    "except:\n",
    "    log('OSError...')\n",
    "else:\n",
    "    after_cell()\n",
    "~~~\n",
    "\n",
    "이 에러 발생 여부 확인의 대상 코다가 `dangerous_cell()`임이 명확하다."
   ]
  },
  {
   "cell_type": "code",
   "execution_count": 1,
   "metadata": {},
   "outputs": [],
   "source": [
    "my_list = ['apple', 'grape', 'banana']\n",
    "for item in my_list:\n",
    "    if item == 'banana':\n",
    "        break\n",
    "else:\n",
    "    raise ValueError('No banana flavor found!')"
   ]
  },
  {
   "cell_type": "code",
   "execution_count": 2,
   "metadata": {},
   "outputs": [
    {
     "ename": "ValueError",
     "evalue": "No strawberry flavor found!",
     "output_type": "error",
     "traceback": [
      "\u001b[0;31m---------------------------------------------------------------------------\u001b[0m",
      "\u001b[0;31mValueError\u001b[0m                                Traceback (most recent call last)",
      "\u001b[1;32m/Users/dongjin/Library/CloudStorage/OneDrive-postech.ac.kr/projects/fluent-python/Fluent-Python/이동진/Chapter15/Chapter15.ipynb 셀 4\u001b[0m in \u001b[0;36m<module>\u001b[0;34m\u001b[0m\n\u001b[1;32m      <a href='vscode-notebook-cell:/Users/dongjin/Library/CloudStorage/OneDrive-postech.ac.kr/projects/fluent-python/Fluent-Python/%EC%9D%B4%EB%8F%99%EC%A7%84/Chapter15/Chapter15.ipynb#W3sZmlsZQ%3D%3D?line=3'>4</a>\u001b[0m         \u001b[39mbreak\u001b[39;00m\n\u001b[1;32m      <a href='vscode-notebook-cell:/Users/dongjin/Library/CloudStorage/OneDrive-postech.ac.kr/projects/fluent-python/Fluent-Python/%EC%9D%B4%EB%8F%99%EC%A7%84/Chapter15/Chapter15.ipynb#W3sZmlsZQ%3D%3D?line=4'>5</a>\u001b[0m \u001b[39melse\u001b[39;00m:\n\u001b[0;32m----> <a href='vscode-notebook-cell:/Users/dongjin/Library/CloudStorage/OneDrive-postech.ac.kr/projects/fluent-python/Fluent-Python/%EC%9D%B4%EB%8F%99%EC%A7%84/Chapter15/Chapter15.ipynb#W3sZmlsZQ%3D%3D?line=5'>6</a>\u001b[0m     \u001b[39mraise\u001b[39;00m \u001b[39mValueError\u001b[39;00m(\u001b[39m'\u001b[39m\u001b[39mNo strawberry flavor found!\u001b[39m\u001b[39m'\u001b[39m)\n",
      "\u001b[0;31mValueError\u001b[0m: No strawberry flavor found!"
     ]
    }
   ],
   "source": [
    "my_list = ['apple', 'grape', 'banana']\n",
    "for item in my_list:\n",
    "    if item == 'strawberry':\n",
    "        break\n",
    "else:\n",
    "    raise ValueError('No strawberry flavor found!')"
   ]
  },
  {
   "cell_type": "markdown",
   "metadata": {},
   "source": [
    "## 15.2 콘텍스트 관리자와 `with` 블록\n",
    "콘텍스트 관리자 객체\n",
    "- `with` 문을 제어하기 위해 존재\n",
    "- 프로토콜은 `__enter__()`와 `__exit__()` 메서드로 구성\n",
    "  - `with` 문이 시작될 때 `__enter__()` 실행되며 `with` 문의 끝에서 `finally` 절의 역할을 수행\n",
    "  - `with` 문을 빠져나온 후 콘텍스트 관리자 객체의 `__exit__()` 메서드가 호출됌\n",
    "    - 예외가 발생하지 않으면 `None`, `None`, `None`이 인수로 전달되며,\n",
    "    - 예외가 발생시 예외 데이터 예외 클래스(`exc_type`), 예외 객체, 예외 메세지 등(`exc_value`), traceback 객체 `traceback`가 인수로 전달된다.\n",
    "\n",
    "<span style='color: red'>pg555 두 번째 문단. \"이 메서드는 `with` 블록의 끝에서 `finally` 절의 역할을 수행한다.\" 의미</span>"
   ]
  },
  {
   "cell_type": "code",
   "execution_count": 3,
   "metadata": {},
   "outputs": [
    {
     "name": "stdout",
     "output_type": "stream",
     "text": [
      "50\n",
      "<_io.TextIOWrapper name='mirror.py' mode='r' encoding='UTF-8'>\n",
      "True UTF-8\n"
     ]
    },
    {
     "ename": "ValueError",
     "evalue": "I/O operation on closed file.",
     "output_type": "error",
     "traceback": [
      "\u001b[0;31m---------------------------------------------------------------------------\u001b[0m",
      "\u001b[0;31mValueError\u001b[0m                                Traceback (most recent call last)",
      "\u001b[1;32m/Users/dongjin/Library/CloudStorage/OneDrive-postech.ac.kr/projects/fluent-python/Fluent-Python/이동진/Chapter15/Chapter15.ipynb 셀 6\u001b[0m in \u001b[0;36m<module>\u001b[0;34m\u001b[0m\n\u001b[1;32m      <a href='vscode-notebook-cell:/Users/dongjin/Library/CloudStorage/OneDrive-postech.ac.kr/projects/fluent-python/Fluent-Python/%EC%9D%B4%EB%8F%99%EC%A7%84/Chapter15/Chapter15.ipynb#W4sZmlsZQ%3D%3D?line=6'>7</a>\u001b[0m \u001b[39mprint\u001b[39m(fp)\n\u001b[1;32m      <a href='vscode-notebook-cell:/Users/dongjin/Library/CloudStorage/OneDrive-postech.ac.kr/projects/fluent-python/Fluent-Python/%EC%9D%B4%EB%8F%99%EC%A7%84/Chapter15/Chapter15.ipynb#W4sZmlsZQ%3D%3D?line=8'>9</a>\u001b[0m \u001b[39mprint\u001b[39m(fp\u001b[39m.\u001b[39mclosed, fp\u001b[39m.\u001b[39mencoding)\n\u001b[0;32m---> <a href='vscode-notebook-cell:/Users/dongjin/Library/CloudStorage/OneDrive-postech.ac.kr/projects/fluent-python/Fluent-Python/%EC%9D%B4%EB%8F%99%EC%A7%84/Chapter15/Chapter15.ipynb#W4sZmlsZQ%3D%3D?line=10'>11</a>\u001b[0m \u001b[39mprint\u001b[39m(fp\u001b[39m.\u001b[39;49mread(\u001b[39m60\u001b[39;49m))\n",
      "\u001b[0;31mValueError\u001b[0m: I/O operation on closed file."
     ]
    }
   ],
   "source": [
    "# 콘텍스트 관리자로서 파일 객체의 사용\n",
    "with open('mirror.py') as fp:\n",
    "    src = fp.read(50)\n",
    "    \n",
    "print(len(src))\n",
    "\n",
    "print(fp)\n",
    "\n",
    "print(fp.closed, fp.encoding)\n",
    "\n",
    "print(fp.read(60))"
   ]
  },
  {
   "cell_type": "markdown",
   "metadata": {},
   "source": [
    "<span style='color: red'>pg555 맨 아래. \"콘텍스트 관리자 객체는 `with` 문 뒤의 표현식을 평가한 결과이지만, `as` 절에 있는 타깃 변수의 값은 콘텍스트 관리자 객체의 `__enter__()` 호출 결과\" 의미</span>\n",
    "- 콘텍스트 관리자 객체: open('mirror.py')호출 결과인 `TextIOWrapper` 객체\n",
    "- 타깃 변수: open('mirror.py') 호출로 나온 객체의 `__enter__()`호출 결과. 이 경우 `self`"
   ]
  },
  {
   "cell_type": "code",
   "execution_count": 4,
   "metadata": {},
   "outputs": [
    {
     "name": "stdout",
     "output_type": "stream",
     "text": [
      "pordwonS dna yttiK ,ecilA\n",
      "YKCOWREBBAJ\n",
      "JABBERWOCKY\n"
     ]
    }
   ],
   "source": [
    "from mirror import LookingGlass\n",
    "with LookingGlass() as what:\n",
    "    print('Alice, Kitty and Snowdrop')\n",
    "    print(what)  # with 문에서는 print() 실행시 sys.stdout.write 대신 LookingGlass.reverse_write()가 실행되기 때문\n",
    "    \n",
    "print(what)  # __exit__() 메서드에서 다시 sys.stdout.write을 복구했기 때문"
   ]
  },
  {
   "cell_type": "code",
   "execution_count": 5,
   "metadata": {},
   "outputs": [
    {
     "name": "stdout",
     "output_type": "stream",
     "text": [
      "<mirror.LookingGlass object at 0x110537a60>\n",
      "eurT\n",
      "YKCOWREBBAJ\n",
      ">06a735011x0 ta tcejbo ssalGgnikooL.rorrim<\n",
      "JABBERWOCKY\n"
     ]
    }
   ],
   "source": [
    "# 예제 15-4 with 블록 없이 LookingGlass 사용하기\n",
    "from mirror import LookingGlass\n",
    "manager = LookingGlass()\n",
    "print(manager)\n",
    "\n",
    "monster = manager.__enter__()  # __enter__() 메서드가 실행되고, 'JABBERWOCKY'를 monster에 반환\n",
    "print(monster == 'JABBERWOCKY')\n",
    "print(monster)\n",
    "print(manager)\n",
    "\n",
    "manager.__exit__(None, None, None)  # __exit__() 메서드가 실행됌\n",
    "print(monster)"
   ]
  },
  {
   "cell_type": "markdown",
   "metadata": {},
   "source": [
    "## 15.4 표준 라이브러리 `contextlib`의 `@contextmanager` 사용하기\n",
    "`__enter__()`와 `__exit__()`를 갖는 클래스를 작성하는 대신 `__enter__()` 메서드가 반환할 것을 생성하는 `yield` 문 하나를 가진 제너레이터만 구현하면 된다.\n",
    "- `yield`가 함수 본체를 두 부분으로 나눠준다.\n",
    "  - `yield` 문 앞에 있는 모든 코드가 `__enter__()`가 호출될 때 실행\n",
    "  - `yield` 문 뒤에 있는 모든 코드가 `__exit__()`가 호출될 때 실행"
   ]
  },
  {
   "cell_type": "code",
   "execution_count": 6,
   "metadata": {},
   "outputs": [],
   "source": [
    "# 예제 15-5 제너레이터로 구현한 콘텍스트 관리자\n",
    "import contextlib\n",
    "\n",
    "@contextlib.contextmanager\n",
    "def looking_glass():\n",
    "    import sys\n",
    "    original_write = sys.stdout.write\n",
    "    \n",
    "    def reverse_write(text):\n",
    "        original_write(text[::-1])  # 클로저를 통해 접근\n",
    "    \n",
    "    sys.stdout.write = reverse_write\n",
    "    yield 'JABBERWOCKY'  # with 문의 본체가 실행되는 동안 이 함수는 여기에서 실행을 일시 중단함\n",
    "    sys.stdout.write = original_write  # with 블록을 빠져나오면 yield 문 이후의 코드가 실행"
   ]
  },
  {
   "cell_type": "code",
   "execution_count": 7,
   "metadata": {},
   "outputs": [
    {
     "name": "stdout",
     "output_type": "stream",
     "text": [
      "pordwonS dna yttiK ,ecilA\n",
      "YKCOWREBBAJ\n",
      "JABBERWOCKY\n"
     ]
    }
   ],
   "source": [
    "# 예제 15-6 looking_glass() 콘텍스트 관리자 함수 사용 예\n",
    "with looking_glass() as what:\n",
    "    print('Alice, Kitty and Snowdrop')\n",
    "    print(what)\n",
    "    \n",
    "print(what)"
   ]
  },
  {
   "cell_type": "markdown",
   "metadata": {},
   "source": [
    "`@contextmanager`의 원리\n",
    "- `__enter__()`와 `__exit__()`가 정의된 클래스 안에 데코레이트된 함수 (제너레이터)를 넣는다.\n",
    "  - `__enter__()`에서는 `next(func)`을 통해 `yield`까지 실행\n",
    "  - `__exit__()`에서는 예외가 전달되었는지 확인하고, 그렇다면 `yield` 행에서 `func.throw(exception)`을 실행. 그렇지 않으면 한 번 더 `next(func)`를 싱행해서 `yield` 문 이후 코드 실행"
   ]
  },
  {
   "cell_type": "code",
   "execution_count": 8,
   "metadata": {},
   "outputs": [],
   "source": [
    "# 예제 15-7\n",
    "@contextlib.contextmanager\n",
    "def looking_glass():\n",
    "    import sys\n",
    "    original_write = sys.stdout.write\n",
    "    \n",
    "    def reverse_write(text):\n",
    "        original_write(text[::-1])\n",
    "        \n",
    "    sys.stdout.write = reverse_write\n",
    "    msg = ''\n",
    "    try:\n",
    "        yield 'JABBERWOCKY'\n",
    "    except ZeroDivisionError:\n",
    "        msg = 'Please DO NOT divide by zero!'\n",
    "    finally:\n",
    "        sys.stdout.write = original_write\n",
    "        if msg:\n",
    "            print(msg)"
   ]
  }
 ],
 "metadata": {
  "kernelspec": {
   "display_name": "Python 3",
   "language": "python",
   "name": "python3"
  },
  "language_info": {
   "codemirror_mode": {
    "name": "ipython",
    "version": 3
   },
   "file_extension": ".py",
   "mimetype": "text/x-python",
   "name": "python",
   "nbconvert_exporter": "python",
   "pygments_lexer": "ipython3",
   "version": "3.8.8"
  },
  "vscode": {
   "interpreter": {
    "hash": "e1315e6714f2518a6216a6eec3b047587d10875bf19b853b35d3e5c84c569e2a"
   }
  }
 },
 "nbformat": 4,
 "nbformat_minor": 2
}
