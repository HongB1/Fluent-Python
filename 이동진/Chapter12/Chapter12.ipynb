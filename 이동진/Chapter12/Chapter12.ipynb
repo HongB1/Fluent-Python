{
 "cells": [
  {
   "cell_type": "markdown",
   "metadata": {},
   "source": [
    "# Chapter 12 내장 자료형 상속과 다중 상속\n",
    "\n",
    "## 12.1 내장 자료형의 상속은 까다롭다.\n",
    "`list`나 `dict` 등 내장 자료형은 C 언어로 작성되었기 때문에 사용자가 오버라이드한 코드를 호출하지 않는 경우가 많다."
   ]
  },
  {
   "cell_type": "code",
   "execution_count": 3,
   "metadata": {},
   "outputs": [
    {
     "name": "stdout",
     "output_type": "stream",
     "text": [
      "{'one': 1}\n",
      "{'one': 1, 'two': [2, 2]}\n",
      "{'one': 1, 'two': [2, 2], 'three': 3}\n"
     ]
    }
   ],
   "source": [
    "# 예제 12-1 __setitem__()을 오버라이드한 메서드를 무시하는 dict의 __init__()과 __update__\n",
    "class DoppelDict(dict):\n",
    "    def __setitem__(self, key, value):\n",
    "        super().__setitem__(key, [value] * 2)\n",
    "        \n",
    "        \n",
    "dd = DoppelDict(one=1)  # dict 클래스의 __init__은 오버라이드한 __setitem__()을 호출하지 않는다. \n",
    "print(dd)\n",
    "\n",
    "dd['two'] = 2  # [] 연산자는 __setitem__()을 호출하기 때문에 [2, 2]이 value로 저장된다.\n",
    "print(dd)\n",
    "\n",
    "dd.update(three=3)  # dict 클래스의 update() 메서드도 오버라이드한 __setitem__() 메서드를 호출하지 않는다.\n",
    "print(dd)"
   ]
  },
  {
   "cell_type": "code",
   "execution_count": 7,
   "metadata": {},
   "outputs": [
    {
     "name": "stdout",
     "output_type": "stream",
     "text": [
      "42\n",
      "foo\n",
      "{'a': 'foo'}\n"
     ]
    }
   ],
   "source": [
    "# 예제 12-2 AnswerDict의 __getitem__()을 지나치는 dict.update()\n",
    "class AnswerDict(dict):\n",
    "    def __getitem__(self, key):\n",
    "        return 42\n",
    "    \n",
    "ad = AnswerDict(a='foo')\n",
    "print(ad['a'])  # [] 연산자는 __getitem__()을 호출한다.\n",
    "\n",
    "d = {}\n",
    "d.update(ad)  # ad를 이용하여 갱신하는데, __getitem__을 사용해서 갱신하는 것이 아니다.\n",
    "print(d['a'])\n",
    "\n",
    "print(d)"
   ]
  },
  {
   "cell_type": "markdown",
   "metadata": {},
   "source": [
    "- 해결책: `collections`의 `UserDict`, `UserList`, `UserString` 등을 상속하자."
   ]
  },
  {
   "cell_type": "code",
   "execution_count": 11,
   "metadata": {},
   "outputs": [
    {
     "name": "stdout",
     "output_type": "stream",
     "text": [
      "{'one': [1, 1], 'two': [2, 2], 'three': [3, 3]}\n"
     ]
    }
   ],
   "source": [
    "# 예제 12-3 dict가 아니라 UserDict를 상속하므로 원하는 대로 작동한다\n",
    "import collections\n",
    "\n",
    "class DoppelDict(collections.UserDict):\n",
    "    def __setitem__(self, key, value):\n",
    "        super().__setitem__(key, [value] * 2)\n",
    "        \n",
    "dd = DoppelDict(one=1) \n",
    "dd['two'] = 2\n",
    "dd.update(three=3)\n",
    "print(dd)"
   ]
  },
  {
   "cell_type": "code",
   "execution_count": 16,
   "metadata": {},
   "outputs": [
    {
     "name": "stdout",
     "output_type": "stream",
     "text": [
      "42\n",
      "42\n",
      "{'a': 42}\n",
      "42\n"
     ]
    }
   ],
   "source": [
    "class AnswerDict(collections.UserDict):\n",
    "    def __getitem__(self, key):\n",
    "        return 42\n",
    "    \n",
    "ad = AnswerDict(a='foo')\n",
    "print(ad['a'])  # [] 연산자는 __getitem__()을 호출한다.\n",
    "\n",
    "d = {}\n",
    "d.update(ad)  # ad를 이용하여 갱신하는데, __getitem__을 사용해서 갱신하는 것이 아니다.\n",
    "print(d['a'])\n",
    "print(d)\n"
   ]
  },
  {
   "cell_type": "markdown",
   "metadata": {},
   "source": [
    "<span style='color: red'>분명 `__setitem__()`에 의하여 어딘가에는 'foo'가 저장되어 있을텐데 어디에 있을까? 해시 테이블 안에는 그렇게 저장되어 있겠지? 어떻게 확인할 수 있을까?</span>"
   ]
  },
  {
   "cell_type": "code",
   "execution_count": 22,
   "metadata": {},
   "outputs": [
    {
     "name": "stdout",
     "output_type": "stream",
     "text": [
      "42\n"
     ]
    }
   ],
   "source": [
    "for v in ad.values():\n",
    "    print(v)"
   ]
  },
  {
   "cell_type": "code",
   "execution_count": 23,
   "metadata": {},
   "outputs": [
    {
     "data": {
      "text/plain": [
       "{'data': {'a': 'foo'}}"
      ]
     },
     "execution_count": 23,
     "metadata": {},
     "output_type": "execute_result"
    }
   ],
   "source": [
    "ad.__dict__"
   ]
  },
  {
   "cell_type": "markdown",
   "metadata": {},
   "source": [
    "## 12.2 다중 상속과 메서드 결정 순서\n",
    "- 다중 상속시 슈퍼 클래스들끼리 서로 같은 이름을 갖는 메서드들이 있다면 어떻게 될까?\n",
    "- 서브클래스 정의에 나열된 슈퍼클래스의 순서에 따른다. 그리고 이는 `__mro__` 클래스 속성에 명시된다."
   ]
  },
  {
   "cell_type": "code",
   "execution_count": 38,
   "metadata": {},
   "outputs": [],
   "source": [
    "# 12-4 diamond.py\n",
    "class A:\n",
    "    def ping(self):\n",
    "        print('ping: ', self)\n",
    "        \n",
    "class B(A):\n",
    "    def pong(self):\n",
    "        print('pong: ', self)\n",
    "        \n",
    "class C(A):\n",
    "    def pong(self):\n",
    "        print('PONG', self)\n",
    "        \n",
    "class D(B, C):\n",
    "    def ping(self):\n",
    "        super().ping()  # A 클래스의 ping 실행\n",
    "        print('post-ping: ', self)\n",
    "        \n",
    "    def pingpong(self):\n",
    "        self.ping()  # D 클래스의 ping\n",
    "        super().ping() # A 클래스의 ping\n",
    "        self.pong()  # B 클래스의 pong\n",
    "        super().pong()  # B 클래스의 pong\n",
    "        C.pong(self)  # C 클래스의 pong"
   ]
  },
  {
   "cell_type": "code",
   "execution_count": 34,
   "metadata": {},
   "outputs": [
    {
     "name": "stdout",
     "output_type": "stream",
     "text": [
      "pong:  <__main__.D object at 0x00000228BAD5B700>\n"
     ]
    }
   ],
   "source": [
    "d = D()\n",
    "d.pong()"
   ]
  },
  {
   "cell_type": "code",
   "execution_count": 35,
   "metadata": {},
   "outputs": [
    {
     "name": "stdout",
     "output_type": "stream",
     "text": [
      "PONG <__main__.D object at 0x00000228BAD5B700>\n"
     ]
    }
   ],
   "source": [
    "C.pong(d)"
   ]
  },
  {
   "cell_type": "markdown",
   "metadata": {},
   "source": [
    "- `__mro__` 클래스 속성은 현재 클래스부터 object 클래스까지 슈퍼클래스들의 MRO (method resolution order, 메서드 결정 순서)를 튜플 형태로 저장"
   ]
  },
  {
   "cell_type": "code",
   "execution_count": 36,
   "metadata": {},
   "outputs": [
    {
     "data": {
      "text/plain": [
       "(__main__.D, __main__.B, __main__.C, __main__.A, object)"
      ]
     },
     "execution_count": 36,
     "metadata": {},
     "output_type": "execute_result"
    }
   ],
   "source": [
    "D.__mro__"
   ]
  },
  {
   "cell_type": "code",
   "execution_count": 37,
   "metadata": {},
   "outputs": [
    {
     "name": "stdout",
     "output_type": "stream",
     "text": [
      "ping:  <__main__.D object at 0x00000228BAD5B5E0>\n",
      "post-ping:  <__main__.D object at 0x00000228BAD5B5E0>\n"
     ]
    }
   ],
   "source": [
    "# 예제 12.6 ping()을 호출하기 위해 super() 사용하기.\n",
    "d = D()\n",
    "d.ping()"
   ]
  },
  {
   "cell_type": "code",
   "execution_count": 39,
   "metadata": {},
   "outputs": [
    {
     "name": "stdout",
     "output_type": "stream",
     "text": [
      "ping:  <__main__.D object at 0x00000228BAD5BA30>\n",
      "post-ping:  <__main__.D object at 0x00000228BAD5BA30>\n",
      "ping:  <__main__.D object at 0x00000228BAD5BA30>\n",
      "pong:  <__main__.D object at 0x00000228BAD5BA30>\n",
      "pong:  <__main__.D object at 0x00000228BAD5BA30>\n",
      "PONG <__main__.D object at 0x00000228BAD5BA30>\n"
     ]
    }
   ],
   "source": [
    "# 예제 12.7 pingpong()이 수행한 다섯 번의 호출\n",
    "d = D()\n",
    "\n",
    "d.pingpong()"
   ]
  },
  {
   "cell_type": "code",
   "execution_count": 44,
   "metadata": {},
   "outputs": [
    {
     "name": "stdout",
     "output_type": "stream",
     "text": [
      "bool, int, object\n",
      "Integral, Rational, Real, Complex, Number, object\n",
      "BytesIO, _BufferedIOBase, _IOBase, object\n",
      "TextIOWrapper, _TextIOBase, _IOBase, object\n",
      "Text, Widget, BaseWidget, Misc, Pack, Place, Grid, XView, YView, object\n"
     ]
    }
   ],
   "source": [
    "# 예제 12-8 여러 클래스에서 __mro__속성 정의하기\n",
    "import io\n",
    "import numbers\n",
    "import tkinter\n",
    "\n",
    "def print_mro(cls):\n",
    "    print(', '.join(c.__name__ for c in cls.__mro__))\n",
    "    \n",
    "print_mro(bool)\n",
    "print_mro(numbers.Integral)\n",
    "print_mro(io.BytesIO)\n",
    "print_mro(io.TextIOWrapper)\n",
    "print_mro(tkinter.Text)"
   ]
  },
  {
   "cell_type": "markdown",
   "metadata": {},
   "source": [
    "## 12.4 다중 상속 다루기\n",
    "1. 인터페이스 상속과 구현 상속을 구분하라.\n",
    "   1. 인터페이스 상속: 'is-a' 관계를 의미하는 서브타입을 생성 -> **프레임워크의 중추적 역할**\n",
    "   2. 구현 상속: 재사용을 통해 코드 중복을 회피 -> **코드 재사용**\n",
    "2. 인터페이스 상속의 경우 ABC를 이용해서 인터페이스를 명확히 한다.\n",
    "3. 구현 상속을 위해 믹스인을 사용한다.\n",
    "   1. 믹스인 클래스는 새로운 자료형을 정의하지 않고, 단지 재사용할 메서드들을 묶어놓을 뿐\n",
    "   2. 믹스인 클래스를 통해 인스턴스를 생성하며 안 되며, 믹스인 클래스를 상속하는 구상 클래스는 다른 클래스도 상속해야 한다.\n",
    "   3. 각각의 믹스인 클래스는 밀접히 연관된 메서드 몇 개를 구현해서 하나의 구체적인 행위를 제공해야 한다.\n",
    "4. 이름을 통해 믹스인임을 명확히 한다\n",
    "5. ABC가 믹스인이 될 수 있지만, 믹스인이라고 해서 ABC인 것은 아니다.\n",
    "   1. 믹스인은 자료형을 정의하지 않기 때문에\n",
    "   2. 믹스인은 반드시 다중 상속을 위해 사용되어야 한다.\n",
    "6. 두 개 이상의 구상 클래스에서 상속 받지 않는다.\n",
    "7. 사용자에게 집합 클래스를 제공한다\n",
    "8. 클래스 상속보다 객체 구성을 사용하라"
   ]
  },
  {
   "cell_type": "code",
   "execution_count": null,
   "metadata": {},
   "outputs": [],
   "source": [
    "\n"
   ]
  }
 ],
 "metadata": {
  "kernelspec": {
   "display_name": "Python 3.8.8 ('base')",
   "language": "python",
   "name": "python3"
  },
  "language_info": {
   "codemirror_mode": {
    "name": "ipython",
    "version": 3
   },
   "file_extension": ".py",
   "mimetype": "text/x-python",
   "name": "python",
   "nbconvert_exporter": "python",
   "pygments_lexer": "ipython3",
   "version": "3.8.8"
  },
  "orig_nbformat": 4,
  "vscode": {
   "interpreter": {
    "hash": "ad2bdc8ecc057115af97d19610ffacc2b4e99fae6737bb82f5d7fb13d2f2c186"
   }
  }
 },
 "nbformat": 4,
 "nbformat_minor": 2
}
