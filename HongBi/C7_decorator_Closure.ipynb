{
 "cells": [
  {
   "cell_type": "markdown",
   "metadata": {},
   "source": [
    "# Chapter 5-2. 파이썬 일급함수 - 클로저\n",
    "## Closure : 핵심은 불변 상태를 기억한다는 것!\n",
    "\n",
    "- Definition: A Closure is a function object that remembers values in enclosing scopes even if they are not present in memory.\n",
    "- 파이썬 변수 범위(Scope)\n",
    "- Global 선언\n",
    "- 클로저 사용 이유 : 서버 프로그래밍은 동시성(Concurrency) 제어가 핵심임!\n",
    "  - => 즉 한정된 메모리 공간에 여러 자원이 접근하면 교착상태(Dead Lock, Shutdown, Lace conditino)에 빠지기 마련임\n",
    "  - => 이를 해결하기 위해, 메모리를 공유하지 않고 메세지 전달로 처리하기 위한,\n",
    "  - => 클로저는 기억을 공유는 하되 **변경되지 않는! (Immutable, Read Only)** 구조를 적극적으로 사용한다. => 함수형 프로그래밍과 연결됨\n",
    "  - 클로저는 불변자료구조 및 atom, STM를 통해 -> 멀티스레드(Coroutine) 프로그래밍에 강점을 가진다. \n",
    "- Class -> Closure 구현"
   ]
  },
  {
   "cell_type": "code",
   "execution_count": 1,
   "metadata": {},
   "outputs": [
    {
     "name": "stdout",
     "output_type": "stream",
     "text": [
      "10\n"
     ]
    },
    {
     "ename": "NameError",
     "evalue": "name 'b' is not defined",
     "output_type": "error",
     "traceback": [
      "\u001b[0;31m---------------------------------------------------------------------------\u001b[0m",
      "\u001b[0;31mNameError\u001b[0m                                 Traceback (most recent call last)",
      "\u001b[1;32m/Users/hongb/Dropbox/github/public_repo/inflearn_original/code/Chapter5_2_Closure.ipynb 셀 2\u001b[0m in \u001b[0;36m<cell line: 5>\u001b[0;34m()\u001b[0m\n\u001b[1;32m      <a href='vscode-notebook-cell:/Users/hongb/Dropbox/github/public_repo/inflearn_original/code/Chapter5_2_Closure.ipynb#ch0000000?line=1'>2</a>\u001b[0m     \u001b[39mprint\u001b[39m(a)\n\u001b[1;32m      <a href='vscode-notebook-cell:/Users/hongb/Dropbox/github/public_repo/inflearn_original/code/Chapter5_2_Closure.ipynb#ch0000000?line=2'>3</a>\u001b[0m     \u001b[39mprint\u001b[39m(b)\n\u001b[0;32m----> <a href='vscode-notebook-cell:/Users/hongb/Dropbox/github/public_repo/inflearn_original/code/Chapter5_2_Closure.ipynb#ch0000000?line=4'>5</a>\u001b[0m func_v1(\u001b[39m10\u001b[39;49m)\n",
      "\u001b[1;32m/Users/hongb/Dropbox/github/public_repo/inflearn_original/code/Chapter5_2_Closure.ipynb 셀 2\u001b[0m in \u001b[0;36mfunc_v1\u001b[0;34m(a)\u001b[0m\n\u001b[1;32m      <a href='vscode-notebook-cell:/Users/hongb/Dropbox/github/public_repo/inflearn_original/code/Chapter5_2_Closure.ipynb#ch0000000?line=0'>1</a>\u001b[0m \u001b[39mdef\u001b[39;00m \u001b[39mfunc_v1\u001b[39m(a):\n\u001b[1;32m      <a href='vscode-notebook-cell:/Users/hongb/Dropbox/github/public_repo/inflearn_original/code/Chapter5_2_Closure.ipynb#ch0000000?line=1'>2</a>\u001b[0m     \u001b[39mprint\u001b[39m(a)\n\u001b[0;32m----> <a href='vscode-notebook-cell:/Users/hongb/Dropbox/github/public_repo/inflearn_original/code/Chapter5_2_Closure.ipynb#ch0000000?line=2'>3</a>\u001b[0m     \u001b[39mprint\u001b[39m(b)\n",
      "\u001b[0;31mNameError\u001b[0m: name 'b' is not defined"
     ]
    }
   ],
   "source": [
    "def func_v1(a):\n",
    "    print(a)\n",
    "    print(b)\n",
    "\n",
    "func_v1(10)"
   ]
  },
  {
   "cell_type": "code",
   "execution_count": 3,
   "metadata": {},
   "outputs": [
    {
     "name": "stdout",
     "output_type": "stream",
     "text": [
      "10\n",
      "20\n"
     ]
    }
   ],
   "source": [
    "b = 20\n",
    "def func_v2(a):\n",
    "    print(a)\n",
    "    print(b)\n",
    "\n",
    "func_v2(10)"
   ]
  },
  {
   "cell_type": "code",
   "execution_count": 7,
   "metadata": {},
   "outputs": [
    {
     "name": "stdout",
     "output_type": "stream",
     "text": [
      "10\n"
     ]
    },
    {
     "ename": "UnboundLocalError",
     "evalue": "local variable 'c' referenced before assignment",
     "output_type": "error",
     "traceback": [
      "\u001b[0;31m---------------------------------------------------------------------------\u001b[0m",
      "\u001b[0;31mUnboundLocalError\u001b[0m                         Traceback (most recent call last)",
      "\u001b[1;32m/Users/hongb/Dropbox/github/public_repo/inflearn_original/code/Chapter5_2_Closure.ipynb 셀 4\u001b[0m in \u001b[0;36m<cell line: 7>\u001b[0;34m()\u001b[0m\n\u001b[1;32m      <a href='vscode-notebook-cell:/Users/hongb/Dropbox/github/public_repo/inflearn_original/code/Chapter5_2_Closure.ipynb#ch0000003?line=3'>4</a>\u001b[0m     \u001b[39mprint\u001b[39m(c)\n\u001b[1;32m      <a href='vscode-notebook-cell:/Users/hongb/Dropbox/github/public_repo/inflearn_original/code/Chapter5_2_Closure.ipynb#ch0000003?line=4'>5</a>\u001b[0m     c \u001b[39m=\u001b[39m \u001b[39m40\u001b[39m \u001b[39m# 안에 같은 이름이 있을 땐 local variable이 우선임\u001b[39;00m\n\u001b[0;32m----> <a href='vscode-notebook-cell:/Users/hongb/Dropbox/github/public_repo/inflearn_original/code/Chapter5_2_Closure.ipynb#ch0000003?line=6'>7</a>\u001b[0m func_v3(\u001b[39m10\u001b[39;49m)\n",
      "\u001b[1;32m/Users/hongb/Dropbox/github/public_repo/inflearn_original/code/Chapter5_2_Closure.ipynb 셀 4\u001b[0m in \u001b[0;36mfunc_v3\u001b[0;34m(a)\u001b[0m\n\u001b[1;32m      <a href='vscode-notebook-cell:/Users/hongb/Dropbox/github/public_repo/inflearn_original/code/Chapter5_2_Closure.ipynb#ch0000003?line=1'>2</a>\u001b[0m \u001b[39mdef\u001b[39;00m \u001b[39mfunc_v3\u001b[39m(a):\n\u001b[1;32m      <a href='vscode-notebook-cell:/Users/hongb/Dropbox/github/public_repo/inflearn_original/code/Chapter5_2_Closure.ipynb#ch0000003?line=2'>3</a>\u001b[0m     \u001b[39mprint\u001b[39m(a)\n\u001b[0;32m----> <a href='vscode-notebook-cell:/Users/hongb/Dropbox/github/public_repo/inflearn_original/code/Chapter5_2_Closure.ipynb#ch0000003?line=3'>4</a>\u001b[0m     \u001b[39mprint\u001b[39m(c)\n\u001b[1;32m      <a href='vscode-notebook-cell:/Users/hongb/Dropbox/github/public_repo/inflearn_original/code/Chapter5_2_Closure.ipynb#ch0000003?line=4'>5</a>\u001b[0m     c \u001b[39m=\u001b[39m \u001b[39m40\u001b[39m\n",
      "\u001b[0;31mUnboundLocalError\u001b[0m: local variable 'c' referenced before assignment"
     ]
    }
   ],
   "source": [
    "c = 30\n",
    "def func_v3(a):\n",
    "    print(a)\n",
    "    print(c)\n",
    "    c = 40 # 안에 같은 이름이 있을 땐 local variable이 우선임\n",
    "    \n",
    "func_v3(10)"
   ]
  },
  {
   "cell_type": "code",
   "execution_count": 8,
   "metadata": {},
   "outputs": [
    {
     "name": "stdout",
     "output_type": "stream",
     "text": [
      ">> 30\n",
      "10\n",
      "40\n"
     ]
    }
   ],
   "source": [
    "c = 30\n",
    "def func_v3(a):\n",
    "    c = 40\n",
    "    print(a)\n",
    "    print(c)\n",
    "     # 안에 같은 이름이 있을 땐 local variable이 우선임\n",
    "     # \n",
    "print('>>', c)    \n",
    "func_v3(10)"
   ]
  },
  {
   "cell_type": "code",
   "execution_count": 10,
   "metadata": {},
   "outputs": [
    {
     "name": "stdout",
     "output_type": "stream",
     "text": [
      ">> 30\n",
      "10\n",
      "30\n",
      ">>> 40\n"
     ]
    }
   ],
   "source": [
    "c = 30\n",
    "def func_v3(a):\n",
    "    global c\n",
    "    print(a)\n",
    "    print(c)\n",
    "    c = 40\n",
    "     # 안에 같은 이름이 있을 땐 local variable이 우선임\n",
    "     # \n",
    "print('>>', c)    \n",
    "func_v3(10)\n",
    "print('>>>', c)"
   ]
  },
  {
   "cell_type": "markdown",
   "metadata": {},
   "source": [
    "# Chapter 5-2. 파이썬 일급함수\n",
    "## Closure : 핵심은 불변 상태를 기억한다는 것!\n",
    "- Definition: A Closure is a function object that remembers values in enclosing scopes even if they are not present in memory.\n",
    "  - 외부에서 호출된 함수의 변수값, 상태(레퍼런스) 복사 후 저장 -> 후에 접근(엑세스) 가능\n",
    "- 클로저 사용 이유 : 서버 프로그래밍은 동시성(Concurrency) 제어가 핵심임!\n",
    "  - => 즉 한정된 메모리 공간에 여러 자원이 접근하면 교착상태(Dead Lock, Shutdown, Lace conditino)에 빠지기 마련임\n",
    "  - => 이를 해결하기 위해, 메모리를 공유하지 않고 메세지 전달로 처리하기 위한,\n",
    "  - => 클로저는 기억을 공유는 하되 **변경되지 않는! (Immutable, Read Only)** 구조를 적극적으로 사용한다. => 함수형 프로그래밍과 연결됨\n",
    "  - 클로저는 불변자료구조 및 atom, STM를 통해 -> 멀티스레드(Coroutine) 프로그래밍에 강점을 가진다. \n",
    "- Class -> Closure 구현\n",
    "- "
   ]
  },
  {
   "cell_type": "code",
   "execution_count": 12,
   "metadata": {},
   "outputs": [
    {
     "name": "stdout",
     "output_type": "stream",
     "text": [
      "200\n",
      "1100\n"
     ]
    }
   ],
   "source": [
    "a = 100\n",
    "print(a + 100)\n",
    "print(a + 1000)"
   ]
  },
  {
   "cell_type": "code",
   "execution_count": 14,
   "metadata": {},
   "outputs": [
    {
     "name": "stdout",
     "output_type": "stream",
     "text": [
      "1275\n",
      "3775\n"
     ]
    }
   ],
   "source": [
    "# 결과 누적(함수 사용)\n",
    "print(sum(range(1, 51)))\n",
    "print(sum(range(51, 101)))"
   ]
  },
  {
   "cell_type": "code",
   "execution_count": 1,
   "metadata": {},
   "outputs": [],
   "source": [
    "# 클래스 이용\n",
    "class Averager():\n",
    "    def __init__(self):\n",
    "        self._series = []\n",
    "        \n",
    "    def __call__(self, v): # callable이 있으면 클래스를 함수처럼 사용할 수 있음\n",
    "        self._series.append(v)\n",
    "        print('inner >> {} / {}'.format(self._series, len(self._series)))\n",
    "        return sum(self._series) / len(self._series)"
   ]
  },
  {
   "cell_type": "code",
   "execution_count": 2,
   "metadata": {},
   "outputs": [
    {
     "name": "stdout",
     "output_type": "stream",
     "text": [
      "['__call__', '__class__', '__delattr__', '__dict__', '__dir__', '__doc__', '__eq__', '__format__', '__ge__', '__getattribute__', '__gt__', '__hash__', '__init__', '__init_subclass__', '__le__', '__lt__', '__module__', '__ne__', '__new__', '__reduce__', '__reduce_ex__', '__repr__', '__setattr__', '__sizeof__', '__str__', '__subclasshook__', '__weakref__', '_series']\n",
      "inner >> [10] / 1\n",
      "10.0\n",
      "inner >> [10, 30] / 2\n",
      "20.0\n",
      "inner >> [10, 30, 50] / 3\n",
      "30.0\n"
     ]
    }
   ],
   "source": [
    "# instance generation\n",
    "averager_cls = Averager()\n",
    "\n",
    "print(dir(averager_cls)) # __call__ 이 있음 => 함수로써 호출 가능\n",
    "print(averager_cls(10)) # 클래스 인스턴스 생성한 걸 마치 함수처럼 호출하고 있음\n",
    "print(averager_cls(30))\n",
    "print(averager_cls(50)) # 계속 누적되고 있음 : 상태를 기억한다는 것임. "
   ]
  },
  {
   "cell_type": "code",
   "execution_count": 4,
   "metadata": {},
   "outputs": [
    {
     "ename": "TypeError",
     "evalue": "'dict' object is not callable",
     "output_type": "error",
     "traceback": [
      "\u001b[0;31m---------------------------------------------------------------------------\u001b[0m",
      "\u001b[0;31mTypeError\u001b[0m                                 Traceback (most recent call last)",
      "\u001b[1;32m/Users/hongb/Dropbox/github/public_repo/inflearn_original/code/Chapter5_2_Closure.ipynb 셀 12\u001b[0m in \u001b[0;36m<cell line: 1>\u001b[0;34m()\u001b[0m\n\u001b[0;32m----> <a href='vscode-notebook-cell:/Users/hongb/Dropbox/github/public_repo/inflearn_original/code/Chapter5_2_Closure.ipynb#ch0000019?line=0'>1</a>\u001b[0m averager_cls\u001b[39m.\u001b[39;49m\u001b[39m__dict__\u001b[39;49m()\n",
      "\u001b[0;31mTypeError\u001b[0m: 'dict' object is not callable"
     ]
    }
   ],
   "source": [
    "averager_cls.__dict__()"
   ]
  },
  {
   "cell_type": "markdown",
   "metadata": {},
   "source": [
    "## Closure 심화\n",
    "- 외부에서 호출된 함수의 변수값, 상태(레퍼런스) 복사 후(=>snapshot) 저장 -> 후에 접근(엑세스) 가능"
   ]
  },
  {
   "cell_type": "code",
   "execution_count": 23,
   "metadata": {},
   "outputs": [],
   "source": [
    "# Closure 사용\n",
    "def closure_ex1(): # 내부에 함수가 또 있는 구조\n",
    "    # Free variable: 내가 사용하려는 함수 바깥에서 선언된 변수\n",
    "    # Closure scope\n",
    "    series = []\n",
    "    def averager(v):\n",
    "        series.append(v)\n",
    "        print('inner >>> {} / {}'.format(series, len(series)))\n",
    "        return sum(series) / len(series)\n",
    "    \n",
    "    return averager"
   ]
  },
  {
   "cell_type": "code",
   "execution_count": 25,
   "metadata": {},
   "outputs": [
    {
     "name": "stdout",
     "output_type": "stream",
     "text": [
      "inner >>> [10] / 1\n",
      "10.0\n",
      "inner >>> [10, 30] / 2\n",
      "20.0\n",
      "inner >>> [10, 30, 50] / 3\n",
      "30.0\n"
     ]
    }
   ],
   "source": [
    "avg_closure1 = closure_ex1()\n",
    "print(avg_closure1(10))\n",
    "print(avg_closure1(30))\n",
    "print(avg_closure1(50))"
   ]
  },
  {
   "cell_type": "code",
   "execution_count": 33,
   "metadata": {},
   "outputs": [
    {
     "name": "stdout",
     "output_type": "stream",
     "text": [
      "inner >>> [50] / 1\n",
      "50.0\n"
     ]
    }
   ],
   "source": [
    "avg_closure2 = closure_ex1()\n",
    "print(avg_closure2(50))"
   ]
  },
  {
   "cell_type": "code",
   "execution_count": 32,
   "metadata": {},
   "outputs": [
    {
     "name": "stdout",
     "output_type": "stream",
     "text": [
      "['__annotations__', '__call__', '__class__', '__closure__', '__code__', '__defaults__', '__delattr__', '__dict__', '__dir__', '__doc__', '__eq__', '__format__', '__ge__', '__get__', '__getattribute__', '__globals__', '__gt__', '__hash__', '__init__', '__init_subclass__', '__kwdefaults__', '__le__', '__lt__', '__module__', '__name__', '__ne__', '__new__', '__qualname__', '__reduce__', '__reduce_ex__', '__repr__', '__setattr__', '__sizeof__', '__str__', '__subclasshook__']\n",
      "\n",
      "['__class__', '__delattr__', '__dir__', '__doc__', '__eq__', '__format__', '__ge__', '__getattribute__', '__gt__', '__hash__', '__init__', '__init_subclass__', '__le__', '__lt__', '__ne__', '__new__', '__reduce__', '__reduce_ex__', '__repr__', '__setattr__', '__sizeof__', '__str__', '__subclasshook__', 'co_argcount', 'co_cellvars', 'co_code', 'co_consts', 'co_filename', 'co_firstlineno', 'co_flags', 'co_freevars', 'co_kwonlyargcount', 'co_lnotab', 'co_name', 'co_names', 'co_nlocals', 'co_posonlyargcount', 'co_stacksize', 'co_varnames', 'replace']\n",
      "('series',)\n",
      "\n",
      "['__add__', '__class__', '__class_getitem__', '__contains__', '__delattr__', '__dir__', '__doc__', '__eq__', '__format__', '__ge__', '__getattribute__', '__getitem__', '__getnewargs__', '__gt__', '__hash__', '__init__', '__init_subclass__', '__iter__', '__le__', '__len__', '__lt__', '__mul__', '__ne__', '__new__', '__reduce__', '__reduce_ex__', '__repr__', '__rmul__', '__setattr__', '__sizeof__', '__str__', '__subclasshook__', 'count', 'index']\n",
      "\n",
      "[10, 30, 50]\n",
      "\n"
     ]
    }
   ],
   "source": [
    "# function inspection\n",
    "print(dir(avg_closure1))\n",
    "print()\n",
    "print(dir(avg_closure1.__code__)) # co들이 많음 # co_freevars\n",
    "print(avg_closure1.__code__.co_freevars) # 자유변수 출력하니 클로즈 영역의 시리즈를 가지고 있네\n",
    "print()\n",
    "print(dir(avg_closure1.__closure__))\n",
    "print()\n",
    "print(avg_closure1.__closure__[0].cell_contents)\n",
    "print()"
   ]
  },
  {
   "cell_type": "code",
   "execution_count": 45,
   "metadata": {},
   "outputs": [],
   "source": [
    "# 잘못된 클로저 사용의 예\n",
    "def closure_ex2():\n",
    "    # Free variable\n",
    "    cnt = 0\n",
    "    total = 0\n",
    "    \n",
    "    def averager(v):\n",
    "        nonlocal cnt, total\n",
    "        cnt += 1 # len\n",
    "        total += v # sum\n",
    "        return total / cnt \n",
    "    return averager"
   ]
  },
  {
   "cell_type": "code",
   "execution_count": 47,
   "metadata": {},
   "outputs": [
    {
     "name": "stdout",
     "output_type": "stream",
     "text": [
      "10.0\n",
      "22.5\n",
      "28.333333333333332\n"
     ]
    }
   ],
   "source": [
    "avg_closure2 = closure_ex2()\n",
    "print(avg_closure2(10))\n",
    "print(avg_closure2(35))\n",
    "print(avg_closure2(40))\n"
   ]
  },
  {
   "cell_type": "markdown",
   "metadata": {},
   "source": [
    "## 5-4. 파이썬 일급함수 - 데코레이터(Decorator)\n",
    "#### 장점\n",
    "1. 중복 제거, 코드 간결, 공통 함수 작성\n",
    "2. 로깅, 프레임워크, 유효성 체크 -> 공통 기능\n",
    "3. 조합해서 사용 용이\n",
    "   \n",
    "#### 단점\n",
    "1. 가독성 감소?\n",
    "2. 특정 기능에 한정된 함수는 -> 단일 함수로 작성하는 것이 유리할 수도\n",
    "3. 디버깅 불편"
   ]
  },
  {
   "cell_type": "code",
   "execution_count": 3,
   "metadata": {},
   "outputs": [],
   "source": [
    "import time\n",
    "\n",
    "def perf_clock(func):\n",
    "    # free variables 영역\n",
    "    def perf_clocked(*args):\n",
    "        # 함수 시작 시간\n",
    "        st = time.perf_counter()\n",
    "        # 함수 실행\n",
    "        result = func(*args)\n",
    "        # 함수 소요 시간 (끝시간 - 시작시간)\n",
    "        et = time.perf_counter() - st\n",
    "        # 실행 함수명\n",
    "        name = func.__name__\n",
    "        # 함수 매개변수\n",
    "        arg_str = ', '.join(repr(arg) for arg in args) # 제네레이터\n",
    "        # 결과 출력\n",
    "        print('[%0.5fs] %s(%s) -> %r' % (et, name, arg_str, result))\n",
    "        return result\n",
    "    return perf_clocked"
   ]
  },
  {
   "cell_type": "code",
   "execution_count": 4,
   "metadata": {},
   "outputs": [],
   "source": [
    "def time_func(seconds):\n",
    "    time.sleep(seconds)\n",
    "    \n",
    "def sum_func(*numbers):\n",
    "    return sum(numbers)"
   ]
  },
  {
   "cell_type": "code",
   "execution_count": 6,
   "metadata": {},
   "outputs": [],
   "source": [
    "# 데코레이터 미사용\n",
    "none_deco1 = perf_clock(time_func)\n",
    "none_deco2 = perf_clock(sum_func)"
   ]
  },
  {
   "cell_type": "code",
   "execution_count": 10,
   "metadata": {},
   "outputs": [
    {
     "name": "stdout",
     "output_type": "stream",
     "text": [
      "<function perf_clock.<locals>.perf_clocked at 0x106232dc0> ('func',)\n",
      "<function perf_clock.<locals>.perf_clocked at 0x106232550> ('func',)\n",
      "======================================== Called None Decorator -> time_func\n",
      "\n",
      "[1.50504s] time_func(1.5) -> None\n",
      "---------------------------------------- Called None Decorator -> sum_func\n",
      "\n",
      "[0.00000s] sum_func(100, 200, 300, 400, 500) -> 1500\n"
     ]
    },
    {
     "data": {
      "text/plain": [
       "1500"
      ]
     },
     "execution_count": 10,
     "metadata": {},
     "output_type": "execute_result"
    }
   ],
   "source": [
    "print(none_deco1, none_deco1.__code__.co_freevars) # 함수를 인자로 넘길 수 있기 때문에 프리변수에 함수\n",
    "print(none_deco2, none_deco2.__code__.co_freevars)\n",
    "\n",
    "print('=' * 40, 'Called None Decorator -> time_func')\n",
    "print()\n",
    "none_deco1(1.5)\n",
    "print('-' * 40, 'Called None Decorator -> sum_func')\n",
    "print()\n",
    "none_deco2(100, 200, 300, 400, 500)"
   ]
  },
  {
   "cell_type": "code",
   "execution_count": 14,
   "metadata": {},
   "outputs": [
    {
     "name": "stdout",
     "output_type": "stream",
     "text": [
      "======================================== Called Decorator -> time_func\n",
      "\n",
      "[1.50146s] time_func(1.5) -> None\n",
      "---------------------------------------- Called Decorator -> sum_func\n",
      "\n",
      "[0.00000s] sum_func(100, 200, 300, 400, 500) -> 1500\n"
     ]
    },
    {
     "data": {
      "text/plain": [
       "1500"
      ]
     },
     "execution_count": 14,
     "metadata": {},
     "output_type": "execute_result"
    }
   ],
   "source": [
    "@perf_clock\n",
    "def time_func(seconds):\n",
    "    time.sleep(seconds)\n",
    "@perf_clock\n",
    "def sum_func(*numbers):\n",
    "    return sum(numbers)\n",
    "\n",
    "print('=' * 40, 'Called Decorator -> time_func')\n",
    "print()\n",
    "time_func(1.5)\n",
    "print('-' * 40, 'Called Decorator -> sum_func')\n",
    "print()\n",
    "sum_func(100, 200, 300, 400, 500)"
   ]
  },
  {
   "cell_type": "code",
   "execution_count": null,
   "metadata": {},
   "outputs": [],
   "source": [
    "import time\n",
    "\n",
    "def perf_clock(func):\n",
    "    # free variables 영역\n",
    "    def perf_clocked(*args):\n",
    "        # 함수 시작 시간\n",
    "        st = time.perf_counter()\n",
    "        # 함수 실행\n",
    "        result = func(*args)\n",
    "        # 함수 소요 시간 (끝시간 - 시작시간)\n",
    "        et = time.perf_counter() - st\n",
    "        # 실행 함수명\n",
    "        name = func.__name__\n",
    "        # 함수 매개변수\n",
    "        arg_str = ', '.join(repr(arg) for arg in args) # 제네레이터\n",
    "        # 결과 출력\n",
    "        print('[%0.5fs] %s(%s) -> %r' % (et, name, arg_str, result))\n",
    "        return result\n",
    "    return perf_clocked"
   ]
  },
  {
   "cell_type": "markdown",
   "metadata": {},
   "source": []
  },
  {
   "cell_type": "code",
   "execution_count": 15,
   "metadata": {},
   "outputs": [
    {
     "data": {
      "text/plain": [
       "1666865264.3384871"
      ]
     },
     "execution_count": 15,
     "metadata": {},
     "output_type": "execute_result"
    }
   ],
   "source": [
    "time.time()"
   ]
  },
  {
   "cell_type": "code",
   "execution_count": 16,
   "metadata": {},
   "outputs": [
    {
     "data": {
      "text/plain": [
       "14712.465633875"
      ]
     },
     "execution_count": 16,
     "metadata": {},
     "output_type": "execute_result"
    }
   ],
   "source": [
    "time.perf_counter()"
   ]
  },
  {
   "cell_type": "code",
   "execution_count": 17,
   "metadata": {},
   "outputs": [],
   "source": [
    "import time\n",
    "import functools\n",
    "\n",
    "def clock(func):\n",
    "    @functools.wraps(func)\n",
    "    def perf_clocked(*args, **kwargs):\n",
    "        st = time.time()\n",
    "        result = func(*args, **kwargs)\n",
    "        et = time.time() - st\n",
    "        name = func.__name__\n",
    "        arg_lst = []\n",
    "        if args:\n",
    "            arg_lst.append(', '.join(repr(arg) for arg in args))\n",
    "        if kwargs:\n",
    "            pairs = [f'{key}={value}' for key, value in sorted(kwargs.items())]\n",
    "            arg_lst.append(', '.join(pairs))\n",
    "        arg_str = ', '.join(arg_lst)\n",
    "        print('[%0.5fs] %s(%s) => %r' % (et, name, arg_str, result))\n",
    "        return result\n",
    "    return perf_clocked"
   ]
  },
  {
   "cell_type": "code",
   "execution_count": null,
   "metadata": {},
   "outputs": [],
   "source": []
  }
 ],
 "metadata": {
  "kernelspec": {
   "display_name": "Python 3.9.1 64-bit ('3.9.1')",
   "language": "python",
   "name": "python3"
  },
  "language_info": {
   "codemirror_mode": {
    "name": "ipython",
    "version": 3
   },
   "file_extension": ".py",
   "mimetype": "text/x-python",
   "name": "python",
   "nbconvert_exporter": "python",
   "pygments_lexer": "ipython3",
   "version": "3.9.1"
  },
  "orig_nbformat": 4,
  "vscode": {
   "interpreter": {
    "hash": "1688da3634d91066dd3ff12b743053dfee9eea8177f464778dec1bcb0ebd64e6"
   }
  }
 },
 "nbformat": 4,
 "nbformat_minor": 2
}
