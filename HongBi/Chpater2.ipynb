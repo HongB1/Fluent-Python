{
 "cells": [
  {
   "cell_type": "code",
   "execution_count": 4,
   "metadata": {},
   "outputs": [
    {
     "name": "stdout",
     "output_type": "stream",
     "text": [
      "[['_', '_', '_'], ['_', '_', '_'], ['_', '_', '_']]\n",
      "[['_', '_', '_'], ['_', '_', 'X'], ['_', '_', '_']]\n"
     ]
    }
   ],
   "source": [
    "# ex2-12. \n",
    "board = [['_'] * 3 for i in range(3)]\n",
    "print(board)\n",
    "\n",
    "board[1][2] = 'X'\n",
    "print(board) # [1][2]의 값만 변경됨"
   ]
  },
  {
   "cell_type": "code",
   "execution_count": 5,
   "metadata": {},
   "outputs": [
    {
     "name": "stdout",
     "output_type": "stream",
     "text": [
      "[['_', '_', '_'], ['_', '_', '_'], ['_', '_', '_']]\n",
      "[['_', '_', '0'], ['_', '_', '0'], ['_', '_', '0']]\n"
     ]
    }
   ],
   "source": [
    "weird_board = [['_'] * 3] * 3\n",
    "print(weird_board)\n",
    "\n",
    "weird_board[1][2] = '0'\n",
    "print(weird_board) # 3개의 행이 모두 동일한 객체를 참고 중"
   ]
  },
  {
   "cell_type": "markdown",
   "metadata": {},
   "source": [
    "#### 깊은 복사와 얕은 복사의 이해 : 리스트 사용 시 주의해야 한다."
   ]
  },
  {
   "cell_type": "code",
   "execution_count": 1,
   "metadata": {},
   "outputs": [
    {
     "name": "stdout",
     "output_type": "stream",
     "text": [
      "[['~', '~', '~'], ['~', '~', '~'], ['~', '~', '~'], ['~', '~', '~']]\n",
      "[['~', '~', '~'], ['~', '~', '~'], ['~', '~', '~'], ['~', '~', '~']]\n"
     ]
    }
   ],
   "source": [
    "# 리스트 주의\n",
    "marks1 = [['~'] * 3 for _ in range(4)] # 사용하지 않는 원소들은 _언더바 처리가 가능!\n",
    "marks2 = [['~'] * 3] * 4\n",
    "print(marks1)\n",
    "print(marks2)"
   ]
  },
  {
   "cell_type": "code",
   "execution_count": 2,
   "metadata": {},
   "outputs": [
    {
     "name": "stdout",
     "output_type": "stream",
     "text": [
      "[['~', 'X', '~'], ['~', '~', '~'], ['~', '~', '~'], ['~', '~', '~']]\n",
      "[['~', 'X', '~'], ['~', 'X', '~'], ['~', 'X', '~'], ['~', 'X', '~']]\n",
      "[4441062016, 4441370048, 4441357824, 4441358272]\n",
      "[4440716672, 4440716672, 4440716672, 4440716672]\n"
     ]
    }
   ],
   "source": [
    "# critical한 문제! : 수정\n",
    "marks1[0][1] = 'X'\n",
    "marks2[0][1] = 'X'\n",
    "print(marks1)\n",
    "print(marks2)\n",
    "\n",
    "# 증명\n",
    "print([id(i) for i in marks1])\n",
    "print([id(i) for i in marks2]) # 모두 id값이 같음"
   ]
  },
  {
   "cell_type": "markdown",
   "metadata": {},
   "source": [
    "## 2.7 `list.sort()`와 `sorted()`내장 함수\n",
    "- `list.sort()`: 사본생성X, 리스트 내부 변경, 타깃 객체 자체를 변경하고 새로운 리스트를 생성하지 않았음을 알려주기 위해 None을 반환한다.\n",
    "  - => 파이썬 API의 중요한 관례!! \n",
    "  - 객체를 직접 변경하는 함수나 메서드는 객체가 변경되었고 새로운 객체가 생성되지 않았음을 호출하기 위해 None을 반환해야 한다.\n",
    "  \n",
    "  \n",
    "- `sorted()`: 내장함수, 새로운 리스트를 생성해서 반환\n",
    "  - 불변 시퀀스 및 제네레이터를 포함해서 반복 가능한 모든 객체를 인수로 받을 수 있음\n",
    "\n",
    "\n",
    "- `reverse` : True -> 내림차순 반환, 기본값은 False\n",
    "- `key` :예\n",
    "  - `key=str.lower`\n",
    "  - `key=len`"
   ]
  },
  {
   "cell_type": "code",
   "execution_count": 10,
   "metadata": {},
   "outputs": [
    {
     "name": "stdout",
     "output_type": "stream",
     "text": [
      "sorted -  ['apple', 'coconut', 'lemon', 'mango', 'orange', 'papaya', 'strawberry']\n",
      "sorted -  ['strawberry', 'papaya', 'orange', 'mango', 'lemon', 'coconut', 'apple']\n",
      "sorted by length -  ['apple', 'mango', 'lemon', 'orange', 'papaya', 'coconut', 'strawberry']\n",
      "sorted by my function -  ['papaya', 'orange', 'apple', 'lemon', 'mango', 'coconut', 'strawberry']\n",
      "sorted by my function -  ['strawberry', 'coconut', 'mango', 'lemon', 'orange', 'apple', 'papaya']\n"
     ]
    }
   ],
   "source": [
    "# sort vs sorted\n",
    "# reverse, key=len, key=str.lower, key=func...\n",
    "# sorted : 정렬 후 새로운 객체 반환(원본이 수정안됨)\n",
    "# sort : 정렬 후 객체 직접 변경(원본이 직접 수정됨 -> 메모리 사용량에 있어선 유리함)\n",
    "f_list = ['orange', 'apple', 'mango', 'papaya', 'lemon', 'strawberry', 'coconut'] # 원본\n",
    "print('sorted - ', sorted(f_list))\n",
    "print('sorted - ', sorted(f_list, reverse=True)) # reverse, Default=False\n",
    "print('sorted by length - ', sorted(f_list, key=len)) # 알파벳의 길이로 \n",
    "print('sorted by my function - ', sorted(f_list, key=lambda x: x[-1]))\n",
    "print('sorted by my function - ', sorted(f_list, key=lambda x: x[-1], reverse=True))\n"
   ]
  },
  {
   "cell_type": "code",
   "execution_count": 16,
   "metadata": {},
   "outputs": [
    {
     "name": "stdout",
     "output_type": "stream",
     "text": [
      "['Apple', 'BMW', 'Hyundai', 'Samsung']\n",
      "sorted후의 a_list: ['BMW', 'Hyundai', 'Apple', 'Samsung'] -> 원본 변경안됨\n",
      "None\n",
      "sort후의 b_list: ['Apple', 'BMW', 'Hyundai', 'Samsung'] -> 원본 변경됨\n"
     ]
    }
   ],
   "source": [
    "a_list = ['BMW', 'Hyundai', 'Apple', 'Samsung'] \n",
    "print(sorted(a_list))\n",
    "print('sorted후의 a_list:', a_list, '-> 원본 변경안됨') # sorted는 원본을 변경하진 않음.\n",
    "\n",
    "b_list = ['BMW', 'Hyundai', 'Apple', 'Samsung']\n",
    "print(b_list.sort()) # 원본이 변경됨 => None 반환\n",
    "print('sort후의 b_list:', b_list, '-> 원본 변경됨') # .sort()는 원본 자체를 변경함"
   ]
  },
  {
   "cell_type": "markdown",
   "metadata": {},
   "source": [
    "## 2.8 정렬된 시퀀스를 bisect로 관리하기\n",
    "### 2.8.1 `bisect()`로 검색하기\n"
   ]
  },
  {
   "cell_type": "code",
   "execution_count": 17,
   "metadata": {},
   "outputs": [
    {
     "ename": "IndentationError",
     "evalue": "expected an indented block (759227123.py, line 8)",
     "output_type": "error",
     "traceback": [
      "\u001b[0;36m  Input \u001b[0;32mIn [17]\u001b[0;36m\u001b[0m\n\u001b[0;31m    def demo(bisect_fn):\u001b[0m\n\u001b[0m                        ^\u001b[0m\n\u001b[0;31mIndentationError\u001b[0m\u001b[0;31m:\u001b[0m expected an indented block\n"
     ]
    }
   ],
   "source": [
    "import bisect\n",
    "import sys\n",
    "HAYSTACK = [1, 4, 5, 6, 8, 12, 15, 20, 21, 23, 23, 26, 29, 30]\n",
    "NEEDLES = [0, 1, 2, 5, 8, 10, 22, 23, 29, 30, 31]\n",
    "\n",
    "ROW_FMT = '{0:2d} @ {1:2d}      {2}{0:<2d}'\n",
    "\n",
    "def demo(bisect_fn):\n",
    "    for needle in reversed(NEEDLES):\n",
    "        position = bisect_fn(HAYSTACK, needle)\n",
    "        offset = position * ' |'\n",
    "        print(ROW_FMT.format(needle, position, offset))\n",
    "        "
   ]
  },
  {
   "cell_type": "code",
   "execution_count": null,
   "metadata": {},
   "outputs": [],
   "source": []
  }
 ],
 "metadata": {
  "kernelspec": {
   "display_name": "Python 3.9.1 64-bit ('3.9.1')",
   "language": "python",
   "name": "python3"
  },
  "language_info": {
   "codemirror_mode": {
    "name": "ipython",
    "version": 3
   },
   "file_extension": ".py",
   "mimetype": "text/x-python",
   "name": "python",
   "nbconvert_exporter": "python",
   "pygments_lexer": "ipython3",
   "version": "3.9.1"
  },
  "orig_nbformat": 4,
  "vscode": {
   "interpreter": {
    "hash": "1688da3634d91066dd3ff12b743053dfee9eea8177f464778dec1bcb0ebd64e6"
   }
  }
 },
 "nbformat": 4,
 "nbformat_minor": 2
}
