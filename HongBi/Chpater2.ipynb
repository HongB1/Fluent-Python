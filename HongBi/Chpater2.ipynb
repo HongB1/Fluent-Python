{
 "cells": [
  {
   "cell_type": "code",
   "execution_count": 4,
   "metadata": {},
   "outputs": [
    {
     "name": "stdout",
     "output_type": "stream",
     "text": [
      "[['_', '_', '_'], ['_', '_', '_'], ['_', '_', '_']]\n",
      "[['_', '_', '_'], ['_', '_', 'X'], ['_', '_', '_']]\n"
     ]
    }
   ],
   "source": [
    "# ex2-12. \n",
    "board = [['_'] * 3 for i in range(3)]\n",
    "print(board)\n",
    "\n",
    "board[1][2] = 'X'\n",
    "print(board) # [1][2]의 값만 변경됨"
   ]
  },
  {
   "cell_type": "code",
   "execution_count": 5,
   "metadata": {},
   "outputs": [
    {
     "name": "stdout",
     "output_type": "stream",
     "text": [
      "[['_', '_', '_'], ['_', '_', '_'], ['_', '_', '_']]\n",
      "[['_', '_', '0'], ['_', '_', '0'], ['_', '_', '0']]\n"
     ]
    }
   ],
   "source": [
    "weird_board = [['_'] * 3] * 3\n",
    "print(weird_board)\n",
    "\n",
    "weird_board[1][2] = '0'\n",
    "print(weird_board) # 3개의 행이 모두 동일한 객체를 참고 중"
   ]
  },
  {
   "cell_type": "markdown",
   "metadata": {},
   "source": [
    "#### 깊은 복사와 얕은 복사의 이해 : 리스트 사용 시 주의해야 한다."
   ]
  },
  {
   "cell_type": "code",
   "execution_count": 1,
   "metadata": {},
   "outputs": [
    {
     "name": "stdout",
     "output_type": "stream",
     "text": [
      "[['~', '~', '~'], ['~', '~', '~'], ['~', '~', '~'], ['~', '~', '~']]\n",
      "[['~', '~', '~'], ['~', '~', '~'], ['~', '~', '~'], ['~', '~', '~']]\n"
     ]
    }
   ],
   "source": [
    "# 리스트 주의\n",
    "marks1 = [['~'] * 3 for _ in range(4)] # 사용하지 않는 원소들은 _언더바 처리가 가능!\n",
    "marks2 = [['~'] * 3] * 4\n",
    "print(marks1)\n",
    "print(marks2)"
   ]
  },
  {
   "cell_type": "code",
   "execution_count": 2,
   "metadata": {},
   "outputs": [
    {
     "name": "stdout",
     "output_type": "stream",
     "text": [
      "[['~', 'X', '~'], ['~', '~', '~'], ['~', '~', '~'], ['~', '~', '~']]\n",
      "[['~', 'X', '~'], ['~', 'X', '~'], ['~', 'X', '~'], ['~', 'X', '~']]\n",
      "[4441062016, 4441370048, 4441357824, 4441358272]\n",
      "[4440716672, 4440716672, 4440716672, 4440716672]\n"
     ]
    }
   ],
   "source": [
    "# critical한 문제! : 수정\n",
    "marks1[0][1] = 'X'\n",
    "marks2[0][1] = 'X'\n",
    "print(marks1)\n",
    "print(marks2)\n",
    "\n",
    "# 증명\n",
    "print([id(i) for i in marks1])\n",
    "print([id(i) for i in marks2]) # 모두 id값이 같음"
   ]
  },
  {
   "cell_type": "markdown",
   "metadata": {},
   "source": [
    "## 2.7 `list.sort()`와 `sorted()`내장 함수\n",
    "- `list.sort()`: 사본생성X, 리스트 내부 변경, 타깃 객체 자체를 변경하고 새로운 리스트를 생성하지 않았음을 알려주기 위해 None을 반환한다.\n",
    "  - => 파이썬 API의 중요한 관례!! \n",
    "  - 객체를 직접 변경하는 함수나 메서드는 객체가 변경되었고 새로운 객체가 생성되지 않았음을 호출하기 위해 None을 반환해야 한다.\n",
    "  \n",
    "  \n",
    "- `sorted()`: 내장함수, 새로운 리스트를 생성해서 반환\n",
    "  - 불변 시퀀스 및 제네레이터를 포함해서 반복 가능한 모든 객체를 인수로 받을 수 있음\n",
    "\n",
    "\n",
    "- `reverse` : True -> 내림차순 반환, 기본값은 False\n",
    "- `key` :예\n",
    "  - `key=str.lower`\n",
    "  - `key=len`"
   ]
  },
  {
   "cell_type": "code",
   "execution_count": 10,
   "metadata": {},
   "outputs": [
    {
     "name": "stdout",
     "output_type": "stream",
     "text": [
      "sorted -  ['apple', 'coconut', 'lemon', 'mango', 'orange', 'papaya', 'strawberry']\n",
      "sorted -  ['strawberry', 'papaya', 'orange', 'mango', 'lemon', 'coconut', 'apple']\n",
      "sorted by length -  ['apple', 'mango', 'lemon', 'orange', 'papaya', 'coconut', 'strawberry']\n",
      "sorted by my function -  ['papaya', 'orange', 'apple', 'lemon', 'mango', 'coconut', 'strawberry']\n",
      "sorted by my function -  ['strawberry', 'coconut', 'mango', 'lemon', 'orange', 'apple', 'papaya']\n"
     ]
    }
   ],
   "source": [
    "# sort vs sorted\n",
    "# reverse, key=len, key=str.lower, key=func...\n",
    "# sorted : 정렬 후 새로운 객체 반환(원본이 수정안됨)\n",
    "# sort : 정렬 후 객체 직접 변경(원본이 직접 수정됨 -> 메모리 사용량에 있어선 유리함)\n",
    "f_list = ['orange', 'apple', 'mango', 'papaya', 'lemon', 'strawberry', 'coconut'] # 원본\n",
    "print('sorted - ', sorted(f_list))\n",
    "print('sorted - ', sorted(f_list, reverse=True)) # reverse, Default=False\n",
    "print('sorted by length - ', sorted(f_list, key=len)) # 알파벳의 길이로 \n",
    "print('sorted by my function - ', sorted(f_list, key=lambda x: x[-1]))\n",
    "print('sorted by my function - ', sorted(f_list, key=lambda x: x[-1], reverse=True))\n"
   ]
  },
  {
   "cell_type": "code",
   "execution_count": 16,
   "metadata": {},
   "outputs": [
    {
     "name": "stdout",
     "output_type": "stream",
     "text": [
      "['Apple', 'BMW', 'Hyundai', 'Samsung']\n",
      "sorted후의 a_list: ['BMW', 'Hyundai', 'Apple', 'Samsung'] -> 원본 변경안됨\n",
      "None\n",
      "sort후의 b_list: ['Apple', 'BMW', 'Hyundai', 'Samsung'] -> 원본 변경됨\n"
     ]
    }
   ],
   "source": [
    "a_list = ['BMW', 'Hyundai', 'Apple', 'Samsung'] \n",
    "print(sorted(a_list))\n",
    "print('sorted후의 a_list:', a_list, '-> 원본 변경안됨') # sorted는 원본을 변경하진 않음.\n",
    "\n",
    "b_list = ['BMW', 'Hyundai', 'Apple', 'Samsung']\n",
    "print(b_list.sort()) # 원본이 변경됨 => None 반환\n",
    "print('sort후의 b_list:', b_list, '-> 원본 변경됨') # .sort()는 원본 자체를 변경함"
   ]
  },
  {
   "cell_type": "markdown",
   "metadata": {},
   "source": [
    "## 2.8 정렬된 시퀀스를 bisect로 관리하기\n",
    "### 2.8.1 `bisect()`로 검색하기\n"
   ]
  },
  {
   "cell_type": "code",
   "execution_count": 17,
   "metadata": {},
   "outputs": [
    {
     "ename": "IndentationError",
     "evalue": "expected an indented block (759227123.py, line 8)",
     "output_type": "error",
     "traceback": [
      "\u001b[0;36m  Input \u001b[0;32mIn [17]\u001b[0;36m\u001b[0m\n\u001b[0;31m    def demo(bisect_fn):\u001b[0m\n\u001b[0m                        ^\u001b[0m\n\u001b[0;31mIndentationError\u001b[0m\u001b[0;31m:\u001b[0m expected an indented block\n"
     ]
    }
   ],
   "source": [
    "# 2-17\n",
    "import bisect\n",
    "import sys\n",
    "HAYSTACK = [1, 4, 5, 6, 8, 12, 15, 20, 21, 23, 23, 26, 29, 30]\n",
    "NEEDLES = [0, 1, 2, 5, 8, 10, 22, 23, 29, 30, 31]\n",
    "\n",
    "ROW_FMT = '{0:2d} @ {1:2d}      {2}{0:<2d}'\n",
    "\n",
    "def demo(bisect_fn):\n",
    "    for needle in reversed(NEEDLES):\n",
    "        position = bisect_fn(HAYSTACK, needle)\n",
    "        offset = position * ' |'\n",
    "        print(ROW_FMT.format(needle, position, offset))1\n",
    "        "
   ]
  },
  {
   "cell_type": "code",
   "execution_count": 4,
   "metadata": {},
   "outputs": [
    {
     "name": "stdout",
     "output_type": "stream",
     "text": [
      "31 @ 14      |  |  |  |  |  |  |  |  |  |  |  |  |  |31\n",
      "30 @ 14      |  |  |  |  |  |  |  |  |  |  |  |  |  |30\n",
      "29 @ 13      |  |  |  |  |  |  |  |  |  |  |  |  |29\n",
      "23 @ 11      |  |  |  |  |  |  |  |  |  |  |23\n",
      "22 @  9      |  |  |  |  |  |  |  |  |22\n",
      "10 @  5      |  |  |  |  |10\n",
      " 8 @  5      |  |  |  |  |8 \n",
      " 5 @  3      |  |  |5 \n",
      " 2 @  1      |2 \n",
      " 1 @  1      |1 \n",
      " 0 @  0    0 \n"
     ]
    }
   ],
   "source": [
    "bisect_fn = bisect.bisect\n",
    "for needle in reversed(NEEDLES):\n",
    "    position = bisect_fn(HAYSTACK, needle)  # <1>\n",
    "    offset = position * '  |'  # <2>\n",
    "    print(ROW_FMT.format(needle, position, offset))  # <3>"
   ]
  },
  {
   "cell_type": "code",
   "execution_count": 6,
   "metadata": {},
   "outputs": [
    {
     "data": {
      "text/plain": [
       "0"
      ]
     },
     "execution_count": 6,
     "metadata": {},
     "output_type": "execute_result"
    }
   ],
   "source": [
    "needle"
   ]
  },
  {
   "cell_type": "code",
   "execution_count": 12,
   "metadata": {},
   "outputs": [],
   "source": [
    "positon = bisect_fn(HAYSTACK, 30)\n",
    "offset = position * ' |'"
   ]
  },
  {
   "cell_type": "code",
   "execution_count": 15,
   "metadata": {},
   "outputs": [],
   "source": [
    "ROW_FMT = '{0:2d} @ {1:2d}      {2}{0:<2d}'"
   ]
  },
  {
   "cell_type": "code",
   "execution_count": 18,
   "metadata": {},
   "outputs": [
    {
     "data": {
      "text/plain": [
       "' 0 @  0      0 '"
      ]
     },
     "execution_count": 18,
     "metadata": {},
     "output_type": "execute_result"
    }
   ],
   "source": [
    "ROW_FMT.format(needle, position, offset)"
   ]
  },
  {
   "cell_type": "code",
   "execution_count": 13,
   "metadata": {},
   "outputs": [
    {
     "data": {
      "text/plain": [
       "''"
      ]
     },
     "execution_count": 13,
     "metadata": {},
     "output_type": "execute_result"
    }
   ],
   "source": [
    "offset"
   ]
  },
  {
   "cell_type": "code",
   "execution_count": 1,
   "metadata": {},
   "outputs": [
    {
     "name": "stdout",
     "output_type": "stream",
     "text": [
      "DEMO: bisect_right\n",
      "haystack ->  1  4  5  6  8 12 15 20 21 23 23 26 29 30\n",
      "31 @ 14      |  |  |  |  |  |  |  |  |  |  |  |  |  |31\n",
      "30 @ 14      |  |  |  |  |  |  |  |  |  |  |  |  |  |30\n",
      "29 @ 13      |  |  |  |  |  |  |  |  |  |  |  |  |29\n",
      "23 @ 11      |  |  |  |  |  |  |  |  |  |  |23\n",
      "22 @  9      |  |  |  |  |  |  |  |  |22\n",
      "10 @  5      |  |  |  |  |10\n",
      " 8 @  5      |  |  |  |  |8 \n",
      " 5 @  3      |  |  |5 \n",
      " 2 @  1      |2 \n",
      " 1 @  1      |1 \n",
      " 0 @  0    0 \n"
     ]
    }
   ],
   "source": [
    "# tag::BISECT_DEMO[]\n",
    "import bisect\n",
    "import sys\n",
    "\n",
    "HAYSTACK = [1, 4, 5, 6, 8, 12, 15, 20, 21, 23, 23, 26, 29, 30]\n",
    "NEEDLES = [0, 1, 2, 5, 8, 10, 22, 23, 29, 30, 31]\n",
    "\n",
    "ROW_FMT = '{0:2d} @ {1:2d}    {2}{0:<2d}'\n",
    "\n",
    "def demo(bisect_fn):\n",
    "    for needle in reversed(NEEDLES):\n",
    "        position = bisect_fn(HAYSTACK, needle)  # <1>\n",
    "        offset = position * '  |'  # <2>\n",
    "        print(ROW_FMT.format(needle, position, offset))  # <3>\n",
    "\n",
    "if __name__ == '__main__':\n",
    "\n",
    "    if sys.argv[-1] == 'left':    # <4>\n",
    "        bisect_fn = bisect.bisect_left\n",
    "    else:\n",
    "        bisect_fn = bisect.bisect\n",
    "\n",
    "    print('DEMO:', bisect_fn.__name__)  # <5>\n",
    "    print('haystack ->', ' '.join(f'{n:2}' for n in HAYSTACK))\n",
    "    demo(bisect_fn)\n",
    "\n",
    "# end::BISECT_DEMO[]"
   ]
  },
  {
   "cell_type": "markdown",
   "metadata": {},
   "source": [
    "# 2.9 리스트가  답이  아닐 때\n",
    "- 실수 많이 저장 : 배열이 효율적\n",
    "- 리스트의 양쪽 끝에 항목을 계속 추가 or 삭제 : FIFO, LIFO 데이터 구조를 표현할 때 -> 덱(deque)\n",
    "    - FIFO? \n",
    "    - LIFO?\n",
    "- 포함 여부를 판단 : set"
   ]
  },
  {
   "cell_type": "code",
   "execution_count": 5,
   "metadata": {},
   "outputs": [
    {
     "name": "stdout",
     "output_type": "stream",
     "text": [
      "   0 : \u0000\n",
      "   1 : \u0001\n",
      "   2 : \u0002\n",
      "   3 : \u0003\n",
      "   4 : \u0004\n",
      "   5 : \u0005\n",
      "   6 : \u0006\n",
      "   7 : \u0007\n",
      "   8 :\n",
      "   9 : \t\n",
      "  10 : \n",
      "\n",
      "  11 : \u000b\n",
      "  12 : \f\n",
      "  13 : \n",
      "  14 : \u000e\n",
      "  15 : \u000f\n",
      "  16 : \u0010\n",
      "  17 : \u0011\n",
      "  18 : \u0012\n",
      "  19 : \u0013\n",
      "  20 : \u0014\n",
      "  21 : \u0015\n",
      "  22 : \u0016\n",
      "  23 : \u0017\n",
      "  24 : \u0018\n",
      "  25 : \u0019\n",
      "  26 : \u001a\n",
      "  27 : \u001b\n",
      "  28 : \u001c\n",
      "  29 : \u001d\n",
      "  30 : \u001e\n",
      "  31 : \u001f\n",
      "  32 :  \n",
      "  33 : !\n",
      "  34 : \"\n",
      "  35 : #\n",
      "  36 : $\n",
      "  37 : %\n",
      "  38 : &\n",
      "  39 : '\n",
      "  40 : (\n",
      "  41 : )\n",
      "  42 : *\n",
      "  43 : +\n",
      "  44 : ,\n",
      "  45 : -\n",
      "  46 : .\n",
      "  47 : /\n",
      "  48 : 0\n",
      "  49 : 1\n",
      "  50 : 2\n",
      "  51 : 3\n",
      "  52 : 4\n",
      "  53 : 5\n",
      "  54 : 6\n",
      "  55 : 7\n",
      "  56 : 8\n",
      "  57 : 9\n",
      "  58 : :\n",
      "  59 : ;\n",
      "  60 : <\n",
      "  61 : =\n",
      "  62 : >\n",
      "  63 : ?\n",
      "  64 : @\n",
      "  65 : A\n",
      "  66 : B\n",
      "  67 : C\n",
      "  68 : D\n",
      "  69 : E\n",
      "  70 : F\n",
      "  71 : G\n",
      "  72 : H\n",
      "  73 : I\n",
      "  74 : J\n",
      "  75 : K\n",
      "  76 : L\n",
      "  77 : M\n",
      "  78 : N\n",
      "  79 : O\n",
      "  80 : P\n",
      "  81 : Q\n",
      "  82 : R\n",
      "  83 : S\n",
      "  84 : T\n",
      "  85 : U\n",
      "  86 : V\n",
      "  87 : W\n",
      "  88 : X\n",
      "  89 : Y\n",
      "  90 : Z\n",
      "  91 : [\n",
      "  92 : \\\n",
      "  93 : ]\n",
      "  94 : ^\n",
      "  95 : _\n",
      "  96 : `\n",
      "  97 : a\n",
      "  98 : b\n",
      "  99 : c\n",
      " 100 : d\n",
      " 101 : e\n",
      " 102 : f\n",
      " 103 : g\n",
      " 104 : h\n",
      " 105 : i\n",
      " 106 : j\n",
      " 107 : k\n",
      " 108 : l\n",
      " 109 : m\n",
      " 110 : n\n",
      " 111 : o\n",
      " 112 : p\n",
      " 113 : q\n",
      " 114 : r\n",
      " 115 : s\n",
      " 116 : t\n",
      " 117 : u\n",
      " 118 : v\n",
      " 119 : w\n",
      " 120 : x\n",
      " 121 : y\n",
      " 122 : z\n",
      " 123 : {\n",
      " 124 : |\n",
      " 125 : }\n",
      " 126 : ~\n",
      " 127 : \n"
     ]
    }
   ],
   "source": [
    "for i in range(128):\n",
    "    print('{:4} : {}'.format(i, chr(i)))"
   ]
  },
  {
   "cell_type": "code",
   "execution_count": 6,
   "metadata": {},
   "outputs": [
    {
     "name": "stderr",
     "output_type": "stream",
     "text": [
      "UsageError: Line magic function `%%time` not found.\n"
     ]
    }
   ],
   "source": [
    "# 천만 개의 무작위 실수를 가진 배열을 생성, 저장, 로딩\n",
    "from array import array\n",
    "from random import random"
   ]
  },
  {
   "cell_type": "code",
   "execution_count": 10,
   "metadata": {},
   "outputs": [
    {
     "name": "stdout",
     "output_type": "stream",
     "text": [
      "CPU times: user 703 ms, sys: 15.8 ms, total: 718 ms\n",
      "Wall time: 719 ms\n"
     ]
    }
   ],
   "source": [
    "%%time \n",
    "# 실행시간 측정\n",
    "floats = array('d', (random() for _ in range(10**7))) # 타입코드 'd', generator 표현식 사용"
   ]
  },
  {
   "cell_type": "code",
   "execution_count": 11,
   "metadata": {},
   "outputs": [
    {
     "data": {
      "text/plain": [
       "0.17007404554159178"
      ]
     },
     "execution_count": 11,
     "metadata": {},
     "output_type": "execute_result"
    }
   ],
   "source": [
    "floats[-1]"
   ]
  },
  {
   "cell_type": "code",
   "execution_count": 12,
   "metadata": {},
   "outputs": [],
   "source": [
    "with open('floats.bin', 'wb') as f:\n",
    "    floats.tofile(f)"
   ]
  },
  {
   "cell_type": "code",
   "execution_count": 20,
   "metadata": {},
   "outputs": [],
   "source": [
    "# 2.9.2 메모리뷰\n",
    "# memoryview 내장 클래스는 공유 메모리 시퀀스형으로서 bytes를 복사하지 않고 배열의 슬라이스를 다룰 수 있게 해준다.\n",
    "import array\n",
    "numbers = array.array('h', [-2, -1, 0, 1,2]) \n",
    "memv = memoryview(numbers) # array배열로부터 memoryview를 만든다."
   ]
  },
  {
   "cell_type": "code",
   "execution_count": 15,
   "metadata": {},
   "outputs": [
    {
     "data": {
      "text/plain": [
       "<memory at 0x10628be80>"
      ]
     },
     "execution_count": 15,
     "metadata": {},
     "output_type": "execute_result"
    }
   ],
   "source": [
    "memv"
   ]
  },
  {
   "cell_type": "code",
   "execution_count": 16,
   "metadata": {},
   "outputs": [
    {
     "data": {
      "text/plain": [
       "(5, -2)"
      ]
     },
     "execution_count": 16,
     "metadata": {},
     "output_type": "execute_result"
    }
   ],
   "source": [
    "len(memv), memv[0]"
   ]
  },
  {
   "cell_type": "code",
   "execution_count": 17,
   "metadata": {},
   "outputs": [
    {
     "data": {
      "text/plain": [
       "[254, 255, 255, 255, 0, 0, 1, 0, 2, 0]"
      ]
     },
     "execution_count": 17,
     "metadata": {},
     "output_type": "execute_result"
    }
   ],
   "source": [
    "memv_oct = memv.cast('B')\n",
    "memv_oct.tolist()"
   ]
  },
  {
   "cell_type": "code",
   "execution_count": 18,
   "metadata": {},
   "outputs": [],
   "source": [
    "memv_oct[5] = 4"
   ]
  },
  {
   "cell_type": "code",
   "execution_count": 19,
   "metadata": {},
   "outputs": [
    {
     "data": {
      "text/plain": [
       "array('h', [-2, -1, 1024, 1, 2])"
      ]
     },
     "execution_count": 19,
     "metadata": {},
     "output_type": "execute_result"
    }
   ],
   "source": [
    "numbers"
   ]
  },
  {
   "cell_type": "code",
   "execution_count": null,
   "metadata": {},
   "outputs": [],
   "source": []
  }
 ],
 "metadata": {
  "kernelspec": {
   "display_name": "Python 3.9.1 64-bit ('3.9.1')",
   "language": "python",
   "name": "python3"
  },
  "language_info": {
   "codemirror_mode": {
    "name": "ipython",
    "version": 3
   },
   "file_extension": ".py",
   "mimetype": "text/x-python",
   "name": "python",
   "nbconvert_exporter": "python",
   "pygments_lexer": "ipython3",
   "version": "3.9.1"
  },
  "orig_nbformat": 4,
  "vscode": {
   "interpreter": {
    "hash": "1688da3634d91066dd3ff12b743053dfee9eea8177f464778dec1bcb0ebd64e6"
   }
  }
 },
 "nbformat": 4,
 "nbformat_minor": 2
}
