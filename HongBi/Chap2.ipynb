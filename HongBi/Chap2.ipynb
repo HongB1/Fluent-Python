{
 "cells": [
  {
   "cell_type": "markdown",
   "metadata": {},
   "source": [
    "# 시퀀스형\n",
    "> **자료형의 종류**\n",
    "> - 컨테이너(Container) : 서로다른 자료형을 담음\n",
    "> ```list, tuple, collections.deque```\n",
    ">\t\n",
    ">    - 가변형 : ```list, deque```\n",
    ">\t\n",
    ">    - 불변형 : ```tuple```\n",
    "> - 플랫(Flat) : 한 유형의 자료형만 담음\n",
    "> ```str, bytes, bytearray, array.array, memoryview```\n",
    ">   - 가변형 : ```bytearray, array.array, memoryview```\n",
    ">\n",
    ">   - 불변형 : ```str, bytes```"
   ]
  },
  {
   "cell_type": "code",
   "execution_count": 7,
   "metadata": {},
   "outputs": [
    {
     "name": "stdout",
     "output_type": "stream",
     "text": [
      "['__repr__', '__hash__', '__getattribute__', '__lt__', '__le__', '__eq__', '__ne__', '__gt__', '__ge__', '__iter__', '__init__', '__len__', '__getitem__', '__setitem__', '__delitem__', '__add__', '__mul__', '__rmul__', '__contains__', '__iadd__', '__imul__', '__new__', '__reversed__', '__sizeof__', 'clear', 'copy', 'append', 'insert', 'extend', 'pop', 'remove', 'index', 'count', 'reverse', 'sort', '__class_getitem__', '__doc__', '__str__', '__setattr__', '__delattr__', '__reduce_ex__', '__reduce__', '__subclasshook__', '__init_subclass__', '__format__', '__dir__', '__class__'] ====================================================================================================\n",
      "['__repr__', '__hash__', '__getattribute__', '__lt__', '__le__', '__eq__', '__ne__', '__gt__', '__ge__', '__iter__', '__len__', '__getitem__', '__add__', '__mul__', '__rmul__', '__contains__', '__new__', '__getnewargs__', 'index', 'count', '__class_getitem__', '__doc__', '__str__', '__setattr__', '__delattr__', '__init__', '__reduce_ex__', '__reduce__', '__subclasshook__', '__init_subclass__', '__format__', '__sizeof__', '__dir__', '__class__'] ====================================================================================================\n"
     ]
    }
   ],
   "source": [
    "a = [1, 2, 3]\n",
    "b = (1, 2, 3)\n",
    "print(a.__dir__(), '=='*50)\n",
    "print(b.__dir__(), '=='*50)"
   ]
  },
  {
   "cell_type": "code",
   "execution_count": 8,
   "metadata": {},
   "outputs": [
    {
     "data": {
      "text/plain": [
       "{'__delitem__',\n",
       " '__iadd__',\n",
       " '__imul__',\n",
       " '__reversed__',\n",
       " '__setitem__',\n",
       " 'append',\n",
       " 'clear',\n",
       " 'copy',\n",
       " 'extend',\n",
       " 'insert',\n",
       " 'pop',\n",
       " 'remove',\n",
       " 'reverse',\n",
       " 'sort'}"
      ]
     },
     "execution_count": 8,
     "metadata": {},
     "output_type": "execute_result"
    }
   ],
   "source": [
    "set(a.__dir__()) - set(b.__dir__())"
   ]
  },
  {
   "cell_type": "markdown",
   "metadata": {},
   "source": [
    "## 리스트 및 튜플 고급\n",
    "### 지능형 리스트(Comprehending Lists)\n",
    "#### for문으로 접근"
   ]
  },
  {
   "cell_type": "code",
   "execution_count": 18,
   "metadata": {},
   "outputs": [
    {
     "name": "stdout",
     "output_type": "stream",
     "text": [
      "[43, 41, 40, 42, 38, 94, 37, 36, 35, 64, 33, 41]\n"
     ]
    }
   ],
   "source": [
    "# Comprehending Lists \n",
    "import time\n",
    "\n",
    "chars = '+)(*&^%$#@!)' # str은 불변형\n",
    "code_list1 = []\n",
    "\n",
    "for s in chars:\n",
    "    code_list1.append(ord(s))\n",
    "print(code_list1)"
   ]
  },
  {
   "cell_type": "markdown",
   "metadata": {},
   "source": [
    "#### List comprehensions\n",
    "Comprehending Lists : 가독성이 좋고, 실행속도도 빠름  \n",
    "=> 따라서 데이터가 클 경우엔 List comprehensions을 추천함 (큰 차이는 없음)\n",
    "- 오로지 새로운 리스트를 만드는 일만 함  \n",
    "  - => 따라서 생성된 리스트를 사용하지 않을 거라면 사용 XXX\n",
    "  - => 또한 두 줄 이상 넘어가면, 코드 분할 or for문 사용!"
   ]
  },
  {
   "cell_type": "code",
   "execution_count": 19,
   "metadata": {},
   "outputs": [
    {
     "name": "stdout",
     "output_type": "stream",
     "text": [
      "[43, 41, 40, 42, 38, 94, 37, 36, 35, 64, 33, 41]\n"
     ]
    }
   ],
   "source": [
    "code_list2 = [ord(s) for s in chars]\n",
    "print(code_list2)"
   ]
  },
  {
   "cell_type": "code",
   "execution_count": 20,
   "metadata": {},
   "outputs": [
    {
     "name": "stdout",
     "output_type": "stream",
     "text": [
      "ABC\n",
      "[65, 66, 67]\n"
     ]
    }
   ],
   "source": [
    "# 지역변수 이슈\n",
    "x = 'ABC'\n",
    "dummy = [ord(x) for x in x]\n",
    "print(x)\n",
    "print(dummy)"
   ]
  },
  {
   "cell_type": "markdown",
   "metadata": {},
   "source": [
    "### 2.2.2 지능형 리스트와 map()/filter() 비교"
   ]
  },
  {
   "cell_type": "code",
   "execution_count": 21,
   "metadata": {},
   "outputs": [
    {
     "name": "stdout",
     "output_type": "stream",
     "text": [
      "[43, 41, 42, 94, 64, 41]\n",
      "[43, 41, 42, 94, 64, 41]\n"
     ]
    }
   ],
   "source": [
    "# Comprehending Lists + Map, Filter\n",
    "code_list3 = [ord(s) for s in chars if ord(s) > 40]\n",
    "# Map, Filter 사용\n",
    "code_list4 = list(filter(lambda x : x > 40, map(ord, chars)))\n",
    "\n",
    "print(code_list3)\n",
    "print(code_list4)"
   ]
  },
  {
   "cell_type": "markdown",
   "metadata": {},
   "source": [
    "### 2.2.3 데카르트 곱\n",
    "데카르트 곱은 두 개 이상의 리스트에 있는 모든 항목을 이용해서 만든 튜플로 구성된 리스트이며, 지능형 리스트를 통해서도 만들 수 있다."
   ]
  },
  {
   "cell_type": "code",
   "execution_count": 29,
   "metadata": {},
   "outputs": [
    {
     "data": {
      "text/plain": [
       "[('black', 'S'),\n",
       " ('black', 'M'),\n",
       " ('black', 'L'),\n",
       " ('white', 'S'),\n",
       " ('white', 'M'),\n",
       " ('white', 'L')]"
      ]
     },
     "execution_count": 29,
     "metadata": {},
     "output_type": "execute_result"
    }
   ],
   "source": [
    "colors = ['black', 'white']\n",
    "sizes = list('SML')\n",
    "\n",
    "# color 다음에 size를 배치해서 만든 튜플 리스트를 생성\n",
    "tshirts = [(color, size) for color in colors for size in sizes]\n",
    "tshirts"
   ]
  },
  {
   "cell_type": "code",
   "execution_count": 31,
   "metadata": {},
   "outputs": [
    {
     "name": "stdout",
     "output_type": "stream",
     "text": [
      "('black', 'S')\n",
      "('black', 'M')\n",
      "('black', 'L')\n",
      "('white', 'S')\n",
      "('white', 'M')\n",
      "('white', 'L')\n"
     ]
    }
   ],
   "source": [
    "# color를 반복하는 루프 안에서 sizes를 반복해서 튜플 리스트를 출력한다.\n",
    "for color in colors:\n",
    "    for size in sizes:\n",
    "        print((color, size))"
   ]
  },
  {
   "cell_type": "code",
   "execution_count": 32,
   "metadata": {},
   "outputs": [
    {
     "data": {
      "text/plain": [
       "[('black', 'S'),\n",
       " ('white', 'S'),\n",
       " ('black', 'M'),\n",
       " ('white', 'M'),\n",
       " ('black', 'L'),\n",
       " ('white', 'L')]"
      ]
     },
     "execution_count": 32,
     "metadata": {},
     "output_type": "execute_result"
    }
   ],
   "source": [
    "# size 먼저 반복 후, color 반복\n",
    "tshirts = [(color, size) for size in sizes\n",
    "                            for color in colors]\n",
    "tshirts"
   ]
  },
  {
   "cell_type": "markdown",
   "metadata": {},
   "source": [
    "## Generator 생성\n",
    "A Python generator is a function that produces a sequence of results. **It works by maintaining its local state, so that the function can resume again exactly where it left off when called subsequent times.** Thus, you can think of a generator as something like a powerful iterator.\n",
    "\n",
    "```__iter__```가 있으면 순회가 돼서 for문 등에서 사용할 수 있다.  \n",
    "작은 메모리조각으로도 연속되는 데이터를 만들어낼 수 있다.\n",
    "\n",
    "- 한 번에 한 개의 항목을 생성(메모리 유지X)"
   ]
  },
  {
   "cell_type": "code",
   "execution_count": 34,
   "metadata": {},
   "outputs": [],
   "source": [
    "import array\n",
    "# a = [1,2,3,4,5,6,7,......;;;;..,100000] # => 많은 메모리를 차지하게 될 것임. 그러면 읽고 수정하고 데이터를 새로 계산해서 새로운 변수에 할당하는 데에 또 매우 많은 메모리를 차지하게 됨."
   ]
  },
  {
   "cell_type": "code",
   "execution_count": 38,
   "metadata": {},
   "outputs": [
    {
     "name": "stdout",
     "output_type": "stream",
     "text": [
      "[43, 41, 40, 42, 38, 94, 37, 36, 35, 64, 33, 41]\n"
     ]
    }
   ],
   "source": [
    "# 한 번에 한 개의 항목을 생성(메모리 유지X)\n",
    "tuple_l = [ord(s) for s in chars]\n",
    "print(tuple_l)\n"
   ]
  },
  {
   "cell_type": "code",
   "execution_count": 39,
   "metadata": {},
   "outputs": [
    {
     "name": "stdout",
     "output_type": "stream",
     "text": [
      "<generator object <genexpr> at 0x10dc68660>\n",
      "<class 'generator'>\n",
      "43\n",
      "41\n",
      "40\n",
      "42\n",
      "38\n",
      "94\n",
      "37\n"
     ]
    }
   ],
   "source": [
    "tuple_g = (ord(s) for s in chars)\n",
    "print(tuple_g)\n",
    "print(type(tuple_g))\n",
    "print(next(tuple_g))\n",
    "print(next(tuple_g))\n",
    "print(next(tuple_g))\n",
    "print(next(tuple_g))\n",
    "print(next(tuple_g))\n",
    "print(next(tuple_g))\n",
    "print(next(tuple_g))"
   ]
  },
  {
   "cell_type": "code",
   "execution_count": 47,
   "metadata": {},
   "outputs": [
    {
     "name": "stdout",
     "output_type": "stream",
     "text": [
      "array('I', [43, 41, 40, 42, 38, 94, 37, 36, 35, 64, 33, 41])\n",
      "<class 'array.array'>\n"
     ]
    }
   ],
   "source": [
    "array_g = array.array('I', (ord(s) for s in chars))\n",
    "print(array_g)\n",
    "print(type(array_g))\n",
    "# print(array_g.tolist()) # 왜 리스트로 바꾸면 'I'는 날라갈까?"
   ]
  },
  {
   "cell_type": "code",
   "execution_count": 71,
   "metadata": {},
   "outputs": [],
   "source": [
    "colors = ['black', 'white']\n",
    "sizes = list('SML')\n",
    "colors_sizes = (f'{color} {size}' for color in colors for size in sizes)"
   ]
  },
  {
   "cell_type": "code",
   "execution_count": 72,
   "metadata": {},
   "outputs": [
    {
     "name": "stdout",
     "output_type": "stream",
     "text": [
      "<generator object <genexpr> at 0x10dca9ba0>\n"
     ]
    },
    {
     "ename": "TypeError",
     "evalue": "'generator' object is not subscriptable",
     "output_type": "error",
     "traceback": [
      "\u001b[0;31m---------------------------------------------------------------------------\u001b[0m",
      "\u001b[0;31mTypeError\u001b[0m                                 Traceback (most recent call last)",
      "\u001b[1;32m/Users/hongb/Dropbox/github/fluent_python/HongBi/Chap2.ipynb 셀 21\u001b[0m in \u001b[0;36m<cell line: 2>\u001b[0;34m()\u001b[0m\n\u001b[1;32m      <a href='vscode-notebook-cell:/Users/hongb/Dropbox/github/fluent_python/HongBi/Chap2.ipynb#ch0000037?line=0'>1</a>\u001b[0m \u001b[39mprint\u001b[39m(colors_sizes)\n\u001b[0;32m----> <a href='vscode-notebook-cell:/Users/hongb/Dropbox/github/fluent_python/HongBi/Chap2.ipynb#ch0000037?line=1'>2</a>\u001b[0m colors_sizes[\u001b[39m1\u001b[39;49m]\n",
      "\u001b[0;31mTypeError\u001b[0m: 'generator' object is not subscriptable"
     ]
    }
   ],
   "source": [
    "print(colors_sizes)\n",
    "colors_sizes[1]"
   ]
  },
  {
   "cell_type": "code",
   "execution_count": 73,
   "metadata": {},
   "outputs": [
    {
     "data": {
      "text/plain": [
       "False"
      ]
     },
     "execution_count": 73,
     "metadata": {},
     "output_type": "execute_result"
    }
   ],
   "source": [
    "# Python 객체가 \"subscriptable\"하다 : __getitem__() 메서드가 구현되어 있는, \"컨테이너\" 객체 => 없나 확인\n",
    "'__getitem__' in colors_sizes.__dir__()"
   ]
  },
  {
   "cell_type": "code",
   "execution_count": 74,
   "metadata": {},
   "outputs": [
    {
     "name": "stdout",
     "output_type": "stream",
     "text": [
      "black S\n",
      "black M\n",
      "black L\n",
      "white S\n",
      "white M\n",
      "white L\n"
     ]
    }
   ],
   "source": [
    "for i in colors_sizes:\n",
    "    print(i)"
   ]
  },
  {
   "cell_type": "code",
   "execution_count": 55,
   "metadata": {},
   "outputs": [
    {
     "name": "stdout",
     "output_type": "stream",
     "text": [
      "<generator object <genexpr> at 0x10dc68200>\n",
      "A반1번\n",
      "A반2번\n",
      "A반3번\n",
      "A반4번\n",
      "A반5번\n",
      "A반6번\n",
      "A반7번\n",
      "A반8번\n",
      "A반9번\n",
      "A반10번\n",
      "A반11번\n",
      "A반12번\n",
      "A반13번\n",
      "A반14번\n",
      "A반15번\n",
      "A반16번\n",
      "A반17번\n",
      "A반18번\n",
      "A반19번\n",
      "A반20번\n",
      "B반1번\n",
      "B반2번\n",
      "B반3번\n",
      "B반4번\n",
      "B반5번\n",
      "B반6번\n",
      "B반7번\n",
      "B반8번\n",
      "B반9번\n",
      "B반10번\n",
      "B반11번\n",
      "B반12번\n",
      "B반13번\n",
      "B반14번\n",
      "B반15번\n",
      "B반16번\n",
      "B반17번\n",
      "B반18번\n",
      "B반19번\n",
      "B반20번\n",
      "C반1번\n",
      "C반2번\n",
      "C반3번\n",
      "C반4번\n",
      "C반5번\n",
      "C반6번\n",
      "C반7번\n",
      "C반8번\n",
      "C반9번\n",
      "C반10번\n",
      "C반11번\n",
      "C반12번\n",
      "C반13번\n",
      "C반14번\n",
      "C반15번\n",
      "C반16번\n",
      "C반17번\n",
      "C반18번\n",
      "C반19번\n",
      "C반20번\n",
      "D반1번\n",
      "D반2번\n",
      "D반3번\n",
      "D반4번\n",
      "D반5번\n",
      "D반6번\n",
      "D반7번\n",
      "D반8번\n",
      "D반9번\n",
      "D반10번\n",
      "D반11번\n",
      "D반12번\n",
      "D반13번\n",
      "D반14번\n",
      "D반15번\n",
      "D반16번\n",
      "D반17번\n",
      "D반18번\n",
      "D반19번\n",
      "D반20번\n"
     ]
    }
   ],
   "source": [
    "# 제네레이터 예제\n",
    "class_rank_g = (f'{c}반{n}번' for c in 'A B C D'.split() for n in range(1, 21))\n",
    "print(class_rank_g)\n",
    "\n",
    "# 제네레이터는 한 번에 만들어놓고 출력하는 것이 아니라, 하나 출력하고 하나 생성하고 하는 것임\n",
    "for s in class_rank_g: \n",
    "    print(s) "
   ]
  },
  {
   "cell_type": "code",
   "execution_count": null,
   "metadata": {},
   "outputs": [],
   "source": [
    "# 리스트 주의\n",
    "marks1 = [['~'] * 3 for _ in range(4)] # 사용하지 않는 원소들은 _언더바 처리가 가능!\n",
    "marks2 = [['~'] * 3] * 4\n",
    "print(marks1)\n",
    "print(marks2)"
   ]
  },
  {
   "cell_type": "markdown",
   "metadata": {},
   "source": [
    "dfdf"
   ]
  },
  {
   "cell_type": "code",
   "execution_count": null,
   "metadata": {},
   "outputs": [],
   "source": [
    "# critical한 문제! : 수정\n",
    "marks1[0][1] = 'X'\n",
    "marks2[0][1] = 'X'\n",
    "print(marks1)\n",
    "print(marks2)\n",
    "\n",
    "# 증명\n",
    "print([id(i) for i in marks1])\n",
    "print([id(i) for i in marks2]) # 모두 id값이 같음"
   ]
  },
  {
   "cell_type": "code",
   "execution_count": null,
   "metadata": {},
   "outputs": [],
   "source": [
    "# 두 점을 정의하고, 두 점 사이의 거리 구하기(2) - namedtuple 사용\n",
    "## namedtuple 정의\n",
    "from collections import namedtuple\n",
    "Point = namedtuple('Point', 'x y')\n",
    "\n",
    "## 두 점 정의\n",
    "pt3 = Point(1.0, 5.0)\n",
    "pt4 = Point(2.5, 1.5)\n",
    "\n",
    "## print로 출력해보기, 인덱스와 key로 접근하여 namedtuple의 values 출력하기\n",
    "print(pt3); print(pt4)\n",
    "print(pt3[0]); print(pt3[1]) # 인덱스로 접근 가능\n",
    "print(pt3.x); print(pt3.y) # ㅑkey로 접근 가능\n",
    "\n",
    "## 두 점사이의 거리 구하기\n",
    "l_leng2 = sqrt((pt3.x - pt4.x) ** 2 + (pt3.y - pt4.y) ** 2) # namedtuple은 인덱스 뿐만 아니라 !key!로도 접근할 수 있음 = 유사 딕셔너"
   ]
  },
  {
   "cell_type": "code",
   "execution_count": null,
   "metadata": {},
   "outputs": [],
   "source": [
    "# namedtuple 선언 방법 - 총 4가지\n",
    "## 1. 리스트로 \n",
    "Point1 = namedtuple('Point', ['x', 'y'])\n",
    "\n",
    "## 2. , 따옴표로 구분하기 \n",
    "Point2 = namedtuple('Point', 'x, y')\n",
    "\n",
    "## 3. 띄어쓰기로 구분하기\n",
    "Point3 = namedtuple('Point', 'x y')\n",
    "\n",
    "## 4. \n",
    "# Point4 = namedtuple('Point', 'x y x class') ### class는 예약어여서 에러가남\n",
    "Point4 = namedtuple('Point', 'x y x class', rename=True) # Default = False"
   ]
  },
  {
   "cell_type": "code",
   "execution_count": null,
   "metadata": {},
   "outputs": [],
   "source": [
    "p1 = Point1(x=10, y=35)\n",
    "p2 = Point2(20, 40)\n",
    "p3 = Point3(45, y=20)\n",
    "# p4 = Point4(10, 20, 30) ## 이러면 에러남?\n",
    "p4 = Point4(10, 20, 30, 40)"
   ]
  },
  {
   "cell_type": "code",
   "execution_count": null,
   "metadata": {},
   "outputs": [],
   "source": [
    "# Dict to Unpacking(1)\n",
    "temp_dict = {'x' : 75, 'y' : 55}\n",
    "p5 = Point3(**temp_dict) # 별표 : 튜플은 한개, 딕셔너리는 두개\n",
    "\n",
    "print(p1); print(p5)\n",
    "print(p1[0] + p5[0])\n",
    "print(p1.x + p5.y)"
   ]
  },
  {
   "cell_type": "code",
   "execution_count": null,
   "metadata": {},
   "outputs": [],
   "source": [
    "# 또 다른 Unpacking 방법(2)\n",
    "x, y = p3\n",
    "print(x, y)\n",
    "\n",
    "x, y = p2\n",
    "print(x, y)"
   ]
  },
  {
   "cell_type": "code",
   "execution_count": null,
   "metadata": {},
   "outputs": [],
   "source": [
    "# 네임드 튜플 메소드\n",
    "temp = [52, 38] \n",
    "\n",
    "# _make() : 새로운 객체 생성\n",
    "p4 = Point1._make(temp)\n",
    "print(p4)\n",
    "\n",
    "# 네임드 튜플 메소드\n",
    "# temp = [52, 38, 0]  # 값이 세개면 에러뜸 정확하게 키밸류 개수와 일치해야 함 => 엄격한 코딩이 가능"
   ]
  },
  {
   "cell_type": "code",
   "execution_count": null,
   "metadata": {},
   "outputs": [],
   "source": [
    "# _fields : 필드 네임 확인 => 딕셔너리에서 키값만 조회할 때 사용함\n",
    "print(p1._fields, p2._fields, p3._fields)\n",
    "\n",
    "# 중요!! _asdict() : OrderedDict 정렬된 딕셔너리를 반환함 (원래 딕셔너리는 정렬하지 않음)\n",
    "## namedtuple을 Dictionary로 변환하는 것임\n",
    "print(p1._asdict())\n",
    "print(p4._asdict())"
   ]
  },
  {
   "cell_type": "code",
   "execution_count": null,
   "metadata": {},
   "outputs": [],
   "source": [
    "divmod(20,8)"
   ]
  },
  {
   "cell_type": "code",
   "execution_count": null,
   "metadata": {},
   "outputs": [],
   "source": [
    "t = (20,8)\n",
    "divmod(t) # 튜플을 바로 인수로 입력하면 에러 발생"
   ]
  },
  {
   "cell_type": "code",
   "execution_count": null,
   "metadata": {},
   "outputs": [],
   "source": [
    "t = (20,8)\n",
    "divmod(*t) # 튜플을 바로 인수로 입력하면 에러 발생"
   ]
  },
  {
   "cell_type": "code",
   "execution_count": 1,
   "metadata": {},
   "outputs": [
    {
     "data": {
      "text/plain": [
       "(0, 1, [2, 3, 4])"
      ]
     },
     "execution_count": 1,
     "metadata": {},
     "output_type": "execute_result"
    }
   ],
   "source": [
    "# 초과된 항목을 언패킹으로 해결할 수 있음\n",
    "a, b, *rest = range(5)\n",
    "a, b, rest"
   ]
  },
  {
   "cell_type": "code",
   "execution_count": null,
   "metadata": {},
   "outputs": [],
   "source": [
    "a, *body, c, d = range(5)\n",
    "a, body, c, d"
   ]
  },
  {
   "cell_type": "code",
   "execution_count": null,
   "metadata": {},
   "outputs": [],
   "source": []
  }
 ],
 "metadata": {
  "kernelspec": {
   "display_name": "Python 3.9.1 64-bit ('3.9.1')",
   "language": "python",
   "name": "python3"
  },
  "language_info": {
   "codemirror_mode": {
    "name": "ipython",
    "version": 3
   },
   "file_extension": ".py",
   "mimetype": "text/x-python",
   "name": "python",
   "nbconvert_exporter": "python",
   "pygments_lexer": "ipython3",
   "version": "3.9.1"
  },
  "orig_nbformat": 4,
  "vscode": {
   "interpreter": {
    "hash": "1688da3634d91066dd3ff12b743053dfee9eea8177f464778dec1bcb0ebd64e6"
   }
  }
 },
 "nbformat": 4,
 "nbformat_minor": 2
}
