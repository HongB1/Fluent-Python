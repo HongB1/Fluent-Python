{
 "cells": [
  {
   "cell_type": "code",
   "execution_count": 29,
   "metadata": {},
   "outputs": [
    {
     "data": {
      "application/javascript": "if (window.IPython && IPython.notebook.kernel) IPython.notebook.kernel.execute('jovian.utils.jupyter.get_notebook_name_saved = lambda: \"' + IPython.notebook.notebook_name + '\"')",
      "text/plain": [
       "<IPython.core.display.Javascript object>"
      ]
     },
     "metadata": {},
     "output_type": "display_data"
    }
   ],
   "source": [
    "import jovian"
   ]
  },
  {
   "cell_type": "code",
   "execution_count": 30,
   "metadata": {},
   "outputs": [
    {
     "data": {
      "application/javascript": "window.require && require([\"base/js/namespace\"],function(Jupyter){Jupyter.notebook.save_checkpoint()})",
      "text/plain": [
       "<IPython.core.display.Javascript object>"
      ]
     },
     "metadata": {},
     "output_type": "display_data"
    },
    {
     "name": "stdout",
     "output_type": "stream",
     "text": [
      "[jovian] Updating notebook \"hongbi/ex-defaultdict\" on https://jovian.ai/\u001b[0m\n",
      "[jovian] Committed successfully! https://jovian.ai/hongbi/ex-defaultdict\u001b[0m\n"
     ]
    },
    {
     "data": {
      "text/plain": [
       "'https://jovian.ai/hongbi/ex-defaultdict'"
      ]
     },
     "execution_count": 30,
     "metadata": {},
     "output_type": "execute_result"
    }
   ],
   "source": [
    "jovian.commit(filename='ex_defaultdict.ipynb')"
   ]
  },
  {
   "cell_type": "markdown",
   "metadata": {},
   "source": [
    "# 1. `Setdefault`"
   ]
  },
  {
   "cell_type": "code",
   "execution_count": null,
   "metadata": {},
   "outputs": [],
   "source": [
    "# Dic Setdefault 예제 : 튜플에서 딕셔너리 만들 때 속도도 빠르고 대용량데이터 처리에서 좋음\n",
    "source = (('k1', 'val1'),\n",
    "            ('k1', 'val2'),\n",
    "            ('k2', 'val3'),\n",
    "            ('k2', 'val4'),\n",
    "            ('k2', 'val5'))\n",
    "\n",
    "new_dict1 = {}\n",
    "new_dict2 = {}\n",
    "\n",
    "# No use Setdefault\n",
    "for k, v in source:\n",
    "    if k in new_dict1:\n",
    "        new_dict1[k].append(v)\n",
    "    else:\n",
    "        new_dict1[k] = [v]\n",
    "        \n",
    "print(new_dict1)\n",
    "\n",
    "# Use Setdefault\n",
    "for k, v in source:\n",
    "    new_dict2.setdefault(k, []).append(v)\n",
    "    \n",
    "print(new_dict2)"
   ]
  },
  {
   "cell_type": "markdown",
   "metadata": {},
   "source": [
    "# 2. `defaultdict`"
   ]
  },
  {
   "cell_type": "markdown",
   "metadata": {},
   "source": [
    "## 2-1. 설명예제 1\n",
    "from https://www.daleseo.com/python-collections-defaultdict/\n",
    "\n",
    "두 개의 예제를 다뤄봅니다! \n",
    "1. 단어에 등장하는 알파벳 개수 세기\n",
    "2. 주어진 단어들을 길이에 따라 분류해주는 코드 만들기"
   ]
  },
  {
   "cell_type": "code",
   "execution_count": 1,
   "metadata": {},
   "outputs": [
    {
     "data": {
      "text/plain": [
       "{'a': 1, 'm': 1, 'b': 1, 'i': 2, 'g': 1, 'u': 1, 't': 1, 'y': 1}"
      ]
     },
     "execution_count": 1,
     "metadata": {},
     "output_type": "execute_result"
    }
   ],
   "source": [
    "\"\"\"예제 1-1. 일반적인 dict\"\"\"\n",
    "WORD = 'ambiguity'\n",
    "def countLetters(word):\n",
    "    counter = {}\n",
    "    for letter in word:\n",
    "        if letter not in counter:\n",
    "            counter[letter] = 0\n",
    "        counter[letter] += 1\n",
    "    return counter\n",
    "\n",
    "counter1 = countLetters(WORD)\n",
    "counter1"
   ]
  },
  {
   "cell_type": "code",
   "execution_count": 2,
   "metadata": {},
   "outputs": [
    {
     "data": {
      "text/plain": [
       "{'a': 1, 'm': 1, 'b': 1, 'i': 2, 'g': 1, 'u': 1, 't': 1, 'y': 1}"
      ]
     },
     "execution_count": 2,
     "metadata": {},
     "output_type": "execute_result"
    }
   ],
   "source": [
    "\"\"\"예제 1-2. dict.setdefault() 메서드 사용 -> if를 피할 수 있음\n",
    "첫번째 인자로 키(key)값, 두번째 인자로 기본값(default value)\"\"\" \n",
    "\n",
    "def countLetters(word):\n",
    "    counter = {}\n",
    "    for letter in word:\n",
    "        counter.setdefault(letter, 0)\n",
    "        counter[letter] += 1\n",
    "    return counter\n",
    "    \n",
    "counter2 = countLetters(WORD)\n",
    "counter2"
   ]
  },
  {
   "cell_type": "code",
   "execution_count": 3,
   "metadata": {},
   "outputs": [
    {
     "data": {
      "text/plain": [
       "defaultdict(int,\n",
       "            {'a': 1, 'm': 1, 'b': 1, 'i': 2, 'g': 1, 'u': 1, 't': 1, 'y': 1})"
      ]
     },
     "execution_count": 3,
     "metadata": {},
     "output_type": "execute_result"
    }
   ],
   "source": [
    "\"\"\"예제 1-3. dict 객체 대신에 defaultdict 객체 사용: collections.defaultdict\"\"\"\n",
    "from collections import defaultdict\n",
    "\n",
    "def countLetters(word):\n",
    "    counter = defaultdict(int) # 생성자로 int를 넘긴 이유 : 0을 리턴 => 초기화의 느낌\n",
    "    # counter = defaultdict(lambda: 0)\n",
    "    for letter in word:\n",
    "        counter[letter] += 1\n",
    "    return counter\n",
    "    \n",
    "counter3 = countLetters(WORD)\n",
    "counter3"
   ]
  },
  {
   "cell_type": "code",
   "execution_count": 6,
   "metadata": {},
   "outputs": [
    {
     "data": {
      "text/plain": [
       "defaultdict(list,\n",
       "            {9: ['ambiguity'], 4: ['card', 'name', 'card'], 6: ['travel']})"
      ]
     },
     "execution_count": 6,
     "metadata": {},
     "output_type": "execute_result"
    }
   ],
   "source": [
    "\"\"\"예제 2-1. 사전 기본값으로 빈 리스트 세팅하기: \n",
    "주어진 단어들을 길이에 따라 분류해주는 코드 만들기\"\"\"\n",
    "from collections import defaultdict\n",
    "\n",
    "def groupWords(words):\n",
    "    grouper = defaultdict(list) # defaultdict 생성자에 list 함수를 넘겼기 때문에, grouper 사전에 어떤 글자가 키(key)로 존재하지 않는 경우, 해당 키에 대한 기본값을 비어있는 리스트(empty list)로 세팅해줍니다.\n",
    "    for word in words:\n",
    "        length = len(word)\n",
    "        grouper[length].append(word)\n",
    "    return grouper\n",
    "    \n",
    "ex1 = groupWords(['ambiguity', 'card', 'travel', 'name', 'card'])\n",
    "ex1"
   ]
  },
  {
   "cell_type": "code",
   "execution_count": 8,
   "metadata": {},
   "outputs": [
    {
     "data": {
      "text/plain": [
       "defaultdict(set, {9: {'ambiguity'}, 4: {'card', 'name'}, 6: {'travel'}})"
      ]
     },
     "execution_count": 8,
     "metadata": {},
     "output_type": "execute_result"
    }
   ],
   "source": [
    "\"\"\"예제 2-2. 위에꺼 응용 - 사전 기본값으로 빈 set 세팅하기:\n",
    "중복을 원하지 않을 때\"\"\"\n",
    "from collections import defaultdict\n",
    "\n",
    "def groupWords(words):\n",
    "    grouper = defaultdict(set)\n",
    "    for word in words:\n",
    "        length = len(word)\n",
    "        grouper[length].add(word)\n",
    "    return grouper\n",
    "    \n",
    "counter5 = groupWords(['ambiguity', 'card', 'travel', 'name', 'card'])\n",
    "counter5"
   ]
  },
  {
   "cell_type": "markdown",
   "metadata": {},
   "source": [
    "## 2-2. 설명예제2\n",
    "from https://excelsior-cjh.tistory.com/95"
   ]
  },
  {
   "cell_type": "markdown",
   "metadata": {},
   "source": [
    "### 1. defaultdict란\n",
    "`collections.defaultdict`는  딕셔너리(dictionary)와 거의 비슷하지만 key값이 없을 경우 미리 지정해 놓은 초기(default)값을 반환하는 dictionary이다. defaultdict과 관련하여 자세한 내용은 docs.python.org에서 확인할 수 있다.    \n",
    "\n",
    "#### dict vs defaultdict (예제 소스코드를 통한 비교)\n",
    "\n",
    "- 예제(1-1)에서 기본 딕셔너리는 해당 키가 없는 값을 출력할 경우 KeyError Exception 에러가 나타난다. \n",
    "- 반면에 예제(1-2)에서 defaultdict는 `default_factory()`라는 함수로 초기값(default)를 null로 지정해줬기 때문에 해당 키가 없는 값을 출력할 경우 초기값인 null 이 출력된다."
   ]
  },
  {
   "cell_type": "code",
   "execution_count": 13,
   "metadata": {},
   "outputs": [
    {
     "name": "stdout",
     "output_type": "stream",
     "text": [
      "{'a': 1, 'b': 2}\n"
     ]
    },
    {
     "ename": "KeyError",
     "evalue": "'c'",
     "output_type": "error",
     "traceback": [
      "\u001b[0;31m---------------------------------------------------------------------------\u001b[0m",
      "\u001b[0;31mKeyError\u001b[0m                                  Traceback (most recent call last)",
      "\u001b[1;32m/Users/hongb/Dropbox/github/fluent_python/HongBi/ex_defaultdict.ipynb 셀 9\u001b[0m in \u001b[0;36m<cell line: 8>\u001b[0;34m()\u001b[0m\n\u001b[1;32m      <a href='vscode-notebook-cell:/Users/hongb/Dropbox/github/fluent_python/HongBi/ex_defaultdict.ipynb#ch0000007?line=5'>6</a>\u001b[0m ex1 \u001b[39m=\u001b[39m {\u001b[39m'\u001b[39m\u001b[39ma\u001b[39m\u001b[39m'\u001b[39m:\u001b[39m1\u001b[39m, \u001b[39m'\u001b[39m\u001b[39mb\u001b[39m\u001b[39m'\u001b[39m:\u001b[39m2\u001b[39m}\n\u001b[1;32m      <a href='vscode-notebook-cell:/Users/hongb/Dropbox/github/fluent_python/HongBi/ex_defaultdict.ipynb#ch0000007?line=6'>7</a>\u001b[0m \u001b[39mprint\u001b[39m(ex1)\n\u001b[0;32m----> <a href='vscode-notebook-cell:/Users/hongb/Dropbox/github/fluent_python/HongBi/ex_defaultdict.ipynb#ch0000007?line=7'>8</a>\u001b[0m \u001b[39mprint\u001b[39m(ex1[\u001b[39m'\u001b[39;49m\u001b[39mc\u001b[39;49m\u001b[39m'\u001b[39;49m])\n",
      "\u001b[0;31mKeyError\u001b[0m: 'c'"
     ]
    }
   ],
   "source": [
    "# 예제(1) - dict vs defaultdict\n",
    "# 1-1. 기본 딕셔너리\n",
    "\n",
    "import collections\n",
    "\n",
    "ex1 = {'a':1, 'b':2}\n",
    "print(ex1)\n",
    "print(ex1['c'])\n",
    "# 결과: KeyError가 뜬다"
   ]
  },
  {
   "cell_type": "code",
   "execution_count": 33,
   "metadata": {},
   "outputs": [
    {
     "name": "stdout",
     "output_type": "stream",
     "text": [
      "======BEFORE======\n",
      "ex2:  defaultdict(<function default_factory at 0x1073c45e0>, {'a': 1, 'b': 2})\n",
      "null\n",
      "-> 없는 키값인 \"c\"를 호출하면 default_factory()가 호출되어 null이 반환된다.\n",
      "\n",
      "\n",
      "======AFTER======\n",
      "\"c\"호출 후의 ex2:  defaultdict(<function default_factory at 0x1073c45e0>, {'a': 1, 'b': 2, 'c': 'null'})\n",
      "-> \"c\"의 value로 default_factory()의 반환값인 \"null\"이 할당되었다.\n"
     ]
    }
   ],
   "source": [
    "# 1-2. collections.defaultdict\n",
    "# defaultdict의 초기값 생성\n",
    "def default_factory():\n",
    "    return 'null'\n",
    "ex2 = collections.defaultdict(default_factory, a=1, b=2)\n",
    "\n",
    "print('======BEFORE======')\n",
    "print('ex2: ', ex2)\n",
    "print(ex2['c'])\n",
    "print('-> 없는 키값인 \"c\"를 호출하면 default_factory()가 호출되어 null이 반환된다.')\n",
    "print('\\n')\n",
    "\n",
    "print('======AFTER======')\n",
    "print('\"c\"호출 후의 ex2: ', ex2)\n",
    "print('-> \"c\"의 value로 default_factory()의 반환값인 \"null\"이 할당되었다.')\n",
    "# print(ex2)"
   ]
  },
  {
   "cell_type": "markdown",
   "metadata": {},
   "source": [
    "### 2. defaultdict의 인자(factor)\n",
    "```python\n",
    "collections.defaultdict(default_factory, key=value,...)\n",
    "```\n",
    "- 첫번째 인자 : `default_factory`  => defaultdict의 초기값을 지정하는 인자 : 메소드 형태의 값을 인자로 받음.\n",
    "- 두번째 인자 : $key1=value1,key2=value2,...,keyn=valuenkey_1=value_1, key_2=value_2,...,key_n=value_n$"
   ]
  },
  {
   "cell_type": "code",
   "execution_count": 34,
   "metadata": {},
   "outputs": [
    {
     "name": "stdout",
     "output_type": "stream",
     "text": [
      "defaultdict(None, {'a': 1, 'b': 2})\n"
     ]
    },
    {
     "ename": "KeyError",
     "evalue": "'c'",
     "output_type": "error",
     "traceback": [
      "\u001b[0;31m---------------------------------------------------------------------------\u001b[0m",
      "\u001b[0;31mKeyError\u001b[0m                                  Traceback (most recent call last)",
      "\u001b[1;32m/Users/hongb/Dropbox/github/fluent_python/HongBi/ex_defaultdict.ipynb 셀 12\u001b[0m in \u001b[0;36m<cell line: 7>\u001b[0;34m()\u001b[0m\n\u001b[1;32m      <a href='vscode-notebook-cell:/Users/hongb/Dropbox/github/fluent_python/HongBi/ex_defaultdict.ipynb#ch0000015?line=4'>5</a>\u001b[0m ex2 \u001b[39m=\u001b[39m collections\u001b[39m.\u001b[39mdefaultdict(a\u001b[39m=\u001b[39m\u001b[39m1\u001b[39m, b\u001b[39m=\u001b[39m\u001b[39m2\u001b[39m)\n\u001b[1;32m      <a href='vscode-notebook-cell:/Users/hongb/Dropbox/github/fluent_python/HongBi/ex_defaultdict.ipynb#ch0000015?line=5'>6</a>\u001b[0m \u001b[39mprint\u001b[39m(ex2)\n\u001b[0;32m----> <a href='vscode-notebook-cell:/Users/hongb/Dropbox/github/fluent_python/HongBi/ex_defaultdict.ipynb#ch0000015?line=6'>7</a>\u001b[0m \u001b[39mprint\u001b[39m(ex2[\u001b[39m'\u001b[39;49m\u001b[39mc\u001b[39;49m\u001b[39m'\u001b[39;49m])\n",
      "\u001b[0;31mKeyError\u001b[0m: 'c'"
     ]
    }
   ],
   "source": [
    "# 예제(2-1) - default_factory를 지정하지 않은 경우\n",
    "\n",
    "import collections\n",
    "\n",
    "ex2 = collections.defaultdict(a=1, b=2)\n",
    "print(ex2)\n",
    "print(ex2['c'])"
   ]
  },
  {
   "cell_type": "code",
   "execution_count": 35,
   "metadata": {},
   "outputs": [
    {
     "name": "stdout",
     "output_type": "stream",
     "text": [
      "defaultdict(<function default_factory at 0x107407a60>, {'a': 1, 'b': 2})\n",
      "null\n"
     ]
    }
   ],
   "source": [
    "# 예제(2-1) - default_factory를 지정하지 않은 경우\n",
    "\n",
    "import collections\n",
    "\n",
    "def default_factory():\n",
    "    return 'null'\n",
    "ex2 = collections.defaultdict(default_factory, a=1, b=2)\n",
    "print(ex2)\n",
    "print(ex2['c'])"
   ]
  },
  {
   "cell_type": "code",
   "execution_count": 36,
   "metadata": {},
   "outputs": [
    {
     "name": "stdout",
     "output_type": "stream",
     "text": [
      "defaultdict(<class 'list'>, {'a': [1, 2], 'b': [3, 4]})\n",
      "[]\n",
      "defaultdict(<class 'set'>, {'a': {1, 2}, 'b': {3, 4}})\n",
      "set()\n",
      "defaultdict(<class 'int'>, {'a': 1, 'b': 2})\n",
      "0\n"
     ]
    }
   ],
   "source": [
    "# 예제(3) - 다양한 default_factory\n",
    "\n",
    "import collections\n",
    "\n",
    "# 3-1. list\n",
    "ex_list = collections.defaultdict(list, a=[1,2], b=[3,4])\n",
    "print(ex_list)\n",
    "print(ex_list['c'])\n",
    "\n",
    "# 3-2. set\n",
    "ex_set = collections.defaultdict(set, a={1,2}, b={3,4})\n",
    "print(ex_set)\n",
    "print(ex_set['c'])\n",
    "\n",
    "# 3-3. int\n",
    "ex_int = collections.defaultdict(int, a=1, b=2)\n",
    "print(ex_int)\n",
    "print(ex_int['c'])"
   ]
  },
  {
   "cell_type": "markdown",
   "metadata": {},
   "source": [
    "## 2-3. 파이썬 공식 다큐 예제\n",
    "https://docs.python.org/3/library/collections.html#collections.defaultdict\n",
    "\n",
    "Using `list` as the `default_factory`, it is easy to group a sequence of key-value pairs into a dictionary of lists:"
   ]
  },
  {
   "cell_type": "code",
   "execution_count": 39,
   "metadata": {},
   "outputs": [
    {
     "name": "stdout",
     "output_type": "stream",
     "text": [
      "defaultdict(<class 'list'>, {'yellow': [1, 3], 'blue': [2, 4], 'red': [1]})\n"
     ]
    },
    {
     "data": {
      "text/plain": [
       "[('blue', [2, 4]), ('red', [1]), ('yellow', [1, 3])]"
      ]
     },
     "execution_count": 39,
     "metadata": {},
     "output_type": "execute_result"
    }
   ],
   "source": [
    "s = [('yellow', 1), ('blue', 2), ('yellow', 3), ('blue', 4), ('red', 1)]\n",
    "d = defaultdict(list)\n",
    "for k, v in s:\n",
    "    d[k].append(v)\n",
    "print(d)\n",
    "sorted(d.items())"
   ]
  },
  {
   "cell_type": "markdown",
   "metadata": {},
   "source": [
    "When each key is encountered for the first time, it is not already in the mapping;  \n",
    "\n",
    "1. so an entry is automatically created using the `default_factory` function which returns an empty `list`. \n",
    "2. The `list.append()` operation then attaches the value to the new list. \n",
    "3. When keys are encountered again, the look-up proceeds normally (returning the list for that key) and the `list.append()` operation adds another value to the list.   \n",
    "\n",
    "\n",
    "This technique is simpler and faster than an equivalent technique using `dict.setdefault()`:"
   ]
  },
  {
   "cell_type": "code",
   "execution_count": 40,
   "metadata": {},
   "outputs": [
    {
     "data": {
      "text/plain": [
       "[('blue', [2, 4]), ('red', [1]), ('yellow', [1, 3])]"
      ]
     },
     "execution_count": 40,
     "metadata": {},
     "output_type": "execute_result"
    }
   ],
   "source": [
    "d = {}\n",
    "for k, v in s:\n",
    "    d.setdefault(k, []).append(v)\n",
    "\n",
    "sorted(d.items())"
   ]
  },
  {
   "cell_type": "markdown",
   "metadata": {},
   "source": [
    "Setting the `default_factory` to `int` makes the `defaultdict` useful for counting (like a bag or multiset in other languages):"
   ]
  },
  {
   "cell_type": "code",
   "execution_count": 51,
   "metadata": {},
   "outputs": [
    {
     "data": {
      "text/plain": [
       "[('i', 4), ('m', 1), ('p', 2), ('s', 4)]"
      ]
     },
     "execution_count": 51,
     "metadata": {},
     "output_type": "execute_result"
    }
   ],
   "source": [
    "WORD = 'mississippi'\n",
    "d1 = defaultdict(int)\n",
    "for letter in WORD:\n",
    "    d1[letter] += 1\n",
    "\n",
    "sorted(d1.items())"
   ]
  },
  {
   "cell_type": "markdown",
   "metadata": {},
   "source": [
    "When a letter is first encountered, it is missing from the mapping, so the `default_factory` function calls `int()` to supply a default count of zero. The increment operation then builds up the count for each letter.\n",
    "\n",
    "The function `int()` which always returns zero is just a special case of constant functions. A faster and more flexible way to create constant functions is to use a lambda function which can supply any constant value (not just zero):"
   ]
  },
  {
   "cell_type": "code",
   "execution_count": 53,
   "metadata": {},
   "outputs": [
    {
     "data": {
      "text/plain": [
       "[('i', 14), ('m', 11), ('p', 12), ('s', 14)]"
      ]
     },
     "execution_count": 53,
     "metadata": {},
     "output_type": "execute_result"
    }
   ],
   "source": [
    "def constant_factory(value):\n",
    "    return lambda: value\n",
    "\n",
    "d2 = defaultdict(constant_factory(10))\n",
    "for letter in WORD:\n",
    "    d2[letter] += 1\n",
    "    \n",
    "sorted(d2.items()) # 기본 초기값을 10으로 시작했기 때문에..."
   ]
  },
  {
   "cell_type": "code",
   "execution_count": 66,
   "metadata": {},
   "outputs": [
    {
     "name": "stdout",
     "output_type": "stream",
     "text": [
      "John ran to <missing>\n",
      "John ran to <missing>\n"
     ]
    },
    {
     "data": {
      "text/plain": [
       "'John ran to <missing>'"
      ]
     },
     "execution_count": 66,
     "metadata": {},
     "output_type": "execute_result"
    }
   ],
   "source": [
    "d = defaultdict(constant_factory('<missing>'))\n",
    "d.update(name='John', action='ran')\n",
    "\n",
    "print(f'{d[\"name\"]} {d[\"action\"]} to {d[\"default\"]}') # 어떤 키값을 호출하던 없는 키값의 경우 '<missing>'이 할당된다.\n",
    "print(f'{d[\"name\"]} {d[\"action\"]} to {d[\"what?\"]}')\n",
    "'%(name)s %(action)s to %(object)s' % d"
   ]
  },
  {
   "cell_type": "code",
   "execution_count": 67,
   "metadata": {},
   "outputs": [
    {
     "data": {
      "text/plain": [
       "[('blue', {2, 4}), ('red', {1, 3})]"
      ]
     },
     "execution_count": 67,
     "metadata": {},
     "output_type": "execute_result"
    }
   ],
   "source": [
    "s = [('red', 1), ('blue', 2), ('red', 3), ('blue', 4), ('red', 1), ('blue', 4)]\n",
    "d = defaultdict(set)\n",
    "for k, v in s:\n",
    "    d[k].add(v)\n",
    "\n",
    "sorted(d.items())"
   ]
  },
  {
   "cell_type": "markdown",
   "metadata": {},
   "source": [
    "## 2-4. 파이썬 코딩의 기술(Effective python) - BETTER WAY17\n",
    ": 내부 상태에서 원소가 없는 경우를 처리할 때는 `setdefault`보다 `defaultdict`를 사용하라"
   ]
  },
  {
   "cell_type": "markdown",
   "metadata": {},
   "source": [
    "직접 만들지 않은 딕셔너리를 다룰 때 키가 없는 경우를 처리하는 방법에는 여러 가지가 있다(Better way16). `get` 메서드를 사용하는 방법이 `in`과 `KeyError`를 사용하는 방법보다 낫지만, 경우에 따라서는 `setdefault`가 가장 효과적일 수 있다.\n",
    "\n",
    "### setdefault 사용하기\n",
    "#### 예시 : 방문했던 세계 각국의 도시 이름 저장하기"
   ]
  },
  {
   "cell_type": "code",
   "execution_count": 22,
   "metadata": {},
   "outputs": [],
   "source": [
    "visits = {\n",
    "    'USA': {'Newyork', 'LA'},\n",
    "    'Japan': {'Tokyo'},\n",
    "}"
   ]
  },
  {
   "cell_type": "code",
   "execution_count": 23,
   "metadata": {},
   "outputs": [
    {
     "name": "stdout",
     "output_type": "stream",
     "text": [
      "{'USA': {'LA', 'Newyork'}, 'Japan': {'Tokyo'}, 'France': {'Null'}}\n"
     ]
    }
   ],
   "source": [
    "# Way1. setdefault로 추가하기\n",
    "visits.setdefault('France', set()).add('Null')\n",
    "print(visits)"
   ]
  },
  {
   "cell_type": "code",
   "execution_count": 24,
   "metadata": {},
   "outputs": [
    {
     "name": "stdout",
     "output_type": "stream",
     "text": [
      "{'USA': {'LA', 'Newyork'}, 'Japan': {'Tokyo', 'Kyoto'}, 'France': {'Null'}}\n"
     ]
    }
   ],
   "source": [
    "# Way2. get, if 사용하기\n",
    "if (japan := visits.get('Japan')) is None:\n",
    "    visits['Japan'] = japan = set()\n",
    "japan.add('Kyoto')\n",
    "print(visits)"
   ]
  },
  {
   "cell_type": "markdown",
   "metadata": {},
   "source": [
    "### 직접 딕셔너리 생성을 제어하기 \n",
    "#### 예시 : 클래스 내부에서 상태를 유지하기 위해 딕셔너리 인스턴스를 사용할 때\n",
    "다음 코드에서는 앞에서 본 예제를 클래스로 감싸서 딕셔너리에 저장된 동적인 내부 상태에 접근할 수 있는 도우미 메서드를 제공한다."
   ]
  },
  {
   "cell_type": "code",
   "execution_count": 25,
   "metadata": {},
   "outputs": [],
   "source": [
    "class Visits:\n",
    "    def __init__(self):\n",
    "        self.data = {}\n",
    "        \n",
    "    def add(self, country, city):\n",
    "        city_set = self.data.setdefault(country, set())\n",
    "        city_set.add(city)"
   ]
  },
  {
   "cell_type": "code",
   "execution_count": 26,
   "metadata": {},
   "outputs": [
    {
     "name": "stdout",
     "output_type": "stream",
     "text": [
      "{'Russia': {'Moscow'}, 'China': {'Shanghai'}}\n"
     ]
    }
   ],
   "source": [
    "visits = Visits()\n",
    "visits.add('Russia', 'Moscow')\n",
    "visits.add('China', 'Shanghai')\n",
    "print(visits.data)"
   ]
  },
  {
   "cell_type": "markdown",
   "metadata": {},
   "source": [
    "하지만 `Visits.add`메서드 구현은 여전히 이상적이지 않다. `setdefault`라는 메서드 이름은 여전히 헷갈리기 때문에 코드를 처음 읽는 사람은 코드 동작을 바로 이해하기 어렵다.   \n",
    "\n",
    "\n",
    "그리고 주어진 나라가 `data` 딕셔너리에 있든 없든 관계없이 호출할 때마다 새로 `set`인스턴스를 만들기 때문에 이 구현은 효율적이지도 않다.  \n",
    "\n",
    "\n",
    "=> 이런 경우를 위해 `defaultdict`를 사용"
   ]
  },
  {
   "cell_type": "markdown",
   "metadata": {},
   "source": [
    "### `defaultdict`\n",
    "\n",
    "다행히 `collections` 내장 모듈의 `defaultdict` 클래스는 키가 없을 때 자동으로 디폴트 값을 저장해서 이런 문제를 간단히 처리할 수 있게 해준다.   \n",
    "여러분이 해야 할 일은 키가 없을 때 디폴트 값을 만들기 위해 호출할 함수를 설정해주는 것 뿐이다."
   ]
  },
  {
   "cell_type": "code",
   "execution_count": 27,
   "metadata": {},
   "outputs": [],
   "source": [
    "from collections import defaultdict\n",
    "\n",
    "class Visits:\n",
    "    def __init__(self):\n",
    "        self.data = defaultdict(set)\n",
    "        \n",
    "    def add(self, country, city):\n",
    "        self.data[country].add(city)"
   ]
  },
  {
   "cell_type": "code",
   "execution_count": 28,
   "metadata": {},
   "outputs": [
    {
     "name": "stdout",
     "output_type": "stream",
     "text": [
      "defaultdict(<class 'set'>, {'UK': {'London', 'Oxford'}, 'Japan': {'Tokyo'}})\n"
     ]
    }
   ],
   "source": [
    "visits = Visits()\n",
    "visits.add('UK', 'Oxford')\n",
    "visits.add('UK', 'London')\n",
    "visits.add('Japan', 'Tokyo')\n",
    "print(visits.data)"
   ]
  },
  {
   "cell_type": "code",
   "execution_count": null,
   "metadata": {},
   "outputs": [],
   "source": []
  }
 ],
 "metadata": {
  "kernelspec": {
   "display_name": "Python 3.10.5 ('lab')",
   "language": "python",
   "name": "python3"
  },
  "language_info": {
   "codemirror_mode": {
    "name": "ipython",
    "version": 3
   },
   "file_extension": ".py",
   "mimetype": "text/x-python",
   "name": "python",
   "nbconvert_exporter": "python",
   "pygments_lexer": "ipython3",
   "version": "3.10.5"
  },
  "orig_nbformat": 4,
  "vscode": {
   "interpreter": {
    "hash": "9132612d292018844046efb7d61620c385772bf99f2e53a3f7e93381535a3719"
   }
  }
 },
 "nbformat": 4,
 "nbformat_minor": 2
}
