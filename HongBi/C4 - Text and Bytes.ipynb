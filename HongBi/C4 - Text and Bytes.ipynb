{
 "cells": [
  {
   "cell_type": "markdown",
   "metadata": {},
   "source": [
    "# 4. Text and Bytes"
   ]
  },
  {
   "cell_type": "markdown",
   "metadata": {},
   "source": [
    "- Characters and Bytes\n",
    "- bytes, bytearray, memoryview\n",
    "- Codecs for full Unicode and lecacy character sets (Encoders/Decoders)\n",
    "- Unicode Normalization\n",
    "- Sorting Unicode\n",
    "- Unicode Database\n",
    "- Dual-Mode str and bytes APIs"
   ]
  },
  {
   "cell_type": "markdown",
   "metadata": {},
   "source": [
    "## 4.1 Character Issues\n",
    "- 문자열 : sequence of characters\n",
    "- unicode"
   ]
  },
  {
   "cell_type": "code",
   "execution_count": 8,
   "metadata": {},
   "outputs": [
    {
     "name": "stdout",
     "output_type": "stream",
     "text": [
      "4\n",
      "b'caf\\xc3\\xa9' 5\n"
     ]
    },
    {
     "data": {
      "text/plain": [
       "'café'"
      ]
     },
     "execution_count": 8,
     "metadata": {},
     "output_type": "execute_result"
    }
   ],
   "source": [
    "s = 'café'\n",
    "print(len(s))\n",
    "\n",
    "# encoding to byte from code point : str -> bytes\n",
    "b = s.encode('utf8') \n",
    "print(b, len(b))\n",
    "\n",
    "# decoding to code point from byte : bytes -> str\n",
    "b.decode('utf8') \n"
   ]
  },
  {
   "cell_type": "markdown",
   "metadata": {},
   "source": [
    "## 4.2 Byte Essentials(바이트에 대한 기초 지식)"
   ]
  },
  {
   "cell_type": "code",
   "execution_count": 25,
   "metadata": {},
   "outputs": [
    {
     "name": "stdout",
     "output_type": "stream",
     "text": [
      "b'caf\\xc3\\xa9'\n",
      "<class 'bytes'>\n",
      "99\n",
      "b'caf'\n",
      "bytearray(b'caf\\xc3\\xa9')\n",
      "<class 'bytearray'>\n",
      "bytearray(b'\\xa9')\n"
     ]
    }
   ],
   "source": [
    "cafe = bytes('café', encoding='utf-8') # str에 인코딩을 지정해서 bytes 객체 생성\n",
    "print(cafe)\n",
    "print(type(cafe))\n",
    "\n",
    "# bytes 슬라이싱\n",
    "print(cafe[0]) # 각 항목은 range(256)에 속하는 정수 => int 타입 반환\n",
    "print(cafe[:3]) # => 길이가 3인 bytes 객체 반환\n",
    "\n",
    "# bytes 리터럴을 인수로 사용해서 bytearray()를 표현 => 리터럴 구문이란?\n",
    "cafe_arr = bytearray(cafe)\n",
    "print(cafe_arr)\n",
    "print(type(cafe_arr))\n",
    "\n",
    "print(cafe_arr[-1:]) # e에 해당하는 게 슬라이싱 됐음"
   ]
  },
  {
   "cell_type": "code",
   "execution_count": null,
   "metadata": {},
   "outputs": [],
   "source": []
  }
 ],
 "metadata": {
  "kernelspec": {
   "display_name": "Python 3.9.1 64-bit ('3.9.1')",
   "language": "python",
   "name": "python3"
  },
  "language_info": {
   "codemirror_mode": {
    "name": "ipython",
    "version": 3
   },
   "file_extension": ".py",
   "mimetype": "text/x-python",
   "name": "python",
   "nbconvert_exporter": "python",
   "pygments_lexer": "ipython3",
   "version": "3.9.1"
  },
  "orig_nbformat": 4,
  "vscode": {
   "interpreter": {
    "hash": "1688da3634d91066dd3ff12b743053dfee9eea8177f464778dec1bcb0ebd64e6"
   }
  }
 },
 "nbformat": 4,
 "nbformat_minor": 2
}
