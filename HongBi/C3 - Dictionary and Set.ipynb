{
 "cells": [
  {
   "cell_type": "markdown",
   "metadata": {},
   "source": [
    "# C3 - Dictionary and Set\n",
    "## 3.1 일반적인 매핑형"
   ]
  },
  {
   "cell_type": "code",
   "execution_count": 1,
   "metadata": {},
   "outputs": [
    {
     "data": {
      "text/plain": [
       "True"
      ]
     },
     "execution_count": 1,
     "metadata": {},
     "output_type": "execute_result"
    }
   ],
   "source": [
    "my_dict = {}\n",
    "import collections\n",
    "isinstance(my_dict, collections.abc.Mapping) "
   ]
  },
  {
   "cell_type": "markdown",
   "metadata": {},
   "source": [
    "표준 라이브러리에서 제공하는 매핑형들은 모두 `dict`을 이용해서 구현하므로, 키가 hashable해야한다. \n",
    "> What is hashable?  \n",
    "> 변하지 않는 고유한 해시값을 갖고 있고(`__hash__()` 메서드),   \n",
    "> 다른 객체와 비교할 수 있으면(`__eq__() `메서드)  \n",
    "> => 이런 객체를 hashable하다고 한다.   \n",
    "> 동일하다고 판단되는 객체는 반드시 해시값이 동일해야 한다."
   ]
  },
  {
   "cell_type": "markdown",
   "metadata": {},
   "source": [
    "### hashtable : key에 value를 저장하는 구조\n",
    "#### 파이썬 dict 해쉬 테이블의 예\n",
    "키 값의 연산 결과에 따라 직접 접근이 가능한 구조!  \n",
    "key값을 해싱 함수 -> 해쉬 주소 -> key에 대한 value 참조"
   ]
  },
  {
   "cell_type": "code",
   "execution_count": 5,
   "metadata": {},
   "outputs": [
    {
     "name": "stdout",
     "output_type": "stream",
     "text": [
      "-3907003130834322577\n"
     ]
    },
    {
     "ename": "TypeError",
     "evalue": "unhashable type: 'list'",
     "output_type": "error",
     "traceback": [
      "\u001b[0;31m---------------------------------------------------------------------------\u001b[0m",
      "\u001b[0;31mTypeError\u001b[0m                                 Traceback (most recent call last)",
      "\u001b[1;32m/Users/hongb/Dropbox/github/fluent_python/HongBi/C3 - Dictionary and Set.ipynb 셀 5\u001b[0m in \u001b[0;36m<cell line: 5>\u001b[0;34m()\u001b[0m\n\u001b[1;32m      <a href='vscode-notebook-cell:/Users/hongb/Dropbox/github/fluent_python/HongBi/C3%20-%20Dictionary%20and%20Set.ipynb#ch0000004?line=2'>3</a>\u001b[0m t2 \u001b[39m=\u001b[39m (\u001b[39m1\u001b[39m, \u001b[39m2\u001b[39m, [\u001b[39m30\u001b[39m, \u001b[39m40\u001b[39m])\n\u001b[1;32m      <a href='vscode-notebook-cell:/Users/hongb/Dropbox/github/fluent_python/HongBi/C3%20-%20Dictionary%20and%20Set.ipynb#ch0000004?line=3'>4</a>\u001b[0m \u001b[39mprint\u001b[39m(\u001b[39mhash\u001b[39m(t1))\n\u001b[0;32m----> <a href='vscode-notebook-cell:/Users/hongb/Dropbox/github/fluent_python/HongBi/C3%20-%20Dictionary%20and%20Set.ipynb#ch0000004?line=4'>5</a>\u001b[0m \u001b[39mprint\u001b[39m(\u001b[39mhash\u001b[39;49m(t2))\n",
      "\u001b[0;31mTypeError\u001b[0m: unhashable type: 'list'"
     ]
    }
   ],
   "source": [
    "# Hash 값 확인 : 확인할 수 있다는 것은 고유하다는 뜻임\n",
    "t1 = (1, 2, (30, 40))\n",
    "t2 = (1, 2, [30, 40])\n",
    "print(hash(t1))\n",
    "print(hash(t2)) # 이건 에러가 뜸. list는 unhashable type : 리스트는 값을 수정할 수 있는 mutable type이기 때문에 hash값이 없어서 hash함수를 사용할 수 없음"
   ]
  },
  {
   "cell_type": "code",
   "execution_count": 7,
   "metadata": {},
   "outputs": [
    {
     "data": {
      "text/plain": [
       "True"
      ]
     },
     "execution_count": 7,
     "metadata": {},
     "output_type": "execute_result"
    }
   ],
   "source": [
    "# dict를 구현하는 다양한 방법\n",
    "a = dict(one=1, two=2, three=3)\n",
    "b = {'one': 1, 'two': 2, 'three': 3}\n",
    "c = dict(zip(['one', 'two', 'three'], [1, 2, 3])) # 이거 유용해보임\n",
    "d = dict([('two', 2), ('one', 1), ('three', 3)])\n",
    "e = dict({'three': 3, 'one': 1, 'two': 2})\n",
    "a == b == c == d == e "
   ]
  },
  {
   "cell_type": "markdown",
   "metadata": {},
   "source": [
    "## 3.2 지능형 딕셔너리\n",
    "지능형 리스트, 제네레이터 표현식 => 지능형 딕셔너리에 적용 ! "
   ]
  },
  {
   "cell_type": "code",
   "execution_count": 19,
   "metadata": {},
   "outputs": [],
   "source": [
    "# 3-1\n",
    "DIAL_CODES = [\n",
    "    (86, 'China'),\n",
    "    (91, 'India'),\n",
    "    (1, 'United States'),\n",
    "    (62, 'Indonesia'),\n",
    "    (55, 'Brazil'),\n",
    "    (92, 'Pakistan'),\n",
    "    (880, 'Bangladesh'),\n",
    "    (234, 'Nigeria'),\n",
    "    (7, 'Russia'),\n",
    "    (81, 'Japan')\n",
    "]\n",
    "\n",
    "country_code = {country: code for code, country in DIAL_CODES}"
   ]
  },
  {
   "cell_type": "code",
   "execution_count": 18,
   "metadata": {},
   "outputs": [],
   "source": [
    "DIAL_CODES2 = zip([86, 91, 1, 62, 55, 92, 880, 234, 7, 81], ['China', 'India', 'United States', 'Indonesia', 'Brazil', 'Pakistan', 'Bangladesh', 'Nigeria', 'Russia', 'Japan',])\n",
    "country_code2 = {country: code for code, country in DIAL_CODES2}"
   ]
  },
  {
   "cell_type": "code",
   "execution_count": 20,
   "metadata": {},
   "outputs": [
    {
     "data": {
      "text/plain": [
       "True"
      ]
     },
     "execution_count": 20,
     "metadata": {},
     "output_type": "execute_result"
    }
   ],
   "source": [
    "country_code == country_code2"
   ]
  },
  {
   "cell_type": "code",
   "execution_count": 24,
   "metadata": {},
   "outputs": [
    {
     "data": {
      "text/plain": [
       "{1: 'UNITED STATES', 62: 'INDONESIA', 55: 'BRAZIL', 7: 'RUSSIA'}"
      ]
     },
     "execution_count": 24,
     "metadata": {},
     "output_type": "execute_result"
    }
   ],
   "source": [
    "country_code3 = {code: country.upper() for country, code in country_code.items() if code < 70}\n",
    "country_code3"
   ]
  },
  {
   "cell_type": "markdown",
   "metadata": {},
   "source": [
    "## 3.3 공통적인 매핑 메서드\n",
    "`d.update(m, [**kargs]` 메서드는 (키, 값) 쌍의 매핑이나 반복형 객체에서 가져온 항목들로 d를 갱신한다. 이 메서드가 첫 번째 인수 m을 다루는 방식은 덕 타이핑(duck typing)의 대표적인 사례이다.\n",
    "1. 먼저 m이 `keys()` 메서드를 갖고 있으면 매핑이라고 간주한다.\n",
    "2. 메서드가 없으면 `update()` 메서드는 m의 항목들이 (키, 값) 쌍으로 되어 있다고 간주하고 m을 반복한다."
   ]
  },
  {
   "cell_type": "code",
   "execution_count": 25,
   "metadata": {},
   "outputs": [
    {
     "name": "stdout",
     "output_type": "stream",
     "text": [
      "꽥~!\n",
      "오리는 흰색과 회색 털을 가지고 있습니다.\n",
      "사람은 오리를 흉내냅니다. 꽥~!\n",
      "사람은 땅에서 깃털을 주워서 보여줍니다.\n"
     ]
    }
   ],
   "source": [
    "# 덕타이핑 예제\n",
    "class Duck:                 # 오리 클래스를 만들고 quack과 feathers 메서드 정의\n",
    "    def quack(self): print('꽥~!')\n",
    "    def feathers(self): print('오리는 흰색과 회색 털을 가지고 있습니다.')\n",
    "\n",
    "class Person:               # 사람 클래스를 만들고 quack과 feathers 메서드 정의\n",
    "    def quack(self): print('사람은 오리를 흉내냅니다. 꽥~!')\n",
    "    def feathers(self): print('사람은 땅에서 깃털을 주워서 보여줍니다.')\n",
    "\n",
    "def in_the_forest(duck):    # 덕 타이핑을 사용하는 함수. 클래스의 종류는 상관하지 않음\n",
    "    duck.quack()            # quack 메서드와\n",
    "    duck.feathers()         # feathers 메서드만 있으면 함수를 호출할 수 있음\n",
    "\n",
    "donald = Duck()             # 오리 클래스로 donald 인스턴스를 만듦\n",
    "james = Person()            # 사람 클래스로 james 인스턴스를 만듦\n",
    "in_the_forest(donald)       # in_the_forest에 오리 클래스의 인스턴스 donald를 넣음\n",
    "in_the_forest(james)        # in_the_forest에 사람 클래스의 인스턴스 james를 넣음"
   ]
  },
  {
   "cell_type": "markdown",
   "metadata": {},
   "source": [
    "### 3.3.1 존재하지 않는 키를 `setdefault()`로 처리하기\n",
    "조기실패(fail-fast) 철학에 따라, 존재하지 않는 키 k로 `d[k]`를 접근하면 dict는 오류를 발생시킨다.  \n",
    "KeyError를 처리하는 것보다 기본값을 사용하는 것이 더 편리한 경우에는 "
   ]
  },
  {
   "cell_type": "code",
   "execution_count": 26,
   "metadata": {},
   "outputs": [
    {
     "name": "stdout",
     "output_type": "stream",
     "text": [
      "{'k1': ['val1', 'val2'], 'k2': ['val3', 'val4', 'val5']}\n",
      "{'k1': ['val1', 'val2'], 'k2': ['val3', 'val4', 'val5']}\n"
     ]
    }
   ],
   "source": [
    "# Dic Setdefault 예제 : 튜플에서 딕셔너리 만들 때 속도도 빠르고 대용량데이터 처리에서 좋음\n",
    "source = (('k1', 'val1'),\n",
    "            ('k1', 'val2'),\n",
    "            ('k2', 'val3'),\n",
    "            ('k2', 'val4'),\n",
    "            ('k2', 'val5'))\n",
    "\n",
    "new_dict1 = {}\n",
    "new_dict2 = {}\n",
    "\n",
    "# No use Setdefault\n",
    "for k, v in source:\n",
    "    if k in new_dict1:\n",
    "        new_dict1[k].append(v)\n",
    "    else:\n",
    "        new_dict1[k] = [v]\n",
    "        \n",
    "print(new_dict1)\n",
    "\n",
    "# Use Setdefault\n",
    "for k, v in source:\n",
    "    new_dict2.setdefault(k, []).append(v)\n",
    "    \n",
    "print(new_dict2)\n",
    "\n",
    "# # 주의 \n",
    "# new_dict3 = {k: v for k, v in source}\n",
    "# print(new_dict3)"
   ]
  },
  {
   "cell_type": "markdown",
   "metadata": {},
   "source": [
    "## 3.4 융퉁성 있게 키를 조회하는 매핑 \n",
    "1. dict대신 defaultdict 사용\n",
    "2. dict 등의 매핑형을 상속해서 `__missing__()` 메서드를 추가하는 방법"
   ]
  },
  {
   "cell_type": "code",
   "execution_count": null,
   "metadata": {},
   "outputs": [],
   "source": []
  }
 ],
 "metadata": {
  "kernelspec": {
   "display_name": "Python 3.9.1 64-bit ('3.9.1')",
   "language": "python",
   "name": "python3"
  },
  "language_info": {
   "codemirror_mode": {
    "name": "ipython",
    "version": 3
   },
   "file_extension": ".py",
   "mimetype": "text/x-python",
   "name": "python",
   "nbconvert_exporter": "python",
   "pygments_lexer": "ipython3",
   "version": "3.9.1"
  },
  "orig_nbformat": 4,
  "vscode": {
   "interpreter": {
    "hash": "1688da3634d91066dd3ff12b743053dfee9eea8177f464778dec1bcb0ebd64e6"
   }
  }
 },
 "nbformat": 4,
 "nbformat_minor": 2
}
