{
 "cells": [
  {
   "cell_type": "markdown",
   "metadata": {},
   "source": [
    "# C5 - 일급 함수(일급 객체)\n",
    "## 5.1 함수를 객체처럼 다루기\n",
    "### 파이썬 함수의 특징\n",
    "\n",
    "1. 런타임 초기화(실행 시점에 초기화가 된다)\n",
    "2. 변수나 요소에 할당 가능\n",
    "3. 함수의 인수 전달 가능\n",
    "4. 함수를 결과로 반환 가능(return)\n",
    "\n",
    "### 익명함수(Lambda)\n",
    "- 가급적 주석 작성, 가급적 함수 작성, 일반 함수 형태로 리팩토링 권장\n",
    "  \n",
    "### `Callable`설명\n",
    "- 호출 가능한 지 보는 것\n",
    "\n",
    "### `Partial` 사용법\n",
    "- 인수 고정, 캡슐화 가능(나는 다 만들어놨으니 너는 호출만 하면 되도 가능)"
   ]
  },
  {
   "cell_type": "code",
   "execution_count": 18,
   "metadata": {},
   "outputs": [],
   "source": [
    "# 5-1. 함수를 객체처럼 다루기\n",
    "def factorial(n): # 함수에서 함수를 계속 호출하는 재귀 함수\n",
    "    # 1) 지금 콘솔 세션에 있으므로, 함수를 '런타임'에 만들고 있는 것이다.\n",
    "    '''Factorial Function => n: int'''\n",
    "    if n == 1: \n",
    "        return 1\n",
    "    return n * factorial(n-1)\n",
    "    \n",
    "class A:\n",
    "    pass    "
   ]
  },
  {
   "cell_type": "code",
   "execution_count": 19,
   "metadata": {},
   "outputs": [
    {
     "name": "stdout",
     "output_type": "stream",
     "text": [
      "120\n",
      "Factorial Function => n: int\n",
      "<class 'function'> <class 'type'>\n",
      "\n",
      "{'__get__', '__call__', '__name__', '__annotations__', '__code__', '__qualname__', '__defaults__', '__closure__', '__globals__', '__kwdefaults__'}\n",
      "factorial\n",
      "\n",
      "<code object factorial at 0x11721d3a0, file \"/var/folders/0g/gwx4n2qn4hgd1lx3_hf50ffr0000gn/T/ipykernel_52412/4163728321.py\", line 2>\n"
     ]
    }
   ],
   "source": [
    "print(factorial(5))\n",
    "print(factorial.__doc__) # 2) __doc__는 함수 객체의 여러 속성 중 하나\n",
    "print(type(factorial), type(A))\n",
    "dir_factorial = dir(factorial)\n",
    "dir_A = dir(A)\n",
    "print()\n",
    "print(set(sorted(dir_factorial)) - set(sorted(dir_A))) # 함수가 갖고 있는 속성만 나옴\n",
    "print(factorial.__name__)\n",
    "print()\n",
    "print(factorial.__code__) # 파일 위치와 코드 내용도 볼 수 있음"
   ]
  },
  {
   "cell_type": "code",
   "execution_count": 20,
   "metadata": {},
   "outputs": [
    {
     "name": "stdout",
     "output_type": "stream",
     "text": [
      "<function factorial at 0x11726bdc0>\n",
      "3628800\n",
      "<map object at 0x10689efd0>\n",
      "[1, 2, 6, 24, 120, 720, 5040, 40320, 362880, 3628800]\n"
     ]
    }
   ],
   "source": [
    "# ex5-2. 함수를 변수에 할당하기\n",
    "fact = factorial\n",
    "print(fact)\n",
    "print(fact(10))\n",
    "print(map(fact, range(1, 11)))\n",
    "print(list(map(fact, range(1, 11))))"
   ]
  },
  {
   "cell_type": "markdown",
   "metadata": {},
   "source": [
    "## 5.2 고위 함수(Higher-order function)\n",
    "함수를 **인수로 받거나**, 함수를 **결과로 반환**하는 함수   \n",
    "- 예1: `map()`은 첫번째 parameter가 함수임\n",
    "- 예2: `sorted()` 의 내장 함수도 일급 함수의 예\n"
   ]
  },
  {
   "cell_type": "code",
   "execution_count": 21,
   "metadata": {},
   "outputs": [
    {
     "data": {
      "text/plain": [
       "['fig', 'apple', 'banna', 'cherry', 'rasberry', 'strawberry']"
      ]
     },
     "execution_count": 21,
     "metadata": {},
     "output_type": "execute_result"
    }
   ],
   "source": [
    "# ex5-3. 단어 리스트를 길이에 따라 정렬하기 - sorted()의 예\n",
    "fruits = ['strawberry', 'fig', 'apple', 'cherry', 'rasberry', 'banna']\n",
    "sorted(fruits, key=len) # sorted의 key 파라미터의 인수로 함수를 받고 있음 -> 일급 함수"
   ]
  },
  {
   "cell_type": "code",
   "execution_count": 22,
   "metadata": {},
   "outputs": [
    {
     "name": "stdout",
     "output_type": "stream",
     "text": [
      "reverse 함수 작동 방식 예 - reverse(\"testing\") =>  gnitset\n"
     ]
    },
    {
     "data": {
      "text/plain": [
       "['banna', 'apple', 'fig', 'rasberry', 'strawberry', 'cherry']"
      ]
     },
     "execution_count": 22,
     "metadata": {},
     "output_type": "execute_result"
    }
   ],
   "source": [
    "# ex5-4. ex5-3 파생\n",
    "def reverse(word):\n",
    "    return word[::-1]\n",
    "print('reverse 함수 작동 방식 예 - reverse(\"testing\") => ',reverse('testing'))\n",
    "sorted(fruits, key=reverse)"
   ]
  },
  {
   "cell_type": "markdown",
   "metadata": {},
   "source": [
    "### 5.2.1 `map()`, `filter()`, `reduce()`의 대안"
   ]
  },
  {
   "cell_type": "code",
   "execution_count": 23,
   "metadata": {},
   "outputs": [
    {
     "name": "stdout",
     "output_type": "stream",
     "text": [
      "[1, 2, 6, 24, 120]\n",
      "[1, 2, 6, 24, 120]\n"
     ]
    }
   ],
   "source": [
    "print(list(map(fact, range(1, 6))))\n",
    "print([fact(i) for i in range(1, 6)])"
   ]
  },
  {
   "cell_type": "code",
   "execution_count": 24,
   "metadata": {},
   "outputs": [
    {
     "name": "stdout",
     "output_type": "stream",
     "text": [
      "[1, 6, 120]\n",
      "[1, 6, 120]\n"
     ]
    }
   ],
   "source": [
    "print([fact(i) for i in range(1, 6) if i%2])\n",
    "print(list(map(fact, filter(lambda x: x % 2, range(1, 6)))))"
   ]
  },
  {
   "cell_type": "code",
   "execution_count": 25,
   "metadata": {},
   "outputs": [
    {
     "name": "stdout",
     "output_type": "stream",
     "text": [
      "55\n",
      "55\n",
      "55\n"
     ]
    }
   ],
   "source": [
    "# reduce\n",
    "from functools import reduce\n",
    "from operator import add\n",
    "print(reduce(add, range(1,11))) # 감소시키면서 누적\n",
    "print(reduce(add, [1,2,3,4,5,6,7,8,9,10])) # 감소시키면서 누적 => 인수 하나하나를 지워가면서 누적하면서 더해가는 함수\n",
    "print(sum(range(1,11)))"
   ]
  },
  {
   "cell_type": "code",
   "execution_count": 26,
   "metadata": {},
   "outputs": [
    {
     "data": {
      "text/plain": [
       "['banana', 'apple', 'fig', 'raspberry', 'strawberry', 'cherry']"
      ]
     },
     "execution_count": 26,
     "metadata": {},
     "output_type": "execute_result"
    }
   ],
   "source": [
    "# 5-7\n",
    "fruits = ['strawberry', 'fig', 'apple', 'cherry', 'raspberry', 'banana']\n",
    "sorted(fruits, key=lambda word: word[::-1])"
   ]
  },
  {
   "cell_type": "code",
   "execution_count": 27,
   "metadata": {},
   "outputs": [
    {
     "name": "stdout",
     "output_type": "stream",
     "text": [
      "[<class 'map'>]\n"
     ]
    }
   ],
   "source": [
    "print([map])"
   ]
  },
  {
   "cell_type": "code",
   "execution_count": 28,
   "metadata": {},
   "outputs": [
    {
     "data": {
      "text/plain": [
       "(<function abs(x, /)>, str, 13)"
      ]
     },
     "execution_count": 28,
     "metadata": {},
     "output_type": "execute_result"
    }
   ],
   "source": [
    "abs, str, 13"
   ]
  },
  {
   "cell_type": "code",
   "execution_count": 29,
   "metadata": {},
   "outputs": [
    {
     "data": {
      "text/plain": [
       "[True, True, False]"
      ]
     },
     "execution_count": 29,
     "metadata": {},
     "output_type": "execute_result"
    }
   ],
   "source": [
    "[callable(obj) for obj in (abs, str, 13)]"
   ]
  },
  {
   "cell_type": "markdown",
   "metadata": {},
   "source": []
  },
  {
   "cell_type": "markdown",
   "metadata": {},
   "source": [
    "## 5.3 익명 함수"
   ]
  },
  {
   "cell_type": "markdown",
   "metadata": {},
   "source": []
  },
  {
   "cell_type": "markdown",
   "metadata": {},
   "source": [
    "## 5.5 사용자 정의 콜러블형\n",
    "모든 파이썬 객체가 함수처럼 동작하게 만들 수 있다.\n",
    "- `__call__()`"
   ]
  },
  {
   "cell_type": "code",
   "execution_count": 30,
   "metadata": {},
   "outputs": [],
   "source": [
    "# Ex 5-8. bingocall.py\n",
    "\n",
    "import random\n",
    "\n",
    "class BingoCage:\n",
    "    def __init__(self, items):\n",
    "        self._items = list(items)\n",
    "        random.shuffle(self._items)\n",
    "    \n",
    "    def pick(self):\n",
    "        try:\n",
    "            return self._items.pop()\n",
    "            \n",
    "        except IndexError:\n",
    "            raise LookupError('pick from empty BingoCage')\n",
    "            \n",
    "    def __call__(self):\n",
    "        return self.pick() # BingoCage를 부르면 pick()이 실행되는 것\n",
    "    @property        \n",
    "    def items(self):\n",
    "        return self._items"
   ]
  },
  {
   "cell_type": "code",
   "execution_count": 31,
   "metadata": {},
   "outputs": [
    {
     "name": "stdout",
     "output_type": "stream",
     "text": [
      "2\n",
      "[1, 0]\n",
      "0\n",
      "[1]\n",
      "1\n",
      "[]\n"
     ]
    },
    {
     "data": {
      "text/plain": [
       "True"
      ]
     },
     "execution_count": 31,
     "metadata": {},
     "output_type": "execute_result"
    }
   ],
   "source": [
    "bingo = BingoCage(range(3)) # init함수가 실행되면서 (0, 1, 2)가 self._items에 들어가고, shuffle됨\n",
    "for i in range(3):\n",
    "    print(bingo())\n",
    "    print(bingo.items)\n",
    "    \n",
    "callable(bingo)"
   ]
  },
  {
   "cell_type": "markdown",
   "metadata": {},
   "source": [
    "## 5.6 함수 인트로스펙션\n",
    "이 절에서는 함수를 객체로 다루는 것과 관련된 속성들을 살펴본다.\n",
    "먼저 `__dict__`속성을 살펴보자"
   ]
  },
  {
   "cell_type": "code",
   "execution_count": 33,
   "metadata": {},
   "outputs": [
    {
     "name": "stdout",
     "output_type": "stream",
     "text": [
      "['__annotations__', '__call__', '__class__', '__closure__', '__code__', '__defaults__', '__delattr__', '__dict__', '__dir__', '__doc__', '__eq__', '__format__', '__ge__', '__get__', '__getattribute__', '__globals__', '__gt__', '__hash__', '__init__', '__init_subclass__', '__kwdefaults__', '__le__', '__lt__', '__module__', '__name__', '__ne__', '__new__', '__qualname__', '__reduce__', '__reduce_ex__', '__repr__', '__setattr__', '__sizeof__', '__str__', '__subclasshook__']\n"
     ]
    }
   ],
   "source": [
    "print(dir(factorial))"
   ]
  },
  {
   "cell_type": "code",
   "execution_count": 34,
   "metadata": {},
   "outputs": [],
   "source": [
    "# __dict__ : 함수는 이 속성을 이용해서 객체에 할당된 사용자 속성을 보관한다. \n",
    "def upper_case_name(obj):\n",
    "    return ('{} {}'.format(obj.first_name, obj.last_name)).upper()\n",
    "upper_case_name.short_description = 'HB_made' # 이게 뭘 하는 걸까요?"
   ]
  },
  {
   "cell_type": "code",
   "execution_count": 37,
   "metadata": {},
   "outputs": [
    {
     "name": "stdout",
     "output_type": "stream",
     "text": [
      "['__annotations__', '__call__', '__closure__', '__code__', '__defaults__', '__get__', '__globals__', '__kwdefaults__', '__name__', '__qualname__']\n"
     ]
    }
   ],
   "source": [
    "# Ex 5-9.\n",
    "class C: pass\n",
    "obj = C() # 클래스 객체 생성\n",
    "def func(): pass # 함수 생성\n",
    "print(sorted(set(dir(func)) - set(dir(obj)))) # 함수가 가진 속성 - 클래스의 인스턴스가 가진 속성"
   ]
  },
  {
   "cell_type": "code",
   "execution_count": null,
   "metadata": {},
   "outputs": [],
   "source": [
    "# __annotations__ (dict): 매개변수 및 반환값에 대한 주석\n",
    "# __call__ (메서드-래퍼): 콜러블 객체 프로토콜에 따른 () 연산자 구현\n",
    "# __closure__ (tuple): 자유 변수 등 함수 클로저(None인 경우가 종종 있다)\n",
    "# __code__ (code): 바이트코드로 컴파일된 함수 메타데이터 및 함수 본체\n",
    "# __defaults__ (tuple): 형식 매개변수의 기본값\n",
    "# __get__ (메서드-래퍼): 읽기 전용 디스크립터 프로토콜 구현(20장 참조)\n",
    "# __globals__ (dict): 함수가 정의된 모듈의 전역 변수\n",
    "# __kwdefaults__ (dict): 키워드 전용 형식 매개변수의 기본값\n",
    "# __name__ (str): 함수명\n",
    "# __qualname__ (str): random.choice()와 같은 전체 함수 명칭 "
   ]
  },
  {
   "cell_type": "markdown",
   "metadata": {},
   "source": [
    "## 5.7 위치 매개변수에서 키워드 전용 매개변수까지\n",
    "키워드 전용 인수(keyword-only argument)를 이용한 매개변수 처리 메커니즘은 매우 좋음 <br>\n",
    "함수를 호출할 때 반복 가능 객체나 매핑형을 별도의 인수로 '폭발' 시키는 *와 ** 기호도 이 메커니즘과 연관. <br>"
   ]
  },
  {
   "cell_type": "code",
   "execution_count": 21,
   "metadata": {},
   "outputs": [],
   "source": [
    "# Ex 5-10\n",
    "def tag(name, *content, cls=None, **attrs):\n",
    "    \"\"\"하나 이상의 HTML 태그를 생성한다.\"\"\"\n",
    "    if cls is not None:\n",
    "        attrs['class'] = cls\n",
    "    if attrs:\n",
    "        attr_str = ''.join(' {}=\"{}\"'.format(attr, value)\n",
    "                            for attr, value\n",
    "                            in sorted(attrs.items()))\n",
    "    else:\n",
    "        attr_str = ''\n",
    "    if content:\n",
    "        return '\\n'.join('<name:{}  |  attr_str: {}>  |  content: {}  |  name: </{}>'.format(name, attr_str, c, name) for c in content)\n",
    "    else:\n",
    "        return '<name:{}  |  attr_str: {} />'.format(name, attr_str)"
   ]
  },
  {
   "cell_type": "code",
   "execution_count": 22,
   "metadata": {},
   "outputs": [
    {
     "name": "stdout",
     "output_type": "stream",
     "text": [
      "1 <name:br  |  attr_str:  />\n",
      "2 <name:p  |  attr_str: >  |  content: hello  |  name: </p>\n",
      "3 <name:p  |  attr_str: >  |  content: hello  |  name: </p>\n",
      "<name:p  |  attr_str: >  |  content: world  |  name: </p>\n",
      "4 <name:p  |  attr_str:  id=\"33\">  |  content: hello  |  name: </p>\n",
      "5 <name:p  |  attr_str:  class=\"sidebar\">  |  content: hello  |  name: </p>\n",
      "<name:p  |  attr_str:  class=\"sidebar\">  |  content: world  |  name: </p>\n",
      "6 <name:img  |  attr_str:  content=\"testing\" />\n",
      "7 <name:img  |  attr_str:  class=\"framed\" src=\"sunset.jpg\" title=\"Sunset Boulevard\" />\n"
     ]
    }
   ],
   "source": [
    "print(1, tag('br')) # name만 받음\n",
    "print(2, tag('p', 'hello')) # 첫번째 이후의 인수들은 모두 *content 매개변수에 튜플로 전달된다.\n",
    "print(3, tag('p', 'hello', 'world')) \n",
    "\n",
    "# 3. tag 시그니처에 명시적으로 이름이 지정되지 않은 인수들은 딕셔너리로 **attrs 인수에 전달된다.\n",
    "print(4, tag('p', 'hello', id=33))\n",
    "\n",
    "# 4. cls 매개변수만 키워드 인수로 전달된다.\n",
    "print(5, tag('p', 'hello', 'world', cls='sidebar')) \n",
    "\n",
    "# 5. 첫 번째 위치 인수도 tag가 호출되면 키워드로 전달할 수 있다.\n",
    "print(6, tag(content='testing', name='img'))\n",
    "\n",
    "# 6. my_tag 딕셔너리 앞에 **를 붙이면 딕셔너리 안의 모든 항목을 별도의 인수로 전달하고, 명명된 매개변수 및 나머지는 **attrs에 전달된다.\n",
    "my_tag = {'name':'img', 'title':'Sunset Boulevard',\n",
    "         'src':'sunset.jpg', 'cls':'framed'}\n",
    "print(7, tag(**my_tag))\n"
   ]
  },
  {
   "cell_type": "markdown",
   "metadata": {},
   "source": [
    "# 5-8 매개변수에 대한 정보 읽기"
   ]
  },
  {
   "cell_type": "code",
   "execution_count": 23,
   "metadata": {},
   "outputs": [],
   "source": [
    "# Ex 5-15\n",
    "def clip(text, max_len=80, t=30, k=None):\n",
    "    \"\"\"max_len 앞이나 뒤의 마지막 공백에서 잘라낸 텍스트를 반환한다.\n",
    "    \"\"\"\n",
    "    end = None\n",
    "    if len(text) > max_len:\n",
    "        space_before = text.rfind(' ', 0, max_len)\n",
    "        if space_before >= 0:\n",
    "            end = space_before\n",
    "        else:\n",
    "            space_after = text.rfind(' ', max_len)\n",
    "            if space_after >= 0:\n",
    "                end = space_after\n",
    "    if end is None:\n",
    "        end = len(text)\n",
    "    return text[:end].rstrip()"
   ]
  },
  {
   "cell_type": "code",
   "execution_count": 24,
   "metadata": {},
   "outputs": [
    {
     "name": "stdout",
     "output_type": "stream",
     "text": [
      "(80, 30, None)\n",
      "<code object clip at 0x10447e920, file \"/var/folders/0g/gwx4n2qn4hgd1lx3_hf50ffr0000gn/T/ipykernel_52879/3713683866.py\", line 2>\n",
      "('text', 'max_len', 't', 'k', 'end', 'space_before', 'space_after')\n",
      "4\n"
     ]
    }
   ],
   "source": [
    "print(clip.__defaults__)\n",
    "print(clip.__code__) #  파일 위치와 코드 내용도 볼 수 있음\n",
    "print(clip.__code__.co_varnames) # 인수명 및 함수 내의 지역 변수명도 포함되어 있명\n",
    "print(clip.__code__.co_argcount) # 앞에서 이 개수만큼이 인수명\n",
    "\n",
    "## => 결론 보기 안 좋음"
   ]
  },
  {
   "cell_type": "code",
   "execution_count": 25,
   "metadata": {},
   "outputs": [
    {
     "name": "stdout",
     "output_type": "stream",
     "text": [
      "<bound method Signature.__repr__ of <Signature (text, max_len=80, t=30, k=None)>>\n",
      "(text, max_len=80, t=30, k=None)\n",
      "POSITIONAL_OR_KEYWORD : text = <class 'inspect._empty'>\n",
      "POSITIONAL_OR_KEYWORD : max_len = 80\n",
      "POSITIONAL_OR_KEYWORD : t = 30\n",
      "POSITIONAL_OR_KEYWORD : k = None\n"
     ]
    }
   ],
   "source": [
    "# Ex 5-17. 함수 시그니처 추출하기\n",
    "from inspect import signature\n",
    "sig = signature(clip) # inspect.signature(): inspect.Signature의 인스턴스를 반환\n",
    "print(sig.__repr__)\n",
    "print(str(sig))\n",
    "for name, param in sig.parameters.items(): # parameters 속성을 이용해서 정렬된 inspect.Parameter 객체를 읽을 수 있다. \n",
    "    print('{} : {} = {}'.format(param.kind, name, param.default)) # 각 Parameter 객체 안에는 name, default, kind 등의 속성이 들어있다.\n",
    "\n",
    "# inspect._empty: 매개변수에 기본값이 없음을 나타냄"
   ]
  },
  {
   "cell_type": "markdown",
   "metadata": {},
   "source": [
    "#### `inspect.signature()` 활용\n",
    "- => `inspect.Signature` 객체를 반환함\n",
    "  - 객체 내 parameters 속성을 이용해서 -> 정렬된 `inspect.Parameter` 객체를 읽을 수 있음.\n",
    "   - `signature.parameters.items()` 실행 결과\n",
    "     - => `name`, `default`, `kind` 등의 속성이 있음\n",
    "     - `kind` 속성은 `_ParameterKind` 클래스에 정의된 다음 다섯 가지 값 중 하나를 가진다.\n",
    "        1. `POSITINAL_OR_KEYWORD`: 위치 인수나 키워드 인수로 전달할 수 있는 매개변수 (파이썬 함수 매개변수 대부분)\n",
    "        2. `VAR_POSITIONAL`: 위치 매개변수의 튜플\n",
    "        3. `VAR_KEYWORD`: 키워드 매개변수의 딕셔너리\n",
    "        4. `KEYWORD_ONLY`: 키워드 전용 매개변수\n",
    "        5. `POSITIONAL_ONLY`: 위치 전용 매개변수\n",
    "\n",
    "- `name`, `default`, `kind` 외에 `inspect.Parameter` 객체에는 `annotation` 속성이 있다. 이 속성은 일반적으로 `inspect._empty` 지만 새로운 annotation 구문을 통해 제공된 함수 시그니처 메타데이터가 들어갈 수 있다.\n",
    "- `inspect.Signature.bind()` 메서드: 임의 개수의 인수를 받고, 인수를 매개변수에 대응시키는 일반적인 규칙을"
   ]
  },
  {
   "cell_type": "code",
   "execution_count": 34,
   "metadata": {},
   "outputs": [
    {
     "name": "stdout",
     "output_type": "stream",
     "text": [
      "(name, *content, cls=None, **attrs)\n",
      "*\n",
      "POSITIONAL_OR_KEYWORD : name = <class 'inspect._empty'>\n",
      "VAR_POSITIONAL : content = <class 'inspect._empty'>\n",
      "KEYWORD_ONLY : cls = None\n",
      "VAR_KEYWORD : attrs = <class 'inspect._empty'>\n",
      "*\n",
      "<BoundArguments (name='img', cls='framed', attrs={'title': 'Sunset Boulevard', 'src': 'sunset.jpg'})>\n",
      "*\n",
      "name = img\n",
      "cls = framed\n",
      "attrs = {'title': 'Sunset Boulevard', 'src': 'sunset.jpg'}\n",
      "*\n"
     ]
    }
   ],
   "source": [
    "# Ex 5-18.\n",
    "import inspect\n",
    "sig = inspect.signature(tag) # 1.\n",
    "print(sig)\n",
    "print('*')\n",
    "\n",
    "for name, param in sig.parameters.items():\n",
    "    print('{} : {} = {}'.format(param.kind, name, param.default))\n",
    "print('*')\n",
    "\n",
    "my_tag = {'name':'img', 'title':'Sunset Boulevard',\n",
    "         'src':'sunset.jpg', 'cls':'framed'}\n",
    "bound_args = sig.bind(**my_tag) # 2.\n",
    "print(bound_args)\n",
    "print('*')\n",
    "for name, value in bound_args.arguments.items(): # 4\n",
    "    print(f'{name} = {value}')\n",
    "print('*')\n",
    "\n",
    "del my_tag['cls']   # 5 필수 인수인 name 제거\n",
    "bound_args = sig.bind(**my_tag) # 6"
   ]
  },
  {
   "cell_type": "markdown",
   "metadata": {},
   "source": [
    "## 5-9. 함수 애너테이션\n",
    "함수의 매개변수나 반환값에 메타데이터를 추가할 수 있는 구문을 제공한다.\n",
    "* 메타데이터란?"
   ]
  },
  {
   "cell_type": "code",
   "execution_count": null,
   "metadata": {},
   "outputs": [],
   "source": [
    "def clip2(text:str, max_len:'int>0'=80) -> str:\n",
    "    \"\"\"max_len 앞이나 뒤의 마지막 공백에서 잘라낸 텍스트를 반환한다.\"\"\"\n",
    "    \n",
    "    end=None\n",
    "    if len(text) > max_len:\n",
    "        space_before = text.rfind(' ', 0, max_len)\n",
    "        # 0부터 max_len 사이에서 역순으로 ' '를 찾음\n",
    "        if space_before >= 0:\n",
    "            end = space_before\n",
    "        else:\n",
    "            space_after = text.rfind(' ', max_len)\n",
    "            # max_len부터 ' ' 를 찾음\n",
    "            if space_after >= 0:\n",
    "                end = space_after\n",
    "    \n",
    "    if end is None: # 공백이 없다.\n",
    "        end = len(text)\n",
    "    return text[:end].rstrip()"
   ]
  },
  {
   "cell_type": "code",
   "execution_count": 6,
   "metadata": {},
   "outputs": [],
   "source": [
    "# Ex 5-19. \n",
    "def clip(text:str, max_len:'int>0'=80) -> str: # 콜론 뒤에 애너테이션 표현식 추가할 수 있음.\n",
    "    \"\"\"max_len 앞이나 뒤의 마지막 공백에서 잘라낸 텍스트를 반환한다.\n",
    "    \"\"\"\n",
    "    end = None\n",
    "    if len(text) > max_len:\n",
    "        space_before = text.rfind(' ', 0, max_len)\n",
    "        if space_before >= 0:\n",
    "            end = space_before\n",
    "        else:\n",
    "            space_after = text.rfind(' ', max_len)\n",
    "            if space_after >= 0:\n",
    "                end = space_after\n",
    "    if end is None:\n",
    "        end = len(text)\n",
    "    return text[:end].rstrip()\n"
   ]
  },
  {
   "cell_type": "code",
   "execution_count": 49,
   "metadata": {},
   "outputs": [
    {
     "name": "stdout",
     "output_type": "stream",
     "text": [
      "{'text': <class 'str'>, 'max_len': 'int>0', 'return': <class 'str'>}\n"
     ]
    }
   ],
   "source": [
    "print(clip.__annotations__)"
   ]
  },
  {
   "cell_type": "code",
   "execution_count": 11,
   "metadata": {},
   "outputs": [
    {
     "name": "stdout",
     "output_type": "stream",
     "text": [
      "<class 'str'>\n",
      "👍\n",
      "<class 'str'> : text = <class 'inspect._empty'>\n",
      "'int>0'       : max_len = 80\n"
     ]
    }
   ],
   "source": [
    "# Ex 5-20\n",
    "\n",
    "from inspect import signature\n",
    "sig2 = signature(clip)\n",
    "print(sig2.return_annotation) # 반환 값을 알려줌\n",
    "print(a)\n",
    "for param in sig2.parameters.values():\n",
    "    note = repr(param.annotation).ljust(13) \n",
    "    print(note, ':', param.name, '=', param.default)"
   ]
  },
  {
   "cell_type": "markdown",
   "metadata": {},
   "source": [
    "## 5.10 함수형 프로그래밍을 위한 패키지\n",
    "왜 귀도 반 로섬이 함수형 프로그래밍 언어를 지향하지 않았을까요?\n",
    "\n",
    "### 5.10.1 `operator` 모듈"
   ]
  },
  {
   "cell_type": "code",
   "execution_count": 12,
   "metadata": {},
   "outputs": [],
   "source": [
    "# Ex 5-21. reduce()와 익명 함수로 구현한 팩토리얼\n",
    "from functools import reduce\n",
    "\n",
    "def fact(n):\n",
    "    return reduce(lambda a, b: a*b, range(1, n+1))"
   ]
  },
  {
   "cell_type": "code",
   "execution_count": 13,
   "metadata": {},
   "outputs": [],
   "source": [
    "# Ex 5-22. reduce()와 operator.mul로 구현\n",
    "from functools import reduce\n",
    "from operator import mul\n",
    "\n",
    "def fact(n):\n",
    "    return reduce(mul, range(1, n+1))"
   ]
  },
  {
   "cell_type": "code",
   "execution_count": 14,
   "metadata": {},
   "outputs": [],
   "source": [
    "metro_data = [\n",
    "    ('Tokyo', 'JP', 36.933, (35.689722, 139.691667)),   # <1>\n",
    "    ('Delhi NCR', 'IN', 21.935, (28.613889, 77.208889)),\n",
    "    ('Mexico City', 'MX', 20.142, (19.433333, -99.133333)),\n",
    "    ('New York-Newark', 'US', 20.104, (40.808611, -74.020386)),\n",
    "    ('Sao Paulo', 'BR', 19.649, (-23.547778, -46.635833)),\n",
    "]"
   ]
  },
  {
   "cell_type": "code",
   "execution_count": 16,
   "metadata": {},
   "outputs": [
    {
     "name": "stdout",
     "output_type": "stream",
     "text": [
      "operator.itemgetter(1)\n",
      "('Sao Paulo', 'BR', 19.649, (-23.547778, -46.635833))\n",
      "('Delhi NCR', 'IN', 21.935, (28.613889, 77.208889))\n",
      "('Tokyo', 'JP', 36.933, (35.689722, 139.691667))\n",
      "('Mexico City', 'MX', 20.142, (19.433333, -99.133333))\n",
      "('New York-Newark', 'US', 20.104, (40.808611, -74.020386))\n"
     ]
    }
   ],
   "source": [
    "from operator import itemgetter\n",
    "print(itemgetter(1)) # = lambda fields: fields[1]\n",
    "\n",
    "for city in sorted(metro_data, key=itemgetter(1)):\n",
    "    print(city)"
   ]
  },
  {
   "cell_type": "code",
   "execution_count": 17,
   "metadata": {},
   "outputs": [
    {
     "name": "stdout",
     "output_type": "stream",
     "text": [
      "('JP', 'Tokyo')\n",
      "('IN', 'Delhi NCR')\n",
      "('MX', 'Mexico City')\n",
      "('US', 'New York-Newark')\n",
      "('BR', 'Sao Paulo')\n"
     ]
    }
   ],
   "source": [
    "cc_name = itemgetter(1,0)\n",
    "for city in metro_data:\n",
    "    print(cc_name(city))"
   ]
  },
  {
   "cell_type": "code",
   "execution_count": 18,
   "metadata": {},
   "outputs": [
    {
     "data": {
      "text/plain": [
       "[('Tokyo', 'JP', 36.933, (35.689722, 139.691667)),\n",
       " ('Delhi NCR', 'IN', 21.935, (28.613889, 77.208889)),\n",
       " ('Mexico City', 'MX', 20.142, (19.433333, -99.133333)),\n",
       " ('New York-Newark', 'US', 20.104, (40.808611, -74.020386)),\n",
       " ('Sao Paulo', 'BR', 19.649, (-23.547778, -46.635833))]"
      ]
     },
     "execution_count": 18,
     "metadata": {},
     "output_type": "execute_result"
    }
   ],
   "source": [
    "metro_data"
   ]
  },
  {
   "cell_type": "code",
   "execution_count": 19,
   "metadata": {},
   "outputs": [],
   "source": [
    "from collections import namedtuple\n",
    "LatLong = namedtuple('LatLong', 'lat long')\n",
    "Metropolis = namedtuple('Metropolis', 'name cc pop coord')\n",
    "metro_areas = [Metropolis(name, cc, pop, LatLong(lat, long))\n",
    "              for name, cc, pop, (lat, long) in metro_data]"
   ]
  },
  {
   "cell_type": "code",
   "execution_count": 23,
   "metadata": {},
   "outputs": [
    {
     "data": {
      "text/plain": [
       "('Tokyo', 35.689722)"
      ]
     },
     "execution_count": 23,
     "metadata": {},
     "output_type": "execute_result"
    }
   ],
   "source": [
    "from operator import attrgetter\n",
    "name_lat = attrgetter('name', 'coord.lat')\n",
    "\n",
    "name_lat(metro_areas[0])"
   ]
  },
  {
   "cell_type": "code",
   "execution_count": 24,
   "metadata": {},
   "outputs": [
    {
     "name": "stdout",
     "output_type": "stream",
     "text": [
      "('Sao Paulo', -23.547778)\n",
      "('Mexico City', 19.433333)\n",
      "('Delhi NCR', 28.613889)\n",
      "('Tokyo', 35.689722)\n",
      "('New York-Newark', 40.808611)\n"
     ]
    }
   ],
   "source": [
    "for city in sorted(metro_areas, key=attrgetter('coord.lat')):\n",
    "    print(name_lat(city))"
   ]
  },
  {
   "cell_type": "code",
   "execution_count": 30,
   "metadata": {},
   "outputs": [
    {
     "data": {
      "text/plain": [
       "Metropolis(name='Tokyo', cc='JP', pop=36.933, coord=LatLong(lat=35.689722, long=139.691667))"
      ]
     },
     "execution_count": 30,
     "metadata": {},
     "output_type": "execute_result"
    }
   ],
   "source": [
    "# 뜬금없는 언패킹 연습\n",
    "metro_areas2 = [Metropolis(name, cc, pop, LatLong(*loc))\n",
    "              for name, cc, pop, loc in metro_data]\n",
    "metro_areas2[0]"
   ]
  },
  {
   "cell_type": "code",
   "execution_count": 28,
   "metadata": {},
   "outputs": [
    {
     "data": {
      "text/plain": [
       "'👍'"
      ]
     },
     "execution_count": 28,
     "metadata": {},
     "output_type": "execute_result"
    }
   ],
   "source": [
    "a"
   ]
  },
  {
   "cell_type": "code",
   "execution_count": 29,
   "metadata": {},
   "outputs": [
    {
     "name": "stdout",
     "output_type": "stream",
     "text": [
      "['abs', 'add', 'and_', 'attrgetter', 'concat', 'contains', 'countOf', 'delitem', 'eq', 'floordiv', 'ge', 'getitem', 'gt', 'iadd', 'iand', 'iconcat', 'ifloordiv', 'ilshift', 'imatmul', 'imod', 'imul', 'index', 'indexOf', 'inv', 'invert', 'ior', 'ipow', 'irshift', 'is_', 'is_not', 'isub', 'itemgetter', 'itruediv', 'ixor', 'le', 'length_hint', 'lshift', 'lt', 'matmul', 'methodcaller', 'mod', 'mul', 'ne', 'neg', 'not_', 'or_', 'pos', 'pow', 'rshift', 'setitem', 'sub', 'truediv', 'truth', 'xor']\n"
     ]
    }
   ],
   "source": [
    "import operator\n",
    "print([name for name in dir(operator) if not name.startswith('_')])"
   ]
  },
  {
   "cell_type": "code",
   "execution_count": 31,
   "metadata": {},
   "outputs": [
    {
     "name": "stdout",
     "output_type": "stream",
     "text": [
      "Help on method_descriptor:\n",
      "\n",
      "startswith(...)\n",
      "    S.startswith(prefix[, start[, end]]) -> bool\n",
      "    \n",
      "    Return True if S starts with the specified prefix, False otherwise.\n",
      "    With optional start, test S beginning at that position.\n",
      "    With optional end, stop comparing S at that position.\n",
      "    prefix can also be a tuple of strings to try.\n",
      "\n"
     ]
    }
   ],
   "source": [
    "help(str.startswith)"
   ]
  },
  {
   "cell_type": "code",
   "execution_count": 34,
   "metadata": {},
   "outputs": [
    {
     "data": {
      "text/plain": [
       "'THE TIME HAS COME'"
      ]
     },
     "execution_count": 34,
     "metadata": {},
     "output_type": "execute_result"
    }
   ],
   "source": [
    "from operator import methodcaller\n",
    "s = 'The time has come'\n",
    "upcase = methodcaller('upper')\n",
    "upcase(s)"
   ]
  },
  {
   "cell_type": "code",
   "execution_count": 35,
   "metadata": {},
   "outputs": [
    {
     "data": {
      "text/plain": [
       "'The👍time👍has👍come'"
      ]
     },
     "execution_count": 35,
     "metadata": {},
     "output_type": "execute_result"
    }
   ],
   "source": [
    "hiphenate = methodcaller('replace', ' ', a)\n",
    "hiphenate(s)"
   ]
  },
  {
   "cell_type": "code",
   "execution_count": 1,
   "metadata": {},
   "outputs": [
    {
     "name": "stdout",
     "output_type": "stream",
     "text": [
      "100\n",
      "50\n",
      "30\n"
     ]
    }
   ],
   "source": [
    "# parial 사용법: 인수 고정 -> 콜백 함수 사용\n",
    "from operator import mul\n",
    "from functools import partial\n",
    "\n",
    "print(mul(10,10))\n",
    "\n",
    "# 인수 고정\n",
    "five = partial(mul, 5) # 5 * ? # 함수를 인자로 전달 가능하고, 파라미터 고정\n",
    "six = partial(five, 6) # 이미 mul에 a와 b가 고정됨\n",
    "print(five(10))\n",
    "print(six())\n"
   ]
  },
  {
   "cell_type": "code",
   "execution_count": null,
   "metadata": {},
   "outputs": [],
   "source": [
    "print(six(10))"
   ]
  },
  {
   "cell_type": "code",
   "execution_count": null,
   "metadata": {},
   "outputs": [],
   "source": [
    "five = partial(mul, 5) \n",
    "print([five(i) for i in range(1, 11)])\n",
    "print(list(map(five, range(1, 11))))"
   ]
  }
 ],
 "metadata": {
  "kernelspec": {
   "display_name": "Python 3.10.5 ('lab')",
   "language": "python",
   "name": "python3"
  },
  "language_info": {
   "codemirror_mode": {
    "name": "ipython",
    "version": 3
   },
   "file_extension": ".py",
   "mimetype": "text/x-python",
   "name": "python",
   "nbconvert_exporter": "python",
   "pygments_lexer": "ipython3",
   "version": "3.10.5"
  },
  "orig_nbformat": 4,
  "vscode": {
   "interpreter": {
    "hash": "9132612d292018844046efb7d61620c385772bf99f2e53a3f7e93381535a3719"
   }
  }
 },
 "nbformat": 4,
 "nbformat_minor": 2
}
