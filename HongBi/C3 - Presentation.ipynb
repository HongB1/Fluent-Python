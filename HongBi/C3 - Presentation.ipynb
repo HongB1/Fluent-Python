{
 "cells": [
  {
   "cell_type": "markdown",
   "metadata": {},
   "source": [
    "## 3.5 Subclassing UserDict (custome mappings)\n",
    "\n",
    "![](https://velog.velcdn.com/images/jeguring/post/880edf91-2671-4f1c-a1df-f88459ab0bd8/image.png)\n",
    "\n",
    "dict보다 UserDict를 상속해서 매핑형을 만드는 것이 훨씬 쉽습니다. 매핑에 추가한 키를 문자열로 저장하기 위해서 ex3-7.StrKeyDict0을 확장했던 것처럼 UserDict의 값을 평가할 수 있습니다.\n",
    "\n",
    "build-in형에서는 아무런 문제없이 상속할 수 있는 메소드들을 오버라이드해야 하는 구현의 특이성 때문에 dict보다는 UserDict를 상속하는 것이 낫습니다. \n",
    "* dict 등의 내장 클래스를 상속할 때 발생하는 문제 : 12.1절\n",
    "\n",
    "UserDict는 dict를 상속하지 않고 내부에 실제 항목을 담고 있는 data라고 하는 dict 객체를 갖고 있습니다. 이렇게 구현함으로써 __setitem__() 등의 스페셜 메소드를 구현할 때 발생하는 원치않는 재귀 호출을 피할 수 있으며, __contains__() 메소드를 간단히 구현할 수 있습니다.\n",
    "\n",
    "\n",
    "\n",
    "\n",
    "`UserDict` 클래스가 `MutableMapping`을 상속하므로, `StrKeyDict`는 결국 `UserDict, MutableMapping, Mapping`을 상속하게 되어 매핑의 모든 기능을 가지게 된다.  \n",
    "\n",
    "`Mapping`은 추상 베이스 클래스(ABC)임에도 불구하고 유용한 구상(구체적인) 메서드를 다수 제공한다.   \n",
    "다음을 살펴보자\n",
    "\n",
    "UserDict로 구현한 StrKeyDict는 위에서 구현한 StrKeyDict0보다 간단하지만 더 많은 작업을 하도록 구현할 수 있습니다.  \n",
    "StrKeyDict는 모든 키를 str타입으로 저장함으로써 비문자열 키로 객체를 생성하거나 갱신할 때 발생할 수 있는 예기치 못한 문제들을 피하게 해줍니다."
   ]
  },
  {
   "cell_type": "markdown",
   "metadata": {},
   "source": [
    "- `MutableMapping.update()` :\n",
    "  이 메소드는 직접 호출할 수도 있지만, 다른 매핑이나 (key, value) 쌍의 반복형 및 키워드 인수에서 객체를 로딩하기 위해 `__init__()`에 의해 사용될 수도 있습니다. 이 메소드는 항목을 추가하기 위해서 `self[key] = value` 구문을 사용하므로 결국 서브클래스에서 구현한 `__setitem__()` 메소드를 호출하게 됩니다.\n",
    "- `Mapping.get()` : \n",
    "  StrKeyDict0에서는 `__getitem__()`과 일치하는 결과를 가져오기 위해 `get()` 메소드를 직접 구현해야 했지만, StrKeyDict에서는 `StrKeyDict0.get()`과 완전히 동일하게 구현된 `Mapping.get()`을 상속 받습니다.\n"
   ]
  },
  {
   "cell_type": "code",
   "execution_count": null,
   "metadata": {},
   "outputs": [],
   "source": [
    "class StrKeyDict0(dict):\n",
    "    def __missing__(self, key):\n",
    "        if isinstance(key, str):\n",
    "            raise KeyError(key)\n",
    "        return self[str(key)]\n",
    "    \n",
    "    def get(self, key, default=None):\n",
    "        try:\n",
    "            return self[key]\n",
    "        except KeyError:\n",
    "            return default\n",
    "    \n",
    "    def __contains__(self, key):\n",
    "        return key in self.keys() or str(key) in self.keys()\n"
   ]
  },
  {
   "cell_type": "code",
   "execution_count": 2,
   "metadata": {},
   "outputs": [],
   "source": [
    "import collections\n",
    "\n",
    "class StrKeyDict(collections.UserDict): # StrKeyDict : UserDict 상속\n",
    "    def __missing__(self, key):\n",
    "        if isinstance(key, str):\n",
    "            raise KeyError(key)\n",
    "        return self[str(key)]\n",
    "    \n",
    "    def __contains__(self, key): # 저장된 키가 모두 str형이므로, 위에서 self.keys()를 호출한 방법과 달리, self.data에서 바로 조회할 수 있다.\n",
    "        return str(key) in self.data\n",
    "    \n",
    "    def __setitem__(self, key, item): # 모든 키를 str형으로 반환하므로, 연산을 self.data에 위임할 때 더 간단히 작성할 수 있다.\n",
    "        self.data[str(key)] = item\n"
   ]
  },
  {
   "cell_type": "code",
   "execution_count": 3,
   "metadata": {},
   "outputs": [
    {
     "data": {
      "text/plain": [
       "{'1': 'd', 'korea': 'd', '3': 'r'}"
      ]
     },
     "execution_count": 3,
     "metadata": {},
     "output_type": "execute_result"
    }
   ],
   "source": [
    "u = StrKeyDict(zip([\"1\",\"korea\",3], [\"d\",\"d\",\"r\"]))\n",
    "u.data"
   ]
  },
  {
   "cell_type": "code",
   "execution_count": 4,
   "metadata": {},
   "outputs": [
    {
     "name": "stdout",
     "output_type": "stream",
     "text": [
      "True\n"
     ]
    },
    {
     "ename": "NameError",
     "evalue": "name 'korea' is not defined",
     "output_type": "error",
     "traceback": [
      "\u001b[0;31m---------------------------------------------------------------------------\u001b[0m",
      "\u001b[0;31mNameError\u001b[0m                                 Traceback (most recent call last)",
      "\u001b[1;32m/Users/hongb/Dropbox/github/fluent_python/HongBi/C3 - Presentation.ipynb 셀 6\u001b[0m in \u001b[0;36m<cell line: 3>\u001b[0;34m()\u001b[0m\n\u001b[1;32m      <a href='vscode-notebook-cell:/Users/hongb/Dropbox/github/fluent_python/HongBi/C3%20-%20Presentation.ipynb#ch0000007?line=0'>1</a>\u001b[0m \u001b[39m# 숫자형을 문자로 바꿔주기 위한 것인건가 그냥?\u001b[39;00m\n\u001b[1;32m      <a href='vscode-notebook-cell:/Users/hongb/Dropbox/github/fluent_python/HongBi/C3%20-%20Presentation.ipynb#ch0000007?line=1'>2</a>\u001b[0m \u001b[39mprint\u001b[39m(\u001b[39m1\u001b[39m \u001b[39min\u001b[39;00m u)\n\u001b[0;32m----> <a href='vscode-notebook-cell:/Users/hongb/Dropbox/github/fluent_python/HongBi/C3%20-%20Presentation.ipynb#ch0000007?line=2'>3</a>\u001b[0m \u001b[39mprint\u001b[39m(korea \u001b[39min\u001b[39;00m u)\n",
      "\u001b[0;31mNameError\u001b[0m: name 'korea' is not defined"
     ]
    }
   ],
   "source": [
    "# 숫자형을 문자로 바꿔주기 위한 것인건가 그냥?\n",
    "print(1 in u)\n",
    "print(korea in u)"
   ]
  },
  {
   "cell_type": "markdown",
   "metadata": {},
   "source": [
    "## 3.7 Immutable Mapping\n",
    "원래 딕셔너리는 mutable임.  \n",
    "Immutable Dict 생성을 해볼 것임.   \n",
    "hashtable : 적은 리소스로 많은 데이터를 효율적으로 관리   \n",
    "Dict -> Key 중복 허용 X \n",
    "Set -> 중복 허용 X "
   ]
  },
  {
   "cell_type": "code",
   "execution_count": 5,
   "metadata": {},
   "outputs": [
    {
     "name": "stdout",
     "output_type": "stream",
     "text": [
      "{'key1': 'value1'} 4421560896\n",
      "{'key1': 'value1'} 4425659920\n"
     ]
    }
   ],
   "source": [
    "# immutable Dict\n",
    "from types import MappingProxyType # 읽기 전용의 딕셔너리\n",
    "d = {'key1' : 'value1'}\n",
    "\n",
    "# Read Only\n",
    "d_frozen = MappingProxyType(d)\n",
    "print(d, id(d))\n",
    "print(d_frozen, id(d_frozen))"
   ]
  },
  {
   "cell_type": "code",
   "execution_count": 6,
   "metadata": {},
   "outputs": [
    {
     "ename": "TypeError",
     "evalue": "'mappingproxy' object does not support item assignment",
     "output_type": "error",
     "traceback": [
      "\u001b[0;31m---------------------------------------------------------------------------\u001b[0m",
      "\u001b[0;31mTypeError\u001b[0m                                 Traceback (most recent call last)",
      "\u001b[1;32m/Users/hongb/Dropbox/github/fluent_python/HongBi/C3 - Presentation.ipynb 셀 9\u001b[0m in \u001b[0;36m<cell line: 2>\u001b[0;34m()\u001b[0m\n\u001b[1;32m      <a href='vscode-notebook-cell:/Users/hongb/Dropbox/github/fluent_python/HongBi/C3%20-%20Presentation.ipynb#ch0000012?line=0'>1</a>\u001b[0m \u001b[39m# 수정 불가 d_frozen는 immutable Dict - mappingproxy\u001b[39;00m\n\u001b[0;32m----> <a href='vscode-notebook-cell:/Users/hongb/Dropbox/github/fluent_python/HongBi/C3%20-%20Presentation.ipynb#ch0000012?line=1'>2</a>\u001b[0m d_frozen[\u001b[39m'\u001b[39m\u001b[39mkey2\u001b[39m\u001b[39m'\u001b[39m] \u001b[39m=\u001b[39m \u001b[39m'\u001b[39m\u001b[39mvalue2\u001b[39m\u001b[39m'\u001b[39m\n",
      "\u001b[0;31mTypeError\u001b[0m: 'mappingproxy' object does not support item assignment"
     ]
    }
   ],
   "source": [
    "# 수정 불가 d_frozen는 immutable Dict - mappingproxy\n",
    "d_frozen['key2'] = 'value2' # d_frozen을 변경할 순 없다."
   ]
  },
  {
   "cell_type": "code",
   "execution_count": 7,
   "metadata": {},
   "outputs": [
    {
     "name": "stdout",
     "output_type": "stream",
     "text": [
      "{'key1': 'value1', 'key2': 'value2'}\n",
      "{'key1': 'value1', 'key2': 'value2'}\n"
     ]
    }
   ],
   "source": [
    "# 수정 가능 d는 Dict\n",
    "d['key2'] = 'value2'\n",
    "print(d) # mutable\n",
    "print(d_frozen) # 동적인 d_frozen은 d에 대한 변경을 바로 반영한다."
   ]
  },
  {
   "cell_type": "markdown",
   "metadata": {},
   "source": [
    "#### 보충자료: Dictionary Views\n",
    "dict의 인스턴스 메소드인 `.keys()`, `.values()`, 그리고 `.items()`는 각각 dict_keys, dict_values, dict_items라는 클래스의 인스턴스를 반환합니다. 이 딕셔너리 뷰는 dict의 구현에서 내부 데이터 구조체의 **read-only projections**입니다."
   ]
  },
  {
   "cell_type": "code",
   "execution_count": 8,
   "metadata": {},
   "outputs": [
    {
     "name": "stdout",
     "output_type": "stream",
     "text": [
      "dict_values([10, 20, 30]) 3\n",
      "==========================================================================================\n",
      "{'a': 10, 'b': 20, 'c': 30, 'z': 99}\n",
      "dict_values([10, 20, 30, 99]) 4\n"
     ]
    }
   ],
   "source": [
    "d = dict(zip(['a', 'b', 'c'], [10, 20, 30]))\n",
    "values = d.values()\n",
    "print(values, len(values))\n",
    "print('==='*30)\n",
    "# view객체는 dynamic proxy(동적 프록시) => 원본 dict이 업데이트되면, view에서도 변경된 걸 확인 가능.\n",
    "d['z'] = 99\n",
    "print(d)\n",
    "print(values, len(values))"
   ]
  },
  {
   "cell_type": "markdown",
   "metadata": {},
   "source": [
    "#### numpy에서 `copy()` vs `view()`\n",
    "- `copy()` : copy본을 수정해도 원본에 영향을 미치지 않는다. \n",
    "- `view()` : view본을 수정할 경우 원본도 수정됨. base를 공유"
   ]
  },
  {
   "cell_type": "code",
   "execution_count": 1,
   "metadata": {},
   "outputs": [
    {
     "name": "stdout",
     "output_type": "stream",
     "text": [
      "b: [100   1   2   3   4]\n",
      "a도 변경됨: [100   1   2   3   4]\n"
     ]
    }
   ],
   "source": [
    "import numpy as np\n",
    "a = np.arange(5)\n",
    "b = a.view()\n",
    "b[0] = 100\n",
    "\n",
    "print('b:', b)\n",
    "print('a도 변경됨:', a)"
   ]
  },
  {
   "cell_type": "code",
   "execution_count": 2,
   "metadata": {},
   "outputs": [
    {
     "name": "stdout",
     "output_type": "stream",
     "text": [
      "b: [100   1   2   3   4]\n",
      "a는 변경안됨: [0 1 2 3 4]\n"
     ]
    }
   ],
   "source": [
    "import numpy as np\n",
    "a = np.arange(5)\n",
    "b = a.copy()\n",
    "b[0] = 100\n",
    "\n",
    "print('b:', b)\n",
    "print('a는 변경안됨:', a)"
   ]
  },
  {
   "cell_type": "markdown",
   "metadata": {},
   "source": [
    "## 3.8 집합 이론\n",
    "- set \n",
    "- frozenset : set의 불변형 버전\n",
    "  \n",
    "set의 기본적인 사용은 지나감"
   ]
  },
  {
   "cell_type": "code",
   "execution_count": 3,
   "metadata": {},
   "outputs": [
    {
     "name": "stdout",
     "output_type": "stream",
     "text": [
      "True\n",
      "<class 'set'>\n"
     ]
    }
   ],
   "source": [
    "# 기본적인 set 만들기 => pass\n",
    "s1 = {'Apple', 'Orange', 'Apple', 'Orange', 'Kiwi'}\n",
    "s2 = set(['Apple', 'Orange', 'Apple', 'Orange', 'Kiwi'])\n",
    "print(s1 == s2)\n",
    "s3 = {3}\n",
    "print(type(s3))"
   ]
  },
  {
   "cell_type": "code",
   "execution_count": 4,
   "metadata": {},
   "outputs": [
    {
     "name": "stdout",
     "output_type": "stream",
     "text": [
      "<class 'dict'>\n",
      "<class 'set'>\n"
     ]
    }
   ],
   "source": [
    "# 원소가 하나도 없을 떈 딕셔너리가 되어버리니, 공집합을 표현하고 싶을 땐 반드시 set()로 표기하기\n",
    "s4 = {}\n",
    "print(type(s4)) # 원소가 하나도 없을 땐 딕셔너리가 되버림\n",
    "\n",
    "s4 = set() # 따라서 공집합일 경우 반드시 set()로 표기해야 한다.\n",
    "print(type(s4))"
   ]
  },
  {
   "cell_type": "code",
   "execution_count": 5,
   "metadata": {},
   "outputs": [
    {
     "name": "stdout",
     "output_type": "stream",
     "text": [
      "set기본형 - s1: {'Apple', 'Melon', 'Orange', 'Kiwi'}\n"
     ]
    },
    {
     "ename": "AttributeError",
     "evalue": "'frozenset' object has no attribute 'add'",
     "output_type": "error",
     "traceback": [
      "\u001b[0;31m---------------------------------------------------------------------------\u001b[0m",
      "\u001b[0;31mAttributeError\u001b[0m                            Traceback (most recent call last)",
      "\u001b[1;32m/Users/hongb/Dropbox/github/fluent_python/HongBi/C3 - Presentation.ipynb 셀 19\u001b[0m in \u001b[0;36m<cell line: 9>\u001b[0;34m()\u001b[0m\n\u001b[1;32m      <a href='vscode-notebook-cell:/Users/hongb/Dropbox/github/fluent_python/HongBi/C3%20-%20Presentation.ipynb#ch0000026?line=5'>6</a>\u001b[0m \u001b[39mprint\u001b[39m(\u001b[39m'\u001b[39m\u001b[39mset기본형 - s1:\u001b[39m\u001b[39m'\u001b[39m, s1)\n\u001b[1;32m      <a href='vscode-notebook-cell:/Users/hongb/Dropbox/github/fluent_python/HongBi/C3%20-%20Presentation.ipynb#ch0000026?line=7'>8</a>\u001b[0m \u001b[39m# 그러나 frozenset에는 추가 안됨\u001b[39;00m\n\u001b[0;32m----> <a href='vscode-notebook-cell:/Users/hongb/Dropbox/github/fluent_python/HongBi/C3%20-%20Presentation.ipynb#ch0000026?line=8'>9</a>\u001b[0m s5\u001b[39m.\u001b[39;49madd(\u001b[39m'\u001b[39m\u001b[39mMelon\u001b[39m\u001b[39m'\u001b[39m)\n\u001b[1;32m     <a href='vscode-notebook-cell:/Users/hongb/Dropbox/github/fluent_python/HongBi/C3%20-%20Presentation.ipynb#ch0000026?line=9'>10</a>\u001b[0m \u001b[39mprint\u001b[39m(s5)\n",
      "\u001b[0;31mAttributeError\u001b[0m: 'frozenset' object has no attribute 'add'"
     ]
    }
   ],
   "source": [
    "# frozenset\n",
    "s5 = frozenset({'Apple', 'Orange', 'Apple', 'Orange', 'Kiwi'})\n",
    "\n",
    "# 원래 set에는 추가됨\n",
    "s1.add('Melon')\n",
    "print('set기본형 - s1:', s1)\n",
    "\n",
    "# 그러나 frozenset에는 추가 안됨\n",
    "s5.add('Melon')\n",
    "print(s5)"
   ]
  },
  {
   "cell_type": "code",
   "execution_count": 6,
   "metadata": {},
   "outputs": [
    {
     "name": "stdout",
     "output_type": "stream",
     "text": [
      "{'Apple', 'Melon', 'Orange', 'Kiwi'} <class 'set'>\n",
      "{'Apple', 'Orange', 'Kiwi'} <class 'set'>\n",
      "{3} <class 'set'>\n",
      "set() <class 'set'>\n",
      "frozenset({'Apple', 'Orange', 'Kiwi'}) <class 'frozenset'>\n"
     ]
    }
   ],
   "source": [
    "print(s1, type(s1))\n",
    "print(s2, type(s2))\n",
    "print(s3, type(s3))\n",
    "print(s4, type(s4))\n",
    "print(s5, type(s5))"
   ]
  },
  {
   "cell_type": "code",
   "execution_count": 7,
   "metadata": {},
   "outputs": [
    {
     "name": "stdout",
     "output_type": "stream",
     "text": [
      "------\n",
      "  1           0 LOAD_CONST               0 (10)\n",
      "              2 BUILD_SET                1\n",
      "              4 RETURN_VALUE\n",
      "None\n",
      "------\n",
      "  1           0 LOAD_NAME                0 (set)\n",
      "              2 LOAD_CONST               0 (10)\n",
      "              4 BUILD_LIST               1\n",
      "              6 CALL_FUNCTION            1\n",
      "              8 RETURN_VALUE\n",
      "None\n"
     ]
    }
   ],
   "source": [
    "# 선언 최적화\n",
    "# 바이트 코드 -> 파이썬 인터프리터가 실행\n",
    "from dis import dis\n",
    "\n",
    "print('------')\n",
    "print(dis('{10}'))\n",
    "print('------')\n",
    "print(dis('set([10])'))"
   ]
  },
  {
   "cell_type": "markdown",
   "metadata": {},
   "source": [
    "### 3.8.2 지능형 집합(Comprehending Set)"
   ]
  },
  {
   "cell_type": "code",
   "execution_count": 8,
   "metadata": {},
   "outputs": [
    {
     "name": "stdout",
     "output_type": "stream",
     "text": [
      "{'+', '®', '§', '¬', '=', '<', '£', '#', '±', '°', '÷', '¥', '×', '¢', '©', '>', '%', 'µ', '¤', '¶', '$'}\n",
      "{'DIVISION SIGN', 'DOLLAR SIGN', 'CURRENCY SIGN', 'COPYRIGHT SIGN', 'NOT SIGN', 'DEGREE SIGN', 'EQUALS SIGN', 'MICRO SIGN', 'PERCENT SIGN', 'YEN SIGN', 'PLUS SIGN', 'SECTION SIGN', 'MULTIPLICATION SIGN', 'CENT SIGN', 'PILCROW SIGN', 'LESS-THAN SIGN', 'GREATER-THAN SIGN', 'NUMBER SIGN', 'REGISTERED SIGN', 'PLUS-MINUS SIGN', 'POUND SIGN'}\n"
     ]
    }
   ],
   "source": [
    "# 지능형 집합(Comprehending Set)\n",
    "from unicodedata import name\n",
    "print({chr(i) for i in range(32, 256) if 'SIGN' in name(chr(i), '')})\n",
    "print({name(chr(i), '') for i in range(32, 256) if 'SIGN' in name(chr(i), '')})"
   ]
  },
  {
   "cell_type": "code",
   "execution_count": 10,
   "metadata": {},
   "outputs": [
    {
     "data": {
      "application/javascript": "window.require && require([\"base/js/namespace\"],function(Jupyter){Jupyter.notebook.save_checkpoint()})",
      "text/plain": [
       "<IPython.core.display.Javascript object>"
      ]
     },
     "metadata": {},
     "output_type": "display_data"
    },
    {
     "name": "stdout",
     "output_type": "stream",
     "text": [
      "[jovian] Creating a new project \"hongb1/fluent-python-C3-pr\"\u001b[0m\n",
      "[jovian] Committed successfully! https://jovian.ai/hongbi/fluent-python-c3-pr\u001b[0m\n"
     ]
    },
    {
     "data": {
      "text/plain": [
       "'https://jovian.ai/hongbi/fluent-python-c3-pr'"
      ]
     },
     "execution_count": 10,
     "metadata": {},
     "output_type": "execute_result"
    }
   ],
   "source": [
    "import jovian\n",
    "jovian.commit(filename='C3 - Presentation.ipynb', project='hongbi/fluent-python-C3-pr')"
   ]
  },
  {
   "cell_type": "code",
   "execution_count": null,
   "metadata": {},
   "outputs": [],
   "source": []
  }
 ],
 "metadata": {
  "kernelspec": {
   "display_name": "Python 3.10.5 ('lab')",
   "language": "python",
   "name": "python3"
  },
  "language_info": {
   "codemirror_mode": {
    "name": "ipython",
    "version": 3
   },
   "file_extension": ".py",
   "mimetype": "text/x-python",
   "name": "python",
   "nbconvert_exporter": "python",
   "pygments_lexer": "ipython3",
   "version": "3.10.5"
  },
  "orig_nbformat": 4,
  "vscode": {
   "interpreter": {
    "hash": "9132612d292018844046efb7d61620c385772bf99f2e53a3f7e93381535a3719"
   }
  }
 },
 "nbformat": 4,
 "nbformat_minor": 2
}
