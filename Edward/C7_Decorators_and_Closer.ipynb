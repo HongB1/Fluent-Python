{
 "cells": [
  {
   "cell_type": "markdown",
   "id": "95faa962",
   "metadata": {},
   "source": [
    "## 7.1 데커레이터 기본 지식"
   ]
  },
  {
   "cell_type": "markdown",
   "id": "05de7342",
   "metadata": {},
   "source": [
    "- 데커레이터는 다른 함수를 인수로 받는 콜러블이다."
   ]
  },
  {
   "cell_type": "code",
   "execution_count": null,
   "id": "a1e7a287",
   "metadata": {},
   "outputs": [],
   "source": []
  }
 ],
 "metadata": {
  "kernelspec": {
   "display_name": "Python 3 (ipykernel)",
   "language": "python",
   "name": "python3"
  },
  "language_info": {
   "codemirror_mode": {
    "name": "ipython",
    "version": 3
   },
   "file_extension": ".py",
   "mimetype": "text/x-python",
   "name": "python",
   "nbconvert_exporter": "python",
   "pygments_lexer": "ipython3",
   "version": "3.9.7"
  }
 },
 "nbformat": 4,
 "nbformat_minor": 5
}
