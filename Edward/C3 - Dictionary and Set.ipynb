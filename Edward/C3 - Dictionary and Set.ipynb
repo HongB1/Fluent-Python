{
 "cells": [
  {
   "cell_type": "markdown",
   "id": "611ac26d",
   "metadata": {},
   "source": [
    "## 3.1 일반적인 매핑형"
   ]
  },
  {
   "cell_type": "code",
   "execution_count": 1,
   "id": "d36624b8",
   "metadata": {
    "scrolled": true
   },
   "outputs": [
    {
     "data": {
      "text/plain": [
       "True"
      ]
     },
     "execution_count": 1,
     "metadata": {},
     "output_type": "execute_result"
    }
   ],
   "source": [
    "my_dict = {}\n",
    "import collections\n",
    "isinstance(my_dict, collections.abc.Mapping)"
   ]
  },
  {
   "cell_type": "code",
   "execution_count": 2,
   "id": "2c70bd5c",
   "metadata": {},
   "outputs": [
    {
     "data": {
      "text/plain": [
       "-3907003130834322577"
      ]
     },
     "execution_count": 2,
     "metadata": {},
     "output_type": "execute_result"
    }
   ],
   "source": [
    "tt = (1, 2, (30, 40))\n",
    "hash(tt)"
   ]
  },
  {
   "cell_type": "code",
   "execution_count": 3,
   "id": "8edf49f8",
   "metadata": {},
   "outputs": [
    {
     "data": {
      "text/plain": [
       "-3907003130834322577"
      ]
     },
     "execution_count": 3,
     "metadata": {},
     "output_type": "execute_result"
    }
   ],
   "source": [
    "tl = (1, 2, (30, 40))\n",
    "hash(tl)"
   ]
  },
  {
   "cell_type": "code",
   "execution_count": 4,
   "id": "6eeb1dec",
   "metadata": {},
   "outputs": [
    {
     "data": {
      "text/plain": [
       "5149391500123939311"
      ]
     },
     "execution_count": 4,
     "metadata": {},
     "output_type": "execute_result"
    }
   ],
   "source": [
    "tf = (1, 2, frozenset([30, 40]))\n",
    "hash(tf)"
   ]
  },
  {
   "cell_type": "code",
   "execution_count": null,
   "id": "d9e7df9e",
   "metadata": {},
   "outputs": [],
   "source": [
    "a = dict(one=1, two=2, three=3)\n",
    "b = {'one'}"
   ]
  }
 ],
 "metadata": {
  "kernelspec": {
   "display_name": "Python 3 (ipykernel)",
   "language": "python",
   "name": "python3"
  },
  "language_info": {
   "codemirror_mode": {
    "name": "ipython",
    "version": 3
   },
   "file_extension": ".py",
   "mimetype": "text/x-python",
   "name": "python",
   "nbconvert_exporter": "python",
   "pygments_lexer": "ipython3",
   "version": "3.9.7"
  }
 },
 "nbformat": 4,
 "nbformat_minor": 5
}
