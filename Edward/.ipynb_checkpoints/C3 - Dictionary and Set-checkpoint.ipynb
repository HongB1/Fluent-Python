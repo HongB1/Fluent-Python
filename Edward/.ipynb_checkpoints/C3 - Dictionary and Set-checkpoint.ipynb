{
 "cells": [
  {
   "cell_type": "markdown",
   "id": "611ac26d",
   "metadata": {},
   "source": [
    "## 3.1 일반적인 매핑형"
   ]
  },
  {
   "cell_type": "code",
   "execution_count": 1,
   "id": "d36624b8",
   "metadata": {
    "scrolled": true
   },
   "outputs": [
    {
     "data": {
      "text/plain": [
       "True"
      ]
     },
     "execution_count": 1,
     "metadata": {},
     "output_type": "execute_result"
    }
   ],
   "source": [
    "my_dict = {}\n",
    "import collections\n",
    "isinstance(my_dict, collections.abc.Mapping)"
   ]
  },
  {
   "cell_type": "code",
   "execution_count": 2,
   "id": "2c70bd5c",
   "metadata": {},
   "outputs": [
    {
     "data": {
      "text/plain": [
       "-3907003130834322577"
      ]
     },
     "execution_count": 2,
     "metadata": {},
     "output_type": "execute_result"
    }
   ],
   "source": [
    "tt = (1, 2, (30, 40))\n",
    "hash(tt)"
   ]
  },
  {
   "cell_type": "code",
   "execution_count": 3,
   "id": "8edf49f8",
   "metadata": {},
   "outputs": [
    {
     "data": {
      "text/plain": [
       "-3907003130834322577"
      ]
     },
     "execution_count": 3,
     "metadata": {},
     "output_type": "execute_result"
    }
   ],
   "source": [
    "tl = (1, 2, (30, 40))\n",
    "hash(tl)"
   ]
  },
  {
   "cell_type": "code",
   "execution_count": 4,
   "id": "6eeb1dec",
   "metadata": {},
   "outputs": [
    {
     "data": {
      "text/plain": [
       "5149391500123939311"
      ]
     },
     "execution_count": 4,
     "metadata": {},
     "output_type": "execute_result"
    }
   ],
   "source": [
    "tf = (1, 2, frozenset([30, 40]))\n",
    "hash(tf)"
   ]
  },
  {
   "cell_type": "code",
   "execution_count": 5,
   "id": "d9e7df9e",
   "metadata": {},
   "outputs": [],
   "source": [
    "a = dict(one=1, two=2, three=3)\n",
    "b = {'one'}\n",
    "c = dict(zip(['one', 'two', 'three'], [1, 2, 3]))"
   ]
  },
  {
   "cell_type": "code",
   "execution_count": 6,
   "id": "133a0018",
   "metadata": {},
   "outputs": [],
   "source": [
    "DIAL_CODES = [\n",
    "    (86, 'China'),\n",
    "    (91, 'India'),\n",
    "    (1, 'United States')\n",
    "]"
   ]
  },
  {
   "cell_type": "code",
   "execution_count": 7,
   "id": "f7b4d31b",
   "metadata": {},
   "outputs": [
    {
     "data": {
      "text/plain": [
       "{'China': 86, 'India': 91, 'United States': 1}"
      ]
     },
     "execution_count": 7,
     "metadata": {},
     "output_type": "execute_result"
    }
   ],
   "source": [
    "country_code = {country: code for code, country in DIAL_CODES}\n",
    "country_code"
   ]
  },
  {
   "cell_type": "code",
   "execution_count": 8,
   "id": "b6adfa09",
   "metadata": {},
   "outputs": [
    {
     "data": {
      "text/plain": [
       "{86: 'China', 91: 'India'}"
      ]
     },
     "execution_count": 8,
     "metadata": {},
     "output_type": "execute_result"
    }
   ],
   "source": [
    "{code: country for country, code in country_code.items() if code >= 80}"
   ]
  },
  {
   "cell_type": "markdown",
   "id": "759d1fba",
   "metadata": {},
   "source": [
    "## 3.3 공통적인 매핑 매서드"
   ]
  },
  {
   "cell_type": "code",
   "execution_count": 51,
   "id": "43aee287",
   "metadata": {},
   "outputs": [],
   "source": [
    "# 단어가 나타나는 위치를 가리키는 인덱스\n",
    "def index(txt_file):\n",
    "    import sys, re\n",
    "\n",
    "    WORD_RE = re.compile(r'\\w+') # 알파벳과 숫자만 인식, 나머지 문자에서 끊음 , http://regex101.com\n",
    "    index = {}\n",
    "\n",
    "    with open(txt_file, encoding='utf-8') as fp:\n",
    "        for line_no, line in enumerate(fp, 1):\n",
    "            for match in WORD_RE.finditer(line):\n",
    "                word = match.group()\n",
    "                column_no = match.start()+1\n",
    "                location = (line_no, column_no)\n",
    "                occurence = index.get(word, []) # get은 index[word]를 만들지는 않고, 그냥 []를 반환만 함\n",
    "                occurence.append(location)\n",
    "                index[word] = occurence\n",
    "                \n",
    "    for word in sorted(index, key=str.upper):\n",
    "        print(word, index[word])"
   ]
  },
  {
   "cell_type": "code",
   "execution_count": 52,
   "id": "92b3ddd2",
   "metadata": {},
   "outputs": [
    {
     "name": "stdout",
     "output_type": "stream",
     "text": [
      "A [(1, 1), (6, 1)]\n",
      "and [(5, 21)]\n",
      "back [(5, 16)]\n",
      "barking [(1, 3)]\n",
      "before [(4, 28)]\n",
      "better [(3, 15)]\n",
      "bites [(1, 21)]\n",
      "chickens [(4, 19)]\n",
      "count [(4, 8)]\n",
      "Do [(4, 1)]\n",
      "dog [(1, 11)]\n",
      "gain [(2, 12)]\n",
      "hatch [(4, 40)]\n",
      "I [(5, 25)]\n",
      "ll [(5, 27)]\n",
      "more [(3, 5)]\n",
      "my [(5, 13)]\n",
      "never [(1, 15)]\n",
      "No [(2, 1), (2, 9)]\n",
      "not [(4, 4)]\n",
      "pain [(2, 4)]\n",
      "pet [(6, 3)]\n",
      "scratch [(5, 5), (5, 30)]\n",
      "The [(3, 1)]\n",
      "the [(3, 11)]\n",
      "they [(4, 35)]\n",
      "You [(5, 1)]\n",
      "your [(4, 14)]\n",
      "yours [(5, 38)]\n"
     ]
    }
   ],
   "source": [
    "index('txt/proverb.txt')"
   ]
  },
  {
   "cell_type": "code",
   "execution_count": 66,
   "id": "3230b718",
   "metadata": {},
   "outputs": [],
   "source": [
    "# 단어가 나타나는 위치를 가리키는 인덱스\n",
    "def index_(txt_file):\n",
    "    import sys, re\n",
    "\n",
    "    WORD_RE = re.compile(r'\\w+') # 알파벳과 숫자만 인식, 나머지 문자에서 끊음 , http://regex101.com\n",
    "    index = {}\n",
    "\n",
    "    with open(txt_file, encoding='utf-8') as fp:\n",
    "        for line_no, line in enumerate(fp, 1):\n",
    "            for match in WORD_RE.finditer(line):\n",
    "                word = match.group()\n",
    "                column_no = match.start()+1\n",
    "                location = (line_no, column_no)\n",
    "                index.setdefault(word, []).append(location)\n",
    "                \n",
    "    for word in sorted(index, key=str.upper):\n",
    "        print(word, index[word])"
   ]
  },
  {
   "cell_type": "code",
   "execution_count": 67,
   "id": "ef3e41c8",
   "metadata": {},
   "outputs": [
    {
     "name": "stdout",
     "output_type": "stream",
     "text": [
      "A [(1, 1), (6, 1)]\n",
      "and [(5, 21)]\n",
      "back [(5, 16)]\n",
      "barking [(1, 3)]\n",
      "before [(4, 28)]\n",
      "better [(3, 15)]\n",
      "bites [(1, 21)]\n",
      "chickens [(4, 19)]\n",
      "count [(4, 8)]\n",
      "Do [(4, 1)]\n",
      "dog [(1, 11)]\n",
      "gain [(2, 12)]\n",
      "hatch [(4, 40)]\n",
      "I [(5, 25)]\n",
      "ll [(5, 27)]\n",
      "more [(3, 5)]\n",
      "my [(5, 13)]\n",
      "never [(1, 15)]\n",
      "No [(2, 1), (2, 9)]\n",
      "not [(4, 4)]\n",
      "pain [(2, 4)]\n",
      "pet [(6, 3)]\n",
      "scratch [(5, 5), (5, 30)]\n",
      "The [(3, 1)]\n",
      "the [(3, 11)]\n",
      "they [(4, 35)]\n",
      "You [(5, 1)]\n",
      "your [(4, 14)]\n",
      "yours [(5, 38)]\n"
     ]
    }
   ],
   "source": [
    "index_('txt/proverb.txt')"
   ]
  },
  {
   "cell_type": "markdown",
   "id": "78ac5fdf",
   "metadata": {},
   "source": [
    "## 3.6 UserDict 상속하기"
   ]
  }
 ],
 "metadata": {
  "kernelspec": {
   "display_name": "Python 3 (ipykernel)",
   "language": "python",
   "name": "python3"
  },
  "language_info": {
   "codemirror_mode": {
    "name": "ipython",
    "version": 3
   },
   "file_extension": ".py",
   "mimetype": "text/x-python",
   "name": "python",
   "nbconvert_exporter": "python",
   "pygments_lexer": "ipython3",
   "version": "3.9.7"
  }
 },
 "nbformat": 4,
 "nbformat_minor": 5
}
