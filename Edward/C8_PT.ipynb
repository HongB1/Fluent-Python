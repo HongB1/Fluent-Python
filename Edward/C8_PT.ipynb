{
 "cells": [
  {
   "cell_type": "markdown",
   "id": "0b69cbd9",
   "metadata": {},
   "source": [
    "## 8.1 변수는 상자가 아니다"
   ]
  },
  {
   "cell_type": "markdown",
   "id": "74140299",
   "metadata": {},
   "source": [
    "변수를 포스트잇으로 생각하자!"
   ]
  },
  {
   "cell_type": "code",
   "execution_count": 1,
   "id": "0a4d8b19",
   "metadata": {},
   "outputs": [
    {
     "data": {
      "text/plain": [
       "[1, 2, 3, 4]"
      ]
     },
     "execution_count": 1,
     "metadata": {},
     "output_type": "execute_result"
    }
   ],
   "source": [
    "#'상자로서의 변수' 개념이 설명할 수 없는 코드\n",
    "\n",
    "a = [1, 2, 3]\n",
    "b = a\n",
    "a.append(4)\n",
    "b"
   ]
  },
  {
   "cell_type": "code",
   "execution_count": 2,
   "id": "359f498b",
   "metadata": {},
   "outputs": [],
   "source": [
    "class Gizmo:\n",
    "    def __init__(self):\n",
    "        print('Gizmo id: %d' % id(self))"
   ]
  },
  {
   "cell_type": "code",
   "execution_count": 3,
   "id": "fcf4fae0",
   "metadata": {},
   "outputs": [
    {
     "name": "stdout",
     "output_type": "stream",
     "text": [
      "Gizmo id: 2132120667280\n"
     ]
    }
   ],
   "source": [
    "x = Gizmo()"
   ]
  },
  {
   "cell_type": "markdown",
   "id": "75335de2",
   "metadata": {},
   "source": [
    "- https://bit.ly/3TUaOQ3\n",
    "- 할당문의 오른쪽이 먼저 실행됨"
   ]
  },
  {
   "cell_type": "code",
   "execution_count": 4,
   "id": "59035f53",
   "metadata": {},
   "outputs": [
    {
     "name": "stdout",
     "output_type": "stream",
     "text": [
      "Gizmo id: 2132120666752\n"
     ]
    },
    {
     "ename": "TypeError",
     "evalue": "unsupported operand type(s) for *: 'Gizmo' and 'int'",
     "output_type": "error",
     "traceback": [
      "\u001b[1;31m---------------------------------------------------------------------------\u001b[0m",
      "\u001b[1;31mTypeError\u001b[0m                                 Traceback (most recent call last)",
      "\u001b[1;32m~\\AppData\\Local\\Temp/ipykernel_20660/2818280385.py\u001b[0m in \u001b[0;36m<module>\u001b[1;34m\u001b[0m\n\u001b[1;32m----> 1\u001b[1;33m \u001b[0my\u001b[0m \u001b[1;33m=\u001b[0m \u001b[0mGizmo\u001b[0m\u001b[1;33m(\u001b[0m\u001b[1;33m)\u001b[0m \u001b[1;33m*\u001b[0m \u001b[1;36m10\u001b[0m\u001b[1;33m\u001b[0m\u001b[1;33m\u001b[0m\u001b[0m\n\u001b[0m",
      "\u001b[1;31mTypeError\u001b[0m: unsupported operand type(s) for *: 'Gizmo' and 'int'"
     ]
    }
   ],
   "source": [
    "y = Gizmo() * 10"
   ]
  },
  {
   "cell_type": "code",
   "execution_count": 5,
   "id": "fa60defe",
   "metadata": {},
   "outputs": [
    {
     "ename": "NameError",
     "evalue": "name 'y' is not defined",
     "output_type": "error",
     "traceback": [
      "\u001b[1;31m---------------------------------------------------------------------------\u001b[0m",
      "\u001b[1;31mNameError\u001b[0m                                 Traceback (most recent call last)",
      "\u001b[1;32m~\\AppData\\Local\\Temp/ipykernel_20660/3563912222.py\u001b[0m in \u001b[0;36m<module>\u001b[1;34m\u001b[0m\n\u001b[1;32m----> 1\u001b[1;33m \u001b[0my\u001b[0m\u001b[1;33m\u001b[0m\u001b[1;33m\u001b[0m\u001b[0m\n\u001b[0m",
      "\u001b[1;31mNameError\u001b[0m: name 'y' is not defined"
     ]
    }
   ],
   "source": [
    "y"
   ]
  },
  {
   "cell_type": "code",
   "execution_count": 6,
   "id": "5ac3ab5e",
   "metadata": {},
   "outputs": [
    {
     "data": {
      "text/plain": [
       "['Gizmo',\n",
       " 'In',\n",
       " 'Out',\n",
       " '_',\n",
       " '_1',\n",
       " '__',\n",
       " '___',\n",
       " '__builtin__',\n",
       " '__builtins__',\n",
       " '__doc__',\n",
       " '__loader__',\n",
       " '__name__',\n",
       " '__package__',\n",
       " '__spec__',\n",
       " '_dh',\n",
       " '_i',\n",
       " '_i1',\n",
       " '_i2',\n",
       " '_i3',\n",
       " '_i4',\n",
       " '_i5',\n",
       " '_i6',\n",
       " '_ih',\n",
       " '_ii',\n",
       " '_iii',\n",
       " '_oh',\n",
       " 'a',\n",
       " 'b',\n",
       " 'exit',\n",
       " 'get_ipython',\n",
       " 'quit',\n",
       " 'x']"
      ]
     },
     "execution_count": 6,
     "metadata": {},
     "output_type": "execute_result"
    }
   ],
   "source": [
    "dir() # 네임 스페이스에 등록되어 있는 모든 이름들을 리스트로 반환해주는 파이썬의 내장 함수"
   ]
  },
  {
   "cell_type": "markdown",
   "id": "790962e0",
   "metadata": {},
   "source": [
    "## 8.2 정체성, 동질성, 별명"
   ]
  },
  {
   "cell_type": "markdown",
   "id": "bf42bae6",
   "metadata": {},
   "source": [
    "- 동일한 객체를 참조하는 charles와 lewis"
   ]
  },
  {
   "cell_type": "code",
   "execution_count": 7,
   "id": "bc9a6f4e",
   "metadata": {},
   "outputs": [
    {
     "data": {
      "text/plain": [
       "True"
      ]
     },
     "execution_count": 7,
     "metadata": {},
     "output_type": "execute_result"
    }
   ],
   "source": [
    "charles = {'name': 'Charles L. Dodgson', 'born': 1832}\n",
    "lewis = charles\n",
    "lewis is charles"
   ]
  },
  {
   "cell_type": "code",
   "execution_count": 8,
   "id": "11213d73",
   "metadata": {},
   "outputs": [
    {
     "data": {
      "text/plain": [
       "(2132120613184, 2132120613184)"
      ]
     },
     "execution_count": 8,
     "metadata": {},
     "output_type": "execute_result"
    }
   ],
   "source": [
    "id(charles), id(lewis)"
   ]
  },
  {
   "cell_type": "code",
   "execution_count": 9,
   "id": "0692beb4",
   "metadata": {},
   "outputs": [],
   "source": [
    "lewis['balance'] = 950"
   ]
  },
  {
   "cell_type": "code",
   "execution_count": 10,
   "id": "5802080b",
   "metadata": {},
   "outputs": [
    {
     "data": {
      "text/plain": [
       "{'name': 'Charles L. Dodgson', 'born': 1832, 'balance': 950}"
      ]
     },
     "execution_count": 10,
     "metadata": {},
     "output_type": "execute_result"
    }
   ],
   "source": [
    "charles"
   ]
  },
  {
   "cell_type": "markdown",
   "id": "9f5635d3",
   "metadata": {},
   "source": [
    "- 두 객체의 정체성이 다르다\n",
    "- 두 객체는 서로 별개의 객체다"
   ]
  },
  {
   "cell_type": "code",
   "execution_count": 11,
   "id": "4914c2e9",
   "metadata": {},
   "outputs": [],
   "source": [
    "alex = {'name': 'Charles L. Dodgson', 'born': 1832, 'balance': 950}"
   ]
  },
  {
   "cell_type": "code",
   "execution_count": 12,
   "id": "b53ce1c3",
   "metadata": {},
   "outputs": [
    {
     "data": {
      "text/plain": [
       "True"
      ]
     },
     "execution_count": 12,
     "metadata": {},
     "output_type": "execute_result"
    }
   ],
   "source": [
    "alex == charles"
   ]
  },
  {
   "cell_type": "code",
   "execution_count": 13,
   "id": "6066d527",
   "metadata": {},
   "outputs": [
    {
     "data": {
      "text/plain": [
       "False"
      ]
     },
     "execution_count": 13,
     "metadata": {},
     "output_type": "execute_result"
    }
   ],
   "source": [
    "alex is charles"
   ]
  },
  {
   "cell_type": "code",
   "execution_count": 1,
   "id": "f72b8e65",
   "metadata": {},
   "outputs": [
    {
     "data": {
      "text/plain": [
       "True"
      ]
     },
     "execution_count": 1,
     "metadata": {},
     "output_type": "execute_result"
    }
   ],
   "source": [
    "a = 1\n",
    "b = 1\n",
    "a is b"
   ]
  },
  {
   "cell_type": "markdown",
   "id": "f2afb728",
   "metadata": {},
   "source": [
    "- 모든 객체는 정체성, 자료형, 값을 가지고 있다\n",
    "- 객체의 정체성은 일단 생성된 후에는 결코 변경되지 않는다"
   ]
  },
  {
   "cell_type": "markdown",
   "id": "d1cc912d",
   "metadata": {},
   "source": [
    "### 8.2.1 == 연산자와 is 연산자 간의 선택"
   ]
  },
  {
   "cell_type": "markdown",
   "id": "d0fa62ba",
   "metadata": {},
   "source": [
    "- == 연산자(동치 연산자)는 객체의 값을 비교, is 연산자는 객체의 정체성을 비교"
   ]
  },
  {
   "cell_type": "markdown",
   "id": "c0bf7939",
   "metadata": {},
   "source": [
    "### 8.2.2 == 튜플의 상대적 불변성"
   ]
  },
  {
   "cell_type": "markdown",
   "id": "bdb5ebb2",
   "metadata": {},
   "source": [
    "- 튜플 자체는 불변형이지만, 참조된 항목이 가변형이면 참조된 항목은 변경될 수 있다."
   ]
  },
  {
   "cell_type": "code",
   "execution_count": 14,
   "id": "7cf9df9a",
   "metadata": {},
   "outputs": [
    {
     "data": {
      "text/plain": [
       "True"
      ]
     },
     "execution_count": 14,
     "metadata": {},
     "output_type": "execute_result"
    }
   ],
   "source": [
    "t1 = (1, 2, [30, 40])\n",
    "t2 = (1, 2, [30, 40])\n",
    "t1 == t2"
   ]
  },
  {
   "cell_type": "code",
   "execution_count": 15,
   "id": "4e833e4f",
   "metadata": {},
   "outputs": [
    {
     "data": {
      "text/plain": [
       "2132120590016"
      ]
     },
     "execution_count": 15,
     "metadata": {},
     "output_type": "execute_result"
    }
   ],
   "source": [
    "id(t1[-1])"
   ]
  },
  {
   "cell_type": "code",
   "execution_count": 16,
   "id": "0a6bf30a",
   "metadata": {},
   "outputs": [],
   "source": [
    "t1[-1].append(99)"
   ]
  },
  {
   "cell_type": "code",
   "execution_count": 17,
   "id": "27453552",
   "metadata": {},
   "outputs": [
    {
     "data": {
      "text/plain": [
       "2132120590016"
      ]
     },
     "execution_count": 17,
     "metadata": {},
     "output_type": "execute_result"
    }
   ],
   "source": [
    "id(t1[-1])"
   ]
  },
  {
   "cell_type": "code",
   "execution_count": 18,
   "id": "09a32093",
   "metadata": {},
   "outputs": [
    {
     "data": {
      "text/plain": [
       "(1, 2, [30, 40, 99])"
      ]
     },
     "execution_count": 18,
     "metadata": {},
     "output_type": "execute_result"
    }
   ],
   "source": [
    "t1"
   ]
  },
  {
   "cell_type": "code",
   "execution_count": 19,
   "id": "974f98b0",
   "metadata": {
    "scrolled": true
   },
   "outputs": [
    {
     "data": {
      "text/plain": [
       "(1, 2, [30, 40])"
      ]
     },
     "execution_count": 19,
     "metadata": {},
     "output_type": "execute_result"
    }
   ],
   "source": [
    "t2"
   ]
  },
  {
   "cell_type": "markdown",
   "id": "e01f9a3f",
   "metadata": {},
   "source": [
    "## 8.3 기본 복사는 얕은 복사"
   ]
  },
  {
   "cell_type": "markdown",
   "id": "e351b34c",
   "metadata": {},
   "source": [
    "- 얕은 사본 생성 (최상위 컨테이너는 복제하지만, 사본은 원래 컨테이너에 들어 있던 동일 객체에 대한 참조로 채워짐)\n",
    "- https://pythontutor.com/visualize.html#mode=edit"
   ]
  },
  {
   "cell_type": "code",
   "execution_count": 20,
   "id": "7fd69ae2",
   "metadata": {},
   "outputs": [
    {
     "data": {
      "text/plain": [
       "[3, [55, 44], (7, 8, 9)]"
      ]
     },
     "execution_count": 20,
     "metadata": {},
     "output_type": "execute_result"
    }
   ],
   "source": [
    "l1 = [3, [55, 44], (7, 8, 9)]\n",
    "l2 = list(l1)\n",
    "l2"
   ]
  },
  {
   "cell_type": "code",
   "execution_count": 21,
   "id": "fdea1a39",
   "metadata": {},
   "outputs": [
    {
     "data": {
      "text/plain": [
       "True"
      ]
     },
     "execution_count": 21,
     "metadata": {},
     "output_type": "execute_result"
    }
   ],
   "source": [
    "l2 == l1"
   ]
  },
  {
   "cell_type": "code",
   "execution_count": 22,
   "id": "8f78f0bf",
   "metadata": {},
   "outputs": [
    {
     "data": {
      "text/plain": [
       "False"
      ]
     },
     "execution_count": 22,
     "metadata": {},
     "output_type": "execute_result"
    }
   ],
   "source": [
    "l2 is l1"
   ]
  },
  {
   "cell_type": "code",
   "execution_count": null,
   "id": "d5c2c4d8",
   "metadata": {},
   "outputs": [],
   "source": [
    "class AA:\n",
    "\n",
    "\n",
    "a = AA()\n",
    "b = AA()\n",
    "c = AA()"
   ]
  },
  {
   "cell_type": "markdown",
   "id": "ff0b56b1",
   "metadata": {},
   "source": [
    "- 다른 리스트를 담고 있는 리스트의 얕은 복사\n",
    "- https://pythontutor.com/visualize.html#mode=edit"
   ]
  },
  {
   "cell_type": "code",
   "execution_count": 26,
   "id": "62d2bee6",
   "metadata": {},
   "outputs": [
    {
     "name": "stdout",
     "output_type": "stream",
     "text": [
      "l1:  [3, [66, 44], (7, 8, 9), 100]\n",
      "l2:  [3, [66, 44], (7, 8, 9)]\n",
      "l1:  [3, [66, 44, 33, 22], (7, 8, 9), 100]\n",
      "l2:  [3, [66, 44, 33, 22], (7, 8, 9, 10, 11)]\n"
     ]
    }
   ],
   "source": [
    "l1 = [3, [66, 55, 44], (7, 8, 9)]\n",
    "l2 = list(l1)\n",
    "l1.append(100)\n",
    "l1[1].remove(55)\n",
    "print('l1: ', l1)\n",
    "print('l2: ', l2)\n",
    "\n",
    "l2[1] += [33, 22]\n",
    "l2[2] = l2[2] + (10, 11)\n",
    "print('l1: ', l1)\n",
    "print('l2: ', l2)"
   ]
  },
  {
   "cell_type": "markdown",
   "id": "2cfe7b05",
   "metadata": {},
   "source": [
    "### 8.3.1 객체의 깊은 복사와 얕은 복사"
   ]
  },
  {
   "cell_type": "code",
   "execution_count": 2,
   "id": "93b99dec",
   "metadata": {},
   "outputs": [],
   "source": [
    "a = [1,2,3,4]\n",
    "\n",
    "b = [*a] # 언패킹, 속도 제일 빠름\n",
    "c = list(a)\n",
    "d = [i for i in a]\n",
    "e = a[:]"
   ]
  },
  {
   "cell_type": "code",
   "execution_count": 3,
   "id": "860c57aa",
   "metadata": {},
   "outputs": [
    {
     "data": {
      "text/plain": [
       "([1, 2, 3, 4], [1, 2, 3, 4], [1, 2, 3, 4], [1, 2, 3, 4])"
      ]
     },
     "execution_count": 3,
     "metadata": {},
     "output_type": "execute_result"
    }
   ],
   "source": [
    "b, c, d, e"
   ]
  },
  {
   "cell_type": "markdown",
   "id": "3200e601",
   "metadata": {},
   "source": [
    "- copy 모듈이 제공하는 copy() 함수는 얕은 복사를 지원\n",
    "- copy 모듈이 제공하는 deepcopy() 함수는 깊은 복사를 지원"
   ]
  },
  {
   "cell_type": "code",
   "execution_count": 1,
   "id": "4842b680",
   "metadata": {},
   "outputs": [],
   "source": [
    "class Bus:\n",
    "    def __init__(self, passengers=None):\n",
    "        if passengers is None:\n",
    "            self.passengers = []\n",
    "        else:\n",
    "            self.passengers = list(passengers)\n",
    "            \n",
    "    def pick(self, name):\n",
    "        self.passengers.append(name)\n",
    "        \n",
    "    def drop(self, name):\n",
    "        self.passengers.remove(name)"
   ]
  },
  {
   "cell_type": "code",
   "execution_count": 2,
   "id": "134b6637",
   "metadata": {},
   "outputs": [
    {
     "data": {
      "text/plain": [
       "(2132535255968, 2132535255536, 2132535256400)"
      ]
     },
     "execution_count": 2,
     "metadata": {},
     "output_type": "execute_result"
    }
   ],
   "source": [
    "import copy\n",
    "bus1 = Bus(['Alice', 'Bill', 'Claire', 'David'])\n",
    "bus2 = copy.copy(bus1)\n",
    "bus3 = copy.deepcopy(bus1)\n",
    "id(bus1), id(bus2), id(bus3)"
   ]
  },
  {
   "cell_type": "code",
   "execution_count": 3,
   "id": "8ead6bc2",
   "metadata": {},
   "outputs": [
    {
     "data": {
      "text/plain": [
       "(['Alice', 'Claire', 'David'],\n",
       " ['Alice', 'Claire', 'David'],\n",
       " ['Alice', 'Bill', 'Claire', 'David'])"
      ]
     },
     "execution_count": 3,
     "metadata": {},
     "output_type": "execute_result"
    }
   ],
   "source": [
    "bus1.drop('Bill')\n",
    "bus1.passengers, bus2.passengers, bus3.passengers"
   ]
  },
  {
   "cell_type": "code",
   "execution_count": 8,
   "id": "a687e8a9",
   "metadata": {},
   "outputs": [
    {
     "data": {
      "text/plain": [
       "(2132535020608, 2132535020608, 2132535317504)"
      ]
     },
     "execution_count": 8,
     "metadata": {},
     "output_type": "execute_result"
    }
   ],
   "source": [
    "id(bus1.passengers), id(bus2.passengers), id(bus3.passengers)\n",
    "# bus1과 bus2가 동일 리스트를 공유한다. 반면 bus3는 다른 리스트를 가리킨다."
   ]
  },
  {
   "cell_type": "code",
   "execution_count": 5,
   "id": "bd0b5803",
   "metadata": {},
   "outputs": [
    {
     "data": {
      "text/plain": [
       "[10, 20, [[...], 30]]"
      ]
     },
     "execution_count": 5,
     "metadata": {},
     "output_type": "execute_result"
    }
   ],
   "source": [
    "a = [10, 20]\n",
    "b = [a, 30]\n",
    "a.append(b)\n",
    "a"
   ]
  },
  {
   "cell_type": "code",
   "execution_count": 6,
   "id": "858ea322",
   "metadata": {},
   "outputs": [
    {
     "data": {
      "text/plain": [
       "[10, 20, [[...], 30]]"
      ]
     },
     "execution_count": 6,
     "metadata": {},
     "output_type": "execute_result"
    }
   ],
   "source": [
    "c = copy.deepcopy(a)\n",
    "c"
   ]
  },
  {
   "cell_type": "code",
   "execution_count": 7,
   "id": "6ba9f262",
   "metadata": {},
   "outputs": [
    {
     "data": {
      "text/plain": [
       "([[10, 20, [...]], 30], [[10, 20, [...]], 30])"
      ]
     },
     "execution_count": 7,
     "metadata": {},
     "output_type": "execute_result"
    }
   ],
   "source": [
    "a[2], c[2]"
   ]
  },
  {
   "cell_type": "code",
   "execution_count": null,
   "id": "249933f4",
   "metadata": {},
   "outputs": [],
   "source": []
  }
 ],
 "metadata": {
  "kernelspec": {
   "display_name": "Python 3 (ipykernel)",
   "language": "python",
   "name": "python3"
  },
  "language_info": {
   "codemirror_mode": {
    "name": "ipython",
    "version": 3
   },
   "file_extension": ".py",
   "mimetype": "text/x-python",
   "name": "python",
   "nbconvert_exporter": "python",
   "pygments_lexer": "ipython3",
   "version": "3.9.7"
  }
 },
 "nbformat": 4,
 "nbformat_minor": 5
}
