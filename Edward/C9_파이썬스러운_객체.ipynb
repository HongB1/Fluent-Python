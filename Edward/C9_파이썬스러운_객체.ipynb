{
 "cells": [
  {
   "cell_type": "markdown",
<<<<<<< HEAD
   "id": "8193dd76",
=======
   "id": "81230125",
>>>>>>> c3f12c2f16f8188cb5353700e1bfc0d281dea0b9
   "metadata": {},
   "source": [
    "## 9.2 벡터 클래스의 부활"
   ]
  },
  {
   "cell_type": "code",
<<<<<<< HEAD
   "execution_count": 4,
   "id": "ae613d0b",
=======
   "execution_count": 1,
   "id": "11fd2bf4",
>>>>>>> c3f12c2f16f8188cb5353700e1bfc0d281dea0b9
   "metadata": {},
   "outputs": [],
   "source": [
    "from array import array\n",
    "import math"
   ]
  },
  {
   "cell_type": "code",
<<<<<<< HEAD
   "execution_count": null,
   "id": "13ebe267",
=======
   "execution_count": 2,
   "id": "98fc3812",
>>>>>>> c3f12c2f16f8188cb5353700e1bfc0d281dea0b9
   "metadata": {},
   "outputs": [],
   "source": [
    "class Vector2d:\n",
    "    typecode ='d'\n",
    "    \n",
    "    def __init__(self, x, y):\n",
<<<<<<< HEAD
    "        self.x = float(x)\n",
    "        self.y = float(y)\n",
    "        "
=======
    "        self.__x = float(x)\n",
    "        self.__y = float(y)\n",
    "        \n",
    "    @property\n",
    "    def x(self):\n",
    "        return self.__x\n",
    "    \n",
    "    @property\n",
    "    def y(self):\n",
    "        return self.__y\n",
    "        \n",
    "    def __iter__(self):\n",
    "        return (i for i in (self.x, self.y))\n",
    "    \n",
    "    def __repr__(self):\n",
    "        class_name = type(self).__name__\n",
    "        return '{}({!r}, {!r})'.format(class_name, *self)\n",
    "    \n",
    "    def __str__(self):\n",
    "        return str(tuple(self))\n",
    "    \n",
    "    def __bytes__(self):\n",
    "        return (bytes([ord(self.typecode)]) +\n",
    "                bytes(array(self.typecode, self)))\n",
    "    \n",
    "    def __eq__(self, other):\n",
    "        return tuple(self) == tuple(other)\n",
    "    \n",
    "    def __hash__(self):\n",
    "        return hash(self.x) ^ hash(self.y)\n",
    "    \n",
    "    def __abs__(self):\n",
    "        return math.hypot(self.x, self.y)\n",
    "    \n",
    "    def __bool__(self):\n",
    "        return bool(abs(self))\n",
    "        \n",
    "    def angle(self):\n",
    "        return math.atan2(self.y, self.x)\n",
    "    \n",
    "    def __format__(self, fmt_spec=''):\n",
    "        if fmt_spec.endswith('p'):\n",
    "            fmt_spec = fmt_spec[:-1]\n",
    "            coords = (abs(self), self.angle())\n",
    "            outer_fmt = '<{}, {}>'\n",
    "        else:\n",
    "            coords = self\n",
    "            outer_fmt = '({}, {})'\n",
    "        components = (format(c, fmt_spec) for c in coords)\n",
    "        return outer_fmt.format(*components)\n",
    "    \n",
    "    @classmethod\n",
    "    def frombytes(cls, octets):\n",
    "        typecode = chr(octets[0])\n",
    "        memv = memoryview(octets[1:]).cast(typecode)\n",
    "        return cls(*memv)"
>>>>>>> c3f12c2f16f8188cb5353700e1bfc0d281dea0b9
   ]
  },
  {
   "cell_type": "code",
   "execution_count": 3,
<<<<<<< HEAD
   "id": "86ab0ba5",
   "metadata": {},
   "outputs": [
    {
     "ename": "NameError",
     "evalue": "name 'Vector2d' is not defined",
     "output_type": "error",
     "traceback": [
      "\u001b[1;31m---------------------------------------------------------------------------\u001b[0m",
      "\u001b[1;31mNameError\u001b[0m                                 Traceback (most recent call last)",
      "\u001b[1;32m~\\AppData\\Local\\Temp/ipykernel_22296/3211557243.py\u001b[0m in \u001b[0;36m<module>\u001b[1;34m\u001b[0m\n\u001b[1;32m----> 1\u001b[1;33m \u001b[0mv1\u001b[0m \u001b[1;33m=\u001b[0m \u001b[0mVector2d\u001b[0m\u001b[1;33m(\u001b[0m\u001b[1;36m3\u001b[0m\u001b[1;33m,\u001b[0m \u001b[1;36m4\u001b[0m\u001b[1;33m)\u001b[0m\u001b[1;33m\u001b[0m\u001b[1;33m\u001b[0m\u001b[0m\n\u001b[0m\u001b[0;32m      2\u001b[0m \u001b[0mprint\u001b[0m\u001b[1;33m(\u001b[0m\u001b[0mv1\u001b[0m\u001b[1;33m.\u001b[0m\u001b[0mx\u001b[0m\u001b[1;33m,\u001b[0m \u001b[0mv1\u001b[0m\u001b[1;33m.\u001b[0m\u001b[0my\u001b[0m\u001b[1;33m)\u001b[0m\u001b[1;33m\u001b[0m\u001b[1;33m\u001b[0m\u001b[0m\n",
      "\u001b[1;31mNameError\u001b[0m: name 'Vector2d' is not defined"
=======
   "id": "06042439",
   "metadata": {},
   "outputs": [
    {
     "name": "stdout",
     "output_type": "stream",
     "text": [
      "3.0 4.0\n"
     ]
    }
   ],
   "source": [
    "v1 = Vector2d(3, 4)\n",
    "print(v1.x, v1.y)"
   ]
  },
  {
   "cell_type": "code",
   "execution_count": 4,
   "id": "82b74ae5",
   "metadata": {},
   "outputs": [],
   "source": [
    "x, y = v1"
   ]
  },
  {
   "cell_type": "code",
   "execution_count": 5,
   "id": "9c40879b",
   "metadata": {},
   "outputs": [],
   "source": [
    "v1_clone = eval(repr(v1))"
   ]
  },
  {
   "cell_type": "code",
   "execution_count": 6,
   "id": "0b51852a",
   "metadata": {},
   "outputs": [
    {
     "data": {
      "text/plain": [
       "True"
      ]
     },
     "execution_count": 6,
     "metadata": {},
     "output_type": "execute_result"
    }
   ],
   "source": [
    "v1 == v1_clone"
   ]
  },
  {
   "cell_type": "code",
   "execution_count": 7,
   "id": "fb13aa00",
   "metadata": {},
   "outputs": [
    {
     "name": "stdout",
     "output_type": "stream",
     "text": [
      "(3.0, 4.0)\n"
     ]
    }
   ],
   "source": [
    "print(v1)"
   ]
  },
  {
   "cell_type": "code",
   "execution_count": 8,
   "id": "70e65eb5",
   "metadata": {},
   "outputs": [
    {
     "data": {
      "text/plain": [
       "b'd\\x00\\x00\\x00\\x00\\x00\\x00\\x08@\\x00\\x00\\x00\\x00\\x00\\x00\\x10@'"
      ]
     },
     "execution_count": 8,
     "metadata": {},
     "output_type": "execute_result"
    }
   ],
   "source": [
    "octets = bytes(v1)\n",
    "octets"
   ]
  },
  {
   "cell_type": "code",
   "execution_count": 9,
   "id": "5c385893",
   "metadata": {},
   "outputs": [
    {
     "data": {
      "text/plain": [
       "(True, False)"
      ]
     },
     "execution_count": 9,
     "metadata": {},
     "output_type": "execute_result"
    }
   ],
   "source": [
    "bool(v1), bool(Vector2d(0, 0))"
   ]
  },
  {
   "cell_type": "markdown",
   "id": "e03ccb2f",
   "metadata": {},
   "source": [
    "## 9.3 대안 생성자"
   ]
  },
  {
   "cell_type": "code",
   "execution_count": 10,
   "id": "3910dbe4",
   "metadata": {},
   "outputs": [],
   "source": [
    "# @classmethod\n",
    "# def frombytes(cls, octetsx\n",
    "#     typecode = chr(octets[0])\n",
    "#     memv = memoryview(octets[1:]).cast(typecode)\n",
    "#     return cls(*memv)"
   ]
  },
  {
   "cell_type": "markdown",
   "id": "ddc3f8f7",
   "metadata": {},
   "source": [
    "## 9.4 @classmethod와 @staticmethod"
   ]
  },
  {
   "cell_type": "markdown",
   "id": "5d6ef913",
   "metadata": {},
   "source": [
    "- @classmethod 데커레이터: 객체가 아닌 클래스에 연산을 수행하는 메서드를 정의\n",
    "- @staticmethod 데커레이터: 메서드가 특별히 첫 번째 인수를 받지 않도록 메서드를 정의"
   ]
  },
  {
   "cell_type": "code",
   "execution_count": 11,
   "id": "9868e75e",
   "metadata": {},
   "outputs": [],
   "source": [
    "class Demo:\n",
    "    @classmethod\n",
    "    def klassmeth(*args):\n",
    "        return args\n",
    "    @staticmethod\n",
    "    def statmeth(*args):\n",
    "        return args"
   ]
  },
  {
   "cell_type": "code",
   "execution_count": 12,
   "id": "dfbf15bf",
   "metadata": {},
   "outputs": [
    {
     "data": {
      "text/plain": [
       "(__main__.Demo,)"
      ]
     },
     "execution_count": 12,
     "metadata": {},
     "output_type": "execute_result"
    }
   ],
   "source": [
    "Demo.klassmeth()"
   ]
  },
  {
   "cell_type": "code",
   "execution_count": 13,
   "id": "66ba7b53",
   "metadata": {},
   "outputs": [
    {
     "data": {
      "text/plain": [
       "(__main__.Demo, 'spam')"
      ]
     },
     "execution_count": 13,
     "metadata": {},
     "output_type": "execute_result"
    }
   ],
   "source": [
    "Demo.klassmeth('spam')"
   ]
  },
  {
   "cell_type": "code",
   "execution_count": 14,
   "id": "153a417c",
   "metadata": {},
   "outputs": [
    {
     "data": {
      "text/plain": [
       "()"
      ]
     },
     "execution_count": 14,
     "metadata": {},
     "output_type": "execute_result"
    }
   ],
   "source": [
    "Demo.statmeth()"
   ]
  },
  {
   "cell_type": "code",
   "execution_count": 15,
   "id": "1fbcc2d6",
   "metadata": {},
   "outputs": [
    {
     "data": {
      "text/plain": [
       "('spam',)"
      ]
     },
     "execution_count": 15,
     "metadata": {},
     "output_type": "execute_result"
    }
   ],
   "source": [
    "Demo.statmeth('spam')"
   ]
  },
  {
   "cell_type": "markdown",
   "id": "6e18f1ae",
   "metadata": {},
   "source": [
    "## 9.5 포맷된 출력"
   ]
  },
  {
   "cell_type": "code",
   "execution_count": 16,
   "id": "24f05cbc",
   "metadata": {},
   "outputs": [
    {
     "data": {
      "text/plain": [
       "0.4115226337448559"
      ]
     },
     "execution_count": 16,
     "metadata": {},
     "output_type": "execute_result"
    }
   ],
   "source": [
    "brl = 1/2.43\n",
    "brl"
   ]
  },
  {
   "cell_type": "code",
   "execution_count": 17,
   "id": "9a4938e1",
   "metadata": {},
   "outputs": [
    {
     "data": {
      "text/plain": [
       "'0.4115'"
      ]
     },
     "execution_count": 17,
     "metadata": {},
     "output_type": "execute_result"
    }
   ],
   "source": [
    "format(brl, '0.4f')"
   ]
  },
  {
   "cell_type": "code",
   "execution_count": 18,
   "id": "427a1833",
   "metadata": {},
   "outputs": [
    {
     "data": {
      "text/plain": [
       "'1BRL = 0.41 USD'"
      ]
     },
     "execution_count": 18,
     "metadata": {},
     "output_type": "execute_result"
    }
   ],
   "source": [
    "'1BRL = {rate:0.2f} USD'.format(rate=brl)"
   ]
  },
  {
   "cell_type": "code",
   "execution_count": 19,
   "id": "97603a6f",
   "metadata": {},
   "outputs": [
    {
     "data": {
      "text/plain": [
       "'101010'"
      ]
     },
     "execution_count": 19,
     "metadata": {},
     "output_type": "execute_result"
    }
   ],
   "source": [
    "format(42, 'b')"
   ]
  },
  {
   "cell_type": "code",
   "execution_count": 20,
   "id": "88309a64",
   "metadata": {},
   "outputs": [
    {
     "data": {
      "text/plain": [
       "'66.7%'"
      ]
     },
     "execution_count": 20,
     "metadata": {},
     "output_type": "execute_result"
    }
   ],
   "source": [
    "format(2/3, '.1%')"
   ]
  },
  {
   "cell_type": "code",
   "execution_count": 21,
   "id": "4539995e",
   "metadata": {},
   "outputs": [
    {
     "data": {
      "text/plain": [
       "'18:54:37'"
      ]
     },
     "execution_count": 21,
     "metadata": {},
     "output_type": "execute_result"
    }
   ],
   "source": [
    "from datetime import datetime\n",
    "now = datetime.now()\n",
    "format(now, '%H:%M:%S')"
   ]
  },
  {
   "cell_type": "code",
   "execution_count": 22,
   "id": "3f81177d",
   "metadata": {},
   "outputs": [
    {
     "data": {
      "text/plain": [
       "\"It's now 06:54:PM\""
      ]
     },
     "execution_count": 22,
     "metadata": {},
     "output_type": "execute_result"
    }
   ],
   "source": [
    "\"It's now {:%I:%M:%p}\".format(now)"
   ]
  },
  {
   "cell_type": "code",
   "execution_count": 23,
   "id": "025ee933",
   "metadata": {},
   "outputs": [
    {
     "data": {
      "text/plain": [
       "'(3.0, 4.0)'"
      ]
     },
     "execution_count": 23,
     "metadata": {},
     "output_type": "execute_result"
    }
   ],
   "source": [
    "v1 = Vector2d(3, 4)\n",
    "format(v1)"
   ]
  },
  {
   "cell_type": "code",
   "execution_count": 24,
   "id": "84e5095d",
   "metadata": {},
   "outputs": [
    {
     "data": {
      "text/plain": [
       "'(3.000, 4.000)'"
      ]
     },
     "execution_count": 24,
     "metadata": {},
     "output_type": "execute_result"
    }
   ],
   "source": [
    "format(v1, '.3f')"
   ]
  },
  {
   "cell_type": "code",
   "execution_count": 25,
   "id": "ee707e34",
   "metadata": {},
   "outputs": [
    {
     "data": {
      "text/plain": [
       "'(3.00, 4.00)'"
      ]
     },
     "execution_count": 25,
     "metadata": {},
     "output_type": "execute_result"
    }
   ],
   "source": [
    "v1 = Vector2d(3, 4)\n",
    "format(v1, '.2f')"
   ]
  },
  {
   "cell_type": "code",
   "execution_count": 26,
   "id": "4fca1691",
   "metadata": {},
   "outputs": [
    {
     "data": {
      "text/plain": [
       "'<1.4142135623730951, 0.7853981633974483>'"
      ]
     },
     "execution_count": 26,
     "metadata": {},
     "output_type": "execute_result"
    }
   ],
   "source": [
    "format(Vector2d(1, 1), 'p')"
   ]
  },
  {
   "cell_type": "code",
   "execution_count": 27,
   "id": "457155c1",
   "metadata": {},
   "outputs": [
    {
     "data": {
      "text/plain": [
       "'<1.414e+00, 7.854e-01>'"
      ]
     },
     "execution_count": 27,
     "metadata": {},
     "output_type": "execute_result"
    }
   ],
   "source": [
    "format(Vector2d(1, 1), '.3ep')"
   ]
  },
  {
   "cell_type": "code",
   "execution_count": 28,
   "id": "4f504c10",
   "metadata": {},
   "outputs": [
    {
     "data": {
      "text/plain": [
       "'<1.41421, 0.78540>'"
      ]
     },
     "execution_count": 28,
     "metadata": {},
     "output_type": "execute_result"
    }
   ],
   "source": [
    "format(Vector2d(1, 1), '0.5fp')"
   ]
  },
  {
   "cell_type": "markdown",
   "id": "2dd53b3a",
   "metadata": {},
   "source": [
    "## 9.6 해시 가능한 Vector2d"
   ]
  },
  {
   "cell_type": "code",
   "execution_count": 29,
   "id": "feed17f8",
   "metadata": {},
   "outputs": [
    {
     "data": {
      "text/plain": [
       "7"
      ]
     },
     "execution_count": 29,
     "metadata": {},
     "output_type": "execute_result"
    }
   ],
   "source": [
    "v1 = Vector2d(3, 4)\n",
    "hash(v1)"
   ]
  },
  {
   "cell_type": "code",
   "execution_count": 30,
   "id": "f408c50f",
   "metadata": {},
   "outputs": [
    {
     "data": {
      "text/plain": [
       "(3.0, 4.0)"
      ]
     },
     "execution_count": 30,
     "metadata": {},
     "output_type": "execute_result"
    }
   ],
   "source": [
    "v1.x, v1.y"
   ]
  },
  {
   "cell_type": "code",
   "execution_count": 31,
   "id": "31a4a2f6",
   "metadata": {},
   "outputs": [
    {
     "ename": "AttributeError",
     "evalue": "can't set attribute",
     "output_type": "error",
     "traceback": [
      "\u001b[1;31m---------------------------------------------------------------------------\u001b[0m",
      "\u001b[1;31mAttributeError\u001b[0m                            Traceback (most recent call last)",
      "\u001b[1;32m~\\AppData\\Local\\Temp/ipykernel_10836/2866248109.py\u001b[0m in \u001b[0;36m<module>\u001b[1;34m\u001b[0m\n\u001b[1;32m----> 1\u001b[1;33m \u001b[0mv1\u001b[0m\u001b[1;33m.\u001b[0m\u001b[0mx\u001b[0m \u001b[1;33m=\u001b[0m \u001b[1;36m7\u001b[0m\u001b[1;33m\u001b[0m\u001b[1;33m\u001b[0m\u001b[0m\n\u001b[0m",
      "\u001b[1;31mAttributeError\u001b[0m: can't set attribute"
>>>>>>> c3f12c2f16f8188cb5353700e1bfc0d281dea0b9
     ]
    }
   ],
   "source": [
<<<<<<< HEAD
    "v1 = Vector2d(3, 4)\n",
    "print(v1.x, v1.y)"
=======
    "v1.x = 7"
>>>>>>> c3f12c2f16f8188cb5353700e1bfc0d281dea0b9
   ]
  },
  {
   "cell_type": "code",
<<<<<<< HEAD
   "execution_count": null,
   "id": "71cb4b51",
   "metadata": {},
   "outputs": [],
   "source": []
=======
   "execution_count": 32,
   "id": "9e1eb604",
   "metadata": {},
   "outputs": [
    {
     "data": {
      "text/plain": [
       "3.0"
      ]
     },
     "execution_count": 32,
     "metadata": {},
     "output_type": "execute_result"
    }
   ],
   "source": [
    "v1.x"
   ]
  },
  {
   "cell_type": "code",
   "execution_count": 33,
   "id": "6bdf7189",
   "metadata": {},
   "outputs": [],
   "source": [
    "v1 = Vector2d(3, 4)\n",
    "v2 = Vector2d(3.1, 4.2)"
   ]
  },
  {
   "cell_type": "code",
   "execution_count": 34,
   "id": "fa8b0cb5",
   "metadata": {},
   "outputs": [
    {
     "data": {
      "text/plain": [
       "(7, 384307168202284039)"
      ]
     },
     "execution_count": 34,
     "metadata": {},
     "output_type": "execute_result"
    }
   ],
   "source": [
    "hash(v1), hash(v2)"
   ]
  },
  {
   "cell_type": "code",
   "execution_count": 35,
   "id": "bb0a32c5",
   "metadata": {},
   "outputs": [
    {
     "data": {
      "text/plain": [
       "{Vector2d(3.0, 4.0), Vector2d(3.1, 4.2)}"
      ]
     },
     "execution_count": 35,
     "metadata": {},
     "output_type": "execute_result"
    }
   ],
   "source": [
    "set([v1, v2])"
   ]
>>>>>>> c3f12c2f16f8188cb5353700e1bfc0d281dea0b9
  }
 ],
 "metadata": {
  "kernelspec": {
   "display_name": "Python 3 (ipykernel)",
   "language": "python",
   "name": "python3"
  },
  "language_info": {
   "codemirror_mode": {
    "name": "ipython",
    "version": 3
   },
   "file_extension": ".py",
   "mimetype": "text/x-python",
   "name": "python",
   "nbconvert_exporter": "python",
   "pygments_lexer": "ipython3",
   "version": "3.9.7"
  }
 },
 "nbformat": 4,
 "nbformat_minor": 5
}
