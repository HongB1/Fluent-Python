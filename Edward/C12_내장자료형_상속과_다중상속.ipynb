{
 "cells": [
  {
   "cell_type": "markdown",
   "id": "9d22c9a0",
   "metadata": {},
   "source": [
    "# 12.1 내장 자료형의 상속은 까다롭다"
   ]
  },
  {
   "cell_type": "markdown",
   "id": "bc12b6fd",
   "metadata": {},
   "source": [
    "- 사용자가 오버라이드한 코드를 호출하지 않음"
   ]
  },
  {
   "cell_type": "code",
   "execution_count": 1,
   "id": "29fa70b1",
   "metadata": {},
   "outputs": [],
   "source": [
    "class DoppelDict(dict):\n",
    "    def __setitem__(self, key, value):\n",
    "        super().__setitem__(key, [value] * 2)"
   ]
  },
  {
   "cell_type": "code",
   "execution_count": 2,
   "id": "3aa35d00",
   "metadata": {},
   "outputs": [
    {
     "data": {
      "text/plain": [
       "{'one': 1}"
      ]
     },
     "execution_count": 2,
     "metadata": {},
     "output_type": "execute_result"
    }
   ],
   "source": [
    "dd = DoppelDict(one=1)\n",
    "dd"
   ]
  },
  {
   "cell_type": "code",
   "execution_count": 3,
   "id": "ec56a6a9",
   "metadata": {},
   "outputs": [
    {
     "data": {
      "text/plain": [
       "{'one': 1, 'two': [2, 2]}"
      ]
     },
     "execution_count": 3,
     "metadata": {},
     "output_type": "execute_result"
    }
   ],
   "source": [
    "dd['two'] = 2\n",
    "dd"
   ]
  },
  {
   "cell_type": "code",
   "execution_count": 4,
   "id": "85e8a7a0",
   "metadata": {},
   "outputs": [
    {
     "data": {
      "text/plain": [
       "{'one': 1, 'two': [2, 2], 'three': 3}"
      ]
     },
     "execution_count": 4,
     "metadata": {},
     "output_type": "execute_result"
    }
   ],
   "source": [
    "dd.update(three=3)\n",
    "dd"
   ]
  },
  {
   "cell_type": "code",
   "execution_count": 5,
   "id": "63ddceac",
   "metadata": {},
   "outputs": [],
   "source": [
    "class AnswerDict(dict):\n",
    "    def __getitem__(self, key):\n",
    "        return 42"
   ]
  },
  {
   "cell_type": "code",
   "execution_count": 6,
   "id": "0095b5ae",
   "metadata": {},
   "outputs": [
    {
     "data": {
      "text/plain": [
       "42"
      ]
     },
     "execution_count": 6,
     "metadata": {},
     "output_type": "execute_result"
    }
   ],
   "source": [
    "ad = AnswerDict(a='foo')\n",
    "ad['a']"
   ]
  },
  {
   "cell_type": "code",
   "execution_count": 7,
   "id": "e4bb90a2",
   "metadata": {},
   "outputs": [
    {
     "data": {
      "text/plain": [
       "'foo'"
      ]
     },
     "execution_count": 7,
     "metadata": {},
     "output_type": "execute_result"
    }
   ],
   "source": [
    "d = {}\n",
    "d.update(ad)\n",
    "d['a']"
   ]
  },
  {
   "cell_type": "code",
   "execution_count": 8,
   "id": "403a1418",
   "metadata": {},
   "outputs": [
    {
     "data": {
      "text/plain": [
       "{'a': 'foo'}"
      ]
     },
     "execution_count": 8,
     "metadata": {},
     "output_type": "execute_result"
    }
   ],
   "source": [
    "d"
   ]
  },
  {
   "cell_type": "markdown",
   "id": "b7688275",
   "metadata": {},
   "source": [
    "- collections.Userdict 상속하면 해결 가능"
   ]
  },
  {
   "cell_type": "code",
   "execution_count": 9,
   "id": "9da53564",
   "metadata": {},
   "outputs": [],
   "source": [
    "import collections"
   ]
  },
  {
   "cell_type": "code",
   "execution_count": 10,
   "id": "a28e988d",
   "metadata": {},
   "outputs": [],
   "source": [
    "class DoppelDict2(collections.UserDict):\n",
    "    def __setitem__(self, key, value):\n",
    "        super().__setitem__(key, [value] * 2)"
   ]
  },
  {
   "cell_type": "code",
   "execution_count": 11,
   "id": "3f31b1a9",
   "metadata": {},
   "outputs": [
    {
     "data": {
      "text/plain": [
       "{'one': [1, 1]}"
      ]
     },
     "execution_count": 11,
     "metadata": {},
     "output_type": "execute_result"
    }
   ],
   "source": [
    "dd = DoppelDict2(one=1)\n",
    "dd"
   ]
  },
  {
   "cell_type": "code",
   "execution_count": 12,
   "id": "1adb1cd9",
   "metadata": {},
   "outputs": [
    {
     "data": {
      "text/plain": [
       "{'one': [1, 1], 'three': [3, 3]}"
      ]
     },
     "execution_count": 12,
     "metadata": {},
     "output_type": "execute_result"
    }
   ],
   "source": [
    "dd.update(three=3)\n",
    "dd"
   ]
  },
  {
   "cell_type": "code",
   "execution_count": 13,
   "id": "4e647037",
   "metadata": {},
   "outputs": [],
   "source": [
    "class AnswerDict2(collections.UserDict):\n",
    "    def __getitem__(self, key):\n",
    "        return 42"
   ]
  },
  {
   "cell_type": "code",
   "execution_count": 14,
   "id": "325282b3",
   "metadata": {},
   "outputs": [
    {
     "data": {
      "text/plain": [
       "42"
      ]
     },
     "execution_count": 14,
     "metadata": {},
     "output_type": "execute_result"
    }
   ],
   "source": [
    "ad = AnswerDict2(a='foo')\n",
    "ad['a']"
   ]
  },
  {
   "cell_type": "code",
   "execution_count": 15,
   "id": "f89574a3",
   "metadata": {},
   "outputs": [
    {
     "data": {
      "text/plain": [
       "{'a': 42}"
      ]
     },
     "execution_count": 15,
     "metadata": {},
     "output_type": "execute_result"
    }
   ],
   "source": [
    "d = {}\n",
    "d.update(ad)\n",
    "d['a']\n",
    "d"
   ]
  },
  {
   "cell_type": "markdown",
   "id": "7a9691bc",
   "metadata": {},
   "source": [
    "# 12.2 다중 상속과 메서드 결정 순서"
   ]
  },
  {
   "cell_type": "code",
   "execution_count": 16,
   "id": "27beb14b",
   "metadata": {},
   "outputs": [],
   "source": [
    "class A:\n",
    "    def ping(self):\n",
    "        print('ping:', self)\n",
    "        \n",
    "class B(A):\n",
    "    def pong(self):\n",
    "        print('pong', self)\n",
    "    \n",
    "class C(A):\n",
    "    def pong(self):\n",
    "        print('PONG', self)\n",
    "        \n",
    "class D(B, C):\n",
    "    def ping(self):\n",
    "        super().ping()\n",
    "        print('post-ping', self)\n",
    "        \n",
    "    def pingpong(self):\n",
    "        self.ping()\n",
    "        super().ping()\n",
    "        self.pong()\n",
    "        super().pong()\n",
    "        C.pong(self)"
   ]
  },
  {
   "cell_type": "code",
   "execution_count": 17,
   "id": "6e2a7cc5",
   "metadata": {},
   "outputs": [
    {
     "name": "stdout",
     "output_type": "stream",
     "text": [
      "ping: <__main__.A object at 0x000001EB618475E0>\n"
     ]
    }
   ],
   "source": [
    "a = A()\n",
    "a.ping()"
   ]
  },
  {
   "cell_type": "code",
   "execution_count": 18,
   "id": "eb3d459c",
   "metadata": {},
   "outputs": [
    {
     "name": "stdout",
     "output_type": "stream",
     "text": [
      "ping: <__main__.B object at 0x000001EB618476D0>\n"
     ]
    }
   ],
   "source": [
    "b = B()\n",
    "b.ping()"
   ]
  },
  {
   "cell_type": "code",
   "execution_count": 19,
   "id": "1f365aab",
   "metadata": {},
   "outputs": [
    {
     "name": "stdout",
     "output_type": "stream",
     "text": [
      "pong <__main__.B object at 0x000001EB618476D0>\n"
     ]
    }
   ],
   "source": [
    "b.pong()"
   ]
  },
  {
   "cell_type": "code",
   "execution_count": 20,
   "id": "10625832",
   "metadata": {},
   "outputs": [
    {
     "name": "stdout",
     "output_type": "stream",
     "text": [
      "PONG <__main__.C object at 0x000001EB61847460>\n"
     ]
    }
   ],
   "source": [
    "c = C()\n",
    "c.pong()"
   ]
  },
  {
   "cell_type": "code",
   "execution_count": 21,
   "id": "40d0cd07",
   "metadata": {},
   "outputs": [
    {
     "name": "stdout",
     "output_type": "stream",
     "text": [
      "ping: <__main__.C object at 0x000001EB61847460>\n"
     ]
    }
   ],
   "source": [
    "c.ping()"
   ]
  },
  {
   "cell_type": "code",
   "execution_count": 22,
   "id": "ecbbce0d",
   "metadata": {},
   "outputs": [
    {
     "name": "stdout",
     "output_type": "stream",
     "text": [
      "pong <__main__.D object at 0x000001EB61847130>\n"
     ]
    }
   ],
   "source": [
    "d = D()\n",
    "d.pong()"
   ]
  },
  {
   "cell_type": "code",
   "execution_count": 23,
   "id": "6851f226",
   "metadata": {},
   "outputs": [
    {
     "name": "stdout",
     "output_type": "stream",
     "text": [
      "ping: <__main__.D object at 0x000001EB61847130>\n",
      "post-ping <__main__.D object at 0x000001EB61847130>\n"
     ]
    }
   ],
   "source": [
    "d.ping()"
   ]
  },
  {
   "cell_type": "code",
   "execution_count": 24,
   "id": "4352c5f5",
   "metadata": {},
   "outputs": [
    {
     "name": "stdout",
     "output_type": "stream",
     "text": [
      "ping: <__main__.D object at 0x000001EB61847130>\n",
      "post-ping <__main__.D object at 0x000001EB61847130>\n",
      "ping: <__main__.D object at 0x000001EB61847130>\n",
      "pong <__main__.D object at 0x000001EB61847130>\n",
      "pong <__main__.D object at 0x000001EB61847130>\n",
      "PONG <__main__.D object at 0x000001EB61847130>\n"
     ]
    }
   ],
   "source": [
    "d.pingpong()"
   ]
  },
  {
   "cell_type": "code",
   "execution_count": 25,
   "id": "8d04753f",
   "metadata": {},
   "outputs": [
    {
     "name": "stdout",
     "output_type": "stream",
     "text": [
      "pong <__main__.D object at 0x000001EB617E5E50>\n"
     ]
    }
   ],
   "source": [
    "from diamond import *\n",
    "d = D()\n",
    "d.pong()"
   ]
  },
  {
   "cell_type": "code",
   "execution_count": 26,
   "id": "a0169368",
   "metadata": {},
   "outputs": [
    {
     "name": "stdout",
     "output_type": "stream",
     "text": [
      "PONG <__main__.D object at 0x000001EB617E5E50>\n"
     ]
    }
   ],
   "source": [
    "C.pong(d)"
   ]
  },
  {
   "cell_type": "code",
   "execution_count": 27,
   "id": "3e1bfda9",
   "metadata": {},
   "outputs": [
    {
     "data": {
      "text/plain": [
       "(__main__.D, __main__.B, __main__.C, __main__.A, object)"
      ]
     },
     "execution_count": 27,
     "metadata": {},
     "output_type": "execute_result"
    }
   ],
   "source": [
    "D.__mro__"
   ]
  },
  {
   "cell_type": "markdown",
   "id": "3cae21cc",
   "metadata": {},
   "source": [
    "# 12.3 실세계에서의 다중 상속"
   ]
  },
  {
   "cell_type": "markdown",
   "id": "fff4541d",
   "metadata": {},
   "source": [
    "Tkinter 가 무엇일까\n",
    "- Tkinter는 Tcl/Tk에 대한 파이썬 Wrapper로서 Tcl/Tk를 파이썬에 사용할 수 있도록 한 Lightweight GUI 모듈이다\n",
    "- Tcl : Tool Command Language\n",
    "- Tk : 크로스 플랫폼에 사용되는 일종의 GUI 툴킷"
   ]
  },
  {
   "cell_type": "markdown",
   "id": "06212c78",
   "metadata": {},
   "source": [
    "- 단점 : 타 GUI 프레임워크나 툴킷에 비해 지원되는 위젯들이 부족하고 UI도 그렇게 예쁘지 않다\n",
    "- 장점 : Python 설치시 기본적으로 내장되어 있는 파이썬 표준 라이브러리이기 때문에 쉽고 간단한 GUI 프로그램을 만들 때 활용"
   ]
  },
  {
   "cell_type": "markdown",
   "id": "75002a44",
   "metadata": {},
   "source": [
    "책 설명\n",
    "- tkinter 모듈에 구현된 Tkinter GUI 툴킷은 표준 라이브러리에서 다중 상속을 극단적으로 사용하는 예를 보여줌 (그림 12-2와 같이)\n",
    "- Tkinter는 20년이나 되었고, 다중 상속의 단점을 이해하지 못할 때의 예시를 잘 보여줌"
   ]
  },
  {
   "cell_type": "markdown",
   "id": "0d0f8fea",
   "metadata": {},
   "source": [
    "간단히 배워보자 (신기함)\n",
    "- pack : 윈도우 스크린에 보이게 하기"
   ]
  },
  {
   "cell_type": "code",
   "execution_count": null,
   "id": "f27f13b8",
   "metadata": {},
   "outputs": [],
   "source": [
    "from tkinter import *\n",
    "root = Tk()\n",
    "\n",
    "myLabel = Label(root, text=\"테스트 라벨 위젯\")\n",
    "myLabel.pack()\n",
    "\n",
    "mainloop()"
   ]
  },
  {
   "cell_type": "markdown",
   "id": "7f242c09",
   "metadata": {},
   "source": [
    "- button 위젯 "
   ]
  },
  {
   "cell_type": "code",
   "execution_count": null,
   "id": "041cbc04",
   "metadata": {},
   "outputs": [],
   "source": [
    "from tkinter import *\n",
    "root = Tk()\n",
    "\n",
    "# 기본 버튼\n",
    "btn1 = Button(root, text='click')\n",
    "btn1.pack()\n",
    "\n",
    "# 비활성화\n",
    "btn2 = Button(root, text='click', state=DISABLED)\n",
    "btn2.pack()\n",
    "\n",
    "# 50x50 사이즈\n",
    "btn3 = Button(root, text='click', padx=50, pady=50)\n",
    "btn3.pack()\n",
    "\n",
    "mainloop()"
   ]
  },
  {
   "cell_type": "markdown",
   "id": "20145110",
   "metadata": {},
   "source": [
    "- button 위젯 (클릭)"
   ]
  },
  {
   "cell_type": "code",
   "execution_count": 29,
   "id": "28b828a7",
   "metadata": {},
   "outputs": [],
   "source": [
    "from tkinter import *\n",
    "root = Tk()\n",
    "\n",
    "# 클릭 시 실행 함수\n",
    "def clickEvent():\n",
    "    label = Label(root, text='여러분과 스터디를 함께 할 수 있어 영광입니다')\n",
    "    label.pack()\n",
    "\n",
    "# 기본 버튼\n",
    "btn = Button(root, text='click', fg='blue', bg='cyan', command=clickEvent)\n",
    "btn.pack()\n",
    "\n",
    "mainloop()"
   ]
  },
  {
   "cell_type": "markdown",
   "id": "bb36a94e",
   "metadata": {},
   "source": [
    "- 실행 파일로 만들어서 실행해보기\n",
    "https://doomed-lab.tistory.com/46"
   ]
  },
  {
   "cell_type": "code",
   "execution_count": 32,
   "id": "e8d65e07",
   "metadata": {},
   "outputs": [],
   "source": [
    "from tkinter import *\n",
    "\n",
    "def click(key):\n",
    "    if key == '=':       # '='버튼이면 수식을 계산하여 결과를 표시한다\n",
    "        try:\n",
    "            result = eval(entry.get())\n",
    "            entry.delete(0, END)\n",
    "            entry.insert(END, str(result))\n",
    "        except:\n",
    "            entry.insert(END, \"오류!!!!!\")\n",
    "    elif key == 'C':\n",
    "        entry.delete(0, END)\n",
    "    else:\n",
    "        entry.insert(END, key)\n",
    "\n",
    "\n",
    "window = Tk()\n",
    "window.title(\"간단한 계산기\")\n",
    "\n",
    "buttons = ['7', '8', '9', '+', 'C',\n",
    "           '4', '5', '6', '-', ' ',\n",
    "           '1', '2', '3', '*', ' ',\n",
    "           '0', '.', '=', '/', ' ']\n",
    "\n",
    "#반복문으로 버튼을 생성한다.\n",
    "i = 0\n",
    "for b in buttons:\n",
    "    cmd = lambda x=b: click(x)\n",
    "    but = Button(window, text=b, width=5, relief='ridge', command=cmd)\n",
    "    but.grid(row=i//5+1, column=i%5)\n",
    "    i += 1\n",
    "\n",
    "#엔트리 위젯은 맨 윗줄의 5개의 셀에 걸쳐서 배치된다\n",
    "entry = Entry(window, width=33, bg='yellow')\n",
    "entry.grid(row=0, column=0, columnspan=5)\n",
    "\n",
    "window.mainloop()"
   ]
  }
 ],
 "metadata": {
  "kernelspec": {
   "display_name": "Python 3 (ipykernel)",
   "language": "python",
   "name": "python3"
  },
  "language_info": {
   "codemirror_mode": {
    "name": "ipython",
    "version": 3
   },
   "file_extension": ".py",
   "mimetype": "text/x-python",
   "name": "python",
   "nbconvert_exporter": "python",
   "pygments_lexer": "ipython3",
   "version": "3.9.7"
  }
 },
 "nbformat": 4,
 "nbformat_minor": 5
}
