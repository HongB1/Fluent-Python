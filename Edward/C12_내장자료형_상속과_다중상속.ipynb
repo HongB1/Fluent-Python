{
 "cells": [
  {
   "cell_type": "markdown",
   "id": "be8c7626",
   "metadata": {},
   "source": [
    "# 12.1 내장 자료형의 상속은 까다롭다"
   ]
  },
  {
   "cell_type": "markdown",
   "id": "f0f80967",
   "metadata": {},
   "source": [
    "- 사용자가 오버라이드한 코드를 호출하지 않음"
   ]
  },
  {
   "cell_type": "code",
   "execution_count": 1,
   "id": "3065ada7",
   "metadata": {},
   "outputs": [],
   "source": [
    "class DoppelDict(dict):\n",
    "    def __setitem__(self, key, value):\n",
    "        super().__setitem__(key, [value] * 2)"
   ]
  },
  {
   "cell_type": "code",
   "execution_count": 2,
   "id": "a3187b48",
   "metadata": {},
   "outputs": [
    {
     "data": {
      "text/plain": [
       "{'one': 1}"
      ]
     },
     "execution_count": 2,
     "metadata": {},
     "output_type": "execute_result"
    }
   ],
   "source": [
    "dd = DoppelDict(one=1)\n",
    "dd"
   ]
  },
  {
   "cell_type": "code",
   "execution_count": 3,
   "id": "1a218a8b",
   "metadata": {},
   "outputs": [
    {
     "data": {
      "text/plain": [
       "{'one': 1, 'two': [2, 2]}"
      ]
     },
     "execution_count": 3,
     "metadata": {},
     "output_type": "execute_result"
    }
   ],
   "source": [
    "dd['two'] = 2\n",
    "dd"
   ]
  },
  {
   "cell_type": "code",
   "execution_count": 4,
   "id": "aa22ef27",
   "metadata": {},
   "outputs": [
    {
     "data": {
      "text/plain": [
       "{'one': 1, 'two': [2, 2], 'three': 3}"
      ]
     },
     "execution_count": 4,
     "metadata": {},
     "output_type": "execute_result"
    }
   ],
   "source": [
    "dd.update(three=3)\n",
    "dd"
   ]
  },
  {
   "cell_type": "code",
   "execution_count": 5,
   "id": "d6021af6",
   "metadata": {},
   "outputs": [],
   "source": [
    "class AnswerDict(dict):\n",
    "    def __getitem__(self, key):\n",
    "        return 42"
   ]
  },
  {
   "cell_type": "code",
   "execution_count": 9,
   "id": "65bb0219",
   "metadata": {},
   "outputs": [
    {
     "data": {
      "text/plain": [
       "42"
      ]
     },
     "execution_count": 9,
     "metadata": {},
     "output_type": "execute_result"
    }
   ],
   "source": [
    "ad = AnswerDict(a='foo')\n",
    "ad['a']"
   ]
  },
  {
   "cell_type": "code",
   "execution_count": 10,
   "id": "a562377d",
   "metadata": {},
   "outputs": [
    {
     "data": {
      "text/plain": [
       "'foo'"
      ]
     },
     "execution_count": 10,
     "metadata": {},
     "output_type": "execute_result"
    }
   ],
   "source": [
    "d = {}\n",
    "d.update(ad)\n",
    "d['a']"
   ]
  },
  {
   "cell_type": "code",
   "execution_count": 11,
   "id": "85202284",
   "metadata": {},
   "outputs": [
    {
     "data": {
      "text/plain": [
       "{'a': 'foo'}"
      ]
     },
     "execution_count": 11,
     "metadata": {},
     "output_type": "execute_result"
    }
   ],
   "source": [
    "d"
   ]
  },
  {
   "cell_type": "markdown",
   "id": "217710cf",
   "metadata": {},
   "source": [
    "- collections.Userdict 상속하면 해결 가능"
   ]
  },
  {
   "cell_type": "code",
   "execution_count": 17,
   "id": "5bc7a13a",
   "metadata": {},
   "outputs": [],
   "source": [
    "import collections"
   ]
  },
  {
   "cell_type": "code",
   "execution_count": 20,
   "id": "15bddec5",
   "metadata": {},
   "outputs": [],
   "source": [
    "class DoppelDict2(collections.UserDict):\n",
    "    def __setitem__(self, key, value):\n",
    "        super().__setitem__(key, [value] * 2)"
   ]
  },
  {
   "cell_type": "code",
   "execution_count": 21,
   "id": "2909abaa",
   "metadata": {},
   "outputs": [
    {
     "data": {
      "text/plain": [
       "{'one': [1, 1]}"
      ]
     },
     "execution_count": 21,
     "metadata": {},
     "output_type": "execute_result"
    }
   ],
   "source": [
    "dd = DoppelDict2(one=1)\n",
    "dd"
   ]
  },
  {
   "cell_type": "code",
   "execution_count": 22,
   "id": "994f7651",
   "metadata": {},
   "outputs": [
    {
     "data": {
      "text/plain": [
       "{'one': [1, 1], 'three': [3, 3]}"
      ]
     },
     "execution_count": 22,
     "metadata": {},
     "output_type": "execute_result"
    }
   ],
   "source": [
    "dd.update(three=3)\n",
    "dd"
   ]
  },
  {
   "cell_type": "code",
   "execution_count": 23,
   "id": "5792b9e3",
   "metadata": {},
   "outputs": [],
   "source": [
    "class AnswerDict2(collections.UserDict):\n",
    "    def __getitem__(self, key):\n",
    "        return 42"
   ]
  },
  {
   "cell_type": "code",
   "execution_count": 24,
   "id": "03909bdb",
   "metadata": {},
   "outputs": [
    {
     "data": {
      "text/plain": [
       "42"
      ]
     },
     "execution_count": 24,
     "metadata": {},
     "output_type": "execute_result"
    }
   ],
   "source": [
    "ad = AnswerDict2(a='foo')\n",
    "ad['a']"
   ]
  },
  {
   "cell_type": "code",
   "execution_count": 25,
   "id": "3cc5d9e3",
   "metadata": {},
   "outputs": [
    {
     "data": {
      "text/plain": [
       "{'a': 42}"
      ]
     },
     "execution_count": 25,
     "metadata": {},
     "output_type": "execute_result"
    }
   ],
   "source": [
    "d = {}\n",
    "d.update(ad)\n",
    "d['a']\n",
    "d"
   ]
  },
  {
   "cell_type": "markdown",
   "id": "d1cc9762",
   "metadata": {},
   "source": [
    "# 12.2 다중 상속과 메서드 결정 순서"
   ]
  },
  {
   "cell_type": "code",
   "execution_count": 65,
   "id": "05189c3e",
   "metadata": {},
   "outputs": [],
   "source": [
    "class A:\n",
    "    def ping(self):\n",
    "        print('ping:', self)\n",
    "        \n",
    "class B(A):\n",
    "    def pong(self):\n",
    "        print('pong', self)\n",
    "    \n",
    "class C(A):\n",
    "    def pong(self):\n",
    "        print('PONG', self)\n",
    "        \n",
    "class D(B, C):\n",
    "    def ping(self):\n",
    "        super().ping()\n",
    "        print('post-ping', self)\n",
    "        \n",
    "    def pingpong(self):\n",
    "        self.ping()\n",
    "        super().ping()\n",
    "        self.pong()\n",
    "        super().pong()\n",
    "        C.pong(self)"
   ]
  },
  {
   "cell_type": "code",
   "execution_count": 37,
   "id": "b22844bd",
   "metadata": {},
   "outputs": [
    {
     "name": "stdout",
     "output_type": "stream",
     "text": [
      "ping: <__main__.A object at 0x0000025B358351F0>\n"
     ]
    }
   ],
   "source": [
    "a = A()\n",
    "a.ping()"
   ]
  },
  {
   "cell_type": "code",
   "execution_count": 38,
   "id": "ad80df79",
   "metadata": {},
   "outputs": [
    {
     "name": "stdout",
     "output_type": "stream",
     "text": [
      "ping: <__main__.B object at 0x0000025B35835DC0>\n"
     ]
    }
   ],
   "source": [
    "b = B()\n",
    "b.ping()"
   ]
  },
  {
   "cell_type": "code",
   "execution_count": 39,
   "id": "e23c6ed9",
   "metadata": {},
   "outputs": [
    {
     "name": "stdout",
     "output_type": "stream",
     "text": [
      "pong <__main__.B object at 0x0000025B35835DC0>\n"
     ]
    }
   ],
   "source": [
    "b.pong()"
   ]
  },
  {
   "cell_type": "code",
   "execution_count": 40,
   "id": "74f71bc5",
   "metadata": {},
   "outputs": [
    {
     "name": "stdout",
     "output_type": "stream",
     "text": [
      "PONG <__main__.C object at 0x0000025B35835160>\n"
     ]
    }
   ],
   "source": [
    "c = C()\n",
    "c.pong()"
   ]
  },
  {
   "cell_type": "code",
   "execution_count": 41,
   "id": "a16652c6",
   "metadata": {},
   "outputs": [
    {
     "name": "stdout",
     "output_type": "stream",
     "text": [
      "ping: <__main__.C object at 0x0000025B35835160>\n"
     ]
    }
   ],
   "source": [
    "c.ping()"
   ]
  },
  {
   "cell_type": "code",
   "execution_count": 66,
   "id": "7b3aaf25",
   "metadata": {},
   "outputs": [
    {
     "name": "stdout",
     "output_type": "stream",
     "text": [
      "pong <__main__.D object at 0x0000025B35525670>\n"
     ]
    }
   ],
   "source": [
    "d = D()\n",
    "d.pong()"
   ]
  },
  {
   "cell_type": "code",
   "execution_count": 67,
   "id": "6378c368",
   "metadata": {},
   "outputs": [
    {
     "name": "stdout",
     "output_type": "stream",
     "text": [
      "ping: <__main__.D object at 0x0000025B35525670>\n",
      "post-ping <__main__.D object at 0x0000025B35525670>\n"
     ]
    }
   ],
   "source": [
    "d.ping()"
   ]
  },
  {
   "cell_type": "code",
   "execution_count": 68,
   "id": "ae4bfa50",
   "metadata": {},
   "outputs": [
    {
     "name": "stdout",
     "output_type": "stream",
     "text": [
      "ping: <__main__.D object at 0x0000025B35525670>\n",
      "post-ping <__main__.D object at 0x0000025B35525670>\n",
      "ping: <__main__.D object at 0x0000025B35525670>\n",
      "pong <__main__.D object at 0x0000025B35525670>\n",
      "pong <__main__.D object at 0x0000025B35525670>\n",
      "PONG <__main__.D object at 0x0000025B35525670>\n"
     ]
    }
   ],
   "source": [
    "d.pingpong()"
   ]
  },
  {
   "cell_type": "code",
   "execution_count": 72,
   "id": "c855f170",
   "metadata": {},
   "outputs": [
    {
     "name": "stdout",
     "output_type": "stream",
     "text": [
      "pong <__main__.D object at 0x0000025B355227C0>\n"
     ]
    }
   ],
   "source": [
    "from diamond import *\n",
    "d = D()\n",
    "d.pong()"
   ]
  },
  {
   "cell_type": "code",
   "execution_count": 73,
   "id": "85519de2",
   "metadata": {},
   "outputs": [
    {
     "name": "stdout",
     "output_type": "stream",
     "text": [
      "PONG <__main__.D object at 0x0000025B355227C0>\n"
     ]
    }
   ],
   "source": [
    "C.pong(d)"
   ]
  },
  {
   "cell_type": "code",
   "execution_count": 74,
   "id": "007a8885",
   "metadata": {},
   "outputs": [
    {
     "data": {
      "text/plain": [
       "(__main__.D, __main__.B, __main__.C, __main__.A, object)"
      ]
     },
     "execution_count": 74,
     "metadata": {},
     "output_type": "execute_result"
    }
   ],
   "source": [
    "D.__mro__"
   ]
  },
  {
   "cell_type": "markdown",
   "id": "2df2641e",
   "metadata": {},
   "source": [
    "# 12.3 실세계에서의 다중 상속"
   ]
  },
  {
   "cell_type": "markdown",
   "id": "872087e6",
   "metadata": {},
   "source": [
    "- collections.abc 패키지에서 다중 상속을 많이 사용함"
   ]
  },
  {
   "cell_type": "markdown",
   "id": "2bfe5727",
   "metadata": {},
   "source": [
    "- tkinter 모듈에 구현된 Tkinter GUI 툴킷은 표준 라이브러리에서 다중 상속을 극단적으로 사용하는 예를 보여줌 (그림 12-2와 같이)\n",
    "- Tkinter는 20년이나 되었고, 다중 상속의 단점을 이해하지 못할 때의 예시를 잘 보여줌"
   ]
  }
 ],
 "metadata": {
  "kernelspec": {
   "display_name": "Python 3 (ipykernel)",
   "language": "python",
   "name": "python3"
  },
  "language_info": {
   "codemirror_mode": {
    "name": "ipython",
    "version": 3
   },
   "file_extension": ".py",
   "mimetype": "text/x-python",
   "name": "python",
   "nbconvert_exporter": "python",
   "pygments_lexer": "ipython3",
   "version": "3.9.7"
  }
 },
 "nbformat": 4,
 "nbformat_minor": 5
}
