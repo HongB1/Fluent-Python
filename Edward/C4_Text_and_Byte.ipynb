{
 "cells": [
  {
   "cell_type": "markdown",
   "id": "7d8922df",
   "metadata": {},
   "source": [
    "## 4.1 문자 문제"
   ]
  },
  {
   "cell_type": "markdown",
   "id": "3657b6ba",
   "metadata": {},
   "source": [
    "- 디코딩(decoding) : 해독\n",
    "- 인코딩(encoding) : 암호화"
   ]
  },
  {
   "cell_type": "code",
   "execution_count": 4,
   "id": "2d08964b",
   "metadata": {},
   "outputs": [
    {
     "data": {
      "text/plain": [
       "4"
      ]
     },
     "execution_count": 4,
     "metadata": {},
     "output_type": "execute_result"
    }
   ],
   "source": [
    "s = 'café' # 네 개의 유니코드 문자 \n",
    "len(s)"
   ]
  },
  {
   "cell_type": "code",
   "execution_count": 5,
   "id": "d046ebc5",
   "metadata": {},
   "outputs": [
    {
     "data": {
      "text/plain": [
       "b'caf\\xc3\\xa9'"
      ]
     },
     "execution_count": 5,
     "metadata": {},
     "output_type": "execute_result"
    }
   ],
   "source": [
    "b = s.encode('utf-8') # UTF-8 인코딩을 이용해서 str을 bytes로 인코딩\n",
    "b # bytes 리터럴은 접두사 b로 시작"
   ]
  },
  {
   "cell_type": "code",
   "execution_count": 6,
   "id": "5f86d4f6",
   "metadata": {},
   "outputs": [
    {
     "data": {
      "text/plain": [
       "5"
      ]
     },
     "execution_count": 6,
     "metadata": {},
     "output_type": "execute_result"
    }
   ],
   "source": [
    "len(b) # é가 UTF-8에서 두 바이트로 인코딩되어서 b는 다섯 바이트로 구성"
   ]
  },
  {
   "cell_type": "code",
   "execution_count": 7,
   "id": "4bd35913",
   "metadata": {},
   "outputs": [
    {
     "data": {
      "text/plain": [
       "'café'"
      ]
     },
     "execution_count": 7,
     "metadata": {},
     "output_type": "execute_result"
    }
   ],
   "source": [
    "b.decode('utf-8') # bUTF-8 인코딩을 이용해서 str을 bytes로 디코딩"
   ]
  },
  {
   "cell_type": "markdown",
   "id": "1aed6053",
   "metadata": {},
   "source": [
    "## 4.2 바이트에 대한 기본 지식"
   ]
  },
  {
   "cell_type": "markdown",
   "id": "b7420a52",
   "metadata": {},
   "source": [
    "- 이진 시퀀스를 위해 사용되는 내장 자료형\n",
    "    - bytes (파이썬 3에서 소개된 불변형 immutable, 튜플과 비슷)\n",
    "    - bytearray (파이썬 2.6에 추가된 가변형)"
   ]
  },
  {
   "cell_type": "code",
   "execution_count": 8,
   "id": "a61a734a",
   "metadata": {},
   "outputs": [
    {
     "data": {
      "text/plain": [
       "b'caf\\xc3\\xa9'"
      ]
     },
     "execution_count": 8,
     "metadata": {},
     "output_type": "execute_result"
    }
   ],
   "source": [
    "cafe = bytes('café', encoding='utf_8') # bytes는 str에 인코딩을 지정해서 만들 수 있다\n",
    "cafe"
   ]
  },
  {
   "cell_type": "code",
   "execution_count": 9,
   "id": "9cf3b56b",
   "metadata": {},
   "outputs": [
    {
     "data": {
      "text/plain": [
       "99"
      ]
     },
     "execution_count": 9,
     "metadata": {},
     "output_type": "execute_result"
    }
   ],
   "source": [
    "cafe[0] # 각 항목은 range(256)에 들어가는 정수다"
   ]
  },
  {
   "cell_type": "code",
   "execution_count": 10,
   "id": "33cc22c3",
   "metadata": {},
   "outputs": [
    {
     "data": {
      "text/plain": [
       "b'c'"
      ]
     },
     "execution_count": 10,
     "metadata": {},
     "output_type": "execute_result"
    }
   ],
   "source": [
    "cafe[:1] # bytes는 슬라이싱해도 bytes다"
   ]
  },
  {
   "cell_type": "code",
   "execution_count": 11,
   "id": "1c795fbc",
   "metadata": {},
   "outputs": [
    {
     "data": {
      "text/plain": [
       "bytearray(b'caf\\xc3\\xa9')"
      ]
     },
     "execution_count": 11,
     "metadata": {},
     "output_type": "execute_result"
    }
   ],
   "source": [
    "cafe_arr = bytearray(cafe)\n",
    "cafe_arr"
   ]
  },
  {
   "cell_type": "code",
   "execution_count": 12,
   "id": "b15e6053",
   "metadata": {},
   "outputs": [
    {
     "data": {
      "text/plain": [
       "bytearray(b'\\xa9')"
      ]
     },
     "execution_count": 12,
     "metadata": {},
     "output_type": "execute_result"
    }
   ],
   "source": [
    "cafe_arr[-1:]"
   ]
  },
  {
   "cell_type": "code",
   "execution_count": 22,
   "id": "8a425ca6",
   "metadata": {},
   "outputs": [
    {
     "data": {
      "text/plain": [
       "b'1K\\xce\\xa9'"
      ]
     },
     "execution_count": 22,
     "metadata": {},
     "output_type": "execute_result"
    }
   ],
   "source": [
    "bytes.fromhex('31 4B CE A9')"
   ]
  },
  {
   "cell_type": "code",
   "execution_count": 29,
   "id": "f23fa538",
   "metadata": {},
   "outputs": [
    {
     "data": {
      "text/plain": [
       "b'\\xfe\\xff\\xff\\xff\\x00\\x00\\x01\\x00\\x02\\x00'"
      ]
     },
     "execution_count": 29,
     "metadata": {},
     "output_type": "execute_result"
    }
   ],
   "source": [
    "import array\n",
    "numbers = array.array('h', [-2, -1, 0, 1, 2]) # 'h' 타입코드는 short int(16비트) 형의 배열을 생성\n",
    "octets = bytes(numbers)\n",
    "octets"
   ]
  },
  {
   "cell_type": "code",
   "execution_count": null,
   "id": "5b8b79cd",
   "metadata": {},
   "outputs": [],
   "source": [
    "import struct\n",
    "fmt = '<3s3sHH'\n",
    "with open(t)"
   ]
  }
 ],
 "metadata": {
  "kernelspec": {
   "display_name": "Python 3 (ipykernel)",
   "language": "python",
   "name": "python3"
  },
  "language_info": {
   "codemirror_mode": {
    "name": "ipython",
    "version": 3
   },
   "file_extension": ".py",
   "mimetype": "text/x-python",
   "name": "python",
   "nbconvert_exporter": "python",
   "pygments_lexer": "ipython3",
   "version": "3.9.7"
  }
 },
 "nbformat": 4,
 "nbformat_minor": 5
}
