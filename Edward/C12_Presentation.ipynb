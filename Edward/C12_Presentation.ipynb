{
 "cells": [
  {
   "cell_type": "markdown",
   "id": "3cae21cc",
   "metadata": {},
   "source": [
    "# 12.3 실세계에서의 다중 상속"
   ]
  },
  {
   "cell_type": "markdown",
   "id": "fff4541d",
   "metadata": {},
   "source": [
    "Tkinter 가 무엇일까\n",
    "- Tkinter는 Tcl/Tk에 대한 파이썬 Wrapper로서 Tcl/Tk를 파이썬에 사용할 수 있도록 한 Lightweight GUI 모듈이다\n",
    "- Tcl : Tool Command Language\n",
    "- Tk : 크로스 플랫폼에 사용되는 일종의 GUI 툴킷"
   ]
  },
  {
   "cell_type": "markdown",
   "id": "06212c78",
   "metadata": {},
   "source": [
    "- 단점 : 타 GUI 프레임워크나 툴킷에 비해 지원되는 위젯들이 부족하고 UI도 그렇게 예쁘지 않다\n",
    "- 장점 : Python 설치시 기본적으로 내장되어 있는 파이썬 표준 라이브러리이기 때문에 쉽고 간단한 GUI 프로그램을 만들 때 활용"
   ]
  },
  {
   "cell_type": "markdown",
   "id": "75002a44",
   "metadata": {},
   "source": [
    "책 설명\n",
    "- tkinter 모듈에 구현된 Tkinter GUI 툴킷은 표준 라이브러리에서 다중 상속을 극단적으로 사용하는 예를 보여줌 (그림 12-2와 같이)\n",
    "- Tkinter는 20년이나 되었고, 다중 상속의 단점을 이해하지 못할 때의 예시를 잘 보여줌"
   ]
  },
  {
   "cell_type": "markdown",
   "id": "0d0f8fea",
   "metadata": {},
   "source": [
    "간단히 배워보자 (신기함)\n",
    "- pack : 윈도우 스크린에 보이게 하기"
   ]
  },
  {
   "cell_type": "code",
   "execution_count": null,
   "id": "f27f13b8",
   "metadata": {},
   "outputs": [],
   "source": [
    "from tkinter import *\n",
    "root = Tk()\n",
    "\n",
    "myLabel = Label(root, text=\"테스트 라벨 위젯\")\n",
    "myLabel.pack()\n",
    "\n",
    "mainloop()"
   ]
  },
  {
   "cell_type": "markdown",
   "id": "7f242c09",
   "metadata": {},
   "source": [
    "- button 위젯 "
   ]
  },
  {
   "cell_type": "code",
   "execution_count": null,
   "id": "041cbc04",
   "metadata": {},
   "outputs": [],
   "source": [
    "from tkinter import *\n",
    "root = Tk()\n",
    "\n",
    "# 기본 버튼\n",
    "btn1 = Button(root, text='click')\n",
    "btn1.pack()\n",
    "\n",
    "# 비활성화\n",
    "btn2 = Button(root, text='click', state=DISABLED)\n",
    "btn2.pack()\n",
    "\n",
    "# 50x50 사이즈\n",
    "btn3 = Button(root, text='click', padx=50, pady=50)\n",
    "btn3.pack()\n",
    "\n",
    "mainloop()"
   ]
  },
  {
   "cell_type": "markdown",
   "id": "20145110",
   "metadata": {},
   "source": [
    "- button 위젯 (클릭)"
   ]
  },
  {
   "cell_type": "code",
   "execution_count": 29,
   "id": "28b828a7",
   "metadata": {},
   "outputs": [],
   "source": [
    "from tkinter import *\n",
    "root = Tk()\n",
    "\n",
    "# 클릭 시 실행 함수\n",
    "def clickEvent():\n",
    "    label = Label(root, text='여러분과 스터디를 함께 할 수 있어 영광입니다')\n",
    "    label.pack()\n",
    "\n",
    "# 기본 버튼\n",
    "btn = Button(root, text='click', fg='blue', bg='cyan', command=clickEvent)\n",
    "btn.pack()\n",
    "\n",
    "mainloop()"
   ]
  },
  {
   "cell_type": "markdown",
   "id": "bb36a94e",
   "metadata": {},
   "source": [
    "- 실행 파일로 만들어서 실행해보기\n",
    "https://doomed-lab.tistory.com/46"
   ]
  },
  {
   "cell_type": "code",
   "execution_count": 32,
   "id": "e8d65e07",
   "metadata": {},
   "outputs": [],
   "source": [
    "from tkinter import *\n",
    "\n",
    "def click(key):\n",
    "    if key == '=':       # '='버튼이면 수식을 계산하여 결과를 표시한다\n",
    "        try:\n",
    "            result = eval(entry.get())\n",
    "            entry.delete(0, END)\n",
    "            entry.insert(END, str(result))\n",
    "        except:\n",
    "            entry.insert(END, \"오류!!!!!\")\n",
    "    elif key == 'C':\n",
    "        entry.delete(0, END)\n",
    "    else:\n",
    "        entry.insert(END, key)\n",
    "\n",
    "\n",
    "window = Tk()\n",
    "window.title(\"간단한 계산기\")\n",
    "\n",
    "buttons = ['7', '8', '9', '+', 'C',\n",
    "           '4', '5', '6', '-', ' ',\n",
    "           '1', '2', '3', '*', ' ',\n",
    "           '0', '.', '=', '/', ' ']\n",
    "\n",
    "#반복문으로 버튼을 생성한다.\n",
    "i = 0\n",
    "for b in buttons:\n",
    "    cmd = lambda x=b: click(x)\n",
    "    but = Button(window, text=b, width=5, relief='ridge', command=cmd)\n",
    "    but.grid(row=i//5+1, column=i%5)\n",
    "    i += 1\n",
    "\n",
    "#엔트리 위젯은 맨 윗줄의 5개의 셀에 걸쳐서 배치된다\n",
    "entry = Entry(window, width=33, bg='yellow')\n",
    "entry.grid(row=0, column=0, columnspan=5)\n",
    "\n",
    "window.mainloop()"
   ]
  },
  {
   "cell_type": "code",
   "execution_count": null,
   "id": "e219b666",
   "metadata": {},
   "outputs": [],
   "source": []
  }
 ],
 "metadata": {
  "kernelspec": {
   "display_name": "Python 3 (ipykernel)",
   "language": "python",
   "name": "python3"
  },
  "language_info": {
   "codemirror_mode": {
    "name": "ipython",
    "version": 3
   },
   "file_extension": ".py",
   "mimetype": "text/x-python",
   "name": "python",
   "nbconvert_exporter": "python",
   "pygments_lexer": "ipython3",
   "version": "3.9.7"
  }
 },
 "nbformat": 4,
 "nbformat_minor": 5
}
