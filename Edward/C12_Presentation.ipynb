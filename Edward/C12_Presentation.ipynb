{
 "cells": [
  {
   "cell_type": "markdown",
   "id": "fff4541d",
   "metadata": {},
   "source": [
    "Tkinter 가 무엇일까\n",
    "- Tkinter는 Tcl/Tk(티클티케이)에 대한 파이썬 Wrapper로서 Tcl/Tk를 파이썬에 사용할 수 있도록 한 Lightweight GUI 모듈이다\n",
    "- Tcl : Tool Command Language\n",
    "- Tk : 크로스 플랫폼에 사용되는 일종의 GUI 툴킷"
   ]
  },
  {
   "cell_type": "markdown",
   "id": "06212c78",
   "metadata": {},
   "source": [
    "- 단점 : 타 GUI 프레임워크나 툴킷에 비해 지원되는 위젯들이 부족하고 UI도 그렇게 예쁘지 않다\n",
    "- 장점 : Python 설치시 기본적으로 내장되어 있는 파이썬 표준 라이브러리이기 때문에 쉽고 간단한 GUI 프로그램을 만들 때 활용"
   ]
  },
  {
   "cell_type": "markdown",
   "id": "75002a44",
   "metadata": {},
   "source": [
    "책 설명\n",
    "- tkinter 모듈에 구현된 Tkinter GUI 툴킷은 표준 라이브러리에서 다중 상속을 극단적으로 사용하는 예를 보여줌 (그림 12-2와 같이)\n",
    "- Tkinter는 20년이나 되었고, 다중 상속의 단점을 이해하지 못할 때의 예시를 잘 보여줌\n",
    "- 다중 상속이 어려운 이유는 앨런 케이가 말한대로 상속은 다양한 목적으로 사용되는데 이 것을 다중으로 하니 설계가 어렵고 복잡도가 많이 증가 하기 때문이다.  책에서는 아래와 같은 조언을 따라 뒤엉킨 클래스 그래프가 만들어지는 것을 예방할 수 있다고 말한다."
   ]
  },
  {
   "cell_type": "markdown",
   "id": "b0b4f416",
   "metadata": {},
   "source": [
    "1. 인터페이스 상속과 구현 상속을 구분한다.\n",
    "\n",
    "- 구현 상속은 재사용을 통해 코드 중복을 피하게 한다. -> 구성이나 위임으로 대체할 수 있는 경우도 있음.\n",
    "\n",
    "- 인터페이스 상속은 'is-a' 관계를 의미하는 서브타입을 생성한다.\n",
    "\n",
    " \n",
    "\n",
    "2. ABC를 이용해서 인터페이스를 명확히 한다.\n",
    "\n",
    "- 인터페이스를 위한 클래스이면 abc.ABC를 상속하거나 다른 ABC를 상속한다.\n",
    "\n",
    " \n",
    "\n",
    "3. 코드를 재사용하기 위해 믹스인을 사용한다.\n",
    "\n",
    "- 믹스인 클래스는 재사용할 메서드를 묶어놓은 것 뿐이다. 'is-a' 관계를 나타내는 것이 아니라 여러 서브클래스에서 코드를 재사용하기 위해 설계된 클래스는 명시적으로 믹스인 클래스로 만들어야 한다. 믹스인 클래스로 객체를 생성해서는 안되고 단독으로 상속되도록 사용해서도 안된다. 다른 구상 메서드와 함께 상속되어 사용해야 한다. \n",
    "\n",
    " \n",
    "\n",
    "4. 이름을 통해 믹스인임을 명확히 한다.\n",
    "\n",
    "- Tkinter는 이런 권고를 따르지 않았지만 Django에서는 이런 권고를 따라서 구현되어 있다.\n",
    "\n",
    "- ex) TemplateResponseMixin\n",
    "\n",
    " \n",
    "\n",
    "5. ABC가 믹스인 될 수는 있지만, 믹스인이라고 해서 ABC인 것은 아니다.\n",
    "\n",
    "- 11장에서 본 것 처럼 ABC는 구상 클래스를 구현할 수 있으므로 믹스인으로 사용될 수 있지만 믹스인이라고 ABC는 아니다. ABC는 자료형을 정의하고, 단일 기저 클래스가 될 수도 있다.\n",
    "\n",
    " \n",
    "\n",
    "6. 두 개 이상의 구상 클래스에서 상속받지 않는다.\n",
    "\n",
    "- 구상 클래스는 0개 or 하나의 구상 슈퍼클래스를 가져야 한다. 즉, 구상클래스의 슈퍼클래스 중 하나를 제외한 나머지 클래스는 ABC나 믹스인이어야 한다. 아래의 사이트는 CBV에 대한 정보를 잘 정리해 두었다.\n",
    "\n",
    "- BaseListView는 View 구상 메서드와 MultipleObjectMixin, ContextMixin을 상속했다."
   ]
  },
  {
   "cell_type": "markdown",
   "id": "deeec800",
   "metadata": {},
   "source": [
    "위의 8가지 조언을 토대로 Tkinter를 평가해본다.\n",
    "\n",
    "Tkinder는 7번을 제외하고는 거의 모든 조언을 따르지 않았다라고 한다. \n",
    "\n",
    "Widget은 구상 메서드를 가지고 있지 않다. 즉, 인터페이스를 정의하는데 ABC를 상속하지 않았다.구현 상속과 인터페이스 상속을 구분하지 않았다 등등...\n",
    "\n",
    "\n",
    "위의 제안들을 지키지 않았지만 굉장히 파워풀하고 좋은 패키지라고 말한다..."
   ]
  },
  {
   "cell_type": "code",
   "execution_count": 1,
   "id": "892761dc",
   "metadata": {},
   "outputs": [
    {
     "name": "stdout",
     "output_type": "stream",
     "text": [
      "Text, Widget, BaseWidget, Misc, Pack, Place, Grid, XView, YView, object\n"
     ]
    }
   ],
   "source": [
    "import tkinter\n",
    "\n",
    "def print_mro(cls):\n",
    "    print(', '.join(c.__name__ for c in cls.__mro__))\n",
    "\n",
    "print_mro(tkinter.Text)"
   ]
  },
  {
   "cell_type": "markdown",
   "id": "0d0f8fea",
   "metadata": {},
   "source": [
    "간단히 배워보자 (신기함)\n",
    "- pack : 윈도우 스크린에 보이게 하기"
   ]
  },
  {
   "cell_type": "code",
   "execution_count": 2,
   "id": "f27f13b8",
   "metadata": {},
   "outputs": [],
   "source": [
    "from tkinter import *\n",
    "root = Tk()\n",
    "\n",
    "myLabel = Label(root, text=\"테스트 라벨 위젯\")\n",
    "myLabel.pack()\n",
    "\n",
    "mainloop()"
   ]
  },
  {
   "cell_type": "markdown",
   "id": "7f242c09",
   "metadata": {},
   "source": [
    "- button 위젯 "
   ]
  },
  {
   "cell_type": "code",
   "execution_count": 3,
   "id": "041cbc04",
   "metadata": {},
   "outputs": [],
   "source": [
    "from tkinter import *\n",
    "root = Tk()\n",
    "\n",
    "# 기본 버튼\n",
    "btn1 = Button(root, text='click')\n",
    "btn1.pack()\n",
    "\n",
    "# 비활성화\n",
    "btn2 = Button(root, text='click', state=DISABLED)\n",
    "btn2.pack()\n",
    "\n",
    "# 50x50 사이즈\n",
    "btn3 = Button(root, text='click', padx=50, pady=50)\n",
    "btn3.pack()\n",
    "\n",
    "mainloop()"
   ]
  },
  {
   "cell_type": "markdown",
   "id": "20145110",
   "metadata": {},
   "source": [
    "- button 위젯 (클릭)"
   ]
  },
  {
   "cell_type": "code",
   "execution_count": 4,
   "id": "28b828a7",
   "metadata": {},
   "outputs": [],
   "source": [
    "from tkinter import *\n",
    "root = Tk()\n",
    "\n",
    "# 클릭 시 실행 함수\n",
    "def clickEvent():\n",
    "    label = Label(root, text='여러분과 스터디를 함께 할 수 있어 영광입니다')\n",
    "    label.pack()\n",
    "\n",
    "# 기본 버튼\n",
    "btn = Button(root, text='click', fg='blue', bg='cyan', command=clickEvent)\n",
    "btn.pack()\n",
    "\n",
    "mainloop()"
   ]
  },
  {
   "cell_type": "markdown",
   "id": "bb36a94e",
   "metadata": {},
   "source": [
    "- 실행 파일로 만들어서 실행해보기\n",
    "https://doomed-lab.tistory.com/46"
   ]
  },
  {
   "cell_type": "code",
   "execution_count": 5,
   "id": "e8d65e07",
   "metadata": {},
   "outputs": [],
   "source": [
    "from tkinter import *\n",
    "\n",
    "def click(key):\n",
    "    if key == '=':       # '='버튼이면 수식을 계산하여 결과를 표시한다\n",
    "        try:\n",
    "            result = eval(entry.get())\n",
    "            entry.delete(0, END)\n",
    "            entry.insert(END, str(result))\n",
    "        except:\n",
    "            entry.insert(END, \"오류!!!!!\")\n",
    "    elif key == 'C':\n",
    "        entry.delete(0, END)\n",
    "    else:\n",
    "        entry.insert(END, key)\n",
    "\n",
    "\n",
    "window = Tk()\n",
    "window.title(\"간단한 계산기\")\n",
    "\n",
    "buttons = ['7', '8', '9', '+', 'C',\n",
    "           '4', '5', '6', '-', ' ',\n",
    "           '1', '2', '3', '*', ' ',\n",
    "           '0', '.', '=', '/', ' ']\n",
    "\n",
    "#반복문으로 버튼을 생성한다.\n",
    "i = 0\n",
    "for b in buttons:\n",
    "    cmd = lambda x=b: click(x)\n",
    "    but = Button(window, text=b, width=5, relief='ridge', command=cmd)\n",
    "    but.grid(row=i//5+1, column=i%5)\n",
    "    i += 1\n",
    "\n",
    "#엔트리 위젯은 맨 윗줄의 5개의 셀에 걸쳐서 배치된다\n",
    "entry = Entry(window, width=33, bg='yellow')\n",
    "entry.grid(row=0, column=0, columnspan=5)\n",
    "\n",
    "window.mainloop()"
   ]
  }
 ],
 "metadata": {
  "kernelspec": {
   "display_name": "Python 3 (ipykernel)",
   "language": "python",
   "name": "python3"
  },
  "language_info": {
   "codemirror_mode": {
    "name": "ipython",
    "version": 3
   },
   "file_extension": ".py",
   "mimetype": "text/x-python",
   "name": "python",
   "nbconvert_exporter": "python",
   "pygments_lexer": "ipython3",
   "version": "3.9.7"
  }
 },
 "nbformat": 4,
 "nbformat_minor": 5
}
