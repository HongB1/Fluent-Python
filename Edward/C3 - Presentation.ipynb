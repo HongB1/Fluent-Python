{
 "cells": [
  {
   "cell_type": "markdown",
   "id": "abe3c055",
   "metadata": {},
   "source": [
    "# 3.4 융통성 있게 키를 조회하는 매핑"
   ]
  },
  {
   "cell_type": "markdown",
   "id": "82d0318c",
   "metadata": {},
   "source": [
    "1. `dict` 대신 `defaultdict` 쓰기\n",
    "2. `dict` 등의 매핑형 상속하여 `__missing__()` 메서드 추가하기"
   ]
  },
  {
   "cell_type": "markdown",
   "id": "bf76558c",
   "metadata": {},
   "source": [
    "### 3.4.1 defaultdict: 존재하지 않는 키에 대한 또 다른 처리"
   ]
  },
  {
   "cell_type": "markdown",
   "id": "898822be",
   "metadata": {},
   "source": [
    "- 그냥 `dict`를 사용했을 때"
   ]
  },
  {
   "cell_type": "code",
   "execution_count": 1,
   "id": "a4651d86",
   "metadata": {},
   "outputs": [
    {
     "ename": "KeyError",
     "evalue": "'dog'",
     "output_type": "error",
     "traceback": [
      "\u001b[1;31m---------------------------------------------------------------------------\u001b[0m",
      "\u001b[1;31mKeyError\u001b[0m                                  Traceback (most recent call last)",
      "\u001b[1;32m~\\AppData\\Local\\Temp/ipykernel_3020/1754895787.py\u001b[0m in \u001b[0;36m<module>\u001b[1;34m\u001b[0m\n\u001b[0;32m      1\u001b[0m \u001b[0mindex\u001b[0m \u001b[1;33m=\u001b[0m \u001b[1;33m{\u001b[0m\u001b[1;33m}\u001b[0m\u001b[1;33m\u001b[0m\u001b[1;33m\u001b[0m\u001b[0m\n\u001b[1;32m----> 2\u001b[1;33m \u001b[0mindex\u001b[0m\u001b[1;33m[\u001b[0m\u001b[1;34m'dog'\u001b[0m\u001b[1;33m]\u001b[0m\u001b[1;33m.\u001b[0m\u001b[0mappend\u001b[0m\u001b[1;33m(\u001b[0m\u001b[1;33m[\u001b[0m\u001b[1;36m1\u001b[0m\u001b[1;33m,\u001b[0m \u001b[1;36m2\u001b[0m\u001b[1;33m]\u001b[0m\u001b[1;33m)\u001b[0m\u001b[1;33m\u001b[0m\u001b[1;33m\u001b[0m\u001b[0m\n\u001b[0m",
      "\u001b[1;31mKeyError\u001b[0m: 'dog'"
     ]
    }
   ],
   "source": [
    "index = {}\n",
    "index['dog'].append([1, 2])"
   ]
  },
  {
   "cell_type": "markdown",
   "id": "1897adff",
   "metadata": {},
   "source": [
    "- `defaultdict`를 사용했을 때"
   ]
  },
  {
   "cell_type": "code",
   "execution_count": 2,
   "id": "beb0e86a",
   "metadata": {},
   "outputs": [
    {
     "data": {
      "text/plain": [
       "defaultdict(list, {'dog': [[1, 2]]})"
      ]
     },
     "execution_count": 2,
     "metadata": {},
     "output_type": "execute_result"
    }
   ],
   "source": [
    "from collections import defaultdict\n",
    "index = defaultdict(list)\n",
    "index['dog'].append([1, 2])\n",
    "index"
   ]
  },
  {
   "cell_type": "markdown",
   "id": "145cc591",
   "metadata": {},
   "source": [
    "- 그러므로 `defaultdict`를 사용하면 코드를 짜기 쉬워짐"
   ]
  },
  {
   "cell_type": "code",
   "execution_count": 3,
   "id": "1bb4acb6",
   "metadata": {},
   "outputs": [
    {
     "name": "stdout",
     "output_type": "stream",
     "text": [
      "A [(1, 1), (6, 1)]\n",
      "and [(5, 21)]\n",
      "back [(5, 16)]\n",
      "barking [(1, 3)]\n",
      "before [(4, 28)]\n",
      "better [(3, 15)]\n",
      "bites [(1, 21)]\n",
      "chickens [(4, 19)]\n",
      "count [(4, 8)]\n",
      "Do [(4, 1)]\n",
      "dog [(1, 11)]\n",
      "gain [(2, 12)]\n",
      "hatch [(4, 40)]\n",
      "I [(5, 25)]\n",
      "ll [(5, 27)]\n",
      "more [(3, 5)]\n",
      "my [(5, 13)]\n",
      "never [(1, 15)]\n",
      "No [(2, 1), (2, 9)]\n",
      "not [(4, 4)]\n",
      "pain [(2, 4)]\n",
      "pet [(6, 3)]\n",
      "scratch [(5, 5), (5, 30)]\n",
      "The [(3, 1)]\n",
      "the [(3, 11)]\n",
      "they [(4, 35)]\n",
      "You [(5, 1)]\n",
      "your [(4, 14)]\n",
      "yours [(5, 38)]\n"
     ]
    }
   ],
   "source": [
    "\"\"\" 단어가 나타나는 위치를 가리키는 인덱스를 만든다.\"\"\"\n",
    "\n",
    "import re\n",
    "from collections import defaultdict\n",
    "txt_file = 'txt/proverb.txt'\n",
    "\n",
    "WORD_RE = re.compile(r'\\w+')\n",
    "index = defaultdict(list)\n",
    "\n",
    "with open(txt_file, encoding='utf-8') as fp:\n",
    "    for line_no, line in enumerate(fp, 1):\n",
    "        for match in WORD_RE.finditer(line):\n",
    "            word = match.group()\n",
    "            column_no = match.start()+1\n",
    "            location = (line_no, column_no)\n",
    "            index[word].append(location)\n",
    "\n",
    "for word in sorted(index, key=str.upper):\n",
    "    print(word, index[word])"
   ]
  },
  {
   "cell_type": "markdown",
   "id": "2dde7bf2",
   "metadata": {},
   "source": [
    "### 3.4.2 __missing 메서드"
   ]
  },
  {
   "cell_type": "markdown",
   "id": "23cf8f3c",
   "metadata": {},
   "source": [
    "`dict` 클래스를 상속하고 `__missing__()` 메서드를 정의하면 `dict.__getitem__()` 표준 메서드가 키를 발견할 수 없을 때 `KeyError`를 발생시키지 않고 `__missing__()` 메서드를 호출한다."
   ]
  },
  {
   "cell_type": "code",
   "execution_count": 4,
   "id": "e99c3ea9",
   "metadata": {},
   "outputs": [],
   "source": [
    "class StrKeyDict0(dict):\n",
    "    \n",
    "    def __missing__(self, key):\n",
    "        if isinstance(key, str):\n",
    "            raise KeyError(key) # 키가 문자열이고 존재하지 않으면 KeyError 발생\n",
    "        return self[str(key)] # 키에서 문자열을 만들고 조회한다\n",
    "    \n",
    "    def get(self, key, default=None):\n",
    "        try:\n",
    "            return self[key]\n",
    "        except KeyError:\n",
    "            return default\n",
    "        \n",
    "    def __contains__(self, key):\n",
    "        return key in self.keys() or str(key) in self.keys()"
   ]
  },
  {
   "cell_type": "code",
   "execution_count": 5,
   "id": "ff8e6f04",
   "metadata": {},
   "outputs": [
    {
     "data": {
      "text/plain": [
       "{'2': 'two', '4': 'four'}"
      ]
     },
     "execution_count": 5,
     "metadata": {},
     "output_type": "execute_result"
    }
   ],
   "source": [
    "d = StrKeyDict0([('2', 'two'), ('4', 'four')])\n",
    "d"
   ]
  },
  {
   "cell_type": "code",
   "execution_count": 6,
   "id": "ffdd8095",
   "metadata": {},
   "outputs": [
    {
     "data": {
      "text/plain": [
       "'two'"
      ]
     },
     "execution_count": 6,
     "metadata": {},
     "output_type": "execute_result"
    }
   ],
   "source": [
    "d[2]"
   ]
  },
  {
   "cell_type": "code",
   "execution_count": 7,
   "id": "c3eff11a",
   "metadata": {},
   "outputs": [
    {
     "ename": "KeyError",
     "evalue": "'1'",
     "output_type": "error",
     "traceback": [
      "\u001b[1;31m---------------------------------------------------------------------------\u001b[0m",
      "\u001b[1;31mKeyError\u001b[0m                                  Traceback (most recent call last)",
      "\u001b[1;32m~\\AppData\\Local\\Temp/ipykernel_3020/708413107.py\u001b[0m in \u001b[0;36m<module>\u001b[1;34m\u001b[0m\n\u001b[1;32m----> 1\u001b[1;33m \u001b[0md\u001b[0m\u001b[1;33m[\u001b[0m\u001b[1;36m1\u001b[0m\u001b[1;33m]\u001b[0m\u001b[1;33m\u001b[0m\u001b[1;33m\u001b[0m\u001b[0m\n\u001b[0m",
      "\u001b[1;32m~\\AppData\\Local\\Temp/ipykernel_3020/2816654446.py\u001b[0m in \u001b[0;36m__missing__\u001b[1;34m(self, key)\u001b[0m\n\u001b[0;32m      4\u001b[0m         \u001b[1;32mif\u001b[0m \u001b[0misinstance\u001b[0m\u001b[1;33m(\u001b[0m\u001b[0mkey\u001b[0m\u001b[1;33m,\u001b[0m \u001b[0mstr\u001b[0m\u001b[1;33m)\u001b[0m\u001b[1;33m:\u001b[0m\u001b[1;33m\u001b[0m\u001b[1;33m\u001b[0m\u001b[0m\n\u001b[0;32m      5\u001b[0m             \u001b[1;32mraise\u001b[0m \u001b[0mKeyError\u001b[0m\u001b[1;33m(\u001b[0m\u001b[0mkey\u001b[0m\u001b[1;33m)\u001b[0m \u001b[1;31m# 키가 문자열이고 존재하지 않으면 KeyError 발생\u001b[0m\u001b[1;33m\u001b[0m\u001b[1;33m\u001b[0m\u001b[0m\n\u001b[1;32m----> 6\u001b[1;33m         \u001b[1;32mreturn\u001b[0m \u001b[0mself\u001b[0m\u001b[1;33m[\u001b[0m\u001b[0mstr\u001b[0m\u001b[1;33m(\u001b[0m\u001b[0mkey\u001b[0m\u001b[1;33m)\u001b[0m\u001b[1;33m]\u001b[0m \u001b[1;31m# 키에서 문자열을 만들고 조회한다\u001b[0m\u001b[1;33m\u001b[0m\u001b[1;33m\u001b[0m\u001b[0m\n\u001b[0m\u001b[0;32m      7\u001b[0m \u001b[1;33m\u001b[0m\u001b[0m\n\u001b[0;32m      8\u001b[0m     \u001b[1;32mdef\u001b[0m \u001b[0mget\u001b[0m\u001b[1;33m(\u001b[0m\u001b[0mself\u001b[0m\u001b[1;33m,\u001b[0m \u001b[0mkey\u001b[0m\u001b[1;33m,\u001b[0m \u001b[0mdefault\u001b[0m\u001b[1;33m=\u001b[0m\u001b[1;32mNone\u001b[0m\u001b[1;33m)\u001b[0m\u001b[1;33m:\u001b[0m\u001b[1;33m\u001b[0m\u001b[1;33m\u001b[0m\u001b[0m\n",
      "\u001b[1;32m~\\AppData\\Local\\Temp/ipykernel_3020/2816654446.py\u001b[0m in \u001b[0;36m__missing__\u001b[1;34m(self, key)\u001b[0m\n\u001b[0;32m      3\u001b[0m     \u001b[1;32mdef\u001b[0m \u001b[0m__missing__\u001b[0m\u001b[1;33m(\u001b[0m\u001b[0mself\u001b[0m\u001b[1;33m,\u001b[0m \u001b[0mkey\u001b[0m\u001b[1;33m)\u001b[0m\u001b[1;33m:\u001b[0m\u001b[1;33m\u001b[0m\u001b[1;33m\u001b[0m\u001b[0m\n\u001b[0;32m      4\u001b[0m         \u001b[1;32mif\u001b[0m \u001b[0misinstance\u001b[0m\u001b[1;33m(\u001b[0m\u001b[0mkey\u001b[0m\u001b[1;33m,\u001b[0m \u001b[0mstr\u001b[0m\u001b[1;33m)\u001b[0m\u001b[1;33m:\u001b[0m\u001b[1;33m\u001b[0m\u001b[1;33m\u001b[0m\u001b[0m\n\u001b[1;32m----> 5\u001b[1;33m             \u001b[1;32mraise\u001b[0m \u001b[0mKeyError\u001b[0m\u001b[1;33m(\u001b[0m\u001b[0mkey\u001b[0m\u001b[1;33m)\u001b[0m \u001b[1;31m# 키가 문자열이고 존재하지 않으면 KeyError 발생\u001b[0m\u001b[1;33m\u001b[0m\u001b[1;33m\u001b[0m\u001b[0m\n\u001b[0m\u001b[0;32m      6\u001b[0m         \u001b[1;32mreturn\u001b[0m \u001b[0mself\u001b[0m\u001b[1;33m[\u001b[0m\u001b[0mstr\u001b[0m\u001b[1;33m(\u001b[0m\u001b[0mkey\u001b[0m\u001b[1;33m)\u001b[0m\u001b[1;33m]\u001b[0m \u001b[1;31m# 키에서 문자열을 만들고 조회한다\u001b[0m\u001b[1;33m\u001b[0m\u001b[1;33m\u001b[0m\u001b[0m\n\u001b[0;32m      7\u001b[0m \u001b[1;33m\u001b[0m\u001b[0m\n",
      "\u001b[1;31mKeyError\u001b[0m: '1'"
     ]
    }
   ],
   "source": [
    "d[1]"
   ]
  },
  {
   "cell_type": "code",
   "execution_count": 8,
   "id": "fcc1900e",
   "metadata": {},
   "outputs": [
    {
     "data": {
      "text/plain": [
       "'two'"
      ]
     },
     "execution_count": 8,
     "metadata": {},
     "output_type": "execute_result"
    }
   ],
   "source": [
    "d.get(2)"
   ]
  },
  {
   "cell_type": "code",
   "execution_count": 9,
   "id": "14bd7c14",
   "metadata": {},
   "outputs": [],
   "source": [
    "d.get(1)"
   ]
  },
  {
   "cell_type": "markdown",
   "id": "55495951",
   "metadata": {},
   "source": [
    "# 3.5 그 외 매핑형"
   ]
  },
  {
   "cell_type": "code",
   "execution_count": 10,
   "id": "348dbad3",
   "metadata": {},
   "outputs": [
    {
     "data": {
      "text/plain": [
       "Counter({'a': 3, 'b': 2, 'c': 1, 'd': 1, 'e': 1})"
      ]
     },
     "execution_count": 10,
     "metadata": {},
     "output_type": "execute_result"
    }
   ],
   "source": [
    "from collections import Counter\n",
    "ct = Counter('abcdeaab')\n",
    "ct"
   ]
  },
  {
   "cell_type": "code",
   "execution_count": 11,
   "id": "1e3befdb",
   "metadata": {},
   "outputs": [
    {
     "data": {
      "text/plain": [
       "Counter({'a': 5, 'b': 2, 'c': 1, 'd': 1, 'e': 1, 'z': 5})"
      ]
     },
     "execution_count": 11,
     "metadata": {},
     "output_type": "execute_result"
    }
   ],
   "source": [
    "ct.update('aazzzzz')\n",
    "ct"
   ]
  },
  {
   "cell_type": "code",
   "execution_count": 12,
   "id": "f7bf2749",
   "metadata": {},
   "outputs": [
    {
     "data": {
      "text/plain": [
       "[('a', 5)]"
      ]
     },
     "execution_count": 12,
     "metadata": {},
     "output_type": "execute_result"
    }
   ],
   "source": [
    "ct.most_common(1)"
   ]
  },
  {
   "cell_type": "code",
   "execution_count": 13,
   "id": "395c022c",
   "metadata": {},
   "outputs": [
    {
     "data": {
      "text/plain": [
       "('a', 5)"
      ]
     },
     "execution_count": 13,
     "metadata": {},
     "output_type": "execute_result"
    }
   ],
   "source": [
    "def find_max(word):\n",
    "    counter = Counter(word)\n",
    "    max_count = -1\n",
    "    for letter in counter:\n",
    "        if counter[letter] > max_count:\n",
    "            max_count = counter[letter]\n",
    "            max_letter = letter\n",
    "    return max_letter, max_count\n",
    "\n",
    "find_max(ct)"
   ]
  },
  {
   "cell_type": "code",
   "execution_count": 14,
   "id": "79be370a",
   "metadata": {},
   "outputs": [
    {
     "data": {
      "text/plain": [
       "5"
      ]
     },
     "execution_count": 14,
     "metadata": {},
     "output_type": "execute_result"
    }
   ],
   "source": [
    "ct['a']"
   ]
  }
 ],
 "metadata": {
  "kernelspec": {
   "display_name": "Python 3 (ipykernel)",
   "language": "python",
   "name": "python3"
  },
  "language_info": {
   "codemirror_mode": {
    "name": "ipython",
    "version": 3
   },
   "file_extension": ".py",
   "mimetype": "text/x-python",
   "name": "python",
   "nbconvert_exporter": "python",
   "pygments_lexer": "ipython3",
   "version": "3.9.7"
  }
 },
 "nbformat": 4,
 "nbformat_minor": 5
}
