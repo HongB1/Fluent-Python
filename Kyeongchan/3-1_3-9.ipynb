{
 "cells": [
  {
   "cell_type": "code",
   "execution_count": null,
   "metadata": {},
   "outputs": [],
   "source": []
  }
 ],
 "metadata": {
  "kernelspec": {
   "display_name": "Python 3.9.10 ('x86-3.9.10')",
   "language": "python",
   "name": "python3"
  },
  "language_info": {
   "name": "python",
   "version": "3.9.10"
  },
  "orig_nbformat": 4,
  "vscode": {
   "interpreter": {
    "hash": "dfecdadce9e18cfa7ada375b99f6373f96a34496e56d1aa32a316b78b5ef638a"
   }
  }
 },
 "nbformat": 4,
 "nbformat_minor": 2
}
