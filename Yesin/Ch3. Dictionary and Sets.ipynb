{
 "cells": [
  {
   "cell_type": "markdown",
   "metadata": {},
   "source": [
    "# 3. 딕셔너리와 집합\n",
    "dict 형은 파이썬 구현의 핵심이다. 클래스 및 인스턴스 속성, 함수의 키워드 인수 등 핵심 부분에 딕셔너리가 사용되고 있다. 내장 함수들은 `__builtines__.__dict__`에 들어 있다."
   ]
  },
  {
   "cell_type": "markdown",
   "metadata": {},
   "source": [
    "## 3. 1 일반적인 매핑형"
   ]
  },
  {
   "cell_type": "code",
   "execution_count": 16,
   "metadata": {},
   "outputs": [
    {
     "data": {
      "text/plain": [
       "True"
      ]
     },
     "execution_count": 16,
     "metadata": {},
     "output_type": "execute_result"
    }
   ],
   "source": [
    "my_dict = {}\n",
    "import collections\n",
    "isinstance(my_dict, collections.abc.Mapping)"
   ]
  },
  {
   "cell_type": "markdown",
   "metadata": {},
   "source": [
    "함수 인수가 dict인지 검사하는 것보다 `isintance()` 함수를 사용하는 것이 좋다. 다른 매핑형이 사용될 수도 있기 때문이다.\n",
    "모든 라이브러리에서 제공하는 매핑형은 모두 dict을 사용하므로 , 키가 해시가능해야 한다는 제한이 있다. (`__hash__` 메서드 구현 필요!)"
   ]
  },
  {
   "cell_type": "code",
   "execution_count": 17,
   "metadata": {},
   "outputs": [
    {
     "name": "stdout",
     "output_type": "stream",
     "text": [
      "-3907003130834322577\n"
     ]
    },
    {
     "ename": "TypeError",
     "evalue": "unhashable type: 'list'",
     "output_type": "error",
     "traceback": [
      "\u001b[0;31m---------------------------------------------------------------------------\u001b[0m",
      "\u001b[0;31mTypeError\u001b[0m                                 Traceback (most recent call last)",
      "\u001b[1;32m/Users/yeshinkim/Sage/FluentPython/Ch3. Dictionary and Sets.ipynb 셀 5\u001b[0m in \u001b[0;36m<cell line: 7>\u001b[0;34m()\u001b[0m\n\u001b[1;32m      <a href='vscode-notebook-cell:/Users/yeshinkim/Sage/FluentPython/Ch3.%20Dictionary%20and%20Sets.ipynb#X13sZmlsZQ%3D%3D?line=3'>4</a>\u001b[0m \u001b[39mprint\u001b[39m(\u001b[39mhash\u001b[39m(tt))\n\u001b[1;32m      <a href='vscode-notebook-cell:/Users/yeshinkim/Sage/FluentPython/Ch3.%20Dictionary%20and%20Sets.ipynb#X13sZmlsZQ%3D%3D?line=5'>6</a>\u001b[0m tl \u001b[39m=\u001b[39m (\u001b[39m1\u001b[39m, \u001b[39m2\u001b[39m, [\u001b[39m30\u001b[39m, \u001b[39m40\u001b[39m])\n\u001b[0;32m----> <a href='vscode-notebook-cell:/Users/yeshinkim/Sage/FluentPython/Ch3.%20Dictionary%20and%20Sets.ipynb#X13sZmlsZQ%3D%3D?line=6'>7</a>\u001b[0m \u001b[39mprint\u001b[39m(\u001b[39mhash\u001b[39;49m(tl))     \u001b[39m# TypeError: unhashable type: 'list'\u001b[39;00m\n\u001b[1;32m      <a href='vscode-notebook-cell:/Users/yeshinkim/Sage/FluentPython/Ch3.%20Dictionary%20and%20Sets.ipynb#X13sZmlsZQ%3D%3D?line=7'>8</a>\u001b[0m \u001b[39m'''\u001b[39;00m\n\u001b[1;32m      <a href='vscode-notebook-cell:/Users/yeshinkim/Sage/FluentPython/Ch3.%20Dictionary%20and%20Sets.ipynb#X13sZmlsZQ%3D%3D?line=8'>9</a>\u001b[0m \u001b[39m---------------------------------------------------------------------------\u001b[39;00m\n\u001b[1;32m     <a href='vscode-notebook-cell:/Users/yeshinkim/Sage/FluentPython/Ch3.%20Dictionary%20and%20Sets.ipynb#X13sZmlsZQ%3D%3D?line=9'>10</a>\u001b[0m \u001b[39mTypeError                                 Traceback (most recent call last)\u001b[39;00m\n\u001b[0;32m   (...)\u001b[0m\n\u001b[1;32m     <a href='vscode-notebook-cell:/Users/yeshinkim/Sage/FluentPython/Ch3.%20Dictionary%20and%20Sets.ipynb#X13sZmlsZQ%3D%3D?line=15'>16</a>\u001b[0m \u001b[39mTypeError: unhashable type: 'list'\u001b[39;00m\n\u001b[1;32m     <a href='vscode-notebook-cell:/Users/yeshinkim/Sage/FluentPython/Ch3.%20Dictionary%20and%20Sets.ipynb#X13sZmlsZQ%3D%3D?line=16'>17</a>\u001b[0m \u001b[39m'''\u001b[39;00m\n",
      "\u001b[0;31mTypeError\u001b[0m: unhashable type: 'list'"
     ]
    }
   ],
   "source": [
    "# What is hassable? (https://docs.python.org/3/glossary.html#term-hashable)\n",
    "\n",
    "tt = (1, 2, (30, 40))\n",
    "print(hash(tt))\n",
    "\n",
    "tl = (1, 2, [30, 40])\n",
    "print(hash(tl))     # TypeError: unhashable type: 'list'\n",
    "'''\n",
    "---------------------------------------------------------------------------\n",
    "TypeError                                 Traceback (most recent call last)\n",
    "/Users/yeshinkim/Sage/FluentPython/Ch3. Dictionary and Sets.ipynb 셀 5 in <cell line: 7>()\n",
    "      4 print(hash(tt))\n",
    "      6 tl = (1, 2, [30, 40])\n",
    "----> 7 print(hash(tl))\n",
    "\n",
    "TypeError: unhashable type: 'list'\n",
    "'''"
   ]
  },
  {
   "cell_type": "code",
   "execution_count": null,
   "metadata": {},
   "outputs": [
    {
     "name": "stdout",
     "output_type": "stream",
     "text": [
      "5149391500123939311\n"
     ]
    }
   ],
   "source": [
    "tf = (1, 2, frozenset([30, 40]))\n",
    "print(hash(tf))\n",
    "\n",
    "# 이것으로 알 수 있는 것은 원자적 불변형은 해시 가능하다는 것이다! list는 mutable이기 때문에 해시 불가능하다."
   ]
  },
  {
   "cell_type": "code",
   "execution_count": null,
   "metadata": {},
   "outputs": [
    {
     "data": {
      "text/plain": [
       "True"
      ]
     },
     "execution_count": 4,
     "metadata": {},
     "output_type": "execute_result"
    }
   ],
   "source": [
    "# 다양한 방식으로 딕셔너리를 구현할 수 있음 \n",
    "a = dict(one=1, two=2, three=3)\n",
    "b = {'one': 1, 'two': 2, 'three': 3}\n",
    "c = dict(zip(['one', 'two', 'three'], [1, 2, 3]))\n",
    "d = dict([('two', 2), ('one', 1), ('three', 3)])\n",
    "e = dict({'three': 3, 'one': 1, 'two': 2})\n",
    "a == b == c == d == e"
   ]
  },
  {
   "cell_type": "markdown",
   "metadata": {},
   "source": [
    "## 3. 2 지능형 딕셔너리"
   ]
  },
  {
   "cell_type": "code",
   "execution_count": 18,
   "metadata": {},
   "outputs": [
    {
     "name": "stdout",
     "output_type": "stream",
     "text": [
      "{'China': 86, 'India': 91, 'United States': 1, 'Indonesia': 62, 'Brazil': 55, 'Pakistan': 92, 'Bangladesh': 880, 'Nigeria': 234, 'Russia': 7, 'Japan': 81}\n"
     ]
    },
    {
     "data": {
      "text/plain": [
       "{1: 'UNITED STATES', 62: 'INDONESIA', 55: 'BRAZIL', 7: 'RUSSIA'}"
      ]
     },
     "execution_count": 18,
     "metadata": {},
     "output_type": "execute_result"
    }
   ],
   "source": [
    "# dict comprehension\n",
    "\n",
    "DIAL_CODES = [\n",
    "    (86, 'China'),\n",
    "    (91, 'India'),\n",
    "    (1, 'United States'),\n",
    "    (62, 'Indonesia'),\n",
    "    (55, 'Brazil'),\n",
    "    (92, 'Pakistan'),\n",
    "    (880, 'Bangladesh'),\n",
    "    (234, 'Nigeria'),\n",
    "    (7, 'Russia'),\n",
    "    (81, 'Japan'),\n",
    "]\n",
    "\n",
    "\n",
    "\n",
    "country_code = {country: code for code, country in DIAL_CODES}    # DIAL_CODES의 각 튜플을 code, country로 unpacking해 dict로 만듦\n",
    "print(country_code)\n",
    "\n",
    "{code: country.upper() for country, code in country_code.items() if code < 66}    # country_code의 key와 value를 바꾼 후, code가 66보다 작은 것만 dict로 만듦"
   ]
  },
  {
   "cell_type": "markdown",
   "metadata": {},
   "source": [
    "## 3. 3 공통적인 매핑 메서드\n",
    "- 매핑이 제공하는 API는 매우 많다. `defalutDict`와 `OrderedDict` 클래스(두 클래스는 모두 collections 모듈에 정의되어 있음)가 구현하는 메서드는 책 p.113를 참고!"
   ]
  },
  {
   "cell_type": "code",
   "execution_count": 19,
   "metadata": {},
   "outputs": [
    {
     "name": "stdout",
     "output_type": "stream",
     "text": [
      "꽥꽥!\n",
      "오리에게 흰색, 회색 깃털이 있습니다.\n",
      "이 사람이 오리를 흉내내네요.\n",
      "사람은 바닥에서 깃털을 주워서 보여 줍니다.\n"
     ]
    }
   ],
   "source": [
    "# what is duck typing? (https://en.wikipedia.org/wiki/Duck_typing)\n",
    "# - 사람이 오리인척 하면 오리라고 봐도 된다? \n",
    "#   즉, 미리 타입을 정해놓지 않고, 실행 시점에 타입을 결정하는 것을 의미한다.\n",
    "class Duck:\n",
    "    def quack(self): \n",
    "        print(\"꽥꽥!\")\n",
    "    def feathers(self):\n",
    "        print(\"오리에게 흰색, 회색 깃털이 있습니다.\")\n",
    "\n",
    "class Person:\n",
    "    def quack(self): \n",
    "        print(\"이 사람이 오리를 흉내내네요.\")\n",
    "    def feathers(self):\n",
    "        print(\"사람은 바닥에서 깃털을 주워서 보여 줍니다.\")\n",
    "\n",
    "def in_the_forest(duck):\n",
    "    duck.quack()\n",
    "    duck.feathers()\n",
    "\n",
    "# def game():\n",
    "#     donald = Duck()\n",
    "#     john = Person()\n",
    "#     in_the_forest(donald)\n",
    "#     in_the_forest(john)\n",
    "\n",
    "\n",
    "in_the_forest(Duck())\n",
    "in_the_forest(Person())"
   ]
  },
  {
   "cell_type": "markdown",
   "metadata": {},
   "source": [
    "### 3. 3. 1 존재하지 않는 키를 setdefault()로 처리하기\n",
    "- **\\*조기 실패(fail-fast)** 철학에 따라 존재하지 않는 키로 dict[key]를 접근하면 dict를 오류를 발생시킨다.\n",
    "- KeyError를 처리하는 것보다 기본값을 사용하는 게 더 편할 때에는 `d.get(k, default)`를 사용한다는 것은 파이썬 개발자라면 누구나 알고 있다 (???). 그렇지만 발견한 값을 갱신 할 때, 해당 객체가 가변 객체면 `__getitem__()`이나 `get()` 메서드는 보기 어색하며 효율성도 떨어진다.\n",
    "\n",
    "(조기실패 철학 마음에 듦!!)"
   ]
  },
  {
   "cell_type": "markdown",
   "metadata": {},
   "source": [
    "### 부록: 정규표현식!!!\n",
    "![](https://velog.velcdn.com/images/bailando/post/d168ab03-5bde-4ed9-863a-61364ed569d8/image.png)\n",
    "즉 WORD_RE는 단어단위로 잘라주는 컴파일러임!\n",
    "\n",
    "\n",
    "[정규표현식](https://wikidocs.net/4308)은 다음에 한 번 더 보자!"
   ]
  },
  {
   "cell_type": "code",
   "execution_count": 20,
   "metadata": {},
   "outputs": [
    {
     "name": "stdout",
     "output_type": "stream",
     "text": [
      "a [(19, 48), (20, 53)]\n",
      "Although [(11, 1), (16, 1), (18, 1)]\n",
      "ambiguity [(14, 16)]\n",
      "and [(15, 23)]\n",
      "are [(21, 12)]\n",
      "aren [(10, 15)]\n",
      "at [(16, 38)]\n",
      "bad [(19, 50)]\n",
      "be [(15, 14), (16, 27), (20, 50)]\n",
      "beats [(11, 23)]\n",
      "Beautiful [(3, 1)]\n",
      "better [(3, 14), (4, 13), (5, 11), (6, 12), (7, 9), (8, 11), (17, 8), (18, 25)]\n",
      "break [(10, 40)]\n",
      "by [(1, 20)]\n",
      "cases [(10, 9)]\n",
      "complex [(5, 23)]\n",
      "Complex [(6, 1)]\n",
      "complicated [(6, 24)]\n",
      "counts [(9, 13)]\n",
      "dense [(8, 23)]\n",
      "do [(15, 64), (21, 48)]\n",
      "Dutch [(16, 61)]\n",
      "easy [(20, 26)]\n",
      "enough [(10, 30)]\n",
      "Errors [(12, 1)]\n",
      "explain [(19, 34), (20, 34)]\n",
      "Explicit [(4, 1)]\n",
      "explicitly [(13, 8)]\n",
      "face [(14, 8)]\n",
      "first [(16, 41)]\n",
      "Flat [(7, 1)]\n",
      "good [(20, 55)]\n",
      "great [(21, 28)]\n",
      "guess [(14, 52)]\n",
      "hard [(19, 26)]\n",
      "honking [(21, 20)]\n",
      "idea [(19, 54), (20, 60), (21, 34)]\n",
      "If [(19, 1), (20, 1)]\n",
      "implementation [(19, 8), (20, 8)]\n",
      "implicit [(4, 25)]\n",
      "In [(14, 1)]\n",
      "is [(3, 11), (4, 10), (5, 8), (6, 9), (7, 6), (8, 8), (17, 5), (18, 16), (19, 23), (20, 23)]\n",
      "it [(15, 67), (19, 43), (20, 43)]\n",
      "let [(21, 42)]\n",
      "may [(16, 19), (20, 46)]\n",
      "more [(21, 51)]\n",
      "Namespaces [(21, 1)]\n",
      "nested [(7, 21)]\n",
      "never [(12, 15), (17, 20), (18, 10)]\n",
      "not [(16, 23)]\n",
      "Now [(17, 1)]\n",
      "now [(18, 45)]\n",
      "obvious [(15, 49), (16, 30)]\n",
      "of [(1, 9), (14, 13), (21, 56)]\n",
      "often [(18, 19)]\n",
      "one [(15, 17), (15, 43), (21, 16)]\n",
      "only [(15, 38)]\n",
      "pass [(12, 21)]\n",
      "Peters [(1, 27)]\n",
      "practicality [(11, 10)]\n",
      "preferably [(15, 27)]\n",
      "purity [(11, 29)]\n",
      "Python [(1, 12)]\n",
      "re [(16, 58)]\n",
      "Readability [(9, 1)]\n",
      "refuse [(14, 27)]\n",
      "right [(18, 38)]\n",
      "rules [(10, 50)]\n",
      "s [(19, 46), (21, 46)]\n",
      "should [(12, 8), (15, 7)]\n",
      "silenced [(13, 19)]\n",
      "silently [(12, 26)]\n",
      "Simple [(5, 1)]\n",
      "Sparse [(8, 1)]\n",
      "Special [(10, 1)]\n",
      "special [(10, 22)]\n",
      "t [(10, 20)]\n",
      "temptation [(14, 38)]\n",
      "than [(3, 21), (4, 20), (5, 18), (6, 19), (7, 16), (8, 18), (17, 15), (18, 32)]\n",
      "that [(16, 10)]\n",
      "The [(1, 1)]\n",
      "the [(10, 46), (14, 4), (14, 34), (19, 4), (20, 4)]\n",
      "There [(15, 1)]\n",
      "those [(21, 59)]\n",
      "Tim [(1, 23)]\n",
      "to [(10, 37), (14, 49), (15, 61), (19, 31), (20, 31)]\n",
      "ugly [(3, 26)]\n",
      "Unless [(13, 1)]\n",
      "unless [(16, 47)]\n",
      "way [(15, 57), (16, 15)]\n",
      "you [(16, 54)]\n",
      "Zen [(1, 5)]\n"
     ]
    }
   ],
   "source": [
    "\"\"\"ver1. 단어가 나타나는 위치를 가리키는 인덱스(line_n, column_n)를 만듦\"\"\"\n",
    "import re\n",
    "\n",
    "WORD_RE = re.compile('\\w+')\n",
    "index = {}\n",
    "\n",
    "with open(\"zen.txt\", encoding='utf-8') as fp:\n",
    "    for line_no, line in enumerate(fp, 1):\n",
    "        for match in WORD_RE.finditer(line):\n",
    "            word = match.group()\n",
    "            column_no = match.start() + 1\n",
    "            location = (line_no, column_no)\n",
    "\n",
    "            occurrences = index.get(word, [])\n",
    "            occurrences.append(location)\n",
    "            index[word] = occurrences\n",
    "\n",
    "# print in alphabetical order\n",
    "for word in sorted(index, key=str.upper):\n",
    "    print(word, index[word])"
   ]
  },
  {
   "cell_type": "code",
   "execution_count": 21,
   "metadata": {},
   "outputs": [
    {
     "name": "stdout",
     "output_type": "stream",
     "text": [
      "a [(19, 48), (20, 53)]\n",
      "Although [(11, 1), (16, 1), (18, 1)]\n",
      "ambiguity [(14, 16)]\n",
      "and [(15, 23)]\n",
      "are [(21, 12)]\n",
      "aren [(10, 15)]\n",
      "at [(16, 38)]\n",
      "bad [(19, 50)]\n",
      "be [(15, 14), (16, 27), (20, 50)]\n",
      "beats [(11, 23)]\n",
      "Beautiful [(3, 1)]\n",
      "better [(3, 14), (4, 13), (5, 11), (6, 12), (7, 9), (8, 11), (17, 8), (18, 25)]\n",
      "break [(10, 40)]\n",
      "by [(1, 20)]\n",
      "cases [(10, 9)]\n",
      "complex [(5, 23)]\n",
      "Complex [(6, 1)]\n",
      "complicated [(6, 24)]\n",
      "counts [(9, 13)]\n",
      "dense [(8, 23)]\n",
      "do [(15, 64), (21, 48)]\n",
      "Dutch [(16, 61)]\n",
      "easy [(20, 26)]\n",
      "enough [(10, 30)]\n",
      "Errors [(12, 1)]\n",
      "explain [(19, 34), (20, 34)]\n",
      "Explicit [(4, 1)]\n",
      "explicitly [(13, 8)]\n",
      "face [(14, 8)]\n",
      "first [(16, 41)]\n",
      "Flat [(7, 1)]\n",
      "good [(20, 55)]\n",
      "great [(21, 28)]\n",
      "guess [(14, 52)]\n",
      "hard [(19, 26)]\n",
      "honking [(21, 20)]\n",
      "idea [(19, 54), (20, 60), (21, 34)]\n",
      "If [(19, 1), (20, 1)]\n",
      "implementation [(19, 8), (20, 8)]\n",
      "implicit [(4, 25)]\n",
      "In [(14, 1)]\n",
      "is [(3, 11), (4, 10), (5, 8), (6, 9), (7, 6), (8, 8), (17, 5), (18, 16), (19, 23), (20, 23)]\n",
      "it [(15, 67), (19, 43), (20, 43)]\n",
      "let [(21, 42)]\n",
      "may [(16, 19), (20, 46)]\n",
      "more [(21, 51)]\n",
      "Namespaces [(21, 1)]\n",
      "nested [(7, 21)]\n",
      "never [(12, 15), (17, 20), (18, 10)]\n",
      "not [(16, 23)]\n",
      "Now [(17, 1)]\n",
      "now [(18, 45)]\n",
      "obvious [(15, 49), (16, 30)]\n",
      "of [(1, 9), (14, 13), (21, 56)]\n",
      "often [(18, 19)]\n",
      "one [(15, 17), (15, 43), (21, 16)]\n",
      "only [(15, 38)]\n",
      "pass [(12, 21)]\n",
      "Peters [(1, 27)]\n",
      "practicality [(11, 10)]\n",
      "preferably [(15, 27)]\n",
      "purity [(11, 29)]\n",
      "Python [(1, 12)]\n",
      "re [(16, 58)]\n",
      "Readability [(9, 1)]\n",
      "refuse [(14, 27)]\n",
      "right [(18, 38)]\n",
      "rules [(10, 50)]\n",
      "s [(19, 46), (21, 46)]\n",
      "should [(12, 8), (15, 7)]\n",
      "silenced [(13, 19)]\n",
      "silently [(12, 26)]\n",
      "Simple [(5, 1)]\n",
      "Sparse [(8, 1)]\n",
      "Special [(10, 1)]\n",
      "special [(10, 22)]\n",
      "t [(10, 20)]\n",
      "temptation [(14, 38)]\n",
      "than [(3, 21), (4, 20), (5, 18), (6, 19), (7, 16), (8, 18), (17, 15), (18, 32)]\n",
      "that [(16, 10)]\n",
      "The [(1, 1)]\n",
      "the [(10, 46), (14, 4), (14, 34), (19, 4), (20, 4)]\n",
      "There [(15, 1)]\n",
      "those [(21, 59)]\n",
      "Tim [(1, 23)]\n",
      "to [(10, 37), (14, 49), (15, 61), (19, 31), (20, 31)]\n",
      "ugly [(3, 26)]\n",
      "Unless [(13, 1)]\n",
      "unless [(16, 47)]\n",
      "way [(15, 57), (16, 15)]\n",
      "you [(16, 54)]\n",
      "Zen [(1, 5)]\n"
     ]
    }
   ],
   "source": [
    "\"\"\"ver.2(setdefault()를 사용해서!!!)\"\"\"\n",
    "import re\n",
    "\n",
    "WORD_RE = re.compile('\\w+')\n",
    "index = {}\n",
    "\n",
    "with open(\"zen.txt\", encoding='utf-8') as fp:\n",
    "    for line_no, line in enumerate(fp, 1):\n",
    "        for match in WORD_RE.finditer(line):\n",
    "            word = match.group()\n",
    "            column_no = match.start() + 1\n",
    "            location = (line_no, column_no)\n",
    "            index.setdefault(word, []).append(location)     # key가 없으면 빈 리스트를 만들고, key가 있으면 해당 key의 value를 반환한다.\n",
    "\n",
    "for word in sorted(index, key=str.upper):\n",
    "    print(word, index[word])"
   ]
  },
  {
   "cell_type": "code",
   "execution_count": 22,
   "metadata": {},
   "outputs": [
    {
     "name": "stdout",
     "output_type": "stream",
     "text": [
      "{'something': [1]}\n",
      "{'something': [1]}\n"
     ]
    }
   ],
   "source": [
    "key = \"something\"\n",
    "new_value = 1\n",
    "\n",
    "# 아래의 두 가지 방법은 같은 결과를 반환한다.\n",
    "my_dict0 = {}\n",
    "my_dict0.setdefault(key, []).append(new_value)\n",
    "print(my_dict0)\n",
    "\n",
    "my_dict1 = {}\n",
    "if key not in my_dict1:\n",
    "    my_dict1[key] = []\n",
    "my_dict1[key].append(new_value)\n",
    "print(my_dict1)"
   ]
  },
  {
   "cell_type": "markdown",
   "metadata": {},
   "source": [
    "## 3. 4 융통성 있게 키를 조회하는 매핑\n",
    "검색할 때 키가 존재하지 않으면 어떤 특별한 값을 반환하는 매핑이 있으면 편리한 때가 있음.\n",
    "이럴 때 dict을 대신 defaultDict을 사용하거나 dict의 매핑형을 상속해서 `__missing__()` 메서드를 추가하는 방법이다."
   ]
  },
  {
   "cell_type": "markdown",
   "metadata": {},
   "source": [
    "### 3. 4. 1 defaultDict: 존재하지 않는 키에 대한 또 다른 처리\n",
    "defaultDict은 존재하지 않는 키로 검색할 때 요청에 따라 항목을 생성하도록 설정되어 있음. 존재하지 않는 키 인수로 __getitem__()을 호출할 때마다 기본값을 생성하는 콜러블을 제공하는 것임\n",
    "기본값을 생성하는 콜러블은 defalut_factory라는 객체 속성에 저장됨"
   ]
  },
  {
   "cell_type": "code",
   "execution_count": 23,
   "metadata": {},
   "outputs": [
    {
     "name": "stdout",
     "output_type": "stream",
     "text": [
      "defaultdict(<function <lambda> at 0x107b651f0>, {'김예신': '최고!'})\n",
      "defaultdict(<function <lambda> at 0x107b651f0>, {'김예신': '최고!', 'somebody': '짱'})\n"
     ]
    }
   ],
   "source": [
    "import collections\n",
    "\n",
    "def set_default():      # \n",
    "    return \"짱\"\n",
    "\n",
    "dict1 = collections.defaultdict(set_default)\n",
    "\n",
    "# dict1 = collections.defaultdict(\"짱\")         #  callable한 객체를 받음!\n",
    "dict1 = collections.defaultdict(lambda: \"짱\")  \n",
    "dict1[\"김예신\"] = \"최고!\"\n",
    "print(dict1)\n",
    "\n",
    "\n",
    "dict1[\"somebody\"]\n",
    "print(dict1)"
   ]
  },
  {
   "cell_type": "markdown",
   "metadata": {},
   "source": [
    "### 3. 4. 2 __missing__() 메서드"
   ]
  },
  {
   "cell_type": "code",
   "execution_count": 24,
   "metadata": {},
   "outputs": [],
   "source": [
    "class StrKeyDict0(dict):\n",
    "    def __missing__(self, key):\n",
    "        if isinstance(key, str):\n",
    "            raise KeyError(key)\n",
    "        return self[str(key)]\n",
    "\n",
    "    def get(self, key, default=None):\n",
    "        try:\n",
    "            return self[key]\n",
    "        except KeyError:\n",
    "            return default\n",
    "    \n",
    "    def __contains__(self, key):\n",
    "        return key in self.keys() or str(key) in self.keys()"
   ]
  },
  {
   "cell_type": "code",
   "execution_count": 25,
   "metadata": {},
   "outputs": [],
   "source": [
    "\"\"\"d[key] 표기법을 이용해서 항목을 가져오는 테스트\"\"\"\n",
    "\n",
    "d = StrKeyDict0([('2', 'two'), ('4', 'four')])"
   ]
  },
  {
   "cell_type": "code",
   "execution_count": 26,
   "metadata": {},
   "outputs": [
    {
     "data": {
      "text/plain": [
       "'two'"
      ]
     },
     "execution_count": 26,
     "metadata": {},
     "output_type": "execute_result"
    }
   ],
   "source": [
    "d[2]        # int인 2를 key로 받아도 내부적으로 str으로 처리해 줌"
   ]
  },
  {
   "cell_type": "code",
   "execution_count": 27,
   "metadata": {},
   "outputs": [
    {
     "data": {
      "text/plain": [
       "'four'"
      ]
     },
     "execution_count": 27,
     "metadata": {},
     "output_type": "execute_result"
    }
   ],
   "source": [
    "d['4']"
   ]
  },
  {
   "cell_type": "code",
   "execution_count": 28,
   "metadata": {},
   "outputs": [
    {
     "ename": "KeyError",
     "evalue": "'1'",
     "output_type": "error",
     "traceback": [
      "\u001b[0;31m---------------------------------------------------------------------------\u001b[0m",
      "\u001b[0;31mKeyError\u001b[0m                                  Traceback (most recent call last)",
      "\u001b[1;32m/Users/yeshinkim/Sage/FluentPython/Ch3. Dictionary and Sets.ipynb 셀 25\u001b[0m in \u001b[0;36m<cell line: 1>\u001b[0;34m()\u001b[0m\n\u001b[0;32m----> <a href='vscode-notebook-cell:/Users/yeshinkim/Sage/FluentPython/Ch3.%20Dictionary%20and%20Sets.ipynb#W3sZmlsZQ%3D%3D?line=0'>1</a>\u001b[0m d[\u001b[39m1\u001b[39;49m]\n",
      "\u001b[1;32m/Users/yeshinkim/Sage/FluentPython/Ch3. Dictionary and Sets.ipynb 셀 25\u001b[0m in \u001b[0;36mStrKeyDict0.__missing__\u001b[0;34m(self, key)\u001b[0m\n\u001b[1;32m      <a href='vscode-notebook-cell:/Users/yeshinkim/Sage/FluentPython/Ch3.%20Dictionary%20and%20Sets.ipynb#W3sZmlsZQ%3D%3D?line=2'>3</a>\u001b[0m \u001b[39mif\u001b[39;00m \u001b[39misinstance\u001b[39m(key, \u001b[39mstr\u001b[39m):\n\u001b[1;32m      <a href='vscode-notebook-cell:/Users/yeshinkim/Sage/FluentPython/Ch3.%20Dictionary%20and%20Sets.ipynb#W3sZmlsZQ%3D%3D?line=3'>4</a>\u001b[0m     \u001b[39mraise\u001b[39;00m \u001b[39mKeyError\u001b[39;00m(key)\n\u001b[0;32m----> <a href='vscode-notebook-cell:/Users/yeshinkim/Sage/FluentPython/Ch3.%20Dictionary%20and%20Sets.ipynb#W3sZmlsZQ%3D%3D?line=4'>5</a>\u001b[0m \u001b[39mreturn\u001b[39;00m \u001b[39mself\u001b[39;49m[\u001b[39mstr\u001b[39;49m(key)]\n",
      "\u001b[1;32m/Users/yeshinkim/Sage/FluentPython/Ch3. Dictionary and Sets.ipynb 셀 25\u001b[0m in \u001b[0;36mStrKeyDict0.__missing__\u001b[0;34m(self, key)\u001b[0m\n\u001b[1;32m      <a href='vscode-notebook-cell:/Users/yeshinkim/Sage/FluentPython/Ch3.%20Dictionary%20and%20Sets.ipynb#W3sZmlsZQ%3D%3D?line=1'>2</a>\u001b[0m \u001b[39mdef\u001b[39;00m \u001b[39m__missing__\u001b[39m(\u001b[39mself\u001b[39m, key):\n\u001b[1;32m      <a href='vscode-notebook-cell:/Users/yeshinkim/Sage/FluentPython/Ch3.%20Dictionary%20and%20Sets.ipynb#W3sZmlsZQ%3D%3D?line=2'>3</a>\u001b[0m     \u001b[39mif\u001b[39;00m \u001b[39misinstance\u001b[39m(key, \u001b[39mstr\u001b[39m):\n\u001b[0;32m----> <a href='vscode-notebook-cell:/Users/yeshinkim/Sage/FluentPython/Ch3.%20Dictionary%20and%20Sets.ipynb#W3sZmlsZQ%3D%3D?line=3'>4</a>\u001b[0m         \u001b[39mraise\u001b[39;00m \u001b[39mKeyError\u001b[39;00m(key)\n\u001b[1;32m      <a href='vscode-notebook-cell:/Users/yeshinkim/Sage/FluentPython/Ch3.%20Dictionary%20and%20Sets.ipynb#W3sZmlsZQ%3D%3D?line=4'>5</a>\u001b[0m     \u001b[39mreturn\u001b[39;00m \u001b[39mself\u001b[39m[\u001b[39mstr\u001b[39m(key)]\n",
      "\u001b[0;31mKeyError\u001b[0m: '1'"
     ]
    }
   ],
   "source": [
    "d[1]"
   ]
  },
  {
   "cell_type": "markdown",
   "metadata": {},
   "source": [
    "## 3. 5 그 외 매핑형\n",
    "defaultdict 이외의 표준 라이브러리 collections 모듈에서 제공하는 여러 매핑형을 간단히 살펴본다.\n",
    "- collections.OrderedDict\n",
    "    - 키를 삽입한 순서대로 유지함\n",
    "    - 항목을 반복하는 순서를 예측 할 수 있음~!\n",
    "\n",
    "- collections.ChainMap\n",
    "    - 매핑들의 목록을 담고 있으며 한꺼번에 검색할 수 있음\n",
    "\n",
    "- collections.Counter\n",
    "    - 모든 키에 정수형 카운터를 갖고 있는 매핑.\n",
    "    - 기존 키를 갱신하면 카운터가 늘어남\n",
    "    - 합계를 구하기 이ㅜ해서 +d와 - 연산자를 구현함 most_common([n]) 같은 메서드를 제공함...\n"
   ]
  },
  {
   "cell_type": "code",
   "execution_count": 29,
   "metadata": {},
   "outputs": [
    {
     "data": {
      "text/plain": [
       "ChainMap({'__name__': 'builtins', '__doc__': \"Built-in functions, exceptions, and other objects.\\n\\nNoteworthy: None is the `nil' object; Ellipsis represents `...' in slices.\", '__package__': '', '__loader__': <class '_frozen_importlib.BuiltinImporter'>, '__spec__': ModuleSpec(name='builtins', loader=<class '_frozen_importlib.BuiltinImporter'>), '__build_class__': <built-in function __build_class__>, '__import__': <built-in function __import__>, 'abs': <built-in function abs>, 'all': <built-in function all>, 'any': <built-in function any>, 'ascii': <built-in function ascii>, 'bin': <built-in function bin>, 'breakpoint': <built-in function breakpoint>, 'callable': <built-in function callable>, 'chr': <built-in function chr>, 'compile': <built-in function compile>, 'delattr': <built-in function delattr>, 'dir': <built-in function dir>, 'divmod': <built-in function divmod>, 'eval': <built-in function eval>, 'exec': <built-in function exec>, 'format': <built-in function format>, 'getattr': <built-in function getattr>, 'globals': <built-in function globals>, 'hasattr': <built-in function hasattr>, 'hash': <built-in function hash>, 'hex': <built-in function hex>, 'id': <built-in function id>, 'input': <bound method Kernel.raw_input of <ipykernel.ipkernel.IPythonKernel object at 0x104a0f580>>, 'isinstance': <built-in function isinstance>, 'issubclass': <built-in function issubclass>, 'iter': <built-in function iter>, 'len': <built-in function len>, 'locals': <built-in function locals>, 'max': <built-in function max>, 'min': <built-in function min>, 'next': <built-in function next>, 'oct': <built-in function oct>, 'ord': <built-in function ord>, 'pow': <built-in function pow>, 'print': <built-in function print>, 'repr': <built-in function repr>, 'round': <built-in function round>, 'setattr': <built-in function setattr>, 'sorted': <built-in function sorted>, 'sum': <built-in function sum>, 'vars': <built-in function vars>, 'None': None, 'Ellipsis': Ellipsis, 'NotImplemented': NotImplemented, 'False': False, 'True': True, 'bool': <class 'bool'>, 'memoryview': <class 'memoryview'>, 'bytearray': <class 'bytearray'>, 'bytes': <class 'bytes'>, 'classmethod': <class 'classmethod'>, 'complex': <class 'complex'>, 'dict': <class 'dict'>, 'enumerate': <class 'enumerate'>, 'filter': <class 'filter'>, 'float': <class 'float'>, 'frozenset': <class 'frozenset'>, 'property': <class 'property'>, 'int': <class 'int'>, 'list': <class 'list'>, 'map': <class 'map'>, 'object': <class 'object'>, 'range': <class 'range'>, 'reversed': <class 'reversed'>, 'set': <class 'set'>, 'slice': <class 'slice'>, 'staticmethod': <class 'staticmethod'>, 'str': <class 'str'>, 'super': <class 'super'>, 'tuple': <class 'tuple'>, 'type': <class 'type'>, 'zip': <class 'zip'>, '__debug__': True, 'BaseException': <class 'BaseException'>, 'Exception': <class 'Exception'>, 'TypeError': <class 'TypeError'>, 'StopAsyncIteration': <class 'StopAsyncIteration'>, 'StopIteration': <class 'StopIteration'>, 'GeneratorExit': <class 'GeneratorExit'>, 'SystemExit': <class 'SystemExit'>, 'KeyboardInterrupt': <class 'KeyboardInterrupt'>, 'ImportError': <class 'ImportError'>, 'ModuleNotFoundError': <class 'ModuleNotFoundError'>, 'OSError': <class 'OSError'>, 'EnvironmentError': <class 'OSError'>, 'IOError': <class 'OSError'>, 'EOFError': <class 'EOFError'>, 'RuntimeError': <class 'RuntimeError'>, 'RecursionError': <class 'RecursionError'>, 'NotImplementedError': <class 'NotImplementedError'>, 'NameError': <class 'NameError'>, 'UnboundLocalError': <class 'UnboundLocalError'>, 'AttributeError': <class 'AttributeError'>, 'SyntaxError': <class 'SyntaxError'>, 'IndentationError': <class 'IndentationError'>, 'TabError': <class 'TabError'>, 'LookupError': <class 'LookupError'>, 'IndexError': <class 'IndexError'>, 'KeyError': <class 'KeyError'>, 'ValueError': <class 'ValueError'>, 'UnicodeError': <class 'UnicodeError'>, 'UnicodeEncodeError': <class 'UnicodeEncodeError'>, 'UnicodeDecodeError': <class 'UnicodeDecodeError'>, 'UnicodeTranslateError': <class 'UnicodeTranslateError'>, 'AssertionError': <class 'AssertionError'>, 'ArithmeticError': <class 'ArithmeticError'>, 'FloatingPointError': <class 'FloatingPointError'>, 'OverflowError': <class 'OverflowError'>, 'ZeroDivisionError': <class 'ZeroDivisionError'>, 'SystemError': <class 'SystemError'>, 'ReferenceError': <class 'ReferenceError'>, 'MemoryError': <class 'MemoryError'>, 'BufferError': <class 'BufferError'>, 'Warning': <class 'Warning'>, 'UserWarning': <class 'UserWarning'>, 'DeprecationWarning': <class 'DeprecationWarning'>, 'PendingDeprecationWarning': <class 'PendingDeprecationWarning'>, 'SyntaxWarning': <class 'SyntaxWarning'>, 'RuntimeWarning': <class 'RuntimeWarning'>, 'FutureWarning': <class 'FutureWarning'>, 'ImportWarning': <class 'ImportWarning'>, 'UnicodeWarning': <class 'UnicodeWarning'>, 'BytesWarning': <class 'BytesWarning'>, 'ResourceWarning': <class 'ResourceWarning'>, 'ConnectionError': <class 'ConnectionError'>, 'BlockingIOError': <class 'BlockingIOError'>, 'BrokenPipeError': <class 'BrokenPipeError'>, 'ChildProcessError': <class 'ChildProcessError'>, 'ConnectionAbortedError': <class 'ConnectionAbortedError'>, 'ConnectionRefusedError': <class 'ConnectionRefusedError'>, 'ConnectionResetError': <class 'ConnectionResetError'>, 'FileExistsError': <class 'FileExistsError'>, 'FileNotFoundError': <class 'FileNotFoundError'>, 'IsADirectoryError': <class 'IsADirectoryError'>, 'NotADirectoryError': <class 'NotADirectoryError'>, 'InterruptedError': <class 'InterruptedError'>, 'PermissionError': <class 'PermissionError'>, 'ProcessLookupError': <class 'ProcessLookupError'>, 'TimeoutError': <class 'TimeoutError'>, 'open': <built-in function open>, 'copyright': Copyright (c) 2001-2022 Python Software Foundation.\n",
       "All Rights Reserved.\n",
       "\n",
       "Copyright (c) 2000 BeOpen.com.\n",
       "All Rights Reserved.\n",
       "\n",
       "Copyright (c) 1995-2001 Corporation for National Research Initiatives.\n",
       "All Rights Reserved.\n",
       "\n",
       "Copyright (c) 1991-1995 Stichting Mathematisch Centrum, Amsterdam.\n",
       "All Rights Reserved., 'credits':     Thanks to CWI, CNRI, BeOpen.com, Zope Corporation and a cast of thousands\n",
       "    for supporting Python development.  See www.python.org for more information., 'license': Type license() to see the full license text, 'help': Type help() for interactive help, or help(object) for help about object., 'execfile': <function execfile at 0x1045c6dc0>, 'runfile': <function runfile at 0x10474ab80>, '__IPYTHON__': True, 'display': <function display at 0x102ce2b80>, 'get_ipython': <bound method InteractiveShell.get_ipython of <ipykernel.zmqshell.ZMQInteractiveShell object at 0x104a176a0>>})"
      ]
     },
     "execution_count": 29,
     "metadata": {},
     "output_type": "execute_result"
    }
   ],
   "source": [
    "# collections.ChainMap\n",
    "import builtins\n",
    "from collections import ChainMap\n",
    "\n",
    "pylookup = ChainMap(locals(), globals(), vars(builtins))\n",
    "pylookup        # Oh,....모든 변수를 다 보여줌...\n",
    "\n",
    "pylookup = ChainMap(vars(builtins))\n",
    "pylookup  "
   ]
  },
  {
   "cell_type": "code",
   "execution_count": 30,
   "metadata": {},
   "outputs": [
    {
     "name": "stdout",
     "output_type": "stream",
     "text": [
      "Counter({'a': 5, 'b': 2, 'r': 2, 'c': 1, 'd': 1})\n",
      "Counter({'a': 10, 'z': 3, 'b': 2, 'r': 2, 'c': 1, 'd': 1})\n",
      "[('a', 10), ('z', 3)]\n"
     ]
    }
   ],
   "source": [
    "# collections.Counter\n",
    "from collections import Counter\n",
    "\n",
    "ct = Counter('abracadabra')\n",
    "print(ct)\n",
    "\n",
    "ct.update('aaaaazzz')\n",
    "print(ct)\n",
    "\n",
    "print(ct.most_common(2))        # 가장 많이 등장한 요소 2개를 반환\n"
   ]
  },
  {
   "cell_type": "markdown",
   "metadata": {},
   "source": [
    "## 3. 6 UserDict 상속하기\n",
    "dict보다는 UserDict을 상속해서 매핑형을 만드는 것이 쉽다!"
   ]
  },
  {
   "cell_type": "code",
   "execution_count": 31,
   "metadata": {},
   "outputs": [],
   "source": [
    "class StrKeyDict(collections.UserDict):\n",
    "    def __missing__(self, key):\n",
    "        if isinstance(key, str):\n",
    "            raise KeyError(key)\n",
    "        return self[str(key)]\n",
    "\n",
    "    def __contains__(self, key):\n",
    "        return str(key) in self.data\n",
    "\n",
    "    def __setitem__(self, key, item):\n",
    "        self.data[str(key)] = item"
   ]
  },
  {
   "cell_type": "markdown",
   "metadata": {},
   "source": [
    "## 3. 7 불변 매핑"
   ]
  },
  {
   "cell_type": "code",
   "execution_count": 32,
   "metadata": {},
   "outputs": [
    {
     "data": {
      "text/plain": [
       "mappingproxy({1: 'A'})"
      ]
     },
     "execution_count": 32,
     "metadata": {},
     "output_type": "execute_result"
    }
   ],
   "source": [
    "\"\"\"[3-9]dict에서 읽기 전용 mappingproxy 객체를 생성하는 MappingProxyType\"\"\"\n",
    "from types import MappingProxyType\n",
    "d = {1: 'A'}\n",
    "d_proxy = MappingProxyType(d)\n",
    "d_proxy"
   ]
  },
  {
   "cell_type": "code",
   "execution_count": 33,
   "metadata": {},
   "outputs": [
    {
     "data": {
      "text/plain": [
       "'A'"
      ]
     },
     "execution_count": 33,
     "metadata": {},
     "output_type": "execute_result"
    }
   ],
   "source": [
    "d_proxy[1]"
   ]
  },
  {
   "cell_type": "code",
   "execution_count": 34,
   "metadata": {},
   "outputs": [
    {
     "ename": "TypeError",
     "evalue": "'mappingproxy' object does not support item assignment",
     "output_type": "error",
     "traceback": [
      "\u001b[0;31m---------------------------------------------------------------------------\u001b[0m",
      "\u001b[0;31mTypeError\u001b[0m                                 Traceback (most recent call last)",
      "\u001b[1;32m/Users/yeshinkim/Sage/FluentPython/Ch3. Dictionary and Sets.ipynb 셀 34\u001b[0m in \u001b[0;36m<cell line: 1>\u001b[0;34m()\u001b[0m\n\u001b[0;32m----> <a href='vscode-notebook-cell:/Users/yeshinkim/Sage/FluentPython/Ch3.%20Dictionary%20and%20Sets.ipynb#X52sZmlsZQ%3D%3D?line=0'>1</a>\u001b[0m d_proxy[\u001b[39m2\u001b[39m] \u001b[39m=\u001b[39m \u001b[39m'\u001b[39m\u001b[39mx\u001b[39m\u001b[39m'\u001b[39m\n",
      "\u001b[0;31mTypeError\u001b[0m: 'mappingproxy' object does not support item assignment"
     ]
    }
   ],
   "source": [
    "d_proxy[2] = 'x'"
   ]
  },
  {
   "cell_type": "code",
   "execution_count": null,
   "metadata": {},
   "outputs": [],
   "source": [
    "d[2] = 'B'      # d_proxy는 d의 뷰이므로 d를 변경하면 d_proxy도 변경된다.\n",
    "d_proxy"
   ]
  },
  {
   "cell_type": "code",
   "execution_count": 35,
   "metadata": {},
   "outputs": [
    {
     "ename": "KeyError",
     "evalue": "2",
     "output_type": "error",
     "traceback": [
      "\u001b[0;31m---------------------------------------------------------------------------\u001b[0m",
      "\u001b[0;31mKeyError\u001b[0m                                  Traceback (most recent call last)",
      "\u001b[1;32m/Users/yeshinkim/Sage/FluentPython/Ch3. Dictionary and Sets.ipynb 셀 36\u001b[0m in \u001b[0;36m<cell line: 1>\u001b[0;34m()\u001b[0m\n\u001b[0;32m----> <a href='vscode-notebook-cell:/Users/yeshinkim/Sage/FluentPython/Ch3.%20Dictionary%20and%20Sets.ipynb#X54sZmlsZQ%3D%3D?line=0'>1</a>\u001b[0m d[\u001b[39m2\u001b[39;49m]\n",
      "\u001b[0;31mKeyError\u001b[0m: 2"
     ]
    }
   ],
   "source": [
    "d[2]"
   ]
  },
  {
   "cell_type": "markdown",
   "metadata": {},
   "source": [
    "## 3. 8 집합 이론\n",
    "집합은 set을 의미한다.\n",
    "set과 set의 불변형 버전인 frozenset은 2.6에 내장형으로 승격되었다~\n",
    "- 집합은 기본적으로 중복항목을 제거한다.\n",
    "- set은 해시불가능,  frozenset은 해시가능"
   ]
  },
  {
   "cell_type": "code",
   "execution_count": 36,
   "metadata": {},
   "outputs": [
    {
     "name": "stdout",
     "output_type": "stream",
     "text": [
      "['spam', 'spam', 'eggs', 'spam']\n",
      "{'spam', 'eggs'}\n",
      "['spam', 'eggs']\n"
     ]
    }
   ],
   "source": [
    "l = ['spam', 'spam', 'eggs', 'spam']\n",
    "print(l)\n",
    "print(set(l))\n",
    "print(list(set(l)))"
   ]
  },
  {
   "cell_type": "code",
   "execution_count": 37,
   "metadata": {},
   "outputs": [
    {
     "name": "stdout",
     "output_type": "stream",
     "text": [
      "6667\n"
     ]
    }
   ],
   "source": [
    "\"\"\"[3-10] 둘 다 집합형인 haystack안에 들어 있는 needles 항목 수 구하기\"\"\"\n",
    "\n",
    "haystack = set(range(1000000))\n",
    "needles = set(range(900000, 1000000, 15))\n",
    "found = len(needles & haystack)     # 교집합 \n",
    "print(found)"
   ]
  },
  {
   "cell_type": "code",
   "execution_count": 38,
   "metadata": {},
   "outputs": [
    {
     "name": "stdout",
     "output_type": "stream",
     "text": [
      "6667\n"
     ]
    }
   ],
   "source": [
    "\"\"\"[3-11] haystack안에서 needles 발생 횟수 구하기. \n",
    "(교집합 연산자 사용하지 않는 다면 이렇게 해야 된다네요.)  \n",
    "단, 이 방법은 set이 아니라도 상관없음 그렇지만 [3-12]처럼 set으로 바꿔줄수도 있음\n",
    "\"\"\"\n",
    "\n",
    "found = 0\n",
    "for n in needles:\n",
    "    if n in haystack:\n",
    "        found += 1\n",
    "print(found)"
   ]
  },
  {
   "cell_type": "code",
   "execution_count": 39,
   "metadata": {},
   "outputs": [
    {
     "name": "stdout",
     "output_type": "stream",
     "text": [
      "6667\n",
      "6667\n"
     ]
    }
   ],
   "source": [
    "\"\"\"[3-12] haystack안에서 needles 발생 횟수 구하기\"\"\"\n",
    "\n",
    "found = len(set(needles) & set(haystack))\n",
    "print(found)\n",
    "\n",
    "# 또 다른 방법\n",
    "found = len(set(needles).intersection(haystack))    # Return the intersection of two sets as a new set.\n",
    "print(found)"
   ]
  },
  {
   "cell_type": "markdown",
   "metadata": {},
   "source": [
    "### 3. 8. 1 집합 리터럴\n",
    "set은 수학적 표기법과 같이 {}으로 표현된다. 공집합은 반드시 set()으로 표기해야 한다. 그렇지 않으면 dict으로 만들어 줄 것이다."
   ]
  },
  {
   "cell_type": "code",
   "execution_count": 40,
   "metadata": {},
   "outputs": [
    {
     "data": {
      "text/plain": [
       "set"
      ]
     },
     "execution_count": 40,
     "metadata": {},
     "output_type": "execute_result"
    }
   ],
   "source": [
    "s = {1}\n",
    "type(s)"
   ]
  },
  {
   "cell_type": "code",
   "execution_count": 41,
   "metadata": {},
   "outputs": [
    {
     "data": {
      "text/plain": [
       "{1}"
      ]
     },
     "execution_count": 41,
     "metadata": {},
     "output_type": "execute_result"
    }
   ],
   "source": [
    "s"
   ]
  },
  {
   "cell_type": "code",
   "execution_count": 42,
   "metadata": {},
   "outputs": [
    {
     "data": {
      "text/plain": [
       "1"
      ]
     },
     "execution_count": 42,
     "metadata": {},
     "output_type": "execute_result"
    }
   ],
   "source": [
    "s.pop()"
   ]
  },
  {
   "cell_type": "code",
   "execution_count": 43,
   "metadata": {},
   "outputs": [
    {
     "data": {
      "text/plain": [
       "set()"
      ]
     },
     "execution_count": 43,
     "metadata": {},
     "output_type": "execute_result"
    }
   ],
   "source": [
    "s"
   ]
  },
  {
   "cell_type": "code",
   "execution_count": 44,
   "metadata": {},
   "outputs": [
    {
     "name": "stdout",
     "output_type": "stream",
     "text": [
      "  1           0 LOAD_CONST               0 (1)\n",
      "              2 BUILD_SET                1\n",
      "              4 RETURN_VALUE\n",
      "None\n",
      "  1           0 LOAD_NAME                0 (set)\n",
      "              2 LOAD_CONST               0 (1)\n",
      "              4 BUILD_LIST               1\n",
      "              6 CALL_FUNCTION            1\n",
      "              8 RETURN_VALUE\n",
      "<function dis at 0x101937550>\n"
     ]
    }
   ],
   "source": [
    "# 디스어셈블러 함수인 dis.dis()를 이용해서 함수의 바이트 코드를 확인해 보자.\n",
    "from dis import dis\n",
    "print(dis('{1}'))\n",
    "\n",
    "dis('set([1])')\n",
    "print(dis)"
   ]
  },
  {
   "cell_type": "code",
   "execution_count": 45,
   "metadata": {},
   "outputs": [
    {
     "data": {
      "text/plain": [
       "frozenset({1, 2, 3, 4, 5, 6, 7, 8, 9})"
      ]
     },
     "execution_count": 45,
     "metadata": {},
     "output_type": "execute_result"
    }
   ],
   "source": [
    "# frozenset에 대한 리터럴 구문은 없고 항상 생성자를 호출해야 한다.\n",
    "frozenset({1, 2, 3, 4, 5, 6, 7, 8, 9})"
   ]
  },
  {
   "cell_type": "markdown",
   "metadata": {},
   "source": [
    "### 3. 8. 2 지능형 집합(setcomp; set comprehension)"
   ]
  },
  {
   "cell_type": "code",
   "execution_count": 46,
   "metadata": {},
   "outputs": [
    {
     "data": {
      "text/plain": [
       "{'#',\n",
       " '$',\n",
       " '%',\n",
       " '+',\n",
       " '<',\n",
       " '=',\n",
       " '>',\n",
       " '¢',\n",
       " '£',\n",
       " '¤',\n",
       " '¥',\n",
       " '§',\n",
       " '©',\n",
       " '¬',\n",
       " '®',\n",
       " '°',\n",
       " '±',\n",
       " 'µ',\n",
       " '¶',\n",
       " '×',\n",
       " '÷'}"
      ]
     },
     "execution_count": 46,
     "metadata": {},
     "output_type": "execute_result"
    }
   ],
   "source": [
    "\"\"\"[3-13] 유니코드명 안에 'SIGN'이 들어있는 단어를 가진 Latin-1 문자들의 집합 만들기\"\"\"\n",
    "\n",
    "from unicodedata import name\n",
    "{chr(i) for i in range(32, 256) if 'SIGN' in name(chr(i), '')}"
   ]
  },
  {
   "cell_type": "markdown",
   "metadata": {},
   "source": [
    "### 3. 8. 3 집합 연산\n",
    "p.132 수학 집합 연산자에 대한 메서드\n",
    "\n"
   ]
  },
  {
   "cell_type": "markdown",
   "metadata": {},
   "source": [
    "### 3. 9. dict와 set의 내부 구조\n",
    "파이썬이 hashtable을 이용해 dict과 set을 구현하는 방식을 알면, 각각의 장점과 단점을 이해하는 데 도움이 된다.\n",
    "- dict과 set은 얼마나 효율적인가?\n",
    "- 왜 순서가 없을까?\n",
    "- dict의 키와 set 항목에 모든 객체를 사용할 수 없는 이유는 무엇인가?\n",
    "- dict의 키와 set 항목의 순서가 애 삽입 순서에 따라 달라지며, 객체 수명주기 동안 이 순서가 바뀔 수 있는 이유는?\n",
    "- 딕셔너리와 집합을 반복하는동안 항목을 추가하면 왜 안 될까?"
   ]
  },
  {
   "cell_type": "markdown",
   "metadata": {},
   "source": [
    "### 3. 9. 1 성능 실험\n",
    "경험을 통해(?) 모든 파이썬 개발자는 dict과 set이 빠르다는 것을 알고 있다.\n",
    "in 연산자로 검색할 때 dict, set, list의 크기가 성능에 미치는 영향을 확인할 것.\n",
    "\n",
    "(위의 코드로 시간을 측정해보는 듯 합니다.)\n",
    "- 결과: set & 시간이 가장 빠르고 list 시간이 느립니다."
   ]
  },
  {
   "cell_type": "code",
   "execution_count": 47,
   "metadata": {},
   "outputs": [],
   "source": [
    "found = 0\n",
    "for n in needles:\n",
    "    if n in haystack:\n",
    "        found += 1"
   ]
  },
  {
   "cell_type": "code",
   "execution_count": 48,
   "metadata": {},
   "outputs": [],
   "source": [
    "found = len(needles & haystack)"
   ]
  },
  {
   "cell_type": "markdown",
   "metadata": {},
   "source": [
    "### 3. 9. 2 딕셔너리 안의 해시 테이블\n",
    "해시 테이블을 이용해서 dict을 구현하는 방법을 설명\n",
    "- 해시 테이블은 희소 배열(sparse array)이다.\n",
    "- 해시 테이블 안에 있는 항목은 버킷(butket)이다.\n",
    "- 파이썬은 버킷의 1/3을 비워두려고 노력한다. (노력파이썬)"
   ]
  },
  {
   "cell_type": "markdown",
   "metadata": {},
   "source": [
    "#### 해시와 동치성\n",
    "hash() 내장 함수는 내장 자료형은 직접 처리하고 사용자 정의 자료형의 경우 __hash__() 메서드를 호출한다. 두 객체가 동일하다면 hash()는 동일한 정수를 반환해야 한다. 그렇지 않으면 해시 테이블이 제대로 동작하지 않는다. (hash()는 __eq__()를 호출하지 않는다.)"
   ]
  },
  {
   "cell_type": "code",
   "execution_count": 49,
   "metadata": {},
   "outputs": [
    {
     "data": {
      "text/plain": [
       "True"
      ]
     },
     "execution_count": 49,
     "metadata": {},
     "output_type": "execute_result"
    }
   ],
   "source": [
    "# 예를 들어 정수 1과 실수 1의 내부 표현 형태는 다르지만, \n",
    "# 1 == 1.0은 True이므로 hash(1) == hash(1.0)이다.\n",
    "\n",
    "hash(1) == hash(1.0)"
   ]
  },
  {
   "cell_type": "code",
   "execution_count": 50,
   "metadata": {},
   "outputs": [
    {
     "name": "stdout",
     "output_type": "stream",
     "text": [
      "64-bit Python build\n",
      "1        000000000000000000000000000000000000000000000000000000000000001\n",
      "                                                                         != 0\n",
      "1.0      000000000000000000000000000000000000000000000000000000000000001\n",
      "-------------------------------------------------------------------------------\n",
      "1.0      000000000000000000000000000000000000000000000000000000000000001\n",
      "                        !! !   !! !! !!!   ! !!! ! !!   !!!   !          != 21\n",
      "1.0001   000000000000000110100011011011100010111010110001110001000000001\n",
      "-------------------------------------------------------------------------------\n",
      "1.0001   000000000000000110100011011011100010111010110001110001000000001\n",
      "                       ! !!!  ! !! !!  !  !!!  !!!! !  !  !  !!          != 22\n",
      "1.0002   000000000000001101000110110111000101110101100011100010000000001\n",
      "-------------------------------------------------------------------------------\n",
      "1.0002   000000000000001101000110110111000101110101100011100010000000001\n",
      "                      !!!! ! !!  !  ! !! !! !   ! !!! !! !!   !          != 23\n",
      "1.0003   000000000000010011101010010010101000110000010101010011000000001\n",
      "-------------------------------------------------------------------------------\n"
     ]
    }
   ],
   "source": [
    "# https://github.com/fluentpython/example-code-2e/blob/master/03-dict-set/support/hashdiff.py\n",
    "import sys\n",
    "\n",
    "MAX_BITS = len(format(sys.maxsize, 'b'))\n",
    "print(f'{MAX_BITS + 1}-bit Python build')\n",
    "\n",
    "def hash_diff(o1, o2):\n",
    "    h1 = f'{hash(o1):>0{MAX_BITS}b}'\n",
    "    h2 = f'{hash(o2):>0{MAX_BITS}b}'\n",
    "    diff = ''.join('!' if b1 != b2 else ' ' for b1, b2 in zip(h1, h2))\n",
    "    count = f'!= {diff.count(\"!\")}'\n",
    "    width = max(len(repr(o1)), len(repr(o2)), 8)\n",
    "    sep = '-' * (width * 2 + MAX_BITS)\n",
    "    return (f'{o1!r:{width}} {h1}\\n{\" \":{width}} {diff} {count}\\n'\n",
    "            f'{o2!r:{width}} {h2}\\n{sep}')\n",
    "\n",
    "if __name__ == '__main__':\n",
    "    print(hash_diff(1, 1.0))\n",
    "    print(hash_diff(1.0, 1.0001))\n",
    "    print(hash_diff(1.0001, 1.0002))\n",
    "    print(hash_diff(1.0002, 1.0003))"
   ]
  }
 ],
 "metadata": {
  "kernelspec": {
   "display_name": "Python 3.8.13 ('estud')",
   "language": "python",
   "name": "python3"
  },
  "language_info": {
   "codemirror_mode": {
    "name": "ipython",
    "version": 3
   },
   "file_extension": ".py",
   "mimetype": "text/x-python",
   "name": "python",
   "nbconvert_exporter": "python",
   "pygments_lexer": "ipython3",
   "version": "3.8.13"
  },
  "orig_nbformat": 4,
  "vscode": {
   "interpreter": {
    "hash": "391b1e7ce2e81530d6fa13507e2cf4fd1c09c0aaf5e54d082942efacf0dd49e1"
   }
  }
 },
 "nbformat": 4,
 "nbformat_minor": 2
}
