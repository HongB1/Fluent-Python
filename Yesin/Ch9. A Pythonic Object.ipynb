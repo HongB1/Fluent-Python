{
 "cells": [
  {
   "cell_type": "markdown",
   "metadata": {},
   "source": [
    "- 대안 생성자\n",
    "- 메모리 절약 slots / gc.collect()\n",
    "<!-- - repr() / str()의 차이 -->"
   ]
  },
  {
   "cell_type": "markdown",
   "metadata": {},
   "source": [
    "# Chapter9. 파이썬스러운 객체\n",
    "> 절대로 결코! 앞에 언더바 두 개를 사용하지 말라. 이것은 짜증스러울 정도로 개인적인 이름이다. - 이안 비킹(Ian Bicking)\n",
    "\n",
    "파이썬 데이터 모델 덕분에 사용자가 정의한 자료형도 내장 자료형과 마찬가지로 자연스럽게 동작할 수 있다. 상속하지 않고도 *덕 타이핑 매커니즘을 통해 모든 것이 가능하다.\n",
    "사용자 정의 클래스를 만들어 보자.\n",
    "\n",
    "사용자 정의 클래스를 만들기 위해서 다음과 같은방법을 설명한다.\n",
    "- `repr()`, `bytes()` 등 객체를 다르 방식으로 표현하는 내장 함수의 지원\n",
    "- 클래스 메서드로 대안 생성자 구현\n",
    "- `format()` 내장 함수와 `str.format()` 메서드에서 사용하는 포맷 언어 확장\n",
    "- 읽기 전용 접근만 허용하는 속성 제공\n",
    "- 집합 및 딕셔너리 키로 사용할 수 있도록 객체를 해시 가능하게 만들기\n",
    "- `__slots__`를 이용해서 메모리 절약하기\n",
    "\n",
    "<details> \n",
    "<summary> *덕 타이핑 (Duck Typing) </summary>\n",
    "- 오리라고 부르면 오리가 됨)\n",
    "```python\n",
    "# what is duck typing? (https://en.wikipedia.org/wiki/Duck_typing)\n",
    "# - 사람이 오리인척 하면 오리라고 봐도 된다? \n",
    "#   즉, 미리 타입을 정해놓지 않고, 실행 시점에 타입을 결정하는 것을 의미한다.\n",
    "class Duck:\n",
    "    def quack(self): \n",
    "        print(\"꽥꽥!\")\n",
    "    def feathers(self):\n",
    "        print(\"오리에게 흰색, 회색 깃털이 있습니다.\")\n",
    "\n",
    "class Person:\n",
    "    def quack(self): \n",
    "        print(\"이 사람이 오리를 흉내내네요.\")\n",
    "    def feathers(self):\n",
    "        print(\"사람은 바닥에서 깃털을 주워서 보여 줍니다.\")\n",
    "\n",
    "def in_the_forest(duck):\n",
    "    duck.quack()\n",
    "    duck.feathers()\n",
    "\n",
    "\n",
    "in_the_forest(Duck())\n",
    "in_the_forest(Person())\n",
    "\n",
    "--------------------------------------------------------------------------\n",
    "꽥꽥!\n",
    "오리에게 흰색, 회색 깃털이 있습니다.\n",
    "이 사람이 오리를 흉내내네요.\n",
    "사람은 바닥에서 깃털을 주워서 보여 줍니다.\n",
    "```\n",
    "</details>"
   ]
  },
  {
   "cell_type": "markdown",
   "metadata": {},
   "source": [
    "## 유클리드 벡터형\n",
    "- `@classmethod`와 `@staticmethod`를 언제 사용할 것인가?\n",
    "- 파이썬에서 비공개 및 보호된 송성, 사용법, 관계, 한계"
   ]
  },
  {
   "cell_type": "markdown",
   "metadata": {},
   "source": [
    "## 9.1 객체 표현\n",
    "\n",
    "- `repr()` 내장 함수는 객체를 **개발자**가 보기 좋은 형태의 문자열로 변환한다.\n",
    "- `str()` 내장 함수는 객체를 **사용자**가 보기 좋은 형태의 문자열로 변환한다."
   ]
  },
  {
   "cell_type": "code",
   "execution_count": 2,
   "metadata": {},
   "outputs": [],
   "source": [
    "from array import array\n",
    "import math\n",
    "\n",
    "class Vector:\n",
    "    typecode = 'd'\n",
    "\n",
    "    def __init__(self, x, y):\n",
    "        self.x = float(x)\n",
    "        self.y = float(y)\n",
    "\n",
    "    def __iter__(self):       # __iter__ 를 통해서 iterable 하게 만들어 준다. -> 언패킹 가능\n",
    "        return (i for i in (self.x, self.y))\n",
    "\n",
    "    def __repr__(self):\n",
    "        class_name = type(self).__name__\n",
    "        return f\"repr-> {class_name}({self.x!r}, {self.y!r})\"\n",
    "        # return '{}({!r}, {!r})'.format(class_name, *self)\n",
    "\n",
    "    def __str__(self):\n",
    "        return \"str-> \" + str(tuple(self))\n",
    "\n",
    "    def __bytes__(self):\n",
    "        return (bytes([ord(self.typecode)]) +\n",
    "                bytes(array(self.typecode, self)))\n",
    "\n",
    "    def __eq__(self, other):\n",
    "        return tuple(self) == tuple(other)\n",
    "\n",
    "    def __abs__(self):\n",
    "        return math.hypot(self.x, self.y)       # hypot = sqrt(x**2 + y**2)) 빗변의 길이를 구함 (즉 벡터간의 거리를 의미함)\n",
    "\n",
    "    def __bool__(self):\n",
    "        return bool(abs(self))"
   ]
  },
  {
   "cell_type": "code",
   "execution_count": 3,
   "metadata": {},
   "outputs": [
    {
     "name": "stdout",
     "output_type": "stream",
     "text": [
      "3.0 4.0\n"
     ]
    }
   ],
   "source": [
    "v1 = Vector(3, 4)\n",
    "\n",
    "print(v1.x, v1.y)"
   ]
  },
  {
   "cell_type": "code",
   "execution_count": 4,
   "metadata": {},
   "outputs": [
    {
     "name": "stdout",
     "output_type": "stream",
     "text": [
      "3.0 4.0\n"
     ]
    }
   ],
   "source": [
    "print(*v1)      # *v1 을 통해서 언패킹 가능"
   ]
  },
  {
   "cell_type": "code",
   "execution_count": 5,
   "metadata": {},
   "outputs": [
    {
     "data": {
      "text/plain": [
       "(3.0, 4.0)"
      ]
     },
     "execution_count": 5,
     "metadata": {},
     "output_type": "execute_result"
    }
   ],
   "source": [
    "x, y = v1\n",
    "x, y"
   ]
  },
  {
   "cell_type": "code",
   "execution_count": 6,
   "metadata": {},
   "outputs": [
    {
     "name": "stdout",
     "output_type": "stream",
     "text": [
      "str-> (3.0, 4.0)\n"
     ]
    }
   ],
   "source": [
    "print(v1)       # print는 str을 호출한다."
   ]
  },
  {
   "cell_type": "code",
   "execution_count": 7,
   "metadata": {},
   "outputs": [
    {
     "data": {
      "text/plain": [
       "repr-> Vector(3.0, 4.0)"
      ]
     },
     "execution_count": 7,
     "metadata": {},
     "output_type": "execute_result"
    }
   ],
   "source": [
    "v1"
   ]
  },
  {
   "cell_type": "code",
   "execution_count": 8,
   "metadata": {},
   "outputs": [
    {
     "data": {
      "text/plain": [
       "b'd\\x00\\x00\\x00\\x00\\x00\\x00\\x08@\\x00\\x00\\x00\\x00\\x00\\x00\\x10@'"
      ]
     },
     "execution_count": 8,
     "metadata": {},
     "output_type": "execute_result"
    }
   ],
   "source": [
    "octets = bytes(v1)\n",
    "octets"
   ]
  },
  {
   "cell_type": "code",
   "execution_count": 9,
   "metadata": {},
   "outputs": [
    {
     "data": {
      "text/plain": [
       "5.0"
      ]
     },
     "execution_count": 9,
     "metadata": {},
     "output_type": "execute_result"
    }
   ],
   "source": [
    "abs(v1)"
   ]
  },
  {
   "cell_type": "code",
   "execution_count": 10,
   "metadata": {},
   "outputs": [
    {
     "data": {
      "text/plain": [
       "(True, False)"
      ]
     },
     "execution_count": 10,
     "metadata": {},
     "output_type": "execute_result"
    }
   ],
   "source": [
    "bool(v1), bool(Vector(0,0))"
   ]
  },
  {
   "cell_type": "code",
   "execution_count": 11,
   "metadata": {},
   "outputs": [
    {
     "name": "stdout",
     "output_type": "stream",
     "text": [
      "3.0\n",
      "4.0\n"
     ]
    }
   ],
   "source": [
    "for x in v1:\n",
    "    print(x)"
   ]
  },
  {
   "cell_type": "code",
   "execution_count": 12,
   "metadata": {},
   "outputs": [
    {
     "name": "stdout",
     "output_type": "stream",
     "text": [
      "True\n",
      "True\n"
     ]
    }
   ],
   "source": [
    "print(v1 == [3,4])      # 내부에서 tuple로 처리하기 때문에 True 반환\n",
    "print(v1 == (3,4))"
   ]
  },
  {
   "cell_type": "markdown",
   "metadata": {},
   "source": [
    "## 9.3 대안 생성자\n",
    "Vector를 bytes로 변환하는 메서드가 있으니, byte를 Vecotr로 변환할 수 있으면 좋겠다.  \n",
    "array.array의 표준 라이브러리에서 frombytes()라는 메서드를 사용해 byte를 Vector로 만드는 메서드를 클래스 메서드로 추가해보자.\n",
    "```python\n",
    "@classmethod\n",
    "def frombytes(cls, octets):\n",
    "    typecode = chr(octets[0])\n",
    "    memv = memoryview(octets[1:]).cast(typecode)\n",
    "    return cls(*memv)\n",
    "```"
   ]
  },
  {
   "cell_type": "code",
   "execution_count": 13,
   "metadata": {},
   "outputs": [],
   "source": [
    "from array import array\n",
    "import math\n",
    "\n",
    "class Vector:\n",
    "    typecode = 'd'\n",
    "\n",
    "    def __init__(self, x, y):\n",
    "        self.x = float(x)\n",
    "        self.y = float(y)\n",
    "\n",
    "    def __iter__(self):       # __iter__ 를 통해서 iterable 하게 만들어 준다. -> 언패킹 가능\n",
    "        return (i for i in (self.x, self.y))\n",
    "\n",
    "    def __repr__(self):\n",
    "        class_name = type(self).__name__\n",
    "        return f\"repr-> {class_name}({self.x!r}, {self.y!r})\"\n",
    "        # return '{}({!r}, {!r})'.format(class_name, *self)\n",
    "\n",
    "    def __str__(self):\n",
    "        return \"str-> \" + str(tuple(self))\n",
    "\n",
    "    def __bytes__(self):\n",
    "        return (bytes([ord(self.typecode)]) +\n",
    "                bytes(array(self.typecode, self)))\n",
    "\n",
    "    def __eq__(self, other):\n",
    "        return tuple(self) == tuple(other)\n",
    "\n",
    "    def __abs__(self):\n",
    "        return math.hypot(self.x, self.y)       # hypot = sqrt(x**2 + y**2)) 빗변의 길이를 구함 (즉 벡터간의 거리를 의미함)\n",
    "\n",
    "    def __bool__(self):\n",
    "        return bool(abs(self))\n",
    "\n",
    "    @classmethod\n",
    "    def frombytes(cls, octets):\n",
    "        typecode = chr(octets[0])\n",
    "        memv = memoryview(octets[1:]).cast(typecode)\n",
    "        return cls(*memv)"
   ]
  },
  {
   "cell_type": "code",
   "execution_count": 14,
   "metadata": {},
   "outputs": [
    {
     "data": {
      "text/plain": [
       "repr-> Vector(3.0, 4.0)"
      ]
     },
     "execution_count": 14,
     "metadata": {},
     "output_type": "execute_result"
    }
   ],
   "source": [
    "v1_clone = Vector.frombytes(bytes(v1))\n",
    "v1_clone"
   ]
  },
  {
   "cell_type": "code",
   "execution_count": 15,
   "metadata": {},
   "outputs": [
    {
     "data": {
      "text/plain": [
       "True"
      ]
     },
     "execution_count": 15,
     "metadata": {},
     "output_type": "execute_result"
    }
   ],
   "source": [
    "v1 == v1_clone"
   ]
  },
  {
   "cell_type": "markdown",
   "metadata": {},
   "source": [
    "## 9.4 @classmethod와 @staticmethod\n",
    "- `@classmethod`는 객체가 아닌 클래스에 연산을 수행하는 메서드를 정의한다. 클래스를 첫 번째 인수로 받으며, 위와 같이 관습적으로 `cls`라는 이름을 사용한다.\n",
    "- `@staticmethod`는 함수처럼 작동한다. 왜 사용하는것인가?  \n",
    "https://julien.danjou.info/guide-python-static-class-abstract-methods/ 읽어보자"
   ]
  },
  {
   "cell_type": "code",
   "execution_count": 16,
   "metadata": {},
   "outputs": [],
   "source": [
    "class Demo:\n",
    "    @classmethod\n",
    "    def klassmeth(*args):\n",
    "        return args     # 모든 위치 인수를 다 보여줌\n",
    "\n",
    "    @staticmethod\n",
    "    def statmeth(*args):\n",
    "        return args     # 모든 위치 인수를 다 보여줌"
   ]
  },
  {
   "cell_type": "code",
   "execution_count": 17,
   "metadata": {},
   "outputs": [
    {
     "data": {
      "text/plain": [
       "(__main__.Demo,)"
      ]
     },
     "execution_count": 17,
     "metadata": {},
     "output_type": "execute_result"
    }
   ],
   "source": [
    "Demo.klassmeth()        # 클래스 메서드는 클래스를 인수로 받음"
   ]
  },
  {
   "cell_type": "code",
   "execution_count": 18,
   "metadata": {},
   "outputs": [
    {
     "data": {
      "text/plain": [
       "(__main__.Demo, 'spam')"
      ]
     },
     "execution_count": 18,
     "metadata": {},
     "output_type": "execute_result"
    }
   ],
   "source": [
    "Demo.klassmeth('spam')  "
   ]
  },
  {
   "cell_type": "code",
   "execution_count": 19,
   "metadata": {},
   "outputs": [
    {
     "data": {
      "text/plain": [
       "<function __main__.Demo.statmeth(*args)>"
      ]
     },
     "execution_count": 19,
     "metadata": {},
     "output_type": "execute_result"
    }
   ],
   "source": [
    "Demo.statmeth       # 함수처럼 동작함"
   ]
  },
  {
   "cell_type": "code",
   "execution_count": 20,
   "metadata": {},
   "outputs": [
    {
     "data": {
      "text/plain": [
       "('spam',)"
      ]
     },
     "execution_count": 20,
     "metadata": {},
     "output_type": "execute_result"
    }
   ],
   "source": [
    "Demo.statmeth('spam')"
   ]
  },
  {
   "cell_type": "markdown",
   "metadata": {},
   "source": [
    "## 9.5 포맷된 출력\n",
    "- `format()` 내장 함수는 객체를 문자열로 변환한다.\n",
    "- `format()` 내장 함수는 `__format__()` 특별 메서드를 호출한다."
   ]
  },
  {
   "cell_type": "code",
   "execution_count": 21,
   "metadata": {},
   "outputs": [
    {
     "data": {
      "text/plain": [
       "0.4115226337448559"
      ]
     },
     "execution_count": 21,
     "metadata": {},
     "output_type": "execute_result"
    }
   ],
   "source": [
    "brl = 1/2.43    # 브라질 레알을 미국 달러로 바꾸는 환율\n",
    "brl"
   ]
  },
  {
   "cell_type": "code",
   "execution_count": 22,
   "metadata": {},
   "outputs": [
    {
     "data": {
      "text/plain": [
       "'0.4115'"
      ]
     },
     "execution_count": 22,
     "metadata": {},
     "output_type": "execute_result"
    }
   ],
   "source": [
    "format(brl, '0.4f')     # '0.4f' 가 포맷 명시자; 소수점 아래 4자리까지 표시"
   ]
  },
  {
   "cell_type": "code",
   "execution_count": 23,
   "metadata": {},
   "outputs": [
    {
     "data": {
      "text/plain": [
       "'1 BRL = 0.41 USD'"
      ]
     },
     "execution_count": 23,
     "metadata": {},
     "output_type": "execute_result"
    }
   ],
   "source": [
    "'1 BRL = {rate:0.2f} USD'.format(rate=brl)\n",
    "#{rate:0.2f}에서 rate는 키워드 인수의 이름, 0.2f는 포맷 명시자\n",
    "# 포맷명시자에 사용된 표기법을 '포맷 명시 간이 언어'라고 한다."
   ]
  },
  {
   "cell_type": "code",
   "execution_count": 24,
   "metadata": {},
   "outputs": [
    {
     "name": "stdout",
     "output_type": "stream",
     "text": [
      "101010\n",
      "66.7%\n"
     ]
    }
   ],
   "source": [
    "print(format(42, 'b'))    # 2진수로 변환\n",
    "print(format(2/3, '.1%'))    # 백분율로 변환"
   ]
  },
  {
   "cell_type": "code",
   "execution_count": 25,
   "metadata": {},
   "outputs": [
    {
     "data": {
      "text/plain": [
       "'20:21:19'"
      ]
     },
     "execution_count": 25,
     "metadata": {},
     "output_type": "execute_result"
    }
   ],
   "source": [
    "from datetime import datetime\n",
    "now = datetime.now()\n",
    "format(now, '%H:%M:%S')    # 시간을 24시간 형식으로 변환"
   ]
  },
  {
   "cell_type": "code",
   "execution_count": 26,
   "metadata": {},
   "outputs": [
    {
     "data": {
      "text/plain": [
       "\"It's now 08:21 PM\""
      ]
     },
     "execution_count": 26,
     "metadata": {},
     "output_type": "execute_result"
    }
   ],
   "source": [
    "\"It's now {:%I:%M %p}\".format(now)    # 시간을 12시간 형식으로 변환"
   ]
  },
  {
   "cell_type": "code",
   "execution_count": 27,
   "metadata": {},
   "outputs": [
    {
     "data": {
      "text/plain": [
       "'str-> (3.0, 4.0)'"
      ]
     },
     "execution_count": 27,
     "metadata": {},
     "output_type": "execute_result"
    }
   ],
   "source": [
    "v1 = Vector(3, 4)\n",
    "format(v1)      # format을 정의하지 않으면, str을 호출한다."
   ]
  },
  {
   "cell_type": "code",
   "execution_count": 28,
   "metadata": {},
   "outputs": [
    {
     "ename": "TypeError",
     "evalue": "unsupported format string passed to Vector.__format__",
     "output_type": "error",
     "traceback": [
      "\u001b[0;31m---------------------------------------------------------------------------\u001b[0m",
      "\u001b[0;31mTypeError\u001b[0m                                 Traceback (most recent call last)",
      "\u001b[1;32m/Users/yeshinkim/Sage/Fluent-Python/Yesin/Ch9. A Pythonic Object.ipynb Cell 34\u001b[0m in \u001b[0;36m<cell line: 1>\u001b[0;34m()\u001b[0m\n\u001b[0;32m----> <a href='vscode-notebook-cell:/Users/yeshinkim/Sage/Fluent-Python/Yesin/Ch9.%20A%20Pythonic%20Object.ipynb#X45sZmlsZQ%3D%3D?line=0'>1</a>\u001b[0m \u001b[39mformat\u001b[39;49m(v1, \u001b[39m'\u001b[39;49m\u001b[39m.3f\u001b[39;49m\u001b[39m'\u001b[39;49m)\n",
      "\u001b[0;31mTypeError\u001b[0m: unsupported format string passed to Vector.__format__"
     ]
    }
   ],
   "source": [
    "format(v1, '.3f')"
   ]
  },
  {
   "cell_type": "code",
   "execution_count": 29,
   "metadata": {},
   "outputs": [],
   "source": [
    "# 명시자를 사용해 foramt을 출력하고 싶다면 아래와 같이 __format__() 메서드를 구현하면 된다.\n",
    "from array import array\n",
    "import math\n",
    "\n",
    "class Vector:\n",
    "    typecode = 'd'\n",
    "\n",
    "    def __init__(self, x, y):\n",
    "        self.x = float(x)\n",
    "        self.y = float(y)\n",
    "\n",
    "    def __iter__(self):       # __iter__ 를 통해서 iterable 하게 만들어 준다. -> 언패킹 가능\n",
    "        return (i for i in (self.x, self.y))\n",
    "\n",
    "    def __repr__(self):\n",
    "        class_name = type(self).__name__\n",
    "        return f\"repr-> {class_name}({self.x!r}, {self.y!r})\"\n",
    "        # return '{}({!r}, {!r})'.format(class_name, *self)\n",
    "\n",
    "    def __str__(self):\n",
    "        return \"str-> \" + str(tuple(self))\n",
    "\n",
    "    def __bytes__(self):\n",
    "        return (bytes([ord(self.typecode)]) +\n",
    "                bytes(array(self.typecode, self)))\n",
    "\n",
    "    def __eq__(self, other):\n",
    "        return tuple(self) == tuple(other)\n",
    "\n",
    "    def __abs__(self):\n",
    "        return math.hypot(self.x, self.y)       # hypot = sqrt(x**2 + y**2)) 빗변의 길이를 구함 (즉 벡터간의 거리를 의미함)\n",
    "\n",
    "    def __bool__(self):\n",
    "        return bool(abs(self))\n",
    "\n",
    "    @classmethod\n",
    "    def frombytes(cls, octets):\n",
    "        typecode = chr(octets[0])\n",
    "        memv = memoryview(octets[1:]).cast(typecode)\n",
    "        return cls(*memv)\n",
    "\n",
    "    def __format__(self, fmt_spec: str):\n",
    "        componets = (format(c, fmt_spec) for c in self)\n",
    "        return '({}, {})'.format(*componets)"
   ]
  },
  {
   "cell_type": "code",
   "execution_count": 30,
   "metadata": {},
   "outputs": [
    {
     "data": {
      "text/plain": [
       "'(3.00, 4.00)'"
      ]
     },
     "execution_count": 30,
     "metadata": {},
     "output_type": "execute_result"
    }
   ],
   "source": [
    "vf = Vector(3, 4)\n",
    "format(vf, '.2f')"
   ]
  },
  {
   "cell_type": "code",
   "execution_count": 31,
   "metadata": {},
   "outputs": [],
   "source": [
    "# 각을 구하기 위한 angle() 메서드를 구현할 수 있다.\n",
    "def angle(self):\n",
    "    return math.atan2(self.y, self.x)"
   ]
  },
  {
   "cell_type": "code",
   "execution_count": 49,
   "metadata": {},
   "outputs": [],
   "source": [
    "# __format__()메서드가 극좌표를 생성하도록 수정해보자\n",
    "\n",
    "class Vector:\n",
    "    typecode = 'd'\n",
    "\n",
    "    def __init__(self, x, y):\n",
    "        self.x = float(x)\n",
    "        self.y = float(y)\n",
    "\n",
    "    def __iter__(self):       # __iter__ 를 통해서 iterable 하게 만들어 준다. -> 언패킹 가능\n",
    "        return (i for i in (self.x, self.y))\n",
    "\n",
    "    def __repr__(self):\n",
    "        class_name = type(self).__name__\n",
    "        return f\"repr-> {class_name}({self.x!r}, {self.y!r})\"\n",
    "        # return '{}({!r}, {!r})'.format(class_name, *self)\n",
    "\n",
    "    def __str__(self):\n",
    "        return \"str-> \" + str(tuple(self))\n",
    "\n",
    "    def __bytes__(self):\n",
    "        return (bytes([ord(self.typecode)]) +\n",
    "                bytes(array(self.typecode, self)))\n",
    "\n",
    "    def __eq__(self, other):\n",
    "        return tuple(self) == tuple(other)\n",
    "\n",
    "    def __abs__(self):\n",
    "        return math.hypot(self.x, self.y)       # hypot = sqrt(x**2 + y**2)) 빗변의 길이를 구함 (즉 벡터간의 거리를 의미함)\n",
    "\n",
    "    def __bool__(self):\n",
    "        return bool(abs(self))\n",
    "\n",
    "    @classmethod\n",
    "    def frombytes(cls, octets):\n",
    "        typecode = chr(octets[0])\n",
    "        memv = memoryview(octets[1:]).cast(typecode)\n",
    "        return cls(*memv)\n",
    "\n",
    "    def __format__(self, fmt_spec: str):\n",
    "        if fmt_spec.endswith('p'):\n",
    "            fmt_spec = fmt_spec[:-1]\n",
    "            coords = (abs(self), self.angle())\n",
    "            outer_fmt = '<{}, {}>'\n",
    "        else:\n",
    "            coords = self\n",
    "            outer_fmt = '({}, {})'\n",
    "        componets = (format(c, fmt_spec) for c in coords)\n",
    "        return outer_fmt.format(*componets)\n",
    "\n",
    "    def angle(self):\n",
    "        return math.atan2(self.y, self.x)"
   ]
  },
  {
   "cell_type": "code",
   "execution_count": 33,
   "metadata": {},
   "outputs": [
    {
     "name": "stdout",
     "output_type": "stream",
     "text": [
      "<1.4142135623730951, 0.7853981633974483>\n",
      "<1.414e+00, 7.854e-01>\n",
      "<1.41421, 0.78540>\n"
     ]
    }
   ],
   "source": [
    "print(format(Vector(1, 1), 'p'))\n",
    "print(format(Vector(1, 1), '.3ep'))\n",
    "print(format(Vector(1, 1), '0.5fp'))"
   ]
  },
  {
   "cell_type": "markdown",
   "metadata": {},
   "source": [
    "## 9.6 해시 가능한 Vector2d"
   ]
  },
  {
   "cell_type": "code",
   "execution_count": 34,
   "metadata": {},
   "outputs": [
    {
     "ename": "TypeError",
     "evalue": "unhashable type: 'Vector'",
     "output_type": "error",
     "traceback": [
      "\u001b[0;31m---------------------------------------------------------------------------\u001b[0m",
      "\u001b[0;31mTypeError\u001b[0m                                 Traceback (most recent call last)",
      "\u001b[1;32m/Users/yeshinkim/Sage/Fluent-Python/Yesin/Ch9. A Pythonic Object.ipynb Cell 41\u001b[0m in \u001b[0;36m<cell line: 2>\u001b[0;34m()\u001b[0m\n\u001b[1;32m      <a href='vscode-notebook-cell:/Users/yeshinkim/Sage/Fluent-Python/Yesin/Ch9.%20A%20Pythonic%20Object.ipynb#X55sZmlsZQ%3D%3D?line=0'>1</a>\u001b[0m v1 \u001b[39m=\u001b[39m Vector(\u001b[39m3\u001b[39m, \u001b[39m4\u001b[39m)\n\u001b[0;32m----> <a href='vscode-notebook-cell:/Users/yeshinkim/Sage/Fluent-Python/Yesin/Ch9.%20A%20Pythonic%20Object.ipynb#X55sZmlsZQ%3D%3D?line=1'>2</a>\u001b[0m \u001b[39mhash\u001b[39;49m(v1)\n",
      "\u001b[0;31mTypeError\u001b[0m: unhashable type: 'Vector'"
     ]
    }
   ],
   "source": [
    "v1 = Vector(3, 4)\n",
    "hash(v1)        # hash 안 됨"
   ]
  },
  {
   "cell_type": "code",
   "execution_count": 35,
   "metadata": {},
   "outputs": [
    {
     "ename": "TypeError",
     "evalue": "unhashable type: 'Vector'",
     "output_type": "error",
     "traceback": [
      "\u001b[0;31m---------------------------------------------------------------------------\u001b[0m",
      "\u001b[0;31mTypeError\u001b[0m                                 Traceback (most recent call last)",
      "\u001b[1;32m/Users/yeshinkim/Sage/Fluent-Python/Yesin/Ch9. A Pythonic Object.ipynb Cell 42\u001b[0m in \u001b[0;36m<cell line: 1>\u001b[0;34m()\u001b[0m\n\u001b[0;32m----> <a href='vscode-notebook-cell:/Users/yeshinkim/Sage/Fluent-Python/Yesin/Ch9.%20A%20Pythonic%20Object.ipynb#X56sZmlsZQ%3D%3D?line=0'>1</a>\u001b[0m \u001b[39mset\u001b[39;49m([v1])\n",
      "\u001b[0;31mTypeError\u001b[0m: unhashable type: 'Vector'"
     ]
    }
   ],
   "source": [
    "set([v1])       # non hashable이기 때문에 set에 넣을 수 없음"
   ]
  },
  {
   "cell_type": "code",
   "execution_count": 36,
   "metadata": {},
   "outputs": [
    {
     "name": "stdout",
     "output_type": "stream",
     "text": [
      "3.0 4.0\n",
      "5 4.0\n"
     ]
    }
   ],
   "source": [
    "# 현재는 이 코드가 실행된다.\n",
    "print(v1.x, v1.y)\n",
    "\n",
    "v1.x = 5\n",
    "print(v1.x, v1.y)       # 벡터를 불변형으로 만들어보자"
   ]
  },
  {
   "cell_type": "code",
   "execution_count": 37,
   "metadata": {},
   "outputs": [],
   "source": [
    "class Vector:\n",
    "    typecode = 'd'\n",
    "\n",
    "    def __init__(self, x, y):\n",
    "        self.__x = float(x)\n",
    "        self.__y = float(y)\n",
    "\n",
    "    @property       # property로 접근해서 읽을 수 있게 만들어준다.\n",
    "    def x(self):\n",
    "        return self.__x\n",
    "\n",
    "    @property\n",
    "    def y(self):\n",
    "        return self.__y\n",
    "\n",
    "    def __iter__(self):      \n",
    "        return (i for i in (self.x, self.y))\n",
    "\n",
    "    # 나머지는 생략한대요"
   ]
  },
  {
   "cell_type": "code",
   "execution_count": 38,
   "metadata": {},
   "outputs": [
    {
     "name": "stdout",
     "output_type": "stream",
     "text": [
      "3.0\n"
     ]
    },
    {
     "ename": "AttributeError",
     "evalue": "can't set attribute",
     "output_type": "error",
     "traceback": [
      "\u001b[0;31m---------------------------------------------------------------------------\u001b[0m",
      "\u001b[0;31mAttributeError\u001b[0m                            Traceback (most recent call last)",
      "\u001b[1;32m/Users/yeshinkim/Sage/Fluent-Python/Yesin/Ch9. A Pythonic Object.ipynb Cell 45\u001b[0m in \u001b[0;36m<cell line: 3>\u001b[0;34m()\u001b[0m\n\u001b[1;32m      <a href='vscode-notebook-cell:/Users/yeshinkim/Sage/Fluent-Python/Yesin/Ch9.%20A%20Pythonic%20Object.ipynb#X62sZmlsZQ%3D%3D?line=0'>1</a>\u001b[0m vp \u001b[39m=\u001b[39m Vector(\u001b[39m3\u001b[39m, \u001b[39m4\u001b[39m)\n\u001b[1;32m      <a href='vscode-notebook-cell:/Users/yeshinkim/Sage/Fluent-Python/Yesin/Ch9.%20A%20Pythonic%20Object.ipynb#X62sZmlsZQ%3D%3D?line=1'>2</a>\u001b[0m \u001b[39mprint\u001b[39m(vp\u001b[39m.\u001b[39mx)     \u001b[39m# 출력가능\u001b[39;00m\n\u001b[0;32m----> <a href='vscode-notebook-cell:/Users/yeshinkim/Sage/Fluent-Python/Yesin/Ch9.%20A%20Pythonic%20Object.ipynb#X62sZmlsZQ%3D%3D?line=2'>3</a>\u001b[0m vp\u001b[39m.\u001b[39mx \u001b[39m=\u001b[39m \u001b[39m5\u001b[39m\n",
      "\u001b[0;31mAttributeError\u001b[0m: can't set attribute"
     ]
    }
   ],
   "source": [
    "vp = Vector(3, 4)\n",
    "print(vp.x)     # 출력가능\n",
    "vp.x = 5        # AttributeError: can't set attribute"
   ]
  },
  {
   "cell_type": "code",
   "execution_count": 45,
   "metadata": {},
   "outputs": [],
   "source": [
    "class Vector2d:\n",
    "    typecode = 'd'\n",
    "\n",
    "    def __init__(self, x, y):\n",
    "        self.__x = float(x)\n",
    "        self.__y = float(y)\n",
    "\n",
    "    @property       # property로 접근해서 읽을 수 있게 만들어준다.\n",
    "    def x(self):\n",
    "        return self.__x\n",
    "\n",
    "    @property\n",
    "    def y(self):\n",
    "        return self.__y\n",
    "\n",
    "    def __iter__(self):      \n",
    "        return (i for i in (self.x, self.y))\n",
    "\n",
    "    def __hash__(self) -> int:\n",
    "        return hash(self.x) ^ hash(self.y)\n",
    "    # 나머지는 생략한대요"
   ]
  },
  {
   "cell_type": "code",
   "execution_count": 46,
   "metadata": {},
   "outputs": [
    {
     "name": "stdout",
     "output_type": "stream",
     "text": [
      "7 384307168202284039\n",
      "{<__main__.Vector2d object at 0x10ce30d00>, <__main__.Vector2d object at 0x10ce309a0>}\n"
     ]
    }
   ],
   "source": [
    "vh = Vector2d(3, 4)\n",
    "vh2 = Vector2d(3.1, 4.2)\n",
    "print(hash(vh), hash(vh2))\n",
    "print(set([vh, vh2]))       # repr로 출력됨"
   ]
  },
  {
   "cell_type": "markdown",
   "metadata": {},
   "source": [
    "## 9.7 파이썬에서 비공개 속성과 보호된 속성\n",
    "`__something`이나 `__something_` 처럼 두 개의 언더바로 시작하고 언더바 없이 또는 하나의 언더바로 끝나도록 정의하면, 파이썬은 언더바와 클래스명을 변수명 앞에 붙여 객체의 `__dict__`에 저장한다. 따라서 Dog 클래스의 경우 __mood는 _Dog__mood가 되고 Beagle 클래스의 경우 _Beagle__mood가 된다. 이러한 파이썬 언어 기능을 이름장식(name mangling)이라고 한다."
   ]
  },
  {
   "cell_type": "code",
   "execution_count": 41,
   "metadata": {},
   "outputs": [
    {
     "data": {
      "text/plain": [
       "{'_Vector__x': 3.0, '_Vector__y': 4.0}"
      ]
     },
     "execution_count": 41,
     "metadata": {},
     "output_type": "execute_result"
    }
   ],
   "source": [
    "v1 = Vector(3, 4)\n",
    "v1.__dict__"
   ]
  },
  {
   "cell_type": "code",
   "execution_count": 42,
   "metadata": {},
   "outputs": [
    {
     "data": {
      "text/plain": [
       "3.0"
      ]
     },
     "execution_count": 42,
     "metadata": {},
     "output_type": "execute_result"
    }
   ],
   "source": [
    "v1._Vector__x"
   ]
  },
  {
   "cell_type": "markdown",
   "metadata": {},
   "source": [
    "## 9.8 `__slots__` 클래스 속성으로 공간 절약하기\n",
    "파이썬은 객체속성을 각 객체 안의 `__dict__`이라는 딕셔너리 속성에 저장하는데, 딕셔너리는 빠른 접근속도를 제공하기 위해 내부에 해시 테이블을 유지하므로 메모리 사용량 부담이 상당히 크다.  \n",
    "이런 경우에 `__slots__` 클래스 속성을 이용해서 메모리 사용량을 엄청나게 줄일 수 있다.\n",
    "\n",
    "`__slots__`을 정의하려면, 이 이름의 클래스 속성을 생성하고 여기에 객체 속성 식별자들을 담은 문자열의 반복형을 할당한다. 불변형인 튜플을 사용하면 `__slots__` 정의를 변경할 수 없음을 알려주므로, 필자는 `__slots__`를 정의할 때 튜플을 즐겨 사용한다고 한다."
   ]
  },
  {
   "cell_type": "code",
   "execution_count": 43,
   "metadata": {},
   "outputs": [],
   "source": [
    "class Vector2d():\n",
    "    __slots__ = ('__x', '__y')\n",
    "\n",
    "    typecode = 'd'\n",
    "\n",
    "    # 나머지 코드는 생략한다고 함."
   ]
  },
  {
   "cell_type": "markdown",
   "metadata": {},
   "source": [
    "## 9.9 클래스 속성 오버라이드\n",
    "Vector에 typecode라는 클래스 속성은 `__bytes__()` 메서드에서 두번 사용되는데, 우리는 self.typecode로 그 값을 읽었다. Vector 객체가 그들 자신의 typecode 속성을 가지고 생성된 것이 아니므로, self.typecode는 기본적으로 Vector의 클래스 속성을 가져온다.  \n",
    "그렇지만 존재하지 않는 속성에 값을 저장하면, 새로운 객체 곳성을 생성하고 동일한 이름의 클래스 속성은 변경하지 않는다. 그 후부터는 객체가 self.typecode를 읽을 때 객체 자체의 typecode를 읽어오기 때문에, 각 객체가 서로 다른 typecode를 가지도록 만들 수 있당"
   ]
  },
  {
   "cell_type": "code",
   "execution_count": 55,
   "metadata": {},
   "outputs": [
    {
     "data": {
      "text/plain": [
       "b'd\\x9a\\x99\\x99\\x99\\x99\\x99\\xf1?\\x9a\\x99\\x99\\x99\\x99\\x99\\x01@'"
      ]
     },
     "execution_count": 55,
     "metadata": {},
     "output_type": "execute_result"
    }
   ],
   "source": [
    "v1 = Vector(1.1, 2.2)\n",
    "dumpd = bytes(v1)\n",
    "dumpd"
   ]
  },
  {
   "cell_type": "code",
   "execution_count": 56,
   "metadata": {},
   "outputs": [
    {
     "data": {
      "text/plain": [
       "17"
      ]
     },
     "execution_count": 56,
     "metadata": {},
     "output_type": "execute_result"
    }
   ],
   "source": [
    "len(dumpd)"
   ]
  },
  {
   "cell_type": "code",
   "execution_count": 57,
   "metadata": {},
   "outputs": [
    {
     "name": "stdout",
     "output_type": "stream",
     "text": [
      "d\n"
     ]
    }
   ],
   "source": [
    "print(v1.typecode)\n",
    "\n",
    "v1.typecode = 'f'"
   ]
  },
  {
   "cell_type": "code",
   "execution_count": 58,
   "metadata": {},
   "outputs": [
    {
     "data": {
      "text/plain": [
       "b'f\\xcd\\xcc\\x8c?\\xcd\\xcc\\x0c@'"
      ]
     },
     "execution_count": 58,
     "metadata": {},
     "output_type": "execute_result"
    }
   ],
   "source": [
    "dumpf = bytes(v1)\n",
    "dumpf"
   ]
  },
  {
   "cell_type": "code",
   "execution_count": 59,
   "metadata": {},
   "outputs": [
    {
     "data": {
      "text/plain": [
       "9"
      ]
     },
     "execution_count": 59,
     "metadata": {},
     "output_type": "execute_result"
    }
   ],
   "source": [
    "len(dumpf)"
   ]
  },
  {
   "cell_type": "code",
   "execution_count": 60,
   "metadata": {},
   "outputs": [
    {
     "data": {
      "text/plain": [
       "('f', 'd')"
      ]
     },
     "execution_count": 60,
     "metadata": {},
     "output_type": "execute_result"
    }
   ],
   "source": [
    "v1.typecode, Vector.typecode"
   ]
  }
 ],
 "metadata": {
  "kernelspec": {
   "display_name": "Python 3.8.13 ('estud')",
   "language": "python",
   "name": "python3"
  },
  "language_info": {
   "codemirror_mode": {
    "name": "ipython",
    "version": 3
   },
   "file_extension": ".py",
   "mimetype": "text/x-python",
   "name": "python",
   "nbconvert_exporter": "python",
   "pygments_lexer": "ipython3",
   "version": "3.8.13"
  },
  "orig_nbformat": 4,
  "vscode": {
   "interpreter": {
    "hash": "391b1e7ce2e81530d6fa13507e2cf4fd1c09c0aaf5e54d082942efacf0dd49e1"
   }
  }
 },
 "nbformat": 4,
 "nbformat_minor": 2
}
