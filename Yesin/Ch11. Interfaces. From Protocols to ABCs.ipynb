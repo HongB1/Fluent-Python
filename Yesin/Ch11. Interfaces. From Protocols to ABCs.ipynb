{
 "cells": [
  {
   "cell_type": "markdown",
   "metadata": {},
   "source": [
    "# Chapter11. 인터페이스: 프로토콜에서 ABC까지\n",
    "11장의 주제는 인터페이스다. 덕 타이핑의 상징인 동적 프로토콜에서부터 인터페이스를 명시하고 구현이 인터페이스에 따르는 지 검증하는 추상 베이스 클래스(abstract base class: ABC)에 이르기까지 다양한 곳에서 인터페이스가 사용된다. \n",
    "\n",
    "파이썬 커뮤니티에서 인터페이스를 전통적으로 약간 느슨하게 이해해온 방식을 살펴보자. (두 개의 예제를 통해 덕 타이핑의 동적 성질을 이해)\n"
   ]
  },
  {
   "cell_type": "markdown",
   "metadata": {},
   "source": [
    "## 11. 1  파이썬 문화에서의 인터페이스와 프로토콜\n",
    "파이썬은 ABC가 소개되기 전에 이미 성공을 거두었고, 기존 코드 대부분은 ABC를 전혀 사용하지 않는다. 필자는 1장부터 줄곧 덕 타이핑과 프로토콜에 대해 이야기했다. \n",
    "동적 자료형 언어에서는 인터페이스가 어떻게 작동할까? 우선 기본적으로 파이썬 언어에는 interface라는 키워드가 없지만, ABC에 상관없이 모든 클래스는 인터페이스를 가지고 있다. 클래스가 상속하거나 구현한 공개 속성(메서드나 데이터 속성)드르이 집합이 인터페이스다. 여기에는 `__getitem__()`이나 `__add__()`같은 특별 메서드도 포함된다."
   ]
  },
  {
   "cell_type": "code",
   "execution_count": 1,
   "metadata": {},
   "outputs": [],
   "source": [
    "# vector2d_v0.py\n",
    "class Vector2d:\n",
    "    typecode = 'd'\n",
    "\n",
    "    def __init__(self, x, y):\n",
    "        self.x = float(x)\n",
    "        self.y = float(y)\n",
    "\n",
    "    def __iter__(self):\n",
    "        return (i for i in (self.x, self.y))\n",
    "\n",
    "    # more methods follow (omitted in this listing)"
   ]
  },
  {
   "cell_type": "markdown",
   "metadata": {},
   "source": [
    "해당 버전에서 x와 y를 읽기 전용 프로퍼티로 변경했다. 이것은 상당한 리팩토링이지만, 인터페이스의 핵심은 변하지 않았다. 사용자는 여전히 my_vector.x와 my_vector.y로 값을 읽을 수 있기 때문이다."
   ]
  },
  {
   "cell_type": "code",
   "execution_count": 2,
   "metadata": {},
   "outputs": [],
   "source": [
    "# vector2d_v3.py\n",
    "class Vector2d:\n",
    "    typecode = 'd'\n",
    "\n",
    "    def __init__(self, x, y):\n",
    "        self.__x = float(x)\n",
    "        self.__y = float(y)\n",
    "\n",
    "    @property\n",
    "    def x(self):\n",
    "        return self.__x\n",
    "\n",
    "    @property\n",
    "    def y(self):\n",
    "        return self.__y\n",
    "\n",
    "    def __iter__(self):\n",
    "        return (i for i in (self.x, self.y))\n"
   ]
  },
  {
   "cell_type": "markdown",
   "metadata": {},
   "source": [
    "인터페이스는 '시스템에서 어떤 역할을 할 수 있게 해주는 객체의 공개 메서드의 일부'라고 설명을 보충할 수 있다. 바로 이것이 파이썬 문서에서 특정 클래스를 지정하지 않고, 'file과 같은 객체', 혹은 '반복형'이라고 말할 때 의미하는 것이다. 어떤 역할을 완수하기 위한 메서드 집합으로서의 인터페이스를 스몰토크에서는 프로토콜이라고 불렀으며, 이 용어는 다른 동적 언어 커뮤니티에도 퍼져나갔다. 프로토콜은 상속과 무관하다. 프로토콜은 인터페이스지만 비공식적이다.\n",
    "시퀀스 프로토콜은 파이썬에서 가장 핵심적인 인터페이스 중 하나다."
   ]
  },
  {
   "cell_type": "markdown",
   "metadata": {},
   "source": [
    "## 11.2 파이썬은 시퀀스를 찾아낸다.\n",
    "파이썬 데이터 모델은 가능한 한 많이 핵심 프로토콜과 협업하겠다는 철학을 가지고 있다. 시퀀스의 경우, 가장 단순한 객체를 사용하는 경우에도 파이썬은 최선을 다한다."
   ]
  },
  {
   "cell_type": "code",
   "execution_count": 19,
   "metadata": {},
   "outputs": [
    {
     "name": "stdout",
     "output_type": "stream",
     "text": [
      "0\n",
      "10\n",
      "20\n"
     ]
    }
   ],
   "source": [
    "class Foo:\n",
    "    def __getitem__(self, pos):\n",
    "        return range(0, 30, 10)[pos]\n",
    "\n",
    "f = Foo()\n",
    "f[1]\n",
    "for i in f: print(i)"
   ]
  },
  {
   "cell_type": "code",
   "execution_count": 21,
   "metadata": {},
   "outputs": [
    {
     "data": {
      "text/plain": [
       "True"
      ]
     },
     "execution_count": 21,
     "metadata": {},
     "output_type": "execute_result"
    }
   ],
   "source": [
    "20 in f"
   ]
  },
  {
   "cell_type": "code",
   "execution_count": 22,
   "metadata": {},
   "outputs": [
    {
     "data": {
      "text/plain": [
       "False"
      ]
     },
     "execution_count": 22,
     "metadata": {},
     "output_type": "execute_result"
    }
   ],
   "source": [
    "15 in f"
   ]
  },
  {
   "cell_type": "markdown",
   "metadata": {},
   "source": [
    "`__iter__()`메서드는 구현하지 않았지만, 대체 수단인 `__getitem__()`을 구현했기 때문에 Foo를 반복할 수 있다. 파이썬 인터프리터는 0부터 시작하는 정수 인덱스로 getitiem 메서드를 호출하여 객체 반복을 시도하기 때문이다. 파이썬은 충분히 똑똑하기 때문에 `__contains__()` 메서드가 구현되어 있지 않아도 객체 전체를 조사해서 항목을 찾아내 `in` 연산자도 작동시킬 수 있다."
   ]
  },
  {
   "cell_type": "code",
   "execution_count": 7,
   "metadata": {},
   "outputs": [],
   "source": [
    "import collections\n",
    "\n",
    "Card = collections.namedtuple('Card', ['rank', 'suit'])\n",
    "\n",
    "\n",
    "class FrenchDeck:\n",
    "    ranks = [str(n) for n in range(2, 11)] + list('JQKA')\n",
    "    suits = 'spades diamonds clubs hearts'.split()\n",
    "\n",
    "    def __init__(self):\n",
    "        self._cards = [Card(rank, suit) for suit in self.suits for rank in self.ranks]\n",
    "\n",
    "    def __len__(self):\n",
    "        return len(self._cards)\n",
    "\n",
    "    def __getitem__(self, position):\n",
    "        return self._cards[position]"
   ]
  },
  {
   "cell_type": "markdown",
   "metadata": {},
   "source": [
    "## 11.3 런타임에 프로토콜을 구현하는 멍키 패칭\n",
    "위의 FrenchDeck은 카드를 섞을 수 없다는 커다란 결함이 있다. 몇년 전 필자가 처음 FrenchDeck을 작성했을 때는 shuffle() 메서드를 구현했었는데, 파이썬을 알고 난 이후는 시퀀스처럼 작동하는 클래스라면 shuffle을 직접 구현할 필요가 없다는 것을 깨달았다. random.shuffle() 함수 문서에서 설명하는 것처럼 random.shuffle() 함수가 시퀀스 객체안의 항목을 섞어주기 때문이다."
   ]
  },
  {
   "cell_type": "code",
   "execution_count": 9,
   "metadata": {},
   "outputs": [
    {
     "name": "stdout",
     "output_type": "stream",
     "text": [
      "[1, 2, 4, 6, 7, 3, 9, 0, 5, 8]\n"
     ]
    },
    {
     "ename": "TypeError",
     "evalue": "'FrenchDeck' object does not support item assignment",
     "output_type": "error",
     "traceback": [
      "\u001b[0;31m---------------------------------------------------------------------------\u001b[0m",
      "\u001b[0;31mTypeError\u001b[0m                                 Traceback (most recent call last)",
      "\u001b[1;32m/Users/yesinkim/Bailando/Fluent-Python/Yesin/Ch11. Interfaces. From Protocols to ABCs.ipynb 셀 14\u001b[0m in \u001b[0;36m<cell line: 10>\u001b[0;34m()\u001b[0m\n\u001b[1;32m      <a href='vscode-notebook-cell:/Users/yesinkim/Bailando/Fluent-Python/Yesin/Ch11.%20Interfaces.%20From%20Protocols%20to%20ABCs.ipynb#X15sZmlsZQ%3D%3D?line=6'>7</a>\u001b[0m \u001b[39mfrom\u001b[39;00m \u001b[39mrandom\u001b[39;00m \u001b[39mimport\u001b[39;00m shuffle\n\u001b[1;32m      <a href='vscode-notebook-cell:/Users/yesinkim/Bailando/Fluent-Python/Yesin/Ch11.%20Interfaces.%20From%20Protocols%20to%20ABCs.ipynb#X15sZmlsZQ%3D%3D?line=8'>9</a>\u001b[0m deck \u001b[39m=\u001b[39m FrenchDeck()\n\u001b[0;32m---> <a href='vscode-notebook-cell:/Users/yesinkim/Bailando/Fluent-Python/Yesin/Ch11.%20Interfaces.%20From%20Protocols%20to%20ABCs.ipynb#X15sZmlsZQ%3D%3D?line=9'>10</a>\u001b[0m shuffle(deck)\n",
      "File \u001b[0;32m/opt/homebrew/Caskroom/miniconda/base/envs/estud/lib/python3.8/random.py:307\u001b[0m, in \u001b[0;36mRandom.shuffle\u001b[0;34m(self, x, random)\u001b[0m\n\u001b[1;32m    304\u001b[0m     \u001b[39mfor\u001b[39;00m i \u001b[39min\u001b[39;00m \u001b[39mreversed\u001b[39m(\u001b[39mrange\u001b[39m(\u001b[39m1\u001b[39m, \u001b[39mlen\u001b[39m(x))):\n\u001b[1;32m    305\u001b[0m         \u001b[39m# pick an element in x[:i+1] with which to exchange x[i]\u001b[39;00m\n\u001b[1;32m    306\u001b[0m         j \u001b[39m=\u001b[39m randbelow(i\u001b[39m+\u001b[39m\u001b[39m1\u001b[39m)\n\u001b[0;32m--> 307\u001b[0m         x[i], x[j] \u001b[39m=\u001b[39m x[j], x[i]\n\u001b[1;32m    308\u001b[0m \u001b[39melse\u001b[39;00m:\n\u001b[1;32m    309\u001b[0m     _int \u001b[39m=\u001b[39m \u001b[39mint\u001b[39m\n",
      "\u001b[0;31mTypeError\u001b[0m: 'FrenchDeck' object does not support item assignment"
     ]
    }
   ],
   "source": [
    "from random import shuffle\n",
    "l = list(range(10))\n",
    "shuffle(l)\n",
    "print(l)\n",
    "\n",
    "# 하지만 FrenchDeck 객체를 섞고 싶다면?\n",
    "from random import shuffle\n",
    "\n",
    "deck = FrenchDeck()\n",
    "shuffle(deck)"
   ]
  },
  {
   "cell_type": "markdown",
   "metadata": {},
   "source": [
    "'FrenchDeck' 클래스는 불변 시퀀스 프로토콜만 구현하고 있다. 가변 시퀀스는 `__setitem__()` 메서드도 지원해야 한다."
   ]
  },
  {
   "cell_type": "code",
   "execution_count": 15,
   "metadata": {},
   "outputs": [
    {
     "data": {
      "text/plain": [
       "[Card(rank='3', suit='clubs'),\n",
       " Card(rank='4', suit='hearts'),\n",
       " Card(rank='8', suit='spades'),\n",
       " Card(rank='10', suit='spades'),\n",
       " Card(rank='J', suit='diamonds')]"
      ]
     },
     "execution_count": 15,
     "metadata": {},
     "output_type": "execute_result"
    }
   ],
   "source": [
    "def set_card(deck, position, card):\n",
    "    deck._cards[position] = card\n",
    "\n",
    "FrenchDeck.__setitem__ = set_card\n",
    "shuffle(deck)\n",
    "deck[:5]"
   ]
  },
  {
   "cell_type": "markdown",
   "metadata": {},
   "source": [
    "## 11.4 알렉스 마르텔리의 물새\n",
    "파이썬의 일반적인 프로토콜형 인터페이스를 살펴본 뒤 ABC를 살펴보자. 그러나 예제와 세부사항을 파고들기 전에, ABC가 파이썬에 큰 도움이 되는 이유에 대해 알렉스가 알려준댄다"
   ]
  },
  {
   "cell_type": "code",
   "execution_count": 4,
   "metadata": {},
   "outputs": [
    {
     "data": {
      "text/plain": [
       "True"
      ]
     },
     "execution_count": 4,
     "metadata": {},
     "output_type": "execute_result"
    }
   ],
   "source": [
    "class Struggle:\n",
    "    def __len__(self): return 23\n",
    "\n",
    "\n",
    "from collections import abc\n",
    "isinstance(Struggle(), abc.Sized)"
   ]
  },
  {
   "cell_type": "markdown",
   "metadata": {},
   "source": [
    "## 11.5 ABC상속하기\n",
    "직접 ABC를 만들기 전에 collections.MutableSequence라는 ABC를 활용해보자. FrenchDeck2를 그렇게 만들보자"
   ]
  },
  {
   "cell_type": "code",
   "execution_count": 41,
   "metadata": {},
   "outputs": [],
   "source": [
    "import collections\n",
    "\n",
    "Card = collections.namedtuple('Card', ['rank', 'suit'])\n",
    "\n",
    "class FrenchDeck2(collections.MutableSequence):\n",
    "    ranks = [str(n) for n in range(2, 11)] + list('JQKA')\n",
    "    suits = 'spades diamonds clubs hearts'.split()\n",
    "\n",
    "    def __init__(self):\n",
    "        self._cards = [Card(rank, suit) for suit in self.suits \n",
    "                                        for rank in self.ranks]\n",
    "\n",
    "    # def __len__(self):\n",
    "    #     return len(self._cards)\n",
    "\n",
    "    def __getitem__(self, position):\n",
    "        return self._cards[position]\n",
    "\n",
    "    def __setitem__(self, position, value):     # 카드를 섞기위해서 __setitem__() 메서드만 있으면 된다.\n",
    "        self._cards[position] = value\n",
    "\n",
    "    def __delitem__(self, position):            # 그러나 MutableSequence 클래스를 상속했으므로, 이 클래스의 추상메서드인 __delitem__()도 구현해야 한다.\n",
    "        del self._cards[position]\n",
    "\n",
    "    def insert(self, position, value):          # 그리고 MutableSequence의 세 번째 추상 메서드인 insert() 도 구현해야 한다.\n",
    "        self._cards.insert(position, value)"
   ]
  },
  {
   "cell_type": "markdown",
   "metadata": {},
   "source": [
    "## 11.6 표준 라이브러리의 ABC\n",
    "파이썬 2.6 이후 표준 라이브러리에 ABC가 포함되었다. numbers와 io 패키지에서도 볼 수 있지만, 대부분의 ABC는 collections.abc 모듈에 정의되어 있으며, 이 모듈에 정의된 ABC들이 가장 많이 사용된다."
   ]
  },
  {
   "cell_type": "markdown",
   "metadata": {},
   "source": [
    "### 11.6.1 collections.abc의 ABC\n",
    "표준 라이브러리에 abc라는 모듈은 두개가 있다. 여기서는 collections.abc에 대해 설명한다. \n",
    "\n",
    "\n",
    "### 11.6.2 ABC의 숫자탑\n",
    "numbers 패키지는 소위 '수ㅅ자탑'이라고 하는 것을 정의한다(말 그대로 ABC들이 선형 계층구조로 되어 있다.) . \n",
    "Number가 최상위 슈퍼클래스며, 그 밑으로\n",
    "- Number\n",
    "- Complex\n",
    "- Real\n",
    "- Rational\n",
    "- Integral\n",
    "따라서 정수형인지 검사해야 하는 경우 isinstance(x, numbers.Integral)을 이용해서 int형, bool형(int형의 서브클래스)"
   ]
  },
  {
   "cell_type": "markdown",
   "metadata": {},
   "source": [
    "## 11.7 ABC의 정의와 사용\n",
    "ABC를 생성하는 일을 정당화하기 위해, 프레임워크를 확장해야 하는 상황을 만들어보자."
   ]
  },
  {
   "cell_type": "code",
   "execution_count": 45,
   "metadata": {},
   "outputs": [],
   "source": [
    "import abc\n",
    "\n",
    "class Tombola(abc.ABC):\n",
    "\n",
    "    @abc.abstractmethod\n",
    "    def load(self, iterable):\n",
    "        \"\"\"iterable의 항목들을 추가한다.\"\"\"\n",
    "\n",
    "    @abc.abstractmethod\n",
    "    def pick(self):\n",
    "        \"\"\"무작위로 항목을 하나 제거하고 반환한다.\n",
    "        객체가 비어 있을 때 이 메서드를 실행하면 'LookupError'가 발생한다.\n",
    "        \"\"\"\n",
    "\n",
    "    def loaded(self):\n",
    "        \"\"\"최소 한 개의 항목이 있으면 True를, 아니면 False를 반환한다.\"\"\"\n",
    "        return bool(self.inspect())\n",
    "\n",
    "    def inspect(self):\n",
    "        \"\"\"현재 안에 있는 항목들로 구성된 튜플을 정렬해 반환한다.\"\"\"\n",
    "        items = []\n",
    "        while True:\n",
    "            try:\n",
    "                items.append(self.pick())\n",
    "            except LookupError:\n",
    "                break\n",
    "        self.load(items)\n",
    "        return tuple(sorted(items))"
   ]
  },
  {
   "cell_type": "code",
   "execution_count": 46,
   "metadata": {},
   "outputs": [],
   "source": [
    "from tombola import Tombola\n",
    "\n",
    "class Fake(Tombola):\n",
    "    def pick(self):\n",
    "        return 13"
   ]
  },
  {
   "cell_type": "code",
   "execution_count": 47,
   "metadata": {},
   "outputs": [
    {
     "data": {
      "text/plain": [
       "__main__.Fake"
      ]
     },
     "execution_count": 47,
     "metadata": {},
     "output_type": "execute_result"
    }
   ],
   "source": [
    "Fake"
   ]
  },
  {
   "cell_type": "code",
   "execution_count": 48,
   "metadata": {},
   "outputs": [
    {
     "ename": "TypeError",
     "evalue": "Can't instantiate abstract class Fake with abstract methods load",
     "output_type": "error",
     "traceback": [
      "\u001b[0;31m---------------------------------------------------------------------------\u001b[0m",
      "\u001b[0;31mTypeError\u001b[0m                                 Traceback (most recent call last)",
      "\u001b[1;32m/Users/yeshinkim/Sage/Fluent-Python/Yesin/Ch11. Interfaces. From Protocols to ABCs.ipynb Cell 27\u001b[0m in \u001b[0;36m<cell line: 1>\u001b[0;34m()\u001b[0m\n\u001b[0;32m----> <a href='vscode-notebook-cell:/Users/yeshinkim/Sage/Fluent-Python/Yesin/Ch11.%20Interfaces.%20From%20Protocols%20to%20ABCs.ipynb#X45sZmlsZQ%3D%3D?line=0'>1</a>\u001b[0m f \u001b[39m=\u001b[39m Fake()\n",
      "\u001b[0;31mTypeError\u001b[0m: Can't instantiate abstract class Fake with abstract methods load"
     ]
    }
   ],
   "source": [
    "f = Fake()"
   ]
  },
  {
   "cell_type": "markdown",
   "metadata": {},
   "source": [
    "### 11.7.2 Tombola ABC 상속하기"
   ]
  },
  {
   "cell_type": "code",
   "execution_count": 49,
   "metadata": {},
   "outputs": [],
   "source": [
    "import random\n",
    "from tombola import Tombola\n",
    "\n",
    "class BingoCage(Tombola):\n",
    "\n",
    "    def __init__(self, items):\n",
    "        self._randomizer = random.SystemRandom()\n",
    "        self._items = []\n",
    "        self.load(items)\n",
    "\n",
    "    def load(self, items):\n",
    "        self._items.extend(items)\n",
    "        self._randomizer.shuffle(self._items)\n",
    "\n",
    "    def pick(self):\n",
    "        try:\n",
    "            return self._items.pop()\n",
    "        except IndexError:\n",
    "            raise LookupError('pick from empty BingoCage')\n",
    "\n",
    "    def __call__(self):\n",
    "        self.pick()"
   ]
  },
  {
   "cell_type": "code",
   "execution_count": null,
   "metadata": {},
   "outputs": [],
   "source": [
    "import random\n",
    "\n",
    "from tombola import Tombola\n",
    "\n",
    "class LotteryBlower(Tombola):\n",
    "\n",
    "    def __init__(self, iterable):\n",
    "        self._balls = list(iterable)\n",
    "    \n",
    "    def load(self, iterable):\n",
    "        self._balls.extend(iterable)\n",
    "    \n",
    "    def pick(self):\n",
    "        try:\n",
    "            position = random\n"
   ]
  }
 ],
 "metadata": {
  "kernelspec": {
   "display_name": "Python 3.8.13 ('estud')",
   "language": "python",
   "name": "python3"
  },
  "language_info": {
   "codemirror_mode": {
    "name": "ipython",
    "version": 3
   },
   "file_extension": ".py",
   "mimetype": "text/x-python",
   "name": "python",
   "nbconvert_exporter": "python",
   "pygments_lexer": "ipython3",
   "version": "3.8.13"
  },
  "orig_nbformat": 4,
  "vscode": {
   "interpreter": {
    "hash": "391b1e7ce2e81530d6fa13507e2cf4fd1c09c0aaf5e54d082942efacf0dd49e1"
   }
  }
 },
 "nbformat": 4,
 "nbformat_minor": 2
}
