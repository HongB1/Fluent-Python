{
 "cells": [
  {
   "cell_type": "markdown",
   "metadata": {},
   "source": [
    "- 대안 생성자\n",
    "- 메모리 절약 slots / gc.collect()\n",
    "<!-- - repr() / str()의 차이 -->"
   ]
  },
  {
   "cell_type": "markdown",
   "metadata": {},
   "source": [
    "# Chapter9. 파이썬스러운 객체\n",
    "> 절대로 결코! 앞에 언더바 두 개를 사용하지 말라. 이것은 짜증스러울 정도로 개인적인 이름이다. - 이안 비킹(Ian Bicking)\n",
    "\n",
    "파이썬 데이터 모델 덕분에 사용자가 정의한 자료형도 내장 자료형과 마찬가지로 자연스럽게 동작할 수 있다. 상속하지 않고도 *덕 타이핑 매커니즘을 통해 모든 것이 가능하다.\n",
    "사용자 정의 클래스를 만들어 보자.\n",
    "\n",
    "사용자 정의 클래스를 만들기 위해서 다음과 같은방법을 설명한다.\n",
    "- `repr()`, `bytes()` 등 객체를 다르 방식으로 표현하는 내장 함수의 지원\n",
    "- 클래스 메서드로 대안 생성자 구현\n",
    "- `format()` 내장 함수와 `str.format()` 메서드에서 사용하는 포맷 언어 확장\n",
    "- 읽기 전용 접근만 허용하는 속성 제공\n",
    "- 집합 및 딕셔너리 키로 사용할 수 있도록 객체를 해시 가능하게 만들기\n",
    "- `__slots__`를 이용해서 메모리 절약하기\n",
    "\n",
    "<details> \n",
    "<summary> *덕 타이핑 (Duck Typing) </summary>\n",
    "- 오리라고 부르면 오리가 됨)\n",
    "```python\n",
    "# what is duck typing? (https://en.wikipedia.org/wiki/Duck_typing)\n",
    "# - 사람이 오리인척 하면 오리라고 봐도 된다? \n",
    "#   즉, 미리 타입을 정해놓지 않고, 실행 시점에 타입을 결정하는 것을 의미한다.\n",
    "class Duck:\n",
    "    def quack(self): \n",
    "        print(\"꽥꽥!\")\n",
    "    def feathers(self):\n",
    "        print(\"오리에게 흰색, 회색 깃털이 있습니다.\")\n",
    "\n",
    "class Person:\n",
    "    def quack(self): \n",
    "        print(\"이 사람이 오리를 흉내내네요.\")\n",
    "    def feathers(self):\n",
    "        print(\"사람은 바닥에서 깃털을 주워서 보여 줍니다.\")\n",
    "\n",
    "def in_the_forest(duck):\n",
    "    duck.quack()\n",
    "    duck.feathers()\n",
    "\n",
    "\n",
    "in_the_forest(Duck())\n",
    "in_the_forest(Person())\n",
    "\n",
    "--------------------------------------------------------------------------\n",
    "꽥꽥!\n",
    "오리에게 흰색, 회색 깃털이 있습니다.\n",
    "이 사람이 오리를 흉내내네요.\n",
    "사람은 바닥에서 깃털을 주워서 보여 줍니다.\n",
    "```\n",
    "</details>"
   ]
  },
  {
   "cell_type": "markdown",
   "metadata": {},
   "source": [
    "## 유클리드 벡터형\n",
    "- `@classmethod`와 `@staticmethod`를 언제 사용할 것인가?\n",
    "- 파이썬에서 비공개 및 보호된 송성, 사용법, 관계, 한계"
   ]
  },
  {
   "cell_type": "markdown",
   "metadata": {},
   "source": [
    "## 9.1 객체 표현\n",
    "\n",
    "- `repr()` 내장 함수는 객체를 **개발자**가 보기 좋은 형태의 문자열로 변환한다.\n",
    "- `str()` 내장 함수는 객체를 **사용자**가 보기 좋은 형태의 문자열로 변환한다."
   ]
  },
  {
   "cell_type": "code",
   "execution_count": 114,
   "metadata": {},
   "outputs": [],
   "source": [
    "from array import array\n",
    "import math\n",
    "\n",
    "class Vector:\n",
    "    typecode = 'd'\n",
    "\n",
    "    def __init__(self, x, y):\n",
    "        self.x = float(x)\n",
    "        self.y = float(y)\n",
    "\n",
    "    def __iter__(self):       # __iter__ 를 통해서 iterable 하게 만들어 준다. -> 언패킹 가능\n",
    "        return (i for i in (self.x, self.y))\n",
    "\n",
    "    def __repr__(self):\n",
    "        class_name = type(self).__name__\n",
    "        return f\"repr-> {class_name}({self.x!r}, {self.y!r})\"\n",
    "        # return '{}({!r}, {!r})'.format(class_name, *self)\n",
    "\n",
    "    def __str__(self):\n",
    "        return \"str-> \" + str(tuple(self))\n",
    "\n",
    "    def __bytes__(self):\n",
    "        return (bytes([ord(self.typecode)]) +\n",
    "                bytes(array(self.typecode, self)))\n",
    "\n",
    "    def __eq__(self, other):\n",
    "        return tuple(self) == tuple(other)\n",
    "\n",
    "    def __abs__(self):\n",
    "        return math.hypot(self.x, self.y)       # hypot = sqrt(x**2 + y**2)) 빗변의 길이를 구함 (즉 벡터간의 거리를 의미함)\n",
    "\n",
    "    def __bool__(self):\n",
    "        return bool(abs(self))"
   ]
  },
  {
   "cell_type": "code",
   "execution_count": 119,
   "metadata": {},
   "outputs": [
    {
     "name": "stdout",
     "output_type": "stream",
     "text": [
      "3.0 4.0\n"
     ]
    }
   ],
   "source": [
    "v1 = Vector(3, 4)\n",
    "\n",
    "print(v1.x, v1.y)"
   ]
  },
  {
   "cell_type": "code",
   "execution_count": 120,
   "metadata": {},
   "outputs": [
    {
     "name": "stdout",
     "output_type": "stream",
     "text": [
      "3.0 4.0\n"
     ]
    }
   ],
   "source": [
    "print(*v1)      # *v1 을 통해서 언패킹 가능"
   ]
  },
  {
   "cell_type": "code",
   "execution_count": 121,
   "metadata": {},
   "outputs": [
    {
     "data": {
      "text/plain": [
       "(3.0, 4.0)"
      ]
     },
     "execution_count": 121,
     "metadata": {},
     "output_type": "execute_result"
    }
   ],
   "source": [
    "x, y = v1\n",
    "x, y"
   ]
  },
  {
   "cell_type": "code",
   "execution_count": 122,
   "metadata": {},
   "outputs": [
    {
     "name": "stdout",
     "output_type": "stream",
     "text": [
      "str-> (3.0, 4.0)\n"
     ]
    }
   ],
   "source": [
    "print(v1)       # print는 str을 호출한다."
   ]
  },
  {
   "cell_type": "code",
   "execution_count": 134,
   "metadata": {},
   "outputs": [
    {
     "data": {
      "text/plain": [
       "repr-> Vector(3.0, 4.0)"
      ]
     },
     "execution_count": 134,
     "metadata": {},
     "output_type": "execute_result"
    }
   ],
   "source": [
    "v1"
   ]
  },
  {
   "cell_type": "code",
   "execution_count": 129,
   "metadata": {},
   "outputs": [
    {
     "data": {
      "text/plain": [
       "b'd\\x00\\x00\\x00\\x00\\x00\\x00\\x08@\\x00\\x00\\x00\\x00\\x00\\x00\\x10@'"
      ]
     },
     "execution_count": 129,
     "metadata": {},
     "output_type": "execute_result"
    }
   ],
   "source": [
    "octets = bytes(v1)\n",
    "octets"
   ]
  },
  {
   "cell_type": "code",
   "execution_count": 80,
   "metadata": {},
   "outputs": [
    {
     "data": {
      "text/plain": [
       "5.0"
      ]
     },
     "execution_count": 80,
     "metadata": {},
     "output_type": "execute_result"
    }
   ],
   "source": [
    "abs(v1)"
   ]
  },
  {
   "cell_type": "code",
   "execution_count": 133,
   "metadata": {},
   "outputs": [
    {
     "data": {
      "text/plain": [
       "(True, False)"
      ]
     },
     "execution_count": 133,
     "metadata": {},
     "output_type": "execute_result"
    }
   ],
   "source": [
    "bool(v1), bool(Vector(0,0))"
   ]
  },
  {
   "cell_type": "code",
   "execution_count": 73,
   "metadata": {},
   "outputs": [
    {
     "name": "stdout",
     "output_type": "stream",
     "text": [
      "3.0\n",
      "4.0\n"
     ]
    }
   ],
   "source": [
    "for x in v1:\n",
    "    print(x)"
   ]
  },
  {
   "cell_type": "code",
   "execution_count": 132,
   "metadata": {},
   "outputs": [
    {
     "name": "stdout",
     "output_type": "stream",
     "text": [
      "True\n",
      "True\n"
     ]
    }
   ],
   "source": [
    "print(v1 == [3,4])      # 내부에서 tuple로 처리하기 때문에 True 반환\n",
    "print(v1 == (3,4))"
   ]
  },
  {
   "cell_type": "markdown",
   "metadata": {},
   "source": [
    "### Appendix: @dataclass\n",
    "<!-- https://hwiyong.tistory.com/420 -->\n",
    "\n",
    "python 3.7부터는 @dataclass 라는 데코레이터를 통해 간단하게 dataclass를 만들 수 있다.  \n",
    "(doc: https://docs.python.org/ko/3/library/dataclasses.html)\n",
    "```python\n",
    "from dataclasses import dataclass\n",
    "\n",
    "@dataclass\n",
    "class something:\n",
    "    object: str\n",
    "    value: int\n",
    "\n",
    "a = something(\"obj1\", 1)\n",
    "b = something(\"obj2\", 2)\n",
    "```"
   ]
  },
  {
   "cell_type": "code",
   "execution_count": 182,
   "metadata": {},
   "outputs": [
    {
     "name": "stdout",
     "output_type": "stream",
     "text": [
      "something(object='obj1', value=1)\n",
      "something(object='obj2', value=2)\n"
     ]
    }
   ],
   "source": [
    "from dataclasses import dataclass\n",
    "\n",
    "@dataclass\n",
    "class something:\n",
    "    object: str\n",
    "    value: int\n",
    "\n",
    "a = something(\"obj1\", 1)\n",
    "b = something(\"obj2\", 2)\n",
    "\n",
    "print(a)\n",
    "print(b)"
   ]
  },
  {
   "cell_type": "markdown",
   "metadata": {},
   "source": [
    "## 9.3 대안 생성자\n",
    "Vector를 bytes로 변환하는 메서드가 있으니, byte를 Vecotr로 변환할 수 있으면 좋겠다.  \n",
    "array.array의 표준 라이브러리에서 frombytes()라는 메서드를 사용해 byte를 Vector로 만드는 메서드를 클래스 메서드로 추가해보자.\n",
    "```python\n",
    "@classmethod\n",
    "def frombytes(cls, octets):\n",
    "    typecode = chr(octets[0])\n",
    "    memv = memoryview(octets[1:]).cast(typecode)\n",
    "    return cls(*memv)\n",
    "```"
   ]
  },
  {
   "cell_type": "code",
   "execution_count": 174,
   "metadata": {},
   "outputs": [],
   "source": [
    "from array import array\n",
    "import math\n",
    "\n",
    "class Vector:\n",
    "    typecode = 'd'\n",
    "\n",
    "    def __init__(self, x, y):\n",
    "        self.x = float(x)\n",
    "        self.y = float(y)\n",
    "\n",
    "    def __iter__(self):       # __iter__ 를 통해서 iterable 하게 만들어 준다. -> 언패킹 가능\n",
    "        return (i for i in (self.x, self.y))\n",
    "\n",
    "    def __repr__(self):\n",
    "        class_name = type(self).__name__\n",
    "        return f\"repr-> {class_name}({self.x!r}, {self.y!r})\"\n",
    "        # return '{}({!r}, {!r})'.format(class_name, *self)\n",
    "\n",
    "    def __str__(self):\n",
    "        return \"str-> \" + str(tuple(self))\n",
    "\n",
    "    def __bytes__(self):\n",
    "        return (bytes([ord(self.typecode)]) +\n",
    "                bytes(array(self.typecode, self)))\n",
    "\n",
    "    def __eq__(self, other):\n",
    "        return tuple(self) == tuple(other)\n",
    "\n",
    "    def __abs__(self):\n",
    "        return math.hypot(self.x, self.y)       # hypot = sqrt(x**2 + y**2)) 빗변의 길이를 구함 (즉 벡터간의 거리를 의미함)\n",
    "\n",
    "    def __bool__(self):\n",
    "        return bool(abs(self))\n",
    "\n",
    "    @classmethod\n",
    "    def frombytes(cls, octets):\n",
    "        typecode = chr(octets[0])\n",
    "        memv = memoryview(octets[1:]).cast(typecode)\n",
    "        return cls(*memv)"
   ]
  },
  {
   "cell_type": "code",
   "execution_count": 179,
   "metadata": {},
   "outputs": [
    {
     "name": "stdout",
     "output_type": "stream",
     "text": [
      "3.0 4.0\n",
      "3.0\n",
      "4.0\n"
     ]
    },
    {
     "data": {
      "text/plain": [
       "repr-> Vector(3.0, 4.0)"
      ]
     },
     "execution_count": 179,
     "metadata": {},
     "output_type": "execute_result"
    }
   ],
   "source": [
    "v1_clone = Vector.frombytes(bytes(v1))\n",
    "v1_clone"
   ]
  },
  {
   "cell_type": "code",
   "execution_count": 178,
   "metadata": {},
   "outputs": [
    {
     "data": {
      "text/plain": [
       "True"
      ]
     },
     "execution_count": 178,
     "metadata": {},
     "output_type": "execute_result"
    }
   ],
   "source": [
    "v1 == v1_clone"
   ]
  },
  {
   "cell_type": "code",
   "execution_count": null,
   "metadata": {},
   "outputs": [],
   "source": []
  }
 ],
 "metadata": {
  "kernelspec": {
   "display_name": "Python 3.8.13 ('estud')",
   "language": "python",
   "name": "python3"
  },
  "language_info": {
   "codemirror_mode": {
    "name": "ipython",
    "version": 3
   },
   "file_extension": ".py",
   "mimetype": "text/x-python",
   "name": "python",
   "nbconvert_exporter": "python",
   "pygments_lexer": "ipython3",
   "version": "3.8.13"
  },
  "orig_nbformat": 4,
  "vscode": {
   "interpreter": {
    "hash": "391b1e7ce2e81530d6fa13507e2cf4fd1c09c0aaf5e54d082942efacf0dd49e1"
   }
  }
 },
 "nbformat": 4,
 "nbformat_minor": 2
}
