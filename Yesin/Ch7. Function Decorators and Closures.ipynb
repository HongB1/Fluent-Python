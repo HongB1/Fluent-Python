{
 "cells": [
  {
   "cell_type": "markdown",
   "metadata": {},
   "source": [
    "# Chapter 7. 함수 데코레이터와 클로저"
   ]
  },
  {
   "cell_type": "markdown",
   "metadata": {},
   "source": [
    "## 7.1 데커레이터 기본 지식\n",
    "데커레이터는 다른 함수를 인수로 받는 콜러블(데커레이트된 함수)이다. 데커레이터는 데커레이트된 함수에 어떤 처리를 수행하고, 함수를 반환하거나 함수를 다른 함수나 콜러블 객체로 대체한다.\n",
    "\n",
    "예시처럼 decoreate라는 이름의 데커레이터가 있다면\n",
    "    \n",
    "```python\n",
    "@decorate\n",
    "def target():\n",
    "    print('running target()')\n",
    "```\n",
    "위 코드는 다음과 같이 작동한다\n",
    "```python\n",
    "def target():\n",
    "    print('running target()')\n",
    "\n",
    "target = decorate(target)\n",
    "```\n",
    "두 가지 코드는 동일하다. 두 코드를 실행하면 target은 원래의 target() 함수를 가리키는 것이 아니고 decorate(target)이 반환한 함수를 가리키게 된다. "
   ]
  },
  {
   "cell_type": "code",
   "execution_count": 4,
   "metadata": {},
   "outputs": [],
   "source": [
    "def deco(func):\n",
    "    def inner():\n",
    "        print('running inner()')\n",
    "    return inner\n",
    "\n",
    "@deco\n",
    "def target():\n",
    "    print('running target()')"
   ]
  },
  {
   "cell_type": "code",
   "execution_count": 8,
   "metadata": {},
   "outputs": [
    {
     "name": "stdout",
     "output_type": "stream",
     "text": [
      "running inner()\n"
     ]
    }
   ],
   "source": [
    "target()    # deco함수의 inner()가 실행된다."
   ]
  },
  {
   "cell_type": "code",
   "execution_count": 7,
   "metadata": {},
   "outputs": [
    {
     "data": {
      "text/plain": [
       "<function __main__.deco.<locals>.inner()>"
      ]
     },
     "execution_count": 7,
     "metadata": {},
     "output_type": "execute_result"
    }
   ],
   "source": [
    "target      # deco함수의 inner()를 가리키고 있음"
   ]
  },
  {
   "cell_type": "markdown",
   "metadata": {},
   "source": [
    "## 7.2 파이썬이 데커레이터를 실행하는 시점\n"
   ]
  },
  {
   "cell_type": "code",
   "execution_count": 14,
   "metadata": {},
   "outputs": [
    {
     "name": "stdout",
     "output_type": "stream",
     "text": [
      "running register(<function f1 at 0x105f00ca0>!!)\n",
      "running register(<function f2 at 0x105de08b0>!!)\n"
     ]
    }
   ],
   "source": [
    "# example 7-2. register.py\n",
    "registry = []\n",
    "\n",
    "def register(func):\n",
    "    print(f'running register({func}!!)')      # 데코레이터가 실행될 때마다 실행된다.\n",
    "    registry.append(func)\n",
    "    return func\n",
    "\n",
    "@register\n",
    "def f1():\n",
    "    print('running f1()')\n",
    "\n",
    "@register\n",
    "def f2():\n",
    "    print('running f2()')\n",
    "\n",
    "def f3():\n",
    "    print('running f3()')\n",
    "\n",
    "def main():\n",
    "    print('running main()')\n",
    "    print('registry ->', registry)\n",
    "    f1()\n",
    "    f2()\n",
    "    f3()"
   ]
  },
  {
   "cell_type": "code",
   "execution_count": 4,
   "metadata": {},
   "outputs": [
    {
     "name": "stdout",
     "output_type": "stream",
     "text": [
      "running main()\n",
      "registry -> [<function f1 at 0x106751dc0>, <function f2 at 0x106751e50>]\n",
      "running f1()\n",
      "running f2()\n",
      "running f3()\n"
     ]
    }
   ],
   "source": [
    "main()"
   ]
  },
  {
   "cell_type": "code",
   "execution_count": 12,
   "metadata": {},
   "outputs": [
    {
     "name": "stdout",
     "output_type": "stream",
     "text": [
      "running register(<function f1 at 0x1053e8160>)\n",
      "running register(<function f2 at 0x1053e81f0>)\n",
      "running main()\n",
      "registry -> [<function f1 at 0x1053e8160>, <function f2 at 0x1053e81f0>]\n",
      "running f1()\n",
      "running f2()\n",
      "running f3()\n"
     ]
    }
   ],
   "source": [
    "!python Ch7/register.py"
   ]
  },
  {
   "cell_type": "code",
   "execution_count": 16,
   "metadata": {},
   "outputs": [
    {
     "data": {
      "text/plain": [
       "[<function Ch7.register.f1()>, <function Ch7.register.f2()>]"
      ]
     },
     "execution_count": 16,
     "metadata": {},
     "output_type": "execute_result"
    }
   ],
   "source": [
    "from Ch7 import register\n",
    "\n",
    "register.registry"
   ]
  },
  {
   "cell_type": "markdown",
   "metadata": {},
   "source": [
    "## 7.3 데커레이터로 개선한 전략 패턴"
   ]
  },
  {
   "cell_type": "code",
   "execution_count": 22,
   "metadata": {},
   "outputs": [],
   "source": [
    "# example 7-3. promotion 데커레이터로 채운 promos 리스트\n",
    "\n",
    "promos = []\n",
    "\n",
    "def promotion(anything):\n",
    "    promos.append(anything)\n",
    "    return anything\n",
    "\n",
    "@promotion\n",
    "def fidelity(order):\n",
    "    \"\"\"충성도 포인트가 1000점 이상인 고객에게 5% 할인\"\"\"\n",
    "    return order.total() * .05 if order.customer.fidelity >= 1000 else 0\n",
    "\n",
    "@promotion\n",
    "def bulk_item(order):\n",
    "    \"\"\"20개 이상의 동일 상품을 구입하면 10% 할인\"\"\"\n",
    "    discount = 0\n",
    "    for item in order.cart:\n",
    "        if item.quantity >= 20:\n",
    "            discount += item.total() * .1\n",
    "    return discount\n",
    "\n",
    "@promotion\n",
    "def large_order(order):\n",
    "    \"\"\"10종류 이상의 상품을 구입하면 전체 구매 상품의 7% 할인\"\"\"\n",
    "    distinct_items = {item.product for item in order.cart}\n",
    "    if len(distinct_items) >= 10:\n",
    "        return order.total() * .07\n",
    "    return 0\n",
    "\n",
    "def best_promo(order):\n",
    "    \"\"\"최대로 할인해 줄 금액을 반환한다.\"\"\"\n",
    "    return max(promo(order) for promo in promos)\n"
   ]
  },
  {
   "cell_type": "code",
   "execution_count": 23,
   "metadata": {},
   "outputs": [
    {
     "data": {
      "text/plain": [
       "[<function __main__.fidelity(order)>,\n",
       " <function __main__.bulk_item(order)>,\n",
       " <function __main__.large_order(order)>]"
      ]
     },
     "execution_count": 23,
     "metadata": {},
     "output_type": "execute_result"
    }
   ],
   "source": [
    "promos"
   ]
  },
  {
   "cell_type": "markdown",
   "metadata": {},
   "source": [
    "## 7.4 변수 범위 규칙"
   ]
  },
  {
   "cell_type": "code",
   "execution_count": 24,
   "metadata": {},
   "outputs": [
    {
     "name": "stdout",
     "output_type": "stream",
     "text": [
      "3\n"
     ]
    },
    {
     "ename": "NameError",
     "evalue": "name 'b' is not defined",
     "output_type": "error",
     "traceback": [
      "\u001b[0;31m---------------------------------------------------------------------------\u001b[0m",
      "\u001b[0;31mNameError\u001b[0m                                 Traceback (most recent call last)",
      "\u001b[1;32m/Users/yesinkim/Bailando/Fluent-Python/Yesin/Ch7. Function Decorators and Closures.ipynb 셀 15\u001b[0m in \u001b[0;36m<cell line: 6>\u001b[0;34m()\u001b[0m\n\u001b[1;32m      <a href='vscode-notebook-cell:/Users/yesinkim/Bailando/Fluent-Python/Yesin/Ch7.%20Function%20Decorators%20and%20Closures.ipynb#X21sZmlsZQ%3D%3D?line=2'>3</a>\u001b[0m     \u001b[39mprint\u001b[39m(a)\n\u001b[1;32m      <a href='vscode-notebook-cell:/Users/yesinkim/Bailando/Fluent-Python/Yesin/Ch7.%20Function%20Decorators%20and%20Closures.ipynb#X21sZmlsZQ%3D%3D?line=3'>4</a>\u001b[0m     \u001b[39mprint\u001b[39m(b)\n\u001b[0;32m----> <a href='vscode-notebook-cell:/Users/yesinkim/Bailando/Fluent-Python/Yesin/Ch7.%20Function%20Decorators%20and%20Closures.ipynb#X21sZmlsZQ%3D%3D?line=5'>6</a>\u001b[0m f1(\u001b[39m3\u001b[39;49m)\n",
      "\u001b[1;32m/Users/yesinkim/Bailando/Fluent-Python/Yesin/Ch7. Function Decorators and Closures.ipynb 셀 15\u001b[0m in \u001b[0;36mf1\u001b[0;34m(a)\u001b[0m\n\u001b[1;32m      <a href='vscode-notebook-cell:/Users/yesinkim/Bailando/Fluent-Python/Yesin/Ch7.%20Function%20Decorators%20and%20Closures.ipynb#X21sZmlsZQ%3D%3D?line=1'>2</a>\u001b[0m \u001b[39mdef\u001b[39;00m \u001b[39mf1\u001b[39m(a):\n\u001b[1;32m      <a href='vscode-notebook-cell:/Users/yesinkim/Bailando/Fluent-Python/Yesin/Ch7.%20Function%20Decorators%20and%20Closures.ipynb#X21sZmlsZQ%3D%3D?line=2'>3</a>\u001b[0m     \u001b[39mprint\u001b[39m(a)\n\u001b[0;32m----> <a href='vscode-notebook-cell:/Users/yesinkim/Bailando/Fluent-Python/Yesin/Ch7.%20Function%20Decorators%20and%20Closures.ipynb#X21sZmlsZQ%3D%3D?line=3'>4</a>\u001b[0m     \u001b[39mprint\u001b[39m(b)\n",
      "\u001b[0;31mNameError\u001b[0m: name 'b' is not defined"
     ]
    }
   ],
   "source": [
    "# 지역 및 전역 변수를 읽는 함수\n",
    "def f1(a):\n",
    "    print(a)\n",
    "    print(b)\n",
    "\n",
    "f1(3)"
   ]
  },
  {
   "cell_type": "code",
   "execution_count": 26,
   "metadata": {},
   "outputs": [
    {
     "name": "stdout",
     "output_type": "stream",
     "text": [
      "3\n",
      "6\n"
     ]
    }
   ],
   "source": [
    "# 지역변수가 없으면 전역변수를 참조한다.\n",
    "b = 6\n",
    "f1(3)"
   ]
  },
  {
   "cell_type": "code",
   "execution_count": 32,
   "metadata": {},
   "outputs": [
    {
     "name": "stdout",
     "output_type": "stream",
     "text": [
      "3\n"
     ]
    },
    {
     "ename": "UnboundLocalError",
     "evalue": "local variable 'b' referenced before assignment",
     "output_type": "error",
     "traceback": [
      "\u001b[0;31m---------------------------------------------------------------------------\u001b[0m",
      "\u001b[0;31mUnboundLocalError\u001b[0m                         Traceback (most recent call last)",
      "\u001b[1;32m/Users/yesinkim/Bailando/Fluent-Python/Yesin/Ch7. Function Decorators and Closures.ipynb 셀 17\u001b[0m in \u001b[0;36m<cell line: 7>\u001b[0;34m()\u001b[0m\n\u001b[1;32m      <a href='vscode-notebook-cell:/Users/yesinkim/Bailando/Fluent-Python/Yesin/Ch7.%20Function%20Decorators%20and%20Closures.ipynb#X24sZmlsZQ%3D%3D?line=3'>4</a>\u001b[0m     \u001b[39mprint\u001b[39m(b)\n\u001b[1;32m      <a href='vscode-notebook-cell:/Users/yesinkim/Bailando/Fluent-Python/Yesin/Ch7.%20Function%20Decorators%20and%20Closures.ipynb#X24sZmlsZQ%3D%3D?line=4'>5</a>\u001b[0m     b \u001b[39m=\u001b[39m \u001b[39m9\u001b[39m\n\u001b[0;32m----> <a href='vscode-notebook-cell:/Users/yesinkim/Bailando/Fluent-Python/Yesin/Ch7.%20Function%20Decorators%20and%20Closures.ipynb#X24sZmlsZQ%3D%3D?line=6'>7</a>\u001b[0m f2(\u001b[39m3\u001b[39;49m)\n",
      "\u001b[1;32m/Users/yesinkim/Bailando/Fluent-Python/Yesin/Ch7. Function Decorators and Closures.ipynb 셀 17\u001b[0m in \u001b[0;36mf2\u001b[0;34m(a)\u001b[0m\n\u001b[1;32m      <a href='vscode-notebook-cell:/Users/yesinkim/Bailando/Fluent-Python/Yesin/Ch7.%20Function%20Decorators%20and%20Closures.ipynb#X24sZmlsZQ%3D%3D?line=1'>2</a>\u001b[0m \u001b[39mdef\u001b[39;00m \u001b[39mf2\u001b[39m(a):\n\u001b[1;32m      <a href='vscode-notebook-cell:/Users/yesinkim/Bailando/Fluent-Python/Yesin/Ch7.%20Function%20Decorators%20and%20Closures.ipynb#X24sZmlsZQ%3D%3D?line=2'>3</a>\u001b[0m     \u001b[39mprint\u001b[39m(a)\n\u001b[0;32m----> <a href='vscode-notebook-cell:/Users/yesinkim/Bailando/Fluent-Python/Yesin/Ch7.%20Function%20Decorators%20and%20Closures.ipynb#X24sZmlsZQ%3D%3D?line=3'>4</a>\u001b[0m     \u001b[39mprint\u001b[39m(b)\n\u001b[1;32m      <a href='vscode-notebook-cell:/Users/yesinkim/Bailando/Fluent-Python/Yesin/Ch7.%20Function%20Decorators%20and%20Closures.ipynb#X24sZmlsZQ%3D%3D?line=4'>5</a>\u001b[0m     b \u001b[39m=\u001b[39m \u001b[39m9\u001b[39m\n",
      "\u001b[0;31mUnboundLocalError\u001b[0m: local variable 'b' referenced before assignment"
     ]
    }
   ],
   "source": [
    "b = 6\n",
    "def f2(a):\n",
    "    print(a)\n",
    "    print(b)\n",
    "    b = 9\n",
    "\n",
    "f2(3)"
   ]
  },
  {
   "cell_type": "code",
   "execution_count": 35,
   "metadata": {},
   "outputs": [
    {
     "name": "stdout",
     "output_type": "stream",
     "text": [
      "3\n",
      "6\n"
     ]
    }
   ],
   "source": [
    "# 지역변수가 있지만 전역변수를 가져오고 싶다면 global 키워드를 사용한다.\n",
    "b = 6\n",
    "def f3(a):\n",
    "    global b\n",
    "    print(a)\n",
    "    print(b)\n",
    "    b = 9\n",
    "\n",
    "f3(3)"
   ]
  },
  {
   "cell_type": "code",
   "execution_count": 39,
   "metadata": {},
   "outputs": [
    {
     "name": "stdout",
     "output_type": "stream",
     "text": [
      "  3           0 LOAD_GLOBAL              0 (print)\n",
      "              2 LOAD_FAST                0 (a)\n",
      "              4 CALL_FUNCTION            1\n",
      "              6 POP_TOP\n",
      "\n",
      "  4           8 LOAD_GLOBAL              0 (print)\n",
      "             10 LOAD_GLOBAL              1 (b)\n",
      "             12 CALL_FUNCTION            1\n",
      "             14 POP_TOP\n",
      "             16 LOAD_CONST               0 (None)\n",
      "             18 RETURN_VALUE\n",
      "None========================================\n",
      "  3           0 LOAD_GLOBAL              0 (print)\n",
      "              2 LOAD_FAST                0 (a)\n",
      "              4 CALL_FUNCTION            1\n",
      "              6 POP_TOP\n",
      "\n",
      "  4           8 LOAD_GLOBAL              0 (print)\n",
      "             10 LOAD_FAST                1 (b)\n",
      "             12 CALL_FUNCTION            1\n",
      "             14 POP_TOP\n",
      "\n",
      "  5          16 LOAD_CONST               1 (9)\n",
      "             18 STORE_FAST               1 (b)\n",
      "             20 LOAD_CONST               0 (None)\n",
      "             22 RETURN_VALUE\n",
      "None========================================\n",
      "  5           0 LOAD_GLOBAL              0 (print)\n",
      "              2 LOAD_FAST                0 (a)\n",
      "              4 CALL_FUNCTION            1\n",
      "              6 POP_TOP\n",
      "\n",
      "  6           8 LOAD_GLOBAL              0 (print)\n",
      "             10 LOAD_GLOBAL              1 (b)\n",
      "             12 CALL_FUNCTION            1\n",
      "             14 POP_TOP\n",
      "\n",
      "  7          16 LOAD_CONST               1 (9)\n",
      "             18 STORE_GLOBAL             1 (b)\n",
      "             20 LOAD_CONST               0 (None)\n",
      "             22 RETURN_VALUE\n",
      "None========================================\n"
     ]
    }
   ],
   "source": [
    "# BYTE CODE\n",
    "from dis import dis\n",
    "\n",
    "print(dis(f1),end='========================================\\n')\n",
    "print(dis(f2),end='========================================\\n')\n",
    "print(dis(f3),end='========================================\\n')"
   ]
  },
  {
   "cell_type": "markdown",
   "metadata": {},
   "source": [
    "## 7.5 클로저(Closure)\n",
    "클로져 != 익명함수\n",
    "클로저는 함수 본체에서 정의하지 않고 참조하는 비전역(nonlocal)변수를 포함한 확장 범위를 가진 함수다. 익명 함수여부는 중요하지 않고, 함수 본체 외부에 정의된 비전역 변수에 접근할 수 있다는 것이 중요하다.  \n",
    "아래의 예제에서 `avg()`함수가 점차 증가하는 일련의 값의 평균을 계산한다고 가정했을 때, `avg()`함수는 `series`변수를 참조한다. `series`변수는 `avg()`함수의 본체에서 정의되지 않았다. 따라서 `avg()`함수는 `series`변수를 포함한 확장 범위를 가진다. 이런 함수를 클로저라고 한다.\n",
    "\n",
    "```python\n",
    ">>> avg(10)\n",
    "10.0\n",
    ">>> avg(11)\n",
    "10.5\n",
    ">>> avg(12)\n",
    "11.0\n",
    "```\n"
   ]
  },
  {
   "cell_type": "markdown",
   "metadata": {},
   "source": [
    "avg()는 이전 값을 어떻게 기억하고 있는 것인지 클래스를 이용해서 구현해서 살펴봅니다"
   ]
  },
  {
   "cell_type": "code",
   "execution_count": 40,
   "metadata": {},
   "outputs": [],
   "source": [
    "class Averager:\n",
    "    def __init__(self):\n",
    "        self.series = []\n",
    "\n",
    "    def __call__(self, new_value):\n",
    "        self.series.append(new_value)\n",
    "        total = sum(self.series)\n",
    "        return total / len(self.series)"
   ]
  },
  {
   "cell_type": "code",
   "execution_count": 3,
   "metadata": {},
   "outputs": [
    {
     "name": "stdout",
     "output_type": "stream",
     "text": [
      "10.0\n",
      "10.5\n",
      "11.0\n"
     ]
    }
   ],
   "source": [
    "avg = Averager()\n",
    "\n",
    "print(avg(10))\n",
    "print(avg(11))\n",
    "print(avg(12))"
   ]
  },
  {
   "cell_type": "code",
   "execution_count": 4,
   "metadata": {},
   "outputs": [],
   "source": [
    "def make_averager():\n",
    "    series = []\n",
    "    \n",
    "    # ----클로저 -----\n",
    "    def averager(new_value):\n",
    "        series.append(new_value)        # serise는 자유 변수\n",
    "        total = sum(series)\n",
    "        return total / len(series)\n",
    "\n",
    "    return averager"
   ]
  },
  {
   "cell_type": "code",
   "execution_count": 18,
   "metadata": {},
   "outputs": [
    {
     "name": "stdout",
     "output_type": "stream",
     "text": [
      "10.0\n",
      "10.5\n",
      "11.0\n"
     ]
    }
   ],
   "source": [
    "avg = make_averager()\n",
    "\n",
    "print(avg(10))\n",
    "print(avg(11))\n",
    "print(avg(12))"
   ]
  },
  {
   "cell_type": "markdown",
   "metadata": {},
   "source": [
    "`Averager` class의 a`vg()`함수가 데이터를 보관하는 방법은 `self.series` 에 저장된다. 하지만 클로저의 `avg()`함수는 어디서 찾을 수 있을까?\n",
    "`make_averager()` 함수안에서 series = []로 초기화하고 있으므로 `series`는 해당 함수의 지역 변수이다. 하지만 `avg(10)`을 호출할 때, make_average()함수는 이미 반환했으므로 지역 범위도 이미 사라졌다.\n",
    "그렇기 때문에 average 안에 있는 **series는 자유변수(free variable)** 이다. 자유 변수는 지역 범위에 바인딩되어 있지 않은 변수를 의미한다."
   ]
  },
  {
   "cell_type": "code",
   "execution_count": 27,
   "metadata": {},
   "outputs": [
    {
     "name": "stdout",
     "output_type": "stream",
     "text": [
      "('new_value', 'total')\n",
      "('series',)\n"
     ]
    }
   ],
   "source": [
    "print(avg.__code__.co_varnames)     # (지역)변수이름\n",
    "print(avg.__code__.co_freevars)     # 자유변수"
   ]
  },
  {
   "cell_type": "code",
   "execution_count": 26,
   "metadata": {},
   "outputs": [
    {
     "name": "stdout",
     "output_type": "stream",
     "text": [
      "('series',)\n",
      "(<cell at 0x106f3ca90: list object at 0x107cd0cc0>,)\n",
      "[10, 11, 12]\n"
     ]
    }
   ],
   "source": [
    "# series에 대한 바인딩은 반환된 avg()함수의 __closure__ 속성에 저장된다.\n",
    "print(avg.__code__.co_freevars)\n",
    "print(avg.__closure__)\n",
    "print(avg.__closure__[0].cell_contents) # 각 항목은 co freevars이름에 대응된다.\n"
   ]
  },
  {
   "cell_type": "markdown",
   "metadata": {},
   "source": [
    "## 7.6 nonlocal 선언\n",
    "앞에서 구현한 make_averager()는 효율적이지 않다. 잘못된 코드에서 잘 못된 부분을 찾아보자"
   ]
  },
  {
   "cell_type": "code",
   "execution_count": 29,
   "metadata": {},
   "outputs": [],
   "source": [
    "def make_averager():\n",
    "    count = 0\n",
    "    total = 0\n",
    "    \n",
    "    def averager(new_value):\n",
    "        count += 1\n",
    "        total += new_value\n",
    "        return total / count\n",
    "\n",
    "    return averager"
   ]
  },
  {
   "cell_type": "code",
   "execution_count": 30,
   "metadata": {},
   "outputs": [
    {
     "ename": "UnboundLocalError",
     "evalue": "local variable 'count' referenced before assignment",
     "output_type": "error",
     "traceback": [
      "\u001b[0;31m---------------------------------------------------------------------------\u001b[0m",
      "\u001b[0;31mUnboundLocalError\u001b[0m                         Traceback (most recent call last)",
      "\u001b[1;32m/Users/yesinkim/Bailando/Fluent-Python/Yesin/Ch7. Function Decorators and Closures.ipynb 셀 31\u001b[0m in \u001b[0;36m<cell line: 2>\u001b[0;34m()\u001b[0m\n\u001b[1;32m      <a href='vscode-notebook-cell:/Users/yesinkim/Bailando/Fluent-Python/Yesin/Ch7.%20Function%20Decorators%20and%20Closures.ipynb#X44sZmlsZQ%3D%3D?line=0'>1</a>\u001b[0m avg \u001b[39m=\u001b[39m make_averager()\n\u001b[0;32m----> <a href='vscode-notebook-cell:/Users/yesinkim/Bailando/Fluent-Python/Yesin/Ch7.%20Function%20Decorators%20and%20Closures.ipynb#X44sZmlsZQ%3D%3D?line=1'>2</a>\u001b[0m \u001b[39mprint\u001b[39m(avg(\u001b[39m10\u001b[39;49m))\n",
      "\u001b[1;32m/Users/yesinkim/Bailando/Fluent-Python/Yesin/Ch7. Function Decorators and Closures.ipynb 셀 31\u001b[0m in \u001b[0;36mmake_averager.<locals>.averager\u001b[0;34m(new_value)\u001b[0m\n\u001b[1;32m      <a href='vscode-notebook-cell:/Users/yesinkim/Bailando/Fluent-Python/Yesin/Ch7.%20Function%20Decorators%20and%20Closures.ipynb#X44sZmlsZQ%3D%3D?line=4'>5</a>\u001b[0m \u001b[39mdef\u001b[39;00m \u001b[39maverager\u001b[39m(new_value):\n\u001b[0;32m----> <a href='vscode-notebook-cell:/Users/yesinkim/Bailando/Fluent-Python/Yesin/Ch7.%20Function%20Decorators%20and%20Closures.ipynb#X44sZmlsZQ%3D%3D?line=5'>6</a>\u001b[0m     count \u001b[39m+\u001b[39m\u001b[39m=\u001b[39m \u001b[39m1\u001b[39m\n\u001b[1;32m      <a href='vscode-notebook-cell:/Users/yesinkim/Bailando/Fluent-Python/Yesin/Ch7.%20Function%20Decorators%20and%20Closures.ipynb#X44sZmlsZQ%3D%3D?line=6'>7</a>\u001b[0m     total \u001b[39m+\u001b[39m\u001b[39m=\u001b[39m new_value\n\u001b[1;32m      <a href='vscode-notebook-cell:/Users/yesinkim/Bailando/Fluent-Python/Yesin/Ch7.%20Function%20Decorators%20and%20Closures.ipynb#X44sZmlsZQ%3D%3D?line=7'>8</a>\u001b[0m     \u001b[39mreturn\u001b[39;00m total \u001b[39m/\u001b[39m count\n",
      "\u001b[0;31mUnboundLocalError\u001b[0m: local variable 'count' referenced before assignment"
     ]
    }
   ],
   "source": [
    "avg = make_averager()\n",
    "print(avg(10))      # closure에서 count와 total을 사용할 수 없다."
   ]
  },
  {
   "cell_type": "code",
   "execution_count": 31,
   "metadata": {},
   "outputs": [],
   "source": [
    "def make_averager():\n",
    "    count = 0\n",
    "    total = 0\n",
    "    \n",
    "    def averager(new_value):\n",
    "        nonlocal count, total\n",
    "        count += 1\n",
    "        total += new_value\n",
    "        return total / count\n",
    "\n",
    "    return averager"
   ]
  },
  {
   "cell_type": "code",
   "execution_count": 32,
   "metadata": {},
   "outputs": [
    {
     "name": "stdout",
     "output_type": "stream",
     "text": [
      "10.0\n"
     ]
    }
   ],
   "source": [
    "avg = make_averager()\n",
    "print(avg(10))"
   ]
  },
  {
   "cell_type": "markdown",
   "metadata": {},
   "source": [
    "## 7.7 간단한 데코레이터 구현하기\n",
    "데코레이터된 함수를 호출할 때 마다 시간을 측정해서 실행에 소요된 시간, 전달된 인수, 반환값을 출력하는 데코레이터를 만들어보자"
   ]
  },
  {
   "cell_type": "code",
   "execution_count": 33,
   "metadata": {},
   "outputs": [],
   "source": [
    "import time\n",
    "\n",
    "def clock(func):\n",
    "    def clocked(*args):\n",
    "        t0 = time.perf_counter()\n",
    "        result = func(*args)\n",
    "        elapsed = time.perf_counter() - t0\n",
    "        name = func.__name__\n",
    "        arg_str = ', '.join(repr(arg) for arg in args)\n",
    "        print('[%0.8fs] %s(%s) -> %r' % (elapsed, name, arg_str, result))\n",
    "        return result\n",
    "    return clocked"
   ]
  },
  {
   "cell_type": "code",
   "execution_count": 34,
   "metadata": {},
   "outputs": [
    {
     "name": "stdout",
     "output_type": "stream",
     "text": [
      "**************************************** Calling snooze(.123)\n",
      "[0.12803154s] snooze(0.123) -> None\n",
      "**************************************** Calling factorial(6)\n",
      "[0.00000033s] factorial(1) -> 1\n",
      "[0.00000642s] factorial(2) -> 2\n",
      "[0.00001054s] factorial(3) -> 6\n",
      "[0.00001379s] factorial(4) -> 24\n",
      "[0.00001792s] factorial(5) -> 120\n",
      "[0.00002171s] factorial(6) -> 720\n",
      "6! = 720\n"
     ]
    }
   ],
   "source": [
    "import time\n",
    "\n",
    "@clock\n",
    "def snooze(seconds):\n",
    "    time.sleep(seconds)\n",
    "\n",
    "@clock\n",
    "def factorial(n):\n",
    "    return 1 if n < 2 else n * factorial(n-1)\n",
    "\n",
    "if __name__ == '__main__':\n",
    "    print('*' * 40, 'Calling snooze(.123)')\n",
    "    snooze(.123)\n",
    "    print('*' * 40, 'Calling factorial(6)')\n",
    "    print('6! =', factorial(6))"
   ]
  },
  {
   "cell_type": "code",
   "execution_count": 37,
   "metadata": {},
   "outputs": [],
   "source": [
    "# 위의 코드는 아래코드와 같다.\n",
    "@clock\n",
    "def factorial(n):\n",
    "    return 1 if n < 2 else n * factorial(n-1)"
   ]
  },
  {
   "cell_type": "code",
   "execution_count": 53,
   "metadata": {},
   "outputs": [
    {
     "data": {
      "text/plain": [
       "'clocked'"
      ]
     },
     "execution_count": 53,
     "metadata": {},
     "output_type": "execute_result"
    }
   ],
   "source": [
    "def clock(func):\n",
    "    def clocked(*args):\n",
    "        t0 = time.perf_counter()\n",
    "        result = func(*args)\n",
    "        elapsed = time.perf_counter() - t0\n",
    "        name = func.__name__\n",
    "        arg_str = ', '.join(repr(arg) for arg in args)\n",
    "        print('[%0.8fs] %s(%s) -> %r' % (elapsed, name, arg_str, result))\n",
    "        return result\n",
    "    return clocked\n",
    "\n",
    "def factorial(n):\n",
    "    return 1 if n < 2 else n * factorial(n-1)\n",
    "factorial = clock(factorial)\n",
    "factorial.__name__"
   ]
  },
  {
   "cell_type": "markdown",
   "metadata": {},
   "source": [
    "위에서 구현한 clock()데커레이터는 단점이 몇 가지 있다. 키워드 인수를 지원하지 않으며, 데커레이트된 함수의 ___name__과 __doc__속성을 가린다. functools.wraps 데커레이터를 사용하면 이런 문제를 해결할 수 있다."
   ]
  },
  {
   "cell_type": "code",
   "execution_count": 52,
   "metadata": {},
   "outputs": [],
   "source": [
    "import functools\n",
    "\n",
    "def clock2(func):\n",
    "    @functools.wraps(func)\n",
    "    def clocked(*args, **kwargs):\n",
    "        t0 = time.perf_counter()\n",
    "        result = func(*args, **kwargs)\n",
    "        elapsed = time.perf_counter() - t0\n",
    "        name = func.__name__\n",
    "        arg_lst = []\n",
    "\n",
    "        if args:\n",
    "            arg_lst.append(', '.join(repr(arg) for arg in args))\n",
    "\n",
    "        if kwargs:\n",
    "            pairs = ['%s=%r' % (k, w) for k, w in sorted(kwargs.items())]\n",
    "            arg_lst.append(', '.join(pairs))\n",
    "        arg_str = ', '.join(arg_lst)\n",
    "        print('[%0.8fs] %s(%s) -> %r' % (elapsed, name, arg_str, result))\n",
    "        return result"
   ]
  },
  {
   "cell_type": "markdown",
   "metadata": {},
   "source": [
    "## 7.8 표준 라이브러리에서 제공하는 데코레이터\n",
    "파이썬에서는 기본 데코레이터로 사용할 수 있는 property(), classmethod(), staticmethod()같은 내장함수를 제공한다. 다 나중에 설명한다고 합니다.\n",
    "자주 볼 수 있는 functools.wraps()가 있다. 이 함수는 제대로 작동하는 데코레이터를 만들기 위한 것이다. 표준 라이브러리가 제공하는 데코레이터들 중 lru_cache()와 singledispatch()는 흥미롭다. lru_cache()는 함수의 반환값을 메모이제이션해서 이전에 호출한 인수에 대한 결과를 빠르게 반환한다. singledispatch()는 함수를 여러 구현으로 다형성을 제공한다."
   ]
  },
  {
   "cell_type": "markdown",
   "metadata": {},
   "source": [
    "### 7.8.1 functools.lru_cache()를 이용한 메모이제이션\n",
    "functools.lru_cache()는 실제로 쓸모가 많은 데코레이터로, 메모이제이션(memoization)을 구현한다. 메모이제이션은 이전에 실행한 값비싼 함수의 결과를 저장함으로써 이전에 사용된 인수에 대해 다시 계산할 필요가 없게 해준다. 이름 앞에 붙은 LRU(least recently used)는 메모이제이션에 사용된 항목을 제거할 때 사용된다. 이 데코레이터는 인수가 해시 가능해야 한다. 그렇지 않으면 TypeError가 발생한다.\n",
    "아래예시에서 처럼 n번째 피보나치 수열을 생성하기 위해 아주 느리게 실행되는 재귀 함수에서 lru_cache() 데코레이터가 진가를 발휘한다."
   ]
  },
  {
   "cell_type": "code",
   "execution_count": 54,
   "metadata": {},
   "outputs": [
    {
     "name": "stdout",
     "output_type": "stream",
     "text": [
      "[0.00000071s] fibonacci(0) -> 0\n",
      "[0.00000100s] fibonacci(1) -> 1\n",
      "[0.00188829s] fibonacci(2) -> 1\n",
      "[0.00000058s] fibonacci(1) -> 1\n",
      "[0.00000071s] fibonacci(0) -> 0\n",
      "[0.00000058s] fibonacci(1) -> 1\n",
      "[0.00002183s] fibonacci(2) -> 1\n",
      "[0.00004329s] fibonacci(3) -> 2\n",
      "[0.00195287s] fibonacci(4) -> 3\n",
      "[0.00000054s] fibonacci(1) -> 1\n",
      "[0.00000058s] fibonacci(0) -> 0\n",
      "[0.00000050s] fibonacci(1) -> 1\n",
      "[0.00002125s] fibonacci(2) -> 1\n",
      "[0.00004187s] fibonacci(3) -> 2\n",
      "[0.00000050s] fibonacci(0) -> 0\n",
      "[0.00000054s] fibonacci(1) -> 1\n",
      "[0.00002087s] fibonacci(2) -> 1\n",
      "[0.00000058s] fibonacci(1) -> 1\n",
      "[0.00000058s] fibonacci(0) -> 0\n",
      "[0.00000054s] fibonacci(1) -> 1\n",
      "[0.00002129s] fibonacci(2) -> 1\n",
      "[0.00004192s] fibonacci(3) -> 2\n",
      "[0.00008258s] fibonacci(4) -> 3\n",
      "[0.00014454s] fibonacci(5) -> 5\n",
      "[0.00213025s] fibonacci(6) -> 8\n",
      "8\n"
     ]
    }
   ],
   "source": [
    "@clock\n",
    "def fibonacci(n):\n",
    "    if n < 2:\n",
    "        return n\n",
    "    return fibonacci(n-2) + fibonacci(n-1)\n",
    "\n",
    "print(fibonacci(6))"
   ]
  },
  {
   "cell_type": "code",
   "execution_count": 65,
   "metadata": {},
   "outputs": [
    {
     "name": "stdout",
     "output_type": "stream",
     "text": [
      "[0.00000075s] fibonacci(0) -> 0\n",
      "[0.00000096s] fibonacci(1) -> 1\n",
      "[0.00009625s] fibonacci(2) -> 1\n",
      "[0.00000108s] fibonacci(3) -> 2\n",
      "[0.00012008s] fibonacci(4) -> 3\n",
      "[0.00000083s] fibonacci(5) -> 5\n",
      "[0.00015083s] fibonacci(6) -> 8\n",
      "8\n"
     ]
    }
   ],
   "source": [
    "# 캐시를 이용해 더 빠르게 구현합니다.\n",
    "\n",
    "@functools.lru_cache()\n",
    "\n",
    "@clock      # 오 이런식으로 데코레이터를 떨어뜨려놔도 되는건지요?\n",
    "\n",
    "\n",
    "def fibonacci(n):\n",
    "    if n < 2:\n",
    "        return n\n",
    "    return fibonacci(n-2) + fibonacci(n-1)\n",
    "\n",
    "print(fibonacci(6))"
   ]
  },
  {
   "cell_type": "code",
   "execution_count": 66,
   "metadata": {},
   "outputs": [
    {
     "data": {
      "text/plain": [
       "'\\nmaxsize: 저장할 아규먼트의 개수\\ntyped: 아규먼트의 자료형을 구분할지 여부\\n'"
      ]
     },
     "execution_count": 66,
     "metadata": {},
     "output_type": "execute_result"
    }
   ],
   "source": [
    "functools.lru_cache(maxsize=128, typed=False)\n",
    "\"\"\"\n",
    "maxsize: 저장할 아규먼트의 개수\n",
    "typed: 아규먼트의 자료형을 구분할지 여부\n",
    "\"\"\""
   ]
  },
  {
   "cell_type": "markdown",
   "metadata": {},
   "source": [
    "### 7.8.2 단일 디스패치를 이용한 범용 함수\n",
    "웹 어플리케이션을 디버깅하는 도구를 만들고 있다. 파이썬 객체의 자료형마다 HTML코드를 생성하고자 한다."
   ]
  },
  {
   "cell_type": "code",
   "execution_count": 67,
   "metadata": {},
   "outputs": [],
   "source": [
    "import html\n",
    "\n",
    "def htmlize(obj):\n",
    "    content = html.escape(repr(obj))\n",
    "    return '<pre>{}</pre>'.format(content)"
   ]
  },
  {
   "cell_type": "code",
   "execution_count": 69,
   "metadata": {},
   "outputs": [
    {
     "name": "stdout",
     "output_type": "stream",
     "text": [
      "<pre>{1, 2, 3}</pre>\n",
      "<pre>&lt;built-in function abs&gt;</pre>\n",
      "<pre>&#x27;Heimlich &amp; Co.\\n- a game&#x27;</pre>\n",
      "<pre>42</pre>\n",
      "<pre>[&#x27;alpha&#x27;, 66, {1, 2, 3}]</pre>\n"
     ]
    }
   ],
   "source": [
    "print(htmlize({1, 2, 3}))\n",
    "print(htmlize(abs))\n",
    "print(htmlize('Heimlich & Co.\\n- a game'))\n",
    "print(htmlize(42))\n",
    "print(htmlize(['alpha', 66, {3, 2, 1}]))"
   ]
  },
  {
   "cell_type": "markdown",
   "metadata": {},
   "source": [
    "singledpatch() 데코레이터로 범용 함수를 만들어주자"
   ]
  },
  {
   "cell_type": "code",
   "execution_count": 71,
   "metadata": {},
   "outputs": [],
   "source": [
    "from functools import singledispatch\n",
    "from collections import abc\n",
    "import numbers\n",
    "import html\n",
    "\n",
    "@singledispatch\n",
    "def htmlize(obj):\n",
    "    content = html.escape(repr(obj))\n",
    "    return '<pre>{}</pre>'.format(content)\n",
    "\n",
    "@htmlize.register(str)\n",
    "def _(text):\n",
    "    content = html.escape(text).replace('\\n', '<br>\\n')\n",
    "    return '<p>{0}</p>'.format(content)\n",
    "\n",
    "@htmlize.register(numbers.Integral)\n",
    "def _(n):\n",
    "    return '<pre>{0} (0x{0:x})</pre>'.format(n)\n",
    "\n",
    "@htmlize.register(tuple)\n",
    "@htmlize.register(abc.MutableSequence)\n",
    "def _(seq):\n",
    "    inner = '</li>\\n<li>'.join(htmlize(item) for item in seq)\n",
    "    return '<ul>\\n<li>' + inner + '</li>\\n</ul>'\n"
   ]
  },
  {
   "cell_type": "code",
   "execution_count": 72,
   "metadata": {},
   "outputs": [
    {
     "name": "stdout",
     "output_type": "stream",
     "text": [
      "<pre>{1, 2, 3}</pre>\n",
      "<pre>&lt;built-in function abs&gt;</pre>\n",
      "<p>Heimlich &amp; Co.<br>\n",
      "- a game</p>\n",
      "<pre>42 (0x2a)</pre>\n",
      "<ul>\n",
      "<li><p>alpha</p></li>\n",
      "<li><pre>66 (0x42)</pre></li>\n",
      "<li><pre>{1, 2, 3}</pre></li>\n",
      "</ul>\n"
     ]
    }
   ],
   "source": [
    "print(htmlize({1, 2, 3}))\n",
    "print(htmlize(abs))\n",
    "print(htmlize('Heimlich & Co.\\n- a game'))\n",
    "print(htmlize(42))\n",
    "print(htmlize(['alpha', 66, {3, 2, 1}]))"
   ]
  },
  {
   "cell_type": "markdown",
   "metadata": {},
   "source": [
    "## 7.9 누적된 데코레이터\n",
    "데코레이터를 여러 개 적용할 수 있다. 데코레이터를 적용하면 함수가 데코레이터로 감싸지고, 그 결과는 다른 함수로 감싸진다. 이런식으로 데코레이터를 적용하면 데코레이터가 적용된 함수는 데코레이터가 적용된 순서의 역순으로 실행된다.\n",
    "```python\n",
    "@decorator1\n",
    "@decorator2\n",
    "def func():\n",
    "    pass\n",
    "```\n",
    "위 코드는 아래 코드와 같다.\n",
    "```python\n",
    "def func():\n",
    "    pass\n",
    "func = decorator1(decorator2(func))\n",
    "```"
   ]
  },
  {
   "cell_type": "markdown",
   "metadata": {},
   "source": [
    "## 7.10 매개변수화된 데코레이터\n",
    "데코레이터를 파싱할 때 파이썬은 데코레이트된 함수를 가져와서 데코레이터에 인수로 넘겨준다. 그러면 어떻게 다른 인수를 받는 데코레이터를 만들 수 있을까? 설명이 복잡하다고 하니 예시로 살펴보자"
   ]
  },
  {
   "cell_type": "code",
   "execution_count": 78,
   "metadata": {},
   "outputs": [
    {
     "name": "stdout",
     "output_type": "stream",
     "text": [
      "running register(<function f1 at 0x107e1ee50>)\n",
      "running main()\n",
      "registry -> [<function f1 at 0x107e1ee50>]\n"
     ]
    }
   ],
   "source": [
    "registry = []\n",
    "\n",
    "def register(func):\n",
    "    print(f'running register({func})')\n",
    "    registry.append(func)\n",
    "    return func\n",
    "\n",
    "@register\n",
    "def f1():\n",
    "    print('running f1()')\n",
    "\n",
    "print('running main()')\n",
    "print('registry ->', registry)"
   ]
  },
  {
   "cell_type": "markdown",
   "metadata": {},
   "source": [
    "### 7.10.1 매개변수화된 등록 데코레이터\n",
    "register가 등록하는 함수를 활성화 혹은 비활성화하기 쉽게 만들기 위해, 선택적인 인수 active를 받도록 만들어보자. active가 False면 데코레이트된 함수를 등록해제한다. 새로 만든 register()함수는 개념적으로 데코레이터가 아니라 데코레이터 팩토리다. 호출되면 반환하기 때문이다."
   ]
  },
  {
   "cell_type": "code",
   "execution_count": 82,
   "metadata": {},
   "outputs": [
    {
     "name": "stdout",
     "output_type": "stream",
     "text": [
      "^C\n",
      "running register(active=False) -> decorate(<function f1 at 0x107e7fca0>)\n",
      "running register(active=True) -> decorate(<function f2 at 0x107e7fe50>)\n"
     ]
    }
   ],
   "source": [
    "registry = set()\n",
    "\n",
    "def register(active=True):\n",
    "    def decorate(func):\n",
    "        print(f'running register(active={active}) -> decorate({func})')\n",
    "        if active:\n",
    "            registry.add(func)\n",
    "        else:\n",
    "            registry.discard(func)\n",
    "\n",
    "        return func\n",
    "    return decorate\n",
    "\n",
    "@register(active=False)\n",
    "def f1():\n",
    "    print('running f1()')\n",
    "\n",
    "@register()\n",
    "def f2():\n",
    "    print('running f2()')\n",
    "\n",
    "def f3():\n",
    "    print('running f3()')\n"
   ]
  },
  {
   "cell_type": "code",
   "execution_count": 87,
   "metadata": {},
   "outputs": [
    {
     "data": {
      "text/plain": [
       "{<function Ch7.registration_param.f2()>}"
      ]
     },
     "execution_count": 87,
     "metadata": {},
     "output_type": "execute_result"
    }
   ],
   "source": [
    "import Ch7.registration_param as registration_param\n",
    "\n",
    "registration_param.registry     # f2만 registry에 남아 있음에 주의하라. f1에는 active=False가 지정되어 있기 때문이다."
   ]
  },
  {
   "cell_type": "code",
   "execution_count": 94,
   "metadata": {},
   "outputs": [
    {
     "name": "stdout",
     "output_type": "stream",
     "text": [
      "<function register at 0x107e7fa60>\n",
      "\n",
      "running register(active=True) -> decorate(<function f3 at 0x107e1fa60>)\n",
      "<function f3 at 0x107e1fa60>\n",
      "\n",
      "{<function f2 at 0x107e87310>, <function f3 at 0x107e1fa60>}\n",
      "\n",
      "running register(active=False) -> decorate(<function f2 at 0x107e7fe50>)\n",
      "<function f2 at 0x107e7fe50>\n",
      "\n",
      "{<function f2 at 0x107e87310>, <function f3 at 0x107e1fa60>}\n"
     ]
    }
   ],
   "source": [
    "from Ch7.registration_param import register, registry\n",
    "\n",
    "print(register,end='\\n\\n')\n",
    "print(register()(f3),end='\\n\\n')\n",
    "print(registry ,end='\\n\\n')\n",
    "print(register(active=False)(f2),end='\\n\\n')\n",
    "print(registry)"
   ]
  },
  {
   "cell_type": "markdown",
   "metadata": {},
   "source": [
    "### 7.10.2 매개변수화된 clock 데코레이터"
   ]
  },
  {
   "cell_type": "code",
   "execution_count": 95,
   "metadata": {},
   "outputs": [
    {
     "name": "stdout",
     "output_type": "stream",
     "text": [
      "[0.12802505s] snooze(0.123) -> None\n",
      "[0.12804580s] snooze(0.123) -> None\n",
      "[0.12802005s] snooze(0.123) -> None\n"
     ]
    }
   ],
   "source": [
    "import time\n",
    "\n",
    "DEFAULT_FMT = '[{elapsed:0.8f}s] {name}({args}) -> {result}'\n",
    "\n",
    "def clock(fmt=DEFAULT_FMT):\n",
    "    def decorate(func):\n",
    "        def clocked(*_args):\n",
    "            t0 = time.time()\n",
    "            _result = func(*_args)\n",
    "            elapsed = time.time() - t0\n",
    "            name = func.__name__\n",
    "            args = ', '.join(repr(arg) for arg in _args)\n",
    "            result = repr(_result)\n",
    "            print(fmt.format(**locals()))\n",
    "            return _result\n",
    "        return clocked\n",
    "    return decorate\n",
    "\n",
    "@clock()\n",
    "def snooze(seconds):\n",
    "    time.sleep(seconds)\n",
    "\n",
    "for i in range(3):\n",
    "    snooze(.123)"
   ]
  },
  {
   "cell_type": "code",
   "execution_count": 96,
   "metadata": {},
   "outputs": [
    {
     "name": "stdout",
     "output_type": "stream",
     "text": [
      "snooze: 0.12669587135314941s\n",
      "snooze: 0.12801623344421387s\n",
      "snooze: 0.12447595596313477s\n"
     ]
    }
   ],
   "source": [
    "@clock('{name}: {elapsed}s')    # fmt 인수를 지정\n",
    "def snooze(seconds):\n",
    "    time.sleep(seconds)\n",
    "\n",
    "for i in range(3):\n",
    "    snooze(.123)"
   ]
  },
  {
   "cell_type": "code",
   "execution_count": 97,
   "metadata": {},
   "outputs": [
    {
     "name": "stdout",
     "output_type": "stream",
     "text": [
      "snooze(0.123) dt=0.128s\n",
      "snooze(0.123) dt=0.128s\n",
      "snooze(0.123) dt=0.126s\n"
     ]
    }
   ],
   "source": [
    "@clock('{name}({args}) dt={elapsed:0.3f}s')\n",
    "def snooze(seconds):\n",
    "    time.sleep(seconds)\n",
    "\n",
    "for i in range(3):\n",
    "    snooze(.123)"
   ]
  },
  {
   "cell_type": "code",
   "execution_count": null,
   "metadata": {},
   "outputs": [],
   "source": []
  }
 ],
 "metadata": {
  "kernelspec": {
   "display_name": "Python 3.8.13 ('estud')",
   "language": "python",
   "name": "python3"
  },
  "language_info": {
   "codemirror_mode": {
    "name": "ipython",
    "version": 3
   },
   "file_extension": ".py",
   "mimetype": "text/x-python",
   "name": "python",
   "nbconvert_exporter": "python",
   "pygments_lexer": "ipython3",
   "version": "3.8.13"
  },
  "orig_nbformat": 4,
  "vscode": {
   "interpreter": {
    "hash": "391b1e7ce2e81530d6fa13507e2cf4fd1c09c0aaf5e54d082942efacf0dd49e1"
   }
  }
 },
 "nbformat": 4,
 "nbformat_minor": 2
}
