{
 "cells": [
  {
   "cell_type": "markdown",
   "metadata": {},
   "source": [
    "# Chapter 7. 함수 데코레이터와 클로저"
   ]
  },
  {
   "cell_type": "markdown",
   "metadata": {},
   "source": [
    "## 7.1 데커레이터 기본 지식\n",
    "데커레이터는 다른 함수를 인수로 받는 콜러블(데커레이트된 함수)이다. 데커레이터는 데커레이트된 함수에 어떤 처리를 수행하고, 함수를 반환하거나 함수를 다른 함수나 콜러블 객체로 대체한다.\n",
    "\n",
    "예시처럼 decoreate라는 이름의 데커레이터가 있다면\n",
    "    \n",
    "```python\n",
    "@decorate\n",
    "def target():\n",
    "    print('running target()')\n",
    "```\n",
    "위 코드는 다음과 같이 작동한다\n",
    "```python\n",
    "def target():\n",
    "    print('running target()')\n",
    "\n",
    "target = decorate(target)\n",
    "```\n",
    "두 가지 코드는 동일하다. 두 코드를 실행하면 target은 원래의 target() 함수를 가리키는 것이 아니고 decorate(target)이 반환한 함수를 가리키게 된다. "
   ]
  },
  {
   "cell_type": "code",
   "execution_count": 4,
   "metadata": {},
   "outputs": [],
   "source": [
    "def deco(func):\n",
    "    def inner():\n",
    "        print('running inner()')\n",
    "    return inner\n",
    "\n",
    "@deco\n",
    "def target():\n",
    "    print('running target()')"
   ]
  },
  {
   "cell_type": "code",
   "execution_count": 8,
   "metadata": {},
   "outputs": [
    {
     "name": "stdout",
     "output_type": "stream",
     "text": [
      "running inner()\n"
     ]
    }
   ],
   "source": [
    "target()    # deco함수의 inner()가 실행된다."
   ]
  },
  {
   "cell_type": "code",
   "execution_count": 7,
   "metadata": {},
   "outputs": [
    {
     "data": {
      "text/plain": [
       "<function __main__.deco.<locals>.inner()>"
      ]
     },
     "execution_count": 7,
     "metadata": {},
     "output_type": "execute_result"
    }
   ],
   "source": [
    "target      # deco함수의 inner()를 가리키고 있음"
   ]
  },
  {
   "cell_type": "markdown",
   "metadata": {},
   "source": [
    "## 7.2 파이썬이 데커레이터를 실행하는 시점\n"
   ]
  },
  {
   "cell_type": "code",
   "execution_count": 14,
   "metadata": {},
   "outputs": [
    {
     "name": "stdout",
     "output_type": "stream",
     "text": [
      "running register(<function f1 at 0x105f00ca0>!!)\n",
      "running register(<function f2 at 0x105de08b0>!!)\n"
     ]
    }
   ],
   "source": [
    "# example 7-2. register.py\n",
    "registry = []\n",
    "\n",
    "def register(func):\n",
    "    print(f'running register({func}!!)')      # 데코레이터가 실행될 때마다 실행된다.\n",
    "    registry.append(func)\n",
    "    return func\n",
    "\n",
    "@register\n",
    "def f1():\n",
    "    print('running f1()')\n",
    "\n",
    "@register\n",
    "def f2():\n",
    "    print('running f2()')\n",
    "\n",
    "def f3():\n",
    "    print('running f3()')\n",
    "\n",
    "def main():\n",
    "    print('running main()')\n",
    "    print('registry ->', registry)\n",
    "    f1()\n",
    "    f2()\n",
    "    f3()"
   ]
  },
  {
   "cell_type": "code",
   "execution_count": 4,
   "metadata": {},
   "outputs": [
    {
     "name": "stdout",
     "output_type": "stream",
     "text": [
      "running main()\n",
      "registry -> [<function f1 at 0x106751dc0>, <function f2 at 0x106751e50>]\n",
      "running f1()\n",
      "running f2()\n",
      "running f3()\n"
     ]
    }
   ],
   "source": [
    "main()"
   ]
  },
  {
   "cell_type": "code",
   "execution_count": 12,
   "metadata": {},
   "outputs": [
    {
     "name": "stdout",
     "output_type": "stream",
     "text": [
      "running register(<function f1 at 0x1053e8160>)\n",
      "running register(<function f2 at 0x1053e81f0>)\n",
      "running main()\n",
      "registry -> [<function f1 at 0x1053e8160>, <function f2 at 0x1053e81f0>]\n",
      "running f1()\n",
      "running f2()\n",
      "running f3()\n"
     ]
    }
   ],
   "source": [
    "!python Ch7/register.py"
   ]
  },
  {
   "cell_type": "code",
   "execution_count": 16,
   "metadata": {},
   "outputs": [
    {
     "data": {
      "text/plain": [
       "[<function Ch7.register.f1()>, <function Ch7.register.f2()>]"
      ]
     },
     "execution_count": 16,
     "metadata": {},
     "output_type": "execute_result"
    }
   ],
   "source": [
    "from Ch7 import register\n",
    "\n",
    "register.registry"
   ]
  },
  {
   "cell_type": "markdown",
   "metadata": {},
   "source": [
    "## 7.3 데커레이터로 개선한 전략 패턴"
   ]
  },
  {
   "cell_type": "code",
   "execution_count": 22,
   "metadata": {},
   "outputs": [],
   "source": [
    "# example 7-3. promotion 데커레이터로 채운 promos 리스트\n",
    "\n",
    "promos = []\n",
    "\n",
    "def promotion(anything):\n",
    "    promos.append(anything)\n",
    "    return anything\n",
    "\n",
    "@promotion\n",
    "def fidelity(order):\n",
    "    \"\"\"충성도 포인트가 1000점 이상인 고객에게 5% 할인\"\"\"\n",
    "    return order.total() * .05 if order.customer.fidelity >= 1000 else 0\n",
    "\n",
    "@promotion\n",
    "def bulk_item(order):\n",
    "    \"\"\"20개 이상의 동일 상품을 구입하면 10% 할인\"\"\"\n",
    "    discount = 0\n",
    "    for item in order.cart:\n",
    "        if item.quantity >= 20:\n",
    "            discount += item.total() * .1\n",
    "    return discount\n",
    "\n",
    "@promotion\n",
    "def large_order(order):\n",
    "    \"\"\"10종류 이상의 상품을 구입하면 전체 구매 상품의 7% 할인\"\"\"\n",
    "    distinct_items = {item.product for item in order.cart}\n",
    "    if len(distinct_items) >= 10:\n",
    "        return order.total() * .07\n",
    "    return 0\n",
    "\n",
    "def best_promo(order):\n",
    "    \"\"\"최대로 할인해 줄 금액을 반환한다.\"\"\"\n",
    "    return max(promo(order) for promo in promos)\n"
   ]
  },
  {
   "cell_type": "code",
   "execution_count": 23,
   "metadata": {},
   "outputs": [
    {
     "data": {
      "text/plain": [
       "[<function __main__.fidelity(order)>,\n",
       " <function __main__.bulk_item(order)>,\n",
       " <function __main__.large_order(order)>]"
      ]
     },
     "execution_count": 23,
     "metadata": {},
     "output_type": "execute_result"
    }
   ],
   "source": [
    "promos"
   ]
  },
  {
   "cell_type": "markdown",
   "metadata": {},
   "source": [
    "## 7.4 변수 범위 규칙"
   ]
  },
  {
   "cell_type": "code",
   "execution_count": 24,
   "metadata": {},
   "outputs": [
    {
     "name": "stdout",
     "output_type": "stream",
     "text": [
      "3\n"
     ]
    },
    {
     "ename": "NameError",
     "evalue": "name 'b' is not defined",
     "output_type": "error",
     "traceback": [
      "\u001b[0;31m---------------------------------------------------------------------------\u001b[0m",
      "\u001b[0;31mNameError\u001b[0m                                 Traceback (most recent call last)",
      "\u001b[1;32m/Users/yesinkim/Bailando/Fluent-Python/Yesin/Ch7. Function Decorators and Closures.ipynb 셀 15\u001b[0m in \u001b[0;36m<cell line: 6>\u001b[0;34m()\u001b[0m\n\u001b[1;32m      <a href='vscode-notebook-cell:/Users/yesinkim/Bailando/Fluent-Python/Yesin/Ch7.%20Function%20Decorators%20and%20Closures.ipynb#X21sZmlsZQ%3D%3D?line=2'>3</a>\u001b[0m     \u001b[39mprint\u001b[39m(a)\n\u001b[1;32m      <a href='vscode-notebook-cell:/Users/yesinkim/Bailando/Fluent-Python/Yesin/Ch7.%20Function%20Decorators%20and%20Closures.ipynb#X21sZmlsZQ%3D%3D?line=3'>4</a>\u001b[0m     \u001b[39mprint\u001b[39m(b)\n\u001b[0;32m----> <a href='vscode-notebook-cell:/Users/yesinkim/Bailando/Fluent-Python/Yesin/Ch7.%20Function%20Decorators%20and%20Closures.ipynb#X21sZmlsZQ%3D%3D?line=5'>6</a>\u001b[0m f1(\u001b[39m3\u001b[39;49m)\n",
      "\u001b[1;32m/Users/yesinkim/Bailando/Fluent-Python/Yesin/Ch7. Function Decorators and Closures.ipynb 셀 15\u001b[0m in \u001b[0;36mf1\u001b[0;34m(a)\u001b[0m\n\u001b[1;32m      <a href='vscode-notebook-cell:/Users/yesinkim/Bailando/Fluent-Python/Yesin/Ch7.%20Function%20Decorators%20and%20Closures.ipynb#X21sZmlsZQ%3D%3D?line=1'>2</a>\u001b[0m \u001b[39mdef\u001b[39;00m \u001b[39mf1\u001b[39m(a):\n\u001b[1;32m      <a href='vscode-notebook-cell:/Users/yesinkim/Bailando/Fluent-Python/Yesin/Ch7.%20Function%20Decorators%20and%20Closures.ipynb#X21sZmlsZQ%3D%3D?line=2'>3</a>\u001b[0m     \u001b[39mprint\u001b[39m(a)\n\u001b[0;32m----> <a href='vscode-notebook-cell:/Users/yesinkim/Bailando/Fluent-Python/Yesin/Ch7.%20Function%20Decorators%20and%20Closures.ipynb#X21sZmlsZQ%3D%3D?line=3'>4</a>\u001b[0m     \u001b[39mprint\u001b[39m(b)\n",
      "\u001b[0;31mNameError\u001b[0m: name 'b' is not defined"
     ]
    }
   ],
   "source": [
    "# 지역 및 전역 변수를 읽는 함수\n",
    "def f1(a):\n",
    "    print(a)\n",
    "    print(b)\n",
    "\n",
    "f1(3)"
   ]
  },
  {
   "cell_type": "code",
   "execution_count": 26,
   "metadata": {},
   "outputs": [
    {
     "name": "stdout",
     "output_type": "stream",
     "text": [
      "3\n",
      "6\n"
     ]
    }
   ],
   "source": [
    "# 지역변수가 없으면 전역변수를 참조한다.\n",
    "b = 6\n",
    "f1(3)"
   ]
  },
  {
   "cell_type": "code",
   "execution_count": 32,
   "metadata": {},
   "outputs": [
    {
     "name": "stdout",
     "output_type": "stream",
     "text": [
      "3\n"
     ]
    },
    {
     "ename": "UnboundLocalError",
     "evalue": "local variable 'b' referenced before assignment",
     "output_type": "error",
     "traceback": [
      "\u001b[0;31m---------------------------------------------------------------------------\u001b[0m",
      "\u001b[0;31mUnboundLocalError\u001b[0m                         Traceback (most recent call last)",
      "\u001b[1;32m/Users/yesinkim/Bailando/Fluent-Python/Yesin/Ch7. Function Decorators and Closures.ipynb 셀 17\u001b[0m in \u001b[0;36m<cell line: 7>\u001b[0;34m()\u001b[0m\n\u001b[1;32m      <a href='vscode-notebook-cell:/Users/yesinkim/Bailando/Fluent-Python/Yesin/Ch7.%20Function%20Decorators%20and%20Closures.ipynb#X24sZmlsZQ%3D%3D?line=3'>4</a>\u001b[0m     \u001b[39mprint\u001b[39m(b)\n\u001b[1;32m      <a href='vscode-notebook-cell:/Users/yesinkim/Bailando/Fluent-Python/Yesin/Ch7.%20Function%20Decorators%20and%20Closures.ipynb#X24sZmlsZQ%3D%3D?line=4'>5</a>\u001b[0m     b \u001b[39m=\u001b[39m \u001b[39m9\u001b[39m\n\u001b[0;32m----> <a href='vscode-notebook-cell:/Users/yesinkim/Bailando/Fluent-Python/Yesin/Ch7.%20Function%20Decorators%20and%20Closures.ipynb#X24sZmlsZQ%3D%3D?line=6'>7</a>\u001b[0m f2(\u001b[39m3\u001b[39;49m)\n",
      "\u001b[1;32m/Users/yesinkim/Bailando/Fluent-Python/Yesin/Ch7. Function Decorators and Closures.ipynb 셀 17\u001b[0m in \u001b[0;36mf2\u001b[0;34m(a)\u001b[0m\n\u001b[1;32m      <a href='vscode-notebook-cell:/Users/yesinkim/Bailando/Fluent-Python/Yesin/Ch7.%20Function%20Decorators%20and%20Closures.ipynb#X24sZmlsZQ%3D%3D?line=1'>2</a>\u001b[0m \u001b[39mdef\u001b[39;00m \u001b[39mf2\u001b[39m(a):\n\u001b[1;32m      <a href='vscode-notebook-cell:/Users/yesinkim/Bailando/Fluent-Python/Yesin/Ch7.%20Function%20Decorators%20and%20Closures.ipynb#X24sZmlsZQ%3D%3D?line=2'>3</a>\u001b[0m     \u001b[39mprint\u001b[39m(a)\n\u001b[0;32m----> <a href='vscode-notebook-cell:/Users/yesinkim/Bailando/Fluent-Python/Yesin/Ch7.%20Function%20Decorators%20and%20Closures.ipynb#X24sZmlsZQ%3D%3D?line=3'>4</a>\u001b[0m     \u001b[39mprint\u001b[39m(b)\n\u001b[1;32m      <a href='vscode-notebook-cell:/Users/yesinkim/Bailando/Fluent-Python/Yesin/Ch7.%20Function%20Decorators%20and%20Closures.ipynb#X24sZmlsZQ%3D%3D?line=4'>5</a>\u001b[0m     b \u001b[39m=\u001b[39m \u001b[39m9\u001b[39m\n",
      "\u001b[0;31mUnboundLocalError\u001b[0m: local variable 'b' referenced before assignment"
     ]
    }
   ],
   "source": [
    "b = 6\n",
    "def f2(a):\n",
    "    print(a)\n",
    "    print(b)\n",
    "    b = 9\n",
    "\n",
    "f2(3)"
   ]
  },
  {
   "cell_type": "code",
   "execution_count": 35,
   "metadata": {},
   "outputs": [
    {
     "name": "stdout",
     "output_type": "stream",
     "text": [
      "3\n",
      "6\n"
     ]
    }
   ],
   "source": [
    "# 지역변수가 있지만 전역변수를 가져오고 싶다면 global 키워드를 사용한다.\n",
    "b = 6\n",
    "def f3(a):\n",
    "    global b\n",
    "    print(a)\n",
    "    print(b)\n",
    "    b = 9\n",
    "\n",
    "f3(3)"
   ]
  },
  {
   "cell_type": "code",
   "execution_count": 39,
   "metadata": {},
   "outputs": [
    {
     "name": "stdout",
     "output_type": "stream",
     "text": [
      "  3           0 LOAD_GLOBAL              0 (print)\n",
      "              2 LOAD_FAST                0 (a)\n",
      "              4 CALL_FUNCTION            1\n",
      "              6 POP_TOP\n",
      "\n",
      "  4           8 LOAD_GLOBAL              0 (print)\n",
      "             10 LOAD_GLOBAL              1 (b)\n",
      "             12 CALL_FUNCTION            1\n",
      "             14 POP_TOP\n",
      "             16 LOAD_CONST               0 (None)\n",
      "             18 RETURN_VALUE\n",
      "None========================================\n",
      "  3           0 LOAD_GLOBAL              0 (print)\n",
      "              2 LOAD_FAST                0 (a)\n",
      "              4 CALL_FUNCTION            1\n",
      "              6 POP_TOP\n",
      "\n",
      "  4           8 LOAD_GLOBAL              0 (print)\n",
      "             10 LOAD_FAST                1 (b)\n",
      "             12 CALL_FUNCTION            1\n",
      "             14 POP_TOP\n",
      "\n",
      "  5          16 LOAD_CONST               1 (9)\n",
      "             18 STORE_FAST               1 (b)\n",
      "             20 LOAD_CONST               0 (None)\n",
      "             22 RETURN_VALUE\n",
      "None========================================\n",
      "  5           0 LOAD_GLOBAL              0 (print)\n",
      "              2 LOAD_FAST                0 (a)\n",
      "              4 CALL_FUNCTION            1\n",
      "              6 POP_TOP\n",
      "\n",
      "  6           8 LOAD_GLOBAL              0 (print)\n",
      "             10 LOAD_GLOBAL              1 (b)\n",
      "             12 CALL_FUNCTION            1\n",
      "             14 POP_TOP\n",
      "\n",
      "  7          16 LOAD_CONST               1 (9)\n",
      "             18 STORE_GLOBAL             1 (b)\n",
      "             20 LOAD_CONST               0 (None)\n",
      "             22 RETURN_VALUE\n",
      "None========================================\n"
     ]
    }
   ],
   "source": [
    "# BYTE CODE\n",
    "from dis import dis\n",
    "\n",
    "print(dis(f1),end='========================================\\n')\n",
    "print(dis(f2),end='========================================\\n')\n",
    "print(dis(f3),end='========================================\\n')"
   ]
  },
  {
   "cell_type": "markdown",
   "metadata": {},
   "source": [
    "## 7.5 클로저(Closure)\n",
    "클로져 != 익명함수\n",
    "클로저는 함수 본체에서 정의하지 않고 참조하는 비전역(nonlocal)변수를 포함한 확장 범위를 가진 함수다. 익명 함수여부는 중요하지 않고, 함수 본체 외부에 정의된 비전역 변수에 접근할 수 있다는 것이 중요하다.  \n",
    "아래의 예제에서 `avg()`함수가 점차 증가하는 일련의 값의 평균을 계산한다고 가정했을 때, `avg()`함수는 `series`변수를 참조한다. `series`변수는 `avg()`함수의 본체에서 정의되지 않았다. 따라서 `avg()`함수는 `series`변수를 포함한 확장 범위를 가진다. 이런 함수를 클로저라고 한다.\n",
    "\n",
    "```python\n",
    ">>> avg(10)\n",
    "10.0\n",
    ">>> avg(11)\n",
    "10.5\n",
    ">>> avg(12)\n",
    "11.0\n",
    "```\n"
   ]
  },
  {
   "cell_type": "code",
   "execution_count": 40,
   "metadata": {},
   "outputs": [],
   "source": [
    "class Average:\n",
    "    def __init__(self):\n",
    "        self.series = []\n",
    "\n",
    "    def __call__(self, new_value):\n",
    "        self.series.append(new_value)\n",
    "        total = sum(self.series)\n",
    "        return total / len(self.series)"
   ]
  },
  {
   "cell_type": "code",
   "execution_count": 44,
   "metadata": {},
   "outputs": [
    {
     "name": "stdout",
     "output_type": "stream",
     "text": [
      "10.0\n",
      "10.5\n",
      "11.0\n"
     ]
    }
   ],
   "source": [
    "avg = Average()\n",
    "\n",
    "print(avg(10))\n",
    "print(avg(11))\n",
    "print(avg(12))"
   ]
  },
  {
   "cell_type": "code",
   "execution_count": null,
   "metadata": {},
   "outputs": [],
   "source": []
  }
 ],
 "metadata": {
  "kernelspec": {
   "display_name": "Python 3.8.13 ('estud')",
   "language": "python",
   "name": "python3"
  },
  "language_info": {
   "codemirror_mode": {
    "name": "ipython",
    "version": 3
   },
   "file_extension": ".py",
   "mimetype": "text/x-python",
   "name": "python",
   "nbconvert_exporter": "python",
   "pygments_lexer": "ipython3",
   "version": "3.8.13"
  },
  "orig_nbformat": 4,
  "vscode": {
   "interpreter": {
    "hash": "391b1e7ce2e81530d6fa13507e2cf4fd1c09c0aaf5e54d082942efacf0dd49e1"
   }
  }
 },
 "nbformat": 4,
 "nbformat_minor": 2
}
