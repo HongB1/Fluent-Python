{
 "cells": [
  {
   "cell_type": "markdown",
   "metadata": {},
   "source": [
    "# 2 Seqeunce\n"
   ]
  },
  {
   "cell_type": "markdown",
   "metadata": {},
   "source": [
    "## 2. 1 내장 시퀀스 개요\n",
    "container sequence\n",
    "- 서로 다른 자료형의 항목들을 담을 수 있는 list, tuple, colletions.deque 형\n",
    "\n",
    "flat sequence\n",
    "- 단 하나의 자료형만 담을 수 있는 str, byte, bytearray, memoryview, array.array 형\n",
    "\n",
    "---\n",
    "또한, 가변, 불변에 따라 이렇게 분류할 수도 있음\n",
    "가변 시퀀스\n",
    "- lst, bytearray, array.array, collections.deque, memoryview\n",
    "\n",
    "불변 시퀀스\n",
    "tuple, str, bytes\n"
   ]
  },
  {
   "cell_type": "markdown",
   "metadata": {},
   "source": [
    "flat은 어떤 자료형이 나올 지 알고 있기 때문에 메모리 양이 적음\n",
    "하지만 array는 뭐가 들어올지 몰라서 메모리를 여유롭게 사용함\n",
    "\n",
    "C언어의 경우 변수가 메모리 주소임.\n",
    "Python의 경우 변수에 값을 할당하면 메모리공간에 바로 값을 넣는 것이 아니라 메모리를 참조하는 방식임 -> python 메모리 관리에 대해서 더 찾아 보면 좋을 것!\n",
    "\n",
    "큰 데이터에서 list나, array에서 값을 추가할 때(append) list가 더 빨랐었다~\n",
    "\n",
    "array를 만들 때 두 가지 를 받는 데, 'I'는 자료형임"
   ]
  },
  {
   "cell_type": "markdown",
   "metadata": {},
   "source": [
    "## 2. 2 지능형 리스트와 제너레이터 표현식"
   ]
  },
  {
   "cell_type": "markdown",
   "metadata": {},
   "source": [
    "### 2. 2. 1  지능형 리스트와 가독성\n",
    "(가독성에 대해서 의심된다면 이 책을 계속 읽으라고 함)"
   ]
  },
  {
   "cell_type": "code",
   "execution_count": 89,
   "metadata": {},
   "outputs": [
    {
     "name": "stdout",
     "output_type": "stream",
     "text": [
      "[33, 64, 35, 64, 37, 35, 37, 35, 36, 35, 64]\n"
     ]
    }
   ],
   "source": [
    "symbols = \"!@#@%#%#$#@\"\n",
    "codes = []\n",
    "for symbol in symbols:\n",
    "    codes.append(ord(symbol))   # ord(): ASCII 코드로 변환 / chr(): 문자로 변환\n",
    "\n",
    "print(codes)"
   ]
  },
  {
   "cell_type": "code",
   "execution_count": 90,
   "metadata": {},
   "outputs": [
    {
     "name": "stdout",
     "output_type": "stream",
     "text": [
      "[33, 64, 35, 64, 37, 35, 37, 35, 36, 35, 64]\n"
     ]
    }
   ],
   "source": [
    "codes = [ord(symbol) for symbol in symbols]\n",
    "print(codes)"
   ]
  },
  {
   "cell_type": "code",
   "execution_count": 91,
   "metadata": {},
   "outputs": [
    {
     "data": {
      "text/plain": [
       "'my precious'"
      ]
     },
     "execution_count": 91,
     "metadata": {},
     "output_type": "execute_result"
    }
   ],
   "source": [
    "# in python version 2\n",
    "x = 'my precious'\n",
    "dummy = [x for x in 'ABC']\n",
    "x # -> 'C'"
   ]
  },
  {
   "cell_type": "code",
   "execution_count": 92,
   "metadata": {},
   "outputs": [
    {
     "data": {
      "text/plain": [
       "'my precious'"
      ]
     },
     "execution_count": 92,
     "metadata": {},
     "output_type": "execute_result"
    }
   ],
   "source": [
    "# in python 3\n",
    "x = 'my precious'\n",
    "dummy = [x for x in 'ABC']\n",
    "x"
   ]
  },
  {
   "cell_type": "markdown",
   "metadata": {},
   "source": [
    "### 2. 2. 2 지능형 리스트와 map()/filter() 비교"
   ]
  },
  {
   "cell_type": "code",
   "execution_count": 93,
   "metadata": {},
   "outputs": [
    {
     "name": "stdout",
     "output_type": "stream",
     "text": [
      "[33, 35, 37, 36, 37, 35, 36, 37, 38, 40, 38]\n",
      "[33, 35, 37, 36, 37, 35, 36, 37, 38, 40, 38]\n"
     ]
    }
   ],
   "source": [
    "symbols = \"!#%$%#$%&(&\"\n",
    "beyond_ascii = [ord(s) for s in symbols if ord(s) < 127]    # 127보다 작은 ASCII 코드만 출력\n",
    "print(beyond_ascii)\n",
    "\n",
    "beyond_ascii = list(filter(lambda c: c < 127, map(ord, symbols)))    # map(): 함수와 반복 가능한 객체를 인자로 받아서 함수를 반복 가능한 객체의 각 요소에 적용\n",
    "print(beyond_ascii)"
   ]
  },
  {
   "cell_type": "markdown",
   "metadata": {},
   "source": [
    "### 2. 2. 3 데카르트 곱"
   ]
  },
  {
   "cell_type": "code",
   "execution_count": 94,
   "metadata": {},
   "outputs": [
    {
     "data": {
      "text/plain": [
       "[('blue', 'S'),\n",
       " ('blue', 'M'),\n",
       " ('blue', 'L'),\n",
       " ('white', 'S'),\n",
       " ('white', 'M'),\n",
       " ('white', 'L')]"
      ]
     },
     "execution_count": 94,
     "metadata": {},
     "output_type": "execute_result"
    }
   ],
   "source": [
    "colors = ['blue', 'white']\n",
    "sizes = ['S', 'M', 'L']\n",
    "tshirts = [(color, size) for color in colors for size in sizes] \n",
    "tshirts"
   ]
  },
  {
   "cell_type": "code",
   "execution_count": 95,
   "metadata": {},
   "outputs": [
    {
     "name": "stdout",
     "output_type": "stream",
     "text": [
      "('blue', 'S')\n",
      "('blue', 'M')\n",
      "('blue', 'L')\n",
      "('white', 'S')\n",
      "('white', 'M')\n",
      "('white', 'L')\n"
     ]
    }
   ],
   "source": [
    "for color in colors:\n",
    "    for size in sizes:\n",
    "        print((color, size))"
   ]
  },
  {
   "cell_type": "code",
   "execution_count": 96,
   "metadata": {},
   "outputs": [
    {
     "data": {
      "text/plain": [
       "[('blue', 'S'),\n",
       " ('white', 'S'),\n",
       " ('blue', 'M'),\n",
       " ('white', 'M'),\n",
       " ('blue', 'L'),\n",
       " ('white', 'L')]"
      ]
     },
     "execution_count": 96,
     "metadata": {},
     "output_type": "execute_result"
    }
   ],
   "source": [
    "tshirts = [(color, size) for size in sizes for color in colors]\n",
    "tshirts"
   ]
  },
  {
   "cell_type": "markdown",
   "metadata": {},
   "source": [
    "### 2. 2. 4 제너레이터 표현식"
   ]
  },
  {
   "cell_type": "code",
   "execution_count": 97,
   "metadata": {},
   "outputs": [
    {
     "data": {
      "text/plain": [
       "(42, 42, 42, 94, 94, 94, 36, 36, 36)"
      ]
     },
     "execution_count": 97,
     "metadata": {},
     "output_type": "execute_result"
    }
   ],
   "source": [
    "symbols = \"***^^^$$$\"\n",
    "tuple(ord(symbol) for symbol in symbols)"
   ]
  },
  {
   "cell_type": "code",
   "execution_count": 98,
   "metadata": {},
   "outputs": [
    {
     "data": {
      "text/plain": [
       "array('I', [42, 42, 42, 94, 94, 94, 36, 36, 36])"
      ]
     },
     "execution_count": 98,
     "metadata": {},
     "output_type": "execute_result"
    }
   ],
   "source": [
    "import array\n",
    "\n",
    "array.array('I', (ord(symbol) for symbol in symbols))"
   ]
  },
  {
   "cell_type": "code",
   "execution_count": 99,
   "metadata": {},
   "outputs": [
    {
     "name": "stdout",
     "output_type": "stream",
     "text": [
      "blue S\n",
      "blue M\n",
      "blue L\n",
      "white S\n",
      "white M\n",
      "white L\n"
     ]
    }
   ],
   "source": [
    "# 제너레이터는 next() 함수를 이용해 데이터를 하나씩 전달 (제너레이터는 14장에서 더 자세히 설명)\n",
    "colors = ['blue', 'white']\n",
    "sizes = ['S', 'M', 'L']\n",
    "\n",
    "for tshirts in ('%s %s' % (c, s) for c in colors for s in sizes):\n",
    "    print(tshirts)\n"
   ]
  },
  {
   "cell_type": "markdown",
   "metadata": {},
   "source": [
    "## 2. 3 튜플은 단순한 불변 리스트가 아니다"
   ]
  },
  {
   "cell_type": "markdown",
   "metadata": {},
   "source": [
    "### 2. 3. 1  레코드로서의 튜플\n",
    "튜플은 단순히 불변한 리스트가 아니고, DB에서의 하나의 행, 즉 레코드라고 생각할 수 있다. 그렇기 때문에 순서가 중요하다!!!!!!"
   ]
  },
  {
   "cell_type": "code",
   "execution_count": 100,
   "metadata": {},
   "outputs": [
    {
     "name": "stdout",
     "output_type": "stream",
     "text": [
      "BRA/CE342567\n",
      "ESP/XDA205856\n",
      "USA/31195855\n"
     ]
    }
   ],
   "source": [
    "traveler_ids = [('USA', '31195855'), ('BRA', 'CE342567'), ('ESP', 'XDA205856')]\n",
    "\n",
    "for passport in sorted(traveler_ids):\n",
    "    print('%s/%s' % passport)"
   ]
  },
  {
   "cell_type": "code",
   "execution_count": 101,
   "metadata": {},
   "outputs": [
    {
     "name": "stdout",
     "output_type": "stream",
     "text": [
      "USA\n",
      "BRA\n",
      "ESP\n"
     ]
    }
   ],
   "source": [
    "for country, _ in traveler_ids:\n",
    "    print(country)"
   ]
  },
  {
   "cell_type": "markdown",
   "metadata": {},
   "source": [
    "### 2. 3. 2 튜플 언패킹"
   ]
  },
  {
   "cell_type": "code",
   "execution_count": 102,
   "metadata": {},
   "outputs": [
    {
     "name": "stdout",
     "output_type": "stream",
     "text": [
      "latitude: 33.9425,\n",
      "longtitude: -118.408056\n"
     ]
    }
   ],
   "source": [
    "lax_coordinates = (33.9425, -118.408056)\n",
    "latitude, longtitude = lax_coordinates  # 튜플 언패킹\n",
    "\n",
    "print(f\"latitude: {latitude},\\nlongtitude: {longtitude}\")"
   ]
  },
  {
   "cell_type": "code",
   "execution_count": 103,
   "metadata": {},
   "outputs": [
    {
     "data": {
      "text/plain": [
       "(2, 4)"
      ]
     },
     "execution_count": 103,
     "metadata": {},
     "output_type": "execute_result"
    }
   ],
   "source": [
    "divmod(20, 8)       # 몫과 나머지를 튜플로 반환"
   ]
  },
  {
   "cell_type": "code",
   "execution_count": 104,
   "metadata": {},
   "outputs": [
    {
     "data": {
      "text/plain": [
       "(2, 4)"
      ]
     },
     "execution_count": 104,
     "metadata": {},
     "output_type": "execute_result"
    }
   ],
   "source": [
    "t = (20, 8)\n",
    "divmod(*t)        # *를 이용해 튜플 언패킹 "
   ]
  },
  {
   "cell_type": "code",
   "execution_count": 105,
   "metadata": {},
   "outputs": [
    {
     "data": {
      "text/plain": [
       "(2, 4)"
      ]
     },
     "execution_count": 105,
     "metadata": {},
     "output_type": "execute_result"
    }
   ],
   "source": [
    "quotient, remainder = divmod(*t)\n",
    "quotient, remainder"
   ]
  },
  {
   "cell_type": "code",
   "execution_count": 106,
   "metadata": {},
   "outputs": [
    {
     "name": "stdout",
     "output_type": "stream",
     "text": [
      "0 1 [2, 3, 4]\n",
      "0 1 [2]\n",
      "0 1 []\n"
     ]
    }
   ],
   "source": [
    "# 초과항목을 잡기 위해 * 사용\n",
    "a, b, *rest = range(5)\n",
    "print(a, b, rest)       # list로 묶여서 반환\n",
    "\n",
    "a, b, *rest = range(3)\n",
    "print(a, b, rest)\n",
    "\n",
    "a, b, *rest = range(2)\n",
    "print(a, b, rest)"
   ]
  },
  {
   "cell_type": "code",
   "execution_count": 107,
   "metadata": {},
   "outputs": [
    {
     "data": {
      "text/plain": [
       "'idrsa.pub'"
      ]
     },
     "execution_count": 107,
     "metadata": {},
     "output_type": "execute_result"
    }
   ],
   "source": [
    "import os\n",
    "\n",
    "_, filename = os.path.split('/home/luciano/.ssh/idrsa.pub')\n",
    "filename"
   ]
  },
  {
   "cell_type": "markdown",
   "metadata": {},
   "source": [
    "### 2. 3. 3. 내포된 튜플 언패킹"
   ]
  },
  {
   "cell_type": "code",
   "execution_count": 108,
   "metadata": {},
   "outputs": [
    {
     "name": "stdout",
     "output_type": "stream",
     "text": [
      "                |   lat.    |   long.  \n",
      "Mexico City     |   19.4333 |  -99.1333\n",
      "New York-Newark |   40.8086 |  -74.0204\n",
      "Sao Paulo       |  -23.5478 |  -46.6358\n"
     ]
    }
   ],
   "source": [
    "metro_areas = [\n",
    "    ('Tokyo', 'JP', 36.933, (35.689722, 139.691667)),\n",
    "    ('Delhi NCR', 'IN', 21.935, (28.613889, 77.208889)),\n",
    "    ('Mexico City', 'MX', 20.142, (19.433333, -99.133333)),\n",
    "    ('New York-Newark', 'US', 20.104, (40.808611, -74.020386)),\n",
    "    ('Sao Paulo', 'BR', 19.649, (-23.547778, -46.635833)),\n",
    "]\n",
    "\n",
    "print('{:15} | {:^9} | {:^9}'.format('', 'lat.', 'long.'))\n",
    "fmt = '{:15} | {:9.4f} | {:9.4f}'\n",
    "for name, cc, pop, (latitude, longtitude) in metro_areas:\n",
    "    if longtitude <= 0:\n",
    "        print(fmt.format(name, latitude, longtitude))"
   ]
  },
  {
   "cell_type": "markdown",
   "metadata": {},
   "source": [
    "### 2. 3. 4 명명된 튜플(namedtuple)\n",
    "`collections.namedtuple() 함수는 필드명과 클래스명을 추가한 튜플의 서브클래스를 생성하는 팩토리 함수로서, 디버깅할 때 유용하다."
   ]
  },
  {
   "cell_type": "code",
   "execution_count": 109,
   "metadata": {},
   "outputs": [],
   "source": [
    "import collections\n",
    "\n",
    "\n",
    "Card = collections.namedtuple('Card', ['rank', 'suit'])"
   ]
  },
  {
   "cell_type": "code",
   "execution_count": 110,
   "metadata": {},
   "outputs": [
    {
     "name": "stdout",
     "output_type": "stream",
     "text": [
      "City(name='Tokyo', country='JP', population=36.933, coordinates=(35.689722, 139.691667))\n",
      "36.933\n",
      "(35.689722, 139.691667)\n",
      "JP\n"
     ]
    }
   ],
   "source": [
    "from collections import namedtuple\n",
    "\n",
    "City = namedtuple('City', 'name country population coordinates')\n",
    "tokyo = City('Tokyo', 'JP', 36.933, (35.689722, 139.691667))\n",
    "\n",
    "print(tokyo)\n",
    "print(tokyo.population)\n",
    "print(tokyo.coordinates)\n",
    "print(tokyo[1])"
   ]
  },
  {
   "cell_type": "code",
   "execution_count": 111,
   "metadata": {},
   "outputs": [
    {
     "name": "stdout",
     "output_type": "stream",
     "text": [
      "('name', 'country', 'population', 'coordinates')\n",
      "{'name': 'Delhi NCR', 'country': 'IN', 'population': 21.935, 'coordinates': LatLong(lat=28.613889, long=77.208889)}\n"
     ]
    }
   ],
   "source": [
    "print(City._fields)\n",
    "\n",
    "LatLong = namedtuple('LatLong', 'lat long')\n",
    "delhi_data = City('Delhi NCR', 'IN', 21.935, LatLong(28.613889, 77.208889))\n",
    "delhi = City._make(delhi_data)\n",
    "\n",
    "print(delhi._asdict())\n"
   ]
  },
  {
   "cell_type": "code",
   "execution_count": 112,
   "metadata": {},
   "outputs": [
    {
     "name": "stdout",
     "output_type": "stream",
     "text": [
      "name: Delhi NCR\n",
      "country: IN\n",
      "population: 21.935\n",
      "coordinates: LatLong(lat=28.613889, long=77.208889)\n"
     ]
    }
   ],
   "source": [
    "for key, value in delhi._asdict().items():\n",
    "    print(key + ':', value)"
   ]
  },
  {
   "cell_type": "markdown",
   "metadata": {},
   "source": [
    "### 2. 3. 5 불변 리스트로서의 튜플\n",
    "튜플은 항목을 추가하거나 삭제하는 기능 및 reversed 메서드를 제외하고 리스트가 제공하는 메서드를 모두 지원한다."
   ]
  },
  {
   "cell_type": "code",
   "execution_count": 113,
   "metadata": {},
   "outputs": [],
   "source": [
    "list = [1, 2, 3]\n",
    "tuple = (1, 2, 3)"
   ]
  },
  {
   "cell_type": "code",
   "execution_count": 114,
   "metadata": {},
   "outputs": [
    {
     "data": {
      "text/plain": [
       "{'__delitem__',\n",
       " '__iadd__',\n",
       " '__imul__',\n",
       " '__reversed__',\n",
       " '__setitem__',\n",
       " 'append',\n",
       " 'clear',\n",
       " 'copy',\n",
       " 'extend',\n",
       " 'insert',\n",
       " 'pop',\n",
       " 'remove',\n",
       " 'reverse',\n",
       " 'sort'}"
      ]
     },
     "execution_count": 114,
     "metadata": {},
     "output_type": "execute_result"
    }
   ],
   "source": [
    "set(list.__dir__()) - set(tuple.__dir__())"
   ]
  },
  {
   "cell_type": "markdown",
   "metadata": {},
   "source": [
    "## 2. 4 슬라이싱\n",
    "list, tuple, str, 등 모든 시퀀스형은 슬라이싱이 가능하다. "
   ]
  },
  {
   "cell_type": "markdown",
   "metadata": {},
   "source": [
    "### 2. 4. 1 슬라이스와 범위 지정시에 마지막 항목이 포함되지 않는 이유"
   ]
  },
  {
   "cell_type": "code",
   "execution_count": 115,
   "metadata": {},
   "outputs": [
    {
     "name": "stdout",
     "output_type": "stream",
     "text": [
      "[10, 20]\n",
      "[30, 40, 50, 60]\n",
      "[10, 20, 30]\n",
      "[40, 50, 60]\n"
     ]
    }
   ],
   "source": [
    "l = [10, 20, 30, 40, 50, 60]\n",
    "print(l[:2])   # 2번 인덱스에서 분할\n",
    "print(l[2:])   # 2번 인덱스 이후부터\n",
    "print(l[:3])\n",
    "print(l[3:])\n"
   ]
  },
  {
   "cell_type": "markdown",
   "metadata": {},
   "source": [
    "### 2. 4. 2 슬라이스 객체\n",
    "비밀은 아니지만 `s[a:b:c]` 는 c보폭만큼 항목을 건너뛰게 만든다. 보폭이 음수인 경우에는 거꾸로 거슬러 올라가 항목을 반환한다."
   ]
  },
  {
   "cell_type": "code",
   "execution_count": 116,
   "metadata": {},
   "outputs": [
    {
     "name": "stdout",
     "output_type": "stream",
     "text": [
      "bye\n",
      "elcycib\n",
      "eccb\n"
     ]
    }
   ],
   "source": [
    "s = \"bicycle\"\n",
    "\n",
    "print(s[::3])\n",
    "print(s[::-1])\n",
    "print(s[::-2])"
   ]
  },
  {
   "cell_type": "code",
   "execution_count": 117,
   "metadata": {},
   "outputs": [
    {
     "name": "stdout",
     "output_type": "stream",
     "text": [
      "$17.50    3  Pimoroni PiBrella                 \n",
      "$4.95     2  6mm Tactile Switch x20            \n",
      "$28.00    1  Panavise Jr. - PV-201             \n",
      "$34.95    1  PiTFT Mini Kit 320x240            \n",
      " \n"
     ]
    }
   ],
   "source": [
    "invoice = \"\"\"\n",
    "0.....6.................................40........52...55........\n",
    "1909  Pimoroni PiBrella                 $17.50    3    $52.50\n",
    "1489  6mm Tactile Switch x20            $4.95     2    $9.90\n",
    "1510  Panavise Jr. - PV-201             $28.00    1    $28.00\n",
    "1601  PiTFT Mini Kit 320x240            $34.95    1    $34.95\n",
    "\"\"\"\n",
    "\n",
    "SKU = slice(0, 6)\n",
    "DESCRIPTION = slice(6, 40)\n",
    "UNIT_PRICE = slice(40, 52)\n",
    "QUANTITY = slice(52, 55)\n",
    "ITEM_TOTAL = slice(55, None)\n",
    "line_items = invoice.split('\\n')[2:]\n",
    "for item in line_items:\n",
    "    print(item[UNIT_PRICE], item[DESCRIPTION])\n"
   ]
  },
  {
   "cell_type": "markdown",
   "metadata": {},
   "source": [
    "### 2. 4. 3 다차원 슬라이싱과 생략 기호\n",
    "[] 연산자는 콤마로 구분해서 여러 개의 인덱스나 슬라이스를 가질 수 있음"
   ]
  },
  {
   "cell_type": "markdown",
   "metadata": {},
   "source": [
    "### 2. 4. 4 슬라이스에 할당하기"
   ]
  },
  {
   "cell_type": "code",
   "execution_count": 118,
   "metadata": {},
   "outputs": [
    {
     "name": "stdout",
     "output_type": "stream",
     "text": [
      "[0, 1, 2, 3, 4, 5, 6, 7, 8, 9]\n",
      "[0, 1, 20, 30, 5, 6, 7, 8, 9]\n",
      "[0, 1, 20, 30, 5, 8, 9]\n",
      "[0, 1, 20, 11, 5, 22, 9]\n",
      "[0, 1, 100, 22, 9]\n"
     ]
    }
   ],
   "source": [
    "# l = list(range(10)) # 왜 그래?\n",
    "l = [i for i in range(10)]\n",
    "print(l)\n",
    "\n",
    "l[2:5] = [20, 30]       # 슬라이스에 값 할당\n",
    "print(l)\n",
    "\n",
    "del l[5:7]      # 5번 인덱스부터 7번 인덱스 전까지 삭제\n",
    "print(l)\n",
    "\n",
    "l[3::2] = [11, 22]\n",
    "print(l)\n",
    "\n",
    "\n",
    "l[2:5] = [100]\n",
    "# l[2:5] = 100     # TypeError: can only assign an iterable\n",
    "print(l)"
   ]
  },
  {
   "cell_type": "markdown",
   "metadata": {},
   "source": [
    ">  문자열을 슬라이싱할 때\n",
    "\n",
    "- list[i:j] -> O(k) 시간 복잡도 객체 k개에 대한 조회가 필요함\n",
    "- list.reverse() -> O(n) 리스트에만 제공된다.  \n",
    "\n",
    "슬라이싱이 속도가 더 빠름!!!!\n",
    "\n",
    "\n",
    "하지만 **리스트에서 데이터를 다룰 때**에는 `reverse()`가 속도가 더 빠름.\n",
    "데이터의 복사가 필요할 때에는 `list[::-1]`을 사용할 수 있겠지만, 그렇지 않은 경우에는 `reverse()` 사용하는 게 속도면에서 유리!\n",
    "\n",
    "https://www.geeksforgeeks.org/python-reversed-vs-1-which-one-is-faster/\n"
   ]
  },
  {
   "cell_type": "markdown",
   "metadata": {},
   "source": [
    "#### 부록: 슬라이싱 속도 테스트\n",
    "- 결과: string을 다룰 때 슬라이싱이 매우 빠름...!\n",
    "    - 리스트에서는 reversed() > reverse() > slicing 순서로 확연히 빠르다. \n",
    "    - 모르겠군요..\n",
    "\n",
    "- reverse와 reversed의 차이(https://itholic.github.io/python-reverse-reversed/)"
   ]
  },
  {
   "cell_type": "code",
   "execution_count": 119,
   "metadata": {},
   "outputs": [
    {
     "ename": "TypeError",
     "evalue": "'tuple' object is not callable",
     "output_type": "error",
     "traceback": [
      "\u001b[0;31m---------------------------------------------------------------------------\u001b[0m",
      "\u001b[0;31mTypeError\u001b[0m                                 Traceback (most recent call last)",
      "\u001b[1;32m/Users/yeshinkim/Sage/FluentPython/git_study/Fluent-Python/Yesin/Ch2. Sequence.ipynb 셀 52\u001b[0m in \u001b[0;36m<cell line: 3>\u001b[0;34m()\u001b[0m\n\u001b[1;32m      <a href='vscode-notebook-cell:/Users/yeshinkim/Sage/FluentPython/git_study/Fluent-Python/Yesin/Ch2.%20Sequence.ipynb#Y102sZmlsZQ%3D%3D?line=0'>1</a>\u001b[0m l \u001b[39m=\u001b[39m [i \u001b[39mfor\u001b[39;00m i \u001b[39min\u001b[39;00m \u001b[39mrange\u001b[39m(\u001b[39m1000\u001b[39m)]\n\u001b[1;32m      <a href='vscode-notebook-cell:/Users/yeshinkim/Sage/FluentPython/git_study/Fluent-Python/Yesin/Ch2.%20Sequence.ipynb#Y102sZmlsZQ%3D%3D?line=1'>2</a>\u001b[0m s \u001b[39m=\u001b[39m \u001b[39m\"\u001b[39m\u001b[39m\"\u001b[39m\u001b[39m.\u001b[39mjoin(\u001b[39mstr\u001b[39m(\u001b[39mlist\u001b[39m))\n\u001b[0;32m----> <a href='vscode-notebook-cell:/Users/yeshinkim/Sage/FluentPython/git_study/Fluent-Python/Yesin/Ch2.%20Sequence.ipynb#Y102sZmlsZQ%3D%3D?line=2'>3</a>\u001b[0m t \u001b[39m=\u001b[39m \u001b[39mtuple\u001b[39;49m(l)\n",
      "\u001b[0;31mTypeError\u001b[0m: 'tuple' object is not callable"
     ]
    }
   ],
   "source": [
    "l = [i for i in range(1000)]\n",
    "s = \"\".join(str(list))\n",
    "t = tuple(l)"
   ]
  },
  {
   "cell_type": "code",
   "execution_count": null,
   "metadata": {},
   "outputs": [
    {
     "name": "stdout",
     "output_type": "stream",
     "text": [
      "51.1 ns ± 0.897 ns per loop (mean ± std. dev. of 7 runs, 10,000,000 loops each)\n"
     ]
    }
   ],
   "source": [
    "%%time\n",
    "test0 = s[::-1]"
   ]
  },
  {
   "cell_type": "code",
   "execution_count": null,
   "metadata": {},
   "outputs": [
    {
     "name": "stdout",
     "output_type": "stream",
     "text": [
      "57 ns ± 1.08 ns per loop (mean ± std. dev. of 7 runs, 10,000,000 loops each)\n"
     ]
    }
   ],
   "source": [
    "%%time\n",
    "test0 = reversed(s)"
   ]
  },
  {
   "cell_type": "code",
   "execution_count": null,
   "metadata": {},
   "outputs": [
    {
     "name": "stdout",
     "output_type": "stream",
     "text": [
      "1.1 µs ± 22 ns per loop (mean ± std. dev. of 7 runs, 1,000,000 loops each)\n"
     ]
    }
   ],
   "source": [
    "%%time\n",
    "test1 = l[::-1]"
   ]
  },
  {
   "cell_type": "code",
   "execution_count": null,
   "metadata": {},
   "outputs": [
    {
     "name": "stdout",
     "output_type": "stream",
     "text": [
      "251 ns ± 43.7 ns per loop (mean ± std. dev. of 7 runs, 1,000,000 loops each)\n"
     ]
    }
   ],
   "source": [
    "%%time\n",
    "test1 = l.reverse()      # list.reverse() return None"
   ]
  },
  {
   "cell_type": "code",
   "execution_count": null,
   "metadata": {},
   "outputs": [
    {
     "name": "stdout",
     "output_type": "stream",
     "text": [
      "63.5 ns ± 2.19 ns per loop (mean ± std. dev. of 7 runs, 10,000,000 loops each)\n"
     ]
    }
   ],
   "source": [
    "%%time\n",
    "test1 = reversed(l)     # 근데 이게 더 빠른 것 같음."
   ]
  },
  {
   "cell_type": "code",
   "execution_count": null,
   "metadata": {},
   "outputs": [
    {
     "name": "stdout",
     "output_type": "stream",
     "text": [
      "1.22 µs ± 15 ns per loop (mean ± std. dev. of 7 runs, 1,000,000 loops each)\n"
     ]
    }
   ],
   "source": [
    "%%time\n",
    "test2 = t[::-1]"
   ]
  },
  {
   "cell_type": "code",
   "execution_count": null,
   "metadata": {},
   "outputs": [
    {
     "name": "stdout",
     "output_type": "stream",
     "text": [
      "56.9 ns ± 0.189 ns per loop (mean ± std. dev. of 7 runs, 10,000,000 loops each)\n"
     ]
    }
   ],
   "source": [
    "%%time\n",
    "test2 = reversed(t)"
   ]
  },
  {
   "cell_type": "markdown",
   "metadata": {},
   "source": [
    "## 2. 5 시퀀스에 덧셈과 곱셈 연산자 사용하기"
   ]
  },
  {
   "cell_type": "code",
   "execution_count": null,
   "metadata": {},
   "outputs": [
    {
     "name": "stdout",
     "output_type": "stream",
     "text": [
      "[1, 2, 3, 1, 2, 3, 1, 2, 3, 1, 2, 3, 1, 2, 3]\n",
      "abcdabcdabcdabcdabcd\n"
     ]
    }
   ],
   "source": [
    "l = [1, 2, 3]\n",
    "print(l * 5)\n",
    "print(5 * 'abcd')"
   ]
  },
  {
   "cell_type": "markdown",
   "metadata": {},
   "source": [
    "### 2. 5. 1 리스트의 리스트 만들기"
   ]
  },
  {
   "cell_type": "code",
   "execution_count": null,
   "metadata": {},
   "outputs": [
    {
     "name": "stdout",
     "output_type": "stream",
     "text": [
      "[['_', '_', '_'], ['_', '_', '_'], ['_', '_', '_']]\n",
      "[['_', '_', '_'], ['_', '_', 'X'], ['_', '_', '_']]\n"
     ]
    }
   ],
   "source": [
    "board = [['_'] * 3 for i in range(3)]\n",
    "print(board)\n",
    "\n",
    "board[1][2] = 'X'       # 1번째 리스트에 2번 인덱스에 X 할당\n",
    "print(board)"
   ]
  },
  {
   "cell_type": "code",
   "execution_count": null,
   "metadata": {},
   "outputs": [
    {
     "name": "stdout",
     "output_type": "stream",
     "text": [
      "[['_', '_', '_'], ['_', '_', '_'], ['_', '_', '_']]\n",
      "[['_', '_', 'O'], ['_', '_', 'O'], ['_', '_', 'O']]\n"
     ]
    }
   ],
   "source": [
    "# 위의 코드를 아래처럼 작성하고 싶을 수도 있지만 이것은 **잘못된 코드**\n",
    "weird_board = [['_'] * 3] * 3\n",
    "print(weird_board)\n",
    "\n",
    "weird_board[1][2] = 'O'\n",
    "print(weird_board)      # 동일한 객체를 참고하고 있기 때문에 모든 값이 바뀌게 됨"
   ]
  },
  {
   "cell_type": "code",
   "execution_count": null,
   "metadata": {},
   "outputs": [
    {
     "name": "stdout",
     "output_type": "stream",
     "text": [
      "[['_', '_', '_'], ['_', '_', '_'], ['_', '_', '_']]\n",
      "[['_', '_', '헉'], ['_', '_', '헉'], ['_', '_', '헉']]\n"
     ]
    }
   ],
   "source": [
    "# 본질적으로 위 코드는 이것과 같음\n",
    "row = ['_'] * 3\n",
    "board = []\n",
    "for i in range(3):\n",
    "    board.append(row)\n",
    "print(board)\n",
    "\n",
    "board[1][2] = '헉'\n",
    "print(board)"
   ]
  },
  {
   "cell_type": "code",
   "execution_count": null,
   "metadata": {},
   "outputs": [
    {
     "name": "stdout",
     "output_type": "stream",
     "text": [
      "[['_', '_', '_'], ['_', '_', '^^'], ['_', '_', '_']]\n"
     ]
    }
   ],
   "source": [
    "# 하지만 지능형 리스트는 이렇게 작동함\n",
    "board = []\n",
    "for i in range(3):\n",
    "    row = ['_'] * 3\n",
    "    board.append(row)\n",
    "\n",
    "board[1][2] = '^^'\n",
    "print(board)"
   ]
  },
  {
   "cell_type": "markdown",
   "metadata": {},
   "source": [
    "## 2. 6 시퀀스의 복합 할당\n",
    "\n",
    "`+=` 과 `*=` 등의 복합 할당 연산자는 첫 번째 피연산자에 따라 상당히 다르게 작동한다.\n",
    "이 연산자를 작동하도록 만드는 특수 메서드는 `__iadd__()`다. 하지만 이 메서드가 구현되어 있지 않으면 `__add__()`를 호출한다."
   ]
  },
  {
   "cell_type": "code",
   "execution_count": 8,
   "metadata": {},
   "outputs": [
    {
     "name": "stdout",
     "output_type": "stream",
     "text": [
      "id: 4538992896\n",
      "l : [1, 2, 3, 1, 2, 3]\n",
      "id: 4538992896\n"
     ]
    }
   ],
   "source": [
    "# *= 연산자를 가변 시퀀스와 불변 시퀀스에 적용한 예시\n",
    "# 가변 시퀀스\n",
    "l = [1, 2, 3]\n",
    "print(\"id:\", id(l))        # id() --> 객체의 고유 주소 값 반환\n",
    "l *= 2\n",
    "print(\"l :\", l)\n",
    "print(\"id:\", id(l))"
   ]
  },
  {
   "cell_type": "code",
   "execution_count": null,
   "metadata": {},
   "outputs": [
    {
     "name": "stdout",
     "output_type": "stream",
     "text": [
      "id: 4449891584\n",
      "t : (1, 2, 3, 1, 2, 3)\n",
      "id: 4449770560\n"
     ]
    }
   ],
   "source": [
    "# 불변 시퀀스\n",
    "t = (1, 2, 3)\n",
    "print(\"id:\", id(t))\n",
    "t *= 2\n",
    "print(\"t :\", t)\n",
    "print(\"id:\", id(t))"
   ]
  },
  {
   "cell_type": "code",
   "execution_count": null,
   "metadata": {},
   "outputs": [
    {
     "ename": "TypeError",
     "evalue": "'tuple' object does not support item assignment",
     "output_type": "error",
     "traceback": [
      "\u001b[0;31m---------------------------------------------------------------------------\u001b[0m",
      "\u001b[0;31mTypeError\u001b[0m                                 Traceback (most recent call last)",
      "\u001b[1;32m/Users/yeshinkim/Sage/FluentPython/git_study/Fluent-Python/Yesin/Ch2. Sequence.ipynb 셀 66\u001b[0m in \u001b[0;36m<cell line: 2>\u001b[0;34m()\u001b[0m\n\u001b[1;32m      <a href='vscode-notebook-cell:/Users/yeshinkim/Sage/FluentPython/git_study/Fluent-Python/Yesin/Ch2.%20Sequence.ipynb#Y123sZmlsZQ%3D%3D?line=0'>1</a>\u001b[0m t \u001b[39m=\u001b[39m (\u001b[39m1\u001b[39m, \u001b[39m2\u001b[39m, [\u001b[39m30\u001b[39m, \u001b[39m40\u001b[39m])\n\u001b[0;32m----> <a href='vscode-notebook-cell:/Users/yeshinkim/Sage/FluentPython/git_study/Fluent-Python/Yesin/Ch2.%20Sequence.ipynb#Y123sZmlsZQ%3D%3D?line=1'>2</a>\u001b[0m t[\u001b[39m2\u001b[39m] \u001b[39m+\u001b[39m\u001b[39m=\u001b[39m [\u001b[39m50\u001b[39m, \u001b[39m60\u001b[39m]        \u001b[39m# TypeError: 'tuple' object does not support item assignment\u001b[39;00m\n\u001b[1;32m      <a href='vscode-notebook-cell:/Users/yeshinkim/Sage/FluentPython/git_study/Fluent-Python/Yesin/Ch2.%20Sequence.ipynb#Y123sZmlsZQ%3D%3D?line=2'>3</a>\u001b[0m \u001b[39mprint\u001b[39m(t)\n",
      "\u001b[0;31mTypeError\u001b[0m: 'tuple' object does not support item assignment"
     ]
    }
   ],
   "source": [
    "t = (1, 2, [30, 40])\n",
    "t[2] += [50, 60]        # TypeError: 'tuple' object does not support item assignment\n",
    "print(t)"
   ]
  },
  {
   "cell_type": "code",
   "execution_count": null,
   "metadata": {},
   "outputs": [
    {
     "data": {
      "text/plain": [
       "(1, 2, [30, 40, 50, 60])"
      ]
     },
     "execution_count": 19,
     "metadata": {},
     "output_type": "execute_result"
    }
   ],
   "source": [
    "t       # her..."
   ]
  },
  {
   "cell_type": "code",
   "execution_count": null,
   "metadata": {},
   "outputs": [
    {
     "name": "stdout",
     "output_type": "stream",
     "text": [
      "  1           0 LOAD_NAME                0 (s)\n",
      "              2 LOAD_NAME                1 (a)\n",
      "              4 DUP_TOP_TWO\n",
      "              6 BINARY_SUBSCR\n",
      "              8 LOAD_NAME                2 (b)\n",
      "             10 INPLACE_ADD\n",
      "             12 ROT_THREE\n",
      "             14 STORE_SUBSCR\n",
      "             16 LOAD_CONST               0 (None)\n",
      "             18 RETURN_VALUE\n"
     ]
    }
   ],
   "source": [
    "import dis      # dis 모듈은 파이썬 바이트코드를 디스어셈블(disassemble)하는 데 사용(https://docs.python.org/ko/3.8/library/dis.html)\n",
    "dis.dis('s[a] += b')\n"
   ]
  },
  {
   "cell_type": "markdown",
   "metadata": {},
   "source": [
    "- 얻을 수 있는 교훈!\n",
    "    - 가변 항목을 튜플에 넣지 말자!\n",
    "    - 복합 할당은 원자적인 연산이 아니다. (연산 수행 후 예외 발생)\n",
    "    - 바이트코드를 살펴볼 수 있다."
   ]
  },
  {
   "cell_type": "markdown",
   "metadata": {},
   "source": [
    "## 2. 7 list.sort()와 sorted() 내장 함수\n",
    "- sort() 메서드는 타겟 객체를 변경하고 None을 반환\n",
    "    - 객체를 직접 변경하는 함수나 메서드는 객체가 변경되었고 새로운 객체가 생성되지 않았다는 것을 알려주기 위해 None을 반환 !\n",
    "\n",
    "\n",
    "- sorted() 내장함수는 새로운 리스트를 생성해서 반환\n",
    "    - 반복 가능한 모든 객체를 받을 수 있음"
   ]
  },
  {
   "cell_type": "code",
   "execution_count": null,
   "metadata": {},
   "outputs": [
    {
     "name": "stdout",
     "output_type": "stream",
     "text": [
      "['apple', 'banana', 'grape', 'raspberry']\n",
      "['grape', 'raspberry', 'apple', 'banana']\n"
     ]
    }
   ],
   "source": [
    "fruits = ['grape', 'raspberry', 'apple', 'banana']\n",
    "print(sorted(fruits))\n",
    "print(fruits)"
   ]
  },
  {
   "cell_type": "code",
   "execution_count": null,
   "metadata": {},
   "outputs": [
    {
     "name": "stdout",
     "output_type": "stream",
     "text": [
      "['raspberry', 'grape', 'banana', 'apple']\n",
      "['grape', 'raspberry', 'apple', 'banana']\n"
     ]
    }
   ],
   "source": [
    "print(sorted(fruits, reverse=True))\n",
    "print(fruits)"
   ]
  },
  {
   "cell_type": "code",
   "execution_count": null,
   "metadata": {},
   "outputs": [
    {
     "name": "stdout",
     "output_type": "stream",
     "text": [
      "['grape', 'apple', 'banana', 'raspberry']\n",
      "['grape', 'raspberry', 'apple', 'banana']\n"
     ]
    }
   ],
   "source": [
    "print(sorted(fruits, key=len))\n",
    "print(fruits)"
   ]
  },
  {
   "cell_type": "code",
   "execution_count": null,
   "metadata": {},
   "outputs": [
    {
     "name": "stdout",
     "output_type": "stream",
     "text": [
      "['raspberry', 'banana', 'grape', 'apple']\n",
      "['grape', 'raspberry', 'apple', 'banana']\n"
     ]
    }
   ],
   "source": [
    "print(sorted(fruits, key=len, reverse=True))\n",
    "print(fruits)"
   ]
  },
  {
   "cell_type": "code",
   "execution_count": null,
   "metadata": {},
   "outputs": [
    {
     "name": "stdout",
     "output_type": "stream",
     "text": [
      "None\n",
      "['apple', 'banana', 'grape', 'raspberry']\n"
     ]
    }
   ],
   "source": [
    "print(fruits.sort())        # -> fruits를 정렬하고 None 반환!\n",
    "print(fruits)"
   ]
  },
  {
   "cell_type": "markdown",
   "metadata": {},
   "source": [
    "## 2. 8 정렬된 시퀀스를 bisect로 관리하기\n",
    "\n",
    "bisect 모듈은 bisect()와 insort() 함수를 제공한다. bisect()는 이진 검색 알고리즘을 이용해서 시퀀스를 검색하고, insort()는 정렬된 시퀀스 안에 항목을 삽입한다."
   ]
  },
  {
   "cell_type": "markdown",
   "metadata": {},
   "source": [
    "### 2. 8. 1 bisect()로 검색하기"
   ]
  },
  {
   "cell_type": "code",
   "execution_count": null,
   "metadata": {},
   "outputs": [],
   "source": [
    "# bisect_demo.py\n",
    "import bisect\n",
    "import sys\n",
    "\n",
    "HAYSTACK = [1, 4, 5, 6, 8, 12, 15, 20, 21, 23, 23, 26, 29, 30]\n",
    "NEEDLES = [0, 1, 2, 5, 8, 10, 22, 23, 29, 30, 31]\n",
    "\n",
    "ROW_FMT = '{0:2d} @ {1:2d}    {2}{0:<2d}'\n",
    "\n",
    "def demo(bisect_fn):\n",
    "    for needle in reversed(NEEDLES):\n",
    "        position = bisect_fn(HAYSTACK, needle)\n",
    "        offset = position * '..|'\n",
    "        print(ROW_FMT.format(needle, position, offset))"
   ]
  },
  {
   "cell_type": "code",
   "execution_count": null,
   "metadata": {},
   "outputs": [
    {
     "name": "stdout",
     "output_type": "stream",
     "text": [
      "DEMO: bisect_right\n",
      "haystack ->  1  4  5  6  8 12 15 20 21 23 23 26 29 30\n",
      "31 @ 14    ..|..|..|..|..|..|..|..|..|..|..|..|..|..|31\n",
      "30 @ 14    ..|..|..|..|..|..|..|..|..|..|..|..|..|..|30\n",
      "29 @ 13    ..|..|..|..|..|..|..|..|..|..|..|..|..|29\n",
      "23 @ 11    ..|..|..|..|..|..|..|..|..|..|..|23\n",
      "22 @  9    ..|..|..|..|..|..|..|..|..|22\n",
      "10 @  5    ..|..|..|..|..|10\n",
      " 8 @  5    ..|..|..|..|..|8 \n",
      " 5 @  3    ..|..|..|5 \n",
      " 2 @  1    ..|2 \n",
      " 1 @  1    ..|1 \n",
      " 0 @  0    0 \n"
     ]
    }
   ],
   "source": [
    "if sys.argv[-1] == \"left\":\n",
    "    bisect_fn = bisect.bisect_left\n",
    "else:\n",
    "    bisect_fn = bisect.bisect\n",
    "\n",
    "print(\"DEMO:\", bisect_fn.__name__)      # bisect_fn.__name__ --> 함수의 이름 반환 (defalut: bisect_right)\n",
    "print(\"haystack ->\", \" \".join(\"%2d\" % n for n in HAYSTACK))\n",
    "demo(bisect_fn)"
   ]
  },
  {
   "cell_type": "markdown",
   "metadata": {},
   "source": [
    "### What is bisect? \n",
    "A 반의 학생 수는 모두 7명으로, 각각의 성적은 다음과 같다.\n",
    "\n",
    "```33, 99, 77, 70, 89, 90, 100```\n",
    "\n",
    "이때 다음과 같은 기준으로 성적에 대한 학점을 정한다고 할 때 A반 학생의 학점을 순서대로 구하려면 어떻게 해야 할까?\n",
    "\n",
    "- 90점 이상: A\n",
    "- 80점 이상: B\n",
    "- 70점 이상: C\n",
    "- 60점 이상: D\n",
    "- 59점 이하: F\n",
    "\n",
    "\n",
    "\n",
    "(resource: https://wikidocs.net/105425)"
   ]
  },
  {
   "cell_type": "code",
   "execution_count": null,
   "metadata": {},
   "outputs": [
    {
     "name": "stdout",
     "output_type": "stream",
     "text": [
      "['F', 'A', 'C', 'C', 'B', 'A', 'A']\n"
     ]
    }
   ],
   "source": [
    "result = []\n",
    "for score in [33, 99, 77, 70, 89, 90, 100]:\n",
    "    pos = bisect.bisect([60, 70, 80, 90], score)   # 60이상 D, 70이상 C, 80이상 B, 90이상 A\n",
    "    grade = 'FDCBA'[pos]\n",
    "    result.append(grade)\n",
    "\n",
    "print(result)"
   ]
  },
  {
   "cell_type": "code",
   "execution_count": null,
   "metadata": {},
   "outputs": [
    {
     "name": "stdout",
     "output_type": "stream",
     "text": [
      "['F', 'A', 'C', 'D', 'B', 'B', 'A']\n"
     ]
    }
   ],
   "source": [
    "\"\"\"점수 기준을 이렇게 바꾸면?\n",
    "90점 초과: A\n",
    "80점 초과: B\n",
    "70점 초과: C\n",
    "60점 초과: D\n",
    "0~60점 : F\n",
    "\"\"\"\n",
    "result = []\n",
    "for score in [33, 99, 77, 70, 89, 90, 100]:\n",
    "    pos = bisect.bisect_left([60, 70, 80, 90], score)       # bisect_left()는 bisect()와 다르게 같은 값이 있을 경우 왼쪽에 위치한 값의 인덱스 반환\n",
    "    grade = 'FDCBA'[pos]\n",
    "    result.append(grade)\n",
    "\n",
    "print(result)"
   ]
  },
  {
   "cell_type": "code",
   "execution_count": null,
   "metadata": {},
   "outputs": [
    {
     "data": {
      "text/plain": [
       "['F', 'A', 'C', 'C', 'B', 'A', 'A']"
      ]
     },
     "execution_count": 72,
     "metadata": {},
     "output_type": "execute_result"
    }
   ],
   "source": [
    "# 아 다음예시에 나오는 구나! 허허\n",
    "def grade(score, breakpoints=[60, 70, 80, 90], grades='FDCBA'):\n",
    "    i = bisect.bisect(breakpoints, score)\n",
    "    return grades[i]\n",
    "\n",
    "[grade(score) for score in [33, 99, 77, 70, 89, 90, 100]]"
   ]
  },
  {
   "cell_type": "markdown",
   "metadata": {},
   "source": [
    "### 2. 8. 2 bisect.insort()로 삽입하기\n",
    "정렬 상태를 유지하면서 item을 삽입하기 위해!"
   ]
  },
  {
   "cell_type": "code",
   "execution_count": null,
   "metadata": {},
   "outputs": [
    {
     "name": "stdout",
     "output_type": "stream",
     "text": [
      "10 -> [10]\n",
      " 0 -> [0, 10]\n",
      " 6 -> [0, 6, 10]\n",
      " 8 -> [0, 6, 8, 10]\n",
      " 7 -> [0, 6, 7, 8, 10]\n",
      " 2 -> [0, 2, 6, 7, 8, 10]\n",
      "10 -> [0, 2, 6, 7, 8, 10, 10]\n"
     ]
    }
   ],
   "source": [
    "import bisect\n",
    "import random\n",
    "\n",
    "SIZE = 7\n",
    "\n",
    "random.seed(1729)\n",
    "\n",
    "my_list = []\n",
    "for i in range(SIZE):\n",
    "    new_item = random.randrange(SIZE * 2)\n",
    "    bisect.insort(my_list, new_item)\n",
    "    print(\"%2d ->\" % new_item, my_list)"
   ]
  },
  {
   "cell_type": "markdown",
   "metadata": {},
   "source": [
    "## 2.9 리스트가 답이 아닐 때\n",
    "리스트형은 융통성 있고 편하지만 때에 따라 더 나은 자료형도 있다.\n",
    "예를 들어 실수를 천만 개 저장해야 할 때는 배열이 훨씬 더 효율적이다. \n",
    "배열은 float대신 바이트 값만 저장하기 때문이다.\n",
    "\n",
    "또한 리스트의 양족 끝에서 추가, 제거하며 FIFO나, LIFO데이터 구조를 구현할 때에는 deque 자료구조를 사용하는 것이 더 빠르다."
   ]
  },
  {
   "cell_type": "markdown",
   "metadata": {},
   "source": [
    "### 2. 9. 1 배열\n",
    "리스트에 숫자만 들어 있다면 배열(array.array)가 리스트보다 효율적이다. 배열은 pop(), inser(), `extend()`등을 포함해서 시퀀스가 제공하는 모든 연산을 지원하고, 빠르게 저장하고 읽어올 수 있는 `frombyte()`와 `tofile()`메서드도 추가로 제공\n",
    "\n",
    "- 매우 적은 메모리 사용 -->[link](https://hashcode.co.kr/questions/1093/\\%ED%8C%8C%EC%9D%B4%EC%8D%AC%EC%97%90-list%EA%B0%80-%EC%9E%88%EB%8A%94%EB%8D%B0-arrayarray%EB%8A%94-%EC%99%9C-%EC%93%B0%EB%8A%94-%EA%B1%B4%EA%B0%80%EC%9A%94)"
   ]
  },
  {
   "cell_type": "code",
   "execution_count": 2,
   "metadata": {},
   "outputs": [
    {
     "data": {
      "text/plain": [
       "0.9256292516335713"
      ]
     },
     "execution_count": 2,
     "metadata": {},
     "output_type": "execute_result"
    }
   ],
   "source": [
    "from array import array     \n",
    "from random import random\n",
    "\n",
    "floats = array('d', (random() for i in range(10**7)))\n",
    "floats[-1]"
   ]
  },
  {
   "cell_type": "code",
   "execution_count": 4,
   "metadata": {},
   "outputs": [],
   "source": [
    "fp = open('floats.bin', 'wb')\n",
    "floats.tofile(fp)\n",
    "fp.close()"
   ]
  },
  {
   "cell_type": "code",
   "execution_count": 5,
   "metadata": {},
   "outputs": [],
   "source": [
    "floats2 = array('d')\n",
    "fp = open('floats.bin', 'rb')\n",
    "floats2.fromfile(fp, 10**7)\n",
    "fp.close()"
   ]
  },
  {
   "cell_type": "code",
   "execution_count": 6,
   "metadata": {},
   "outputs": [
    {
     "data": {
      "text/plain": [
       "0.9256292516335713"
      ]
     },
     "execution_count": 6,
     "metadata": {},
     "output_type": "execute_result"
    }
   ],
   "source": [
    "floats2[-1]"
   ]
  },
  {
   "cell_type": "code",
   "execution_count": 7,
   "metadata": {},
   "outputs": [
    {
     "data": {
      "text/plain": [
       "True"
      ]
     },
     "execution_count": 7,
     "metadata": {},
     "output_type": "execute_result"
    }
   ],
   "source": [
    "floats2 == floats"
   ]
  },
  {
   "cell_type": "markdown",
   "metadata": {},
   "source": [
    "### 2. 9. 2 메모리뷰\n",
    "- 무슨 말이시죠? (https://dibrary.tistory.com/76)"
   ]
  },
  {
   "cell_type": "code",
   "execution_count": 12,
   "metadata": {},
   "outputs": [
    {
     "name": "stdout",
     "output_type": "stream",
     "text": [
      "5\n",
      "-2\n"
     ]
    }
   ],
   "source": [
    "numbers = array('h', [-2, -1, 0, 1, 2])\n",
    "memv = memoryview(numbers)\n",
    "print(len(memv))\n",
    "print(memv[0])"
   ]
  },
  {
   "cell_type": "code",
   "execution_count": 14,
   "metadata": {},
   "outputs": [
    {
     "data": {
      "text/plain": [
       "-1"
      ]
     },
     "execution_count": 14,
     "metadata": {},
     "output_type": "execute_result"
    }
   ],
   "source": [
    "memv[1]"
   ]
  },
  {
   "cell_type": "code",
   "execution_count": 15,
   "metadata": {},
   "outputs": [
    {
     "data": {
      "text/plain": [
       "[254, 255, 255, 255, 0, 0, 1, 0, 2, 0]"
      ]
     },
     "execution_count": 15,
     "metadata": {},
     "output_type": "execute_result"
    }
   ],
   "source": [
    "memv_oct = memv.cast('B')\n",
    "memv_oct.tolist()"
   ]
  },
  {
   "cell_type": "code",
   "execution_count": 23,
   "metadata": {},
   "outputs": [
    {
     "data": {
      "text/plain": [
       "array('h', [-2, -1, 1024, 1, 2])"
      ]
     },
     "execution_count": 23,
     "metadata": {},
     "output_type": "execute_result"
    }
   ],
   "source": [
    "memv_oct[5] = 4\n",
    "numbers"
   ]
  },
  {
   "cell_type": "markdown",
   "metadata": {},
   "source": [
    "### 2. 9. 3 NumPy와 SciPy"
   ]
  },
  {
   "cell_type": "markdown",
   "metadata": {},
   "source": [
    "### 2. 9. 4 덱 및 기타 큐"
   ]
  },
  {
   "cell_type": "code",
   "execution_count": 7,
   "metadata": {},
   "outputs": [
    {
     "name": "stdout",
     "output_type": "stream",
     "text": [
      "deque([0, 1, 2, 3, 4, 5, 6, 7, 8, 9], maxlen=10)\n",
      "deque([7, 8, 9, 0, 1, 2, 3, 4, 5, 6], maxlen=10)\n",
      "deque([1, 2, 3, 4, 5, 6, 7, 8, 9, 0], maxlen=10)\n",
      "deque([-1, 1, 2, 3, 4, 5, 6, 7, 8, 9], maxlen=10)\n"
     ]
    }
   ],
   "source": [
    "from collections import deque\n",
    "\n",
    "dq = deque(range(10), maxlen=10)\n",
    "print(dq)\n",
    "\n",
    "dq.rotate(3)         # 오른쪽으로 3칸 이동\n",
    "print(dq)\n",
    "\n",
    "dq.rotate(-4)         # 왼쪽으로 4칸 이동\n",
    "print(dq)\n",
    "\n",
    "dq.appendleft(-1)     # 왼쪽에 -1 추가\n",
    "print(dq)"
   ]
  }
 ],
 "metadata": {
  "kernelspec": {
   "display_name": "Python 3.8.13 ('estud')",
   "language": "python",
   "name": "python3"
  },
  "language_info": {
   "codemirror_mode": {
    "name": "ipython",
    "version": 3
   },
   "file_extension": ".py",
   "mimetype": "text/x-python",
   "name": "python",
   "nbconvert_exporter": "python",
   "pygments_lexer": "ipython3",
   "version": "3.8.13"
  },
  "orig_nbformat": 4,
  "vscode": {
   "interpreter": {
    "hash": "391b1e7ce2e81530d6fa13507e2cf4fd1c09c0aaf5e54d082942efacf0dd49e1"
   }
  }
 },
 "nbformat": 4,
 "nbformat_minor": 2
}
