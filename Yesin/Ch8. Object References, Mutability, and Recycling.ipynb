{
 "cells": [
  {
   "cell_type": "markdown",
   "metadata": {},
   "source": [
    "# Chapter 8. Object References, Mutability, and Recycling\n",
    "\n",
    "파이썬 변수를 은유적으로 표현한다. 변수는 이름표지 상자 자체가 아니다. 참조 변수를 알고 있다면 다른 사람에게 별명(alias)문제를 설명할 때 이 비유가 도움이 될 것이다.(?)  \n",
    "**변수가 데이터를 저장하는 일종의 상자와 같다고 배운 것은 잊어버리자!**"
   ]
  },
  {
   "cell_type": "markdown",
   "metadata": {},
   "source": [
    "## 8.1 변수는 상자가 아니다\n",
    "상자로서의 변수 라는 개념이 실제로 객체지향 언어에서 참조변수를 이해하는 데 방해가 된다고 강조했다. 파이썬 변수는 자바에서의 참조 변수와 같으므로 변수는 객체에 붙은 레이블이라고 생각하는 것이 좋다.  \n",
    "(여기서는 포스트잇이라고 표현하네요)"
   ]
  },
  {
   "cell_type": "code",
   "execution_count": 1,
   "metadata": {},
   "outputs": [
    {
     "name": "stdout",
     "output_type": "stream",
     "text": [
      "[1, 2, 3, 4]\n"
     ]
    }
   ],
   "source": [
    "a = [1, 2, 3]\n",
    "b = a\n",
    "a.append(4)\n",
    "print(b)"
   ]
  },
  {
   "cell_type": "code",
   "execution_count": 3,
   "metadata": {},
   "outputs": [
    {
     "name": "stdout",
     "output_type": "stream",
     "text": [
      "Gizmo id: 4400789104\n",
      "Gizmo id: 4400791360\n"
     ]
    },
    {
     "ename": "TypeError",
     "evalue": "unsupported operand type(s) for *: 'Gizmo' and 'int'",
     "output_type": "error",
     "traceback": [
      "\u001b[0;31m---------------------------------------------------------------------------\u001b[0m",
      "\u001b[0;31mTypeError\u001b[0m                                 Traceback (most recent call last)",
      "\u001b[1;32m/Users/yeshinkim/Sage/Fluent-Python/Yesin/Ch8. Object References, Mutability, and Recycling.ipynb Cell 4\u001b[0m in \u001b[0;36m<cell line: 6>\u001b[0;34m()\u001b[0m\n\u001b[1;32m      <a href='vscode-notebook-cell:/Users/yeshinkim/Sage/Fluent-Python/Yesin/Ch8.%20Object%20References%2C%20Mutability%2C%20and%20Recycling.ipynb#W3sZmlsZQ%3D%3D?line=2'>3</a>\u001b[0m         \u001b[39mprint\u001b[39m(\u001b[39m'\u001b[39m\u001b[39mGizmo id: \u001b[39m\u001b[39m%d\u001b[39;00m\u001b[39m'\u001b[39m \u001b[39m%\u001b[39m \u001b[39mid\u001b[39m(\u001b[39mself\u001b[39m))\n\u001b[1;32m      <a href='vscode-notebook-cell:/Users/yeshinkim/Sage/Fluent-Python/Yesin/Ch8.%20Object%20References%2C%20Mutability%2C%20and%20Recycling.ipynb#W3sZmlsZQ%3D%3D?line=4'>5</a>\u001b[0m x \u001b[39m=\u001b[39m Gizmo()\n\u001b[0;32m----> <a href='vscode-notebook-cell:/Users/yeshinkim/Sage/Fluent-Python/Yesin/Ch8.%20Object%20References%2C%20Mutability%2C%20and%20Recycling.ipynb#W3sZmlsZQ%3D%3D?line=5'>6</a>\u001b[0m y \u001b[39m=\u001b[39m Gizmo() \u001b[39m*\u001b[39;49m \u001b[39m10\u001b[39;49m\n",
      "\u001b[0;31mTypeError\u001b[0m: unsupported operand type(s) for *: 'Gizmo' and 'int'"
     ]
    }
   ],
   "source": [
    "class Gizmo:\n",
    "    def __init__(self):\n",
    "        print('Gizmo id: %d' % id(self))\n",
    "\n",
    "x = Gizmo() # = 는 할당 연산자, 객체를 생성하고 그 객체를 가리키는 변수를 만든다.\n",
    "y = Gizmo() * 10"
   ]
  },
  {
   "cell_type": "code",
   "execution_count": 4,
   "metadata": {},
   "outputs": [
    {
     "data": {
      "text/plain": [
       "['Gizmo',\n",
       " 'In',\n",
       " 'Out',\n",
       " '_',\n",
       " '__',\n",
       " '___',\n",
       " '__builtin__',\n",
       " '__builtins__',\n",
       " '__doc__',\n",
       " '__loader__',\n",
       " '__name__',\n",
       " '__package__',\n",
       " '__spec__',\n",
       " '__vsc_ipynb_file__',\n",
       " '_dh',\n",
       " '_i',\n",
       " '_i1',\n",
       " '_i2',\n",
       " '_i3',\n",
       " '_i4',\n",
       " '_ih',\n",
       " '_ii',\n",
       " '_iii',\n",
       " '_oh',\n",
       " 'a',\n",
       " 'b',\n",
       " 'exit',\n",
       " 'get_ipython',\n",
       " 'os',\n",
       " 'quit',\n",
       " 'sys',\n",
       " 'x']"
      ]
     },
     "execution_count": 4,
     "metadata": {},
     "output_type": "execute_result"
    }
   ],
   "source": [
    "dir()"
   ]
  },
  {
   "cell_type": "code",
   "execution_count": 40,
   "metadata": {},
   "outputs": [
    {
     "data": {
      "text/plain": [
       "<weakref at 0x107586c70; to 'set' at 0x1074a8e40>"
      ]
     },
     "execution_count": 40,
     "metadata": {},
     "output_type": "execute_result"
    }
   ],
   "source": [
    "import weakref\n",
    "a_set = {0, 1}\n",
    "wref = weakref.ref(a_set)\n",
    "wref"
   ]
  },
  {
   "cell_type": "code",
   "execution_count": 47,
   "metadata": {},
   "outputs": [
    {
     "data": {
      "text/plain": [
       "{0, 1}"
      ]
     },
     "execution_count": 47,
     "metadata": {},
     "output_type": "execute_result"
    }
   ],
   "source": [
    "wref()"
   ]
  },
  {
   "cell_type": "code",
   "execution_count": 48,
   "metadata": {},
   "outputs": [
    {
     "data": {
      "text/plain": [
       "{0, 1}"
      ]
     },
     "execution_count": 48,
     "metadata": {},
     "output_type": "execute_result"
    }
   ],
   "source": [
    "_   # 어이없는 변수가 나옵니다."
   ]
  },
  {
   "cell_type": "code",
   "execution_count": 56,
   "metadata": {},
   "outputs": [
    {
     "name": "stdout",
     "output_type": "stream",
     "text": [
      "{0, 1}\n",
      "False\n",
      "False\n",
      "False\n"
     ]
    }
   ],
   "source": [
    "a = {2, 3, 4}\n",
    "print(wref())\n",
    "print(_)\n",
    "print(wref() is None)\n",
    "print(wref() is None)   # 여기선 False가 나오긴 하지만 인터프리터에서 상에서는 True가 나옵니다.\n"
   ]
  },
  {
   "cell_type": "markdown",
   "metadata": {},
   "source": [
    "interpreter\n",
    "```\n",
    ">>> import weakref\n",
    ">>> a_set = {0,1}\n",
    ">>> wref = weakref.ref(a_set)\n",
    ">>> wref\n",
    "<weakref at 0x102f4a220; to 'set' at 0x1030bd040>\n",
    ">>> wref()\n",
    "{0, 1}\n",
    ">>> a_set = {2,3,4}\n",
    ">>> wref()\n",
    "{0, 1}\n",
    ">>> wref() is None\n",
    "False\n",
    ">>> _\n",
    "False\n",
    ">>> type(__\n",
    "... )\n",
    "Traceback (most recent call last):\n",
    "  File \"<stdin>\", line 1, in <module>\n",
    "NameError: name '__' is not defined\n",
    ">>> type(_)\n",
    "<class 'bool'>\n",
    ">>> wref() is None\n",
    "True\n",
    ">>> wref() is None\n",
    "True\n",
    ">>> wref() is None\n",
    "True\n",
    ">>> wref() is None\n",
    "True\n",
    ">>> \n",
    ">>> wref() is None\n",
    "True\n",
    "```"
   ]
  },
  {
   "cell_type": "markdown",
   "metadata": {},
   "source": [
    "### 8.6.1 WeakValueDictionary 촌극\n",
    "WeakValueDictionary는 dict의 특별한 버전으로, 값이 객체를 참조하고, 참조된 객체가 가비지 컬렉트되면 자동으로 항목이 제거된다.  \n",
    "치즈가게 촌극을 예로 들었다. 해당 촌극에서는 체다, 모차렐라 등 40여 종의 치즈를 고객이 주문하지만, 그 중 어느것도 재고가 없다 -_-;"
   ]
  },
  {
   "cell_type": "code",
   "execution_count": 118,
   "metadata": {},
   "outputs": [],
   "source": [
    "class Cheese():\n",
    "    def __init__(self, kind):\n",
    "        self.kind = kind\n",
    "\n",
    "    def __repr__(self):\n",
    "        return 'Cheese(%r)' % self.kind"
   ]
  },
  {
   "cell_type": "code",
   "execution_count": 133,
   "metadata": {},
   "outputs": [
    {
     "name": "stdout",
     "output_type": "stream",
     "text": [
      "[Cheese('Brie'), Cheese('Parmesan'), Cheese('Red Leicester'), Cheese('Tilsit')]\n",
      "['Brie', 'Parmesan', 'Red Leicester', 'Tilsit']\n",
      "['Parmesan']\n",
      "[]\n"
     ]
    }
   ],
   "source": [
    "import weakref\n",
    "stock = weakref.WeakValueDictionary()\n",
    "catalog = [Cheese('Red Leicester'), Cheese('Tilsit'), Cheese('Brie'), Cheese('Parmesan')]\n",
    "\n",
    "for cheese in catalog:\n",
    "    stock[cheese.kind] = cheese\n",
    "\n",
    "print(sorted(stock.values(), key=lambda c: c.kind))\n",
    "print(sorted(stock.keys()))\n",
    "del catalog\n",
    "print(sorted(stock.keys()))\n",
    "del cheese\n",
    "print(sorted(stock.keys()))"
   ]
  },
  {
   "cell_type": "markdown",
   "metadata": {},
   "source": [
    "### 8.6.2 약한 참조의 한계\n",
    "모든 파이썬이 약한 참조의 대상이 될 수 있는 것은 아니다. 기본적인 list와 dict 객체는 참조 대상이 될 수 없지만, 이 클래스들의 서브클래스는 이 문제를 다음 코드처럼 쉽게 해결할 수 있다.  \n",
    "set객체는 참조 대상이 될 수 있다. 사용자 정의형도 문제 없이 참조 대상이 될 수 있다. 그러나 **int 및 tuple 객체는 클래스를 상속해도 약한 참조의 대상이 될 수 없다.**  \n",
    "이러한 제약사항은 CPython 구현 방식에 따른 것이므로, 다른 파이썬에서는 적용되지 않을 수도 있다~ 다음절에서 설명하겠음"
   ]
  },
  {
   "cell_type": "code",
   "execution_count": 136,
   "metadata": {},
   "outputs": [
    {
     "data": {
      "text/plain": [
       "<weakref at 0x112117db0; to 'MyList' at 0x112117c70>"
      ]
     },
     "execution_count": 136,
     "metadata": {},
     "output_type": "execute_result"
    }
   ],
   "source": [
    "class MyList(list):\n",
    "    \"\"\"약한 참조의 대상이 될 수 있는 list 서브클래스\"\"\"\n",
    "    pass\n",
    "\n",
    "a = MyList(range(10))\n",
    "\n",
    "wtal = weakref.ref(a)\n",
    "wtal"
   ]
  },
  {
   "cell_type": "markdown",
   "metadata": {},
   "source": [
    "## 8.7 파이썬의 특이한 불변형 처리법\n",
    "> 이 절은 읽지 않고 넘어가도 좋다. 여기서는 파이썬 구현 내용에 대해 설명하며 파이썬 '사용자'에게 정말 중요한 것은 아니다. 여기서 설명하는 내용은 CPython 핵심 개발자가 수행한 편법과 최적화에 관한것이며 다른 파이썬 인터프리터 및 심지어 다음 버전에서는 적용되지 않을 ㅅ도 있으므로 중요하지 않지만, 이런 문제에 맞닥뜨릴 수도 있으니 알아두는 것이 좋다."
   ]
  },
  {
   "cell_type": "code",
   "execution_count": 139,
   "metadata": {},
   "outputs": [
    {
     "name": "stdout",
     "output_type": "stream",
     "text": [
      "True\n",
      "True\n"
     ]
    }
   ],
   "source": [
    "t1 = (1, 2, 3)\n",
    "t2 = tuple(t1)\n",
    "\n",
    "print(t1 is t2)     # t1과 t2는 동일한 객체에 바인딩 괴어 있음\n",
    "\n",
    "t3 = t1[:]\n",
    "\n",
    "print(t1 is t3)     # t1과 t3도 같음"
   ]
  },
  {
   "cell_type": "code",
   "execution_count": 143,
   "metadata": {},
   "outputs": [
    {
     "name": "stdout",
     "output_type": "stream",
     "text": [
      "False\n",
      "True\n"
     ]
    }
   ],
   "source": [
    "# 스트링 리터럴은 공유 객체를 생성하기도 한다.\n",
    "\n",
    "t1 = (1, 2, 3)\n",
    "t2 = (1, 2, 3)\n",
    "\n",
    "print(t2 is t1)     # 아까와 다르게 동일한 값이지만 다른 객체임\n",
    "\n",
    "s1 = 'ABC'\n",
    "s2 = 'ABC'\n",
    "\n",
    "print(s1 is s2)     # 동일한 str을 참조하고 있음"
   ]
  },
  {
   "cell_type": "markdown",
   "metadata": {},
   "source": [
    "# Note"
   ]
  },
  {
   "cell_type": "markdown",
   "metadata": {},
   "source": [
    "## Call by sharing"
   ]
  },
  {
   "cell_type": "code",
   "execution_count": 5,
   "metadata": {},
   "outputs": [
    {
     "name": "stdout",
     "output_type": "stream",
     "text": [
      "y is 4339803936\n",
      "x is 4339803936\n",
      "Changed local x to 4339803872\n"
     ]
    }
   ],
   "source": [
    "# immutable\n",
    "def foo(x):\n",
    "    # x와 y는 서로 다른 변수이다.\n",
    "    print('x is %d' % id(x))\n",
    "    x = 3\n",
    "    print('Changed local x to %d' % id(x))\n",
    "\n",
    "y = 5\n",
    "print('y is %d' % id(y))\n",
    "foo(y)"
   ]
  },
  {
   "cell_type": "code",
   "execution_count": 8,
   "metadata": {},
   "outputs": [
    {
     "name": "stdout",
     "output_type": "stream",
     "text": [
      "x is 4417464256\n",
      "[3]\n",
      "y is 4417464256\n"
     ]
    }
   ],
   "source": [
    "# mutable\n",
    "def foo(x):\n",
    "    # x와 y는 동일한 객체를 참조하고 있다.\n",
    "    x[0] = 3\n",
    "    print('x is %d' % id(x))\n",
    "\n",
    "y = [5]\n",
    "foo(y)\n",
    "print(y)\n",
    "print('y is %d' % id(y))"
   ]
  },
  {
   "cell_type": "code",
   "execution_count": 13,
   "metadata": {},
   "outputs": [
    {
     "name": "stdout",
     "output_type": "stream",
     "text": [
      "1 4339803808\n",
      "[4, 2, 3] 4417416640\n"
     ]
    }
   ],
   "source": [
    "x = 1\n",
    "y = [x, 2, 3]\n",
    "y[0] = 4\n",
    "\n",
    "print(x, id(x))\n",
    "print(y, id(y))"
   ]
  },
  {
   "cell_type": "markdown",
   "metadata": {},
   "source": [
    "## mutable한 객체를 기본매개변수로 사용하는 것은 위험하다\n",
    "기본 매개변수는 함수의 `__defaults__` 속성에 저장된다. 해당 속성은 함수가 처음 정의 될 때 초기화 된 이후 지속적으로 사용된다."
   ]
  },
  {
   "cell_type": "code",
   "execution_count": 14,
   "metadata": {},
   "outputs": [],
   "source": [
    "def foo(x=[]):\n",
    "    x.append(1)\n",
    "    print(foo.__defaults__)\n",
    "    print(x)"
   ]
  },
  {
   "cell_type": "code",
   "execution_count": 38,
   "metadata": {},
   "outputs": [
    {
     "ename": "TypeError",
     "evalue": "__defaults__ must be set to a tuple object",
     "output_type": "error",
     "traceback": [
      "\u001b[0;31m---------------------------------------------------------------------------\u001b[0m",
      "\u001b[0;31mTypeError\u001b[0m                                 Traceback (most recent call last)",
      "\u001b[1;32m/Users/yeshinkim/Sage/Fluent-Python/Yesin/Ch8. Object References, Mutability, and Recycling.ipynb Cell 13\u001b[0m in \u001b[0;36m<cell line: 1>\u001b[0;34m()\u001b[0m\n\u001b[0;32m----> <a href='vscode-notebook-cell:/Users/yeshinkim/Sage/Fluent-Python/Yesin/Ch8.%20Object%20References%2C%20Mutability%2C%20and%20Recycling.ipynb#X21sZmlsZQ%3D%3D?line=0'>1</a>\u001b[0m foo\u001b[39m.\u001b[39m\u001b[39m__defaults__\u001b[39m \u001b[39m=\u001b[39m \u001b[39mset\u001b[39m(\u001b[39m\"\u001b[39m\u001b[39ma\u001b[39m\u001b[39m\"\u001b[39m)\n",
      "\u001b[0;31mTypeError\u001b[0m: __defaults__ must be set to a tuple object"
     ]
    }
   ],
   "source": [
    "foo.__defaults__ = set(\"a\")"
   ]
  },
  {
   "cell_type": "code",
   "execution_count": 27,
   "metadata": {},
   "outputs": [
    {
     "name": "stdout",
     "output_type": "stream",
     "text": [
      "([1, 1, 1, 1, 1, 1, 1, 1, 1, 1, 1, 1],)\n",
      "[1, 1, 1, 1, 1, 1, 1, 1, 1, 1, 1, 1]\n",
      "([1, 1, 1, 1, 1, 1, 1, 1, 1, 1, 1, 1, 1],)\n",
      "[1, 1, 1, 1, 1, 1, 1, 1, 1, 1, 1, 1, 1]\n",
      "([1, 1, 1, 1, 1, 1, 1, 1, 1, 1, 1, 1, 1, 1],)\n",
      "[1, 1, 1, 1, 1, 1, 1, 1, 1, 1, 1, 1, 1, 1]\n",
      "([1, 1, 1, 1, 1, 1, 1, 1, 1, 1, 1, 1, 1, 1, 1],)\n",
      "[1, 1, 1, 1, 1, 1, 1, 1, 1, 1, 1, 1, 1, 1, 1]\n"
     ]
    }
   ],
   "source": [
    "foo()\n",
    "foo()\n",
    "foo()\n",
    "foo()"
   ]
  },
  {
   "cell_type": "code",
   "execution_count": 28,
   "metadata": {},
   "outputs": [
    {
     "name": "stdout",
     "output_type": "stream",
     "text": [
      "([1, 1, 1, 1, 1, 1, 1, 1, 1, 1, 1, 1, 1, 1, 1],)\n",
      "[4, 2, 3, 1]\n"
     ]
    }
   ],
   "source": [
    "foo(y)"
   ]
  },
  {
   "cell_type": "code",
   "execution_count": 39,
   "metadata": {},
   "outputs": [
    {
     "name": "stdout",
     "output_type": "stream",
     "text": [
      "['b', 'c'] ['b', 'c']\n"
     ]
    }
   ],
   "source": [
    "class Bus:\n",
    "    def __init__(self, passengers=None)-> None:\n",
    "        if passengers:\n",
    "            self.passengers = passengers\n",
    "        else:\n",
    "            self.passengers = []\n",
    "\n",
    "    def drop(self, name):\n",
    "        self.passengers.remove(name)\n",
    "\n",
    "\n",
    "team = ['a', 'b', 'c']\n",
    "bus = Bus(team)\n",
    "bus.drop('a')\n",
    "print(bus.passengers, team)\n"
   ]
  },
  {
   "cell_type": "code",
   "execution_count": null,
   "metadata": {},
   "outputs": [],
   "source": []
  }
 ],
 "metadata": {
  "kernelspec": {
   "display_name": "Python 3.8.13 ('estud')",
   "language": "python",
   "name": "python3"
  },
  "language_info": {
   "codemirror_mode": {
    "name": "ipython",
    "version": 3
   },
   "file_extension": ".py",
   "mimetype": "text/x-python",
   "name": "python",
   "nbconvert_exporter": "python",
   "pygments_lexer": "ipython3",
   "version": "3.8.13"
  },
  "orig_nbformat": 4,
  "vscode": {
   "interpreter": {
    "hash": "391b1e7ce2e81530d6fa13507e2cf4fd1c09c0aaf5e54d082942efacf0dd49e1"
   }
  }
 },
 "nbformat": 4,
 "nbformat_minor": 2
}
