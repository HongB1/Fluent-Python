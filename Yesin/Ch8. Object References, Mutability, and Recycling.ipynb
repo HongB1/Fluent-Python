{
 "cells": [
  {
   "cell_type": "markdown",
   "metadata": {},
   "source": [
    "# Chapter 8. Object References, Mutability, and Recycling\n",
    "\n",
    "파이썬 변수를 은유적으로 표현한다. 변수는 이름표지 상자 자체가 아니다. 참조 변수를 알고 있다면 다른 사람에게 별명(alias)문제를 설명할 때 이 비유가 도움이 될 것이다.(?)  \n",
    "**변수가 데이터를 저장하는 일종의 상자와 같다고 배운 것은 잊어버리자!**"
   ]
  },
  {
   "cell_type": "markdown",
   "metadata": {},
   "source": [
    "## 8.1 변수는 상자가 아니다\n",
    "상자로서의 변수 라는 개념이 실제로 객체지향 언어에서 참조변수를 이해하는 데 방해가 된다고 강조했다. 파이썬 변수는 자바에서의 참조 변수와 같으므로 변수는 객체에 붙은 레이블이라고 생각하는 것이 좋다.  \n",
    "(여기서는 포스트잇이라고 표현하네요)"
   ]
  },
  {
   "cell_type": "code",
   "execution_count": 1,
   "metadata": {},
   "outputs": [
    {
     "name": "stdout",
     "output_type": "stream",
     "text": [
      "[1, 2, 3, 4]\n"
     ]
    }
   ],
   "source": [
    "a = [1, 2, 3]\n",
    "b = a\n",
    "a.append(4)\n",
    "print(b)"
   ]
  },
  {
   "cell_type": "code",
   "execution_count": 3,
   "metadata": {},
   "outputs": [
    {
     "name": "stdout",
     "output_type": "stream",
     "text": [
      "Gizmo id: 4400789104\n",
      "Gizmo id: 4400791360\n"
     ]
    },
    {
     "ename": "TypeError",
     "evalue": "unsupported operand type(s) for *: 'Gizmo' and 'int'",
     "output_type": "error",
     "traceback": [
      "\u001b[0;31m---------------------------------------------------------------------------\u001b[0m",
      "\u001b[0;31mTypeError\u001b[0m                                 Traceback (most recent call last)",
      "\u001b[1;32m/Users/yeshinkim/Sage/Fluent-Python/Yesin/Ch8. Object References, Mutability, and Recycling.ipynb Cell 4\u001b[0m in \u001b[0;36m<cell line: 6>\u001b[0;34m()\u001b[0m\n\u001b[1;32m      <a href='vscode-notebook-cell:/Users/yeshinkim/Sage/Fluent-Python/Yesin/Ch8.%20Object%20References%2C%20Mutability%2C%20and%20Recycling.ipynb#W3sZmlsZQ%3D%3D?line=2'>3</a>\u001b[0m         \u001b[39mprint\u001b[39m(\u001b[39m'\u001b[39m\u001b[39mGizmo id: \u001b[39m\u001b[39m%d\u001b[39;00m\u001b[39m'\u001b[39m \u001b[39m%\u001b[39m \u001b[39mid\u001b[39m(\u001b[39mself\u001b[39m))\n\u001b[1;32m      <a href='vscode-notebook-cell:/Users/yeshinkim/Sage/Fluent-Python/Yesin/Ch8.%20Object%20References%2C%20Mutability%2C%20and%20Recycling.ipynb#W3sZmlsZQ%3D%3D?line=4'>5</a>\u001b[0m x \u001b[39m=\u001b[39m Gizmo()\n\u001b[0;32m----> <a href='vscode-notebook-cell:/Users/yeshinkim/Sage/Fluent-Python/Yesin/Ch8.%20Object%20References%2C%20Mutability%2C%20and%20Recycling.ipynb#W3sZmlsZQ%3D%3D?line=5'>6</a>\u001b[0m y \u001b[39m=\u001b[39m Gizmo() \u001b[39m*\u001b[39;49m \u001b[39m10\u001b[39;49m\n",
      "\u001b[0;31mTypeError\u001b[0m: unsupported operand type(s) for *: 'Gizmo' and 'int'"
     ]
    }
   ],
   "source": [
    "class Gizmo:\n",
    "    def __init__(self):\n",
    "        print('Gizmo id: %d' % id(self))\n",
    "\n",
    "x = Gizmo() # = 는 할당 연산자, 객체를 생성하고 그 객체를 가리키는 변수를 만든다.\n",
    "y = Gizmo() * 10"
   ]
  },
  {
   "cell_type": "code",
   "execution_count": 4,
   "metadata": {},
   "outputs": [
    {
     "data": {
      "text/plain": [
       "['Gizmo',\n",
       " 'In',\n",
       " 'Out',\n",
       " '_',\n",
       " '__',\n",
       " '___',\n",
       " '__builtin__',\n",
       " '__builtins__',\n",
       " '__doc__',\n",
       " '__loader__',\n",
       " '__name__',\n",
       " '__package__',\n",
       " '__spec__',\n",
       " '__vsc_ipynb_file__',\n",
       " '_dh',\n",
       " '_i',\n",
       " '_i1',\n",
       " '_i2',\n",
       " '_i3',\n",
       " '_i4',\n",
       " '_ih',\n",
       " '_ii',\n",
       " '_iii',\n",
       " '_oh',\n",
       " 'a',\n",
       " 'b',\n",
       " 'exit',\n",
       " 'get_ipython',\n",
       " 'os',\n",
       " 'quit',\n",
       " 'sys',\n",
       " 'x']"
      ]
     },
     "execution_count": 4,
     "metadata": {},
     "output_type": "execute_result"
    }
   ],
   "source": [
    "dir()"
   ]
  },
  {
   "cell_type": "code",
   "execution_count": 40,
   "metadata": {},
   "outputs": [
    {
     "data": {
      "text/plain": [
       "<weakref at 0x107586c70; to 'set' at 0x1074a8e40>"
      ]
     },
     "execution_count": 40,
     "metadata": {},
     "output_type": "execute_result"
    }
   ],
   "source": [
    "import weakref\n",
    "a_set = {0, 1}\n",
    "wref = weakref.ref(a_set)\n",
    "wref"
   ]
  },
  {
   "cell_type": "code",
   "execution_count": 47,
   "metadata": {},
   "outputs": [
    {
     "data": {
      "text/plain": [
       "{0, 1}"
      ]
     },
     "execution_count": 47,
     "metadata": {},
     "output_type": "execute_result"
    }
   ],
   "source": [
    "wref()"
   ]
  },
  {
   "cell_type": "code",
   "execution_count": 48,
   "metadata": {},
   "outputs": [
    {
     "data": {
      "text/plain": [
       "{0, 1}"
      ]
     },
     "execution_count": 48,
     "metadata": {},
     "output_type": "execute_result"
    }
   ],
   "source": [
    "_   # 어이없는 변수가 나옵니다."
   ]
  },
  {
   "cell_type": "code",
   "execution_count": 56,
   "metadata": {},
   "outputs": [
    {
     "name": "stdout",
     "output_type": "stream",
     "text": [
      "{0, 1}\n",
      "False\n",
      "False\n",
      "False\n"
     ]
    }
   ],
   "source": [
    "a = {2, 3, 4}\n",
    "print(wref())\n",
    "print(_)\n",
    "print(wref() is None)\n",
    "print(wref() is None)   # 여기선 False가 나오긴 하지만 인터프리터에서 상에서는 True가 나옵니다.\n"
   ]
  },
  {
   "cell_type": "markdown",
   "metadata": {},
   "source": [
    "interpreter\n",
    "```\n",
    ">>> import weakref\n",
    ">>> a_set = {0,1}\n",
    ">>> wref = weakref.ref(a_set)\n",
    ">>> wref\n",
    "<weakref at 0x102f4a220; to 'set' at 0x1030bd040>\n",
    ">>> wref()\n",
    "{0, 1}\n",
    ">>> a_set = {2,3,4}\n",
    ">>> wref()\n",
    "{0, 1}\n",
    ">>> wref() is None\n",
    "False\n",
    ">>> _\n",
    "False\n",
    ">>> type(__\n",
    "... )\n",
    "Traceback (most recent call last):\n",
    "  File \"<stdin>\", line 1, in <module>\n",
    "NameError: name '__' is not defined\n",
    ">>> type(_)\n",
    "<class 'bool'>\n",
    ">>> wref() is None\n",
    "True\n",
    ">>> wref() is None\n",
    "True\n",
    ">>> wref() is None\n",
    "True\n",
    ">>> wref() is None\n",
    "True\n",
    ">>> \n",
    ">>> wref() is None\n",
    "True\n",
    "```"
   ]
  },
  {
   "cell_type": "markdown",
   "metadata": {},
   "source": [
    "# Note"
   ]
  },
  {
   "cell_type": "markdown",
   "metadata": {},
   "source": [
    "## Call by sharing"
   ]
  },
  {
   "cell_type": "code",
   "execution_count": 5,
   "metadata": {},
   "outputs": [
    {
     "name": "stdout",
     "output_type": "stream",
     "text": [
      "y is 4339803936\n",
      "x is 4339803936\n",
      "Changed local x to 4339803872\n"
     ]
    }
   ],
   "source": [
    "# immutable\n",
    "def foo(x):\n",
    "    # x와 y는 서로 다른 변수이다.\n",
    "    print('x is %d' % id(x))\n",
    "    x = 3\n",
    "    print('Changed local x to %d' % id(x))\n",
    "\n",
    "y = 5\n",
    "print('y is %d' % id(y))\n",
    "foo(y)"
   ]
  },
  {
   "cell_type": "code",
   "execution_count": 8,
   "metadata": {},
   "outputs": [
    {
     "name": "stdout",
     "output_type": "stream",
     "text": [
      "x is 4417464256\n",
      "[3]\n",
      "y is 4417464256\n"
     ]
    }
   ],
   "source": [
    "# mutable\n",
    "def foo(x):\n",
    "    # x와 y는 동일한 객체를 참조하고 있다.\n",
    "    x[0] = 3\n",
    "    print('x is %d' % id(x))\n",
    "\n",
    "y = [5]\n",
    "foo(y)\n",
    "print(y)\n",
    "print('y is %d' % id(y))"
   ]
  },
  {
   "cell_type": "code",
   "execution_count": 13,
   "metadata": {},
   "outputs": [
    {
     "name": "stdout",
     "output_type": "stream",
     "text": [
      "1 4339803808\n",
      "[4, 2, 3] 4417416640\n"
     ]
    }
   ],
   "source": [
    "x = 1\n",
    "y = [x, 2, 3]\n",
    "y[0] = 4\n",
    "\n",
    "print(x, id(x))\n",
    "print(y, id(y))"
   ]
  },
  {
   "cell_type": "markdown",
   "metadata": {},
   "source": [
    "## mutable한 객체를 기본매개변수로 사용하는 것은 위험하다\n",
    "기본 매개변수는 함수의 `__defaults__` 속성에 저장된다. 해당 속성은 함수가 처음 정의 될 때 초기화 된 이후 지속적으로 사용된다."
   ]
  },
  {
   "cell_type": "code",
   "execution_count": 14,
   "metadata": {},
   "outputs": [],
   "source": [
    "def foo(x=[]):\n",
    "    x.append(1)\n",
    "    print(foo.__defaults__)\n",
    "    print(x)"
   ]
  },
  {
   "cell_type": "code",
   "execution_count": 38,
   "metadata": {},
   "outputs": [
    {
     "ename": "TypeError",
     "evalue": "__defaults__ must be set to a tuple object",
     "output_type": "error",
     "traceback": [
      "\u001b[0;31m---------------------------------------------------------------------------\u001b[0m",
      "\u001b[0;31mTypeError\u001b[0m                                 Traceback (most recent call last)",
      "\u001b[1;32m/Users/yeshinkim/Sage/Fluent-Python/Yesin/Ch8. Object References, Mutability, and Recycling.ipynb Cell 13\u001b[0m in \u001b[0;36m<cell line: 1>\u001b[0;34m()\u001b[0m\n\u001b[0;32m----> <a href='vscode-notebook-cell:/Users/yeshinkim/Sage/Fluent-Python/Yesin/Ch8.%20Object%20References%2C%20Mutability%2C%20and%20Recycling.ipynb#X21sZmlsZQ%3D%3D?line=0'>1</a>\u001b[0m foo\u001b[39m.\u001b[39m\u001b[39m__defaults__\u001b[39m \u001b[39m=\u001b[39m \u001b[39mset\u001b[39m(\u001b[39m\"\u001b[39m\u001b[39ma\u001b[39m\u001b[39m\"\u001b[39m)\n",
      "\u001b[0;31mTypeError\u001b[0m: __defaults__ must be set to a tuple object"
     ]
    }
   ],
   "source": [
    "foo.__defaults__ = set(\"a\")"
   ]
  },
  {
   "cell_type": "code",
   "execution_count": 27,
   "metadata": {},
   "outputs": [
    {
     "name": "stdout",
     "output_type": "stream",
     "text": [
      "([1, 1, 1, 1, 1, 1, 1, 1, 1, 1, 1, 1],)\n",
      "[1, 1, 1, 1, 1, 1, 1, 1, 1, 1, 1, 1]\n",
      "([1, 1, 1, 1, 1, 1, 1, 1, 1, 1, 1, 1, 1],)\n",
      "[1, 1, 1, 1, 1, 1, 1, 1, 1, 1, 1, 1, 1]\n",
      "([1, 1, 1, 1, 1, 1, 1, 1, 1, 1, 1, 1, 1, 1],)\n",
      "[1, 1, 1, 1, 1, 1, 1, 1, 1, 1, 1, 1, 1, 1]\n",
      "([1, 1, 1, 1, 1, 1, 1, 1, 1, 1, 1, 1, 1, 1, 1],)\n",
      "[1, 1, 1, 1, 1, 1, 1, 1, 1, 1, 1, 1, 1, 1, 1]\n"
     ]
    }
   ],
   "source": [
    "foo()\n",
    "foo()\n",
    "foo()\n",
    "foo()"
   ]
  },
  {
   "cell_type": "code",
   "execution_count": 28,
   "metadata": {},
   "outputs": [
    {
     "name": "stdout",
     "output_type": "stream",
     "text": [
      "([1, 1, 1, 1, 1, 1, 1, 1, 1, 1, 1, 1, 1, 1, 1],)\n",
      "[4, 2, 3, 1]\n"
     ]
    }
   ],
   "source": [
    "foo(y)"
   ]
  },
  {
   "cell_type": "code",
   "execution_count": 39,
   "metadata": {},
   "outputs": [
    {
     "name": "stdout",
     "output_type": "stream",
     "text": [
      "['b', 'c'] ['b', 'c']\n"
     ]
    }
   ],
   "source": [
    "class Bus:\n",
    "    def __init__(self, passengers=None)-> None:\n",
    "        if passengers:\n",
    "            self.passengers = passengers\n",
    "        else:\n",
    "            self.passengers = []\n",
    "\n",
    "    def drop(self, name):\n",
    "        self.passengers.remove(name)\n",
    "\n",
    "\n",
    "team = ['a', 'b', 'c']\n",
    "bus = Bus(team)\n",
    "bus.drop('a')\n",
    "print(bus.passengers, team)\n"
   ]
  },
  {
   "cell_type": "code",
   "execution_count": null,
   "metadata": {},
   "outputs": [],
   "source": []
  }
 ],
 "metadata": {
  "kernelspec": {
   "display_name": "Python 3.8.13 ('estud')",
   "language": "python",
   "name": "python3"
  },
  "language_info": {
   "codemirror_mode": {
    "name": "ipython",
    "version": 3
   },
   "file_extension": ".py",
   "mimetype": "text/x-python",
   "name": "python",
   "nbconvert_exporter": "python",
   "pygments_lexer": "ipython3",
   "version": "3.8.13"
  },
  "orig_nbformat": 4,
  "vscode": {
   "interpreter": {
    "hash": "391b1e7ce2e81530d6fa13507e2cf4fd1c09c0aaf5e54d082942efacf0dd49e1"
   }
  }
 },
 "nbformat": 4,
 "nbformat_minor": 2
}
