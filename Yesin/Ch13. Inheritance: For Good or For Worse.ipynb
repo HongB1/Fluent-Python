{
 "cells": [
  {
   "attachments": {},
   "cell_type": "markdown",
   "metadata": {},
   "source": [
    "# Chapter13. 연산자 오버로딩: 제대로 하기\n",
    "## 13.1 연산자 오버로딩 기본 지식\n",
    "- 내장 자료형에 대한 연산자는 오버로딩할 수 없다.\n",
    "- 새로운 연산자를 생성할 수 없으며, 기존 연산자를 오버로딩만 할 수 있다.\n",
    "- is, and, or, not 연산자는 오버로딩할 수 없다.(그러나 비트 연산자는 가능하다)\n",
    "\n",
    "## 13.2 단항 연산자\n",
    "- `-(__neg__)`: 단항 산술 부정  \n",
    "    x가 -2면, -x는 2다.\n",
    "- `+(__pos__)`: 단항 산술 덧셈. 일반적으로 x와 +x는 동일하지만, 그렇지 않은 경우도 있다. 나중에 설명\n",
    "- `~(__invert__)`: 정수형의 비트 반전  \n",
    "    -x는 -(x+1)로 정의된다. (-x == -(x+1)).  \n",
    "    x가 2면, ~x는 -3이다.\n"
   ]
  },
  {
   "cell_type": "code",
   "execution_count": 4,
   "metadata": {},
   "outputs": [
    {
     "data": {
      "text/plain": [
       "Decimal('0.3333333333333333333333333333333333333333')"
      ]
     },
     "execution_count": 4,
     "metadata": {},
     "output_type": "execute_result"
    }
   ],
   "source": [
    "# x와 +x가 다른 경우\n",
    "import decimal\n",
    "\n",
    "ctx = decimal.getcontext()      # 산술 콘텍스트 전역 설정에 대한 참조\n",
    "ctx.prec = 40       # 산술 정밀도 설정\n",
    "one_third = decimal.Decimal('1') / decimal.Decimal('3')\n",
    "one_third"
   ]
  },
  {
   "cell_type": "code",
   "execution_count": 3,
   "metadata": {},
   "outputs": [
    {
     "data": {
      "text/plain": [
       "True"
      ]
     },
     "execution_count": 3,
     "metadata": {},
     "output_type": "execute_result"
    }
   ],
   "source": [
    "one_third == +one_third"
   ]
  },
  {
   "cell_type": "code",
   "execution_count": 5,
   "metadata": {},
   "outputs": [
    {
     "data": {
      "text/plain": [
       "False"
      ]
     },
     "execution_count": 5,
     "metadata": {},
     "output_type": "execute_result"
    }
   ],
   "source": [
    "ctx.prec = 28\n",
    "one_third == +one_third"
   ]
  },
  {
   "cell_type": "code",
   "execution_count": 7,
   "metadata": {},
   "outputs": [
    {
     "data": {
      "text/plain": [
       "Decimal('0.3333333333333333333333333333333333333333')"
      ]
     },
     "execution_count": 7,
     "metadata": {},
     "output_type": "execute_result"
    }
   ],
   "source": [
    "one_third"
   ]
  },
  {
   "cell_type": "code",
   "execution_count": 6,
   "metadata": {},
   "outputs": [
    {
     "data": {
      "text/plain": [
       "Decimal('0.3333333333333333333333333333')"
      ]
     },
     "execution_count": 6,
     "metadata": {},
     "output_type": "execute_result"
    }
   ],
   "source": [
    "+one_third"
   ]
  },
  {
   "cell_type": "code",
   "execution_count": 12,
   "metadata": {},
   "outputs": [
    {
     "name": "stdout",
     "output_type": "stream",
     "text": [
      "Counter({'a': 5, 'b': 2, 'r': 2, 'c': 1, 'd': 1})\n",
      "Counter({'a': 5, 'b': 2, 'c': 1, 'd': 0, 'r': -3})\n",
      "Counter({'a': 5, 'b': 2, 'c': 1})\n"
     ]
    }
   ],
   "source": [
    "# 두번째 사례\n",
    "from collections import Counter\n",
    "\n",
    "ct = Counter('abracadabra')\n",
    "print(ct)\n",
    "ct['r'] = -3\n",
    "ct['d'] = 0 \n",
    "print(ct)\n",
    "print(+ct)    # 0 보다 큰 값만 유지함"
   ]
  },
  {
   "cell_type": "code",
   "execution_count": null,
   "metadata": {},
   "outputs": [],
   "source": [
    "import math\n",
    "\n",
    "\n",
    "def __abs__(self):\n",
    "    return math.sqrt(sum(x * x for x in self ))\n",
    "\n",
    "def __neg__(self):\n",
    "    return Vector(-x for x in self)     # x를 모두 -x로 변환\n",
    "\n",
    "def __pos__(self):\n",
    "    return Vector(self) # self의 모든 요소로 Vector를 채움"
   ]
  },
  {
   "attachments": {},
   "cell_type": "markdown",
   "metadata": {},
   "source": [
    "## 13.3 벡터를 더하기 위해 + 오버로딩하기"
   ]
  },
  {
   "cell_type": "code",
   "execution_count": 14,
   "metadata": {},
   "outputs": [
    {
     "ename": "TypeError",
     "evalue": "__init__() missing 1 required positional argument: 'y'",
     "output_type": "error",
     "traceback": [
      "\u001b[0;31m---------------------------------------------------------------------------\u001b[0m",
      "\u001b[0;31mTypeError\u001b[0m                                 Traceback (most recent call last)",
      "\u001b[1;32m/Users/yeshinkim/Sage/Fluent-Python/Yesin/Ch13. Inheritance: For Good or For Worse.ipynb Cell 10\u001b[0m in \u001b[0;36m<cell line: 3>\u001b[0;34m()\u001b[0m\n\u001b[1;32m      <a href='vscode-notebook-cell:/Users/yeshinkim/Sage/Fluent-Python/Yesin/Ch13.%20Inheritance%3A%20For%20Good%20or%20For%20Worse.ipynb#X15sZmlsZQ%3D%3D?line=0'>1</a>\u001b[0m \u001b[39mfrom\u001b[39;00m \u001b[39mVector\u001b[39;00m\u001b[39m.\u001b[39;00m\u001b[39mVector_v3\u001b[39;00m \u001b[39mimport\u001b[39;00m Vector2d\n\u001b[0;32m----> <a href='vscode-notebook-cell:/Users/yeshinkim/Sage/Fluent-Python/Yesin/Ch13.%20Inheritance%3A%20For%20Good%20or%20For%20Worse.ipynb#X15sZmlsZQ%3D%3D?line=2'>3</a>\u001b[0m v1 \u001b[39m=\u001b[39m Vector2d([\u001b[39m3\u001b[39;49m,\u001b[39m4\u001b[39;49m,\u001b[39m5\u001b[39;49m])\n",
      "\u001b[0;31mTypeError\u001b[0m: __init__() missing 1 required positional argument: 'y'"
     ]
    }
   ],
   "source": []
  },
  {
   "cell_type": "code",
   "execution_count": null,
   "metadata": {},
   "outputs": [],
   "source": []
  }
 ],
 "metadata": {
  "kernelspec": {
   "display_name": "estud",
   "language": "python",
   "name": "python3"
  },
  "language_info": {
   "codemirror_mode": {
    "name": "ipython",
    "version": 3
   },
   "file_extension": ".py",
   "mimetype": "text/x-python",
   "name": "python",
   "nbconvert_exporter": "python",
   "pygments_lexer": "ipython3",
   "version": "3.8.13"
  },
  "orig_nbformat": 4,
  "vscode": {
   "interpreter": {
    "hash": "391b1e7ce2e81530d6fa13507e2cf4fd1c09c0aaf5e54d082942efacf0dd49e1"
   }
  }
 },
 "nbformat": 4,
 "nbformat_minor": 2
}
