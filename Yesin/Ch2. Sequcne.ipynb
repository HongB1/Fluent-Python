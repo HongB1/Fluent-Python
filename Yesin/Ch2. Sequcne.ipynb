{
 "cells": [
  {
   "cell_type": "markdown",
   "metadata": {},
   "source": [
    "# 2 Seqeunce\n",
    "\n",
    "\n",
    "> 파일이 다 날라감...추후에 다시 추가해서 적겠음..."
   ]
  },
  {
   "cell_type": "markdown",
   "metadata": {},
   "source": [
    "## Container"
   ]
  },
  {
   "cell_type": "markdown",
   "metadata": {},
   "source": [
    "flat은 어떤 자료형이 나올 지 알고 있기 때문에 메모리 양이 적음\n",
    "하지만 array는 뭐가 들어올지 몰라서 메모리를 여유롭게 사용함\n",
    "\n",
    "C언어의 경우 변수가 메모리 주소임.\n",
    "Python의 경우 변수에 값을 할당하면 메모리공간에 바로 값을 넣는 것이 아니라 메모리를 참조하는 방식임 -> python 메모리 관리에 대해서 더 찾아 보면 좋을 것!\n",
    "\n",
    "큰 데이터에서 list나, array에서 값을 추가할 때(append) list가 더 빨랐었다~\n",
    "\n",
    "array를 만들 때 두 가지 를 받는 데, 'I'는 자료형임"
   ]
  },
  {
   "cell_type": "markdown",
   "metadata": {},
   "source": [
    ">  list에서 뒤집을 때\n",
    "\n",
    "- list[i:j] -> O(k) 시간 복잡도 객체 k개에 대한 조회가 필요함\n",
    "- list.reverse() -> O(n) 리스트에만 제공된다.  \n",
    "\n",
    "슬라이싱이 속도가 더 빠름!!!!\n",
    "\n",
    "하지만 "
   ]
  }
 ],
 "metadata": {
  "kernelspec": {
   "display_name": "Python 3.8.13 ('estud')",
   "language": "python",
   "name": "python3"
  },
  "language_info": {
   "codemirror_mode": {
    "name": "ipython",
    "version": 3
   },
   "file_extension": ".py",
   "mimetype": "text/x-python",
   "name": "python",
   "nbconvert_exporter": "python",
   "pygments_lexer": "ipython3",
   "version": "3.8.13"
  },
  "orig_nbformat": 4,
  "vscode": {
   "interpreter": {
    "hash": "391b1e7ce2e81530d6fa13507e2cf4fd1c09c0aaf5e54d082942efacf0dd49e1"
   }
  }
 },
 "nbformat": 4,
 "nbformat_minor": 2
}
