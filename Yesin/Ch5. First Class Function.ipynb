{
 "cells": [
  {
   "cell_type": "markdown",
   "metadata": {},
   "source": [
    "# Chapter 5. 파이썬의 함수는 일급 객체다.\n",
    "- 파이썬에서 모든 함수는 일급이다."
   ]
  },
  {
   "cell_type": "markdown",
   "metadata": {},
   "source": [
    "## 5.1 함수를 객체처럼 다루기"
   ]
  },
  {
   "cell_type": "code",
   "execution_count": 21,
   "metadata": {},
   "outputs": [],
   "source": [
    "def factorial(n):\n",
    "    \"\"\"returns n!\"\"\"\n",
    "    return 1 if n < 2 else n * factorial(n-1)"
   ]
  },
  {
   "cell_type": "code",
   "execution_count": 22,
   "metadata": {},
   "outputs": [
    {
     "name": "stdout",
     "output_type": "stream",
     "text": [
      "1405006117752879898543142606244511569936384000000000\n",
      "returns n!\n",
      "<class 'function'>\n"
     ]
    }
   ],
   "source": [
    "print(factorial(42))\n",
    "print(factorial.__doc__)\n",
    "print(type(factorial))"
   ]
  },
  {
   "cell_type": "code",
   "execution_count": 23,
   "metadata": {},
   "outputs": [
    {
     "name": "stdout",
     "output_type": "stream",
     "text": [
      "<function factorial at 0x10b65c820>\n"
     ]
    }
   ],
   "source": [
    "fact = factorial\n",
    "print(fact)"
   ]
  },
  {
   "cell_type": "code",
   "execution_count": 24,
   "metadata": {},
   "outputs": [
    {
     "data": {
      "text/plain": [
       "120"
      ]
     },
     "execution_count": 24,
     "metadata": {},
     "output_type": "execute_result"
    }
   ],
   "source": [
    "fact(5)"
   ]
  },
  {
   "cell_type": "code",
   "execution_count": 25,
   "metadata": {},
   "outputs": [
    {
     "data": {
      "text/plain": [
       "<map at 0x10a9e46a0>"
      ]
     },
     "execution_count": 25,
     "metadata": {},
     "output_type": "execute_result"
    }
   ],
   "source": [
    "map(factorial, range(11))"
   ]
  },
  {
   "cell_type": "code",
   "execution_count": 26,
   "metadata": {},
   "outputs": [
    {
     "data": {
      "text/plain": [
       "[1, 1, 2, 6, 24, 120, 720, 5040, 40320, 362880, 3628800]"
      ]
     },
     "execution_count": 26,
     "metadata": {},
     "output_type": "execute_result"
    }
   ],
   "source": [
    "list(map(fact, range(11)))"
   ]
  },
  {
   "cell_type": "markdown",
   "metadata": {},
   "source": [
    "## 5.2 고위 함수\n",
    "> 함수를 인수로 받거나, 함수를 결과로 반환하는 함수를 고위 함수(higher-order function)라고 한다. 대표적으로 `map()`함수가 있다.  `list.sort()`와 `sorted()` 내장함수에서 소개한 `sorted()` 내장함수도 일급 함수의 예다.\n",
    "예를 들어 다음의 예제처럼 길이에 따라 단어 리스트를 정렬하려면 len 함수를 key 인수로 전달하면 된다."
   ]
  },
  {
   "cell_type": "code",
   "execution_count": 27,
   "metadata": {},
   "outputs": [
    {
     "data": {
      "text/plain": [
       "['fig', 'apple', 'cherry', 'banana', 'raspberry', 'strawberry']"
      ]
     },
     "execution_count": 27,
     "metadata": {},
     "output_type": "execute_result"
    }
   ],
   "source": [
    "fruits = ['strawberry', 'fig', 'apple', 'cherry', 'raspberry', 'banana']\n",
    "sorted(fruits, key=len)"
   ]
  },
  {
   "cell_type": "code",
   "execution_count": 28,
   "metadata": {},
   "outputs": [
    {
     "data": {
      "text/plain": [
       "'gnitset'"
      ]
     },
     "execution_count": 28,
     "metadata": {},
     "output_type": "execute_result"
    }
   ],
   "source": [
    "# 인수 하나를 받는 함수는 모두 key 인수로 사용할 수 있다.\n",
    "def reverse(word):\n",
    "    return word[::-1]\n",
    "\n",
    "reverse('testing')"
   ]
  },
  {
   "cell_type": "code",
   "execution_count": 29,
   "metadata": {},
   "outputs": [
    {
     "data": {
      "text/plain": [
       "['banana', 'apple', 'fig', 'raspberry', 'strawberry', 'cherry']"
      ]
     },
     "execution_count": 29,
     "metadata": {},
     "output_type": "execute_result"
    }
   ],
   "source": [
    "# key 인수에 reverse 함수를 넘겨주면, reverse 함수가 반환하는 값으로 정렬한다.\n",
    "sorted(fruits, key=reverse)"
   ]
  },
  {
   "cell_type": "markdown",
   "metadata": {},
   "source": [
    "### 5.2.1 map(), filter(), reduce()의 대안"
   ]
  },
  {
   "cell_type": "code",
   "execution_count": 30,
   "metadata": {},
   "outputs": [
    {
     "name": "stdout",
     "output_type": "stream",
     "text": [
      "[1, 1, 2, 6, 24, 120]\n",
      "[1, 1, 2, 6, 24, 120]\n",
      "[1, 6, 120]\n",
      "[1, 6, 120]\n"
     ]
    }
   ],
   "source": [
    "print(list(map(fact, range(6))))        # 0!에서 5!\n",
    "print([fact(n) for n in range(6)])      # 동일한 연산을 컴프리헨션으로\n",
    "print(list(map(factorial, filter(lambda n: n % 2, range(6)))))      # map과 filter를 사용해 0!에서 5!까지의 홀수 팩토리얼을 계산\n",
    "print([factorial(n) for n in range(6) if n % 2])                    # 동일한 연산을 컴프리헨션으로\n"
   ]
  },
  {
   "cell_type": "markdown",
   "metadata": {},
   "source": [
    "파이썬 3에서 map()과 filter()는 제너레이터를 반환하므로, 제너레이터 표현식이 이 함수들을 직접 대체한다."
   ]
  },
  {
   "cell_type": "code",
   "execution_count": 31,
   "metadata": {},
   "outputs": [
    {
     "name": "stdout",
     "output_type": "stream",
     "text": [
      "4950\n",
      "4950\n"
     ]
    }
   ],
   "source": [
    "from functools import reduce\n",
    "from operator import add\n",
    "\n",
    "print(reduce(add, range(100)))          # 0부터 99까지의 합\n",
    "print(sum(range(100)))                  # 동일한 연산을 내장 함수로"
   ]
  },
  {
   "cell_type": "markdown",
   "metadata": {},
   "source": [
    "고위 함수를 사용할 때 작은 일회용 함수를 생성하는 것이 편리할 때도 있다. 그렇기 때문에 익명 함수가 유용하게 사용된다. 익명 함수에 대해 알아보자."
   ]
  },
  {
   "cell_type": "markdown",
   "metadata": {},
   "source": [
    "## 5.3 익명 함수\n",
    "`lambda`는 파이썬 표현식 내에 익명 함수를 생성한다. 그렇지만 파이썬의 단순한 구문이 람다 함수의 본체가 순수한 표현식으로만 구성되도록 제한한다. 즉, 람다에서는 할당문이나 while, try 등의 복합 문을 사용할 수 없다. 람다 함수는 이름이 없기 때문에, 람다 함수를 호출할 때는 람다 함수를 할당한 변수를 사용할 수 없다. 람다 함수는 일회용 함수로 사용하고, 람다 함수를 호출할 때는 람다 함수를 정의한 표현식을 사용한다."
   ]
  },
  {
   "cell_type": "code",
   "execution_count": 32,
   "metadata": {},
   "outputs": [
    {
     "name": "stdout",
     "output_type": "stream",
     "text": [
      "['banana', 'apple', 'fig', 'raspberry', 'strawberry', 'cherry']\n"
     ]
    }
   ],
   "source": [
    "# lambda를 사용해서 철자 역순으로 단어 리스트 정렬\n",
    "fruits = ['strawberry', 'fig', 'apple', 'cherry', 'raspberry', 'banana']\n",
    "print(sorted(fruits, key=lambda word: word[::-1]))"
   ]
  },
  {
   "cell_type": "markdown",
   "metadata": {},
   "source": [
    "## 5.4 일곱 가지 맛의 콜러블 객체 (??)\n",
    "<!-- ㅋㅋㅋㅋㅋㅋㅋ -->\n",
    "콜러블 객체는 호출 연산자 `()`를 사용할 수 있는 객체를 말한다. 파이썬에서는 함수, 메서드, 클래스, 클래스의 인스턴스, 제너레이터 함수, 제너레이터, 코루틴, 코루틴 데코레이터 등이 콜러블 객체이다.  \n",
    "파이썬에서는 다양한 콜러블형이 존재하므로, callable() 내장 함수를 사용하여 객체가 콜러블 객체인지 확인하는 것이 가장 안전하다."
   ]
  },
  {
   "cell_type": "code",
   "execution_count": 33,
   "metadata": {},
   "outputs": [
    {
     "data": {
      "text/plain": [
       "(<function abs(x, /)>, str, 13)"
      ]
     },
     "execution_count": 33,
     "metadata": {},
     "output_type": "execute_result"
    }
   ],
   "source": [
    "abs, str, 13"
   ]
  },
  {
   "cell_type": "code",
   "execution_count": 34,
   "metadata": {},
   "outputs": [
    {
     "data": {
      "text/plain": [
       "(True, True, False)"
      ]
     },
     "execution_count": 34,
     "metadata": {},
     "output_type": "execute_result"
    }
   ],
   "source": [
    "callable(abs), callable(str), callable(13)"
   ]
  },
  {
   "cell_type": "markdown",
   "metadata": {},
   "source": [
    "## 5.5 사용자 정의 콜러블형\n",
    "파이썬 함수가 실체 객체일 뿐만 아니라, 모든 파이썬 객체가 함수처럼 동작하게 만들 수 있다. 단지 `__call__()` 메서드만 구현하면 된다."
   ]
  },
  {
   "cell_type": "code",
   "execution_count": 35,
   "metadata": {},
   "outputs": [],
   "source": [
    "import random\n",
    "\n",
    "class BingoCage:\n",
    "    def __init__(self, items):\n",
    "        self._items = list(items)\n",
    "        random.shuffle(self._items)\n",
    "\n",
    "    def pick(self):\n",
    "        try:\n",
    "            return self._items.pop()\n",
    "        except IndexError:\n",
    "            raise LookupError('pick from empty BingoCage')\n",
    "\n",
    "    def __call__(self):\n",
    "        return self.pick()\n",
    "\n"
   ]
  },
  {
   "cell_type": "code",
   "execution_count": 36,
   "metadata": {},
   "outputs": [
    {
     "name": "stdout",
     "output_type": "stream",
     "text": [
      "0\n",
      "2\n",
      "True\n"
     ]
    }
   ],
   "source": [
    "bingo = BingoCage(range(3))\n",
    "print(bingo.pick())\n",
    "print(bingo())\n",
    "print(callable(bingo))"
   ]
  },
  {
   "cell_type": "markdown",
   "metadata": {},
   "source": [
    "## 5.6 함수 인트로스펙션\n",
    "함수 객체는 __doc__ 이외에도 많은 속성을 가지고 있다. dir() 함수가 factorial() 함수의 속성을 보여준다."
   ]
  },
  {
   "cell_type": "code",
   "execution_count": 37,
   "metadata": {},
   "outputs": [
    {
     "data": {
      "text/plain": [
       "['__annotations__',\n",
       " '__call__',\n",
       " '__class__',\n",
       " '__closure__',\n",
       " '__code__',\n",
       " '__defaults__',\n",
       " '__delattr__',\n",
       " '__dict__',\n",
       " '__dir__',\n",
       " '__doc__',\n",
       " '__eq__',\n",
       " '__format__',\n",
       " '__ge__',\n",
       " '__get__',\n",
       " '__getattribute__',\n",
       " '__globals__',\n",
       " '__gt__',\n",
       " '__hash__',\n",
       " '__init__',\n",
       " '__init_subclass__',\n",
       " '__kwdefaults__',\n",
       " '__le__',\n",
       " '__lt__',\n",
       " '__module__',\n",
       " '__name__',\n",
       " '__ne__',\n",
       " '__new__',\n",
       " '__qualname__',\n",
       " '__reduce__',\n",
       " '__reduce_ex__',\n",
       " '__repr__',\n",
       " '__setattr__',\n",
       " '__sizeof__',\n",
       " '__str__',\n",
       " '__subclasshook__']"
      ]
     },
     "execution_count": 37,
     "metadata": {},
     "output_type": "execute_result"
    }
   ],
   "source": [
    "dir(factorial)"
   ]
  },
  {
   "cell_type": "code",
   "execution_count": 47,
   "metadata": {},
   "outputs": [
    {
     "data": {
      "text/plain": [
       "'Customer name'"
      ]
     },
     "execution_count": 47,
     "metadata": {},
     "output_type": "execute_result"
    }
   ],
   "source": [
    "def upper_case_name(obj):\n",
    "    return (\"%s %s\" % (obj.first_name, obj.last_name)).upper()\n",
    "\n",
    "upper_case_name.short_description = 'Customer name'\n",
    "upper_case_name.short_description   # 이런 식으로 함수의 속성을 추가할 수 있다."
   ]
  },
  {
   "cell_type": "code",
   "execution_count": 48,
   "metadata": {},
   "outputs": [
    {
     "data": {
      "text/plain": [
       "['__annotations__',\n",
       " '__call__',\n",
       " '__closure__',\n",
       " '__code__',\n",
       " '__defaults__',\n",
       " '__get__',\n",
       " '__globals__',\n",
       " '__kwdefaults__',\n",
       " '__name__',\n",
       " '__qualname__']"
      ]
     },
     "execution_count": 48,
     "metadata": {},
     "output_type": "execute_result"
    }
   ],
   "source": [
    "# 일반함수의 고유한 속성을 알아보려면 두 집합의 차집합을 구하면 된다.\n",
    "\n",
    "class C: pass\n",
    "obj = C()\n",
    "def func(): pass\n",
    "\n",
    "sorted(set(dir(func)) - set(dir(obj)))"
   ]
  },
  {
   "cell_type": "markdown",
   "metadata": {},
   "source": [
    "## 5.7 위치 매개변수에서 키워드 전용 매개변수까지\n",
    "키워드 전용 인수(keyword-only argument)를 이용해서 향상된, 파이썬 3의지극히 융통성 있는 매개변수 처리 매커니즘은 파이썬 함수에서 볼 수 있는 가장 훌륭한 기능 중 하나다. 함수를 호출 할 때 반복 가능 객체나 매핑형을 별도의 인수로 '폭발'시키는 *와 ** 기호도 이 메커니즘과 밀접하게 연관되어 있다. \n",
    "<!-- 어떻게? -->"
   ]
  },
  {
   "cell_type": "code",
   "execution_count": 55,
   "metadata": {},
   "outputs": [],
   "source": [
    "def tag(name, *connect, cls=None, **attr):\n",
    "    \"\"\"하나 이상의 HTML 태그를 생성한다.\"\"\"\n",
    "    if cls is not None:\n",
    "        attr['class'] = cls\n",
    "    if attr:\n",
    "        attr_str = ''.join(' %s=\"%s\"' % (attr, value)\n",
    "                           for attr, value\n",
    "                           in sorted(attr.items()))\n",
    "    else:\n",
    "        attr_str = ''\n",
    "    if connect:\n",
    "        return '\\n'.join('<%s%s>%s</%s>' %\n",
    "                         (name, attr_str, c, name) for c in connect)\n",
    "    else:\n",
    "        return '<%s%s />' % (name, attr_str)"
   ]
  },
  {
   "cell_type": "code",
   "execution_count": 50,
   "metadata": {},
   "outputs": [
    {
     "data": {
      "text/plain": [
       "'<br />'"
      ]
     },
     "execution_count": 50,
     "metadata": {},
     "output_type": "execute_result"
    }
   ],
   "source": [
    "tag('br')"
   ]
  },
  {
   "cell_type": "code",
   "execution_count": 51,
   "metadata": {},
   "outputs": [
    {
     "data": {
      "text/plain": [
       "'<p>hello</p>'"
      ]
     },
     "execution_count": 51,
     "metadata": {},
     "output_type": "execute_result"
    }
   ],
   "source": [
    "tag('p', 'hello')"
   ]
  },
  {
   "cell_type": "code",
   "execution_count": 57,
   "metadata": {},
   "outputs": [
    {
     "name": "stdout",
     "output_type": "stream",
     "text": [
      "<p>hello</p>\n",
      "<p>world</p>\n",
      "<p id=\"33\">hello</p>\n",
      "<p class=\"sidebar\">hello</p>\n",
      "<p class=\"sidebar\">world</p>\n",
      "<img content=\"testing\" />\n"
     ]
    }
   ],
   "source": [
    "print(tag('p', 'hello', 'world'))\n",
    "print(tag('p', 'hello', id=33))\n",
    "print(tag('p', 'hello', 'world', cls='sidebar'))\n",
    "print(tag(content='testing', name=\"img\"))"
   ]
  },
  {
   "cell_type": "code",
   "execution_count": 56,
   "metadata": {},
   "outputs": [
    {
     "name": "stdout",
     "output_type": "stream",
     "text": [
      "<img class=\"framed\" src=\"sunset.jpg\" title=\"Sunset Boulevard\" />\n"
     ]
    }
   ],
   "source": [
    "my_tag = {'name': 'img', 'title': 'Sunset Boulevard',\n",
    "          'src': 'sunset.jpg', 'cls': 'framed'}\n",
    "print(tag(**my_tag))"
   ]
  },
  {
   "cell_type": "markdown",
   "metadata": {},
   "source": [
    "## 5.8 매개변수에 대한 정보 읽기\n",
    "이건 넘어갈게요. what is bobo"
   ]
  },
  {
   "cell_type": "code",
   "execution_count": 58,
   "metadata": {},
   "outputs": [],
   "source": [
    "# 원하는 길이 가까이에 있는 공백에서 잘라서 문자열을 단축하는 함수\n",
    "def clip(text, max_len=80):\n",
    "    \"\"\"max_len 앞이나 뒤의 마지막 공백에서 잘라낸 텍스트를 반환한다.\"\"\"\n",
    "    end = None\n",
    "    if len(text) > max_len:\n",
    "        space_before = text.rfind(' ', 0, max_len)\n",
    "        if space_before >= 0:\n",
    "            end = space_before\n",
    "        else:\n",
    "            space_after = text.rfind(' ', max_len)\n",
    "            if space_after >= 0:\n",
    "                end = space_after\n",
    "    if end is None:     # 공백이 없다면 max_len까지만 잘라낸다.\n",
    "        end = max_len\n",
    "    return text[:end].rstrip()"
   ]
  },
  {
   "cell_type": "code",
   "execution_count": 61,
   "metadata": {},
   "outputs": [
    {
     "name": "stdout",
     "output_type": "stream",
     "text": [
      "(80,)\n",
      "<code object clip at 0x10516c9d0, file \"/var/folders/3t/3nx07css1dq7_gssfk5d_rn00000gn/T/ipykernel_51404/2236947758.py\", line 2>\n",
      "('text', 'max_len', 'end', 'space_before', 'space_after')\n",
      "2\n"
     ]
    }
   ],
   "source": [
    "print(clip.__defaults__)\n",
    "print(clip.__code__)\n",
    "print(clip.__code__.co_varnames)\n",
    "print(clip.__code__.co_argcount)"
   ]
  },
  {
   "cell_type": "code",
   "execution_count": 67,
   "metadata": {},
   "outputs": [
    {
     "data": {
      "text/plain": [
       "<Signature (text, max_len=80)>"
      ]
     },
     "execution_count": 67,
     "metadata": {},
     "output_type": "execute_result"
    }
   ],
   "source": [
    "# 해당 모듈을 사용하면 더 깔끔하게 확인할 수 있다.\n",
    "from inspect import signature\n",
    "\n",
    "sig = signature(clip)\n",
    "sig"
   ]
  },
  {
   "cell_type": "code",
   "execution_count": 68,
   "metadata": {},
   "outputs": [
    {
     "name": "stdout",
     "output_type": "stream",
     "text": [
      "POSITIONAL_OR_KEYWORD : text = <class 'inspect._empty'>\n",
      "POSITIONAL_OR_KEYWORD : max_len = 80\n"
     ]
    }
   ],
   "source": [
    "for name, param in sig.parameters.items():\n",
    "    print(param.kind, ':', name, '=', param.default)"
   ]
  },
  {
   "cell_type": "code",
   "execution_count": 77,
   "metadata": {},
   "outputs": [
    {
     "data": {
      "text/plain": [
       "<BoundArguments (name='img', cls='framed', attr={'title': 'Sunset Boulevard', 'src': 'sunset.jpg'})>"
      ]
     },
     "execution_count": 77,
     "metadata": {},
     "output_type": "execute_result"
    }
   ],
   "source": [
    "sig = signature(tag)\n",
    "my_tag = {'name': 'img', 'title': 'Sunset Boulevard',\n",
    "            'src': 'sunset.jpg', 'cls': 'framed'}\n",
    "bound_args = sig.bind(**my_tag)\n",
    "bound_args"
   ]
  },
  {
   "cell_type": "code",
   "execution_count": 75,
   "metadata": {},
   "outputs": [
    {
     "name": "stdout",
     "output_type": "stream",
     "text": [
      "name = img\n",
      "cls = framed\n",
      "attr = {'title': 'Sunset Boulevard', 'src': 'sunset.jpg'}\n"
     ]
    }
   ],
   "source": [
    "for name, value in bound_args.arguments.items():\n",
    "    print(name, '=', value)"
   ]
  },
  {
   "cell_type": "code",
   "execution_count": 78,
   "metadata": {},
   "outputs": [
    {
     "ename": "TypeError",
     "evalue": "missing a required argument: 'name'",
     "output_type": "error",
     "traceback": [
      "\u001b[0;31m---------------------------------------------------------------------------\u001b[0m",
      "\u001b[0;31mTypeError\u001b[0m                                 Traceback (most recent call last)",
      "\u001b[1;32m/Users/yesinkim/Bailando/Fluent-Python/Yesin/Ch5. First Class Function.ipynb 셀 43\u001b[0m in \u001b[0;36m<cell line: 2>\u001b[0;34m()\u001b[0m\n\u001b[1;32m      <a href='vscode-notebook-cell:/Users/yesinkim/Bailando/Fluent-Python/Yesin/Ch5.%20First%20Class%20Function.ipynb#X61sZmlsZQ%3D%3D?line=0'>1</a>\u001b[0m \u001b[39mdel\u001b[39;00m my_tag[\u001b[39m'\u001b[39m\u001b[39mname\u001b[39m\u001b[39m'\u001b[39m]\n\u001b[0;32m----> <a href='vscode-notebook-cell:/Users/yesinkim/Bailando/Fluent-Python/Yesin/Ch5.%20First%20Class%20Function.ipynb#X61sZmlsZQ%3D%3D?line=1'>2</a>\u001b[0m bound_args \u001b[39m=\u001b[39m sig\u001b[39m.\u001b[39;49mbind(\u001b[39m*\u001b[39;49m\u001b[39m*\u001b[39;49mmy_tag)\n",
      "File \u001b[0;32m/opt/homebrew/Caskroom/miniconda/base/envs/estud/lib/python3.8/inspect.py:3037\u001b[0m, in \u001b[0;36mSignature.bind\u001b[0;34m(self, *args, **kwargs)\u001b[0m\n\u001b[1;32m   3032\u001b[0m \u001b[39mdef\u001b[39;00m \u001b[39mbind\u001b[39m(\u001b[39mself\u001b[39m, \u001b[39m/\u001b[39m, \u001b[39m*\u001b[39margs, \u001b[39m*\u001b[39m\u001b[39m*\u001b[39mkwargs):\n\u001b[1;32m   3033\u001b[0m     \u001b[39m\"\"\"Get a BoundArguments object, that maps the passed `args`\u001b[39;00m\n\u001b[1;32m   3034\u001b[0m \u001b[39m    and `kwargs` to the function's signature.  Raises `TypeError`\u001b[39;00m\n\u001b[1;32m   3035\u001b[0m \u001b[39m    if the passed arguments can not be bound.\u001b[39;00m\n\u001b[1;32m   3036\u001b[0m \u001b[39m    \"\"\"\u001b[39;00m\n\u001b[0;32m-> 3037\u001b[0m     \u001b[39mreturn\u001b[39;00m \u001b[39mself\u001b[39;49m\u001b[39m.\u001b[39;49m_bind(args, kwargs)\n",
      "File \u001b[0;32m/opt/homebrew/Caskroom/miniconda/base/envs/estud/lib/python3.8/inspect.py:2952\u001b[0m, in \u001b[0;36mSignature._bind\u001b[0;34m(self, args, kwargs, partial)\u001b[0m\n\u001b[1;32m   2950\u001b[0m                 msg \u001b[39m=\u001b[39m \u001b[39m'\u001b[39m\u001b[39mmissing a required argument: \u001b[39m\u001b[39m{arg!r}\u001b[39;00m\u001b[39m'\u001b[39m\n\u001b[1;32m   2951\u001b[0m                 msg \u001b[39m=\u001b[39m msg\u001b[39m.\u001b[39mformat(arg\u001b[39m=\u001b[39mparam\u001b[39m.\u001b[39mname)\n\u001b[0;32m-> 2952\u001b[0m                 \u001b[39mraise\u001b[39;00m \u001b[39mTypeError\u001b[39;00m(msg) \u001b[39mfrom\u001b[39;00m \u001b[39mNone\u001b[39m\n\u001b[1;32m   2953\u001b[0m \u001b[39melse\u001b[39;00m:\n\u001b[1;32m   2954\u001b[0m     \u001b[39m# We have a positional argument to process\u001b[39;00m\n\u001b[1;32m   2955\u001b[0m     \u001b[39mtry\u001b[39;00m:\n",
      "\u001b[0;31mTypeError\u001b[0m: missing a required argument: 'name'"
     ]
    }
   ],
   "source": [
    "del my_tag['name']\n",
    "bound_args = sig.bind(**my_tag)"
   ]
  },
  {
   "cell_type": "markdown",
   "metadata": {},
   "source": [
    "## 5.9 함수 어노테이션\n",
    "함수에 type hint를 달아서 주석을 추가할 수 있다는 뜻이다."
   ]
  },
  {
   "cell_type": "code",
   "execution_count": 79,
   "metadata": {},
   "outputs": [],
   "source": [
    "def clip(text: str, max_len: 'int > 0'=80) -> str:\n",
    "    \"\"\"max_len 앞이나 뒤의 마지막 공백에서 잘라낸 텍스트를 반환한다.\"\"\"\n",
    "    end = None\n",
    "    if len(text) > max_len:\n",
    "        space_before = text.rfind(' ', 0, max_len)\n",
    "        if space_before >= 0:\n",
    "            end = space_before\n",
    "        else:\n",
    "            space_after = text.rfind(' ', max_len)\n",
    "            if space_after >= 0:\n",
    "                end = space_after\n",
    "    if end is None:     # 공백이 없다면 max_len까지만 잘라낸다.\n",
    "        end = max_len\n",
    "    return text[:end].rstrip()"
   ]
  },
  {
   "cell_type": "code",
   "execution_count": 80,
   "metadata": {},
   "outputs": [
    {
     "data": {
      "text/plain": [
       "{'text': str, 'max_len': 'int > 0', 'return': str}"
      ]
     },
     "execution_count": 80,
     "metadata": {},
     "output_type": "execute_result"
    }
   ],
   "source": [
    "clip.__annotations__    # __annotations__ 속성에 함수의 매개변수와 반환값에 대한 주석이 저장된다."
   ]
  },
  {
   "cell_type": "markdown",
   "metadata": {},
   "source": [
    "## 5.10 함수형 프로그래밍을 우한 패키지\n",
    "귀도 반 로섬씨는 파이썬이 함수형 프로그래밍 언어를 지향하지 않았다고 공표하고 있지만, operatordhk functools 같은 패키지의 지원으로 파이썬에서도 제법 함수형 코딩을 사용할 수 있다."
   ]
  },
  {
   "cell_type": "markdown",
   "metadata": {},
   "source": [
    "### 5.10.1 operator 모듈"
   ]
  },
  {
   "cell_type": "code",
   "execution_count": 81,
   "metadata": {},
   "outputs": [],
   "source": [
    "from functools import reduce\n",
    "\n",
    "def fact(n):\n",
    "    return reduce(lambda a, b: a*b, range(1, n+1))"
   ]
  },
  {
   "cell_type": "markdown",
   "metadata": {},
   "source": [
    "lambda a, b: a*b 같이 익명 함수를 작성하는 수고를 덜기 위해 operator는 수십 개의 연산자에 대응하는 함수를 제공한다.\n",
    "<!-- (하지만 왜 이렇게 써야하는 지 이해는 안 된다. 어쨌든 그런 방법이 있다고 합니다.) -->"
   ]
  },
  {
   "cell_type": "code",
   "execution_count": 82,
   "metadata": {},
   "outputs": [],
   "source": [
    "from operator import mul\n",
    "\n",
    "def fact(n):\n",
    "    return reduce(mul, range(1, n+1))"
   ]
  },
  {
   "cell_type": "code",
   "execution_count": null,
   "metadata": {},
   "outputs": [],
   "source": []
  }
 ],
 "metadata": {
  "kernelspec": {
   "display_name": "Python 3.8.13 ('estud')",
   "language": "python",
   "name": "python3"
  },
  "language_info": {
   "codemirror_mode": {
    "name": "ipython",
    "version": 3
   },
   "file_extension": ".py",
   "mimetype": "text/x-python",
   "name": "python",
   "nbconvert_exporter": "python",
   "pygments_lexer": "ipython3",
   "version": "3.8.13"
  },
  "orig_nbformat": 4,
  "vscode": {
   "interpreter": {
    "hash": "391b1e7ce2e81530d6fa13507e2cf4fd1c09c0aaf5e54d082942efacf0dd49e1"
   }
  }
 },
 "nbformat": 4,
 "nbformat_minor": 2
}
