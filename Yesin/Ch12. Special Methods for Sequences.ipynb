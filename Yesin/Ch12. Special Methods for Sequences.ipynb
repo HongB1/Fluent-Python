{
 "cells": [
  {
   "cell_type": "markdown",
   "metadata": {},
   "source": [
    "# Chapter12. 내장 자료형 상속과 다중 상속\n",
    "- 내장 자료형 상속의 위험성\n",
    "- 다중 상속과 메서드 결정 순서  \n",
    "\n",
    "Tkinter GUI toolkit과 Django를 통해 다중 상속을 설명한다."
   ]
  },
  {
   "cell_type": "markdown",
   "metadata": {},
   "source": [
    "## 12.1 내장 자료형의 상속은 까다롭다\n",
    "python 2.2 이전까지는 list나 dict 등 내장 자료형을 상속할 수 없었다."
   ]
  },
  {
   "cell_type": "code",
   "execution_count": 2,
   "metadata": {},
   "outputs": [],
   "source": [
    "#[12-1] __setattr__()을 오버라이드한 메서드를 무시하는 내장된 __init__()과, __update__() 메서드\\\n",
    "\n",
    "class DoppelDict(dict):\n",
    "    def __setitem__(self, key, value):\n",
    "        super().__setitem__(key, [value] * 2)"
   ]
  },
  {
   "cell_type": "code",
   "execution_count": 3,
   "metadata": {},
   "outputs": [
    {
     "data": {
      "text/plain": [
       "{'one': 1}"
      ]
     },
     "execution_count": 3,
     "metadata": {},
     "output_type": "execute_result"
    }
   ],
   "source": [
    "dd = DoppelDict(one=1)  # init은 setitem이 오버라이딩 된 것을 무시함\n",
    "dd"
   ]
  },
  {
   "cell_type": "code",
   "execution_count": 13,
   "metadata": {},
   "outputs": [
    {
     "data": {
      "text/plain": [
       "{'one': 1, 'two': [2, 2], 'three': 2}"
      ]
     },
     "execution_count": 13,
     "metadata": {},
     "output_type": "execute_result"
    }
   ],
   "source": [
    "dd['two']=2     # []연산자는 오버라이드한 __setitem__()을 호출하므로 two가 복제된 [2,2]에 매핑됨\n",
    "dd"
   ]
  },
  {
   "cell_type": "code",
   "execution_count": 15,
   "metadata": {},
   "outputs": [
    {
     "data": {
      "text/plain": [
       "{'one': 1, 'two': [2, 2], 'three': 3}"
      ]
     },
     "execution_count": 15,
     "metadata": {},
     "output_type": "execute_result"
    }
   ],
   "source": [
    "dd.update(three= 3)     # dict클래스의 update 메서드도 __setitem__()을 호출하지 않으므로 복제되지 않는다\n",
    "dd"
   ]
  },
  {
   "cell_type": "code",
   "execution_count": 16,
   "metadata": {},
   "outputs": [],
   "source": [
    "#[12-2] AnswerDict의 __getitem__()을 지나지는 dict.update()\n",
    "class AnswerDict(dict):\n",
    "    def __getitem__(self, key):     # key와 무관하게 42 리턴\n",
    "        return 42"
   ]
  },
  {
   "cell_type": "code",
   "execution_count": 17,
   "metadata": {},
   "outputs": [
    {
     "data": {
      "text/plain": [
       "42"
      ]
     },
     "execution_count": 17,
     "metadata": {},
     "output_type": "execute_result"
    }
   ],
   "source": [
    "ad = AnswerDict(a='foo')\n",
    "ad['a']     # getitem() returns"
   ]
  },
  {
   "cell_type": "code",
   "execution_count": 19,
   "metadata": {},
   "outputs": [
    {
     "data": {
      "text/plain": [
       "'foo'"
      ]
     },
     "execution_count": 19,
     "metadata": {},
     "output_type": "execute_result"
    }
   ],
   "source": [
    "d = {}\n",
    "d.update(ad)    # ad객체를 이용해 갱신\n",
    "d['a']          # dict.update()는 AnswerDict.__getitem__()을 무시한다."
   ]
  },
  {
   "cell_type": "code",
   "execution_count": 20,
   "metadata": {},
   "outputs": [
    {
     "data": {
      "text/plain": [
       "{'a': 'foo'}"
      ]
     },
     "execution_count": 20,
     "metadata": {},
     "output_type": "execute_result"
    }
   ],
   "source": [
    "d"
   ]
  },
  {
   "cell_type": "code",
   "execution_count": 21,
   "metadata": {},
   "outputs": [],
   "source": [
    "#[12-3] dict이 아니라 UserDict을 상속하면 위와 같은 문제가 해결된다.\n",
    "import collections\n",
    "\n",
    "class DoppelDict2(collections.UserDict):\n",
    "    def __setitem__(self, key, value):\n",
    "        return super().__setitem__(key, [value] * 2)\n",
    "\n",
    "class AnswerDict2(collections.UserDict):\n",
    "    def __getitem__(self, key):\n",
    "        return 42"
   ]
  },
  {
   "cell_type": "code",
   "execution_count": 23,
   "metadata": {},
   "outputs": [
    {
     "data": {
      "text/plain": [
       "{'one': [1, 1]}"
      ]
     },
     "execution_count": 23,
     "metadata": {},
     "output_type": "execute_result"
    }
   ],
   "source": [
    "dd = DoppelDict2(one=1)\n",
    "dd"
   ]
  },
  {
   "cell_type": "code",
   "execution_count": 24,
   "metadata": {},
   "outputs": [
    {
     "data": {
      "text/plain": [
       "{'one': [1, 1], 'two': [2, 2]}"
      ]
     },
     "execution_count": 24,
     "metadata": {},
     "output_type": "execute_result"
    }
   ],
   "source": [
    "dd['two']=2\n",
    "dd"
   ]
  },
  {
   "cell_type": "code",
   "execution_count": 26,
   "metadata": {},
   "outputs": [
    {
     "data": {
      "text/plain": [
       "{'one': [1, 1], 'two': [2, 2], 'three': [3, 3]}"
      ]
     },
     "execution_count": 26,
     "metadata": {},
     "output_type": "execute_result"
    }
   ],
   "source": [
    "dd.update(three=3)\n",
    "dd"
   ]
  },
  {
   "cell_type": "code",
   "execution_count": 29,
   "metadata": {},
   "outputs": [
    {
     "data": {
      "text/plain": [
       "42"
      ]
     },
     "execution_count": 29,
     "metadata": {},
     "output_type": "execute_result"
    }
   ],
   "source": [
    "ad = AnswerDict2(a='foo')\n",
    "ad['a']"
   ]
  },
  {
   "cell_type": "code",
   "execution_count": 30,
   "metadata": {},
   "outputs": [
    {
     "data": {
      "text/plain": [
       "42"
      ]
     },
     "execution_count": 30,
     "metadata": {},
     "output_type": "execute_result"
    }
   ],
   "source": [
    "d = {}\n",
    "d.update(ad)\n",
    "d['a']"
   ]
  },
  {
   "cell_type": "code",
   "execution_count": 31,
   "metadata": {},
   "outputs": [
    {
     "data": {
      "text/plain": [
       "{'a': 42}"
      ]
     },
     "execution_count": 31,
     "metadata": {},
     "output_type": "execute_result"
    }
   ],
   "source": [
    "d"
   ]
  },
  {
   "cell_type": "markdown",
   "metadata": {},
   "source": [
    "위 문제는 C언어로 구현된 내장 자료형의 메서드에 위임할 때만 발생하므로, 이러한 내장 자료형을 상곡한 사용자 정의 클래스에만 영향을 미친다. 따라서 UserDict이나, MutableMapping 등 파이썬으로 구현된 클래스를 상속할 때는 이런 문제가 발생하지 않는다."
   ]
  },
  {
   "cell_type": "markdown",
   "metadata": {},
   "source": [
    "## 12.2 다중 상속과 메서드 결정 순서\n",
    "다중 상속을 지원하는 언어에서는 별개의 상위클래스가 동일한 이름으로 메서드를 구현할 때 발생하는 이름 충돌 문제를 해결해야 한다. 예제[12-4]에서 보여주는 이름 충돌 문제를 '다이아몬드 문제'라고 한다."
   ]
  },
  {
   "cell_type": "code",
   "execution_count": 60,
   "metadata": {},
   "outputs": [],
   "source": [
    "#[12-4] 그림 [12-1]을 구현한 ABCD클래스\n",
    "class A:\n",
    "    def ping(self):\n",
    "        print('ping:', self)\n",
    "\n",
    "class B(A):\n",
    "    def pong(self):\n",
    "        print('pong:', self)\n",
    "\n",
    "class C(A):\n",
    "    def pong(self):\n",
    "        print('PONG:', self)\n",
    "\n",
    "class D(B, C):\n",
    "    def ping(self):\n",
    "        super().ping()\n",
    "        print('post-ping:', self)\n",
    "    \n",
    "    def pingpong(self):\n",
    "        self.ping()\n",
    "        super().ping()\n",
    "        self.pong()\n",
    "        super().pong()"
   ]
  },
  {
   "cell_type": "code",
   "execution_count": 49,
   "metadata": {},
   "outputs": [
    {
     "name": "stdout",
     "output_type": "stream",
     "text": [
      "pong: <diamond.D object at 0x1065f9400>\n",
      "PONG: <diamond.D object at 0x1065f9400>\n"
     ]
    }
   ],
   "source": [
    "from diamond import *\n",
    "\n",
    "d = D()\n",
    "d.pong()        # d.pong() -> Bz크래스 메서드 호출\n",
    "C.pong(d)       # 객체를 인수로 전달하면 슈퍼클래스의 메서드를 직접 호출할 수 있다."
   ]
  },
  {
   "cell_type": "markdown",
   "metadata": {},
   "source": [
    "파이썬이 상속 그래프를 조회할 떄는 특정한 순서를 따르므로, 위와 같은 호출의 모호함이 해결된다. 이 순서를 메서드 결정 순서(MRO; Method Resolution Order)라고 한다. 클래스에 있는 `__mro__` 속성은 현재 클래스부터 object 클래스까지 슈퍼클래스들의 MRO를 튜플 형태로 저장한다."
   ]
  },
  {
   "cell_type": "code",
   "execution_count": 50,
   "metadata": {},
   "outputs": [
    {
     "data": {
      "text/plain": [
       "(diamond.D, diamond.B, diamond.C, diamond.A, object)"
      ]
     },
     "execution_count": 50,
     "metadata": {},
     "output_type": "execute_result"
    }
   ],
   "source": [
    "D.__mro__"
   ]
  },
  {
   "cell_type": "markdown",
   "metadata": {},
   "source": [
    "슈퍼클래스 메서드에 위임할 떄는 내장 함수인 super()를 사용하는 것이 좋다. D 클래스 pingpong()메서드 처럼 파이썬 3에서는 사용하기가 더 쉬워졌다. 그러나 MRO를 위회해서 슈퍼클래스 메서드를 직접 호출할 수 있으며, 때로는 이 방법이 더 편리하다. \n",
    "```python\n",
    "class D(B, C):\n",
    "    def ping(self):     # super().ping() 대신 호출\n",
    "        print('post-ping:', self)\n",
    "    \n",
    "    def pingpong(self):\n",
    "        self.ping()\n",
    "        super().ping()\n",
    "        self.pong()\n",
    "        super().pong()\n",
    "```"
   ]
  },
  {
   "cell_type": "code",
   "execution_count": 63,
   "metadata": {},
   "outputs": [
    {
     "name": "stdout",
     "output_type": "stream",
     "text": [
      "ping: <__main__.D object at 0x105f73ee0>\n",
      "post-ping: <__main__.D object at 0x105f73ee0>\n"
     ]
    },
    {
     "data": {
      "text/plain": [
       "'\\nD의 ping은 메서드를 두 번 호출한다. \\n1. super().ping() -> A.ping()\\n2. 그 다음 호출한 메세지 -> D.ping()\\n'"
      ]
     },
     "execution_count": 63,
     "metadata": {},
     "output_type": "execute_result"
    }
   ],
   "source": [
    "# 객체 메서드를 클래스에 직접 호출할 때는 self를 반드시 명시해야 한다. 바인딩되지 않는 메서드에 접근하는 것이기 때문이다.\n",
    "d = D()\n",
    "d.ping()    \n",
    "\"\"\"\n",
    "D의 ping은 메서드를 두 번 호출한다. \n",
    "1. super().ping() -> A.ping()\n",
    "2. 그 다음 호출한 메세지 -> D.ping()\n",
    "\"\"\""
   ]
  },
  {
   "cell_type": "code",
   "execution_count": 66,
   "metadata": {},
   "outputs": [
    {
     "name": "stdout",
     "output_type": "stream",
     "text": [
      "ping: <diamond.D object at 0x105f73100>\n",
      "post-ping: <diamond.D object at 0x105f73100>\n",
      "ping: <diamond.D object at 0x105f73100>\n",
      "pong: <diamond.D object at 0x105f73100>\n",
      "pong: <diamond.D object at 0x105f73100>\n"
     ]
    }
   ],
   "source": [
    "from diamond import D\n",
    "d = D()\n",
    "d.pingpong()"
   ]
  },
  {
   "cell_type": "markdown",
   "metadata": {},
   "source": [
    "        ping: <diamond.D object at 0x105f73a90>     -> self.ping으로 D.ping()이다.  \n",
    "        post-ping: <diamond.D object at 0x105f73a90>-> super().ping()으로 A.ping()   \n",
    "        ping: <diamond.D object at 0x105f73a90>     -> self.pong()dmfh MRO에 따라 B.pong()  \n",
    "        pong: <diamond.D object at 0x105f73a90>     -> super().pong()으로 MRO에 따라 B.pong()  \n",
    "        pong: <diamond.D object at 0x105f73a90>     -> C.pong(self)가 출력한 것으로 MRO를 무시하고 C.pong()을 호출\n",
    "\n",
    "MRO는 상속 그래프 뿐ㄴ만 아니라 서브클래스 정의에 나열된 슈퍼클래스들의 순서도 고려한다. `class D(B, C)` 를 `class D(C, B)`로 바꾸면 C를 먼저 찾도록 변경됨.  \n",
    "필자는 계층구조를 조사할 때 MRO를 종종 살펴본다"
   ]
  },
  {
   "cell_type": "code",
   "execution_count": 67,
   "metadata": {},
   "outputs": [
    {
     "data": {
      "text/plain": [
       "(bool, int, object)"
      ]
     },
     "execution_count": 67,
     "metadata": {},
     "output_type": "execute_result"
    }
   ],
   "source": [
    "#[12-8] 여러 클래스에서 __mro__ 속성 조사하기\n",
    "bool.__mro__"
   ]
  },
  {
   "cell_type": "code",
   "execution_count": 2,
   "metadata": {},
   "outputs": [],
   "source": [
    "def print_mro(cls):\n",
    "    print(', '.join(c.__name__ for c in cls.__mro__))"
   ]
  },
  {
   "cell_type": "code",
   "execution_count": 73,
   "metadata": {},
   "outputs": [
    {
     "name": "stdout",
     "output_type": "stream",
     "text": [
      "bool, int, object\n",
      "int, object\n",
      "Integral, Rational, Real, Complex, Number, object\n",
      "BytesIO, _BufferedIOBase, _IOBase, object\n",
      "TextIOWrapper, _TextIOBase, _IOBase, object\n"
     ]
    }
   ],
   "source": [
    "import numbers\n",
    "import io\n",
    "\n",
    "print_mro(bool)\n",
    "# print_mros(FrenchDeck)\n",
    "print_mro(int)\n",
    "print_mro(numbers.Integral)\n",
    "print_mro(io.BytesIO)\n",
    "print_mro(io.TextIOWrapper)"
   ]
  },
  {
   "cell_type": "code",
   "execution_count": 74,
   "metadata": {},
   "outputs": [
    {
     "name": "stdout",
     "output_type": "stream",
     "text": [
      "Text, Widget, BaseWidget, Misc, Pack, Place, Grid, XView, YView, object\n"
     ]
    }
   ],
   "source": [
    "import tkinter\n",
    "\n",
    "print_mro(tkinter.Text)"
   ]
  },
  {
   "cell_type": "markdown",
   "metadata": {},
   "source": [
    "## 12.3 실세계에서의 다중 상속\n",
    "다중상속을 잘 활용할 수도 있. [디자인 패턴] 중 어댑터 패턴은 다중 상속을 사용하므로, 분명 다중 상속이 잘못된 것은 아니다. (그 책에서 설명하는 나머지 22개 패턴은 단일상속을 이용함)  \n",
    "파이썬 표준 라이브러리에서는 collection.abc 패키지에서 다중 상속을 많이 이용한다. 그렇다고 논란거리가 되는 것은 아님.  \n",
    "Tkinter는 오래되었지만, 다음 절에서 설명하기 좋은 패키지이다."
   ]
  },
  {
   "cell_type": "code",
   "execution_count": 3,
   "metadata": {},
   "outputs": [
    {
     "name": "stdout",
     "output_type": "stream",
     "text": [
      "Toplevel, BaseWidget, Misc, Wm, object\n",
      "Widget, BaseWidget, Misc, Pack, Place, Grid, object\n",
      "Button, Widget, BaseWidget, Misc, Pack, Place, Grid, object\n",
      "Entry, Widget, BaseWidget, Misc, Pack, Place, Grid, XView, object\n",
      "Text, Widget, BaseWidget, Misc, Pack, Place, Grid, XView, YView, object\n"
     ]
    }
   ],
   "source": [
    "import tkinter\n",
    "print_mro(tkinter.Toplevel)     # 최상위 윈도우 클래스\n",
    "print_mro(tkinter.Widget)       # 윈도우에 위치시킬 수 있는 모든 시각 객체의 슈퍼클래스\n",
    "print_mro(tkinter.Button)       # 평범한 버튼 클래스\n",
    "print_mro(tkinter.Entry)        # 편집할 수 있는 한 줄짜리 텍스트 필드\n",
    "print_mro(tkinter.Text)         # 편집할 수 있는 여러 줄짜리 텍스트 필드"
   ]
  },
  {
   "cell_type": "markdown",
   "metadata": {},
   "source": [
    "Toplebel은 시각적 위젯 중 유일하게 Widget에서 상속하지 않는다."
   ]
  },
  {
   "cell_type": "markdown",
   "metadata": {},
   "source": [
    "## 12.4 다중 상속 다루기\n",
    "1. 인터페이스 상속과 구현 상속을 구분한다."
   ]
  },
  {
   "cell_type": "code",
   "execution_count": null,
   "metadata": {},
   "outputs": [],
   "source": []
  }
 ],
 "metadata": {
  "kernelspec": {
   "display_name": "Python 3.8.13 ('estud')",
   "language": "python",
   "name": "python3"
  },
  "language_info": {
   "codemirror_mode": {
    "name": "ipython",
    "version": 3
   },
   "file_extension": ".py",
   "mimetype": "text/x-python",
   "name": "python",
   "nbconvert_exporter": "python",
   "pygments_lexer": "ipython3",
   "version": "3.8.13"
  },
  "orig_nbformat": 4,
  "vscode": {
   "interpreter": {
    "hash": "391b1e7ce2e81530d6fa13507e2cf4fd1c09c0aaf5e54d082942efacf0dd49e1"
   }
  }
 },
 "nbformat": 4,
 "nbformat_minor": 2
}
