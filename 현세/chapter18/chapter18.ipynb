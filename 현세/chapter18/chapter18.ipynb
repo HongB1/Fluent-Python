{
 "cells": [
  {
   "attachments": {},
   "cell_type": "markdown",
   "metadata": {},
   "source": [
    "# asyncio를 이용한 동시성"
   ]
  },
  {
   "attachments": {},
   "cell_type": "markdown",
   "metadata": {},
   "source": [
    "동시성은 한 번에 많은 것을 다룬다.   \n",
    "병렬성은 한 번에 많은 것을 한다.   \n",
    "똑같지는 않지만, 연관성은 있다.   \n",
    "동시성은 구조, 병렬성은 실행에 관한 것이다.   \n",
    "동시성은 병렬화할 수 있는 문제를 해결하기 위해 해결책을 구조화하는 방법을 제공한다."
   ]
  },
  {
   "attachments": {},
   "cell_type": "markdown",
   "metadata": {},
   "source": [
    "## 스레드와 코루틴 비교"
   ]
  },
  {
   "attachments": {},
   "cell_type": "markdown",
   "metadata": {},
   "source": [
    "http://bit.ly/1Ox3vWA"
   ]
  },
  {
   "cell_type": "code",
   "execution_count": null,
   "metadata": {},
   "outputs": [],
   "source": [
    "# spinner_thread.py python >= 3.7\n",
    "import threading\n",
    "import itertools\n",
    "import time\n",
    "\n",
    "\n",
    "def spin(msg, done):  # <1>\n",
    "    for char in itertools.cycle('|/-\\\\'):  # <3>\n",
    "        status = char + ' ' + msg\n",
    "        # \\r moves the cursor to the beginning of the line and then keeps outputting characters as normal\n",
    "        print(status, flush=True, end='\\r') \n",
    "        if done.wait(.1):  # <5> 내부 플래그가 True가 될 때까지 blocking / timeout : 0.1s\n",
    "            break\n",
    "    print(' ' * len(status), end='\\r')\n",
    "\n",
    "def slow_function():  # <7>\n",
    "    # pretend waiting a long time for I/O\n",
    "    time.sleep(3)  # <8>\n",
    "    return 42\n",
    "\n",
    "\n",
    "def supervisor():  # <9>\n",
    "    done = threading.Event() # thread 간의 간단한 통신을 위해 사용되는 객체\n",
    "    spinner = threading.Thread(target=spin,\n",
    "                               args=('thinking!', done))\n",
    "    print('spinner object:', spinner)  # <10>\n",
    "    spinner.start()  # <11>\n",
    "    result = slow_function()  # <12>\n",
    "    done.set()  # <13> 내부 플래그를 True로 설정\n",
    "    spinner.join()  # <14>\n",
    "    return result\n",
    "\n",
    "\n",
    "def main():\n",
    "    result = supervisor()  # <15>\n",
    "    print('Answer:', result)\n",
    "\n",
    "'''\n",
    "Event 객체\n",
    "\n",
    "thread 간의 간단한 통신을 위해 사용되는 객체\n",
    "is_set() : 내부 플래그가 True면 그때만 True 반환\n",
    "set() : 내부 플래그를 True로 설정\n",
    "clear() : 내부 플래그를 False로 설정\n",
    "wait(timeout=None) : 내부 플래그가 True가 될때까지 blocking함. \n",
    "'''\n"
   ]
  },
  {
   "cell_type": "code",
   "execution_count": null,
   "metadata": {},
   "outputs": [],
   "source": [
    "main()"
   ]
  },
  {
   "cell_type": "code",
   "execution_count": 11,
   "metadata": {},
   "outputs": [],
   "source": [
    "import asyncio\n",
    "import itertools\n",
    "\n",
    "\n",
    "async def spin(msg):  # <1>\n",
    "    for char in itertools.cycle('|/-\\\\'):\n",
    "        status = char + ' ' + msg\n",
    "        print(status, flush=True, end='\\r')\n",
    "        try:\n",
    "            await asyncio.sleep(.1)  # <2>\n",
    "        except asyncio.CancelledError:  # <3>\n",
    "            break\n",
    "    print(' ' * len(status), end='\\r')\n",
    "\n",
    "\n",
    "async def slow_function():  # <4>\n",
    "    # pretend waiting a long time for I/O\n",
    "    await asyncio.sleep(3)  # <5>\n",
    "    return 42\n",
    "\n",
    "\n",
    "async def supervisor():  # <6>\n",
    "    spinner = asyncio.create_task(spin('thinking!'))  # <7>\n",
    "    print('spinner object:', spinner)  # <8>\n",
    "    result = await slow_function()  # <9>\n",
    "    spinner.cancel()  # <10>\n",
    "    return result\n",
    "\n",
    "\n",
    "def main():\n",
    "    result = asyncio.run(supervisor())  # <11>\n",
    "    print('Answer:', result)\n"
   ]
  },
  {
   "cell_type": "code",
   "execution_count": 12,
   "metadata": {},
   "outputs": [
    {
     "ename": "RuntimeError",
     "evalue": "asyncio.run() cannot be called from a running event loop",
     "output_type": "error",
     "traceback": [
      "\u001b[1;31m---------------------------------------------------------------------------\u001b[0m",
      "\u001b[1;31mRuntimeError\u001b[0m                              Traceback (most recent call last)",
      "Cell \u001b[1;32mIn [12], line 1\u001b[0m\n\u001b[1;32m----> 1\u001b[0m main()\n",
      "Cell \u001b[1;32mIn [11], line 31\u001b[0m, in \u001b[0;36mmain\u001b[1;34m()\u001b[0m\n\u001b[0;32m     30\u001b[0m \u001b[39mdef\u001b[39;00m \u001b[39mmain\u001b[39m():\n\u001b[1;32m---> 31\u001b[0m     result \u001b[39m=\u001b[39m asyncio\u001b[39m.\u001b[39;49mrun(supervisor())  \u001b[39m# <11>\u001b[39;00m\n\u001b[0;32m     32\u001b[0m     \u001b[39mprint\u001b[39m(\u001b[39m'\u001b[39m\u001b[39mAnswer:\u001b[39m\u001b[39m'\u001b[39m, result)\n",
      "File \u001b[1;32mC:\\Program Files\\WindowsApps\\PythonSoftwareFoundation.Python.3.9_3.9.3568.0_x64__qbz5n2kfra8p0\\lib\\asyncio\\runners.py:33\u001b[0m, in \u001b[0;36mrun\u001b[1;34m(main, debug)\u001b[0m\n\u001b[0;32m      9\u001b[0m \u001b[39m\"\"\"Execute the coroutine and return the result.\u001b[39;00m\n\u001b[0;32m     10\u001b[0m \n\u001b[0;32m     11\u001b[0m \u001b[39mThis function runs the passed coroutine, taking care of\u001b[39;00m\n\u001b[1;32m   (...)\u001b[0m\n\u001b[0;32m     30\u001b[0m \u001b[39m    asyncio.run(main())\u001b[39;00m\n\u001b[0;32m     31\u001b[0m \u001b[39m\"\"\"\u001b[39;00m\n\u001b[0;32m     32\u001b[0m \u001b[39mif\u001b[39;00m events\u001b[39m.\u001b[39m_get_running_loop() \u001b[39mis\u001b[39;00m \u001b[39mnot\u001b[39;00m \u001b[39mNone\u001b[39;00m:\n\u001b[1;32m---> 33\u001b[0m     \u001b[39mraise\u001b[39;00m \u001b[39mRuntimeError\u001b[39;00m(\n\u001b[0;32m     34\u001b[0m         \u001b[39m\"\u001b[39m\u001b[39masyncio.run() cannot be called from a running event loop\u001b[39m\u001b[39m\"\u001b[39m)\n\u001b[0;32m     36\u001b[0m \u001b[39mif\u001b[39;00m \u001b[39mnot\u001b[39;00m coroutines\u001b[39m.\u001b[39miscoroutine(main):\n\u001b[0;32m     37\u001b[0m     \u001b[39mraise\u001b[39;00m \u001b[39mValueError\u001b[39;00m(\u001b[39m\"\u001b[39m\u001b[39ma coroutine was expected, got \u001b[39m\u001b[39m{!r}\u001b[39;00m\u001b[39m\"\u001b[39m\u001b[39m.\u001b[39mformat(main))\n",
      "\u001b[1;31mRuntimeError\u001b[0m: asyncio.run() cannot be called from a running event loop"
     ]
    }
   ],
   "source": [
    "main()"
   ]
  },
  {
   "attachments": {},
   "cell_type": "markdown",
   "metadata": {},
   "source": [
    "## asyncio와 aiohttp로 내려받기"
   ]
  },
  {
   "cell_type": "code",
   "execution_count": 1,
   "metadata": {},
   "outputs": [],
   "source": [
    "import os\n",
    "import time\n",
    "import sys\n",
    "import asyncio  # <1>\n",
    "\n",
    "import aiohttp  # <2>\n",
    "\n",
    "\n",
    "POP20_CC = ('CN IN US ID BR PK NG BD RU JP '\n",
    "            'MX PH VN ET EG DE IR TR CD FR').split()\n",
    "\n",
    "BASE_URL = 'http://flupy.org/data/flags'\n",
    "\n",
    "DEST_DIR = 'downloads/'\n",
    "\n",
    "\n",
    "def save_flag(img, filename):\n",
    "    path = os.path.join(DEST_DIR, filename)\n",
    "    with open(path, 'wb') as fp:\n",
    "        fp.write(img)\n",
    "\n",
    "\n",
    "async def get_flag(session, cc):  # <3>\n",
    "    url = '{}/{cc}/{cc}.gif'.format(BASE_URL, cc=cc.lower())\n",
    "    async with session.get(url) as resp:        # <4>\n",
    "        return await resp.read()  # <5>\n",
    "\n",
    "\n",
    "def show(text):\n",
    "    print(text, end=' ')\n",
    "    sys.stdout.flush()\n",
    "\n",
    "\n",
    "async def download_one(session, cc):  # <6>\n",
    "    image = await get_flag(session, cc)  # <7>\n",
    "    show(cc)\n",
    "    save_flag(image, cc.lower() + '.gif')\n",
    "    return cc\n",
    "\n",
    "\n",
    "async def download_many(cc_list):\n",
    "    async with aiohttp.ClientSession() as session:  # <8>\n",
    "        res = await asyncio.gather(                 # <9>\n",
    "            *[asyncio.create_task(download_one(session, cc))\n",
    "                for cc in sorted(cc_list)])\n",
    "\n",
    "    return len(res)\n",
    "\n",
    "\n",
    "def main():  # <10>\n",
    "    t0 = time.time()\n",
    "    count = asyncio.run(download_many(POP20_CC))\n",
    "    elapsed = time.time() - t0\n",
    "    msg = '\\n{} flags downloaded in {:.2f}s'\n",
    "    print(msg.format(count, elapsed))\n",
    "\n"
   ]
  },
  {
   "cell_type": "code",
   "execution_count": 2,
   "metadata": {},
   "outputs": [
    {
     "ename": "RuntimeError",
     "evalue": "asyncio.run() cannot be called from a running event loop",
     "output_type": "error",
     "traceback": [
      "\u001b[1;31m---------------------------------------------------------------------------\u001b[0m",
      "\u001b[1;31mRuntimeError\u001b[0m                              Traceback (most recent call last)",
      "Cell \u001b[1;32mIn [2], line 2\u001b[0m\n\u001b[0;32m      1\u001b[0m asyncio\u001b[39m.\u001b[39mset_event_loop_policy(asyncio\u001b[39m.\u001b[39mWindowsSelectorEventLoopPolicy())\n\u001b[1;32m----> 2\u001b[0m main()\n",
      "Cell \u001b[1;32mIn [1], line 52\u001b[0m, in \u001b[0;36mmain\u001b[1;34m()\u001b[0m\n\u001b[0;32m     50\u001b[0m \u001b[39mdef\u001b[39;00m \u001b[39mmain\u001b[39m():  \u001b[39m# <10>\u001b[39;00m\n\u001b[0;32m     51\u001b[0m     t0 \u001b[39m=\u001b[39m time\u001b[39m.\u001b[39mtime()\n\u001b[1;32m---> 52\u001b[0m     count \u001b[39m=\u001b[39m asyncio\u001b[39m.\u001b[39;49mrun(download_many(POP20_CC))\n\u001b[0;32m     53\u001b[0m     elapsed \u001b[39m=\u001b[39m time\u001b[39m.\u001b[39mtime() \u001b[39m-\u001b[39m t0\n\u001b[0;32m     54\u001b[0m     msg \u001b[39m=\u001b[39m \u001b[39m'\u001b[39m\u001b[39m\\n\u001b[39;00m\u001b[39m{}\u001b[39;00m\u001b[39m flags downloaded in \u001b[39m\u001b[39m{:.2f}\u001b[39;00m\u001b[39ms\u001b[39m\u001b[39m'\u001b[39m\n",
      "File \u001b[1;32mC:\\Program Files\\WindowsApps\\PythonSoftwareFoundation.Python.3.9_3.9.3568.0_x64__qbz5n2kfra8p0\\lib\\asyncio\\runners.py:33\u001b[0m, in \u001b[0;36mrun\u001b[1;34m(main, debug)\u001b[0m\n\u001b[0;32m      9\u001b[0m \u001b[39m\"\"\"Execute the coroutine and return the result.\u001b[39;00m\n\u001b[0;32m     10\u001b[0m \n\u001b[0;32m     11\u001b[0m \u001b[39mThis function runs the passed coroutine, taking care of\u001b[39;00m\n\u001b[1;32m   (...)\u001b[0m\n\u001b[0;32m     30\u001b[0m \u001b[39m    asyncio.run(main())\u001b[39;00m\n\u001b[0;32m     31\u001b[0m \u001b[39m\"\"\"\u001b[39;00m\n\u001b[0;32m     32\u001b[0m \u001b[39mif\u001b[39;00m events\u001b[39m.\u001b[39m_get_running_loop() \u001b[39mis\u001b[39;00m \u001b[39mnot\u001b[39;00m \u001b[39mNone\u001b[39;00m:\n\u001b[1;32m---> 33\u001b[0m     \u001b[39mraise\u001b[39;00m \u001b[39mRuntimeError\u001b[39;00m(\n\u001b[0;32m     34\u001b[0m         \u001b[39m\"\u001b[39m\u001b[39masyncio.run() cannot be called from a running event loop\u001b[39m\u001b[39m\"\u001b[39m)\n\u001b[0;32m     36\u001b[0m \u001b[39mif\u001b[39;00m \u001b[39mnot\u001b[39;00m coroutines\u001b[39m.\u001b[39miscoroutine(main):\n\u001b[0;32m     37\u001b[0m     \u001b[39mraise\u001b[39;00m \u001b[39mValueError\u001b[39;00m(\u001b[39m\"\u001b[39m\u001b[39ma coroutine was expected, got \u001b[39m\u001b[39m{!r}\u001b[39;00m\u001b[39m\"\u001b[39m\u001b[39m.\u001b[39mformat(main))\n",
      "\u001b[1;31mRuntimeError\u001b[0m: asyncio.run() cannot be called from a running event loop"
     ]
    }
   ],
   "source": [
    "asyncio.set_event_loop_policy(asyncio.WindowsSelectorEventLoopPolicy())\n",
    "main()"
   ]
  },
  {
   "attachments": {},
   "cell_type": "markdown",
   "metadata": {},
   "source": [
    "## 블로킹 호출을 에둘러 실행하기"
   ]
  },
  {
   "cell_type": "markdown",
   "metadata": {},
   "source": []
  },
  {
   "cell_type": "code",
   "execution_count": null,
   "metadata": {},
   "outputs": [],
   "source": []
  }
 ],
 "metadata": {
  "kernelspec": {
   "display_name": "Python 3",
   "language": "python",
   "name": "python3"
  },
  "language_info": {
   "codemirror_mode": {
    "name": "ipython",
    "version": 3
   },
   "file_extension": ".py",
   "mimetype": "text/x-python",
   "name": "python",
   "nbconvert_exporter": "python",
   "pygments_lexer": "ipython3",
   "version": "3.9.13 (tags/v3.9.13:6de2ca5, May 17 2022, 16:36:42) [MSC v.1929 64 bit (AMD64)]"
  },
  "orig_nbformat": 4,
  "vscode": {
   "interpreter": {
    "hash": "5c30571b64035296ec1f657264a270898b441cd31691d2b7637edd6986f11eff"
   }
  }
 },
 "nbformat": 4,
 "nbformat_minor": 2
}
