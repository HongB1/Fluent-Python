{
 "cells": [
  {
   "cell_type": "code",
   "execution_count": 2,
   "id": "06157f34",
   "metadata": {},
   "outputs": [],
   "source": [
    "from abc import ABC, abstractmethod\n",
    "from collections import namedtuple\n",
    "\n",
    "Customer = namedtuple('Customer', 'name fidelity')\n",
    "\n",
    "\n",
    "class LineItem:\n",
    "\n",
    "    def __init__(self, product, quantity, price):\n",
    "        self.product = product\n",
    "        self.quantity = quantity\n",
    "        self.price = price\n",
    "\n",
    "    def total(self):\n",
    "        return self.price * self.quantity\n",
    "\n",
    "\n",
    "class Order:  # 콘텍스트\n",
    "\n",
    "    def __init__(self, customer, cart, promotion=None):\n",
    "        self.customer = customer\n",
    "        self.cart = list(cart)\n",
    "        self.promotion = promotion\n",
    "\n",
    "    def total(self):\n",
    "        if not hasattr(self, '__total'):\n",
    "            self.__total = sum(item.total() for item in self.cart)\n",
    "        return self.__total\n",
    "\n",
    "    def due(self):\n",
    "        if self.promotion is None:\n",
    "            discount = 0\n",
    "        else:\n",
    "            discount = self.promotion.discount(self)\n",
    "        return self.total() - discount\n",
    "\n",
    "    def __repr__(self):\n",
    "        fmt = '<Order total: {:.2f} due: {:.2f}>'\n",
    "        return fmt.format(self.total(), self.due())\n",
    "\n",
    "\n",
    "class Promotion(ABC):  # 전략 : 추상 베이스 클래스\n",
    "\n",
    "    @abstractmethod\n",
    "    def discount(self, order):\n",
    "        \"\"\"할인액을 구체적인 숫자로 반환한다.\"\"\"\n",
    "\n",
    "\n",
    "class FidelityPromo(Promotion):  # 첫 번째 구체적인 전략\n",
    "    \"\"\"충성도 포인트가 1,000점 이상인 고객은 전체 주문에 대해 5% 할인을 적용\"\"\"\n",
    "\n",
    "    def discount(self, order):\n",
    "        return order.total() * .05 if order.customer.fidelity >= 1000 else 0\n",
    "\n",
    "\n",
    "class BulkItemPromo(Promotion):  # 두 번째 구체적인 전략\n",
    "    \"\"\"하나의 주문에서 20개 이상의 동일 상품을 구입하면 해당 상품에 대해 10% 할인을 적용\"\"\"\n",
    "\n",
    "    def discount(self, order):\n",
    "        discount = 0\n",
    "        for item in order.cart:\n",
    "            if item.quantity >= 20:\n",
    "                discount += item.total() * .1\n",
    "        return discount\n",
    "\n",
    "\n",
    "class LargeOrderPromo(Promotion):  # 세 번째 구체적인 전략\n",
    "    \"\"\"서로 다른 상품을 10종류 이상 주문하면 전체 주문에 대해 7% 할인을 적용\"\"\"\n",
    "\n",
    "    def discount(self, order):\n",
    "        distinct_items = {item.product for item in order.cart}\n",
    "        if len(distinct_items) >= 10:\n",
    "            return order.total() * .07\n",
    "        return 0"
   ]
  },
  {
   "cell_type": "code",
   "execution_count": 3,
   "id": "c93d9e3c",
   "metadata": {},
   "outputs": [
    {
     "data": {
      "text/plain": [
       "<Order total: 42.00 due: 42.00>"
      ]
     },
     "execution_count": 3,
     "metadata": {},
     "output_type": "execute_result"
    }
   ],
   "source": [
    "# 충성도 점수. joe는 0점, ann은 1100점이다. \n",
    "joe = Customer('John Doe', 0)\n",
    "ann = Customer('Ann Smith', 1100)\n",
    "\n",
    "# 한 쇼핑 카트의 3가지 항목\n",
    "cart = [LineItem('banana', 4, .5),\n",
    "       LineItem('apple', 10, 1.5),\n",
    "       LineItem('watermellon', 5, 5.0)]\n",
    "\n",
    "# FidelityPromo 할인은 joe에게 아무런 할인이 없다\n",
    "Order(joe, cart, FidelityPromo())"
   ]
  },
  {
   "cell_type": "code",
   "execution_count": 4,
   "id": "1017dd8d",
   "metadata": {},
   "outputs": [
    {
     "data": {
      "text/plain": [
       "<Order total: 42.00 due: 39.90>"
      ]
     },
     "execution_count": 4,
     "metadata": {},
     "output_type": "execute_result"
    }
   ],
   "source": [
    "# ann은 충성도가 1000점이 넘으므로 5% 할인을 받는다.\n",
    "Order(ann, cart, FidelityPromo())"
   ]
  },
  {
   "cell_type": "code",
   "execution_count": 6,
   "id": "c9d43947",
   "metadata": {},
   "outputs": [
    {
     "data": {
      "text/plain": [
       "<Order total: 30.00 due: 28.50>"
      ]
     },
     "execution_count": 6,
     "metadata": {},
     "output_type": "execute_result"
    }
   ],
   "source": [
    "banana_cart = [LineItem('banana', 30, .5),\n",
    "              LineItem('apple', 10, 1.5)]\n",
    "\n",
    "# BulkItemPromo 할인 덕분에 joe는 바나나에 대해 1.50달러를 할인 받는다. \n",
    "Order(joe, banana_cart, BulkItemPromo())"
   ]
  },
  {
   "cell_type": "code",
   "execution_count": 7,
   "id": "f4761840",
   "metadata": {},
   "outputs": [
    {
     "data": {
      "text/plain": [
       "<Order total: 10.00 due: 9.30>"
      ]
     },
     "execution_count": 7,
     "metadata": {},
     "output_type": "execute_result"
    }
   ],
   "source": [
    "# 각각 1달러인 10개의 서로 다른 상품이 있다. \n",
    "long_order = [LineItem(str(item_code), 1, 1.0)\n",
    "             for item_code in range(10)]\n",
    "\n",
    "# LargeOrderPromo 덕분에 전체 주문에 대해 7% 할인을 받는다 \n",
    "Order(joe, long_order, LargeOrderPromo())"
   ]
  },
  {
   "cell_type": "markdown",
   "id": "00d6eb34",
   "metadata": {},
   "source": [
    "### 6.1.2 함수 지향 전략"
   ]
  },
  {
   "cell_type": "code",
   "execution_count": 8,
   "id": "1afe586e",
   "metadata": {},
   "outputs": [],
   "source": [
    "from collections import namedtuple\n",
    "\n",
    "Customer = namedtuple('Customer', 'name fidelity')\n",
    "\n",
    "\n",
    "class LineItem:\n",
    "\n",
    "    def __init__(self, product, quantity, price):\n",
    "        self.product = product\n",
    "        self.quantity = quantity\n",
    "        self.price = price\n",
    "\n",
    "    def total(self):\n",
    "        return self.price * self.quantity\n",
    "\n",
    "\n",
    "class Order:  # 콘텍스트\n",
    "\n",
    "    def __init__(self, customer, cart, promotion=None):\n",
    "        self.customer = customer\n",
    "        self.cart = list(cart)\n",
    "        self.promotion = promotion\n",
    "\n",
    "    def total(self):\n",
    "        if not hasattr(self, '__total'):\n",
    "            self.__total = sum(item.total() for item in self.cart)\n",
    "        return self.__total\n",
    "\n",
    "    def due(self):\n",
    "        if self.promotion is None:\n",
    "            discount = 0\n",
    "        else:\n",
    "            # 할인액을 계산하려면 self.promotion() 함수를 호출하면 된다.\n",
    "            discount = self.promotion(self)  \n",
    "        return self.total() - discount\n",
    "\n",
    "    def __repr__(self):\n",
    "        fmt = '<Order total: {:.2f} due: {:.2f}>'\n",
    "        return fmt.format(self.total(), self.due())\n",
    "\n",
    "# 추상 클래스가 제거되었다. \n",
    "\n",
    "def fidelity_promo(order):  # 각각의 구체적인 전략이 함수로 구현되었다. \n",
    "    \"\"\"충성도 포인트가 1,000점 이상인 고객은 전체 주문에 대해 5% 할인을 적용\"\"\"\n",
    "    return order.total() * .05 if order.customer.fidelity >= 1000 else 0\n",
    "\n",
    "\n",
    "def bulk_item_promo(order):\n",
    "    \"\"\"하나의 주문에서 20개 이상의 동일 상품을 구입하면 해당 상품에 대해 10% 할인을 적용\"\"\"\n",
    "    discount = 0\n",
    "    for item in order.cart:\n",
    "        if item.quantity >= 20:\n",
    "            discount += item.total() * .1\n",
    "    return discount\n",
    "\n",
    "\n",
    "def large_order_promo(order):\n",
    "    \"\"\"서로 다른 상품을 10종류 이상 주문하면 전체 주문에 대해 7% 할인을 적용\"\"\"\n",
    "    distinct_items = {item.product for item in order.cart}\n",
    "    if len(distinct_items) >= 10:\n",
    "        return order.total() * .07\n",
    "    return 0"
   ]
  },
  {
   "cell_type": "code",
   "execution_count": 9,
   "id": "86391b74",
   "metadata": {},
   "outputs": [
    {
     "data": {
      "text/plain": [
       "<Order total: 42.00 due: 42.00>"
      ]
     },
     "execution_count": 9,
     "metadata": {},
     "output_type": "execute_result"
    }
   ],
   "source": [
    "joe = Customer('John Doe', 0)\n",
    "ann = Customer('Ann Smith', 1100)\n",
    "\n",
    "cart = [LineItem('banana', 4, .5),\n",
    "       LineItem('apple', 10, 1.5),\n",
    "       LineItem('watermellon', 5, 5.0)]\n",
    "\n",
    "Order(joe, cart, fidelity_promo)"
   ]
  },
  {
   "cell_type": "code",
   "execution_count": 10,
   "id": "7823c1ef",
   "metadata": {},
   "outputs": [
    {
     "data": {
      "text/plain": [
       "<Order total: 42.00 due: 39.90>"
      ]
     },
     "execution_count": 10,
     "metadata": {},
     "output_type": "execute_result"
    }
   ],
   "source": [
    "Order(ann, cart, fidelity_promo)"
   ]
  },
  {
   "cell_type": "code",
   "execution_count": 11,
   "id": "e34c7b8b",
   "metadata": {},
   "outputs": [
    {
     "data": {
      "text/plain": [
       "<Order total: 30.00 due: 28.50>"
      ]
     },
     "execution_count": 11,
     "metadata": {},
     "output_type": "execute_result"
    }
   ],
   "source": [
    "banana_cart = [LineItem('banana', 30, .5),\n",
    "              LineItem('apple', 10, 1.5)]\n",
    "\n",
    "Order(joe, banana_cart, bulk_item_promo)"
   ]
  },
  {
   "cell_type": "code",
   "execution_count": 12,
   "id": "e488cc5f",
   "metadata": {},
   "outputs": [
    {
     "data": {
      "text/plain": [
       "<Order total: 10.00 due: 9.30>"
      ]
     },
     "execution_count": 12,
     "metadata": {},
     "output_type": "execute_result"
    }
   ],
   "source": [
    "long_order = [LineItem(str(item_code), 1, 1.0)\n",
    "             for item_code in range(10)]\n",
    "\n",
    "Order(joe, long_order, large_order_promo)"
   ]
  },
  {
   "cell_type": "code",
   "execution_count": 13,
   "id": "234d0149",
   "metadata": {},
   "outputs": [
    {
     "data": {
      "text/plain": [
       "<Order total: 42.00 due: 42.00>"
      ]
     },
     "execution_count": 13,
     "metadata": {},
     "output_type": "execute_result"
    }
   ],
   "source": [
    "Order(joe, cart, large_order_promo)"
   ]
  },
  {
   "cell_type": "markdown",
   "id": "86c26834",
   "metadata": {},
   "source": [
    "### 6.1.3 단순한 접근법"
   ]
  },
  {
   "cell_type": "code",
   "execution_count": 15,
   "id": "ba8cd0c6",
   "metadata": {},
   "outputs": [],
   "source": [
    "promos = [fidelity_promo, bulk_item_promo, large_order_promo]\n",
    "\n",
    "def best_promo(order):\n",
    "    return max(promo(order) for promo in promos) # 제너레이터 사용"
   ]
  },
  {
   "cell_type": "code",
   "execution_count": 27,
   "id": "3794c8c4",
   "metadata": {
    "scrolled": true
   },
   "outputs": [
    {
     "data": {
      "text/plain": [
       "<Order total: 10.00 due: 9.30>"
      ]
     },
     "execution_count": 27,
     "metadata": {},
     "output_type": "execute_result"
    }
   ],
   "source": [
    "# 1. long_order 카트를 가지고 있으면 best_promo는 larger를 선택한다. \n",
    "Order(joe, long_order, best_promo)"
   ]
  },
  {
   "cell_type": "code",
   "execution_count": 28,
   "id": "48b414ac",
   "metadata": {},
   "outputs": [
    {
     "data": {
      "text/plain": [
       "<Order total: 30.00 due: 28.50>"
      ]
     },
     "execution_count": 28,
     "metadata": {},
     "output_type": "execute_result"
    }
   ],
   "source": [
    "# 2. banana_cart 를 가지고 있으면 bulk로 많이 할인받을 수 있다.\n",
    "Order(joe, banana_cart, best_promo)"
   ]
  },
  {
   "cell_type": "code",
   "execution_count": 29,
   "id": "35dff5bf",
   "metadata": {},
   "outputs": [
    {
     "data": {
      "text/plain": [
       "<Order total: 42.00 due: 39.90>"
      ]
     },
     "execution_count": 29,
     "metadata": {},
     "output_type": "execute_result"
    }
   ],
   "source": [
    "# 3. ann은 카트를 가지고만 있어도 fidelity로 많은 할인을 받을 수 있다. \n",
    "Order(ann, cart, best_promo)"
   ]
  },
  {
   "cell_type": "markdown",
   "id": "7b464cff",
   "metadata": {},
   "source": [
    "### 6.1.4 모듈에서 전략 찾기"
   ]
  },
  {
   "cell_type": "code",
   "execution_count": 26,
   "id": "b8b7d6a8",
   "metadata": {},
   "outputs": [],
   "source": [
    "# globals() 함수가 반환한 딕셔너리에서 name을 반복한다. \n",
    "promos = [globals()[name] for name in globals() \n",
    "         if name.endswith('_promo') \n",
    "         and name != 'best_promo'] # 무한 재귀를 피하기 위해 best는 생략\n",
    "\n",
    "def best_promo(order):\n",
    "    return max(promo(order) for promo in promos) "
   ]
  },
  {
   "cell_type": "markdown",
   "id": "8de17aa2",
   "metadata": {},
   "source": [
    "## 6.2 명령"
   ]
  },
  {
   "cell_type": "code",
   "execution_count": 32,
   "id": "bbea9975",
   "metadata": {},
   "outputs": [],
   "source": [
    "class MacroCommand:\n",
    "    \"\"\"명령 리스트를 실행하는 명령\"\"\"\n",
    "    \n",
    "    def __init__(self, commands):\n",
    "        # commands 인수로부터 리스트를 만들면 명령들이 반복 가능한 객체임을 보장\n",
    "        # 각각의 MacroCommand 객체 안에 명령에 대한 참조를 복사하게 된다. \n",
    "        self.commands = list(commands) \n",
    "        \n",
    "    def __call__(self):\n",
    "        # MacroCommand 객체가 호출되면 self.commans에 들어 있는 명령이 순서대로 호출된다. \n",
    "        for command in self.commands:\n",
    "            command()"
   ]
  },
  {
   "cell_type": "code",
   "execution_count": null,
   "id": "e16086b6",
   "metadata": {},
   "outputs": [],
   "source": []
  },
  {
   "cell_type": "code",
   "execution_count": null,
   "id": "89d73817",
   "metadata": {},
   "outputs": [],
   "source": []
  }
 ],
 "metadata": {
  "kernelspec": {
   "display_name": "Python 3 (ipykernel)",
   "language": "python",
   "name": "python3"
  },
  "language_info": {
   "codemirror_mode": {
    "name": "ipython",
    "version": 3
   },
   "file_extension": ".py",
   "mimetype": "text/x-python",
   "name": "python",
   "nbconvert_exporter": "python",
   "pygments_lexer": "ipython3",
   "version": "3.9.10"
  },
  "toc": {
   "base_numbering": 1,
   "nav_menu": {},
   "number_sections": false,
   "sideBar": true,
   "skip_h1_title": false,
   "title_cell": "Table of Contents",
   "title_sidebar": "Contents",
   "toc_cell": false,
   "toc_position": {
    "height": "calc(100% - 180px)",
    "left": "10px",
    "top": "150px",
    "width": "177px"
   },
   "toc_section_display": true,
   "toc_window_display": false
  }
 },
 "nbformat": 4,
 "nbformat_minor": 5
}
