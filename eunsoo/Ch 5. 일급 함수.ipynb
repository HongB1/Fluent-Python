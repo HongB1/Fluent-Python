{
 "cells": [
  {
   "cell_type": "code",
   "execution_count": 3,
   "id": "db9808de",
   "metadata": {
    "ExecuteTime": {
     "end_time": "2022-10-17T13:49:17.850879Z",
     "start_time": "2022-10-17T13:49:17.841939Z"
    }
   },
   "outputs": [
    {
     "data": {
      "text/plain": [
       "1405006117752879898543142606244511569936384000000000"
      ]
     },
     "execution_count": 3,
     "metadata": {},
     "output_type": "execute_result"
    }
   ],
   "source": [
    "def factorial(n):\n",
    "    '''return n!'''\n",
    "    return 1 if n < 2 else n * factorial(n - 1)\n",
    "\n",
    "factorial(42)"
   ]
  },
  {
   "cell_type": "code",
   "execution_count": 4,
   "id": "53802c4e",
   "metadata": {
    "ExecuteTime": {
     "end_time": "2022-10-17T13:49:18.596014Z",
     "start_time": "2022-10-17T13:49:18.589830Z"
    }
   },
   "outputs": [
    {
     "data": {
      "text/plain": [
       "'return n!'"
      ]
     },
     "execution_count": 4,
     "metadata": {},
     "output_type": "execute_result"
    }
   ],
   "source": [
    "factorial.__doc__"
   ]
  },
  {
   "cell_type": "code",
   "execution_count": 5,
   "id": "762fb6de",
   "metadata": {
    "ExecuteTime": {
     "end_time": "2022-10-17T13:49:23.430603Z",
     "start_time": "2022-10-17T13:49:23.425432Z"
    }
   },
   "outputs": [
    {
     "data": {
      "text/plain": [
       "function"
      ]
     },
     "execution_count": 5,
     "metadata": {},
     "output_type": "execute_result"
    }
   ],
   "source": [
    "type(factorial)"
   ]
  },
  {
   "cell_type": "code",
   "execution_count": 10,
   "id": "a7434af1",
   "metadata": {
    "ExecuteTime": {
     "end_time": "2022-10-17T13:57:24.473958Z",
     "start_time": "2022-10-17T13:57:24.470245Z"
    }
   },
   "outputs": [
    {
     "name": "stdout",
     "output_type": "stream",
     "text": [
      "Help on function factorial in module __main__:\n",
      "\n",
      "factorial(n)\n",
      "    return n!\n",
      "\n"
     ]
    }
   ],
   "source": [
    "help(factorial)"
   ]
  },
  {
   "cell_type": "markdown",
   "id": "fc109654",
   "metadata": {},
   "source": [
    "---"
   ]
  },
  {
   "cell_type": "code",
   "execution_count": 11,
   "id": "210f0d26",
   "metadata": {
    "ExecuteTime": {
     "end_time": "2022-10-17T14:01:58.425876Z",
     "start_time": "2022-10-17T14:01:58.421478Z"
    }
   },
   "outputs": [
    {
     "data": {
      "text/plain": [
       "<function __main__.factorial(n)>"
      ]
     },
     "execution_count": 11,
     "metadata": {},
     "output_type": "execute_result"
    }
   ],
   "source": [
    "fact = factorial\n",
    "fact"
   ]
  },
  {
   "cell_type": "code",
   "execution_count": 12,
   "id": "9ffb723f",
   "metadata": {
    "ExecuteTime": {
     "end_time": "2022-10-17T14:02:03.263674Z",
     "start_time": "2022-10-17T14:02:03.259437Z"
    }
   },
   "outputs": [
    {
     "data": {
      "text/plain": [
       "120"
      ]
     },
     "execution_count": 12,
     "metadata": {},
     "output_type": "execute_result"
    }
   ],
   "source": [
    "fact(5)"
   ]
  },
  {
   "cell_type": "code",
   "execution_count": 13,
   "id": "cbba8f5e",
   "metadata": {
    "ExecuteTime": {
     "end_time": "2022-10-17T14:02:12.556439Z",
     "start_time": "2022-10-17T14:02:12.551792Z"
    }
   },
   "outputs": [
    {
     "data": {
      "text/plain": [
       "<map at 0x110aaf550>"
      ]
     },
     "execution_count": 13,
     "metadata": {},
     "output_type": "execute_result"
    }
   ],
   "source": [
    "map(factorial, range(11))"
   ]
  },
  {
   "cell_type": "code",
   "execution_count": 14,
   "id": "ec8daa52",
   "metadata": {
    "ExecuteTime": {
     "end_time": "2022-10-17T14:02:26.507688Z",
     "start_time": "2022-10-17T14:02:26.501665Z"
    }
   },
   "outputs": [
    {
     "data": {
      "text/plain": [
       "[1, 1, 2, 6, 24, 120, 720, 5040, 40320, 362880, 3628800]"
      ]
     },
     "execution_count": 14,
     "metadata": {},
     "output_type": "execute_result"
    }
   ],
   "source": [
    "list(map(fact, range(11)))"
   ]
  },
  {
   "cell_type": "markdown",
   "id": "6f66867a",
   "metadata": {},
   "source": [
    "---"
   ]
  },
  {
   "cell_type": "code",
   "execution_count": 15,
   "id": "de887cde",
   "metadata": {
    "ExecuteTime": {
     "end_time": "2022-10-17T14:05:43.855339Z",
     "start_time": "2022-10-17T14:05:43.848679Z"
    }
   },
   "outputs": [
    {
     "data": {
      "text/plain": [
       "['fig', 'apple', 'cherry', 'banana', 'raspberry', 'strawberry']"
      ]
     },
     "execution_count": 15,
     "metadata": {},
     "output_type": "execute_result"
    }
   ],
   "source": [
    "fruits = ['strawberry', 'fig', 'apple', 'cherry', 'raspberry', 'banana']\n",
    "\n",
    "sorted(fruits, key=len)"
   ]
  },
  {
   "cell_type": "code",
   "execution_count": 16,
   "id": "03d35878",
   "metadata": {
    "ExecuteTime": {
     "end_time": "2022-10-17T14:08:44.623263Z",
     "start_time": "2022-10-17T14:08:44.616810Z"
    }
   },
   "outputs": [
    {
     "data": {
      "text/plain": [
       "'detset'"
      ]
     },
     "execution_count": 16,
     "metadata": {},
     "output_type": "execute_result"
    }
   ],
   "source": [
    "def reverse(word):\n",
    "    return word[::-1]\n",
    "\n",
    "reverse('tested')"
   ]
  },
  {
   "cell_type": "code",
   "execution_count": 17,
   "id": "b062cc65",
   "metadata": {
    "ExecuteTime": {
     "end_time": "2022-10-17T14:08:54.441967Z",
     "start_time": "2022-10-17T14:08:54.436743Z"
    }
   },
   "outputs": [
    {
     "data": {
      "text/plain": [
       "['banana', 'apple', 'fig', 'raspberry', 'strawberry', 'cherry']"
      ]
     },
     "execution_count": 17,
     "metadata": {},
     "output_type": "execute_result"
    }
   ],
   "source": [
    "sorted(fruits, key=reverse)"
   ]
  },
  {
   "cell_type": "markdown",
   "id": "152c905d",
   "metadata": {},
   "source": [
    "### map(), filter(), reduce() 의 대안"
   ]
  },
  {
   "cell_type": "code",
   "execution_count": 18,
   "id": "bab99d63",
   "metadata": {
    "ExecuteTime": {
     "end_time": "2022-10-17T14:14:09.916879Z",
     "start_time": "2022-10-17T14:14:09.912393Z"
    }
   },
   "outputs": [
    {
     "data": {
      "text/plain": [
       "[1, 1, 2, 6, 24, 120]"
      ]
     },
     "execution_count": 18,
     "metadata": {},
     "output_type": "execute_result"
    }
   ],
   "source": [
    "# 0!에서 5!까지 팩토리얼 리스트를 만든다. \n",
    "list(map(fact, range(6)))"
   ]
  },
  {
   "cell_type": "code",
   "execution_count": 19,
   "id": "28549c61",
   "metadata": {
    "ExecuteTime": {
     "end_time": "2022-10-17T14:14:10.138173Z",
     "start_time": "2022-10-17T14:14:10.132864Z"
    }
   },
   "outputs": [
    {
     "data": {
      "text/plain": [
       "[1, 1, 2, 6, 24, 120]"
      ]
     },
     "execution_count": 19,
     "metadata": {},
     "output_type": "execute_result"
    }
   ],
   "source": [
    "# 지능형 리스트를 사용한다. \n",
    "[fact(n) for n in range(6)]"
   ]
  },
  {
   "cell_type": "code",
   "execution_count": 20,
   "id": "842aff9a",
   "metadata": {
    "ExecuteTime": {
     "end_time": "2022-10-17T14:14:10.310389Z",
     "start_time": "2022-10-17T14:14:10.303282Z"
    }
   },
   "outputs": [
    {
     "data": {
      "text/plain": [
       "[1, 6, 120]"
      ]
     },
     "execution_count": 20,
     "metadata": {},
     "output_type": "execute_result"
    }
   ],
   "source": [
    "# map()과 filter()를 사용해서 5!까지 홀수에 대한 팩토리얼 리스트를 만든다. \n",
    "list(map(factorial, filter(lambda n : n % 2, range(6))))"
   ]
  },
  {
   "cell_type": "code",
   "execution_count": 22,
   "id": "8912f685",
   "metadata": {
    "ExecuteTime": {
     "end_time": "2022-10-17T14:15:25.969602Z",
     "start_time": "2022-10-17T14:15:25.963767Z"
    }
   },
   "outputs": [
    {
     "data": {
      "text/plain": [
       "[1, 6, 120]"
      ]
     },
     "execution_count": 22,
     "metadata": {},
     "output_type": "execute_result"
    }
   ],
   "source": [
    "# map()과 filter()를 대체하고 lambda 없이 지능형 리스트로 동일한 작업을 수행한다. \n",
    "[factorial(n) for n in range(6) if n % 2]"
   ]
  },
  {
   "cell_type": "code",
   "execution_count": 27,
   "id": "115795ec",
   "metadata": {
    "ExecuteTime": {
     "end_time": "2022-10-17T14:23:51.854207Z",
     "start_time": "2022-10-17T14:23:51.552788Z"
    }
   },
   "outputs": [
    {
     "data": {
      "text/plain": [
       "49999995000000"
      ]
     },
     "execution_count": 27,
     "metadata": {},
     "output_type": "execute_result"
    }
   ],
   "source": [
    "from functools import reduce\n",
    "from operator import add\n",
    "reduce(add, range(10000000))"
   ]
  },
  {
   "cell_type": "code",
   "execution_count": 28,
   "id": "243dfbbd",
   "metadata": {
    "ExecuteTime": {
     "end_time": "2022-10-17T14:23:51.952277Z",
     "start_time": "2022-10-17T14:23:51.855403Z"
    }
   },
   "outputs": [
    {
     "data": {
      "text/plain": [
       "49999995000000"
      ]
     },
     "execution_count": 28,
     "metadata": {},
     "output_type": "execute_result"
    }
   ],
   "source": [
    "sum(range(10000000))"
   ]
  },
  {
   "cell_type": "markdown",
   "id": "0c6132f9",
   "metadata": {},
   "source": [
    "## 5.3 익명 함수"
   ]
  },
  {
   "cell_type": "code",
   "execution_count": 29,
   "id": "92ac4046",
   "metadata": {
    "ExecuteTime": {
     "end_time": "2022-10-17T14:33:20.465061Z",
     "start_time": "2022-10-17T14:33:20.459696Z"
    }
   },
   "outputs": [
    {
     "data": {
      "text/plain": [
       "['banana', 'apple', 'fig', 'raspberry', 'strawberry', 'cherry']"
      ]
     },
     "execution_count": 29,
     "metadata": {},
     "output_type": "execute_result"
    }
   ],
   "source": [
    "fruits = ['strawberry', 'fig', 'apple', 'cherry', 'raspberry', 'banana']\n",
    "\n",
    "sorted(fruits, key=lambda word: word[::-1])"
   ]
  },
  {
   "cell_type": "markdown",
   "id": "8eb1154c",
   "metadata": {},
   "source": [
    "## 5.4 일곱 가지 맛의 콜러블 객체"
   ]
  },
  {
   "cell_type": "code",
   "execution_count": 30,
   "id": "22a073de",
   "metadata": {
    "ExecuteTime": {
     "end_time": "2022-10-17T14:45:22.577471Z",
     "start_time": "2022-10-17T14:45:22.571102Z"
    }
   },
   "outputs": [
    {
     "data": {
      "text/plain": [
       "(<function abs(x, /)>, str, 13)"
      ]
     },
     "execution_count": 30,
     "metadata": {},
     "output_type": "execute_result"
    }
   ],
   "source": [
    "abs, str, 13"
   ]
  },
  {
   "cell_type": "code",
   "execution_count": 31,
   "id": "873753b3",
   "metadata": {
    "ExecuteTime": {
     "end_time": "2022-10-17T14:45:41.726672Z",
     "start_time": "2022-10-17T14:45:41.719829Z"
    }
   },
   "outputs": [
    {
     "data": {
      "text/plain": [
       "[True, True, False]"
      ]
     },
     "execution_count": 31,
     "metadata": {},
     "output_type": "execute_result"
    }
   ],
   "source": [
    "[callable(obj) for obj in (abs, str, 13)]"
   ]
  },
  {
   "cell_type": "markdown",
   "id": "34700873",
   "metadata": {},
   "source": [
    "## 5.5 사용자 정의 콜러블형"
   ]
  },
  {
   "cell_type": "code",
   "execution_count": 32,
   "id": "61f201d6",
   "metadata": {
    "ExecuteTime": {
     "end_time": "2022-10-17T14:58:57.503236Z",
     "start_time": "2022-10-17T14:58:57.497935Z"
    }
   },
   "outputs": [],
   "source": [
    "import random\n",
    "\n",
    "class BingoCage:\n",
    "    def __init__(self, items):\n",
    "        # __init__()은 반복 가능 객체를 받는다. \n",
    "        # 지역에 사본을 만들면 인수로 전달된 리스트에 예기치 않은 부작용을 예방할 수 있다\n",
    "        self._items = list(items)\n",
    "        \n",
    "        # self._items()가 리스트이므로 shuffle() 메서드의 실행을 보장할 수 있다.\n",
    "        random.shuffle(self._items)\n",
    "        \n",
    "    # 핵심 메서드\n",
    "    def pick(self):\n",
    "        try:\n",
    "            return self._items.pop()\n",
    "        except IndexError:\n",
    "            # self._items가 비어 있으면 사용자 정의 메시지를 담은 예외를 발생시킨다.\n",
    "            raise LookupError('pick from empty BingoCage')\n",
    "            \n",
    "    # bingo.pick()에 대한 단축 형태로 bingo()를 정의한다. \n",
    "    def __call__(self):\n",
    "        return self.pick()"
   ]
  },
  {
   "cell_type": "code",
   "execution_count": 33,
   "id": "e6765f55",
   "metadata": {
    "ExecuteTime": {
     "end_time": "2022-10-17T15:01:24.481709Z",
     "start_time": "2022-10-17T15:01:24.476497Z"
    }
   },
   "outputs": [
    {
     "data": {
      "text/plain": [
       "2"
      ]
     },
     "execution_count": 33,
     "metadata": {},
     "output_type": "execute_result"
    }
   ],
   "source": [
    "bingo = BingoCage(range(3))\n",
    "bingo.pick()"
   ]
  },
  {
   "cell_type": "code",
   "execution_count": 34,
   "id": "93f3b045",
   "metadata": {
    "ExecuteTime": {
     "end_time": "2022-10-17T15:01:28.445704Z",
     "start_time": "2022-10-17T15:01:28.439168Z"
    }
   },
   "outputs": [
    {
     "data": {
      "text/plain": [
       "1"
      ]
     },
     "execution_count": 34,
     "metadata": {},
     "output_type": "execute_result"
    }
   ],
   "source": [
    "bingo()"
   ]
  },
  {
   "cell_type": "code",
   "execution_count": 35,
   "id": "701d6d00",
   "metadata": {
    "ExecuteTime": {
     "end_time": "2022-10-17T15:01:35.289764Z",
     "start_time": "2022-10-17T15:01:35.285516Z"
    }
   },
   "outputs": [
    {
     "data": {
      "text/plain": [
       "True"
      ]
     },
     "execution_count": 35,
     "metadata": {},
     "output_type": "execute_result"
    }
   ],
   "source": [
    "callable(bingo)"
   ]
  },
  {
   "cell_type": "markdown",
   "id": "2efffbf7",
   "metadata": {},
   "source": [
    "## 5.6 함수 인트로스펙션"
   ]
  },
  {
   "cell_type": "code",
   "execution_count": 36,
   "id": "8a3e7dd1",
   "metadata": {
    "ExecuteTime": {
     "end_time": "2022-10-17T15:33:59.447688Z",
     "start_time": "2022-10-17T15:33:59.441919Z"
    }
   },
   "outputs": [
    {
     "data": {
      "text/plain": [
       "['__annotations__',\n",
       " '__call__',\n",
       " '__class__',\n",
       " '__closure__',\n",
       " '__code__',\n",
       " '__defaults__',\n",
       " '__delattr__',\n",
       " '__dict__',\n",
       " '__dir__',\n",
       " '__doc__',\n",
       " '__eq__',\n",
       " '__format__',\n",
       " '__ge__',\n",
       " '__get__',\n",
       " '__getattribute__',\n",
       " '__globals__',\n",
       " '__gt__',\n",
       " '__hash__',\n",
       " '__init__',\n",
       " '__init_subclass__',\n",
       " '__kwdefaults__',\n",
       " '__le__',\n",
       " '__lt__',\n",
       " '__module__',\n",
       " '__name__',\n",
       " '__ne__',\n",
       " '__new__',\n",
       " '__qualname__',\n",
       " '__reduce__',\n",
       " '__reduce_ex__',\n",
       " '__repr__',\n",
       " '__setattr__',\n",
       " '__sizeof__',\n",
       " '__str__',\n",
       " '__subclasshook__']"
      ]
     },
     "execution_count": 36,
     "metadata": {},
     "output_type": "execute_result"
    }
   ],
   "source": [
    "dir(factorial)"
   ]
  },
  {
   "cell_type": "code",
   "execution_count": 37,
   "id": "55881a7b",
   "metadata": {
    "ExecuteTime": {
     "end_time": "2022-10-17T15:37:10.127801Z",
     "start_time": "2022-10-17T15:37:10.120906Z"
    }
   },
   "outputs": [
    {
     "data": {
      "text/plain": [
       "['__annotations__',\n",
       " '__call__',\n",
       " '__closure__',\n",
       " '__code__',\n",
       " '__defaults__',\n",
       " '__get__',\n",
       " '__globals__',\n",
       " '__kwdefaults__',\n",
       " '__name__',\n",
       " '__qualname__']"
      ]
     },
     "execution_count": 37,
     "metadata": {},
     "output_type": "execute_result"
    }
   ],
   "source": [
    "# 기본적인 사용자 정의 클래스를 생성한다. \n",
    "class C: pass\n",
    "\n",
    "# 그 클래스의 객체를 생성한다. \n",
    "obj = C()\n",
    "\n",
    "# 기본적인 함수를 생성한다. \n",
    "def func(): pass\n",
    "\n",
    "# 뺄셈 연산을 이용해서 함수에는 존재하지만 기본 클래스의 객체에는 존재하지 않는 속성들을 정렬한 리스트를 만든다. \n",
    "sorted(set(dir(func)) - set(dir(obj)))"
   ]
  },
  {
   "cell_type": "markdown",
   "id": "9b936bdf",
   "metadata": {},
   "source": [
    "## 5.7 위치 매개변수에서 키워드 전용 매개변수까지"
   ]
  },
  {
   "cell_type": "code",
   "execution_count": 38,
   "id": "51df3404",
   "metadata": {
    "ExecuteTime": {
     "end_time": "2022-10-17T16:21:35.309487Z",
     "start_time": "2022-10-17T16:21:35.300612Z"
    }
   },
   "outputs": [],
   "source": [
    "def tag(name, *content, cls=None, **attrs):\n",
    "\n",
    "    if cls is not None:\n",
    "        attrs['class'] = cls\n",
    "\n",
    "    if attrs:\n",
    "        attr_str = ''.join(' %s=\"%s\"' % (attr, value)\n",
    "                          for attr, value\n",
    "                          in sorted(attrs.items()))\n",
    "\n",
    "    else:\n",
    "        attr_str = ''\n",
    "        \n",
    "    if content:\n",
    "        return '\\n'.join('<%s%s>%s</%s>' %\n",
    "                        (name, attr_str, c, name) for c in content)\n",
    "    \n",
    "    else:\n",
    "        return '<%s%s />' % (name, attr_str)"
   ]
  },
  {
   "cell_type": "code",
   "execution_count": 39,
   "id": "9caf9519",
   "metadata": {
    "ExecuteTime": {
     "end_time": "2022-10-17T16:21:40.997522Z",
     "start_time": "2022-10-17T16:21:40.990475Z"
    }
   },
   "outputs": [
    {
     "data": {
      "text/plain": [
       "'<br />'"
      ]
     },
     "execution_count": 39,
     "metadata": {},
     "output_type": "execute_result"
    }
   ],
   "source": [
    "# 위치 인수 하나만 사용해서 호출하면 이름을 가진 빈 태그를 생성한다. \n",
    "tag('br')"
   ]
  },
  {
   "cell_type": "code",
   "execution_count": 40,
   "id": "0815afb4",
   "metadata": {
    "ExecuteTime": {
     "end_time": "2022-10-17T16:21:49.344492Z",
     "start_time": "2022-10-17T16:21:49.339986Z"
    }
   },
   "outputs": [
    {
     "data": {
      "text/plain": [
       "'<p>hello</p>'"
      ]
     },
     "execution_count": 40,
     "metadata": {},
     "output_type": "execute_result"
    }
   ],
   "source": [
    "# 첫 번째 이후의 인수들은 모두 *content 매개변수에 튜플로 전달된다. \n",
    "tag('p', 'hello')"
   ]
  },
  {
   "cell_type": "code",
   "execution_count": 41,
   "id": "d5368d38",
   "metadata": {
    "ExecuteTime": {
     "end_time": "2022-10-17T16:22:03.653328Z",
     "start_time": "2022-10-17T16:22:03.649228Z"
    }
   },
   "outputs": [
    {
     "name": "stdout",
     "output_type": "stream",
     "text": [
      "<p>hello</p>\n",
      "<p>world</p>\n"
     ]
    }
   ],
   "source": [
    "print(tag('p', 'hello', 'world'))"
   ]
  },
  {
   "cell_type": "code",
   "execution_count": 43,
   "id": "b2c886ef",
   "metadata": {
    "ExecuteTime": {
     "end_time": "2022-10-17T16:23:04.809188Z",
     "start_time": "2022-10-17T16:23:04.804510Z"
    }
   },
   "outputs": [
    {
     "data": {
      "text/plain": [
       "'<p id=\"33\">hello</p>'"
      ]
     },
     "execution_count": 43,
     "metadata": {},
     "output_type": "execute_result"
    }
   ],
   "source": [
    "# tag 시그니처에 명시적으로 이름이 지정되지 않은 키워드 인수들은 \n",
    "# 딕셔너리로 **attrs 인수에 전달된다. \n",
    "tag('p', 'hello', id=33)"
   ]
  },
  {
   "cell_type": "code",
   "execution_count": 44,
   "id": "342e73ec",
   "metadata": {
    "ExecuteTime": {
     "end_time": "2022-10-17T16:23:23.041941Z",
     "start_time": "2022-10-17T16:23:23.038379Z"
    }
   },
   "outputs": [
    {
     "name": "stdout",
     "output_type": "stream",
     "text": [
      "<p class=\"sidebar\">hello</p>\n",
      "<p class=\"sidebar\">world</p>\n"
     ]
    }
   ],
   "source": [
    "# cls 매개변수만 키워드 인수로 전달된다.\n",
    "print(tag('p', 'hello', 'world', cls='sidebar'))"
   ]
  },
  {
   "cell_type": "code",
   "execution_count": 45,
   "id": "e3d1d39e",
   "metadata": {
    "ExecuteTime": {
     "end_time": "2022-10-17T16:23:45.373905Z",
     "start_time": "2022-10-17T16:23:45.368690Z"
    }
   },
   "outputs": [
    {
     "data": {
      "text/plain": [
       "'<img content=\"testing\" />'"
      ]
     },
     "execution_count": 45,
     "metadata": {},
     "output_type": "execute_result"
    }
   ],
   "source": [
    "# 첫 번째 위치 인수도 tag가 호출되면 키워드로 전달할 수 있다. \n",
    "tag(content='testing', name='img')"
   ]
  },
  {
   "cell_type": "code",
   "execution_count": 46,
   "id": "3ca9efd0",
   "metadata": {
    "ExecuteTime": {
     "end_time": "2022-10-17T16:24:26.475496Z",
     "start_time": "2022-10-17T16:24:26.468401Z"
    }
   },
   "outputs": [
    {
     "data": {
      "text/plain": [
       "'<img class=\"framed\" src=\"sunset.jpg\" title=\"Sunset Boulevard\" />'"
      ]
     },
     "execution_count": 46,
     "metadata": {},
     "output_type": "execute_result"
    }
   ],
   "source": [
    "# my_tag 딕셔너리 앞에 **를 붙이면 딕셔너리 안의 모든 항목을 별도의 인수로 전달하고,\n",
    "# 명명된 매개변수 및 나머지는 **attrs에 전달된다. \n",
    "my_tag = {'name' : 'img', 'title': 'Sunset Boulevard', \n",
    "         'src': 'sunset.jpg', 'cls': 'framed'}\n",
    "tag(**my_tag)"
   ]
  },
  {
   "cell_type": "code",
   "execution_count": 47,
   "id": "18498980",
   "metadata": {
    "ExecuteTime": {
     "end_time": "2022-10-17T16:30:15.603945Z",
     "start_time": "2022-10-17T16:30:15.598811Z"
    }
   },
   "outputs": [
    {
     "data": {
      "text/plain": [
       "(1, 2)"
      ]
     },
     "execution_count": 47,
     "metadata": {},
     "output_type": "execute_result"
    }
   ],
   "source": [
    "def f(a, *, b):\n",
    "    return a, b\n",
    "\n",
    "f(1, b=2)"
   ]
  },
  {
   "cell_type": "code",
   "execution_count": 48,
   "id": "8d5b5ff7",
   "metadata": {
    "ExecuteTime": {
     "end_time": "2022-10-17T16:30:50.647865Z",
     "start_time": "2022-10-17T16:30:50.622839Z"
    }
   },
   "outputs": [
    {
     "ename": "TypeError",
     "evalue": "f() takes 1 positional argument but 2 were given",
     "output_type": "error",
     "traceback": [
      "\u001b[0;31m---------------------------------------------------------------------------\u001b[0m",
      "\u001b[0;31mTypeError\u001b[0m                                 Traceback (most recent call last)",
      "Input \u001b[0;32mIn [48]\u001b[0m, in \u001b[0;36m<cell line: 1>\u001b[0;34m()\u001b[0m\n\u001b[0;32m----> 1\u001b[0m \u001b[43mf\u001b[49m\u001b[43m(\u001b[49m\u001b[38;5;241;43m1\u001b[39;49m\u001b[43m,\u001b[49m\u001b[43m \u001b[49m\u001b[38;5;241;43m2\u001b[39;49m\u001b[43m)\u001b[49m\n",
      "\u001b[0;31mTypeError\u001b[0m: f() takes 1 positional argument but 2 were given"
     ]
    }
   ],
   "source": [
    "f(1, 2)"
   ]
  },
  {
   "cell_type": "markdown",
   "id": "701e238f",
   "metadata": {},
   "source": [
    "## 5.8 매개변수에 대한 정보 읽기"
   ]
  },
  {
   "cell_type": "code",
   "execution_count": 50,
   "id": "c4f493a6",
   "metadata": {
    "ExecuteTime": {
     "end_time": "2022-10-18T14:51:46.049551Z",
     "start_time": "2022-10-18T14:51:46.043315Z"
    }
   },
   "outputs": [],
   "source": [
    "def clip(text, max_len=80):\n",
    "    \"\"\"max_len 앞이나 뒤의 마지막 공백에서 잘라낸 텍스트를 반환한다. \n",
    "    \"\"\"\n",
    "    end = None\n",
    "    \n",
    "    if len(text) > max_len:\n",
    "        space_before = text.rfind(' ', 0, max_len)\n",
    "        \n",
    "        if space_before >= 0:\n",
    "            end = space_before\n",
    "        else:\n",
    "            space_after = text.rfind(' ', max_len)\n",
    "            if space_after >= 0:\n",
    "                end = space_after\n",
    "                \n",
    "    if end is None:   # 공백이 없다. \n",
    "        end = len(text)\n",
    "    return text[:end].rstrip()"
   ]
  },
  {
   "cell_type": "code",
   "execution_count": 54,
   "id": "0c011141",
   "metadata": {
    "ExecuteTime": {
     "end_time": "2022-10-18T14:52:45.514859Z",
     "start_time": "2022-10-18T14:52:45.489567Z"
    }
   },
   "outputs": [
    {
     "ename": "ImportError",
     "evalue": "cannot import name 'clip' from 'clip' (/Users/eunsour/workspace/src/jupyter/venv/lib/python3.9/site-packages/clip/__init__.py)",
     "output_type": "error",
     "traceback": [
      "\u001b[0;31m---------------------------------------------------------------------------\u001b[0m",
      "\u001b[0;31mImportError\u001b[0m                               Traceback (most recent call last)",
      "Input \u001b[0;32mIn [54]\u001b[0m, in \u001b[0;36m<cell line: 1>\u001b[0;34m()\u001b[0m\n\u001b[0;32m----> 1\u001b[0m \u001b[38;5;28;01mfrom\u001b[39;00m \u001b[38;5;21;01mclip\u001b[39;00m \u001b[38;5;28;01mimport\u001b[39;00m clip\n\u001b[1;32m      3\u001b[0m clip\u001b[38;5;241m.\u001b[39m\u001b[38;5;18m__defaults__\u001b[39m\n",
      "\u001b[0;31mImportError\u001b[0m: cannot import name 'clip' from 'clip' (/Users/eunsour/workspace/src/jupyter/venv/lib/python3.9/site-packages/clip/__init__.py)"
     ]
    }
   ],
   "source": [
    "from clip import clip\n",
    "\n",
    "clip.__defaults__"
   ]
  },
  {
   "cell_type": "markdown",
   "id": "fc3cd967",
   "metadata": {},
   "source": [
    "## 5.9 함수 애너테이션"
   ]
  },
  {
   "cell_type": "code",
   "execution_count": 55,
   "id": "3f240ec3",
   "metadata": {
    "ExecuteTime": {
     "end_time": "2022-10-18T14:54:21.518616Z",
     "start_time": "2022-10-18T14:54:21.509215Z"
    }
   },
   "outputs": [],
   "source": [
    "def clip(text:str, max_len:'int > 0'=80) -> str:\n",
    "    \"\"\"max_len 앞이나 뒤의 마지막 공백에서 잘라낸 텍스트를 반환한다. \n",
    "    \"\"\"\n",
    "    end = None\n",
    "    \n",
    "    if len(text) > max_len:\n",
    "        space_before = text.rfind(' ', 0, max_len)\n",
    "        \n",
    "        if space_before >= 0:\n",
    "            end = space_before\n",
    "        else:\n",
    "            space_after = text.rfind(' ', max_len)\n",
    "            if space_after >= 0:\n",
    "                end = space_after\n",
    "                \n",
    "    if end is None:   # 공백이 없다. \n",
    "        end = len(text)\n",
    "    return text[:end].rstrip()"
   ]
  },
  {
   "cell_type": "markdown",
   "id": "dcdf2e9f",
   "metadata": {},
   "source": [
    "## 5.10 함수형 프로그래밍을 위한 패키지"
   ]
  },
  {
   "cell_type": "code",
   "execution_count": 59,
   "id": "091a6008",
   "metadata": {
    "ExecuteTime": {
     "end_time": "2022-10-18T15:08:18.415702Z",
     "start_time": "2022-10-18T15:08:18.409758Z"
    }
   },
   "outputs": [],
   "source": [
    "from functools import reduce\n",
    "\n",
    "def fact(n):\n",
    "    return reduce(lambda a, b: a * b, range(1, n+1))"
   ]
  },
  {
   "cell_type": "code",
   "execution_count": 60,
   "id": "fccf3a8a",
   "metadata": {
    "ExecuteTime": {
     "end_time": "2022-10-18T15:08:47.307175Z",
     "start_time": "2022-10-18T15:08:47.303378Z"
    }
   },
   "outputs": [],
   "source": [
    "from functools import reduce\n",
    "from operator import mul\n",
    "\n",
    "def fact(n):\n",
    "    return reduce(mul, range(1, n+1))"
   ]
  },
  {
   "cell_type": "code",
   "execution_count": 61,
   "id": "f8be57b7",
   "metadata": {
    "ExecuteTime": {
     "end_time": "2022-10-18T15:17:00.860987Z",
     "start_time": "2022-10-18T15:17:00.853559Z"
    }
   },
   "outputs": [],
   "source": [
    "metro_data = [\n",
    "    ('Tokyo', 'JP', 36.933, (35.689722, 139.691667)), \n",
    "    ('Delhi NCR', 'IN', 21.935, (28.613889, 77.208889)),\n",
    "    ('Mexico City', 'MX', 20.142, (19.433333, -99.133333)),\n",
    "    ('New York-Newark', 'US', 20.104, (40.808611, -74.020386)),\n",
    "    ('Sao Paulo', 'BR', 19.649, (-23.547778, -46.635833)),\n",
    "]"
   ]
  },
  {
   "cell_type": "code",
   "execution_count": 65,
   "id": "8a009bf9",
   "metadata": {
    "ExecuteTime": {
     "end_time": "2022-10-18T15:17:18.248220Z",
     "start_time": "2022-10-18T15:17:18.244566Z"
    }
   },
   "outputs": [
    {
     "name": "stdout",
     "output_type": "stream",
     "text": [
      "('Sao Paulo', 'BR', 19.649, (-23.547778, -46.635833))\n",
      "('Delhi NCR', 'IN', 21.935, (28.613889, 77.208889))\n",
      "('Tokyo', 'JP', 36.933, (35.689722, 139.691667))\n",
      "('Mexico City', 'MX', 20.142, (19.433333, -99.133333))\n",
      "('New York-Newark', 'US', 20.104, (40.808611, -74.020386))\n"
     ]
    }
   ],
   "source": [
    "from operator import itemgetter\n",
    "for city in sorted(metro_data, key=itemgetter(1)):\n",
    "    print(city)"
   ]
  },
  {
   "cell_type": "code",
   "execution_count": 66,
   "id": "4e8aa5cf",
   "metadata": {
    "ExecuteTime": {
     "end_time": "2022-10-18T15:22:59.091924Z",
     "start_time": "2022-10-18T15:22:59.086755Z"
    }
   },
   "outputs": [
    {
     "name": "stdout",
     "output_type": "stream",
     "text": [
      "('JP', 'Tokyo')\n",
      "('IN', 'Delhi NCR')\n",
      "('MX', 'Mexico City')\n",
      "('US', 'New York-Newark')\n",
      "('BR', 'Sao Paulo')\n"
     ]
    }
   ],
   "source": [
    "cc_name = itemgetter(1, 0)\n",
    "for city in metro_data:\n",
    "    print(cc_name(city))"
   ]
  },
  {
   "cell_type": "code",
   "execution_count": 67,
   "id": "1e01accb",
   "metadata": {
    "ExecuteTime": {
     "end_time": "2022-10-18T15:32:28.445285Z",
     "start_time": "2022-10-18T15:32:28.438911Z"
    }
   },
   "outputs": [
    {
     "data": {
      "text/plain": [
       "Metropolis(name='Tokyo', cc='JP', pop=36.933, coord=LatLong(lat=35.689722, long=139.691667))"
      ]
     },
     "execution_count": 67,
     "metadata": {},
     "output_type": "execute_result"
    }
   ],
   "source": [
    "from collections import namedtuple\n",
    "LatLong = namedtuple('LatLong', 'lat long')\n",
    "Metropolis = namedtuple('Metropolis', 'name cc pop coord')\n",
    "\n",
    "# Metropolis 객체로 구성된 리스트인 metro_areas를 생성한다. \n",
    "# (lat, long)을 추출하기 위해 내포된 튜플을 언패킹하고, \n",
    "# 추출된 항목으로 LatLong 객체를 생성해서 Metropolis의 coord 속성에 저장한다. \n",
    "metro_areas = [Metropolis(name, cc, pop, LatLong(lat, long))\n",
    "              for name, cc, pop, (lat, long) in metro_data]\n",
    "metro_areas[0]"
   ]
  },
  {
   "cell_type": "code",
   "execution_count": 68,
   "id": "800d9838",
   "metadata": {
    "ExecuteTime": {
     "end_time": "2022-10-18T15:32:45.442747Z",
     "start_time": "2022-10-18T15:32:45.434601Z"
    }
   },
   "outputs": [
    {
     "data": {
      "text/plain": [
       "35.689722"
      ]
     },
     "execution_count": 68,
     "metadata": {},
     "output_type": "execute_result"
    }
   ],
   "source": [
    "metro_areas[0].coord.lat"
   ]
  },
  {
   "cell_type": "code",
   "execution_count": 71,
   "id": "b190eaac",
   "metadata": {
    "ExecuteTime": {
     "end_time": "2022-10-18T15:33:41.307267Z",
     "start_time": "2022-10-18T15:33:41.302085Z"
    }
   },
   "outputs": [],
   "source": [
    "from operator import attrgetter\n",
    "\n",
    "# name 및 내포된 속성인 coord.lat을 가져오기 위해 attrgetter()를 정의한다. \n",
    "name_lat = attrgetter('name', 'coord.lat')"
   ]
  },
  {
   "cell_type": "code",
   "execution_count": 72,
   "id": "b0afc825",
   "metadata": {
    "ExecuteTime": {
     "end_time": "2022-10-18T15:33:41.511748Z",
     "start_time": "2022-10-18T15:33:41.502654Z"
    }
   },
   "outputs": [
    {
     "name": "stdout",
     "output_type": "stream",
     "text": [
      "('Sao Paulo', -23.547778)\n",
      "('Mexico City', 19.433333)\n",
      "('Delhi NCR', 28.613889)\n",
      "('Tokyo', 35.689722)\n",
      "('New York-Newark', 40.808611)\n"
     ]
    }
   ],
   "source": [
    "for city in sorted(metro_areas, key=attrgetter('coord.lat')):\n",
    "    print(name_lat(city))"
   ]
  },
  {
   "cell_type": "code",
   "execution_count": 76,
   "id": "53413ce3",
   "metadata": {
    "ExecuteTime": {
     "end_time": "2022-10-18T15:38:18.702472Z",
     "start_time": "2022-10-18T15:38:18.692322Z"
    },
    "scrolled": false
   },
   "outputs": [
    {
     "data": {
      "text/plain": [
       "['abs',\n",
       " 'add',\n",
       " 'and_',\n",
       " 'attrgetter',\n",
       " 'concat',\n",
       " 'contains',\n",
       " 'countOf',\n",
       " 'delitem',\n",
       " 'eq',\n",
       " 'floordiv',\n",
       " 'ge',\n",
       " 'getitem',\n",
       " 'gt',\n",
       " 'iadd',\n",
       " 'iand',\n",
       " 'iconcat',\n",
       " 'ifloordiv',\n",
       " 'ilshift',\n",
       " 'imatmul',\n",
       " 'imod',\n",
       " 'imul',\n",
       " 'index',\n",
       " 'indexOf',\n",
       " 'inv',\n",
       " 'invert',\n",
       " 'ior',\n",
       " 'ipow',\n",
       " 'irshift',\n",
       " 'is_',\n",
       " 'is_not',\n",
       " 'isub',\n",
       " 'itemgetter',\n",
       " 'itruediv',\n",
       " 'ixor',\n",
       " 'le',\n",
       " 'length_hint',\n",
       " 'lshift',\n",
       " 'lt',\n",
       " 'matmul',\n",
       " 'methodcaller',\n",
       " 'mod',\n",
       " 'mul',\n",
       " 'ne',\n",
       " 'neg',\n",
       " 'not_',\n",
       " 'or_',\n",
       " 'pos',\n",
       " 'pow',\n",
       " 'rshift',\n",
       " 'setitem',\n",
       " 'sub',\n",
       " 'truediv',\n",
       " 'truth',\n",
       " 'xor']"
      ]
     },
     "execution_count": 76,
     "metadata": {},
     "output_type": "execute_result"
    }
   ],
   "source": [
    "import operator\n",
    "\n",
    "[name for name in dir(operator) if not name.startswith('_')]"
   ]
  },
  {
   "cell_type": "code",
   "execution_count": 77,
   "id": "13833a5e",
   "metadata": {
    "ExecuteTime": {
     "end_time": "2022-10-18T15:45:17.136357Z",
     "start_time": "2022-10-18T15:45:17.127884Z"
    }
   },
   "outputs": [
    {
     "data": {
      "text/plain": [
       "'THE TIME HAS COME'"
      ]
     },
     "execution_count": 77,
     "metadata": {},
     "output_type": "execute_result"
    }
   ],
   "source": [
    "from operator import methodcaller\n",
    "s = 'The time has come'\n",
    "upcase = methodcaller('upper')\n",
    "upcase(s)"
   ]
  },
  {
   "cell_type": "code",
   "execution_count": 78,
   "id": "027686c5",
   "metadata": {
    "ExecuteTime": {
     "end_time": "2022-10-18T15:45:36.881192Z",
     "start_time": "2022-10-18T15:45:36.875795Z"
    }
   },
   "outputs": [
    {
     "data": {
      "text/plain": [
       "'The-time-has-come'"
      ]
     },
     "execution_count": 78,
     "metadata": {},
     "output_type": "execute_result"
    }
   ],
   "source": [
    "hiphenate = methodcaller('replace', ' ', '-')\n",
    "hiphenate(s)"
   ]
  },
  {
   "cell_type": "code",
   "execution_count": 79,
   "id": "2d07eeaa",
   "metadata": {
    "ExecuteTime": {
     "end_time": "2022-10-18T15:53:22.068175Z",
     "start_time": "2022-10-18T15:53:22.061621Z"
    }
   },
   "outputs": [
    {
     "data": {
      "text/plain": [
       "21"
      ]
     },
     "execution_count": 79,
     "metadata": {},
     "output_type": "execute_result"
    }
   ],
   "source": [
    "from operator import mul\n",
    "from functools import partial\n",
    "triple = partial(mul, 3)\n",
    "triple(7)"
   ]
  },
  {
   "cell_type": "code",
   "execution_count": 80,
   "id": "955701fe",
   "metadata": {
    "ExecuteTime": {
     "end_time": "2022-10-18T15:53:32.596163Z",
     "start_time": "2022-10-18T15:53:32.588259Z"
    }
   },
   "outputs": [
    {
     "data": {
      "text/plain": [
       "[3, 6, 9, 12, 15, 18, 21, 24, 27]"
      ]
     },
     "execution_count": 80,
     "metadata": {},
     "output_type": "execute_result"
    }
   ],
   "source": [
    "list(map(triple, range(1, 10)))"
   ]
  },
  {
   "cell_type": "code",
   "execution_count": 84,
   "id": "55ae9ec7",
   "metadata": {
    "ExecuteTime": {
     "end_time": "2022-10-18T15:56:00.182140Z",
     "start_time": "2022-10-18T15:56:00.176455Z"
    }
   },
   "outputs": [
    {
     "name": "stdout",
     "output_type": "stream",
     "text": [
      "[3, 6, 9, 12, 15, 18, 21, 24, 27]\n"
     ]
    }
   ],
   "source": [
    "print([triple(i) for i in range(1, 10)])"
   ]
  },
  {
   "cell_type": "code",
   "execution_count": null,
   "id": "7447f0dc",
   "metadata": {},
   "outputs": [],
   "source": []
  },
  {
   "cell_type": "code",
   "execution_count": null,
   "id": "141b38a3",
   "metadata": {},
   "outputs": [],
   "source": []
  }
 ],
 "metadata": {
  "kernelspec": {
   "display_name": "Python 3 (ipykernel)",
   "language": "python",
   "name": "python3"
  },
  "language_info": {
   "codemirror_mode": {
    "name": "ipython",
    "version": 3
   },
   "file_extension": ".py",
   "mimetype": "text/x-python",
   "name": "python",
   "nbconvert_exporter": "python",
   "pygments_lexer": "ipython3",
   "version": "3.9.10"
  },
  "toc": {
   "base_numbering": 1,
   "nav_menu": {},
   "number_sections": false,
   "sideBar": true,
   "skip_h1_title": false,
   "title_cell": "Table of Contents",
   "title_sidebar": "Contents",
   "toc_cell": false,
   "toc_position": {
    "height": "calc(100% - 180px)",
    "left": "10px",
    "top": "150px",
    "width": "172.797px"
   },
   "toc_section_display": true,
   "toc_window_display": false
  }
 },
 "nbformat": 4,
 "nbformat_minor": 5
}
