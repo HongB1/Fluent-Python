{
 "cells": [
  {
   "cell_type": "code",
   "execution_count": 17,
   "id": "3707ec4d",
   "metadata": {
    "scrolled": true
   },
   "outputs": [
    {
     "data": {
      "text/plain": [
       "True"
      ]
     },
     "execution_count": 17,
     "metadata": {},
     "output_type": "execute_result"
    }
   ],
   "source": [
    "import collections\n",
    "\n",
    "my_dict = {}\n",
    "isinstance(my_dict, collections.abc.Mapping)"
   ]
  },
  {
   "cell_type": "code",
   "execution_count": 53,
   "id": "c4325839",
   "metadata": {},
   "outputs": [
    {
     "data": {
      "text/plain": [
       "-3907003130834322577"
      ]
     },
     "execution_count": 53,
     "metadata": {},
     "output_type": "execute_result"
    }
   ],
   "source": [
    "tt = (1, 2, (30, 40))\n",
    "hash(tt)"
   ]
  },
  {
   "cell_type": "code",
   "execution_count": 54,
   "id": "d65e389e",
   "metadata": {},
   "outputs": [
    {
     "ename": "TypeError",
     "evalue": "unhashable type: 'list'",
     "output_type": "error",
     "traceback": [
      "\u001b[0;31m---------------------------------------------------------------------------\u001b[0m",
      "\u001b[0;31mTypeError\u001b[0m                                 Traceback (most recent call last)",
      "Input \u001b[0;32mIn [54]\u001b[0m, in \u001b[0;36m<cell line: 2>\u001b[0;34m()\u001b[0m\n\u001b[1;32m      1\u001b[0m t1 \u001b[38;5;241m=\u001b[39m (\u001b[38;5;241m1\u001b[39m, \u001b[38;5;241m2\u001b[39m, [\u001b[38;5;241m30\u001b[39m, \u001b[38;5;241m40\u001b[39m])\n\u001b[0;32m----> 2\u001b[0m \u001b[38;5;28;43mhash\u001b[39;49m\u001b[43m(\u001b[49m\u001b[43mt1\u001b[49m\u001b[43m)\u001b[49m\n",
      "\u001b[0;31mTypeError\u001b[0m: unhashable type: 'list'"
     ]
    }
   ],
   "source": [
    "t1 = (1, 2, [30, 40])\n",
    "hash(t1)"
   ]
  },
  {
   "cell_type": "code",
   "execution_count": 55,
   "id": "12250ebf",
   "metadata": {},
   "outputs": [
    {
     "data": {
      "text/plain": [
       "5149391500123939311"
      ]
     },
     "execution_count": 55,
     "metadata": {},
     "output_type": "execute_result"
    }
   ],
   "source": [
    "tf = (1, 2, frozenset([30, 40]))\n",
    "hash(tf)"
   ]
  },
  {
   "cell_type": "code",
   "execution_count": 56,
   "id": "83bad24a",
   "metadata": {},
   "outputs": [
    {
     "data": {
      "text/plain": [
       "False"
      ]
     },
     "execution_count": 56,
     "metadata": {},
     "output_type": "execute_result"
    }
   ],
   "source": [
    "tf.__eq__(tt)"
   ]
  },
  {
   "cell_type": "code",
   "execution_count": 59,
   "id": "d9128efe",
   "metadata": {},
   "outputs": [
    {
     "data": {
      "text/plain": [
       "True"
      ]
     },
     "execution_count": 59,
     "metadata": {},
     "output_type": "execute_result"
    }
   ],
   "source": [
    "cd = tf\n",
    "tf.__eq__(cd)"
   ]
  },
  {
   "cell_type": "code",
   "execution_count": 60,
   "id": "61bc4d4f",
   "metadata": {},
   "outputs": [
    {
     "name": "stdout",
     "output_type": "stream",
     "text": [
      "5149391500123939311\n",
      "5149391500123939311\n"
     ]
    }
   ],
   "source": [
    "print(hash(tf))\n",
    "print(hash(cd))"
   ]
  },
  {
   "cell_type": "code",
   "execution_count": null,
   "id": "45475c29",
   "metadata": {},
   "outputs": [],
   "source": []
  },
  {
   "cell_type": "code",
   "execution_count": 61,
   "id": "c4f9b05d",
   "metadata": {},
   "outputs": [
    {
     "data": {
      "text/plain": [
       "True"
      ]
     },
     "execution_count": 61,
     "metadata": {},
     "output_type": "execute_result"
    }
   ],
   "source": [
    "tf = [1, 2, 3]\n",
    "cd = tf\n",
    "\n",
    "tf.__eq__(cd)"
   ]
  },
  {
   "cell_type": "code",
   "execution_count": 64,
   "id": "fbca6094",
   "metadata": {},
   "outputs": [
    {
     "ename": "AttributeError",
     "evalue": "'builtin_function_or_method' object has no attribute 'copy'",
     "output_type": "error",
     "traceback": [
      "\u001b[0;31m---------------------------------------------------------------------------\u001b[0m",
      "\u001b[0;31mAttributeError\u001b[0m                            Traceback (most recent call last)",
      "Input \u001b[0;32mIn [64]\u001b[0m, in \u001b[0;36m<cell line: 1>\u001b[0;34m()\u001b[0m\n\u001b[0;32m----> 1\u001b[0m cd \u001b[38;5;241m=\u001b[39m \u001b[43mtf\u001b[49m\u001b[38;5;241;43m.\u001b[39;49m\u001b[43mcopy\u001b[49m\u001b[38;5;241;43m.\u001b[39;49m\u001b[43mcopy\u001b[49m()\n\u001b[1;32m      3\u001b[0m tf\u001b[38;5;241m.\u001b[39m\u001b[38;5;21m__eq__\u001b[39m(cd)\n",
      "\u001b[0;31mAttributeError\u001b[0m: 'builtin_function_or_method' object has no attribute 'copy'"
     ]
    }
   ],
   "source": [
    "cd = tf.copy.copy()\n",
    "\n",
    "tf.__eq__(cd)"
   ]
  },
  {
   "cell_type": "code",
   "execution_count": null,
   "id": "f3e28ca1",
   "metadata": {},
   "outputs": [],
   "source": []
  },
  {
   "cell_type": "code",
   "execution_count": 4,
   "id": "af371448",
   "metadata": {},
   "outputs": [
    {
     "name": "stdout",
     "output_type": "stream",
     "text": [
      "defaultdict(<function default_factory at 0x1089f78b0>, {'죠르디': 10, '곰돌이': 2})\n",
      "10\n",
      "defaultdict(<function default_factory at 0x1089f78b0>, {'죠르디': 10, '곰돌이': 2, '라이언': 10})\n"
     ]
    }
   ],
   "source": [
    "from collections import defaultdict\n",
    "\n",
    "def default_factory():\n",
    "    return 10\n",
    "\n",
    "age_dict = defaultdict(default_factory)\n",
    "age_dict['죠르디'] = 10\n",
    "age_dict['곰돌이'] = 2\n",
    "\n",
    "print(age_dict)\n",
    "print(age_dict['라이언'])\n",
    "print(age_dict)"
   ]
  },
  {
   "cell_type": "code",
   "execution_count": 5,
   "id": "d7a0bdec",
   "metadata": {},
   "outputs": [
    {
     "name": "stdout",
     "output_type": "stream",
     "text": [
      "OrderedDict([('라이언', 10), ('곰돌이', 2), ('죠르디', 20)])\n"
     ]
    }
   ],
   "source": [
    "from collections import OrderedDict\n",
    "\n",
    "ordered_age_dict = OrderedDict({'라이언': 10, '곰돌이': 2})\n",
    "ordered_age_dict['죠르디'] = 20\n",
    "\n",
    "print(ordered_age_dict)"
   ]
  },
  {
   "cell_type": "code",
   "execution_count": null,
   "id": "09631b92",
   "metadata": {},
   "outputs": [],
   "source": []
  },
  {
   "cell_type": "code",
   "execution_count": null,
   "id": "e8b95b13",
   "metadata": {},
   "outputs": [],
   "source": []
  },
  {
   "cell_type": "code",
   "execution_count": null,
   "id": "d06820e7",
   "metadata": {},
   "outputs": [],
   "source": []
  },
  {
   "cell_type": "code",
   "execution_count": 12,
   "id": "66a7c87d",
   "metadata": {},
   "outputs": [
    {
     "data": {
      "text/plain": [
       "True"
      ]
     },
     "execution_count": 12,
     "metadata": {},
     "output_type": "execute_result"
    }
   ],
   "source": [
    "a = dict(one=1, two=2, three=3)\n",
    "b = {'one' : 1, 'two' : 2, 'three': 3}\n",
    "c = dict(zip(['one', 'two', 'three'], [1, 2, 3]))\n",
    "d = dict([('two', 2), ('one', 1), ('three', 3)])\n",
    "e = dict({'three': 3, 'one': 1, 'two': 2})\n",
    "a == b == c == d == e"
   ]
  },
  {
   "cell_type": "code",
   "execution_count": null,
   "id": "c85a99e3",
   "metadata": {},
   "outputs": [],
   "source": []
  },
  {
   "cell_type": "code",
   "execution_count": 13,
   "id": "d46b4880",
   "metadata": {
    "scrolled": true
   },
   "outputs": [
    {
     "ename": "TypeError",
     "evalue": "unhashable type: 'dict'",
     "output_type": "error",
     "traceback": [
      "\u001b[0;31m---------------------------------------------------------------------------\u001b[0m",
      "\u001b[0;31mTypeError\u001b[0m                                 Traceback (most recent call last)",
      "Input \u001b[0;32mIn [13]\u001b[0m, in \u001b[0;36m<cell line: 2>\u001b[0;34m()\u001b[0m\n\u001b[1;32m      1\u001b[0m my_dict \u001b[38;5;241m=\u001b[39m {}\n\u001b[0;32m----> 2\u001b[0m \u001b[38;5;28;43mhash\u001b[39;49m\u001b[43m(\u001b[49m\u001b[43mmy_dict\u001b[49m\u001b[43m)\u001b[49m\n",
      "\u001b[0;31mTypeError\u001b[0m: unhashable type: 'dict'"
     ]
    }
   ],
   "source": [
    "my_dict = {}\n",
    "hash(my_dict)"
   ]
  },
  {
   "cell_type": "code",
   "execution_count": 14,
   "id": "b3faa45c",
   "metadata": {},
   "outputs": [
    {
     "data": {
      "text/plain": [
       "True"
      ]
     },
     "execution_count": 14,
     "metadata": {},
     "output_type": "execute_result"
    }
   ],
   "source": [
    "a == b"
   ]
  },
  {
   "cell_type": "code",
   "execution_count": 17,
   "id": "80b047ec",
   "metadata": {},
   "outputs": [
    {
     "data": {
      "text/plain": [
       "4413978368"
      ]
     },
     "execution_count": 17,
     "metadata": {},
     "output_type": "execute_result"
    }
   ],
   "source": [
    "id(a)"
   ]
  },
  {
   "cell_type": "code",
   "execution_count": 18,
   "id": "2e3dca59",
   "metadata": {},
   "outputs": [
    {
     "data": {
      "text/plain": [
       "4413978240"
      ]
     },
     "execution_count": 18,
     "metadata": {},
     "output_type": "execute_result"
    }
   ],
   "source": [
    "id(b)"
   ]
  },
  {
   "cell_type": "code",
   "execution_count": null,
   "id": "5100337f",
   "metadata": {},
   "outputs": [],
   "source": []
  },
  {
   "cell_type": "code",
   "execution_count": 2,
   "id": "57770377",
   "metadata": {},
   "outputs": [],
   "source": [
    "class Vehicle:\n",
    "    pass\n",
    "\n",
    "class Truck(Vehicle):\n",
    "    pass"
   ]
  },
  {
   "cell_type": "code",
   "execution_count": 3,
   "id": "fcfa6d4b",
   "metadata": {},
   "outputs": [
    {
     "name": "stdout",
     "output_type": "stream",
     "text": [
      "True\n",
      "True\n",
      "True\n",
      "False\n"
     ]
    }
   ],
   "source": [
    "print(isinstance(Vehicle(), Vehicle))  \n",
    "print(type(Vehicle()) == Vehicle)      \n",
    "print(isinstance(Truck(), Vehicle))    \n",
    "print(type(Truck()) == Vehicle)"
   ]
  },
  {
   "cell_type": "code",
   "execution_count": null,
   "id": "e6e69045",
   "metadata": {},
   "outputs": [],
   "source": []
  },
  {
   "cell_type": "code",
   "execution_count": null,
   "id": "43a113ab",
   "metadata": {},
   "outputs": [],
   "source": []
  },
  {
   "cell_type": "code",
   "execution_count": 2,
   "id": "60dbb495",
   "metadata": {},
   "outputs": [
    {
     "name": "stdout",
     "output_type": "stream",
     "text": [
      "False\n",
      "<__main__.ScarceMy object at 0x1060304f0> <__main__.ScarceMy object at 0x106030ac0>\n",
      "True\n",
      "<__main__.ScarceMy object at 0x1060304f0> <__main__.My object at 0x106030af0>\n",
      "False\n",
      "<__main__.My object at 0x106030af0> <__main__.ScarceMy object at 0x1060304f0>\n"
     ]
    }
   ],
   "source": [
    "class My:\n",
    "    def __init__(self, v):\n",
    "        self.v = v\n",
    "\n",
    "    def __eq__(self, other):\n",
    "        return (self.__class__ == other.__class__ ) and (self.v == other.v)\n",
    "\n",
    "class ScarceMy:\n",
    "    def __init__(self, v):\n",
    "        self.v = v\n",
    "\n",
    "    def __eq__(self, other):\n",
    "        return self.v == other.v\n",
    "\n",
    "s_my1 = ScarceMy(10)\n",
    "s_my2 = ScarceMy(20)\n",
    "\n",
    "my1 = My(10)\n",
    "\n",
    "print(s_my1 == s_my2) # 이것은 값이 다르므로 당연히 False\n",
    "print(s_my1 == my1)   # 같은 클래스의 객체가 아니므로 기대하는 것은 False 그러나 값만 비교하므로 True 가 됨\n",
    "print(my1 == s_my1)   # 같은 클래스인지 확인을 하므로 기대한 대로 False 가 됨"
   ]
  },
  {
   "cell_type": "code",
   "execution_count": 3,
   "id": "54f4e45b",
   "metadata": {
    "scrolled": true
   },
   "outputs": [
    {
     "data": {
      "text/plain": [
       "4395830000"
      ]
     },
     "execution_count": 3,
     "metadata": {},
     "output_type": "execute_result"
    }
   ],
   "source": [
    "id(my1)"
   ]
  },
  {
   "cell_type": "code",
   "execution_count": null,
   "id": "eb728dc3",
   "metadata": {},
   "outputs": [],
   "source": []
  },
  {
   "cell_type": "code",
   "execution_count": null,
   "id": "bfc0fb15",
   "metadata": {},
   "outputs": [],
   "source": []
  },
  {
   "cell_type": "code",
   "execution_count": 45,
   "id": "e85ca2ce",
   "metadata": {},
   "outputs": [
    {
     "data": {
      "text/plain": [
       "{'china': 81, 'india': 22, 'usa': 12, 'indonesia': 321, 'korea': 82}"
      ]
     },
     "execution_count": 45,
     "metadata": {},
     "output_type": "execute_result"
    }
   ],
   "source": [
    "DIAL_CODES = [\n",
    "    (81, 'china'),\n",
    "    (22, 'india'),\n",
    "    (12, 'usa'),\n",
    "    (321, 'indonesia'),\n",
    "    (82, 'korea')\n",
    "]\n",
    "\n",
    "country_code = {country: code for code, country in DIAL_CODES}\n",
    "country_code"
   ]
  },
  {
   "cell_type": "code",
   "execution_count": 31,
   "id": "ade106b6",
   "metadata": {},
   "outputs": [
    {
     "data": {
      "text/plain": [
       "{81: 'CHINA', 321: 'INDONESIA', 82: 'KOREA'}"
      ]
     },
     "execution_count": 31,
     "metadata": {},
     "output_type": "execute_result"
    }
   ],
   "source": [
    "{code: country.upper() for country, code in country_code.items() if code > 80}"
   ]
  },
  {
   "cell_type": "code",
   "execution_count": 39,
   "id": "8c37f7f3",
   "metadata": {},
   "outputs": [
    {
     "ename": "SyntaxError",
     "evalue": "invalid syntax (284544733.py, line 9)",
     "output_type": "error",
     "traceback": [
      "\u001b[0;36m  Input \u001b[0;32mIn [39]\u001b[0;36m\u001b[0m\n\u001b[0;31m    country_code = [country: code for code, country in DIAL_CODES]\u001b[0m\n\u001b[0m                           ^\u001b[0m\n\u001b[0;31mSyntaxError\u001b[0m\u001b[0;31m:\u001b[0m invalid syntax\n"
     ]
    }
   ],
   "source": [
    "DIAL_CODES = [\n",
    "    (81, 'china'),\n",
    "    (22, 'india'),\n",
    "    (12, 'usa'),\n",
    "    (321, 'indonesia'),\n",
    "    (82, 'korea')\n",
    "]\n",
    "\n",
    "country_code = {country: code for code, country in DIAL_CODES}\n",
    "country_code"
   ]
  },
  {
   "cell_type": "code",
   "execution_count": 37,
   "id": "d84c0098",
   "metadata": {},
   "outputs": [
    {
     "data": {
      "text/plain": [
       "{81: 'CHINA', 321: 'INDONESIA', 82: 'KOREA'}"
      ]
     },
     "execution_count": 37,
     "metadata": {},
     "output_type": "execute_result"
    }
   ],
   "source": [
    "{code: country.upper() for country, code in country_code.items() if code > 80}"
   ]
  },
  {
   "cell_type": "code",
   "execution_count": 44,
   "id": "92f02ec0",
   "metadata": {},
   "outputs": [],
   "source": [
    "country_code.clear()"
   ]
  },
  {
   "cell_type": "code",
   "execution_count": 49,
   "id": "8c642a8c",
   "metadata": {
    "scrolled": true
   },
   "outputs": [
    {
     "ename": "AttributeError",
     "evalue": "'dict' object has no attribute 'default_factory'",
     "output_type": "error",
     "traceback": [
      "\u001b[0;31m---------------------------------------------------------------------------\u001b[0m",
      "\u001b[0;31mAttributeError\u001b[0m                            Traceback (most recent call last)",
      "Input \u001b[0;32mIn [49]\u001b[0m, in \u001b[0;36m<cell line: 1>\u001b[0;34m()\u001b[0m\n\u001b[0;32m----> 1\u001b[0m \u001b[43mcountry_code\u001b[49m\u001b[38;5;241;43m.\u001b[39;49m\u001b[43mdefault_factory\u001b[49m\n",
      "\u001b[0;31mAttributeError\u001b[0m: 'dict' object has no attribute 'default_factory'"
     ]
    }
   ],
   "source": [
    "country_code.update()"
   ]
  },
  {
   "cell_type": "code",
   "execution_count": 6,
   "id": "b5f0daeb",
   "metadata": {},
   "outputs": [],
   "source": [
    "my_dict = {1: 'one', 2 : 'two', 3 : 'three'}"
   ]
  },
  {
   "cell_type": "code",
   "execution_count": 31,
   "id": "5ac97c19",
   "metadata": {},
   "outputs": [
    {
     "data": {
      "text/plain": [
       "dict_keys([1, 2, 3])"
      ]
     },
     "execution_count": 31,
     "metadata": {},
     "output_type": "execute_result"
    }
   ],
   "source": [
    "my_dict.keys()"
   ]
  },
  {
   "cell_type": "code",
   "execution_count": 34,
   "id": "9bbc19dd",
   "metadata": {},
   "outputs": [
    {
     "ename": "KeyError",
     "evalue": "4",
     "output_type": "error",
     "traceback": [
      "\u001b[0;31m---------------------------------------------------------------------------\u001b[0m",
      "\u001b[0;31mKeyError\u001b[0m                                  Traceback (most recent call last)",
      "Input \u001b[0;32mIn [34]\u001b[0m, in \u001b[0;36m<cell line: 1>\u001b[0;34m()\u001b[0m\n\u001b[0;32m----> 1\u001b[0m \u001b[43mmy_dict\u001b[49m\u001b[43m[\u001b[49m\u001b[38;5;241;43m4\u001b[39;49m\u001b[43m]\u001b[49m\n",
      "\u001b[0;31mKeyError\u001b[0m: 4"
     ]
    }
   ],
   "source": [
    "my_dict[4]"
   ]
  },
  {
   "cell_type": "code",
   "execution_count": 11,
   "id": "1415d4e4",
   "metadata": {},
   "outputs": [],
   "source": [
    "my_dict = {1: 'one', 2 : 'two', 3 : 'three'}"
   ]
  },
  {
   "cell_type": "code",
   "execution_count": 12,
   "id": "48d2323f",
   "metadata": {},
   "outputs": [
    {
     "data": {
      "text/plain": [
       "{1: 'one', 2: 'two', 3: 'three'}"
      ]
     },
     "execution_count": 12,
     "metadata": {},
     "output_type": "execute_result"
    }
   ],
   "source": [
    "location = (1, 2)\n",
    "\n",
    "my_dict.get(4, []).append(location)\n",
    "my_dict"
   ]
  },
  {
   "cell_type": "code",
   "execution_count": 13,
   "id": "43ae0704",
   "metadata": {},
   "outputs": [
    {
     "data": {
      "text/plain": [
       "{1: 'one', 2: 'two', 3: 'three', 4: [(1, 2)]}"
      ]
     },
     "execution_count": 13,
     "metadata": {},
     "output_type": "execute_result"
    }
   ],
   "source": [
    "my_dict.setdefault(4, []).append(location)\n",
    "my_dict"
   ]
  },
  {
   "cell_type": "code",
   "execution_count": null,
   "id": "b21709ba",
   "metadata": {},
   "outputs": [],
   "source": []
  },
  {
   "cell_type": "code",
   "execution_count": null,
   "id": "35ba605d",
   "metadata": {},
   "outputs": [],
   "source": []
  },
  {
   "cell_type": "code",
   "execution_count": 71,
   "id": "a6c971df",
   "metadata": {},
   "outputs": [
    {
     "data": {
      "text/plain": [
       "{1: 'one', 2: 'two', 3: 'three'}"
      ]
     },
     "execution_count": 71,
     "metadata": {},
     "output_type": "execute_result"
    }
   ],
   "source": [
    "my_dict.__getitem__(4)"
   ]
  },
  {
   "cell_type": "code",
   "execution_count": null,
   "id": "bd7228ed",
   "metadata": {},
   "outputs": [],
   "source": []
  },
  {
   "cell_type": "code",
   "execution_count": null,
   "id": "bc76673e",
   "metadata": {},
   "outputs": [],
   "source": []
  },
  {
   "cell_type": "code",
   "execution_count": 24,
   "id": "144aa38c",
   "metadata": {},
   "outputs": [],
   "source": [
    "# 덕 타이핑\n",
    "\n",
    "class Duck:\n",
    "    def quack(self): \n",
    "        print(\"꽥꽥!\")\n",
    "    def feathers(self):\n",
    "        print(\"오리에게 흰색, 회색 깃털이 있습니다.\")\n",
    "\n",
    "class Person:\n",
    "    def quack(self): \n",
    "        print(\"이 사람이 오리를 흉내내네요.\")\n",
    "    def feathers(self):\n",
    "        print(\"사람은 바닥에서 깃털을 주워서 보여 줍니다.\")\n",
    "\n",
    "def in_the_forest(duck):\n",
    "    duck.quack()\n",
    "    duck.feathers()\n",
    "\n",
    "def game():\n",
    "    donald = Duck()\n",
    "    john = Person()\n",
    "    in_the_forest(donald)\n",
    "    in_the_forest(john)"
   ]
  },
  {
   "cell_type": "code",
   "execution_count": 25,
   "id": "10f96343",
   "metadata": {},
   "outputs": [
    {
     "name": "stdout",
     "output_type": "stream",
     "text": [
      "꽥꽥!\n",
      "오리에게 흰색, 회색 깃털이 있습니다.\n",
      "이 사람이 오리를 흉내내네요.\n",
      "사람은 바닥에서 깃털을 주워서 보여 줍니다.\n"
     ]
    }
   ],
   "source": [
    "game()"
   ]
  },
  {
   "cell_type": "code",
   "execution_count": null,
   "id": "60ec6fc7",
   "metadata": {},
   "outputs": [],
   "source": []
  },
  {
   "cell_type": "code",
   "execution_count": 72,
   "id": "fd3df4c4",
   "metadata": {},
   "outputs": [
    {
     "name": "stdout",
     "output_type": "stream",
     "text": [
      "1 [(1, 16), (1, 25), (1, 34), (5, 16)]\n",
      "11 [(1, 12)]\n",
      "12 [(3, 11)]\n",
      "14 [(4, 10)]\n",
      "15 [(2, 7), (4, 6)]\n",
      "16 [(1, 21), (4, 16)]\n",
      "18 [(1, 30)]\n",
      "20 [(4, 26)]\n",
      "21 [(3, 7)]\n",
      "23 [(2, 11)]\n",
      "27 [(4, 20)]\n",
      "3 [(5, 13)]\n",
      "50 [(4, 30)]\n",
      "Although [(1, 1)]\n",
      "and [(2, 1)]\n",
      "are [(3, 1)]\n",
      "be [(4, 1)]\n",
      "Beautiful [(5, 1)]\n"
     ]
    }
   ],
   "source": [
    "# 좋지 않은 사례\n",
    "\n",
    "import sys\n",
    "import re\n",
    "\n",
    "WORD_RE = re.compile(r'\\w+')\n",
    "index = {}\n",
    "\n",
    "# f = open('zen.txt', 'w')\n",
    "# f.close()\n",
    "    \n",
    "with open('./zen.txt', encoding='utf-8') as fp:\n",
    "    for line_no, line in enumerate(fp, 1):\n",
    "        for match in WORD_RE.finditer(line):\n",
    "            word = match.group()\n",
    "            column_no = match.start() + 1\n",
    "            location = (line_no, column_no)\n",
    "            \n",
    "            # 1. 단어(word)에 대한 occurrences 리스트를 가져오거나, 단어가 없으면 빈 배열을 가져온다.\n",
    "            occurrences = index.get(word, [])\n",
    "            # 2. 새로 만든 location을 occurrences에 추가한다. \n",
    "            occurrences.append(location)\n",
    "            # 3. 변경된 occurrences를 index 딕셔너리에 넣는다. 그러면 index를 한 번 더 검색한다. \n",
    "            index[word] = occurrences\n",
    "\n",
    "            \n",
    "# 4. sorted() 함수의 key 인수 안에서 str.upper()를 호출하지 않고, 단지 str.upper() 함수에 대한 \n",
    "# 참조를 전달해서 sorted() 함수가 이 함수를 이용해서 정렬할 단어를 정규화하게 만든다.\n",
    "for word in sorted(index, key=str.upper):\n",
    "    print(word, index[word])\n",
    "    \n",
    "    \n",
    "# 이 예제에서 단어 발생(occurrences)을 처리하는 코드 세 줄은 dict.setdefault()를 사용하면 한 줄로 바꿀 수 있다. "
   ]
  },
  {
   "cell_type": "code",
   "execution_count": null,
   "id": "4acfa805",
   "metadata": {},
   "outputs": [],
   "source": []
  },
  {
   "cell_type": "code",
   "execution_count": 73,
   "id": "93f8f8b1",
   "metadata": {},
   "outputs": [
    {
     "name": "stdout",
     "output_type": "stream",
     "text": [
      "1 [(1, 16), (1, 25), (1, 34), (5, 16)]\n",
      "11 [(1, 12)]\n",
      "12 [(3, 11)]\n",
      "14 [(4, 10)]\n",
      "15 [(2, 7), (4, 6)]\n",
      "16 [(1, 21), (4, 16)]\n",
      "18 [(1, 30)]\n",
      "20 [(4, 26)]\n",
      "21 [(3, 7)]\n",
      "23 [(2, 11)]\n",
      "27 [(4, 20)]\n",
      "3 [(5, 13)]\n",
      "50 [(4, 30)]\n",
      "Although [(1, 1)]\n",
      "and [(2, 1)]\n",
      "are [(3, 1)]\n",
      "be [(4, 1)]\n",
      "Beautiful [(5, 1)]\n"
     ]
    }
   ],
   "source": [
    "import sys\n",
    "import re\n",
    "\n",
    "WORD_RE = re.compile(r'\\w+')\n",
    "index = {}\n",
    "\n",
    "\n",
    "with open('./zen.txt', encoding='utf-8') as fp:\n",
    "    for line_no, line in enumerate(fp, 1):\n",
    "        for match in WORD_RE.finditer(line):\n",
    "            word = match.group()\n",
    "            column_no = match.start() + 1\n",
    "            location = (line_no, column_no)\n",
    "            \n",
    "            # 1. 단어에 대한 occurrences 리스트를 가져오거나, 단어가 없을 때는 빈 배열을 가져온다. \n",
    "            # setdefault()가 값을 반환하므로 한 번 더 검색할 필요 없이 갱신할 수 있다. \n",
    "            index.setdefault(word, []).append(location)\n",
    "\n",
    "            \n",
    "# 알파벳순으로 출력한다. \n",
    "for word in sorted(index, key=str.upper):\n",
    "    print(word, index[word])"
   ]
  },
  {
   "cell_type": "code",
   "execution_count": null,
   "id": "9a85dde9",
   "metadata": {},
   "outputs": [],
   "source": []
  },
  {
   "cell_type": "code",
   "execution_count": null,
   "id": "d7632701",
   "metadata": {},
   "outputs": [],
   "source": []
  },
  {
   "cell_type": "code",
   "execution_count": null,
   "id": "25804127",
   "metadata": {},
   "outputs": [],
   "source": []
  }
 ],
 "metadata": {
  "kernelspec": {
   "display_name": "Python 3 (ipykernel)",
   "language": "python",
   "name": "python3"
  },
  "language_info": {
   "codemirror_mode": {
    "name": "ipython",
    "version": 3
   },
   "file_extension": ".py",
   "mimetype": "text/x-python",
   "name": "python",
   "nbconvert_exporter": "python",
   "pygments_lexer": "ipython3",
   "version": "3.9.10"
  },
  "toc": {
   "base_numbering": 1,
   "nav_menu": {},
   "number_sections": true,
   "sideBar": true,
   "skip_h1_title": false,
   "title_cell": "Table of Contents",
   "title_sidebar": "Contents",
   "toc_cell": false,
   "toc_position": {},
   "toc_section_display": true,
   "toc_window_display": false
  }
 },
 "nbformat": 4,
 "nbformat_minor": 5
}
