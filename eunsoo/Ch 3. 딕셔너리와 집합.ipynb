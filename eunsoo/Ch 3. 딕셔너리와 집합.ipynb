{
 "cells": [
  {
   "cell_type": "markdown",
   "id": "66476464",
   "metadata": {},
   "source": [
    "## 3.1 일반적인 매핑형"
   ]
  },
  {
   "cell_type": "code",
   "execution_count": 17,
   "id": "3707ec4d",
   "metadata": {
    "scrolled": true
   },
   "outputs": [
    {
     "data": {
      "text/plain": [
       "True"
      ]
     },
     "execution_count": 17,
     "metadata": {},
     "output_type": "execute_result"
    }
   ],
   "source": [
    "import collections\n",
    "\n",
    "my_dict = {}\n",
    "isinstance(my_dict, collections.abc.Mapping)"
   ]
  },
  {
   "cell_type": "code",
   "execution_count": 55,
   "id": "12250ebf",
   "metadata": {},
   "outputs": [
    {
     "data": {
      "text/plain": [
       "5149391500123939311"
      ]
     },
     "execution_count": 55,
     "metadata": {},
     "output_type": "execute_result"
    }
   ],
   "source": [
    "tf = (1, 2, frozenset([30, 40]))\n",
    "hash(tf)"
   ]
  },
  {
   "cell_type": "code",
   "execution_count": 56,
   "id": "83bad24a",
   "metadata": {},
   "outputs": [
    {
     "data": {
      "text/plain": [
       "False"
      ]
     },
     "execution_count": 56,
     "metadata": {},
     "output_type": "execute_result"
    }
   ],
   "source": [
    "tf.__eq__(tt)"
   ]
  },
  {
   "cell_type": "code",
   "execution_count": 59,
   "id": "d9128efe",
   "metadata": {},
   "outputs": [
    {
     "data": {
      "text/plain": [
       "True"
      ]
     },
     "execution_count": 59,
     "metadata": {},
     "output_type": "execute_result"
    }
   ],
   "source": [
    "cd = tf\n",
    "tf.__eq__(cd)"
   ]
  },
  {
   "cell_type": "code",
   "execution_count": 60,
   "id": "61bc4d4f",
   "metadata": {},
   "outputs": [
    {
     "name": "stdout",
     "output_type": "stream",
     "text": [
      "5149391500123939311\n",
      "5149391500123939311\n"
     ]
    }
   ],
   "source": [
    "print(hash(tf))\n",
    "print(hash(cd))"
   ]
  },
  {
   "cell_type": "code",
   "execution_count": 61,
   "id": "c4f9b05d",
   "metadata": {},
   "outputs": [
    {
     "data": {
      "text/plain": [
       "True"
      ]
     },
     "execution_count": 61,
     "metadata": {},
     "output_type": "execute_result"
    }
   ],
   "source": [
    "tf = [1, 2, 3]\n",
    "cd = tf\n",
    "\n",
    "tf.__eq__(cd)"
   ]
  },
  {
   "cell_type": "code",
   "execution_count": 64,
   "id": "fbca6094",
   "metadata": {},
   "outputs": [
    {
     "ename": "AttributeError",
     "evalue": "'builtin_function_or_method' object has no attribute 'copy'",
     "output_type": "error",
     "traceback": [
      "\u001b[0;31m---------------------------------------------------------------------------\u001b[0m",
      "\u001b[0;31mAttributeError\u001b[0m                            Traceback (most recent call last)",
      "Input \u001b[0;32mIn [64]\u001b[0m, in \u001b[0;36m<cell line: 1>\u001b[0;34m()\u001b[0m\n\u001b[0;32m----> 1\u001b[0m cd \u001b[38;5;241m=\u001b[39m \u001b[43mtf\u001b[49m\u001b[38;5;241;43m.\u001b[39;49m\u001b[43mcopy\u001b[49m\u001b[38;5;241;43m.\u001b[39;49m\u001b[43mcopy\u001b[49m()\n\u001b[1;32m      3\u001b[0m tf\u001b[38;5;241m.\u001b[39m\u001b[38;5;21m__eq__\u001b[39m(cd)\n",
      "\u001b[0;31mAttributeError\u001b[0m: 'builtin_function_or_method' object has no attribute 'copy'"
     ]
    }
   ],
   "source": [
    "cd = tf.copy.copy()\n",
    "\n",
    "tf.__eq__(cd)"
   ]
  },
  {
   "cell_type": "markdown",
   "id": "45467921",
   "metadata": {},
   "source": [
    "---"
   ]
  },
  {
   "cell_type": "markdown",
   "id": "89994cd3",
   "metadata": {},
   "source": [
    "### `type()` vs `instance()`"
   ]
  },
  {
   "cell_type": "code",
   "execution_count": 2,
   "id": "57770377",
   "metadata": {},
   "outputs": [],
   "source": [
    "class Vehicle:\n",
    "    pass\n",
    "\n",
    "class Truck(Vehicle):\n",
    "    pass"
   ]
  },
  {
   "cell_type": "code",
   "execution_count": 3,
   "id": "fcfa6d4b",
   "metadata": {},
   "outputs": [
    {
     "name": "stdout",
     "output_type": "stream",
     "text": [
      "True\n",
      "True\n",
      "True\n",
      "False\n"
     ]
    }
   ],
   "source": [
    "print(isinstance(Vehicle(), Vehicle))  \n",
    "print(type(Vehicle()) == Vehicle)      \n",
    "print(isinstance(Truck(), Vehicle))    \n",
    "print(type(Truck()) == Vehicle)"
   ]
  },
  {
   "cell_type": "markdown",
   "id": "23d1b691",
   "metadata": {},
   "source": [
    "---"
   ]
  },
  {
   "cell_type": "markdown",
   "id": "6217bc40",
   "metadata": {},
   "source": [
    "### 해시 가능하다의 의미"
   ]
  },
  {
   "cell_type": "code",
   "execution_count": 53,
   "id": "c4325839",
   "metadata": {},
   "outputs": [
    {
     "data": {
      "text/plain": [
       "-3907003130834322577"
      ]
     },
     "execution_count": 53,
     "metadata": {},
     "output_type": "execute_result"
    }
   ],
   "source": [
    "tt = (1, 2, (30, 40))\n",
    "hash(tt)"
   ]
  },
  {
   "cell_type": "code",
   "execution_count": 54,
   "id": "d65e389e",
   "metadata": {},
   "outputs": [
    {
     "ename": "TypeError",
     "evalue": "unhashable type: 'list'",
     "output_type": "error",
     "traceback": [
      "\u001b[0;31m---------------------------------------------------------------------------\u001b[0m",
      "\u001b[0;31mTypeError\u001b[0m                                 Traceback (most recent call last)",
      "Input \u001b[0;32mIn [54]\u001b[0m, in \u001b[0;36m<cell line: 2>\u001b[0;34m()\u001b[0m\n\u001b[1;32m      1\u001b[0m t1 \u001b[38;5;241m=\u001b[39m (\u001b[38;5;241m1\u001b[39m, \u001b[38;5;241m2\u001b[39m, [\u001b[38;5;241m30\u001b[39m, \u001b[38;5;241m40\u001b[39m])\n\u001b[0;32m----> 2\u001b[0m \u001b[38;5;28;43mhash\u001b[39;49m\u001b[43m(\u001b[49m\u001b[43mt1\u001b[49m\u001b[43m)\u001b[49m\n",
      "\u001b[0;31mTypeError\u001b[0m: unhashable type: 'list'"
     ]
    }
   ],
   "source": [
    "t1 = (1, 2, [30, 40])\n",
    "hash(t1)"
   ]
  },
  {
   "cell_type": "markdown",
   "id": "06a8f08d",
   "metadata": {},
   "source": [
    "---"
   ]
  },
  {
   "cell_type": "markdown",
   "id": "c1ab2497",
   "metadata": {},
   "source": [
    "### dict를 구현하는 다양한 방법"
   ]
  },
  {
   "cell_type": "code",
   "execution_count": 12,
   "id": "66a7c87d",
   "metadata": {},
   "outputs": [
    {
     "data": {
      "text/plain": [
       "True"
      ]
     },
     "execution_count": 12,
     "metadata": {},
     "output_type": "execute_result"
    }
   ],
   "source": [
    "a = dict(one=1, two=2, three=3)\n",
    "b = {'one' : 1, 'two' : 2, 'three': 3}\n",
    "c = dict(zip(['one', 'two', 'three'], [1, 2, 3]))\n",
    "d = dict([('two', 2), ('one', 1), ('three', 3)])\n",
    "e = dict({'three': 3, 'one': 1, 'two': 2})\n",
    "a == b == c == d == e"
   ]
  },
  {
   "cell_type": "markdown",
   "id": "5fca29fc",
   "metadata": {},
   "source": [
    "---"
   ]
  },
  {
   "cell_type": "markdown",
   "id": "c70a9d66",
   "metadata": {},
   "source": [
    "## 3.2 지능형 딕셔너리"
   ]
  },
  {
   "cell_type": "code",
   "execution_count": 45,
   "id": "e85ca2ce",
   "metadata": {},
   "outputs": [
    {
     "data": {
      "text/plain": [
       "{'china': 81, 'india': 22, 'usa': 12, 'indonesia': 321, 'korea': 82}"
      ]
     },
     "execution_count": 45,
     "metadata": {},
     "output_type": "execute_result"
    }
   ],
   "source": [
    "DIAL_CODES = [\n",
    "    (81, 'china'),\n",
    "    (22, 'india'),\n",
    "    (12, 'usa'),\n",
    "    (321, 'indonesia'),\n",
    "    (82, 'korea')\n",
    "]\n",
    "\n",
    "country_code = {country: code for code, country in DIAL_CODES}\n",
    "country_code"
   ]
  },
  {
   "cell_type": "code",
   "execution_count": 31,
   "id": "ade106b6",
   "metadata": {},
   "outputs": [
    {
     "data": {
      "text/plain": [
       "{81: 'CHINA', 321: 'INDONESIA', 82: 'KOREA'}"
      ]
     },
     "execution_count": 31,
     "metadata": {},
     "output_type": "execute_result"
    }
   ],
   "source": [
    "{code: country.upper() for country, code in country_code.items() if code > 80}"
   ]
  },
  {
   "cell_type": "markdown",
   "id": "e9f0237f",
   "metadata": {},
   "source": [
    "---"
   ]
  },
  {
   "cell_type": "markdown",
   "id": "5c59ec15",
   "metadata": {},
   "source": [
    "### 3.3 공통적인 매핑 메서드"
   ]
  },
  {
   "cell_type": "code",
   "execution_count": 4,
   "id": "af371448",
   "metadata": {},
   "outputs": [
    {
     "name": "stdout",
     "output_type": "stream",
     "text": [
      "defaultdict(<function default_factory at 0x1089f78b0>, {'죠르디': 10, '곰돌이': 2})\n",
      "10\n",
      "defaultdict(<function default_factory at 0x1089f78b0>, {'죠르디': 10, '곰돌이': 2, '라이언': 10})\n"
     ]
    }
   ],
   "source": [
    "from collections import defaultdict\n",
    "\n",
    "def default_factory():\n",
    "    return 10\n",
    "\n",
    "age_dict = defaultdict(default_factory)\n",
    "age_dict['죠르디'] = 10\n",
    "age_dict['곰돌이'] = 2\n",
    "\n",
    "print(age_dict)\n",
    "print(age_dict['라이언'])\n",
    "print(age_dict)"
   ]
  },
  {
   "cell_type": "code",
   "execution_count": 5,
   "id": "d7a0bdec",
   "metadata": {},
   "outputs": [
    {
     "name": "stdout",
     "output_type": "stream",
     "text": [
      "OrderedDict([('라이언', 10), ('곰돌이', 2), ('죠르디', 20)])\n"
     ]
    }
   ],
   "source": [
    "from collections import OrderedDict\n",
    "\n",
    "ordered_age_dict = OrderedDict({'라이언': 10, '곰돌이': 2})\n",
    "ordered_age_dict['죠르디'] = 20\n",
    "\n",
    "print(ordered_age_dict)"
   ]
  },
  {
   "cell_type": "markdown",
   "id": "e0fe294c",
   "metadata": {},
   "source": [
    "---"
   ]
  },
  {
   "cell_type": "markdown",
   "id": "15f37599",
   "metadata": {},
   "source": [
    "### 덕 타이핑"
   ]
  },
  {
   "cell_type": "code",
   "execution_count": 24,
   "id": "144aa38c",
   "metadata": {},
   "outputs": [],
   "source": [
    "class Duck:\n",
    "    def quack(self): \n",
    "        print(\"꽥꽥!\")\n",
    "    def feathers(self):\n",
    "        print(\"오리에게 흰색, 회색 깃털이 있습니다.\")\n",
    "\n",
    "class Person:\n",
    "    def quack(self): \n",
    "        print(\"이 사람이 오리를 흉내내네요.\")\n",
    "    def feathers(self):\n",
    "        print(\"사람은 바닥에서 깃털을 주워서 보여 줍니다.\")\n",
    "\n",
    "def in_the_forest(duck):\n",
    "    duck.quack()\n",
    "    duck.feathers()\n",
    "\n",
    "def game():\n",
    "    donald = Duck()\n",
    "    john = Person()\n",
    "    in_the_forest(donald)\n",
    "    in_the_forest(john)"
   ]
  },
  {
   "cell_type": "code",
   "execution_count": 25,
   "id": "10f96343",
   "metadata": {
    "scrolled": true
   },
   "outputs": [
    {
     "name": "stdout",
     "output_type": "stream",
     "text": [
      "꽥꽥!\n",
      "오리에게 흰색, 회색 깃털이 있습니다.\n",
      "이 사람이 오리를 흉내내네요.\n",
      "사람은 바닥에서 깃털을 주워서 보여 줍니다.\n"
     ]
    }
   ],
   "source": [
    "game()"
   ]
  },
  {
   "cell_type": "markdown",
   "id": "cb72ea6c",
   "metadata": {},
   "source": [
    "---"
   ]
  },
  {
   "cell_type": "code",
   "execution_count": 13,
   "id": "d46b4880",
   "metadata": {
    "scrolled": true
   },
   "outputs": [
    {
     "ename": "TypeError",
     "evalue": "unhashable type: 'dict'",
     "output_type": "error",
     "traceback": [
      "\u001b[0;31m---------------------------------------------------------------------------\u001b[0m",
      "\u001b[0;31mTypeError\u001b[0m                                 Traceback (most recent call last)",
      "Input \u001b[0;32mIn [13]\u001b[0m, in \u001b[0;36m<cell line: 2>\u001b[0;34m()\u001b[0m\n\u001b[1;32m      1\u001b[0m my_dict \u001b[38;5;241m=\u001b[39m {}\n\u001b[0;32m----> 2\u001b[0m \u001b[38;5;28;43mhash\u001b[39;49m\u001b[43m(\u001b[49m\u001b[43mmy_dict\u001b[49m\u001b[43m)\u001b[49m\n",
      "\u001b[0;31mTypeError\u001b[0m: unhashable type: 'dict'"
     ]
    }
   ],
   "source": [
    "my_dict = {}\n",
    "hash(my_dict)"
   ]
  },
  {
   "cell_type": "code",
   "execution_count": 14,
   "id": "b3faa45c",
   "metadata": {},
   "outputs": [
    {
     "data": {
      "text/plain": [
       "True"
      ]
     },
     "execution_count": 14,
     "metadata": {},
     "output_type": "execute_result"
    }
   ],
   "source": [
    "a == b"
   ]
  },
  {
   "cell_type": "code",
   "execution_count": 17,
   "id": "80b047ec",
   "metadata": {},
   "outputs": [
    {
     "data": {
      "text/plain": [
       "4413978368"
      ]
     },
     "execution_count": 17,
     "metadata": {},
     "output_type": "execute_result"
    }
   ],
   "source": [
    "id(a)"
   ]
  },
  {
   "cell_type": "code",
   "execution_count": 18,
   "id": "2e3dca59",
   "metadata": {},
   "outputs": [
    {
     "data": {
      "text/plain": [
       "4413978240"
      ]
     },
     "execution_count": 18,
     "metadata": {},
     "output_type": "execute_result"
    }
   ],
   "source": [
    "id(b)"
   ]
  },
  {
   "cell_type": "markdown",
   "id": "155159db",
   "metadata": {},
   "source": [
    "---"
   ]
  },
  {
   "cell_type": "markdown",
   "id": "3f3119d3",
   "metadata": {},
   "source": [
    "### 조기 실패 철학"
   ]
  },
  {
   "cell_type": "code",
   "execution_count": 6,
   "id": "b5f0daeb",
   "metadata": {},
   "outputs": [],
   "source": [
    "my_dict = {1: 'one', 2 : 'two', 3 : 'three'}"
   ]
  },
  {
   "cell_type": "code",
   "execution_count": 31,
   "id": "5ac97c19",
   "metadata": {},
   "outputs": [
    {
     "data": {
      "text/plain": [
       "dict_keys([1, 2, 3])"
      ]
     },
     "execution_count": 31,
     "metadata": {},
     "output_type": "execute_result"
    }
   ],
   "source": [
    "my_dict.keys()"
   ]
  },
  {
   "cell_type": "code",
   "execution_count": 34,
   "id": "9bbc19dd",
   "metadata": {},
   "outputs": [
    {
     "ename": "KeyError",
     "evalue": "4",
     "output_type": "error",
     "traceback": [
      "\u001b[0;31m---------------------------------------------------------------------------\u001b[0m",
      "\u001b[0;31mKeyError\u001b[0m                                  Traceback (most recent call last)",
      "Input \u001b[0;32mIn [34]\u001b[0m, in \u001b[0;36m<cell line: 1>\u001b[0;34m()\u001b[0m\n\u001b[0;32m----> 1\u001b[0m \u001b[43mmy_dict\u001b[49m\u001b[43m[\u001b[49m\u001b[38;5;241;43m4\u001b[39;49m\u001b[43m]\u001b[49m\n",
      "\u001b[0;31mKeyError\u001b[0m: 4"
     ]
    }
   ],
   "source": [
    "my_dict[4]"
   ]
  },
  {
   "cell_type": "markdown",
   "id": "d36309f2",
   "metadata": {},
   "source": [
    "---"
   ]
  },
  {
   "cell_type": "code",
   "execution_count": 11,
   "id": "1415d4e4",
   "metadata": {},
   "outputs": [],
   "source": [
    "my_dict = {1: 'one', 2 : 'two', 3 : 'three'}"
   ]
  },
  {
   "cell_type": "code",
   "execution_count": 12,
   "id": "48d2323f",
   "metadata": {},
   "outputs": [
    {
     "data": {
      "text/plain": [
       "{1: 'one', 2: 'two', 3: 'three'}"
      ]
     },
     "execution_count": 12,
     "metadata": {},
     "output_type": "execute_result"
    }
   ],
   "source": [
    "location = (1, 2)\n",
    "\n",
    "my_dict.get(4, []).append(location)\n",
    "my_dict"
   ]
  },
  {
   "cell_type": "code",
   "execution_count": 13,
   "id": "43ae0704",
   "metadata": {},
   "outputs": [
    {
     "data": {
      "text/plain": [
       "{1: 'one', 2: 'two', 3: 'three', 4: [(1, 2)]}"
      ]
     },
     "execution_count": 13,
     "metadata": {},
     "output_type": "execute_result"
    }
   ],
   "source": [
    "my_dict.setdefault(4, []).append(location)\n",
    "my_dict"
   ]
  },
  {
   "cell_type": "code",
   "execution_count": 71,
   "id": "a6c971df",
   "metadata": {},
   "outputs": [
    {
     "data": {
      "text/plain": [
       "{1: 'one', 2: 'two', 3: 'three'}"
      ]
     },
     "execution_count": 71,
     "metadata": {},
     "output_type": "execute_result"
    }
   ],
   "source": [
    "my_dict.__getitem__(4)"
   ]
  },
  {
   "cell_type": "markdown",
   "id": "b426260b",
   "metadata": {},
   "source": [
    "---"
   ]
  },
  {
   "cell_type": "markdown",
   "id": "fd2318a2",
   "metadata": {},
   "source": [
    "### 존재하지 않는 키를 `setdefault()`로 처리하기"
   ]
  },
  {
   "cell_type": "code",
   "execution_count": 72,
   "id": "fd3df4c4",
   "metadata": {},
   "outputs": [
    {
     "name": "stdout",
     "output_type": "stream",
     "text": [
      "1 [(1, 16), (1, 25), (1, 34), (5, 16)]\n",
      "11 [(1, 12)]\n",
      "12 [(3, 11)]\n",
      "14 [(4, 10)]\n",
      "15 [(2, 7), (4, 6)]\n",
      "16 [(1, 21), (4, 16)]\n",
      "18 [(1, 30)]\n",
      "20 [(4, 26)]\n",
      "21 [(3, 7)]\n",
      "23 [(2, 11)]\n",
      "27 [(4, 20)]\n",
      "3 [(5, 13)]\n",
      "50 [(4, 30)]\n",
      "Although [(1, 1)]\n",
      "and [(2, 1)]\n",
      "are [(3, 1)]\n",
      "be [(4, 1)]\n",
      "Beautiful [(5, 1)]\n"
     ]
    }
   ],
   "source": [
    "# 좋지 않은 사례\n",
    "\n",
    "import sys\n",
    "import re\n",
    "\n",
    "WORD_RE = re.compile(r'\\w+')\n",
    "index = {}\n",
    "\n",
    "# f = open('zen.txt', 'w')\n",
    "# f.close()\n",
    "    \n",
    "with open('./zen.txt', encoding='utf-8') as fp:\n",
    "    for line_no, line in enumerate(fp, 1):\n",
    "        for match in WORD_RE.finditer(line):\n",
    "            word = match.group()\n",
    "            column_no = match.start() + 1\n",
    "            location = (line_no, column_no)\n",
    "            \n",
    "            # 1. 단어(word)에 대한 occurrences 리스트를 가져오거나, 단어가 없으면 빈 배열을 가져온다.\n",
    "            occurrences = index.get(word, [])\n",
    "            # 2. 새로 만든 location을 occurrences에 추가한다. \n",
    "            occurrences.append(location)\n",
    "            # 3. 변경된 occurrences를 index 딕셔너리에 넣는다. 그러면 index를 한 번 더 검색한다. \n",
    "            index[word] = occurrences\n",
    "\n",
    "            \n",
    "# 4. sorted() 함수의 key 인수 안에서 str.upper()를 호출하지 않고, 단지 str.upper() 함수에 대한 \n",
    "# 참조를 전달해서 sorted() 함수가 이 함수를 이용해서 정렬할 단어를 정규화하게 만든다.\n",
    "for word in sorted(index, key=str.upper):\n",
    "    print(word, index[word])\n",
    "    \n",
    "    \n",
    "# 이 예제에서 단어 발생(occurrences)을 처리하는 코드 세 줄은 dict.setdefault()를 사용하면 한 줄로 바꿀 수 있다. "
   ]
  },
  {
   "cell_type": "code",
   "execution_count": 73,
   "id": "93f8f8b1",
   "metadata": {
    "scrolled": true
   },
   "outputs": [
    {
     "name": "stdout",
     "output_type": "stream",
     "text": [
      "1 [(1, 16), (1, 25), (1, 34), (5, 16)]\n",
      "11 [(1, 12)]\n",
      "12 [(3, 11)]\n",
      "14 [(4, 10)]\n",
      "15 [(2, 7), (4, 6)]\n",
      "16 [(1, 21), (4, 16)]\n",
      "18 [(1, 30)]\n",
      "20 [(4, 26)]\n",
      "21 [(3, 7)]\n",
      "23 [(2, 11)]\n",
      "27 [(4, 20)]\n",
      "3 [(5, 13)]\n",
      "50 [(4, 30)]\n",
      "Although [(1, 1)]\n",
      "and [(2, 1)]\n",
      "are [(3, 1)]\n",
      "be [(4, 1)]\n",
      "Beautiful [(5, 1)]\n"
     ]
    }
   ],
   "source": [
    "import sys\n",
    "import re\n",
    "\n",
    "WORD_RE = re.compile(r'\\w+')\n",
    "index = {}\n",
    "\n",
    "\n",
    "with open('./zen.txt', encoding='utf-8') as fp:\n",
    "    for line_no, line in enumerate(fp, 1):\n",
    "        for match in WORD_RE.finditer(line):\n",
    "            word = match.group()\n",
    "            column_no = match.start() + 1\n",
    "            location = (line_no, column_no)\n",
    "            \n",
    "            # 1. 단어에 대한 occurrences 리스트를 가져오거나, 단어가 없을 때는 빈 배열을 가져온다. \n",
    "            # setdefault()가 값을 반환하므로 한 번 더 검색할 필요 없이 갱신할 수 있다. \n",
    "            index.setdefault(word, []).append(location)\n",
    "\n",
    "            \n",
    "# 알파벳순으로 출력한다. \n",
    "for word in sorted(index, key=str.upper):\n",
    "    print(word, index[word])"
   ]
  },
  {
   "cell_type": "markdown",
   "id": "38351604",
   "metadata": {},
   "source": [
    "---"
   ]
  },
  {
   "cell_type": "markdown",
   "id": "ff83bdb3",
   "metadata": {},
   "source": [
    "## 3.4 융통성 있게 키를 조회하는 매핑"
   ]
  },
  {
   "cell_type": "code",
   "execution_count": 2,
   "id": "c6502d34",
   "metadata": {},
   "outputs": [
    {
     "name": "stdout",
     "output_type": "stream",
     "text": [
      "1 [(1, 16), (1, 25), (1, 34), (5, 16)]\n",
      "11 [(1, 12)]\n",
      "12 [(3, 11)]\n",
      "14 [(4, 10)]\n",
      "15 [(2, 7), (4, 6)]\n",
      "16 [(1, 21), (4, 16)]\n",
      "18 [(1, 30)]\n",
      "20 [(4, 26)]\n",
      "21 [(3, 7)]\n",
      "23 [(2, 11)]\n",
      "27 [(4, 20)]\n",
      "3 [(5, 13)]\n",
      "50 [(4, 30)]\n",
      "Although [(1, 1)]\n",
      "and [(2, 1)]\n",
      "are [(3, 1)]\n",
      "be [(4, 1)]\n",
      "Beautiful [(5, 1)]\n"
     ]
    }
   ],
   "source": [
    "import collections\n",
    "import re\n",
    "import sys\n",
    "\n",
    "WORD_RE = re.compile(r'\\w+')\n",
    "\n",
    "index = collections.defaultdict(list)     \n",
    "with open(\"./zen.txt\", encoding='utf-8') as fp:\n",
    "    for line_no, line in enumerate(fp, 1):\n",
    "        for match in WORD_RE.finditer(line):\n",
    "            word = match.group()\n",
    "            column_no = match.start() + 1\n",
    "            location = (line_no, column_no)\n",
    "            index[word].append(location)  \n",
    "\n",
    "            \n",
    "# 알파벳 순으로 출력한다. \n",
    "for word in sorted(index, key=str.upper):\n",
    "    print(word, index[word])"
   ]
  },
  {
   "cell_type": "code",
   "execution_count": 4,
   "id": "77b7fd5d",
   "metadata": {},
   "outputs": [],
   "source": [
    "class StrKeyDict0(dict):  # StrKeyDict0이 dict를 상속한다. \n",
    "\n",
    "    def __missing__(self, key):\n",
    "        if isinstance(key, str):  # 키가 문자열인지 확인한다. \n",
    "            raise KeyError(key)\n",
    "        return self[str(key)]  # 키에서 문자열을 만들고 조회한다.\n",
    "\n",
    "    def get(self, key, default=None):\n",
    "        try:\n",
    "            return self[key]  # get()메서드는 self[key] 표기법을 이용해서\n",
    "                            # __getitem__() 메서드에 위임한다. \n",
    "        except KeyError:\n",
    "            return default  # KeyError가 발생하면 __missing__() 메서드가 이미 실패한 것으로 default를 반환한다.\n",
    "\n",
    "    def __contains__(self, key):\n",
    "        return key in self.keys() or str(key) in self.keys()  # 수정하지 않은 키를 검색하고 나서, 키에서 만든 문자열로 검색한다. "
   ]
  },
  {
   "cell_type": "markdown",
   "id": "405f8cdd",
   "metadata": {},
   "source": [
    "---"
   ]
  },
  {
   "cell_type": "markdown",
   "id": "505c3139",
   "metadata": {},
   "source": [
    "## 3.5 그 외 매핑형"
   ]
  },
  {
   "cell_type": "code",
   "execution_count": 5,
   "id": "d238d129",
   "metadata": {},
   "outputs": [
    {
     "data": {
      "text/plain": [
       "Counter({'a': 5, 'b': 2, 'r': 2, 'c': 1, 'd': 1})"
      ]
     },
     "execution_count": 5,
     "metadata": {},
     "output_type": "execute_result"
    }
   ],
   "source": [
    "ct = collections.Counter('abracadabra')\n",
    "ct"
   ]
  },
  {
   "cell_type": "code",
   "execution_count": 6,
   "id": "ce7e40a4",
   "metadata": {},
   "outputs": [
    {
     "data": {
      "text/plain": [
       "Counter({'a': 10, 'b': 2, 'r': 2, 'c': 1, 'd': 1, 'z': 3})"
      ]
     },
     "execution_count": 6,
     "metadata": {},
     "output_type": "execute_result"
    }
   ],
   "source": [
    "ct.update('aaaaazzz')\n",
    "ct"
   ]
  },
  {
   "cell_type": "code",
   "execution_count": 7,
   "id": "113ffa00",
   "metadata": {},
   "outputs": [
    {
     "data": {
      "text/plain": [
       "[('a', 10), ('z', 3), ('b', 2)]"
      ]
     },
     "execution_count": 7,
     "metadata": {},
     "output_type": "execute_result"
    }
   ],
   "source": [
    "ct.most_common(3)"
   ]
  },
  {
   "cell_type": "markdown",
   "id": "2a0b5977",
   "metadata": {},
   "source": [
    "---"
   ]
  },
  {
   "cell_type": "markdown",
   "id": "d65daeeb",
   "metadata": {},
   "source": [
    "## 3.6 UserDict 상속하기"
   ]
  },
  {
   "cell_type": "code",
   "execution_count": null,
   "id": "de91e95b",
   "metadata": {},
   "outputs": [],
   "source": [
    "import collections\n",
    "\n",
    "\n",
    "class StrKeyDict(collections.UserDict):  # StrKeyDict는 UserDict를 상속한다.\n",
    "\n",
    "    def __missing__(self, key):  # __missing__() 메서드는 위 예제와 동일\n",
    "        if isinstance(key, str):\n",
    "            raise KeyError(key)\n",
    "        return self[str(key)]\n",
    "\n",
    "    def __contains__(self, key):\n",
    "        return str(key) in self.data  # __containes__() 메서드는 더 간단하다.\n",
    "    # 저장된 키가 모두 str 형이므로 StrKeyDict0에서 self.keys()를 호출하는 방법과 달리\n",
    "    # self.data 에서 바로 조회할 수 있다.\n",
    "\n",
    "    def __setitem__(self, key, item):\n",
    "        self.data[str(key)] = item   \n",
    "    # __setitem__() 메서드는 모든 키를 str 형으로 변환하므로, 연산을 self.data에 위임할 때\n",
    "    # 더 간단히 작성할 수 있다. "
   ]
  },
  {
   "cell_type": "markdown",
   "id": "5f04e68b",
   "metadata": {},
   "source": [
    "---"
   ]
  },
  {
   "cell_type": "markdown",
   "id": "d616e220",
   "metadata": {},
   "source": [
    "## 3.7 불변 매핑"
   ]
  },
  {
   "cell_type": "code",
   "execution_count": 8,
   "id": "42c40893",
   "metadata": {},
   "outputs": [
    {
     "data": {
      "text/plain": [
       "mappingproxy({1: 'A'})"
      ]
     },
     "execution_count": 8,
     "metadata": {},
     "output_type": "execute_result"
    }
   ],
   "source": [
    "from types import MappingProxyType\n",
    "\n",
    "d = {1: 'A'}\n",
    "\n",
    "d_proxy = MappingProxyType(d)\n",
    "d_proxy"
   ]
  },
  {
   "cell_type": "code",
   "execution_count": 9,
   "id": "fc3f308a",
   "metadata": {},
   "outputs": [
    {
     "data": {
      "text/plain": [
       "'A'"
      ]
     },
     "execution_count": 9,
     "metadata": {},
     "output_type": "execute_result"
    }
   ],
   "source": [
    "d_proxy[1]"
   ]
  },
  {
   "cell_type": "code",
   "execution_count": 10,
   "id": "f5307362",
   "metadata": {},
   "outputs": [
    {
     "ename": "KeyError",
     "evalue": "2",
     "output_type": "error",
     "traceback": [
      "\u001b[0;31m---------------------------------------------------------------------------\u001b[0m",
      "\u001b[0;31mKeyError\u001b[0m                                  Traceback (most recent call last)",
      "Input \u001b[0;32mIn [10]\u001b[0m, in \u001b[0;36m<cell line: 1>\u001b[0;34m()\u001b[0m\n\u001b[0;32m----> 1\u001b[0m \u001b[43md_proxy\u001b[49m\u001b[43m[\u001b[49m\u001b[38;5;241;43m2\u001b[39;49m\u001b[43m]\u001b[49m\n",
      "\u001b[0;31mKeyError\u001b[0m: 2"
     ]
    }
   ],
   "source": [
    "d_proxy[2]"
   ]
  },
  {
   "cell_type": "code",
   "execution_count": 11,
   "id": "4358f405",
   "metadata": {},
   "outputs": [
    {
     "data": {
      "text/plain": [
       "mappingproxy({1: 'A', 2: 'B'})"
      ]
     },
     "execution_count": 11,
     "metadata": {},
     "output_type": "execute_result"
    }
   ],
   "source": [
    "d[2] = \"B\"\n",
    "d_proxy"
   ]
  },
  {
   "cell_type": "code",
   "execution_count": 12,
   "id": "89678e5d",
   "metadata": {
    "scrolled": true
   },
   "outputs": [
    {
     "data": {
      "text/plain": [
       "'B'"
      ]
     },
     "execution_count": 12,
     "metadata": {},
     "output_type": "execute_result"
    }
   ],
   "source": [
    "d_proxy[2]"
   ]
  },
  {
   "cell_type": "markdown",
   "id": "cfa5ecdc",
   "metadata": {},
   "source": [
    "---"
   ]
  },
  {
   "cell_type": "markdown",
   "id": "20028683",
   "metadata": {},
   "source": [
    "## 3.8 집합 이론"
   ]
  },
  {
   "cell_type": "code",
   "execution_count": 14,
   "id": "ce85ba4e",
   "metadata": {},
   "outputs": [
    {
     "data": {
      "text/plain": [
       "{'eggs', 'spam'}"
      ]
     },
     "execution_count": 14,
     "metadata": {},
     "output_type": "execute_result"
    }
   ],
   "source": [
    "l = ['spam', 'spam', 'eggs', 'spam']\n",
    "set(l)"
   ]
  },
  {
   "cell_type": "code",
   "execution_count": 15,
   "id": "988aac4f",
   "metadata": {},
   "outputs": [
    {
     "data": {
      "text/plain": [
       "['eggs', 'spam']"
      ]
     },
     "execution_count": 15,
     "metadata": {},
     "output_type": "execute_result"
    }
   ],
   "source": [
    "list(set(l))"
   ]
  },
  {
   "cell_type": "markdown",
   "id": "4f7106d8",
   "metadata": {},
   "source": [
    "---"
   ]
  },
  {
   "cell_type": "code",
   "execution_count": 16,
   "id": "c7144b59",
   "metadata": {},
   "outputs": [
    {
     "data": {
      "text/plain": [
       "set"
      ]
     },
     "execution_count": 16,
     "metadata": {},
     "output_type": "execute_result"
    }
   ],
   "source": [
    "s = {1}\n",
    "type(s)"
   ]
  },
  {
   "cell_type": "code",
   "execution_count": 17,
   "id": "c4a324eb",
   "metadata": {},
   "outputs": [
    {
     "data": {
      "text/plain": [
       "1"
      ]
     },
     "execution_count": 17,
     "metadata": {},
     "output_type": "execute_result"
    }
   ],
   "source": [
    "s.pop()"
   ]
  },
  {
   "cell_type": "code",
   "execution_count": 18,
   "id": "87f3930b",
   "metadata": {},
   "outputs": [
    {
     "data": {
      "text/plain": [
       "set()"
      ]
     },
     "execution_count": 18,
     "metadata": {},
     "output_type": "execute_result"
    }
   ],
   "source": [
    "s"
   ]
  },
  {
   "cell_type": "markdown",
   "id": "d3fbf368",
   "metadata": {},
   "source": [
    "---"
   ]
  },
  {
   "cell_type": "code",
   "execution_count": 19,
   "id": "d84e1b1e",
   "metadata": {},
   "outputs": [
    {
     "name": "stdout",
     "output_type": "stream",
     "text": [
      "  1           0 LOAD_CONST               0 (1)\n",
      "              2 BUILD_SET                1\n",
      "              4 RETURN_VALUE\n"
     ]
    }
   ],
   "source": [
    "from dis import dis\n",
    "dis('{1}')"
   ]
  },
  {
   "cell_type": "code",
   "execution_count": 20,
   "id": "a4a94a3f",
   "metadata": {},
   "outputs": [
    {
     "name": "stdout",
     "output_type": "stream",
     "text": [
      "  1           0 LOAD_NAME                0 (set)\n",
      "              2 LOAD_CONST               0 (1)\n",
      "              4 BUILD_LIST               1\n",
      "              6 CALL_FUNCTION            1\n",
      "              8 RETURN_VALUE\n"
     ]
    }
   ],
   "source": [
    "dis('set([1])')"
   ]
  },
  {
   "cell_type": "markdown",
   "id": "0442363f",
   "metadata": {},
   "source": [
    "---"
   ]
  },
  {
   "cell_type": "code",
   "execution_count": 21,
   "id": "efe7ce0a",
   "metadata": {},
   "outputs": [
    {
     "data": {
      "text/plain": [
       "frozenset({0, 1, 2, 3, 4, 5, 6, 7, 8, 9})"
      ]
     },
     "execution_count": 21,
     "metadata": {},
     "output_type": "execute_result"
    }
   ],
   "source": [
    "frozenset(range(10))"
   ]
  },
  {
   "cell_type": "markdown",
   "id": "ec8132ee",
   "metadata": {},
   "source": [
    "---"
   ]
  },
  {
   "cell_type": "code",
   "execution_count": 22,
   "id": "f2d16182",
   "metadata": {},
   "outputs": [
    {
     "data": {
      "text/plain": [
       "{'#',\n",
       " '$',\n",
       " '%',\n",
       " '+',\n",
       " '<',\n",
       " '=',\n",
       " '>',\n",
       " '¢',\n",
       " '£',\n",
       " '¤',\n",
       " '¥',\n",
       " '§',\n",
       " '©',\n",
       " '¬',\n",
       " '®',\n",
       " '°',\n",
       " '±',\n",
       " 'µ',\n",
       " '¶',\n",
       " '×',\n",
       " '÷'}"
      ]
     },
     "execution_count": 22,
     "metadata": {},
     "output_type": "execute_result"
    }
   ],
   "source": [
    "from unicodedata import name\n",
    "{chr(i) for i in range(32, 256) if 'SIGN' in name(chr(i), '')}"
   ]
  },
  {
   "cell_type": "markdown",
   "id": "7a503018",
   "metadata": {},
   "source": [
    "---"
   ]
  },
  {
   "cell_type": "markdown",
   "id": "9f8cbc32",
   "metadata": {},
   "source": [
    "## 3.9 dict와 set의 내부 구조"
   ]
  },
  {
   "cell_type": "code",
   "execution_count": 23,
   "id": "0bf88567",
   "metadata": {},
   "outputs": [
    {
     "name": "stdout",
     "output_type": "stream",
     "text": [
      "d1: dict_keys([86, 91, 1, 62, 55, 92, 880, 234, 7, 81])\n",
      "d2: dict_keys([1, 7, 55, 62, 81, 86, 91, 92, 234, 880])\n",
      "d3: dict_keys([880, 55, 86, 91, 62, 81, 234, 92, 7, 1])\n"
     ]
    }
   ],
   "source": [
    "DIAL_CODES = [\n",
    "        (86, 'China'),\n",
    "        (91, 'India'),\n",
    "        (1, 'United States'),\n",
    "        (62, 'Indonesia'),\n",
    "        (55, 'Brazil'),\n",
    "        (92, 'Pakistan'),\n",
    "        (880, 'Bangladesh'),\n",
    "        (234, 'Nigeria'),\n",
    "        (7, 'Russia'),\n",
    "        (81, 'Japan'),\n",
    "    ]\n",
    "\n",
    "# 인구가 많은 순서대로 정렬된 튜플로 생성\n",
    "d1 = dict(DIAL_CODES)  \n",
    "print('d1:', d1.keys())\n",
    "\n",
    "# 국제전화 코드로 정렬된 튜플로 생성\n",
    "d2 = dict(sorted(DIAL_CODES)) \n",
    "print('d2:', d2.keys())\n",
    "\n",
    "# 국가명으로 정렬된 튜플로 생성\n",
    "d3 = dict(sorted(DIAL_CODES, key=lambda x: x[1]))\n",
    "print('d3:', d3.keys())\n",
    "\n",
    "# 딕셔너리가 모두 동일한 키-값 쌍을 갖고 있기 때문에 동일하다고 판단된다. \n",
    "assert d1 == d2 and d2 == d3  # <4>"
   ]
  },
  {
   "cell_type": "code",
   "execution_count": null,
   "id": "25804127",
   "metadata": {},
   "outputs": [],
   "source": []
  }
 ],
 "metadata": {
  "kernelspec": {
   "display_name": "Python 3.9.6 64-bit",
   "language": "python",
   "name": "python3"
  },
  "language_info": {
   "codemirror_mode": {
    "name": "ipython",
    "version": 3
   },
   "file_extension": ".py",
   "mimetype": "text/x-python",
   "name": "python",
   "nbconvert_exporter": "python",
   "pygments_lexer": "ipython3",
   "version": "3.9.6"
  },
  "toc": {
   "base_numbering": 1,
   "nav_menu": {},
   "number_sections": false,
   "sideBar": true,
   "skip_h1_title": false,
   "title_cell": "Table of Contents",
   "title_sidebar": "Contents",
   "toc_cell": false,
   "toc_position": {},
   "toc_section_display": true,
   "toc_window_display": false
  },
  "vscode": {
   "interpreter": {
    "hash": "31f2aee4e71d21fbe5cf8b01ff0e069b9275f58929596ceb00d14d90e3e16cd6"
   }
  }
 },
 "nbformat": 4,
 "nbformat_minor": 5
}
