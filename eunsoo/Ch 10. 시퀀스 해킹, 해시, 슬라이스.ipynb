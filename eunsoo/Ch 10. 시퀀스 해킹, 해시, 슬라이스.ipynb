{
 "cells": [
  {
   "cell_type": "markdown",
   "id": "b4464b3c",
   "metadata": {},
   "source": [
    "## 10.2 Vercor 버전 #1 : Vector2d 호환"
   ]
  },
  {
   "cell_type": "code",
   "execution_count": 40,
   "id": "7bb65587",
   "metadata": {
    "ExecuteTime": {
     "end_time": "2022-11-20T08:17:26.623576Z",
     "start_time": "2022-11-20T08:17:26.597513Z"
    }
   },
   "outputs": [],
   "source": [
    "from array import array\n",
    "import reprlib\n",
    "import math\n",
    "\n",
    "\n",
    "class Vector:\n",
    "    typecode = 'd'\n",
    "\n",
    "    def __init__(self, components):\n",
    "        # 보호된 객체 속성인 _components는 벡터 요소를 배열로 저장한다. \n",
    "        self._components = array(self.typecode, components)  \n",
    "\n",
    "    def __iter__(self):\n",
    "        return iter(self._components)  # 반복자 반환\n",
    "\n",
    "    def __repr__(self):\n",
    "        components = reprlib.repr(self._components) \n",
    "        components = components[components.find('['):-1] \n",
    "        return f'Vector({components})'\n",
    "\n",
    "    def __str__(self):\n",
    "        return str(tuple(self))\n",
    "\n",
    "    def __bytes__(self):\n",
    "        return (bytes([ord(self.typecode)]) +\n",
    "                bytes(self._components))\n",
    "\n",
    "    def __eq__(self, other):\n",
    "        return (len(self) == len(other) and\n",
    "                all(a == b for a, b in zip(self, other)))\n",
    "\n",
    "    def __hash__(self):\n",
    "        hashes = (hash(x) for x in self)\n",
    "        return functools.reduce(operator.xor, hashes, 0)\n",
    "\n",
    "    def __abs__(self):\n",
    "        return math.hypot(*self)\n",
    "\n",
    "    def __bool__(self):\n",
    "        return bool(abs(self))\n",
    "\n",
    "    def __len__(self):\n",
    "        return len(self._components)\n",
    "\n",
    "    def __getitem__(self, key):\n",
    "        if isinstance(key, slice):\n",
    "            cls = type(self)\n",
    "            return cls(self._components[key])\n",
    "        index = operator.index(key)\n",
    "        return self._components[index]\n",
    "\n",
    "    __match_args__ = ('x', 'y', 'z', 't')\n",
    "\n",
    "    def __getattr__(self, name):\n",
    "        cls = type(self)\n",
    "        try:\n",
    "            pos = cls.__match_args__.index(name)\n",
    "        except ValueError:\n",
    "            pos = -1\n",
    "        if 0 <= pos < len(self._components):\n",
    "            return self._components[pos]\n",
    "        msg = f'{cls.__name__!r} object has no attribute {name!r}'\n",
    "        raise AttributeError(msg)\n",
    "\n",
    "    # 초구면좌표에 대한 공식을 이용하여 특정 좌표에 대한 각좌표 계산 함수\n",
    "    def angle(self, n):  \n",
    "        r = math.hypot(*self[n:])\n",
    "        a = math.atan2(r, self[n-1])\n",
    "        if (n == len(self) - 1) and (self[-1] < 0):\n",
    "            return math.pi * 2 - a\n",
    "        else:\n",
    "            return a\n",
    "\n",
    "    # 각좌표를 모두 계산하는 제너레이터 표현식을 생성\n",
    "    def angles(self):  \n",
    "        return (self.angle(n) for n in range(1, len(self)))\n",
    "\n",
    "    def __format__(self, fmt_spec=''):\n",
    "        # 극좌표 대신 구면좌표(초구면좌표)를 사용\n",
    "        if fmt_spec.endswith('h'):  \n",
    "            fmt_spec = fmt_spec[:-1]\n",
    "            coords = itertools.chain([abs(self)],\n",
    "                                     self.angles())  \n",
    "            # 구면좌표 \n",
    "            outer_fmt = '<{}>'  \n",
    "        else:\n",
    "            # 직교좌표\n",
    "            coords = self\n",
    "            outer_fmt = '({})'  \n",
    "        components = (format(c, fmt_spec) for c in coords)  \n",
    "        return outer_fmt.format(', '.join(components))\n",
    "\n",
    "    @classmethod\n",
    "    def frombytes(cls, octets):\n",
    "        typecode = chr(octets[0])\n",
    "        memv = memoryview(octets[1:]).cast(typecode)\n",
    "        return cls(memv)"
   ]
  },
  {
   "cell_type": "code",
   "execution_count": 2,
   "id": "60707184",
   "metadata": {
    "ExecuteTime": {
     "end_time": "2022-11-20T05:33:30.912551Z",
     "start_time": "2022-11-20T05:33:30.899269Z"
    }
   },
   "outputs": [
    {
     "data": {
      "text/plain": [
       "Vector([3.1, 4.2])"
      ]
     },
     "execution_count": 2,
     "metadata": {},
     "output_type": "execute_result"
    }
   ],
   "source": [
    "Vector([3.1, 4.2])"
   ]
  },
  {
   "cell_type": "code",
   "execution_count": 3,
   "id": "1bd62016",
   "metadata": {
    "ExecuteTime": {
     "end_time": "2022-11-20T05:33:35.416117Z",
     "start_time": "2022-11-20T05:33:35.411218Z"
    }
   },
   "outputs": [
    {
     "data": {
      "text/plain": [
       "Vector([3.0, 4.0, 5.0])"
      ]
     },
     "execution_count": 3,
     "metadata": {},
     "output_type": "execute_result"
    }
   ],
   "source": [
    "Vector([3, 4, 5])"
   ]
  },
  {
   "cell_type": "code",
   "execution_count": 4,
   "id": "06f1f056",
   "metadata": {
    "ExecuteTime": {
     "end_time": "2022-11-20T05:33:42.920716Z",
     "start_time": "2022-11-20T05:33:42.914366Z"
    }
   },
   "outputs": [
    {
     "data": {
      "text/plain": [
       "Vector([0.0, 1.0, 2.0, 3.0, 4.0, ...])"
      ]
     },
     "execution_count": 4,
     "metadata": {},
     "output_type": "execute_result"
    }
   ],
   "source": [
    "Vector(range(10))"
   ]
  },
  {
   "cell_type": "markdown",
   "id": "9a765eaa",
   "metadata": {},
   "source": [
    "## 10.3 프로토콜과 덕 타이핑"
   ]
  },
  {
   "cell_type": "code",
   "execution_count": 5,
   "id": "5aec2a42",
   "metadata": {
    "ExecuteTime": {
     "end_time": "2022-11-20T05:49:14.659890Z",
     "start_time": "2022-11-20T05:49:14.653826Z"
    }
   },
   "outputs": [],
   "source": [
    "import collections\n",
    "\n",
    "Card = collections.namedtuple('Card', ['rank', 'suit'])\n",
    "\n",
    "class FrenchDeck:\n",
    "    ranks = [str(n) for n in range(2, 11)] + list('JQKA')\n",
    "    suits = 'spades diamonds clubs hearts'.split()\n",
    "\n",
    "    def __init__(self):\n",
    "        self._cards = [Card(rank, suit) for suit in self.suits\n",
    "                                        for rank in self.ranks]\n",
    "\n",
    "    def __len__(self):\n",
    "        return len(self._cards)\n",
    "\n",
    "    def __getitem__(self, position):\n",
    "        return self._cards[position]"
   ]
  },
  {
   "cell_type": "markdown",
   "id": "ba6cce7b",
   "metadata": {},
   "source": [
    "## 10.4 Vector 버전 #2 : 슬라이스 가능한 시퀀스"
   ]
  },
  {
   "cell_type": "code",
   "execution_count": 7,
   "id": "b312cf27",
   "metadata": {
    "ExecuteTime": {
     "end_time": "2022-11-20T06:17:51.732562Z",
     "start_time": "2022-11-20T06:17:51.727398Z"
    }
   },
   "outputs": [
    {
     "data": {
      "text/plain": [
       "3"
      ]
     },
     "execution_count": 7,
     "metadata": {},
     "output_type": "execute_result"
    }
   ],
   "source": [
    "v1 = Vector([3, 4, 5])\n",
    "len(v1)"
   ]
  },
  {
   "cell_type": "code",
   "execution_count": 8,
   "id": "cbd5b150",
   "metadata": {
    "ExecuteTime": {
     "end_time": "2022-11-20T06:17:57.875450Z",
     "start_time": "2022-11-20T06:17:57.869478Z"
    }
   },
   "outputs": [
    {
     "data": {
      "text/plain": [
       "(3.0, 5.0)"
      ]
     },
     "execution_count": 8,
     "metadata": {},
     "output_type": "execute_result"
    }
   ],
   "source": [
    "v1[0], v1[-1]"
   ]
  },
  {
   "cell_type": "code",
   "execution_count": 9,
   "id": "6db8c41c",
   "metadata": {
    "ExecuteTime": {
     "end_time": "2022-11-20T06:18:09.700183Z",
     "start_time": "2022-11-20T06:18:09.694137Z"
    }
   },
   "outputs": [
    {
     "data": {
      "text/plain": [
       "array('d', [1.0, 2.0, 3.0])"
      ]
     },
     "execution_count": 9,
     "metadata": {},
     "output_type": "execute_result"
    }
   ],
   "source": [
    "v7 = Vector(range(7))\n",
    "v7[1:4]"
   ]
  },
  {
   "cell_type": "markdown",
   "id": "100d0359",
   "metadata": {},
   "source": [
    "### 10.4.1 슬라이싱의 작동 방식"
   ]
  },
  {
   "cell_type": "code",
   "execution_count": 10,
   "id": "f578ef8a",
   "metadata": {
    "ExecuteTime": {
     "end_time": "2022-11-20T06:20:58.065188Z",
     "start_time": "2022-11-20T06:20:58.061820Z"
    }
   },
   "outputs": [],
   "source": [
    "class MySeq:\n",
    "    def __getitem__(self, index):\n",
    "        return index"
   ]
  },
  {
   "cell_type": "code",
   "execution_count": 12,
   "id": "506639d0",
   "metadata": {
    "ExecuteTime": {
     "end_time": "2022-11-20T06:21:08.383978Z",
     "start_time": "2022-11-20T06:21:08.379306Z"
    }
   },
   "outputs": [
    {
     "data": {
      "text/plain": [
       "1"
      ]
     },
     "execution_count": 12,
     "metadata": {},
     "output_type": "execute_result"
    }
   ],
   "source": [
    "s = MySeq()\n",
    "s[1]"
   ]
  },
  {
   "cell_type": "code",
   "execution_count": 14,
   "id": "a82a685b",
   "metadata": {
    "ExecuteTime": {
     "end_time": "2022-11-20T06:21:34.800373Z",
     "start_time": "2022-11-20T06:21:34.793918Z"
    },
    "scrolled": true
   },
   "outputs": [
    {
     "name": "stdout",
     "output_type": "stream",
     "text": [
      "slice(1, 4, None)\n",
      "slice(1, 4, 2)\n",
      "(slice(1, 4, 2), 9)\n",
      "(slice(1, 4, 2), slice(7, 9, None))\n"
     ]
    }
   ],
   "source": [
    "print(s[1:4])\n",
    "print(s[1:4:2])\n",
    "print(s[1:4:2, 9])\n",
    "print(s[1:4:2, 7:9])"
   ]
  },
  {
   "cell_type": "code",
   "execution_count": 15,
   "id": "0adbbf04",
   "metadata": {
    "ExecuteTime": {
     "end_time": "2022-11-20T06:23:38.897278Z",
     "start_time": "2022-11-20T06:23:38.893055Z"
    }
   },
   "outputs": [
    {
     "data": {
      "text/plain": [
       "slice"
      ]
     },
     "execution_count": 15,
     "metadata": {},
     "output_type": "execute_result"
    }
   ],
   "source": [
    "slice"
   ]
  },
  {
   "cell_type": "code",
   "execution_count": 16,
   "id": "a4889a20",
   "metadata": {
    "ExecuteTime": {
     "end_time": "2022-11-20T06:23:42.723786Z",
     "start_time": "2022-11-20T06:23:42.718414Z"
    }
   },
   "outputs": [
    {
     "data": {
      "text/plain": [
       "['__class__',\n",
       " '__delattr__',\n",
       " '__dir__',\n",
       " '__doc__',\n",
       " '__eq__',\n",
       " '__format__',\n",
       " '__ge__',\n",
       " '__getattribute__',\n",
       " '__gt__',\n",
       " '__hash__',\n",
       " '__init__',\n",
       " '__init_subclass__',\n",
       " '__le__',\n",
       " '__lt__',\n",
       " '__ne__',\n",
       " '__new__',\n",
       " '__reduce__',\n",
       " '__reduce_ex__',\n",
       " '__repr__',\n",
       " '__setattr__',\n",
       " '__sizeof__',\n",
       " '__str__',\n",
       " '__subclasshook__',\n",
       " 'indices',\n",
       " 'start',\n",
       " 'step',\n",
       " 'stop']"
      ]
     },
     "execution_count": 16,
     "metadata": {},
     "output_type": "execute_result"
    }
   ],
   "source": [
    "dir(slice)"
   ]
  },
  {
   "cell_type": "code",
   "execution_count": 17,
   "id": "5e9c0f6a",
   "metadata": {
    "ExecuteTime": {
     "end_time": "2022-11-20T06:26:53.154865Z",
     "start_time": "2022-11-20T06:26:53.146318Z"
    }
   },
   "outputs": [
    {
     "data": {
      "text/plain": [
       "(0, 5, 2)"
      ]
     },
     "execution_count": 17,
     "metadata": {},
     "output_type": "execute_result"
    }
   ],
   "source": [
    "slice(None, 10, 2).indices(5) # [0:5:2]와 동일하다"
   ]
  },
  {
   "cell_type": "code",
   "execution_count": 18,
   "id": "a27f66b7",
   "metadata": {
    "ExecuteTime": {
     "end_time": "2022-11-20T06:27:01.332612Z",
     "start_time": "2022-11-20T06:27:01.325844Z"
    }
   },
   "outputs": [
    {
     "data": {
      "text/plain": [
       "(2, 5, 1)"
      ]
     },
     "execution_count": 18,
     "metadata": {},
     "output_type": "execute_result"
    }
   ],
   "source": [
    "slice(-3, None, None).indices(5) # [2:5:1]과 동일하다. "
   ]
  },
  {
   "cell_type": "markdown",
   "id": "e54bb519",
   "metadata": {},
   "source": [
    "### 10.4.2 슬라이스를 인식하는 __getitem__()"
   ]
  },
  {
   "cell_type": "code",
   "execution_count": 20,
   "id": "d86294a3",
   "metadata": {
    "ExecuteTime": {
     "end_time": "2022-11-20T07:45:24.615801Z",
     "start_time": "2022-11-20T07:45:24.610372Z"
    }
   },
   "outputs": [],
   "source": [
    "def __len__(self):\n",
    "    return len(self._components)\n",
    "\n",
    "def __getitem__(self, index):\n",
    "    cls = type(self)\n",
    "    if isinstance(index, slice):\n",
    "        return cls(self._components[index])\n",
    "    elif isinstance(index, numbers.Integral):\n",
    "        return self._components[index]\n",
    "    else:\n",
    "        msg = '{cls.__name__} indicies must be integers'\n",
    "        raise TypeError(msg.format(cls=cls))"
   ]
  },
  {
   "cell_type": "code",
   "execution_count": 23,
   "id": "35f11db4",
   "metadata": {
    "ExecuteTime": {
     "end_time": "2022-11-20T07:51:26.892291Z",
     "start_time": "2022-11-20T07:51:26.887141Z"
    }
   },
   "outputs": [
    {
     "data": {
      "text/plain": [
       "6.0"
      ]
     },
     "execution_count": 23,
     "metadata": {},
     "output_type": "execute_result"
    }
   ],
   "source": [
    "import numbers\n",
    "\n",
    "v7 = Vector(range(7))\n",
    "v7[-1]"
   ]
  },
  {
   "cell_type": "code",
   "execution_count": 24,
   "id": "d5969821",
   "metadata": {
    "ExecuteTime": {
     "end_time": "2022-11-20T07:51:33.326380Z",
     "start_time": "2022-11-20T07:51:33.321941Z"
    }
   },
   "outputs": [
    {
     "data": {
      "text/plain": [
       "Vector([1.0, 2.0, 3.0])"
      ]
     },
     "execution_count": 24,
     "metadata": {},
     "output_type": "execute_result"
    }
   ],
   "source": [
    "v7[1:4]"
   ]
  },
  {
   "cell_type": "code",
   "execution_count": 30,
   "id": "f4e7d6ff",
   "metadata": {
    "ExecuteTime": {
     "end_time": "2022-11-20T08:05:31.525821Z",
     "start_time": "2022-11-20T08:05:31.521466Z"
    }
   },
   "outputs": [
    {
     "data": {
      "text/plain": [
       "Vector([6.0])"
      ]
     },
     "execution_count": 30,
     "metadata": {},
     "output_type": "execute_result"
    }
   ],
   "source": [
    "v7[-1:]"
   ]
  },
  {
   "cell_type": "markdown",
   "id": "3c53327a",
   "metadata": {},
   "source": [
    "## 10.5 Vector 버전 #3: 동적 속성 접근"
   ]
  },
  {
   "cell_type": "code",
   "execution_count": 29,
   "id": "78af8be5",
   "metadata": {
    "ExecuteTime": {
     "end_time": "2022-11-20T08:05:27.171676Z",
     "start_time": "2022-11-20T08:05:27.167055Z"
    }
   },
   "outputs": [],
   "source": [
    "shorcut_names = 'xyzt'\n",
    "\n",
    "def __getattr__(self, name):\n",
    "    cls = type(self)\n",
    "    if len(name) == 1:\n",
    "        pos = cls.shorcut_names.find(name)\n",
    "    if 0 <= pos < len(self._components):\n",
    "        return self._components[pos]\n",
    "    msg = f'{cls.__name__!r} object has no attribute {name!r}'\n",
    "    raise AttributeError(msg)"
   ]
  },
  {
   "cell_type": "code",
   "execution_count": 33,
   "id": "227fe47d",
   "metadata": {
    "ExecuteTime": {
     "end_time": "2022-11-20T08:07:16.842376Z",
     "start_time": "2022-11-20T08:07:16.837287Z"
    }
   },
   "outputs": [],
   "source": [
    "def __setattr__(self, name, value):\n",
    "    cls = type(self)\n",
    "    if len(name) == 1:\n",
    "        if name in cls.__match_args__:  \n",
    "            error = 'readonly attribute {attr_name!r}'\n",
    "        elif name.islower(): \n",
    "            error = \"can't set attributes 'a' to 'z' in {cls_name!r}\"\n",
    "        else:\n",
    "            error = ''  \n",
    "        if error:  \n",
    "            msg = error.format(cls_name=cls.__name__, attr_name=name)\n",
    "            raise AttributeError(msg)\n",
    "    super().__setattr__(name, value)  "
   ]
  },
  {
   "cell_type": "markdown",
   "id": "e0e21787",
   "metadata": {},
   "source": [
    "## 10.6 Vector 버전 #4: 해싱 및 더 빠른 =="
   ]
  },
  {
   "cell_type": "code",
   "execution_count": 34,
   "id": "9508ebc4",
   "metadata": {
    "ExecuteTime": {
     "end_time": "2022-11-20T08:09:00.790291Z",
     "start_time": "2022-11-20T08:09:00.783184Z"
    }
   },
   "outputs": [
    {
     "data": {
      "text/plain": [
       "1"
      ]
     },
     "execution_count": 34,
     "metadata": {},
     "output_type": "execute_result"
    }
   ],
   "source": [
    "n = 0\n",
    "for i in range(6):\n",
    "    n ^= i\n",
    "n"
   ]
  },
  {
   "cell_type": "code",
   "execution_count": 35,
   "id": "9f82515c",
   "metadata": {
    "ExecuteTime": {
     "end_time": "2022-11-20T08:09:23.334610Z",
     "start_time": "2022-11-20T08:09:23.328738Z"
    }
   },
   "outputs": [
    {
     "data": {
      "text/plain": [
       "1"
      ]
     },
     "execution_count": 35,
     "metadata": {},
     "output_type": "execute_result"
    }
   ],
   "source": [
    "import functools\n",
    "functools.reduce(lambda a, b: a^b, range(6))"
   ]
  },
  {
   "cell_type": "code",
   "execution_count": 36,
   "id": "1ecf3b72",
   "metadata": {
    "ExecuteTime": {
     "end_time": "2022-11-20T08:09:38.004331Z",
     "start_time": "2022-11-20T08:09:37.998731Z"
    }
   },
   "outputs": [
    {
     "data": {
      "text/plain": [
       "1"
      ]
     },
     "execution_count": 36,
     "metadata": {},
     "output_type": "execute_result"
    }
   ],
   "source": [
    "import operator\n",
    "functools.reduce(operator.xor, range(6))"
   ]
  },
  {
   "cell_type": "code",
   "execution_count": 37,
   "id": "94594df5",
   "metadata": {
    "ExecuteTime": {
     "end_time": "2022-11-20T08:12:40.431520Z",
     "start_time": "2022-11-20T08:12:40.426799Z"
    }
   },
   "outputs": [],
   "source": [
    "def __hash__(self):\n",
    "    hashes = map(hash, self._components)\n",
    "    return functools.reduce(operator.xor, hashes)"
   ]
  },
  {
   "cell_type": "code",
   "execution_count": 38,
   "id": "00c2c1cc",
   "metadata": {
    "ExecuteTime": {
     "end_time": "2022-11-20T08:15:19.652876Z",
     "start_time": "2022-11-20T08:15:19.647004Z"
    }
   },
   "outputs": [
    {
     "data": {
      "text/plain": [
       "[(0, 'A', 0.0), (1, 'B', 1.1), (2, 'C', 2.2)]"
      ]
     },
     "execution_count": 38,
     "metadata": {},
     "output_type": "execute_result"
    }
   ],
   "source": [
    "list(zip(range(3), 'ABC', [0.0, 1.1, 2.2, 3.3]))"
   ]
  },
  {
   "cell_type": "code",
   "execution_count": 39,
   "id": "4e8c371a",
   "metadata": {
    "ExecuteTime": {
     "end_time": "2022-11-20T08:16:11.710279Z",
     "start_time": "2022-11-20T08:16:11.702800Z"
    }
   },
   "outputs": [
    {
     "data": {
      "text/plain": [
       "[(0, 'A', 0.0), (1, 'B', 1.1), (2, 'C', 2.2), (-1, -1, 3.3)]"
      ]
     },
     "execution_count": 39,
     "metadata": {},
     "output_type": "execute_result"
    }
   ],
   "source": [
    "from itertools import zip_longest\n",
    "list(zip_longest(range(3), 'ABC', [0.0, 1.1, 2.2, 3.3], fillvalue=-1))"
   ]
  },
  {
   "cell_type": "markdown",
   "id": "4dc4597e",
   "metadata": {},
   "source": [
    "## 10.7 Vector 버전 #5: 포매팅"
   ]
  },
  {
   "cell_type": "markdown",
   "id": "50df699c",
   "metadata": {},
   "source": [
    "- 실수형 포맷 코드 : eEfFgGn%\n",
    "- 정수형 포맷 코드 : bcdoxXn\n",
    "- 문자열 : s\n",
    "- 극좌표 : p\n",
    "- 초평면좌표 : h"
   ]
  },
  {
   "cell_type": "code",
   "execution_count": 44,
   "id": "6e4690c2",
   "metadata": {
    "ExecuteTime": {
     "end_time": "2022-11-20T08:17:42.271845Z",
     "start_time": "2022-11-20T08:17:42.267802Z"
    }
   },
   "outputs": [],
   "source": [
    "import itertools"
   ]
  },
  {
   "cell_type": "code",
   "execution_count": 45,
   "id": "f8de2eb6",
   "metadata": {
    "ExecuteTime": {
     "end_time": "2022-11-20T08:17:42.819751Z",
     "start_time": "2022-11-20T08:17:42.814631Z"
    },
    "scrolled": true
   },
   "outputs": [
    {
     "data": {
      "text/plain": [
       "'<2.0, 2.0943951023931957, 2.186276035465284, 3.9269908169872414>'"
      ]
     },
     "execution_count": 45,
     "metadata": {},
     "output_type": "execute_result"
    }
   ],
   "source": [
    "format(Vector([-1, -1, -1, -1]), 'h')"
   ]
  },
  {
   "cell_type": "code",
   "execution_count": 46,
   "id": "81eb5c84",
   "metadata": {
    "ExecuteTime": {
     "end_time": "2022-11-20T08:17:43.687537Z",
     "start_time": "2022-11-20T08:17:43.682567Z"
    }
   },
   "outputs": [
    {
     "data": {
      "text/plain": [
       "'<2.128e+01, 1.477e+00, 1.476e+00, 1.476e+00>'"
      ]
     },
     "execution_count": 46,
     "metadata": {},
     "output_type": "execute_result"
    }
   ],
   "source": [
    "format(Vector([2, 2, 2, 21]), '.3eh')"
   ]
  },
  {
   "cell_type": "code",
   "execution_count": 47,
   "id": "7a17ba4d",
   "metadata": {
    "ExecuteTime": {
     "end_time": "2022-11-20T08:17:43.927957Z",
     "start_time": "2022-11-20T08:17:43.919014Z"
    }
   },
   "outputs": [
    {
     "data": {
      "text/plain": [
       "'<1.00000, 1.57080, 0.00000, 0.00000>'"
      ]
     },
     "execution_count": 47,
     "metadata": {},
     "output_type": "execute_result"
    }
   ],
   "source": [
    "format(Vector([0, 1, 0, 0]), '0.5fh')"
   ]
  },
  {
   "cell_type": "markdown",
   "id": "e23d5d27",
   "metadata": {},
   "source": [
    "---"
   ]
  },
  {
   "cell_type": "code",
   "execution_count": 48,
   "id": "2ba24e68",
   "metadata": {
    "ExecuteTime": {
     "end_time": "2022-11-20T08:17:44.276773Z",
     "start_time": "2022-11-20T08:17:44.270658Z"
    }
   },
   "outputs": [
    {
     "name": "stdout",
     "output_type": "stream",
     "text": [
      "(3.1, 4.2)\n",
      "(0.0, 1.0, 2.0, 3.0, 4.0, 5.0, 6.0, 7.0, 8.0, 9.0)\n"
     ]
    }
   ],
   "source": [
    "# 1차원\n",
    "print(Vector([3.1, 4.2]))\n",
    "print(Vector(range(10)))"
   ]
  },
  {
   "cell_type": "code",
   "execution_count": 49,
   "id": "7c533486",
   "metadata": {
    "ExecuteTime": {
     "end_time": "2022-11-20T08:17:44.477946Z",
     "start_time": "2022-11-20T08:17:44.470489Z"
    }
   },
   "outputs": [
    {
     "data": {
      "text/plain": [
       "(Vector([3.0, 4.0, 5.0]), True)"
      ]
     },
     "execution_count": 49,
     "metadata": {},
     "output_type": "execute_result"
    }
   ],
   "source": [
    "# frombytes\n",
    "v1_clone = Vector.frombytes(bytes(v1))\n",
    "v1_clone, v1 == v1_clone"
   ]
  },
  {
   "cell_type": "code",
   "execution_count": 50,
   "id": "5e77008a",
   "metadata": {
    "ExecuteTime": {
     "end_time": "2022-11-20T08:17:44.644144Z",
     "start_time": "2022-11-20T08:17:44.635926Z"
    }
   },
   "outputs": [
    {
     "data": {
      "text/plain": [
       "9.539392014169456"
      ]
     },
     "execution_count": 50,
     "metadata": {},
     "output_type": "execute_result"
    }
   ],
   "source": [
    "# 다차원\n",
    "v7 = Vector(range(7))\n",
    "abs(v7)"
   ]
  },
  {
   "cell_type": "code",
   "execution_count": 51,
   "id": "835bd9db",
   "metadata": {
    "ExecuteTime": {
     "end_time": "2022-11-20T08:17:44.812709Z",
     "start_time": "2022-11-20T08:17:44.804238Z"
    }
   },
   "outputs": [
    {
     "data": {
      "text/plain": [
       "3"
      ]
     },
     "execution_count": 51,
     "metadata": {},
     "output_type": "execute_result"
    }
   ],
   "source": [
    "# 시퀀스\n",
    "v1 = Vector([3, 4, 5])\n",
    "len(v1)"
   ]
  },
  {
   "cell_type": "code",
   "execution_count": 52,
   "id": "406362ed",
   "metadata": {
    "ExecuteTime": {
     "end_time": "2022-11-20T08:17:45.005983Z",
     "start_time": "2022-11-20T08:17:44.997359Z"
    }
   },
   "outputs": [
    {
     "data": {
      "text/plain": [
       "(3.0, 5.0, 5.0)"
      ]
     },
     "execution_count": 52,
     "metadata": {},
     "output_type": "execute_result"
    }
   ],
   "source": [
    "v1[0], v1[len(v1)-1], v1[-1]"
   ]
  },
  {
   "cell_type": "code",
   "execution_count": 53,
   "id": "13d485d4",
   "metadata": {
    "ExecuteTime": {
     "end_time": "2022-11-20T08:17:45.185196Z",
     "start_time": "2022-11-20T08:17:45.177421Z"
    }
   },
   "outputs": [
    {
     "data": {
      "text/plain": [
       "Vector([1.0, 2.0, 3.0])"
      ]
     },
     "execution_count": 53,
     "metadata": {},
     "output_type": "execute_result"
    }
   ],
   "source": [
    "# 슬라이싱\n",
    "v7[1:4]"
   ]
  },
  {
   "cell_type": "code",
   "execution_count": 54,
   "id": "1c249fb1",
   "metadata": {
    "ExecuteTime": {
     "end_time": "2022-11-20T08:17:45.627327Z",
     "start_time": "2022-11-20T08:17:45.593791Z"
    },
    "scrolled": false
   },
   "outputs": [
    {
     "ename": "TypeError",
     "evalue": "'tuple' object cannot be interpreted as an integer",
     "output_type": "error",
     "traceback": [
      "\u001b[0;31m---------------------------------------------------------------------------\u001b[0m",
      "\u001b[0;31mTypeError\u001b[0m                                 Traceback (most recent call last)",
      "Cell \u001b[0;32mIn [54], line 1\u001b[0m\n\u001b[0;32m----> 1\u001b[0m \u001b[43mv7\u001b[49m\u001b[43m[\u001b[49m\u001b[38;5;241;43m1\u001b[39;49m\u001b[43m,\u001b[49m\u001b[43m \u001b[49m\u001b[38;5;241;43m2\u001b[39;49m\u001b[43m]\u001b[49m\n",
      "Cell \u001b[0;32mIn [40], line 49\u001b[0m, in \u001b[0;36mVector.__getitem__\u001b[0;34m(self, key)\u001b[0m\n\u001b[1;32m     47\u001b[0m     \u001b[38;5;28mcls\u001b[39m \u001b[38;5;241m=\u001b[39m \u001b[38;5;28mtype\u001b[39m(\u001b[38;5;28mself\u001b[39m)\n\u001b[1;32m     48\u001b[0m     \u001b[38;5;28;01mreturn\u001b[39;00m \u001b[38;5;28mcls\u001b[39m(\u001b[38;5;28mself\u001b[39m\u001b[38;5;241m.\u001b[39m_components[key])\n\u001b[0;32m---> 49\u001b[0m index \u001b[38;5;241m=\u001b[39m \u001b[43moperator\u001b[49m\u001b[38;5;241;43m.\u001b[39;49m\u001b[43mindex\u001b[49m\u001b[43m(\u001b[49m\u001b[43mkey\u001b[49m\u001b[43m)\u001b[49m\n\u001b[1;32m     50\u001b[0m \u001b[38;5;28;01mreturn\u001b[39;00m \u001b[38;5;28mself\u001b[39m\u001b[38;5;241m.\u001b[39m_components[index]\n",
      "\u001b[0;31mTypeError\u001b[0m: 'tuple' object cannot be interpreted as an integer"
     ]
    }
   ],
   "source": [
    "v7[1, 2]"
   ]
  },
  {
   "cell_type": "code",
   "execution_count": 55,
   "id": "9f4a0ff2",
   "metadata": {
    "ExecuteTime": {
     "end_time": "2022-11-20T08:17:45.811567Z",
     "start_time": "2022-11-20T08:17:45.804643Z"
    }
   },
   "outputs": [
    {
     "data": {
      "text/plain": [
       "3.0"
      ]
     },
     "execution_count": 55,
     "metadata": {},
     "output_type": "execute_result"
    }
   ],
   "source": [
    "v7.t"
   ]
  },
  {
   "cell_type": "code",
   "execution_count": 56,
   "id": "26a149dd",
   "metadata": {
    "ExecuteTime": {
     "end_time": "2022-11-20T08:17:46.102894Z",
     "start_time": "2022-11-20T08:17:46.071625Z"
    }
   },
   "outputs": [
    {
     "ename": "AttributeError",
     "evalue": "'Vector' object has no attribute 'spam'",
     "output_type": "error",
     "traceback": [
      "\u001b[0;31m---------------------------------------------------------------------------\u001b[0m",
      "\u001b[0;31mAttributeError\u001b[0m                            Traceback (most recent call last)",
      "Cell \u001b[0;32mIn [56], line 1\u001b[0m\n\u001b[0;32m----> 1\u001b[0m \u001b[43mv7\u001b[49m\u001b[38;5;241;43m.\u001b[39;49m\u001b[43mspam\u001b[49m\n",
      "Cell \u001b[0;32mIn [40], line 63\u001b[0m, in \u001b[0;36mVector.__getattr__\u001b[0;34m(self, name)\u001b[0m\n\u001b[1;32m     61\u001b[0m     \u001b[38;5;28;01mreturn\u001b[39;00m \u001b[38;5;28mself\u001b[39m\u001b[38;5;241m.\u001b[39m_components[pos]\n\u001b[1;32m     62\u001b[0m msg \u001b[38;5;241m=\u001b[39m \u001b[38;5;124mf\u001b[39m\u001b[38;5;124m'\u001b[39m\u001b[38;5;132;01m{\u001b[39;00m\u001b[38;5;28mcls\u001b[39m\u001b[38;5;241m.\u001b[39m\u001b[38;5;18m__name__\u001b[39m\u001b[38;5;132;01m!r}\u001b[39;00m\u001b[38;5;124m object has no attribute \u001b[39m\u001b[38;5;132;01m{\u001b[39;00mname\u001b[38;5;132;01m!r}\u001b[39;00m\u001b[38;5;124m'\u001b[39m\n\u001b[0;32m---> 63\u001b[0m \u001b[38;5;28;01mraise\u001b[39;00m \u001b[38;5;167;01mAttributeError\u001b[39;00m(msg)\n",
      "\u001b[0;31mAttributeError\u001b[0m: 'Vector' object has no attribute 'spam'"
     ]
    }
   ],
   "source": [
    "v7.spam"
   ]
  },
  {
   "cell_type": "markdown",
   "id": "a3e46e6f",
   "metadata": {},
   "source": [
    "---"
   ]
  },
  {
   "cell_type": "code",
   "execution_count": 57,
   "id": "b2529d28",
   "metadata": {
    "ExecuteTime": {
     "end_time": "2022-11-20T08:17:47.080707Z",
     "start_time": "2022-11-20T08:17:47.075397Z"
    }
   },
   "outputs": [
    {
     "data": {
      "text/plain": [
       "'(3.0, 4.0, 5.0)'"
      ]
     },
     "execution_count": 57,
     "metadata": {},
     "output_type": "execute_result"
    }
   ],
   "source": [
    "# 직교좌표\n",
    "v3 = Vector([3, 4, 5])\n",
    "format(v3)"
   ]
  },
  {
   "cell_type": "code",
   "execution_count": 58,
   "id": "9ebdfe1a",
   "metadata": {
    "ExecuteTime": {
     "end_time": "2022-11-20T08:17:47.591992Z",
     "start_time": "2022-11-20T08:17:47.586783Z"
    }
   },
   "outputs": [
    {
     "data": {
      "text/plain": [
       "'(0.0, 1.0, 2.0, 3.0, 4.0, 5.0, 6.0)'"
      ]
     },
     "execution_count": 58,
     "metadata": {},
     "output_type": "execute_result"
    }
   ],
   "source": [
    "format(Vector(range(7)))"
   ]
  },
  {
   "cell_type": "code",
   "execution_count": 59,
   "id": "64e5d75e",
   "metadata": {
    "ExecuteTime": {
     "end_time": "2022-11-20T08:17:48.030663Z",
     "start_time": "2022-11-20T08:17:48.022747Z"
    }
   },
   "outputs": [
    {
     "name": "stdout",
     "output_type": "stream",
     "text": [
      "<1.4142135623730951, 0.7853981633974483>\n",
      "<1.414e+00, 7.854e-01>\n",
      "<1.41421, 0.78540>\n"
     ]
    }
   ],
   "source": [
    "# 구면좌표\n",
    "print(format(Vector([1, 1]), 'h'))\n",
    "print(format(Vector([1, 1]), '.3eh'))\n",
    "print(format(Vector([1, 1]), '0.5fh'))"
   ]
  },
  {
   "cell_type": "code",
   "execution_count": null,
   "id": "f0bc5f67",
   "metadata": {},
   "outputs": [],
   "source": []
  }
 ],
 "metadata": {
  "kernelspec": {
   "display_name": "Python 3 (ipykernel)",
   "language": "python",
   "name": "python3"
  },
  "language_info": {
   "codemirror_mode": {
    "name": "ipython",
    "version": 3
   },
   "file_extension": ".py",
   "mimetype": "text/x-python",
   "name": "python",
   "nbconvert_exporter": "python",
   "pygments_lexer": "ipython3",
   "version": "3.9.10"
  },
  "toc": {
   "base_numbering": 1,
   "nav_menu": {},
   "number_sections": true,
   "sideBar": true,
   "skip_h1_title": false,
   "title_cell": "Table of Contents",
   "title_sidebar": "Contents",
   "toc_cell": false,
   "toc_position": {},
   "toc_section_display": true,
   "toc_window_display": false
  }
 },
 "nbformat": 4,
 "nbformat_minor": 5
}
