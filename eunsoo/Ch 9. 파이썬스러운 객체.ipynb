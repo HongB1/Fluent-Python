{
 "cells": [
  {
   "cell_type": "markdown",
   "id": "23951a77",
   "metadata": {},
   "source": [
    "## 벡터 클래스의 부활"
   ]
  },
  {
   "cell_type": "code",
   "execution_count": 29,
   "id": "19e0d503",
   "metadata": {
    "ExecuteTime": {
     "end_time": "2022-11-19T14:32:07.537112Z",
     "start_time": "2022-11-19T14:32:07.520206Z"
    }
   },
   "outputs": [],
   "source": [
    "from array import array\n",
    "import math\n",
    "\n",
    "class Vector2d:\n",
    "    __match_args__ = ('x', 'y')\n",
    "\n",
    "    typecode = 'd'\n",
    "\n",
    "    def __init__(self, x, y):\n",
    "        self.__x = float(x)\n",
    "        self.__y = float(y)\n",
    "\n",
    "    @property\n",
    "    def x(self):\n",
    "        return self.__x\n",
    "\n",
    "    @property\n",
    "    def y(self):\n",
    "        return self.__y\n",
    "\n",
    "    def __iter__(self):\n",
    "        return (i for i in (self.x, self.y))\n",
    "\n",
    "    def __repr__(self):\n",
    "        class_name = type(self).__name__\n",
    "        return '{}({!r}, {!r})'.format(class_name, *self)\n",
    "\n",
    "    def __str__(self):\n",
    "        return str(tuple(self))\n",
    "\n",
    "    def __bytes__(self):\n",
    "        return (bytes([ord(self.typecode)]) +\n",
    "                bytes(array(self.typecode, self)))\n",
    "\n",
    "    def __eq__(self, other):\n",
    "        return tuple(self) == tuple(other)\n",
    "\n",
    "    def __hash__(self):\n",
    "        return hash(self.x) ^ hash(self.y)\n",
    "\n",
    "    def __abs__(self):\n",
    "        return math.hypot(self.x, self.y)\n",
    "\n",
    "    def __bool__(self):\n",
    "        return bool(abs(self))\n",
    "\n",
    "    def angle(self):\n",
    "        return math.atan2(self.y, self.x)\n",
    "\n",
    "    def __format__(self, fmt_spec=''):\n",
    "        if fmt_spec.endswith('p'):\n",
    "            fmt_spec = fmt_spec[:-1]\n",
    "            coords = (abs(self), self.angle())\n",
    "            outer_fmt = '<{}, {}>'\n",
    "        else:\n",
    "            coords = self\n",
    "            outer_fmt = '({}, {})'\n",
    "        components = (format(c, fmt_spec) for c in coords)\n",
    "        return outer_fmt.format(*components)\n",
    "\n",
    "    @classmethod\n",
    "    def frombytes(cls, octets):\n",
    "        typecode = chr(octets[0])\n",
    "        memv = memoryview(octets[1:]).cast(typecode)\n",
    "        return cls(*memv)"
   ]
  },
  {
   "cell_type": "code",
   "execution_count": 2,
   "id": "ff3d8a3f",
   "metadata": {
    "ExecuteTime": {
     "end_time": "2022-11-19T13:47:26.169596Z",
     "start_time": "2022-11-19T13:47:26.161992Z"
    }
   },
   "outputs": [
    {
     "name": "stdout",
     "output_type": "stream",
     "text": [
      "3.0 4.0\n"
     ]
    }
   ],
   "source": [
    "v1 = Vector2d(3, 4)\n",
    "print(v1.x, v1.y)"
   ]
  },
  {
   "cell_type": "code",
   "execution_count": 3,
   "id": "a7d4ad7b",
   "metadata": {
    "ExecuteTime": {
     "end_time": "2022-11-19T13:47:32.794248Z",
     "start_time": "2022-11-19T13:47:32.778266Z"
    }
   },
   "outputs": [
    {
     "data": {
      "text/plain": [
       "(3.0, 4.0)"
      ]
     },
     "execution_count": 3,
     "metadata": {},
     "output_type": "execute_result"
    }
   ],
   "source": [
    "x, y = v1\n",
    "x, y"
   ]
  },
  {
   "cell_type": "code",
   "execution_count": 4,
   "id": "5975a99c",
   "metadata": {
    "ExecuteTime": {
     "end_time": "2022-11-19T13:47:48.413166Z",
     "start_time": "2022-11-19T13:47:48.405882Z"
    }
   },
   "outputs": [
    {
     "data": {
      "text/plain": [
       "b'd\\x00\\x00\\x00\\x00\\x00\\x00\\x08@\\x00\\x00\\x00\\x00\\x00\\x00\\x10@'"
      ]
     },
     "execution_count": 4,
     "metadata": {},
     "output_type": "execute_result"
    }
   ],
   "source": [
    "octets = bytes(v1)\n",
    "octets"
   ]
  },
  {
   "cell_type": "code",
   "execution_count": 5,
   "id": "892b9590",
   "metadata": {
    "ExecuteTime": {
     "end_time": "2022-11-19T13:48:09.772067Z",
     "start_time": "2022-11-19T13:48:09.766556Z"
    }
   },
   "outputs": [
    {
     "data": {
      "text/plain": [
       "5.0"
      ]
     },
     "execution_count": 5,
     "metadata": {},
     "output_type": "execute_result"
    }
   ],
   "source": [
    "abs(v1)"
   ]
  },
  {
   "cell_type": "code",
   "execution_count": 6,
   "id": "92cbdb94",
   "metadata": {
    "ExecuteTime": {
     "end_time": "2022-11-19T13:48:16.489170Z",
     "start_time": "2022-11-19T13:48:16.482273Z"
    }
   },
   "outputs": [
    {
     "data": {
      "text/plain": [
       "True"
      ]
     },
     "execution_count": 6,
     "metadata": {},
     "output_type": "execute_result"
    }
   ],
   "source": [
    "bool(v1)"
   ]
  },
  {
   "cell_type": "markdown",
   "id": "b67dfbba",
   "metadata": {},
   "source": [
    "## 9.3 대안 생성자"
   ]
  },
  {
   "cell_type": "code",
   "execution_count": 7,
   "id": "b5ff121b",
   "metadata": {
    "ExecuteTime": {
     "end_time": "2022-11-19T14:01:49.354974Z",
     "start_time": "2022-11-19T14:01:49.350668Z"
    }
   },
   "outputs": [],
   "source": [
    "@classmethod # 클래스메서드는 다음과 같은 데커레이터가 붙는다. \n",
    "def frombytes(cls, octets): # self 매개변수 없이 클래스 자신이 cls 매개변수로 전달된다. \n",
    "    typecode = chr(octets[0])\n",
    "    # memoryview를 생성하고 typecode를 이용해서 형을 변환한다. \n",
    "    memv = memoryview(octets[1:]).cast(typecode)\n",
    "    # memoryview를 언패킹해서 생성자에 필요한 인수로 전달한다. \n",
    "    return cls(*memv)"
   ]
  },
  {
   "cell_type": "markdown",
   "id": "965349ea",
   "metadata": {},
   "source": [
    "## 9.4 @classmethod 와 @staticmethod"
   ]
  },
  {
   "cell_type": "code",
   "execution_count": 8,
   "id": "cd23817e",
   "metadata": {
    "ExecuteTime": {
     "end_time": "2022-11-19T14:02:28.474912Z",
     "start_time": "2022-11-19T14:02:28.471339Z"
    }
   },
   "outputs": [],
   "source": [
    "class Demo:\n",
    "    @classmethod\n",
    "    def klassmeth(*args):\n",
    "        return args # 모든 위치 인수를 보여준다. \n",
    "\n",
    "    @staticmethod\n",
    "    def statmeth(*args):\n",
    "        return args # 모든 위치 인수를 보여준다. "
   ]
  },
  {
   "cell_type": "code",
   "execution_count": 10,
   "id": "5209cb63",
   "metadata": {
    "ExecuteTime": {
     "end_time": "2022-11-19T14:02:49.672612Z",
     "start_time": "2022-11-19T14:02:49.666871Z"
    }
   },
   "outputs": [
    {
     "data": {
      "text/plain": [
       "(__main__.Demo,)"
      ]
     },
     "execution_count": 10,
     "metadata": {},
     "output_type": "execute_result"
    }
   ],
   "source": [
    "# 호출 방법과 무관하게 Demo 클래스를 첫 번째 인수로 받는다. \n",
    "Demo.klassmeth()"
   ]
  },
  {
   "cell_type": "code",
   "execution_count": 11,
   "id": "bb8a6106",
   "metadata": {
    "ExecuteTime": {
     "end_time": "2022-11-19T14:02:50.585399Z",
     "start_time": "2022-11-19T14:02:50.580303Z"
    }
   },
   "outputs": [
    {
     "data": {
      "text/plain": [
       "(__main__.Demo, 'spam')"
      ]
     },
     "execution_count": 11,
     "metadata": {},
     "output_type": "execute_result"
    }
   ],
   "source": [
    "Demo.klassmeth(\"spam\")"
   ]
  },
  {
   "cell_type": "code",
   "execution_count": 12,
   "id": "f7addb19",
   "metadata": {
    "ExecuteTime": {
     "end_time": "2022-11-19T14:02:55.631144Z",
     "start_time": "2022-11-19T14:02:55.624078Z"
    }
   },
   "outputs": [
    {
     "data": {
      "text/plain": [
       "()"
      ]
     },
     "execution_count": 12,
     "metadata": {},
     "output_type": "execute_result"
    }
   ],
   "source": [
    "# 평범한 함수처럼 동작한다. \n",
    "Demo.statmeth()"
   ]
  },
  {
   "cell_type": "code",
   "execution_count": 13,
   "id": "9124260c",
   "metadata": {
    "ExecuteTime": {
     "end_time": "2022-11-19T14:03:02.577166Z",
     "start_time": "2022-11-19T14:03:02.569589Z"
    }
   },
   "outputs": [
    {
     "data": {
      "text/plain": [
       "('spam',)"
      ]
     },
     "execution_count": 13,
     "metadata": {},
     "output_type": "execute_result"
    }
   ],
   "source": [
    "Demo.statmeth('spam')"
   ]
  },
  {
   "cell_type": "markdown",
   "id": "cb58227a",
   "metadata": {},
   "source": [
    "## 9.5 포맷된 출력"
   ]
  },
  {
   "cell_type": "code",
   "execution_count": 14,
   "id": "8e92d94c",
   "metadata": {
    "ExecuteTime": {
     "end_time": "2022-11-19T14:08:22.685752Z",
     "start_time": "2022-11-19T14:08:22.679287Z"
    }
   },
   "outputs": [
    {
     "data": {
      "text/plain": [
       "0.4115226337448559"
      ]
     },
     "execution_count": 14,
     "metadata": {},
     "output_type": "execute_result"
    }
   ],
   "source": [
    "br1 = 1/2.43\n",
    "br1"
   ]
  },
  {
   "cell_type": "code",
   "execution_count": 15,
   "id": "f3f3603e",
   "metadata": {
    "ExecuteTime": {
     "end_time": "2022-11-19T14:08:29.502262Z",
     "start_time": "2022-11-19T14:08:29.496625Z"
    }
   },
   "outputs": [
    {
     "data": {
      "text/plain": [
       "'0.4115'"
      ]
     },
     "execution_count": 15,
     "metadata": {},
     "output_type": "execute_result"
    }
   ],
   "source": [
    "format(br1, '0.4f')"
   ]
  },
  {
   "cell_type": "code",
   "execution_count": 16,
   "id": "80841a74",
   "metadata": {
    "ExecuteTime": {
     "end_time": "2022-11-19T14:08:52.126172Z",
     "start_time": "2022-11-19T14:08:52.121548Z"
    }
   },
   "outputs": [
    {
     "data": {
      "text/plain": [
       "'1 BRF = 0.41 USD'"
      ]
     },
     "execution_count": 16,
     "metadata": {},
     "output_type": "execute_result"
    }
   ],
   "source": [
    "\"1 BRF = {rate:0.2f} USD\".format(rate=br1)"
   ]
  },
  {
   "cell_type": "code",
   "execution_count": 17,
   "id": "29cc3492",
   "metadata": {
    "ExecuteTime": {
     "end_time": "2022-11-19T14:16:58.917937Z",
     "start_time": "2022-11-19T14:16:58.911591Z"
    }
   },
   "outputs": [
    {
     "data": {
      "text/plain": [
       "'23:16:58'"
      ]
     },
     "execution_count": 17,
     "metadata": {},
     "output_type": "execute_result"
    }
   ],
   "source": [
    "from datetime import datetime\n",
    "now = datetime.now()\n",
    "format(now, '%H:%M:%S')"
   ]
  },
  {
   "cell_type": "code",
   "execution_count": 18,
   "id": "0ab5593b",
   "metadata": {
    "ExecuteTime": {
     "end_time": "2022-11-19T14:17:24.648340Z",
     "start_time": "2022-11-19T14:17:24.639357Z"
    }
   },
   "outputs": [
    {
     "data": {
      "text/plain": [
       "\"It's now 11:16 PM\""
      ]
     },
     "execution_count": 18,
     "metadata": {},
     "output_type": "execute_result"
    }
   ],
   "source": [
    "\"It's now {:%I:%M %p}\".format(now)"
   ]
  },
  {
   "cell_type": "code",
   "execution_count": 19,
   "id": "18f0cd89",
   "metadata": {
    "ExecuteTime": {
     "end_time": "2022-11-19T14:19:53.363243Z",
     "start_time": "2022-11-19T14:19:53.355958Z"
    }
   },
   "outputs": [
    {
     "data": {
      "text/plain": [
       "'(3.0, 4.0)'"
      ]
     },
     "execution_count": 19,
     "metadata": {},
     "output_type": "execute_result"
    }
   ],
   "source": [
    "v1 = Vector2d(3, 4)\n",
    "format(v1)"
   ]
  },
  {
   "cell_type": "code",
   "execution_count": 20,
   "id": "113f7cce",
   "metadata": {
    "ExecuteTime": {
     "end_time": "2022-11-19T14:19:59.979713Z",
     "start_time": "2022-11-19T14:19:59.745935Z"
    }
   },
   "outputs": [
    {
     "ename": "TypeError",
     "evalue": "unsupported format string passed to Vector2d.__format__",
     "output_type": "error",
     "traceback": [
      "\u001b[0;31m---------------------------------------------------------------------------\u001b[0m",
      "\u001b[0;31mTypeError\u001b[0m                                 Traceback (most recent call last)",
      "Cell \u001b[0;32mIn [20], line 1\u001b[0m\n\u001b[0;32m----> 1\u001b[0m \u001b[38;5;28;43mformat\u001b[39;49m\u001b[43m(\u001b[49m\u001b[43mv1\u001b[49m\u001b[43m,\u001b[49m\u001b[43m \u001b[49m\u001b[38;5;124;43m'\u001b[39;49m\u001b[38;5;124;43m.3f\u001b[39;49m\u001b[38;5;124;43m'\u001b[39;49m\u001b[43m)\u001b[49m\n",
      "\u001b[0;31mTypeError\u001b[0m: unsupported format string passed to Vector2d.__format__"
     ]
    }
   ],
   "source": [
    "format(v1, '.3f')"
   ]
  },
  {
   "cell_type": "code",
   "execution_count": 21,
   "id": "1b9bdcd7",
   "metadata": {
    "ExecuteTime": {
     "end_time": "2022-11-19T14:22:45.725270Z",
     "start_time": "2022-11-19T14:22:45.718780Z"
    }
   },
   "outputs": [],
   "source": [
    "def __format__(self, fmt_spec=''):\n",
    "    # 'p'로 끝나면 극좌표를 사용한다. \n",
    "    if fmt_spec.endswith('p'):\n",
    "        fmt_spec = fmt_spec[:-1]\n",
    "        coords = (abs(self), self.angle())\n",
    "        outer_fmt = '<{}, {}>'\n",
    "    else:\n",
    "        # 직교좌표를 만든다.\n",
    "        coords = self\n",
    "        outer_fmt = '({}, {})'\n",
    "    components = (format(c, fmt_spec) for c in coords)\n",
    "    return outer_fmt.format(*components)"
   ]
  },
  {
   "cell_type": "code",
   "execution_count": 27,
   "id": "65e7cb71",
   "metadata": {
    "ExecuteTime": {
     "end_time": "2022-11-19T14:24:05.800811Z",
     "start_time": "2022-11-19T14:24:05.793597Z"
    }
   },
   "outputs": [
    {
     "data": {
      "text/plain": [
       "'<1.4142135623730951, 0.7853981633974483>'"
      ]
     },
     "execution_count": 27,
     "metadata": {},
     "output_type": "execute_result"
    }
   ],
   "source": [
    "format(Vector2d(1, 1), 'p')"
   ]
  },
  {
   "cell_type": "code",
   "execution_count": 28,
   "id": "d4cf90ba",
   "metadata": {
    "ExecuteTime": {
     "end_time": "2022-11-19T14:24:20.019356Z",
     "start_time": "2022-11-19T14:24:20.014567Z"
    }
   },
   "outputs": [
    {
     "data": {
      "text/plain": [
       "'<1.41421, 0.78540>'"
      ]
     },
     "execution_count": 28,
     "metadata": {},
     "output_type": "execute_result"
    }
   ],
   "source": [
    "format(Vector2d(1, 1), '0.5fp')"
   ]
  },
  {
   "cell_type": "markdown",
   "id": "8d32c735",
   "metadata": {},
   "source": [
    "## 9.6 해시 가능한 Vector2d"
   ]
  },
  {
   "cell_type": "code",
   "execution_count": 30,
   "id": "63c848be",
   "metadata": {
    "ExecuteTime": {
     "end_time": "2022-11-19T14:32:54.847246Z",
     "start_time": "2022-11-19T14:32:54.842928Z"
    }
   },
   "outputs": [
    {
     "data": {
      "text/plain": [
       "(3.0, 4.0)"
      ]
     },
     "execution_count": 30,
     "metadata": {},
     "output_type": "execute_result"
    }
   ],
   "source": [
    "v1.x, v1.y"
   ]
  },
  {
   "cell_type": "code",
   "execution_count": 32,
   "id": "4a3f992d",
   "metadata": {
    "ExecuteTime": {
     "end_time": "2022-11-19T14:33:27.388251Z",
     "start_time": "2022-11-19T14:33:27.385375Z"
    }
   },
   "outputs": [],
   "source": [
    "v1.x = 7"
   ]
  },
  {
   "cell_type": "code",
   "execution_count": 33,
   "id": "f065336c",
   "metadata": {
    "ExecuteTime": {
     "end_time": "2022-11-19T14:33:31.606872Z",
     "start_time": "2022-11-19T14:33:31.600276Z"
    }
   },
   "outputs": [
    {
     "data": {
      "text/plain": [
       "(7, 4.0)"
      ]
     },
     "execution_count": 33,
     "metadata": {},
     "output_type": "execute_result"
    }
   ],
   "source": [
    "v1.x, v1.y"
   ]
  },
  {
   "cell_type": "code",
   "execution_count": 34,
   "id": "55aadcc3",
   "metadata": {
    "ExecuteTime": {
     "end_time": "2022-11-19T14:33:59.717622Z",
     "start_time": "2022-11-19T14:33:59.711772Z"
    }
   },
   "outputs": [
    {
     "data": {
      "text/plain": [
       "(7, 384307168202284039)"
      ]
     },
     "execution_count": 34,
     "metadata": {},
     "output_type": "execute_result"
    }
   ],
   "source": [
    "v1 = Vector2d(3, 4)\n",
    "v2 = Vector2d(3.1, 4.2)\n",
    "hash(v1), hash(v2)"
   ]
  },
  {
   "cell_type": "code",
   "execution_count": 36,
   "id": "cf920e5c",
   "metadata": {
    "ExecuteTime": {
     "end_time": "2022-11-19T14:34:10.708634Z",
     "start_time": "2022-11-19T14:34:10.700956Z"
    }
   },
   "outputs": [
    {
     "data": {
      "text/plain": [
       "{Vector2d(3.0, 4.0), Vector2d(3.1, 4.2)}"
      ]
     },
     "execution_count": 36,
     "metadata": {},
     "output_type": "execute_result"
    }
   ],
   "source": [
    "set([v1, v2])"
   ]
  },
  {
   "cell_type": "markdown",
   "id": "7da7c907",
   "metadata": {},
   "source": [
    "## 9.7 파이썬에서의 비공개 속성과 보호된 속성"
   ]
  },
  {
   "cell_type": "code",
   "execution_count": 37,
   "id": "f5643c68",
   "metadata": {
    "ExecuteTime": {
     "end_time": "2022-11-19T14:39:45.858701Z",
     "start_time": "2022-11-19T14:39:45.851672Z"
    }
   },
   "outputs": [
    {
     "data": {
      "text/plain": [
       "{'_Vector2d__x': 3.0, '_Vector2d__y': 4.0}"
      ]
     },
     "execution_count": 37,
     "metadata": {},
     "output_type": "execute_result"
    }
   ],
   "source": [
    "v1 = Vector2d(3,4)\n",
    "v1.__dict__"
   ]
  },
  {
   "cell_type": "code",
   "execution_count": 38,
   "id": "4a78c4bd",
   "metadata": {
    "ExecuteTime": {
     "end_time": "2022-11-19T14:39:53.383634Z",
     "start_time": "2022-11-19T14:39:53.376303Z"
    }
   },
   "outputs": [
    {
     "data": {
      "text/plain": [
       "3.0"
      ]
     },
     "execution_count": 38,
     "metadata": {},
     "output_type": "execute_result"
    }
   ],
   "source": [
    "v1._Vector2d__x"
   ]
  },
  {
   "cell_type": "markdown",
   "id": "30183277",
   "metadata": {},
   "source": [
    "## 9.9 클래스 속성 오버라이드"
   ]
  },
  {
   "cell_type": "code",
   "execution_count": 39,
   "id": "363a1fab",
   "metadata": {
    "ExecuteTime": {
     "end_time": "2022-11-19T14:42:02.374215Z",
     "start_time": "2022-11-19T14:42:02.367186Z"
    }
   },
   "outputs": [
    {
     "data": {
      "text/plain": [
       "b'd\\x9a\\x99\\x99\\x99\\x99\\x99\\xf1?\\x9a\\x99\\x99\\x99\\x99\\x99\\x01@'"
      ]
     },
     "execution_count": 39,
     "metadata": {},
     "output_type": "execute_result"
    }
   ],
   "source": [
    "v1 = Vector2d(1.1, 2.2)\n",
    "dumpd = bytes(v1)\n",
    "dumpd"
   ]
  },
  {
   "cell_type": "code",
   "execution_count": 40,
   "id": "1717b48e",
   "metadata": {
    "ExecuteTime": {
     "end_time": "2022-11-19T14:42:06.987313Z",
     "start_time": "2022-11-19T14:42:06.981476Z"
    }
   },
   "outputs": [
    {
     "data": {
      "text/plain": [
       "17"
      ]
     },
     "execution_count": 40,
     "metadata": {},
     "output_type": "execute_result"
    }
   ],
   "source": [
    "len(dumpd)"
   ]
  },
  {
   "cell_type": "code",
   "execution_count": 41,
   "id": "cb41ef45",
   "metadata": {
    "ExecuteTime": {
     "end_time": "2022-11-19T14:42:22.121398Z",
     "start_time": "2022-11-19T14:42:22.113613Z"
    }
   },
   "outputs": [
    {
     "data": {
      "text/plain": [
       "b'f\\xcd\\xcc\\x8c?\\xcd\\xcc\\x0c@'"
      ]
     },
     "execution_count": 41,
     "metadata": {},
     "output_type": "execute_result"
    }
   ],
   "source": [
    "v1.typecode = 'f'\n",
    "dumpf = bytes(v1)\n",
    "dumpf"
   ]
  },
  {
   "cell_type": "code",
   "execution_count": 42,
   "id": "328b985c",
   "metadata": {
    "ExecuteTime": {
     "end_time": "2022-11-19T14:42:29.171589Z",
     "start_time": "2022-11-19T14:42:29.164668Z"
    }
   },
   "outputs": [
    {
     "data": {
      "text/plain": [
       "9"
      ]
     },
     "execution_count": 42,
     "metadata": {},
     "output_type": "execute_result"
    }
   ],
   "source": [
    "len(dumpf)"
   ]
  },
  {
   "cell_type": "code",
   "execution_count": 43,
   "id": "6781c3f0",
   "metadata": {
    "ExecuteTime": {
     "end_time": "2022-11-19T14:42:33.818987Z",
     "start_time": "2022-11-19T14:42:33.811823Z"
    }
   },
   "outputs": [
    {
     "data": {
      "text/plain": [
       "'d'"
      ]
     },
     "execution_count": 43,
     "metadata": {},
     "output_type": "execute_result"
    }
   ],
   "source": [
    "Vector2d.typecode"
   ]
  },
  {
   "cell_type": "code",
   "execution_count": null,
   "id": "3e134ba6",
   "metadata": {},
   "outputs": [],
   "source": []
  }
 ],
 "metadata": {
  "kernelspec": {
   "display_name": "Python 3 (ipykernel)",
   "language": "python",
   "name": "python3"
  },
  "language_info": {
   "codemirror_mode": {
    "name": "ipython",
    "version": 3
   },
   "file_extension": ".py",
   "mimetype": "text/x-python",
   "name": "python",
   "nbconvert_exporter": "python",
   "pygments_lexer": "ipython3",
   "version": "3.9.10"
  },
  "toc": {
   "base_numbering": 1,
   "nav_menu": {},
   "number_sections": true,
   "sideBar": true,
   "skip_h1_title": false,
   "title_cell": "Table of Contents",
   "title_sidebar": "Contents",
   "toc_cell": false,
   "toc_position": {},
   "toc_section_display": true,
   "toc_window_display": false
  }
 },
 "nbformat": 4,
 "nbformat_minor": 5
}
