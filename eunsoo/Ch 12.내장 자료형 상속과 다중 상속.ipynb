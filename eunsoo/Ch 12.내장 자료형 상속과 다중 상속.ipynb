{
 "cells": [
  {
   "cell_type": "markdown",
   "id": "c6e77b73",
   "metadata": {},
   "source": [
    "## 12.1 내장 자료형의 상속은 까다롭다"
   ]
  },
  {
   "cell_type": "code",
   "execution_count": 2,
   "id": "b24a0a30",
   "metadata": {
    "ExecuteTime": {
     "end_time": "2022-12-02T01:40:29.345024Z",
     "start_time": "2022-12-02T01:40:29.338776Z"
    }
   },
   "outputs": [],
   "source": [
    "class DoppelDict(dict):\n",
    "    def __setitem__(self, key, value):\n",
    "        super().__setitem__(key, [value] * 2)"
   ]
  },
  {
   "cell_type": "code",
   "execution_count": 3,
   "id": "f0fc2fc2",
   "metadata": {
    "ExecuteTime": {
     "end_time": "2022-12-02T01:40:36.656778Z",
     "start_time": "2022-12-02T01:40:36.651680Z"
    }
   },
   "outputs": [
    {
     "data": {
      "text/plain": [
       "{'one': 1}"
      ]
     },
     "execution_count": 3,
     "metadata": {},
     "output_type": "execute_result"
    }
   ],
   "source": [
    "dd = DoppelDict(one=1)\n",
    "dd"
   ]
  },
  {
   "cell_type": "code",
   "execution_count": 4,
   "id": "ad41f65f",
   "metadata": {
    "ExecuteTime": {
     "end_time": "2022-12-02T01:40:44.868161Z",
     "start_time": "2022-12-02T01:40:44.863373Z"
    }
   },
   "outputs": [
    {
     "data": {
      "text/plain": [
       "{'one': 1, 'two': [2, 2]}"
      ]
     },
     "execution_count": 4,
     "metadata": {},
     "output_type": "execute_result"
    }
   ],
   "source": [
    "dd['two'] = 2\n",
    "dd"
   ]
  },
  {
   "cell_type": "code",
   "execution_count": 5,
   "id": "d19f877d",
   "metadata": {
    "ExecuteTime": {
     "end_time": "2022-12-02T01:40:55.466325Z",
     "start_time": "2022-12-02T01:40:55.461747Z"
    }
   },
   "outputs": [
    {
     "data": {
      "text/plain": [
       "{'one': 1, 'two': [2, 2], 'three': 3}"
      ]
     },
     "execution_count": 5,
     "metadata": {},
     "output_type": "execute_result"
    }
   ],
   "source": [
    "dd.update(three=3)\n",
    "dd"
   ]
  },
  {
   "cell_type": "code",
   "execution_count": 6,
   "id": "aca27f85",
   "metadata": {
    "ExecuteTime": {
     "end_time": "2022-12-02T01:49:46.069993Z",
     "start_time": "2022-12-02T01:49:46.065053Z"
    }
   },
   "outputs": [
    {
     "data": {
      "text/plain": [
       "42"
      ]
     },
     "execution_count": 6,
     "metadata": {},
     "output_type": "execute_result"
    }
   ],
   "source": [
    "class AnswerDict(dict):\n",
    "    def __getitem__(self, key):\n",
    "        return 42\n",
    "    \n",
    "ad = AnswerDict(a='foo')\n",
    "ad['a']"
   ]
  },
  {
   "cell_type": "code",
   "execution_count": 7,
   "id": "3cfb61e2",
   "metadata": {
    "ExecuteTime": {
     "end_time": "2022-12-02T01:49:55.587218Z",
     "start_time": "2022-12-02T01:49:55.582672Z"
    }
   },
   "outputs": [
    {
     "data": {
      "text/plain": [
       "'foo'"
      ]
     },
     "execution_count": 7,
     "metadata": {},
     "output_type": "execute_result"
    }
   ],
   "source": [
    "d = {}\n",
    "d.update(ad)\n",
    "d['a']"
   ]
  },
  {
   "cell_type": "code",
   "execution_count": 8,
   "id": "970edb42",
   "metadata": {
    "ExecuteTime": {
     "end_time": "2022-12-02T01:49:58.398436Z",
     "start_time": "2022-12-02T01:49:58.394307Z"
    }
   },
   "outputs": [
    {
     "data": {
      "text/plain": [
       "{'a': 'foo'}"
      ]
     },
     "execution_count": 8,
     "metadata": {},
     "output_type": "execute_result"
    }
   ],
   "source": [
    "d"
   ]
  },
  {
   "cell_type": "markdown",
   "id": "6024ffbd",
   "metadata": {},
   "source": [
    "---"
   ]
  },
  {
   "cell_type": "code",
   "execution_count": 11,
   "id": "1fad40cd",
   "metadata": {
    "ExecuteTime": {
     "end_time": "2022-12-02T01:56:42.467521Z",
     "start_time": "2022-12-02T01:56:42.461395Z"
    }
   },
   "outputs": [],
   "source": [
    "import collections\n",
    "\n",
    "class DoppelDict2(collections.UserDict):\n",
    "    def __setitem__(self, key, value):\n",
    "        super().__setitem__(key, [value] * 2)"
   ]
  },
  {
   "cell_type": "code",
   "execution_count": 12,
   "id": "ea45ce8f",
   "metadata": {
    "ExecuteTime": {
     "end_time": "2022-12-02T01:56:50.229432Z",
     "start_time": "2022-12-02T01:56:50.224926Z"
    }
   },
   "outputs": [
    {
     "data": {
      "text/plain": [
       "{'one': [1, 1]}"
      ]
     },
     "execution_count": 12,
     "metadata": {},
     "output_type": "execute_result"
    }
   ],
   "source": [
    "dd = DoppelDict2(one=1)\n",
    "dd"
   ]
  },
  {
   "cell_type": "code",
   "execution_count": 13,
   "id": "f55afb61",
   "metadata": {
    "ExecuteTime": {
     "end_time": "2022-12-02T01:56:58.195242Z",
     "start_time": "2022-12-02T01:56:58.190862Z"
    }
   },
   "outputs": [
    {
     "data": {
      "text/plain": [
       "{'one': [1, 1], 'two': [2, 2]}"
      ]
     },
     "execution_count": 13,
     "metadata": {},
     "output_type": "execute_result"
    }
   ],
   "source": [
    "dd['two'] = 2\n",
    "dd"
   ]
  },
  {
   "cell_type": "code",
   "execution_count": 14,
   "id": "a39865e4",
   "metadata": {
    "ExecuteTime": {
     "end_time": "2022-12-02T01:57:07.961514Z",
     "start_time": "2022-12-02T01:57:07.954935Z"
    }
   },
   "outputs": [
    {
     "data": {
      "text/plain": [
       "{'one': [1, 1], 'two': [2, 2], 'three': [3, 3]}"
      ]
     },
     "execution_count": 14,
     "metadata": {},
     "output_type": "execute_result"
    }
   ],
   "source": [
    "dd.update(three=3)\n",
    "dd"
   ]
  },
  {
   "cell_type": "markdown",
   "id": "1fdf67b3",
   "metadata": {},
   "source": [
    "---"
   ]
  },
  {
   "cell_type": "markdown",
   "id": "596e0718",
   "metadata": {},
   "source": [
    "## 12.2 다중 상속과 메서드 결정 순서"
   ]
  },
  {
   "cell_type": "code",
   "execution_count": 17,
   "id": "00b3042c",
   "metadata": {
    "ExecuteTime": {
     "end_time": "2022-12-02T02:05:31.231025Z",
     "start_time": "2022-12-02T02:05:31.223886Z"
    }
   },
   "outputs": [],
   "source": [
    "class A:\n",
    "    def ping(self):\n",
    "        print('ping:', self)\n",
    "        \n",
    "class B(A):\n",
    "    def pong(self):\n",
    "        print('pong:', self)\n",
    "        \n",
    "class C(A):\n",
    "    def pong(self):\n",
    "        print('PONG:', self)\n",
    "        \n",
    "class D(B, C):\n",
    "    def ping(self):\n",
    "        super().ping()\n",
    "        print('post-ping:', self)\n",
    "    \n",
    "    def pingpong(self):\n",
    "        self.ping()\n",
    "        super().ping()\n",
    "        self.pong()\n",
    "        super().pong()\n",
    "        C.pong(self)"
   ]
  },
  {
   "cell_type": "code",
   "execution_count": 18,
   "id": "36c25ac1",
   "metadata": {
    "ExecuteTime": {
     "end_time": "2022-12-02T02:05:31.449257Z",
     "start_time": "2022-12-02T02:05:31.443418Z"
    }
   },
   "outputs": [
    {
     "name": "stdout",
     "output_type": "stream",
     "text": [
      "pong: <__main__.D object at 0x104917cd0>\n"
     ]
    }
   ],
   "source": [
    "d = D()\n",
    "d.pong() # B 클래스의 메서드가 호출된다. "
   ]
  },
  {
   "cell_type": "code",
   "execution_count": 19,
   "id": "0ed367db",
   "metadata": {
    "ExecuteTime": {
     "end_time": "2022-12-02T02:05:37.435601Z",
     "start_time": "2022-12-02T02:05:37.432398Z"
    }
   },
   "outputs": [
    {
     "name": "stdout",
     "output_type": "stream",
     "text": [
      "PONG: <__main__.D object at 0x104917cd0>\n"
     ]
    }
   ],
   "source": [
    "C.pong(d) # 객체를 인수로 전달해서 슈퍼클래스의 메서드를 직접 호출할 수 있다. "
   ]
  },
  {
   "cell_type": "code",
   "execution_count": 20,
   "id": "eea3349d",
   "metadata": {
    "ExecuteTime": {
     "end_time": "2022-12-02T05:35:02.572297Z",
     "start_time": "2022-12-02T05:35:02.563692Z"
    }
   },
   "outputs": [
    {
     "data": {
      "text/plain": [
       "(__main__.D, __main__.B, __main__.C, __main__.A, object)"
      ]
     },
     "execution_count": 20,
     "metadata": {},
     "output_type": "execute_result"
    }
   ],
   "source": [
    "D.__mro__"
   ]
  },
  {
   "cell_type": "code",
   "execution_count": 21,
   "id": "8610b830",
   "metadata": {
    "ExecuteTime": {
     "end_time": "2022-12-02T05:40:00.792187Z",
     "start_time": "2022-12-02T05:40:00.787250Z"
    }
   },
   "outputs": [],
   "source": [
    "def ping(self):\n",
    "    A.ping(self) # super().ping() 대신 호출\n",
    "    print('post-ping:', self)"
   ]
  },
  {
   "cell_type": "code",
   "execution_count": 22,
   "id": "424ff342",
   "metadata": {
    "ExecuteTime": {
     "end_time": "2022-12-02T05:45:30.336161Z",
     "start_time": "2022-12-02T05:45:30.329753Z"
    }
   },
   "outputs": [
    {
     "name": "stdout",
     "output_type": "stream",
     "text": [
      "ping: <__main__.D object at 0x104917cd0>\n",
      "post-ping: <__main__.D object at 0x104917cd0>\n"
     ]
    }
   ],
   "source": [
    "d.ping()"
   ]
  },
  {
   "cell_type": "code",
   "execution_count": 23,
   "id": "8b108977",
   "metadata": {
    "ExecuteTime": {
     "end_time": "2022-12-02T05:49:34.955303Z",
     "start_time": "2022-12-02T05:49:34.949640Z"
    }
   },
   "outputs": [
    {
     "name": "stdout",
     "output_type": "stream",
     "text": [
      "ping: <__main__.D object at 0x10499c850>\n",
      "post-ping: <__main__.D object at 0x10499c850>\n",
      "ping: <__main__.D object at 0x10499c850>\n",
      "pong: <__main__.D object at 0x10499c850>\n",
      "pong: <__main__.D object at 0x10499c850>\n",
      "PONG: <__main__.D object at 0x10499c850>\n"
     ]
    }
   ],
   "source": [
    "d = D()\n",
    "d.pingpong()"
   ]
  },
  {
   "cell_type": "code",
   "execution_count": null,
   "id": "4a2cd11e",
   "metadata": {},
   "outputs": [],
   "source": []
  },
  {
   "cell_type": "code",
   "execution_count": null,
   "id": "b0d39e3d",
   "metadata": {},
   "outputs": [],
   "source": []
  }
 ],
 "metadata": {
  "kernelspec": {
   "display_name": "Python 3 (ipykernel)",
   "language": "python",
   "name": "python3"
  },
  "language_info": {
   "codemirror_mode": {
    "name": "ipython",
    "version": 3
   },
   "file_extension": ".py",
   "mimetype": "text/x-python",
   "name": "python",
   "nbconvert_exporter": "python",
   "pygments_lexer": "ipython3",
   "version": "3.9.6"
  },
  "toc": {
   "base_numbering": 1,
   "nav_menu": {},
   "number_sections": true,
   "sideBar": true,
   "skip_h1_title": false,
   "title_cell": "Table of Contents",
   "title_sidebar": "Contents",
   "toc_cell": false,
   "toc_position": {},
   "toc_section_display": true,
   "toc_window_display": false
  }
 },
 "nbformat": 4,
 "nbformat_minor": 5
}
