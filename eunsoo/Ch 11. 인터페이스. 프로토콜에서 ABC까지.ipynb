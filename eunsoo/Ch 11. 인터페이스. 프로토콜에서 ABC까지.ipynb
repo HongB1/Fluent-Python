{
 "cells": [
  {
   "cell_type": "markdown",
   "id": "19a861b8",
   "metadata": {},
   "source": [
    "## 11.2 파이썬은 시퀀스를 찾아낸다."
   ]
  },
  {
   "cell_type": "code",
   "execution_count": 1,
   "id": "4cd6066c",
   "metadata": {
    "ExecuteTime": {
     "end_time": "2022-11-26T06:25:51.086473Z",
     "start_time": "2022-11-26T06:25:51.079562Z"
    }
   },
   "outputs": [],
   "source": [
    "class Foo:\n",
    "    def __getitem__(self, pos):\n",
    "        return range(0, 30, 10)[pos]"
   ]
  },
  {
   "cell_type": "code",
   "execution_count": 2,
   "id": "8ce4afb9",
   "metadata": {
    "ExecuteTime": {
     "end_time": "2022-11-26T06:25:59.268454Z",
     "start_time": "2022-11-26T06:25:59.252765Z"
    }
   },
   "outputs": [
    {
     "data": {
      "text/plain": [
       "10"
      ]
     },
     "execution_count": 2,
     "metadata": {},
     "output_type": "execute_result"
    }
   ],
   "source": [
    "f = Foo()\n",
    "f[1]"
   ]
  },
  {
   "cell_type": "code",
   "execution_count": 3,
   "id": "07ca5174",
   "metadata": {
    "ExecuteTime": {
     "end_time": "2022-11-26T06:26:05.818047Z",
     "start_time": "2022-11-26T06:26:05.814340Z"
    }
   },
   "outputs": [
    {
     "name": "stdout",
     "output_type": "stream",
     "text": [
      "0\n",
      "10\n",
      "20\n"
     ]
    }
   ],
   "source": [
    "for i in f:\n",
    "    print(i)"
   ]
  },
  {
   "cell_type": "code",
   "execution_count": 4,
   "id": "5cee78a4",
   "metadata": {
    "ExecuteTime": {
     "end_time": "2022-11-26T06:51:15.937300Z",
     "start_time": "2022-11-26T06:51:15.928565Z"
    }
   },
   "outputs": [],
   "source": [
    "import collections\n",
    "\n",
    "Card = collections.namedtuple('Card', ['rank', 'suit'])\n",
    "\n",
    "class FrenchDeck:\n",
    "    ranks = [str(n) for n in range(2, 11)] + list('JQKA')\n",
    "    suits = 'spades diamonds clubs hearts'.split()\n",
    "    \n",
    "    def __init__(self):\n",
    "        self._cards = [Card(rank, suit) for suit in self.suits for rank in self.ranks]\n",
    "        \n",
    "    def __len__(self):\n",
    "        return len(self._cards)\n",
    "    \n",
    "    def __getitem__(self, position):\n",
    "        return self._cards[position]"
   ]
  },
  {
   "cell_type": "markdown",
   "id": "2cc26b87",
   "metadata": {},
   "source": [
    "## 11.3 런타임에 프로토콜을 구현하는 멍키 패칭"
   ]
  },
  {
   "cell_type": "code",
   "execution_count": 5,
   "id": "8cd75875",
   "metadata": {
    "ExecuteTime": {
     "end_time": "2022-11-26T06:51:25.679294Z",
     "start_time": "2022-11-26T06:51:25.675043Z"
    }
   },
   "outputs": [],
   "source": [
    "from random import shuffle\n",
    "l = list(range(10))\n",
    "shuffle(l)"
   ]
  },
  {
   "cell_type": "code",
   "execution_count": 8,
   "id": "b4f6cc97",
   "metadata": {
    "ExecuteTime": {
     "end_time": "2022-11-26T06:51:41.144960Z",
     "start_time": "2022-11-26T06:51:41.139501Z"
    }
   },
   "outputs": [
    {
     "data": {
      "text/plain": [
       "[6, 8, 5, 2, 4, 9, 1, 0, 3, 7]"
      ]
     },
     "execution_count": 8,
     "metadata": {},
     "output_type": "execute_result"
    }
   ],
   "source": [
    "l"
   ]
  },
  {
   "cell_type": "code",
   "execution_count": 9,
   "id": "c42c5772",
   "metadata": {
    "ExecuteTime": {
     "end_time": "2022-11-26T06:51:55.021196Z",
     "start_time": "2022-11-26T06:51:54.998705Z"
    }
   },
   "outputs": [
    {
     "ename": "TypeError",
     "evalue": "'FrenchDeck' object does not support item assignment",
     "output_type": "error",
     "traceback": [
      "\u001b[0;31m---------------------------------------------------------------------------\u001b[0m",
      "\u001b[0;31mTypeError\u001b[0m                                 Traceback (most recent call last)",
      "Cell \u001b[0;32mIn [9], line 2\u001b[0m\n\u001b[1;32m      1\u001b[0m deck \u001b[38;5;241m=\u001b[39m FrenchDeck()\n\u001b[0;32m----> 2\u001b[0m \u001b[43mshuffle\u001b[49m\u001b[43m(\u001b[49m\u001b[43mdeck\u001b[49m\u001b[43m)\u001b[49m\n",
      "File \u001b[0;32m~/miniforge3/lib/python3.9/random.py:362\u001b[0m, in \u001b[0;36mshuffle\u001b[0;34m(self, x, random)\u001b[0m\n",
      "\u001b[0;31mTypeError\u001b[0m: 'FrenchDeck' object does not support item assignment"
     ]
    }
   ],
   "source": [
    "deck = FrenchDeck()\n",
    "shuffle(deck)"
   ]
  },
  {
   "cell_type": "code",
   "execution_count": 10,
   "id": "6e18ad87",
   "metadata": {
    "ExecuteTime": {
     "end_time": "2022-11-26T06:52:26.806432Z",
     "start_time": "2022-11-26T06:52:26.803152Z"
    }
   },
   "outputs": [],
   "source": [
    "def set_card(deck, position, card):\n",
    "    deck._cards[position] = card"
   ]
  },
  {
   "cell_type": "code",
   "execution_count": 11,
   "id": "da4cfbbc",
   "metadata": {
    "ExecuteTime": {
     "end_time": "2022-11-26T06:52:26.973005Z",
     "start_time": "2022-11-26T06:52:26.967888Z"
    }
   },
   "outputs": [
    {
     "data": {
      "text/plain": [
       "[Card(rank='4', suit='hearts'),\n",
       " Card(rank='J', suit='diamonds'),\n",
       " Card(rank='6', suit='diamonds'),\n",
       " Card(rank='7', suit='hearts'),\n",
       " Card(rank='J', suit='spades')]"
      ]
     },
     "execution_count": 11,
     "metadata": {},
     "output_type": "execute_result"
    }
   ],
   "source": [
    "FrenchDeck.__setitem__ = set_card\n",
    "shuffle(deck)\n",
    "deck[:5]"
   ]
  },
  {
   "cell_type": "markdown",
   "id": "5612bb9e",
   "metadata": {},
   "source": [
    "## 11.4 알렉스 마르텔리의 물새"
   ]
  },
  {
   "cell_type": "code",
   "execution_count": 15,
   "id": "13f51435",
   "metadata": {
    "ExecuteTime": {
     "end_time": "2022-12-01T04:45:34.731401Z",
     "start_time": "2022-12-01T04:45:34.722553Z"
    }
   },
   "outputs": [
    {
     "data": {
      "text/plain": [
       "('Henry', 'James', 'donoban')"
      ]
     },
     "execution_count": 15,
     "metadata": {},
     "output_type": "execute_result"
    }
   ],
   "source": [
    "field_names = \"Henry James donoban\"\n",
    "\n",
    "try:\n",
    "    field_names = field_names.replace(',', ' ').split()\n",
    "except AttributeError:\n",
    "    pass\n",
    "\n",
    "field_names = tuple(field_names)\n",
    "field_names"
   ]
  },
  {
   "cell_type": "markdown",
   "id": "d3ab9d46",
   "metadata": {},
   "source": [
    "## 11.5 ABC 상속하기"
   ]
  },
  {
   "cell_type": "code",
   "execution_count": 16,
   "id": "1ee0b326",
   "metadata": {
    "ExecuteTime": {
     "end_time": "2022-12-01T05:03:54.381859Z",
     "start_time": "2022-12-01T05:03:54.374370Z"
    }
   },
   "outputs": [],
   "source": [
    "from collections import namedtuple, abc\n",
    "\n",
    "Card = namedtuple('Card', ['rank', 'suit'])\n",
    "\n",
    "class FrenchDeck2(abc.MutableSequence):\n",
    "    ranks = [str(n) for n in range(2, 11)] + list('JQKA')\n",
    "    suits = 'spades diamonds clubs hearts'.split()\n",
    "\n",
    "    def __init__(self):\n",
    "        self._cards = [Card(rank, suit) for suit in self.suits\n",
    "                                        for rank in self.ranks]\n",
    "\n",
    "    def __len__(self):\n",
    "        return len(self._cards)\n",
    "\n",
    "    def __getitem__(self, position):\n",
    "        return self._cards[position]\n",
    "\n",
    "    # 카드를 섞기 위해서 setitem 메서드만 있으면 된다. \n",
    "    def __setitem__(self, position, value): \n",
    "        self._cards[position] = value\n",
    "\n",
    "    # 그러나 MutableSequence를 상속했으므로, 추상 메서드인 __delitem__()도 구현\n",
    "    def __delitem__(self, position):  \n",
    "        del self._cards[position]\n",
    "\n",
    "    # 세 번째 추상 메서드인 insert()도 구현한다. \n",
    "    def insert(self, position, value):  \n",
    "        self._cards.insert(position, value)"
   ]
  },
  {
   "cell_type": "markdown",
   "id": "7d53c123",
   "metadata": {},
   "source": [
    "## 11.7 ABC의 정의와 사용"
   ]
  },
  {
   "cell_type": "code",
   "execution_count": 20,
   "id": "92ef6b85",
   "metadata": {
    "ExecuteTime": {
     "end_time": "2022-12-01T05:46:09.158778Z",
     "start_time": "2022-12-01T05:46:09.153101Z"
    }
   },
   "outputs": [],
   "source": [
    "import abc\n",
    "\n",
    "class Tombola(abc.ABC):  # abc.ABC 상속\n",
    "\n",
    "    @abc.abstractmethod\n",
    "    def load(self, iterable):  # 추상 메서드를 데커레이터로 표시\n",
    "        ...\n",
    "        \n",
    "    @abc.abstractmethod\n",
    "    def pick(self):  \n",
    "        ...\n",
    "\n",
    "    def loaded(self):  # 구상 메서드가 들어갈 수 있다. \n",
    "        return bool(self.inspect())  # 반드시 ABC에 정의된 인터페이스만 사용한다. \n",
    "\n",
    "    def inspect(self):\n",
    "        items = []\n",
    "        while True: \n",
    "            try:\n",
    "                items.append(self.pick())\n",
    "            except LookupError:\n",
    "                break\n",
    "        self.load(items)\n",
    "        return tuple(items)"
   ]
  },
  {
   "cell_type": "code",
   "execution_count": 21,
   "id": "c2e1f6a1",
   "metadata": {
    "ExecuteTime": {
     "end_time": "2022-12-01T05:52:18.647645Z",
     "start_time": "2022-12-01T05:52:18.641118Z"
    }
   },
   "outputs": [
    {
     "data": {
      "text/plain": [
       "__main__.Fake"
      ]
     },
     "execution_count": 21,
     "metadata": {},
     "output_type": "execute_result"
    }
   ],
   "source": [
    "class Fake(Tombola):\n",
    "    def pick(self):\n",
    "        return 13\n",
    "    \n",
    "Fake"
   ]
  },
  {
   "cell_type": "code",
   "execution_count": 22,
   "id": "6ddefa1f",
   "metadata": {
    "ExecuteTime": {
     "end_time": "2022-12-01T05:52:27.196010Z",
     "start_time": "2022-12-01T05:52:27.170388Z"
    }
   },
   "outputs": [
    {
     "ename": "TypeError",
     "evalue": "Can't instantiate abstract class Fake with abstract method load",
     "output_type": "error",
     "traceback": [
      "\u001b[0;31m---------------------------------------------------------------------------\u001b[0m",
      "\u001b[0;31mTypeError\u001b[0m                                 Traceback (most recent call last)",
      "Cell \u001b[0;32mIn [22], line 1\u001b[0m\n\u001b[0;32m----> 1\u001b[0m f \u001b[38;5;241m=\u001b[39m \u001b[43mFake\u001b[49m\u001b[43m(\u001b[49m\u001b[43m)\u001b[49m\n",
      "\u001b[0;31mTypeError\u001b[0m: Can't instantiate abstract class Fake with abstract method load"
     ]
    }
   ],
   "source": [
    "f = Fake()"
   ]
  },
  {
   "cell_type": "code",
   "execution_count": 23,
   "id": "cbf12c53",
   "metadata": {
    "ExecuteTime": {
     "end_time": "2022-12-01T06:30:48.461282Z",
     "start_time": "2022-12-01T06:30:48.450745Z"
    }
   },
   "outputs": [],
   "source": [
    "import random\n",
    "\n",
    "class BingoCage(Tombola): \n",
    "\n",
    "    def __init__(self, items):\n",
    "        # 암호화에 적합한 무작위 bytes를 생성한다. \n",
    "        self._randomizer = random.SystemRandom()\n",
    "        self._items = []\n",
    "        self.load(items)  # 초기화 작업\n",
    "\n",
    "    def load(self, items):\n",
    "        self._items.extend(items)\n",
    "        self._randomizer.shuffle(self._items) \n",
    "\n",
    "    def pick(self):  \n",
    "        try:\n",
    "            return self._items.pop()\n",
    "        except IndexError:\n",
    "            raise LookupError('pick from empty BingoCage')\n",
    "\n",
    "    def __call__(self):\n",
    "        self.pick()"
   ]
  },
  {
   "cell_type": "code",
   "execution_count": 24,
   "id": "e5f1a7b7",
   "metadata": {
    "ExecuteTime": {
     "end_time": "2022-12-01T06:32:15.622391Z",
     "start_time": "2022-12-01T06:32:15.615509Z"
    }
   },
   "outputs": [],
   "source": [
    "import random\n",
    "\n",
    "class LottoBlower(Tombola):\n",
    "\n",
    "    def __init__(self, iterable):\n",
    "        self._balls = list(iterable)  # 인수를 이용해 리스트 생성\n",
    "\n",
    "    def load(self, iterable):\n",
    "        self._balls.extend(iterable)\n",
    "\n",
    "    def pick(self):\n",
    "        try:\n",
    "            position = random.randrange(len(self._balls))  \n",
    "        except ValueError:\n",
    "            raise LookupError('pick from empty LottoBlower')\n",
    "        return self._balls.pop(position)  \n",
    "\n",
    "    def loaded(self):  # loaded 메서드 오버라이드\n",
    "        return bool(self._balls)\n",
    "\n",
    "    def inspect(self):  # inspect() 오버라이드\n",
    "        return tuple(self._balls)"
   ]
  },
  {
   "cell_type": "code",
   "execution_count": 26,
   "id": "af7c23b9",
   "metadata": {
    "ExecuteTime": {
     "end_time": "2022-12-01T06:41:10.907311Z",
     "start_time": "2022-12-01T06:41:10.900648Z"
    }
   },
   "outputs": [],
   "source": [
    "from random import randrange\n",
    "\n",
    "@Tombola.register  # Tombola의 가상 서브클래스로 등로한다. \n",
    "class TomboList(list):  # 리스트 상속\n",
    "\n",
    "    def pick(self):\n",
    "        if self:  # list가 비어있지 않으면 True 반환\n",
    "            position = randrange(len(self))\n",
    "            return self.pop(position) \n",
    "        else:\n",
    "            raise LookupError('pop from empty TomboList')\n",
    "\n",
    "    load = list.extend \n",
    "\n",
    "    def loaded(self):\n",
    "        return bool(self)  # loaded()메서드를 bool() 함수에 위임한다. \n",
    "\n",
    "    def inspect(self):\n",
    "\n",
    "        return tuple(self)"
   ]
  },
  {
   "cell_type": "code",
   "execution_count": 27,
   "id": "8013038e",
   "metadata": {
    "ExecuteTime": {
     "end_time": "2022-12-01T06:41:21.436066Z",
     "start_time": "2022-12-01T06:41:21.430090Z"
    }
   },
   "outputs": [
    {
     "data": {
      "text/plain": [
       "True"
      ]
     },
     "execution_count": 27,
     "metadata": {},
     "output_type": "execute_result"
    }
   ],
   "source": [
    "issubclass(TomboList, Tombola)"
   ]
  },
  {
   "cell_type": "code",
   "execution_count": 28,
   "id": "e401f874",
   "metadata": {
    "ExecuteTime": {
     "end_time": "2022-12-01T06:41:31.708972Z",
     "start_time": "2022-12-01T06:41:31.704124Z"
    }
   },
   "outputs": [
    {
     "data": {
      "text/plain": [
       "True"
      ]
     },
     "execution_count": 28,
     "metadata": {},
     "output_type": "execute_result"
    }
   ],
   "source": [
    "t = TomboList(range(100))\n",
    "isinstance(t, Tombola)"
   ]
  },
  {
   "cell_type": "code",
   "execution_count": 29,
   "id": "8b548cf1",
   "metadata": {
    "ExecuteTime": {
     "end_time": "2022-12-01T06:43:33.637856Z",
     "start_time": "2022-12-01T06:43:33.631359Z"
    }
   },
   "outputs": [
    {
     "data": {
      "text/plain": [
       "(__main__.TomboList, list, object)"
      ]
     },
     "execution_count": 29,
     "metadata": {},
     "output_type": "execute_result"
    }
   ],
   "source": [
    "TomboList.__mro__"
   ]
  },
  {
   "cell_type": "markdown",
   "id": "23c408bf",
   "metadata": {},
   "source": [
    "## 11.10 오리처럼 행동할 수 있는 거위"
   ]
  },
  {
   "cell_type": "code",
   "execution_count": 31,
   "id": "79197b63",
   "metadata": {
    "ExecuteTime": {
     "end_time": "2022-12-01T06:50:06.793460Z",
     "start_time": "2022-12-01T06:50:06.787794Z"
    }
   },
   "outputs": [
    {
     "data": {
      "text/plain": [
       "True"
      ]
     },
     "execution_count": 31,
     "metadata": {},
     "output_type": "execute_result"
    }
   ],
   "source": [
    "class Struggle:\n",
    "    def __len__(self): return 23\n",
    "    \n",
    "from collections import abc\n",
    "isinstance(Struggle(), abc.Sized)"
   ]
  },
  {
   "cell_type": "code",
   "execution_count": 32,
   "id": "104c81dc",
   "metadata": {
    "ExecuteTime": {
     "end_time": "2022-12-01T06:50:17.422000Z",
     "start_time": "2022-12-01T06:50:17.417502Z"
    }
   },
   "outputs": [
    {
     "data": {
      "text/plain": [
       "True"
      ]
     },
     "execution_count": 32,
     "metadata": {},
     "output_type": "execute_result"
    }
   ],
   "source": [
    "issubclass(Struggle, abc.Sized)"
   ]
  },
  {
   "cell_type": "code",
   "execution_count": null,
   "id": "81fc9951",
   "metadata": {},
   "outputs": [],
   "source": []
  },
  {
   "cell_type": "code",
   "execution_count": null,
   "id": "f2d7e11d",
   "metadata": {},
   "outputs": [],
   "source": []
  },
  {
   "cell_type": "code",
   "execution_count": null,
   "id": "f7e4ba2f",
   "metadata": {},
   "outputs": [],
   "source": []
  }
 ],
 "metadata": {
  "kernelspec": {
   "display_name": "Python 3 (ipykernel)",
   "language": "python",
   "name": "python3"
  },
  "language_info": {
   "codemirror_mode": {
    "name": "ipython",
    "version": 3
   },
   "file_extension": ".py",
   "mimetype": "text/x-python",
   "name": "python",
   "nbconvert_exporter": "python",
   "pygments_lexer": "ipython3",
   "version": "3.9.10"
  },
  "toc": {
   "base_numbering": 1,
   "nav_menu": {},
   "number_sections": true,
   "sideBar": true,
   "skip_h1_title": false,
   "title_cell": "Table of Contents",
   "title_sidebar": "Contents",
   "toc_cell": false,
   "toc_position": {},
   "toc_section_display": true,
   "toc_window_display": false
  }
 },
 "nbformat": 4,
 "nbformat_minor": 5
}
