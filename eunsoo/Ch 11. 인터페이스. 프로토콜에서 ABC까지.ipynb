{
 "cells": [
  {
   "cell_type": "markdown",
   "id": "19a861b8",
   "metadata": {},
   "source": [
    "## 11.2 파이썬은 시퀀스를 찾아낸다."
   ]
  },
  {
   "cell_type": "code",
   "execution_count": 1,
   "id": "4cd6066c",
   "metadata": {
    "ExecuteTime": {
     "end_time": "2022-11-26T06:25:51.086473Z",
     "start_time": "2022-11-26T06:25:51.079562Z"
    }
   },
   "outputs": [],
   "source": [
    "class Foo:\n",
    "    def __getitem__(self, pos):\n",
    "        return range(0, 30, 10)[pos]"
   ]
  },
  {
   "cell_type": "code",
   "execution_count": 2,
   "id": "8ce4afb9",
   "metadata": {
    "ExecuteTime": {
     "end_time": "2022-11-26T06:25:59.268454Z",
     "start_time": "2022-11-26T06:25:59.252765Z"
    }
   },
   "outputs": [
    {
     "data": {
      "text/plain": [
       "10"
      ]
     },
     "execution_count": 2,
     "metadata": {},
     "output_type": "execute_result"
    }
   ],
   "source": [
    "f = Foo()\n",
    "f[1]"
   ]
  },
  {
   "cell_type": "code",
   "execution_count": 3,
   "id": "07ca5174",
   "metadata": {
    "ExecuteTime": {
     "end_time": "2022-11-26T06:26:05.818047Z",
     "start_time": "2022-11-26T06:26:05.814340Z"
    }
   },
   "outputs": [
    {
     "name": "stdout",
     "output_type": "stream",
     "text": [
      "0\n",
      "10\n",
      "20\n"
     ]
    }
   ],
   "source": [
    "for i in f:\n",
    "    print(i)"
   ]
  },
  {
   "cell_type": "code",
   "execution_count": 4,
   "id": "5cee78a4",
   "metadata": {
    "ExecuteTime": {
     "end_time": "2022-11-26T06:51:15.937300Z",
     "start_time": "2022-11-26T06:51:15.928565Z"
    }
   },
   "outputs": [],
   "source": [
    "import collections\n",
    "\n",
    "Card = collections.namedtuple('Card', ['rank', 'suit'])\n",
    "\n",
    "class FrenchDeck:\n",
    "    ranks = [str(n) for n in range(2, 11)] + list('JQKA')\n",
    "    suits = 'spades diamonds clubs hearts'.split()\n",
    "    \n",
    "    def __init__(self):\n",
    "        self._cards = [Card(rank, suit) for suit in self.suits for rank in self.ranks]\n",
    "        \n",
    "    def __len__(self):\n",
    "        return len(self._cards)\n",
    "    \n",
    "    def __getitem__(self, position):\n",
    "        return self._cards[position]"
   ]
  },
  {
   "cell_type": "markdown",
   "id": "2cc26b87",
   "metadata": {},
   "source": [
    "## 11.3 런타임에 프로토콜을 구현하는 멍키 패칭"
   ]
  },
  {
   "cell_type": "code",
   "execution_count": 5,
   "id": "8cd75875",
   "metadata": {
    "ExecuteTime": {
     "end_time": "2022-11-26T06:51:25.679294Z",
     "start_time": "2022-11-26T06:51:25.675043Z"
    }
   },
   "outputs": [],
   "source": [
    "from random import shuffle\n",
    "l = list(range(10))\n",
    "shuffle(l)"
   ]
  },
  {
   "cell_type": "code",
   "execution_count": 8,
   "id": "b4f6cc97",
   "metadata": {
    "ExecuteTime": {
     "end_time": "2022-11-26T06:51:41.144960Z",
     "start_time": "2022-11-26T06:51:41.139501Z"
    }
   },
   "outputs": [
    {
     "data": {
      "text/plain": [
       "[6, 8, 5, 2, 4, 9, 1, 0, 3, 7]"
      ]
     },
     "execution_count": 8,
     "metadata": {},
     "output_type": "execute_result"
    }
   ],
   "source": [
    "l"
   ]
  },
  {
   "cell_type": "code",
   "execution_count": 9,
   "id": "c42c5772",
   "metadata": {
    "ExecuteTime": {
     "end_time": "2022-11-26T06:51:55.021196Z",
     "start_time": "2022-11-26T06:51:54.998705Z"
    }
   },
   "outputs": [
    {
     "ename": "TypeError",
     "evalue": "'FrenchDeck' object does not support item assignment",
     "output_type": "error",
     "traceback": [
      "\u001b[0;31m---------------------------------------------------------------------------\u001b[0m",
      "\u001b[0;31mTypeError\u001b[0m                                 Traceback (most recent call last)",
      "Cell \u001b[0;32mIn [9], line 2\u001b[0m\n\u001b[1;32m      1\u001b[0m deck \u001b[38;5;241m=\u001b[39m FrenchDeck()\n\u001b[0;32m----> 2\u001b[0m \u001b[43mshuffle\u001b[49m\u001b[43m(\u001b[49m\u001b[43mdeck\u001b[49m\u001b[43m)\u001b[49m\n",
      "File \u001b[0;32m~/miniforge3/lib/python3.9/random.py:362\u001b[0m, in \u001b[0;36mshuffle\u001b[0;34m(self, x, random)\u001b[0m\n",
      "\u001b[0;31mTypeError\u001b[0m: 'FrenchDeck' object does not support item assignment"
     ]
    }
   ],
   "source": [
    "deck = FrenchDeck()\n",
    "shuffle(deck)"
   ]
  },
  {
   "cell_type": "code",
   "execution_count": 10,
   "id": "6e18ad87",
   "metadata": {
    "ExecuteTime": {
     "end_time": "2022-11-26T06:52:26.806432Z",
     "start_time": "2022-11-26T06:52:26.803152Z"
    }
   },
   "outputs": [],
   "source": [
    "def set_card(deck, position, card):\n",
    "    deck._cards[position] = card"
   ]
  },
  {
   "cell_type": "code",
   "execution_count": 11,
   "id": "da4cfbbc",
   "metadata": {
    "ExecuteTime": {
     "end_time": "2022-11-26T06:52:26.973005Z",
     "start_time": "2022-11-26T06:52:26.967888Z"
    }
   },
   "outputs": [
    {
     "data": {
      "text/plain": [
       "[Card(rank='4', suit='hearts'),\n",
       " Card(rank='J', suit='diamonds'),\n",
       " Card(rank='6', suit='diamonds'),\n",
       " Card(rank='7', suit='hearts'),\n",
       " Card(rank='J', suit='spades')]"
      ]
     },
     "execution_count": 11,
     "metadata": {},
     "output_type": "execute_result"
    }
   ],
   "source": [
    "FrenchDeck.__setitem__ = set_card\n",
    "shuffle(deck)\n",
    "deck[:5]"
   ]
  },
  {
   "cell_type": "markdown",
   "id": "5612bb9e",
   "metadata": {},
   "source": [
    "## 11.4 알렉스 마르텔리의 물새"
   ]
  },
  {
   "cell_type": "code",
   "execution_count": null,
   "id": "13f51435",
   "metadata": {},
   "outputs": [],
   "source": []
  },
  {
   "cell_type": "code",
   "execution_count": null,
   "id": "cf269914",
   "metadata": {},
   "outputs": [],
   "source": []
  },
  {
   "cell_type": "code",
   "execution_count": null,
   "id": "104c81dc",
   "metadata": {},
   "outputs": [],
   "source": []
  },
  {
   "cell_type": "code",
   "execution_count": null,
   "id": "81fc9951",
   "metadata": {},
   "outputs": [],
   "source": []
  },
  {
   "cell_type": "code",
   "execution_count": null,
   "id": "f2d7e11d",
   "metadata": {},
   "outputs": [],
   "source": []
  },
  {
   "cell_type": "code",
   "execution_count": null,
   "id": "f7e4ba2f",
   "metadata": {},
   "outputs": [],
   "source": []
  }
 ],
 "metadata": {
  "kernelspec": {
   "display_name": "Python 3 (ipykernel)",
   "language": "python",
   "name": "python3"
  },
  "language_info": {
   "codemirror_mode": {
    "name": "ipython",
    "version": 3
   },
   "file_extension": ".py",
   "mimetype": "text/x-python",
   "name": "python",
   "nbconvert_exporter": "python",
   "pygments_lexer": "ipython3",
   "version": "3.9.10"
  },
  "toc": {
   "base_numbering": 1,
   "nav_menu": {},
   "number_sections": true,
   "sideBar": true,
   "skip_h1_title": false,
   "title_cell": "Table of Contents",
   "title_sidebar": "Contents",
   "toc_cell": false,
   "toc_position": {},
   "toc_section_display": true,
   "toc_window_display": false
  }
 },
 "nbformat": 4,
 "nbformat_minor": 5
}
