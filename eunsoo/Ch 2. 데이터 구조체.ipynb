{
 "cells": [
  {
   "cell_type": "markdown",
   "id": "f9a32a53",
   "metadata": {},
   "source": [
    "## 2.1 내장 시퀀스 개요\n",
    "파이썬 표준 라이브러리는 C로 구현된 다음과 같은 시퀀스형을 제공한다. \n",
    "- 컨테이너 시퀀스 : 서로 다른 자료형의 항목들을 담을 수 있는 ```list, tuple, collections, deque``` 형\n",
    "- 균일 시퀀스 : 단 하나의 자료형만 담을 수 있는 ```str, bytes, bytearray, memoryview, array.array``` 형"
   ]
  },
  {
   "cell_type": "markdown",
   "id": "a50d2d5c",
   "metadata": {},
   "source": [
    "시퀀스형은 가변성에 따라 분류할 수도 있다.\n",
    "- 가변 시퀀스 : ```list, bytearray, array.array, collections, deque, memoryview``` 형\n",
    "- 불변 시퀀스 : ```tuple, str, bytes``` 형"
   ]
  },
  {
   "cell_type": "markdown",
   "id": "4a14016f",
   "metadata": {},
   "source": [
    "### 지능형 리스트와 가독성"
   ]
  },
  {
   "cell_type": "code",
   "execution_count": 1,
   "id": "e5137299",
   "metadata": {
    "ExecuteTime": {
     "end_time": "2022-09-21T15:39:42.953877Z",
     "start_time": "2022-09-21T15:39:42.937039Z"
    }
   },
   "outputs": [
    {
     "data": {
      "text/plain": [
       "[126, 33, 64, 35, 36, 37, 94]"
      ]
     },
     "execution_count": 1,
     "metadata": {},
     "output_type": "execute_result"
    }
   ],
   "source": [
    "symbols = '~!@#$%^'\n",
    "codes = []\n",
    "\n",
    "for symbol in symbols:\n",
    "    codes.append(ord(symbol))\n",
    "    \n",
    "codes"
   ]
  },
  {
   "cell_type": "code",
   "execution_count": 2,
   "id": "3492c537",
   "metadata": {
    "ExecuteTime": {
     "end_time": "2022-09-21T15:40:12.952626Z",
     "start_time": "2022-09-21T15:40:12.947576Z"
    }
   },
   "outputs": [
    {
     "data": {
      "text/plain": [
       "[126, 33, 64, 35, 36, 37, 94]"
      ]
     },
     "execution_count": 2,
     "metadata": {},
     "output_type": "execute_result"
    }
   ],
   "source": [
    "codes = [ord(symbol) for symbol in symbols]\n",
    "codes"
   ]
  },
  {
   "cell_type": "markdown",
   "id": "669c66cd",
   "metadata": {},
   "source": [
    "---"
   ]
  },
  {
   "cell_type": "code",
   "execution_count": 3,
   "id": "dbaf17b7",
   "metadata": {
    "ExecuteTime": {
     "end_time": "2022-09-21T15:42:32.812533Z",
     "start_time": "2022-09-21T15:42:32.807508Z"
    }
   },
   "outputs": [
    {
     "data": {
      "text/plain": [
       "[126, 64, 94]"
      ]
     },
     "execution_count": 3,
     "metadata": {},
     "output_type": "execute_result"
    }
   ],
   "source": [
    "# map() / filter() 비교\n",
    "beyond_ascii = [ord(s) for s in symbols if ord(s) > 50]\n",
    "beyond_ascii"
   ]
  },
  {
   "cell_type": "code",
   "execution_count": 4,
   "id": "0f28afdc",
   "metadata": {
    "ExecuteTime": {
     "end_time": "2022-09-21T15:42:57.832886Z",
     "start_time": "2022-09-21T15:42:57.827556Z"
    }
   },
   "outputs": [
    {
     "data": {
      "text/plain": [
       "[126, 64, 94]"
      ]
     },
     "execution_count": 4,
     "metadata": {},
     "output_type": "execute_result"
    }
   ],
   "source": [
    "beyond_ascii = list(filter(lambda c: c > 50, map(ord, symbols)))\n",
    "beyond_ascii"
   ]
  },
  {
   "cell_type": "markdown",
   "id": "c5aada80",
   "metadata": {},
   "source": [
    "---"
   ]
  },
  {
   "cell_type": "code",
   "execution_count": 5,
   "id": "3834151e",
   "metadata": {
    "ExecuteTime": {
     "end_time": "2022-09-21T15:46:58.775356Z",
     "start_time": "2022-09-21T15:46:58.765846Z"
    }
   },
   "outputs": [
    {
     "data": {
      "text/plain": [
       "[('black', 'S'),\n",
       " ('black', 'M'),\n",
       " ('black', 'L'),\n",
       " ('white', 'S'),\n",
       " ('white', 'M'),\n",
       " ('white', 'L')]"
      ]
     },
     "execution_count": 5,
     "metadata": {},
     "output_type": "execute_result"
    }
   ],
   "source": [
    "# 데카르트 곱\n",
    "colors = ['black', 'white']\n",
    "sizes = ['S', 'M', 'L']\n",
    "\n",
    "tshirts = [(color, size) for color in colors for size in sizes]\n",
    "tshirts"
   ]
  },
  {
   "cell_type": "markdown",
   "id": "c1608c9a",
   "metadata": {},
   "source": [
    "---"
   ]
  },
  {
   "cell_type": "code",
   "execution_count": 6,
   "id": "f17719be",
   "metadata": {
    "ExecuteTime": {
     "end_time": "2022-09-21T15:55:51.651143Z",
     "start_time": "2022-09-21T15:55:51.645781Z"
    }
   },
   "outputs": [
    {
     "data": {
      "text/plain": [
       "(126, 33, 64, 35, 36, 37, 94)"
      ]
     },
     "execution_count": 6,
     "metadata": {},
     "output_type": "execute_result"
    }
   ],
   "source": [
    "# 제너레이터 표현식에서 튜플과 배열 초기화하기\n",
    "tuple(ord(symbol) for symbol in symbols)"
   ]
  },
  {
   "cell_type": "code",
   "execution_count": 7,
   "id": "ec98b09b",
   "metadata": {
    "ExecuteTime": {
     "end_time": "2022-09-21T15:56:12.061736Z",
     "start_time": "2022-09-21T15:56:12.054944Z"
    }
   },
   "outputs": [
    {
     "data": {
      "text/plain": [
       "array('I', [126, 33, 64, 35, 36, 37, 94])"
      ]
     },
     "execution_count": 7,
     "metadata": {},
     "output_type": "execute_result"
    }
   ],
   "source": [
    "import array\n",
    "\n",
    "array.array('I', (ord(symbol) for symbol in symbols))"
   ]
  },
  {
   "cell_type": "markdown",
   "id": "bafe5bea",
   "metadata": {},
   "source": [
    "---"
   ]
  },
  {
   "cell_type": "code",
   "execution_count": 8,
   "id": "f2a2d7ed",
   "metadata": {
    "ExecuteTime": {
     "end_time": "2022-09-21T15:56:49.970411Z",
     "start_time": "2022-09-21T15:56:49.965869Z"
    }
   },
   "outputs": [
    {
     "name": "stdout",
     "output_type": "stream",
     "text": [
      "black S\n",
      "black M\n",
      "black L\n",
      "white S\n",
      "white M\n",
      "white L\n"
     ]
    }
   ],
   "source": [
    "for tshirt in ('%s %s' % (c, s) for c in colors for s in sizes):\n",
    "    print(tshirt)"
   ]
  },
  {
   "cell_type": "markdown",
   "id": "aeb77115",
   "metadata": {},
   "source": [
    "---"
   ]
  },
  {
   "cell_type": "markdown",
   "id": "2d4f99da",
   "metadata": {},
   "source": [
    "## 2.3 튜플은 단순한 불변 리스트가 아니다\n",
    "튜플은 불변 리스트로 사용할 수도 있지만 필드명이 없는 레코드로 사용할 수도 있다. "
   ]
  },
  {
   "cell_type": "code",
   "execution_count": 10,
   "id": "50c5498b",
   "metadata": {
    "ExecuteTime": {
     "end_time": "2022-09-21T16:04:59.368922Z",
     "start_time": "2022-09-21T16:04:59.362402Z"
    }
   },
   "outputs": [
    {
     "name": "stdout",
     "output_type": "stream",
     "text": [
      "BRA/CE123135\n",
      "ESP/XDA208521\n",
      "USA/312141\n"
     ]
    }
   ],
   "source": [
    "# 레코드로 사용된 튜플\n",
    "lax_coordinates = (33.1234, -118.391241)\n",
    "city, year, pop, chg, area = ('Seoul', 2003, 32488, 0.66, 8015)\n",
    "\n",
    "traveler_ids = [('USA', '312141'), ('BRA', 'CE123135'), ('ESP', 'XDA208521')]\n",
    "\n",
    "for passport in sorted(traveler_ids):\n",
    "    print('%s/%s'% passport)"
   ]
  },
  {
   "cell_type": "code",
   "execution_count": 11,
   "id": "97802956",
   "metadata": {
    "ExecuteTime": {
     "end_time": "2022-09-21T16:05:45.898123Z",
     "start_time": "2022-09-21T16:05:45.892975Z"
    }
   },
   "outputs": [
    {
     "data": {
      "text/plain": [
       "33.9425"
      ]
     },
     "execution_count": 11,
     "metadata": {},
     "output_type": "execute_result"
    }
   ],
   "source": [
    "# 튜플 언패킹\n",
    "lax_coordinates = (33.9425, -118.15615)\n",
    "latitude, longitude = lax_coordinates\n",
    "latitude"
   ]
  },
  {
   "cell_type": "code",
   "execution_count": 12,
   "id": "5c0c11fd",
   "metadata": {
    "ExecuteTime": {
     "end_time": "2022-09-21T16:05:51.320059Z",
     "start_time": "2022-09-21T16:05:51.315515Z"
    }
   },
   "outputs": [
    {
     "data": {
      "text/plain": [
       "-118.15615"
      ]
     },
     "execution_count": 12,
     "metadata": {},
     "output_type": "execute_result"
    }
   ],
   "source": [
    "longitude"
   ]
  },
  {
   "cell_type": "code",
   "execution_count": 13,
   "id": "3177219b",
   "metadata": {
    "ExecuteTime": {
     "end_time": "2022-09-21T16:06:52.860433Z",
     "start_time": "2022-09-21T16:06:52.854777Z"
    }
   },
   "outputs": [
    {
     "data": {
      "text/plain": [
       "(2, 4)"
      ]
     },
     "execution_count": 13,
     "metadata": {},
     "output_type": "execute_result"
    }
   ],
   "source": [
    "t = (20, 8)\n",
    "divmod(*t)\n",
    "\n",
    "quotient, remainder = divmod(*t)\n",
    "quotient, remainder"
   ]
  },
  {
   "cell_type": "code",
   "execution_count": 15,
   "id": "a9993e82",
   "metadata": {
    "ExecuteTime": {
     "end_time": "2022-09-21T16:07:48.655068Z",
     "start_time": "2022-09-21T16:07:48.649297Z"
    }
   },
   "outputs": [
    {
     "data": {
      "text/plain": [
       "(0, 1, [2, 3])"
      ]
     },
     "execution_count": 15,
     "metadata": {},
     "output_type": "execute_result"
    }
   ],
   "source": [
    "a, b, *rest = range(4)\n",
    "a, b, rest"
   ]
  },
  {
   "cell_type": "code",
   "execution_count": 16,
   "id": "738075ab",
   "metadata": {
    "ExecuteTime": {
     "end_time": "2022-09-21T16:08:07.760349Z",
     "start_time": "2022-09-21T16:08:07.755268Z"
    }
   },
   "outputs": [
    {
     "data": {
      "text/plain": [
       "(0, 1, 2, 3, 4)"
      ]
     },
     "execution_count": 16,
     "metadata": {},
     "output_type": "execute_result"
    }
   ],
   "source": [
    "a, *body, c, d, = range(5)\n",
    "a, *body, c, d"
   ]
  },
  {
   "cell_type": "markdown",
   "id": "1191af26",
   "metadata": {},
   "source": [
    "---"
   ]
  },
  {
   "cell_type": "code",
   "execution_count": 17,
   "id": "e7240757",
   "metadata": {
    "ExecuteTime": {
     "end_time": "2022-09-21T16:10:50.573479Z",
     "start_time": "2022-09-21T16:10:50.565907Z"
    }
   },
   "outputs": [
    {
     "data": {
      "text/plain": [
       "City(name='Seoul', country='KO', population=42.695, coordinates=(42.156112, 138.156178))"
      ]
     },
     "execution_count": 17,
     "metadata": {},
     "output_type": "execute_result"
    }
   ],
   "source": [
    "# 명명된 튜플\n",
    "from collections import namedtuple\n",
    "\n",
    "City = namedtuple('City', 'name country population coordinates')\n",
    "seoul = City('Seoul', 'KO', 42.695, (42.156112, 138.156178))\n",
    "seoul"
   ]
  },
  {
   "cell_type": "code",
   "execution_count": 18,
   "id": "e620a0bf",
   "metadata": {
    "ExecuteTime": {
     "end_time": "2022-09-21T16:10:57.837110Z",
     "start_time": "2022-09-21T16:10:57.832710Z"
    }
   },
   "outputs": [
    {
     "data": {
      "text/plain": [
       "42.695"
      ]
     },
     "execution_count": 18,
     "metadata": {},
     "output_type": "execute_result"
    }
   ],
   "source": [
    "seoul.population"
   ]
  },
  {
   "cell_type": "code",
   "execution_count": 19,
   "id": "76dcb1dc",
   "metadata": {
    "ExecuteTime": {
     "end_time": "2022-09-21T16:11:02.339076Z",
     "start_time": "2022-09-21T16:11:02.332744Z"
    }
   },
   "outputs": [
    {
     "data": {
      "text/plain": [
       "(42.156112, 138.156178)"
      ]
     },
     "execution_count": 19,
     "metadata": {},
     "output_type": "execute_result"
    }
   ],
   "source": [
    "seoul.coordinates"
   ]
  },
  {
   "cell_type": "code",
   "execution_count": 20,
   "id": "2a089a41",
   "metadata": {
    "ExecuteTime": {
     "end_time": "2022-09-21T16:11:09.875891Z",
     "start_time": "2022-09-21T16:11:09.871323Z"
    }
   },
   "outputs": [
    {
     "data": {
      "text/plain": [
       "'KO'"
      ]
     },
     "execution_count": 20,
     "metadata": {},
     "output_type": "execute_result"
    }
   ],
   "source": [
    "seoul[1]"
   ]
  },
  {
   "cell_type": "code",
   "execution_count": 29,
   "id": "9fcac88d",
   "metadata": {
    "ExecuteTime": {
     "end_time": "2022-09-21T16:12:57.288017Z",
     "start_time": "2022-09-21T16:12:57.285241Z"
    }
   },
   "outputs": [],
   "source": [
    "seoul = City._make(seoul)"
   ]
  },
  {
   "cell_type": "code",
   "execution_count": 30,
   "id": "b726faeb",
   "metadata": {
    "ExecuteTime": {
     "end_time": "2022-09-21T16:12:57.718198Z",
     "start_time": "2022-09-21T16:12:57.710968Z"
    }
   },
   "outputs": [
    {
     "data": {
      "text/plain": [
       "{'name': 'Seoul',\n",
       " 'country': 'KO',\n",
       " 'population': 42.695,\n",
       " 'coordinates': (42.156112, 138.156178)}"
      ]
     },
     "execution_count": 30,
     "metadata": {},
     "output_type": "execute_result"
    }
   ],
   "source": [
    "seoul._asdict()"
   ]
  },
  {
   "cell_type": "code",
   "execution_count": 31,
   "id": "cf9e604c",
   "metadata": {
    "ExecuteTime": {
     "end_time": "2022-09-21T16:13:24.176890Z",
     "start_time": "2022-09-21T16:13:24.172103Z"
    }
   },
   "outputs": [
    {
     "name": "stdout",
     "output_type": "stream",
     "text": [
      "name Seoul\n",
      "country KO\n",
      "population 42.695\n",
      "coordinates (42.156112, 138.156178)\n"
     ]
    }
   ],
   "source": [
    "for key, val in seoul._asdict().items():\n",
    "    print(key, val)"
   ]
  },
  {
   "cell_type": "markdown",
   "id": "ebf72354",
   "metadata": {},
   "source": [
    "---"
   ]
  },
  {
   "cell_type": "markdown",
   "id": "37b99e08",
   "metadata": {},
   "source": [
    "## 2.4 슬라이싱"
   ]
  },
  {
   "cell_type": "code",
   "execution_count": 32,
   "id": "8361a3a5",
   "metadata": {
    "ExecuteTime": {
     "end_time": "2022-09-21T16:19:31.560687Z",
     "start_time": "2022-09-21T16:19:31.555247Z"
    }
   },
   "outputs": [
    {
     "data": {
      "text/plain": [
       "[0, 1, 20, 35, 5, 6, 7, 8, 9]"
      ]
     },
     "execution_count": 32,
     "metadata": {},
     "output_type": "execute_result"
    }
   ],
   "source": [
    "l = list(range(10))\n",
    "l[2:5] = [20, 35]\n",
    "l"
   ]
  },
  {
   "cell_type": "code",
   "execution_count": 33,
   "id": "315a7f9b",
   "metadata": {
    "ExecuteTime": {
     "end_time": "2022-09-21T16:19:40.222683Z",
     "start_time": "2022-09-21T16:19:40.215945Z"
    }
   },
   "outputs": [
    {
     "data": {
      "text/plain": [
       "[0, 1, 20, 35, 5, 8, 9]"
      ]
     },
     "execution_count": 33,
     "metadata": {},
     "output_type": "execute_result"
    }
   ],
   "source": [
    "del l[5:7]\n",
    "l"
   ]
  },
  {
   "cell_type": "code",
   "execution_count": null,
   "id": "be6f6654",
   "metadata": {},
   "outputs": [],
   "source": []
  }
 ],
 "metadata": {
  "kernelspec": {
   "display_name": "Python 3 (ipykernel)",
   "language": "python",
   "name": "python3"
  },
  "language_info": {
   "codemirror_mode": {
    "name": "ipython",
    "version": 3
   },
   "file_extension": ".py",
   "mimetype": "text/x-python",
   "name": "python",
   "nbconvert_exporter": "python",
   "pygments_lexer": "ipython3",
   "version": "3.9.10"
  },
  "toc": {
   "base_numbering": 1,
   "nav_menu": {},
   "number_sections": false,
   "sideBar": true,
   "skip_h1_title": false,
   "title_cell": "Table of Contents",
   "title_sidebar": "Contents",
   "toc_cell": false,
   "toc_position": {},
   "toc_section_display": true,
   "toc_window_display": false
  }
 },
 "nbformat": 4,
 "nbformat_minor": 5
}
