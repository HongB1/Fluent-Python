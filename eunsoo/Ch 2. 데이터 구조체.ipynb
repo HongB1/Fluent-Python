{
 "cells": [
  {
   "cell_type": "markdown",
   "id": "8961a7d9",
   "metadata": {},
   "source": [
    "## 2.1 내장 시퀀스 개요\n",
    "파이썬 표준 라이브러리는 C로 구현된 다음과 같은 시퀀스형을 제공한다. \n",
    "- 컨테이너 시퀀스 : 서로 다른 자료형의 항목들을 담을 수 있는 ```list, tuple, collections, deque``` 형\n",
    "- 균일 시퀀스 : 단 하나의 자료형만 담을 수 있는 ```str, bytes, bytearray, memoryview, array.array``` 형"
   ]
  },
  {
   "cell_type": "markdown",
   "id": "39291b89",
   "metadata": {},
   "source": [
    "시퀀스형은 가변성에 따라 분류할 수도 있다.\n",
    "- 가변 시퀀스 : ```list, bytearray, array.array, collections, deque, memoryview``` 형\n",
    "- 불변 시퀀스 : ```tuple, str, bytes``` 형"
   ]
  },
  {
   "cell_type": "markdown",
   "id": "a7358bc2",
   "metadata": {},
   "source": [
    "### 지능형 리스트와 가독성"
   ]
  },
  {
   "cell_type": "code",
   "execution_count": 1,
   "id": "04cd730e",
   "metadata": {
    "ExecuteTime": {
     "end_time": "2022-09-21T15:39:42.953877Z",
     "start_time": "2022-09-21T15:39:42.937039Z"
    }
   },
   "outputs": [
    {
     "data": {
      "text/plain": [
       "[126, 33, 64, 35, 36, 37, 94]"
      ]
     },
     "execution_count": 1,
     "metadata": {},
     "output_type": "execute_result"
    }
   ],
   "source": [
    "symbols = '~!@#$%^'\n",
    "codes = []\n",
    "\n",
    "for symbol in symbols:\n",
    "    codes.append(ord(symbol))\n",
    "    \n",
    "codes"
   ]
  },
  {
   "cell_type": "code",
   "execution_count": 2,
   "id": "e5d18c20",
   "metadata": {
    "ExecuteTime": {
     "end_time": "2022-09-21T15:40:12.952626Z",
     "start_time": "2022-09-21T15:40:12.947576Z"
    }
   },
   "outputs": [
    {
     "data": {
      "text/plain": [
       "[126, 33, 64, 35, 36, 37, 94]"
      ]
     },
     "execution_count": 2,
     "metadata": {},
     "output_type": "execute_result"
    }
   ],
   "source": [
    "codes = [ord(symbol) for symbol in symbols]\n",
    "codes"
   ]
  },
  {
   "cell_type": "markdown",
   "id": "92c3988b",
   "metadata": {},
   "source": [
    "---"
   ]
  },
  {
   "cell_type": "code",
   "execution_count": 3,
   "id": "f577a0a1",
   "metadata": {
    "ExecuteTime": {
     "end_time": "2022-09-21T15:42:32.812533Z",
     "start_time": "2022-09-21T15:42:32.807508Z"
    }
   },
   "outputs": [
    {
     "data": {
      "text/plain": [
       "[126, 64, 94]"
      ]
     },
     "execution_count": 3,
     "metadata": {},
     "output_type": "execute_result"
    }
   ],
   "source": [
    "# map() / filter() 비교\n",
    "beyond_ascii = [ord(s) for s in symbols if ord(s) > 50]\n",
    "beyond_ascii"
   ]
  },
  {
   "cell_type": "code",
   "execution_count": 4,
   "id": "4af247ca",
   "metadata": {
    "ExecuteTime": {
     "end_time": "2022-09-21T15:42:57.832886Z",
     "start_time": "2022-09-21T15:42:57.827556Z"
    }
   },
   "outputs": [
    {
     "data": {
      "text/plain": [
       "[126, 64, 94]"
      ]
     },
     "execution_count": 4,
     "metadata": {},
     "output_type": "execute_result"
    }
   ],
   "source": [
    "beyond_ascii = list(filter(lambda c: c > 50, map(ord, symbols)))\n",
    "beyond_ascii"
   ]
  },
  {
   "cell_type": "code",
   "execution_count": 5,
   "id": "3d286f75",
   "metadata": {},
   "outputs": [
    {
     "name": "stdout",
     "output_type": "stream",
     "text": [
      "listcomp        : 0.018 0.009 0.009 0.009 0.007\n",
      "listcomp + func : 0.011 0.009 0.008 0.007 0.006\n",
      "filter + lambda : 0.005 0.005 0.005 0.005 0.005\n",
      "filter + func   : 0.005 0.005 0.005 0.005 0.005\n"
     ]
    }
   ],
   "source": [
    "import timeit\n",
    "\n",
    "TIMES = 10000\n",
    "\n",
    "SETUP = \"\"\"\n",
    "symbols = '$¢£¥€¤'\n",
    "def non_ascii(c):\n",
    "    return c > 127\n",
    "\"\"\"\n",
    "\n",
    "def clock(label, cmd):\n",
    "    res = timeit.repeat(cmd, setup=SETUP, number=TIMES)\n",
    "    print(label, *(f'{x:.3f}' for x in res))\n",
    "\n",
    "clock('listcomp        :', '[ord(s) for s in symbols if ord(s) > 127]')\n",
    "clock('listcomp + func :', '[ord(s) for s in symbols if non_ascii(ord(s))]')\n",
    "clock('filter + lambda :', 'list(filter(lambda c: c > 127, map(ord, symbols)))')\n",
    "clock('filter + func   :', 'list(filter(non_ascii, map(ord, symbols)))')"
   ]
  },
  {
   "cell_type": "markdown",
   "id": "3a344add",
   "metadata": {},
   "source": [
    "---"
   ]
  },
  {
   "cell_type": "code",
   "execution_count": 5,
   "id": "27b7f171",
   "metadata": {
    "ExecuteTime": {
     "end_time": "2022-09-21T15:46:58.775356Z",
     "start_time": "2022-09-21T15:46:58.765846Z"
    }
   },
   "outputs": [
    {
     "data": {
      "text/plain": [
       "[('black', 'S'),\n",
       " ('black', 'M'),\n",
       " ('black', 'L'),\n",
       " ('white', 'S'),\n",
       " ('white', 'M'),\n",
       " ('white', 'L')]"
      ]
     },
     "execution_count": 5,
     "metadata": {},
     "output_type": "execute_result"
    }
   ],
   "source": [
    "# 데카르트 곱\n",
    "colors = ['black', 'white']\n",
    "sizes = ['S', 'M', 'L']\n",
    "\n",
    "tshirts = [(color, size) for color in colors for size in sizes]\n",
    "tshirts"
   ]
  },
  {
   "cell_type": "markdown",
   "id": "175b79d6",
   "metadata": {},
   "source": [
    "---"
   ]
  },
  {
   "cell_type": "code",
   "execution_count": 6,
   "id": "72eb46bb",
   "metadata": {
    "ExecuteTime": {
     "end_time": "2022-09-21T15:55:51.651143Z",
     "start_time": "2022-09-21T15:55:51.645781Z"
    }
   },
   "outputs": [
    {
     "data": {
      "text/plain": [
       "(126, 33, 64, 35, 36, 37, 94)"
      ]
     },
     "execution_count": 6,
     "metadata": {},
     "output_type": "execute_result"
    }
   ],
   "source": [
    "# 제너레이터 표현식에서 튜플과 배열 초기화하기\n",
    "tuple(ord(symbol) for symbol in symbols)"
   ]
  },
  {
   "cell_type": "code",
   "execution_count": 7,
   "id": "ad14a12f",
   "metadata": {
    "ExecuteTime": {
     "end_time": "2022-09-21T15:56:12.061736Z",
     "start_time": "2022-09-21T15:56:12.054944Z"
    }
   },
   "outputs": [
    {
     "data": {
      "text/plain": [
       "array('I', [126, 33, 64, 35, 36, 37, 94])"
      ]
     },
     "execution_count": 7,
     "metadata": {},
     "output_type": "execute_result"
    }
   ],
   "source": [
    "import array\n",
    "\n",
    "array.array('I', (ord(symbol) for symbol in symbols))"
   ]
  },
  {
   "cell_type": "markdown",
   "id": "0f7f6ec6",
   "metadata": {},
   "source": [
    "---"
   ]
  },
  {
   "cell_type": "code",
   "execution_count": 8,
   "id": "a998f49c",
   "metadata": {
    "ExecuteTime": {
     "end_time": "2022-09-21T15:56:49.970411Z",
     "start_time": "2022-09-21T15:56:49.965869Z"
    }
   },
   "outputs": [
    {
     "name": "stdout",
     "output_type": "stream",
     "text": [
      "black S\n",
      "black M\n",
      "black L\n",
      "white S\n",
      "white M\n",
      "white L\n"
     ]
    }
   ],
   "source": [
    "for tshirt in ('%s %s' % (c, s) for c in colors for s in sizes):\n",
    "    print(tshirt)"
   ]
  },
  {
   "cell_type": "markdown",
   "id": "44a84f1d",
   "metadata": {},
   "source": [
    "---"
   ]
  },
  {
   "cell_type": "markdown",
   "id": "ee4f2635",
   "metadata": {},
   "source": [
    "## 2.3 튜플은 단순한 불변 리스트가 아니다\n",
    "튜플은 불변 리스트로 사용할 수도 있지만 필드명이 없는 레코드로 사용할 수도 있다. "
   ]
  },
  {
   "cell_type": "code",
   "execution_count": 10,
   "id": "c7ba3f09",
   "metadata": {
    "ExecuteTime": {
     "end_time": "2022-09-21T16:04:59.368922Z",
     "start_time": "2022-09-21T16:04:59.362402Z"
    }
   },
   "outputs": [
    {
     "name": "stdout",
     "output_type": "stream",
     "text": [
      "BRA/CE123135\n",
      "ESP/XDA208521\n",
      "USA/312141\n"
     ]
    }
   ],
   "source": [
    "# 레코드로 사용된 튜플\n",
    "lax_coordinates = (33.1234, -118.391241)\n",
    "city, year, pop, chg, area = ('Seoul', 2003, 32488, 0.66, 8015)\n",
    "\n",
    "traveler_ids = [('USA', '312141'), ('BRA', 'CE123135'), ('ESP', 'XDA208521')]\n",
    "\n",
    "for passport in sorted(traveler_ids):\n",
    "    print('%s/%s'% passport)"
   ]
  },
  {
   "cell_type": "code",
   "execution_count": 11,
   "id": "f7618c5d",
   "metadata": {
    "ExecuteTime": {
     "end_time": "2022-09-21T16:05:45.898123Z",
     "start_time": "2022-09-21T16:05:45.892975Z"
    }
   },
   "outputs": [
    {
     "data": {
      "text/plain": [
       "33.9425"
      ]
     },
     "execution_count": 11,
     "metadata": {},
     "output_type": "execute_result"
    }
   ],
   "source": [
    "# 튜플 언패킹\n",
    "lax_coordinates = (33.9425, -118.15615)\n",
    "latitude, longitude = lax_coordinates\n",
    "latitude"
   ]
  },
  {
   "cell_type": "code",
   "execution_count": 12,
   "id": "9f47c681",
   "metadata": {
    "ExecuteTime": {
     "end_time": "2022-09-21T16:05:51.320059Z",
     "start_time": "2022-09-21T16:05:51.315515Z"
    }
   },
   "outputs": [
    {
     "data": {
      "text/plain": [
       "-118.15615"
      ]
     },
     "execution_count": 12,
     "metadata": {},
     "output_type": "execute_result"
    }
   ],
   "source": [
    "longitude"
   ]
  },
  {
   "cell_type": "code",
   "execution_count": 13,
   "id": "cf412707",
   "metadata": {
    "ExecuteTime": {
     "end_time": "2022-09-21T16:06:52.860433Z",
     "start_time": "2022-09-21T16:06:52.854777Z"
    }
   },
   "outputs": [
    {
     "data": {
      "text/plain": [
       "(2, 4)"
      ]
     },
     "execution_count": 13,
     "metadata": {},
     "output_type": "execute_result"
    }
   ],
   "source": [
    "t = (20, 8)\n",
    "divmod(*t)\n",
    "\n",
    "quotient, remainder = divmod(*t)\n",
    "quotient, remainder"
   ]
  },
  {
   "cell_type": "code",
   "execution_count": 15,
   "id": "418241ab",
   "metadata": {
    "ExecuteTime": {
     "end_time": "2022-09-21T16:07:48.655068Z",
     "start_time": "2022-09-21T16:07:48.649297Z"
    }
   },
   "outputs": [
    {
     "data": {
      "text/plain": [
       "(0, 1, [2, 3])"
      ]
     },
     "execution_count": 15,
     "metadata": {},
     "output_type": "execute_result"
    }
   ],
   "source": [
    "a, b, *rest = range(4)\n",
    "a, b, rest"
   ]
  },
  {
   "cell_type": "code",
   "execution_count": 7,
   "id": "87403bd4",
   "metadata": {
    "ExecuteTime": {
     "end_time": "2022-09-21T16:08:07.760349Z",
     "start_time": "2022-09-21T16:08:07.755268Z"
    }
   },
   "outputs": [
    {
     "data": {
      "text/plain": [
       "(0, [1, 2], 3, 4)"
      ]
     },
     "execution_count": 7,
     "metadata": {},
     "output_type": "execute_result"
    }
   ],
   "source": [
    "a, *body, c, d, = range(5)\n",
    "a, body, c, d"
   ]
  },
  {
   "cell_type": "markdown",
   "id": "e6a1300a",
   "metadata": {},
   "source": [
    "---"
   ]
  },
  {
   "cell_type": "code",
   "execution_count": 17,
   "id": "cce2866c",
   "metadata": {
    "ExecuteTime": {
     "end_time": "2022-09-21T16:10:50.573479Z",
     "start_time": "2022-09-21T16:10:50.565907Z"
    }
   },
   "outputs": [
    {
     "data": {
      "text/plain": [
       "City(name='Seoul', country='KO', population=42.695, coordinates=(42.156112, 138.156178))"
      ]
     },
     "execution_count": 17,
     "metadata": {},
     "output_type": "execute_result"
    }
   ],
   "source": [
    "# 명명된 튜플\n",
    "from collections import namedtuple\n",
    "\n",
    "City = namedtuple('City', 'name country population coordinates')\n",
    "seoul = City('Seoul', 'KO', 42.695, (42.156112, 138.156178))\n",
    "seoul"
   ]
  },
  {
   "cell_type": "code",
   "execution_count": 18,
   "id": "5f990a85",
   "metadata": {
    "ExecuteTime": {
     "end_time": "2022-09-21T16:10:57.837110Z",
     "start_time": "2022-09-21T16:10:57.832710Z"
    }
   },
   "outputs": [
    {
     "data": {
      "text/plain": [
       "42.695"
      ]
     },
     "execution_count": 18,
     "metadata": {},
     "output_type": "execute_result"
    }
   ],
   "source": [
    "seoul.population"
   ]
  },
  {
   "cell_type": "code",
   "execution_count": 19,
   "id": "2f608f24",
   "metadata": {
    "ExecuteTime": {
     "end_time": "2022-09-21T16:11:02.339076Z",
     "start_time": "2022-09-21T16:11:02.332744Z"
    }
   },
   "outputs": [
    {
     "data": {
      "text/plain": [
       "(42.156112, 138.156178)"
      ]
     },
     "execution_count": 19,
     "metadata": {},
     "output_type": "execute_result"
    }
   ],
   "source": [
    "seoul.coordinates"
   ]
  },
  {
   "cell_type": "code",
   "execution_count": 20,
   "id": "1a3a4ea1",
   "metadata": {
    "ExecuteTime": {
     "end_time": "2022-09-21T16:11:09.875891Z",
     "start_time": "2022-09-21T16:11:09.871323Z"
    }
   },
   "outputs": [
    {
     "data": {
      "text/plain": [
       "'KO'"
      ]
     },
     "execution_count": 20,
     "metadata": {},
     "output_type": "execute_result"
    }
   ],
   "source": [
    "seoul[1]"
   ]
  },
  {
   "cell_type": "code",
   "execution_count": 29,
   "id": "6154df57",
   "metadata": {
    "ExecuteTime": {
     "end_time": "2022-09-21T16:12:57.288017Z",
     "start_time": "2022-09-21T16:12:57.285241Z"
    }
   },
   "outputs": [],
   "source": [
    "seoul = City._make(seoul)"
   ]
  },
  {
   "cell_type": "code",
   "execution_count": 30,
   "id": "181158e7",
   "metadata": {
    "ExecuteTime": {
     "end_time": "2022-09-21T16:12:57.718198Z",
     "start_time": "2022-09-21T16:12:57.710968Z"
    }
   },
   "outputs": [
    {
     "data": {
      "text/plain": [
       "{'name': 'Seoul',\n",
       " 'country': 'KO',\n",
       " 'population': 42.695,\n",
       " 'coordinates': (42.156112, 138.156178)}"
      ]
     },
     "execution_count": 30,
     "metadata": {},
     "output_type": "execute_result"
    }
   ],
   "source": [
    "seoul._asdict()"
   ]
  },
  {
   "cell_type": "code",
   "execution_count": 31,
   "id": "9eb499a6",
   "metadata": {
    "ExecuteTime": {
     "end_time": "2022-09-21T16:13:24.176890Z",
     "start_time": "2022-09-21T16:13:24.172103Z"
    }
   },
   "outputs": [
    {
     "name": "stdout",
     "output_type": "stream",
     "text": [
      "name Seoul\n",
      "country KO\n",
      "population 42.695\n",
      "coordinates (42.156112, 138.156178)\n"
     ]
    }
   ],
   "source": [
    "for key, val in seoul._asdict().items():\n",
    "    print(key, val)"
   ]
  },
  {
   "cell_type": "markdown",
   "id": "34c85731",
   "metadata": {},
   "source": [
    "---"
   ]
  },
  {
   "cell_type": "markdown",
   "id": "4c8614be",
   "metadata": {},
   "source": [
    "## 2.4 슬라이싱"
   ]
  },
  {
   "cell_type": "code",
   "execution_count": 32,
   "id": "0c43b3fc",
   "metadata": {
    "ExecuteTime": {
     "end_time": "2022-09-21T16:19:31.560687Z",
     "start_time": "2022-09-21T16:19:31.555247Z"
    }
   },
   "outputs": [
    {
     "data": {
      "text/plain": [
       "[0, 1, 20, 35, 5, 6, 7, 8, 9]"
      ]
     },
     "execution_count": 32,
     "metadata": {},
     "output_type": "execute_result"
    }
   ],
   "source": [
    "l = list(range(10))\n",
    "l[2:5] = [20, 35]\n",
    "l"
   ]
  },
  {
   "cell_type": "code",
   "execution_count": 33,
   "id": "ea1684d5",
   "metadata": {
    "ExecuteTime": {
     "end_time": "2022-09-21T16:19:40.222683Z",
     "start_time": "2022-09-21T16:19:40.215945Z"
    }
   },
   "outputs": [
    {
     "data": {
      "text/plain": [
       "[0, 1, 20, 35, 5, 8, 9]"
      ]
     },
     "execution_count": 33,
     "metadata": {},
     "output_type": "execute_result"
    }
   ],
   "source": [
    "del l[5:7]\n",
    "l"
   ]
  },
  {
   "cell_type": "markdown",
   "id": "46bfaab1",
   "metadata": {},
   "source": [
    "---"
   ]
  },
  {
   "cell_type": "markdown",
   "id": "77393f31",
   "metadata": {},
   "source": [
    "## 2.5 시퀀스에 덧셈과 곱셈 연산자 사용하기"
   ]
  },
  {
   "cell_type": "code",
   "execution_count": 8,
   "id": "92ccd3aa",
   "metadata": {},
   "outputs": [
    {
     "data": {
      "text/plain": [
       "[1, 2, 3, 1, 2, 3, 1, 2, 3, 1, 2, 3, 1, 2, 3]"
      ]
     },
     "execution_count": 8,
     "metadata": {},
     "output_type": "execute_result"
    }
   ],
   "source": [
    "l = [1, 2, 3]\n",
    "l * 5"
   ]
  },
  {
   "cell_type": "code",
   "execution_count": 9,
   "id": "3c9ffe20",
   "metadata": {},
   "outputs": [
    {
     "data": {
      "text/plain": [
       "'abcdabcdabcdabcdabcd'"
      ]
     },
     "execution_count": 9,
     "metadata": {},
     "output_type": "execute_result"
    }
   ],
   "source": [
    "5 * 'abcd'"
   ]
  },
  {
   "cell_type": "code",
   "execution_count": 11,
   "id": "782082b6",
   "metadata": {},
   "outputs": [
    {
     "data": {
      "text/plain": [
       "[['_', '_', '_'], ['_', '_', '_'], ['_', '_', '_']]"
      ]
     },
     "execution_count": 11,
     "metadata": {},
     "output_type": "execute_result"
    }
   ],
   "source": [
    "board = [['_'] * 3 for i in range(3)]\n",
    "board"
   ]
  },
  {
   "cell_type": "markdown",
   "id": "cf45b821",
   "metadata": {},
   "source": [
    "---"
   ]
  },
  {
   "cell_type": "markdown",
   "id": "3c521a57",
   "metadata": {},
   "source": [
    "## 2.6 시퀀스의 복합 할당"
   ]
  },
  {
   "cell_type": "code",
   "execution_count": 14,
   "id": "b1ec82aa",
   "metadata": {},
   "outputs": [
    {
     "data": {
      "text/plain": [
       "4425554112"
      ]
     },
     "execution_count": 14,
     "metadata": {},
     "output_type": "execute_result"
    }
   ],
   "source": [
    "l = [1, 2, 3]\n",
    "id(l)"
   ]
  },
  {
   "cell_type": "code",
   "execution_count": 15,
   "id": "15ddf925",
   "metadata": {},
   "outputs": [
    {
     "data": {
      "text/plain": [
       "[1, 2, 3, 1, 2, 3]"
      ]
     },
     "execution_count": 15,
     "metadata": {},
     "output_type": "execute_result"
    }
   ],
   "source": [
    "l *= 2\n",
    "l"
   ]
  },
  {
   "cell_type": "code",
   "execution_count": 16,
   "id": "454a9d87",
   "metadata": {},
   "outputs": [
    {
     "data": {
      "text/plain": [
       "4425554112"
      ]
     },
     "execution_count": 16,
     "metadata": {},
     "output_type": "execute_result"
    }
   ],
   "source": [
    "id(l)"
   ]
  },
  {
   "cell_type": "code",
   "execution_count": 17,
   "id": "0e8de2f1",
   "metadata": {},
   "outputs": [
    {
     "data": {
      "text/plain": [
       "4569994624"
      ]
     },
     "execution_count": 17,
     "metadata": {},
     "output_type": "execute_result"
    }
   ],
   "source": [
    "t = (1, 2, 3)\n",
    "id(t)"
   ]
  },
  {
   "cell_type": "code",
   "execution_count": 18,
   "id": "65008520",
   "metadata": {},
   "outputs": [
    {
     "data": {
      "text/plain": [
       "4571573984"
      ]
     },
     "execution_count": 18,
     "metadata": {},
     "output_type": "execute_result"
    }
   ],
   "source": [
    "t *= 2\n",
    "id(t)"
   ]
  },
  {
   "cell_type": "code",
   "execution_count": 19,
   "id": "aab1ba41",
   "metadata": {},
   "outputs": [
    {
     "ename": "TypeError",
     "evalue": "'tuple' object does not support item assignment",
     "output_type": "error",
     "traceback": [
      "\u001b[0;31m---------------------------------------------------------------------------\u001b[0m",
      "\u001b[0;31mTypeError\u001b[0m                                 Traceback (most recent call last)",
      "Input \u001b[0;32mIn [19]\u001b[0m, in \u001b[0;36m<cell line: 2>\u001b[0;34m()\u001b[0m\n\u001b[1;32m      1\u001b[0m t \u001b[38;5;241m=\u001b[39m (\u001b[38;5;241m1\u001b[39m, \u001b[38;5;241m2\u001b[39m, [\u001b[38;5;241m30\u001b[39m, \u001b[38;5;241m40\u001b[39m])\n\u001b[0;32m----> 2\u001b[0m t[\u001b[38;5;241m2\u001b[39m] \u001b[38;5;241m+\u001b[39m\u001b[38;5;241m=\u001b[39m [\u001b[38;5;241m50\u001b[39m, \u001b[38;5;241m60\u001b[39m]\n",
      "\u001b[0;31mTypeError\u001b[0m: 'tuple' object does not support item assignment"
     ]
    }
   ],
   "source": [
    "t = (1, 2, [30, 40])\n",
    "t[2] += [50, 60]"
   ]
  },
  {
   "cell_type": "code",
   "execution_count": 20,
   "id": "c3ba7afa",
   "metadata": {},
   "outputs": [
    {
     "data": {
      "text/plain": [
       "(1, 2, [30, 40, 50, 60])"
      ]
     },
     "execution_count": 20,
     "metadata": {},
     "output_type": "execute_result"
    }
   ],
   "source": [
    "t"
   ]
  },
  {
   "cell_type": "code",
   "execution_count": 21,
   "id": "02abc9c2",
   "metadata": {},
   "outputs": [
    {
     "name": "stdout",
     "output_type": "stream",
     "text": [
      "  1           0 LOAD_NAME                0 (s)\n",
      "              2 LOAD_NAME                1 (a)\n",
      "              4 DUP_TOP_TWO\n",
      "              6 BINARY_SUBSCR\n",
      "              8 LOAD_NAME                2 (b)\n",
      "             10 INPLACE_ADD\n",
      "             12 ROT_THREE\n",
      "             14 STORE_SUBSCR\n",
      "             16 LOAD_CONST               0 (None)\n",
      "             18 RETURN_VALUE\n"
     ]
    }
   ],
   "source": [
    "import dis\n",
    "\n",
    "dis.dis('s[a] += b')"
   ]
  },
  {
   "cell_type": "markdown",
   "id": "41963ca6",
   "metadata": {},
   "source": [
    "---"
   ]
  },
  {
   "cell_type": "markdown",
   "id": "753b3bc5",
   "metadata": {},
   "source": [
    "## 2.7 list.sort()와 sorted() 내장 함수"
   ]
  },
  {
   "cell_type": "code",
   "execution_count": 22,
   "id": "f033bd1d",
   "metadata": {},
   "outputs": [
    {
     "data": {
      "text/plain": [
       "['apple', 'banana', 'grape', 'raspberry']"
      ]
     },
     "execution_count": 22,
     "metadata": {},
     "output_type": "execute_result"
    }
   ],
   "source": [
    "fruits = ['grape', 'raspberry', 'apple', 'banana']\n",
    "sorted(fruits)"
   ]
  },
  {
   "cell_type": "code",
   "execution_count": 23,
   "id": "3e96b83e",
   "metadata": {},
   "outputs": [
    {
     "data": {
      "text/plain": [
       "['grape', 'raspberry', 'apple', 'banana']"
      ]
     },
     "execution_count": 23,
     "metadata": {},
     "output_type": "execute_result"
    }
   ],
   "source": [
    "fruits"
   ]
  },
  {
   "cell_type": "code",
   "execution_count": 24,
   "id": "fc53c0f7",
   "metadata": {},
   "outputs": [
    {
     "data": {
      "text/plain": [
       "['raspberry', 'grape', 'banana', 'apple']"
      ]
     },
     "execution_count": 24,
     "metadata": {},
     "output_type": "execute_result"
    }
   ],
   "source": [
    "sorted(fruits, reverse=True)"
   ]
  },
  {
   "cell_type": "code",
   "execution_count": 25,
   "id": "a2caf364",
   "metadata": {},
   "outputs": [
    {
     "data": {
      "text/plain": [
       "['grape', 'apple', 'banana', 'raspberry']"
      ]
     },
     "execution_count": 25,
     "metadata": {},
     "output_type": "execute_result"
    }
   ],
   "source": [
    "sorted(fruits, key=len)"
   ]
  },
  {
   "cell_type": "code",
   "execution_count": 32,
   "id": "f1eadc0e",
   "metadata": {},
   "outputs": [
    {
     "data": {
      "text/plain": [
       "['apple', 'banana', 'grape', 'raspberry']"
      ]
     },
     "execution_count": 32,
     "metadata": {},
     "output_type": "execute_result"
    }
   ],
   "source": [
    "sorted(fruits, key=str.lower)"
   ]
  },
  {
   "cell_type": "code",
   "execution_count": 26,
   "id": "dd232222",
   "metadata": {},
   "outputs": [],
   "source": [
    "fruits.sort()"
   ]
  },
  {
   "cell_type": "code",
   "execution_count": 27,
   "id": "5cc212c0",
   "metadata": {},
   "outputs": [
    {
     "data": {
      "text/plain": [
       "['apple', 'banana', 'grape', 'raspberry']"
      ]
     },
     "execution_count": 27,
     "metadata": {},
     "output_type": "execute_result"
    }
   ],
   "source": [
    "fruits"
   ]
  },
  {
   "cell_type": "markdown",
   "id": "7e0fbebe",
   "metadata": {},
   "source": [
    "---"
   ]
  },
  {
   "cell_type": "markdown",
   "id": "06c3af3b",
   "metadata": {},
   "source": [
    "## 2.8 정렬된 시퀀스를 bisect로 관리하기"
   ]
  },
  {
   "cell_type": "code",
   "execution_count": 36,
   "id": "5aa470ee",
   "metadata": {},
   "outputs": [
    {
     "name": "stdout",
     "output_type": "stream",
     "text": [
      "DEMO: bisect_right\n",
      "haystack ->  1  4  5  6  8 12 15 20 21 23 23 26 29 30\n",
      "31 @ 14      |  |  |  |  |  |  |  |  |  |  |  |  |  |31\n",
      "30 @ 14      |  |  |  |  |  |  |  |  |  |  |  |  |  |30\n",
      "29 @ 13      |  |  |  |  |  |  |  |  |  |  |  |  |29\n",
      "23 @ 11      |  |  |  |  |  |  |  |  |  |  |23\n",
      "22 @  9      |  |  |  |  |  |  |  |  |22\n",
      "10 @  5      |  |  |  |  |10\n",
      " 8 @  5      |  |  |  |  |8 \n",
      " 5 @  3      |  |  |5 \n",
      " 2 @  1      |2 \n",
      " 1 @  1      |1 \n",
      " 0 @  0    0 \n"
     ]
    }
   ],
   "source": [
    "import bisect\n",
    "import sys\n",
    "\n",
    "HAYSTACK = [1, 4, 5, 6, 8, 12, 15, 20, 21, 23, 23, 26, 29, 30]\n",
    "NEEDLES = [0, 1, 2, 5, 8, 10, 22, 23, 29, 30, 31]\n",
    "\n",
    "ROW_FMT = '{0:2d} @ {1:2d}    {2}{0:<2d}'\n",
    "\n",
    "def demo(bisect_fn):\n",
    "    for needle in reversed(NEEDLES):\n",
    "        position = bisect_fn(HAYSTACK, needle)  # <1>\n",
    "        offset = position * '  |'  # <2>\n",
    "        print(ROW_FMT.format(needle, position, offset))  # <3>\n",
    "\n",
    "if __name__ == '__main__':\n",
    "\n",
    "    if sys.argv[-1] == 'left':    # <4>\n",
    "        bisect_fn = bisect.bisect_left\n",
    "    else:\n",
    "        bisect_fn = bisect.bisect\n",
    "\n",
    "    print('DEMO:', bisect_fn.__name__)  # <5>\n",
    "    print('haystack ->', ' '.join(f'{n:2}' for n in HAYSTACK))\n",
    "    demo(bisect_fn)"
   ]
  },
  {
   "cell_type": "code",
   "execution_count": 37,
   "id": "a4603414",
   "metadata": {},
   "outputs": [
    {
     "name": "stdout",
     "output_type": "stream",
     "text": [
      "10 -> [10]\n",
      " 0 -> [0, 10]\n",
      " 6 -> [0, 6, 10]\n",
      " 8 -> [0, 6, 8, 10]\n",
      " 7 -> [0, 6, 7, 8, 10]\n",
      " 2 -> [0, 2, 6, 7, 8, 10]\n",
      "10 -> [0, 2, 6, 7, 8, 10, 10]\n"
     ]
    }
   ],
   "source": [
    "import bisect\n",
    "import random\n",
    "\n",
    "SIZE = 7\n",
    "\n",
    "random.seed(1729)\n",
    "\n",
    "my_list = []\n",
    "for i in range(SIZE):\n",
    "    new_item = random.randrange(SIZE * 2)\n",
    "    bisect.insort(my_list, new_item)\n",
    "    print(f'{new_item:2d} -> {my_list}')"
   ]
  },
  {
   "cell_type": "markdown",
   "id": "9b76ad18",
   "metadata": {},
   "source": [
    "---"
   ]
  },
  {
   "cell_type": "markdown",
   "id": "cad159c7",
   "metadata": {},
   "source": [
    "## 2.9 리스트가 답이 아닐 때"
   ]
  },
  {
   "cell_type": "code",
   "execution_count": 38,
   "id": "0460d80d",
   "metadata": {},
   "outputs": [
    {
     "data": {
      "text/plain": [
       "0.5963321947530882"
      ]
     },
     "execution_count": 38,
     "metadata": {},
     "output_type": "execute_result"
    }
   ],
   "source": [
    "from array import array\n",
    "from random import random, seed\n",
    "\n",
    "floats = array('d', (random() for i in range(10 ** 7)))\n",
    "floats[-1]"
   ]
  },
  {
   "cell_type": "code",
   "execution_count": 39,
   "id": "3cbb4c33",
   "metadata": {},
   "outputs": [
    {
     "data": {
      "text/plain": [
       "5"
      ]
     },
     "execution_count": 39,
     "metadata": {},
     "output_type": "execute_result"
    }
   ],
   "source": [
    "import array\n",
    "numbers = array.array('h', [-2, -1, 0, 1, 2])\n",
    "memv = memoryview(numbers)\n",
    "len(memv)"
   ]
  },
  {
   "cell_type": "code",
   "execution_count": 40,
   "id": "3796bf44",
   "metadata": {},
   "outputs": [
    {
     "data": {
      "text/plain": [
       "-2"
      ]
     },
     "execution_count": 40,
     "metadata": {},
     "output_type": "execute_result"
    }
   ],
   "source": [
    "memv[0]"
   ]
  },
  {
   "cell_type": "code",
   "execution_count": 41,
   "id": "e2eef3f3",
   "metadata": {},
   "outputs": [
    {
     "data": {
      "text/plain": [
       "[254, 255, 255, 255, 0, 0, 1, 0, 2, 0]"
      ]
     },
     "execution_count": 41,
     "metadata": {},
     "output_type": "execute_result"
    }
   ],
   "source": [
    "memv_oct = memv.cast('B')\n",
    "memv_oct.tolist()"
   ]
  },
  {
   "cell_type": "code",
   "execution_count": 42,
   "id": "75fd17d8",
   "metadata": {},
   "outputs": [
    {
     "data": {
      "text/plain": [
       "array('h', [-2, -1, 1024, 1, 2])"
      ]
     },
     "execution_count": 42,
     "metadata": {},
     "output_type": "execute_result"
    }
   ],
   "source": [
    "memv_oct[5] = 4\n",
    "numbers"
   ]
  },
  {
   "cell_type": "code",
   "execution_count": 43,
   "id": "f9f9aad9",
   "metadata": {},
   "outputs": [
    {
     "data": {
      "text/plain": [
       "deque([0, 1, 2, 3, 4, 5, 6, 7, 8, 9])"
      ]
     },
     "execution_count": 43,
     "metadata": {},
     "output_type": "execute_result"
    }
   ],
   "source": [
    "# 덱\n",
    "from collections import deque\n",
    "dq = deque(range(10), maxlen=10)\n",
    "dq"
   ]
  },
  {
   "cell_type": "code",
   "execution_count": 44,
   "id": "a29a4e9c",
   "metadata": {},
   "outputs": [
    {
     "data": {
      "text/plain": [
       "deque([7, 8, 9, 0, 1, 2, 3, 4, 5, 6])"
      ]
     },
     "execution_count": 44,
     "metadata": {},
     "output_type": "execute_result"
    }
   ],
   "source": [
    "dq.rotate(3)\n",
    "dq"
   ]
  },
  {
   "cell_type": "code",
   "execution_count": 45,
   "id": "cc8c6063",
   "metadata": {},
   "outputs": [
    {
     "data": {
      "text/plain": [
       "deque([1, 2, 3, 4, 5, 6, 7, 8, 9, 0])"
      ]
     },
     "execution_count": 45,
     "metadata": {},
     "output_type": "execute_result"
    }
   ],
   "source": [
    "dq.rotate(-4)\n",
    "dq"
   ]
  },
  {
   "cell_type": "code",
   "execution_count": 46,
   "id": "0d2041f0",
   "metadata": {},
   "outputs": [
    {
     "data": {
      "text/plain": [
       "deque([-1, 1, 2, 3, 4, 5, 6, 7, 8, 9])"
      ]
     },
     "execution_count": 46,
     "metadata": {},
     "output_type": "execute_result"
    }
   ],
   "source": [
    "dq.appendleft(-1)\n",
    "dq"
   ]
  },
  {
   "cell_type": "code",
   "execution_count": 47,
   "id": "ea3e3d0f",
   "metadata": {},
   "outputs": [
    {
     "data": {
      "text/plain": [
       "deque([3, 4, 5, 6, 7, 8, 9, 11, 22, 33])"
      ]
     },
     "execution_count": 47,
     "metadata": {},
     "output_type": "execute_result"
    }
   ],
   "source": [
    "dq.extend([11, 22, 33])\n",
    "dq"
   ]
  },
  {
   "cell_type": "code",
   "execution_count": 48,
   "id": "32e6d087",
   "metadata": {},
   "outputs": [
    {
     "data": {
      "text/plain": [
       "deque([40, 30, 20, 10, 3, 4, 5, 6, 7, 8])"
      ]
     },
     "execution_count": 48,
     "metadata": {},
     "output_type": "execute_result"
    }
   ],
   "source": [
    "dq.extendleft([10, 20, 30, 40])\n",
    "dq"
   ]
  },
  {
   "cell_type": "code",
   "execution_count": null,
   "id": "7b37146f",
   "metadata": {},
   "outputs": [],
   "source": []
  }
 ],
 "metadata": {
  "kernelspec": {
   "display_name": "Python 3.9.6 64-bit",
   "language": "python",
   "name": "python3"
  },
  "language_info": {
   "codemirror_mode": {
    "name": "ipython",
    "version": 3
   },
   "file_extension": ".py",
   "mimetype": "text/x-python",
   "name": "python",
   "nbconvert_exporter": "python",
   "pygments_lexer": "ipython3",
   "version": "3.9.6"
  },
  "toc": {
   "base_numbering": 1,
   "nav_menu": {},
   "number_sections": false,
   "sideBar": true,
   "skip_h1_title": false,
   "title_cell": "Table of Contents",
   "title_sidebar": "Contents",
   "toc_cell": false,
   "toc_position": {},
   "toc_section_display": true,
   "toc_window_display": false
  },
  "vscode": {
   "interpreter": {
    "hash": "31f2aee4e71d21fbe5cf8b01ff0e069b9275f58929596ceb00d14d90e3e16cd6"
   }
  }
 },
 "nbformat": 4,
 "nbformat_minor": 5
}
