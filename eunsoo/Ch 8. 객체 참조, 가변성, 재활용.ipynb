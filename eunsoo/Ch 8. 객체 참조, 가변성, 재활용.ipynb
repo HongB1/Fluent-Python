{
 "cells": [
  {
   "cell_type": "markdown",
   "id": "20722bbf",
   "metadata": {},
   "source": [
    "## 8.1 변수는 상자가 아니다."
   ]
  },
  {
   "cell_type": "code",
   "execution_count": null,
   "id": "29ce7fd3",
   "metadata": {
    "ExecuteTime": {
     "end_time": "2022-11-08T13:45:18.220285Z",
     "start_time": "2022-11-08T13:45:18.203206Z"
    }
   },
   "outputs": [],
   "source": [
    "# 동일한 리스트를 참조하는 변수 a와 b\n",
    "a = [1, 2, 3]\n",
    "b = a \n",
    "a.append(4)\n",
    "b"
   ]
  },
  {
   "cell_type": "code",
   "execution_count": 1,
   "id": "db16ac83",
   "metadata": {
    "ExecuteTime": {
     "end_time": "2022-11-08T13:50:04.929061Z",
     "start_time": "2022-11-08T13:50:04.925570Z"
    }
   },
   "outputs": [],
   "source": [
    "class Gizmo:\n",
    "    def __init__(self):\n",
    "        print(f\"Gizmo id: {id(self)}\")"
   ]
  },
  {
   "cell_type": "code",
   "execution_count": 2,
   "id": "20aa3888",
   "metadata": {
    "ExecuteTime": {
     "end_time": "2022-11-08T13:50:05.414437Z",
     "start_time": "2022-11-08T13:50:05.408689Z"
    }
   },
   "outputs": [
    {
     "name": "stdout",
     "output_type": "stream",
     "text": [
      "Gizmo id: 4361757936\n"
     ]
    }
   ],
   "source": [
    "x = Gizmo()"
   ]
  },
  {
   "cell_type": "code",
   "execution_count": 3,
   "id": "f2ed5ff8",
   "metadata": {
    "ExecuteTime": {
     "end_time": "2022-11-08T13:50:05.945426Z",
     "start_time": "2022-11-08T13:50:05.675473Z"
    }
   },
   "outputs": [
    {
     "name": "stdout",
     "output_type": "stream",
     "text": [
      "Gizmo id: 4361757840\n"
     ]
    },
    {
     "ename": "TypeError",
     "evalue": "unsupported operand type(s) for *: 'Gizmo' and 'int'",
     "output_type": "error",
     "traceback": [
      "\u001b[0;31m---------------------------------------------------------------------------\u001b[0m",
      "\u001b[0;31mTypeError\u001b[0m                                 Traceback (most recent call last)",
      "Cell \u001b[0;32mIn [3], line 1\u001b[0m\n\u001b[0;32m----> 1\u001b[0m y \u001b[38;5;241m=\u001b[39m \u001b[43mGizmo\u001b[49m\u001b[43m(\u001b[49m\u001b[43m)\u001b[49m\u001b[43m \u001b[49m\u001b[38;5;241;43m*\u001b[39;49m\u001b[43m \u001b[49m\u001b[38;5;241;43m10\u001b[39;49m\n",
      "\u001b[0;31mTypeError\u001b[0m: unsupported operand type(s) for *: 'Gizmo' and 'int'"
     ]
    }
   ],
   "source": [
    "y = Gizmo() * 10 # 객체에 숫자를 곱하면 예외가 발생, 그리고 두 번째 객체 생성"
   ]
  },
  {
   "cell_type": "code",
   "execution_count": 4,
   "id": "6d7c8dc2",
   "metadata": {
    "ExecuteTime": {
     "end_time": "2022-11-08T13:50:06.051385Z",
     "start_time": "2022-11-08T13:50:06.043958Z"
    }
   },
   "outputs": [
    {
     "data": {
      "text/plain": [
       "['Gizmo',\n",
       " 'In',\n",
       " 'Out',\n",
       " '_',\n",
       " '__',\n",
       " '___',\n",
       " '__builtin__',\n",
       " '__builtins__',\n",
       " '__doc__',\n",
       " '__loader__',\n",
       " '__name__',\n",
       " '__package__',\n",
       " '__spec__',\n",
       " '_dh',\n",
       " '_i',\n",
       " '_i1',\n",
       " '_i2',\n",
       " '_i3',\n",
       " '_i4',\n",
       " '_ih',\n",
       " '_ii',\n",
       " '_iii',\n",
       " '_oh',\n",
       " 'autopep8',\n",
       " 'exit',\n",
       " 'get_ipython',\n",
       " 'json',\n",
       " 'quit',\n",
       " 'x']"
      ]
     },
     "execution_count": 4,
     "metadata": {},
     "output_type": "execute_result"
    }
   ],
   "source": [
    "dir()"
   ]
  },
  {
   "cell_type": "markdown",
   "id": "ac80fd88",
   "metadata": {},
   "source": [
    "## 8.2 정체정, 동질성, 별명"
   ]
  },
  {
   "cell_type": "code",
   "execution_count": 12,
   "id": "ef57f230",
   "metadata": {
    "ExecuteTime": {
     "end_time": "2022-11-08T13:53:52.356834Z",
     "start_time": "2022-11-08T13:53:52.351757Z"
    }
   },
   "outputs": [
    {
     "data": {
      "text/plain": [
       "True"
      ]
     },
     "execution_count": 12,
     "metadata": {},
     "output_type": "execute_result"
    }
   ],
   "source": [
    "charles = {'name' : 'Charles L. Dodgson', 'born' : 1832}\n",
    "lewis = charles\n",
    "lewis is charles"
   ]
  },
  {
   "cell_type": "code",
   "execution_count": 13,
   "id": "d7c1b679",
   "metadata": {
    "ExecuteTime": {
     "end_time": "2022-11-08T13:53:52.795104Z",
     "start_time": "2022-11-08T13:53:52.789694Z"
    }
   },
   "outputs": [
    {
     "data": {
      "text/plain": [
       "(4379313536, 4379313536)"
      ]
     },
     "execution_count": 13,
     "metadata": {},
     "output_type": "execute_result"
    }
   ],
   "source": [
    "id(charles), id(lewis)"
   ]
  },
  {
   "cell_type": "code",
   "execution_count": 14,
   "id": "921edce1",
   "metadata": {
    "ExecuteTime": {
     "end_time": "2022-11-08T13:53:52.983178Z",
     "start_time": "2022-11-08T13:53:52.978561Z"
    }
   },
   "outputs": [],
   "source": [
    "lewis['balance'] = 950"
   ]
  },
  {
   "cell_type": "code",
   "execution_count": 15,
   "id": "02eef832",
   "metadata": {
    "ExecuteTime": {
     "end_time": "2022-11-08T13:53:53.198876Z",
     "start_time": "2022-11-08T13:53:53.194372Z"
    }
   },
   "outputs": [
    {
     "data": {
      "text/plain": [
       "{'name': 'Charles L. Dodgson', 'born': 1832, 'balance': 950}"
      ]
     },
     "execution_count": 15,
     "metadata": {},
     "output_type": "execute_result"
    }
   ],
   "source": [
    "charles"
   ]
  },
  {
   "cell_type": "code",
   "execution_count": 18,
   "id": "4edeada8",
   "metadata": {
    "ExecuteTime": {
     "end_time": "2022-11-08T13:54:00.613715Z",
     "start_time": "2022-11-08T13:54:00.607101Z"
    }
   },
   "outputs": [
    {
     "data": {
      "text/plain": [
       "True"
      ]
     },
     "execution_count": 18,
     "metadata": {},
     "output_type": "execute_result"
    }
   ],
   "source": [
    "alex = {\n",
    "    'name': 'Charles L. Dodgson',\n",
    "    'born': 1832,\n",
    "    'balance': 950\n",
    "}\n",
    "alex == charles"
   ]
  },
  {
   "cell_type": "code",
   "execution_count": 19,
   "id": "4c61d2e4",
   "metadata": {
    "ExecuteTime": {
     "end_time": "2022-11-08T13:54:01.011570Z",
     "start_time": "2022-11-08T13:54:01.003169Z"
    }
   },
   "outputs": [
    {
     "data": {
      "text/plain": [
       "True"
      ]
     },
     "execution_count": 19,
     "metadata": {},
     "output_type": "execute_result"
    }
   ],
   "source": [
    "alex is not charles"
   ]
  },
  {
   "cell_type": "markdown",
   "id": "c818a620",
   "metadata": {},
   "source": [
    "---"
   ]
  },
  {
   "cell_type": "code",
   "execution_count": 20,
   "id": "6c620ef5",
   "metadata": {
    "ExecuteTime": {
     "end_time": "2022-11-08T14:46:13.483653Z",
     "start_time": "2022-11-08T14:46:13.477541Z"
    }
   },
   "outputs": [
    {
     "data": {
      "text/plain": [
       "True"
      ]
     },
     "execution_count": 20,
     "metadata": {},
     "output_type": "execute_result"
    }
   ],
   "source": [
    "t1 = (1, 2, [30, 40])\n",
    "t2 = (1, 2, [30, 40])\n",
    "\n",
    "t1 == t2"
   ]
  },
  {
   "cell_type": "code",
   "execution_count": 21,
   "id": "65d0fa38",
   "metadata": {
    "ExecuteTime": {
     "end_time": "2022-11-08T14:46:19.771917Z",
     "start_time": "2022-11-08T14:46:19.764657Z"
    }
   },
   "outputs": [
    {
     "data": {
      "text/plain": [
       "4379485440"
      ]
     },
     "execution_count": 21,
     "metadata": {},
     "output_type": "execute_result"
    }
   ],
   "source": [
    "id(t1[-1])"
   ]
  },
  {
   "cell_type": "code",
   "execution_count": 22,
   "id": "bb85b454",
   "metadata": {
    "ExecuteTime": {
     "end_time": "2022-11-08T14:46:24.815156Z",
     "start_time": "2022-11-08T14:46:24.812257Z"
    }
   },
   "outputs": [],
   "source": [
    "t1[-1].append(99)"
   ]
  },
  {
   "cell_type": "code",
   "execution_count": 23,
   "id": "6e31339d",
   "metadata": {
    "ExecuteTime": {
     "end_time": "2022-11-08T14:46:26.712423Z",
     "start_time": "2022-11-08T14:46:26.708240Z"
    }
   },
   "outputs": [
    {
     "data": {
      "text/plain": [
       "(1, 2, [30, 40, 99])"
      ]
     },
     "execution_count": 23,
     "metadata": {},
     "output_type": "execute_result"
    }
   ],
   "source": [
    "t1"
   ]
  },
  {
   "cell_type": "code",
   "execution_count": 24,
   "id": "077419f5",
   "metadata": {
    "ExecuteTime": {
     "end_time": "2022-11-08T14:46:32.719039Z",
     "start_time": "2022-11-08T14:46:32.714640Z"
    }
   },
   "outputs": [
    {
     "data": {
      "text/plain": [
       "4379485440"
      ]
     },
     "execution_count": 24,
     "metadata": {},
     "output_type": "execute_result"
    }
   ],
   "source": [
    "id(t1[-1])"
   ]
  },
  {
   "cell_type": "code",
   "execution_count": 25,
   "id": "3ae40142",
   "metadata": {
    "ExecuteTime": {
     "end_time": "2022-11-08T14:46:38.052414Z",
     "start_time": "2022-11-08T14:46:38.047954Z"
    }
   },
   "outputs": [
    {
     "data": {
      "text/plain": [
       "False"
      ]
     },
     "execution_count": 25,
     "metadata": {},
     "output_type": "execute_result"
    }
   ],
   "source": [
    "t1 == t2"
   ]
  },
  {
   "cell_type": "markdown",
   "id": "7a13a2ce",
   "metadata": {},
   "source": [
    "## 8.3 기본 복사는 얕은 복사"
   ]
  },
  {
   "cell_type": "code",
   "execution_count": 26,
   "id": "f9ad2c9a",
   "metadata": {
    "ExecuteTime": {
     "end_time": "2022-11-08T14:47:14.731607Z",
     "start_time": "2022-11-08T14:47:14.724651Z"
    }
   },
   "outputs": [
    {
     "data": {
      "text/plain": [
       "[3, [55, 44], (7, 8, 9)]"
      ]
     },
     "execution_count": 26,
     "metadata": {},
     "output_type": "execute_result"
    }
   ],
   "source": [
    "l1 = [3, [55, 44], (7, 8, 9)]\n",
    "l2 = list(l1)\n",
    "l2"
   ]
  },
  {
   "cell_type": "code",
   "execution_count": 27,
   "id": "cc571055",
   "metadata": {
    "ExecuteTime": {
     "end_time": "2022-11-08T14:47:16.878226Z",
     "start_time": "2022-11-08T14:47:16.873946Z"
    }
   },
   "outputs": [
    {
     "data": {
      "text/plain": [
       "True"
      ]
     },
     "execution_count": 27,
     "metadata": {},
     "output_type": "execute_result"
    }
   ],
   "source": [
    "l2 == l1"
   ]
  },
  {
   "cell_type": "code",
   "execution_count": 28,
   "id": "a0a57f6d",
   "metadata": {
    "ExecuteTime": {
     "end_time": "2022-11-08T14:47:20.360992Z",
     "start_time": "2022-11-08T14:47:20.354862Z"
    }
   },
   "outputs": [
    {
     "data": {
      "text/plain": [
       "False"
      ]
     },
     "execution_count": 28,
     "metadata": {},
     "output_type": "execute_result"
    }
   ],
   "source": [
    "l2 is l1"
   ]
  },
  {
   "cell_type": "markdown",
   "id": "ce78b3ba",
   "metadata": {},
   "source": [
    "---"
   ]
  },
  {
   "cell_type": "code",
   "execution_count": 29,
   "id": "206aa47d",
   "metadata": {
    "ExecuteTime": {
     "end_time": "2022-11-15T15:27:18.686644Z",
     "start_time": "2022-11-15T15:27:18.677139Z"
    }
   },
   "outputs": [],
   "source": [
    "class Bus:\n",
    "    def __init__(self, passengers=None):\n",
    "        if passengers is None:\n",
    "            self.passengers = []\n",
    "        else:\n",
    "            self.passengers = list(passengers)\n",
    "\n",
    "    def pick(self, name):\n",
    "        self.passengers.append(name)\n",
    "\n",
    "    def drop(self, name):\n",
    "        self.passengers.remove(name)"
   ]
  },
  {
   "cell_type": "code",
   "execution_count": 30,
   "id": "85e288f2",
   "metadata": {
    "ExecuteTime": {
     "end_time": "2022-11-15T15:28:23.381506Z",
     "start_time": "2022-11-15T15:28:23.375002Z"
    }
   },
   "outputs": [
    {
     "name": "stdout",
     "output_type": "stream",
     "text": [
      "4381170032 4378242544 4378241440\n"
     ]
    }
   ],
   "source": [
    "import copy\n",
    "bus1 = Bus(['Alice', 'Bill', 'Claire', 'David'])\n",
    "bus2 = copy.copy(bus1)\n",
    "bus3 = copy.deepcopy(bus1)\n",
    "print(id(bus1), id(bus2), id(bus3))"
   ]
  },
  {
   "cell_type": "code",
   "execution_count": 31,
   "id": "06b8b367",
   "metadata": {
    "ExecuteTime": {
     "end_time": "2022-11-15T15:28:24.393454Z",
     "start_time": "2022-11-15T15:28:24.386509Z"
    }
   },
   "outputs": [
    {
     "data": {
      "text/plain": [
       "['Alice', 'Claire', 'David']"
      ]
     },
     "execution_count": 31,
     "metadata": {},
     "output_type": "execute_result"
    }
   ],
   "source": [
    "bus1.drop('Bill')\n",
    "bus2.passengers"
   ]
  },
  {
   "cell_type": "code",
   "execution_count": 33,
   "id": "77b3fda3",
   "metadata": {
    "ExecuteTime": {
     "end_time": "2022-11-15T15:31:07.570306Z",
     "start_time": "2022-11-15T15:31:07.562163Z"
    }
   },
   "outputs": [
    {
     "data": {
      "text/plain": [
       "(4378583168, 4378583168, 4378283840)"
      ]
     },
     "execution_count": 33,
     "metadata": {},
     "output_type": "execute_result"
    }
   ],
   "source": [
    "id(bus1.passengers),id(bus2.passengers),id(bus3.passengers)"
   ]
  },
  {
   "cell_type": "code",
   "execution_count": 32,
   "id": "90609fa5",
   "metadata": {
    "ExecuteTime": {
     "end_time": "2022-11-15T15:28:25.246422Z",
     "start_time": "2022-11-15T15:28:25.240987Z"
    }
   },
   "outputs": [
    {
     "data": {
      "text/plain": [
       "['Alice', 'Bill', 'Claire', 'David']"
      ]
     },
     "execution_count": 32,
     "metadata": {},
     "output_type": "execute_result"
    }
   ],
   "source": [
    "bus3.passengers"
   ]
  },
  {
   "cell_type": "markdown",
   "id": "5594b77a",
   "metadata": {},
   "source": [
    "---"
   ]
  },
  {
   "cell_type": "code",
   "execution_count": 35,
   "id": "b1ab0693",
   "metadata": {
    "ExecuteTime": {
     "end_time": "2022-11-15T15:32:43.061277Z",
     "start_time": "2022-11-15T15:32:43.054573Z"
    }
   },
   "outputs": [
    {
     "data": {
      "text/plain": [
       "[10, 20, [[...], 30]]"
      ]
     },
     "execution_count": 35,
     "metadata": {},
     "output_type": "execute_result"
    }
   ],
   "source": [
    "a = [10, 20]\n",
    "b = [a, 30]\n",
    "a.append(b)\n",
    "a"
   ]
  },
  {
   "cell_type": "code",
   "execution_count": 36,
   "id": "1cef7c5a",
   "metadata": {
    "ExecuteTime": {
     "end_time": "2022-11-15T15:32:56.670958Z",
     "start_time": "2022-11-15T15:32:56.664042Z"
    }
   },
   "outputs": [
    {
     "data": {
      "text/plain": [
       "[10, 20, [[...], 30]]"
      ]
     },
     "execution_count": 36,
     "metadata": {},
     "output_type": "execute_result"
    }
   ],
   "source": [
    "from copy import deepcopy\n",
    "c = deepcopy(a)\n",
    "c"
   ]
  },
  {
   "cell_type": "markdown",
   "id": "1e9c803d",
   "metadata": {},
   "source": [
    "## 8.4 참조로서의 함수 매개변수"
   ]
  },
  {
   "cell_type": "code",
   "execution_count": 37,
   "id": "b0abd383",
   "metadata": {
    "ExecuteTime": {
     "end_time": "2022-11-15T15:45:25.139294Z",
     "start_time": "2022-11-15T15:45:25.135545Z"
    }
   },
   "outputs": [],
   "source": [
    "def f(a, b):\n",
    "    a += b\n",
    "    return a"
   ]
  },
  {
   "cell_type": "code",
   "execution_count": 38,
   "id": "dcba0150",
   "metadata": {
    "ExecuteTime": {
     "end_time": "2022-11-15T15:45:36.199892Z",
     "start_time": "2022-11-15T15:45:36.194863Z"
    }
   },
   "outputs": [
    {
     "data": {
      "text/plain": [
       "3"
      ]
     },
     "execution_count": 38,
     "metadata": {},
     "output_type": "execute_result"
    }
   ],
   "source": [
    "x = 1\n",
    "y = 2\n",
    "f(x, y)"
   ]
  },
  {
   "cell_type": "code",
   "execution_count": 39,
   "id": "c554554a",
   "metadata": {
    "ExecuteTime": {
     "end_time": "2022-11-15T15:45:38.957469Z",
     "start_time": "2022-11-15T15:45:38.951002Z"
    }
   },
   "outputs": [
    {
     "data": {
      "text/plain": [
       "(1, 2)"
      ]
     },
     "execution_count": 39,
     "metadata": {},
     "output_type": "execute_result"
    }
   ],
   "source": [
    "x, y # 리스트 a는 변경된다."
   ]
  },
  {
   "cell_type": "code",
   "execution_count": 41,
   "id": "6d79d7d3",
   "metadata": {
    "ExecuteTime": {
     "end_time": "2022-11-15T15:46:02.336119Z",
     "start_time": "2022-11-15T15:46:02.328496Z"
    }
   },
   "outputs": [
    {
     "data": {
      "text/plain": [
       "[1, 2, 3, 4]"
      ]
     },
     "execution_count": 41,
     "metadata": {},
     "output_type": "execute_result"
    }
   ],
   "source": [
    "a = [1, 2]\n",
    "b = [3, 4]\n",
    "f(a, b)"
   ]
  },
  {
   "cell_type": "code",
   "execution_count": 42,
   "id": "8f5c2f93",
   "metadata": {
    "ExecuteTime": {
     "end_time": "2022-11-15T15:46:19.097602Z",
     "start_time": "2022-11-15T15:46:19.090529Z"
    }
   },
   "outputs": [
    {
     "data": {
      "text/plain": [
       "([1, 2, 3, 4], [3, 4])"
      ]
     },
     "execution_count": 42,
     "metadata": {},
     "output_type": "execute_result"
    }
   ],
   "source": [
    "a, b"
   ]
  },
  {
   "cell_type": "code",
   "execution_count": 43,
   "id": "7eeab9b1",
   "metadata": {
    "ExecuteTime": {
     "end_time": "2022-11-15T15:46:40.224101Z",
     "start_time": "2022-11-15T15:46:40.217531Z"
    }
   },
   "outputs": [
    {
     "data": {
      "text/plain": [
       "(10, 20, 30, 40)"
      ]
     },
     "execution_count": 43,
     "metadata": {},
     "output_type": "execute_result"
    }
   ],
   "source": [
    "t = (10, 20)\n",
    "u = (30, 40)\n",
    "f(t, u)"
   ]
  },
  {
   "cell_type": "code",
   "execution_count": 44,
   "id": "c4c8edae",
   "metadata": {
    "ExecuteTime": {
     "end_time": "2022-11-15T15:46:42.954533Z",
     "start_time": "2022-11-15T15:46:42.950323Z"
    }
   },
   "outputs": [
    {
     "data": {
      "text/plain": [
       "((10, 20), (30, 40))"
      ]
     },
     "execution_count": 44,
     "metadata": {},
     "output_type": "execute_result"
    }
   ],
   "source": [
    "t, u # 튜플 t는 변경되지 않는다. "
   ]
  },
  {
   "cell_type": "markdown",
   "id": "4e4625f7",
   "metadata": {},
   "source": [
    "---"
   ]
  },
  {
   "cell_type": "code",
   "execution_count": 45,
   "id": "4d0c58ca",
   "metadata": {
    "ExecuteTime": {
     "end_time": "2022-11-15T16:26:47.148186Z",
     "start_time": "2022-11-15T16:26:47.141003Z"
    }
   },
   "outputs": [],
   "source": [
    "class HauntedBus:\n",
    "    def __init__(self, passengers=[]):  # 빈 리스트에 바인딩\n",
    "        self.passengers = passengers   # passengers에 대한 별명\n",
    "\n",
    "    def pick(self, name):\n",
    "        self.passengers.append(name)  # 가변형 기본 리스트를 변경\n",
    "\n",
    "    def drop(self, name):\n",
    "        self.passengers.remove(name)"
   ]
  },
  {
   "cell_type": "code",
   "execution_count": 46,
   "id": "0853dd74",
   "metadata": {
    "ExecuteTime": {
     "end_time": "2022-11-15T16:28:11.040751Z",
     "start_time": "2022-11-15T16:28:11.032199Z"
    }
   },
   "outputs": [
    {
     "data": {
      "text/plain": [
       "['Alice', 'Bill']"
      ]
     },
     "execution_count": 46,
     "metadata": {},
     "output_type": "execute_result"
    }
   ],
   "source": [
    "bus1= HauntedBus(['Alice', 'Bill'])\n",
    "bus1.passengers"
   ]
  },
  {
   "cell_type": "code",
   "execution_count": 47,
   "id": "03ab825f",
   "metadata": {
    "ExecuteTime": {
     "end_time": "2022-11-15T16:28:30.722229Z",
     "start_time": "2022-11-15T16:28:30.717697Z"
    }
   },
   "outputs": [
    {
     "data": {
      "text/plain": [
       "['Bill', 'Charlie']"
      ]
     },
     "execution_count": 47,
     "metadata": {},
     "output_type": "execute_result"
    }
   ],
   "source": [
    "bus1.pick('Charlie')\n",
    "bus1.drop('Alice')\n",
    "bus1.passengers"
   ]
  },
  {
   "cell_type": "code",
   "execution_count": 48,
   "id": "55345f6f",
   "metadata": {
    "ExecuteTime": {
     "end_time": "2022-11-15T16:28:54.451663Z",
     "start_time": "2022-11-15T16:28:54.444667Z"
    }
   },
   "outputs": [
    {
     "data": {
      "text/plain": [
       "['Carrie']"
      ]
     },
     "execution_count": 48,
     "metadata": {},
     "output_type": "execute_result"
    }
   ],
   "source": [
    "bus2 = HauntedBus()\n",
    "bus2.pick('Carrie')\n",
    "bus2.passengers"
   ]
  },
  {
   "cell_type": "code",
   "execution_count": 49,
   "id": "a9fc8343",
   "metadata": {
    "ExecuteTime": {
     "end_time": "2022-11-15T16:29:10.974270Z",
     "start_time": "2022-11-15T16:29:10.968003Z"
    }
   },
   "outputs": [
    {
     "data": {
      "text/plain": [
       "['Carrie']"
      ]
     },
     "execution_count": 49,
     "metadata": {},
     "output_type": "execute_result"
    }
   ],
   "source": [
    "bus3 = HauntedBus()\n",
    "bus3.passengers"
   ]
  },
  {
   "cell_type": "code",
   "execution_count": 50,
   "id": "5f8c13c7",
   "metadata": {
    "ExecuteTime": {
     "end_time": "2022-11-15T16:29:31.158443Z",
     "start_time": "2022-11-15T16:29:31.154111Z"
    }
   },
   "outputs": [
    {
     "data": {
      "text/plain": [
       "['Carrie', 'Dave']"
      ]
     },
     "execution_count": 50,
     "metadata": {},
     "output_type": "execute_result"
    }
   ],
   "source": [
    "bus3.pick('Dave')\n",
    "bus2.passengers"
   ]
  },
  {
   "cell_type": "code",
   "execution_count": 51,
   "id": "c1c5611e",
   "metadata": {
    "ExecuteTime": {
     "end_time": "2022-11-15T16:29:37.052982Z",
     "start_time": "2022-11-15T16:29:37.045289Z"
    }
   },
   "outputs": [
    {
     "data": {
      "text/plain": [
       "True"
      ]
     },
     "execution_count": 51,
     "metadata": {},
     "output_type": "execute_result"
    }
   ],
   "source": [
    "bus2.passengers is bus3.passengers"
   ]
  },
  {
   "cell_type": "code",
   "execution_count": 52,
   "id": "175259b0",
   "metadata": {
    "ExecuteTime": {
     "end_time": "2022-11-15T16:29:45.163171Z",
     "start_time": "2022-11-15T16:29:45.156429Z"
    }
   },
   "outputs": [
    {
     "data": {
      "text/plain": [
       "['Bill', 'Charlie']"
      ]
     },
     "execution_count": 52,
     "metadata": {},
     "output_type": "execute_result"
    }
   ],
   "source": [
    "bus1.passengers"
   ]
  },
  {
   "cell_type": "markdown",
   "id": "5655f3ee",
   "metadata": {},
   "source": [
    "---"
   ]
  },
  {
   "cell_type": "code",
   "execution_count": 54,
   "id": "f0000e96",
   "metadata": {
    "ExecuteTime": {
     "end_time": "2022-11-15T16:34:17.434935Z",
     "start_time": "2022-11-15T16:34:17.426995Z"
    }
   },
   "outputs": [],
   "source": [
    "class TwilightBus:\n",
    "    def __init__(self, passengers=None):\n",
    "        # passengers가 None일 때 빈 리스트를 생성한다.\n",
    "        if passengers is None:\n",
    "            self.passengers = []  \n",
    "        else:\n",
    "            # 그러나 위 할당문에 의해 self.passengers는 passengerts에 대한 \n",
    "            # 별명이 된다. baseketball 예제와 동일\n",
    "            # self.passengers = passengers  \n",
    "\n",
    "            # 개선된 버전\n",
    "            # passengers 리스트의 사본을 만들거나, 리스트가 아닐 때는 리스트로 변환\n",
    "            self.passengers = list(passengers)\n",
    "\n",
    "    def pick(self, name):\n",
    "        self.passengers.append(name)\n",
    "\n",
    "    def drop(self, name):\n",
    "        self.passengers.remove(name)  "
   ]
  },
  {
   "cell_type": "code",
   "execution_count": 55,
   "id": "38de58d5",
   "metadata": {
    "ExecuteTime": {
     "end_time": "2022-11-15T16:34:17.937515Z",
     "start_time": "2022-11-15T16:34:17.928520Z"
    },
    "scrolled": true
   },
   "outputs": [
    {
     "data": {
      "text/plain": [
       "['Sue', 'Maya', 'Diana']"
      ]
     },
     "execution_count": 55,
     "metadata": {},
     "output_type": "execute_result"
    }
   ],
   "source": [
    "basketball_team = ['Sue', 'Tina', 'Maya', 'Diana', 'Pat']\n",
    "bus = TwilightBus(basketball_team)\n",
    "bus.drop('Tina')\n",
    "bus.drop('Pat')\n",
    "basketball_team"
   ]
  },
  {
   "cell_type": "markdown",
   "id": "65d9764f",
   "metadata": {},
   "source": [
    "## 8.5. del과 가비지 컬렉션"
   ]
  },
  {
   "cell_type": "code",
   "execution_count": 63,
   "id": "4ad94676",
   "metadata": {
    "ExecuteTime": {
     "end_time": "2022-11-15T16:53:32.560509Z",
     "start_time": "2022-11-15T16:53:32.554433Z"
    }
   },
   "outputs": [],
   "source": [
    "import weakref\n",
    "s1 = {1, 2, 3}\n",
    "s2 = s1\n",
    "\n",
    "def bye():\n",
    "    print(\"Gone with the wind..\")"
   ]
  },
  {
   "cell_type": "code",
   "execution_count": 64,
   "id": "c953fda0",
   "metadata": {
    "ExecuteTime": {
     "end_time": "2022-11-15T16:53:32.801896Z",
     "start_time": "2022-11-15T16:53:32.795884Z"
    }
   },
   "outputs": [
    {
     "data": {
      "text/plain": [
       "True"
      ]
     },
     "execution_count": 64,
     "metadata": {},
     "output_type": "execute_result"
    }
   ],
   "source": [
    "# s1이 가리키는 객체에 대해 bye() 콜백을 등록\n",
    "ender = weakref.finalize(s1, bye)\n",
    "ender.alive"
   ]
  },
  {
   "cell_type": "code",
   "execution_count": 65,
   "id": "4f85c5f2",
   "metadata": {
    "ExecuteTime": {
     "end_time": "2022-11-15T16:53:32.967366Z",
     "start_time": "2022-11-15T16:53:32.960837Z"
    }
   },
   "outputs": [
    {
     "data": {
      "text/plain": [
       "True"
      ]
     },
     "execution_count": 65,
     "metadata": {},
     "output_type": "execute_result"
    }
   ],
   "source": [
    "del s1\n",
    "ender.alive"
   ]
  },
  {
   "cell_type": "code",
   "execution_count": 66,
   "id": "18f67f3a",
   "metadata": {
    "ExecuteTime": {
     "end_time": "2022-11-15T16:53:33.124533Z",
     "start_time": "2022-11-15T16:53:33.118213Z"
    }
   },
   "outputs": [
    {
     "name": "stdout",
     "output_type": "stream",
     "text": [
      "Gone with the wind..\n"
     ]
    }
   ],
   "source": [
    "# s2를 다른 객체에 바인딩하면 튜플에 도달할 수 없게 된다. 튜플이 제거되고 bye() 콜백 호출\n",
    "s2 = 'spam'"
   ]
  },
  {
   "cell_type": "code",
   "execution_count": 67,
   "id": "0db1ce13",
   "metadata": {
    "ExecuteTime": {
     "end_time": "2022-11-15T16:53:34.612181Z",
     "start_time": "2022-11-15T16:53:34.605784Z"
    }
   },
   "outputs": [
    {
     "data": {
      "text/plain": [
       "False"
      ]
     },
     "execution_count": 67,
     "metadata": {},
     "output_type": "execute_result"
    }
   ],
   "source": [
    "ender.alive"
   ]
  },
  {
   "cell_type": "markdown",
   "id": "dc20b260",
   "metadata": {},
   "source": [
    "## 8.6 약한 참조"
   ]
  },
  {
   "cell_type": "code",
   "execution_count": 84,
   "id": "12793cf1",
   "metadata": {
    "ExecuteTime": {
     "end_time": "2022-11-15T17:06:55.509669Z",
     "start_time": "2022-11-15T17:06:55.504699Z"
    }
   },
   "outputs": [
    {
     "data": {
      "text/plain": [
       "<weakref at 0x105986b30; to 'set' at 0x10546dc80>"
      ]
     },
     "execution_count": 84,
     "metadata": {},
     "output_type": "execute_result"
    }
   ],
   "source": [
    "a_set = {0, 1}\n",
    "# 약한 참조 객체 생성\n",
    "wref = weakref.ref(a_set)\n",
    "wref"
   ]
  },
  {
   "cell_type": "code",
   "execution_count": 85,
   "id": "d6488c38",
   "metadata": {
    "ExecuteTime": {
     "end_time": "2022-11-15T17:06:55.988799Z",
     "start_time": "2022-11-15T17:06:55.981713Z"
    }
   },
   "outputs": [
    {
     "data": {
      "text/plain": [
       "{0, 1}"
      ]
     },
     "execution_count": 85,
     "metadata": {},
     "output_type": "execute_result"
    }
   ],
   "source": [
    "wref()"
   ]
  },
  {
   "cell_type": "code",
   "execution_count": 86,
   "id": "57b36571",
   "metadata": {
    "ExecuteTime": {
     "end_time": "2022-11-15T17:06:56.368186Z",
     "start_time": "2022-11-15T17:06:56.359491Z"
    }
   },
   "outputs": [
    {
     "data": {
      "text/plain": [
       "{0, 1}"
      ]
     },
     "execution_count": 86,
     "metadata": {},
     "output_type": "execute_result"
    }
   ],
   "source": [
    "a_set = {2,3,4}\n",
    "wref()"
   ]
  },
  {
   "cell_type": "code",
   "execution_count": 87,
   "id": "05b07938",
   "metadata": {
    "ExecuteTime": {
     "end_time": "2022-11-15T17:06:56.743883Z",
     "start_time": "2022-11-15T17:06:56.739055Z"
    }
   },
   "outputs": [
    {
     "data": {
      "text/plain": [
       "False"
      ]
     },
     "execution_count": 87,
     "metadata": {},
     "output_type": "execute_result"
    }
   ],
   "source": [
    "wref() is None"
   ]
  },
  {
   "cell_type": "code",
   "execution_count": 88,
   "id": "a1f82dd4",
   "metadata": {
    "ExecuteTime": {
     "end_time": "2022-11-15T17:06:57.240072Z",
     "start_time": "2022-11-15T17:06:57.235490Z"
    }
   },
   "outputs": [
    {
     "data": {
      "text/plain": [
       "False"
      ]
     },
     "execution_count": 88,
     "metadata": {},
     "output_type": "execute_result"
    }
   ],
   "source": [
    "wref() is None"
   ]
  },
  {
   "cell_type": "markdown",
   "id": "ae41aae2",
   "metadata": {},
   "source": [
    "## 8.7 파이썬의 특이한 불변형 처리법"
   ]
  },
  {
   "cell_type": "code",
   "execution_count": 89,
   "id": "1cb4fbde",
   "metadata": {
    "ExecuteTime": {
     "end_time": "2022-11-15T17:11:15.507515Z",
     "start_time": "2022-11-15T17:11:15.500166Z"
    }
   },
   "outputs": [
    {
     "data": {
      "text/plain": [
       "True"
      ]
     },
     "execution_count": 89,
     "metadata": {},
     "output_type": "execute_result"
    }
   ],
   "source": [
    "t1 = (1, 2, 3)\n",
    "t2 = tuple(t1)\n",
    "t2 is t1"
   ]
  },
  {
   "cell_type": "code",
   "execution_count": 90,
   "id": "8a56593f",
   "metadata": {
    "ExecuteTime": {
     "end_time": "2022-11-15T17:11:22.311166Z",
     "start_time": "2022-11-15T17:11:22.306009Z"
    }
   },
   "outputs": [
    {
     "data": {
      "text/plain": [
       "True"
      ]
     },
     "execution_count": 90,
     "metadata": {},
     "output_type": "execute_result"
    }
   ],
   "source": [
    "t3 = t1[:]\n",
    "t3 is t1"
   ]
  },
  {
   "cell_type": "code",
   "execution_count": null,
   "id": "af45e282",
   "metadata": {},
   "outputs": [],
   "source": []
  }
 ],
 "metadata": {
  "kernelspec": {
   "display_name": "Python 3 (ipykernel)",
   "language": "python",
   "name": "python3"
  },
  "language_info": {
   "codemirror_mode": {
    "name": "ipython",
    "version": 3
   },
   "file_extension": ".py",
   "mimetype": "text/x-python",
   "name": "python",
   "nbconvert_exporter": "python",
   "pygments_lexer": "ipython3",
   "version": "3.9.10"
  },
  "toc": {
   "base_numbering": 1,
   "nav_menu": {},
   "number_sections": false,
   "sideBar": true,
   "skip_h1_title": false,
   "title_cell": "Table of Contents",
   "title_sidebar": "Contents",
   "toc_cell": false,
   "toc_position": {
    "height": "calc(100% - 180px)",
    "left": "10px",
    "top": "150px",
    "width": "174.195px"
   },
   "toc_section_display": true,
   "toc_window_display": false
  }
 },
 "nbformat": 4,
 "nbformat_minor": 5
}
