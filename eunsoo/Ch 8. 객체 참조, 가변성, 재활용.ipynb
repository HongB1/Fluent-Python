{
 "cells": [
  {
   "cell_type": "markdown",
   "id": "20722bbf",
   "metadata": {},
   "source": [
    "## 8.1 변수는 상자가 아니다."
   ]
  },
  {
   "cell_type": "code",
   "execution_count": null,
   "id": "29ce7fd3",
   "metadata": {
    "ExecuteTime": {
     "end_time": "2022-11-08T13:45:18.220285Z",
     "start_time": "2022-11-08T13:45:18.203206Z"
    }
   },
   "outputs": [],
   "source": [
    "# 동일한 리스트를 참조하는 변수 a와 b\n",
    "a = [1, 2, 3]\n",
    "b = a \n",
    "a.append(4)\n",
    "b"
   ]
  },
  {
   "cell_type": "code",
   "execution_count": 1,
   "id": "db16ac83",
   "metadata": {
    "ExecuteTime": {
     "end_time": "2022-11-08T13:50:04.929061Z",
     "start_time": "2022-11-08T13:50:04.925570Z"
    }
   },
   "outputs": [],
   "source": [
    "class Gizmo:\n",
    "    def __init__(self):\n",
    "        print(f\"Gizmo id: {id(self)}\")"
   ]
  },
  {
   "cell_type": "code",
   "execution_count": 2,
   "id": "4ce0c803",
   "metadata": {
    "ExecuteTime": {
     "end_time": "2022-11-08T13:50:05.414437Z",
     "start_time": "2022-11-08T13:50:05.408689Z"
    }
   },
   "outputs": [
    {
     "name": "stdout",
     "output_type": "stream",
     "text": [
      "Gizmo id: 4361757936\n"
     ]
    }
   ],
   "source": [
    "x = Gizmo()"
   ]
  },
  {
   "cell_type": "code",
   "execution_count": 3,
   "id": "1af9816a",
   "metadata": {
    "ExecuteTime": {
     "end_time": "2022-11-08T13:50:05.945426Z",
     "start_time": "2022-11-08T13:50:05.675473Z"
    }
   },
   "outputs": [
    {
     "name": "stdout",
     "output_type": "stream",
     "text": [
      "Gizmo id: 4361757840\n"
     ]
    },
    {
     "ename": "TypeError",
     "evalue": "unsupported operand type(s) for *: 'Gizmo' and 'int'",
     "output_type": "error",
     "traceback": [
      "\u001b[0;31m---------------------------------------------------------------------------\u001b[0m",
      "\u001b[0;31mTypeError\u001b[0m                                 Traceback (most recent call last)",
      "Cell \u001b[0;32mIn [3], line 1\u001b[0m\n\u001b[0;32m----> 1\u001b[0m y \u001b[38;5;241m=\u001b[39m \u001b[43mGizmo\u001b[49m\u001b[43m(\u001b[49m\u001b[43m)\u001b[49m\u001b[43m \u001b[49m\u001b[38;5;241;43m*\u001b[39;49m\u001b[43m \u001b[49m\u001b[38;5;241;43m10\u001b[39;49m\n",
      "\u001b[0;31mTypeError\u001b[0m: unsupported operand type(s) for *: 'Gizmo' and 'int'"
     ]
    }
   ],
   "source": [
    "y = Gizmo() * 10 # 객체에 숫자를 곱하면 예외가 발생, 그리고 두 번째 객체 생성"
   ]
  },
  {
   "cell_type": "code",
   "execution_count": 4,
   "id": "d2fca0f5",
   "metadata": {
    "ExecuteTime": {
     "end_time": "2022-11-08T13:50:06.051385Z",
     "start_time": "2022-11-08T13:50:06.043958Z"
    }
   },
   "outputs": [
    {
     "data": {
      "text/plain": [
       "['Gizmo',\n",
       " 'In',\n",
       " 'Out',\n",
       " '_',\n",
       " '__',\n",
       " '___',\n",
       " '__builtin__',\n",
       " '__builtins__',\n",
       " '__doc__',\n",
       " '__loader__',\n",
       " '__name__',\n",
       " '__package__',\n",
       " '__spec__',\n",
       " '_dh',\n",
       " '_i',\n",
       " '_i1',\n",
       " '_i2',\n",
       " '_i3',\n",
       " '_i4',\n",
       " '_ih',\n",
       " '_ii',\n",
       " '_iii',\n",
       " '_oh',\n",
       " 'autopep8',\n",
       " 'exit',\n",
       " 'get_ipython',\n",
       " 'json',\n",
       " 'quit',\n",
       " 'x']"
      ]
     },
     "execution_count": 4,
     "metadata": {},
     "output_type": "execute_result"
    }
   ],
   "source": [
    "dir()"
   ]
  },
  {
   "cell_type": "markdown",
   "id": "ac80fd88",
   "metadata": {},
   "source": [
    "## 8.2 정체정, 동질성, 별명"
   ]
  },
  {
   "cell_type": "code",
   "execution_count": 12,
   "id": "ef57f230",
   "metadata": {
    "ExecuteTime": {
     "end_time": "2022-11-08T13:53:52.356834Z",
     "start_time": "2022-11-08T13:53:52.351757Z"
    }
   },
   "outputs": [
    {
     "data": {
      "text/plain": [
       "True"
      ]
     },
     "execution_count": 12,
     "metadata": {},
     "output_type": "execute_result"
    }
   ],
   "source": [
    "charles = {'name' : 'Charles L. Dodgson', 'born' : 1832}\n",
    "lewis = charles\n",
    "lewis is charles"
   ]
  },
  {
   "cell_type": "code",
   "execution_count": 13,
   "id": "d7c1b679",
   "metadata": {
    "ExecuteTime": {
     "end_time": "2022-11-08T13:53:52.795104Z",
     "start_time": "2022-11-08T13:53:52.789694Z"
    }
   },
   "outputs": [
    {
     "data": {
      "text/plain": [
       "(4379313536, 4379313536)"
      ]
     },
     "execution_count": 13,
     "metadata": {},
     "output_type": "execute_result"
    }
   ],
   "source": [
    "id(charles), id(lewis)"
   ]
  },
  {
   "cell_type": "code",
   "execution_count": 14,
   "id": "921edce1",
   "metadata": {
    "ExecuteTime": {
     "end_time": "2022-11-08T13:53:52.983178Z",
     "start_time": "2022-11-08T13:53:52.978561Z"
    }
   },
   "outputs": [],
   "source": [
    "lewis['balance'] = 950"
   ]
  },
  {
   "cell_type": "code",
   "execution_count": 15,
   "id": "02eef832",
   "metadata": {
    "ExecuteTime": {
     "end_time": "2022-11-08T13:53:53.198876Z",
     "start_time": "2022-11-08T13:53:53.194372Z"
    }
   },
   "outputs": [
    {
     "data": {
      "text/plain": [
       "{'name': 'Charles L. Dodgson', 'born': 1832, 'balance': 950}"
      ]
     },
     "execution_count": 15,
     "metadata": {},
     "output_type": "execute_result"
    }
   ],
   "source": [
    "charles"
   ]
  },
  {
   "cell_type": "code",
   "execution_count": 18,
   "id": "4edeada8",
   "metadata": {
    "ExecuteTime": {
     "end_time": "2022-11-08T13:54:00.613715Z",
     "start_time": "2022-11-08T13:54:00.607101Z"
    }
   },
   "outputs": [
    {
     "data": {
      "text/plain": [
       "True"
      ]
     },
     "execution_count": 18,
     "metadata": {},
     "output_type": "execute_result"
    }
   ],
   "source": [
    "alex = {\n",
    "    'name': 'Charles L. Dodgson',\n",
    "    'born': 1832,\n",
    "    'balance': 950\n",
    "}\n",
    "alex == charles"
   ]
  },
  {
   "cell_type": "code",
   "execution_count": 19,
   "id": "4c61d2e4",
   "metadata": {
    "ExecuteTime": {
     "end_time": "2022-11-08T13:54:01.011570Z",
     "start_time": "2022-11-08T13:54:01.003169Z"
    }
   },
   "outputs": [
    {
     "data": {
      "text/plain": [
       "True"
      ]
     },
     "execution_count": 19,
     "metadata": {},
     "output_type": "execute_result"
    }
   ],
   "source": [
    "alex is not charles"
   ]
  },
  {
   "cell_type": "code",
   "execution_count": 20,
   "id": "6c620ef5",
   "metadata": {
    "ExecuteTime": {
     "end_time": "2022-11-08T14:46:13.483653Z",
     "start_time": "2022-11-08T14:46:13.477541Z"
    }
   },
   "outputs": [
    {
     "data": {
      "text/plain": [
       "True"
      ]
     },
     "execution_count": 20,
     "metadata": {},
     "output_type": "execute_result"
    }
   ],
   "source": [
    "t1 = (1, 2, [30, 40])\n",
    "t2 = (1, 2, [30, 40])\n",
    "\n",
    "t1 == t2"
   ]
  },
  {
   "cell_type": "code",
   "execution_count": 21,
   "id": "65d0fa38",
   "metadata": {
    "ExecuteTime": {
     "end_time": "2022-11-08T14:46:19.771917Z",
     "start_time": "2022-11-08T14:46:19.764657Z"
    }
   },
   "outputs": [
    {
     "data": {
      "text/plain": [
       "4379485440"
      ]
     },
     "execution_count": 21,
     "metadata": {},
     "output_type": "execute_result"
    }
   ],
   "source": [
    "id(t1[-1])"
   ]
  },
  {
   "cell_type": "code",
   "execution_count": 22,
   "id": "bb85b454",
   "metadata": {
    "ExecuteTime": {
     "end_time": "2022-11-08T14:46:24.815156Z",
     "start_time": "2022-11-08T14:46:24.812257Z"
    }
   },
   "outputs": [],
   "source": [
    "t1[-1].append(99)"
   ]
  },
  {
   "cell_type": "code",
   "execution_count": 23,
   "id": "6e31339d",
   "metadata": {
    "ExecuteTime": {
     "end_time": "2022-11-08T14:46:26.712423Z",
     "start_time": "2022-11-08T14:46:26.708240Z"
    }
   },
   "outputs": [
    {
     "data": {
      "text/plain": [
       "(1, 2, [30, 40, 99])"
      ]
     },
     "execution_count": 23,
     "metadata": {},
     "output_type": "execute_result"
    }
   ],
   "source": [
    "t1"
   ]
  },
  {
   "cell_type": "code",
   "execution_count": 24,
   "id": "077419f5",
   "metadata": {
    "ExecuteTime": {
     "end_time": "2022-11-08T14:46:32.719039Z",
     "start_time": "2022-11-08T14:46:32.714640Z"
    }
   },
   "outputs": [
    {
     "data": {
      "text/plain": [
       "4379485440"
      ]
     },
     "execution_count": 24,
     "metadata": {},
     "output_type": "execute_result"
    }
   ],
   "source": [
    "id(t1[-1])"
   ]
  },
  {
   "cell_type": "code",
   "execution_count": 25,
   "id": "3ae40142",
   "metadata": {
    "ExecuteTime": {
     "end_time": "2022-11-08T14:46:38.052414Z",
     "start_time": "2022-11-08T14:46:38.047954Z"
    }
   },
   "outputs": [
    {
     "data": {
      "text/plain": [
       "False"
      ]
     },
     "execution_count": 25,
     "metadata": {},
     "output_type": "execute_result"
    }
   ],
   "source": [
    "t1 == t2"
   ]
  },
  {
   "cell_type": "markdown",
   "id": "e0c9208f",
   "metadata": {},
   "source": [
    "## 8.3 기본 복사는 얕은 복사"
   ]
  },
  {
   "cell_type": "code",
   "execution_count": 26,
   "id": "f9ad2c9a",
   "metadata": {
    "ExecuteTime": {
     "end_time": "2022-11-08T14:47:14.731607Z",
     "start_time": "2022-11-08T14:47:14.724651Z"
    }
   },
   "outputs": [
    {
     "data": {
      "text/plain": [
       "[3, [55, 44], (7, 8, 9)]"
      ]
     },
     "execution_count": 26,
     "metadata": {},
     "output_type": "execute_result"
    }
   ],
   "source": [
    "l1 = [3, [55, 44], (7, 8, 9)]\n",
    "l2 = list(l1)\n",
    "l2"
   ]
  },
  {
   "cell_type": "code",
   "execution_count": 27,
   "id": "cc571055",
   "metadata": {
    "ExecuteTime": {
     "end_time": "2022-11-08T14:47:16.878226Z",
     "start_time": "2022-11-08T14:47:16.873946Z"
    }
   },
   "outputs": [
    {
     "data": {
      "text/plain": [
       "True"
      ]
     },
     "execution_count": 27,
     "metadata": {},
     "output_type": "execute_result"
    }
   ],
   "source": [
    "l2 == l1"
   ]
  },
  {
   "cell_type": "code",
   "execution_count": 28,
   "id": "a0a57f6d",
   "metadata": {
    "ExecuteTime": {
     "end_time": "2022-11-08T14:47:20.360992Z",
     "start_time": "2022-11-08T14:47:20.354862Z"
    }
   },
   "outputs": [
    {
     "data": {
      "text/plain": [
       "False"
      ]
     },
     "execution_count": 28,
     "metadata": {},
     "output_type": "execute_result"
    }
   ],
   "source": [
    "l2 is l1"
   ]
  },
  {
   "cell_type": "code",
   "execution_count": null,
   "id": "de332f4e",
   "metadata": {},
   "outputs": [],
   "source": []
  },
  {
   "cell_type": "code",
   "execution_count": null,
   "id": "206aa47d",
   "metadata": {},
   "outputs": [],
   "source": []
  },
  {
   "cell_type": "code",
   "execution_count": null,
   "id": "85e288f2",
   "metadata": {},
   "outputs": [],
   "source": []
  },
  {
   "cell_type": "code",
   "execution_count": null,
   "id": "06b8b367",
   "metadata": {},
   "outputs": [],
   "source": []
  },
  {
   "cell_type": "code",
   "execution_count": null,
   "id": "7eeab9b1",
   "metadata": {},
   "outputs": [],
   "source": []
  },
  {
   "cell_type": "code",
   "execution_count": null,
   "id": "c4c8edae",
   "metadata": {},
   "outputs": [],
   "source": []
  },
  {
   "cell_type": "code",
   "execution_count": null,
   "id": "58854879",
   "metadata": {},
   "outputs": [],
   "source": []
  },
  {
   "cell_type": "code",
   "execution_count": null,
   "id": "4d0c58ca",
   "metadata": {},
   "outputs": [],
   "source": []
  },
  {
   "cell_type": "code",
   "execution_count": null,
   "id": "0853dd74",
   "metadata": {},
   "outputs": [],
   "source": []
  },
  {
   "cell_type": "code",
   "execution_count": null,
   "id": "8a56593f",
   "metadata": {},
   "outputs": [],
   "source": []
  },
  {
   "cell_type": "code",
   "execution_count": null,
   "id": "1f968f1e",
   "metadata": {},
   "outputs": [],
   "source": []
  },
  {
   "cell_type": "code",
   "execution_count": null,
   "id": "af45e282",
   "metadata": {},
   "outputs": [],
   "source": []
  }
 ],
 "metadata": {
  "kernelspec": {
   "display_name": "Python 3 (ipykernel)",
   "language": "python",
   "name": "python3"
  },
  "language_info": {
   "codemirror_mode": {
    "name": "ipython",
    "version": 3
   },
   "file_extension": ".py",
   "mimetype": "text/x-python",
   "name": "python",
   "nbconvert_exporter": "python",
   "pygments_lexer": "ipython3",
   "version": "3.9.10"
  },
  "toc": {
   "base_numbering": 1,
   "nav_menu": {},
   "number_sections": false,
   "sideBar": true,
   "skip_h1_title": false,
   "title_cell": "Table of Contents",
   "title_sidebar": "Contents",
   "toc_cell": false,
   "toc_position": {
    "height": "calc(100% - 180px)",
    "left": "10px",
    "top": "150px",
    "width": "174.195px"
   },
   "toc_section_display": true,
   "toc_window_display": false
  }
 },
 "nbformat": 4,
 "nbformat_minor": 5
}
