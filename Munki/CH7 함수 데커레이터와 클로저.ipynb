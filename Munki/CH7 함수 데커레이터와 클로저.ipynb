{
 "cells": [
  {
   "cell_type": "markdown",
   "id": "2ae8b58a",
   "metadata": {},
   "source": [
    "# 7 함수 데커레이터와 클로저\n",
    "- 자기만의 데커레이터를 구현하고자 한다면 클로저를 속속들이 이해해야하며, 그러고 나면 nonlocal 이 필요해진다.\n",
    "- 데커레이터에서 사용하는 것 외에도, 클로저는 콜백을 이용한 효율적인 비동기 프로그래밍과 필요에 따라 함수형 스타일로 코딩하는데도 필수적임\n",
    "- 이 장의 궁극적인 목표는 아주 단순한 데커레이터에서부터 복잡한 매개변수화된 데커레이터에 이르기까지 함수 데커레이터가 정확히 어떻게 작동하는지 설명하는 것\n",
    "\n",
    "\n",
    "목표 도달 전 살펴봐야할 내용들\n",
    "- 파이썬이 데커레이터 구문을 평가하는 방식\n",
    "- 변수가 지역 변수인지 파이썬이 판단하는 방식\n",
    "- 클로저의 존재 이유와 작동 방식\n",
    "- nonlocal 로 해결할 수 있는 문제\n",
    "\n",
    "기반 갖춘 뒤 다룰 수 있는 심도있는 데커레이터 주제\n",
    "- 잘 작동하는 데커레이터 구현하기\n",
    "- 표준 라이브러리에서 제공하는 재미있는 데커레이터들\n",
    "- 매개변수화된 데커레이터 구현하기"
   ]
  },
  {
   "cell_type": "markdown",
   "id": "6a777afc",
   "metadata": {},
   "source": [
    "# 7.1 데커레이터 기본 지식\n",
    "- 데커레이터는 다른 함수를 인수로 받는 콜러블(데커레이트된함수)이다.\n",
    "- 데커레이터는 데커레이트된 함수에 어떤 처리를 수행하고, 함수를 반환하거나 함수를 다른 함수나 콜러블 객체로 대체한다."
   ]
  },
  {
   "cell_type": "markdown",
   "id": "e66ef43a",
   "metadata": {},
   "source": [
    "```python\n",
    "# 다음 코드와 같이 decorate 라는 이름의 데커레이터가 있다고 가정하자.\n",
    "@decorate\n",
    "def target():\n",
    "    print('running target()')\n",
    "    \n",
    "\n",
    "# 위는 아래와 같음\n",
    "\n",
    "def target():\n",
    "    print('running target()')\n",
    "    \n",
    "target = decorate(target)\n",
    "    \n",
    "    \n",
    "```"
   ]
  },
  {
   "cell_type": "code",
   "execution_count": 1,
   "id": "5bf1c8f7",
   "metadata": {},
   "outputs": [],
   "source": [
    "def deco(func):\n",
    "    def inner():\n",
    "        print('running inner()')\n",
    "    return inner\n",
    "\n",
    "@deco\n",
    "def target():\n",
    "    print('running target()')"
   ]
  },
  {
   "cell_type": "code",
   "execution_count": 2,
   "id": "a388a5aa",
   "metadata": {},
   "outputs": [
    {
     "name": "stdout",
     "output_type": "stream",
     "text": [
      "running inner()\n"
     ]
    }
   ],
   "source": [
    "target()"
   ]
  },
  {
   "cell_type": "code",
   "execution_count": 3,
   "id": "2254cdfa",
   "metadata": {},
   "outputs": [
    {
     "name": "stdout",
     "output_type": "stream",
     "text": [
      "<function deco.<locals>.inner at 0x0000012A84566B80>\n"
     ]
    }
   ],
   "source": [
    "print(target)"
   ]
  },
  {
   "cell_type": "markdown",
   "id": "415e1891",
   "metadata": {},
   "source": [
    "# 7.2 파이썬이 데커레이터를 실행하는 시점\n",
    "- 테커레이터의 핵심 특징은 테커레이트된 함수가 정의된 직후에 실행된다는 것이다. 이는 일반적으로 파이썬이 모듈을 로딩하는 시점, 즉 <b>임포트 타임</b>에 실행된다.\n",
    "- 일반적으로 실제 코드에서는 데커레이터를 정의하는 모듈과 데커레이터를 적용하는 모듈을 분리해서 구현한다.\n",
    "- 실제 코드에서 대부분의 데커레터는 내부 함수를 정의해서 반환한다."
   ]
  },
  {
   "cell_type": "code",
   "execution_count": 4,
   "id": "173f19a5",
   "metadata": {},
   "outputs": [
    {
     "name": "stdout",
     "output_type": "stream",
     "text": [
      "running register(<function f1 at 0x0000012A84566AF0>)\n",
      "running register(<function f2 at 0x0000012A84566040>)\n",
      "running main()\n",
      "registry ->  [<function f1 at 0x0000012A84566AF0>, <function f2 at 0x0000012A84566040>]\n",
      "running f1()\n",
      "running f2()\n",
      "running f3()\n"
     ]
    }
   ],
   "source": [
    "registry = []\n",
    "\n",
    "def register(func):\n",
    "    print('running register(%s)' %func)\n",
    "    registry.append(func)\n",
    "    return func\n",
    "\n",
    "@register\n",
    "def f1():\n",
    "    print('running f1()')\n",
    "    \n",
    "@register\n",
    "def f2():\n",
    "    print('running f2()')\n",
    "    \n",
    "def f3():\n",
    "    print('running f3()')\n",
    "    \n",
    "def main():\n",
    "    print('running main()')\n",
    "    print('registry -> ', registry)\n",
    "    f1()\n",
    "    f2()\n",
    "    f3()\n",
    "    \n",
    "if __name__ == '__main__':\n",
    "    main()"
   ]
  },
  {
   "cell_type": "code",
   "execution_count": 5,
   "id": "bf84ea55",
   "metadata": {},
   "outputs": [
    {
     "name": "stdout",
     "output_type": "stream",
     "text": [
      "running register(<function f1 at 0x0000012A845669D0>)\n",
      "running register(<function f2 at 0x0000012A84566E50>)\n"
     ]
    }
   ],
   "source": [
    "import registration"
   ]
  },
  {
   "cell_type": "code",
   "execution_count": 6,
   "id": "e4a7d019",
   "metadata": {},
   "outputs": [
    {
     "data": {
      "text/plain": [
       "[<function registration.f1()>, <function registration.f2()>]"
      ]
     },
     "execution_count": 6,
     "metadata": {},
     "output_type": "execute_result"
    }
   ],
   "source": [
    "registration.registry"
   ]
  },
  {
   "cell_type": "markdown",
   "id": "1c0799dd",
   "metadata": {},
   "source": [
    "# 7.3 데커레이터로 개선한 전략 패턴"
   ]
  },
  {
   "cell_type": "code",
   "execution_count": 1,
   "id": "f6ac4b0a",
   "metadata": {},
   "outputs": [],
   "source": [
    "promos = []\n",
    "\n",
    "def promotion(promo_func):\n",
    "    promos.append(promo_func)\n",
    "    return promo_func\n",
    "\n",
    "@promotion\n",
    "def fidelity(order):\n",
    "    \"\"\"충성도 포인트가 1000점 이상인 고객에게 전체 5% 할인 적용\"\"\"\n",
    "    return order.total() * 0.05 if order.customer.fidelity >= 1000 else 0\n",
    "\n",
    "@promotion\n",
    "def bulk_item(order):\n",
    "    \"\"\"20개 이상의 동일 상품을 구입하면 10% 할인 적용\"\"\"\n",
    "    discount = 0\n",
    "    for item in order.cart:\n",
    "        if item.quantity >= 20:\n",
    "            discount += item.total() * .1\n",
    "    return discount\n",
    "\n",
    "@promotion\n",
    "def large_order(order):\n",
    "    \"\"\"10종류 이상의 상품을 구입하면 전체 7% 할인 적용\"\"\"\n",
    "    distinct_items = {item.product for item in order.cart}\n",
    "    if len(distinct_items) >= 10:\n",
    "        return order.total() * 0.07\n",
    "    return 0 \n",
    "\n",
    "def best_promo(order):\n",
    "    \"\"\"최대로 할인받은 금액을 반환한다.\"\"\"\n",
    "    return max(promo(order) for promo in promos)"
   ]
  },
  {
   "cell_type": "markdown",
   "id": "3b53d369",
   "metadata": {},
   "source": [
    "# 7.4 변수 범위 규칙\n",
    "- 7.4 장 공부 목적\n",
    "    - 대부분의 데커레이터는 데커레이트된 함수를 변경한다. \n",
    "        - 즉 내부 함수를 정의하고 그것을 반환하여 데커레이트된 함수를 대체한다.\n",
    "        - 내부 함수를 사용하는 코드는 제대로 작동하기 위해 거의 항상 클로저에 의존한다.\n",
    "        - 클로저를 이해하기 위해 먼저 파이썬에서 변수 범위의 작동 방식에 대해 자세히 살펴보자.\n",
    "- 파이썬은 함수 본체를 컴파일 할 때 전역 변수와 동일한 이름의 지역 변수(b)가 있으면 b 가 함수 안에서 할당되므로 b를 지역 변수로 판단한다.\n",
    "    - 인터프리터가 b를 전역 변수로 다루기 원한다면 global 키워드를 이용해서 선언해야함"
   ]
  },
  {
   "cell_type": "code",
   "execution_count": 43,
   "id": "13febe7f",
   "metadata": {},
   "outputs": [],
   "source": [
    "# 지역 및 전역 변수를 읽는 함수\n",
    "def f1(a):\n",
    "    print(a)\n",
    "    print(b)"
   ]
  },
  {
   "cell_type": "code",
   "execution_count": 3,
   "id": "acd2c1b9",
   "metadata": {},
   "outputs": [
    {
     "name": "stdout",
     "output_type": "stream",
     "text": [
      "3\n"
     ]
    },
    {
     "ename": "NameError",
     "evalue": "name 'b' is not defined",
     "output_type": "error",
     "traceback": [
      "\u001b[1;31m---------------------------------------------------------------------------\u001b[0m",
      "\u001b[1;31mNameError\u001b[0m                                 Traceback (most recent call last)",
      "Input \u001b[1;32mIn [3]\u001b[0m, in \u001b[0;36m<cell line: 1>\u001b[1;34m()\u001b[0m\n\u001b[1;32m----> 1\u001b[0m \u001b[38;5;28mprint\u001b[39m(\u001b[43mf1\u001b[49m\u001b[43m(\u001b[49m\u001b[38;5;241;43m3\u001b[39;49m\u001b[43m)\u001b[49m)\n",
      "Input \u001b[1;32mIn [2]\u001b[0m, in \u001b[0;36mf1\u001b[1;34m(a)\u001b[0m\n\u001b[0;32m      1\u001b[0m \u001b[38;5;28;01mdef\u001b[39;00m \u001b[38;5;21mf1\u001b[39m(a):\n\u001b[0;32m      2\u001b[0m     \u001b[38;5;28mprint\u001b[39m(a)\n\u001b[1;32m----> 3\u001b[0m     \u001b[38;5;28mprint\u001b[39m(\u001b[43mb\u001b[49m)\n",
      "\u001b[1;31mNameError\u001b[0m: name 'b' is not defined"
     ]
    }
   ],
   "source": [
    "print(f1(3))"
   ]
  },
  {
   "cell_type": "code",
   "execution_count": 6,
   "id": "8c87c722",
   "metadata": {},
   "outputs": [
    {
     "name": "stdout",
     "output_type": "stream",
     "text": [
      "3\n",
      "6\n"
     ]
    }
   ],
   "source": [
    "b = 6\n",
    "f1(3)"
   ]
  },
  {
   "cell_type": "code",
   "execution_count": 7,
   "id": "2a763c11",
   "metadata": {},
   "outputs": [],
   "source": [
    "# 함수 본체 안에서 값을 할당하기 때문에 지역 변수가 되는 b\n",
    "# 파이썬이 함수 본체를 컴파일할 때 b 가 함수 안에서 할당되므로 b 를 지역 변수로 판단\n",
    "# 파이썬은 변수가 선언되어 있기를 요구하지 않지만, 함수 본체 안에서 할당된 변수는 지역 변수로 판단하기 때문\n",
    "b = 6\n",
    "def f2(a):\n",
    "    print(a)\n",
    "    print(b)\n",
    "    b = 9"
   ]
  },
  {
   "cell_type": "code",
   "execution_count": 9,
   "id": "99438243",
   "metadata": {},
   "outputs": [
    {
     "name": "stdout",
     "output_type": "stream",
     "text": [
      "3\n"
     ]
    },
    {
     "ename": "UnboundLocalError",
     "evalue": "local variable 'b' referenced before assignment",
     "output_type": "error",
     "traceback": [
      "\u001b[1;31m---------------------------------------------------------------------------\u001b[0m",
      "\u001b[1;31mUnboundLocalError\u001b[0m                         Traceback (most recent call last)",
      "Input \u001b[1;32mIn [9]\u001b[0m, in \u001b[0;36m<cell line: 1>\u001b[1;34m()\u001b[0m\n\u001b[1;32m----> 1\u001b[0m \u001b[43mf2\u001b[49m\u001b[43m(\u001b[49m\u001b[38;5;241;43m3\u001b[39;49m\u001b[43m)\u001b[49m\n",
      "Input \u001b[1;32mIn [7]\u001b[0m, in \u001b[0;36mf2\u001b[1;34m(a)\u001b[0m\n\u001b[0;32m      2\u001b[0m \u001b[38;5;28;01mdef\u001b[39;00m \u001b[38;5;21mf2\u001b[39m(a):\n\u001b[0;32m      3\u001b[0m     \u001b[38;5;28mprint\u001b[39m(a)\n\u001b[1;32m----> 4\u001b[0m     \u001b[38;5;28mprint\u001b[39m(\u001b[43mb\u001b[49m)\n\u001b[0;32m      5\u001b[0m     b \u001b[38;5;241m=\u001b[39m \u001b[38;5;241m9\u001b[39m\n",
      "\u001b[1;31mUnboundLocalError\u001b[0m: local variable 'b' referenced before assignment"
     ]
    }
   ],
   "source": [
    "f2(3)"
   ]
  },
  {
   "attachments": {
    "image.png": {
     "image/png": "[encoded data removed]"
    }
   },
   "cell_type": "markdown",
   "id": "278a46fa",
   "metadata": {},
   "source": [
    "![image.png](attachment:image.png)\n",
    "\n",
    "further study :  https://stackoverflow.com/questions/11007627/python-variable-declaration"
   ]
  },
  {
   "cell_type": "code",
   "execution_count": 10,
   "id": "565f6fda",
   "metadata": {},
   "outputs": [],
   "source": [
    "# 함수 안에 할당하는 문장이 있지만 인터프리터가 b 를 전역 변수로 다루기 원한다면 global 키워드를 이용해서 선언\n",
    "b = 6\n",
    "def f3(a):\n",
    "    global b\n",
    "    print(a)\n",
    "    print(b)\n",
    "    b = 9"
   ]
  },
  {
   "cell_type": "code",
   "execution_count": 11,
   "id": "adc5bb51",
   "metadata": {},
   "outputs": [
    {
     "name": "stdout",
     "output_type": "stream",
     "text": [
      "3\n",
      "6\n"
     ]
    }
   ],
   "source": [
    "f3(3)"
   ]
  },
  {
   "cell_type": "code",
   "execution_count": 12,
   "id": "0cc5ad9f",
   "metadata": {},
   "outputs": [
    {
     "data": {
      "text/plain": [
       "9"
      ]
     },
     "execution_count": 12,
     "metadata": {},
     "output_type": "execute_result"
    }
   ],
   "source": [
    "b"
   ]
  },
  {
   "cell_type": "code",
   "execution_count": 13,
   "id": "afc7f385",
   "metadata": {},
   "outputs": [
    {
     "name": "stdout",
     "output_type": "stream",
     "text": [
      "3\n",
      "9\n"
     ]
    }
   ],
   "source": [
    "f3(3)"
   ]
  },
  {
   "cell_type": "code",
   "execution_count": 14,
   "id": "a848b69f",
   "metadata": {},
   "outputs": [
    {
     "data": {
      "text/plain": [
       "30"
      ]
     },
     "execution_count": 14,
     "metadata": {},
     "output_type": "execute_result"
    }
   ],
   "source": [
    "b = 30\n",
    "b"
   ]
  },
  {
   "cell_type": "code",
   "execution_count": 44,
   "id": "3fe62810",
   "metadata": {
    "scrolled": true
   },
   "outputs": [
    {
     "name": "stdout",
     "output_type": "stream",
     "text": [
      "  3           0 LOAD_GLOBAL              0 (print)\n",
      "              2 LOAD_FAST                0 (a)\n",
      "              4 CALL_FUNCTION            1\n",
      "              6 POP_TOP\n",
      "\n",
      "  4           8 LOAD_GLOBAL              0 (print)\n",
      "             10 LOAD_GLOBAL              1 (b)\n",
      "             12 CALL_FUNCTION            1\n",
      "             14 POP_TOP\n",
      "             16 LOAD_CONST               0 (None)\n",
      "             18 RETURN_VALUE\n"
     ]
    }
   ],
   "source": [
    "# 바이트 코드 비교\n",
    "from dis import dis\n",
    "dis(f1)"
   ]
  },
  {
   "cell_type": "code",
   "execution_count": null,
   "id": "deab8fae",
   "metadata": {},
   "outputs": [],
   "source": [
    "def f1(a):\n",
    "    print(a)\n",
    "    print(b)"
   ]
  },
  {
   "cell_type": "code",
   "execution_count": 16,
   "id": "f338e817",
   "metadata": {},
   "outputs": [
    {
     "name": "stdout",
     "output_type": "stream",
     "text": [
      "  3           0 LOAD_GLOBAL              0 (print)\n",
      "              2 LOAD_FAST                0 (a)\n",
      "              4 CALL_FUNCTION            1\n",
      "              6 POP_TOP\n",
      "\n",
      "  4           8 LOAD_GLOBAL              0 (print)\n",
      "             10 LOAD_FAST                1 (b)\n",
      "             12 CALL_FUNCTION            1\n",
      "             14 POP_TOP\n",
      "\n",
      "  5          16 LOAD_CONST               1 (9)\n",
      "             18 STORE_FAST               1 (b)\n",
      "             20 LOAD_CONST               0 (None)\n",
      "             22 RETURN_VALUE\n"
     ]
    }
   ],
   "source": [
    "dis(f2)"
   ]
  },
  {
   "cell_type": "code",
   "execution_count": null,
   "id": "153bfc36",
   "metadata": {},
   "outputs": [],
   "source": [
    "b = 6\n",
    "def f2(a):\n",
    "    print(a)\n",
    "    print(b)\n",
    "    b = 9"
   ]
  },
  {
   "cell_type": "markdown",
   "id": "e0d18d1f",
   "metadata": {},
   "source": [
    "# 7.5 클로저\n",
    "- 클로저는 함수 본체에서 정의하지 않고 참조하는 비전역(nonglobal) 변수를 포함한 확장 범위를 가진 함수다.\n",
    "    - 함수가 익명 함수인지 여부는 중요하지 않다.\n",
    "    - 함수 본체 외부에 정의된 비전역 변수에 접근할 수 있다.\n",
    "    - 함수를 정의할 때 존재하던 자유 변수에 대한 바인딩을 유지하는 함수이다. 따라서 함수를 정희하는 범위가 사라진 후에 함수를 호출해도 자유변수에 접근할 수 있다.\n",
    "\n",
    "\n",
    "- 어떤 함수가 클로저이기 위해서 다음 세 가지 조건을 만족해야한다\n",
    "    - 해당 함수는 어떤 함수 내의 중첩된 함수여야 한다.\n",
    "        - 함수가 비전역 외부 변수를 다루는 경우는 그 함수가 다른 함수 안에 정의된 경우뿐이다.\n",
    "    - 해당 함수는 자신을 둘러싼 ( enclose ) 함수 내의 상태값을 반드시 참조해야 한다.\n",
    "    - 해당 함수를 둘러싼 함수는 이 함수를 반환해야한다. ( 객체로서 반환 해야함. => func()가 아니라 func 로 반환해야함 ) \n",
    "    - ref : https://shoark7.github.io/programming/python/closure-in-python"
   ]
  },
  {
   "cell_type": "code",
   "execution_count": 18,
   "id": "49980f3c",
   "metadata": {},
   "outputs": [],
   "source": [
    "class Averager():\n",
    "    def __init__(self):\n",
    "        self.series = []\n",
    "        \n",
    "    def __call__(self, new_value):\n",
    "        self.series.append(new_value)\n",
    "        total = sum(self.series)\n",
    "        return total/len(self.series)"
   ]
  },
  {
   "cell_type": "code",
   "execution_count": 19,
   "id": "24108d6b",
   "metadata": {},
   "outputs": [
    {
     "name": "stdout",
     "output_type": "stream",
     "text": [
      "10.0\n"
     ]
    }
   ],
   "source": [
    "avg = Averager()\n",
    "print(avg(10))"
   ]
  },
  {
   "cell_type": "code",
   "execution_count": 20,
   "id": "9b410cdb",
   "metadata": {},
   "outputs": [
    {
     "data": {
      "text/plain": [
       "10.5"
      ]
     },
     "execution_count": 20,
     "metadata": {},
     "output_type": "execute_result"
    }
   ],
   "source": [
    "avg(11)"
   ]
  },
  {
   "cell_type": "code",
   "execution_count": 21,
   "id": "57b5dec6",
   "metadata": {},
   "outputs": [
    {
     "data": {
      "text/plain": [
       "11.0"
      ]
     },
     "execution_count": 21,
     "metadata": {},
     "output_type": "execute_result"
    }
   ],
   "source": [
    "avg(12)"
   ]
  },
  {
   "cell_type": "code",
   "execution_count": 22,
   "id": "6c4174fd",
   "metadata": {},
   "outputs": [],
   "source": [
    "# 예제 7-9\n",
    "def make_averager():\n",
    "    series = []\n",
    "    \n",
    "    def averager(new_value):\n",
    "        series.append(new_value)\n",
    "        total = sum(series)\n",
    "        return total/len(series)\n",
    "    \n",
    "    return averager"
   ]
  },
  {
   "cell_type": "code",
   "execution_count": 23,
   "id": "4a20e312",
   "metadata": {},
   "outputs": [
    {
     "name": "stdout",
     "output_type": "stream",
     "text": [
      "10.0\n",
      "10.5\n",
      "11.0\n"
     ]
    }
   ],
   "source": [
    "avg = make_averager()\n",
    "print(avg(10))\n",
    "print(avg(11))\n",
    "print(avg(12))"
   ]
  },
  {
   "attachments": {
    "image.png": {
     "image/png": "[encoded data removed]"
    }
   },
   "cell_type": "markdown",
   "id": "eca37e12",
   "metadata": {},
   "source": [
    "- series 는 지역 범위에 바인딩 되어있지 않은 변수인 자유 변수이기 때문에 avg() 함수가 series 를 참조할 수 있었음\n",
    "\n",
    "![image.png](attachment:image.png)"
   ]
  },
  {
   "cell_type": "markdown",
   "id": "8f8b59ee",
   "metadata": {},
   "source": [
    "파이썬이 컴파일된 함수 본체를 나타내는 \\_\\_code__ 속성 안에 지역 변수와 자유 변수의 이름을 어떻게 저장하는지 알 수 있다.\n",
    "- series 에 대한 바인딩은 반환된 avg() 함수의 \\_\\_closure__ 속성에 저장된다.\n",
    "    - \\_\\_closure__ 의 각 항목은 avg.\\_\\_code__.co_freevars 이름에 대응된다."
   ]
  },
  {
   "cell_type": "code",
   "execution_count": 29,
   "id": "4b9a64d7",
   "metadata": {},
   "outputs": [
    {
     "data": {
      "text/plain": [
       "('new_value', 'total')"
      ]
     },
     "execution_count": 29,
     "metadata": {},
     "output_type": "execute_result"
    }
   ],
   "source": [
    "avg.__code__.co_varnames"
   ]
  },
  {
   "cell_type": "code",
   "execution_count": 30,
   "id": "5a7badee",
   "metadata": {},
   "outputs": [
    {
     "data": {
      "text/plain": [
       "('series',)"
      ]
     },
     "execution_count": 30,
     "metadata": {},
     "output_type": "execute_result"
    }
   ],
   "source": [
    "avg.__code__.co_freevars"
   ]
  },
  {
   "cell_type": "code",
   "execution_count": 31,
   "id": "06590640",
   "metadata": {},
   "outputs": [
    {
     "data": {
      "text/plain": [
       "('series',)"
      ]
     },
     "execution_count": 31,
     "metadata": {},
     "output_type": "execute_result"
    }
   ],
   "source": [
    "avg.__code__.co_freevars"
   ]
  },
  {
   "cell_type": "code",
   "execution_count": 32,
   "id": "50f607aa",
   "metadata": {},
   "outputs": [
    {
     "data": {
      "text/plain": [
       "(<cell at 0x000002610F1901F0: list object at 0x000002610FBCEB80>,)"
      ]
     },
     "execution_count": 32,
     "metadata": {},
     "output_type": "execute_result"
    }
   ],
   "source": [
    "avg.__closure__"
   ]
  },
  {
   "cell_type": "code",
   "execution_count": 33,
   "id": "d98f716a",
   "metadata": {},
   "outputs": [
    {
     "data": {
      "text/plain": [
       "[10, 11, 12]"
      ]
     },
     "execution_count": 33,
     "metadata": {},
     "output_type": "execute_result"
    }
   ],
   "source": [
    "avg.__closure__[0].cell_contents"
   ]
  },
  {
   "cell_type": "markdown",
   "id": "c3e258ee",
   "metadata": {},
   "source": [
    "# 7.6 nonlocal 선언\n",
    "- 변수를 nonlocal 로 선언하면 함수 안에서 변수에 새로운 값을 할당하더라도 그 변수는 자유 변수임을 나타낸다.\n",
    "- 예제 7-14 와 같이 새로운 값을 nonlocal 변수에 할당하면 클로저에 저장된 바인딩이 변경된다."
   ]
  },
  {
   "cell_type": "code",
   "execution_count": 7,
   "id": "ac44c42c",
   "metadata": {},
   "outputs": [],
   "source": [
    "# 예제 7-13 잘못된 고위 함수 \n",
    "# 고위 함수 : 함수로 인수로 받거나, 함수를 결과로 반환하는 함수.\n",
    "# make_averager는 다른 함수를 인수로 받지 않았기 때문에 decorator 가 아님\n",
    "def make_averager():\n",
    "    cnt   = 0\n",
    "    total = 0\n",
    "    \n",
    "    def averager(new_value):\n",
    "        cnt   += 1 \n",
    "        total += new_value\n",
    "        return total / cnt\n",
    "    \n",
    "    return averager"
   ]
  },
  {
   "cell_type": "markdown",
   "id": "4c051c74",
   "metadata": {},
   "source": [
    "- cnt += 1 을 풀어서 쓰면 cnt = cnt + 1 을 의미하므로, 즉 averager 본체 안에서 cnt 변수를 할당하고 있으므로 cnt 변수를 지역 변수로 만듦\n",
    "- 예제 7-9 에서는 series 변수를 함수 본체 내에서 할당하지 않았기 때문에 에러가 발생하지 않았음. 리스트가 가변형인 것을 이용한 것\n",
    "    - 숫자, 문자열, 튜플 등 불변형은 읽을 수만 있고 값을 갱신할 수 없기 때문에 예제 7-13과 같이 변수를 다시 바인딩하면 암묵적으로 cnt 라는 지역 변수를 생성 => cnt 는 더 이상 자유 변수가 아니므로 클로저에 저장되지 않는다."
   ]
  },
  {
   "cell_type": "code",
   "execution_count": 8,
   "id": "febeb64b",
   "metadata": {},
   "outputs": [
    {
     "ename": "UnboundLocalError",
     "evalue": "local variable 'cnt' referenced before assignment",
     "output_type": "error",
     "traceback": [
      "\u001b[1;31m---------------------------------------------------------------------------\u001b[0m",
      "\u001b[1;31mUnboundLocalError\u001b[0m                         Traceback (most recent call last)",
      "Input \u001b[1;32mIn [8]\u001b[0m, in \u001b[0;36m<cell line: 2>\u001b[1;34m()\u001b[0m\n\u001b[0;32m      1\u001b[0m avg \u001b[38;5;241m=\u001b[39m make_averager()\n\u001b[1;32m----> 2\u001b[0m \u001b[43mavg\u001b[49m\u001b[43m(\u001b[49m\u001b[38;5;241;43m10\u001b[39;49m\u001b[43m)\u001b[49m\n",
      "Input \u001b[1;32mIn [7]\u001b[0m, in \u001b[0;36mmake_averager.<locals>.averager\u001b[1;34m(new_value)\u001b[0m\n\u001b[0;32m      8\u001b[0m \u001b[38;5;28;01mdef\u001b[39;00m \u001b[38;5;21maverager\u001b[39m(new_value):\n\u001b[1;32m----> 9\u001b[0m     cnt   \u001b[38;5;241m+\u001b[39m\u001b[38;5;241m=\u001b[39m \u001b[38;5;241m1\u001b[39m \n\u001b[0;32m     10\u001b[0m     total \u001b[38;5;241m+\u001b[39m\u001b[38;5;241m=\u001b[39m new_value\n\u001b[0;32m     11\u001b[0m     \u001b[38;5;28;01mreturn\u001b[39;00m total \u001b[38;5;241m/\u001b[39m cnt\n",
      "\u001b[1;31mUnboundLocalError\u001b[0m: local variable 'cnt' referenced before assignment"
     ]
    }
   ],
   "source": [
    "avg = make_averager()\n",
    "avg(10)"
   ]
  },
  {
   "cell_type": "markdown",
   "id": "e29a013d",
   "metadata": {},
   "source": [
    "- 예제 7-13의 문제 해결책으로서 변수를 nonlocal 에 선언. 변수를 nonlocal 로 선언하면 함수 안에서 변수에 새로운 값을 할당하더라도 그 변수는 자유 변수임을 나타냄.\n",
    "- 새로운 값을 nonlocal 변수에 할당하면 클로저에 저장된 바인딩이 변경된다."
   ]
  },
  {
   "cell_type": "code",
   "execution_count": 9,
   "id": "ae8b0e82",
   "metadata": {},
   "outputs": [],
   "source": [
    "# 예제 7-14\n",
    "def make_averager():\n",
    "    cnt   = 0\n",
    "    total = 0\n",
    "    \n",
    "    def averager(new_value):\n",
    "        nonlocal cnt, total\n",
    "        cnt   += 1\n",
    "        total += new_value\n",
    "        return total / cnt\n",
    "    \n",
    "    return averager"
   ]
  },
  {
   "cell_type": "markdown",
   "id": "f2add243",
   "metadata": {},
   "source": [
    "#### dis 를 통한 binding 확인"
   ]
  },
  {
   "cell_type": "code",
   "execution_count": 45,
   "id": "21cc8748",
   "metadata": {},
   "outputs": [],
   "source": [
    "# 예제 7-13\n",
    "def make_averager():\n",
    "    cnt   = 0\n",
    "    total = 0\n",
    "    \n",
    "    def averager(new_value):\n",
    "        cnt   += 1 \n",
    "        total += new_value\n",
    "        return total / cnt\n",
    "    \n",
    "    return averager"
   ]
  },
  {
   "cell_type": "code",
   "execution_count": 46,
   "id": "91ce7757",
   "metadata": {},
   "outputs": [
    {
     "name": "stdout",
     "output_type": "stream",
     "text": [
      "  6           0 LOAD_FAST                1 (cnt)\n",
      "              2 LOAD_CONST               1 (1)\n",
      "              4 INPLACE_ADD\n",
      "              6 STORE_FAST               1 (cnt)\n",
      "\n",
      "  7           8 LOAD_FAST                2 (total)\n",
      "             10 LOAD_FAST                0 (new_value)\n",
      "             12 INPLACE_ADD\n",
      "             14 STORE_FAST               2 (total)\n",
      "\n",
      "  8          16 LOAD_FAST                2 (total)\n",
      "             18 LOAD_FAST                1 (cnt)\n",
      "             20 BINARY_TRUE_DIVIDE\n",
      "             22 RETURN_VALUE\n"
     ]
    }
   ],
   "source": [
    "dis(make_averager())"
   ]
  },
  {
   "cell_type": "code",
   "execution_count": 47,
   "id": "5d6134a3",
   "metadata": {},
   "outputs": [],
   "source": [
    "# 예제 7-14\n",
    "def make_averager():\n",
    "    cnt   = 0\n",
    "    total = 0\n",
    "    \n",
    "    def averager(new_value):\n",
    "        nonlocal cnt, total\n",
    "        cnt   += 1\n",
    "        total += new_value\n",
    "        return total / cnt\n",
    "    \n",
    "    return averager"
   ]
  },
  {
   "cell_type": "code",
   "execution_count": 48,
   "id": "a58d5c68",
   "metadata": {},
   "outputs": [
    {
     "name": "stdout",
     "output_type": "stream",
     "text": [
      "  8           0 LOAD_DEREF               0 (cnt)\n",
      "              2 LOAD_CONST               1 (1)\n",
      "              4 INPLACE_ADD\n",
      "              6 STORE_DEREF              0 (cnt)\n",
      "\n",
      "  9           8 LOAD_DEREF               1 (total)\n",
      "             10 LOAD_FAST                0 (new_value)\n",
      "             12 INPLACE_ADD\n",
      "             14 STORE_DEREF              1 (total)\n",
      "\n",
      " 10          16 LOAD_DEREF               1 (total)\n",
      "             18 LOAD_DEREF               0 (cnt)\n",
      "             20 BINARY_TRUE_DIVIDE\n",
      "             22 RETURN_VALUE\n"
     ]
    }
   ],
   "source": [
    "dis(make_averager())"
   ]
  },
  {
   "cell_type": "markdown",
   "id": "6f2215f7",
   "metadata": {},
   "source": [
    "# 7.7 간단한 데커레이터 구현하기"
   ]
  },
  {
   "cell_type": "code",
   "execution_count": 18,
   "id": "ba6c9e1a",
   "metadata": {},
   "outputs": [],
   "source": [
    "import time\n",
    "\n",
    "def clock(func):\n",
    "    def clocked(*args):\n",
    "        t0 = time.perf_counter()\n",
    "        result = func(*args)\n",
    "        elapsed = time.perf_counter() - t0\n",
    "        name = func.__name__\n",
    "        arg_str = ', '.join(repr(arg) for arg in args)\n",
    "        print('[%0.8fs] %s(%s) -> %r ' %(elapsed, name , arg_str, result))\n",
    "        return result\n",
    "    return clocked"
   ]
  },
  {
   "cell_type": "code",
   "execution_count": 11,
   "id": "c6b3ba81",
   "metadata": {},
   "outputs": [
    {
     "name": "stdout",
     "output_type": "stream",
     "text": [
      "**************************************** Calling snooze(.123)\n",
      "[0.12424200s] snooze(0.123) -> None \n",
      "**************************************** Calling factorial(6)\n",
      "[0.00000080s] factorial(1) -> 1 \n",
      "[0.00004070s] factorial(2) -> 2 \n",
      "[0.00006640s] factorial(3) -> 6 \n",
      "[0.00009100s] factorial(4) -> 24 \n",
      "[0.00011920s] factorial(5) -> 120 \n",
      "[0.00014530s] factorial(6) -> 720 \n",
      "6! =  720\n"
     ]
    }
   ],
   "source": [
    "import time\n",
    "\n",
    "@clock\n",
    "def snooze(seconds):\n",
    "    time.sleep(seconds)\n",
    "    \n",
    "@clock\n",
    "def factorial(n):\n",
    "    return 1 if n<2 else n * factorial(n-1)\n",
    "\n",
    "if __name__ == '__main__':\n",
    "    print('*' * 40, 'Calling snooze(.123)' )\n",
    "    snooze(.123)\n",
    "    print('*' * 40, 'Calling factorial(6)' )\n",
    "    print('6! = ', factorial(6))"
   ]
  },
  {
   "cell_type": "markdown",
   "id": "cda35bca",
   "metadata": {},
   "source": [
    "## 7.7.1 작동 과정"
   ]
  },
  {
   "cell_type": "markdown",
   "id": "b8f975b2",
   "metadata": {},
   "source": [
    "```python\n",
    "\n",
    "#1은 #2 와 같이 실행된다. \n",
    "\n",
    "#1\n",
    "@clock\n",
    "def factorial(n):\n",
    "    return 1 if n < 2 else n * factorial(n-1)\n",
    "\n",
    "\n",
    "#2\n",
    "def factorial(n):\n",
    "    return 1 if n<2 else n*factorial(n-1)\n",
    "\n",
    "factorial = clock(factorial)\n",
    "```"
   ]
  },
  {
   "cell_type": "code",
   "execution_count": 13,
   "id": "3e596aa7",
   "metadata": {},
   "outputs": [
    {
     "name": "stdout",
     "output_type": "stream",
     "text": [
      "clocked\n"
     ]
    }
   ],
   "source": [
    "print(factorial.__name__)"
   ]
  },
  {
   "cell_type": "code",
   "execution_count": 16,
   "id": "f2a4ddac",
   "metadata": {},
   "outputs": [],
   "source": [
    "# 예제 7 - 17 개선된 clock 데커레이터\n",
    "\n",
    "import time\n",
    "import functools\n",
    "\n",
    "def clock(func):\n",
    "    @functools.wraps(func)\n",
    "    def clocked(*args,**kwargs):\n",
    "        t0 = time.time()\n",
    "        result = func(*args, **kwargs)\n",
    "        elapsed = time.time() - t0\n",
    "        name = func.__name__\n",
    "        arg_lst  = []\n",
    "        if args : \n",
    "            arg_lst.append(', '.join(repr(arg) for arg in args ))\n",
    "        if kwargs : \n",
    "            pairs = ['%s = %r' %(k,w) for k,w in sorted(kwargs.items())]\n",
    "            arg_lst.append(', '.join(pairs))\n",
    "        arg_str = ', '.join(pairs)\n",
    "        print('[%0.8fs] %s(%s) -> %r' %( elapsed, name, arg_str, result))\n",
    "        return result\n",
    "    return clocked"
   ]
  },
  {
   "cell_type": "markdown",
   "id": "5312826b",
   "metadata": {},
   "source": [
    "# 7.8 표준 라이브러리에서 제공하는 데커레이터"
   ]
  },
  {
   "cell_type": "markdown",
   "id": "6dec7dad",
   "metadata": {},
   "source": [
    "## 7.8.1 functools.lru_cache() 를 이용한 메모이제이션"
   ]
  },
  {
   "cell_type": "code",
   "execution_count": 19,
   "id": "04dfadc4",
   "metadata": {},
   "outputs": [
    {
     "name": "stdout",
     "output_type": "stream",
     "text": [
      "[0.00000070s] fibonacci(1) -> 1 \n",
      "[0.00000070s] fibonacci(0) -> 0 \n",
      "[0.00012900s] fibonacci(2) -> 1 \n",
      "[0.00000050s] fibonacci(1) -> 1 \n",
      "[0.00017460s] fibonacci(3) -> 2 \n",
      "[0.00000060s] fibonacci(1) -> 1 \n",
      "[0.00000050s] fibonacci(0) -> 0 \n",
      "[0.00007120s] fibonacci(2) -> 1 \n",
      "[0.00063460s] fibonacci(4) -> 3 \n",
      "[0.00000030s] fibonacci(1) -> 1 \n",
      "[0.00000030s] fibonacci(0) -> 0 \n",
      "[0.00003780s] fibonacci(2) -> 1 \n",
      "[0.00000030s] fibonacci(1) -> 1 \n",
      "[0.00008590s] fibonacci(3) -> 2 \n",
      "[0.00076230s] fibonacci(5) -> 5 \n",
      "[0.00000030s] fibonacci(1) -> 1 \n",
      "[0.00000030s] fibonacci(0) -> 0 \n",
      "[0.00004280s] fibonacci(2) -> 1 \n",
      "[0.00000050s] fibonacci(1) -> 1 \n",
      "[0.00008800s] fibonacci(3) -> 2 \n",
      "[0.00000040s] fibonacci(1) -> 1 \n",
      "[0.00000040s] fibonacci(0) -> 0 \n",
      "[0.00005210s] fibonacci(2) -> 1 \n",
      "[0.00019280s] fibonacci(4) -> 3 \n",
      "[0.00100110s] fibonacci(6) -> 8 \n",
      "8\n"
     ]
    }
   ],
   "source": [
    "@clock\n",
    "def fibonacci(n):\n",
    "    if n < 2:\n",
    "        return n\n",
    "    return fibonacci(n-1) + fibonacci(n-2)\n",
    "\n",
    "if __name__ == '__main__':\n",
    "    print(fibonacci(6))"
   ]
  },
  {
   "cell_type": "code",
   "execution_count": 20,
   "id": "3ce1beff",
   "metadata": {},
   "outputs": [
    {
     "name": "stdout",
     "output_type": "stream",
     "text": [
      "[0.00000070s] fibonacci(1) -> 1 \n",
      "[0.00000090s] fibonacci(0) -> 0 \n",
      "[0.00017900s] fibonacci(2) -> 1 \n",
      "[0.00021720s] fibonacci(3) -> 2 \n",
      "[0.00025280s] fibonacci(4) -> 3 \n",
      "[0.00029140s] fibonacci(5) -> 5 \n",
      "[0.00034100s] fibonacci(6) -> 8 \n",
      "8\n"
     ]
    }
   ],
   "source": [
    "import functools\n",
    "\n",
    "@functools.lru_cache()\n",
    "@clock\n",
    "def fibonacci(n):\n",
    "    if n < 2:\n",
    "        return n\n",
    "    return fibonacci(n-1) + fibonacci(n-2)\n",
    "\n",
    "if __name__ == '__main__':\n",
    "    print(fibonacci(6))"
   ]
  },
  {
   "cell_type": "markdown",
   "id": "57d9c238",
   "metadata": {},
   "source": [
    "## 7.8.2 단일 디스패치를 이용한 범용 함수"
   ]
  },
  {
   "cell_type": "code",
   "execution_count": 21,
   "id": "28fa9e6a",
   "metadata": {},
   "outputs": [],
   "source": [
    "import html\n",
    "\n",
    "def htmlize(obj):\n",
    "    content = html.escape(repr(obj))\n",
    "    return '<pre>{}</pre>'.format(content)"
   ]
  },
  {
   "cell_type": "code",
   "execution_count": 23,
   "id": "d7c75f4a",
   "metadata": {},
   "outputs": [],
   "source": [
    "from functools import singledispatch\n",
    "from collections import abc\n",
    "import numbers\n",
    "import html\n",
    "\n",
    "@singledispatch\n",
    "def htmlize(obj):\n",
    "    content = html.escape(repr(obj))\n",
    "    return '<pre>{}</pre>'.format(content)\n",
    "\n",
    "@htmlize.register(str)\n",
    "def _(text):\n",
    "    content = html.escape(text).replace('\\n','<br>\\n')\n",
    "    return '<p>{}</p>'.format(content)\n",
    "\n",
    "@htmlize.register(numbers.Integral)\n",
    "def _(n):\n",
    "    return '<pre>{0} (0x{0:x})</pre>'.format(n)\n",
    "\n",
    "@htmlize.register(tuple)\n",
    "@htmlize.register(abc.MutableSequence)\n",
    "def _(seq):\n",
    "    inner = '</li>\\n<li>'.join(htmlize(item) for item in seq)\n",
    "    return '<ul>\\n<li>{}</li>\\n</ul>'.format(inner)"
   ]
  },
  {
   "cell_type": "code",
   "execution_count": 26,
   "id": "e8956db1",
   "metadata": {},
   "outputs": [
    {
     "name": "stdout",
     "output_type": "stream",
     "text": [
      "<pre>{1, 2, 3}</pre>\n",
      "<pre>&lt;built-in function abs&gt;</pre>\n",
      "<p>Heimlich &amp; Co.<br>\n",
      "- a game</p>\n",
      "<pre>42 (0x2a)</pre>\n",
      "<ul>\n",
      "<li><p>alpha</p></li>\n",
      "<li><pre>66 (0x42)</pre></li>\n",
      "<li><pre>{1, 2, 3}</pre></li>\n",
      "</ul>\n"
     ]
    }
   ],
   "source": [
    "print(htmlize({1,2,3}))\n",
    "print(htmlize(abs))\n",
    "print(htmlize('Heimlich & Co.\\n- a game'))\n",
    "print(htmlize(42))\n",
    "print(htmlize(['alpha',66,{3,2,1}]))"
   ]
  },
  {
   "cell_type": "code",
   "execution_count": 27,
   "id": "778609d4",
   "metadata": {},
   "outputs": [
    {
     "data": {
      "text/plain": [
       "'<p>Heimlich &amp; Co.<br>\\n- a game</p>'"
      ]
     },
     "execution_count": 27,
     "metadata": {},
     "output_type": "execute_result"
    }
   ],
   "source": [
    "htmlize('Heimlich & Co.\\n- a game')"
   ]
  },
  {
   "cell_type": "markdown",
   "id": "afa8ff71",
   "metadata": {},
   "source": [
    "# 7.9 누적된 데커레이터"
   ]
  },
  {
   "cell_type": "markdown",
   "id": "6c610d95",
   "metadata": {},
   "source": [
    "```python\n",
    "#1 과 #2 는 동일한 코드이다.\n",
    "\n",
    "#1\n",
    "@d1\n",
    "@d2\n",
    "def f():\n",
    "    print('f')\n",
    "    \n",
    "#2 \n",
    "f = d1(d2(f))\n",
    "```"
   ]
  },
  {
   "cell_type": "markdown",
   "id": "1eaf3594",
   "metadata": {},
   "source": [
    "# 7.10 매개변수화된 데커레이터"
   ]
  },
  {
   "cell_type": "code",
   "execution_count": 29,
   "id": "02146224",
   "metadata": {},
   "outputs": [
    {
     "name": "stdout",
     "output_type": "stream",
     "text": [
      "running register(<function f1 at 0x000002C6B2C7F5E0>)\n",
      "running main()\n",
      "registry -> [<function f1 at 0x000002C6B2C7F5E0>]\n",
      "running f1()\n"
     ]
    }
   ],
   "source": [
    "registry = []\n",
    "\n",
    "def register(func):\n",
    "    print('running register(%s)' % func)\n",
    "    registry.append(func)\n",
    "    return func\n",
    "\n",
    "@register\n",
    "def f1():\n",
    "    print('running f1()')\n",
    "    \n",
    "print('running main()')\n",
    "print('registry ->', registry)\n",
    "f1()"
   ]
  },
  {
   "cell_type": "markdown",
   "id": "a1503c78",
   "metadata": {},
   "source": [
    "## 7.10.1 매개변수화된 등록 데커레이터"
   ]
  },
  {
   "cell_type": "code",
   "execution_count": 30,
   "id": "cddebc48",
   "metadata": {},
   "outputs": [
    {
     "name": "stdout",
     "output_type": "stream",
     "text": [
      "running register(active=False)->decorate(<function f1 at 0x000002C6B2C7F8B0>)\n",
      "running register(active=True)->decorate(<function f2 at 0x000002C6B2C7F5E0>)\n"
     ]
    }
   ],
   "source": [
    "registry = set()\n",
    "\n",
    "def register(active=True):\n",
    "    def decorate(func):\n",
    "        print('running register(active=%s)->decorate(%s)' % (active, func))\n",
    "        if active:\n",
    "            registry.add(func)\n",
    "        else:\n",
    "            registry.discard(func)\n",
    "            \n",
    "        return func\n",
    "    return decorate\n",
    "\n",
    "@register(active=False)\n",
    "def f1():\n",
    "    print('running f1()')\n",
    "    \n",
    "@register()\n",
    "def f2():\n",
    "    print('running f2()')\n",
    "\n",
    "def f3():\n",
    "    print('running f3()')"
   ]
  },
  {
   "cell_type": "code",
   "execution_count": 31,
   "id": "4de92f91",
   "metadata": {},
   "outputs": [
    {
     "data": {
      "text/plain": [
       "{<function __main__.f2()>}"
      ]
     },
     "execution_count": 31,
     "metadata": {},
     "output_type": "execute_result"
    }
   ],
   "source": [
    "registry"
   ]
  },
  {
   "cell_type": "code",
   "execution_count": 32,
   "id": "9865fd79",
   "metadata": {},
   "outputs": [
    {
     "name": "stdout",
     "output_type": "stream",
     "text": [
      "running register(active=True)->decorate(<function f3 at 0x000002C6B2C63670>)\n"
     ]
    },
    {
     "data": {
      "text/plain": [
       "<function __main__.f3()>"
      ]
     },
     "execution_count": 32,
     "metadata": {},
     "output_type": "execute_result"
    }
   ],
   "source": [
    "register()(f3)"
   ]
  },
  {
   "cell_type": "code",
   "execution_count": 33,
   "id": "36973cd9",
   "metadata": {},
   "outputs": [
    {
     "data": {
      "text/plain": [
       "{<function __main__.f2()>, <function __main__.f3()>}"
      ]
     },
     "execution_count": 33,
     "metadata": {},
     "output_type": "execute_result"
    }
   ],
   "source": [
    "registry"
   ]
  },
  {
   "cell_type": "code",
   "execution_count": 34,
   "id": "6ede1bf7",
   "metadata": {},
   "outputs": [
    {
     "name": "stdout",
     "output_type": "stream",
     "text": [
      "running register(active=False)->decorate(<function f2 at 0x000002C6B2C7F5E0>)\n"
     ]
    },
    {
     "data": {
      "text/plain": [
       "<function __main__.f2()>"
      ]
     },
     "execution_count": 34,
     "metadata": {},
     "output_type": "execute_result"
    }
   ],
   "source": [
    "register(active = False)(f2)"
   ]
  },
  {
   "cell_type": "code",
   "execution_count": 35,
   "id": "e4fabbc5",
   "metadata": {},
   "outputs": [
    {
     "data": {
      "text/plain": [
       "{<function __main__.f3()>}"
      ]
     },
     "execution_count": 35,
     "metadata": {},
     "output_type": "execute_result"
    }
   ],
   "source": [
    "registry"
   ]
  },
  {
   "cell_type": "markdown",
   "id": "d20417d7",
   "metadata": {},
   "source": [
    "## 7.10.2 매개변수화된 clock 데커레이터"
   ]
  },
  {
   "cell_type": "code",
   "execution_count": 36,
   "id": "92979dc9",
   "metadata": {},
   "outputs": [
    {
     "name": "stdout",
     "output_type": "stream",
     "text": [
      "[0.13119149s] snooze(0.123) -> None\n",
      "[0.12603235s] snooze(0.123) -> None\n",
      "[0.12312388s] snooze(0.123) -> None\n"
     ]
    }
   ],
   "source": [
    "import time\n",
    "\n",
    "DEFAULT_FMT = '[{elapsed:0.8f}s] {name}({args}) -> {result}'\n",
    "\n",
    "def clock(fmt=DEFAULT_FMT): \n",
    "    def decorate(func): \n",
    "        def clocked(*_args): \n",
    "            t0 = time.time()\n",
    "            _result = func(*_args) \n",
    "            elapsed = time.time() - t0\n",
    "            name = func.__name__\n",
    "            args = ', '.join(repr(arg) for arg in _args)\n",
    "            result = repr(_result) \n",
    "            print(fmt.format(**locals())) \n",
    "            return _result\n",
    "        return clocked\n",
    "    return decorate\n",
    "\n",
    "\n",
    "if __name__=='__main__':\n",
    "    \n",
    "    @clock()\n",
    "    def snooze(seconds):\n",
    "        time.sleep(seconds)\n",
    "        \n",
    "    for i in range(3):\n",
    "        snooze(.123)"
   ]
  },
  {
   "cell_type": "code",
   "execution_count": 37,
   "id": "ad265246",
   "metadata": {},
   "outputs": [
    {
     "name": "stdout",
     "output_type": "stream",
     "text": [
      "snooze: 0.1254878044128418s\n",
      "snooze: 0.1235496997833252s\n",
      "snooze: 0.12344741821289062s\n"
     ]
    }
   ],
   "source": [
    "@clock('{name}: {elapsed}s')\n",
    "def snooze(seconds):\n",
    "    time.sleep(seconds)\n",
    "    \n",
    "for i in range(3):\n",
    "    snooze(.123)"
   ]
  },
  {
   "cell_type": "code",
   "execution_count": 38,
   "id": "0496cb99",
   "metadata": {},
   "outputs": [
    {
     "name": "stdout",
     "output_type": "stream",
     "text": [
      "snooze(0.123) dt=0.125s\n",
      "snooze(0.123) dt=0.125s\n",
      "snooze(0.123) dt=0.124s\n"
     ]
    }
   ],
   "source": [
    "@clock('{name}({args}) dt={elapsed:0.3f}s')\n",
    "def snooze(seconds):\n",
    "    time.sleep(seconds)\n",
    "    \n",
    "for i in range(3):\n",
    "    snooze(.123)"
   ]
  },
  {
   "cell_type": "code",
   "execution_count": null,
   "id": "0c975116",
   "metadata": {},
   "outputs": [],
   "source": []
  }
 ],
 "metadata": {
  "kernelspec": {
   "display_name": "Python 3 (ipykernel)",
   "language": "python",
   "name": "python3"
  },
  "language_info": {
   "codemirror_mode": {
    "name": "ipython",
    "version": 3
   },
   "file_extension": ".py",
   "mimetype": "text/x-python",
   "name": "python",
   "nbconvert_exporter": "python",
   "pygments_lexer": "ipython3",
   "version": "3.9.12"
  }
 },
 "nbformat": 4,
 "nbformat_minor": 5
}
