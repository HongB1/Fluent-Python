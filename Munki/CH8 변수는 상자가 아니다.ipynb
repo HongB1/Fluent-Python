{
 "cells": [
  {
   "cell_type": "markdown",
   "id": "2db56264",
   "metadata": {},
   "source": [
    "# 8.1 변수는 상자가 아니다\n",
    "- 파이썬 변수는 자바에서의 참조 변수와 같으므로 변수는 객체에 붙은 레이블이라고 생각하는 것이 좋다.\n",
    "- 참조 변수의 경우 변수가 객체에 할당되었다는 표현이 타당하다.\n",
    "    - 객체는 변수가 할당되기 전에 생성된다."
   ]
  },
  {
   "cell_type": "markdown",
   "id": "30c7f179",
   "metadata": {},
   "source": [
    "#### Ex 8-1 : 사본이 아니라 동일한 리스트를 참조하는 변수 a 와 b"
   ]
  },
  {
   "cell_type": "code",
   "execution_count": 2,
   "id": "4cb69cea",
   "metadata": {},
   "outputs": [
    {
     "name": "stdout",
     "output_type": "stream",
     "text": [
      "[1, 2, 3, 4]\n"
     ]
    }
   ],
   "source": [
    "a = [1,2,3]\n",
    "b = a\n",
    "a.append(4)\n",
    "print(b)"
   ]
  },
  {
   "cell_type": "markdown",
   "id": "b724a75b",
   "metadata": {},
   "source": [
    "#### Ex 8-2 : 객체가 생성된 후에야 변수가 객체에 할당된다."
   ]
  },
  {
   "cell_type": "code",
   "execution_count": 3,
   "id": "6db998be",
   "metadata": {},
   "outputs": [
    {
     "name": "stdout",
     "output_type": "stream",
     "text": [
      "Gizmo id : 2374766082848 \n"
     ]
    }
   ],
   "source": [
    "class Gizmo:\n",
    "    def __init__(self):\n",
    "        print(\"Gizmo id : %d \" %id(self) )\n",
    "        \n",
    "x = Gizmo()"
   ]
  },
  {
   "cell_type": "code",
   "execution_count": 4,
   "id": "8f064c2d",
   "metadata": {},
   "outputs": [
    {
     "name": "stdout",
     "output_type": "stream",
     "text": [
      "Gizmo id : 2374766164816 \n"
     ]
    },
    {
     "ename": "TypeError",
     "evalue": "unsupported operand type(s) for *: 'Gizmo' and 'int'",
     "output_type": "error",
     "traceback": [
      "\u001b[1;31m---------------------------------------------------------------------------\u001b[0m",
      "\u001b[1;31mTypeError\u001b[0m                                 Traceback (most recent call last)",
      "Input \u001b[1;32mIn [4]\u001b[0m, in \u001b[0;36m<cell line: 1>\u001b[1;34m()\u001b[0m\n\u001b[1;32m----> 1\u001b[0m y \u001b[38;5;241m=\u001b[39m \u001b[43mGizmo\u001b[49m\u001b[43m(\u001b[49m\u001b[43m)\u001b[49m\u001b[43m \u001b[49m\u001b[38;5;241;43m*\u001b[39;49m\u001b[43m \u001b[49m\u001b[38;5;241;43m10\u001b[39;49m\n",
      "\u001b[1;31mTypeError\u001b[0m: unsupported operand type(s) for *: 'Gizmo' and 'int'"
     ]
    }
   ],
   "source": [
    "y = Gizmo() * 10"
   ]
  },
  {
   "cell_type": "markdown",
   "id": "c0d63acd",
   "metadata": {},
   "source": [
    "#### without argument, dir() return the list of names in the current local scope"
   ]
  },
  {
   "cell_type": "code",
   "execution_count": 6,
   "id": "39a7425c",
   "metadata": {},
   "outputs": [
    {
     "name": "stdout",
     "output_type": "stream",
     "text": [
      "['Gizmo', 'In', 'Out', '_', '__', '___', '__builtin__', '__builtins__', '__doc__', '__loader__', '__name__', '__package__', '__spec__', '_dh', '_i', '_i1', '_i2', '_i3', '_i4', '_i5', '_i6', '_ih', '_ii', '_iii', '_oh', 'a', 'b', 'exit', 'get_ipython', 'quit', 'x']\n"
     ]
    }
   ],
   "source": [
    "print(dir())"
   ]
  },
  {
   "cell_type": "markdown",
   "id": "971ac6dd",
   "metadata": {},
   "source": [
    "# 8.2 정체성, 동질성, 별명\n",
    "- 모든 객체는 정체성, 자료형, 값을 가지고 있다.\n",
    "    - 객체의 정체성은 생성한 후에는 결코 변경되지 않는다.\n",
    "    - 정체성은 메모리 내의 객체 주소라고 생각할 수 있다.\n",
    "    - is 연산자는 두 객체의 정체성을 비교한다.\n",
    "    - id() 함수는 정체성을 나타내는 정수를 반환한다."
   ]
  },
  {
   "cell_type": "code",
   "execution_count": 12,
   "id": "189064d2",
   "metadata": {},
   "outputs": [
    {
     "name": "stdout",
     "output_type": "stream",
     "text": [
      "True\n"
     ]
    }
   ],
   "source": [
    "charles  = {'name': 'Charles L. Dodgson', 'born': 1832}\n",
    "lewis = charles\n",
    "print(lewis is charles) # lewis는 charles의 별명이다"
   ]
  },
  {
   "cell_type": "code",
   "execution_count": 15,
   "id": "e0529028",
   "metadata": {},
   "outputs": [
    {
     "name": "stdout",
     "output_type": "stream",
     "text": [
      "2374794274432\n",
      "2374794274432\n"
     ]
    }
   ],
   "source": [
    "print(id(charles))\n",
    "print(id(lewis))"
   ]
  },
  {
   "cell_type": "markdown",
   "id": "5bd0a10b",
   "metadata": {},
   "source": [
    "- is 는 변수가 같은 객체를 가리키면 True\n",
    "- == 는 변수가 같은 객체 값을 가지면 True"
   ]
  },
  {
   "cell_type": "code",
   "execution_count": 14,
   "id": "7b7ac4df",
   "metadata": {},
   "outputs": [
    {
     "name": "stdout",
     "output_type": "stream",
     "text": [
      "{'name': 'Charles L. Dodgson', 'born': 1832, 'balance': 950}\n"
     ]
    }
   ],
   "source": [
    "lewis['balance'] = 950 # lewis에 항목을 추가하는 것은 charles에 항목을 추가하는 것과 동일\n",
    "print(charles)"
   ]
  },
  {
   "cell_type": "code",
   "execution_count": 16,
   "id": "1e69881e",
   "metadata": {},
   "outputs": [
    {
     "name": "stdout",
     "output_type": "stream",
     "text": [
      "False\n"
     ]
    }
   ],
   "source": [
    "alex = {'name': 'Charles L. Dodgson', 'born': 1832, 'balance': 950}\n",
    "alex == charles\n",
    "\n",
    "print(alex is charles)"
   ]
  },
  {
   "cell_type": "markdown",
   "id": "dcc814ab",
   "metadata": {},
   "source": [
    "## 8.2.1 == 연산자와 is 연산자 간의 선택\n",
    "- ==연산자(동치 연산자)가 객체의 값을 비교하는 반면, is 연산자는 객체의 정체성을 비교한다.\n",
    "- is 연산자는 오버로딩 할 수 없으므로 파이썬이 이 값을 평가하기 위해 특별 메서드를 호출할 필요가 없고, 두 정수를 비교하는 정도로 연산이 가능하므로 is 연산자가 == 연산자보다 빠르다.\n",
    "- a == b 는 a.\\_\\_eq__(b) 의 편리 구문이며, object 객체에서 상속받은 \\_\\_eq__() 메서드는 객체의 ID 를 비교하므로 is 연산자와 동일한 결과를 산출한다.\n",
    "    - 그러나 대부분의 내장 자료형은 \\_\\_eq__() 메서드를 오버라이드해서 객체의 값을 비교한다. \n",
    "    - 대형 컬렉션이나 깊이 내포된 구조체를 비교하는 경우 동치 비교는 상당한 처리를 요구한다."
   ]
  },
  {
   "cell_type": "markdown",
   "id": "6468495b",
   "metadata": {},
   "source": [
    "## 8.2.2 튜플의 상대적 불변성\n",
    "- 튜플의 불변성은 tuple 데이터 구조체의 물리적인 내용(즉, 참조 자체)만을 말하는 것이며, 참조된 객체까지 불변성을 가지는 것이 아니다. 즉, 참조된 항목이 가변형이면 튜플 자체는 불변형이지만 참도된 항목은 변할 수 있다.\n",
    "    - 튜플 안에서 결코 변경되지 않는 것은 튜플이 담고 있는 항목들의 정체성뿐이다."
   ]
  },
  {
   "cell_type": "code",
   "execution_count": 21,
   "id": "3d654ea9",
   "metadata": {},
   "outputs": [
    {
     "name": "stdout",
     "output_type": "stream",
     "text": [
      "True\n",
      "False\n"
     ]
    }
   ],
   "source": [
    "t1 = (1,2,[30,40])\n",
    "t2 = (1,2,[30,40])\n",
    "print(t1 == t2)\n",
    "print(t1 is t2)"
   ]
  },
  {
   "cell_type": "code",
   "execution_count": 22,
   "id": "08e2bba5",
   "metadata": {},
   "outputs": [
    {
     "name": "stdout",
     "output_type": "stream",
     "text": [
      "2374766360576\n"
     ]
    }
   ],
   "source": [
    "print(id(t1[-1]))"
   ]
  },
  {
   "cell_type": "code",
   "execution_count": 23,
   "id": "066ece43",
   "metadata": {},
   "outputs": [
    {
     "name": "stdout",
     "output_type": "stream",
     "text": [
      "(1, 2, [30, 40, 99])\n",
      "2374766360576\n"
     ]
    }
   ],
   "source": [
    "t1[-1].append(99)\n",
    "print(t1)\n",
    "print(id(t1[-1])) # 정체성은 그대로이지만 값은 변경되었다."
   ]
  },
  {
   "cell_type": "code",
   "execution_count": 24,
   "id": "e6302ade",
   "metadata": {},
   "outputs": [
    {
     "name": "stdout",
     "output_type": "stream",
     "text": [
      "False\n"
     ]
    }
   ],
   "source": [
    "print(t1==t2)"
   ]
  },
  {
   "cell_type": "markdown",
   "id": "68dda8bd",
   "metadata": {},
   "source": [
    "# 8.3 기본 복사는 얕은 복사\n",
    "- 기본 복사는 얕은 복사이다.\n",
    "    - 즉, 최상위 컨테이너는 복제하여 새로운 객체를 만들지만 그 요소는 원래 컨테이너에 들어있던 동일 객체에 대한 참조로 채워진다.\n",
    "- 리스트나 대부분의 내장 가변 컬렉션을 복사하는 가장 손쉬운 방법은 그 자료형 자체의 내장 생성자를 사용하는 것이다.\n",
    "- 리스트 및 가변형 시퀀스의 경우 l2 = l1[:] 코드는 사본을 생성한다.\n"
   ]
  },
  {
   "cell_type": "code",
   "execution_count": 25,
   "id": "fa5129f9",
   "metadata": {},
   "outputs": [
    {
     "name": "stdout",
     "output_type": "stream",
     "text": [
      "[3, [55, 44], (7, 8, 9)]\n"
     ]
    }
   ],
   "source": [
    "l1 = [3, [55,44], (7,8,9)]\n",
    "l2 = list(l1) # l2 는 l1의 사본\n",
    "print(l2)"
   ]
  },
  {
   "cell_type": "code",
   "execution_count": 26,
   "id": "78f1cc9a",
   "metadata": {},
   "outputs": [
    {
     "name": "stdout",
     "output_type": "stream",
     "text": [
      "True\n",
      "False\n"
     ]
    }
   ],
   "source": [
    "print(l2 == l1)\n",
    "print(l2 is l1)"
   ]
  },
  {
   "cell_type": "markdown",
   "id": "6967ff00",
   "metadata": {},
   "source": [
    "#### Ex 8-6 : 다른 리스트를 담고 있는 리스트의 얕은 복사\n",
    "- 불변형인 튜플 경우 += 연산자는 새로운 튜플을 생성\n",
    "    - 튜플 외에 불변형인 str 에도 += 연산을 실행하면 새로운 객체를 생성 \n",
    "        - 'ABC\" += 'DEF' 로 'ABCDEF' 가 된다해서 가변형이 아님. 'ABCDEF' 값을 지닌 객체를 새로 가지는 것"
   ]
  },
  {
   "cell_type": "code",
   "execution_count": 27,
   "id": "0d24344b",
   "metadata": {},
   "outputs": [
    {
     "name": "stdout",
     "output_type": "stream",
     "text": [
      "l1 :  [3, [66, 44], (7, 8, 9), 100]\n",
      "l2 :  [3, [66, 44], (7, 8, 9)]\n",
      "l1 :  [3, [66, 44, 33, 22], (7, 8, 9), 100]\n",
      "l2 :  [3, [66, 44, 33, 22], (7, 8, 9, 10, 11)]\n"
     ]
    }
   ],
   "source": [
    "l1 = [3,[66,55,44],(7,8,9)]\n",
    "l2 = list(l1)\n",
    "l1.append(100)\n",
    "l1[1].remove(55)\n",
    "\n",
    "print('l1 : ', l1)\n",
    "print('l2 : ', l2)\n",
    "\n",
    "l2[1] += [33,22]\n",
    "l2[2] += (10,11) # 더 이상 l1 과 l2 마지막 튜플은 동일한 객체가 아니다.\n",
    "\n",
    "print('l1 : ', l1)\n",
    "print('l2 : ', l2)"
   ]
  },
  {
   "cell_type": "markdown",
   "id": "32c12569",
   "metadata": {},
   "source": [
    "## 8.3.1 객체의 깊은 복사와 얕은 복사\n",
    "- 얕게 복사한다고 해서 늘 문제가 생기는 것은 아니지만, 내포된 객체의 참조를 공유하지 않도록 깊게 복사할 필요가 있는 경우가 종종 생김. copy 모듈이 제공하는 deepcopy() 함수는 깊은 복사를, copy() 함수는 얕은 복사를 지원한다."
   ]
  },
  {
   "cell_type": "code",
   "execution_count": 29,
   "id": "b13ccd3d",
   "metadata": {},
   "outputs": [],
   "source": [
    "class Bus:\n",
    "    def __init__(self, passengers=None):\n",
    "        if passengers is None:\n",
    "            self.passengers = []\n",
    "        else:\n",
    "            self.passengers = list(passengers)\n",
    "            \n",
    "    def pick(self, name):\n",
    "        self.passengers.append(name)\n",
    "        \n",
    "    def drop(self, name):\n",
    "        self.passengers.remove(name)"
   ]
  },
  {
   "cell_type": "code",
   "execution_count": 30,
   "id": "2fc63604",
   "metadata": {},
   "outputs": [
    {
     "data": {
      "text/plain": [
       "(2374786178016, 2374783798048, 2374766019824)"
      ]
     },
     "execution_count": 30,
     "metadata": {},
     "output_type": "execute_result"
    }
   ],
   "source": [
    "import copy\n",
    "bus1 = Bus(['Alice', 'Bill', 'Claire', 'David'])\n",
    "bus2 = copy.copy(bus1)\n",
    "bus3 = copy.deepcopy(bus1)\n",
    "id(bus1), id(bus2), id(bus3)"
   ]
  },
  {
   "cell_type": "code",
   "execution_count": 31,
   "id": "8a3f9757",
   "metadata": {},
   "outputs": [
    {
     "data": {
      "text/plain": [
       "(['Alice', 'Claire', 'David'],\n",
       " ['Alice', 'Claire', 'David'],\n",
       " ['Alice', 'Bill', 'Claire', 'David'])"
      ]
     },
     "execution_count": 31,
     "metadata": {},
     "output_type": "execute_result"
    }
   ],
   "source": [
    "bus1.drop('Bill')\n",
    "bus1.passengers, bus2.passengers, bus3.passengers"
   ]
  },
  {
   "cell_type": "code",
   "execution_count": 32,
   "id": "685bd12d",
   "metadata": {},
   "outputs": [
    {
     "data": {
      "text/plain": [
       "(2374794293760, 2374794293760, 2374794500992)"
      ]
     },
     "execution_count": 32,
     "metadata": {},
     "output_type": "execute_result"
    }
   ],
   "source": [
    "id(bus1.passengers), id(bus2.passengers), id(bus3.passengers)\n",
    "# bus1과 bus2가 동일 리스트를 공유한다. 반면 bus3는 다른 리스트를 가리킨다."
   ]
  },
  {
   "cell_type": "markdown",
   "id": "bc75c2c7",
   "metadata": {},
   "source": [
    "#### Ex 8-10 : 순환 참조. b가 a를 참조한 후 a 의 뒤에 바인딩 되는데, deepcopy()는 a를 제대로 복사한다.\n",
    "- 깊은 사본을 만들 때 객체 안에 순환 참조가 있으면 단순한 알고리즘은 무한 루프에 빠질 수 있다."
   ]
  },
  {
   "cell_type": "code",
   "execution_count": 33,
   "id": "fb1f8871",
   "metadata": {},
   "outputs": [
    {
     "name": "stdout",
     "output_type": "stream",
     "text": [
      "[10, 20, [[...], 30]]\n"
     ]
    }
   ],
   "source": [
    "a = [10, 20]\n",
    "b = [a, 30]\n",
    "a.append(b)\n",
    "print(a)"
   ]
  },
  {
   "cell_type": "code",
   "execution_count": 34,
   "id": "4091e6f3",
   "metadata": {},
   "outputs": [
    {
     "name": "stdout",
     "output_type": "stream",
     "text": [
      "[10, 20, [[...], 30]]\n"
     ]
    }
   ],
   "source": [
    "c = copy.deepcopy(a)\n",
    "print(c)"
   ]
  },
  {
   "cell_type": "markdown",
   "id": "96eef424",
   "metadata": {},
   "source": [
    "## 8.4 참조로서의 함수 매개변수\n",
    "- 파이썬은 공유로 호출 ( call by sharing ) 하는 매개변수 전달 방식만 지원한다.\n",
    "    - 공유로 호출한다는 말은 함수의 각 매개변수가 인수로 전달 받은 각 참조의 사본을 받는다는 의미다. \n",
    "    - 달리 말하면, 함수 안의 매개 변수는 실제 인수의 별명이 된다.\n",
    "    - 이런 체계의 결괄서, 함수는 인수로 전달받은 모든 가변 객체를 변경할 수 있지만, 객체의 정체성 자체는 변경할 수 없다."
   ]
  },
  {
   "cell_type": "code",
   "execution_count": 36,
   "id": "c2a7e548",
   "metadata": {},
   "outputs": [],
   "source": [
    "def f(a,b):\n",
    "    a += b # 이 경우 리스트는 append 로 작동\n",
    "    return a"
   ]
  },
  {
   "cell_type": "code",
   "execution_count": 37,
   "id": "1ec34a12",
   "metadata": {},
   "outputs": [
    {
     "name": "stdout",
     "output_type": "stream",
     "text": [
      "3\n",
      "1 2\n"
     ]
    }
   ],
   "source": [
    "x = 1\n",
    "y = 2\n",
    "print(f(x,y))\n",
    "print(x, y)"
   ]
  },
  {
   "cell_type": "code",
   "execution_count": 38,
   "id": "ae2f11a1",
   "metadata": {},
   "outputs": [
    {
     "name": "stdout",
     "output_type": "stream",
     "text": [
      "[1, 2, 3, 4]\n",
      "[1, 2, 3, 4] [3, 4]\n"
     ]
    }
   ],
   "source": [
    "a = [1,2]\n",
    "b = [3,4]\n",
    "print(f(a,b))\n",
    "print(a, b)"
   ]
  },
  {
   "cell_type": "markdown",
   "id": "27e58c53",
   "metadata": {},
   "source": [
    "#### 튜플(불변형)의 경우\n",
    "- 튜플이 += 로 바뀐다는 것은 새로운 튜플이 만들어지는 것. 즉 정체성이 달라지는 것임. 함수 내에서 정체성을 바꿀 수 없기 때문에 튜플 t 는 변경되지 않음"
   ]
  },
  {
   "cell_type": "code",
   "execution_count": 39,
   "id": "40841b56",
   "metadata": {},
   "outputs": [
    {
     "name": "stdout",
     "output_type": "stream",
     "text": [
      "(10, 20, 30, 40)\n",
      "(10, 20) (30, 40)\n"
     ]
    }
   ],
   "source": [
    "t = (10,20)\n",
    "u = (30, 40)\n",
    "print(f(t,u))\n",
    "print( t, u )"
   ]
  },
  {
   "cell_type": "markdown",
   "id": "56d0b55f",
   "metadata": {},
   "source": [
    "## 8.4.1 가변형을 매개변수 기본값으로 사용하기:좋지 않은 생각\n",
    "- 매개변수 기본 값으로 가변 객체를 사용하는 것은 피해야한다.\n",
    "- 다음 예제에서 볼 수 있는 가변 기본 값에 대한 문제 때문에, 가변 값을 받는 매개 변수의 기본 값으로 None 을 주로 사용한다."
   ]
  },
  {
   "cell_type": "code",
   "execution_count": 40,
   "id": "06b26c9f",
   "metadata": {},
   "outputs": [],
   "source": [
    "class HauntedBus:\n",
    "    \"\"\"유령 승객이 출몰하는 버스 모델\"\"\"\n",
    "    \n",
    "    def __init__(self, passengers=[]): \n",
    "        # 이렇게 되면 [] 가 compile 단계에서 생성되며 모든 인스턴스들이 같은 대상을 참조하게 되어 오류 발생\n",
    "        self.passengers = passengers\n",
    "    \n",
    "    def pick(self, name):\n",
    "        self.passengers.append(name)\n",
    "    \n",
    "    def drop(self, name):\n",
    "        self.passengers.remove(name)"
   ]
  },
  {
   "cell_type": "code",
   "execution_count": 41,
   "id": "2b33ea1c",
   "metadata": {},
   "outputs": [
    {
     "data": {
      "text/plain": [
       "['Alice', 'Bill']"
      ]
     },
     "execution_count": 41,
     "metadata": {},
     "output_type": "execute_result"
    }
   ],
   "source": [
    "bus1 = HauntedBus(['Alice', 'Bill'])\n",
    "bus1.passengers"
   ]
  },
  {
   "cell_type": "code",
   "execution_count": 42,
   "id": "419dd2c3",
   "metadata": {},
   "outputs": [
    {
     "data": {
      "text/plain": [
       "['Bill', 'Charlie']"
      ]
     },
     "execution_count": 42,
     "metadata": {},
     "output_type": "execute_result"
    }
   ],
   "source": [
    "bus1.pick('Charlie')\n",
    "bus1.drop('Alice')\n",
    "bus1.passengers"
   ]
  },
  {
   "cell_type": "code",
   "execution_count": 43,
   "id": "f7702d26",
   "metadata": {},
   "outputs": [
    {
     "data": {
      "text/plain": [
       "['Carrie']"
      ]
     },
     "execution_count": 43,
     "metadata": {},
     "output_type": "execute_result"
    }
   ],
   "source": [
    "bus2 = HauntedBus()\n",
    "bus2.pick('Carrie')\n",
    "bus2.passengers"
   ]
  },
  {
   "cell_type": "code",
   "execution_count": 44,
   "id": "e2f71589",
   "metadata": {},
   "outputs": [
    {
     "data": {
      "text/plain": [
       "['Carrie']"
      ]
     },
     "execution_count": 44,
     "metadata": {},
     "output_type": "execute_result"
    }
   ],
   "source": [
    "bus3 = HauntedBus()\n",
    "bus3.passengers # 초기값이 더이상 empty가 아님!"
   ]
  },
  {
   "cell_type": "code",
   "execution_count": 45,
   "id": "2771c9f8",
   "metadata": {},
   "outputs": [
    {
     "data": {
      "text/plain": [
       "['Carrie', 'Dave']"
      ]
     },
     "execution_count": 45,
     "metadata": {},
     "output_type": "execute_result"
    }
   ],
   "source": [
    "bus3.pick('Dave')\n",
    "bus2.passengers"
   ]
  },
  {
   "cell_type": "code",
   "execution_count": 46,
   "id": "441a91ac",
   "metadata": {},
   "outputs": [
    {
     "data": {
      "text/plain": [
       "True"
      ]
     },
     "execution_count": 46,
     "metadata": {},
     "output_type": "execute_result"
    }
   ],
   "source": [
    "bus2.passengers is bus3.passengers"
   ]
  },
  {
   "cell_type": "code",
   "execution_count": 47,
   "id": "0773b416",
   "metadata": {},
   "outputs": [
    {
     "data": {
      "text/plain": [
       "(['Carrie', 'Dave'],)"
      ]
     },
     "execution_count": 47,
     "metadata": {},
     "output_type": "execute_result"
    }
   ],
   "source": [
    "HauntedBus.__init__.__defaults__"
   ]
  },
  {
   "cell_type": "code",
   "execution_count": 48,
   "id": "0649f15c",
   "metadata": {},
   "outputs": [
    {
     "data": {
      "text/plain": [
       "True"
      ]
     },
     "execution_count": 48,
     "metadata": {},
     "output_type": "execute_result"
    }
   ],
   "source": [
    "HauntedBus.__init__.__defaults__[0] is bus2.passengers\n",
    "# bus2.passengers가 HauntedBus.__init__.__defaults__[0] 에 바인딩된 별명임을 알 수 있다."
   ]
  },
  {
   "cell_type": "markdown",
   "id": "06be5441",
   "metadata": {},
   "source": [
    "## 8.4.2 가변 매개변수에 대한 방어적 프로그래밍\n",
    "- 인수로 받은 객체를 메서드가 변경할 것이라는 의도가 명백하지 않은 한 클래스 안에서 인수를 변수에 할당함으로써 인수 객체에 별명을 붙이는 것에 대해 주의할 필요가 있다.\n",
    "- 불명확한 경우에는 사본을 만들어라."
   ]
  },
  {
   "cell_type": "code",
   "execution_count": 49,
   "id": "32f71438",
   "metadata": {},
   "outputs": [],
   "source": [
    "class TwilightBus:\n",
    "    \"\"\"승객이 사라지게 만드는 버스 모델\"\"\"\n",
    "    \n",
    "    def __init__(self, passengers=None):\n",
    "        if passengers is None:\n",
    "            self.passengers = []\n",
    "        else:\n",
    "            self.passengers = passengers # 사본 생성이 아니라 인수를 별명으로 사용\n",
    "            \n",
    "    def pick(self, name):\n",
    "        self.passengers.append(name)\n",
    "    \n",
    "    def drop(self, name):\n",
    "        self.passengers.remove(name)"
   ]
  },
  {
   "cell_type": "code",
   "execution_count": 50,
   "id": "0f5ffeac",
   "metadata": {},
   "outputs": [
    {
     "data": {
      "text/plain": [
       "['Sue', 'Maya', 'Diana']"
      ]
     },
     "execution_count": 50,
     "metadata": {},
     "output_type": "execute_result"
    }
   ],
   "source": [
    "basketball_team = ['Sue', 'Tina', 'Maya', 'Diana', 'Pat']\n",
    "bus = TwilightBus(basketball_team)\n",
    "bus.drop('Tina')\n",
    "bus.drop('Pat')\n",
    "basketball_team # 선수단이 변경되어 버림"
   ]
  },
  {
   "cell_type": "markdown",
   "id": "91285c19",
   "metadata": {},
   "source": [
    "```python\n",
    "# 따라서 앞서 구현한 것처럼 다음과 같이 해야한다.\n",
    "# 만약 passengers가 다른 list를 담고 있으면 deepcopy를 하는 것이 좋음. \n",
    "# 다른 list를 담고 있으면 생성자에 인수로 전달된 리스트 안의 리스트를 변경할 것이므로\n",
    "\n",
    "def __init__(self, passengers=None):\n",
    "    if passengers is None:\n",
    "        self.passengers = []\n",
    "    else:\n",
    "        self.passengers = list(passengers)\n",
    "```"
   ]
  },
  {
   "cell_type": "markdown",
   "id": "9517c08b",
   "metadata": {},
   "source": [
    "# 8.5 del 과 가비지 컬렉션\n",
    "- garbage collection : 메모리 관리 기법 중 하나로, 동적 할당된 메모리 영역 가운데 더 이상 사용할 수 없게된 영역을 탐지하여 자동으로 해제하는 기법이다. 여기서 더 이상 사용할 수 없게 된 영역이란, 어떤 변수도 가리키지 않게된 영역을 말한다.\n",
    "- del 명령은 이름을 제거하는 것이지, 객체를 제거하는 것이 아니다. \n",
    "    - del 명령의 결과로 객체가 가비지 컬렉트 될 수 있지만, 제거된 변수가 객체를 참조하는 최후의 변수거나 객체에 도달할 수 없을 때만 가비지 컬렉트된다.\n",
    "    - 변수를 다시 바인딩해도 객체에 대한 참조 카운트를 0 으로 만들어 객체가 제거 될 수 있다.\n",
    "- CPython 경우 가비지 컬렉션은 주로 참조 카운트에 기반한다.\n",
    "    - 본질적으로 각 객체는 얼마나 많은 참조가 자신을 가리키는지 개수(refcount)를 세고 있다. Refcount 가 0이 되자마자 CPython 의 \\_\\_del__() 의 메서드를 호출하고 객체에 할당되어 있는 메모리를 해제함으로써 객체가 제거된다. 이외 가비지 컬렉션 알고리즘이 있으며, 파이썬 인터프리터마다 가비지 컬렉션 알고리즘이 다르다.\n",
    "- 객체가 소멸될 때를 보여주기 위해 weakref.finalize() 를 사용해서 객체가 소멸될 때 호출되는 콜백 함수를 등록한다."
   ]
  },
  {
   "cell_type": "code",
   "execution_count": 54,
   "id": "dfd4dfe7",
   "metadata": {},
   "outputs": [
    {
     "name": "stdout",
     "output_type": "stream",
     "text": [
      "Gone with the wind...\n"
     ]
    }
   ],
   "source": [
    "import weakref\n",
    "s1 = {1,2,3}\n",
    "s2 = s1"
   ]
  },
  {
   "cell_type": "code",
   "execution_count": 55,
   "id": "14d3c230",
   "metadata": {},
   "outputs": [],
   "source": [
    "def bye():\n",
    "    print('Gone with the wind...')"
   ]
  },
  {
   "cell_type": "code",
   "execution_count": 56,
   "id": "896b0375",
   "metadata": {},
   "outputs": [
    {
     "data": {
      "text/plain": [
       "True"
      ]
     },
     "execution_count": 56,
     "metadata": {},
     "output_type": "execute_result"
    }
   ],
   "source": [
    "ender = weakref.finalize(s1, bye) # s1이 가리키는 객체에 대해 bye() 콜백 등록\n",
    "ender.alive"
   ]
  },
  {
   "cell_type": "code",
   "execution_count": 57,
   "id": "9338b142",
   "metadata": {},
   "outputs": [
    {
     "data": {
      "text/plain": [
       "True"
      ]
     },
     "execution_count": 57,
     "metadata": {},
     "output_type": "execute_result"
    }
   ],
   "source": [
    "del s1 # del은 객체가 아니라 객체에 대한 참조를 제거한다.\n",
    "ender.alive"
   ]
  },
  {
   "cell_type": "code",
   "execution_count": 58,
   "id": "bfbd209d",
   "metadata": {},
   "outputs": [
    {
     "name": "stdout",
     "output_type": "stream",
     "text": [
      "Gone with the wind...\n"
     ]
    }
   ],
   "source": [
    "s2 = 'spam' # s2를 다른 객체에 바인딩하면 {1,2,3} 이 제거되고, buye() 콜백이 호출되고, ender.alive는 거짓"
   ]
  },
  {
   "cell_type": "code",
   "execution_count": 59,
   "id": "93bc7df2",
   "metadata": {},
   "outputs": [
    {
     "data": {
      "text/plain": [
       "False"
      ]
     },
     "execution_count": 59,
     "metadata": {},
     "output_type": "execute_result"
    }
   ],
   "source": [
    "ender.alive"
   ]
  },
  {
   "cell_type": "markdown",
   "id": "7b195551",
   "metadata": {},
   "source": [
    "#### 여기서 ender 가 {1,2,3}을 참조하고 있는 것처럼 보이지만 이건 약한 참조라서 카운트 되지 않는다."
   ]
  },
  {
   "cell_type": "markdown",
   "id": "5add6616",
   "metadata": {},
   "source": [
    "# 8.6 약한 참조\n",
    "- 약한 참조는 참조 카운트를 증가시키지 않고 객체를 참조한다.\n",
    "    - 참조의 대상인 객체를 참조 대상 referent 라고 한다.\n",
    "    - 따라서 약한 참조는 참조 대상이 가비지 컬렉트되는 것을 방지하지 않는다고 말할 수 있다.\n",
    "- weakref.ref 객체를 호출해서 참조 대상에 접근할 수 있다\n",
    "    - 객체가 살아있으면 약한 참조 호출은 참조된 객체를 반환하고, 그렇지 않으면 None 을 반환한다.\n",
    "    - weakref.ref 클래스는 고급 사용자를 위한 저수준 인터페이스이며, 일반 프로그래머는 weakref 컬렉션과 finalize() 를 사용하는 것이 좋다고 설명한다. \n",
    "        - 즉, weakref.ref 객체를 직접 만들기보다는 WeakKeyDictionary, WeakValueDictionary, WeakSet, 그리고 내부적으로 약한 참조를 이용하는 finalize() 를 사용하는 것이 좋다. 실제로 대부분의 파이썬 프로그램은 weakref 컬렉션을 사용한다."
   ]
  },
  {
   "cell_type": "markdown",
   "id": "f8031b8f",
   "metadata": {},
   "source": [
    "## 8.6.1 WeakValueDictionary 촌극\n",
    "- WeakValueDictionary 클래스는 객체에 대한 약한 참조를 값으로 가지는 가변 매핑을 구현한다.\n",
    "- WeakKeyDictionary 클래스는 키가 약한 참조다.\n",
    "    - WeakKeyDictionary 는 애플리케이션의 다른 부분에서 소유하고 있는 객체에 속성을 추가하지 않고 추가적인 데이터를 연결할 수 있다. 이 클래스는 속성 접근을 오버라이드하는 객체 ( 디스크립터 ) 에 특히 유용하다. => 무슨 말?"
   ]
  },
  {
   "cell_type": "markdown",
   "id": "bdddc14f",
   "metadata": {},
   "source": [
    "## 8.6.2 약한 참조의 한계\n",
    "- 모든 파이썬 객체가 약한 참조의 대상이 될 수 있는 것은 아니다. \n",
    "    - 기본적인 list 와 dict 객체는 참조 대상이 될 수 없지만, 이 클래스들의 서브 클래스는 이 문제를 다음 코드처럼 쉽게 해결할 수 있다. \n",
    "    - set 객체는 참조 대상이 될 수 있다. 사용자 정의형도 아무런 문제 없이 참조 대상이 될 수 있다."
   ]
  },
  {
   "cell_type": "code",
   "execution_count": 66,
   "id": "5ff88f32",
   "metadata": {},
   "outputs": [],
   "source": [
    "class MyList(list):\n",
    "    \"\"\"약한 참조의 대상이 될 수 있는 list 서브 클래스\"\"\"\n",
    "    \n",
    "a_list = MyList(range(10))\n",
    "\n",
    "# a_list 는 약한 참조의 대상이 될 수 있다.\n",
    "wref_to_a_list = weakref.ref(a_list)"
   ]
  },
  {
   "cell_type": "markdown",
   "id": "8f8e071e",
   "metadata": {},
   "source": [
    "# 8.7 파이썬의 특이한 불변형 처리법\n",
    "- 튜플 t에 대해 t[:]는 사본을 생성하지 않고 그 객체에 대한 참조를 반환한다.\n",
    "- tuple(t) 로 작성하더라도 튜플 t 에 대한 참조가 반환된다. 다음 예제는 이 사실을 입증한다.\n",
    "- str, bytes, frozenset 객체에서도 이와 동일한 동작을 볼 수 있다. \n",
    "    - frozenset 은 시퀀스가 아니므로 frozenset 형인 fs 에 대해 fs[:] 은 작용하진 않지만, fs.copy() 는 동일하게 작동한다. 즉, fs.copy() 는 사본이 아니라 동일 객체에 대한 참조를 반환한다."
   ]
  },
  {
   "cell_type": "code",
   "execution_count": 67,
   "id": "cae673d8",
   "metadata": {},
   "outputs": [
    {
     "name": "stdout",
     "output_type": "stream",
     "text": [
      "True\n",
      "True\n"
     ]
    }
   ],
   "source": [
    "t1 = (1,2,3)\n",
    "t2 = tuple(t1)\n",
    "\n",
    "print(t2 is t1) # t1 과 t2가 동일한 객체에 바인딩 되어있다.\n",
    "\n",
    "t3 = t1[:]\n",
    "print(t3 is t1) # t3 도 마찬가지다."
   ]
  },
  {
   "cell_type": "code",
   "execution_count": 69,
   "id": "c345b60d",
   "metadata": {},
   "outputs": [
    {
     "name": "stdout",
     "output_type": "stream",
     "text": [
      "False\n",
      "True\n"
     ]
    }
   ],
   "source": [
    "t1 = (1,2,3)\n",
    "t3 = (1,2,3)\n",
    "\n",
    "print(t3 is t1)\n",
    "\n",
    "s1 = \"ABC\"\n",
    "s2 = \"ABC\"\n",
    "\n",
    "print(s2 is s1) "
   ]
  },
  {
   "cell_type": "markdown",
   "id": "890b358b",
   "metadata": {},
   "source": [
    "####  인터닝( interning) 기법 (s2 is s1 이 True인 이유)\n",
    "- 문자열 리터럴을 공유하는 최적화 기법을 인터닝( interning ) 이라고 한다. CPython 에서는 0, -1 , 42 등 '인기있는' 숫자를 부릴요하게 중복하지 않도록 작은 정수에도 동일한 기법을 사용한다. CPython 이 모든 문자열이나 정수를 인터닝하는 것은 아니며, 인터닝 기준은 구현 특징으로서 문서화 되어있지 않다."
   ]
  }
 ],
 "metadata": {
  "kernelspec": {
   "display_name": "Python 3 (ipykernel)",
   "language": "python",
   "name": "python3"
  },
  "language_info": {
   "codemirror_mode": {
    "name": "ipython",
    "version": 3
   },
   "file_extension": ".py",
   "mimetype": "text/x-python",
   "name": "python",
   "nbconvert_exporter": "python",
   "pygments_lexer": "ipython3",
   "version": "3.9.12"
  }
 },
 "nbformat": 4,
 "nbformat_minor": 5
}
