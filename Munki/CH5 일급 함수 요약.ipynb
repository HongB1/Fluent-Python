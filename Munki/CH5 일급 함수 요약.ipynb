{
 "cells": [
  {
   "cell_type": "markdown",
   "id": "21d0446b",
   "metadata": {},
   "source": [
    "# Chapter 5 일급 함수\n",
    "파이썬의 함수는 일급 객체다. 다음과 같은 작업을 수행할 수 있는 프로그램 개체를 일급 객체로 정의한다.\n",
    "- 런타임에 생성할 수 있다.\n",
    "- 데이터 구조체의 변수나 요소에 할당할 수 있다.\n",
    "- 함수 인수로 전달할 수 있다.\n",
    "- 함수 결과로 반환할 수 있다."
   ]
  },
  {
   "cell_type": "markdown",
   "id": "489b1d31",
   "metadata": {},
   "source": [
    "# 5.1 함수를 객체처럼 다루기\n",
    "- 데이터 구조체의 변수나 요소에 할당할 수 있다."
   ]
  },
  {
   "cell_type": "code",
   "execution_count": 1,
   "id": "962cca4c",
   "metadata": {},
   "outputs": [
    {
     "name": "stdout",
     "output_type": "stream",
     "text": [
      "<function factorial at 0x000001C8251CD820>\n",
      "120\n"
     ]
    }
   ],
   "source": [
    "def factorial(n):\n",
    "    return 1 if n <2 else n * factorial(n-1)\n",
    "\n",
    "fact = factorial\n",
    "print(fact)\n",
    "print(fact(5))"
   ]
  },
  {
   "cell_type": "markdown",
   "id": "19a706b7",
   "metadata": {},
   "source": [
    "# 5.2 고위 함수 ( Higher - order function )\n",
    "- 함수로 인수로 받거나, 함수를 결과로 반환하는 함수를 고위 함수라고 한다.\n",
    "- map(), filter(), reduce() 고위 함수는 여전히 존재하지만, 대부분의 경우 더 나은 방법이 있다."
   ]
  },
  {
   "cell_type": "markdown",
   "id": "5d30c1ec",
   "metadata": {},
   "source": [
    "## 5.2.1 map(), filter(), reduce() 의 대안\n",
    "- map() 과 filter() 는 제너레이터 ( 일종의 반복 가능 객체 ) 를 반환하므로 제너레이터 표현식이 이 함수들을 직접 대체"
   ]
  },
  {
   "cell_type": "code",
   "execution_count": 2,
   "id": "09c2a6cf",
   "metadata": {},
   "outputs": [
    {
     "name": "stdout",
     "output_type": "stream",
     "text": [
      "[1, 1, 2, 6, 24, 120]\n",
      "[1, 1, 2, 6, 24, 120]\n",
      "[1, 6, 120]\n",
      "[1, 6, 120]\n"
     ]
    }
   ],
   "source": [
    "print(list(map(fact, range(6))))\n",
    "print([fact(n) for n in range(6)])\n",
    "print(list(map(factorial , filter(lambda n : n%2 , range(6)))))\n",
    "print([fact(n) for n in range(6) if n % 2  ])"
   ]
  },
  {
   "cell_type": "markdown",
   "id": "0b391eb3",
   "metadata": {},
   "source": [
    "# 5.3 익명 함수 ( Lambda )\n",
    "- lambda 키워드는 파이썬 표현식 내에 익명 함수를 생성\n",
    "- lambda 본체에서는 할당문이나 while, try 등 파이썬 문장 사용 불가\n",
    "- 고위 함수의 인수로 사용하는 방법 외에 lambda 함수는 파이썬에서 거의 사용하지 않는다.\n",
    "    - 구문 제한성 & 가독성 저하\n",
    "- refactoring is the process of reconstructuring code, whilde not chaning its original functionality\n",
    "- def 문과 마찬가지로 lambda 표현식도 하나의 함수 객체를 만든다."
   ]
  },
  {
   "cell_type": "code",
   "execution_count": 3,
   "id": "12d7d8a7",
   "metadata": {},
   "outputs": [
    {
     "name": "stdout",
     "output_type": "stream",
     "text": [
      "['banana', 'apple', 'fig', 'strawbery', 'raspberry', 'cherry']\n"
     ]
    }
   ],
   "source": [
    "fruits = ['strawbery','fig','apple','cherry','raspberry','banana']\n",
    "print(sorted(fruits, key = lambda word : word[::-1]))"
   ]
  },
  {
   "cell_type": "markdown",
   "id": "4c108d97",
   "metadata": {},
   "source": [
    "# 5.4 일곱 가지 맛의 콜러블 객체\n",
    "- 호출할 수 있는 객체인지 알아보려면 callable() 내장 함수를 이용한다.\n",
    "    - 사용자 정의 함수 / 내장 함수 / 내장 메서드 / 메서드 / 클래스 / 클래스 객체 / 제너레이터 함수"
   ]
  },
  {
   "cell_type": "code",
   "execution_count": 4,
   "id": "f1401e35",
   "metadata": {},
   "outputs": [
    {
     "data": {
      "text/plain": [
       "(<function abs(x, /)>, str, 13)"
      ]
     },
     "execution_count": 4,
     "metadata": {},
     "output_type": "execute_result"
    }
   ],
   "source": [
    "abs, str, 13"
   ]
  },
  {
   "cell_type": "code",
   "execution_count": 5,
   "id": "0c6ca2ed",
   "metadata": {},
   "outputs": [
    {
     "data": {
      "text/plain": [
       "[True, True, False]"
      ]
     },
     "execution_count": 5,
     "metadata": {},
     "output_type": "execute_result"
    }
   ],
   "source": [
    "[callable(obj) for obj in (abs, str, 13)]"
   ]
  },
  {
   "cell_type": "markdown",
   "id": "44f91fc2",
   "metadata": {},
   "source": [
    "# 5.5 사용자 정의 콜러블형\n",
    "- 파이썬 함수가 실제 객체일 뿐만 아니라, 모든 파이썬 객체가 함수처럼 동작하게 만들 수 있다.\n",
    "- \\_\\_call__() method 를 통해 bingo 객체를 함수처럼 호출할 때 ( e.g. bingo() ) 어떻게 작동되는지 정할 수 있음. 여기서는 객체를 함수처럼 호출하면 pick() method가 실행됨"
   ]
  },
  {
   "cell_type": "code",
   "execution_count": 6,
   "id": "9ff6c34a",
   "metadata": {},
   "outputs": [],
   "source": [
    "import random \n",
    "\n",
    "class BingoCage:\n",
    "    \n",
    "    def __init__(self, items):\n",
    "        self._items = list(items)\n",
    "        random.shuffle(self._items)\n",
    "        \n",
    "    def pick(self):\n",
    "        try :\n",
    "            return self._items.pop()\n",
    "        except IndexError:\n",
    "            raise LookupError('pick from empty BingoCage')\n",
    "            \n",
    "    def __call__(self):\n",
    "        return self.pick()"
   ]
  },
  {
   "cell_type": "code",
   "execution_count": 7,
   "id": "91d5dac4",
   "metadata": {},
   "outputs": [
    {
     "data": {
      "text/plain": [
       "2"
      ]
     },
     "execution_count": 7,
     "metadata": {},
     "output_type": "execute_result"
    }
   ],
   "source": [
    "bingo = BingoCage(range(3))\n",
    "bingo.pick()"
   ]
  },
  {
   "cell_type": "code",
   "execution_count": 8,
   "id": "7855bd50",
   "metadata": {},
   "outputs": [
    {
     "data": {
      "text/plain": [
       "0"
      ]
     },
     "execution_count": 8,
     "metadata": {},
     "output_type": "execute_result"
    }
   ],
   "source": [
    "bingo()"
   ]
  },
  {
   "cell_type": "code",
   "execution_count": 9,
   "id": "8d5c126d",
   "metadata": {},
   "outputs": [
    {
     "data": {
      "text/plain": [
       "True"
      ]
     },
     "execution_count": 9,
     "metadata": {},
     "output_type": "execute_result"
    }
   ],
   "source": [
    "callable(bingo)"
   ]
  },
  {
   "cell_type": "markdown",
   "id": "eccc9805",
   "metadata": {},
   "source": [
    "# 5.6 함수 인트로스펙션\n",
    "- 일반적인 사용자 정의 클래스의 객체가 마찬가지로 함수는 \\_\\_dict__ 속성을 이용해서 객체에 할당된 사용자 속성을 보관한다.\n",
    "    - 이 속성은 기본적인 애너테이션 형태로서 쓸모가 많다.\n",
    "- 일반적으로 어떤 속성을 함수에 할당하는 것은 흔한 일이 아니나 사용 가능하긴함. 아래의 upper_case_name이 그 예시"
   ]
  },
  {
   "cell_type": "code",
   "execution_count": 10,
   "id": "be564280",
   "metadata": {},
   "outputs": [
    {
     "name": "stdout",
     "output_type": "stream",
     "text": [
      "['__annotations__', '__call__', '__class__', '__closure__', '__code__', '__defaults__', '__delattr__', '__dict__', '__dir__', '__doc__', '__eq__', '__format__', '__ge__', '__get__', '__getattribute__', '__globals__', '__gt__', '__hash__', '__init__', '__init_subclass__', '__kwdefaults__', '__le__', '__lt__', '__module__', '__name__', '__ne__', '__new__', '__qualname__', '__reduce__', '__reduce_ex__', '__repr__', '__setattr__', '__sizeof__', '__str__', '__subclasshook__']\n"
     ]
    }
   ],
   "source": [
    "print(dir(factorial))"
   ]
  },
  {
   "cell_type": "code",
   "execution_count": 11,
   "id": "23f1742d",
   "metadata": {},
   "outputs": [],
   "source": [
    "def upper_case_name(obj):\n",
    "    return (\"%s %s\" % (obj.first_name, obj_last_name)).upper()\n",
    "\n",
    "upper_case_name.short_description = 'Customer name'"
   ]
  },
  {
   "cell_type": "code",
   "execution_count": 12,
   "id": "1cbc27ad",
   "metadata": {},
   "outputs": [
    {
     "name": "stdout",
     "output_type": "stream",
     "text": [
      "{'short_description': 'Customer name'}\n"
     ]
    }
   ],
   "source": [
    "print(upper_case_name.__dict__)"
   ]
  },
  {
   "cell_type": "code",
   "execution_count": 13,
   "id": "bd707ff2",
   "metadata": {},
   "outputs": [
    {
     "name": "stdout",
     "output_type": "stream",
     "text": [
      "['__annotations__', '__call__', '__closure__', '__code__', '__defaults__', '__get__', '__globals__', '__kwdefaults__', '__name__', '__qualname__']\n"
     ]
    }
   ],
   "source": [
    "class C: pass\n",
    "obj = C()\n",
    "def func(): pass\n",
    "print(sorted(set(dir(func)) - set(dir(obj)) ))"
   ]
  },
  {
   "cell_type": "markdown",
   "id": "a1a972a8",
   "metadata": {},
   "source": [
    "# 5.7 위치 매개변수에서 키워드 전용 매개변수까지\n",
    "- 키워드 전용 매개 변수 ( keyword only argument ) 란 키워드 인수로만 전달될 수 있으며 결코 익명의 위치 인수로는 전달되지 않는 인수를 말한다.\n",
    "- 키워드 전용 인수를 지정하려면 * 가 붙은 인수 뒤에 이름을 지정한다.\n",
    "- 키워드 전용 인수는 기본 값을 지정하지 않아도 되며, 이후 나올 f 함수의 b 인수를 필수 인수로 만든다."
   ]
  },
  {
   "cell_type": "code",
   "execution_count": 14,
   "id": "884e76fc",
   "metadata": {},
   "outputs": [],
   "source": [
    "def tag(name, *content, cls=None, **attrs):\n",
    "    \"\"\"하나 이상의 HTML 태그를 생성\"\"\"\n",
    "    if cls is not None:\n",
    "        attrs['class'] = cls\n",
    "    if attrs:\n",
    "        attr_str = ''.join(' %s=\"%s\"' % (attr, value)\n",
    "                          for attr, value in sorted(attrs.items()))\n",
    "    else:\n",
    "        attr_str = ''\n",
    "    if content:\n",
    "        return '\\n'.join('<%s%s>%s</%s>' %\n",
    "                        (name, attr_str, c, name) for c in content)\n",
    "    else:\n",
    "        return '<%s%s />' % (name, attr_str)"
   ]
  },
  {
   "cell_type": "code",
   "execution_count": 15,
   "id": "8e1a8b81",
   "metadata": {},
   "outputs": [
    {
     "name": "stdout",
     "output_type": "stream",
     "text": [
      "<br />\n",
      "<p>hello</p>\n",
      "<p>hello</p>\n",
      "<p>world</p>\n",
      "<p id=\"33\">hello</p>\n",
      "<p class=\"sidebar\">hello</p>\n",
      "<p class=\"sidebar\">world</p>\n",
      "<img content=\"testing\" />\n",
      "<img class=\"framed\" src=\"sunset.jpg\" title=\"Sunset Boulevard\" />\n"
     ]
    }
   ],
   "source": [
    "print(tag('br'))\n",
    "print(tag('p','hello'))\n",
    "print(tag('p','hello','world'))\n",
    "print(tag('p','hello',id=33))\n",
    "print(tag('p', 'hello', 'world', cls='sidebar'))\n",
    "print(tag(content='testing', name='img'))\n",
    "\n",
    "\n",
    "my_tag = {'name':'img', 'title':'Sunset Boulevard',\n",
    "         'src':'sunset.jpg', 'cls':'framed'}\n",
    "\n",
    "print(tag(**my_tag))"
   ]
  },
  {
   "cell_type": "code",
   "execution_count": 16,
   "id": "f982b50b",
   "metadata": {},
   "outputs": [
    {
     "name": "stdout",
     "output_type": "stream",
     "text": [
      "(1, 2)\n"
     ]
    }
   ],
   "source": [
    "def f(a, *c, b):\n",
    "    return a,b\n",
    "print(f(1 ,2,3,4,5,6, b = 2))"
   ]
  },
  {
   "cell_type": "markdown",
   "id": "dc962522",
   "metadata": {},
   "source": [
    "# 5.8 매개변수에 대한 정보 읽기\n",
    "- 함수 객체 안의 \\_\\_defaults__ 속성에는 위치 인수와 키워드 인수의 기본 값을 가진 튜플이 들어있다.\n",
    "- 키워드 전용 인수의 기본 값은 \\_\\_kwdefaults__ 속성에 들어가 있다.\n",
    "- 인수명은 \\_\\_code__ 속성에 들어있는데, 이 속성은 여러 속성을 담고 있는 code 객체를 가르킨다."
   ]
  },
  {
   "cell_type": "code",
   "execution_count": 17,
   "id": "54f96850",
   "metadata": {},
   "outputs": [],
   "source": [
    "def clip(text, max_len = 80):\n",
    "    \"\"\"max_len 앞이나 뒤의 마지막 공백에서 잘라낸 텍스르를 반환한다.\n",
    "    \"\"\"\n",
    "    end = None\n",
    "    if len(text) > max_len:\n",
    "        space_before = text.rfind(' ', 0 ,max_len )\n",
    "        if space_before >= 0 :\n",
    "            end = space_before\n",
    "        else:\n",
    "            space_after = text.rfind(' ', max_len)\n",
    "            if space_after >= 0:\n",
    "                end = space_after\n",
    "    if end is None:\n",
    "        end = len(text)\n",
    "    return text[:end].rstrip()"
   ]
  },
  {
   "cell_type": "code",
   "execution_count": 18,
   "id": "bdd0c68b",
   "metadata": {},
   "outputs": [
    {
     "name": "stdout",
     "output_type": "stream",
     "text": [
      "(80,)\n",
      "<code object clip at 0x000001C8251FCB30, file \"C:\\Users\\user\\Desktop\\Python\\FluentPython\\MunKi\\clip.py\", line 2>\n",
      "('text', 'max_len', 'end', 'space_before', 'space_after')\n",
      "2\n"
     ]
    }
   ],
   "source": [
    "from clip import clip\n",
    "print(clip.__defaults__)\n",
    "print(clip.__code__)\n",
    "print(clip.__code__.co_varnames)\n",
    "print(clip.__code__.co_argcount)\n",
    "\n",
    "# 정보를 보기 쉽지 않음 => inspect module 이용"
   ]
  },
  {
   "cell_type": "code",
   "execution_count": 19,
   "id": "bda4e93e",
   "metadata": {},
   "outputs": [
    {
     "name": "stdout",
     "output_type": "stream",
     "text": [
      "(text, max_len=80)\n"
     ]
    }
   ],
   "source": [
    "from clip import clip\n",
    "from inspect import signature\n",
    "sig = signature(clip)\n",
    "print(sig)"
   ]
  },
  {
   "cell_type": "code",
   "execution_count": 20,
   "id": "3f3398a4",
   "metadata": {},
   "outputs": [
    {
     "name": "stdout",
     "output_type": "stream",
     "text": [
      "(text, max_len=80)\n"
     ]
    }
   ],
   "source": [
    "print(str(sig))"
   ]
  },
  {
   "cell_type": "code",
   "execution_count": 21,
   "id": "529943e1",
   "metadata": {},
   "outputs": [
    {
     "name": "stdout",
     "output_type": "stream",
     "text": [
      "POSITIONAL_OR_KEYWORD  :  text  =  <class 'inspect._empty'>\n",
      "POSITIONAL_OR_KEYWORD  :  max_len  =  80\n"
     ]
    }
   ],
   "source": [
    "for name, param in sig.parameters.items():\n",
    "    print(param.kind , ' : ' , name , ' = ' , param.default)"
   ]
  },
  {
   "cell_type": "code",
   "execution_count": 22,
   "id": "52435087",
   "metadata": {},
   "outputs": [
    {
     "name": "stdout",
     "output_type": "stream",
     "text": [
      "<BoundArguments (name='img', cls='framed', attrs={'title': 'Sunset Boulevard', 'src': 'sunset.jpg'})>\n"
     ]
    }
   ],
   "source": [
    "import inspect\n",
    "sig = inspect.signature(tag)\n",
    "my_tag = {'name':'img', 'title':'Sunset Boulevard',\n",
    "         'src':'sunset.jpg', 'cls':'framed'}\n",
    "bound_args = sig.bind(**my_tag)\n",
    "print(bound_args)"
   ]
  },
  {
   "cell_type": "code",
   "execution_count": 23,
   "id": "c6baf2bc",
   "metadata": {},
   "outputs": [
    {
     "name": "stdout",
     "output_type": "stream",
     "text": [
      "name  =  img\n",
      "cls  =  framed\n",
      "attrs  =  {'title': 'Sunset Boulevard', 'src': 'sunset.jpg'}\n"
     ]
    }
   ],
   "source": [
    "for name, value in bound_args.arguments.items(): # arguments 는 OrderedDict 형\n",
    "    print(name , ' = ' , value)"
   ]
  },
  {
   "cell_type": "code",
   "execution_count": 24,
   "id": "30854074",
   "metadata": {},
   "outputs": [
    {
     "ename": "TypeError",
     "evalue": "missing a required argument: 'name'",
     "output_type": "error",
     "traceback": [
      "\u001b[1;31m---------------------------------------------------------------------------\u001b[0m",
      "\u001b[1;31mTypeError\u001b[0m                                 Traceback (most recent call last)",
      "Input \u001b[1;32mIn [24]\u001b[0m, in \u001b[0;36m<cell line: 2>\u001b[1;34m()\u001b[0m\n\u001b[0;32m      1\u001b[0m \u001b[38;5;28;01mdel\u001b[39;00m my_tag[\u001b[38;5;124m'\u001b[39m\u001b[38;5;124mname\u001b[39m\u001b[38;5;124m'\u001b[39m]\n\u001b[1;32m----> 2\u001b[0m bound_args \u001b[38;5;241m=\u001b[39m sig\u001b[38;5;241m.\u001b[39mbind(\u001b[38;5;241m*\u001b[39m\u001b[38;5;241m*\u001b[39mmy_tag)\n",
      "File \u001b[1;32mC:\\ProgramData\\Anaconda3\\lib\\inspect.py:3045\u001b[0m, in \u001b[0;36mSignature.bind\u001b[1;34m(self, *args, **kwargs)\u001b[0m\n\u001b[0;32m   3040\u001b[0m \u001b[38;5;28;01mdef\u001b[39;00m \u001b[38;5;21mbind\u001b[39m(\u001b[38;5;28mself\u001b[39m, \u001b[38;5;241m/\u001b[39m, \u001b[38;5;241m*\u001b[39margs, \u001b[38;5;241m*\u001b[39m\u001b[38;5;241m*\u001b[39mkwargs):\n\u001b[0;32m   3041\u001b[0m     \u001b[38;5;124;03m\"\"\"Get a BoundArguments object, that maps the passed `args`\u001b[39;00m\n\u001b[0;32m   3042\u001b[0m \u001b[38;5;124;03m    and `kwargs` to the function's signature.  Raises `TypeError`\u001b[39;00m\n\u001b[0;32m   3043\u001b[0m \u001b[38;5;124;03m    if the passed arguments can not be bound.\u001b[39;00m\n\u001b[0;32m   3044\u001b[0m \u001b[38;5;124;03m    \"\"\"\u001b[39;00m\n\u001b[1;32m-> 3045\u001b[0m     \u001b[38;5;28;01mreturn\u001b[39;00m \u001b[38;5;28;43mself\u001b[39;49m\u001b[38;5;241;43m.\u001b[39;49m\u001b[43m_bind\u001b[49m\u001b[43m(\u001b[49m\u001b[43margs\u001b[49m\u001b[43m,\u001b[49m\u001b[43m \u001b[49m\u001b[43mkwargs\u001b[49m\u001b[43m)\u001b[49m\n",
      "File \u001b[1;32mC:\\ProgramData\\Anaconda3\\lib\\inspect.py:2960\u001b[0m, in \u001b[0;36mSignature._bind\u001b[1;34m(self, args, kwargs, partial)\u001b[0m\n\u001b[0;32m   2958\u001b[0m                 msg \u001b[38;5;241m=\u001b[39m \u001b[38;5;124m'\u001b[39m\u001b[38;5;124mmissing a required argument: \u001b[39m\u001b[38;5;132;01m{arg!r}\u001b[39;00m\u001b[38;5;124m'\u001b[39m\n\u001b[0;32m   2959\u001b[0m                 msg \u001b[38;5;241m=\u001b[39m msg\u001b[38;5;241m.\u001b[39mformat(arg\u001b[38;5;241m=\u001b[39mparam\u001b[38;5;241m.\u001b[39mname)\n\u001b[1;32m-> 2960\u001b[0m                 \u001b[38;5;28;01mraise\u001b[39;00m \u001b[38;5;167;01mTypeError\u001b[39;00m(msg) \u001b[38;5;28;01mfrom\u001b[39;00m \u001b[38;5;28mNone\u001b[39m\n\u001b[0;32m   2961\u001b[0m \u001b[38;5;28;01melse\u001b[39;00m:\n\u001b[0;32m   2962\u001b[0m     \u001b[38;5;66;03m# We have a positional argument to process\u001b[39;00m\n\u001b[0;32m   2963\u001b[0m     \u001b[38;5;28;01mtry\u001b[39;00m:\n",
      "\u001b[1;31mTypeError\u001b[0m: missing a required argument: 'name'"
     ]
    }
   ],
   "source": [
    "del my_tag['name']\n",
    "bound_args = sig.bind(**my_tag) # name 빼고 binding 하면 name 이 빠져있다고 나옴"
   ]
  },
  {
   "cell_type": "markdown",
   "id": "9790df4f",
   "metadata": {},
   "source": [
    "# 5.9 함수 애너테이션\n",
    "- 파이썬 3는 함수의 매개변수와 반환 값에 메타데이터를 추가할 수 있는 구문을 제공한다.\n",
    "- 함수 선언에서 각 매개변수에는 콜론(:) 뒤에 애너테이션 표현식을 추가할 수 있다.\n",
    "    - 기본 값이 있을 때, 에너테이션은 인수명과 등호(=)사이에 들어간다.\n",
    "- 반환 값에 애너테이션을 추가하려면 매개변수를 닫는 괄호와 함수 선언의 제일 뒤에 오는 콜론 사이에 -> 기호와 표현식을 추가한다.\n",
    "- 표현식은 어떤 자료형도 될 수 있다.\n",
    "    - str, int 와 같은 클래스, 'int>0' 와 같은 문자열이 애너테이션에서 가장 널리 사용되는 자료형이다."
   ]
  },
  {
   "cell_type": "code",
   "execution_count": 25,
   "id": "0cac3330",
   "metadata": {},
   "outputs": [],
   "source": [
    "def clip(text:str, max_len:'int>0' = 80) -> str :\n",
    "    \"\"\"max_len 앞이나 뒤의 마지막 공백에서 잘라낸 텍스르를 반환한다.\n",
    "    \"\"\"\n",
    "    end = None\n",
    "    if len(text) > max_len:\n",
    "        space_before = text.rfind(' ', 0 ,max_len )\n",
    "        if space_before >= 0 :\n",
    "            end = space_before\n",
    "        else:\n",
    "            space_after = text.rfind(' ', max_len)\n",
    "            if space_after >= 0:\n",
    "                end = space_after\n",
    "    if end is None:\n",
    "        end = len(text)\n",
    "    return text[:end].rstrip()"
   ]
  },
  {
   "cell_type": "code",
   "execution_count": 27,
   "id": "e8e0fd99",
   "metadata": {},
   "outputs": [
    {
     "name": "stdout",
     "output_type": "stream",
     "text": [
      "{'text': <class 'str'>, 'max_len': 'int>0', 'return': <class 'str'>}\n"
     ]
    }
   ],
   "source": [
    "#from clip import clip_annot\n",
    "#print(clip_annot.__annotations__)\n",
    "\n",
    "print(clip.__annotations__)"
   ]
  },
  {
   "cell_type": "code",
   "execution_count": 28,
   "id": "396ea588",
   "metadata": {},
   "outputs": [],
   "source": [
    "# 다음과 같은 annotation 으로 list[str] 로 type 이 list 이고 그 list 의 요소가 str 인것을 알릴 수도 있음. \n",
    "def clip_annot(text:list, max_len:'int>0' = 80) -> list[str] :\n",
    "    \"\"\"max_len 앞이나 뒤의 마지막 공백에서 잘라낸 텍스르를 반환한다.\n",
    "    \"\"\"\n",
    "    end = None\n",
    "    if len(text) > max_len:\n",
    "        space_before = text.rfind(' ', 0 ,max_len )\n",
    "        if space_before >= 0 :\n",
    "            end = space_before\n",
    "        else:\n",
    "            space_after = text.rfind(' ', max_len)\n",
    "            if space_after >= 0:\n",
    "                end = space_after\n",
    "    if end is None:\n",
    "        end = len(text)\n",
    "    return text[:end].rstrip().split()"
   ]
  },
  {
   "cell_type": "code",
   "execution_count": 30,
   "id": "68073d78",
   "metadata": {},
   "outputs": [
    {
     "name": "stdout",
     "output_type": "stream",
     "text": [
      "{'text': <class 'list'>, 'max_len': 'int>0', 'return': list[str]}\n"
     ]
    }
   ],
   "source": [
    "print(clip_annot.__annotations__)"
   ]
  },
  {
   "cell_type": "code",
   "execution_count": 31,
   "id": "275c89ca",
   "metadata": {},
   "outputs": [
    {
     "data": {
      "text/plain": [
       "str"
      ]
     },
     "execution_count": 31,
     "metadata": {},
     "output_type": "execute_result"
    }
   ],
   "source": [
    "from clip import clip_annot\n",
    "from inspect import signature\n",
    "sig = signature(clip_annot)\n",
    "sig.return_annotation"
   ]
  },
  {
   "cell_type": "code",
   "execution_count": 32,
   "id": "d9c35e90",
   "metadata": {},
   "outputs": [
    {
     "name": "stdout",
     "output_type": "stream",
     "text": [
      "<class 'str'> : text = <class 'inspect._empty'>\n",
      "'int>0'       : max_len = 80\n"
     ]
    }
   ],
   "source": [
    "for param in sig.parameters.values():\n",
    "    note = repr(param.annotation).ljust(13)\n",
    "    print(note, ':', param.name, '=' , param.default)"
   ]
  },
  {
   "cell_type": "code",
   "execution_count": 33,
   "id": "a3e10f11",
   "metadata": {},
   "outputs": [
    {
     "data": {
      "text/plain": [
       "mappingproxy({'text': <Parameter \"text: str\">,\n",
       "              'max_len': <Parameter \"max_len: 'int>0' = 80\">})"
      ]
     },
     "execution_count": 33,
     "metadata": {},
     "output_type": "execute_result"
    }
   ],
   "source": [
    "sig.parameters"
   ]
  },
  {
   "cell_type": "code",
   "execution_count": 38,
   "id": "0daed2b4",
   "metadata": {},
   "outputs": [
    {
     "data": {
      "text/plain": [
       "str"
      ]
     },
     "execution_count": 38,
     "metadata": {},
     "output_type": "execute_result"
    }
   ],
   "source": [
    "sig.parameters['text'].annotation"
   ]
  },
  {
   "cell_type": "markdown",
   "id": "78360a93",
   "metadata": {},
   "source": [
    "# 5.10 함수형 프로그래밍을 위한 패키지"
   ]
  },
  {
   "cell_type": "markdown",
   "id": "25abcdad",
   "metadata": {},
   "source": [
    "## 5.10.1 operator 모듈\n",
    "- operator 모듈은 시퀀스에서 항목을 가져오는 람다를 대체하는 itemgetter() 함수와 객체의 속성을 읽는 람다를 대체하는 atrgetter() 함수를 제공한다.\n",
    "- itemgetter()\n",
    "    - itemgetter(1) 은 본질적으로 lambda x :x[1]과 동일하다.\n",
    "    - itemgetter()에 여러 개의 인덱스를 인수로 전달하면, 생성된 함수는 해당 인덱스의 값들로 구성된 튜플을 반환한다.\n",
    "    - itemgetter() 는 [] 연산자를 사용하므로 시퀀스뿐만 아니라 매핑 및 \\_\\_getitem__() 을 구현한 모든 클래스를 지원한다.\n",
    "- attrgetter()\n",
    "    - itemgetter() 의 형제인 attrgetter() 는 이름으로 객체 속성을 추출하는 함수를 생성한다.\n",
    "    - attrgetter() 에 여러 속성명을 인수로 전달하면, 역시 해당 속성 값으로 구성된 튜플을 반환한다.\n",
    "    - 속성명에 점(.)이 포함되어 있으면 attrgetter()는 내포된 객체를 찾아서 해당 속성을 가져온다.\n",
    "- methodcaller()  # operator 의 함수\n",
    "    - methodcaller() 는 실행 중 함수를 생성한다는 점에서 attrgetter() 나 itemgetter() 메서드와 비슷하다.\n",
    "    - methodcaller() 가 생성한 함수는 인수로 전달받은 객체의 메서드를 호출한다."
   ]
  },
  {
   "cell_type": "code",
   "execution_count": 39,
   "id": "25027100",
   "metadata": {},
   "outputs": [],
   "source": [
    "from functools import reduce\n",
    "\n",
    "def fact(n):\n",
    "    return reduce( lambda a, b: a*b , range(1,n+1))"
   ]
  },
  {
   "cell_type": "code",
   "execution_count": 40,
   "id": "811fdeff",
   "metadata": {},
   "outputs": [],
   "source": [
    "from functools import reduce\n",
    "from operator import mul\n",
    "\n",
    "def fact(n):\n",
    "    return reduce( mul, range(1,n+1) )"
   ]
  },
  {
   "cell_type": "code",
   "execution_count": 41,
   "id": "b618dd99",
   "metadata": {},
   "outputs": [],
   "source": [
    "metro_data = [\n",
    "    ('Tokyo', 'JP', 36.933, (35.689722, 139.691667)),   # <1>\n",
    "    ('Delhi NCR', 'IN', 21.935, (28.613889, 77.208889)),\n",
    "    ('Mexico City', 'MX', 20.142, (19.433333, -99.133333)),\n",
    "    ('New York-Newark', 'US', 20.104, (40.808611, -74.020386)),\n",
    "    ('Sao Paulo', 'BR', 19.649, (-23.547778, -46.635833)),\n",
    "]"
   ]
  },
  {
   "cell_type": "code",
   "execution_count": 42,
   "id": "80e26bcc",
   "metadata": {},
   "outputs": [
    {
     "name": "stdout",
     "output_type": "stream",
     "text": [
      "('Sao Paulo', 'BR', 19.649, (-23.547778, -46.635833))\n",
      "('Delhi NCR', 'IN', 21.935, (28.613889, 77.208889))\n",
      "('Tokyo', 'JP', 36.933, (35.689722, 139.691667))\n",
      "('Mexico City', 'MX', 20.142, (19.433333, -99.133333))\n",
      "('New York-Newark', 'US', 20.104, (40.808611, -74.020386))\n"
     ]
    }
   ],
   "source": [
    "from operator import itemgetter\n",
    "for city in sorted(metro_data, key = itemgetter(1)):\n",
    "    print(city)"
   ]
  },
  {
   "cell_type": "code",
   "execution_count": 43,
   "id": "6b979813",
   "metadata": {},
   "outputs": [
    {
     "name": "stdout",
     "output_type": "stream",
     "text": [
      "('JP', 'Tokyo')\n",
      "('IN', 'Delhi NCR')\n",
      "('MX', 'Mexico City')\n",
      "('US', 'New York-Newark')\n",
      "('BR', 'Sao Paulo')\n"
     ]
    }
   ],
   "source": [
    "cc_name = itemgetter(1,0)\n",
    "for city in metro_data:\n",
    "    print(cc_name(city))"
   ]
  },
  {
   "cell_type": "code",
   "execution_count": 44,
   "id": "3fe01915",
   "metadata": {},
   "outputs": [
    {
     "name": "stdout",
     "output_type": "stream",
     "text": [
      "('Sao Paulo', 'BR', 19.649, (-23.547778, -46.635833))\n",
      "('Delhi NCR', 'IN', 21.935, (28.613889, 77.208889))\n",
      "('Tokyo', 'JP', 36.933, (35.689722, 139.691667))\n",
      "('Mexico City', 'MX', 20.142, (19.433333, -99.133333))\n",
      "('New York-Newark', 'US', 20.104, (40.808611, -74.020386))\n"
     ]
    }
   ],
   "source": [
    "from operator import itemgetter\n",
    "for city in sorted(metro_data, key = itemgetter(1)):\n",
    "    print(city)"
   ]
  },
  {
   "cell_type": "code",
   "execution_count": 45,
   "id": "1827189f",
   "metadata": {},
   "outputs": [],
   "source": [
    "from collections import namedtuple\n",
    "LatLong = namedtuple('LatLong', 'lat long')\n",
    "Metropolis = namedtuple('Metropolis', 'name cc pop coord')\n",
    "metro_areas = [Metropolis(name, cc, pop, LatLong(lat, long))\n",
    "              for name, cc, pop, (lat, long) in metro_data]"
   ]
  },
  {
   "cell_type": "code",
   "execution_count": 46,
   "id": "b6e6ba91",
   "metadata": {},
   "outputs": [
    {
     "name": "stdout",
     "output_type": "stream",
     "text": [
      "Metropolis(name='Tokyo', cc='JP', pop=36.933, coord=LatLong(lat=35.689722, long=139.691667))\n"
     ]
    }
   ],
   "source": [
    "print(metro_areas[0])"
   ]
  },
  {
   "cell_type": "code",
   "execution_count": 47,
   "id": "75baa345",
   "metadata": {},
   "outputs": [
    {
     "name": "stdout",
     "output_type": "stream",
     "text": [
      "35.689722\n"
     ]
    }
   ],
   "source": [
    "print(metro_areas[0].coord.lat)"
   ]
  },
  {
   "cell_type": "code",
   "execution_count": 48,
   "id": "8c6eba8f",
   "metadata": {},
   "outputs": [
    {
     "name": "stdout",
     "output_type": "stream",
     "text": [
      "('Sao Paulo', -23.547778)\n",
      "('Mexico City', 19.433333)\n",
      "('Delhi NCR', 28.613889)\n",
      "('Tokyo', 35.689722)\n",
      "('New York-Newark', 40.808611)\n"
     ]
    }
   ],
   "source": [
    "from operator import attrgetter\n",
    "name_lat = attrgetter('name','coord.lat')\n",
    "\n",
    "for city in sorted(metro_areas, key = attrgetter('coord.lat')):\n",
    "    print(name_lat(city))"
   ]
  },
  {
   "cell_type": "code",
   "execution_count": 64,
   "id": "ee045752",
   "metadata": {},
   "outputs": [
    {
     "data": {
      "text/plain": [
       "operator.attrgetter('name', 'coord.lat')"
      ]
     },
     "execution_count": 64,
     "metadata": {},
     "output_type": "execute_result"
    }
   ],
   "source": [
    "name_lat"
   ]
  },
  {
   "cell_type": "code",
   "execution_count": 49,
   "id": "2c98d81b",
   "metadata": {
    "scrolled": true
   },
   "outputs": [
    {
     "data": {
      "text/plain": [
       "['abs',\n",
       " 'add',\n",
       " 'and_',\n",
       " 'attrgetter',\n",
       " 'concat',\n",
       " 'contains',\n",
       " 'countOf',\n",
       " 'delitem',\n",
       " 'eq',\n",
       " 'floordiv',\n",
       " 'ge',\n",
       " 'getitem',\n",
       " 'gt',\n",
       " 'iadd',\n",
       " 'iand',\n",
       " 'iconcat',\n",
       " 'ifloordiv',\n",
       " 'ilshift',\n",
       " 'imatmul',\n",
       " 'imod',\n",
       " 'imul',\n",
       " 'index',\n",
       " 'indexOf',\n",
       " 'inv',\n",
       " 'invert',\n",
       " 'ior',\n",
       " 'ipow',\n",
       " 'irshift',\n",
       " 'is_',\n",
       " 'is_not',\n",
       " 'isub',\n",
       " 'itemgetter',\n",
       " 'itruediv',\n",
       " 'ixor',\n",
       " 'le',\n",
       " 'length_hint',\n",
       " 'lshift',\n",
       " 'lt',\n",
       " 'matmul',\n",
       " 'methodcaller',\n",
       " 'mod',\n",
       " 'mul',\n",
       " 'ne',\n",
       " 'neg',\n",
       " 'not_',\n",
       " 'or_',\n",
       " 'pos',\n",
       " 'pow',\n",
       " 'rshift',\n",
       " 'setitem',\n",
       " 'sub',\n",
       " 'truediv',\n",
       " 'truth',\n",
       " 'xor']"
      ]
     },
     "execution_count": 49,
     "metadata": {},
     "output_type": "execute_result"
    }
   ],
   "source": [
    "import operator\n",
    "[name for name in dir(operator) if not name.startswith('_')]"
   ]
  },
  {
   "cell_type": "code",
   "execution_count": 50,
   "id": "1e125b33",
   "metadata": {},
   "outputs": [
    {
     "name": "stdout",
     "output_type": "stream",
     "text": [
      "THE TIME HAS COME\n"
     ]
    }
   ],
   "source": [
    "from operator import methodcaller\n",
    "s = 'The time has come'\n",
    "upcase = methodcaller('upper')\n",
    "print(upcase(s))"
   ]
  },
  {
   "cell_type": "code",
   "execution_count": 51,
   "id": "87dee44f",
   "metadata": {},
   "outputs": [
    {
     "name": "stdout",
     "output_type": "stream",
     "text": [
      "The-time-has-come\n"
     ]
    }
   ],
   "source": [
    "hiphenate = methodcaller('replace', ' ', '-')\n",
    "print(hiphenate(s))"
   ]
  },
  {
   "cell_type": "code",
   "execution_count": 65,
   "id": "530aa4e0",
   "metadata": {},
   "outputs": [
    {
     "data": {
      "text/plain": [
       "'THE TIME HAS COME'"
      ]
     },
     "execution_count": 65,
     "metadata": {},
     "output_type": "execute_result"
    }
   ],
   "source": [
    "str.upper(s)"
   ]
  },
  {
   "cell_type": "markdown",
   "id": "24d26c14",
   "metadata": {},
   "source": [
    "## 5.10.2 functools.partial()로 인수 고정하기\n",
    "- functools 모듈은 몇 가지 고위 함수를 통합한다. 그중 가장 널리 알려진 함수가 reduce()함수다.\n",
    "- functools에서 제공하는 나머지 함수 중 partial() 및 이의 변형인 partialmethod() 함수가 매우 유용\n",
    "- functools.partial() 은 함수를 부분적으로 실행할 수 있게 해주는 고위함수다.\n",
    "- partial() 의 첫 번째 인수는 콜러블이며, 그 뒤에 바인딩할 위치 인수와 키워드 인수가 원하는 만큼 나온다."
   ]
  },
  {
   "cell_type": "code",
   "execution_count": 53,
   "id": "a858576b",
   "metadata": {},
   "outputs": [
    {
     "name": "stdout",
     "output_type": "stream",
     "text": [
      "21\n"
     ]
    }
   ],
   "source": [
    "from operator import mul\n",
    "from functools import partial\n",
    "triple = partial(mul, 3)\n",
    "print(triple(7))"
   ]
  },
  {
   "cell_type": "code",
   "execution_count": 54,
   "id": "e0000821",
   "metadata": {},
   "outputs": [
    {
     "name": "stdout",
     "output_type": "stream",
     "text": [
      "[3, 6, 9, 12, 15, 18, 21, 24, 27]\n"
     ]
    }
   ],
   "source": [
    "print(list(map(triple, range(1,10))))"
   ]
  },
  {
   "cell_type": "code",
   "execution_count": 55,
   "id": "1d5dc0fa",
   "metadata": {},
   "outputs": [
    {
     "ename": "TypeError",
     "evalue": "mul expected 2 arguments, got 1",
     "output_type": "error",
     "traceback": [
      "\u001b[1;31m---------------------------------------------------------------------------\u001b[0m",
      "\u001b[1;31mTypeError\u001b[0m                                 Traceback (most recent call last)",
      "Input \u001b[1;32mIn [55]\u001b[0m, in \u001b[0;36m<cell line: 2>\u001b[1;34m()\u001b[0m\n\u001b[0;32m      1\u001b[0m \u001b[38;5;66;03m# mul() 함수는 이 예제의 map() 안에서 사용할 수 없다. ( 이 경우는 고정되어 있는 인수가 없기 때문에)\u001b[39;00m\n\u001b[1;32m----> 2\u001b[0m \u001b[38;5;28mprint\u001b[39m(\u001b[38;5;28;43mlist\u001b[39;49m\u001b[43m(\u001b[49m\u001b[38;5;28;43mmap\u001b[39;49m\u001b[43m(\u001b[49m\u001b[43m \u001b[49m\u001b[43mmul\u001b[49m\u001b[43m \u001b[49m\u001b[43m,\u001b[49m\u001b[43m \u001b[49m\u001b[38;5;28;43mrange\u001b[39;49m\u001b[43m(\u001b[49m\u001b[38;5;241;43m1\u001b[39;49m\u001b[43m,\u001b[49m\u001b[38;5;241;43m10\u001b[39;49m\u001b[43m)\u001b[49m\u001b[43m)\u001b[49m\u001b[43m)\u001b[49m)\n",
      "\u001b[1;31mTypeError\u001b[0m: mul expected 2 arguments, got 1"
     ]
    }
   ],
   "source": [
    "# mul() 함수는 이 예제의 map() 안에서 사용할 수 없다. ( 이 경우는 고정되어 있는 인수가 없기 때문에)\n",
    "print(list(map( mul , range(1,10))))"
   ]
  },
  {
   "cell_type": "code",
   "execution_count": 56,
   "id": "6937c8ec",
   "metadata": {},
   "outputs": [
    {
     "name": "stdout",
     "output_type": "stream",
     "text": [
      "café café\n"
     ]
    }
   ],
   "source": [
    "import unicodedata, functools\n",
    "nfc = functools.partial(unicodedata.normalize, 'NFC')\n",
    "s1 = 'café'\n",
    "s2 = 'cafe\\u0301'\n",
    "print(s1, s2)"
   ]
  },
  {
   "cell_type": "code",
   "execution_count": 57,
   "id": "88c30033",
   "metadata": {},
   "outputs": [
    {
     "name": "stdout",
     "output_type": "stream",
     "text": [
      "False\n"
     ]
    }
   ],
   "source": [
    "print(s1 == s2)"
   ]
  },
  {
   "cell_type": "code",
   "execution_count": 58,
   "id": "d1b411fa",
   "metadata": {},
   "outputs": [
    {
     "name": "stdout",
     "output_type": "stream",
     "text": [
      "True\n"
     ]
    }
   ],
   "source": [
    "print(nfc(s1) == nfc(s2))"
   ]
  },
  {
   "cell_type": "code",
   "execution_count": 59,
   "id": "b4702606",
   "metadata": {},
   "outputs": [
    {
     "name": "stdout",
     "output_type": "stream",
     "text": [
      "<img class=\"pic-frame\" src=\"wumpus.jpeg\" />\n"
     ]
    }
   ],
   "source": [
    "from functools import partial\n",
    "picture = partial(tag,'img', cls = 'pic-frame')\n",
    "print(picture(src='wumpus.jpeg'))"
   ]
  },
  {
   "cell_type": "code",
   "execution_count": 60,
   "id": "38451ec7",
   "metadata": {},
   "outputs": [
    {
     "name": "stdout",
     "output_type": "stream",
     "text": [
      "functools.partial(<function tag at 0x000001C8251CDF70>, 'img', cls='pic-frame')\n"
     ]
    }
   ],
   "source": [
    "print(picture)"
   ]
  },
  {
   "cell_type": "code",
   "execution_count": 66,
   "id": "dfbca25b",
   "metadata": {},
   "outputs": [
    {
     "name": "stdout",
     "output_type": "stream",
     "text": [
      "<function tag at 0x000001C8251CDF70>\n"
     ]
    }
   ],
   "source": [
    "print(picture.func)"
   ]
  },
  {
   "cell_type": "code",
   "execution_count": 62,
   "id": "11f9e102",
   "metadata": {},
   "outputs": [
    {
     "name": "stdout",
     "output_type": "stream",
     "text": [
      "<function tag at 0x000001C8251CDF70>\n",
      "('img',)\n",
      "{'cls': 'pic-frame'}\n"
     ]
    }
   ],
   "source": [
    "# functools.parial 객체는 원래 함수와 고정된 인수에 접근할 수 있는 속성을 가지고 있다.\n",
    "print(picture.func)\n",
    "print(picture.args)     # positional arguments\n",
    "print(picture.keywords) # keyword only arguments"
   ]
  }
 ],
 "metadata": {
  "kernelspec": {
   "display_name": "Python 3 (ipykernel)",
   "language": "python",
   "name": "python3"
  },
  "language_info": {
   "codemirror_mode": {
    "name": "ipython",
    "version": 3
   },
   "file_extension": ".py",
   "mimetype": "text/x-python",
   "name": "python",
   "nbconvert_exporter": "python",
   "pygments_lexer": "ipython3",
   "version": "3.9.12"
  }
 },
 "nbformat": 4,
 "nbformat_minor": 5
}
