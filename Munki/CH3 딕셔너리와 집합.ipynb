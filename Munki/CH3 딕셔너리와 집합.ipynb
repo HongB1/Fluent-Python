{
 "cells": [
  {
   "cell_type": "markdown",
   "id": "fa2afb8a",
   "metadata": {},
   "source": [
    "# 3.1 일반적인 매핑형"
   ]
  },
  {
   "cell_type": "code",
   "execution_count": 2,
   "id": "f0d8d7a9",
   "metadata": {},
   "outputs": [
    {
     "data": {
      "text/plain": [
       "True"
      ]
     },
     "execution_count": 2,
     "metadata": {},
     "output_type": "execute_result"
    }
   ],
   "source": [
    "my_dict = {}\n",
    "import collections\n",
    "isinstance(my_dict, collections.abc.Mapping)"
   ]
  },
  {
   "cell_type": "code",
   "execution_count": 3,
   "id": "5491fe39",
   "metadata": {},
   "outputs": [
    {
     "name": "stdout",
     "output_type": "stream",
     "text": [
      "-3907003130834322577\n"
     ]
    }
   ],
   "source": [
    "tt = (1,2,(30,40))\n",
    "print(hash(tt))"
   ]
  },
  {
   "cell_type": "code",
   "execution_count": 4,
   "id": "00d72505",
   "metadata": {},
   "outputs": [
    {
     "ename": "TypeError",
     "evalue": "unhashable type: 'list'",
     "output_type": "error",
     "traceback": [
      "\u001b[1;31m---------------------------------------------------------------------------\u001b[0m",
      "\u001b[1;31mTypeError\u001b[0m                                 Traceback (most recent call last)",
      "Input \u001b[1;32mIn [4]\u001b[0m, in \u001b[0;36m<cell line: 2>\u001b[1;34m()\u001b[0m\n\u001b[0;32m      1\u001b[0m tl \u001b[38;5;241m=\u001b[39m (\u001b[38;5;241m1\u001b[39m,\u001b[38;5;241m2\u001b[39m,[\u001b[38;5;241m30\u001b[39m,\u001b[38;5;241m40\u001b[39m])\n\u001b[1;32m----> 2\u001b[0m \u001b[38;5;28mprint\u001b[39m(\u001b[38;5;28;43mhash\u001b[39;49m\u001b[43m(\u001b[49m\u001b[43mtl\u001b[49m\u001b[43m)\u001b[49m)\n",
      "\u001b[1;31mTypeError\u001b[0m: unhashable type: 'list'"
     ]
    }
   ],
   "source": [
    "tl = (1,2,[30,40])\n",
    "print(hash(tl))"
   ]
  },
  {
   "cell_type": "code",
   "execution_count": 5,
   "id": "e80d0d2d",
   "metadata": {
    "scrolled": true
   },
   "outputs": [
    {
     "name": "stdout",
     "output_type": "stream",
     "text": [
      "5149391500123939311\n"
     ]
    }
   ],
   "source": [
    "tf = (1,2,frozenset([30,40]))\n",
    "print(hash(tf))"
   ]
  },
  {
   "cell_type": "code",
   "execution_count": 12,
   "id": "dd55c73c",
   "metadata": {},
   "outputs": [
    {
     "name": "stdout",
     "output_type": "stream",
     "text": [
      "True\n"
     ]
    }
   ],
   "source": [
    "a = dict(one = 1, two = 2, three = 3)\n",
    "b = {'one':1 , 'two':2, 'three':3}\n",
    "c = dict(zip(['one','two','three'] ,[1,2,3]))\n",
    "d = dict([('two',2) ,('one',1), ('three',3) ])\n",
    "e = dict( {'three':3,'one':1, 'two':2} )\n",
    "print(a==b==c==d==e)"
   ]
  },
  {
   "cell_type": "markdown",
   "id": "d23a1447",
   "metadata": {},
   "source": [
    "# 3.2 지능형 딕셔너리"
   ]
  },
  {
   "cell_type": "code",
   "execution_count": 14,
   "id": "8669fb3f",
   "metadata": {},
   "outputs": [
    {
     "name": "stdout",
     "output_type": "stream",
     "text": [
      "{'China': 86, 'India': 91, 'United States': 1, 'Indonesia': 62, 'Brazil': 55, 'Pakistan': 92, 'Bangladesh': 880, 'Nigeria': 234, 'Russia': 7, 'Japan': 81}\n"
     ]
    }
   ],
   "source": [
    "DIAL_CODES = [ (86,'China'), (91,'India'),(1,'United States'), \n",
    "               (62,'Indonesia') , (55,'Brazil'),(92,'Pakistan'),\n",
    "               (880,'Bangladesh'),(234,'Nigeria'),(7,'Russia'),(81,'Japan')]\n",
    "\n",
    "country_code = {country:code for code , country in DIAL_CODES}\n",
    "print(country_code)"
   ]
  },
  {
   "cell_type": "code",
   "execution_count": 15,
   "id": "a7024ab6",
   "metadata": {},
   "outputs": [
    {
     "data": {
      "text/plain": [
       "{1: 'UNITED STATES', 62: 'INDONESIA', 55: 'BRAZIL', 7: 'RUSSIA'}"
      ]
     },
     "execution_count": 15,
     "metadata": {},
     "output_type": "execute_result"
    }
   ],
   "source": [
    "{code:country.upper() for country, code in country_code.items() if code < 66 }"
   ]
  },
  {
   "cell_type": "markdown",
   "id": "892ceb8f",
   "metadata": {},
   "source": [
    "# 3.3 공통적인 매핑 메서드"
   ]
  },
  {
   "cell_type": "markdown",
   "id": "4f45c667",
   "metadata": {},
   "source": [
    "## 3.3.1 존재하지 않는 키를 setdefault() 로 처리하기"
   ]
  },
  {
   "cell_type": "code",
   "execution_count": 25,
   "id": "a7970ff9",
   "metadata": {
    "scrolled": false
   },
   "outputs": [
    {
     "name": "stdout",
     "output_type": "stream",
     "text": [
      "0 [(7, 14), (7, 16)]\n",
      "1 [(7, 18)]\n",
      "127 [(7, 10)]\n",
      "206efb1d [(8, 11)]\n",
      "2795ce9fcfd134a60a149373 [(8, 20)]\n",
      "59299 [(2, 17)]\n",
      "59300 [(3, 17)]\n",
      "59301 [(4, 17)]\n",
      "59302 [(6, 14)]\n",
      "59303 [(5, 19)]\n",
      "control_port [(5, 4)]\n",
      "hb_port [(6, 4)]\n",
      "hmac [(10, 24)]\n",
      "iopub_port [(3, 4)]\n",
      "ip [(7, 4)]\n",
      "kernel_name [(11, 4)]\n",
      "key [(8, 4)]\n",
      "sha256 [(10, 29)]\n",
      "shell_port [(2, 4)]\n",
      "signature_scheme [(10, 4)]\n",
      "stdin_port [(4, 4)]\n",
      "tcp [(9, 17)]\n",
      "transport [(9, 4)]\n"
     ]
    }
   ],
   "source": [
    "import sys\n",
    "import re\n",
    "\n",
    "WORD_RE = re.compile(r'\\w+')\n",
    "\n",
    "index = {}\n",
    "with open(sys.argv[2] , encoding = 'utf-8' ) as fp:\n",
    "    for line_no, line in enumerate(fp,1):\n",
    "        \n",
    "        for match in WORD_RE.finditer(line):\n",
    "            word = match.group()\n",
    "            column_no = match.start() + 1\n",
    "            location = (line_no, column_no)\n",
    "            \n",
    "            occurences = index.get(word,[])\n",
    "            occurences.append(location)\n",
    "            index[word] = occurences\n",
    "            \n",
    "for word in sorted(index, key = str.upper):\n",
    "    print(word, index[word]  )"
   ]
  },
  {
   "cell_type": "code",
   "execution_count": 26,
   "id": "ae698903",
   "metadata": {},
   "outputs": [
    {
     "name": "stdout",
     "output_type": "stream",
     "text": [
      "0 [(7, 14), (7, 16)]\n",
      "1 [(7, 18)]\n",
      "127 [(7, 10)]\n",
      "206efb1d [(8, 11)]\n",
      "2795ce9fcfd134a60a149373 [(8, 20)]\n",
      "59299 [(2, 17)]\n",
      "59300 [(3, 17)]\n",
      "59301 [(4, 17)]\n",
      "59302 [(6, 14)]\n",
      "59303 [(5, 19)]\n",
      "control_port [(5, 4)]\n",
      "hb_port [(6, 4)]\n",
      "hmac [(10, 24)]\n",
      "iopub_port [(3, 4)]\n",
      "ip [(7, 4)]\n",
      "kernel_name [(11, 4)]\n",
      "key [(8, 4)]\n",
      "sha256 [(10, 29)]\n",
      "shell_port [(2, 4)]\n",
      "signature_scheme [(10, 4)]\n",
      "stdin_port [(4, 4)]\n",
      "tcp [(9, 17)]\n",
      "transport [(9, 4)]\n"
     ]
    }
   ],
   "source": [
    "import sys\n",
    "import re\n",
    "\n",
    "WORD_RE = re.compile(r'\\w+')\n",
    "\n",
    "index = {}\n",
    "with open(sys.argv[2] , encoding = 'utf-8' ) as fp:\n",
    "    for line_no, line in enumerate(fp,1):\n",
    "        \n",
    "        for match in WORD_RE.finditer(line):\n",
    "            word = match.group()\n",
    "            column_no = match.start() + 1\n",
    "            location = (line_no, column_no)\n",
    "            index.setdefault(word,[]).append(location)\n",
    "            \n",
    "for word in sorted(index, key = str.upper):\n",
    "    print(word, index[word]  )"
   ]
  },
  {
   "cell_type": "markdown",
   "id": "6f0c7d8e",
   "metadata": {},
   "source": [
    "# 3.4 융퉁성 있게 키를 조회하는 매핑"
   ]
  },
  {
   "cell_type": "markdown",
   "id": "b42be759",
   "metadata": {},
   "source": [
    "## 3.4.1 defaultdict : 존재하지 않는 키에 대한 또 다른 처리"
   ]
  },
  {
   "cell_type": "code",
   "execution_count": 27,
   "id": "bda24194",
   "metadata": {},
   "outputs": [
    {
     "name": "stdout",
     "output_type": "stream",
     "text": [
      "0 [(7, 14), (7, 16)]\n",
      "1 [(7, 18)]\n",
      "127 [(7, 10)]\n",
      "206efb1d [(8, 11)]\n",
      "2795ce9fcfd134a60a149373 [(8, 20)]\n",
      "59299 [(2, 17)]\n",
      "59300 [(3, 17)]\n",
      "59301 [(4, 17)]\n",
      "59302 [(6, 14)]\n",
      "59303 [(5, 19)]\n",
      "control_port [(5, 4)]\n",
      "hb_port [(6, 4)]\n",
      "hmac [(10, 24)]\n",
      "iopub_port [(3, 4)]\n",
      "ip [(7, 4)]\n",
      "kernel_name [(11, 4)]\n",
      "key [(8, 4)]\n",
      "sha256 [(10, 29)]\n",
      "shell_port [(2, 4)]\n",
      "signature_scheme [(10, 4)]\n",
      "stdin_port [(4, 4)]\n",
      "tcp [(9, 17)]\n",
      "transport [(9, 4)]\n"
     ]
    }
   ],
   "source": [
    "import sys\n",
    "import re\n",
    "import collections\n",
    "\n",
    "WORD_RE = re.compile(r'\\w+')\n",
    "\n",
    "index = collections.defaultdict(list)\n",
    "with open(sys.argv[2] , encoding = 'utf-8' ) as fp:\n",
    "    for line_no, line in enumerate(fp,1):\n",
    "        \n",
    "        for match in WORD_RE.finditer(line):\n",
    "            word = match.group()\n",
    "            column_no = match.start() + 1\n",
    "            location = (line_no, column_no)\n",
    "            index[word].append(location)\n",
    "            \n",
    "for word in sorted(index, key = str.upper):\n",
    "    print(word, index[word]  )"
   ]
  },
  {
   "cell_type": "markdown",
   "id": "c1b9f2c8",
   "metadata": {},
   "source": [
    "## 3.4.2 __missing__() 메서드"
   ]
  },
  {
   "cell_type": "code",
   "execution_count": 28,
   "id": "80a6364b",
   "metadata": {},
   "outputs": [
    {
     "ename": "NameError",
     "evalue": "name 'StrKeyDict0' is not defined",
     "output_type": "error",
     "traceback": [
      "\u001b[1;31m---------------------------------------------------------------------------\u001b[0m",
      "\u001b[1;31mNameError\u001b[0m                                 Traceback (most recent call last)",
      "Input \u001b[1;32mIn [28]\u001b[0m, in \u001b[0;36m<cell line: 1>\u001b[1;34m()\u001b[0m\n\u001b[1;32m----> 1\u001b[0m d \u001b[38;5;241m=\u001b[39m \u001b[43mStrKeyDict0\u001b[49m( [(\u001b[38;5;124m'\u001b[39m\u001b[38;5;124m2\u001b[39m\u001b[38;5;124m'\u001b[39m,\u001b[38;5;124m'\u001b[39m\u001b[38;5;124mtwo\u001b[39m\u001b[38;5;124m'\u001b[39m),(\u001b[38;5;124m'\u001b[39m\u001b[38;5;124m4\u001b[39m\u001b[38;5;124m'\u001b[39m,\u001b[38;5;124m'\u001b[39m\u001b[38;5;124mfour\u001b[39m\u001b[38;5;124m'\u001b[39m)] )\n\u001b[0;32m      2\u001b[0m \u001b[38;5;28mprint\u001b[39m(d[\u001b[38;5;241m2\u001b[39m])\n\u001b[0;32m      3\u001b[0m \u001b[38;5;28mprint\u001b[39m(d[\u001b[38;5;241m4\u001b[39m])\n",
      "\u001b[1;31mNameError\u001b[0m: name 'StrKeyDict0' is not defined"
     ]
    }
   ],
   "source": [
    "d = StrKeyDict0( [('2','two'),('4','four')] )\n",
    "print(d[2])\n",
    "print(d[4])\n",
    "print(d[1])"
   ]
  },
  {
   "cell_type": "code",
   "execution_count": 29,
   "id": "d9a8048f",
   "metadata": {},
   "outputs": [],
   "source": [
    "class StrKeyDict0(dict):\n",
    "    \n",
    "    def __missing__(self, key):\n",
    "        if isinstance(key,str):\n",
    "            raise KeyError(key)\n",
    "        return self[str(key)]\n",
    "    \n",
    "    def get(self, key, default = None):\n",
    "        try:\n",
    "            return self[key]\n",
    "        except KeyError:\n",
    "            return default\n",
    "        \n",
    "    def __contains__(self,key):\n",
    "        return key in self.keys() or str(key) in self.keys()"
   ]
  },
  {
   "cell_type": "markdown",
   "id": "67967f35",
   "metadata": {},
   "source": [
    "# 3.5 그 외 매핑형"
   ]
  },
  {
   "cell_type": "code",
   "execution_count": 34,
   "id": "610b9845",
   "metadata": {},
   "outputs": [],
   "source": [
    "import builtins\n",
    "pylookup = collections.ChainMap(locals() , globals(), vars(builtins))"
   ]
  },
  {
   "cell_type": "code",
   "execution_count": 35,
   "id": "bf43128b",
   "metadata": {},
   "outputs": [
    {
     "name": "stdout",
     "output_type": "stream",
     "text": [
      "Counter({'a': 5, 'b': 2, 'r': 2, 'c': 1, 'd': 1})\n",
      "Counter({'a': 10, 'z': 3, 'b': 2, 'r': 2, 'c': 1, 'd': 1})\n",
      "[('a', 10), ('z', 3)]\n"
     ]
    }
   ],
   "source": [
    "ct =collections.Counter('abracadabra')\n",
    "print(ct)\n",
    "ct.update('aaaaazzz')\n",
    "print(ct)\n",
    "print(ct.most_common(2))"
   ]
  },
  {
   "cell_type": "markdown",
   "id": "b1539a6a",
   "metadata": {},
   "source": [
    "# 3.6 UserDict 상속하기"
   ]
  },
  {
   "cell_type": "code",
   "execution_count": 36,
   "id": "8ad91627",
   "metadata": {},
   "outputs": [],
   "source": [
    "import collections\n",
    "\n",
    "class StrKeyDict(collections.UserDict):\n",
    "    \n",
    "    def __missing__(self, key):\n",
    "        if isinstance(key,str):\n",
    "            raise KeyError(key)\n",
    "        return self[str(key)]\n",
    "    \n",
    "    def __contains__(self,key):\n",
    "        return str(key) in self.data\n",
    "    \n",
    "    def __setitem__(self,key,item):\n",
    "        self.data[str(key)] = item"
   ]
  },
  {
   "cell_type": "markdown",
   "id": "e52619ff",
   "metadata": {},
   "source": [
    "# 3.7 불변 매핑"
   ]
  },
  {
   "cell_type": "code",
   "execution_count": 37,
   "id": "85fd8134",
   "metadata": {},
   "outputs": [
    {
     "name": "stdout",
     "output_type": "stream",
     "text": [
      "{1: 'A'}\n",
      "A\n"
     ]
    },
    {
     "ename": "TypeError",
     "evalue": "'mappingproxy' object does not support item assignment",
     "output_type": "error",
     "traceback": [
      "\u001b[1;31m---------------------------------------------------------------------------\u001b[0m",
      "\u001b[1;31mTypeError\u001b[0m                                 Traceback (most recent call last)",
      "Input \u001b[1;32mIn [37]\u001b[0m, in \u001b[0;36m<cell line: 6>\u001b[1;34m()\u001b[0m\n\u001b[0;32m      4\u001b[0m \u001b[38;5;28mprint\u001b[39m(d_proxy)\n\u001b[0;32m      5\u001b[0m \u001b[38;5;28mprint\u001b[39m(d_proxy[\u001b[38;5;241m1\u001b[39m])\n\u001b[1;32m----> 6\u001b[0m d_proxy[\u001b[38;5;241m2\u001b[39m] \u001b[38;5;241m=\u001b[39m \u001b[38;5;124m'\u001b[39m\u001b[38;5;124mx\u001b[39m\u001b[38;5;124m'\u001b[39m\n",
      "\u001b[1;31mTypeError\u001b[0m: 'mappingproxy' object does not support item assignment"
     ]
    }
   ],
   "source": [
    "from types import MappingProxyType\n",
    "d = {1:'A'}\n",
    "d_proxy = MappingProxyType(d)\n",
    "print(d_proxy)\n",
    "print(d_proxy[1])\n",
    "d_proxy[2] = 'x'"
   ]
  },
  {
   "cell_type": "code",
   "execution_count": 38,
   "id": "a6bc6244",
   "metadata": {},
   "outputs": [
    {
     "name": "stdout",
     "output_type": "stream",
     "text": [
      "{1: 'A', 2: 'B'}\n",
      "B\n"
     ]
    }
   ],
   "source": [
    "d[2] = 'B'\n",
    "print(d_proxy)\n",
    "print(d_proxy[2])"
   ]
  },
  {
   "cell_type": "markdown",
   "id": "b7e2ac53",
   "metadata": {},
   "source": [
    "# 3.8 집합 이론"
   ]
  },
  {
   "cell_type": "code",
   "execution_count": 40,
   "id": "7ffef15d",
   "metadata": {},
   "outputs": [
    {
     "name": "stdout",
     "output_type": "stream",
     "text": [
      "{'spam', 'eggs'}\n",
      "['spam', 'eggs']\n"
     ]
    }
   ],
   "source": [
    "l = ['spam','spam','eggs','spam']\n",
    "print(set(l))\n",
    "print(list(set(l)))"
   ]
  },
  {
   "cell_type": "markdown",
   "id": "a7e99bcd",
   "metadata": {},
   "source": [
    "## 3.8.1 집합 리터럴"
   ]
  },
  {
   "cell_type": "code",
   "execution_count": 43,
   "id": "84411790",
   "metadata": {},
   "outputs": [
    {
     "name": "stdout",
     "output_type": "stream",
     "text": [
      "<class 'set'>\n",
      "{1}\n",
      "1\n",
      "set()\n"
     ]
    }
   ],
   "source": [
    "s = {1}\n",
    "print(type(s))\n",
    "print(s)\n",
    "print(s.pop())\n",
    "print(s)"
   ]
  },
  {
   "cell_type": "code",
   "execution_count": 44,
   "id": "ed99e8ba",
   "metadata": {},
   "outputs": [
    {
     "name": "stdout",
     "output_type": "stream",
     "text": [
      "  1           0 LOAD_CONST               0 (1)\n",
      "              2 BUILD_SET                1\n",
      "              4 RETURN_VALUE\n",
      "None\n",
      "  1           0 LOAD_NAME                0 (set)\n",
      "              2 LOAD_CONST               0 (1)\n",
      "              4 BUILD_LIST               1\n",
      "              6 CALL_FUNCTION            1\n",
      "              8 RETURN_VALUE\n",
      "None\n"
     ]
    }
   ],
   "source": [
    "from dis import dis\n",
    "print(dis('{1}'))\n",
    "print(dis('set([1])'))"
   ]
  },
  {
   "cell_type": "code",
   "execution_count": 45,
   "id": "31256a61",
   "metadata": {},
   "outputs": [
    {
     "name": "stdout",
     "output_type": "stream",
     "text": [
      "frozenset({0, 1, 2, 3, 4, 5, 6, 7, 8, 9})\n"
     ]
    }
   ],
   "source": [
    "print(frozenset(range(10)))"
   ]
  },
  {
   "cell_type": "markdown",
   "id": "daf56e88",
   "metadata": {},
   "source": [
    "## 3.8.2 지능형 집합"
   ]
  },
  {
   "cell_type": "code",
   "execution_count": 46,
   "id": "7f9b1ff7",
   "metadata": {
    "scrolled": true
   },
   "outputs": [
    {
     "data": {
      "text/plain": [
       "{'#',\n",
       " '$',\n",
       " '%',\n",
       " '+',\n",
       " '<',\n",
       " '=',\n",
       " '>',\n",
       " '¢',\n",
       " '£',\n",
       " '¤',\n",
       " '¥',\n",
       " '§',\n",
       " '©',\n",
       " '¬',\n",
       " '®',\n",
       " '°',\n",
       " '±',\n",
       " 'µ',\n",
       " '¶',\n",
       " '×',\n",
       " '÷'}"
      ]
     },
     "execution_count": 46,
     "metadata": {},
     "output_type": "execute_result"
    }
   ],
   "source": [
    "from unicodedata import name\n",
    "{chr(i)  for i in range(32,256) if 'SIGN' in name(chr(i), '')}"
   ]
  },
  {
   "cell_type": "markdown",
   "id": "13dea69f",
   "metadata": {},
   "source": [
    "# 3.9 dict와 set의 내부 구조"
   ]
  },
  {
   "cell_type": "code",
   "execution_count": 51,
   "id": "c71efbca",
   "metadata": {},
   "outputs": [
    {
     "name": "stdout",
     "output_type": "stream",
     "text": [
      "d1: dict_keys([86, 91, 1, 62, 55, 92, 880, 234, 7, 81])\n",
      "d2: dict_keys([1, 7, 55, 62, 81, 86, 91, 92, 234, 880])\n",
      "d3: dict_keys([880, 55, 86, 91, 62, 81, 234, 92, 7, 1])\n"
     ]
    }
   ],
   "source": [
    "DIAL_CODES = [ (86,'China'), (91,'India'),(1,'United States'), \n",
    "               (62,'Indonesia') , (55,'Brazil'),(92,'Pakistan'),\n",
    "               (880,'Bangladesh'),(234,'Nigeria'),(7,'Russia'),(81,'Japan')]\n",
    "\n",
    "d1 = dict(DIAL_CODES)\n",
    "print('d1:', d1.keys())\n",
    "\n",
    "d2 = dict(sorted(DIAL_CODES))\n",
    "print('d2:', d2.keys())\n",
    "\n",
    "d3 = dict(sorted(DIAL_CODES , key = lambda x:x[1]))\n",
    "print('d3:', d3.keys())\n",
    "\n",
    "assert d1== d2 and d2 ==d3"
   ]
  },
  {
   "cell_type": "code",
   "execution_count": 52,
   "id": "0e74318e",
   "metadata": {},
   "outputs": [
    {
     "data": {
      "text/plain": [
       "{86: 'China',\n",
       " 91: 'India',\n",
       " 1: 'United States',\n",
       " 62: 'Indonesia',\n",
       " 55: 'Brazil',\n",
       " 92: 'Pakistan',\n",
       " 880: 'Bangladesh',\n",
       " 234: 'Nigeria',\n",
       " 7: 'Russia',\n",
       " 81: 'Japan'}"
      ]
     },
     "execution_count": 52,
     "metadata": {},
     "output_type": "execute_result"
    }
   ],
   "source": [
    "d1"
   ]
  },
  {
   "cell_type": "code",
   "execution_count": 53,
   "id": "ca56cad9",
   "metadata": {},
   "outputs": [
    {
     "data": {
      "text/plain": [
       "{1: 'United States',\n",
       " 7: 'Russia',\n",
       " 55: 'Brazil',\n",
       " 62: 'Indonesia',\n",
       " 81: 'Japan',\n",
       " 86: 'China',\n",
       " 91: 'India',\n",
       " 92: 'Pakistan',\n",
       " 234: 'Nigeria',\n",
       " 880: 'Bangladesh'}"
      ]
     },
     "execution_count": 53,
     "metadata": {},
     "output_type": "execute_result"
    }
   ],
   "source": [
    "d2"
   ]
  },
  {
   "cell_type": "code",
   "execution_count": 54,
   "id": "058976d0",
   "metadata": {},
   "outputs": [
    {
     "data": {
      "text/plain": [
       "{880: 'Bangladesh',\n",
       " 55: 'Brazil',\n",
       " 86: 'China',\n",
       " 91: 'India',\n",
       " 62: 'Indonesia',\n",
       " 81: 'Japan',\n",
       " 234: 'Nigeria',\n",
       " 92: 'Pakistan',\n",
       " 7: 'Russia',\n",
       " 1: 'United States'}"
      ]
     },
     "execution_count": 54,
     "metadata": {},
     "output_type": "execute_result"
    }
   ],
   "source": [
    "d3"
   ]
  }
 ],
 "metadata": {
  "kernelspec": {
   "display_name": "Python 3 (ipykernel)",
   "language": "python",
   "name": "python3"
  },
  "language_info": {
   "codemirror_mode": {
    "name": "ipython",
    "version": 3
   },
   "file_extension": ".py",
   "mimetype": "text/x-python",
   "name": "python",
   "nbconvert_exporter": "python",
   "pygments_lexer": "ipython3",
   "version": "3.9.12"
  }
 },
 "nbformat": 4,
 "nbformat_minor": 5
}
