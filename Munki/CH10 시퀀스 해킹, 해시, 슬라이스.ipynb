{
 "cells": [
  {
   "cell_type": "markdown",
   "id": "839d1940",
   "metadata": {},
   "source": [
    "# 10.1 Vector : 사용자 정의 시퀀스형\n",
    "- 구성을 이용해서 벡터 구현\n",
    "- 요소들을 실수형 배열에 저장하기 위한 필요한 메서드들 구현\n",
    "- 벡터가 불변 균일 시퀀스처럼 작동하게 만들기 위한 필요한 메서드들 구현"
   ]
  },
  {
   "cell_type": "markdown",
   "id": "e9eede7b",
   "metadata": {},
   "source": [
    "# 10.2 Vector 버전 #1 : Vector2d 호환\n",
    "- 시퀀스 생성자는 내장 시퀀스처럼 반복형을 인수로 받게 만드는 것이 좋다.\n",
    "- repr()이 생성한 문자열은 문자열은 생략 기호 (...)로 축약되었다. 이와 같이 제한된 길이로 표현하려면 reprlib 모듈 사용할 것"
   ]
  },
  {
   "cell_type": "code",
   "execution_count": 1,
   "id": "73bcd95b",
   "metadata": {},
   "outputs": [],
   "source": [
    "# vector2d_v3.py\n",
    "\n",
    "from array import array\n",
    "import math\n",
    "\n",
    "class Vector2d:\n",
    "    typecode = 'd' # Vector2d와 bytes 간의 변환에 사용하는 클래스 속성\n",
    "    \n",
    "    def __init__(self, x, y):\n",
    "        self.__x = float(x)\n",
    "        self.__y = float(y) # 미리 실수로 변환하는 센스\n",
    "        \n",
    "    @property # 게터 메서드를 나타냄\n",
    "    def x(self):\n",
    "        return self.__x        \n",
    "        \n",
    "    @property\n",
    "    def y(self):\n",
    "        return self.__y\n",
    "\n",
    "    def __hash__(self):\n",
    "        return hash(self.x) ^ hash(self.y)        \n",
    "    \n",
    "    def __iter__(self): # 이걸 구현하면 x,y = my_vector 처럼 쓸 수 있다.\n",
    "        return (i for i in (self.x, self.y))\n",
    "    \n",
    "    def __repr__(self):\n",
    "        class_name = type(self).__name__\n",
    "        return '{}({!r}, {!r})'.format(class_name, *self)\n",
    "    \n",
    "    def __str__(self):\n",
    "        return str(tuple(self))\n",
    "    \n",
    "    def __bytes__(self):\n",
    "        return (bytes([ord(self.typecode)])+\n",
    "               bytes(array(self.typecode, self)))\n",
    "    \n",
    "    def __eq__(self, other):\n",
    "        return tuple(self) == tuple(other)\n",
    "    \n",
    "    def __abs__(self):\n",
    "        return math.hypot(self.x, self.y)\n",
    "    \n",
    "    def __bool__(self):\n",
    "        return bool(abs(self))\n",
    "    \n",
    "    def angle(self):\n",
    "        return math.atan2(self.y, self.x)\n",
    "    \n",
    "    def __format__(self, fmt_spec=''):\n",
    "        if fmt_spec.endswith('p'):\n",
    "            fmt_spec = fmt_spec[:-1]\n",
    "            coords = (abs(self), self.angle())\n",
    "            outer_fmt = '<{}, {}>'\n",
    "        else:\n",
    "            coords = self\n",
    "            outer_fmt = '<{}, {}>'            \n",
    "        components = (format(c, fmt_spec) for c in coords)\n",
    "        return '({}, {})'.format(*components)\n",
    "\n",
    "    @classmethod # 클래스 메서드\n",
    "    def frombytes(cls, octets): # self 매개변수가 없고 대신 자신이 cls로 전달됨\n",
    "        typecode = chr(octets[0])\n",
    "        memv = memoryview(octets[1:]).cast(typecode)\n",
    "        return cls(*memv)"
   ]
  },
  {
   "cell_type": "markdown",
   "id": "922632c0",
   "metadata": {},
   "source": [
    "# 10.3 프로토콜과 덕 타이핑\n",
    "- 객체 지향 프로그래밍에서 프로그램에서 프로토콜은 문서에만 정의되어 있고 실제 코드에서는 정의되지 않는 비공식 인터페이스다.\n",
    "    - e.g.) 파이썬의 시퀀스 프로토콜은 \\_\\_len\\_\\_() 과 \\_\\_getitem\\_\\_() 메서드를 동반할 뿐이다.\n",
    "    - 표현 시그너처와 의미에 따라 이 메서드들을 구현하는 어떠한 클래스도 시퀀스가 필요한 곳에 사용할 수 있다.\n",
    "    - 그 클래스의 슈퍼 클래스가 무엇인지 중요하지 않으며, 단지 필요한 메서드만 제공하면 된다."
   ]
  },
  {
   "cell_type": "markdown",
   "id": "05e9fad0",
   "metadata": {},
   "source": [
    "- 예제 10.3 코드 어디에서도 시퀀스 프로토콜을 따른다고 정의한 곳은 없다.\n",
    "- 이 클래스가 시퀀스처럼 동작하기 때문에 시퀀스인 것이다.\n",
    "- 프로토콜이 비공식적이며 강제로 적용되는 사항이 아니므로 클래스가 사용되는 특정 환경에 따라 프로토콜의 일부만 구현할 수 있다.\n",
    "    - 예를 들어 반복을 지원하려면 \\_\\_getitem\\_\\_() 메서드만 구현하면 되며, \\_\\_len\\_\\_() 메서드를 구현할 필요는 없다.\n",
    "\n",
    "```python\n",
    "# 예제 10.3\n",
    "import collections\n",
    "\n",
    "Card  = collections.namedtuple(\"Card\",['rank','suit'])\n",
    "\n",
    "class FrenchDeck:\n",
    "    ranks = [ str(n) for n in range(2,11) ] + list('JQKA')\n",
    "    suits = 'spades diamonds clubs hearts'.split()\n",
    "    \n",
    "    def __init__(self):\n",
    "        self._cards = [Card(rank,suit) for suit in self.suits for rank in self.ranks ]\n",
    "        \n",
    "    def __len__(self):\n",
    "        return len(self._cards)\n",
    "    \n",
    "    def __getitem__(self, position):\n",
    "        return self._cards[position]\n",
    "```"
   ]
  },
  {
   "cell_type": "markdown",
   "id": "84201c1a",
   "metadata": {},
   "source": [
    "# 10.4 Vector 버전 #2: 슬라이스 가능한 시퀀스\n",
    "- self.\\_components array 객체처럼, 객체에 sequence attribute 를 위임할 수 있다면 sequence protocol 구현(supporting)에 용이하다. 예로서 \\_\\_len\\_\\_ 과 \\_\\_getitem\\_\\_ 이 있다.\n",
    "```python\n",
    "class Vector:\n",
    "    # 중략\n",
    "    # ...\n",
    "    \n",
    "    def __len__(self):\n",
    "        return len(self._components)\n",
    "    \n",
    "    def __getitem__(self, index):\n",
    "        return self._components[index]\n",
    "```"
   ]
  },
  {
   "cell_type": "markdown",
   "id": "8e2045ab",
   "metadata": {},
   "source": [
    "## 10.4.1 슬라이싱의 작동 방식\n",
    "- Vector 를 슬라이싱해서 Vector 객체를 생성하려면, 슬라이싱 연산을 배열에 위임하면 안되며, \\_\\_getitem\\_\\_() 메서드가 받은 인수를 분석해서 제대로 처리해야한다.\n",
    "- slice 는 내장된 자료형이며, slice 객체를 조사하면 start, stop, step 속성과 indices() 메서드를 볼 수 있다.\n",
    "    - indices() 메서드는 주어진 길이의 시퀀스 경계 안에 들어가도록 조정된 0이나 양수인 start, stop, stride 로 구성된 '정규화된' 튜플을 생성한다. 우리가 구현할 Vector 코드에서는 slice 인수를 받을 때 \\_components 배열에 처리를 위임할 것이므로 slice.indices() 메서드 구현할 필요가 없지만, 기반 시퀀스가 제공하는 서비스에 의존할 수 없을 때 이 메서드가 큰 도움이 된다. \n",
    "```python\n",
    "# 'ABCDE' 처럼 길이가 5인 시퀀스에 적용한 슬라이스의 예는 다음과 같다.\n",
    "slice(None,10,2).indices(5)\n",
    "(0,5,2)\n",
    "slice(-3,None,None).indices(5)\n",
    "(2,5,1)\n",
    "```"
   ]
  },
  {
   "cell_type": "markdown",
   "id": "fa8faa7a",
   "metadata": {},
   "source": [
    "## 10.4.2 슬라이스를 인식하는  \\_\\_getitem\\_\\_()\n",
    "```python\n",
    "def __len__(self):\n",
    "    return len(self._components)\n",
    "\n",
    "def __getitem__(self,index):\n",
    "    cls = type(self)\n",
    "    if isinstance(index, slice):\n",
    "        return cls(self._components[index])\n",
    "    elif isinstance(index, numbers.Integral):\n",
    "        return self._components[index]\n",
    "    else:\n",
    "        msg = '{cls.__name__} indices must be integers'\n",
    "        raise TypeError(msg.format(cls=cls))\n",
    "\n",
    "```"
   ]
  },
  {
   "cell_type": "markdown",
   "id": "12c9494c",
   "metadata": {},
   "source": [
    "# 10.5 Vector 버전 #3: 동적 속성 접근\n",
    "- 앞에 있는 요소 몇 개는 v[0], v[1], v[2] 대신 x,y,z 로 접근할 수 있으면 편리할 것임. \\_\\_getattr\\_\\_() 특별 메서드를 이용하면 깔끔하게 구현 가능\n",
    "- 속성을 찾지 못하면 인터프리터는 \\_\\_getattr\\_\\_() 메서드를 호출한다. myobj.x 표현식이 주어지면, 파이썬은 myobj 객체에 x속성이 있는지 검사하고, 속성이 없으면 이 객체의 클래스(myobj.\\_\\_class\\_\\_) 에서 더 검색한다. 그러고 나서 상속 그래프를 따라 계속 올라간다. 그래도 x 속성을 찾지 못하면 self 와 속성명을 문자열 ( 예를 들어 'x') 로 전달해서 myobj 클래스에 정의된 \\_\\_getattr\\_\\_() 메서드를 호출한다.\n",
    "\n",
    "```python\n",
    "shortcut_names = 'xyzt'\n",
    "\n",
    "def __getattr__(self, name):\n",
    "    cls = type(self)\n",
    "    if len(name) ==1:\n",
    "        pos = cls.shortcut_names.find(name)\n",
    "        if 0 <= pos < len(self._components):\n",
    "            return self._components[pos]\n",
    "    msg = '{.__name__!r} object has no attribute {!r}'\n",
    "    raise AttributeError(msg.format(cls, name))\n",
    "\n",
    "```"
   ]
  },
  {
   "cell_type": "markdown",
   "id": "674e6d0f",
   "metadata": {},
   "source": [
    "- 그러나 getattr 만 구현시 368p 같은 불일치 문제가 발생할 수 있다. ( v.x 가 정의되면 x 를 찾을 때 \\_\\_getattr\\_\\_()메서드가 호출되지 않으며 \\_\\_getattr\\_\\_() 메서드는 self.\\_components 이외의 다른 속성에는 주의를 기울이지 않기 때문에 발생 ) \n",
    "- 이와 같은 불일치 문제를 해결하기 위해 \\_\\_setattr\\_\\_() 메서드를 구현해야한다.\n",
    "- 객체 동작의 불일치를 피하려면 \\_\\_getattr\\_\\_() 을 구현할 때 \\_\\_setattr\\_\\_() 도 함께 구현해야한다.\n",
    "- \\_\\_getattr\\_\\_() works when you want to lookup an attribute that dosen't exist in this class\n",
    "- \\_\\_setattr\\_\\_() works when you assign a value to an attribute that dosen't exist in this class\n",
    "```python\n",
    "def __setattr__(self, name, value):\n",
    "    cls = type(self)\n",
    "    if len(name)== 1:\n",
    "        if name in cls.shortcut_names:\n",
    "            error = 'readonly attribute {attr_name!r}'\n",
    "        elif name.islower():\n",
    "            error = \"can't set attributes 'a' to 'z' in {cls_name!r}\"\n",
    "        else:\n",
    "            error = ''\n",
    "        if error:\n",
    "            msg = error.format(cls_name = cls.__name__, attr_name = name)\n",
    "            raise AttributeError(msg)\n",
    "    super().__setattr__(name, value)\n",
    "```"
   ]
  },
  {
   "cell_type": "markdown",
   "id": "4f4c22d5",
   "metadata": {},
   "source": [
    "# 10.6 Vector 버전 #4: 해싱 및 더 빠른 ==\n",
    "- 모든 벡터 요소의 헤시를 계싼하는 연산은 reduce()에 딱 맞는다. \n",
    "- reduce() 의 핵심은 일련의 값을 하나로 줄이는 것이다.\n",
    "    - reduce()가 받는 첫 번째 인수는 두 개의 인수를 받는 함수, 두 번째 인수는 반복형 객체다.\n",
    "- operator 모듈은 모든 파이썬 중위 연산자를 함수 형태로 제공해서 람다를 사용할 필요성을 줄여준다. "
   ]
  },
  {
   "cell_type": "code",
   "execution_count": 3,
   "id": "c588d5cc",
   "metadata": {},
   "outputs": [
    {
     "name": "stdout",
     "output_type": "stream",
     "text": [
      "1\n"
     ]
    }
   ],
   "source": [
    "# 1 st method\n",
    "n = 0 \n",
    "for i in range(6):\n",
    "    n ^= i\n",
    "    \n",
    "print(n)"
   ]
  },
  {
   "cell_type": "code",
   "execution_count": 4,
   "id": "8b1694fc",
   "metadata": {},
   "outputs": [
    {
     "data": {
      "text/plain": [
       "1"
      ]
     },
     "execution_count": 4,
     "metadata": {},
     "output_type": "execute_result"
    }
   ],
   "source": [
    "# 2nd method\n",
    "import functools\n",
    "functools.reduce( lambda a,b : a^b, range(6))"
   ]
  },
  {
   "cell_type": "code",
   "execution_count": 5,
   "id": "766d3d05",
   "metadata": {},
   "outputs": [
    {
     "data": {
      "text/plain": [
       "1"
      ]
     },
     "execution_count": 5,
     "metadata": {},
     "output_type": "execute_result"
    }
   ],
   "source": [
    "# 3th method\n",
    "import operator\n",
    "functools.reduce( operator.xor, range(6))"
   ]
  },
  {
   "cell_type": "markdown",
   "id": "b9f7aa0a",
   "metadata": {},
   "source": [
    "```python\n",
    "\n",
    "from array import array\n",
    "import reprlib\n",
    "import math\n",
    "import functools\n",
    "import operator\n",
    "\n",
    "class Vector:\n",
    "    typecode = 'd'\n",
    "    \n",
    "    # 중간 코드 생략\n",
    "    \n",
    "    # __eq__() 와 __hash__() 가 밀접히 작동해야 하므로, 소스 코드 안에서 가까이 두는 습관을 들이는 것이 좋다\n",
    "    def __eq__(self, other):\n",
    "        return tuple(self) == tuple(other)\n",
    "    \n",
    "    def __hash__(self):\n",
    "        hashes = (hash(x) for x in self._components)\n",
    "        return functools.reduce(operator.xor, hashes, 0)\n",
    "\n",
    "```"
   ]
  },
  {
   "cell_type": "markdown",
   "id": "ebbf9c21",
   "metadata": {},
   "source": [
    "```python\n",
    "# 제너레이터 표현식 대신 맵을 사용하면 맵 단계가 훨씬 더 잘 드러난다.\n",
    "\n",
    "def __hash__(self):\n",
    "    hashes = map(hash, self._components)\n",
    "    return functools.reduce(operator.xor, hashes)\n",
    "```"
   ]
  },
  {
   "cell_type": "markdown",
   "id": "6b945e50",
   "metadata": {},
   "source": [
    "```python\n",
    "# 수천 개의 요소를 가질 수 있는 Vector 객체의 경우 피연산자 전체를 복사해서 튜플 두 개를 만드는 것은 매우 비효율적임\n",
    "# Vector 객체를 다른 객체나 반복형과 비교할 때는 예제 10-13 같이 구현하는 것이 좋다.\n",
    "\n",
    "# 예제 13-10\n",
    "def __eq__(self, other):\n",
    "    if len(self) != len(other):\n",
    "        return False\n",
    "    for a,b in zip(self, other):\n",
    "        if a != b:\n",
    "            return False\n",
    "    return True\n",
    "```"
   ]
  },
  {
   "cell_type": "markdown",
   "id": "48b60dbd",
   "metadata": {},
   "source": [
    "```python\n",
    "# all()함수를 사용하면 for 루프와 동일한 계산을 단 한 줄에 할 수 있다. 해당 요소 간의 비교가 모두 True면, 결과도 True 다.\n",
    "# 비교하는 도중에 다른 요소가 나오면, 즉 비교가 False 면 all()은 바로 False를 반환한다. all()함수를 이용해서 구현한 __eq__()메서드는 예제 10-14와 같다.\n",
    "\n",
    "def __eq__(self, other):\n",
    "    return len(self) == len(other) and all(a==b for a,b in zip(self,other))\n",
    "```"
   ]
  },
  {
   "cell_type": "markdown",
   "id": "0a8f5f78",
   "metadata": {},
   "source": [
    "# 10.7 Vector 버전 #5: 포매팅\n",
    "- 별 내용 없음"
   ]
  },
  {
   "cell_type": "code",
   "execution_count": 6,
   "id": "4b896563",
   "metadata": {},
   "outputs": [],
   "source": [
    "# vector_v5.py\n",
    "\n",
    "from array import array\n",
    "import reprlib\n",
    "import math\n",
    "import numbers\n",
    "import functools\n",
    "import operator\n",
    "import itertools # chain() 함수를 사용하기 위함\n",
    "\n",
    "class Vector:\n",
    "    typecode = 'd'\n",
    "    shortcut_names = 'xyzt'\n",
    "    \n",
    "    def __init__(self, components):\n",
    "        # 벡터 요소를 배열로 저장\n",
    "        self._components = array(self.typecode, components)\n",
    "    \n",
    "    \"\"\"시퀀스 프로토콜 구현\"\"\"\n",
    "    def __len__(self):\n",
    "        return len(self._components)\n",
    "    \n",
    "    def __getitem__(self, index):\n",
    "        cls = type(self) # 객체의 클래스를 가져옴\n",
    "        if isinstance(index, slice): # index가 슬라이스이면\n",
    "            return cls(self._components[index]) # Vector 객체를 생성\n",
    "        elif isinstance(index, numbers.Integral): # index가 정수형이면\n",
    "            return self._components[index] # 해당 항목 반환\n",
    "        else:\n",
    "            msg = '{cls.__name__} indices must be integers'\n",
    "            raise TypeError(msg.format(cls=cls)) \n",
    "    \"\"\"시퀀스 프로토콜 구현 종료\"\"\"\n",
    "    \n",
    "    def __getattr__(self, name):\n",
    "        cls = type(self)\n",
    "        if len(name) == 1: # name이 한글자이면 \n",
    "            pos = cls.shortcut_names.find(name)\n",
    "            if 0 <= pos < len(self._components): # 포지션이 범위 내에 있으면 배열 항목 반환\n",
    "                return self._components[pos]\n",
    "        msg = '{.__name__!r} object has no attribute {!r}' \n",
    "        raise AttributeError(msg.format(cls, name))\n",
    "        \n",
    "    def __setattr__(self, name, value):\n",
    "        cls = type(self)\n",
    "        if len(name) == 1:\n",
    "            if name in cls.shortcut_names:\n",
    "                error = 'readonly attribute {attr_name!r}' # xyzt 중 하나는 구체적으로 오류 발생\n",
    "            elif name.islower():\n",
    "                error = \"can't set attributes 'a' to 'z' in {cls_name!r}\" # 그외 소문자면 일반적 메세지 오류 발생\n",
    "            else:\n",
    "                error = ''\n",
    "            if error:\n",
    "                msg = error.format(cls_name=cls.__name__, attr_name=name)\n",
    "                raise AttributeError(msg)\n",
    "        # 에러가 발생하지 않을 때는 정상적으로 __setattr__() 메서드 호출\n",
    "        super().__setattr__(name, value) \n",
    "        \n",
    "    def angle(self, n):\n",
    "        r = math.sqrt(sum(x * x for x in self[n:]))\n",
    "        a = math.atan2(r, self[n-1])\n",
    "        if (n == len(self) - 1) and (self[-1]<0):\n",
    "            return math.pi * 2 - a\n",
    "        else:\n",
    "            return a\n",
    "        \n",
    "    def angles(self):\n",
    "        return (self.angle(n) for n in range(1, len(self)))\n",
    "    \n",
    "    def __format__(self, fmt_spec=''):\n",
    "        if fmt_spec.endswith('h'): # 초구면좌표\n",
    "            fmt_spec = fmt_spec[:-1]\n",
    "            coords = itertools.chain([abs(self)],\n",
    "                                    self.angles()) \n",
    "            outer_fmt = '<{}>'\n",
    "        else:\n",
    "            coords = self\n",
    "            outer_fmt = '({})'\n",
    "        components = (format(c, fmt_spec) for c in coords)\n",
    "        return outer_fmt.format(', '.join(components))\n",
    "    \n",
    "    def __iter__(self):\n",
    "        return iter(self._components) # 반복할 수 있도록 구현\n",
    "    \n",
    "    def __repr__(self):\n",
    "        components = reprlib.repr(self._components) # 제한된 길이로 출력\n",
    "        components = components[components.find('['):-1] # 문자열 중 앞에 나오는 \"array('d',\" 를 제거\n",
    "        return 'Vector({})'.format(components)\n",
    "    \n",
    "    def __str__(self):\n",
    "        return str(tuple(self))\n",
    "    \n",
    "    def __bytes__(self):\n",
    "        return (bytes([ord(self.typecode)]) + \n",
    "               bytes(self._components))\n",
    "    \n",
    "    def __eq__(self, other):\n",
    "        if len(self) != len(other): # 길이가 다르면 False\n",
    "            return False\n",
    "        for a, b in zip(self, other): # 제너레이터로부터 하나씩 비교\n",
    "            if a != b:\n",
    "                return False\n",
    "        return True\n",
    "    \n",
    "    def __hash__(self):\n",
    "        hashes = (hash(x) for x in self._components) # 제너레이터 표현식 이용\n",
    "        return functools.reduce(operator.xor, hasehs, 0) # 초기값을 0으로 함\n",
    "    \n",
    "    def __abs__(self):\n",
    "        return math.sqrt(sum(x * x for x in self))\n",
    "    \n",
    "    def __bool__(self):\n",
    "        return bool(abs(self))\n",
    "    \n",
    "    @classmethod\n",
    "    def frombytes(cls, octets):\n",
    "        typecode = chr(octets[0])\n",
    "        memv = memoryview(octets[1:]).cast(typecode)\n",
    "        return cls(memv) # 언패킹할 필요가 없음"
   ]
  },
  {
   "cell_type": "code",
   "execution_count": null,
   "id": "3cd465fd",
   "metadata": {},
   "outputs": [],
   "source": []
  }
 ],
 "metadata": {
  "kernelspec": {
   "display_name": "Python 3 (ipykernel)",
   "language": "python",
   "name": "python3"
  },
  "language_info": {
   "codemirror_mode": {
    "name": "ipython",
    "version": 3
   },
   "file_extension": ".py",
   "mimetype": "text/x-python",
   "name": "python",
   "nbconvert_exporter": "python",
   "pygments_lexer": "ipython3",
   "version": "3.9.12"
  }
 },
 "nbformat": 4,
 "nbformat_minor": 5
}
