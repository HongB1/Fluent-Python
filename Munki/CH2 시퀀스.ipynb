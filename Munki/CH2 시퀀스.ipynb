{
 "cells": [
  {
   "cell_type": "markdown",
   "id": "9b520c43",
   "metadata": {},
   "source": [
    "# 2.2 지능형 리스트와 제너레이터 표현식"
   ]
  },
  {
   "cell_type": "markdown",
   "id": "eea35e5c",
   "metadata": {},
   "source": [
    "## 2.2.1 지능형 리스트와 가독성"
   ]
  },
  {
   "cell_type": "code",
   "execution_count": 1,
   "id": "26ddefc7",
   "metadata": {},
   "outputs": [
    {
     "name": "stdout",
     "output_type": "stream",
     "text": [
      "[64, 36, 35, 37, 64, 35]\n"
     ]
    }
   ],
   "source": [
    "symbols = '@$#%@#'\n",
    "codes = []\n",
    "\n",
    "for symbol in symbols:\n",
    "    codes.append(ord(symbol))\n",
    "    \n",
    "print(codes)"
   ]
  },
  {
   "cell_type": "code",
   "execution_count": 2,
   "id": "5a12148f",
   "metadata": {},
   "outputs": [
    {
     "name": "stdout",
     "output_type": "stream",
     "text": [
      "[64, 36, 35, 37, 64, 35]\n"
     ]
    }
   ],
   "source": [
    "symbols = '@$#%@#'\n",
    "codes = [ ord(symbol) for symbol in symbols]\n",
    "print(codes)"
   ]
  },
  {
   "cell_type": "code",
   "execution_count": 3,
   "id": "1617e58c",
   "metadata": {},
   "outputs": [
    {
     "name": "stdout",
     "output_type": "stream",
     "text": [
      "ABC\n",
      "[65, 66, 67]\n"
     ]
    }
   ],
   "source": [
    "x = 'ABC'\n",
    "dummy = [ord(x) for x in x ]\n",
    "print(x)\n",
    "print(dummy)"
   ]
  },
  {
   "cell_type": "code",
   "execution_count": 4,
   "id": "fd7377ed",
   "metadata": {},
   "outputs": [
    {
     "name": "stdout",
     "output_type": "stream",
     "text": [
      "[]\n",
      "[]\n"
     ]
    }
   ],
   "source": [
    "symbols = '@$#%@#'\n",
    "beyond_ascii = [ord(s) for s in symbols if ord(s) > 127]\n",
    "print(beyond_ascii)\n",
    "\n",
    "beyond_ascii = list(filter(lambda c:c>127, map(ord, symbols)))\n",
    "print(beyond_ascii)"
   ]
  },
  {
   "cell_type": "markdown",
   "id": "00fe2dab",
   "metadata": {},
   "source": [
    "## 2.2.3 데카르트 곱"
   ]
  },
  {
   "cell_type": "code",
   "execution_count": 8,
   "id": "c2483b81",
   "metadata": {},
   "outputs": [
    {
     "name": "stdout",
     "output_type": "stream",
     "text": [
      "[('black', 'S'), ('black', 'M'), ('black', 'L'), ('white', 'S'), ('white', 'M'), ('white', 'L')]\n"
     ]
    }
   ],
   "source": [
    "colors = ['black','white']\n",
    "sizes = ['S','M','L']\n",
    "tshirts = [(color,size) for color in colors for size in sizes ]\n",
    "print(tshirts)"
   ]
  },
  {
   "cell_type": "code",
   "execution_count": 9,
   "id": "0ed52b8c",
   "metadata": {},
   "outputs": [
    {
     "name": "stdout",
     "output_type": "stream",
     "text": [
      "('black', 'S')\n",
      "('black', 'M')\n",
      "('black', 'L')\n",
      "('white', 'S')\n",
      "('white', 'M')\n",
      "('white', 'L')\n"
     ]
    }
   ],
   "source": [
    "for color in colors:\n",
    "    for size in sizes:\n",
    "        print((color,size))"
   ]
  },
  {
   "cell_type": "code",
   "execution_count": 11,
   "id": "ec9ddac7",
   "metadata": {},
   "outputs": [
    {
     "name": "stdout",
     "output_type": "stream",
     "text": [
      "[('black', 'S'), ('white', 'S'), ('black', 'M'), ('white', 'M'), ('black', 'L'), ('white', 'L')]\n"
     ]
    }
   ],
   "source": [
    "tshirts = [(color, size) for size in sizes\n",
    "                         for color in colors]\n",
    "print(tshirts)"
   ]
  },
  {
   "cell_type": "markdown",
   "id": "7c9eee62",
   "metadata": {},
   "source": [
    "## 2.2.4 제너레이터 표현식"
   ]
  },
  {
   "cell_type": "code",
   "execution_count": 12,
   "id": "cefd887f",
   "metadata": {},
   "outputs": [
    {
     "name": "stdout",
     "output_type": "stream",
     "text": [
      "(64, 36, 35, 37, 64, 35)\n"
     ]
    }
   ],
   "source": [
    "symbols = '@$#%@#'\n",
    "print(tuple(ord(symbol) for symbol in symbols))"
   ]
  },
  {
   "cell_type": "code",
   "execution_count": 13,
   "id": "9d2a0054",
   "metadata": {},
   "outputs": [
    {
     "name": "stdout",
     "output_type": "stream",
     "text": [
      "array('I', [64, 36, 35, 37, 64, 35])\n"
     ]
    }
   ],
   "source": [
    "import array\n",
    "print(array.array('I',((ord(symbol) for symbol in symbols)) ))"
   ]
  },
  {
   "cell_type": "code",
   "execution_count": 14,
   "id": "80ad845d",
   "metadata": {},
   "outputs": [
    {
     "name": "stdout",
     "output_type": "stream",
     "text": [
      "black S\n",
      "black M\n",
      "black L\n",
      "white S\n",
      "white M\n",
      "white L\n"
     ]
    }
   ],
   "source": [
    "colors = ['black','white']\n",
    "sizes = ['S','M','L']\n",
    "\n",
    "# 반복문을 통해 생성된 객체를 따로 사용하는 것이 아니므로 이 경우는 list comp. 보다 generator가 메모리적으로 더 효율적\n",
    "for tshirts in ('%s %s'%(c,s) for c in colors for s in sizes):\n",
    "    print(tshirts)"
   ]
  },
  {
   "cell_type": "markdown",
   "id": "6464cb6e",
   "metadata": {},
   "source": [
    "# 2.3 튜플은 단순한 불변 리스트가 아니다 "
   ]
  },
  {
   "cell_type": "markdown",
   "id": "2613b546",
   "metadata": {},
   "source": [
    "## 2.3.1 레코드로서의 튜플"
   ]
  },
  {
   "cell_type": "code",
   "execution_count": 18,
   "id": "766c223f",
   "metadata": {},
   "outputs": [
    {
     "name": "stdout",
     "output_type": "stream",
     "text": [
      "BRA/CE342567\n",
      "ESP/XDA205856\n",
      "USA/31195855\n",
      "USA\n",
      "BRA\n",
      "ESP\n"
     ]
    }
   ],
   "source": [
    "lax_coordinates = (33.9425, -118.408056)\n",
    "city, year, pop, chg, area = ('Tokyo',2003, 32450, 0.66, 8014)\n",
    "traveler_ids =[('USA','31195855'),(\"BRA\",'CE342567'),('ESP','XDA205856')]\n",
    "\n",
    "for passport in sorted(traveler_ids):\n",
    "    print('%s/%s' %passport)\n",
    "    \n",
    "for country, _ in traveler_ids:\n",
    "    print(country)"
   ]
  },
  {
   "cell_type": "markdown",
   "id": "9d32cd2e",
   "metadata": {},
   "source": [
    "## 2.3.2 튜플 언패킹"
   ]
  },
  {
   "cell_type": "code",
   "execution_count": 19,
   "id": "f4f35531",
   "metadata": {},
   "outputs": [
    {
     "name": "stdout",
     "output_type": "stream",
     "text": [
      "33.9425\n",
      "-118.408056\n"
     ]
    }
   ],
   "source": [
    "lax_coordinates = (33.9425, -118.408056)\n",
    "latitude, longitude = lax_coordinates\n",
    "\n",
    "print(latitude)\n",
    "print(longitude)"
   ]
  },
  {
   "cell_type": "code",
   "execution_count": 22,
   "id": "a6265fee",
   "metadata": {},
   "outputs": [
    {
     "name": "stdout",
     "output_type": "stream",
     "text": [
      "(2, 4)\n",
      "(2, 4)\n",
      "2 4\n"
     ]
    }
   ],
   "source": [
    "print(divmod(20,8))\n",
    "t = (20,8)\n",
    "print(divmod(*t))\n",
    "\n",
    "quotient, remainder = divmod(*t)\n",
    "print(quotient, remainder)"
   ]
  },
  {
   "cell_type": "code",
   "execution_count": 23,
   "id": "28a97cbc",
   "metadata": {},
   "outputs": [
    {
     "name": "stdout",
     "output_type": "stream",
     "text": [
      "idrsa.pub\n"
     ]
    }
   ],
   "source": [
    "import os\n",
    "_, filename = os.path.split('/home/luciano/.ssh/idrsa.pub')\n",
    "print(filename)"
   ]
  },
  {
   "cell_type": "code",
   "execution_count": 27,
   "id": "d2d20e56",
   "metadata": {},
   "outputs": [
    {
     "name": "stdout",
     "output_type": "stream",
     "text": [
      "0 1 [2, 3, 4]\n",
      "0 1 [2]\n",
      "0 1 []\n"
     ]
    }
   ],
   "source": [
    "a,b,*rest = range(5)\n",
    "print(a,b,rest)\n",
    "\n",
    "a,b,*rest = range(3)\n",
    "print(a,b,rest)\n",
    "\n",
    "a,b,*rest = range(2)\n",
    "print(a,b,rest)"
   ]
  },
  {
   "cell_type": "code",
   "execution_count": 30,
   "id": "11ec26f2",
   "metadata": {},
   "outputs": [
    {
     "name": "stdout",
     "output_type": "stream",
     "text": [
      "0 [1, 2] 3 4\n",
      "[0, 1] 2 3 4\n"
     ]
    }
   ],
   "source": [
    "a,*body, c, d = range(5)\n",
    "print(a, body, c, d)\n",
    "\n",
    "*head , b, c, d = range(5)\n",
    "print(head, b, c, d)"
   ]
  },
  {
   "cell_type": "code",
   "execution_count": 37,
   "id": "750b00e2",
   "metadata": {},
   "outputs": [
    {
     "name": "stdout",
     "output_type": "stream",
     "text": [
      "                |   lat.    |   long.  \n",
      "Mexico City     |   33.9425 |  -99.1333\n",
      "New York-Newark |   33.9425 |  -74.0204\n",
      "São Paulo       |   33.9425 |  -46.6358\n"
     ]
    }
   ],
   "source": [
    "metro_areas = [\n",
    "    ('Tokyo', 'JP', 36.933, (35.689722, 139.691667)),\n",
    "    ('Delhi NCR', 'IN', 21.935, (28.613889, 77.208889)),\n",
    "    ('Mexico City', 'MX', 20.142, (19.433333, -99.133333)),\n",
    "    ('New York-Newark', 'US', 20.104, (40.808611, -74.020386)),\n",
    "    ('São Paulo', 'BR', 19.649, (-23.547778, -46.635833)),\n",
    "]\n",
    "\n",
    "print('{:15} | {:^9} | {:^9}'.format('','lat.','long.'))\n",
    "fmt = '{:15} | {:9.4f} | {:9.4f}'\n",
    "for name, cc, pop, (latitue, longitude) in metro_areas:\n",
    "    if longitude <= 0 :\n",
    "        print(fmt.format(name, latitude, longitude))"
   ]
  },
  {
   "cell_type": "markdown",
   "id": "b8c69a63",
   "metadata": {},
   "source": [
    "## 2.3.4 명명된 튜플"
   ]
  },
  {
   "cell_type": "code",
   "execution_count": 38,
   "id": "c45914de",
   "metadata": {},
   "outputs": [
    {
     "name": "stdout",
     "output_type": "stream",
     "text": [
      "City(name='Tokyo', country='JP', population=36.933, coordinates=(35.689722, 139.691667))\n",
      "36.933\n",
      "(35.689722, 139.691667)\n",
      "JP\n"
     ]
    }
   ],
   "source": [
    "from collections import namedtuple\n",
    "City = namedtuple('City','name country population coordinates')\n",
    "tokyo = City('Tokyo','JP',36.933 , (35.689722,139.691667))\n",
    "print(tokyo)\n",
    "print(tokyo.population)\n",
    "print(tokyo.coordinates)\n",
    "print(tokyo[1])"
   ]
  },
  {
   "cell_type": "code",
   "execution_count": 43,
   "id": "514b863d",
   "metadata": {},
   "outputs": [
    {
     "name": "stdout",
     "output_type": "stream",
     "text": [
      "('name', 'country', 'population', 'coordinates')\n",
      "{'name': 'Delhi NCR', 'country': 'In', 'population': 21.935, 'coordinates': LatLong(lat=28.613889, long=77.208889)}\n",
      "name: Delhi NCR\n",
      "country: In\n",
      "population: 21.935\n",
      "coordinates: LatLong(lat=28.613889, long=77.208889)\n"
     ]
    }
   ],
   "source": [
    "print(City._fields)\n",
    "LatLong = namedtuple('LatLong','lat long')\n",
    "delhi_data = ('Delhi NCR','In', 21.935, LatLong(28.613889,77.208889))\n",
    "delhi = City._make(delhi_data) # City( ~~ ) 랑 City._make(~~) 랑 같은 역할인가보군\n",
    "print(delhi._asdict())\n",
    "\n",
    "for key , value in delhi._asdict().items():\n",
    "    print(key + ':' , value)"
   ]
  },
  {
   "cell_type": "markdown",
   "id": "bb6c7605",
   "metadata": {},
   "source": [
    "# 2.4 슬라이싱"
   ]
  },
  {
   "cell_type": "markdown",
   "id": "2e61a69d",
   "metadata": {},
   "source": [
    "## 2.4.1 슬라이스와 범위 지정시에 마지막 항목이 포함되지 않는 이유"
   ]
  },
  {
   "cell_type": "code",
   "execution_count": 46,
   "id": "abc644b8",
   "metadata": {},
   "outputs": [
    {
     "name": "stdout",
     "output_type": "stream",
     "text": [
      "[10, 20]\n",
      "[30, 40, 50, 60]\n",
      "[10, 20, 30]\n",
      "[40, 50, 60]\n"
     ]
    }
   ],
   "source": [
    "l = [10,20,30,40,50,60]\n",
    "print(l[:2])\n",
    "print(l[2:])\n",
    "print(l[:3])\n",
    "print(l[3:])"
   ]
  },
  {
   "cell_type": "markdown",
   "id": "45bbe19b",
   "metadata": {},
   "source": [
    "## 2.4.2 슬라이스 객체"
   ]
  },
  {
   "cell_type": "code",
   "execution_count": 47,
   "id": "b5b27ecc",
   "metadata": {},
   "outputs": [
    {
     "name": "stdout",
     "output_type": "stream",
     "text": [
      "bye\n",
      "elcycib\n",
      "eccb\n"
     ]
    }
   ],
   "source": [
    "s = 'bicycle'\n",
    "print(s[::3])\n",
    "print(s[::-1])\n",
    "print(s[::-2])"
   ]
  },
  {
   "cell_type": "code",
   "execution_count": 48,
   "id": "2275d554",
   "metadata": {},
   "outputs": [],
   "source": [
    "invoice = \"\"\"\n",
    "0.....6.................................40........52...55........\n",
    "1909 Pimoroni PiBrella                      $17.50    3    $52.50\n",
    "1489 6mm Tactile Switch x20                  $4.95    2    $9.90\n",
    "1510 Panavise Jr. - PV-201                  $28.00    1    $28.00\n",
    "1601 PiTFT Mini Kit 320x240                 $34.95    1    $34.95\n",
    "\"\"\""
   ]
  },
  {
   "cell_type": "code",
   "execution_count": 49,
   "id": "bc5570e7",
   "metadata": {},
   "outputs": [
    {
     "name": "stdout",
     "output_type": "stream",
     "text": [
      "    $17.50   imoroni PiBrella                  \n",
      "     $4.95   mm Tactile Switch x20             \n",
      "    $28.00   anavise Jr. - PV-201              \n",
      "    $34.95   iTFT Mini Kit 320x240             \n",
      " \n"
     ]
    }
   ],
   "source": [
    "SKU = slice(0,6)\n",
    "DESCRIPTION = slice(6,40)\n",
    "UNIT_PRICE = slice(40,52)\n",
    "QUANTITY = slice(52,55)\n",
    "ITEM_TOTAL = slice(55,None)\n",
    "line_items = invoice.split('\\n')[2:]\n",
    "\n",
    "for item in line_items:\n",
    "    print(item[UNIT_PRICE], item[DESCRIPTION])"
   ]
  },
  {
   "cell_type": "markdown",
   "id": "ad413217",
   "metadata": {},
   "source": [
    "## 2.4.4 슬라이스에 할당하기"
   ]
  },
  {
   "cell_type": "code",
   "execution_count": 50,
   "id": "6db27803",
   "metadata": {},
   "outputs": [
    {
     "name": "stdout",
     "output_type": "stream",
     "text": [
      "[0, 1, 2, 3, 4, 5, 6, 7, 8, 9]\n",
      "[0, 1, 20, 30, 5, 6, 7, 8, 9]\n",
      "[0, 1, 20, 30, 5, 8, 9]\n",
      "[0, 1, 20, 11, 5, 22, 9]\n"
     ]
    }
   ],
   "source": [
    "l = list(range(10))\n",
    "print(l)\n",
    "\n",
    "# 4번째 index 는 그냥 사라지네\n",
    "l[2:5] = [20,30]\n",
    "print(l)\n",
    "\n",
    "del l[5:7]\n",
    "print(l)\n",
    "\n",
    "l[3::2] = [11,22]\n",
    "print(l)"
   ]
  },
  {
   "cell_type": "code",
   "execution_count": 51,
   "id": "b90fa19c",
   "metadata": {},
   "outputs": [
    {
     "ename": "TypeError",
     "evalue": "can only assign an iterable",
     "output_type": "error",
     "traceback": [
      "\u001b[1;31m---------------------------------------------------------------------------\u001b[0m",
      "\u001b[1;31mTypeError\u001b[0m                                 Traceback (most recent call last)",
      "Input \u001b[1;32mIn [51]\u001b[0m, in \u001b[0;36m<cell line: 1>\u001b[1;34m()\u001b[0m\n\u001b[1;32m----> 1\u001b[0m l[\u001b[38;5;241m2\u001b[39m:\u001b[38;5;241m5\u001b[39m] \u001b[38;5;241m=\u001b[39m \u001b[38;5;241m100\u001b[39m\n",
      "\u001b[1;31mTypeError\u001b[0m: can only assign an iterable"
     ]
    }
   ],
   "source": [
    "l[2:5] = 100"
   ]
  },
  {
   "cell_type": "code",
   "execution_count": 52,
   "id": "c2786de5",
   "metadata": {
    "scrolled": true
   },
   "outputs": [
    {
     "name": "stdout",
     "output_type": "stream",
     "text": [
      "[0, 1, 100, 22, 9]\n"
     ]
    }
   ],
   "source": [
    "l[2:5] = [100]\n",
    "print(l)"
   ]
  },
  {
   "cell_type": "markdown",
   "id": "4353b41c",
   "metadata": {},
   "source": [
    "# 2.5 시퀀스에 덧셈과 곱셈 연산자 사용하기"
   ]
  },
  {
   "cell_type": "markdown",
   "id": "06d119a4",
   "metadata": {},
   "source": [
    "## 2.5.1 리스트의 리스트 만들기"
   ]
  },
  {
   "cell_type": "code",
   "execution_count": 6,
   "id": "d02e1645",
   "metadata": {},
   "outputs": [
    {
     "name": "stdout",
     "output_type": "stream",
     "text": [
      "[['_', '_', '_'], ['_', '_', '_'], ['_', '_', '_']]\n"
     ]
    }
   ],
   "source": [
    "board = [['_'] *3 for i in range(3)]\n",
    "print(board)"
   ]
  },
  {
   "cell_type": "code",
   "execution_count": 7,
   "id": "fb23c809",
   "metadata": {},
   "outputs": [
    {
     "name": "stdout",
     "output_type": "stream",
     "text": [
      "[['_', '_', '_'], ['_', '_', 'X'], ['_', '_', '_']]\n"
     ]
    }
   ],
   "source": [
    "board[1][2] = 'X'\n",
    "print(board)"
   ]
  },
  {
   "cell_type": "code",
   "execution_count": 8,
   "id": "e5e20866",
   "metadata": {},
   "outputs": [
    {
     "name": "stdout",
     "output_type": "stream",
     "text": [
      "[['_', '_', '_'], ['_', '_', '_'], ['_', '_', '_']]\n"
     ]
    }
   ],
   "source": [
    "weird_board = [ ['_'] * 3 ] * 3\n",
    "print(weird_board)"
   ]
  },
  {
   "cell_type": "code",
   "execution_count": 10,
   "id": "893ebbf9",
   "metadata": {},
   "outputs": [
    {
     "name": "stdout",
     "output_type": "stream",
     "text": [
      "[['_', '_', '0'], ['_', '_', '0'], ['_', '_', '0']]\n"
     ]
    }
   ],
   "source": [
    "weird_board[1][2] = '0'\n",
    "print(weird_board)"
   ]
  },
  {
   "cell_type": "code",
   "execution_count": 11,
   "id": "8c6b63e4",
   "metadata": {},
   "outputs": [],
   "source": [
    "row = ['_'] * 3\n",
    "board = []\n",
    "for i in range(3):\n",
    "    board.append(row)"
   ]
  },
  {
   "cell_type": "code",
   "execution_count": 12,
   "id": "8ca61a65",
   "metadata": {},
   "outputs": [],
   "source": [
    "board = []\n",
    "for i in range(3):\n",
    "    row = ['_']*3\n",
    "    board.append(row)"
   ]
  },
  {
   "cell_type": "code",
   "execution_count": 13,
   "id": "197eac20",
   "metadata": {},
   "outputs": [
    {
     "name": "stdout",
     "output_type": "stream",
     "text": [
      "[['_', '_', '_'], ['_', '_', '_'], ['_', '_', '_']]\n"
     ]
    }
   ],
   "source": [
    "print(board)"
   ]
  },
  {
   "cell_type": "code",
   "execution_count": 14,
   "id": "07dc0d8f",
   "metadata": {},
   "outputs": [
    {
     "name": "stdout",
     "output_type": "stream",
     "text": [
      "[['_', '_', '_'], ['_', '_', '_'], ['X', '_', '_']]\n"
     ]
    }
   ],
   "source": [
    "board[2][0] = 'X'\n",
    "print(board)"
   ]
  },
  {
   "cell_type": "markdown",
   "id": "d1a38b0d",
   "metadata": {},
   "source": [
    "# 2.6 시퀀스의 복합 할당"
   ]
  },
  {
   "cell_type": "code",
   "execution_count": 16,
   "id": "1a2120e5",
   "metadata": {},
   "outputs": [
    {
     "name": "stdout",
     "output_type": "stream",
     "text": [
      "2225485698816\n",
      "[1, 2, 3, 1, 2, 3]\n",
      "2225485698816\n"
     ]
    }
   ],
   "source": [
    "l = [1,2,3]\n",
    "print(id(l))\n",
    "\n",
    "l*= 2\n",
    "print(l)\n",
    "print(id(l))"
   ]
  },
  {
   "cell_type": "code",
   "execution_count": 17,
   "id": "22c0eb8f",
   "metadata": {},
   "outputs": [
    {
     "name": "stdout",
     "output_type": "stream",
     "text": [
      "2225485768256\n"
     ]
    }
   ],
   "source": [
    "t = (1,2,3)\n",
    "print(id(t))"
   ]
  },
  {
   "cell_type": "code",
   "execution_count": 18,
   "id": "4e73d0a1",
   "metadata": {},
   "outputs": [
    {
     "name": "stdout",
     "output_type": "stream",
     "text": [
      "(1, 2, 3, 1, 2, 3)\n",
      "2225485734336\n"
     ]
    }
   ],
   "source": [
    "t*=2\n",
    "print(t)\n",
    "print(id(t))"
   ]
  },
  {
   "cell_type": "markdown",
   "id": "d46dd694",
   "metadata": {},
   "source": [
    "## 2.6.1 += 복합 할당 퀴즈"
   ]
  },
  {
   "cell_type": "code",
   "execution_count": 22,
   "id": "a5b4afa5",
   "metadata": {},
   "outputs": [
    {
     "ename": "TypeError",
     "evalue": "'tuple' object does not support item assignment",
     "output_type": "error",
     "traceback": [
      "\u001b[1;31m---------------------------------------------------------------------------\u001b[0m",
      "\u001b[1;31mTypeError\u001b[0m                                 Traceback (most recent call last)",
      "Input \u001b[1;32mIn [22]\u001b[0m, in \u001b[0;36m<cell line: 2>\u001b[1;34m()\u001b[0m\n\u001b[0;32m      1\u001b[0m t \u001b[38;5;241m=\u001b[39m (\u001b[38;5;241m1\u001b[39m,\u001b[38;5;241m2\u001b[39m,[\u001b[38;5;241m30\u001b[39m,\u001b[38;5;241m40\u001b[39m])\n\u001b[1;32m----> 2\u001b[0m t[\u001b[38;5;241m2\u001b[39m] \u001b[38;5;241m+\u001b[39m\u001b[38;5;241m=\u001b[39m [\u001b[38;5;241m50\u001b[39m,\u001b[38;5;241m60\u001b[39m]\n",
      "\u001b[1;31mTypeError\u001b[0m: 'tuple' object does not support item assignment"
     ]
    }
   ],
   "source": [
    "t = (1,2,[30,40])\n",
    "t[2] += [50,60]"
   ]
  },
  {
   "cell_type": "code",
   "execution_count": 23,
   "id": "8067bbc3",
   "metadata": {},
   "outputs": [
    {
     "name": "stdout",
     "output_type": "stream",
     "text": [
      "(1, 2, [30, 40, 50, 60])\n"
     ]
    }
   ],
   "source": [
    "print(t)"
   ]
  },
  {
   "cell_type": "code",
   "execution_count": 24,
   "id": "7e2f2781",
   "metadata": {},
   "outputs": [
    {
     "name": "stdout",
     "output_type": "stream",
     "text": [
      "  1           0 LOAD_NAME                0 (s)\n",
      "              2 LOAD_NAME                1 (a)\n",
      "              4 DUP_TOP_TWO\n",
      "              6 BINARY_SUBSCR\n",
      "              8 LOAD_NAME                2 (b)\n",
      "             10 INPLACE_ADD\n",
      "             12 ROT_THREE\n",
      "             14 STORE_SUBSCR\n",
      "             16 LOAD_CONST               0 (None)\n",
      "             18 RETURN_VALUE\n",
      "None\n"
     ]
    }
   ],
   "source": [
    "import dis\n",
    "\n",
    "print(dis.dis('s[a]+=b'))"
   ]
  },
  {
   "cell_type": "markdown",
   "id": "80253eb4",
   "metadata": {},
   "source": [
    "# 2.7 list.sort() 와 sorted() 내장 함수"
   ]
  },
  {
   "cell_type": "code",
   "execution_count": 31,
   "id": "48fcc260",
   "metadata": {},
   "outputs": [
    {
     "name": "stdout",
     "output_type": "stream",
     "text": [
      "['apple', 'banana', 'grape', 'raspberry']\n",
      "['grape', 'raspberry', 'apple', 'banana']\n"
     ]
    }
   ],
   "source": [
    "fruits = ['grape','raspberry','apple','banana']\n",
    "print(sorted(fruits))\n",
    "print(fruits)"
   ]
  },
  {
   "cell_type": "code",
   "execution_count": 32,
   "id": "28e4d8f1",
   "metadata": {},
   "outputs": [
    {
     "name": "stdout",
     "output_type": "stream",
     "text": [
      "['raspberry', 'grape', 'banana', 'apple']\n",
      "['grape', 'apple', 'banana', 'raspberry']\n",
      "['raspberry', 'banana', 'grape', 'apple']\n"
     ]
    }
   ],
   "source": [
    "print(sorted(fruits, reverse = True))\n",
    "print(sorted(fruits, key = len))\n",
    "print(sorted(fruits, key = len, reverse = True))"
   ]
  },
  {
   "cell_type": "code",
   "execution_count": 33,
   "id": "758f599e",
   "metadata": {},
   "outputs": [
    {
     "name": "stdout",
     "output_type": "stream",
     "text": [
      "['grape', 'raspberry', 'apple', 'banana']\n",
      "['apple', 'banana', 'grape', 'raspberry']\n"
     ]
    }
   ],
   "source": [
    "print(fruits)\n",
    "fruits.sort()\n",
    "print(fruits)"
   ]
  },
  {
   "cell_type": "markdown",
   "id": "abd1f661",
   "metadata": {},
   "source": [
    "# 2.8 정렬된 시퀀스를 bisect로 관리하기"
   ]
  },
  {
   "cell_type": "markdown",
   "id": "86035a88",
   "metadata": {},
   "source": [
    "- bisect 모듈은 bisect() 와 insort() 함수 제공\n",
    "    - bisect() 는 이진 검색 알고리즘을 이용해서 시퀀스를 검색\n",
    "    - insort() 는 정렬된 시퀀스 안에 항목을 삽입\n",
    "- bisect 모듈은 리스트나 튜플뿐 아니라 시퀀스에도 적용된다. ( tuple 은 immutable 이므로 bisect.insort() 는 적용 안됨 ) \n",
    "<br><br>\n",
    "- A needle in a haystack :  Something or someone that is difficult and nearly impossible to find."
   ]
  },
  {
   "cell_type": "markdown",
   "id": "1acdefe4",
   "metadata": {},
   "source": [
    "## 2.8.1 bisect()로 검색하기"
   ]
  },
  {
   "cell_type": "code",
   "execution_count": 77,
   "id": "017fd3a0",
   "metadata": {},
   "outputs": [
    {
     "name": "stdout",
     "output_type": "stream",
     "text": [
      "DEMO:  bisect_right\n",
      "haystack ->  1  4  5  6  8 12 15 20 21 23 23 26 29 30\n",
      "31 @ 14      |  |  |  |  |  |  |  |  |  |  |  |  |  |31\n",
      "30 @ 14      |  |  |  |  |  |  |  |  |  |  |  |  |  |30\n",
      "29 @ 13      |  |  |  |  |  |  |  |  |  |  |  |  |29\n",
      "23 @ 11      |  |  |  |  |  |  |  |  |  |  |23\n",
      "22 @  9      |  |  |  |  |  |  |  |  |22\n",
      "10 @  5      |  |  |  |  |10\n",
      " 8 @  5      |  |  |  |  |8 \n",
      " 5 @  3      |  |  |5 \n",
      " 2 @  1      |2 \n",
      " 1 @  1      |1 \n",
      " 0 @  0    0 \n"
     ]
    }
   ],
   "source": [
    "import bisect\n",
    "import sys\n",
    "\n",
    "HAYSTACK = [1,4,5,6,8,12,15,20,21,23,23,26,29,30]\n",
    "NEEDLES  = [0,1,2,5,8,10,22,23,29,30,31]\n",
    "\n",
    "ROW_FMT = '{0:2d} @ {1:2d}    {2}{0:<2d}' # #space bar = 4 \n",
    "\n",
    "def demo(bisect_fn):\n",
    "    for needle in reversed(NEEDLES):\n",
    "        position = bisect_fn(HAYSTACK,needle)\n",
    "        offset = position * '  |' # #space bar = 2\n",
    "        print(ROW_FMT.format(needle,position,offset))\n",
    "        \n",
    "if __name__ == '__main__':\n",
    "    if sys.argv[-1] == 'left':\n",
    "        bisect_fn = bisect.bisect_left\n",
    "    else:\n",
    "        bisect_fn = bisect.bisect\n",
    "        \n",
    "    print(\"DEMO: \", bisect_fn.__name__)\n",
    "    print('haystack ->',' '.join('%2d' % n for n in HAYSTACK))\n",
    "    demo(bisect_fn)"
   ]
  },
  {
   "cell_type": "code",
   "execution_count": 78,
   "id": "1f9e8de9",
   "metadata": {},
   "outputs": [
    {
     "name": "stdout",
     "output_type": "stream",
     "text": [
      "DEMO:  bisect_left\n",
      "haystack ->  1  4  5  6  8 12 15 20 21 23 23 26 29 30\n",
      "31 @ 14      |  |  |  |  |  |  |  |  |  |  |  |  |  |31\n",
      "30 @ 13      |  |  |  |  |  |  |  |  |  |  |  |  |30\n",
      "29 @ 12      |  |  |  |  |  |  |  |  |  |  |  |29\n",
      "23 @  9      |  |  |  |  |  |  |  |  |23\n",
      "22 @  9      |  |  |  |  |  |  |  |  |22\n",
      "10 @  5      |  |  |  |  |10\n",
      " 8 @  4      |  |  |  |8 \n",
      " 5 @  2      |  |5 \n",
      " 2 @  1      |2 \n",
      " 1 @  0    1 \n",
      " 0 @  0    0 \n"
     ]
    }
   ],
   "source": [
    "import bisect\n",
    "import sys\n",
    "\n",
    "HAYSTACK = [1,4,5,6,8,12,15,20,21,23,23,26,29,30]\n",
    "NEEDLES  = [0,1,2,5,8,10,22,23,29,30,31]\n",
    "\n",
    "ROW_FMT = '{0:2d} @ {1:2d}    {2}{0:<2d}' # #space bar = 4 \n",
    "\n",
    "def demo(bisect_fn):\n",
    "    for needle in reversed(NEEDLES):\n",
    "        position = bisect_fn(HAYSTACK,needle)\n",
    "        offset = position * '  |' # #space bar = 2\n",
    "        print(ROW_FMT.format(needle,position,offset))\n",
    "        \n",
    "if __name__ == '__main__':\n",
    "    if sys.argv[-1] == 'left':\n",
    "        bisect_fn = bisect.bisect_left\n",
    "    else:\n",
    "        bisect_fn = bisect.bisect_left\n",
    "        \n",
    "    print(\"DEMO: \", bisect_fn.__name__)\n",
    "    print('haystack ->',' '.join('%2d' % n for n in HAYSTACK))\n",
    "    demo(bisect_fn)"
   ]
  },
  {
   "cell_type": "code",
   "execution_count": 168,
   "id": "739a079f",
   "metadata": {},
   "outputs": [
    {
     "name": "stdout",
     "output_type": "stream",
     "text": [
      "Case 1) use .sort() :  7.159481525421143\n",
      "Case 2) use sorted() :  7.566699266433716\n",
      "Case 3) use [::-1] :  7.359405517578125\n",
      "Case 4) use multiplying -1 :  3.8304331302642822\n"
     ]
    }
   ],
   "source": [
    "# what if the list that we are interested in ( = haystack ) is sorted in descending order?\n",
    "# And we have to keep the desecnding order at last\n",
    "import bisect\n",
    "import sys\n",
    "import time\n",
    "import copy\n",
    "\n",
    "HAYSTACK = sorted(np.random.rand(100000).tolist(),reverse = True)\n",
    "NEEDLES = sorted(np.random.rand(100000).tolist(),reverse = True)\n",
    "\n",
    "def insort(HAYSTACK,NEEDLES):\n",
    "    for needle in NEEDLES:\n",
    "        bisect.insort(HAYSTACK,needle)\n",
    "    return HAYSTACK\n",
    "\n",
    "# 1 .sort()\n",
    "since = time.time()\n",
    "HAYSTACK1 = copy.deepcopy(HAYSTACK)\n",
    "HAYSTACK1.sort()\n",
    "HAYSTACK1 = insort(HAYSTACK1,NEEDLES)\n",
    "HAYSTACK1.sort(reverse = True)\n",
    "elapsed = time.time() - since\n",
    "print(\"Case 1) use .sort() : \" , elapsed)\n",
    "\n",
    "# 2 sorted()\n",
    "since = time.time()\n",
    "HAYSTACK2 = copy.deepcopy(HAYSTACK)\n",
    "HAYSTACK2 = sorted(HAYSTACK2)\n",
    "HAYSTACK2 = insort(HAYSTACK2,NEEDLES)\n",
    "HAYSTACK2 = sorted(HAYSTACK2,reverse = True)\n",
    "elapsed = time.time() - since\n",
    "print(\"Case 2) use sorted() : \" , elapsed)\n",
    "\n",
    "# 3 [::-1]\n",
    "since = time.time()\n",
    "HAYSTACK3 = copy.deepcopy(HAYSTACK)\n",
    "HAYSTACK3 = HAYSTACK3[::-1]\n",
    "HAYSTACK3 = insort(HAYSTACK3,NEEDLES)\n",
    "HAYSTACK3 = HAYSTACK3[::-1]\n",
    "elapsed = time.time() - since\n",
    "print(\"Case 3) use [::-1] : \" , elapsed)\n",
    "\n",
    "# 4 * -1\n",
    "since = time.time()\n",
    "HAYSTACK4 = copy.deepcopy(HAYSTACK)\n",
    "HAYSTACK4 = list(map( lambda x : x * -1 ,HAYSTACK4   ))\n",
    "HAYSTACK4 = insort(HAYSTACK4,NEEDLES)\n",
    "HAYSTACK4 = list(map( lambda x : x * -1 ,HAYSTACK4   ))\n",
    "elapsed = time.time() - since\n",
    "print(\"Case 4) use multiplying -1 : \" , elapsed)"
   ]
  },
  {
   "cell_type": "code",
   "execution_count": 80,
   "id": "783f5941",
   "metadata": {},
   "outputs": [
    {
     "name": "stdout",
     "output_type": "stream",
     "text": [
      "['F', 'A', 'C', 'C', 'B', 'A', 'A']\n"
     ]
    }
   ],
   "source": [
    "def grade( score, breakpoints = [60,70,80,90], grades = \"FDCBA\"):\n",
    "    i = bisect.bisect(breakpoints, score)\n",
    "    return grades[i]\n",
    "\n",
    "print([ grade(score) for score in [33,99,77,70,89,90,100] ])"
   ]
  },
  {
   "cell_type": "markdown",
   "id": "37996f86",
   "metadata": {},
   "source": [
    "## 2.8.2 bisect.insort() 로 삽입하기\n",
    "- insort(seq, item) 은 seq를 오름차순으로 유지한 채로 item 을 seq를 삽입한다."
   ]
  },
  {
   "cell_type": "code",
   "execution_count": 81,
   "id": "3f2496cc",
   "metadata": {},
   "outputs": [
    {
     "name": "stdout",
     "output_type": "stream",
     "text": [
      "10 -> [10]\n",
      " 0 -> [0, 10]\n",
      " 6 -> [0, 6, 10]\n",
      " 8 -> [0, 6, 8, 10]\n",
      " 7 -> [0, 6, 7, 8, 10]\n",
      " 2 -> [0, 2, 6, 7, 8, 10]\n",
      "10 -> [0, 2, 6, 7, 8, 10, 10]\n"
     ]
    }
   ],
   "source": [
    "import bisect\n",
    "import random\n",
    "\n",
    "SIZE = 7\n",
    "random.seed(1729)\n",
    "\n",
    "my_list = []\n",
    "for i in range(SIZE):\n",
    "    new_item = random.randrange(SIZE*2)\n",
    "    bisect.insort(my_list, new_item)\n",
    "    print('%2d ->' %new_item, my_list)"
   ]
  },
  {
   "cell_type": "markdown",
   "id": "4337a65f",
   "metadata": {},
   "source": [
    "# 2.9 리스트가 답이 아닐 때\n",
    "- 배열은 float 객체 대신 바이트 값만 저장하기 때문에 대량의 실수를 저장해야할 때 리스트보다 배열이 효율적이다.\n",
    "- 리스트의 양쪽 끝에 항목을 계속 추가하거나 삭제하면서 FIFO 나 LIFO 데이터 구조를 구현할 때는 deque(양쪽사용하는 큐)가 더 빠르다."
   ]
  },
  {
   "cell_type": "markdown",
   "id": "f7cad635",
   "metadata": {},
   "source": [
    "## 2.9.1 배열\n",
    "- 시퀀스 안에 숫자만 들어있다면 배열이 리스트보다 훨씬 더 효율적이다.\n",
    "- 가변 시퀀스가 제공하는 모든 연산 지원\n",
    "- frombytes(), tofile() 메서드 제공하여 빠르게 파일에 저장하고 읽기 가능"
   ]
  },
  {
   "cell_type": "code",
   "execution_count": 82,
   "id": "4d3d730d",
   "metadata": {},
   "outputs": [
    {
     "name": "stdout",
     "output_type": "stream",
     "text": [
      "0.5963321947530882\n"
     ]
    }
   ],
   "source": [
    "from array import array\n",
    "from random import random\n",
    "floats = array('d',(random() for i in range(10**7) ))\n",
    "print(floats[-1])"
   ]
  },
  {
   "cell_type": "code",
   "execution_count": 83,
   "id": "8e45a9ee",
   "metadata": {},
   "outputs": [],
   "source": [
    "fp = open('floats.bin', 'wb')\n",
    "floats.tofile(fp)\n",
    "fp.close()"
   ]
  },
  {
   "cell_type": "code",
   "execution_count": 84,
   "id": "10ca1c08",
   "metadata": {},
   "outputs": [
    {
     "name": "stdout",
     "output_type": "stream",
     "text": [
      "0.5963321947530882\n"
     ]
    }
   ],
   "source": [
    "floats2 = array('d')\n",
    "fp = open('floats.bin','rb')\n",
    "floats2.fromfile(fp,10**7)\n",
    "fp.close()\n",
    "print(floats2[-1])"
   ]
  },
  {
   "cell_type": "code",
   "execution_count": 85,
   "id": "3981a9bf",
   "metadata": {},
   "outputs": [
    {
     "name": "stdout",
     "output_type": "stream",
     "text": [
      "True\n"
     ]
    }
   ],
   "source": [
    "print(floats == floats2)"
   ]
  },
  {
   "cell_type": "markdown",
   "id": "8b9dd72a",
   "metadata": {},
   "source": [
    "#### 엔디언 변환\n",
    "- 엔디언(Endianness) : 배열에 바이트 데이터를 넣을 때 바이트 순서를 의미\n",
    "- 대표적인 엔디안의 종류로 little endian, big endian 이 있다. 윈도우나 인텔 기반의 리눅스는 little endian 방식으로 구동된다. 네트워크상으로 데이터를 전송할 때는 빅 엔디안 기준으로 송수신 된다.\n",
    "    - big endian : 메모리 공간의 시작 주소에서 메모리 마지막 주소 순서로 쓰는 방식\n",
    "    - little endian : 메모리 공간의 마지막 주소에서 메모리 시작 주소 순서로 쓰는 방식\n",
    "- 네트워크로 데이터를 전송할 때 같은 엔디안 시스템을 사용하는 컴퓨터에서는 호환성 문제가 생기지 않으나, 서로 다른 엔디안을 사용하는 컴퓨터의 경우 컴퓨터가 데이터를 제대로 읽지 못하는 경우가 생길 수 있다. 이때문에 바이트의 정렬 방법을 변환해야하는데 이를 엔디언 변환이라고 한다.\n",
    "\n",
    "https://zion830.tistory.com/38  <br>\n",
    "https://zion830.tistory.com/39  <br>\n",
    "https://cypsw.tistory.com/entry/Endian-%EB%B3%80%ED%99%98-%EA%B3%BC%EC%A0%95%EC%97%90-%EB%8C%80%ED%95%98%EC%97%AC"
   ]
  },
  {
   "cell_type": "markdown",
   "id": "0df96db8",
   "metadata": {},
   "source": [
    "## 2.9.2 메모리뷰\n",
    "- 메모리뷰(memoryview) 내장 클래스는 <b>공유 메모리</b> 시퀀스형으로서 bytes 를 복사하지 않고 배열의 슬라이스를 다룰 수 있게 해준다.\n",
    "- 공유 메모리(shared memory) : 프로세스에서 메모리는 해당 프로세스만이 사용하는 것이 일반적. 메모리에는 명령어, 지역 변수, 동적 변수, 전역 변수와 같이 데이터가 존재하는데 그 프로세스만이 접근할 수 있고 변경 가능. 일반적으로 이런데 데이터를 다른 프로세스에 쓰일 수 있도록 만들 수 있음. 그것이 공유 메모리라는 IPC ( Inter process communication ) 기법\n",
    "- 메모리 뷰는 본질적으로 파이썬 자체에 들어있는 NumPy 배열 구조체를 일반화한 것"
   ]
  },
  {
   "cell_type": "code",
   "execution_count": 109,
   "id": "ba5f6058",
   "metadata": {},
   "outputs": [
    {
     "name": "stdout",
     "output_type": "stream",
     "text": [
      "5\n",
      "-2\n"
     ]
    }
   ],
   "source": [
    "import array\n",
    "numbers = array.array('h',[-2,-1,0,1,2])\n",
    "memv = memoryview(numbers)\n",
    "print(len(memv))\n",
    "print(memv[0])"
   ]
  },
  {
   "cell_type": "code",
   "execution_count": 110,
   "id": "5959549a",
   "metadata": {},
   "outputs": [
    {
     "data": {
      "text/plain": [
       "[254, 255, 255, 255, 0, 0, 1, 0, 2, 0]"
      ]
     },
     "execution_count": 110,
     "metadata": {},
     "output_type": "execute_result"
    }
   ],
   "source": [
    "memv_oct = memv.cast('B')\n",
    "memv_oct.tolist()"
   ]
  },
  {
   "cell_type": "code",
   "execution_count": 111,
   "id": "c7aaaf76",
   "metadata": {},
   "outputs": [],
   "source": [
    "memv_oct[5]=4"
   ]
  },
  {
   "cell_type": "markdown",
   "id": "edce10e6",
   "metadata": {},
   "source": [
    "## 2.9.3 Numpy와 Scipy"
   ]
  },
  {
   "cell_type": "code",
   "execution_count": 118,
   "id": "11b27250",
   "metadata": {},
   "outputs": [
    {
     "name": "stdout",
     "output_type": "stream",
     "text": [
      "[ 0  1  2  3  4  5  6  7  8  9 10 11]\n",
      "<class 'numpy.ndarray'>\n",
      "(12,)\n",
      "[[ 0  1  2  3]\n",
      " [ 4  5  6  7]\n",
      " [ 8  9 10 11]]\n",
      "[ 8  9 10 11]\n",
      "9\n",
      "[1 5 9]\n",
      "[[ 0  4  8]\n",
      " [ 1  5  9]\n",
      " [ 2  6 10]\n",
      " [ 3  7 11]]\n",
      "[[ 0  4  8]\n",
      " [ 1  5  9]\n",
      " [ 2  6 10]\n",
      " [ 3  7 11]]\n"
     ]
    }
   ],
   "source": [
    "import numpy as np\n",
    "a = np.arange(12)\n",
    "print(a)\n",
    "print(type(a))\n",
    "print(a.shape)\n",
    "a.shape = 3,4 # np.reshape 말고 이렇게도 이용할 수가 있네?\n",
    "print(a)\n",
    "print(a[2])\n",
    "print(a[2,1])\n",
    "print(a[:,1])\n",
    "print(a.transpose()) # == a.T\n",
    "print(a.T)"
   ]
  },
  {
   "cell_type": "code",
   "execution_count": 124,
   "id": "c6b1c7dc",
   "metadata": {},
   "outputs": [],
   "source": [
    "import numpy as np\n",
    "# 이 전에 floats-10M-lines.txt file 을 만든 기억이 없어서 새로 생성\n",
    "#floats_10M_lines = np.random.rand(10000000)\n",
    "#np.savetxt('floats-10M-lines.txt', floats_10M_lines)\n",
    "# np.save('floats-10M-lines.npy', floats_10M_lines) 로 동일한 배열을 npy 로 만드니까 용량이 1/4 수준"
   ]
  },
  {
   "cell_type": "code",
   "execution_count": 126,
   "id": "fb9e7e9d",
   "metadata": {},
   "outputs": [],
   "source": [
    "floats = np.loadtxt('floats-10M-lines.txt')"
   ]
  },
  {
   "cell_type": "code",
   "execution_count": 127,
   "id": "480cbe97",
   "metadata": {},
   "outputs": [
    {
     "name": "stdout",
     "output_type": "stream",
     "text": [
      "[0.2875971  0.12960808 0.88956701]\n",
      "[0.14379855 0.06480404 0.44478351]\n"
     ]
    }
   ],
   "source": [
    "print(floats[-3:])\n",
    "floats *= .5\n",
    "print(floats[-3:])"
   ]
  },
  {
   "cell_type": "code",
   "execution_count": 128,
   "id": "b774f61b",
   "metadata": {},
   "outputs": [
    {
     "name": "stdout",
     "output_type": "stream",
     "text": [
      "0.015058400000270922\n"
     ]
    }
   ],
   "source": [
    "from time import perf_counter as pc\n",
    "t0 = pc(); floats /= 3; print(pc() - t0) # 이렇게 하니까 한 줄로 코드 수행하는데 걸리는 시간을 알 수 있네"
   ]
  },
  {
   "cell_type": "code",
   "execution_count": 131,
   "id": "8aa3dff6",
   "metadata": {},
   "outputs": [
    {
     "name": "stdout",
     "output_type": "stream",
     "text": [
      "[0.2875971  0.12960808 0.88956701]\n"
     ]
    }
   ],
   "source": [
    "np.save('floats-10M.npy',floats)\n",
    "floats2 = np.load('floats-10M.npy','r+')\n",
    "floats2 *= 6\n",
    "print(floats2[-3:])"
   ]
  },
  {
   "cell_type": "markdown",
   "id": "57d9bf89",
   "metadata": {},
   "source": [
    "## 2.9.4 덱 및 기타 큐\n",
    "- 리스트의 append() 와 pop() 을 통해 스택이나 큐로 이용할 수 있지만 0번 index 에 삽입, 삭제 연산은 전체 리스트를 이동시켜야 하므로 처리 부담이 크다.\n",
    "- 덱 ( collections.deque) class 는 큐의 양쪽 어디에서든 빠르게 삽입 및 삭제할 수 있도록 설계된 스레드 안전한 양방향 큐\n",
    "- 덱은 최대 길이를 설정해서 제한된 항목만 유지"
   ]
  },
  {
   "cell_type": "code",
   "execution_count": 138,
   "id": "826631b3",
   "metadata": {},
   "outputs": [
    {
     "name": "stdout",
     "output_type": "stream",
     "text": [
      "deque([0, 1, 2, 3, 4, 5, 6, 7, 8, 9], maxlen=10)\n",
      "deque([7, 8, 9, 0, 1, 2, 3, 4, 5, 6], maxlen=10)\n",
      "deque([1, 2, 3, 4, 5, 6, 7, 8, 9, 0], maxlen=10)\n",
      "deque([-1, 1, 2, 3, 4, 5, 6, 7, 8, 9], maxlen=10)\n",
      "deque([3, 4, 5, 6, 7, 8, 9, 11, 22, 33], maxlen=10)\n",
      "deque([40, 30, 20, 10, 3, 4, 5, 6, 7, 8], maxlen=10)\n"
     ]
    }
   ],
   "source": [
    "from collections import deque\n",
    "dq = deque(range(10), maxlen = 10)\n",
    "print(dq)\n",
    "dq.rotate(3)\n",
    "print(dq)\n",
    "dq.rotate(-4)\n",
    "print(dq)\n",
    "dq.appendleft(-1)\n",
    "print(dq)\n",
    "dq.extend([11,22,33])\n",
    "print(dq)\n",
    "dq.extendleft([10,20,30,40])\n",
    "print(dq)"
   ]
  },
  {
   "cell_type": "markdown",
   "id": "6c106b2c",
   "metadata": {},
   "source": [
    "#### 리스트와 덱의 메서드\n",
    "- 덱은 리스트 메서드 대부분 구현\n",
    "- popleft() rotate() 처럼 고유한 메서드 존재\n",
    "- append() 와 popleft() 메서드는 원자성 갖고 있음 ==> 멀티스레드 앱에서 락을 사용하지 않고 덱을 이용해서 간단히 FIFO 큐 구현 가능\n",
    "    - 원자성(Atomicity) : 트랜잭션(논리적인 작업단위, 장애 발생시 복구 작업이나 병행 제어 작업을 위한 중요한 단위로 사용)의 연산들이 모두 정상적으로 실행되거나 하나도 실행되지 않아햐나는 all or nothing 방식\n",
    "- 덱의 중간 항목을 삭제하는 연산은 빠르지 않음. 덱이 양쪽 끝에 추가나 제거하는 연산에 최적화되어있기 때문\n",
    "    - 이러한 이유로 덱에서는 index() 와 insert() 메서드가 없는 것 같음"
   ]
  },
  {
   "cell_type": "code",
   "execution_count": null,
   "id": "56f4a5b8",
   "metadata": {},
   "outputs": [],
   "source": []
  }
 ],
 "metadata": {
  "kernelspec": {
   "display_name": "Python 3 (ipykernel)",
   "language": "python",
   "name": "python3"
  },
  "language_info": {
   "codemirror_mode": {
    "name": "ipython",
    "version": 3
   },
   "file_extension": ".py",
   "mimetype": "text/x-python",
   "name": "python",
   "nbconvert_exporter": "python",
   "pygments_lexer": "ipython3",
   "version": "3.9.12"
  }
 },
 "nbformat": 4,
 "nbformat_minor": 5
}
