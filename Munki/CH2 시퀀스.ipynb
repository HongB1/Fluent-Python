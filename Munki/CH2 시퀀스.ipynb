{
 "cells": [
  {
   "cell_type": "markdown",
   "id": "9b520c43",
   "metadata": {},
   "source": [
    "# 2.2 지능형 리스트와 제너레이터 표현식"
   ]
  },
  {
   "cell_type": "markdown",
   "id": "eea35e5c",
   "metadata": {},
   "source": [
    "## 2.2.1 지능형 리스트와 가독성"
   ]
  },
  {
   "cell_type": "code",
   "execution_count": 1,
   "id": "26ddefc7",
   "metadata": {},
   "outputs": [
    {
     "name": "stdout",
     "output_type": "stream",
     "text": [
      "[64, 36, 35, 37, 64, 35]\n"
     ]
    }
   ],
   "source": [
    "symbols = '@$#%@#'\n",
    "codes = []\n",
    "\n",
    "for symbol in symbols:\n",
    "    codes.append(ord(symbol))\n",
    "    \n",
    "print(codes)"
   ]
  },
  {
   "cell_type": "code",
   "execution_count": 2,
   "id": "5a12148f",
   "metadata": {},
   "outputs": [
    {
     "name": "stdout",
     "output_type": "stream",
     "text": [
      "[64, 36, 35, 37, 64, 35]\n"
     ]
    }
   ],
   "source": [
    "symbols = '@$#%@#'\n",
    "codes = [ ord(symbol) for symbol in symbols]\n",
    "print(codes)"
   ]
  },
  {
   "cell_type": "code",
   "execution_count": 3,
   "id": "1617e58c",
   "metadata": {},
   "outputs": [
    {
     "name": "stdout",
     "output_type": "stream",
     "text": [
      "ABC\n",
      "[65, 66, 67]\n"
     ]
    }
   ],
   "source": [
    "x = 'ABC'\n",
    "dummy = [ord(x) for x in x ]\n",
    "print(x)\n",
    "print(dummy)"
   ]
  },
  {
   "cell_type": "code",
   "execution_count": 4,
   "id": "fd7377ed",
   "metadata": {},
   "outputs": [
    {
     "name": "stdout",
     "output_type": "stream",
     "text": [
      "[]\n",
      "[]\n"
     ]
    }
   ],
   "source": [
    "symbols = '@$#%@#'\n",
    "beyond_ascii = [ord(s) for s in symbols if ord(s) > 127]\n",
    "print(beyond_ascii)\n",
    "\n",
    "beyond_ascii = list(filter(lambda c:c>127, map(ord, symbols)))\n",
    "print(beyond_ascii)"
   ]
  },
  {
   "cell_type": "markdown",
   "id": "00fe2dab",
   "metadata": {},
   "source": [
    "## 2.2.3 데카르트 곱"
   ]
  },
  {
   "cell_type": "code",
   "execution_count": 8,
   "id": "c2483b81",
   "metadata": {},
   "outputs": [
    {
     "name": "stdout",
     "output_type": "stream",
     "text": [
      "[('black', 'S'), ('black', 'M'), ('black', 'L'), ('white', 'S'), ('white', 'M'), ('white', 'L')]\n"
     ]
    }
   ],
   "source": [
    "colors = ['black','white']\n",
    "sizes = ['S','M','L']\n",
    "tshirts = [(color,size) for color in colors for size in sizes ]\n",
    "print(tshirts)"
   ]
  },
  {
   "cell_type": "code",
   "execution_count": 9,
   "id": "0ed52b8c",
   "metadata": {},
   "outputs": [
    {
     "name": "stdout",
     "output_type": "stream",
     "text": [
      "('black', 'S')\n",
      "('black', 'M')\n",
      "('black', 'L')\n",
      "('white', 'S')\n",
      "('white', 'M')\n",
      "('white', 'L')\n"
     ]
    }
   ],
   "source": [
    "for color in colors:\n",
    "    for size in sizes:\n",
    "        print((color,size))"
   ]
  },
  {
   "cell_type": "code",
   "execution_count": 11,
   "id": "ec9ddac7",
   "metadata": {},
   "outputs": [
    {
     "name": "stdout",
     "output_type": "stream",
     "text": [
      "[('black', 'S'), ('white', 'S'), ('black', 'M'), ('white', 'M'), ('black', 'L'), ('white', 'L')]\n"
     ]
    }
   ],
   "source": [
    "tshirts = [(color, size) for size in sizes\n",
    "                         for color in colors]\n",
    "print(tshirts)"
   ]
  },
  {
   "cell_type": "markdown",
   "id": "7c9eee62",
   "metadata": {},
   "source": [
    "## 2.2.4 제너레이터 표현식"
   ]
  },
  {
   "cell_type": "code",
   "execution_count": 12,
   "id": "cefd887f",
   "metadata": {},
   "outputs": [
    {
     "name": "stdout",
     "output_type": "stream",
     "text": [
      "(64, 36, 35, 37, 64, 35)\n"
     ]
    }
   ],
   "source": [
    "symbols = '@$#%@#'\n",
    "print(tuple(ord(symbol) for symbol in symbols))"
   ]
  },
  {
   "cell_type": "code",
   "execution_count": 13,
   "id": "9d2a0054",
   "metadata": {},
   "outputs": [
    {
     "name": "stdout",
     "output_type": "stream",
     "text": [
      "array('I', [64, 36, 35, 37, 64, 35])\n"
     ]
    }
   ],
   "source": [
    "import array\n",
    "print(array.array('I',((ord(symbol) for symbol in symbols)) ))"
   ]
  },
  {
   "cell_type": "code",
   "execution_count": 14,
   "id": "80ad845d",
   "metadata": {},
   "outputs": [
    {
     "name": "stdout",
     "output_type": "stream",
     "text": [
      "black S\n",
      "black M\n",
      "black L\n",
      "white S\n",
      "white M\n",
      "white L\n"
     ]
    }
   ],
   "source": [
    "colors = ['black','white']\n",
    "sizes = ['S','M','L']\n",
    "\n",
    "# 반복문을 통해 생성된 객체를 따로 사용하는 것이 아니므로 이 경우는 list comp. 보다 generator가 메모리적으로 더 효율적\n",
    "for tshirts in ('%s %s'%(c,s) for c in colors for s in sizes):\n",
    "    print(tshirts)"
   ]
  },
  {
   "cell_type": "markdown",
   "id": "6464cb6e",
   "metadata": {},
   "source": [
    "# 2.3 튜플은 단순한 불변 리스트가 아니다 "
   ]
  },
  {
   "cell_type": "markdown",
   "id": "2613b546",
   "metadata": {},
   "source": [
    "## 2.3.1 레코드로서의 튜플"
   ]
  },
  {
   "cell_type": "code",
   "execution_count": 18,
   "id": "766c223f",
   "metadata": {},
   "outputs": [
    {
     "name": "stdout",
     "output_type": "stream",
     "text": [
      "BRA/CE342567\n",
      "ESP/XDA205856\n",
      "USA/31195855\n",
      "USA\n",
      "BRA\n",
      "ESP\n"
     ]
    }
   ],
   "source": [
    "lax_coordinates = (33.9425, -118.408056)\n",
    "city, year, pop, chg, area = ('Tokyo',2003, 32450, 0.66, 8014)\n",
    "traveler_ids =[('USA','31195855'),(\"BRA\",'CE342567'),('ESP','XDA205856')]\n",
    "\n",
    "for passport in sorted(traveler_ids):\n",
    "    print('%s/%s' %passport)\n",
    "    \n",
    "for country, _ in traveler_ids:\n",
    "    print(country)"
   ]
  },
  {
   "cell_type": "markdown",
   "id": "9d32cd2e",
   "metadata": {},
   "source": [
    "## 2.3.2 튜플 언패킹"
   ]
  },
  {
   "cell_type": "code",
   "execution_count": 19,
   "id": "f4f35531",
   "metadata": {},
   "outputs": [
    {
     "name": "stdout",
     "output_type": "stream",
     "text": [
      "33.9425\n",
      "-118.408056\n"
     ]
    }
   ],
   "source": [
    "lax_coordinates = (33.9425, -118.408056)\n",
    "latitude, longitude = lax_coordinates\n",
    "\n",
    "print(latitude)\n",
    "print(longitude)"
   ]
  },
  {
   "cell_type": "code",
   "execution_count": 22,
   "id": "a6265fee",
   "metadata": {},
   "outputs": [
    {
     "name": "stdout",
     "output_type": "stream",
     "text": [
      "(2, 4)\n",
      "(2, 4)\n",
      "2 4\n"
     ]
    }
   ],
   "source": [
    "print(divmod(20,8))\n",
    "t = (20,8)\n",
    "print(divmod(*t))\n",
    "\n",
    "quotient, remainder = divmod(*t)\n",
    "print(quotient, remainder)"
   ]
  },
  {
   "cell_type": "code",
   "execution_count": 23,
   "id": "28a97cbc",
   "metadata": {},
   "outputs": [
    {
     "name": "stdout",
     "output_type": "stream",
     "text": [
      "idrsa.pub\n"
     ]
    }
   ],
   "source": [
    "import os\n",
    "_, filename = os.path.split('/home/luciano/.ssh/idrsa.pub')\n",
    "print(filename)"
   ]
  },
  {
   "cell_type": "code",
   "execution_count": 27,
   "id": "d2d20e56",
   "metadata": {},
   "outputs": [
    {
     "name": "stdout",
     "output_type": "stream",
     "text": [
      "0 1 [2, 3, 4]\n",
      "0 1 [2]\n",
      "0 1 []\n"
     ]
    }
   ],
   "source": [
    "a,b,*rest = range(5)\n",
    "print(a,b,rest)\n",
    "\n",
    "a,b,*rest = range(3)\n",
    "print(a,b,rest)\n",
    "\n",
    "a,b,*rest = range(2)\n",
    "print(a,b,rest)"
   ]
  },
  {
   "cell_type": "code",
   "execution_count": 30,
   "id": "11ec26f2",
   "metadata": {},
   "outputs": [
    {
     "name": "stdout",
     "output_type": "stream",
     "text": [
      "0 [1, 2] 3 4\n",
      "[0, 1] 2 3 4\n"
     ]
    }
   ],
   "source": [
    "a,*body, c, d = range(5)\n",
    "print(a, body, c, d)\n",
    "\n",
    "*head , b, c, d = range(5)\n",
    "print(head, b, c, d)"
   ]
  },
  {
   "cell_type": "code",
   "execution_count": 37,
   "id": "750b00e2",
   "metadata": {},
   "outputs": [
    {
     "name": "stdout",
     "output_type": "stream",
     "text": [
      "                |   lat.    |   long.  \n",
      "Mexico City     |   33.9425 |  -99.1333\n",
      "New York-Newark |   33.9425 |  -74.0204\n",
      "São Paulo       |   33.9425 |  -46.6358\n"
     ]
    }
   ],
   "source": [
    "metro_areas = [\n",
    "    ('Tokyo', 'JP', 36.933, (35.689722, 139.691667)),\n",
    "    ('Delhi NCR', 'IN', 21.935, (28.613889, 77.208889)),\n",
    "    ('Mexico City', 'MX', 20.142, (19.433333, -99.133333)),\n",
    "    ('New York-Newark', 'US', 20.104, (40.808611, -74.020386)),\n",
    "    ('São Paulo', 'BR', 19.649, (-23.547778, -46.635833)),\n",
    "]\n",
    "\n",
    "print('{:15} | {:^9} | {:^9}'.format('','lat.','long.'))\n",
    "fmt = '{:15} | {:9.4f} | {:9.4f}'\n",
    "for name, cc, pop, (latitue, longitude) in metro_areas:\n",
    "    if longitude <= 0 :\n",
    "        print(fmt.format(name, latitude, longitude))"
   ]
  },
  {
   "cell_type": "markdown",
   "id": "b8c69a63",
   "metadata": {},
   "source": [
    "## 2.3.4 명명된 튜플"
   ]
  },
  {
   "cell_type": "code",
   "execution_count": 38,
   "id": "c45914de",
   "metadata": {},
   "outputs": [
    {
     "name": "stdout",
     "output_type": "stream",
     "text": [
      "City(name='Tokyo', country='JP', population=36.933, coordinates=(35.689722, 139.691667))\n",
      "36.933\n",
      "(35.689722, 139.691667)\n",
      "JP\n"
     ]
    }
   ],
   "source": [
    "from collections import namedtuple\n",
    "City = namedtuple('City','name country population coordinates')\n",
    "tokyo = City('Tokyo','JP',36.933 , (35.689722,139.691667))\n",
    "print(tokyo)\n",
    "print(tokyo.population)\n",
    "print(tokyo.coordinates)\n",
    "print(tokyo[1])"
   ]
  },
  {
   "cell_type": "code",
   "execution_count": 43,
   "id": "514b863d",
   "metadata": {},
   "outputs": [
    {
     "name": "stdout",
     "output_type": "stream",
     "text": [
      "('name', 'country', 'population', 'coordinates')\n",
      "{'name': 'Delhi NCR', 'country': 'In', 'population': 21.935, 'coordinates': LatLong(lat=28.613889, long=77.208889)}\n",
      "name: Delhi NCR\n",
      "country: In\n",
      "population: 21.935\n",
      "coordinates: LatLong(lat=28.613889, long=77.208889)\n"
     ]
    }
   ],
   "source": [
    "print(City._fields)\n",
    "LatLong = namedtuple('LatLong','lat long')\n",
    "delhi_data = ('Delhi NCR','In', 21.935, LatLong(28.613889,77.208889))\n",
    "delhi = City._make(delhi_data) # City( ~~ ) 랑 City._make(~~) 랑 같은 역할인가보군\n",
    "print(delhi._asdict())\n",
    "\n",
    "for key , value in delhi._asdict().items():\n",
    "    print(key + ':' , value)"
   ]
  },
  {
   "cell_type": "markdown",
   "id": "bb6c7605",
   "metadata": {},
   "source": [
    "# 2.4 슬라이싱"
   ]
  },
  {
   "cell_type": "markdown",
   "id": "2e61a69d",
   "metadata": {},
   "source": [
    "## 2.4.1 슬라이스와 범위 지정시에 마지막 항목이 포함되지 않는 이유"
   ]
  },
  {
   "cell_type": "code",
   "execution_count": 46,
   "id": "abc644b8",
   "metadata": {},
   "outputs": [
    {
     "name": "stdout",
     "output_type": "stream",
     "text": [
      "[10, 20]\n",
      "[30, 40, 50, 60]\n",
      "[10, 20, 30]\n",
      "[40, 50, 60]\n"
     ]
    }
   ],
   "source": [
    "l = [10,20,30,40,50,60]\n",
    "print(l[:2])\n",
    "print(l[2:])\n",
    "print(l[:3])\n",
    "print(l[3:])"
   ]
  },
  {
   "cell_type": "markdown",
   "id": "45bbe19b",
   "metadata": {},
   "source": [
    "## 2.4.2 슬라이스 객체"
   ]
  },
  {
   "cell_type": "code",
   "execution_count": 47,
   "id": "b5b27ecc",
   "metadata": {},
   "outputs": [
    {
     "name": "stdout",
     "output_type": "stream",
     "text": [
      "bye\n",
      "elcycib\n",
      "eccb\n"
     ]
    }
   ],
   "source": [
    "s = 'bicycle'\n",
    "print(s[::3])\n",
    "print(s[::-1])\n",
    "print(s[::-2])"
   ]
  },
  {
   "cell_type": "code",
   "execution_count": 48,
   "id": "2275d554",
   "metadata": {},
   "outputs": [],
   "source": [
    "invoice = \"\"\"\n",
    "0.....6.................................40........52...55........\n",
    "1909 Pimoroni PiBrella                      $17.50    3    $52.50\n",
    "1489 6mm Tactile Switch x20                  $4.95    2    $9.90\n",
    "1510 Panavise Jr. - PV-201                  $28.00    1    $28.00\n",
    "1601 PiTFT Mini Kit 320x240                 $34.95    1    $34.95\n",
    "\"\"\""
   ]
  },
  {
   "cell_type": "code",
   "execution_count": 49,
   "id": "bc5570e7",
   "metadata": {},
   "outputs": [
    {
     "name": "stdout",
     "output_type": "stream",
     "text": [
      "    $17.50   imoroni PiBrella                  \n",
      "     $4.95   mm Tactile Switch x20             \n",
      "    $28.00   anavise Jr. - PV-201              \n",
      "    $34.95   iTFT Mini Kit 320x240             \n",
      " \n"
     ]
    }
   ],
   "source": [
    "SKU = slice(0,6)\n",
    "DESCRIPTION = slice(6,40)\n",
    "UNIT_PRICE = slice(40,52)\n",
    "QUANTITY = slice(52,55)\n",
    "ITEM_TOTAL = slice(55,None)\n",
    "line_items = invoice.split('\\n')[2:]\n",
    "\n",
    "for item in line_items:\n",
    "    print(item[UNIT_PRICE], item[DESCRIPTION])"
   ]
  },
  {
   "cell_type": "markdown",
   "id": "ad413217",
   "metadata": {},
   "source": [
    "## 2.4.4 슬라이스에 할당하기"
   ]
  },
  {
   "cell_type": "code",
   "execution_count": 50,
   "id": "6db27803",
   "metadata": {},
   "outputs": [
    {
     "name": "stdout",
     "output_type": "stream",
     "text": [
      "[0, 1, 2, 3, 4, 5, 6, 7, 8, 9]\n",
      "[0, 1, 20, 30, 5, 6, 7, 8, 9]\n",
      "[0, 1, 20, 30, 5, 8, 9]\n",
      "[0, 1, 20, 11, 5, 22, 9]\n"
     ]
    }
   ],
   "source": [
    "l = list(range(10))\n",
    "print(l)\n",
    "\n",
    "# 4번째 index 는 그냥 사라지네\n",
    "l[2:5] = [20,30]\n",
    "print(l)\n",
    "\n",
    "del l[5:7]\n",
    "print(l)\n",
    "\n",
    "l[3::2] = [11,22]\n",
    "print(l)"
   ]
  },
  {
   "cell_type": "code",
   "execution_count": 51,
   "id": "b90fa19c",
   "metadata": {},
   "outputs": [
    {
     "ename": "TypeError",
     "evalue": "can only assign an iterable",
     "output_type": "error",
     "traceback": [
      "\u001b[1;31m---------------------------------------------------------------------------\u001b[0m",
      "\u001b[1;31mTypeError\u001b[0m                                 Traceback (most recent call last)",
      "Input \u001b[1;32mIn [51]\u001b[0m, in \u001b[0;36m<cell line: 1>\u001b[1;34m()\u001b[0m\n\u001b[1;32m----> 1\u001b[0m l[\u001b[38;5;241m2\u001b[39m:\u001b[38;5;241m5\u001b[39m] \u001b[38;5;241m=\u001b[39m \u001b[38;5;241m100\u001b[39m\n",
      "\u001b[1;31mTypeError\u001b[0m: can only assign an iterable"
     ]
    }
   ],
   "source": [
    "l[2:5] = 100"
   ]
  },
  {
   "cell_type": "code",
   "execution_count": 52,
   "id": "c2786de5",
   "metadata": {},
   "outputs": [
    {
     "name": "stdout",
     "output_type": "stream",
     "text": [
      "[0, 1, 100, 22, 9]\n"
     ]
    }
   ],
   "source": [
    "l[2:5] = [100]\n",
    "print(l)"
   ]
  }
 ],
 "metadata": {
  "kernelspec": {
   "display_name": "Python 3 (ipykernel)",
   "language": "python",
   "name": "python3"
  },
  "language_info": {
   "codemirror_mode": {
    "name": "ipython",
    "version": 3
   },
   "file_extension": ".py",
   "mimetype": "text/x-python",
   "name": "python",
   "nbconvert_exporter": "python",
   "pygments_lexer": "ipython3",
   "version": "3.9.12"
  }
 },
 "nbformat": 4,
 "nbformat_minor": 5
}
